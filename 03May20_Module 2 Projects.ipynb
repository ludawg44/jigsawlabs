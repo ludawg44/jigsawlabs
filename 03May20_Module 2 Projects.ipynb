{
  "nbformat": 4,
  "nbformat_minor": 0,
  "metadata": {
    "kernelspec": {
      "display_name": "Python 3",
      "language": "python",
      "name": "python3"
    },
    "language_info": {
      "codemirror_mode": {
        "name": "ipython",
        "version": 3
      },
      "file_extension": ".py",
      "mimetype": "text/x-python",
      "name": "python",
      "nbconvert_exporter": "python",
      "pygments_lexer": "ipython3",
      "version": "3.7.4"
    },
    "colab": {
      "name": "Copy of 0-overview.ipynb",
      "provenance": [],
      "include_colab_link": true
    }
  },
  "cells": [
    {
      "cell_type": "markdown",
      "metadata": {
        "id": "view-in-github",
        "colab_type": "text"
      },
      "source": [
        "<a href=\"https://colab.research.google.com/github/ludawg44/jigsawlabs/blob/master/03May20_Module%202%20Projects.ipynb\" target=\"_parent\"><img src=\"https://colab.research.google.com/assets/colab-badge.svg\" alt=\"Open In Colab\"/></a>"
      ]
    },
    {
      "cell_type": "markdown",
      "metadata": {
        "id": "LQYjTlthqRlr",
        "colab_type": "text"
      },
      "source": [
        "# Module 2 Projects"
      ]
    },
    {
      "cell_type": "markdown",
      "metadata": {
        "id": "SoLnFJkVqRls",
        "colab_type": "text"
      },
      "source": [
        "### Task"
      ]
    },
    {
      "cell_type": "markdown",
      "metadata": {
        "id": "BMVDpYgdqRlt",
        "colab_type": "text"
      },
      "source": [
        "> For this project, choose one or more datasets that involves feature engineering and feature selection, to feed into a linear regression model.  The last class allocated for projects is **Thursday May 14th**.\n",
        "\n",
        "> We will then pause to learn about random forests, after which, we'll have an additional five days to continue this project.\n",
        "\n",
        "Create separate .ipynb files for the following: \n",
        "\n",
        "    1. Target Value Identification and Exploration\n",
        "    2. Identify Datetimes for Split\n",
        "    3. Numerical Values and DateTime Values\n",
        "    4. Boolean and Categorical Values\n",
        "    5. Coercing Datetimes (add_datepart), and handling na values\n",
        "    6. Train and Score Initial Model \n",
        "    7. Plot/Coerce Target Variable (optional)\n",
        "\n",
        "    \n",
        "* As indicated above, step 7, plotting and coercing the target variable is an optional step.  If you receive low accuracy scores, performing this step will likely help your analysis going forward.\n",
        "\n",
        "* Note that feature selection is not included in the above notebooks.  This will be included after learning about random forests. "
      ]
    },
    {
      "cell_type": "markdown",
      "metadata": {
        "id": "h51-qpGQqRlt",
        "colab_type": "text"
      },
      "source": [
        "As you move through the above steps, please add a couple of sentences to explain your thoughts.  You can do this interspersed through each notebook, or at the end of the notebook.  The goal of this, is to follow your logic as you move through the steps, and to explain judgment calls that you made."
      ]
    },
    {
      "cell_type": "markdown",
      "metadata": {
        "id": "Dcc3s1T1qRlu",
        "colab_type": "text"
      },
      "source": [
        "Please reference the individual notebooks, to see additional details for how to proceed through each section."
      ]
    },
    {
      "cell_type": "markdown",
      "metadata": {
        "id": "ZKAFH9T8qRlv",
        "colab_type": "text"
      },
      "source": [
        "### Requirements"
      ]
    },
    {
      "cell_type": "markdown",
      "metadata": {
        "id": "r-CgXv3cqRlv",
        "colab_type": "text"
      },
      "source": [
        "A. Domain requirements \n",
        "\n",
        "Good projects are those that have motivate decisionmakers to change their behavior afterwards.  At the end, there should be a response to the \"so what?\" question.\n",
        "\n",
        "* Choose a problem that an audience can use.  Who is the audience?  How will this be important to them?  What are some potential ways that they can change their behavior afterwards?\n",
        "\n",
        "Consequences of this are:\n",
        "    * Don't be constrained to a single dataset in answering this question.  If so then, often we will miss key information, biasing our results.\n",
        "    * Aim for data that is *comprehensive*.  If we have data that has lots of missing data, then can it becomes harder to make conclusions from this data."
      ]
    },
    {
      "cell_type": "markdown",
      "metadata": {
        "id": "WgMeDORcqRlv",
        "colab_type": "text"
      },
      "source": [
        "B. Technical Requirements \n",
        "\n",
        "The main technical requirement is that throughout the project you show the feature engineering skills that we developed in class.  This involves two components:\n",
        "\n",
        "1. Using transformers/sklearn_pandas to coerce data\n",
        "2. Adding custom methods to (like price to number)\n",
        "    * These methods should be integrated with a FunctionTransformer when possible"
      ]
    },
    {
      "cell_type": "markdown",
      "metadata": {
        "id": "Y3wB3ZsSqRlw",
        "colab_type": "text"
      },
      "source": [
        "> Choose project that you are confident will allow you to write at least 3 methods of your own, to either coerce data, or identify data to coerce.  "
      ]
    },
    {
      "cell_type": "markdown",
      "metadata": {
        "id": "_W2p6rStqRlw",
        "colab_type": "text"
      },
      "source": [
        "3. Clean code\n",
        "    * As a first step, at the end of each notebook, move code into a `.py` file\n",
        "    * If time permits, add at least three tests for your code"
      ]
    }
  ]
}