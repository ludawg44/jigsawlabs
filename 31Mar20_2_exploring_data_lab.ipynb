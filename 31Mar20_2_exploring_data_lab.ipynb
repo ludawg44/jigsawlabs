{
  "nbformat": 4,
  "nbformat_minor": 0,
  "metadata": {
    "kernelspec": {
      "display_name": "Python 3",
      "language": "python",
      "name": "python3"
    },
    "language_info": {
      "codemirror_mode": {
        "name": "ipython",
        "version": 3
      },
      "file_extension": ".py",
      "mimetype": "text/x-python",
      "name": "python",
      "nbconvert_exporter": "python",
      "pygments_lexer": "ipython3",
      "version": "3.7.4"
    },
    "colab": {
      "name": "Copy of 2-exploring-data-lab.ipynb",
      "provenance": [],
      "include_colab_link": true
    }
  },
  "cells": [
    {
      "cell_type": "markdown",
      "metadata": {
        "id": "view-in-github",
        "colab_type": "text"
      },
      "source": [
        "<a href=\"https://colab.research.google.com/github/ludawg44/jigsawlabs/blob/master/31Mar20_2_exploring_data_lab.ipynb\" target=\"_parent\"><img src=\"https://colab.research.google.com/assets/colab-badge.svg\" alt=\"Open In Colab\"/></a>"
      ]
    },
    {
      "cell_type": "markdown",
      "metadata": {
        "id": "IfELkFG23jK6",
        "colab_type": "text"
      },
      "source": [
        "# Exploring Data with Fema"
      ]
    },
    {
      "cell_type": "markdown",
      "metadata": {
        "id": "fdxbxAGG3jK7",
        "colab_type": "text"
      },
      "source": [
        "### Introduction"
      ]
    },
    {
      "cell_type": "markdown",
      "metadata": {
        "id": "44NWAx6h3jK7",
        "colab_type": "text"
      },
      "source": [
        "In this lesson, we'll look at FEMA claims data gathered for the [Washington Post's article on Houston Flooding](https://www.washingtonpost.com/graphics/2017/investigations/harvey-urban-planning/) which they made available [here](https://github.com/wpinvestigative/fema_claims).  Let's load up the data and see what we have."
      ]
    },
    {
      "cell_type": "markdown",
      "metadata": {
        "id": "DnKIKqk83jK8",
        "colab_type": "text"
      },
      "source": [
        "### Loading the Data"
      ]
    },
    {
      "cell_type": "code",
      "metadata": {
        "id": "tXVI7a543jK8",
        "colab_type": "code",
        "colab": {}
      },
      "source": [
        "import pandas as pd \n",
        "url = \"https://raw.githubusercontent.com/jigsawlabs-student/exploring-pandas/master/formatted_claims_all.txt\"\n",
        "df = pd.read_csv(url, sep='\\t')"
      ],
      "execution_count": 0,
      "outputs": []
    },
    {
      "cell_type": "markdown",
      "metadata": {
        "id": "3yyJ6F5E3jLA",
        "colab_type": "text"
      },
      "source": [
        "Use head to take a look at the first five rows of data."
      ]
    },
    {
      "cell_type": "code",
      "metadata": {
        "id": "ZcGaODSP3jLB",
        "colab_type": "code",
        "outputId": "f4257826-1d1c-4056-a601-e0000ceaaae9",
        "colab": {
          "base_uri": "https://localhost:8080/",
          "height": 198
        }
      },
      "source": [
        "first_five = df.head()\n",
        "first_five\n",
        "\n",
        "# \tstate\tcounty\tcommunity\ttotal_loss\tclosed_loss\topen_loss\tcwop_loss\ttotal_pay\n",
        "# 0\tALABAMA\tAUTAUGA COUNTY\tAUTAUGA COUNTY *\t33.0\t23.0\t2.0\t8.0\t518669.96\n",
        "# 1\tALABAMA\tAUTAUGA COUNTY\tAUTAUGAVILLE, TOWN OF\t1.0\t0.0\t0.0\t1.0\t0.00\n",
        "# 2\tALABAMA\tAUTAUGA COUNTY\tMILLBROOK, CITY OF\t9.0\t6.0\t0.0\t3.0\t74633.64\n",
        "# 3\tALABAMA\tAUTAUGA COUNTY\tMONTGOMERY, CITY OF\t295.0\t195.0\t6.0\t94.0\t4113018.78\n",
        "# 4\tALABAMA\tAUTAUGA COUNTY\tPRATTVILLE, CITY OF\t45.0\t35.0\t3.0\t7.0\t700387.26"
      ],
      "execution_count": 0,
      "outputs": [
        {
          "output_type": "execute_result",
          "data": {
            "text/html": [
              "<div>\n",
              "<style scoped>\n",
              "    .dataframe tbody tr th:only-of-type {\n",
              "        vertical-align: middle;\n",
              "    }\n",
              "\n",
              "    .dataframe tbody tr th {\n",
              "        vertical-align: top;\n",
              "    }\n",
              "\n",
              "    .dataframe thead th {\n",
              "        text-align: right;\n",
              "    }\n",
              "</style>\n",
              "<table border=\"1\" class=\"dataframe\">\n",
              "  <thead>\n",
              "    <tr style=\"text-align: right;\">\n",
              "      <th></th>\n",
              "      <th>state</th>\n",
              "      <th>county</th>\n",
              "      <th>community</th>\n",
              "      <th>total_loss</th>\n",
              "      <th>closed_loss</th>\n",
              "      <th>open_loss</th>\n",
              "      <th>cwop_loss</th>\n",
              "      <th>total_pay</th>\n",
              "    </tr>\n",
              "  </thead>\n",
              "  <tbody>\n",
              "    <tr>\n",
              "      <th>0</th>\n",
              "      <td>ALABAMA</td>\n",
              "      <td>AUTAUGA COUNTY</td>\n",
              "      <td>AUTAUGA COUNTY *</td>\n",
              "      <td>33.0</td>\n",
              "      <td>23.0</td>\n",
              "      <td>2.0</td>\n",
              "      <td>8.0</td>\n",
              "      <td>518669.96</td>\n",
              "    </tr>\n",
              "    <tr>\n",
              "      <th>1</th>\n",
              "      <td>ALABAMA</td>\n",
              "      <td>AUTAUGA COUNTY</td>\n",
              "      <td>AUTAUGAVILLE, TOWN OF</td>\n",
              "      <td>1.0</td>\n",
              "      <td>0.0</td>\n",
              "      <td>0.0</td>\n",
              "      <td>1.0</td>\n",
              "      <td>0.00</td>\n",
              "    </tr>\n",
              "    <tr>\n",
              "      <th>2</th>\n",
              "      <td>ALABAMA</td>\n",
              "      <td>AUTAUGA COUNTY</td>\n",
              "      <td>MILLBROOK, CITY OF</td>\n",
              "      <td>9.0</td>\n",
              "      <td>6.0</td>\n",
              "      <td>0.0</td>\n",
              "      <td>3.0</td>\n",
              "      <td>74633.64</td>\n",
              "    </tr>\n",
              "    <tr>\n",
              "      <th>3</th>\n",
              "      <td>ALABAMA</td>\n",
              "      <td>AUTAUGA COUNTY</td>\n",
              "      <td>MONTGOMERY, CITY OF</td>\n",
              "      <td>295.0</td>\n",
              "      <td>195.0</td>\n",
              "      <td>6.0</td>\n",
              "      <td>94.0</td>\n",
              "      <td>4113018.78</td>\n",
              "    </tr>\n",
              "    <tr>\n",
              "      <th>4</th>\n",
              "      <td>ALABAMA</td>\n",
              "      <td>AUTAUGA COUNTY</td>\n",
              "      <td>PRATTVILLE, CITY OF</td>\n",
              "      <td>45.0</td>\n",
              "      <td>35.0</td>\n",
              "      <td>3.0</td>\n",
              "      <td>7.0</td>\n",
              "      <td>700387.26</td>\n",
              "    </tr>\n",
              "  </tbody>\n",
              "</table>\n",
              "</div>"
            ],
            "text/plain": [
              "     state          county  ... cwop_loss   total_pay\n",
              "0  ALABAMA  AUTAUGA COUNTY  ...       8.0   518669.96\n",
              "1  ALABAMA  AUTAUGA COUNTY  ...       1.0        0.00\n",
              "2  ALABAMA  AUTAUGA COUNTY  ...       3.0    74633.64\n",
              "3  ALABAMA  AUTAUGA COUNTY  ...      94.0  4113018.78\n",
              "4  ALABAMA  AUTAUGA COUNTY  ...       7.0   700387.26\n",
              "\n",
              "[5 rows x 8 columns]"
            ]
          },
          "metadata": {
            "tags": []
          },
          "execution_count": 3
        }
      ]
    },
    {
      "cell_type": "markdown",
      "metadata": {
        "id": "NP4S2xho3jLD",
        "colab_type": "text"
      },
      "source": [
        "Let's try to get a sense of what these loss and pay columns mean.  A quick Google search takes us to [the following data dictionary](https://www.fema.gov/data-definitions-claim-information-state-and-policy-information-state)."
      ]
    },
    {
      "cell_type": "markdown",
      "metadata": {
        "id": "nKoPOUve3jLE",
        "colab_type": "text"
      },
      "source": [
        "<img src=\"https://github.com/jigsawlabs-student/exploring-pandas/blob/master/data-dictionary-fema.png?raw=1\" width=\"50%\">"
      ]
    },
    {
      "cell_type": "markdown",
      "metadata": {
        "id": "u9kHdp-n3jLE",
        "colab_type": "text"
      },
      "source": [
        "### Reducing our Data"
      ]
    },
    {
      "cell_type": "markdown",
      "metadata": {
        "id": "DmzLoZ_B3jLF",
        "colab_type": "text"
      },
      "source": [
        "So it looks like the data in the total loss column is a sum of the other loss columns.  Let's confirm that."
      ]
    },
    {
      "cell_type": "markdown",
      "metadata": {
        "id": "J90OtWzD3jLF",
        "colab_type": "text"
      },
      "source": [
        "Find a dataframe (or a series) selecting all of the rows where the sum of the other columns does not equal the total losses column.  If we see that almost all are equal, we know this is duplicate information."
      ]
    },
    {
      "cell_type": "code",
      "metadata": {
        "id": "mYmNk2w-7tda",
        "colab_type": "code",
        "outputId": "1d8c474e-b77b-429f-ab7a-f5e655404f06",
        "colab": {
          "base_uri": "https://localhost:8080/",
          "height": 198
        }
      },
      "source": [
        "df.head()"
      ],
      "execution_count": 0,
      "outputs": [
        {
          "output_type": "execute_result",
          "data": {
            "text/html": [
              "<div>\n",
              "<style scoped>\n",
              "    .dataframe tbody tr th:only-of-type {\n",
              "        vertical-align: middle;\n",
              "    }\n",
              "\n",
              "    .dataframe tbody tr th {\n",
              "        vertical-align: top;\n",
              "    }\n",
              "\n",
              "    .dataframe thead th {\n",
              "        text-align: right;\n",
              "    }\n",
              "</style>\n",
              "<table border=\"1\" class=\"dataframe\">\n",
              "  <thead>\n",
              "    <tr style=\"text-align: right;\">\n",
              "      <th></th>\n",
              "      <th>state</th>\n",
              "      <th>county</th>\n",
              "      <th>community</th>\n",
              "      <th>total_loss</th>\n",
              "      <th>closed_loss</th>\n",
              "      <th>open_loss</th>\n",
              "      <th>cwop_loss</th>\n",
              "      <th>total_pay</th>\n",
              "    </tr>\n",
              "  </thead>\n",
              "  <tbody>\n",
              "    <tr>\n",
              "      <th>0</th>\n",
              "      <td>ALABAMA</td>\n",
              "      <td>AUTAUGA COUNTY</td>\n",
              "      <td>AUTAUGA COUNTY *</td>\n",
              "      <td>33.0</td>\n",
              "      <td>23.0</td>\n",
              "      <td>2.0</td>\n",
              "      <td>8.0</td>\n",
              "      <td>518669.96</td>\n",
              "    </tr>\n",
              "    <tr>\n",
              "      <th>1</th>\n",
              "      <td>ALABAMA</td>\n",
              "      <td>AUTAUGA COUNTY</td>\n",
              "      <td>AUTAUGAVILLE, TOWN OF</td>\n",
              "      <td>1.0</td>\n",
              "      <td>0.0</td>\n",
              "      <td>0.0</td>\n",
              "      <td>1.0</td>\n",
              "      <td>0.00</td>\n",
              "    </tr>\n",
              "    <tr>\n",
              "      <th>2</th>\n",
              "      <td>ALABAMA</td>\n",
              "      <td>AUTAUGA COUNTY</td>\n",
              "      <td>MILLBROOK, CITY OF</td>\n",
              "      <td>9.0</td>\n",
              "      <td>6.0</td>\n",
              "      <td>0.0</td>\n",
              "      <td>3.0</td>\n",
              "      <td>74633.64</td>\n",
              "    </tr>\n",
              "    <tr>\n",
              "      <th>3</th>\n",
              "      <td>ALABAMA</td>\n",
              "      <td>AUTAUGA COUNTY</td>\n",
              "      <td>MONTGOMERY, CITY OF</td>\n",
              "      <td>295.0</td>\n",
              "      <td>195.0</td>\n",
              "      <td>6.0</td>\n",
              "      <td>94.0</td>\n",
              "      <td>4113018.78</td>\n",
              "    </tr>\n",
              "    <tr>\n",
              "      <th>4</th>\n",
              "      <td>ALABAMA</td>\n",
              "      <td>AUTAUGA COUNTY</td>\n",
              "      <td>PRATTVILLE, CITY OF</td>\n",
              "      <td>45.0</td>\n",
              "      <td>35.0</td>\n",
              "      <td>3.0</td>\n",
              "      <td>7.0</td>\n",
              "      <td>700387.26</td>\n",
              "    </tr>\n",
              "  </tbody>\n",
              "</table>\n",
              "</div>"
            ],
            "text/plain": [
              "     state          county  ... cwop_loss   total_pay\n",
              "0  ALABAMA  AUTAUGA COUNTY  ...       8.0   518669.96\n",
              "1  ALABAMA  AUTAUGA COUNTY  ...       1.0        0.00\n",
              "2  ALABAMA  AUTAUGA COUNTY  ...       3.0    74633.64\n",
              "3  ALABAMA  AUTAUGA COUNTY  ...      94.0  4113018.78\n",
              "4  ALABAMA  AUTAUGA COUNTY  ...       7.0   700387.26\n",
              "\n",
              "[5 rows x 8 columns]"
            ]
          },
          "metadata": {
            "tags": []
          },
          "execution_count": 4
        }
      ]
    },
    {
      "cell_type": "code",
      "metadata": {
        "id": "CnQPjHzz8C3l",
        "colab_type": "code",
        "outputId": "2d88dd31-ce24-436f-d3eb-eaec13f064a6",
        "colab": {
          "base_uri": "https://localhost:8080/",
          "height": 35
        }
      },
      "source": [
        "df.shape"
      ],
      "execution_count": 0,
      "outputs": [
        {
          "output_type": "execute_result",
          "data": {
            "text/plain": [
              "(15533, 8)"
            ]
          },
          "metadata": {
            "tags": []
          },
          "execution_count": 6
        }
      ]
    },
    {
      "cell_type": "code",
      "metadata": {
        "id": "0cOQoQ9P8PG3",
        "colab_type": "code",
        "outputId": "4658b8d6-d077-4e01-bb11-e13bc8bebff7",
        "colab": {
          "base_uri": "https://localhost:8080/",
          "height": 198
        }
      },
      "source": [
        "loss_cols = ['closed_loss', 'open_loss', 'cwop_loss']\n",
        "df_loss = df[loss_cols]\n",
        "df_loss.head()"
      ],
      "execution_count": 0,
      "outputs": [
        {
          "output_type": "execute_result",
          "data": {
            "text/html": [
              "<div>\n",
              "<style scoped>\n",
              "    .dataframe tbody tr th:only-of-type {\n",
              "        vertical-align: middle;\n",
              "    }\n",
              "\n",
              "    .dataframe tbody tr th {\n",
              "        vertical-align: top;\n",
              "    }\n",
              "\n",
              "    .dataframe thead th {\n",
              "        text-align: right;\n",
              "    }\n",
              "</style>\n",
              "<table border=\"1\" class=\"dataframe\">\n",
              "  <thead>\n",
              "    <tr style=\"text-align: right;\">\n",
              "      <th></th>\n",
              "      <th>closed_loss</th>\n",
              "      <th>open_loss</th>\n",
              "      <th>cwop_loss</th>\n",
              "    </tr>\n",
              "  </thead>\n",
              "  <tbody>\n",
              "    <tr>\n",
              "      <th>0</th>\n",
              "      <td>23.0</td>\n",
              "      <td>2.0</td>\n",
              "      <td>8.0</td>\n",
              "    </tr>\n",
              "    <tr>\n",
              "      <th>1</th>\n",
              "      <td>0.0</td>\n",
              "      <td>0.0</td>\n",
              "      <td>1.0</td>\n",
              "    </tr>\n",
              "    <tr>\n",
              "      <th>2</th>\n",
              "      <td>6.0</td>\n",
              "      <td>0.0</td>\n",
              "      <td>3.0</td>\n",
              "    </tr>\n",
              "    <tr>\n",
              "      <th>3</th>\n",
              "      <td>195.0</td>\n",
              "      <td>6.0</td>\n",
              "      <td>94.0</td>\n",
              "    </tr>\n",
              "    <tr>\n",
              "      <th>4</th>\n",
              "      <td>35.0</td>\n",
              "      <td>3.0</td>\n",
              "      <td>7.0</td>\n",
              "    </tr>\n",
              "  </tbody>\n",
              "</table>\n",
              "</div>"
            ],
            "text/plain": [
              "   closed_loss  open_loss  cwop_loss\n",
              "0         23.0        2.0        8.0\n",
              "1          0.0        0.0        1.0\n",
              "2          6.0        0.0        3.0\n",
              "3        195.0        6.0       94.0\n",
              "4         35.0        3.0        7.0"
            ]
          },
          "metadata": {
            "tags": []
          },
          "execution_count": 9
        }
      ]
    },
    {
      "cell_type": "code",
      "metadata": {
        "id": "UaxFde5o3jLG",
        "colab_type": "code",
        "colab": {}
      },
      "source": [
        "loss_cols = ['closed_loss', 'open_loss', 'cwop_loss']\n",
        "df_loss = df[loss_cols]\n",
        "\n",
        "not_eq_total = df_loss.map(lambda 'closed_loss'+)"
      ],
      "execution_count": 0,
      "outputs": []
    },
    {
      "cell_type": "code",
      "metadata": {
        "id": "GsZ6sa-X3jLI",
        "colab_type": "code",
        "outputId": "a329824a-2155-473e-c4af-b47bb0314402",
        "colab": {
          "base_uri": "https://localhost:8080/",
          "height": 183
        }
      },
      "source": [
        "not_eq_total.shape\n",
        "# (56, 3)"
      ],
      "execution_count": 0,
      "outputs": [
        {
          "output_type": "error",
          "ename": "NameError",
          "evalue": "ignored",
          "traceback": [
            "\u001b[0;31m---------------------------------------------------------------------------\u001b[0m",
            "\u001b[0;31mNameError\u001b[0m                                 Traceback (most recent call last)",
            "\u001b[0;32m<ipython-input-5-392749d4e7ce>\u001b[0m in \u001b[0;36m<module>\u001b[0;34m()\u001b[0m\n\u001b[0;32m----> 1\u001b[0;31m \u001b[0mnot_eq_total\u001b[0m\u001b[0;34m.\u001b[0m\u001b[0mshape\u001b[0m\u001b[0;34m\u001b[0m\u001b[0;34m\u001b[0m\u001b[0m\n\u001b[0m\u001b[1;32m      2\u001b[0m \u001b[0;31m# (56, 3)\u001b[0m\u001b[0;34m\u001b[0m\u001b[0;34m\u001b[0m\u001b[0;34m\u001b[0m\u001b[0m\n",
            "\u001b[0;31mNameError\u001b[0m: name 'not_eq_total' is not defined"
          ]
        }
      ]
    },
    {
      "cell_type": "markdown",
      "metadata": {
        "id": "DoVCZrWx3jLL",
        "colab_type": "text"
      },
      "source": [
        "Now let's look at the entire dataset to see what portion of these columns are not equal."
      ]
    },
    {
      "cell_type": "code",
      "metadata": {
        "id": "JXIqtNmf3jLL",
        "colab_type": "code",
        "outputId": "6616bd89-e629-4980-ffe8-bb313db3b0ea",
        "colab": {}
      },
      "source": [
        "df.shape"
      ],
      "execution_count": 0,
      "outputs": [
        {
          "output_type": "execute_result",
          "data": {
            "text/plain": [
              "(15533, 8)"
            ]
          },
          "metadata": {
            "tags": []
          },
          "execution_count": 14
        }
      ]
    },
    {
      "cell_type": "markdown",
      "metadata": {
        "id": "1HXMFaiv3jLO",
        "colab_type": "text"
      },
      "source": [
        "It looks like the total loss column is, as the kids say, [extra](https://www.urbandictionary.com/define.php?term=extra). Let's get rid of it."
      ]
    },
    {
      "cell_type": "code",
      "metadata": {
        "id": "yXVz-WUJ3jLP",
        "colab_type": "code",
        "colab": {}
      },
      "source": [
        "reduced_df = df.drop('total_loss',axis=1)"
      ],
      "execution_count": 0,
      "outputs": []
    },
    {
      "cell_type": "code",
      "metadata": {
        "id": "7Av2WJ0m3jLR",
        "colab_type": "code",
        "outputId": "6c31ebd0-4085-4a4a-ffb3-70ca7497a40a",
        "colab": {
          "base_uri": "https://localhost:8080/",
          "height": 69
        }
      },
      "source": [
        "reduced_df.columns\n",
        "# Index(['state', 'county', 'community', 'closed_loss', 'open_loss', 'cwop_loss',\n",
        "#        'total_pay'],"
      ],
      "execution_count": 0,
      "outputs": [
        {
          "output_type": "execute_result",
          "data": {
            "text/plain": [
              "Index(['state', 'county', 'community', 'closed_loss', 'open_loss', 'cwop_loss',\n",
              "       'total_pay'],\n",
              "      dtype='object')"
            ]
          },
          "metadata": {
            "tags": []
          },
          "execution_count": 11
        }
      ]
    },
    {
      "cell_type": "markdown",
      "metadata": {
        "id": "8zpvc82j3jLS",
        "colab_type": "text"
      },
      "source": [
        "Now let's take a look at the missing data.  Let's get a count of the missing values across the columns."
      ]
    },
    {
      "cell_type": "code",
      "metadata": {
        "id": "z32OXUQR3jLT",
        "colab_type": "code",
        "outputId": "12b83114-856a-4e74-d00a-99c6e0bdd08a",
        "colab": {
          "base_uri": "https://localhost:8080/",
          "height": 155
        }
      },
      "source": [
        "reduced_df.isnull().sum()\n",
        "# write code here to count the missing values across columns\n",
        "\n",
        "# state           0\n",
        "# county          0\n",
        "# community       0\n",
        "# closed_loss    56\n",
        "# open_loss      56\n",
        "# cwop_loss      56\n",
        "# total_pay      56"
      ],
      "execution_count": 0,
      "outputs": [
        {
          "output_type": "execute_result",
          "data": {
            "text/plain": [
              "state           0\n",
              "county          0\n",
              "community       0\n",
              "closed_loss    56\n",
              "open_loss      56\n",
              "cwop_loss      56\n",
              "total_pay      56\n",
              "dtype: int64"
            ]
          },
          "metadata": {
            "tags": []
          },
          "execution_count": 12
        }
      ]
    },
    {
      "cell_type": "markdown",
      "metadata": {
        "id": "AaCtTh903jLW",
        "colab_type": "text"
      },
      "source": [
        "It looks like when one column is missing, the rest are also missing.  Let's confirm this.  Select all of the rows where just `closed_loss` is `na`."
      ]
    },
    {
      "cell_type": "code",
      "metadata": {
        "id": "4AbqXnqv3jLW",
        "colab_type": "code",
        "outputId": "d42f4149-7a01-430b-b888-b650a1f01c62",
        "colab": {
          "base_uri": "https://localhost:8080/",
          "height": 198
        }
      },
      "source": [
        "closed_loss_na = reduced_df[reduced_df['closed_loss'].isnull()]\n",
        "closed_loss_na.head()"
      ],
      "execution_count": 0,
      "outputs": [
        {
          "output_type": "execute_result",
          "data": {
            "text/html": [
              "<div>\n",
              "<style scoped>\n",
              "    .dataframe tbody tr th:only-of-type {\n",
              "        vertical-align: middle;\n",
              "    }\n",
              "\n",
              "    .dataframe tbody tr th {\n",
              "        vertical-align: top;\n",
              "    }\n",
              "\n",
              "    .dataframe thead th {\n",
              "        text-align: right;\n",
              "    }\n",
              "</style>\n",
              "<table border=\"1\" class=\"dataframe\">\n",
              "  <thead>\n",
              "    <tr style=\"text-align: right;\">\n",
              "      <th></th>\n",
              "      <th>state</th>\n",
              "      <th>county</th>\n",
              "      <th>community</th>\n",
              "      <th>closed_loss</th>\n",
              "      <th>open_loss</th>\n",
              "      <th>cwop_loss</th>\n",
              "      <th>total_pay</th>\n",
              "    </tr>\n",
              "  </thead>\n",
              "  <tbody>\n",
              "    <tr>\n",
              "      <th>242</th>\n",
              "      <td>ALASKA</td>\n",
              "      <td>--------------------------------</td>\n",
              "      <td>--------------------------------</td>\n",
              "      <td>NaN</td>\n",
              "      <td>NaN</td>\n",
              "      <td>NaN</td>\n",
              "      <td>NaN</td>\n",
              "    </tr>\n",
              "    <tr>\n",
              "      <th>264</th>\n",
              "      <td>AMERICAN SAMOA</td>\n",
              "      <td>--------------------------------</td>\n",
              "      <td>--------------------------------</td>\n",
              "      <td>NaN</td>\n",
              "      <td>NaN</td>\n",
              "      <td>NaN</td>\n",
              "      <td>NaN</td>\n",
              "    </tr>\n",
              "    <tr>\n",
              "      <th>266</th>\n",
              "      <td>ARIZONA</td>\n",
              "      <td>--------------------------------</td>\n",
              "      <td>--------------------------------</td>\n",
              "      <td>NaN</td>\n",
              "      <td>NaN</td>\n",
              "      <td>NaN</td>\n",
              "      <td>NaN</td>\n",
              "    </tr>\n",
              "    <tr>\n",
              "      <th>355</th>\n",
              "      <td>ARKANSAS</td>\n",
              "      <td>--------------------------------</td>\n",
              "      <td>--------------------------------</td>\n",
              "      <td>NaN</td>\n",
              "      <td>NaN</td>\n",
              "      <td>NaN</td>\n",
              "      <td>NaN</td>\n",
              "    </tr>\n",
              "    <tr>\n",
              "      <th>624</th>\n",
              "      <td>CALIFORNIA</td>\n",
              "      <td>--------------------------------</td>\n",
              "      <td>--------------------------------</td>\n",
              "      <td>NaN</td>\n",
              "      <td>NaN</td>\n",
              "      <td>NaN</td>\n",
              "      <td>NaN</td>\n",
              "    </tr>\n",
              "  </tbody>\n",
              "</table>\n",
              "</div>"
            ],
            "text/plain": [
              "              state                            county  ... cwop_loss  total_pay\n",
              "242          ALASKA  --------------------------------  ...       NaN        NaN\n",
              "264  AMERICAN SAMOA  --------------------------------  ...       NaN        NaN\n",
              "266         ARIZONA  --------------------------------  ...       NaN        NaN\n",
              "355        ARKANSAS  --------------------------------  ...       NaN        NaN\n",
              "624      CALIFORNIA  --------------------------------  ...       NaN        NaN\n",
              "\n",
              "[5 rows x 7 columns]"
            ]
          },
          "metadata": {
            "tags": []
          },
          "execution_count": 18
        }
      ]
    },
    {
      "cell_type": "code",
      "metadata": {
        "id": "6XEjpygy3jLZ",
        "colab_type": "code",
        "outputId": "38a0590a-8512-4c79-80e1-12fc51485564",
        "colab": {
          "base_uri": "https://localhost:8080/",
          "height": 35
        }
      },
      "source": [
        "closed_loss_na.shape\n",
        "# (56, 7)"
      ],
      "execution_count": 0,
      "outputs": [
        {
          "output_type": "execute_result",
          "data": {
            "text/plain": [
              "(56, 7)"
            ]
          },
          "metadata": {
            "tags": []
          },
          "execution_count": 19
        }
      ]
    },
    {
      "cell_type": "markdown",
      "metadata": {
        "id": "sgIqB9TX3jLb",
        "colab_type": "text"
      },
      "source": [
        "Let's take a look."
      ]
    },
    {
      "cell_type": "code",
      "metadata": {
        "id": "GCs3Yydf3jLb",
        "colab_type": "code",
        "outputId": "4ff5ae20-a547-4086-c6df-b0307663d860",
        "colab": {
          "base_uri": "https://localhost:8080/",
          "height": 138
        }
      },
      "source": [
        "closed_loss_na[:3]\n",
        "\n",
        "# \tstate\tcounty\tcommunity\tclosed_loss\topen_loss\tcwop_loss\ttotal_pay\n",
        "# 242\tALASKA\t--------------------------------\t--------------------------------\tNaN\tNaN\tNaN\tNaN\n",
        "# 264\tAMERICAN SAMOA\t--------------------------------\t--------------------------------\tNaN\tNaN\tNaN\tNaN\n",
        "# 266\tARIZONA\t--------------------------------\t--------------------------------\tNaN\tNaN\tNaN\tNaN"
      ],
      "execution_count": 0,
      "outputs": [
        {
          "output_type": "execute_result",
          "data": {
            "text/html": [
              "<div>\n",
              "<style scoped>\n",
              "    .dataframe tbody tr th:only-of-type {\n",
              "        vertical-align: middle;\n",
              "    }\n",
              "\n",
              "    .dataframe tbody tr th {\n",
              "        vertical-align: top;\n",
              "    }\n",
              "\n",
              "    .dataframe thead th {\n",
              "        text-align: right;\n",
              "    }\n",
              "</style>\n",
              "<table border=\"1\" class=\"dataframe\">\n",
              "  <thead>\n",
              "    <tr style=\"text-align: right;\">\n",
              "      <th></th>\n",
              "      <th>state</th>\n",
              "      <th>county</th>\n",
              "      <th>community</th>\n",
              "      <th>closed_loss</th>\n",
              "      <th>open_loss</th>\n",
              "      <th>cwop_loss</th>\n",
              "      <th>total_pay</th>\n",
              "    </tr>\n",
              "  </thead>\n",
              "  <tbody>\n",
              "    <tr>\n",
              "      <th>242</th>\n",
              "      <td>ALASKA</td>\n",
              "      <td>--------------------------------</td>\n",
              "      <td>--------------------------------</td>\n",
              "      <td>NaN</td>\n",
              "      <td>NaN</td>\n",
              "      <td>NaN</td>\n",
              "      <td>NaN</td>\n",
              "    </tr>\n",
              "    <tr>\n",
              "      <th>264</th>\n",
              "      <td>AMERICAN SAMOA</td>\n",
              "      <td>--------------------------------</td>\n",
              "      <td>--------------------------------</td>\n",
              "      <td>NaN</td>\n",
              "      <td>NaN</td>\n",
              "      <td>NaN</td>\n",
              "      <td>NaN</td>\n",
              "    </tr>\n",
              "    <tr>\n",
              "      <th>266</th>\n",
              "      <td>ARIZONA</td>\n",
              "      <td>--------------------------------</td>\n",
              "      <td>--------------------------------</td>\n",
              "      <td>NaN</td>\n",
              "      <td>NaN</td>\n",
              "      <td>NaN</td>\n",
              "      <td>NaN</td>\n",
              "    </tr>\n",
              "  </tbody>\n",
              "</table>\n",
              "</div>"
            ],
            "text/plain": [
              "              state                            county  ... cwop_loss  total_pay\n",
              "242          ALASKA  --------------------------------  ...       NaN        NaN\n",
              "264  AMERICAN SAMOA  --------------------------------  ...       NaN        NaN\n",
              "266         ARIZONA  --------------------------------  ...       NaN        NaN\n",
              "\n",
              "[3 rows x 7 columns]"
            ]
          },
          "metadata": {
            "tags": []
          },
          "execution_count": 20
        }
      ]
    },
    {
      "cell_type": "markdown",
      "metadata": {
        "id": "aQrzPR8L3jLd",
        "colab_type": "text"
      },
      "source": [
        "Ok, if we look across all of the rows, we can see that each row is completely blank.  It appears that this may be simply a list of the states and territories."
      ]
    },
    {
      "cell_type": "code",
      "metadata": {
        "id": "ya0qjmRb3jLd",
        "colab_type": "code",
        "outputId": "cfeb90dc-e1e3-46f5-c904-e9b7af3ed297",
        "colab": {
          "base_uri": "https://localhost:8080/",
          "height": 121
        }
      },
      "source": [
        "closed_loss_na.state[:5]\n",
        "# 242            ALASKA\n",
        "# 264    AMERICAN SAMOA\n",
        "# 266           ARIZONA\n",
        "# 355          ARKANSAS\n",
        "# 624        CALIFORNIA\n",
        "# Name: state, dtype: object"
      ],
      "execution_count": 0,
      "outputs": [
        {
          "output_type": "execute_result",
          "data": {
            "text/plain": [
              "242            ALASKA\n",
              "264    AMERICAN SAMOA\n",
              "266           ARIZONA\n",
              "355          ARKANSAS\n",
              "624        CALIFORNIA\n",
              "Name: state, dtype: object"
            ]
          },
          "metadata": {
            "tags": []
          },
          "execution_count": 21
        }
      ]
    },
    {
      "cell_type": "markdown",
      "metadata": {
        "id": "kzVYyaxx3jLg",
        "colab_type": "text"
      },
      "source": [
        "Ok, it seems safe to drop each of these rows.  Remove the rows that have missing data and assign the result to the variable `reduced_no_missing`."
      ]
    },
    {
      "cell_type": "code",
      "metadata": {
        "id": "o0ypnJ3p3jLg",
        "colab_type": "code",
        "colab": {}
      },
      "source": [
        "reduced_no_missing = reduced_df.dropna()"
      ],
      "execution_count": 0,
      "outputs": []
    },
    {
      "cell_type": "code",
      "metadata": {
        "id": "2FSwvwAy3jLi",
        "colab_type": "code",
        "outputId": "1622b217-7f4f-45ae-8f26-2f430c6d48ab",
        "colab": {
          "base_uri": "https://localhost:8080/",
          "height": 35
        }
      },
      "source": [
        "reduced_no_missing.shape\n",
        "\n",
        "# (15477, 7)"
      ],
      "execution_count": 0,
      "outputs": [
        {
          "output_type": "execute_result",
          "data": {
            "text/plain": [
              "(15477, 7)"
            ]
          },
          "metadata": {
            "tags": []
          },
          "execution_count": 28
        }
      ]
    },
    {
      "cell_type": "markdown",
      "metadata": {
        "id": "8MyWi59n3jLj",
        "colab_type": "text"
      },
      "source": [
        "### Exploring Data"
      ]
    },
    {
      "cell_type": "markdown",
      "metadata": {
        "id": "abPnbeZZ3jLk",
        "colab_type": "text"
      },
      "source": [
        "Now that we've cleaned up some of our data, let's do a check to see that our data is of the correct type, before we attempt to perform any analysis."
      ]
    },
    {
      "cell_type": "code",
      "metadata": {
        "id": "bfDf31EL3jLk",
        "colab_type": "code",
        "outputId": "ef2de640-fb6c-4b07-bdfe-c24c50ca8242",
        "colab": {
          "base_uri": "https://localhost:8080/",
          "height": 259
        }
      },
      "source": [
        "reduced_df.info()\n",
        "# check the datatypes of the reduced_no_missing dataframe.\n",
        "\n",
        "# state           object\n",
        "# county          object\n",
        "# community       object\n",
        "# closed_loss    float64\n",
        "# open_loss      float64\n",
        "# cwop_loss      float64\n",
        "# total_pay      float64\n",
        "# dtype: object\n"
      ],
      "execution_count": 0,
      "outputs": [
        {
          "output_type": "stream",
          "text": [
            "<class 'pandas.core.frame.DataFrame'>\n",
            "RangeIndex: 15533 entries, 0 to 15532\n",
            "Data columns (total 7 columns):\n",
            " #   Column       Non-Null Count  Dtype  \n",
            "---  ------       --------------  -----  \n",
            " 0   state        15533 non-null  object \n",
            " 1   county       15533 non-null  object \n",
            " 2   community    15533 non-null  object \n",
            " 3   closed_loss  15477 non-null  float64\n",
            " 4   open_loss    15477 non-null  float64\n",
            " 5   cwop_loss    15477 non-null  float64\n",
            " 6   total_pay    15477 non-null  float64\n",
            "dtypes: float64(4), object(3)\n",
            "memory usage: 849.6+ KB\n"
          ],
          "name": "stdout"
        }
      ]
    },
    {
      "cell_type": "markdown",
      "metadata": {
        "id": "0izm_WYK3jLn",
        "colab_type": "text"
      },
      "source": [
        "Ok, looks good."
      ]
    },
    {
      "cell_type": "markdown",
      "metadata": {
        "id": "7TpI_Q-o3jLn",
        "colab_type": "text"
      },
      "source": [
        "Now let's get a sense of some of our data.  We have data from all fifty states, but let's just focus on Texas for now."
      ]
    },
    {
      "cell_type": "code",
      "metadata": {
        "id": "qO7eoBVV3jLo",
        "colab_type": "code",
        "outputId": "b2c66172-350a-4deb-e754-433229790ce9",
        "colab": {
          "base_uri": "https://localhost:8080/",
          "height": 407
        }
      },
      "source": [
        "texas_df = reduced_no_missing[reduced_no_missing['state']=='TEXAS']\n",
        "texas_df"
      ],
      "execution_count": 0,
      "outputs": [
        {
          "output_type": "execute_result",
          "data": {
            "text/html": [
              "<div>\n",
              "<style scoped>\n",
              "    .dataframe tbody tr th:only-of-type {\n",
              "        vertical-align: middle;\n",
              "    }\n",
              "\n",
              "    .dataframe tbody tr th {\n",
              "        vertical-align: top;\n",
              "    }\n",
              "\n",
              "    .dataframe thead th {\n",
              "        text-align: right;\n",
              "    }\n",
              "</style>\n",
              "<table border=\"1\" class=\"dataframe\">\n",
              "  <thead>\n",
              "    <tr style=\"text-align: right;\">\n",
              "      <th></th>\n",
              "      <th>state</th>\n",
              "      <th>county</th>\n",
              "      <th>community</th>\n",
              "      <th>closed_loss</th>\n",
              "      <th>open_loss</th>\n",
              "      <th>cwop_loss</th>\n",
              "      <th>total_pay</th>\n",
              "    </tr>\n",
              "  </thead>\n",
              "  <tbody>\n",
              "    <tr>\n",
              "      <th>13220</th>\n",
              "      <td>TEXAS</td>\n",
              "      <td>ANDERSON COUNTY</td>\n",
              "      <td>ANDERSON COUNTY*</td>\n",
              "      <td>7.0</td>\n",
              "      <td>0.0</td>\n",
              "      <td>0.0</td>\n",
              "      <td>117796.83</td>\n",
              "    </tr>\n",
              "    <tr>\n",
              "      <th>13221</th>\n",
              "      <td>TEXAS</td>\n",
              "      <td>ANDERSON COUNTY</td>\n",
              "      <td>PALESTINE, CITY OF</td>\n",
              "      <td>3.0</td>\n",
              "      <td>0.0</td>\n",
              "      <td>3.0</td>\n",
              "      <td>59415.17</td>\n",
              "    </tr>\n",
              "    <tr>\n",
              "      <th>13222</th>\n",
              "      <td>TEXAS</td>\n",
              "      <td>ANGELINA COUNTY</td>\n",
              "      <td>ANGELINA COUNTY *</td>\n",
              "      <td>18.0</td>\n",
              "      <td>0.0</td>\n",
              "      <td>2.0</td>\n",
              "      <td>464133.26</td>\n",
              "    </tr>\n",
              "    <tr>\n",
              "      <th>13223</th>\n",
              "      <td>TEXAS</td>\n",
              "      <td>ANGELINA COUNTY</td>\n",
              "      <td>DIBOLL, CITY OF</td>\n",
              "      <td>5.0</td>\n",
              "      <td>0.0</td>\n",
              "      <td>2.0</td>\n",
              "      <td>45053.93</td>\n",
              "    </tr>\n",
              "    <tr>\n",
              "      <th>13224</th>\n",
              "      <td>TEXAS</td>\n",
              "      <td>ANGELINA COUNTY</td>\n",
              "      <td>HUNTINGTON, CITY OF</td>\n",
              "      <td>0.0</td>\n",
              "      <td>0.0</td>\n",
              "      <td>1.0</td>\n",
              "      <td>0.00</td>\n",
              "    </tr>\n",
              "    <tr>\n",
              "      <th>...</th>\n",
              "      <td>...</td>\n",
              "      <td>...</td>\n",
              "      <td>...</td>\n",
              "      <td>...</td>\n",
              "      <td>...</td>\n",
              "      <td>...</td>\n",
              "      <td>...</td>\n",
              "    </tr>\n",
              "    <tr>\n",
              "      <th>14111</th>\n",
              "      <td>TEXAS</td>\n",
              "      <td>YOUNG COUNTY</td>\n",
              "      <td>OLNEY, CITY OF</td>\n",
              "      <td>6.0</td>\n",
              "      <td>0.0</td>\n",
              "      <td>3.0</td>\n",
              "      <td>62690.04</td>\n",
              "    </tr>\n",
              "    <tr>\n",
              "      <th>14112</th>\n",
              "      <td>TEXAS</td>\n",
              "      <td>YOUNG COUNTY</td>\n",
              "      <td>YOUNG COUNTY *</td>\n",
              "      <td>31.0</td>\n",
              "      <td>0.0</td>\n",
              "      <td>1.0</td>\n",
              "      <td>301090.07</td>\n",
              "    </tr>\n",
              "    <tr>\n",
              "      <th>14113</th>\n",
              "      <td>TEXAS</td>\n",
              "      <td>ZAPATA COUNTY</td>\n",
              "      <td>ZAPATA COUNTY *</td>\n",
              "      <td>1.0</td>\n",
              "      <td>0.0</td>\n",
              "      <td>0.0</td>\n",
              "      <td>35000.00</td>\n",
              "    </tr>\n",
              "    <tr>\n",
              "      <th>14114</th>\n",
              "      <td>TEXAS</td>\n",
              "      <td>ZAVALA COUNTY</td>\n",
              "      <td>CRYSTAL CITY, CITY OF</td>\n",
              "      <td>27.0</td>\n",
              "      <td>0.0</td>\n",
              "      <td>11.0</td>\n",
              "      <td>180167.82</td>\n",
              "    </tr>\n",
              "    <tr>\n",
              "      <th>14115</th>\n",
              "      <td>TEXAS</td>\n",
              "      <td>ZAVALA COUNTY</td>\n",
              "      <td>ZAVALA COUNTY*</td>\n",
              "      <td>8.0</td>\n",
              "      <td>0.0</td>\n",
              "      <td>3.0</td>\n",
              "      <td>124178.24</td>\n",
              "    </tr>\n",
              "  </tbody>\n",
              "</table>\n",
              "<p>896 rows × 7 columns</p>\n",
              "</div>"
            ],
            "text/plain": [
              "       state           county  ... cwop_loss  total_pay\n",
              "13220  TEXAS  ANDERSON COUNTY  ...       0.0  117796.83\n",
              "13221  TEXAS  ANDERSON COUNTY  ...       3.0   59415.17\n",
              "13222  TEXAS  ANGELINA COUNTY  ...       2.0  464133.26\n",
              "13223  TEXAS  ANGELINA COUNTY  ...       2.0   45053.93\n",
              "13224  TEXAS  ANGELINA COUNTY  ...       1.0       0.00\n",
              "...      ...              ...  ...       ...        ...\n",
              "14111  TEXAS     YOUNG COUNTY  ...       3.0   62690.04\n",
              "14112  TEXAS     YOUNG COUNTY  ...       1.0  301090.07\n",
              "14113  TEXAS    ZAPATA COUNTY  ...       0.0   35000.00\n",
              "14114  TEXAS    ZAVALA COUNTY  ...      11.0  180167.82\n",
              "14115  TEXAS    ZAVALA COUNTY  ...       3.0  124178.24\n",
              "\n",
              "[896 rows x 7 columns]"
            ]
          },
          "metadata": {
            "tags": []
          },
          "execution_count": 39
        }
      ]
    },
    {
      "cell_type": "code",
      "metadata": {
        "id": "23NeBSBj3jLq",
        "colab_type": "code",
        "outputId": "7e4a630b-9b1b-46d8-fb87-44e60aa78cac",
        "colab": {
          "base_uri": "https://localhost:8080/",
          "height": 35
        }
      },
      "source": [
        "texas_df.shape"
      ],
      "execution_count": 0,
      "outputs": [
        {
          "output_type": "execute_result",
          "data": {
            "text/plain": [
              "(896, 7)"
            ]
          },
          "metadata": {
            "tags": []
          },
          "execution_count": 40
        }
      ]
    },
    {
      "cell_type": "markdown",
      "metadata": {
        "id": "d5nPzmJR3jLs",
        "colab_type": "text"
      },
      "source": [
        "This seems a little more manageable."
      ]
    },
    {
      "cell_type": "markdown",
      "metadata": {
        "id": "6brAM_WH3jLs",
        "colab_type": "text"
      },
      "source": [
        "Ok, let's try creating a histogram of all of our numeric columns."
      ]
    },
    {
      "cell_type": "code",
      "metadata": {
        "id": "Epc-hTCr3jLs",
        "colab_type": "code",
        "outputId": "5b6ef448-e99c-4296-de52-c361908a884f",
        "colab": {
          "base_uri": "https://localhost:8080/",
          "height": 294
        }
      },
      "source": [
        "ax = texas_df.hist()"
      ],
      "execution_count": 0,
      "outputs": [
        {
          "output_type": "display_data",
          "data": {
            "image/png": "[encoded data removed]",
            "text/plain": [
              "<Figure size 432x288 with 4 Axes>"
            ]
          },
          "metadata": {
            "tags": []
          }
        }
      ]
    },
    {
      "cell_type": "markdown",
      "metadata": {
        "id": "0jPxYDpk3jLw",
        "colab_type": "text"
      },
      "source": [
        "> Answer <img src=\"https://github.com/jigsawlabs-student/exploring-pandas/blob/master/hist-tx-fema.png?raw=1\" width=\"50%\">"
      ]
    },
    {
      "cell_type": "markdown",
      "metadata": {
        "id": "FrNzNa0J3jLw",
        "colab_type": "text"
      },
      "source": [
        "Hmm, not very useful.  It looks like outliers are expanding the range of our data.  Let's choose just the `closed_loss` column, which remember represents a count of the losses that have been paid.  Set an range on the x values at 10000, with 500 bins.  Label. the x axis `no. claims` and the y axis `count`, and assign a title of `TX closed claims by county`."
      ]
    },
    {
      "cell_type": "code",
      "metadata": {
        "id": "Rw9qhpeS3jLx",
        "colab_type": "code",
        "outputId": "696884a6-0a82-417a-e42b-8f88416983bc",
        "colab": {
          "base_uri": "https://localhost:8080/",
          "height": 295
        }
      },
      "source": [
        "import matplotlib.pyplot as plt\n",
        "ax = texas_df['closed_loss'].plot(kind='hist', xlim=[0,10000], bins=500, title='TX closed claims by county')\n",
        "ax.set(ylabel='count', xlabel='no. claims')\n",
        "plt.show()"
      ],
      "execution_count": 0,
      "outputs": [
        {
          "output_type": "display_data",
          "data": {
            "image/png": "[encoded data removed]",
            "text/plain": [
              "<Figure size 432x288 with 1 Axes>"
            ]
          },
          "metadata": {
            "tags": []
          }
        }
      ]
    },
    {
      "cell_type": "markdown",
      "metadata": {
        "id": "BdGoYOrn3jLy",
        "colab_type": "text"
      },
      "source": [
        "> Answer: <img src=\"https://github.com/jigsawlabs-student/exploring-pandas/blob/master/tx-closed-claims-style.png?raw=1\" width=\"50%\">"
      ]
    },
    {
      "cell_type": "markdown",
      "metadata": {
        "id": "oxAr1YFz3jLz",
        "colab_type": "text"
      },
      "source": [
        "Ok, perhaps a little better, but not great.  Let's use `describe` to see if it can help us set a range for our data of closed losses."
      ]
    },
    {
      "cell_type": "code",
      "metadata": {
        "id": "_PDci7U43jL0",
        "colab_type": "code",
        "outputId": "2ab50f86-a4ab-4011-f4e4-98ac527ce97f",
        "colab": {
          "base_uri": "https://localhost:8080/",
          "height": 173
        }
      },
      "source": [
        "texas_df['closed_loss'].describe()\n",
        "# count      896.000000\n",
        "# mean       241.588170\n",
        "# std       1922.330777\n",
        "# min          0.000000\n",
        "# 25%          2.000000\n",
        "# 50%         10.500000\n",
        "# 75%         59.250000\n",
        "# max      45059.000000"
      ],
      "execution_count": 0,
      "outputs": [
        {
          "output_type": "execute_result",
          "data": {
            "text/plain": [
              "count      896.000000\n",
              "mean       241.588170\n",
              "std       1922.330777\n",
              "min          0.000000\n",
              "25%          2.000000\n",
              "50%         10.500000\n",
              "75%         59.250000\n",
              "max      45059.000000\n",
              "Name: closed_loss, dtype: float64"
            ]
          },
          "metadata": {
            "tags": []
          },
          "execution_count": 59
        }
      ]
    },
    {
      "cell_type": "markdown",
      "metadata": {
        "id": "zBEPjK5U3jL2",
        "colab_type": "text"
      },
      "source": [
        "Ok, so it looks like most of our data is between 2 and 59 claims, and there's a max of 45000 claims."
      ]
    },
    {
      "cell_type": "markdown",
      "metadata": {
        "id": "tjUGEWIs3jL2",
        "colab_type": "text"
      },
      "source": [
        "Let's get an even more detailed sense of how our `closed_loss` data breaks down by looking at value_counts, and selecting just the top five values."
      ]
    },
    {
      "cell_type": "code",
      "metadata": {
        "id": "oL9i4HaC3jL3",
        "colab_type": "code",
        "outputId": "1047d118-beb7-4e59-8611-df7f02672e4f",
        "colab": {
          "base_uri": "https://localhost:8080/",
          "height": 138
        }
      },
      "source": [
        "texas_df['closed_loss'].value_counts()[:5]\n",
        "\n",
        "# 1.0    101\n",
        "# 2.0     89\n",
        "# 4.0     53\n",
        "# 3.0     45\n",
        "# 0.0     40\n",
        "# 5.0     31\n",
        "# Name: closed_loss, dtype: int64"
      ],
      "execution_count": 0,
      "outputs": [
        {
          "output_type": "execute_result",
          "data": {
            "text/plain": [
              "1.0    101\n",
              "2.0     89\n",
              "4.0     53\n",
              "3.0     45\n",
              "0.0     40\n",
              "5.0     31\n",
              "Name: closed_loss, dtype: int64"
            ]
          },
          "metadata": {
            "tags": []
          },
          "execution_count": 69
        }
      ]
    },
    {
      "cell_type": "markdown",
      "metadata": {
        "id": "vhyf0X5I3jL4",
        "colab_type": "text"
      },
      "source": [
        "And we can use the `normalize` argument to get a sense of what percentage of the data we are talking about.\n",
        "\n",
        "> Select the first six rows and assign to `percent_of_values`."
      ]
    },
    {
      "cell_type": "code",
      "metadata": {
        "id": "jMU9onPP3jL5",
        "colab_type": "code",
        "colab": {}
      },
      "source": [
        "percent_of_values = texas_df['closed_loss'].value_counts(normalize= True)[:5]\n"
      ],
      "execution_count": 0,
      "outputs": []
    },
    {
      "cell_type": "code",
      "metadata": {
        "id": "VZE6YmfX3jL6",
        "colab_type": "code",
        "outputId": "892e14f0-7263-44e0-f770-2e0788f458ef",
        "colab": {
          "base_uri": "https://localhost:8080/",
          "height": 138
        }
      },
      "source": [
        "percent_of_values\n",
        "\n",
        "# 1.0    0.112723\n",
        "# 2.0    0.099330\n",
        "# 4.0    0.059152\n",
        "# 3.0    0.050223\n",
        "# 0.0    0.044643\n",
        "# 5.0    0.034598"
      ],
      "execution_count": 0,
      "outputs": [
        {
          "output_type": "execute_result",
          "data": {
            "text/plain": [
              "1.0    0.112723\n",
              "2.0    0.099330\n",
              "4.0    0.059152\n",
              "3.0    0.050223\n",
              "0.0    0.044643\n",
              "5.0    0.034598\n",
              "Name: closed_loss, dtype: float64"
            ]
          },
          "metadata": {
            "tags": []
          },
          "execution_count": 72
        }
      ]
    },
    {
      "cell_type": "code",
      "metadata": {
        "id": "MbyiLvWT3jL8",
        "colab_type": "code",
        "outputId": "b4245507-7728-4a10-cf6e-504249918336",
        "colab": {
          "base_uri": "https://localhost:8080/",
          "height": 35
        }
      },
      "source": [
        "percent_of_values.sum()"
      ],
      "execution_count": 0,
      "outputs": [
        {
          "output_type": "execute_result",
          "data": {
            "text/plain": [
              "0.4006696428571429"
            ]
          },
          "metadata": {
            "tags": []
          },
          "execution_count": 74
        }
      ]
    },
    {
      "cell_type": "markdown",
      "metadata": {
        "id": "dObrWm523jL_",
        "colab_type": "text"
      },
      "source": [
        "So we can see that 40 percent of the counties had between 0 and 5 claims.\n",
        "\n",
        "> Now depending on our research, this data in itself may be interesting.  For example, this is still closed FEMA flooding claims, so perhaps this percent goes up or down over time.\n",
        "\n",
        "For now, let's focus on the data with claims above 2, the interquartile range."
      ]
    },
    {
      "cell_type": "markdown",
      "metadata": {
        "id": "kO9iBzE03jL_",
        "colab_type": "text"
      },
      "source": [
        "Let's start by just plotting what's roughly the data roughly in the interquartile range (the range between the 25th and 75th percentile).  Here that would technically be data between 2 and 59, but let's choose data between 2 and 60."
      ]
    },
    {
      "cell_type": "markdown",
      "metadata": {
        "id": "X3LizmE33jL_",
        "colab_type": "text"
      },
      "source": [
        "> To do so, first select just the rows where the number of claims is between 6 and 50, and assign the resulting dataframe to `texas_iqr`."
      ]
    },
    {
      "cell_type": "code",
      "metadata": {
        "id": "b-OIiOy0HcGa",
        "colab_type": "code",
        "outputId": "e652cd2e-fbe8-4621-b9e3-d8281dd3fb8e",
        "colab": {
          "base_uri": "https://localhost:8080/",
          "height": 378
        }
      },
      "source": [
        "texas_df.describe(include='all')"
      ],
      "execution_count": 0,
      "outputs": [
        {
          "output_type": "execute_result",
          "data": {
            "text/html": [
              "<div>\n",
              "<style scoped>\n",
              "    .dataframe tbody tr th:only-of-type {\n",
              "        vertical-align: middle;\n",
              "    }\n",
              "\n",
              "    .dataframe tbody tr th {\n",
              "        vertical-align: top;\n",
              "    }\n",
              "\n",
              "    .dataframe thead th {\n",
              "        text-align: right;\n",
              "    }\n",
              "</style>\n",
              "<table border=\"1\" class=\"dataframe\">\n",
              "  <thead>\n",
              "    <tr style=\"text-align: right;\">\n",
              "      <th></th>\n",
              "      <th>state</th>\n",
              "      <th>county</th>\n",
              "      <th>community</th>\n",
              "      <th>closed_loss</th>\n",
              "      <th>open_loss</th>\n",
              "      <th>cwop_loss</th>\n",
              "      <th>total_pay</th>\n",
              "    </tr>\n",
              "  </thead>\n",
              "  <tbody>\n",
              "    <tr>\n",
              "      <th>count</th>\n",
              "      <td>896</td>\n",
              "      <td>896</td>\n",
              "      <td>896</td>\n",
              "      <td>896.000000</td>\n",
              "      <td>896.000000</td>\n",
              "      <td>896.000000</td>\n",
              "      <td>8.960000e+02</td>\n",
              "    </tr>\n",
              "    <tr>\n",
              "      <th>unique</th>\n",
              "      <td>1</td>\n",
              "      <td>210</td>\n",
              "      <td>895</td>\n",
              "      <td>NaN</td>\n",
              "      <td>NaN</td>\n",
              "      <td>NaN</td>\n",
              "      <td>NaN</td>\n",
              "    </tr>\n",
              "    <tr>\n",
              "      <th>top</th>\n",
              "      <td>TEXAS</td>\n",
              "      <td>HARRIS COUNTY</td>\n",
              "      <td>UNCERTAIN, CITY OF</td>\n",
              "      <td>NaN</td>\n",
              "      <td>NaN</td>\n",
              "      <td>NaN</td>\n",
              "      <td>NaN</td>\n",
              "    </tr>\n",
              "    <tr>\n",
              "      <th>freq</th>\n",
              "      <td>896</td>\n",
              "      <td>37</td>\n",
              "      <td>2</td>\n",
              "      <td>NaN</td>\n",
              "      <td>NaN</td>\n",
              "      <td>NaN</td>\n",
              "      <td>NaN</td>\n",
              "    </tr>\n",
              "    <tr>\n",
              "      <th>mean</th>\n",
              "      <td>NaN</td>\n",
              "      <td>NaN</td>\n",
              "      <td>NaN</td>\n",
              "      <td>241.588170</td>\n",
              "      <td>0.283482</td>\n",
              "      <td>58.645089</td>\n",
              "      <td>7.697927e+06</td>\n",
              "    </tr>\n",
              "    <tr>\n",
              "      <th>std</th>\n",
              "      <td>NaN</td>\n",
              "      <td>NaN</td>\n",
              "      <td>NaN</td>\n",
              "      <td>1922.330777</td>\n",
              "      <td>2.262148</td>\n",
              "      <td>413.078773</td>\n",
              "      <td>6.933265e+07</td>\n",
              "    </tr>\n",
              "    <tr>\n",
              "      <th>min</th>\n",
              "      <td>NaN</td>\n",
              "      <td>NaN</td>\n",
              "      <td>NaN</td>\n",
              "      <td>0.000000</td>\n",
              "      <td>0.000000</td>\n",
              "      <td>0.000000</td>\n",
              "      <td>0.000000e+00</td>\n",
              "    </tr>\n",
              "    <tr>\n",
              "      <th>25%</th>\n",
              "      <td>NaN</td>\n",
              "      <td>NaN</td>\n",
              "      <td>NaN</td>\n",
              "      <td>2.000000</td>\n",
              "      <td>0.000000</td>\n",
              "      <td>1.000000</td>\n",
              "      <td>3.195163e+04</td>\n",
              "    </tr>\n",
              "    <tr>\n",
              "      <th>50%</th>\n",
              "      <td>NaN</td>\n",
              "      <td>NaN</td>\n",
              "      <td>NaN</td>\n",
              "      <td>10.500000</td>\n",
              "      <td>0.000000</td>\n",
              "      <td>3.000000</td>\n",
              "      <td>1.851045e+05</td>\n",
              "    </tr>\n",
              "    <tr>\n",
              "      <th>75%</th>\n",
              "      <td>NaN</td>\n",
              "      <td>NaN</td>\n",
              "      <td>NaN</td>\n",
              "      <td>59.250000</td>\n",
              "      <td>0.000000</td>\n",
              "      <td>16.000000</td>\n",
              "      <td>1.140188e+06</td>\n",
              "    </tr>\n",
              "    <tr>\n",
              "      <th>max</th>\n",
              "      <td>NaN</td>\n",
              "      <td>NaN</td>\n",
              "      <td>NaN</td>\n",
              "      <td>45059.000000</td>\n",
              "      <td>60.000000</td>\n",
              "      <td>9945.000000</td>\n",
              "      <td>1.594389e+09</td>\n",
              "    </tr>\n",
              "  </tbody>\n",
              "</table>\n",
              "</div>"
            ],
            "text/plain": [
              "        state         county  ...    cwop_loss     total_pay\n",
              "count     896            896  ...   896.000000  8.960000e+02\n",
              "unique      1            210  ...          NaN           NaN\n",
              "top     TEXAS  HARRIS COUNTY  ...          NaN           NaN\n",
              "freq      896             37  ...          NaN           NaN\n",
              "mean      NaN            NaN  ...    58.645089  7.697927e+06\n",
              "std       NaN            NaN  ...   413.078773  6.933265e+07\n",
              "min       NaN            NaN  ...     0.000000  0.000000e+00\n",
              "25%       NaN            NaN  ...     1.000000  3.195163e+04\n",
              "50%       NaN            NaN  ...     3.000000  1.851045e+05\n",
              "75%       NaN            NaN  ...    16.000000  1.140188e+06\n",
              "max       NaN            NaN  ...  9945.000000  1.594389e+09\n",
              "\n",
              "[11 rows x 7 columns]"
            ]
          },
          "metadata": {
            "tags": []
          },
          "execution_count": 77
        }
      ]
    },
    {
      "cell_type": "code",
      "metadata": {
        "id": "isusU_33H27Y",
        "colab_type": "code",
        "outputId": "5fe2368d-848f-42e4-bf6a-8a1b0ebbd484",
        "colab": {
          "base_uri": "https://localhost:8080/",
          "height": 348
        }
      },
      "source": [
        "texas_df.sample(10)"
      ],
      "execution_count": 0,
      "outputs": [
        {
          "output_type": "execute_result",
          "data": {
            "text/html": [
              "<div>\n",
              "<style scoped>\n",
              "    .dataframe tbody tr th:only-of-type {\n",
              "        vertical-align: middle;\n",
              "    }\n",
              "\n",
              "    .dataframe tbody tr th {\n",
              "        vertical-align: top;\n",
              "    }\n",
              "\n",
              "    .dataframe thead th {\n",
              "        text-align: right;\n",
              "    }\n",
              "</style>\n",
              "<table border=\"1\" class=\"dataframe\">\n",
              "  <thead>\n",
              "    <tr style=\"text-align: right;\">\n",
              "      <th></th>\n",
              "      <th>state</th>\n",
              "      <th>county</th>\n",
              "      <th>community</th>\n",
              "      <th>closed_loss</th>\n",
              "      <th>open_loss</th>\n",
              "      <th>cwop_loss</th>\n",
              "      <th>total_pay</th>\n",
              "    </tr>\n",
              "  </thead>\n",
              "  <tbody>\n",
              "    <tr>\n",
              "      <th>13611</th>\n",
              "      <td>TEXAS</td>\n",
              "      <td>HALE COUNTY</td>\n",
              "      <td>PLAINVIEW, CITY OF</td>\n",
              "      <td>7.0</td>\n",
              "      <td>0.0</td>\n",
              "      <td>5.0</td>\n",
              "      <td>92602.87</td>\n",
              "    </tr>\n",
              "    <tr>\n",
              "      <th>13389</th>\n",
              "      <td>TEXAS</td>\n",
              "      <td>CHEROKEE COUNTY</td>\n",
              "      <td>JACKSONVILLE, CITY OF</td>\n",
              "      <td>4.0</td>\n",
              "      <td>0.0</td>\n",
              "      <td>3.0</td>\n",
              "      <td>24458.66</td>\n",
              "    </tr>\n",
              "    <tr>\n",
              "      <th>13314</th>\n",
              "      <td>TEXAS</td>\n",
              "      <td>BRAZORIA COUNTY</td>\n",
              "      <td>HOLIDAY LAKES, TOWN OF</td>\n",
              "      <td>14.0</td>\n",
              "      <td>0.0</td>\n",
              "      <td>6.0</td>\n",
              "      <td>771525.95</td>\n",
              "    </tr>\n",
              "    <tr>\n",
              "      <th>13578</th>\n",
              "      <td>TEXAS</td>\n",
              "      <td>GALVESTON COUNTY</td>\n",
              "      <td>LA MARQUE, CITY OF</td>\n",
              "      <td>1014.0</td>\n",
              "      <td>0.0</td>\n",
              "      <td>296.0</td>\n",
              "      <td>12110849.00</td>\n",
              "    </tr>\n",
              "    <tr>\n",
              "      <th>13305</th>\n",
              "      <td>TEXAS</td>\n",
              "      <td>BRAZORIA COUNTY</td>\n",
              "      <td>ANGLETON, CITY OF</td>\n",
              "      <td>717.0</td>\n",
              "      <td>0.0</td>\n",
              "      <td>139.0</td>\n",
              "      <td>6770427.72</td>\n",
              "    </tr>\n",
              "    <tr>\n",
              "      <th>13985</th>\n",
              "      <td>TEXAS</td>\n",
              "      <td>STEPHENS COUNTY</td>\n",
              "      <td>BRECKENRIDGE, CITY OF</td>\n",
              "      <td>41.0</td>\n",
              "      <td>0.0</td>\n",
              "      <td>5.0</td>\n",
              "      <td>706507.78</td>\n",
              "    </tr>\n",
              "    <tr>\n",
              "      <th>13285</th>\n",
              "      <td>TEXAS</td>\n",
              "      <td>BEXAR COUNTY</td>\n",
              "      <td>SELMA, CITY OF</td>\n",
              "      <td>3.0</td>\n",
              "      <td>0.0</td>\n",
              "      <td>2.0</td>\n",
              "      <td>16647.18</td>\n",
              "    </tr>\n",
              "    <tr>\n",
              "      <th>13550</th>\n",
              "      <td>TEXAS</td>\n",
              "      <td>FORT BEND COUNTY</td>\n",
              "      <td>PECAN GROVE M.U.D.</td>\n",
              "      <td>45.0</td>\n",
              "      <td>0.0</td>\n",
              "      <td>12.0</td>\n",
              "      <td>1041748.48</td>\n",
              "    </tr>\n",
              "    <tr>\n",
              "      <th>13945</th>\n",
              "      <td>TEXAS</td>\n",
              "      <td>ROBERTSON COUNTY</td>\n",
              "      <td>CALVERT, CITY OF</td>\n",
              "      <td>1.0</td>\n",
              "      <td>0.0</td>\n",
              "      <td>0.0</td>\n",
              "      <td>3965.98</td>\n",
              "    </tr>\n",
              "    <tr>\n",
              "      <th>13790</th>\n",
              "      <td>TEXAS</td>\n",
              "      <td>LAVACA COUNTY</td>\n",
              "      <td>LAVACA COUNTY*</td>\n",
              "      <td>8.0</td>\n",
              "      <td>0.0</td>\n",
              "      <td>0.0</td>\n",
              "      <td>462174.10</td>\n",
              "    </tr>\n",
              "  </tbody>\n",
              "</table>\n",
              "</div>"
            ],
            "text/plain": [
              "       state            county  ... cwop_loss    total_pay\n",
              "13611  TEXAS       HALE COUNTY  ...       5.0     92602.87\n",
              "13389  TEXAS   CHEROKEE COUNTY  ...       3.0     24458.66\n",
              "13314  TEXAS   BRAZORIA COUNTY  ...       6.0    771525.95\n",
              "13578  TEXAS  GALVESTON COUNTY  ...     296.0  12110849.00\n",
              "13305  TEXAS   BRAZORIA COUNTY  ...     139.0   6770427.72\n",
              "13985  TEXAS   STEPHENS COUNTY  ...       5.0    706507.78\n",
              "13285  TEXAS      BEXAR COUNTY  ...       2.0     16647.18\n",
              "13550  TEXAS  FORT BEND COUNTY  ...      12.0   1041748.48\n",
              "13945  TEXAS  ROBERTSON COUNTY  ...       0.0      3965.98\n",
              "13790  TEXAS     LAVACA COUNTY  ...       0.0    462174.10\n",
              "\n",
              "[10 rows x 7 columns]"
            ]
          },
          "metadata": {
            "tags": []
          },
          "execution_count": 91
        }
      ]
    },
    {
      "cell_type": "code",
      "metadata": {
        "id": "A90pgGqcJJf4",
        "colab_type": "code",
        "outputId": "4aa0c346-90f9-4599-cee8-bc848b10950d",
        "colab": {
          "base_uri": "https://localhost:8080/",
          "height": 35
        }
      },
      "source": [
        "type(texas_df['closed_loss'])"
      ],
      "execution_count": 0,
      "outputs": [
        {
          "output_type": "execute_result",
          "data": {
            "text/plain": [
              "pandas.core.series.Series"
            ]
          },
          "metadata": {
            "tags": []
          },
          "execution_count": 94
        }
      ]
    },
    {
      "cell_type": "code",
      "metadata": {
        "id": "M-Pla24-3jMA",
        "colab_type": "code",
        "colab": {}
      },
      "source": [
        "texas_iqr = texas_df[(2 < texas_df['closed_loss']) & (texas_df['closed_loss'] < 60)]"
      ],
      "execution_count": 0,
      "outputs": []
    },
    {
      "cell_type": "code",
      "metadata": {
        "id": "cALZdoRD3jMB",
        "colab_type": "code",
        "outputId": "b5d5fe37-73a2-4357-ccbc-356371a77888",
        "colab": {
          "base_uri": "https://localhost:8080/",
          "height": 35
        }
      },
      "source": [
        "texas_iqr.shape\n",
        "# (442, 7)"
      ],
      "execution_count": 0,
      "outputs": [
        {
          "output_type": "execute_result",
          "data": {
            "text/plain": [
              "(442, 7)"
            ]
          },
          "metadata": {
            "tags": []
          },
          "execution_count": 100
        }
      ]
    },
    {
      "cell_type": "markdown",
      "metadata": {
        "id": "CdvfjLz33jMD",
        "colab_type": "text"
      },
      "source": [
        "Let's see how this compares to the rest of our Texas data."
      ]
    },
    {
      "cell_type": "code",
      "metadata": {
        "id": "u9-QJ-aS3jME",
        "colab_type": "code",
        "outputId": "9bc6efa4-3132-4ba4-e39f-9d13ad8999a4",
        "colab": {
          "base_uri": "https://localhost:8080/",
          "height": 35
        }
      },
      "source": [
        "texas_df.shape"
      ],
      "execution_count": 0,
      "outputs": [
        {
          "output_type": "execute_result",
          "data": {
            "text/plain": [
              "(896, 7)"
            ]
          },
          "metadata": {
            "tags": []
          },
          "execution_count": 101
        }
      ]
    },
    {
      "cell_type": "markdown",
      "metadata": {
        "id": "_vPQpUGM3jMF",
        "colab_type": "text"
      },
      "source": [
        "So now we are zooming in on roughly half of our data."
      ]
    },
    {
      "cell_type": "markdown",
      "metadata": {
        "id": "3u6J181B3jMF",
        "colab_type": "text"
      },
      "source": [
        "Plot the closed losses, and set an x range between 4 and 60, and a y range between 0 and 35."
      ]
    },
    {
      "cell_type": "code",
      "metadata": {
        "id": "D4W7qjzF3jMG",
        "colab_type": "code",
        "outputId": "44276b75-e937-47ce-847a-460a3b52473c",
        "colab": {
          "base_uri": "https://localhost:8080/",
          "height": 295
        }
      },
      "source": [
        "axs2 = texas_iqr['closed_loss'].plot(kind='hist', xlim=[4,60], ylim=[0,35], bins=50)\n",
        "axs2.set(title='TX claims IQR', ylabel='count', xlabel='no. claims')\n",
        "plt.show()\n"
      ],
      "execution_count": 0,
      "outputs": [
        {
          "output_type": "display_data",
          "data": {
            "image/png": "[encoded data removed]",
            "text/plain": [
              "<Figure size 432x288 with 1 Axes>"
            ]
          },
          "metadata": {
            "tags": []
          }
        }
      ]
    },
    {
      "cell_type": "code",
      "metadata": {
        "id": "pKCpJzHnNEwe",
        "colab_type": "code",
        "outputId": "2c4e4b05-45d6-4069-cc2e-bc308353cb50",
        "colab": {
          "base_uri": "https://localhost:8080/",
          "height": 286
        }
      },
      "source": [
        "texas_iqr['closed_loss'].plot(kind='hist', xlim=[4,60], ylim=[0,35], bins=50)"
      ],
      "execution_count": 0,
      "outputs": [
        {
          "output_type": "execute_result",
          "data": {
            "text/plain": [
              "<matplotlib.axes._subplots.AxesSubplot at 0x7f862ef33c50>"
            ]
          },
          "metadata": {
            "tags": []
          },
          "execution_count": 113
        },
        {
          "output_type": "display_data",
          "data": {
            "image/png": "[encoded data removed]",
            "text/plain": [
              "<Figure size 432x288 with 1 Axes>"
            ]
          },
          "metadata": {
            "tags": []
          }
        }
      ]
    },
    {
      "cell_type": "markdown",
      "metadata": {
        "id": "kscoU0En3jMI",
        "colab_type": "text"
      },
      "source": [
        "> Answer <img src=\"https://github.com/jigsawlabs-student/exploring-pandas/blob/master/tx-claims-iqr.png?raw=1\" width=\"40%\">"
      ]
    },
    {
      "cell_type": "markdown",
      "metadata": {
        "id": "8sJDv0y13jMI",
        "colab_type": "text"
      },
      "source": [
        "Ok, now what be even more interesting is focusing on the counties that have the most amount of claims."
      ]
    },
    {
      "cell_type": "markdown",
      "metadata": {
        "id": "t2CaumXn3jMI",
        "colab_type": "text"
      },
      "source": [
        "We can look at the values at the higher percentiles the `describe` method and using the percentiles method.  Set percentiles of `.85, .90, .95` and `.99`. "
      ]
    },
    {
      "cell_type": "code",
      "metadata": {
        "id": "ce9OecaB3jMJ",
        "colab_type": "code",
        "outputId": "ed28c9f7-1dd1-4af6-b559-c84d5dc8cd00",
        "colab": {
          "base_uri": "https://localhost:8080/",
          "height": 207
        }
      },
      "source": [
        "texas_df['closed_loss'].describe(percentiles=[.85, .90, .95, .99])\n",
        "\n",
        "# count      896.000000\n",
        "# mean       241.588170\n",
        "# std       1922.330777\n",
        "# min          0.000000\n",
        "# 50%         10.500000\n",
        "# 85%        141.500000\n",
        "# 90%        292.500000\n",
        "# 95%        718.250000\n",
        "# 99%       2397.700000\n",
        "# max      45059.000000\n",
        "# Name: closed_loss, dtype: float64"
      ],
      "execution_count": 0,
      "outputs": [
        {
          "output_type": "execute_result",
          "data": {
            "text/plain": [
              "count      896.000000\n",
              "mean       241.588170\n",
              "std       1922.330777\n",
              "min          0.000000\n",
              "50%         10.500000\n",
              "85%        141.500000\n",
              "90%        292.500000\n",
              "95%        718.250000\n",
              "99%       2397.700000\n",
              "max      45059.000000\n",
              "Name: closed_loss, dtype: float64"
            ]
          },
          "metadata": {
            "tags": []
          },
          "execution_count": 119
        }
      ]
    },
    {
      "cell_type": "markdown",
      "metadata": {
        "id": "ltJpvKdx3jML",
        "colab_type": "text"
      },
      "source": [
        "Now notice that there's even a huge gap between data in our 99th percentile, and our county with the maximum number of claims."
      ]
    },
    {
      "cell_type": "markdown",
      "metadata": {
        "id": "hcjNBs-d3jML",
        "colab_type": "text"
      },
      "source": [
        "Let's look at some of the counties with some of the highest number of claims.  To do so, use the `sort_by` method in pandas."
      ]
    },
    {
      "cell_type": "code",
      "metadata": {
        "id": "lrRckrbDOs6X",
        "colab_type": "code",
        "outputId": "9db355f5-662b-4084-fc17-b349faa1442f",
        "colab": {
          "base_uri": "https://localhost:8080/",
          "height": 198
        }
      },
      "source": [
        "texas_df.head()\n"
      ],
      "execution_count": 0,
      "outputs": [
        {
          "output_type": "execute_result",
          "data": {
            "text/html": [
              "<div>\n",
              "<style scoped>\n",
              "    .dataframe tbody tr th:only-of-type {\n",
              "        vertical-align: middle;\n",
              "    }\n",
              "\n",
              "    .dataframe tbody tr th {\n",
              "        vertical-align: top;\n",
              "    }\n",
              "\n",
              "    .dataframe thead th {\n",
              "        text-align: right;\n",
              "    }\n",
              "</style>\n",
              "<table border=\"1\" class=\"dataframe\">\n",
              "  <thead>\n",
              "    <tr style=\"text-align: right;\">\n",
              "      <th></th>\n",
              "      <th>state</th>\n",
              "      <th>county</th>\n",
              "      <th>community</th>\n",
              "      <th>closed_loss</th>\n",
              "      <th>open_loss</th>\n",
              "      <th>cwop_loss</th>\n",
              "      <th>total_pay</th>\n",
              "    </tr>\n",
              "  </thead>\n",
              "  <tbody>\n",
              "    <tr>\n",
              "      <th>13220</th>\n",
              "      <td>TEXAS</td>\n",
              "      <td>ANDERSON COUNTY</td>\n",
              "      <td>ANDERSON COUNTY*</td>\n",
              "      <td>7.0</td>\n",
              "      <td>0.0</td>\n",
              "      <td>0.0</td>\n",
              "      <td>117796.83</td>\n",
              "    </tr>\n",
              "    <tr>\n",
              "      <th>13221</th>\n",
              "      <td>TEXAS</td>\n",
              "      <td>ANDERSON COUNTY</td>\n",
              "      <td>PALESTINE, CITY OF</td>\n",
              "      <td>3.0</td>\n",
              "      <td>0.0</td>\n",
              "      <td>3.0</td>\n",
              "      <td>59415.17</td>\n",
              "    </tr>\n",
              "    <tr>\n",
              "      <th>13222</th>\n",
              "      <td>TEXAS</td>\n",
              "      <td>ANGELINA COUNTY</td>\n",
              "      <td>ANGELINA COUNTY *</td>\n",
              "      <td>18.0</td>\n",
              "      <td>0.0</td>\n",
              "      <td>2.0</td>\n",
              "      <td>464133.26</td>\n",
              "    </tr>\n",
              "    <tr>\n",
              "      <th>13223</th>\n",
              "      <td>TEXAS</td>\n",
              "      <td>ANGELINA COUNTY</td>\n",
              "      <td>DIBOLL, CITY OF</td>\n",
              "      <td>5.0</td>\n",
              "      <td>0.0</td>\n",
              "      <td>2.0</td>\n",
              "      <td>45053.93</td>\n",
              "    </tr>\n",
              "    <tr>\n",
              "      <th>13224</th>\n",
              "      <td>TEXAS</td>\n",
              "      <td>ANGELINA COUNTY</td>\n",
              "      <td>HUNTINGTON, CITY OF</td>\n",
              "      <td>0.0</td>\n",
              "      <td>0.0</td>\n",
              "      <td>1.0</td>\n",
              "      <td>0.00</td>\n",
              "    </tr>\n",
              "  </tbody>\n",
              "</table>\n",
              "</div>"
            ],
            "text/plain": [
              "       state           county  ... cwop_loss  total_pay\n",
              "13220  TEXAS  ANDERSON COUNTY  ...       0.0  117796.83\n",
              "13221  TEXAS  ANDERSON COUNTY  ...       3.0   59415.17\n",
              "13222  TEXAS  ANGELINA COUNTY  ...       2.0  464133.26\n",
              "13223  TEXAS  ANGELINA COUNTY  ...       2.0   45053.93\n",
              "13224  TEXAS  ANGELINA COUNTY  ...       1.0       0.00\n",
              "\n",
              "[5 rows x 7 columns]"
            ]
          },
          "metadata": {
            "tags": []
          },
          "execution_count": 122
        }
      ]
    },
    {
      "cell_type": "code",
      "metadata": {
        "id": "zJfvFUW63jMM",
        "colab_type": "code",
        "colab": {}
      },
      "source": [
        "sorted_tx = texas_df.sort_values(by='closed_loss')[::-1]"
      ],
      "execution_count": 0,
      "outputs": []
    },
    {
      "cell_type": "code",
      "metadata": {
        "id": "T-JlZYeHQyJp",
        "colab_type": "code",
        "colab": {}
      },
      "source": [
        "sorted_tx = texas_df.sort_values(by='closed_loss', ascending=False)"
      ],
      "execution_count": 0,
      "outputs": []
    },
    {
      "cell_type": "code",
      "metadata": {
        "id": "GEjRpy_t3jMN",
        "colab_type": "code",
        "outputId": "61a7baa8-31cf-48e3-d0d0-971ac21da824",
        "colab": {
          "base_uri": "https://localhost:8080/",
          "height": 198
        }
      },
      "source": [
        "sorted_tx[['county', 'community', 'closed_loss']][:5]\n",
        "\n",
        "# \tcounty\tcommunity\tclosed_loss\n",
        "# 13635\tHARRIS COUNTY\tHOUSTON, CITY OF\t45059.00\n",
        "# 13632\tHARRIS COUNTY\tHARRIS COUNTY*\t26988.00\n",
        "# 13573\tGALVESTON COUNTY\tGALVESTON COUNTY*\t14203.00\n",
        "# 13574\tGALVESTON COUNTY\tGALVESTON, CITY OF\t14098.00\n",
        "# 13870\tMONTGOMERY COUNTY\tMONTGOMERY COUNTY*\t6446.00"
      ],
      "execution_count": 0,
      "outputs": [
        {
          "output_type": "execute_result",
          "data": {
            "text/html": [
              "<div>\n",
              "<style scoped>\n",
              "    .dataframe tbody tr th:only-of-type {\n",
              "        vertical-align: middle;\n",
              "    }\n",
              "\n",
              "    .dataframe tbody tr th {\n",
              "        vertical-align: top;\n",
              "    }\n",
              "\n",
              "    .dataframe thead th {\n",
              "        text-align: right;\n",
              "    }\n",
              "</style>\n",
              "<table border=\"1\" class=\"dataframe\">\n",
              "  <thead>\n",
              "    <tr style=\"text-align: right;\">\n",
              "      <th></th>\n",
              "      <th>county</th>\n",
              "      <th>community</th>\n",
              "      <th>closed_loss</th>\n",
              "    </tr>\n",
              "  </thead>\n",
              "  <tbody>\n",
              "    <tr>\n",
              "      <th>13635</th>\n",
              "      <td>HARRIS COUNTY</td>\n",
              "      <td>HOUSTON, CITY OF</td>\n",
              "      <td>45059.0</td>\n",
              "    </tr>\n",
              "    <tr>\n",
              "      <th>13632</th>\n",
              "      <td>HARRIS COUNTY</td>\n",
              "      <td>HARRIS COUNTY*</td>\n",
              "      <td>26988.0</td>\n",
              "    </tr>\n",
              "    <tr>\n",
              "      <th>13573</th>\n",
              "      <td>GALVESTON COUNTY</td>\n",
              "      <td>GALVESTON COUNTY*</td>\n",
              "      <td>14203.0</td>\n",
              "    </tr>\n",
              "    <tr>\n",
              "      <th>13574</th>\n",
              "      <td>GALVESTON COUNTY</td>\n",
              "      <td>GALVESTON, CITY OF</td>\n",
              "      <td>14098.0</td>\n",
              "    </tr>\n",
              "    <tr>\n",
              "      <th>13870</th>\n",
              "      <td>MONTGOMERY COUNTY</td>\n",
              "      <td>MONTGOMERY COUNTY*</td>\n",
              "      <td>6446.0</td>\n",
              "    </tr>\n",
              "  </tbody>\n",
              "</table>\n",
              "</div>"
            ],
            "text/plain": [
              "                  county                         community  closed_loss\n",
              "13635      HARRIS COUNTY  HOUSTON, CITY OF                      45059.0\n",
              "13632      HARRIS COUNTY  HARRIS COUNTY*                        26988.0\n",
              "13573   GALVESTON COUNTY  GALVESTON COUNTY*                     14203.0\n",
              "13574   GALVESTON COUNTY  GALVESTON, CITY OF                    14098.0\n",
              "13870  MONTGOMERY COUNTY  MONTGOMERY COUNTY*                     6446.0"
            ]
          },
          "metadata": {
            "tags": []
          },
          "execution_count": 136
        }
      ]
    },
    {
      "cell_type": "markdown",
      "metadata": {
        "id": "KG4ZhRbl3jMQ",
        "colab_type": "text"
      },
      "source": [
        "> If you're like me, scientific notation can be pretty confusing.  We can get rid of it with the following."
      ]
    },
    {
      "cell_type": "code",
      "metadata": {
        "id": "rHXMgzt43jMQ",
        "colab_type": "code",
        "colab": {}
      },
      "source": [
        "pd.options.display.float_format = '{:.2f}'.format"
      ],
      "execution_count": 0,
      "outputs": []
    },
    {
      "cell_type": "code",
      "metadata": {
        "id": "lu_vlYZf3jMT",
        "colab_type": "code",
        "outputId": "0281c5cb-b84f-4bf0-958d-3f3939f4faa3",
        "colab": {
          "base_uri": "https://localhost:8080/",
          "height": 168
        }
      },
      "source": [
        "sorted_tx_reduced = sorted_tx[['county', 'community', 'closed_loss']]\n",
        "sorted_tx_reduced[:4]"
      ],
      "execution_count": 0,
      "outputs": [
        {
          "output_type": "execute_result",
          "data": {
            "text/html": [
              "<div>\n",
              "<style scoped>\n",
              "    .dataframe tbody tr th:only-of-type {\n",
              "        vertical-align: middle;\n",
              "    }\n",
              "\n",
              "    .dataframe tbody tr th {\n",
              "        vertical-align: top;\n",
              "    }\n",
              "\n",
              "    .dataframe thead th {\n",
              "        text-align: right;\n",
              "    }\n",
              "</style>\n",
              "<table border=\"1\" class=\"dataframe\">\n",
              "  <thead>\n",
              "    <tr style=\"text-align: right;\">\n",
              "      <th></th>\n",
              "      <th>county</th>\n",
              "      <th>community</th>\n",
              "      <th>closed_loss</th>\n",
              "    </tr>\n",
              "  </thead>\n",
              "  <tbody>\n",
              "    <tr>\n",
              "      <th>13635</th>\n",
              "      <td>HARRIS COUNTY</td>\n",
              "      <td>HOUSTON, CITY OF</td>\n",
              "      <td>45059.00</td>\n",
              "    </tr>\n",
              "    <tr>\n",
              "      <th>13632</th>\n",
              "      <td>HARRIS COUNTY</td>\n",
              "      <td>HARRIS COUNTY*</td>\n",
              "      <td>26988.00</td>\n",
              "    </tr>\n",
              "    <tr>\n",
              "      <th>13573</th>\n",
              "      <td>GALVESTON COUNTY</td>\n",
              "      <td>GALVESTON COUNTY*</td>\n",
              "      <td>14203.00</td>\n",
              "    </tr>\n",
              "    <tr>\n",
              "      <th>13574</th>\n",
              "      <td>GALVESTON COUNTY</td>\n",
              "      <td>GALVESTON, CITY OF</td>\n",
              "      <td>14098.00</td>\n",
              "    </tr>\n",
              "  </tbody>\n",
              "</table>\n",
              "</div>"
            ],
            "text/plain": [
              "                 county                         community  closed_loss\n",
              "13635     HARRIS COUNTY  HOUSTON, CITY OF                     45059.00\n",
              "13632     HARRIS COUNTY  HARRIS COUNTY*                       26988.00\n",
              "13573  GALVESTON COUNTY  GALVESTON COUNTY*                    14203.00\n",
              "13574  GALVESTON COUNTY  GALVESTON, CITY OF                   14098.00"
            ]
          },
          "metadata": {
            "tags": []
          },
          "execution_count": 138
        }
      ]
    },
    {
      "cell_type": "markdown",
      "metadata": {
        "id": "iZK2nn_P3jMV",
        "colab_type": "text"
      },
      "source": [
        "Notice that we see both counties and cities for Harris and Galveston.  We also see similar claim numbers.  It could be that the county encompasses the city.  \n",
        "\n",
        "> We probably should look into what those asterisks mean."
      ]
    },
    {
      "cell_type": "markdown",
      "metadata": {
        "id": "-cy9aiUT3jMV",
        "colab_type": "text"
      },
      "source": [
        "Let's keep going though.  Let's create a new series of data which captures the percentage of the total closed losses for each county.  Assign this series to teh variable `percent_closed_loss`."
      ]
    },
    {
      "cell_type": "code",
      "metadata": {
        "id": "9dzxW7QXSzsC",
        "colab_type": "code",
        "colab": {}
      },
      "source": [
        "total_loss = sorted_tx_reduced['closed_loss'].sum()"
      ],
      "execution_count": 0,
      "outputs": []
    },
    {
      "cell_type": "code",
      "metadata": {
        "id": "fM-Rmj7s3jMV",
        "colab_type": "code",
        "colab": {}
      },
      "source": [
        "percent_closed_loss = sorted_tx_reduced['closed_loss']/total_loss"
      ],
      "execution_count": 0,
      "outputs": []
    },
    {
      "cell_type": "code",
      "metadata": {
        "id": "pQApWIrA3jMY",
        "colab_type": "code",
        "outputId": "98f14a73-2693-45f2-d50c-0210b5d9ee2a",
        "colab": {
          "base_uri": "https://localhost:8080/",
          "height": 121
        }
      },
      "source": [
        "percent_closed_loss[:5]\n",
        "\n",
        "# 13635   0.21\n",
        "# 13632   0.12\n",
        "# 13573   0.07\n",
        "# 13574   0.07\n",
        "# 13870   0.03\n",
        "# Name: closed_loss, dtype: float64"
      ],
      "execution_count": 0,
      "outputs": [
        {
          "output_type": "execute_result",
          "data": {
            "text/plain": [
              "13635   0.21\n",
              "13632   0.12\n",
              "13573   0.07\n",
              "13574   0.07\n",
              "13870   0.03\n",
              "Name: closed_loss, dtype: float64"
            ]
          },
          "metadata": {
            "tags": []
          },
          "execution_count": 143
        }
      ]
    },
    {
      "cell_type": "markdown",
      "metadata": {
        "id": "uUE0luzd3jMa",
        "colab_type": "text"
      },
      "source": [
        "Here's a quick check that we did this correctly."
      ]
    },
    {
      "cell_type": "code",
      "metadata": {
        "id": "cZ9nJNKG3jMa",
        "colab_type": "code",
        "outputId": "de6b2c77-455d-4d95-d91c-ec8f268d7d78",
        "colab": {
          "base_uri": "https://localhost:8080/",
          "height": 35
        }
      },
      "source": [
        "percent_closed_loss.sum()\n",
        "# 1.0"
      ],
      "execution_count": 0,
      "outputs": [
        {
          "output_type": "execute_result",
          "data": {
            "text/plain": [
              "1.0"
            ]
          },
          "metadata": {
            "tags": []
          },
          "execution_count": 144
        }
      ]
    },
    {
      "cell_type": "markdown",
      "metadata": {
        "id": "0P9we3ys3jMc",
        "colab_type": "text"
      },
      "source": [
        "Now let's assign this column to our `sorted_tx_reduced` dataframe, and name the column `closed_loss_percent_total`.  The updated data frame should be named `sorted_tx_percent_df`.  If we look at our dataframe afterwards we should see it."
      ]
    },
    {
      "cell_type": "code",
      "metadata": {
        "id": "mgtNLrae3jMc",
        "colab_type": "code",
        "colab": {}
      },
      "source": [
        "sorted_tx_percent_df = sorted_tx_reduced.assign(closed_loss_percent_total = percent_closed_loss)"
      ],
      "execution_count": 0,
      "outputs": []
    },
    {
      "cell_type": "code",
      "metadata": {
        "id": "OtyZhZIi3jMe",
        "colab_type": "code",
        "outputId": "e8263315-2e7a-40f1-fad6-68bdc7034de4",
        "colab": {
          "base_uri": "https://localhost:8080/",
          "height": 198
        }
      },
      "source": [
        "sorted_tx_percent_df[:5]\n",
        "\n",
        "# \tcounty\tcommunity\tclosed_loss\tclosed_loss_percent_total\n",
        "# 13635\tHARRIS COUNTY\tHOUSTON, CITY OF\t45059.00\t0.42\n",
        "# 13632\tHARRIS COUNTY\tHARRIS COUNTY*\t26988.00\t0.25\n",
        "# 13573\tGALVESTON COUNTY\tGALVESTON COUNTY*\t14203.00\t0.13\n",
        "# 13574\tGALVESTON COUNTY\tGALVESTON, CITY OF\t14098.00\t0.13\n",
        "# 13870\tMONTGOMERY COUNTY\tMONTGOMERY COUNTY*\t6446.00\t0.06"
      ],
      "execution_count": 0,
      "outputs": [
        {
          "output_type": "execute_result",
          "data": {
            "text/html": [
              "<div>\n",
              "<style scoped>\n",
              "    .dataframe tbody tr th:only-of-type {\n",
              "        vertical-align: middle;\n",
              "    }\n",
              "\n",
              "    .dataframe tbody tr th {\n",
              "        vertical-align: top;\n",
              "    }\n",
              "\n",
              "    .dataframe thead th {\n",
              "        text-align: right;\n",
              "    }\n",
              "</style>\n",
              "<table border=\"1\" class=\"dataframe\">\n",
              "  <thead>\n",
              "    <tr style=\"text-align: right;\">\n",
              "      <th></th>\n",
              "      <th>county</th>\n",
              "      <th>community</th>\n",
              "      <th>closed_loss</th>\n",
              "      <th>closed_loss_percent_total</th>\n",
              "    </tr>\n",
              "  </thead>\n",
              "  <tbody>\n",
              "    <tr>\n",
              "      <th>13635</th>\n",
              "      <td>HARRIS COUNTY</td>\n",
              "      <td>HOUSTON, CITY OF</td>\n",
              "      <td>45059.00</td>\n",
              "      <td>0.21</td>\n",
              "    </tr>\n",
              "    <tr>\n",
              "      <th>13632</th>\n",
              "      <td>HARRIS COUNTY</td>\n",
              "      <td>HARRIS COUNTY*</td>\n",
              "      <td>26988.00</td>\n",
              "      <td>0.12</td>\n",
              "    </tr>\n",
              "    <tr>\n",
              "      <th>13573</th>\n",
              "      <td>GALVESTON COUNTY</td>\n",
              "      <td>GALVESTON COUNTY*</td>\n",
              "      <td>14203.00</td>\n",
              "      <td>0.07</td>\n",
              "    </tr>\n",
              "    <tr>\n",
              "      <th>13574</th>\n",
              "      <td>GALVESTON COUNTY</td>\n",
              "      <td>GALVESTON, CITY OF</td>\n",
              "      <td>14098.00</td>\n",
              "      <td>0.07</td>\n",
              "    </tr>\n",
              "    <tr>\n",
              "      <th>13870</th>\n",
              "      <td>MONTGOMERY COUNTY</td>\n",
              "      <td>MONTGOMERY COUNTY*</td>\n",
              "      <td>6446.00</td>\n",
              "      <td>0.03</td>\n",
              "    </tr>\n",
              "  </tbody>\n",
              "</table>\n",
              "</div>"
            ],
            "text/plain": [
              "                  county  ... closed_loss_percent_total\n",
              "13635      HARRIS COUNTY  ...                      0.21\n",
              "13632      HARRIS COUNTY  ...                      0.12\n",
              "13573   GALVESTON COUNTY  ...                      0.07\n",
              "13574   GALVESTON COUNTY  ...                      0.07\n",
              "13870  MONTGOMERY COUNTY  ...                      0.03\n",
              "\n",
              "[5 rows x 4 columns]"
            ]
          },
          "metadata": {
            "tags": []
          },
          "execution_count": 148
        }
      ]
    },
    {
      "cell_type": "code",
      "metadata": {
        "id": "tcgJesLk3jMg",
        "colab_type": "code",
        "outputId": "485abe06-8320-47b1-fe7d-3f068145d55c",
        "colab": {
          "base_uri": "https://localhost:8080/",
          "height": 35
        }
      },
      "source": [
        "import numpy as np\n",
        "np.sum(sorted_tx_percent_df['closed_loss_percent_total'][:5])"
      ],
      "execution_count": 0,
      "outputs": [
        {
          "output_type": "execute_result",
          "data": {
            "text/plain": [
              "0.49335914220906113"
            ]
          },
          "metadata": {
            "tags": []
          },
          "execution_count": 149
        }
      ]
    },
    {
      "cell_type": "code",
      "metadata": {
        "id": "vMM3Y7b-3jMj",
        "colab_type": "code",
        "outputId": "dfe36eed-e934-4bf0-fe43-d568cce22c2b",
        "colab": {
          "base_uri": "https://localhost:8080/",
          "height": 35
        }
      },
      "source": [
        "sorted_tx_percent_df['closed_loss_percent_total'][:6].sum()\n",
        "# 0.46358"
      ],
      "execution_count": 0,
      "outputs": [
        {
          "output_type": "execute_result",
          "data": {
            "text/plain": [
              "0.5194097836581771"
            ]
          },
          "metadata": {
            "tags": []
          },
          "execution_count": 150
        }
      ]
    },
    {
      "cell_type": "markdown",
      "metadata": {
        "id": "svrfGdnx3jMl",
        "colab_type": "text"
      },
      "source": [
        "So we can see over fifty percent of the closed losses in texas are in just 6 of Texas's 896 counties."
      ]
    },
    {
      "cell_type": "code",
      "metadata": {
        "id": "YM8Xn9MB3jMl",
        "colab_type": "code",
        "outputId": "1315a11b-493d-42b4-c7d5-0d44ca485072",
        "colab": {
          "base_uri": "https://localhost:8080/",
          "height": 228
        }
      },
      "source": [
        "sorted_tx_percent_df[:6]"
      ],
      "execution_count": 0,
      "outputs": [
        {
          "output_type": "execute_result",
          "data": {
            "text/html": [
              "<div>\n",
              "<style scoped>\n",
              "    .dataframe tbody tr th:only-of-type {\n",
              "        vertical-align: middle;\n",
              "    }\n",
              "\n",
              "    .dataframe tbody tr th {\n",
              "        vertical-align: top;\n",
              "    }\n",
              "\n",
              "    .dataframe thead th {\n",
              "        text-align: right;\n",
              "    }\n",
              "</style>\n",
              "<table border=\"1\" class=\"dataframe\">\n",
              "  <thead>\n",
              "    <tr style=\"text-align: right;\">\n",
              "      <th></th>\n",
              "      <th>county</th>\n",
              "      <th>community</th>\n",
              "      <th>closed_loss</th>\n",
              "      <th>closed_loss_percent_total</th>\n",
              "    </tr>\n",
              "  </thead>\n",
              "  <tbody>\n",
              "    <tr>\n",
              "      <th>13635</th>\n",
              "      <td>HARRIS COUNTY</td>\n",
              "      <td>HOUSTON, CITY OF</td>\n",
              "      <td>45059.00</td>\n",
              "      <td>0.21</td>\n",
              "    </tr>\n",
              "    <tr>\n",
              "      <th>13632</th>\n",
              "      <td>HARRIS COUNTY</td>\n",
              "      <td>HARRIS COUNTY*</td>\n",
              "      <td>26988.00</td>\n",
              "      <td>0.12</td>\n",
              "    </tr>\n",
              "    <tr>\n",
              "      <th>13573</th>\n",
              "      <td>GALVESTON COUNTY</td>\n",
              "      <td>GALVESTON COUNTY*</td>\n",
              "      <td>14203.00</td>\n",
              "      <td>0.07</td>\n",
              "    </tr>\n",
              "    <tr>\n",
              "      <th>13574</th>\n",
              "      <td>GALVESTON COUNTY</td>\n",
              "      <td>GALVESTON, CITY OF</td>\n",
              "      <td>14098.00</td>\n",
              "      <td>0.07</td>\n",
              "    </tr>\n",
              "    <tr>\n",
              "      <th>13870</th>\n",
              "      <td>MONTGOMERY COUNTY</td>\n",
              "      <td>MONTGOMERY COUNTY*</td>\n",
              "      <td>6446.00</td>\n",
              "      <td>0.03</td>\n",
              "    </tr>\n",
              "    <tr>\n",
              "      <th>13307</th>\n",
              "      <td>BRAZORIA COUNTY</td>\n",
              "      <td>BRAZORIA COUNTY *</td>\n",
              "      <td>5639.00</td>\n",
              "      <td>0.03</td>\n",
              "    </tr>\n",
              "  </tbody>\n",
              "</table>\n",
              "</div>"
            ],
            "text/plain": [
              "                  county  ... closed_loss_percent_total\n",
              "13635      HARRIS COUNTY  ...                      0.21\n",
              "13632      HARRIS COUNTY  ...                      0.12\n",
              "13573   GALVESTON COUNTY  ...                      0.07\n",
              "13574   GALVESTON COUNTY  ...                      0.07\n",
              "13870  MONTGOMERY COUNTY  ...                      0.03\n",
              "13307    BRAZORIA COUNTY  ...                      0.03\n",
              "\n",
              "[6 rows x 4 columns]"
            ]
          },
          "metadata": {
            "tags": []
          },
          "execution_count": 151
        }
      ]
    },
    {
      "cell_type": "markdown",
      "metadata": {
        "id": "vwAJSa1z3jMn",
        "colab_type": "text"
      },
      "source": [
        "### Discussion Questions"
      ]
    },
    {
      "cell_type": "markdown",
      "metadata": {
        "id": "jxg80Vdq3jMo",
        "colab_type": "text"
      },
      "source": [
        "Now that we done some initial exploration of our data, what information that we gathered, do you think might be most useful going forward?\n",
        "\n",
        "Is there additional data that you would like to collect to answer additional questions?"
      ]
    },
    {
      "cell_type": "markdown",
      "metadata": {
        "id": "UjGV0wqN3jMp",
        "colab_type": "text"
      },
      "source": [
        "### Summary"
      ]
    },
    {
      "cell_type": "markdown",
      "metadata": {
        "id": "7DB6s4I33jMp",
        "colab_type": "text"
      },
      "source": [
        "In this lesson, we explored FEMA claims in Texas.  As we saw our data, was heavily skewed to the right leading us to both explore the majority of our counties in the interquartile range, as well as the majority of our claims, which existed in just a few counties."
      ]
    },
    {
      "cell_type": "markdown",
      "metadata": {
        "id": "dCXavjj-3jMp",
        "colab_type": "text"
      },
      "source": [
        "### Resources"
      ]
    },
    {
      "cell_type": "markdown",
      "metadata": {
        "id": "VBYMmMwp3jMp",
        "colab_type": "text"
      },
      "source": [
        "[WP dashboard](https://wpinvestigative.github.io/fema_claims/)"
      ]
    }
  ]
}