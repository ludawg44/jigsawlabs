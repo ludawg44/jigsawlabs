{
  "nbformat": 4,
  "nbformat_minor": 0,
  "metadata": {
    "kernelspec": {
      "display_name": "Python 3",
      "language": "python",
      "name": "python3"
    },
    "language_info": {
      "codemirror_mode": {
        "name": "ipython",
        "version": 3
      },
      "file_extension": ".py",
      "mimetype": "text/x-python",
      "name": "python",
      "nbconvert_exporter": "python",
      "pygments_lexer": "ipython3",
      "version": "3.7.4"
    },
    "colab": {
      "name": "Copy of 8-styling-matplotlib-lab.ipynb",
      "provenance": [],
      "include_colab_link": true
    }
  },
  "cells": [
    {
      "cell_type": "markdown",
      "metadata": {
        "id": "view-in-github",
        "colab_type": "text"
      },
      "source": [
        "<a href=\"https://colab.research.google.com/github/ludawg44/jigsawlabs/blob/24Mar20/Copy_of_8_styling_matplotlib_lab.ipynb\" target=\"_parent\"><img src=\"https://colab.research.google.com/assets/colab-badge.svg\" alt=\"Open In Colab\"/></a>"
      ]
    },
    {
      "cell_type": "markdown",
      "metadata": {
        "id": "_HuXQ3HcdYz5",
        "colab_type": "text"
      },
      "source": [
        "# Styling Matplotlib"
      ]
    },
    {
      "cell_type": "markdown",
      "metadata": {
        "id": "k__nmerxdYz7",
        "colab_type": "text"
      },
      "source": [
        "### Introduction"
      ]
    },
    {
      "cell_type": "markdown",
      "metadata": {
        "id": "hQdafKMZdYz8",
        "colab_type": "text"
      },
      "source": [
        "In this lesson, let's work to style some of our previous plots.  "
      ]
    },
    {
      "cell_type": "markdown",
      "metadata": {
        "id": "vGDRU3TvdYz9",
        "colab_type": "text"
      },
      "source": [
        "### Loading our Data"
      ]
    },
    {
      "cell_type": "markdown",
      "metadata": {
        "id": "8orECjkFdYz-",
        "colab_type": "text"
      },
      "source": [
        "Let's start by loading up the necessary libraries."
      ]
    },
    {
      "cell_type": "code",
      "metadata": {
        "id": "fq_4UxDXdYz_",
        "colab_type": "code",
        "colab": {}
      },
      "source": [
        "import pandas as pd\n",
        "import numpy as np\n",
        "import matplotlib.pyplot as plt \n",
        "%matplotlib inline\n"
      ],
      "execution_count": 0,
      "outputs": []
    },
    {
      "cell_type": "markdown",
      "metadata": {
        "id": "3sMpNDkodY0C",
        "colab_type": "text"
      },
      "source": [
        "And then loading our data."
      ]
    },
    {
      "cell_type": "code",
      "metadata": {
        "id": "D7zgL6IFdY0D",
        "colab_type": "code",
        "colab": {}
      },
      "source": [
        "url = \"https://raw.githubusercontent.com/jigsawlabs-student/matplotlib/master/spotify.csv?token=AADXLBP3J2PZI3ZLTIZ45NK6QNGHO\"\n",
        "df = pd.read_csv(url, encoding = \"ISO-8859-1\", index_col = 0)\n",
        "songs = df.to_numpy()"
      ],
      "execution_count": 0,
      "outputs": []
    },
    {
      "cell_type": "code",
      "metadata": {
        "id": "JyvFFXyLdY0G",
        "colab_type": "code",
        "outputId": "c49e8905-b8d8-42bf-db12-2dc0e117b836",
        "colab": {}
      },
      "source": [
        "songs[:2]"
      ],
      "execution_count": 0,
      "outputs": [
        {
          "output_type": "execute_result",
          "data": {
            "text/plain": [
              "array([['Hey, Soul Sister', 'Train', 'neo mellow', 2010, 97, 89, 67, -4,\n",
              "        8, 80, 217, 19, 4, 83],\n",
              "       ['Love The Way You Lie', 'Eminem', 'detroit hip hop', 2010, 87,\n",
              "        93, 75, -5, 52, 64, 263, 24, 23, 82]], dtype=object)"
            ]
          },
          "metadata": {
            "tags": []
          },
          "execution_count": 3
        }
      ]
    },
    {
      "cell_type": "code",
      "metadata": {
        "id": "be68pCpudY0J",
        "colab_type": "code",
        "outputId": "e86a3551-11ce-4a86-ce02-8b31a745aec0",
        "colab": {}
      },
      "source": [
        "df.columns"
      ],
      "execution_count": 0,
      "outputs": [
        {
          "output_type": "execute_result",
          "data": {
            "text/plain": [
              "Index(['title', 'artist', 'top genre', 'year', 'bpm', 'nrgy', 'dnce', 'dB',\n",
              "       'live', 'val', 'dur', 'acous', 'spch', 'pop'],\n",
              "      dtype='object')"
            ]
          },
          "metadata": {
            "tags": []
          },
          "execution_count": 4
        }
      ]
    },
    {
      "cell_type": "markdown",
      "metadata": {
        "id": "IHCG7wAodY0M",
        "colab_type": "text"
      },
      "source": [
        "### Seeing the Scope of the Data"
      ]
    },
    {
      "cell_type": "markdown",
      "metadata": {
        "id": "Ds8ple0ddY0N",
        "colab_type": "text"
      },
      "source": [
        "Now previously, we found counts of our categories with something like the following."
      ]
    },
    {
      "cell_type": "code",
      "metadata": {
        "id": "QG0BRfm_dY0O",
        "colab_type": "code",
        "colab": {}
      },
      "source": [
        "genres = songs[:, 2]"
      ],
      "execution_count": 0,
      "outputs": []
    },
    {
      "cell_type": "code",
      "metadata": {
        "id": "9F6WY2D4dY0R",
        "colab_type": "code",
        "colab": {}
      },
      "source": [
        "genre_counts = np.unique(genres, return_counts = True)\n",
        "genre_names = genre_counts[0]\n",
        "genre_nums = genre_counts[1]\n",
        "\n",
        "genre_counts_grid = np.stack([genre_names, genre_nums], axis = 1)"
      ],
      "execution_count": 0,
      "outputs": []
    },
    {
      "cell_type": "code",
      "metadata": {
        "id": "bb679iexdY0T",
        "colab_type": "code",
        "outputId": "14b64ad2-2e71-41dd-a344-b70c5955f9d9",
        "colab": {}
      },
      "source": [
        "top_eight = genre_counts_grid[np.argsort(genre_counts_grid[:, 1])[::-1]][:11]\n",
        "top_eight"
      ],
      "execution_count": 0,
      "outputs": [
        {
          "output_type": "execute_result",
          "data": {
            "text/plain": [
              "array([['dance pop', 327],\n",
              "       ['pop', 60],\n",
              "       ['canadian pop', 34],\n",
              "       ['barbadian pop', 15],\n",
              "       ['boy band', 15],\n",
              "       ['electropop', 13],\n",
              "       ['british soul', 11],\n",
              "       ['big room', 10],\n",
              "       ['canadian contemporary r&b', 9],\n",
              "       ['neo mellow', 9],\n",
              "       ['art pop', 8]], dtype=object)"
            ]
          },
          "metadata": {
            "tags": []
          },
          "execution_count": 15
        }
      ]
    },
    {
      "cell_type": "markdown",
      "metadata": {
        "id": "Dz5pzHEDdY0W",
        "colab_type": "text"
      },
      "source": [
        "Now, once again, let's create our plot of the categories.  Again, use a horizontal bar plot (the bars are stacked top to bottom) of the top categories and the related counts."
      ]
    },
    {
      "cell_type": "markdown",
      "metadata": {
        "id": "En6KAqYSdY0X",
        "colab_type": "text"
      },
      "source": [
        "> This time, also add a title to the plot, called `Counts of Genres`, and an x axis title called `counts`."
      ]
    },
    {
      "cell_type": "code",
      "metadata": {
        "id": "kczthheIdY0Y",
        "colab_type": "code",
        "outputId": "d803a115-50e0-4df1-9b9c-2ba9b958614a",
        "colab": {}
      },
      "source": [
        ""
      ],
      "execution_count": 0,
      "outputs": [
        {
          "output_type": "execute_result",
          "data": {
            "text/plain": [
              "<BarContainer object of 8 artists>"
            ]
          },
          "metadata": {
            "tags": []
          },
          "execution_count": 11
        },
        {
          "output_type": "display_data",
          "data": {
            "image/png": "[encoded data removed]",
            "text/plain": [
              "<Figure size 432x288 with 1 Axes>"
            ]
          },
          "metadata": {
            "tags": [],
            "needs_background": "light"
          }
        }
      ]
    },
    {
      "cell_type": "markdown",
      "metadata": {
        "id": "3rkPj6sEdY0a",
        "colab_type": "text"
      },
      "source": [
        "> Answer: <img src=\"https://github.com/jigsawlabs-student/matplotlib/blob/master/genre-counts.png?raw=1\" width=\"50%\">"
      ]
    },
    {
      "cell_type": "markdown",
      "metadata": {
        "id": "_vMLU9hudY0b",
        "colab_type": "text"
      },
      "source": [
        "### Distinguishing dance from non-dance"
      ]
    },
    {
      "cell_type": "markdown",
      "metadata": {
        "id": "pSsEBdKcdY0c",
        "colab_type": "text"
      },
      "source": [
        "> Once again, here are our columns."
      ]
    },
    {
      "cell_type": "code",
      "metadata": {
        "id": "lkmIXBJldY0d",
        "colab_type": "code",
        "outputId": "3b95627e-4f64-497b-c742-6c65ada20729",
        "colab": {}
      },
      "source": [
        "df.columns"
      ],
      "execution_count": 0,
      "outputs": [
        {
          "output_type": "execute_result",
          "data": {
            "text/plain": [
              "Index(['title', 'artist', 'top genre', 'year', 'bpm', 'nrgy', 'dnce', 'dB',\n",
              "       'live', 'val', 'dur', 'acous', 'spch', 'pop'],\n",
              "      dtype='object')"
            ]
          },
          "metadata": {
            "tags": []
          },
          "execution_count": 13
        }
      ]
    },
    {
      "cell_type": "markdown",
      "metadata": {
        "id": "mLxwcVuadY0f",
        "colab_type": "text"
      },
      "source": [
        "Next, let's collect our `dance_pop_songs` and `non_dance_pop_songs`."
      ]
    },
    {
      "cell_type": "code",
      "metadata": {
        "id": "Hlc1rM5XdY0g",
        "colab_type": "code",
        "colab": {}
      },
      "source": [
        "non_dance_pop_songs = songs[~(songs[:, 2] == 'dance pop')]\n",
        "dance_pop_songs = songs[(songs[:, 2] == 'dance pop')]"
      ],
      "execution_count": 0,
      "outputs": []
    },
    {
      "cell_type": "markdown",
      "metadata": {
        "id": "Txd0Ozn9dY0i",
        "colab_type": "text"
      },
      "source": [
        "Ok, now let's plot the histograms of danciness for each, and have 100 bins for the histograms.  Make sure to have a legend that indicates which histogram represents the `dance_pop_songs` and which represents the `non_dance_pop_songs`."
      ]
    },
    {
      "cell_type": "code",
      "metadata": {
        "id": "U42AtAqjdY0j",
        "colab_type": "code",
        "outputId": "89087f09-a13b-470d-f94b-d282c6c35e1c",
        "colab": {}
      },
      "source": [
        "fig = plt.figure()\n",
        "ax = fig.add_subplot(111)\n",
        "ax.hist(dance_pop_songs[:, 6], bins = 100, label = 'dance')\n",
        "ax.hist(non_dance_pop_songs[:, 6], bins = 100, label = 'non dance pop')\n",
        "ax.legend()\n",
        "print('none')"
      ],
      "execution_count": 0,
      "outputs": [
        {
          "output_type": "stream",
          "text": [
            "none\n"
          ],
          "name": "stdout"
        },
        {
          "output_type": "display_data",
          "data": {
            "image/png": "[encoded data removed]",
            "text/plain": [
              "<Figure size 432x288 with 1 Axes>"
            ]
          },
          "metadata": {
            "tags": [],
            "needs_background": "light"
          }
        }
      ]
    },
    {
      "cell_type": "markdown",
      "metadata": {
        "id": "DA8dZCcLdY0m",
        "colab_type": "text"
      },
      "source": [
        "> Answer: <img src=\"https://github.com/jigsawlabs-student/matplotlib/blob/master/dance-v-non.png?raw=1\" width=\"40%\">"
      ]
    },
    {
      "cell_type": "markdown",
      "metadata": {
        "id": "nm-8ejB7dY0n",
        "colab_type": "text"
      },
      "source": [
        "### Relationships between Variables"
      ]
    },
    {
      "cell_type": "code",
      "metadata": {
        "id": "RKN-xTzrdY0n",
        "colab_type": "code",
        "outputId": "49e65419-1441-46e3-cbcc-5a2b255ec0e6",
        "colab": {}
      },
      "source": [
        "df.columns"
      ],
      "execution_count": 0,
      "outputs": [
        {
          "output_type": "execute_result",
          "data": {
            "text/plain": [
              "Index(['title', 'artist', 'top genre', 'year', 'bpm', 'nrgy', 'dnce', 'dB',\n",
              "       'live', 'val', 'dur', 'acous', 'spch', 'pop'],\n",
              "      dtype='object')"
            ]
          },
          "metadata": {
            "tags": []
          },
          "execution_count": 61
        }
      ]
    },
    {
      "cell_type": "markdown",
      "metadata": {
        "id": "WZHZ8R9fdY0r",
        "colab_type": "text"
      },
      "source": [
        "Let's plot `bpm` and `duration` for songs, and have the style of light blue circles.  Set the range on the x axis between 50 and 200."
      ]
    },
    {
      "cell_type": "code",
      "metadata": {
        "id": "z1e-4DyqdY0s",
        "colab_type": "code",
        "colab": {}
      },
      "source": [
        "# "
      ],
      "execution_count": 0,
      "outputs": []
    },
    {
      "cell_type": "markdown",
      "metadata": {
        "id": "QiSPAykOdY0u",
        "colab_type": "text"
      },
      "source": [
        "> Answer: <img src=\"https://github.com/jigsawlabs-student/matplotlib/blob/master/pretty-scatter.png?raw=1\" width=\"40%\">"
      ]
    },
    {
      "cell_type": "markdown",
      "metadata": {
        "id": "A4LSrZMqdY0v",
        "colab_type": "text"
      },
      "source": [
        "Here, there does not appear to be a strong relation."
      ]
    },
    {
      "cell_type": "markdown",
      "metadata": {
        "id": "BZyH1QpOdY0w",
        "colab_type": "text"
      },
      "source": [
        "### Differences in Pop"
      ]
    },
    {
      "cell_type": "markdown",
      "metadata": {
        "id": "LU4GsOxXdY0x",
        "colab_type": "text"
      },
      "source": [
        "Now let's take a look at the different kinds of pop that we have.  First, use *Numpy* and *Python* to select all of the genres that have the word `pop` in them."
      ]
    },
    {
      "cell_type": "code",
      "metadata": {
        "id": "adTbxSCodY0y",
        "colab_type": "code",
        "outputId": "5fd5f9da-0dc7-42ab-d05b-b4ad2751e22a",
        "colab": {}
      },
      "source": [
        "\n",
        "pops = None\n",
        "len(pops)\n",
        "# 18"
      ],
      "execution_count": 0,
      "outputs": [
        {
          "output_type": "execute_result",
          "data": {
            "text/plain": [
              "18"
            ]
          },
          "metadata": {
            "tags": []
          },
          "execution_count": 20
        }
      ]
    },
    {
      "cell_type": "markdown",
      "metadata": {
        "id": "Fv47MLBqdY01",
        "colab_type": "text"
      },
      "source": [
        "Next let's remove the `pop`, `dance pop`, `canadian pop`, and `barbadian pops` as genre, as they either will dominate our graph, or are written by only one artist."
      ]
    },
    {
      "cell_type": "code",
      "metadata": {
        "id": "5HXwL9nadY02",
        "colab_type": "code",
        "outputId": "7646ce78-78ff-422e-8fd0-aa1f41f3e1a7",
        "colab": {}
      },
      "source": [
        "pop_genres.pop(3)"
      ],
      "execution_count": 0,
      "outputs": [
        {
          "output_type": "execute_result",
          "data": {
            "text/plain": [
              "'barbadian pop'"
            ]
          },
          "metadata": {
            "tags": []
          },
          "execution_count": 55
        }
      ]
    },
    {
      "cell_type": "code",
      "metadata": {
        "id": "nj2FboyXdY04",
        "colab_type": "code",
        "outputId": "8f565ab0-92b7-446d-e4c8-df3807466e45",
        "colab": {}
      },
      "source": [
        "pop_genres = pops[:-1]\n",
        "pop_genres.pop(8)\n",
        "pop_genres.pop(5)"
      ],
      "execution_count": 0,
      "outputs": [
        {
          "output_type": "execute_result",
          "data": {
            "text/plain": [
              "'dance pop'"
            ]
          },
          "metadata": {
            "tags": []
          },
          "execution_count": 37
        }
      ]
    },
    {
      "cell_type": "code",
      "metadata": {
        "id": "eYuP8kckdY07",
        "colab_type": "code",
        "colab": {}
      },
      "source": [
        "len(pop_genres)\n",
        "# 14"
      ],
      "execution_count": 0,
      "outputs": []
    },
    {
      "cell_type": "markdown",
      "metadata": {
        "id": "OhzmHyBBdY08",
        "colab_type": "text"
      },
      "source": [
        "First create a method called `select_by_genre()` that allows us to pass in a genre name, and it will retrieve tracks all the tracks in that genre."
      ]
    },
    {
      "cell_type": "code",
      "metadata": {
        "id": "pQ_jfqBDdY09",
        "colab_type": "code",
        "colab": {}
      },
      "source": [
        "def select_by_genre(tracks, genre):\n",
        "    pass"
      ],
      "execution_count": 0,
      "outputs": []
    },
    {
      "cell_type": "markdown",
      "metadata": {
        "id": "iOQKdTEpdY1A",
        "colab_type": "text"
      },
      "source": [
        "> Next let's create a list of tuples, where in each tuple is the genre name in the first element, and an array of the list of genres in the second element."
      ]
    },
    {
      "cell_type": "code",
      "metadata": {
        "id": "YBeQNE2sdY1A",
        "colab_type": "code",
        "colab": {}
      },
      "source": [
        "genre_tracks = [select_by_genre(songs, genre) for genre in pop_genres ]"
      ],
      "execution_count": 0,
      "outputs": []
    },
    {
      "cell_type": "code",
      "metadata": {
        "id": "dFlAxnNCdY1D",
        "colab_type": "code",
        "outputId": "39b15f6f-585a-4478-a807-cf81332fc7a1",
        "colab": {}
      },
      "source": [
        "len(genre_tracks)"
      ],
      "execution_count": 0,
      "outputs": [
        {
          "output_type": "execute_result",
          "data": {
            "text/plain": [
              "14"
            ]
          },
          "metadata": {
            "tags": []
          },
          "execution_count": 58
        }
      ]
    },
    {
      "cell_type": "markdown",
      "metadata": {
        "id": "JnBngZhtdY1F",
        "colab_type": "text"
      },
      "source": [
        "> Finally, let's loop our genre tracks, to create a separate histogram for each genre, all in the same plot."
      ]
    },
    {
      "cell_type": "code",
      "metadata": {
        "id": "es0J5P9ydY1F",
        "colab_type": "code",
        "outputId": "6de3b99d-56af-48c0-aa55-9aca9768512f",
        "colab": {}
      },
      "source": [
        ""
      ],
      "execution_count": 0,
      "outputs": [
        {
          "output_type": "execute_result",
          "data": {
            "text/plain": [
              "<matplotlib.legend.Legend at 0x121e15610>"
            ]
          },
          "metadata": {
            "tags": []
          },
          "execution_count": 60
        },
        {
          "output_type": "display_data",
          "data": {
            "image/png": "[encoded data removed]",
            "text/plain": [
              "<Figure size 432x288 with 1 Axes>"
            ]
          },
          "metadata": {
            "tags": [],
            "needs_background": "light"
          }
        }
      ]
    },
    {
      "cell_type": "markdown",
      "metadata": {
        "id": "7F2qZqehdY1H",
        "colab_type": "text"
      },
      "source": [
        "> Answer:  <img src=\"https://github.com/jigsawlabs-student/matplotlib/blob/master/hist-multi.png?raw=1\" width=\"50%\">\n",
        "\n",
        "> This is a plot of just seven of the fourteen genres."
      ]
    },
    {
      "cell_type": "markdown",
      "metadata": {
        "id": "S7o4Z1m3dY1I",
        "colab_type": "text"
      },
      "source": [
        "### Summary"
      ]
    },
    {
      "cell_type": "markdown",
      "metadata": {
        "id": "ygdo0dksdY1J",
        "colab_type": "text"
      },
      "source": [
        "In this lesson, we got practice styling different plots.  We saw how we can add legends to label our different plots.  We also saw how to changes the ranges on our x and y axis of a plot.  Then we also saw how to change the markers and colors of a plot."
      ]
    }
  ]
}