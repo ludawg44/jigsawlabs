{
  "nbformat": 4,
  "nbformat_minor": 0,
  "metadata": {
    "kernelspec": {
      "display_name": "Python 3",
      "language": "python",
      "name": "python3"
    },
    "language_info": {
      "codemirror_mode": {
        "name": "ipython",
        "version": 3
      },
      "file_extension": ".py",
      "mimetype": "text/x-python",
      "name": "python",
      "nbconvert_exporter": "python",
      "pygments_lexer": "ipython3",
      "version": "3.7.4"
    },
    "colab": {
      "name": "Copy of 2-correlation-and-causation.ipynb",
      "provenance": [],
      "include_colab_link": true
    }
  },
  "cells": [
    {
      "cell_type": "markdown",
      "metadata": {
        "id": "view-in-github",
        "colab_type": "text"
      },
      "source": [
        "<a href=\"https://colab.research.google.com/github/ludawg44/jigsawlabs/blob/master/09Apr20_2_correlation_and_causation.ipynb\" target=\"_parent\"><img src=\"https://colab.research.google.com/assets/colab-badge.svg\" alt=\"Open In Colab\"/></a>"
      ]
    },
    {
      "cell_type": "markdown",
      "metadata": {
        "id": "e6pkjL7_kHOr",
        "colab_type": "text"
      },
      "source": [
        "# Finding Relationships"
      ]
    },
    {
      "cell_type": "markdown",
      "metadata": {
        "id": "OYyAWSk9kHOs",
        "colab_type": "text"
      },
      "source": [
        "### Introduction"
      ]
    },
    {
      "cell_type": "markdown",
      "metadata": {
        "id": "0ucfxmhFkHOt",
        "colab_type": "text"
      },
      "source": [
        "In the last lesson, we spoke about important, yet difficult task of establishing a causal link from an explanatory variable to a target or outcome. "
      ]
    },
    {
      "cell_type": "markdown",
      "metadata": {
        "id": "bJ52Av7GkHOt",
        "colab_type": "text"
      },
      "source": [
        "> An explanatory variable X has a causal link to Y when the value of X effects the value of Y."
      ]
    },
    {
      "cell_type": "markdown",
      "metadata": {
        "id": "iteuO8gnkHOu",
        "colab_type": "text"
      },
      "source": [
        "Now oftentimes the first indication that there may be a causal link between two variables is through correlation.  But as we'll see there are many reasons that a variable may be *correlated* with an outcome, even without causal link to the outcome."
      ]
    },
    {
      "cell_type": "markdown",
      "metadata": {
        "id": "DQnAOQZEkHOv",
        "colab_type": "text"
      },
      "source": [
        "### Correlation"
      ]
    },
    {
      "cell_type": "markdown",
      "metadata": {
        "id": "JYkQUIb1kHOw",
        "colab_type": "text"
      },
      "source": [
        "> **Correlation** There is a correlation between two variables $X$ and $Y$, when knowing the value of one gives you information about the value of another."
      ]
    },
    {
      "cell_type": "markdown",
      "metadata": {
        "id": "fwqwS-WckHOw",
        "colab_type": "text"
      },
      "source": [
        "For example, let's look at a chart of education attainment and income."
      ]
    },
    {
      "cell_type": "code",
      "metadata": {
        "id": "NEPDDlAukHOx",
        "colab_type": "code",
        "colab": {}
      },
      "source": [
        ""
      ],
      "execution_count": 0,
      "outputs": []
    },
    {
      "cell_type": "code",
      "metadata": {
        "id": "SqfqxnQ1kHO0",
        "colab_type": "code",
        "outputId": "0a5f3090-7181-4111-c2b4-7611399618a9",
        "colab": {}
      },
      "source": [
        "import plotly.graph_objects as go\n",
        "education_levels = ['less than HS diploma', 'HS diploma', \"Associate's Deg\", \"Bachelor's Deg\", \"Master's Deg\", \"Prof Deg\", \"Doctoral Deg\"]\n",
        "earnings = [493, 678, 738, 798, 1137, 1341, 1730, 1623]\n",
        "layout = {\n",
        "    'yaxis': {'title': 'median weekly earnings'}, 'title': 'Median weekly earnings per education',\n",
        "    'xaxis': {'title': 'education level'}, \n",
        "}\n",
        "scatter = go.Bar(x = education_levels, y = earnings)\n",
        "go.Figure(scatter, layout = layout)"
      ],
      "execution_count": 0,
      "outputs": [
        {
          "output_type": "display_data",
          "data": {
            "application/vnd.plotly.v1+json": {
              "config": {
                "plotlyServerURL": "https://plot.ly"
              },
              "data": [
                {
                  "type": "bar",
                  "x": [
                    "less than HS diploma",
                    "HS diploma",
                    "Associate's Deg",
                    "Bachelor's Deg",
                    "Master's Deg",
                    "Prof Deg",
                    "Doctoral Deg"
                  ],
                  "y": [
                    493,
                    678,
                    738,
                    798,
                    1137,
                    1341,
                    1730,
                    1623
                  ]
                }
              ],
              "layout": {
                "autosize": true,
                "template": {
                  "data": {
                    "bar": [
                      {
                        "error_x": {
                          "color": "#2a3f5f"
                        },
                        "error_y": {
                          "color": "#2a3f5f"
                        },
                        "marker": {
                          "line": {
                            "color": "#E5ECF6",
                            "width": 0.5
                          }
                        },
                        "type": "bar"
                      }
                    ],
                    "barpolar": [
                      {
                        "marker": {
                          "line": {
                            "color": "#E5ECF6",
                            "width": 0.5
                          }
                        },
                        "type": "barpolar"
                      }
                    ],
                    "carpet": [
                      {
                        "aaxis": {
                          "endlinecolor": "#2a3f5f",
                          "gridcolor": "white",
                          "linecolor": "white",
                          "minorgridcolor": "white",
                          "startlinecolor": "#2a3f5f"
                        },
                        "baxis": {
                          "endlinecolor": "#2a3f5f",
                          "gridcolor": "white",
                          "linecolor": "white",
                          "minorgridcolor": "white",
                          "startlinecolor": "#2a3f5f"
                        },
                        "type": "carpet"
                      }
                    ],
                    "choropleth": [
                      {
                        "colorbar": {
                          "outlinewidth": 0,
                          "ticks": ""
                        },
                        "type": "choropleth"
                      }
                    ],
                    "contour": [
                      {
                        "colorbar": {
                          "outlinewidth": 0,
                          "ticks": ""
                        },
                        "colorscale": [
                          [
                            0,
                            "#0d0887"
                          ],
                          [
                            0.1111111111111111,
                            "#46039f"
                          ],
                          [
                            0.2222222222222222,
                            "#7201a8"
                          ],
                          [
                            0.3333333333333333,
                            "#9c179e"
                          ],
                          [
                            0.4444444444444444,
                            "#bd3786"
                          ],
                          [
                            0.5555555555555556,
                            "#d8576b"
                          ],
                          [
                            0.6666666666666666,
                            "#ed7953"
                          ],
                          [
                            0.7777777777777778,
                            "#fb9f3a"
                          ],
                          [
                            0.8888888888888888,
                            "#fdca26"
                          ],
                          [
                            1,
                            "#f0f921"
                          ]
                        ],
                        "type": "contour"
                      }
                    ],
                    "contourcarpet": [
                      {
                        "colorbar": {
                          "outlinewidth": 0,
                          "ticks": ""
                        },
                        "type": "contourcarpet"
                      }
                    ],
                    "heatmap": [
                      {
                        "colorbar": {
                          "outlinewidth": 0,
                          "ticks": ""
                        },
                        "colorscale": [
                          [
                            0,
                            "#0d0887"
                          ],
                          [
                            0.1111111111111111,
                            "#46039f"
                          ],
                          [
                            0.2222222222222222,
                            "#7201a8"
                          ],
                          [
                            0.3333333333333333,
                            "#9c179e"
                          ],
                          [
                            0.4444444444444444,
                            "#bd3786"
                          ],
                          [
                            0.5555555555555556,
                            "#d8576b"
                          ],
                          [
                            0.6666666666666666,
                            "#ed7953"
                          ],
                          [
                            0.7777777777777778,
                            "#fb9f3a"
                          ],
                          [
                            0.8888888888888888,
                            "#fdca26"
                          ],
                          [
                            1,
                            "#f0f921"
                          ]
                        ],
                        "type": "heatmap"
                      }
                    ],
                    "heatmapgl": [
                      {
                        "colorbar": {
                          "outlinewidth": 0,
                          "ticks": ""
                        },
                        "colorscale": [
                          [
                            0,
                            "#0d0887"
                          ],
                          [
                            0.1111111111111111,
                            "#46039f"
                          ],
                          [
                            0.2222222222222222,
                            "#7201a8"
                          ],
                          [
                            0.3333333333333333,
                            "#9c179e"
                          ],
                          [
                            0.4444444444444444,
                            "#bd3786"
                          ],
                          [
                            0.5555555555555556,
                            "#d8576b"
                          ],
                          [
                            0.6666666666666666,
                            "#ed7953"
                          ],
                          [
                            0.7777777777777778,
                            "#fb9f3a"
                          ],
                          [
                            0.8888888888888888,
                            "#fdca26"
                          ],
                          [
                            1,
                            "#f0f921"
                          ]
                        ],
                        "type": "heatmapgl"
                      }
                    ],
                    "histogram": [
                      {
                        "marker": {
                          "colorbar": {
                            "outlinewidth": 0,
                            "ticks": ""
                          }
                        },
                        "type": "histogram"
                      }
                    ],
                    "histogram2d": [
                      {
                        "colorbar": {
                          "outlinewidth": 0,
                          "ticks": ""
                        },
                        "colorscale": [
                          [
                            0,
                            "#0d0887"
                          ],
                          [
                            0.1111111111111111,
                            "#46039f"
                          ],
                          [
                            0.2222222222222222,
                            "#7201a8"
                          ],
                          [
                            0.3333333333333333,
                            "#9c179e"
                          ],
                          [
                            0.4444444444444444,
                            "#bd3786"
                          ],
                          [
                            0.5555555555555556,
                            "#d8576b"
                          ],
                          [
                            0.6666666666666666,
                            "#ed7953"
                          ],
                          [
                            0.7777777777777778,
                            "#fb9f3a"
                          ],
                          [
                            0.8888888888888888,
                            "#fdca26"
                          ],
                          [
                            1,
                            "#f0f921"
                          ]
                        ],
                        "type": "histogram2d"
                      }
                    ],
                    "histogram2dcontour": [
                      {
                        "colorbar": {
                          "outlinewidth": 0,
                          "ticks": ""
                        },
                        "colorscale": [
                          [
                            0,
                            "#0d0887"
                          ],
                          [
                            0.1111111111111111,
                            "#46039f"
                          ],
                          [
                            0.2222222222222222,
                            "#7201a8"
                          ],
                          [
                            0.3333333333333333,
                            "#9c179e"
                          ],
                          [
                            0.4444444444444444,
                            "#bd3786"
                          ],
                          [
                            0.5555555555555556,
                            "#d8576b"
                          ],
                          [
                            0.6666666666666666,
                            "#ed7953"
                          ],
                          [
                            0.7777777777777778,
                            "#fb9f3a"
                          ],
                          [
                            0.8888888888888888,
                            "#fdca26"
                          ],
                          [
                            1,
                            "#f0f921"
                          ]
                        ],
                        "type": "histogram2dcontour"
                      }
                    ],
                    "mesh3d": [
                      {
                        "colorbar": {
                          "outlinewidth": 0,
                          "ticks": ""
                        },
                        "type": "mesh3d"
                      }
                    ],
                    "parcoords": [
                      {
                        "line": {
                          "colorbar": {
                            "outlinewidth": 0,
                            "ticks": ""
                          }
                        },
                        "type": "parcoords"
                      }
                    ],
                    "pie": [
                      {
                        "automargin": true,
                        "type": "pie"
                      }
                    ],
                    "scatter": [
                      {
                        "marker": {
                          "colorbar": {
                            "outlinewidth": 0,
                            "ticks": ""
                          }
                        },
                        "type": "scatter"
                      }
                    ],
                    "scatter3d": [
                      {
                        "line": {
                          "colorbar": {
                            "outlinewidth": 0,
                            "ticks": ""
                          }
                        },
                        "marker": {
                          "colorbar": {
                            "outlinewidth": 0,
                            "ticks": ""
                          }
                        },
                        "type": "scatter3d"
                      }
                    ],
                    "scattercarpet": [
                      {
                        "marker": {
                          "colorbar": {
                            "outlinewidth": 0,
                            "ticks": ""
                          }
                        },
                        "type": "scattercarpet"
                      }
                    ],
                    "scattergeo": [
                      {
                        "marker": {
                          "colorbar": {
                            "outlinewidth": 0,
                            "ticks": ""
                          }
                        },
                        "type": "scattergeo"
                      }
                    ],
                    "scattergl": [
                      {
                        "marker": {
                          "colorbar": {
                            "outlinewidth": 0,
                            "ticks": ""
                          }
                        },
                        "type": "scattergl"
                      }
                    ],
                    "scattermapbox": [
                      {
                        "marker": {
                          "colorbar": {
                            "outlinewidth": 0,
                            "ticks": ""
                          }
                        },
                        "type": "scattermapbox"
                      }
                    ],
                    "scatterpolar": [
                      {
                        "marker": {
                          "colorbar": {
                            "outlinewidth": 0,
                            "ticks": ""
                          }
                        },
                        "type": "scatterpolar"
                      }
                    ],
                    "scatterpolargl": [
                      {
                        "marker": {
                          "colorbar": {
                            "outlinewidth": 0,
                            "ticks": ""
                          }
                        },
                        "type": "scatterpolargl"
                      }
                    ],
                    "scatterternary": [
                      {
                        "marker": {
                          "colorbar": {
                            "outlinewidth": 0,
                            "ticks": ""
                          }
                        },
                        "type": "scatterternary"
                      }
                    ],
                    "surface": [
                      {
                        "colorbar": {
                          "outlinewidth": 0,
                          "ticks": ""
                        },
                        "colorscale": [
                          [
                            0,
                            "#0d0887"
                          ],
                          [
                            0.1111111111111111,
                            "#46039f"
                          ],
                          [
                            0.2222222222222222,
                            "#7201a8"
                          ],
                          [
                            0.3333333333333333,
                            "#9c179e"
                          ],
                          [
                            0.4444444444444444,
                            "#bd3786"
                          ],
                          [
                            0.5555555555555556,
                            "#d8576b"
                          ],
                          [
                            0.6666666666666666,
                            "#ed7953"
                          ],
                          [
                            0.7777777777777778,
                            "#fb9f3a"
                          ],
                          [
                            0.8888888888888888,
                            "#fdca26"
                          ],
                          [
                            1,
                            "#f0f921"
                          ]
                        ],
                        "type": "surface"
                      }
                    ],
                    "table": [
                      {
                        "cells": {
                          "fill": {
                            "color": "#EBF0F8"
                          },
                          "line": {
                            "color": "white"
                          }
                        },
                        "header": {
                          "fill": {
                            "color": "#C8D4E3"
                          },
                          "line": {
                            "color": "white"
                          }
                        },
                        "type": "table"
                      }
                    ]
                  },
                  "layout": {
                    "annotationdefaults": {
                      "arrowcolor": "#2a3f5f",
                      "arrowhead": 0,
                      "arrowwidth": 1
                    },
                    "coloraxis": {
                      "colorbar": {
                        "outlinewidth": 0,
                        "ticks": ""
                      }
                    },
                    "colorscale": {
                      "diverging": [
                        [
                          0,
                          "#8e0152"
                        ],
                        [
                          0.1,
                          "#c51b7d"
                        ],
                        [
                          0.2,
                          "#de77ae"
                        ],
                        [
                          0.3,
                          "#f1b6da"
                        ],
                        [
                          0.4,
                          "#fde0ef"
                        ],
                        [
                          0.5,
                          "#f7f7f7"
                        ],
                        [
                          0.6,
                          "#e6f5d0"
                        ],
                        [
                          0.7,
                          "#b8e186"
                        ],
                        [
                          0.8,
                          "#7fbc41"
                        ],
                        [
                          0.9,
                          "#4d9221"
                        ],
                        [
                          1,
                          "#276419"
                        ]
                      ],
                      "sequential": [
                        [
                          0,
                          "#0d0887"
                        ],
                        [
                          0.1111111111111111,
                          "#46039f"
                        ],
                        [
                          0.2222222222222222,
                          "#7201a8"
                        ],
                        [
                          0.3333333333333333,
                          "#9c179e"
                        ],
                        [
                          0.4444444444444444,
                          "#bd3786"
                        ],
                        [
                          0.5555555555555556,
                          "#d8576b"
                        ],
                        [
                          0.6666666666666666,
                          "#ed7953"
                        ],
                        [
                          0.7777777777777778,
                          "#fb9f3a"
                        ],
                        [
                          0.8888888888888888,
                          "#fdca26"
                        ],
                        [
                          1,
                          "#f0f921"
                        ]
                      ],
                      "sequentialminus": [
                        [
                          0,
                          "#0d0887"
                        ],
                        [
                          0.1111111111111111,
                          "#46039f"
                        ],
                        [
                          0.2222222222222222,
                          "#7201a8"
                        ],
                        [
                          0.3333333333333333,
                          "#9c179e"
                        ],
                        [
                          0.4444444444444444,
                          "#bd3786"
                        ],
                        [
                          0.5555555555555556,
                          "#d8576b"
                        ],
                        [
                          0.6666666666666666,
                          "#ed7953"
                        ],
                        [
                          0.7777777777777778,
                          "#fb9f3a"
                        ],
                        [
                          0.8888888888888888,
                          "#fdca26"
                        ],
                        [
                          1,
                          "#f0f921"
                        ]
                      ]
                    },
                    "colorway": [
                      "#636efa",
                      "#EF553B",
                      "#00cc96",
                      "#ab63fa",
                      "#FFA15A",
                      "#19d3f3",
                      "#FF6692",
                      "#B6E880",
                      "#FF97FF",
                      "#FECB52"
                    ],
                    "font": {
                      "color": "#2a3f5f"
                    },
                    "geo": {
                      "bgcolor": "white",
                      "lakecolor": "white",
                      "landcolor": "#E5ECF6",
                      "showlakes": true,
                      "showland": true,
                      "subunitcolor": "white"
                    },
                    "hoverlabel": {
                      "align": "left"
                    },
                    "hovermode": "closest",
                    "mapbox": {
                      "style": "light"
                    },
                    "paper_bgcolor": "white",
                    "plot_bgcolor": "#E5ECF6",
                    "polar": {
                      "angularaxis": {
                        "gridcolor": "white",
                        "linecolor": "white",
                        "ticks": ""
                      },
                      "bgcolor": "#E5ECF6",
                      "radialaxis": {
                        "gridcolor": "white",
                        "linecolor": "white",
                        "ticks": ""
                      }
                    },
                    "scene": {
                      "xaxis": {
                        "backgroundcolor": "#E5ECF6",
                        "gridcolor": "white",
                        "gridwidth": 2,
                        "linecolor": "white",
                        "showbackground": true,
                        "ticks": "",
                        "zerolinecolor": "white"
                      },
                      "yaxis": {
                        "backgroundcolor": "#E5ECF6",
                        "gridcolor": "white",
                        "gridwidth": 2,
                        "linecolor": "white",
                        "showbackground": true,
                        "ticks": "",
                        "zerolinecolor": "white"
                      },
                      "zaxis": {
                        "backgroundcolor": "#E5ECF6",
                        "gridcolor": "white",
                        "gridwidth": 2,
                        "linecolor": "white",
                        "showbackground": true,
                        "ticks": "",
                        "zerolinecolor": "white"
                      }
                    },
                    "shapedefaults": {
                      "line": {
                        "color": "#2a3f5f"
                      }
                    },
                    "ternary": {
                      "aaxis": {
                        "gridcolor": "white",
                        "linecolor": "white",
                        "ticks": ""
                      },
                      "baxis": {
                        "gridcolor": "white",
                        "linecolor": "white",
                        "ticks": ""
                      },
                      "bgcolor": "#E5ECF6",
                      "caxis": {
                        "gridcolor": "white",
                        "linecolor": "white",
                        "ticks": ""
                      }
                    },
                    "title": {
                      "x": 0.05
                    },
                    "xaxis": {
                      "automargin": true,
                      "gridcolor": "white",
                      "linecolor": "white",
                      "ticks": "",
                      "title": {
                        "standoff": 15
                      },
                      "zerolinecolor": "white",
                      "zerolinewidth": 2
                    },
                    "yaxis": {
                      "automargin": true,
                      "gridcolor": "white",
                      "linecolor": "white",
                      "ticks": "",
                      "title": {
                        "standoff": 15
                      },
                      "zerolinecolor": "white",
                      "zerolinewidth": 2
                    }
                  }
                },
                "title": {
                  "text": "Median weekly earnings per education"
                },
                "xaxis": {
                  "autorange": true,
                  "range": [
                    -0.5,
                    6.5
                  ],
                  "title": {
                    "text": "education level"
                  },
                  "type": "category"
                },
                "yaxis": {
                  "autorange": true,
                  "range": [
                    0,
                    1821.0526315789473
                  ],
                  "title": {
                    "text": "median weekly earnings"
                  },
                  "type": "linear"
                }
              }
            },
            "image/png": "[encoded data removed]",
            "text/html": [
              "<div>\n",
              "        \n",
              "        \n",
              "            <div id=\"0419dd27-25be-4aa2-bd8f-7ea3b3791fc3\" class=\"plotly-graph-div\" style=\"height:525px; width:100%;\"></div>\n",
              "            <script type=\"text/javascript\">\n",
              "                require([\"plotly\"], function(Plotly) {\n",
              "                    window.PLOTLYENV=window.PLOTLYENV || {};\n",
              "                    \n",
              "                if (document.getElementById(\"0419dd27-25be-4aa2-bd8f-7ea3b3791fc3\")) {\n",
              "                    Plotly.newPlot(\n",
              "                        '0419dd27-25be-4aa2-bd8f-7ea3b3791fc3',\n",
              "                        [{\"type\": \"bar\", \"x\": [\"less than HS diploma\", \"HS diploma\", \"Associate's Deg\", \"Bachelor's Deg\", \"Master's Deg\", \"Prof Deg\", \"Doctoral Deg\"], \"y\": [493, 678, 738, 798, 1137, 1341, 1730, 1623]}],\n",
              "                        {\"template\": {\"data\": {\"bar\": [{\"error_x\": {\"color\": \"#2a3f5f\"}, \"error_y\": {\"color\": \"#2a3f5f\"}, \"marker\": {\"line\": {\"color\": \"#E5ECF6\", \"width\": 0.5}}, \"type\": \"bar\"}], \"barpolar\": [{\"marker\": {\"line\": {\"color\": \"#E5ECF6\", \"width\": 0.5}}, \"type\": \"barpolar\"}], \"carpet\": [{\"aaxis\": {\"endlinecolor\": \"#2a3f5f\", \"gridcolor\": \"white\", \"linecolor\": \"white\", \"minorgridcolor\": \"white\", \"startlinecolor\": \"#2a3f5f\"}, \"baxis\": {\"endlinecolor\": \"#2a3f5f\", \"gridcolor\": \"white\", \"linecolor\": \"white\", \"minorgridcolor\": \"white\", \"startlinecolor\": \"#2a3f5f\"}, \"type\": \"carpet\"}], \"choropleth\": [{\"colorbar\": {\"outlinewidth\": 0, \"ticks\": \"\"}, \"type\": \"choropleth\"}], \"contour\": [{\"colorbar\": {\"outlinewidth\": 0, \"ticks\": \"\"}, \"colorscale\": [[0.0, \"#0d0887\"], [0.1111111111111111, \"#46039f\"], [0.2222222222222222, \"#7201a8\"], [0.3333333333333333, \"#9c179e\"], [0.4444444444444444, \"#bd3786\"], [0.5555555555555556, \"#d8576b\"], [0.6666666666666666, \"#ed7953\"], [0.7777777777777778, \"#fb9f3a\"], [0.8888888888888888, \"#fdca26\"], [1.0, \"#f0f921\"]], \"type\": \"contour\"}], \"contourcarpet\": [{\"colorbar\": {\"outlinewidth\": 0, \"ticks\": \"\"}, \"type\": \"contourcarpet\"}], \"heatmap\": [{\"colorbar\": {\"outlinewidth\": 0, \"ticks\": \"\"}, \"colorscale\": [[0.0, \"#0d0887\"], [0.1111111111111111, \"#46039f\"], [0.2222222222222222, \"#7201a8\"], [0.3333333333333333, \"#9c179e\"], [0.4444444444444444, \"#bd3786\"], [0.5555555555555556, \"#d8576b\"], [0.6666666666666666, \"#ed7953\"], [0.7777777777777778, \"#fb9f3a\"], [0.8888888888888888, \"#fdca26\"], [1.0, \"#f0f921\"]], \"type\": \"heatmap\"}], \"heatmapgl\": [{\"colorbar\": {\"outlinewidth\": 0, \"ticks\": \"\"}, \"colorscale\": [[0.0, \"#0d0887\"], [0.1111111111111111, \"#46039f\"], [0.2222222222222222, \"#7201a8\"], [0.3333333333333333, \"#9c179e\"], [0.4444444444444444, \"#bd3786\"], [0.5555555555555556, \"#d8576b\"], [0.6666666666666666, \"#ed7953\"], [0.7777777777777778, \"#fb9f3a\"], [0.8888888888888888, \"#fdca26\"], [1.0, \"#f0f921\"]], \"type\": \"heatmapgl\"}], \"histogram\": [{\"marker\": {\"colorbar\": {\"outlinewidth\": 0, \"ticks\": \"\"}}, \"type\": \"histogram\"}], \"histogram2d\": [{\"colorbar\": {\"outlinewidth\": 0, \"ticks\": \"\"}, \"colorscale\": [[0.0, \"#0d0887\"], [0.1111111111111111, \"#46039f\"], [0.2222222222222222, \"#7201a8\"], [0.3333333333333333, \"#9c179e\"], [0.4444444444444444, \"#bd3786\"], [0.5555555555555556, \"#d8576b\"], [0.6666666666666666, \"#ed7953\"], [0.7777777777777778, \"#fb9f3a\"], [0.8888888888888888, \"#fdca26\"], [1.0, \"#f0f921\"]], \"type\": \"histogram2d\"}], \"histogram2dcontour\": [{\"colorbar\": {\"outlinewidth\": 0, \"ticks\": \"\"}, \"colorscale\": [[0.0, \"#0d0887\"], [0.1111111111111111, \"#46039f\"], [0.2222222222222222, \"#7201a8\"], [0.3333333333333333, \"#9c179e\"], [0.4444444444444444, \"#bd3786\"], [0.5555555555555556, \"#d8576b\"], [0.6666666666666666, \"#ed7953\"], [0.7777777777777778, \"#fb9f3a\"], [0.8888888888888888, \"#fdca26\"], [1.0, \"#f0f921\"]], \"type\": \"histogram2dcontour\"}], \"mesh3d\": [{\"colorbar\": {\"outlinewidth\": 0, \"ticks\": \"\"}, \"type\": \"mesh3d\"}], \"parcoords\": [{\"line\": {\"colorbar\": {\"outlinewidth\": 0, \"ticks\": \"\"}}, \"type\": \"parcoords\"}], \"pie\": [{\"automargin\": true, \"type\": \"pie\"}], \"scatter\": [{\"marker\": {\"colorbar\": {\"outlinewidth\": 0, \"ticks\": \"\"}}, \"type\": \"scatter\"}], \"scatter3d\": [{\"line\": {\"colorbar\": {\"outlinewidth\": 0, \"ticks\": \"\"}}, \"marker\": {\"colorbar\": {\"outlinewidth\": 0, \"ticks\": \"\"}}, \"type\": \"scatter3d\"}], \"scattercarpet\": [{\"marker\": {\"colorbar\": {\"outlinewidth\": 0, \"ticks\": \"\"}}, \"type\": \"scattercarpet\"}], \"scattergeo\": [{\"marker\": {\"colorbar\": {\"outlinewidth\": 0, \"ticks\": \"\"}}, \"type\": \"scattergeo\"}], \"scattergl\": [{\"marker\": {\"colorbar\": {\"outlinewidth\": 0, \"ticks\": \"\"}}, \"type\": \"scattergl\"}], \"scattermapbox\": [{\"marker\": {\"colorbar\": {\"outlinewidth\": 0, \"ticks\": \"\"}}, \"type\": \"scattermapbox\"}], \"scatterpolar\": [{\"marker\": {\"colorbar\": {\"outlinewidth\": 0, \"ticks\": \"\"}}, \"type\": \"scatterpolar\"}], \"scatterpolargl\": [{\"marker\": {\"colorbar\": {\"outlinewidth\": 0, \"ticks\": \"\"}}, \"type\": \"scatterpolargl\"}], \"scatterternary\": [{\"marker\": {\"colorbar\": {\"outlinewidth\": 0, \"ticks\": \"\"}}, \"type\": \"scatterternary\"}], \"surface\": [{\"colorbar\": {\"outlinewidth\": 0, \"ticks\": \"\"}, \"colorscale\": [[0.0, \"#0d0887\"], [0.1111111111111111, \"#46039f\"], [0.2222222222222222, \"#7201a8\"], [0.3333333333333333, \"#9c179e\"], [0.4444444444444444, \"#bd3786\"], [0.5555555555555556, \"#d8576b\"], [0.6666666666666666, \"#ed7953\"], [0.7777777777777778, \"#fb9f3a\"], [0.8888888888888888, \"#fdca26\"], [1.0, \"#f0f921\"]], \"type\": \"surface\"}], \"table\": [{\"cells\": {\"fill\": {\"color\": \"#EBF0F8\"}, \"line\": {\"color\": \"white\"}}, \"header\": {\"fill\": {\"color\": \"#C8D4E3\"}, \"line\": {\"color\": \"white\"}}, \"type\": \"table\"}]}, \"layout\": {\"annotationdefaults\": {\"arrowcolor\": \"#2a3f5f\", \"arrowhead\": 0, \"arrowwidth\": 1}, \"coloraxis\": {\"colorbar\": {\"outlinewidth\": 0, \"ticks\": \"\"}}, \"colorscale\": {\"diverging\": [[0, \"#8e0152\"], [0.1, \"#c51b7d\"], [0.2, \"#de77ae\"], [0.3, \"#f1b6da\"], [0.4, \"#fde0ef\"], [0.5, \"#f7f7f7\"], [0.6, \"#e6f5d0\"], [0.7, \"#b8e186\"], [0.8, \"#7fbc41\"], [0.9, \"#4d9221\"], [1, \"#276419\"]], \"sequential\": [[0.0, \"#0d0887\"], [0.1111111111111111, \"#46039f\"], [0.2222222222222222, \"#7201a8\"], [0.3333333333333333, \"#9c179e\"], [0.4444444444444444, \"#bd3786\"], [0.5555555555555556, \"#d8576b\"], [0.6666666666666666, \"#ed7953\"], [0.7777777777777778, \"#fb9f3a\"], [0.8888888888888888, \"#fdca26\"], [1.0, \"#f0f921\"]], \"sequentialminus\": [[0.0, \"#0d0887\"], [0.1111111111111111, \"#46039f\"], [0.2222222222222222, \"#7201a8\"], [0.3333333333333333, \"#9c179e\"], [0.4444444444444444, \"#bd3786\"], [0.5555555555555556, \"#d8576b\"], [0.6666666666666666, \"#ed7953\"], [0.7777777777777778, \"#fb9f3a\"], [0.8888888888888888, \"#fdca26\"], [1.0, \"#f0f921\"]]}, \"colorway\": [\"#636efa\", \"#EF553B\", \"#00cc96\", \"#ab63fa\", \"#FFA15A\", \"#19d3f3\", \"#FF6692\", \"#B6E880\", \"#FF97FF\", \"#FECB52\"], \"font\": {\"color\": \"#2a3f5f\"}, \"geo\": {\"bgcolor\": \"white\", \"lakecolor\": \"white\", \"landcolor\": \"#E5ECF6\", \"showlakes\": true, \"showland\": true, \"subunitcolor\": \"white\"}, \"hoverlabel\": {\"align\": \"left\"}, \"hovermode\": \"closest\", \"mapbox\": {\"style\": \"light\"}, \"paper_bgcolor\": \"white\", \"plot_bgcolor\": \"#E5ECF6\", \"polar\": {\"angularaxis\": {\"gridcolor\": \"white\", \"linecolor\": \"white\", \"ticks\": \"\"}, \"bgcolor\": \"#E5ECF6\", \"radialaxis\": {\"gridcolor\": \"white\", \"linecolor\": \"white\", \"ticks\": \"\"}}, \"scene\": {\"xaxis\": {\"backgroundcolor\": \"#E5ECF6\", \"gridcolor\": \"white\", \"gridwidth\": 2, \"linecolor\": \"white\", \"showbackground\": true, \"ticks\": \"\", \"zerolinecolor\": \"white\"}, \"yaxis\": {\"backgroundcolor\": \"#E5ECF6\", \"gridcolor\": \"white\", \"gridwidth\": 2, \"linecolor\": \"white\", \"showbackground\": true, \"ticks\": \"\", \"zerolinecolor\": \"white\"}, \"zaxis\": {\"backgroundcolor\": \"#E5ECF6\", \"gridcolor\": \"white\", \"gridwidth\": 2, \"linecolor\": \"white\", \"showbackground\": true, \"ticks\": \"\", \"zerolinecolor\": \"white\"}}, \"shapedefaults\": {\"line\": {\"color\": \"#2a3f5f\"}}, \"ternary\": {\"aaxis\": {\"gridcolor\": \"white\", \"linecolor\": \"white\", \"ticks\": \"\"}, \"baxis\": {\"gridcolor\": \"white\", \"linecolor\": \"white\", \"ticks\": \"\"}, \"bgcolor\": \"#E5ECF6\", \"caxis\": {\"gridcolor\": \"white\", \"linecolor\": \"white\", \"ticks\": \"\"}}, \"title\": {\"x\": 0.05}, \"xaxis\": {\"automargin\": true, \"gridcolor\": \"white\", \"linecolor\": \"white\", \"ticks\": \"\", \"title\": {\"standoff\": 15}, \"zerolinecolor\": \"white\", \"zerolinewidth\": 2}, \"yaxis\": {\"automargin\": true, \"gridcolor\": \"white\", \"linecolor\": \"white\", \"ticks\": \"\", \"title\": {\"standoff\": 15}, \"zerolinecolor\": \"white\", \"zerolinewidth\": 2}}}, \"title\": {\"text\": \"Median weekly earnings per education\"}, \"xaxis\": {\"title\": {\"text\": \"education level\"}}, \"yaxis\": {\"title\": {\"text\": \"median weekly earnings\"}}},\n",
              "                        {\"responsive\": true}\n",
              "                    ).then(function(){\n",
              "                            \n",
              "var gd = document.getElementById('0419dd27-25be-4aa2-bd8f-7ea3b3791fc3');\n",
              "var x = new MutationObserver(function (mutations, observer) {{\n",
              "        var display = window.getComputedStyle(gd).display;\n",
              "        if (!display || display === 'none') {{\n",
              "            console.log([gd, 'removed!']);\n",
              "            Plotly.purge(gd);\n",
              "            observer.disconnect();\n",
              "        }}\n",
              "}});\n",
              "\n",
              "// Listen for the removal of the full notebook cells\n",
              "var notebookContainer = gd.closest('#notebook-container');\n",
              "if (notebookContainer) {{\n",
              "    x.observe(notebookContainer, {childList: true});\n",
              "}}\n",
              "\n",
              "// Listen for the clearing of the current output cell\n",
              "var outputEl = gd.closest('.output');\n",
              "if (outputEl) {{\n",
              "    x.observe(outputEl, {childList: true});\n",
              "}}\n",
              "\n",
              "                        })\n",
              "                };\n",
              "                });\n",
              "            </script>\n",
              "        </div>"
            ]
          },
          "metadata": {
            "tags": []
          }
        }
      ]
    },
    {
      "cell_type": "markdown",
      "metadata": {
        "id": "C7komKrHkHO3",
        "colab_type": "text"
      },
      "source": [
        "Here, we can see that the amount of education [does correlate](https://www.bls.gov/careeroutlook/2018/data-on-display/education-pays.htm) with an individual's earnings.  That is, if we know the amount of an education an individual has, we change our expectation about how much that person earns.  "
      ]
    },
    {
      "cell_type": "markdown",
      "metadata": {
        "id": "wZd3iZQUkHO3",
        "colab_type": "text"
      },
      "source": [
        "But we do not know if education *causes* a change in the amount of earnings that a person has.  "
      ]
    },
    {
      "cell_type": "markdown",
      "metadata": {
        "id": "p7yATh1MkHO3",
        "colab_type": "text"
      },
      "source": [
        "![](https://mermaid.ink/img/eyJjb2RlIjoiZ3JhcGggTFJcbiAgRWR1Y2F0aW9uIC0uLSBJbmNvbWU7XG4iLCJtZXJtYWlkIjp7InRoZW1lIjoiZGVmYXVsdCJ9LCJ1cGRhdGVFZGl0b3IiOmZhbHNlfQ)"
      ]
    },
    {
      "cell_type": "markdown",
      "metadata": {
        "id": "tsVVc0UrkHO4",
        "colab_type": "text"
      },
      "source": [
        "Because of this, we place a dotted line between the two, without an arrow. "
      ]
    },
    {
      "cell_type": "markdown",
      "metadata": {
        "id": "oL23GUQQkHO4",
        "colab_type": "text"
      },
      "source": [
        "#### 1. Correlation Because Causality"
      ]
    },
    {
      "cell_type": "markdown",
      "metadata": {
        "id": "MGgZsWHokHO5",
        "colab_type": "text"
      },
      "source": [
        "Now if there is causation, that is, if more education causes an increase in income, then we will generally see correlation."
      ]
    },
    {
      "cell_type": "markdown",
      "metadata": {
        "id": "EvzHts7jkHO5",
        "colab_type": "text"
      },
      "source": [
        "$X \\rightarrow Y$"
      ]
    },
    {
      "cell_type": "markdown",
      "metadata": {
        "id": "6pfKWHlHkHO5",
        "colab_type": "text"
      },
      "source": [
        "* $Education$ $\\rightarrow$  $Income$ "
      ]
    },
    {
      "cell_type": "markdown",
      "metadata": {
        "id": "y0pX5CxWkHO6",
        "colab_type": "text"
      },
      "source": [
        "This is consistent with the graph.  As someone learns more, the graph shows an increase in the amount of money.  It also follows a nice story.  As someone learns more, they gain skills which make them more valuable in the workplace."
      ]
    },
    {
      "cell_type": "markdown",
      "metadata": {
        "id": "jwne4bDAkHO6",
        "colab_type": "text"
      },
      "source": [
        "####  2. Correlation From Reverse Causality "
      ]
    },
    {
      "cell_type": "markdown",
      "metadata": {
        "id": "Ks1nyINVkHO6",
        "colab_type": "text"
      },
      "source": [
        "But the correlation between education and income could also be due to reverse causality."
      ]
    },
    {
      "cell_type": "markdown",
      "metadata": {
        "id": "eeXCZEbakHO7",
        "colab_type": "text"
      },
      "source": [
        "**Reverse causality** is when our target effects our explanatory variable.  \n",
        "$X \\leftarrow Y$ "
      ]
    },
    {
      "cell_type": "markdown",
      "metadata": {
        "id": "RcfUOHU5kHO7",
        "colab_type": "text"
      },
      "source": [
        "For example, maybe as a person earns more income, they can afford to pay for more education.  So more income is causing more education.  Notice that if we infer X is causing Y, but really Y is causing X, then if we try to effect X, this will not have an impact on Y."
      ]
    },
    {
      "cell_type": "markdown",
      "metadata": {
        "id": "ikuW6-t0kHO8",
        "colab_type": "text"
      },
      "source": [
        "#### 3. Correlation from Confounding Variable"
      ]
    },
    {
      "cell_type": "markdown",
      "metadata": {
        "id": "I6rfhe5CkHO8",
        "colab_type": "text"
      },
      "source": [
        "<img src=\"https://mermaid.ink/img/eyJjb2RlIjoiZ3JhcGggTFJcbiAgVyAtLT4gWFxuICBXIC0tPiBZXG4iLCJtZXJtYWlkIjp7InRoZW1lIjoiZGVmYXVsdCJ9LCJ1cGRhdGVFZGl0b3IiOmZhbHNlfQ\" width=\"15%\">"
      ]
    },
    {
      "cell_type": "markdown",
      "metadata": {
        "id": "Jo1gov3SkHO8",
        "colab_type": "text"
      },
      "source": [
        "Correlation can also occur when both X and Y are influenced by a common, often unknown cause.  For example, eating ice cream is strongly correlated with the number of drownings.  \n",
        "\n",
        "But it would be wrong to say that ice cream consumption causes drownings. Instead, it's likely that when the temperature rises more people eat ice cream, and more people swim, which leads to a correlation between ice cream and drownings."
      ]
    },
    {
      "cell_type": "markdown",
      "metadata": {
        "id": "2xT2bUM1kHO9",
        "colab_type": "text"
      },
      "source": [
        "* $Temperature \\rightarrow Ice\\ Cream$\n",
        "* $Temperature \\rightarrow Drownings$"
      ]
    },
    {
      "cell_type": "markdown",
      "metadata": {
        "id": "ef9f7zbOkHO9",
        "colab_type": "text"
      },
      "source": [
        "So with a confounding variable, there is an outside factor that is influencing both the explanatory variable and the outcome.  And this is causing the explanatory variable and the outcome to move together."
      ]
    },
    {
      "cell_type": "markdown",
      "metadata": {
        "id": "xJrsHOoSkHO-",
        "colab_type": "text"
      },
      "source": [
        "#### 4. Bidirectional causation\n",
        "\n",
        "With bi-directional causation X is influencing Y and Y is influencing X.  \n",
        "* $X \\rightarrow Y$\n",
        "* $Y \\rightarrow X$\n",
        "\n",
        "Take a look at the chart below."
      ]
    },
    {
      "cell_type": "markdown",
      "metadata": {
        "id": "O_zwz86IkHO-",
        "colab_type": "text"
      },
      "source": [
        "<img src=\"https://github.com/jigsawlabs-student/correlations-to-experiments/blob/master/poverty-food.png?raw=1\" width=\"50%\">"
      ]
    },
    {
      "cell_type": "markdown",
      "metadata": {
        "id": "hirzHOa2kHO_",
        "colab_type": "text"
      },
      "source": [
        "Here an increase in poverty leads to an increase in food stamps.  And one could argue than an increase in food stamps leads to an increase in poverty.  Or it could be the other way."
      ]
    },
    {
      "cell_type": "markdown",
      "metadata": {
        "id": "Ousk-IvlkHO_",
        "colab_type": "text"
      },
      "source": [
        "* $Poverty$  $\\rightarrow$ $More$ $Food $ $Stamps$\n",
        "*  $Poverty$  $\\leftarrow$ $More$ $Food $ $Stamps$\n",
        "\n",
        "> The $Poverty$  $\\leftarrow$ $More$ $Food $ $Stamps$ explanation could be an example of *moral hazard*.  Moral hazard is the lack of incentive to guard against risk where one is protected from its consequences.\n",
        "\n",
        "> The $Poverty$  $\\leftarrow$ $More$ $Food $ $Stamps$ also could be an example of *adverse selection*.  With adverse selection, is when people more at risk are more likely to buy into the policy.  Here, buying in, could be moving to the region that offers protection."
      ]
    },
    {
      "cell_type": "markdown",
      "metadata": {
        "id": "Vcvl4J66kHO_",
        "colab_type": "text"
      },
      "source": [
        "#### 5. Coincidental Correlation"
      ]
    },
    {
      "cell_type": "markdown",
      "metadata": {
        "id": "TCiwelzlkHPA",
        "colab_type": "text"
      },
      "source": [
        "Sometimes there is a strong correlation purely by chance."
      ]
    },
    {
      "cell_type": "markdown",
      "metadata": {
        "id": "Ovq0Y9qskHPA",
        "colab_type": "text"
      },
      "source": [
        "<img src=\"https://github.com/jigsawlabs-student/correlations-to-experiments/blob/master/chart.png?raw=1\" width=\"80%\">"
      ]
    },
    {
      "cell_type": "markdown",
      "metadata": {
        "id": "58K6B1gTkHPB",
        "colab_type": "text"
      },
      "source": [
        "### Summary"
      ]
    },
    {
      "cell_type": "markdown",
      "metadata": {
        "id": "o6Um8jqskHPB",
        "colab_type": "text"
      },
      "source": [
        "In this lesson we saw that just because there is correlation between two variables does not mean that we can infer that our explanatory variable is causing our outcome.  In other words: "
      ]
    },
    {
      "cell_type": "markdown",
      "metadata": {
        "id": "7r9QKSxKkHPC",
        "colab_type": "text"
      },
      "source": [
        "* If we can show:\n",
        "    * $X - - - Y$\n",
        "* This does not mean X causes Y:\n",
        "    * $X \\rightarrow Y$"
      ]
    },
    {
      "cell_type": "markdown",
      "metadata": {
        "id": "fnvBPbbGkHPC",
        "colab_type": "text"
      },
      "source": [
        "Really it could that there's: \n",
        "1. Reverse Causality $X \\leftarrow Y$ \n",
        "\n",
        "2. Confounding Variable <img src=\"https://mermaid.ink/img/eyJjb2RlIjoiZ3JhcGggTFJcbiAgVyAtLT4gWFxuICBXIC0tPiBZXG4iLCJtZXJtYWlkIjp7InRoZW1lIjoiZGVmYXVsdCJ9LCJ1cGRhdGVFZGl0b3IiOmZhbHNlfQ\" width=\"10%\"> "
      ]
    },
    {
      "cell_type": "markdown",
      "metadata": {
        "id": "9ob07u1rkHPD",
        "colab_type": "text"
      },
      "source": [
        "3. Bi-directional causation $X \\rightarrow Y$ and $Y \\rightarrow X$ "
      ]
    },
    {
      "cell_type": "markdown",
      "metadata": {
        "id": "QBl7QOJakHPD",
        "colab_type": "text"
      },
      "source": [
        "4.  Coincidental Correlation $X$, $Y$"
      ]
    },
    {
      "cell_type": "markdown",
      "metadata": {
        "id": "EbD1XrgMkHPE",
        "colab_type": "text"
      },
      "source": [
        "So correlations between two variable are not very useful in explaining causation because there are many ways that we can have a correlation."
      ]
    },
    {
      "cell_type": "markdown",
      "metadata": {
        "id": "F7t2CgqskHPF",
        "colab_type": "text"
      },
      "source": [
        "### Resources"
      ]
    },
    {
      "cell_type": "markdown",
      "metadata": {
        "id": "E7yZswY7kHPF",
        "colab_type": "text"
      },
      "source": [
        "[Steven Levitt -  Becker Brown Bag](https://www.youtube.com/watch?v=2EH1D3nhOGI&t=861s)"
      ]
    },
    {
      "cell_type": "markdown",
      "metadata": {
        "id": "5xmqyFEAkHPF",
        "colab_type": "text"
      },
      "source": [
        "[Calling Bullshit Course](https://www.youtube.com/watch?v=YAAHJm1pi1E&list=PLPnZfvKID1Sje5jWxt-4CSZD7bUI4gSPS&index=12)"
      ]
    },
    {
      "cell_type": "markdown",
      "metadata": {
        "id": "x_fi7w_9kHPG",
        "colab_type": "text"
      },
      "source": [
        "[Smoking and Lung Cancer statistics](http://www-dep.iarc.fr/WHOdb/Graph4p.asp?cancer%5B%5D=80&male=1&country%5B%5D=4220&country%5B%5D=2450&sYear=1950&eYear=2020&stat=3&age_from=1&age_to=18&orientation=1&window=1&grid=1&line=2&moving=1&scale=0&submit=%A0%A0%A0Execute%A0%A0%A0)"
      ]
    },
    {
      "cell_type": "markdown",
      "metadata": {
        "id": "ptTUV7PukHPG",
        "colab_type": "text"
      },
      "source": [
        "[Correlation vs Causation](https://en.wikipedia.org/wiki/Correlation_does_not_imply_causation)"
      ]
    }
  ]
}