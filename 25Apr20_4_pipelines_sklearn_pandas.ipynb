{
  "nbformat": 4,
  "nbformat_minor": 0,
  "metadata": {
    "kernelspec": {
      "display_name": "Python 3",
      "language": "python",
      "name": "python3"
    },
    "language_info": {
      "codemirror_mode": {
        "name": "ipython",
        "version": 3
      },
      "file_extension": ".py",
      "mimetype": "text/x-python",
      "name": "python",
      "nbconvert_exporter": "python",
      "pygments_lexer": "ipython3",
      "version": "3.7.4"
    },
    "colab": {
      "name": "Copy of 4-pipelines-sklearn-pandas.ipynb",
      "provenance": [],
      "include_colab_link": true
    }
  },
  "cells": [
    {
      "cell_type": "markdown",
      "metadata": {
        "id": "view-in-github",
        "colab_type": "text"
      },
      "source": [
        "<a href=\"https://colab.research.google.com/github/ludawg44/jigsawlabs/blob/master/25Apr20_4_pipelines_sklearn_pandas.ipynb\" target=\"_parent\"><img src=\"https://colab.research.google.com/assets/colab-badge.svg\" alt=\"Open In Colab\"/></a>"
      ]
    },
    {
      "cell_type": "markdown",
      "metadata": {
        "id": "sXvANzEt7mvb",
        "colab_type": "text"
      },
      "source": [
        "# Easier Pipelines"
      ]
    },
    {
      "cell_type": "markdown",
      "metadata": {
        "id": "Qph-v2-97mvc",
        "colab_type": "text"
      },
      "source": [
        "### Introduction "
      ]
    },
    {
      "cell_type": "markdown",
      "metadata": {
        "id": "vJCt1gAq7mvd",
        "colab_type": "text"
      },
      "source": [
        "In earlier lessons we saw how we could use pipelines, combined with transformers, to conduct feature engineering.  With pipelines and transformers, we could chain transformations by first defining the pipeline.  "
      ]
    },
    {
      "cell_type": "markdown",
      "metadata": {
        "id": "_Fk5gZIY7mve",
        "colab_type": "text"
      },
      "source": [
        "```python\n",
        "pipeline = Pipeline(steps = [\n",
        "    ('impute', SimpleImputer()),\n",
        "    ('standardize', StandardScaler()),\n",
        "])\n",
        "```"
      ]
    },
    {
      "cell_type": "markdown",
      "metadata": {
        "id": "ZYTElyZq7mve",
        "colab_type": "text"
      },
      "source": [
        "And then fitting the pipeline to the data."
      ]
    },
    {
      "cell_type": "markdown",
      "metadata": {
        "id": "42yzdtS67mvf",
        "colab_type": "text"
      },
      "source": [
        "```python\n",
        "na_numeric_pipeline.fit(na_features_train)\n",
        "```"
      ]
    },
    {
      "cell_type": "markdown",
      "metadata": {
        "id": "pMwgNshC7mvf",
        "colab_type": "text"
      },
      "source": [
        "Followed by transforming the data."
      ]
    },
    {
      "cell_type": "markdown",
      "metadata": {
        "id": "Yg4eH-J67mvf",
        "colab_type": "text"
      },
      "source": [
        "```python\n",
        "transformed_na_features_test = na_numeric_pipeline.transform(na_features_test)\n",
        "```"
      ]
    },
    {
      "cell_type": "markdown",
      "metadata": {
        "id": "FCRFJzbB7mvh",
        "colab_type": "text"
      },
      "source": [
        "In this lesson, we'll learn about using the sklearn pandas library, to do more with pipelines, as well as use an easier interface."
      ]
    },
    {
      "cell_type": "markdown",
      "metadata": {
        "id": "5DnP8x2I7mvi",
        "colab_type": "text"
      },
      "source": [
        "### Making Pipelines Easier"
      ]
    },
    {
      "cell_type": "markdown",
      "metadata": {
        "id": "RP2DoXiw7mvi",
        "colab_type": "text"
      },
      "source": [
        "After a few lessons with transformers and pipelines, we still may have not grown to love them.  One of the downsides of pipelines is that we are not returned a pandas dataframe, but rather a numpy array.  This makes it difficult to check that we transformed our data properly, or place our transformations in context."
      ]
    },
    {
      "cell_type": "markdown",
      "metadata": {
        "id": "1YcZ62g_7mvi",
        "colab_type": "text"
      },
      "source": [
        "Another difficulty with pipelines is applying different transformations to different columns.  \n",
        "> Notice that so far, we made the same transformations to all columns.\n",
        "\n",
        "Because of this, we'll be working with the `sklearn-pandas` library, which has an easier interface."
      ]
    },
    {
      "cell_type": "markdown",
      "metadata": {
        "id": "2mVoGUOw7mvj",
        "colab_type": "text"
      },
      "source": [
        "### Using Sklearn Pandas"
      ]
    },
    {
      "cell_type": "markdown",
      "metadata": {
        "id": "Ekxodfgp7mvj",
        "colab_type": "text"
      },
      "source": [
        "Let's learn about the sklearn-pandas library by way of example.\n",
        "\n",
        "This is our data."
      ]
    },
    {
      "cell_type": "code",
      "metadata": {
        "id": "wO2l-1-m7mvk",
        "colab_type": "code",
        "colab": {}
      },
      "source": [
        "import pandas as pd\n",
        "url = \"https://raw.githubusercontent.com/jigsawlabs-student/pipelines-and-transformers/master/nyc_hs_sat.csv\"\n",
        "hs_df = pd.read_csv(url, index_col = 0)"
      ],
      "execution_count": 0,
      "outputs": []
    },
    {
      "cell_type": "code",
      "metadata": {
        "id": "dXwid6D77mvn",
        "colab_type": "code",
        "outputId": "395946c1-da1b-446e-94b3-8660fc688a0b",
        "colab": {
          "base_uri": "https://localhost:8080/",
          "height": 279
        }
      },
      "source": [
        "hs_df[:3]"
      ],
      "execution_count": 0,
      "outputs": [
        {
          "output_type": "execute_result",
          "data": {
            "text/html": [
              "<div>\n",
              "<style scoped>\n",
              "    .dataframe tbody tr th:only-of-type {\n",
              "        vertical-align: middle;\n",
              "    }\n",
              "\n",
              "    .dataframe tbody tr th {\n",
              "        vertical-align: top;\n",
              "    }\n",
              "\n",
              "    .dataframe thead th {\n",
              "        text-align: right;\n",
              "    }\n",
              "</style>\n",
              "<table border=\"1\" class=\"dataframe\">\n",
              "  <thead>\n",
              "    <tr style=\"text-align: right;\">\n",
              "      <th></th>\n",
              "      <th>dbn</th>\n",
              "      <th>name</th>\n",
              "      <th>num_test_takers</th>\n",
              "      <th>reading_avg</th>\n",
              "      <th>math_avg</th>\n",
              "      <th>writing_score</th>\n",
              "      <th>boro</th>\n",
              "      <th>total_students</th>\n",
              "      <th>graduation_rate</th>\n",
              "      <th>attendance_rate</th>\n",
              "      <th>college_career_rate</th>\n",
              "    </tr>\n",
              "  </thead>\n",
              "  <tbody>\n",
              "    <tr>\n",
              "      <th>0</th>\n",
              "      <td>01M292</td>\n",
              "      <td>HENRY STREET SCHOOL FOR INTERNATIONAL STUDIES</td>\n",
              "      <td>29.0</td>\n",
              "      <td>355.0</td>\n",
              "      <td>404.0</td>\n",
              "      <td>363.0</td>\n",
              "      <td>M</td>\n",
              "      <td>171</td>\n",
              "      <td>0.66</td>\n",
              "      <td>0.87</td>\n",
              "      <td>0.36</td>\n",
              "    </tr>\n",
              "    <tr>\n",
              "      <th>1</th>\n",
              "      <td>01M448</td>\n",
              "      <td>UNIVERSITY NEIGHBORHOOD HIGH SCHOOL</td>\n",
              "      <td>91.0</td>\n",
              "      <td>383.0</td>\n",
              "      <td>423.0</td>\n",
              "      <td>366.0</td>\n",
              "      <td>M</td>\n",
              "      <td>465</td>\n",
              "      <td>0.90</td>\n",
              "      <td>0.93</td>\n",
              "      <td>0.70</td>\n",
              "    </tr>\n",
              "    <tr>\n",
              "      <th>2</th>\n",
              "      <td>01M450</td>\n",
              "      <td>EAST SIDE COMMUNITY SCHOOL</td>\n",
              "      <td>70.0</td>\n",
              "      <td>377.0</td>\n",
              "      <td>402.0</td>\n",
              "      <td>370.0</td>\n",
              "      <td>M</td>\n",
              "      <td>683</td>\n",
              "      <td>0.92</td>\n",
              "      <td>0.94</td>\n",
              "      <td>0.77</td>\n",
              "    </tr>\n",
              "  </tbody>\n",
              "</table>\n",
              "</div>"
            ],
            "text/plain": [
              "      dbn  ... college_career_rate\n",
              "0  01M292  ...                0.36\n",
              "1  01M448  ...                0.70\n",
              "2  01M450  ...                0.77\n",
              "\n",
              "[3 rows x 11 columns]"
            ]
          },
          "metadata": {
            "tags": []
          },
          "execution_count": 2
        }
      ]
    },
    {
      "cell_type": "markdown",
      "metadata": {
        "id": "j7NaG1xv7mvq",
        "colab_type": "text"
      },
      "source": [
        "Ok, now let's see how we can apply our transformation of imputing the data, this time with `sklearn_pandas`."
      ]
    },
    {
      "cell_type": "code",
      "metadata": {
        "id": "OwEJ7y0z7mvq",
        "colab_type": "code",
        "colab": {}
      },
      "source": [
        "from sklearn_pandas import DataFrameMapper\n",
        "from sklearn.impute import SimpleImputer"
      ],
      "execution_count": 0,
      "outputs": []
    },
    {
      "cell_type": "code",
      "metadata": {
        "id": "yh-JBE2f7mvs",
        "colab_type": "code",
        "colab": {}
      },
      "source": [
        "data_mapper = DataFrameMapper([\n",
        "     (['graduation_rate'], SimpleImputer()),\n",
        "], df_out = True)"
      ],
      "execution_count": 0,
      "outputs": []
    },
    {
      "cell_type": "code",
      "metadata": {
        "id": "8-_7auz_7mvv",
        "colab_type": "code",
        "outputId": "35c4e4d2-7631-47d3-d5b0-8f911521f8f7",
        "colab": {
          "base_uri": "https://localhost:8080/",
          "height": 138
        }
      },
      "source": [
        "transformed = data_mapper.fit_transform(hs_df)\n",
        "transformed[:3]"
      ],
      "execution_count": 0,
      "outputs": [
        {
          "output_type": "execute_result",
          "data": {
            "text/html": [
              "<div>\n",
              "<style scoped>\n",
              "    .dataframe tbody tr th:only-of-type {\n",
              "        vertical-align: middle;\n",
              "    }\n",
              "\n",
              "    .dataframe tbody tr th {\n",
              "        vertical-align: top;\n",
              "    }\n",
              "\n",
              "    .dataframe thead th {\n",
              "        text-align: right;\n",
              "    }\n",
              "</style>\n",
              "<table border=\"1\" class=\"dataframe\">\n",
              "  <thead>\n",
              "    <tr style=\"text-align: right;\">\n",
              "      <th></th>\n",
              "      <th>graduation_rate</th>\n",
              "    </tr>\n",
              "  </thead>\n",
              "  <tbody>\n",
              "    <tr>\n",
              "      <th>0</th>\n",
              "      <td>0.66</td>\n",
              "    </tr>\n",
              "    <tr>\n",
              "      <th>1</th>\n",
              "      <td>0.90</td>\n",
              "    </tr>\n",
              "    <tr>\n",
              "      <th>2</th>\n",
              "      <td>0.92</td>\n",
              "    </tr>\n",
              "  </tbody>\n",
              "</table>\n",
              "</div>"
            ],
            "text/plain": [
              "   graduation_rate\n",
              "0             0.66\n",
              "1             0.90\n",
              "2             0.92"
            ]
          },
          "metadata": {
            "tags": []
          },
          "execution_count": 5
        }
      ]
    },
    {
      "cell_type": "markdown",
      "metadata": {
        "id": "VJhB5oZo7mvy",
        "colab_type": "text"
      },
      "source": [
        "Let's break how this worked."
      ]
    },
    {
      "cell_type": "markdown",
      "metadata": {
        "id": "9Nf69dQu7mvy",
        "colab_type": "text"
      },
      "source": [
        "This time, instead of a initializing a Pipeline, we initialized a `DataFrameMapper`.  Like our Pipeline, this takes a list of steps, where each step is a tuple.  One difference is that in the tuple's first element, we specify each column we wish to transform.  \n",
        "\n",
        "For example, we specified the `graduation_rate` column like so:"
      ]
    },
    {
      "cell_type": "markdown",
      "metadata": {
        "id": "8-4ooGk-7mvz",
        "colab_type": "text"
      },
      "source": [
        "```python\n",
        "(['graduation_rate'], SimpleImputer())\n",
        "```"
      ]
    },
    {
      "cell_type": "markdown",
      "metadata": {
        "id": "-tdR2zmd7mvz",
        "colab_type": "text"
      },
      "source": [
        "We also specified that we want our DataFrameMapper to return a dataframe.  We did this with the argument `df_out = True`."
      ]
    },
    {
      "cell_type": "markdown",
      "metadata": {
        "id": "Mt7BkN-97mvz",
        "colab_type": "text"
      },
      "source": [
        "```python\n",
        "data_mapper = DataFrameMapper([\n",
        "     (['graduation_rate'], SimpleImputer()),\n",
        "], df_out = True)\n",
        "```"
      ]
    },
    {
      "cell_type": "markdown",
      "metadata": {
        "id": "OBF9oXjE7mv0",
        "colab_type": "text"
      },
      "source": [
        "Now let's look at where we fit our data mapper and transformed our data."
      ]
    },
    {
      "cell_type": "markdown",
      "metadata": {
        "id": "Q11E3EUg7mv0",
        "colab_type": "text"
      },
      "source": [
        "```python\n",
        "transformed = data_mapper.fit_transform(hs_df)\n",
        "```"
      ]
    },
    {
      "cell_type": "markdown",
      "metadata": {
        "id": "waOl-VFV7mv0",
        "colab_type": "text"
      },
      "source": [
        "Notice that because with a `DataFrameMapper`, we specify the columns to transform, this time we passed through the *entire* dataframe, `hs_df` and had our `DataFrameMapper` fit to the column and apply the change."
      ]
    },
    {
      "cell_type": "markdown",
      "metadata": {
        "id": "8LA_nDlQ7mv1",
        "colab_type": "text"
      },
      "source": [
        "### Aliases"
      ]
    },
    {
      "cell_type": "markdown",
      "metadata": {
        "id": "n8aM4gLG7mv1",
        "colab_type": "text"
      },
      "source": [
        "Sometimes we may want to select one column from our dataframe, but then rename the column.  We can do this with an `alias`.  For example, below we'll impute the data from our `graduation_rate` column and return `imputed_grad_rate` as the name of the column. "
      ]
    },
    {
      "cell_type": "code",
      "metadata": {
        "id": "ESzCPTHH7mv2",
        "colab_type": "code",
        "outputId": "9ce9460a-facc-4369-d2c3-d451d462ae2d",
        "colab": {}
      },
      "source": [
        "data_mapper = DataFrameMapper([\n",
        "     (['graduation_rate'], SimpleImputer(), {'alias': 'imputed_grad_rate'}),\n",
        "], df_out = True)\n",
        "transformed = data_mapper.fit_transform(hs_df)\n",
        "transformed[:2]"
      ],
      "execution_count": 0,
      "outputs": [
        {
          "output_type": "execute_result",
          "data": {
            "text/html": [
              "<div>\n",
              "<style scoped>\n",
              "    .dataframe tbody tr th:only-of-type {\n",
              "        vertical-align: middle;\n",
              "    }\n",
              "\n",
              "    .dataframe tbody tr th {\n",
              "        vertical-align: top;\n",
              "    }\n",
              "\n",
              "    .dataframe thead th {\n",
              "        text-align: right;\n",
              "    }\n",
              "</style>\n",
              "<table border=\"1\" class=\"dataframe\">\n",
              "  <thead>\n",
              "    <tr style=\"text-align: right;\">\n",
              "      <th></th>\n",
              "      <th>imputed_grad_rate</th>\n",
              "    </tr>\n",
              "  </thead>\n",
              "  <tbody>\n",
              "    <tr>\n",
              "      <th>0</th>\n",
              "      <td>0.66</td>\n",
              "    </tr>\n",
              "    <tr>\n",
              "      <th>1</th>\n",
              "      <td>0.90</td>\n",
              "    </tr>\n",
              "  </tbody>\n",
              "</table>\n",
              "</div>"
            ],
            "text/plain": [
              "   imputed_grad_rate\n",
              "0               0.66\n",
              "1               0.90"
            ]
          },
          "metadata": {
            "tags": []
          },
          "execution_count": 13
        }
      ]
    },
    {
      "cell_type": "markdown",
      "metadata": {
        "id": "v6E8erI47mv5",
        "colab_type": "text"
      },
      "source": [
        "So we do so by adding a third element, which is a dictionary with a key of `alias`."
      ]
    },
    {
      "cell_type": "markdown",
      "metadata": {
        "id": "_q5FzfkZ7mv5",
        "colab_type": "text"
      },
      "source": [
        "### Applying multiple changes"
      ]
    },
    {
      "cell_type": "markdown",
      "metadata": {
        "id": "HIr_Di7N7mv6",
        "colab_type": "text"
      },
      "source": [
        "We can apply multiple transformations to the same column by making the second argument a list of Transformers:"
      ]
    },
    {
      "cell_type": "code",
      "metadata": {
        "id": "Kb7FSqn77mv6",
        "colab_type": "code",
        "outputId": "44656d51-352c-452c-85f1-0654835f8883",
        "colab": {}
      },
      "source": [
        "from sklearn.preprocessing import StandardScaler\n",
        "mapper = DataFrameMapper([\n",
        "     (['graduation_rate'], [SimpleImputer(), StandardScaler()]),\n",
        "], df_out = True)\n",
        "\n",
        "transformed_two = mapper.fit_transform(hs_df)\n",
        "transformed_two[:3]"
      ],
      "execution_count": 0,
      "outputs": [
        {
          "output_type": "execute_result",
          "data": {
            "text/html": [
              "<div>\n",
              "<style scoped>\n",
              "    .dataframe tbody tr th:only-of-type {\n",
              "        vertical-align: middle;\n",
              "    }\n",
              "\n",
              "    .dataframe tbody tr th {\n",
              "        vertical-align: top;\n",
              "    }\n",
              "\n",
              "    .dataframe thead th {\n",
              "        text-align: right;\n",
              "    }\n",
              "</style>\n",
              "<table border=\"1\" class=\"dataframe\">\n",
              "  <thead>\n",
              "    <tr style=\"text-align: right;\">\n",
              "      <th></th>\n",
              "      <th>graduation_rate</th>\n",
              "    </tr>\n",
              "  </thead>\n",
              "  <tbody>\n",
              "    <tr>\n",
              "      <th>0</th>\n",
              "      <td>-0.975975</td>\n",
              "    </tr>\n",
              "    <tr>\n",
              "      <th>1</th>\n",
              "      <td>0.804365</td>\n",
              "    </tr>\n",
              "    <tr>\n",
              "      <th>2</th>\n",
              "      <td>0.952727</td>\n",
              "    </tr>\n",
              "  </tbody>\n",
              "</table>\n",
              "</div>"
            ],
            "text/plain": [
              "   graduation_rate\n",
              "0        -0.975975\n",
              "1         0.804365\n",
              "2         0.952727"
            ]
          },
          "metadata": {
            "tags": []
          },
          "execution_count": 20
        }
      ]
    },
    {
      "cell_type": "markdown",
      "metadata": {
        "id": "D1E33uvJ7mv9",
        "colab_type": "text"
      },
      "source": [
        "So we can see that changed our `graduation_rate` data to be in z-scores."
      ]
    },
    {
      "cell_type": "markdown",
      "metadata": {
        "id": "Vfmsj_YG7mv9",
        "colab_type": "text"
      },
      "source": [
        "### Adding new columns"
      ]
    },
    {
      "cell_type": "markdown",
      "metadata": {
        "id": "y3l70zkf7mv9",
        "colab_type": "text"
      },
      "source": [
        "The last change we can show is how to add additional columns to our dataframe.  For example, we generally handle missing data not just by imputing the mean, but also by adding a new column to indicate if the data is missing.  Let's see how we can do this with the `DataFrameMapper`.   "
      ]
    },
    {
      "cell_type": "code",
      "metadata": {
        "id": "97EG5vRJ7mv-",
        "colab_type": "code",
        "colab": {}
      },
      "source": [
        "from sklearn.impute import MissingIndicator"
      ],
      "execution_count": 0,
      "outputs": []
    },
    {
      "cell_type": "code",
      "metadata": {
        "id": "BWSjoZNt7mwA",
        "colab_type": "code",
        "colab": {}
      },
      "source": [
        "mapper = DataFrameMapper([\n",
        "     (['graduation_rate'], [SimpleImputer()]),\n",
        "    (['graduation_rate'], [MissingIndicator()], {'alias': 'grad_rate_is_na'}),\n",
        "], df_out = True)"
      ],
      "execution_count": 0,
      "outputs": []
    },
    {
      "cell_type": "code",
      "metadata": {
        "id": "O26p4Ivw7mwC",
        "colab_type": "code",
        "outputId": "7ff85102-c053-46d4-8607-b0eba0622f52",
        "colab": {
          "base_uri": "https://localhost:8080/",
          "height": 138
        }
      },
      "source": [
        "transformed_three = mapper.fit_transform(hs_df)\n",
        "transformed_three[:3]"
      ],
      "execution_count": 0,
      "outputs": [
        {
          "output_type": "execute_result",
          "data": {
            "text/html": [
              "<div>\n",
              "<style scoped>\n",
              "    .dataframe tbody tr th:only-of-type {\n",
              "        vertical-align: middle;\n",
              "    }\n",
              "\n",
              "    .dataframe tbody tr th {\n",
              "        vertical-align: top;\n",
              "    }\n",
              "\n",
              "    .dataframe thead th {\n",
              "        text-align: right;\n",
              "    }\n",
              "</style>\n",
              "<table border=\"1\" class=\"dataframe\">\n",
              "  <thead>\n",
              "    <tr style=\"text-align: right;\">\n",
              "      <th></th>\n",
              "      <th>graduation_rate</th>\n",
              "      <th>grad_rate_is_na</th>\n",
              "    </tr>\n",
              "  </thead>\n",
              "  <tbody>\n",
              "    <tr>\n",
              "      <th>0</th>\n",
              "      <td>0.66</td>\n",
              "      <td>False</td>\n",
              "    </tr>\n",
              "    <tr>\n",
              "      <th>1</th>\n",
              "      <td>0.90</td>\n",
              "      <td>False</td>\n",
              "    </tr>\n",
              "    <tr>\n",
              "      <th>2</th>\n",
              "      <td>0.92</td>\n",
              "      <td>False</td>\n",
              "    </tr>\n",
              "  </tbody>\n",
              "</table>\n",
              "</div>"
            ],
            "text/plain": [
              "   graduation_rate  grad_rate_is_na\n",
              "0             0.66            False\n",
              "1             0.90            False\n",
              "2             0.92            False"
            ]
          },
          "metadata": {
            "tags": []
          },
          "execution_count": 8
        }
      ]
    },
    {
      "cell_type": "markdown",
      "metadata": {
        "id": "yAPZmoKB7mwE",
        "colab_type": "text"
      },
      "source": [
        "> Note that we added an alias to the second column, to avoid overriding our initial `graduation_rate` column."
      ]
    },
    {
      "cell_type": "markdown",
      "metadata": {
        "id": "lKRzokDH7mwF",
        "colab_type": "text"
      },
      "source": [
        "### Keeping Columns"
      ]
    },
    {
      "cell_type": "markdown",
      "metadata": {
        "id": "SBXMX1hH7mwG",
        "colab_type": "text"
      },
      "source": [
        "Notice that when we use the DataFrameMapper it only returns the columns that we specified.  What if we want to hold only to columns but not make a transformation.  Well we can specify any other columns we want to return like so."
      ]
    },
    {
      "cell_type": "code",
      "metadata": {
        "id": "YufO9Hxr7mwG",
        "colab_type": "code",
        "outputId": "f6da4105-86f2-4e37-9c11-e38401b8acc6",
        "colab": {
          "base_uri": "https://localhost:8080/",
          "height": 86
        }
      },
      "source": [
        "hs_df.columns"
      ],
      "execution_count": 0,
      "outputs": [
        {
          "output_type": "execute_result",
          "data": {
            "text/plain": [
              "Index(['dbn', 'name', 'num_test_takers', 'reading_avg', 'math_avg',\n",
              "       'writing_score', 'boro', 'total_students', 'graduation_rate',\n",
              "       'attendance_rate', 'college_career_rate'],\n",
              "      dtype='object')"
            ]
          },
          "metadata": {
            "tags": []
          },
          "execution_count": 9
        }
      ]
    },
    {
      "cell_type": "code",
      "metadata": {
        "id": "hXC1-NQD7mwJ",
        "colab_type": "code",
        "colab": {}
      },
      "source": [
        "from sklearn_pandas import DataFrameMapper\n",
        "from sklearn.impute import SimpleImputer, MissingIndicator\n",
        "mapper = DataFrameMapper([\n",
        "    (['writing_score'], None),\n",
        "     (['graduation_rate'], [SimpleImputer()]),\n",
        "    (['graduation_rate'], [MissingIndicator()], {'alias': 'grad_rate_is_na'}),\n",
        "], df_out = True)"
      ],
      "execution_count": 0,
      "outputs": []
    },
    {
      "cell_type": "code",
      "metadata": {
        "id": "zJht_hbA7mwL",
        "colab_type": "code",
        "outputId": "444723fc-8f73-4511-e30a-e29e2de27eb1",
        "colab": {}
      },
      "source": [
        "with_writing_df = mapper.fit_transform(hs_df)\n",
        "with_writing_df[:2]"
      ],
      "execution_count": 0,
      "outputs": [
        {
          "output_type": "execute_result",
          "data": {
            "text/html": [
              "<div>\n",
              "<style scoped>\n",
              "    .dataframe tbody tr th:only-of-type {\n",
              "        vertical-align: middle;\n",
              "    }\n",
              "\n",
              "    .dataframe tbody tr th {\n",
              "        vertical-align: top;\n",
              "    }\n",
              "\n",
              "    .dataframe thead th {\n",
              "        text-align: right;\n",
              "    }\n",
              "</style>\n",
              "<table border=\"1\" class=\"dataframe\">\n",
              "  <thead>\n",
              "    <tr style=\"text-align: right;\">\n",
              "      <th></th>\n",
              "      <th>writing_score</th>\n",
              "      <th>graduation_rate</th>\n",
              "      <th>grad_rate_is_na</th>\n",
              "    </tr>\n",
              "  </thead>\n",
              "  <tbody>\n",
              "    <tr>\n",
              "      <th>0</th>\n",
              "      <td>363.0</td>\n",
              "      <td>0.66</td>\n",
              "      <td>False</td>\n",
              "    </tr>\n",
              "    <tr>\n",
              "      <th>1</th>\n",
              "      <td>366.0</td>\n",
              "      <td>0.90</td>\n",
              "      <td>False</td>\n",
              "    </tr>\n",
              "  </tbody>\n",
              "</table>\n",
              "</div>"
            ],
            "text/plain": [
              "   writing_score  graduation_rate  grad_rate_is_na\n",
              "0          363.0             0.66            False\n",
              "1          366.0             0.90            False"
            ]
          },
          "metadata": {
            "tags": []
          },
          "execution_count": 14
        }
      ]
    },
    {
      "cell_type": "markdown",
      "metadata": {
        "id": "15L6s12Q7mwM",
        "colab_type": "text"
      },
      "source": [
        "So notice that here we did not impute any missing values, or make any transformations, we simpy specified to return the `writing_score` column, and added None as the second argument in the step.\n",
        "\n",
        "If we want to change the default behavior to return **all** columns not specified, we can do that too."
      ]
    },
    {
      "cell_type": "code",
      "metadata": {
        "id": "O0sPSPWW7mwN",
        "colab_type": "code",
        "colab": {}
      },
      "source": [
        "from sklearn_pandas import DataFrameMapper\n",
        "from sklearn.impute import SimpleImputer, MissingIndicator\n",
        "default_all_mapper = DataFrameMapper([\n",
        "     (['graduation_rate'], [SimpleImputer()]),\n",
        "    (['graduation_rate'], [MissingIndicator()], {'alias': 'grad_rate_is_na'}),\n",
        "], default = None, df_out = True)"
      ],
      "execution_count": 0,
      "outputs": []
    },
    {
      "cell_type": "code",
      "metadata": {
        "id": "OZb591a97mwP",
        "colab_type": "code",
        "outputId": "35eef3e3-b9bc-493d-e29f-924386f33475",
        "colab": {}
      },
      "source": [
        "default_return = default_all_mapper.fit_transform(hs_df)\n",
        "default_return[:2]"
      ],
      "execution_count": 0,
      "outputs": [
        {
          "output_type": "execute_result",
          "data": {
            "text/html": [
              "<div>\n",
              "<style scoped>\n",
              "    .dataframe tbody tr th:only-of-type {\n",
              "        vertical-align: middle;\n",
              "    }\n",
              "\n",
              "    .dataframe tbody tr th {\n",
              "        vertical-align: top;\n",
              "    }\n",
              "\n",
              "    .dataframe thead th {\n",
              "        text-align: right;\n",
              "    }\n",
              "</style>\n",
              "<table border=\"1\" class=\"dataframe\">\n",
              "  <thead>\n",
              "    <tr style=\"text-align: right;\">\n",
              "      <th></th>\n",
              "      <th>graduation_rate</th>\n",
              "      <th>grad_rate_is_na</th>\n",
              "      <th>dbn</th>\n",
              "      <th>name</th>\n",
              "      <th>num_test_takers</th>\n",
              "      <th>reading_avg</th>\n",
              "      <th>math_avg</th>\n",
              "      <th>writing_score</th>\n",
              "      <th>boro</th>\n",
              "      <th>total_students</th>\n",
              "      <th>attendance_rate</th>\n",
              "      <th>college_career_rate</th>\n",
              "    </tr>\n",
              "  </thead>\n",
              "  <tbody>\n",
              "    <tr>\n",
              "      <th>0</th>\n",
              "      <td>0.66</td>\n",
              "      <td>False</td>\n",
              "      <td>01M292</td>\n",
              "      <td>HENRY STREET SCHOOL FOR INTERNATIONAL STUDIES</td>\n",
              "      <td>29</td>\n",
              "      <td>355</td>\n",
              "      <td>404</td>\n",
              "      <td>363</td>\n",
              "      <td>M</td>\n",
              "      <td>171</td>\n",
              "      <td>0.87</td>\n",
              "      <td>0.36</td>\n",
              "    </tr>\n",
              "    <tr>\n",
              "      <th>1</th>\n",
              "      <td>0.90</td>\n",
              "      <td>False</td>\n",
              "      <td>01M448</td>\n",
              "      <td>UNIVERSITY NEIGHBORHOOD HIGH SCHOOL</td>\n",
              "      <td>91</td>\n",
              "      <td>383</td>\n",
              "      <td>423</td>\n",
              "      <td>366</td>\n",
              "      <td>M</td>\n",
              "      <td>465</td>\n",
              "      <td>0.93</td>\n",
              "      <td>0.7</td>\n",
              "    </tr>\n",
              "  </tbody>\n",
              "</table>\n",
              "</div>"
            ],
            "text/plain": [
              "   graduation_rate  grad_rate_is_na     dbn  \\\n",
              "0             0.66            False  01M292   \n",
              "1             0.90            False  01M448   \n",
              "\n",
              "                                            name num_test_takers reading_avg  \\\n",
              "0  HENRY STREET SCHOOL FOR INTERNATIONAL STUDIES              29         355   \n",
              "1            UNIVERSITY NEIGHBORHOOD HIGH SCHOOL              91         383   \n",
              "\n",
              "  math_avg writing_score boro total_students attendance_rate  \\\n",
              "0      404           363    M            171            0.87   \n",
              "1      423           366    M            465            0.93   \n",
              "\n",
              "  college_career_rate  \n",
              "0                0.36  \n",
              "1                 0.7  "
            ]
          },
          "metadata": {
            "tags": []
          },
          "execution_count": 27
        }
      ]
    },
    {
      "cell_type": "markdown",
      "metadata": {
        "id": "E4ls6NMk7mwS",
        "colab_type": "text"
      },
      "source": [
        "### Summary"
      ]
    },
    {
      "cell_type": "markdown",
      "metadata": {
        "id": "st3GZnlL7mwT",
        "colab_type": "text"
      },
      "source": [
        "In this lesson, we learned about using the `DataFrameMapper` from the `sklearn_pandas` library.  The DataFramMapper is similar to pipelines, but provides for an easier interface, as our changes became more complex.\n",
        "\n",
        "For example, it allowed us to output a dataframe instead of a numpy array, specify features to coerce, and return new columns in our dataframe like adding an is missing column.  "
      ]
    },
    {
      "cell_type": "markdown",
      "metadata": {
        "id": "T2wTmBmy7mwT",
        "colab_type": "text"
      },
      "source": [
        "### Resources"
      ]
    },
    {
      "cell_type": "markdown",
      "metadata": {
        "id": "4gC-V3rA7mwU",
        "colab_type": "text"
      },
      "source": [
        "[sklearn_pandas](https://github.com/scikit-learn-contrib/sklearn-pandas)"
      ]
    }
  ]
}