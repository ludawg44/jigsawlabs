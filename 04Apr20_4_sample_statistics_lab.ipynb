{
  "nbformat": 4,
  "nbformat_minor": 0,
  "metadata": {
    "kernelspec": {
      "display_name": "Python 3",
      "language": "python",
      "name": "python3"
    },
    "language_info": {
      "codemirror_mode": {
        "name": "ipython",
        "version": 3
      },
      "file_extension": ".py",
      "mimetype": "text/x-python",
      "name": "python",
      "nbconvert_exporter": "python",
      "pygments_lexer": "ipython3",
      "version": "3.7.4"
    },
    "colab": {
      "name": "Copy of 4-sample-statistics-lab.ipynb",
      "provenance": [],
      "include_colab_link": true
    }
  },
  "cells": [
    {
      "cell_type": "markdown",
      "metadata": {
        "id": "view-in-github",
        "colab_type": "text"
      },
      "source": [
        "<a href=\"https://colab.research.google.com/github/ludawg44/jigsawlabs/blob/master/04Apr20_4_sample_statistics_lab.ipynb\" target=\"_parent\"><img src=\"https://colab.research.google.com/assets/colab-badge.svg\" alt=\"Open In Colab\"/></a>"
      ]
    },
    {
      "cell_type": "markdown",
      "metadata": {
        "id": "p4q-M3elIl9u",
        "colab_type": "text"
      },
      "source": [
        "# Sample Statistics Lab"
      ]
    },
    {
      "cell_type": "markdown",
      "metadata": {
        "id": "WG3j1fW_Il9v",
        "colab_type": "text"
      },
      "source": [
        "### Introduction"
      ]
    },
    {
      "cell_type": "markdown",
      "metadata": {
        "id": "vpAv6Sw1Il9v",
        "colab_type": "text"
      },
      "source": [
        "In this lab, we'll use calculate some sampling statistics for the NYC regents exam using both an analytical and computational approach."
      ]
    },
    {
      "cell_type": "markdown",
      "metadata": {
        "id": "AyL_5Gh5Il9w",
        "colab_type": "text"
      },
      "source": [
        "### Loading our Sample"
      ]
    },
    {
      "cell_type": "code",
      "metadata": {
        "id": "g-N2-aCCKJ92",
        "colab_type": "code",
        "outputId": "857d061e-10df-4e2a-a774-c6bf4bbb0f4d",
        "colab": {
          "base_uri": "https://localhost:8080/",
          "height": 400
        }
      },
      "source": [
        "!pip install gcsfs"
      ],
      "execution_count": 0,
      "outputs": [
        {
          "output_type": "stream",
          "text": [
            "Collecting gcsfs\n",
            "  Downloading https://files.pythonhosted.org/packages/18/3b/454be7c97d05e15eb20a0099f425f0ed6b7552e352c77adb923c3872ba14/gcsfs-0.6.1-py2.py3-none-any.whl\n",
            "Requirement already satisfied: google-auth>=1.2 in /usr/local/lib/python3.6/dist-packages (from gcsfs) (1.7.2)\n",
            "Requirement already satisfied: requests in /usr/local/lib/python3.6/dist-packages (from gcsfs) (2.21.0)\n",
            "Requirement already satisfied: decorator in /usr/local/lib/python3.6/dist-packages (from gcsfs) (4.4.2)\n",
            "Requirement already satisfied: google-auth-oauthlib in /usr/local/lib/python3.6/dist-packages (from gcsfs) (0.4.1)\n",
            "Requirement already satisfied: fsspec>=0.6.0 in /usr/local/lib/python3.6/dist-packages (from gcsfs) (0.7.1)\n",
            "Requirement already satisfied: pyasn1-modules>=0.2.1 in /usr/local/lib/python3.6/dist-packages (from google-auth>=1.2->gcsfs) (0.2.8)\n",
            "Requirement already satisfied: six>=1.9.0 in /usr/local/lib/python3.6/dist-packages (from google-auth>=1.2->gcsfs) (1.12.0)\n",
            "Requirement already satisfied: setuptools>=40.3.0 in /usr/local/lib/python3.6/dist-packages (from google-auth>=1.2->gcsfs) (46.0.0)\n",
            "Requirement already satisfied: cachetools<3.2,>=2.0.0 in /usr/local/lib/python3.6/dist-packages (from google-auth>=1.2->gcsfs) (3.1.1)\n",
            "Requirement already satisfied: rsa<4.1,>=3.1.4 in /usr/local/lib/python3.6/dist-packages (from google-auth>=1.2->gcsfs) (4.0)\n",
            "Requirement already satisfied: urllib3<1.25,>=1.21.1 in /usr/local/lib/python3.6/dist-packages (from requests->gcsfs) (1.24.3)\n",
            "Requirement already satisfied: idna<2.9,>=2.5 in /usr/local/lib/python3.6/dist-packages (from requests->gcsfs) (2.8)\n",
            "Requirement already satisfied: chardet<3.1.0,>=3.0.2 in /usr/local/lib/python3.6/dist-packages (from requests->gcsfs) (3.0.4)\n",
            "Requirement already satisfied: certifi>=2017.4.17 in /usr/local/lib/python3.6/dist-packages (from requests->gcsfs) (2019.11.28)\n",
            "Requirement already satisfied: requests-oauthlib>=0.7.0 in /usr/local/lib/python3.6/dist-packages (from google-auth-oauthlib->gcsfs) (1.3.0)\n",
            "Requirement already satisfied: pyasn1<0.5.0,>=0.4.6 in /usr/local/lib/python3.6/dist-packages (from pyasn1-modules>=0.2.1->google-auth>=1.2->gcsfs) (0.4.8)\n",
            "Requirement already satisfied: oauthlib>=3.0.0 in /usr/local/lib/python3.6/dist-packages (from requests-oauthlib>=0.7.0->google-auth-oauthlib->gcsfs) (3.1.0)\n",
            "Installing collected packages: gcsfs\n",
            "Successfully installed gcsfs-0.6.1\n"
          ],
          "name": "stdout"
        }
      ]
    },
    {
      "cell_type": "code",
      "metadata": {
        "id": "ekV_pDqKIl9x",
        "colab_type": "code",
        "colab": {}
      },
      "source": [
        "import pandas as pd\n",
        "url = \"gs://curriculum-assets/mod-2/NYC_Regents_Exam_Results.csv\"\n",
        "df = pd.read_csv(url, index_col = 0)"
      ],
      "execution_count": 0,
      "outputs": []
    },
    {
      "cell_type": "code",
      "metadata": {
        "id": "BzFOqPJDIl91",
        "colab_type": "code",
        "outputId": "a91a0d99-b950-416b-b33d-d86a1c418211",
        "colab": {
          "base_uri": "https://localhost:8080/",
          "height": 138
        }
      },
      "source": [
        "df.columns"
      ],
      "execution_count": 0,
      "outputs": [
        {
          "output_type": "execute_result",
          "data": {
            "text/plain": [
              "Index(['School DBN', 'School Name', 'School Type', 'School Level',\n",
              "       'Regents Exam', 'Year', 'Category', 'Total Tested', 'Mean Score',\n",
              "       'Number Scoring Below 65', 'Percent Scoring Below 65',\n",
              "       'Number Scoring 65 or Above', 'Percent Scoring 65 or Above',\n",
              "       'Number Scoring 80 or Above', 'Percent Scoring 80 or Above',\n",
              "       'Number Scoring CR', 'Percent Scoring CR'],\n",
              "      dtype='object')"
            ]
          },
          "metadata": {
            "tags": []
          },
          "execution_count": 4
        }
      ]
    },
    {
      "cell_type": "code",
      "metadata": {
        "id": "nY_pZl1bIl95",
        "colab_type": "code",
        "outputId": "a5e4269f-816d-4a88-f948-236a2c2a5b0f",
        "colab": {
          "base_uri": "https://localhost:8080/",
          "height": 121
        }
      },
      "source": [
        "df['Year'].value_counts()"
      ],
      "execution_count": 0,
      "outputs": [
        {
          "output_type": "execute_result",
          "data": {
            "text/plain": [
              "2016    7555\n",
              "2015    7103\n",
              "2017    6177\n",
              "2019    6163\n",
              "2018    6033\n",
              "Name: Year, dtype: int64"
            ]
          },
          "metadata": {
            "tags": []
          },
          "execution_count": 5
        }
      ]
    },
    {
      "cell_type": "code",
      "metadata": {
        "id": "lPa0qentIl98",
        "colab_type": "code",
        "outputId": "a51f6f72-89db-4585-b1fe-ae05619c9e93",
        "colab": {
          "base_uri": "https://localhost:8080/",
          "height": 155
        }
      },
      "source": [
        "df[df['Year'] == 2019]['School Level'].value_counts()"
      ],
      "execution_count": 0,
      "outputs": [
        {
          "output_type": "execute_result",
          "data": {
            "text/plain": [
              "High school                        3995\n",
              "Secondary School                    895\n",
              "Junior High-Intermediate-Middle     643\n",
              "K-8                                 314\n",
              "K-12 all grades                     313\n",
              "Ungraded                              2\n",
              "Elementary                            1\n",
              "Name: School Level, dtype: int64"
            ]
          },
          "metadata": {
            "tags": []
          },
          "execution_count": 6
        }
      ]
    },
    {
      "cell_type": "markdown",
      "metadata": {
        "id": "O4SjxcCqIl9-",
        "colab_type": "text"
      },
      "source": [
        "Let's select just those results from 2019 taken in the common core algebra from students in High School."
      ]
    },
    {
      "cell_type": "code",
      "metadata": {
        "id": "EzDQfYwpIl9_",
        "colab_type": "code",
        "colab": {}
      },
      "source": [
        "selected_df = df[(df['Year'] == 2019) \n",
        "                 & (df['School Level'] == 'High school') \n",
        "                 & (df['Regents Exam'] == 'Common Core Algebra')] "
      ],
      "execution_count": 0,
      "outputs": []
    },
    {
      "cell_type": "code",
      "metadata": {
        "id": "4rQqbGoYIl-B",
        "colab_type": "code",
        "outputId": "d66b7b65-e612-43c3-c37b-7bef01518b75",
        "colab": {
          "base_uri": "https://localhost:8080/",
          "height": 35
        }
      },
      "source": [
        "selected_df.shape\n",
        "\n",
        "# (424, 17)"
      ],
      "execution_count": 0,
      "outputs": [
        {
          "output_type": "execute_result",
          "data": {
            "text/plain": [
              "(424, 17)"
            ]
          },
          "metadata": {
            "tags": []
          },
          "execution_count": 8
        }
      ]
    },
    {
      "cell_type": "markdown",
      "metadata": {
        "id": "V9R8bbvGIl-E",
        "colab_type": "text"
      },
      "source": [
        "The missing values are indicated as an `'s'`.  Calculate the number of missing values are in the mean score column."
      ]
    },
    {
      "cell_type": "code",
      "metadata": {
        "id": "hbAPfFDPIl-G",
        "colab_type": "code",
        "outputId": "c396c049-1a23-43a3-d32b-9e38ce4853cf",
        "colab": {
          "base_uri": "https://localhost:8080/",
          "height": 490
        }
      },
      "source": [
        "selected_df[:5]\n",
        "\n",
        "# 17"
      ],
      "execution_count": 0,
      "outputs": [
        {
          "output_type": "execute_result",
          "data": {
            "text/html": [
              "<div>\n",
              "<style scoped>\n",
              "    .dataframe tbody tr th:only-of-type {\n",
              "        vertical-align: middle;\n",
              "    }\n",
              "\n",
              "    .dataframe tbody tr th {\n",
              "        vertical-align: top;\n",
              "    }\n",
              "\n",
              "    .dataframe thead th {\n",
              "        text-align: right;\n",
              "    }\n",
              "</style>\n",
              "<table border=\"1\" class=\"dataframe\">\n",
              "  <thead>\n",
              "    <tr style=\"text-align: right;\">\n",
              "      <th></th>\n",
              "      <th>School DBN</th>\n",
              "      <th>School Name</th>\n",
              "      <th>School Type</th>\n",
              "      <th>School Level</th>\n",
              "      <th>Regents Exam</th>\n",
              "      <th>Year</th>\n",
              "      <th>Category</th>\n",
              "      <th>Total Tested</th>\n",
              "      <th>Mean Score</th>\n",
              "      <th>Number Scoring Below 65</th>\n",
              "      <th>Percent Scoring Below 65</th>\n",
              "      <th>Number Scoring 65 or Above</th>\n",
              "      <th>Percent Scoring 65 or Above</th>\n",
              "      <th>Number Scoring 80 or Above</th>\n",
              "      <th>Percent Scoring 80 or Above</th>\n",
              "      <th>Number Scoring CR</th>\n",
              "      <th>Percent Scoring CR</th>\n",
              "    </tr>\n",
              "    <tr>\n",
              "      <th>Unnamed Column</th>\n",
              "      <th></th>\n",
              "      <th></th>\n",
              "      <th></th>\n",
              "      <th></th>\n",
              "      <th></th>\n",
              "      <th></th>\n",
              "      <th></th>\n",
              "      <th></th>\n",
              "      <th></th>\n",
              "      <th></th>\n",
              "      <th></th>\n",
              "      <th></th>\n",
              "      <th></th>\n",
              "      <th></th>\n",
              "      <th></th>\n",
              "      <th></th>\n",
              "      <th></th>\n",
              "    </tr>\n",
              "  </thead>\n",
              "  <tbody>\n",
              "    <tr>\n",
              "      <th>01M2922019All StudentsCommon Core Algebra</th>\n",
              "      <td>01M292</td>\n",
              "      <td>Orchard Collegiate Academy</td>\n",
              "      <td>General Academic</td>\n",
              "      <td>High school</td>\n",
              "      <td>Common Core Algebra</td>\n",
              "      <td>2019</td>\n",
              "      <td>All Students</td>\n",
              "      <td>111</td>\n",
              "      <td>68.9</td>\n",
              "      <td>32</td>\n",
              "      <td>28.8</td>\n",
              "      <td>79</td>\n",
              "      <td>71.2</td>\n",
              "      <td>14</td>\n",
              "      <td>12.6</td>\n",
              "      <td>65</td>\n",
              "      <td>58.6</td>\n",
              "    </tr>\n",
              "    <tr>\n",
              "      <th>01M4482019All StudentsCommon Core Algebra</th>\n",
              "      <td>01M448</td>\n",
              "      <td>University Neighborhood High School</td>\n",
              "      <td>General Academic</td>\n",
              "      <td>High school</td>\n",
              "      <td>Common Core Algebra</td>\n",
              "      <td>2019</td>\n",
              "      <td>All Students</td>\n",
              "      <td>169</td>\n",
              "      <td>70.0</td>\n",
              "      <td>57</td>\n",
              "      <td>33.7</td>\n",
              "      <td>112</td>\n",
              "      <td>66.3</td>\n",
              "      <td>56</td>\n",
              "      <td>33.1</td>\n",
              "      <td>97</td>\n",
              "      <td>57.4</td>\n",
              "    </tr>\n",
              "    <tr>\n",
              "      <th>01M4582019All StudentsCommon Core Algebra</th>\n",
              "      <td>01M458</td>\n",
              "      <td>Forsyth Satellite Academy</td>\n",
              "      <td>Transfer School</td>\n",
              "      <td>High school</td>\n",
              "      <td>Common Core Algebra</td>\n",
              "      <td>2019</td>\n",
              "      <td>All Students</td>\n",
              "      <td>7</td>\n",
              "      <td>45.3</td>\n",
              "      <td>7</td>\n",
              "      <td>100.0</td>\n",
              "      <td>0</td>\n",
              "      <td>0.0</td>\n",
              "      <td>0</td>\n",
              "      <td>0.0</td>\n",
              "      <td>0</td>\n",
              "      <td>0.0</td>\n",
              "    </tr>\n",
              "    <tr>\n",
              "      <th>01M5092019All StudentsCommon Core Algebra</th>\n",
              "      <td>01M509</td>\n",
              "      <td>Marta Valle High School</td>\n",
              "      <td>General Academic</td>\n",
              "      <td>High school</td>\n",
              "      <td>Common Core Algebra</td>\n",
              "      <td>2019</td>\n",
              "      <td>All Students</td>\n",
              "      <td>56</td>\n",
              "      <td>60.2</td>\n",
              "      <td>35</td>\n",
              "      <td>62.5</td>\n",
              "      <td>21</td>\n",
              "      <td>37.5</td>\n",
              "      <td>1</td>\n",
              "      <td>1.8</td>\n",
              "      <td>11</td>\n",
              "      <td>19.6</td>\n",
              "    </tr>\n",
              "    <tr>\n",
              "      <th>01M5152019All StudentsCommon Core Algebra</th>\n",
              "      <td>01M515</td>\n",
              "      <td>Lower East Side Preparatory High School</td>\n",
              "      <td>Transfer School</td>\n",
              "      <td>High school</td>\n",
              "      <td>Common Core Algebra</td>\n",
              "      <td>2019</td>\n",
              "      <td>All Students</td>\n",
              "      <td>158</td>\n",
              "      <td>68.0</td>\n",
              "      <td>56</td>\n",
              "      <td>35.4</td>\n",
              "      <td>102</td>\n",
              "      <td>64.6</td>\n",
              "      <td>33</td>\n",
              "      <td>20.9</td>\n",
              "      <td>76</td>\n",
              "      <td>48.1</td>\n",
              "    </tr>\n",
              "  </tbody>\n",
              "</table>\n",
              "</div>"
            ],
            "text/plain": [
              "                                          School DBN  ... Percent Scoring CR\n",
              "Unnamed Column                                        ...                   \n",
              "01M2922019All StudentsCommon Core Algebra     01M292  ...               58.6\n",
              "01M4482019All StudentsCommon Core Algebra     01M448  ...               57.4\n",
              "01M4582019All StudentsCommon Core Algebra     01M458  ...                0.0\n",
              "01M5092019All StudentsCommon Core Algebra     01M509  ...               19.6\n",
              "01M5152019All StudentsCommon Core Algebra     01M515  ...               48.1\n",
              "\n",
              "[5 rows x 17 columns]"
            ]
          },
          "metadata": {
            "tags": []
          },
          "execution_count": 10
        }
      ]
    },
    {
      "cell_type": "code",
      "metadata": {
        "id": "b6t6Fcc_K2ez",
        "colab_type": "code",
        "outputId": "57df5be7-95b3-47d9-fed6-3ce87706242a",
        "colab": {
          "base_uri": "https://localhost:8080/",
          "height": 35
        }
      },
      "source": [
        "(selected_df['Mean Score'] == 's').sum()"
      ],
      "execution_count": 0,
      "outputs": [
        {
          "output_type": "execute_result",
          "data": {
            "text/plain": [
              "17"
            ]
          },
          "metadata": {
            "tags": []
          },
          "execution_count": 12
        }
      ]
    },
    {
      "cell_type": "markdown",
      "metadata": {
        "id": "GNFvvHvYIl-J",
        "colab_type": "text"
      },
      "source": [
        "> We see that we have 17 missing values. "
      ]
    },
    {
      "cell_type": "code",
      "metadata": {
        "id": "PUqmpPvjIl-K",
        "colab_type": "code",
        "outputId": "43c37d1d-401f-447e-89c1-057393872153",
        "colab": {
          "base_uri": "https://localhost:8080/",
          "height": 35
        }
      },
      "source": [
        "17/424"
      ],
      "execution_count": 0,
      "outputs": [
        {
          "output_type": "execute_result",
          "data": {
            "text/plain": [
              "0.04009433962264151"
            ]
          },
          "metadata": {
            "tags": []
          },
          "execution_count": 13
        }
      ]
    },
    {
      "cell_type": "markdown",
      "metadata": {
        "id": "A4adEWKyIl-M",
        "colab_type": "text"
      },
      "source": [
        "### Computing Sample Statistics"
      ]
    },
    {
      "cell_type": "markdown",
      "metadata": {
        "id": "HIo3gRsiIl-N",
        "colab_type": "text"
      },
      "source": [
        "From this let's draw a sample and compute some sample statistics.  We'll sample 100 schools from our dataset."
      ]
    },
    {
      "cell_type": "markdown",
      "metadata": {
        "id": "GLBa8TF0Il-N",
        "colab_type": "text"
      },
      "source": [
        "Let's remove from the dataset those who have a value of `s`, as we will not be able to calculate statistics from these schools."
      ]
    },
    {
      "cell_type": "code",
      "metadata": {
        "id": "Bj3hhDCSIl-O",
        "colab_type": "code",
        "colab": {}
      },
      "source": [
        "reduced_df = selected_df[~(selected_df['Mean Score'] == 's')]"
      ],
      "execution_count": 0,
      "outputs": []
    },
    {
      "cell_type": "code",
      "metadata": {
        "id": "nULSCZfYIl-Q",
        "colab_type": "code",
        "outputId": "e3c951c7-cd76-4009-a10d-74958c87f934",
        "colab": {
          "base_uri": "https://localhost:8080/",
          "height": 35
        }
      },
      "source": [
        "reduced_df.shape\n",
        "# (407, 17)"
      ],
      "execution_count": 0,
      "outputs": [
        {
          "output_type": "execute_result",
          "data": {
            "text/plain": [
              "(407, 17)"
            ]
          },
          "metadata": {
            "tags": []
          },
          "execution_count": 15
        }
      ]
    },
    {
      "cell_type": "markdown",
      "metadata": {
        "id": "abhun0xgIl-T",
        "colab_type": "text"
      },
      "source": [
        "Then we can sample our data."
      ]
    },
    {
      "cell_type": "code",
      "metadata": {
        "id": "ylnjWrpGIl-T",
        "colab_type": "code",
        "colab": {}
      },
      "source": [
        "sampled_df = reduced_df.sample(n=100, random_state=1)"
      ],
      "execution_count": 0,
      "outputs": []
    },
    {
      "cell_type": "code",
      "metadata": {
        "id": "HL9NbGKsIl-W",
        "colab_type": "code",
        "outputId": "ec975db3-d7a8-40a8-9d0f-9ee1192ae9ec",
        "colab": {
          "base_uri": "https://localhost:8080/",
          "height": 34
        }
      },
      "source": [
        "sampled_df.shape"
      ],
      "execution_count": 0,
      "outputs": [
        {
          "output_type": "execute_result",
          "data": {
            "text/plain": [
              "(100, 17)"
            ]
          },
          "metadata": {
            "tags": []
          },
          "execution_count": 17
        }
      ]
    },
    {
      "cell_type": "code",
      "metadata": {
        "id": "h4dGSgJJIl-Y",
        "colab_type": "code",
        "outputId": "4f43696b-641f-430b-d972-9b3c4106549f",
        "colab": {
          "base_uri": "https://localhost:8080/",
          "height": 348
        }
      },
      "source": [
        "sampled_df[:2]"
      ],
      "execution_count": 0,
      "outputs": [
        {
          "output_type": "execute_result",
          "data": {
            "text/html": [
              "<div>\n",
              "<style scoped>\n",
              "    .dataframe tbody tr th:only-of-type {\n",
              "        vertical-align: middle;\n",
              "    }\n",
              "\n",
              "    .dataframe tbody tr th {\n",
              "        vertical-align: top;\n",
              "    }\n",
              "\n",
              "    .dataframe thead th {\n",
              "        text-align: right;\n",
              "    }\n",
              "</style>\n",
              "<table border=\"1\" class=\"dataframe\">\n",
              "  <thead>\n",
              "    <tr style=\"text-align: right;\">\n",
              "      <th></th>\n",
              "      <th>School DBN</th>\n",
              "      <th>School Name</th>\n",
              "      <th>School Type</th>\n",
              "      <th>School Level</th>\n",
              "      <th>Regents Exam</th>\n",
              "      <th>Year</th>\n",
              "      <th>Category</th>\n",
              "      <th>Total Tested</th>\n",
              "      <th>Mean Score</th>\n",
              "      <th>Number Scoring Below 65</th>\n",
              "      <th>Percent Scoring Below 65</th>\n",
              "      <th>Number Scoring 65 or Above</th>\n",
              "      <th>Percent Scoring 65 or Above</th>\n",
              "      <th>Number Scoring 80 or Above</th>\n",
              "      <th>Percent Scoring 80 or Above</th>\n",
              "      <th>Number Scoring CR</th>\n",
              "      <th>Percent Scoring CR</th>\n",
              "    </tr>\n",
              "    <tr>\n",
              "      <th>Unnamed Column</th>\n",
              "      <th></th>\n",
              "      <th></th>\n",
              "      <th></th>\n",
              "      <th></th>\n",
              "      <th></th>\n",
              "      <th></th>\n",
              "      <th></th>\n",
              "      <th></th>\n",
              "      <th></th>\n",
              "      <th></th>\n",
              "      <th></th>\n",
              "      <th></th>\n",
              "      <th></th>\n",
              "      <th></th>\n",
              "      <th></th>\n",
              "      <th></th>\n",
              "      <th></th>\n",
              "    </tr>\n",
              "  </thead>\n",
              "  <tbody>\n",
              "    <tr>\n",
              "      <th>31R0642019All StudentsCommon Core Algebra</th>\n",
              "      <td>31R064</td>\n",
              "      <td>Gaynor McCown Expeditionary Learning School</td>\n",
              "      <td>General Academic</td>\n",
              "      <td>High school</td>\n",
              "      <td>Common Core Algebra</td>\n",
              "      <td>2019</td>\n",
              "      <td>All Students</td>\n",
              "      <td>122</td>\n",
              "      <td>69.8</td>\n",
              "      <td>37</td>\n",
              "      <td>30.3</td>\n",
              "      <td>85</td>\n",
              "      <td>69.7</td>\n",
              "      <td>35</td>\n",
              "      <td>28.7</td>\n",
              "      <td>73</td>\n",
              "      <td>59.8</td>\n",
              "    </tr>\n",
              "    <tr>\n",
              "      <th>03M3072019All StudentsCommon Core Algebra</th>\n",
              "      <td>03M307</td>\n",
              "      <td>Urban Assembly School for Media Studies, The</td>\n",
              "      <td>General Academic</td>\n",
              "      <td>High school</td>\n",
              "      <td>Common Core Algebra</td>\n",
              "      <td>2019</td>\n",
              "      <td>All Students</td>\n",
              "      <td>136</td>\n",
              "      <td>62.4</td>\n",
              "      <td>67</td>\n",
              "      <td>49.3</td>\n",
              "      <td>69</td>\n",
              "      <td>50.7</td>\n",
              "      <td>4</td>\n",
              "      <td>2.9</td>\n",
              "      <td>46</td>\n",
              "      <td>33.8</td>\n",
              "    </tr>\n",
              "  </tbody>\n",
              "</table>\n",
              "</div>"
            ],
            "text/plain": [
              "                                          School DBN  ... Percent Scoring CR\n",
              "Unnamed Column                                        ...                   \n",
              "31R0642019All StudentsCommon Core Algebra     31R064  ...               59.8\n",
              "03M3072019All StudentsCommon Core Algebra     03M307  ...               33.8\n",
              "\n",
              "[2 rows x 17 columns]"
            ]
          },
          "metadata": {
            "tags": []
          },
          "execution_count": 18
        }
      ]
    },
    {
      "cell_type": "markdown",
      "metadata": {
        "id": "oNo-wzATIl-b",
        "colab_type": "text"
      },
      "source": [
        "Now that we have removed missing data and selected our sample, it's time to calculate our sample statistics.  "
      ]
    },
    {
      "cell_type": "markdown",
      "metadata": {
        "id": "ajdWb-K7Il-c",
        "colab_type": "text"
      },
      "source": [
        "Let's take a look at our dtype of our mean."
      ]
    },
    {
      "cell_type": "code",
      "metadata": {
        "id": "q3Tw2n57Il-c",
        "colab_type": "code",
        "outputId": "ff5bd0df-dcea-46a0-de44-4732dc6acac1",
        "colab": {
          "base_uri": "https://localhost:8080/",
          "height": 35
        }
      },
      "source": [
        "hs_avg_series = sampled_df['Mean Score']\n",
        "hs_avg_series.dtype"
      ],
      "execution_count": 0,
      "outputs": [
        {
          "output_type": "execute_result",
          "data": {
            "text/plain": [
              "dtype('O')"
            ]
          },
          "metadata": {
            "tags": []
          },
          "execution_count": 19
        }
      ]
    },
    {
      "cell_type": "markdown",
      "metadata": {
        "id": "v0kUPT2lIl-f",
        "colab_type": "text"
      },
      "source": [
        "We can see that our mean score is of type object, so let's change it to a numeric datatype."
      ]
    },
    {
      "cell_type": "code",
      "metadata": {
        "id": "2AEERAiVIl-f",
        "colab_type": "code",
        "outputId": "375d7b2a-3fcc-4673-9dc1-4c027f07e7b0",
        "colab": {
          "base_uri": "https://localhost:8080/",
          "height": 35
        }
      },
      "source": [
        "import numpy as np\n",
        "hs_avg_series_num = hs_avg_series.astype(np.float64)\n",
        "\n",
        "hs_avg_series_num.dtype\n",
        "# dtype('float64')"
      ],
      "execution_count": 0,
      "outputs": [
        {
          "output_type": "execute_result",
          "data": {
            "text/plain": [
              "dtype('float64')"
            ]
          },
          "metadata": {
            "tags": []
          },
          "execution_count": 21
        }
      ]
    },
    {
      "cell_type": "markdown",
      "metadata": {
        "id": "Fd18p_QSIl-i",
        "colab_type": "text"
      },
      "source": [
        "Let's assign this coerced column to our `sampled_df`, change the name of the column to `avg_test_score`, and drop the original `Mean Score` column."
      ]
    },
    {
      "cell_type": "code",
      "metadata": {
        "id": "hVs6u-rfMVVS",
        "colab_type": "code",
        "outputId": "79a1cf06-c9bc-4539-b2d2-51e528d4069b",
        "colab": {
          "base_uri": "https://localhost:8080/",
          "height": 138
        }
      },
      "source": [
        "sampled_df.columns"
      ],
      "execution_count": 0,
      "outputs": [
        {
          "output_type": "execute_result",
          "data": {
            "text/plain": [
              "Index(['School DBN', 'School Name', 'School Type', 'School Level',\n",
              "       'Regents Exam', 'Year', 'Category', 'Total Tested', 'Mean Score',\n",
              "       'Number Scoring Below 65', 'Percent Scoring Below 65',\n",
              "       'Number Scoring 65 or Above', 'Percent Scoring 65 or Above',\n",
              "       'Number Scoring 80 or Above', 'Percent Scoring 80 or Above',\n",
              "       'Number Scoring CR', 'Percent Scoring CR'],\n",
              "      dtype='object')"
            ]
          },
          "metadata": {
            "tags": []
          },
          "execution_count": 23
        }
      ]
    },
    {
      "cell_type": "code",
      "metadata": {
        "id": "_AL62EVqIl-j",
        "colab_type": "code",
        "outputId": "1f5a656d-6ffe-477e-f2cd-a640a42d465e",
        "colab": {
          "base_uri": "https://localhost:8080/",
          "height": 138
        }
      },
      "source": [
        "# Dropping Mean Score\n",
        "sampled_df = sampled_df.drop('Mean Score', axis=1)\n",
        "sampled_df.columns \n"
      ],
      "execution_count": 0,
      "outputs": [
        {
          "output_type": "execute_result",
          "data": {
            "text/plain": [
              "Index(['School DBN', 'School Name', 'School Type', 'School Level',\n",
              "       'Regents Exam', 'Year', 'Category', 'Total Tested',\n",
              "       'Number Scoring Below 65', 'Percent Scoring Below 65',\n",
              "       'Number Scoring 65 or Above', 'Percent Scoring 65 or Above',\n",
              "       'Number Scoring 80 or Above', 'Percent Scoring 80 or Above',\n",
              "       'Number Scoring CR', 'Percent Scoring CR'],\n",
              "      dtype='object')"
            ]
          },
          "metadata": {
            "tags": []
          },
          "execution_count": 27
        }
      ]
    },
    {
      "cell_type": "code",
      "metadata": {
        "id": "Yi8pEDcmMo_y",
        "colab_type": "code",
        "colab": {}
      },
      "source": [
        "sampled_df['avg_test_score'] = hs_avg_series_num"
      ],
      "execution_count": 0,
      "outputs": []
    },
    {
      "cell_type": "code",
      "metadata": {
        "id": "HEMSHP_aIl-m",
        "colab_type": "code",
        "outputId": "9339902a-5432-443b-be49-07e239e84490",
        "colab": {
          "base_uri": "https://localhost:8080/",
          "height": 35
        }
      },
      "source": [
        "'Mean Score' in sampled_df.columns"
      ],
      "execution_count": 0,
      "outputs": [
        {
          "output_type": "execute_result",
          "data": {
            "text/plain": [
              "False"
            ]
          },
          "metadata": {
            "tags": []
          },
          "execution_count": 29
        }
      ]
    },
    {
      "cell_type": "code",
      "metadata": {
        "id": "hOQgSsPuIl-p",
        "colab_type": "code",
        "outputId": "9460bf7c-43ee-4115-c57d-affe6a9b1644",
        "colab": {
          "base_uri": "https://localhost:8080/",
          "height": 104
        }
      },
      "source": [
        "sampled_df['avg_test_score'][:3]\n",
        "# Unnamed Column\n",
        "# 31R0642019All StudentsCommon Core Algebra    69.8\n",
        "# 03M3072019All StudentsCommon Core Algebra    62.4\n",
        "# 26Q4352019All StudentsCommon Core Algebra    63.5\n",
        "# Name: avg_test_score, dtype: float64\n"
      ],
      "execution_count": 0,
      "outputs": [
        {
          "output_type": "execute_result",
          "data": {
            "text/plain": [
              "Unnamed Column\n",
              "31R0642019All StudentsCommon Core Algebra    69.8\n",
              "03M3072019All StudentsCommon Core Algebra    62.4\n",
              "26Q4352019All StudentsCommon Core Algebra    63.5\n",
              "Name: avg_test_score, dtype: float64"
            ]
          },
          "metadata": {
            "tags": []
          },
          "execution_count": 30
        }
      ]
    },
    {
      "cell_type": "markdown",
      "metadata": {
        "id": "HMRPyAejIl-r",
        "colab_type": "text"
      },
      "source": [
        "### Analytic Sample Statistics"
      ]
    },
    {
      "cell_type": "markdown",
      "metadata": {
        "id": "SSgEUlzfIl-s",
        "colab_type": "text"
      },
      "source": [
        "Let's start by plotting a distribution of the high school avg scores in our sample."
      ]
    },
    {
      "cell_type": "code",
      "metadata": {
        "id": "CFmtJZdQIl-s",
        "colab_type": "code",
        "outputId": "e2f5acf1-974c-438e-9cd2-8769cd7d14d3",
        "colab": {
          "base_uri": "https://localhost:8080/",
          "height": 295
        }
      },
      "source": [
        "import matplotlib.pyplot as plt\n",
        "\n",
        "ax = sampled_df['avg_test_score'].plot.hist(bins=50)\n",
        "ax.set(title='avg algebra scores', xlabel='avg scores', ylabel='count')\n",
        "plt.grid()\n"
      ],
      "execution_count": 0,
      "outputs": [
        {
          "output_type": "display_data",
          "data": {
            "image/png": "[encoded data removed]",
            "text/plain": [
              "<Figure size 432x288 with 1 Axes>"
            ]
          },
          "metadata": {
            "tags": []
          }
        }
      ]
    },
    {
      "cell_type": "markdown",
      "metadata": {
        "id": "NxR-wTc9Il-v",
        "colab_type": "text"
      },
      "source": [
        "> Answer: <img src=\"https://github.com/jigsawlabs-student/sampling-statistics/blob/master/avg-scores.png?raw=1\" width=\"50%\">"
      ]
    },
    {
      "cell_type": "markdown",
      "metadata": {
        "id": "QdZq50UQIl-v",
        "colab_type": "text"
      },
      "source": [
        "Ok, now we can calculate the sample mean score on the Core Algebra exam among NYC high schools.  "
      ]
    },
    {
      "cell_type": "code",
      "metadata": {
        "id": "chjbr2B8Ojj3",
        "colab_type": "code",
        "outputId": "d168581d-d5bf-4cde-f91d-e3755a37380a",
        "colab": {
          "base_uri": "https://localhost:8080/",
          "height": 138
        }
      },
      "source": [
        "sampled_df.columns"
      ],
      "execution_count": 0,
      "outputs": [
        {
          "output_type": "execute_result",
          "data": {
            "text/plain": [
              "Index(['School DBN', 'School Name', 'School Type', 'School Level',\n",
              "       'Regents Exam', 'Year', 'Category', 'Total Tested',\n",
              "       'Number Scoring Below 65', 'Percent Scoring Below 65',\n",
              "       'Number Scoring 65 or Above', 'Percent Scoring 65 or Above',\n",
              "       'Number Scoring 80 or Above', 'Percent Scoring 80 or Above',\n",
              "       'Number Scoring CR', 'Percent Scoring CR', 'avg_test_score'],\n",
              "      dtype='object')"
            ]
          },
          "metadata": {
            "tags": []
          },
          "execution_count": 41
        }
      ]
    },
    {
      "cell_type": "code",
      "metadata": {
        "id": "ZtHzYV70Il-w",
        "colab_type": "code",
        "outputId": "36f4bba6-97d4-463d-e5e4-db083a5fe3a6",
        "colab": {
          "base_uri": "https://localhost:8080/",
          "height": 35
        }
      },
      "source": [
        "sample_mean = sampled_df['avg_test_score'].mean()\n",
        "sample_mean\n",
        "# 65.11"
      ],
      "execution_count": 0,
      "outputs": [
        {
          "output_type": "execute_result",
          "data": {
            "text/plain": [
              "65.11899999999997"
            ]
          },
          "metadata": {
            "tags": []
          },
          "execution_count": 42
        }
      ]
    },
    {
      "cell_type": "markdown",
      "metadata": {
        "id": "wTT3MsFLIl-y",
        "colab_type": "text"
      },
      "source": [
        "And we can calculate the sample standard deviation."
      ]
    },
    {
      "cell_type": "code",
      "metadata": {
        "id": "6obFWxYuIl-y",
        "colab_type": "code",
        "outputId": "aa4691e5-c922-4a8b-8b3e-834ccf97337f",
        "colab": {
          "base_uri": "https://localhost:8080/",
          "height": 35
        }
      },
      "source": [
        "sample_std = sampled_df['avg_test_score'].std()\n",
        "\n",
        "sample_std\n",
        "# 7.908"
      ],
      "execution_count": 0,
      "outputs": [
        {
          "output_type": "execute_result",
          "data": {
            "text/plain": [
              "7.90894768824232"
            ]
          },
          "metadata": {
            "tags": []
          },
          "execution_count": 43
        }
      ]
    },
    {
      "cell_type": "markdown",
      "metadata": {
        "id": "rTTWiEmMIl-2",
        "colab_type": "text"
      },
      "source": [
        "> Remember that by default, pandas will provide a ddof of 1 for the standard deviation."
      ]
    },
    {
      "cell_type": "markdown",
      "metadata": {
        "id": "E_8cYRv6Il-2",
        "colab_type": "text"
      },
      "source": [
        "Now let's calculate the standard error of the sample means using the analytic approach."
      ]
    },
    {
      "cell_type": "code",
      "metadata": {
        "id": "IN3U-VFhPcK8",
        "colab_type": "code",
        "colab": {}
      },
      "source": [
        "mean_score_ser_num = sample_std/np.sqrt(len(sampled_df['avg_test_score']))"
      ],
      "execution_count": 0,
      "outputs": []
    },
    {
      "cell_type": "code",
      "metadata": {
        "id": "KuBj2NLUIl-3",
        "colab_type": "code",
        "outputId": "08bde9dc-bce1-4588-f072-3f8b3ab1767b",
        "colab": {
          "base_uri": "https://localhost:8080/",
          "height": 35
        }
      },
      "source": [
        "mean_score_ser_num.shape"
      ],
      "execution_count": 0,
      "outputs": [
        {
          "output_type": "execute_result",
          "data": {
            "text/plain": [
              "()"
            ]
          },
          "metadata": {
            "tags": []
          },
          "execution_count": 47
        }
      ]
    },
    {
      "cell_type": "code",
      "metadata": {
        "id": "oyr3fP1QIl-5",
        "colab_type": "code",
        "outputId": "d2b5fdcf-9661-42fa-ab0b-1290f2fc9aff",
        "colab": {
          "base_uri": "https://localhost:8080/",
          "height": 35
        }
      },
      "source": [
        "import numpy as np\n",
        "s_error = mean_score_ser_num\n",
        "\n",
        "s_error\n",
        "# 0.790"
      ],
      "execution_count": 0,
      "outputs": [
        {
          "output_type": "execute_result",
          "data": {
            "text/plain": [
              "0.790894768824232"
            ]
          },
          "metadata": {
            "tags": []
          },
          "execution_count": 48
        }
      ]
    },
    {
      "cell_type": "markdown",
      "metadata": {
        "id": "ytCY0EOxIl-7",
        "colab_type": "text"
      },
      "source": [
        "Now it's worth making sure that we understand the difference between the standard error and the standard deviation.  Take a moment to write it down in your own words."
      ]
    },
    {
      "cell_type": "markdown",
      "metadata": {
        "id": "DMlquTWcQ_L1",
        "colab_type": "text"
      },
      "source": [
        "The standard error tells us about the distribution of means for samples of a bunch of samples. Distribution is about the spread of a particular sample. "
      ]
    },
    {
      "cell_type": "markdown",
      "metadata": {
        "id": "57I_C8Q7Il--",
        "colab_type": "text"
      },
      "source": [
        "One more question, what are the two components that the standard error depends on?"
      ]
    },
    {
      "cell_type": "markdown",
      "metadata": {
        "id": "EfibD1mnIl--",
        "colab_type": "text"
      },
      "source": [
        "### Computational Sample Statistics"
      ]
    },
    {
      "cell_type": "markdown",
      "metadata": {
        "id": "KbKG4AlCIl--",
        "colab_type": "text"
      },
      "source": [
        "Now let's use a computational approach to finding our sample statistics."
      ]
    },
    {
      "cell_type": "markdown",
      "metadata": {
        "id": "H7v8H92EIl-_",
        "colab_type": "text"
      },
      "source": [
        "We can do so by first treating our sample like the underlying population.  Then we create a set of random samples of our sample, calculate a specific sampling specific, and then finding the standard deviation in that sampling statistic to find the standard error.  Let's get started."
      ]
    },
    {
      "cell_type": "markdown",
      "metadata": {
        "id": "BkeupBBHIl-_",
        "colab_type": "text"
      },
      "source": [
        "1. Create random samples."
      ]
    },
    {
      "cell_type": "markdown",
      "metadata": {
        "id": "9wrRjOIuIl-_",
        "colab_type": "text"
      },
      "source": [
        "Use the `np.random.choice` method to sample our data.  Each sample should be the size of our original sample, and we'll choose 1000 samples.  Assign them to the variable `samples`."
      ]
    },
    {
      "cell_type": "markdown",
      "metadata": {
        "id": "oIoX7oyqIl_A",
        "colab_type": "text"
      },
      "source": [
        "> First make sure that you understand how `choice` works.  For example we get you started by choosing three numbers between 0 and 99.  You'll want to choose 100 numbers between 0 and 99."
      ]
    },
    {
      "cell_type": "markdown",
      "metadata": {
        "id": "krWY0hHjIl_A",
        "colab_type": "text"
      },
      "source": [
        "Assign your samples to the variable samples."
      ]
    },
    {
      "cell_type": "code",
      "metadata": {
        "id": "xiH_oqGoIl_A",
        "colab_type": "code",
        "colab": {}
      },
      "source": [
        "import numpy as np\n",
        "from numpy import random\n",
        "random.seed(2)\n",
        "# keep the seed in here\n",
        "samples = []\n",
        "for i in range(1000):\n",
        "  samples.append(random.choice(100, 100))\n"
      ],
      "execution_count": 0,
      "outputs": []
    },
    {
      "cell_type": "code",
      "metadata": {
        "id": "ilwWmc1YIl_D",
        "colab_type": "code",
        "outputId": "8021a251-0452-401c-8b5c-7b6d33d7c57f",
        "colab": {
          "base_uri": "https://localhost:8080/",
          "height": 34
        }
      },
      "source": [
        "len(samples)"
      ],
      "execution_count": 0,
      "outputs": [
        {
          "output_type": "execute_result",
          "data": {
            "text/plain": [
              "1000"
            ]
          },
          "metadata": {
            "tags": []
          },
          "execution_count": 52
        }
      ]
    },
    {
      "cell_type": "code",
      "metadata": {
        "id": "FjGxNtUhIl_H",
        "colab_type": "code",
        "outputId": "1454f163-e4be-423a-96e8-a14d223e832d",
        "colab": {}
      },
      "source": [
        "samples[0]['avg_test_score'][:3]\n",
        "# \n",
        "# 05M6922019All StudentsCommon Core Algebra    92.8\n",
        "# 07X4732019All StudentsCommon Core Algebra    59.2\n",
        "# 05M2852019All StudentsCommon Core Algebra    57.3\n",
        "# Name: avg_test_score, dtype: float64"
      ],
      "execution_count": 0,
      "outputs": [
        {
          "output_type": "execute_result",
          "data": {
            "text/plain": [
              "Unnamed Column\n",
              "05M6922019All StudentsCommon Core Algebra    92.8\n",
              "07X4732019All StudentsCommon Core Algebra    59.2\n",
              "05M2852019All StudentsCommon Core Algebra    57.3\n",
              "Name: avg_test_score, dtype: float64"
            ]
          },
          "metadata": {
            "tags": []
          },
          "execution_count": 131
        }
      ]
    },
    {
      "cell_type": "markdown",
      "metadata": {
        "id": "7pgSxb8jIl_K",
        "colab_type": "text"
      },
      "source": [
        "Next, let's calculate the mean for each of these samples."
      ]
    },
    {
      "cell_type": "code",
      "metadata": {
        "id": "QfKDdNm2Il_L",
        "colab_type": "code",
        "colab": {}
      },
      "source": [
        "sample_means = None"
      ],
      "execution_count": 0,
      "outputs": []
    },
    {
      "cell_type": "code",
      "metadata": {
        "id": "p7j8P_R7Il_N",
        "colab_type": "code",
        "outputId": "b05aa6e6-09f0-4b5e-f844-961332ec8f6e",
        "colab": {}
      },
      "source": [
        "sample_means[:2]\n",
        "# [65.21399999999998, 65.87399999999998]"
      ],
      "execution_count": 0,
      "outputs": [
        {
          "output_type": "execute_result",
          "data": {
            "text/plain": [
              "[65.21399999999998, 65.87399999999998]"
            ]
          },
          "metadata": {
            "tags": []
          },
          "execution_count": 144
        }
      ]
    },
    {
      "cell_type": "markdown",
      "metadata": {
        "id": "Y53WOQlWIl_R",
        "colab_type": "text"
      },
      "source": [
        "Now calculate a mean of means, and a standard error."
      ]
    },
    {
      "cell_type": "code",
      "metadata": {
        "id": "W2u2LenwIl_S",
        "colab_type": "code",
        "outputId": "48ac9b96-4814-4953-bb53-59b6d1650147",
        "colab": {}
      },
      "source": [
        "compuational_mean = None\n",
        "compuational_mean\n",
        "# 65.12"
      ],
      "execution_count": 0,
      "outputs": [
        {
          "output_type": "execute_result",
          "data": {
            "text/plain": [
              "65.12538799999997"
            ]
          },
          "metadata": {
            "tags": []
          },
          "execution_count": 146
        }
      ]
    },
    {
      "cell_type": "code",
      "metadata": {
        "id": "uQPxaLtdIl_V",
        "colab_type": "code",
        "outputId": "15c8986e-c02b-4ad1-afaf-e307c05a97b7",
        "colab": {}
      },
      "source": [
        "compuational_se = None\n",
        "compuational_se\n",
        "# 0.7785"
      ],
      "execution_count": 0,
      "outputs": [
        {
          "output_type": "execute_result",
          "data": {
            "text/plain": [
              "0.7785846039166192"
            ]
          },
          "metadata": {
            "tags": []
          },
          "execution_count": 148
        }
      ]
    },
    {
      "cell_type": "markdown",
      "metadata": {
        "id": "BDwWQa3mIl_g",
        "colab_type": "text"
      },
      "source": [
        "Compare this to our analytic calculation of `0.790`.\n"
      ]
    },
    {
      "cell_type": "markdown",
      "metadata": {
        "id": "YSDM5wAHIl_g",
        "colab_type": "text"
      },
      "source": [
        "Finally, let's see how we did against the underlying population."
      ]
    },
    {
      "cell_type": "code",
      "metadata": {
        "id": "4axNr4EXIl_h",
        "colab_type": "code",
        "outputId": "f24c6741-dfd1-47bd-ca72-566bec7185eb",
        "colab": {}
      },
      "source": [
        "None\n",
        "\n",
        "# 64.69"
      ],
      "execution_count": 0,
      "outputs": [
        {
          "output_type": "execute_result",
          "data": {
            "text/plain": [
              "64.69803439803445"
            ]
          },
          "metadata": {
            "tags": []
          },
          "execution_count": 151
        }
      ]
    },
    {
      "cell_type": "code",
      "metadata": {
        "id": "MbKi6lCTIl_j",
        "colab_type": "code",
        "outputId": "0a84c4ee-588f-45c8-a10e-1312713969ba",
        "colab": {}
      },
      "source": [
        "65.12 - 64.69"
      ],
      "execution_count": 0,
      "outputs": [
        {
          "output_type": "execute_result",
          "data": {
            "text/plain": [
              "0.4300000000000068"
            ]
          },
          "metadata": {
            "tags": []
          },
          "execution_count": 152
        }
      ]
    },
    {
      "cell_type": "markdown",
      "metadata": {
        "id": "v5WWccQeIl_m",
        "colab_type": "text"
      },
      "source": [
        "### Resources"
      ]
    },
    {
      "cell_type": "markdown",
      "metadata": {
        "id": "OQ2HudoKIl_m",
        "colab_type": "text"
      },
      "source": [
        "[Sports Reference](https://sportsreference.readthedocs.io/en/stable/)"
      ]
    },
    {
      "cell_type": "markdown",
      "metadata": {
        "id": "HXo_JYqXIl_n",
        "colab_type": "text"
      },
      "source": [
        "[Degrees of Freedom](https://blog.minitab.com/blog/statistics-and-quality-data-analysis/what-are-degrees-of-freedom-in-statistics)"
      ]
    }
  ]
}