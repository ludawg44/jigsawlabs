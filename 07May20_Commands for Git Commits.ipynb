{
  "nbformat": 4,
  "nbformat_minor": 0,
  "metadata": {
    "kernelspec": {
      "display_name": "Python 3",
      "language": "python",
      "name": "python3"
    },
    "language_info": {
      "codemirror_mode": {
        "name": "ipython",
        "version": 3
      },
      "file_extension": ".py",
      "mimetype": "text/x-python",
      "name": "python",
      "nbconvert_exporter": "python",
      "pygments_lexer": "ipython3",
      "version": "3.7.4"
    },
    "colab": {
      "name": "Copy of index.ipynb",
      "provenance": [],
      "include_colab_link": true
    }
  },
  "cells": [
    {
      "cell_type": "markdown",
      "metadata": {
        "id": "view-in-github",
        "colab_type": "text"
      },
      "source": [
        "<a href=\"https://colab.research.google.com/github/ludawg44/jigsawlabs/blob/master/07May20_Commands%20for%20Git%20Commits.ipynb\" target=\"_parent\"><img src=\"https://colab.research.google.com/assets/colab-badge.svg\" alt=\"Open In Colab\"/></a>"
      ]
    },
    {
      "cell_type": "markdown",
      "metadata": {
        "id": "efLhmr77NRlr",
        "colab_type": "text"
      },
      "source": [
        "# Commands for Git Commits - Code Along"
      ]
    },
    {
      "cell_type": "markdown",
      "metadata": {
        "id": "fQSNZhseNRls",
        "colab_type": "text"
      },
      "source": [
        "### Introduction"
      ]
    },
    {
      "cell_type": "markdown",
      "metadata": {
        "id": "4JFIzCf6NRls",
        "colab_type": "text"
      },
      "source": [
        "In the last lesson, we saw an overview of the Git workflow for saving changes with Git.  In this lesson, we'll walk through this workflow again. "
      ]
    },
    {
      "cell_type": "markdown",
      "metadata": {
        "id": "20IDejHKNRlt",
        "colab_type": "text"
      },
      "source": [
        "### Creating Files and Initializing a Repository"
      ]
    },
    {
      "cell_type": "markdown",
      "metadata": {
        "id": "KDDrfvwYNRlt",
        "colab_type": "text"
      },
      "source": [
        "Let's start by creating our `album.py` file, and then initializing a repository."
      ]
    },
    {
      "cell_type": "code",
      "metadata": {
        "id": "GcNjlYi1NRlu",
        "colab_type": "code",
        "colab": {}
      },
      "source": [
        "!touch album.py"
      ],
      "execution_count": 0,
      "outputs": []
    },
    {
      "cell_type": "markdown",
      "metadata": {
        "id": "xivoImLtNRlx",
        "colab_type": "text"
      },
      "source": [
        "Now write `git init` to initialize the repository.  \n",
        "> Remember to do this in a Jupyter notebook, precede each command with an exclamation point (`!git init`)."
      ]
    },
    {
      "cell_type": "code",
      "metadata": {
        "id": "yIkUkUUlNRlx",
        "colab_type": "code",
        "outputId": "6c7ce54d-9a24-4f78-b5c2-4253cb2bd19e",
        "colab": {}
      },
      "source": [
        "!git init\n",
        "# Initialized empty Git repository"
      ],
      "execution_count": 0,
      "outputs": [
        {
          "output_type": "stream",
          "text": [
            "Initialized empty Git repository in /Users/jeff/Documents/jigsaw/curriculum/1-section-content/mod-1/2-datatypes/a-fundamentals/9-github/2-git-commands/.git/\n"
          ],
          "name": "stdout"
        }
      ]
    },
    {
      "cell_type": "markdown",
      "metadata": {
        "id": "26MwCoYWNRl0",
        "colab_type": "text"
      },
      "source": [
        "We can check that our repository is there with `ls -a` which lists all files."
      ]
    },
    {
      "cell_type": "code",
      "metadata": {
        "id": "JXhm_Z4zNRl1",
        "colab_type": "code",
        "colab": {}
      },
      "source": [
        "\n",
        "# ./                  .git/               album.py\n",
        "# ../                 .ipynb_checkpoints/ index.ipynb"
      ],
      "execution_count": 0,
      "outputs": []
    },
    {
      "cell_type": "markdown",
      "metadata": {
        "id": "H2IBRmwGNRl3",
        "colab_type": "text"
      },
      "source": [
        "Now add the code below to the `album.py` file.\n",
        "\n",
        "```python\n",
        "def find_by_name(album, name):\n",
        "    return [album for albums where album['name'] == name]\n",
        "```"
      ]
    },
    {
      "cell_type": "markdown",
      "metadata": {
        "id": "1NmIqRPQNRl3",
        "colab_type": "text"
      },
      "source": [
        "### Git Commands"
      ]
    },
    {
      "cell_type": "markdown",
      "metadata": {
        "id": "_D3XRvofNRl4",
        "colab_type": "text"
      },
      "source": [
        "1. Git status"
      ]
    },
    {
      "cell_type": "markdown",
      "metadata": {
        "id": "5Jd9MRGBNRl4",
        "colab_type": "text"
      },
      "source": [
        "Git status gives us an overview of the changes that we made thus far, and shows us any files that are staged to be committed.  Type `!git status` in the cell below."
      ]
    },
    {
      "cell_type": "code",
      "metadata": {
        "id": "qGlu6gaTNRl4",
        "colab_type": "code",
        "outputId": "ad51513f-0a70-4790-fcaf-e0471e9f3be4",
        "colab": {}
      },
      "source": [
        "!git status"
      ],
      "execution_count": 0,
      "outputs": [
        {
          "output_type": "stream",
          "text": [
            "On branch master\n",
            "\n",
            "No commits yet\n",
            "\n",
            "Untracked files:\n",
            "  (use \"git add <file>...\" to include in what will be committed)\n",
            "\n",
            "\t\u001b[31m.ipynb_checkpoints/\u001b[m\n",
            "\t\u001b[31malbum.py\u001b[m\n",
            "\t\u001b[31mindex.ipynb\u001b[m\n",
            "\n",
            "nothing added to commit but untracked files present (use \"git add\" to track)\n"
          ],
          "name": "stdout"
        }
      ]
    },
    {
      "cell_type": "markdown",
      "metadata": {
        "id": "4hsetb-2NRl7",
        "colab_type": "text"
      },
      "source": [
        "So we see that two files, and the `.ipynb_checkpoints` folder listed.  The next step is to specify which files we would like to commit."
      ]
    },
    {
      "cell_type": "markdown",
      "metadata": {
        "id": "K09AO2EDNRl7",
        "colab_type": "text"
      },
      "source": [
        "2. Git add"
      ]
    },
    {
      "cell_type": "markdown",
      "metadata": {
        "id": "TZY5RhBoNRl8",
        "colab_type": "text"
      },
      "source": [
        "If we want to commit certain files, we first need to add them to staging.  Let's just add the `album.py` file.\n",
        "\n",
        "Type `git add album.py` below."
      ]
    },
    {
      "cell_type": "code",
      "metadata": {
        "id": "w1_1KzAvNRl9",
        "colab_type": "code",
        "colab": {}
      },
      "source": [
        "!git add album.py"
      ],
      "execution_count": 0,
      "outputs": []
    },
    {
      "cell_type": "markdown",
      "metadata": {
        "id": "mGJ_gOluNRl_",
        "colab_type": "text"
      },
      "source": [
        "> **Why `git add`?** Git has an `add` step before committing because, while we are coding, we could be working on multiple problems at the same time.  By giving us the option of adding only certain files, this allows to only add files related to a specific commit.  For example, above, only the `album.py` file has code related to searching for an album.  The `index.ipynb` file does not."
      ]
    },
    {
      "cell_type": "markdown",
      "metadata": {
        "id": "Q3VltnMjNRl_",
        "colab_type": "text"
      },
      "source": [
        "Now let's see that we did this correctly by typing `git status`."
      ]
    },
    {
      "cell_type": "code",
      "metadata": {
        "id": "1PAtS8drNRl_",
        "colab_type": "code",
        "outputId": "94f5a513-2a16-4ef4-ae95-99cf550c837b",
        "colab": {}
      },
      "source": [
        "!git status"
      ],
      "execution_count": 0,
      "outputs": [
        {
          "output_type": "stream",
          "text": [
            "On branch master\n",
            "\n",
            "No commits yet\n",
            "\n",
            "Changes to be committed:\n",
            "  (use \"git rm --cached <file>...\" to unstage)\n",
            "\n",
            "\t\u001b[32mnew file:   album.py\u001b[m\n",
            "\n",
            "Untracked files:\n",
            "  (use \"git add <file>...\" to include in what will be committed)\n",
            "\n",
            "\t\u001b[31m.ipynb_checkpoints/\u001b[m\n",
            "\t\u001b[31mindex.ipynb\u001b[m\n",
            "\n"
          ],
          "name": "stdout"
        }
      ]
    },
    {
      "cell_type": "markdown",
      "metadata": {
        "id": "89wrQaYsNRmB",
        "colab_type": "text"
      },
      "source": [
        "Ok, so we see that only the `album.py` file is to be committed."
      ]
    },
    {
      "cell_type": "markdown",
      "metadata": {
        "id": "XV6Yfj_0NRmC",
        "colab_type": "text"
      },
      "source": [
        "3. Git commit"
      ]
    },
    {
      "cell_type": "markdown",
      "metadata": {
        "id": "0LEzWXuYNRmC",
        "colab_type": "text"
      },
      "source": [
        "Now we can save our change by writing `git commit -m ` followed by a message, like `git commit -m 'add album search'`.  \n",
        "\n",
        "> The `-m` stands for message."
      ]
    },
    {
      "cell_type": "markdown",
      "metadata": {
        "id": "0uw1pvY-NRmD",
        "colab_type": "text"
      },
      "source": [
        "Ok, now make a git commit with a related message below."
      ]
    },
    {
      "cell_type": "code",
      "metadata": {
        "id": "SPYdi3CbNRmD",
        "colab_type": "code",
        "outputId": "138f9f5b-8bb7-496b-ed0d-a29d20f81d19",
        "colab": {}
      },
      "source": [
        "!git commit -m 'add album search'"
      ],
      "execution_count": 0,
      "outputs": [
        {
          "output_type": "stream",
          "text": [
            "[master (root-commit) 0fb3d78] add album search\n",
            " 1 file changed, 2 insertions(+)\n",
            " create mode 100644 album.py\n"
          ],
          "name": "stdout"
        }
      ]
    },
    {
      "cell_type": "markdown",
      "metadata": {
        "id": "JZV4PszZNRmG",
        "colab_type": "text"
      },
      "source": [
        "So that's how we make a git commit.  We first write `git add` followed by the file we want to commit.  Then we write `git commit -m 'message'` to make the commit."
      ]
    },
    {
      "cell_type": "markdown",
      "metadata": {
        "id": "6sUoBoxeNRmG",
        "colab_type": "text"
      },
      "source": [
        "### Viewing the Changes"
      ]
    },
    {
      "cell_type": "markdown",
      "metadata": {
        "id": "wGsxk4GtNRmG",
        "colab_type": "text"
      },
      "source": [
        "Once we have made our commit, we can view the commit with `git log`."
      ]
    },
    {
      "cell_type": "code",
      "metadata": {
        "id": "ff0Kt6W9NRmH",
        "colab_type": "code",
        "outputId": "d2138192-9900-4f5d-ad64-8cca049d6292",
        "colab": {}
      },
      "source": [
        "!git log"
      ],
      "execution_count": 0,
      "outputs": [
        {
          "output_type": "stream",
          "text": [
            "\u001b[33mcommit 0fb3d7884011cff33a84bb8625e5f55835ccec4c\u001b[m\u001b[33m (\u001b[m\u001b[1;36mHEAD -> \u001b[m\u001b[1;32mmaster\u001b[m\u001b[33m)\u001b[m\n",
            "Author: Jeff Katz <JeffreyEricKatz@gmail.com>\n",
            "Date:   Wed Feb 5 12:21:18 2020 -0500\n",
            "\n",
            "    add album search\n"
          ],
          "name": "stdout"
        }
      ]
    },
    {
      "cell_type": "markdown",
      "metadata": {
        "id": "cTwiDtLTNRmJ",
        "colab_type": "text"
      },
      "source": [
        "And then we can view the change saved in that commit with `git show`."
      ]
    },
    {
      "cell_type": "code",
      "metadata": {
        "id": "SMlR3WFbNRmJ",
        "colab_type": "code",
        "outputId": "eb33987b-aeff-4508-ff03-4689592557a0",
        "colab": {}
      },
      "source": [
        "!git show"
      ],
      "execution_count": 0,
      "outputs": [
        {
          "output_type": "stream",
          "text": [
            "\u001b[33mcommit 0fb3d7884011cff33a84bb8625e5f55835ccec4c\u001b[m\u001b[33m (\u001b[m\u001b[1;36mHEAD -> \u001b[m\u001b[1;32mmaster\u001b[m\u001b[33m)\u001b[m\n",
            "Author: Jeff Katz <JeffreyEricKatz@gmail.com>\n",
            "Date:   Wed Feb 5 12:21:18 2020 -0500\n",
            "\n",
            "    add album search\n",
            "\n",
            "\u001b[1mdiff --git a/album.py b/album.py\u001b[m\n",
            "\u001b[1mnew file mode 100644\u001b[m\n",
            "\u001b[1mindex 0000000..fae6ce5\u001b[m\n",
            "\u001b[1m--- /dev/null\u001b[m\n",
            "\u001b[1m+++ b/album.py\u001b[m\n",
            "\u001b[36m@@ -0,0 +1,2 @@\u001b[m\n",
            "\u001b[32m+\u001b[m\u001b[32mdef find_by_name(album, name):\u001b[m\n",
            "\u001b[32m+\u001b[m\u001b[32m    return [album for albums where album['name'] == name]\u001b[m\n",
            "\\ No newline at end of file\u001b[m\n"
          ],
          "name": "stdout"
        }
      ]
    },
    {
      "cell_type": "markdown",
      "metadata": {
        "id": "IGIv4holNRmL",
        "colab_type": "text"
      },
      "source": [
        "### Where we are now"
      ]
    },
    {
      "cell_type": "markdown",
      "metadata": {
        "id": "KO7Vo42yNRmM",
        "colab_type": "text"
      },
      "source": [
        "Let's see what git status says now, now that we have our first commit.  Check the status below."
      ]
    },
    {
      "cell_type": "code",
      "metadata": {
        "id": "FNq8c2pVNRmM",
        "colab_type": "code",
        "outputId": "754f3d31-5b30-4d7b-f27e-4aedfaaa97dd",
        "colab": {}
      },
      "source": [
        "!git status"
      ],
      "execution_count": 0,
      "outputs": [
        {
          "output_type": "stream",
          "text": [
            "On branch master\n",
            "Untracked files:\n",
            "  (use \"git add <file>...\" to include in what will be committed)\n",
            "\n",
            "\t\u001b[31m.ipynb_checkpoints/\u001b[m\n",
            "\t\u001b[31mindex.ipynb\u001b[m\n",
            "\n",
            "nothing added to commit but untracked files present (use \"git add\" to track)\n"
          ],
          "name": "stdout"
        }
      ]
    },
    {
      "cell_type": "markdown",
      "metadata": {
        "id": "2JRyu4dTNRmO",
        "colab_type": "text"
      },
      "source": [
        "Now let's make a commit related to the `index.ipynb` file.  The first step is to use the `git add ` command.  Add the `index.ipynb` file below. "
      ]
    },
    {
      "cell_type": "code",
      "metadata": {
        "id": "P68c105SNRmO",
        "colab_type": "code",
        "colab": {}
      },
      "source": [
        "!git add index.ipynb"
      ],
      "execution_count": 0,
      "outputs": []
    },
    {
      "cell_type": "markdown",
      "metadata": {
        "id": "0qpnG4QJNRmQ",
        "colab_type": "text"
      },
      "source": [
        "Then check what was added."
      ]
    },
    {
      "cell_type": "code",
      "metadata": {
        "id": "g1qf5MotNRmR",
        "colab_type": "code",
        "outputId": "c58a66d0-a872-4043-96d3-018d2e51e258",
        "colab": {}
      },
      "source": [
        "!git status\n",
        "#On branch master\n",
        "# Changes to be committed:\n",
        "#  (use \"git reset HEAD <file>...\" to unstage)\n",
        "# .."
      ],
      "execution_count": 0,
      "outputs": [
        {
          "output_type": "stream",
          "text": [
            "/bin/sh: replace: command not found\n"
          ],
          "name": "stdout"
        }
      ]
    },
    {
      "cell_type": "markdown",
      "metadata": {
        "id": "dOjLDA4pNRmT",
        "colab_type": "text"
      },
      "source": [
        "Finally make the commit along with a message `git practice`."
      ]
    },
    {
      "cell_type": "code",
      "metadata": {
        "id": "EE48l6VBNRmT",
        "colab_type": "code",
        "outputId": "c68175a3-bcf5-4e5d-aeb1-45f1d7efbcac",
        "colab": {}
      },
      "source": [
        "!git commit -m 'git practice'"
      ],
      "execution_count": 0,
      "outputs": [
        {
          "output_type": "stream",
          "text": [
            "[master e825909] git practice\n",
            " 1 file changed, 74 insertions(+)\n"
          ],
          "name": "stdout"
        }
      ]
    },
    {
      "cell_type": "markdown",
      "metadata": {
        "id": "jeWAw3oTNRmW",
        "colab_type": "text"
      },
      "source": [
        "* View your changes."
      ]
    },
    {
      "cell_type": "markdown",
      "metadata": {
        "id": "W5f1VC8jNRmW",
        "colab_type": "text"
      },
      "source": [
        "Now look at the log of all of the commits in our git repository.  We should now see two commits."
      ]
    },
    {
      "cell_type": "code",
      "metadata": {
        "id": "XcJwTimPNRmW",
        "colab_type": "code",
        "outputId": "7aac70c0-a9d7-46eb-8374-1da934e21b43",
        "colab": {}
      },
      "source": [
        "!git log "
      ],
      "execution_count": 0,
      "outputs": [
        {
          "output_type": "stream",
          "text": [
            "\u001b[33mcommit e825909ea805a621697ad9ac0ee063e7c87cabdd\u001b[m\u001b[33m (\u001b[m\u001b[1;36mHEAD -> \u001b[m\u001b[1;32mmaster\u001b[m\u001b[33m)\u001b[m\n",
            "Author: Jeff Katz <JeffreyEricKatz@gmail.com>\n",
            "Date:   Wed Feb 5 12:34:35 2020 -0500\n",
            "\n",
            "    git practice\n",
            "\n",
            "\u001b[33mcommit 884aa7b720f1a30873dc59037493be207796d79f\u001b[m\n",
            "Author: Jeff Katz <JeffreyEricKatz@gmail.com>\n",
            "Date:   Wed Feb 5 12:33:53 2020 -0500\n",
            "\n",
            "    git practice\n",
            "\n",
            "\u001b[33mcommit 0fb3d7884011cff33a84bb8625e5f55835ccec4c\u001b[m\n",
            "Author: Jeff Katz <JeffreyEricKatz@gmail.com>\n",
            "Date:   Wed Feb 5 12:21:18 2020 -0500\n",
            "\n",
            "    add album search\n"
          ],
          "name": "stdout"
        }
      ]
    },
    {
      "cell_type": "markdown",
      "metadata": {
        "id": "OOWJRoJdNRmY",
        "colab_type": "text"
      },
      "source": [
        "Now view our current status."
      ]
    },
    {
      "cell_type": "code",
      "metadata": {
        "id": "zlCeB5nvNRmY",
        "colab_type": "code",
        "outputId": "55876cde-da10-4a7c-b2db-ac2ad3e1cbf7",
        "colab": {}
      },
      "source": [
        "!git status"
      ],
      "execution_count": 0,
      "outputs": [
        {
          "output_type": "stream",
          "text": [
            "On branch master\n",
            "Changes not staged for commit:\n",
            "  (use \"git add <file>...\" to update what will be committed)\n",
            "  (use \"git checkout -- <file>...\" to discard changes in working directory)\n",
            "\n",
            "\t\u001b[31mmodified:   index.ipynb\u001b[m\n",
            "\n",
            "Untracked files:\n",
            "  (use \"git add <file>...\" to include in what will be committed)\n",
            "\n",
            "\t\u001b[31m.ipynb_checkpoints/\u001b[m\n",
            "\n",
            "no changes added to commit (use \"git add\" and/or \"git commit -a\")\n"
          ],
          "name": "stdout"
        }
      ]
    },
    {
      "cell_type": "markdown",
      "metadata": {
        "id": "jKqNHnN5NRma",
        "colab_type": "text"
      },
      "source": [
        "Notice that we no longer see anything about `album.py` listed.  This is because `album.py` we already saved the changes we made to `album.py`.  There are no new changes to save in that file."
      ]
    },
    {
      "cell_type": "markdown",
      "metadata": {
        "id": "bj1PupWSNRmb",
        "colab_type": "text"
      },
      "source": [
        "> If you add a couple of lines to the `album.py` file and run `git status` again, you will see the `album.py` file listed as something that was changed and can be added to a commit."
      ]
    },
    {
      "cell_type": "markdown",
      "metadata": {
        "id": "S7IxTTYONRmb",
        "colab_type": "text"
      },
      "source": [
        "### Summary"
      ]
    },
    {
      "cell_type": "markdown",
      "metadata": {
        "id": "cX8GeCtaNRmc",
        "colab_type": "text"
      },
      "source": [
        "In this lesson, we better understood the commands for making a git commit.  To do so we start with `git add` to specify the files to commit, and then `git commit -m 'message'` to create a git commit along with the message.  \n",
        "\n",
        "Then we saw how to view our commits.  We do so with `git log`.  Finally, if we want to see the contents of a commit, we can view the most recent commit with `git show`."
      ]
    }
  ]
}