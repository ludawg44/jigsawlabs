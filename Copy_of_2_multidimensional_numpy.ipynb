{
  "nbformat": 4,
  "nbformat_minor": 0,
  "metadata": {
    "kernelspec": {
      "display_name": "Python 3",
      "language": "python",
      "name": "python3"
    },
    "language_info": {
      "codemirror_mode": {
        "name": "ipython",
        "version": 3
      },
      "file_extension": ".py",
      "mimetype": "text/x-python",
      "name": "python",
      "nbconvert_exporter": "python",
      "pygments_lexer": "ipython3",
      "version": "3.7.4"
    },
    "colab": {
      "name": "Copy of 2-multidimensional-numpy.ipynb",
      "provenance": [],
      "include_colab_link": true
    }
  },
  "cells": [
    {
      "cell_type": "markdown",
      "metadata": {
        "id": "view-in-github",
        "colab_type": "text"
      },
      "source": [
        "<a href=\"https://colab.research.google.com/github/ludawg44/jigsawlabs/blob/master/Copy_of_2_multidimensional_numpy.ipynb\" target=\"_parent\"><img src=\"https://colab.research.google.com/assets/colab-badge.svg\" alt=\"Open In Colab\"/></a>"
      ]
    },
    {
      "cell_type": "markdown",
      "metadata": {
        "id": "Zz66F_hkZohy",
        "colab_type": "text"
      },
      "source": [
        "# Multidimensional Numpy Arrays"
      ]
    },
    {
      "cell_type": "markdown",
      "metadata": {
        "id": "cXDE23T6Zoh1",
        "colab_type": "text"
      },
      "source": [
        "### Introduction"
      ]
    },
    {
      "cell_type": "markdown",
      "metadata": {
        "id": "i48qFJdZZoh2",
        "colab_type": "text"
      },
      "source": [
        "In the last lesson, we were introduced to numpy arrays.  We saw that unlike lists in Python, with numpy arrays, each item must be of the same type.  We saw that by enforcing a homogenous type, we can perform operations like broadcasting.  \n",
        "\n",
        "In this lesson, we'll move onto creating and working with multidimensional arrays."
      ]
    },
    {
      "cell_type": "markdown",
      "metadata": {
        "id": "G9btyuxqZoh3",
        "colab_type": "text"
      },
      "source": [
        "### Creating a Multidimensional Array"
      ]
    },
    {
      "cell_type": "markdown",
      "metadata": {
        "id": "koAFkIhkZoh4",
        "colab_type": "text"
      },
      "source": [
        "Let's begin by starting with a single dimensional array."
      ]
    },
    {
      "cell_type": "code",
      "metadata": {
        "id": "-twr9QVJZoh5",
        "colab_type": "code",
        "outputId": "09c1928d-5a6d-47b8-f871-cee7f3ea7f7c",
        "colab": {}
      },
      "source": [
        "import numpy as np\n",
        "nums_to_twelve = np.arange(1, 13)\n",
        "nums_to_twelve"
      ],
      "execution_count": 0,
      "outputs": [
        {
          "output_type": "execute_result",
          "data": {
            "text/plain": [
              "array([ 1,  2,  3,  4,  5,  6,  7,  8,  9, 10, 11, 12])"
            ]
          },
          "metadata": {
            "tags": []
          },
          "execution_count": 3
        }
      ]
    },
    {
      "cell_type": "markdown",
      "metadata": {
        "id": "Da1lP1WlZoh-",
        "colab_type": "text"
      },
      "source": [
        "Now let's turn this into an array of two columns."
      ]
    },
    {
      "cell_type": "code",
      "metadata": {
        "id": "P9fyoDMyZoh_",
        "colab_type": "code",
        "outputId": "5941b825-c7c7-47bd-fdb6-ad7a14182053",
        "colab": {}
      },
      "source": [
        "nums_to_twelve.reshape(6, 2)"
      ],
      "execution_count": 0,
      "outputs": [
        {
          "output_type": "execute_result",
          "data": {
            "text/plain": [
              "array([[ 1,  2],\n",
              "       [ 3,  4],\n",
              "       [ 5,  6],\n",
              "       [ 7,  8],\n",
              "       [ 9, 10],\n",
              "       [11, 12]])"
            ]
          },
          "metadata": {
            "tags": []
          },
          "execution_count": 4
        }
      ]
    },
    {
      "cell_type": "markdown",
      "metadata": {
        "id": "qSUJ4v69ZoiC",
        "colab_type": "text"
      },
      "source": [
        "We just used the `reshape` method to create a new array of the same contents but now with `6` rows and `2` columns.  This is typical in numpy: specify the row, then the column.  "
      ]
    },
    {
      "cell_type": "markdown",
      "metadata": {
        "id": "7WKnS6UqZoiD",
        "colab_type": "text"
      },
      "source": [
        "Let's try it again, this time with four rows and three columns."
      ]
    },
    {
      "cell_type": "code",
      "metadata": {
        "id": "B1e_zy44ZoiD",
        "colab_type": "code",
        "outputId": "f25a3e70-8a4c-4424-f757-f42a513e83e2",
        "colab": {}
      },
      "source": [
        "import numpy as np\n",
        "nums_to_twelve = np.arange(1, 13)\n",
        "\n",
        "to_twelve_grid = nums_to_twelve.reshape(4, 3)\n",
        "to_twelve_grid"
      ],
      "execution_count": 0,
      "outputs": [
        {
          "output_type": "execute_result",
          "data": {
            "text/plain": [
              "array([[ 1,  2,  3],\n",
              "       [ 4,  5,  6],\n",
              "       [ 7,  8,  9],\n",
              "       [10, 11, 12]])"
            ]
          },
          "metadata": {
            "tags": []
          },
          "execution_count": 2
        }
      ]
    },
    {
      "cell_type": "markdown",
      "metadata": {
        "id": "03GnsOiPZoiG",
        "colab_type": "text"
      },
      "source": [
        "We can see the `shape` of an array with the `shape` method."
      ]
    },
    {
      "cell_type": "code",
      "metadata": {
        "id": "ja6vLl-DZoiH",
        "colab_type": "code",
        "outputId": "3cd84abd-dc9f-4170-f877-bc382b750dc5",
        "colab": {}
      },
      "source": [
        "to_twelve_grid.shape"
      ],
      "execution_count": 0,
      "outputs": [
        {
          "output_type": "execute_result",
          "data": {
            "text/plain": [
              "(4, 3)"
            ]
          },
          "metadata": {
            "tags": []
          },
          "execution_count": 29
        }
      ]
    },
    {
      "cell_type": "markdown",
      "metadata": {
        "id": "5J7VxF5RZoiK",
        "colab_type": "text"
      },
      "source": [
        "This tells us that there are four rows and three columns in the `to_twelve_grid`."
      ]
    },
    {
      "cell_type": "markdown",
      "metadata": {
        "id": "AchmuAqvZoiL",
        "colab_type": "text"
      },
      "source": [
        "> Note that we can also view the shape of a single dimensional array."
      ]
    },
    {
      "cell_type": "code",
      "metadata": {
        "id": "MmRScKRUZoiM",
        "colab_type": "code",
        "outputId": "847590ee-edc0-44e0-f6ef-3a83a945d85d",
        "colab": {}
      },
      "source": [
        "nums_to_twelve"
      ],
      "execution_count": 0,
      "outputs": [
        {
          "output_type": "execute_result",
          "data": {
            "text/plain": [
              "array([ 1,  2,  3,  4,  5,  6,  7,  8,  9, 10, 11, 12])"
            ]
          },
          "metadata": {
            "tags": []
          },
          "execution_count": 30
        }
      ]
    },
    {
      "cell_type": "code",
      "metadata": {
        "id": "Xd76vUonZoiO",
        "colab_type": "code",
        "outputId": "aabcc512-f12e-45f7-c95d-81c034954a78",
        "colab": {}
      },
      "source": [
        "nums_to_twelve.shape"
      ],
      "execution_count": 0,
      "outputs": [
        {
          "output_type": "execute_result",
          "data": {
            "text/plain": [
              "(12,)"
            ]
          },
          "metadata": {
            "tags": []
          },
          "execution_count": 31
        }
      ]
    },
    {
      "cell_type": "markdown",
      "metadata": {
        "id": "6L88irRyZoiR",
        "colab_type": "text"
      },
      "source": [
        "## Selecting with Multidimensional Arrays"
      ]
    },
    {
      "cell_type": "markdown",
      "metadata": {
        "id": "kNBTVLyVZoiS",
        "colab_type": "text"
      },
      "source": [
        "Now let's talk about selecting from an array."
      ]
    },
    {
      "cell_type": "markdown",
      "metadata": {
        "id": "fuKZim_zZoiS",
        "colab_type": "text"
      },
      "source": [
        "Just as **creating** arrays works by specifying the row information followed by the column information, we use the same pattern with **selecting** items."
      ]
    },
    {
      "cell_type": "code",
      "metadata": {
        "id": "n_SQskH0ZoiT",
        "colab_type": "code",
        "outputId": "96cd7270-5ed4-4b21-90a4-3f33d3d059a1",
        "colab": {}
      },
      "source": [
        "import numpy as np\n",
        "nums_to_twelve = np.arange(1, 13)\n",
        "\n",
        "to_twelve_grid = nums_to_twelve.reshape(4, 3)\n",
        "to_twelve_grid"
      ],
      "execution_count": 0,
      "outputs": [
        {
          "output_type": "execute_result",
          "data": {
            "text/plain": [
              "array([[ 1,  2,  3],\n",
              "       [ 4,  5,  6],\n",
              "       [ 7,  8,  9],\n",
              "       [10, 11, 12]])"
            ]
          },
          "metadata": {
            "tags": []
          },
          "execution_count": 3
        }
      ]
    },
    {
      "cell_type": "markdown",
      "metadata": {
        "id": "-JrEPPMFZoiV",
        "colab_type": "text"
      },
      "source": [
        "For example, let's start the last item in the first row."
      ]
    },
    {
      "cell_type": "code",
      "metadata": {
        "id": "v-cBUqtDZoiW",
        "colab_type": "code",
        "outputId": "2deb0b80-8323-425c-fea1-d7b57536ea7a",
        "colab": {}
      },
      "source": [
        "to_twelve_grid[0, -1]"
      ],
      "execution_count": 0,
      "outputs": [
        {
          "output_type": "execute_result",
          "data": {
            "text/plain": [
              "3"
            ]
          },
          "metadata": {
            "tags": []
          },
          "execution_count": 18
        }
      ]
    },
    {
      "cell_type": "markdown",
      "metadata": {
        "id": "tTTreEQSZoiZ",
        "colab_type": "text"
      },
      "source": [
        "Next let's find the second element in the fourth row."
      ]
    },
    {
      "cell_type": "code",
      "metadata": {
        "id": "qRqc7sJhZoiZ",
        "colab_type": "code",
        "outputId": "5daadccb-356c-4b7b-b87d-bb9a8fc0e0af",
        "colab": {}
      },
      "source": [
        "to_twelve_grid[3, 1]"
      ],
      "execution_count": 0,
      "outputs": [
        {
          "output_type": "execute_result",
          "data": {
            "text/plain": [
              "11"
            ]
          },
          "metadata": {
            "tags": []
          },
          "execution_count": 19
        }
      ]
    },
    {
      "cell_type": "markdown",
      "metadata": {
        "id": "Vd-AsCpmZoic",
        "colab_type": "text"
      },
      "source": [
        "Next, let's select all elements in the first column."
      ]
    },
    {
      "cell_type": "code",
      "metadata": {
        "id": "SseUo8F4Zoic",
        "colab_type": "code",
        "outputId": "f3e57f0a-a737-4e24-ec60-2f05750159ed",
        "colab": {}
      },
      "source": [
        "to_twelve_grid[:, 0]"
      ],
      "execution_count": 0,
      "outputs": [
        {
          "output_type": "execute_result",
          "data": {
            "text/plain": [
              "array([ 1,  4,  7, 10])"
            ]
          },
          "metadata": {
            "tags": []
          },
          "execution_count": 4
        }
      ]
    },
    {
      "cell_type": "markdown",
      "metadata": {
        "id": "Ef2sRI01Zoif",
        "colab_type": "text"
      },
      "source": [
        "Well this translates to selecting all the elements in a row, and only the first column."
      ]
    },
    {
      "cell_type": "markdown",
      "metadata": {
        "id": "3ILm-GSYZoig",
        "colab_type": "text"
      },
      "source": [
        "Next, let's select all of the elements in the second row.  This means we select only the second row, and all of the columns."
      ]
    },
    {
      "cell_type": "code",
      "metadata": {
        "id": "BatO66DEZoih",
        "colab_type": "code",
        "outputId": "67709de9-0603-4549-f2f5-ffc4c77aa6e1",
        "colab": {}
      },
      "source": [
        "to_twelve_grid[1, :]"
      ],
      "execution_count": 0,
      "outputs": [
        {
          "output_type": "execute_result",
          "data": {
            "text/plain": [
              "array([4, 5, 6])"
            ]
          },
          "metadata": {
            "tags": []
          },
          "execution_count": 28
        }
      ]
    },
    {
      "cell_type": "code",
      "metadata": {
        "id": "ttknd9e_Zoij",
        "colab_type": "code",
        "outputId": "69f16bac-4d4d-46df-9122-1ce1234a73ab",
        "colab": {}
      },
      "source": [
        "to_twelve_grid"
      ],
      "execution_count": 0,
      "outputs": [
        {
          "output_type": "execute_result",
          "data": {
            "text/plain": [
              "array([[ 1,  2,  3],\n",
              "       [ 4,  5,  6],\n",
              "       [ 7,  8,  9],\n",
              "       [10, 11, 12]])"
            ]
          },
          "metadata": {
            "tags": []
          },
          "execution_count": 5
        }
      ]
    },
    {
      "cell_type": "markdown",
      "metadata": {
        "id": "M7vHlc12Zoil",
        "colab_type": "text"
      },
      "source": [
        "## Understanding an Axis"
      ]
    },
    {
      "cell_type": "markdown",
      "metadata": {
        "id": "5jxQf301Zoim",
        "colab_type": "text"
      },
      "source": [
        "Let's take another look at our `to_twelve_grid`.  "
      ]
    },
    {
      "cell_type": "markdown",
      "metadata": {
        "id": "nJbiY7bFZoin",
        "colab_type": "text"
      },
      "source": [
        "If this were a plot, we might refer to the items as points in a plot.  Our plot would have a vertical axis, moving down through the rows, and a horizontal axis moving left to right through the columns.  \n",
        "\n",
        "In numpy the moving downward through the rows is axis 0.  And moving left to right through the columns is axis 1."
      ]
    },
    {
      "cell_type": "code",
      "metadata": {
        "id": "iWU3MgU8Zoip",
        "colab_type": "code",
        "outputId": "c4af2703-abe0-4e93-db0c-b65270cca792",
        "colab": {}
      },
      "source": [
        "to_twelve_grid = nums_to_twelve.reshape(4, 3)\n",
        "to_twelve_grid"
      ],
      "execution_count": 0,
      "outputs": [
        {
          "output_type": "execute_result",
          "data": {
            "text/plain": [
              "array([[ 1,  2,  3],\n",
              "       [ 4,  5,  6],\n",
              "       [ 7,  8,  9],\n",
              "       [10, 11, 12]])"
            ]
          },
          "metadata": {
            "tags": []
          },
          "execution_count": 12
        }
      ]
    },
    {
      "cell_type": "markdown",
      "metadata": {
        "id": "A3z9LHCJZoir",
        "colab_type": "text"
      },
      "source": [
        "We can use this with different operations like sum.  For instance let's add the entries of each row."
      ]
    },
    {
      "cell_type": "code",
      "metadata": {
        "id": "4TXqpOQSZois",
        "colab_type": "code",
        "outputId": "63e53a07-c30c-45e9-a901-bec18261dad0",
        "colab": {}
      },
      "source": [
        "np.sum(to_twelve_grid, axis = 0)"
      ],
      "execution_count": 0,
      "outputs": [
        {
          "output_type": "execute_result",
          "data": {
            "text/plain": [
              "array([22, 26, 30])"
            ]
          },
          "metadata": {
            "tags": []
          },
          "execution_count": 13
        }
      ]
    },
    {
      "cell_type": "markdown",
      "metadata": {
        "id": "P09H50mAZoiu",
        "colab_type": "text"
      },
      "source": [
        "Let's check to make sure this makes sense.  The first entry is 22 as $1 + 4 + 7 + 10 = 22$."
      ]
    },
    {
      "cell_type": "markdown",
      "metadata": {
        "id": "uAvFbcL2Zoiv",
        "colab_type": "text"
      },
      "source": [
        "Now let's add columnwise."
      ]
    },
    {
      "cell_type": "markdown",
      "metadata": {
        "id": "aPmsED5zZoiv",
        "colab_type": "text"
      },
      "source": [
        "> Here again is our `to_twelve_grid`."
      ]
    },
    {
      "cell_type": "code",
      "metadata": {
        "id": "K3OkgdS3Zoiw",
        "colab_type": "code",
        "outputId": "4f4a2385-d2aa-4927-b832-977a037f9b4f",
        "colab": {}
      },
      "source": [
        "to_twelve_grid"
      ],
      "execution_count": 0,
      "outputs": [
        {
          "output_type": "execute_result",
          "data": {
            "text/plain": [
              "array([[ 1,  2,  3],\n",
              "       [ 4,  5,  6],\n",
              "       [ 7,  8,  9],\n",
              "       [10, 11, 12]])"
            ]
          },
          "metadata": {
            "tags": []
          },
          "execution_count": 14
        }
      ]
    },
    {
      "cell_type": "code",
      "metadata": {
        "id": "ByrhUKpWZoiy",
        "colab_type": "code",
        "outputId": "7ab5deed-672b-4f00-d75d-a854d1441c30",
        "colab": {}
      },
      "source": [
        "np.sum(to_twelve_grid, axis = 1)"
      ],
      "execution_count": 0,
      "outputs": [
        {
          "output_type": "execute_result",
          "data": {
            "text/plain": [
              "array([ 6, 15, 24, 33])"
            ]
          },
          "metadata": {
            "tags": []
          },
          "execution_count": 15
        }
      ]
    },
    {
      "cell_type": "markdown",
      "metadata": {
        "id": "sZHErwHSZoi0",
        "colab_type": "text"
      },
      "source": [
        "And if we just wish to sum all of the entries in array we can leave out the `axis` argument."
      ]
    },
    {
      "cell_type": "code",
      "metadata": {
        "id": "x9TwDlU-Zoi1",
        "colab_type": "code",
        "outputId": "0e0ce602-a9be-4f7b-92c2-bd577d3b6906",
        "colab": {}
      },
      "source": [
        "np.sum(to_twelve_grid)"
      ],
      "execution_count": 0,
      "outputs": [
        {
          "output_type": "execute_result",
          "data": {
            "text/plain": [
              "78"
            ]
          },
          "metadata": {
            "tags": []
          },
          "execution_count": 16
        }
      ]
    },
    {
      "cell_type": "markdown",
      "metadata": {
        "id": "HCkbvuYEZoi3",
        "colab_type": "text"
      },
      "source": [
        "### Summary"
      ]
    },
    {
      "cell_type": "markdown",
      "metadata": {
        "id": "jTojdMxSZoi3",
        "colab_type": "text"
      },
      "source": [
        "In this lesson we learned how to work with multidimensional arrays in numpy.  We saw that our general pattern is to specify `(row, column)`.  We can create a multidimensional array, by calling `reshape` on a one-dimensional array.  And we can select elements from a multidimensional array by specifying the rows items, followed the column items to select."
      ]
    },
    {
      "cell_type": "markdown",
      "metadata": {
        "id": "rVgrluZjZoi4",
        "colab_type": "text"
      },
      "source": [
        "And we can select an entire row from a matrix, by specifying the row, and then selecting all columns with `:`."
      ]
    },
    {
      "cell_type": "code",
      "metadata": {
        "id": "m5tKbeSmZoi5",
        "colab_type": "code",
        "outputId": "3bda9d9a-0a3f-4083-eb1a-99589c903954",
        "colab": {}
      },
      "source": [
        "to_twelve_grid"
      ],
      "execution_count": 0,
      "outputs": [
        {
          "output_type": "execute_result",
          "data": {
            "text/plain": [
              "array([[ 1,  2,  3],\n",
              "       [ 4,  5,  6],\n",
              "       [ 7,  8,  9],\n",
              "       [10, 11, 12]])"
            ]
          },
          "metadata": {
            "tags": []
          },
          "execution_count": 32
        }
      ]
    },
    {
      "cell_type": "code",
      "metadata": {
        "id": "N4F55SyPZoi7",
        "colab_type": "code",
        "outputId": "4f628c73-fd6f-4838-9527-bc3f231b5a88",
        "colab": {}
      },
      "source": [
        "to_twelve_grid[1, :]"
      ],
      "execution_count": 0,
      "outputs": [
        {
          "output_type": "execute_result",
          "data": {
            "text/plain": [
              "array([4, 5, 6])"
            ]
          },
          "metadata": {
            "tags": []
          },
          "execution_count": 33
        }
      ]
    },
    {
      "cell_type": "markdown",
      "metadata": {
        "id": "D86wUvt9Zoi9",
        "colab_type": "text"
      },
      "source": [
        "Then, we learned about an axis in numpy, and that working row-wise (or along the vertical axis) is axis 0, where operating along the columns is axis 1."
      ]
    },
    {
      "cell_type": "markdown",
      "metadata": {
        "id": "MHxI7uqBZoi9",
        "colab_type": "text"
      },
      "source": [
        "So for example if we want to add the entries of all of the we can do so with the following:"
      ]
    },
    {
      "cell_type": "code",
      "metadata": {
        "id": "j8Qq9LxhZoi-",
        "colab_type": "code",
        "outputId": "48173d06-adc6-4d0d-e35f-b203843d84ea",
        "colab": {}
      },
      "source": [
        "np.sum(to_twelve_grid, axis = 0)"
      ],
      "execution_count": 0,
      "outputs": [
        {
          "output_type": "execute_result",
          "data": {
            "text/plain": [
              "array([22, 26, 30])"
            ]
          },
          "metadata": {
            "tags": []
          },
          "execution_count": 34
        }
      ]
    }
  ]
}