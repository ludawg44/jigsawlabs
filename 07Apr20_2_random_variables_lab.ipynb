{
  "nbformat": 4,
  "nbformat_minor": 0,
  "metadata": {
    "kernelspec": {
      "display_name": "Python 3",
      "language": "python",
      "name": "python3"
    },
    "language_info": {
      "codemirror_mode": {
        "name": "ipython",
        "version": 3
      },
      "file_extension": ".py",
      "mimetype": "text/x-python",
      "name": "python",
      "nbconvert_exporter": "python",
      "pygments_lexer": "ipython3",
      "version": "3.7.4"
    },
    "colab": {
      "name": "Copy of 2-random-variables-lab.ipynb",
      "provenance": [],
      "include_colab_link": true
    }
  },
  "cells": [
    {
      "cell_type": "markdown",
      "metadata": {
        "id": "view-in-github",
        "colab_type": "text"
      },
      "source": [
        "<a href=\"https://colab.research.google.com/github/ludawg44/jigsawlabs/blob/master/07Apr20_2_random_variables_lab.ipynb\" target=\"_parent\"><img src=\"https://colab.research.google.com/assets/colab-badge.svg\" alt=\"Open In Colab\"/></a>"
      ]
    },
    {
      "cell_type": "markdown",
      "metadata": {
        "id": "fVTp8NVt_QJx",
        "colab_type": "text"
      },
      "source": [
        "# Random Variables Lab"
      ]
    },
    {
      "cell_type": "markdown",
      "metadata": {
        "id": "XzojWfsV_QJy",
        "colab_type": "text"
      },
      "source": [
        "### Introduction"
      ]
    },
    {
      "cell_type": "markdown",
      "metadata": {
        "id": "sjcCXSCw_QJy",
        "colab_type": "text"
      },
      "source": [
        "In previous lessons, we learned about working with random variables.  Now imagine that we work at Duke University, where a number of college basketball players each year consider declaring for the NBA draft.  We have a college basketball player who is trying to decide whether to declare, and would like us to do some analysis.  We are confident that if he declares for the draft, he will be drafted in the second round.  He wants us to give us a sense of how many years he can expect to play for in the NBA given that he is a second round draft pick."
      ]
    },
    {
      "cell_type": "markdown",
      "metadata": {
        "id": "jQR1Hrm-_QJz",
        "colab_type": "text"
      },
      "source": [
        "### Loading our Data"
      ]
    },
    {
      "cell_type": "markdown",
      "metadata": {
        "id": "B4ohPL-S_QJz",
        "colab_type": "text"
      },
      "source": [
        "Let's begin by loading our data."
      ]
    },
    {
      "cell_type": "code",
      "metadata": {
        "id": "_5MN8RkO_QJ0",
        "colab_type": "code",
        "colab": {}
      },
      "source": [
        "import pandas as pd\n",
        "url = \"https://raw.githubusercontent.com/the-pudding/data/master/hype/players.csv\"\n",
        "players_df = pd.read_csv(url)"
      ],
      "execution_count": 0,
      "outputs": []
    },
    {
      "cell_type": "code",
      "metadata": {
        "id": "EuZnsVQi_QJ3",
        "colab_type": "code",
        "outputId": "239f557a-3450-4d9d-9173-2988799e267a",
        "colab": {
          "base_uri": "https://localhost:8080/",
          "height": 213
        }
      },
      "source": [
        "players_df[:3]"
      ],
      "execution_count": 0,
      "outputs": [
        {
          "output_type": "execute_result",
          "data": {
            "text/html": [
              "<div>\n",
              "<style scoped>\n",
              "    .dataframe tbody tr th:only-of-type {\n",
              "        vertical-align: middle;\n",
              "    }\n",
              "\n",
              "    .dataframe tbody tr th {\n",
              "        vertical-align: top;\n",
              "    }\n",
              "\n",
              "    .dataframe thead th {\n",
              "        text-align: right;\n",
              "    }\n",
              "</style>\n",
              "<table border=\"1\" class=\"dataframe\">\n",
              "  <thead>\n",
              "    <tr style=\"text-align: right;\">\n",
              "      <th></th>\n",
              "      <th>name</th>\n",
              "      <th>link</th>\n",
              "      <th>rank</th>\n",
              "      <th>draft_year</th>\n",
              "      <th>draft_rd</th>\n",
              "      <th>draft_pk</th>\n",
              "      <th>college</th>\n",
              "      <th>recruit_year</th>\n",
              "      <th>bbrID</th>\n",
              "      <th>pick_overall</th>\n",
              "      <th>pick_number</th>\n",
              "      <th>pick_round</th>\n",
              "      <th>nba_mean_ws48</th>\n",
              "      <th>nba_mean_vorp</th>\n",
              "      <th>nba_mean_pipm</th>\n",
              "      <th>nba_mean_wa</th>\n",
              "      <th>top_mean_ws48</th>\n",
              "      <th>top_mean_vorp</th>\n",
              "      <th>top_mean_pipm</th>\n",
              "      <th>top_mean_wa</th>\n",
              "      <th>nba_mean_ws48_rank</th>\n",
              "      <th>nba_mean_vorp_rank</th>\n",
              "      <th>nba_mean_pipm_rank</th>\n",
              "      <th>nba_mean_wa_rank</th>\n",
              "      <th>top_mean_ws48_rank</th>\n",
              "      <th>top_mean_vorp_rank</th>\n",
              "      <th>top_mean_pipm_rank</th>\n",
              "      <th>top_mean_wa_rank</th>\n",
              "      <th>total_seasons</th>\n",
              "      <th>valid_seasons</th>\n",
              "    </tr>\n",
              "  </thead>\n",
              "  <tbody>\n",
              "    <tr>\n",
              "      <th>0</th>\n",
              "      <td>Al Harrington</td>\n",
              "      <td>/players/h/harrial01.html</td>\n",
              "      <td>1.0</td>\n",
              "      <td>1998.0</td>\n",
              "      <td>1.0</td>\n",
              "      <td>25.0</td>\n",
              "      <td>NaN</td>\n",
              "      <td>1998.0</td>\n",
              "      <td>harrial01</td>\n",
              "      <td>25.0</td>\n",
              "      <td>25.0</td>\n",
              "      <td>1.0</td>\n",
              "      <td>0.073909</td>\n",
              "      <td>0.536364</td>\n",
              "      <td>-0.905455</td>\n",
              "      <td>2.030000</td>\n",
              "      <td>0.0958</td>\n",
              "      <td>0.90</td>\n",
              "      <td>0.282</td>\n",
              "      <td>3.946</td>\n",
              "      <td>134.363636</td>\n",
              "      <td>129.727273</td>\n",
              "      <td>122.181818</td>\n",
              "      <td>118.727273</td>\n",
              "      <td>109.6</td>\n",
              "      <td>114.0</td>\n",
              "      <td>86.8</td>\n",
              "      <td>79.8</td>\n",
              "      <td>16.0</td>\n",
              "      <td>11.0</td>\n",
              "    </tr>\n",
              "    <tr>\n",
              "      <th>1</th>\n",
              "      <td>Rashard Lewis</td>\n",
              "      <td>/players/l/lewisra02.html</td>\n",
              "      <td>2.0</td>\n",
              "      <td>1998.0</td>\n",
              "      <td>2.0</td>\n",
              "      <td>32.0</td>\n",
              "      <td>NaN</td>\n",
              "      <td>1998.0</td>\n",
              "      <td>lewisra02</td>\n",
              "      <td>32.0</td>\n",
              "      <td>32.0</td>\n",
              "      <td>2.0</td>\n",
              "      <td>0.135250</td>\n",
              "      <td>2.858333</td>\n",
              "      <td>1.532500</td>\n",
              "      <td>7.520833</td>\n",
              "      <td>0.1556</td>\n",
              "      <td>3.78</td>\n",
              "      <td>3.142</td>\n",
              "      <td>11.672</td>\n",
              "      <td>55.916667</td>\n",
              "      <td>44.416667</td>\n",
              "      <td>56.083333</td>\n",
              "      <td>55.166667</td>\n",
              "      <td>32.4</td>\n",
              "      <td>21.8</td>\n",
              "      <td>19.4</td>\n",
              "      <td>18.2</td>\n",
              "      <td>16.0</td>\n",
              "      <td>12.0</td>\n",
              "    </tr>\n",
              "    <tr>\n",
              "      <th>2</th>\n",
              "      <td>Korleone Young</td>\n",
              "      <td>/players/y/youngko01.html</td>\n",
              "      <td>3.0</td>\n",
              "      <td>1998.0</td>\n",
              "      <td>2.0</td>\n",
              "      <td>40.0</td>\n",
              "      <td>NaN</td>\n",
              "      <td>1998.0</td>\n",
              "      <td>youngko01</td>\n",
              "      <td>40.0</td>\n",
              "      <td>40.0</td>\n",
              "      <td>2.0</td>\n",
              "      <td>NaN</td>\n",
              "      <td>NaN</td>\n",
              "      <td>NaN</td>\n",
              "      <td>NaN</td>\n",
              "      <td>NaN</td>\n",
              "      <td>NaN</td>\n",
              "      <td>NaN</td>\n",
              "      <td>NaN</td>\n",
              "      <td>NaN</td>\n",
              "      <td>NaN</td>\n",
              "      <td>NaN</td>\n",
              "      <td>NaN</td>\n",
              "      <td>NaN</td>\n",
              "      <td>NaN</td>\n",
              "      <td>NaN</td>\n",
              "      <td>NaN</td>\n",
              "      <td>1.0</td>\n",
              "      <td>0.0</td>\n",
              "    </tr>\n",
              "  </tbody>\n",
              "</table>\n",
              "</div>"
            ],
            "text/plain": [
              "             name                       link  ...  total_seasons  valid_seasons\n",
              "0   Al Harrington  /players/h/harrial01.html  ...           16.0           11.0\n",
              "1   Rashard Lewis  /players/l/lewisra02.html  ...           16.0           12.0\n",
              "2  Korleone Young  /players/y/youngko01.html  ...            1.0            0.0\n",
              "\n",
              "[3 rows x 30 columns]"
            ]
          },
          "metadata": {
            "tags": []
          },
          "execution_count": 2
        }
      ]
    },
    {
      "cell_type": "code",
      "metadata": {
        "id": "gvyJLtrV_QJ6",
        "colab_type": "code",
        "outputId": "c0cea174-53e1-407b-e7bd-dde70d18b5c2",
        "colab": {
          "base_uri": "https://localhost:8080/",
          "height": 34
        }
      },
      "source": [
        "players_df.shape"
      ],
      "execution_count": 0,
      "outputs": [
        {
          "output_type": "execute_result",
          "data": {
            "text/plain": [
              "(1873, 30)"
            ]
          },
          "metadata": {
            "tags": []
          },
          "execution_count": 3
        }
      ]
    },
    {
      "cell_type": "markdown",
      "metadata": {
        "id": "r8d8k3Ae_QJ8",
        "colab_type": "text"
      },
      "source": [
        "What we have is a dataframe consisting of 1800 drafted players.  Let's select some of the most relevant columns."
      ]
    },
    {
      "cell_type": "code",
      "metadata": {
        "id": "A6QS6mfW_QJ9",
        "colab_type": "code",
        "colab": {}
      },
      "source": [
        "cols = ['name', 'draft_year', 'pick_round', 'total_seasons', 'valid_seasons']\n",
        "selected_df = players_df[cols]"
      ],
      "execution_count": 0,
      "outputs": []
    },
    {
      "cell_type": "code",
      "metadata": {
        "id": "o01vnqVw_QKB",
        "colab_type": "code",
        "outputId": "a337973d-6d62-4c44-f6df-1414b183d2a7",
        "colab": {
          "base_uri": "https://localhost:8080/",
          "height": 142
        }
      },
      "source": [
        "selected_df[:3]"
      ],
      "execution_count": 0,
      "outputs": [
        {
          "output_type": "execute_result",
          "data": {
            "text/html": [
              "<div>\n",
              "<style scoped>\n",
              "    .dataframe tbody tr th:only-of-type {\n",
              "        vertical-align: middle;\n",
              "    }\n",
              "\n",
              "    .dataframe tbody tr th {\n",
              "        vertical-align: top;\n",
              "    }\n",
              "\n",
              "    .dataframe thead th {\n",
              "        text-align: right;\n",
              "    }\n",
              "</style>\n",
              "<table border=\"1\" class=\"dataframe\">\n",
              "  <thead>\n",
              "    <tr style=\"text-align: right;\">\n",
              "      <th></th>\n",
              "      <th>name</th>\n",
              "      <th>draft_year</th>\n",
              "      <th>pick_round</th>\n",
              "      <th>total_seasons</th>\n",
              "      <th>valid_seasons</th>\n",
              "    </tr>\n",
              "  </thead>\n",
              "  <tbody>\n",
              "    <tr>\n",
              "      <th>0</th>\n",
              "      <td>Al Harrington</td>\n",
              "      <td>1998.0</td>\n",
              "      <td>1.0</td>\n",
              "      <td>16.0</td>\n",
              "      <td>11.0</td>\n",
              "    </tr>\n",
              "    <tr>\n",
              "      <th>1</th>\n",
              "      <td>Rashard Lewis</td>\n",
              "      <td>1998.0</td>\n",
              "      <td>2.0</td>\n",
              "      <td>16.0</td>\n",
              "      <td>12.0</td>\n",
              "    </tr>\n",
              "    <tr>\n",
              "      <th>2</th>\n",
              "      <td>Korleone Young</td>\n",
              "      <td>1998.0</td>\n",
              "      <td>2.0</td>\n",
              "      <td>1.0</td>\n",
              "      <td>0.0</td>\n",
              "    </tr>\n",
              "  </tbody>\n",
              "</table>\n",
              "</div>"
            ],
            "text/plain": [
              "             name  draft_year  pick_round  total_seasons  valid_seasons\n",
              "0   Al Harrington      1998.0         1.0           16.0           11.0\n",
              "1   Rashard Lewis      1998.0         2.0           16.0           12.0\n",
              "2  Korleone Young      1998.0         2.0            1.0            0.0"
            ]
          },
          "metadata": {
            "tags": []
          },
          "execution_count": 5
        }
      ]
    },
    {
      "cell_type": "markdown",
      "metadata": {
        "id": "H3OK3gaK_QKD",
        "colab_type": "text"
      },
      "source": [
        "OK, now that we've scoped down some of the columns, let's scope down some of the rows.  We only care about players picked in the second round, because that's the round our student will be drafted in.  And we only care about players drafted in 2005 or later.  \n",
        "\n",
        "Scope down the data accordingly."
      ]
    },
    {
      "cell_type": "code",
      "metadata": {
        "id": "EGmKbDKXFCDQ",
        "colab_type": "code",
        "colab": {}
      },
      "source": [
        "# texas_iqr = texas_df[(2 < texas_df['closed_loss']) & (texas_df['closed_loss'] < 60)]\n"
      ],
      "execution_count": 0,
      "outputs": []
    },
    {
      "cell_type": "code",
      "metadata": {
        "id": "z7eT3iAi_QKE",
        "colab_type": "code",
        "colab": {}
      },
      "source": [
        "selected_players = selected_df[(2005 <= selected_df['draft_year']) & (selected_df['pick_round'] == 2.0)]"
      ],
      "execution_count": 0,
      "outputs": []
    },
    {
      "cell_type": "code",
      "metadata": {
        "id": "TP9jCGlP_QKH",
        "colab_type": "code",
        "outputId": "56740dc9-44c3-4127-cb8c-a5bbd17d9653",
        "colab": {
          "base_uri": "https://localhost:8080/",
          "height": 34
        }
      },
      "source": [
        "selected_players.shape"
      ],
      "execution_count": 0,
      "outputs": [
        {
          "output_type": "execute_result",
          "data": {
            "text/plain": [
              "(205, 5)"
            ]
          },
          "metadata": {
            "tags": []
          },
          "execution_count": 31
        }
      ]
    },
    {
      "cell_type": "code",
      "metadata": {
        "id": "BzJ51mz0_QKJ",
        "colab_type": "code",
        "outputId": "97051c6b-f8f1-458a-f212-efff677a92e5",
        "colab": {
          "base_uri": "https://localhost:8080/",
          "height": 142
        }
      },
      "source": [
        "selected_players[:3]\n",
        "\n",
        "# \tname\tdraft_year\tpick_round\ttotal_seasons\tvalid_seasons\n",
        "# 222\tOrien Greene\t2005.0\t2.0\t6.0\t0.0\n",
        "# 317\tJames White\t2006.0\t2.0\t7.0\t0.0\n",
        "# 323\tDijon Thompson\t2005.0\t2.0\t2.0\t0.0"
      ],
      "execution_count": 0,
      "outputs": [
        {
          "output_type": "execute_result",
          "data": {
            "text/html": [
              "<div>\n",
              "<style scoped>\n",
              "    .dataframe tbody tr th:only-of-type {\n",
              "        vertical-align: middle;\n",
              "    }\n",
              "\n",
              "    .dataframe tbody tr th {\n",
              "        vertical-align: top;\n",
              "    }\n",
              "\n",
              "    .dataframe thead th {\n",
              "        text-align: right;\n",
              "    }\n",
              "</style>\n",
              "<table border=\"1\" class=\"dataframe\">\n",
              "  <thead>\n",
              "    <tr style=\"text-align: right;\">\n",
              "      <th></th>\n",
              "      <th>name</th>\n",
              "      <th>draft_year</th>\n",
              "      <th>pick_round</th>\n",
              "      <th>total_seasons</th>\n",
              "      <th>valid_seasons</th>\n",
              "    </tr>\n",
              "  </thead>\n",
              "  <tbody>\n",
              "    <tr>\n",
              "      <th>222</th>\n",
              "      <td>Orien Greene</td>\n",
              "      <td>2005.0</td>\n",
              "      <td>2.0</td>\n",
              "      <td>6.0</td>\n",
              "      <td>0.0</td>\n",
              "    </tr>\n",
              "    <tr>\n",
              "      <th>317</th>\n",
              "      <td>James White</td>\n",
              "      <td>2006.0</td>\n",
              "      <td>2.0</td>\n",
              "      <td>7.0</td>\n",
              "      <td>0.0</td>\n",
              "    </tr>\n",
              "    <tr>\n",
              "      <th>323</th>\n",
              "      <td>Dijon Thompson</td>\n",
              "      <td>2005.0</td>\n",
              "      <td>2.0</td>\n",
              "      <td>2.0</td>\n",
              "      <td>0.0</td>\n",
              "    </tr>\n",
              "  </tbody>\n",
              "</table>\n",
              "</div>"
            ],
            "text/plain": [
              "               name  draft_year  pick_round  total_seasons  valid_seasons\n",
              "222    Orien Greene      2005.0         2.0            6.0            0.0\n",
              "317     James White      2006.0         2.0            7.0            0.0\n",
              "323  Dijon Thompson      2005.0         2.0            2.0            0.0"
            ]
          },
          "metadata": {
            "tags": []
          },
          "execution_count": 32
        }
      ]
    },
    {
      "cell_type": "code",
      "metadata": {
        "id": "UmHqGB3M_QKM",
        "colab_type": "code",
        "outputId": "7bb3e9fa-0fce-4b46-d994-3266344472c8",
        "colab": {
          "base_uri": "https://localhost:8080/",
          "height": 204
        }
      },
      "source": [
        "selected_players['draft_year'].value_counts()"
      ],
      "execution_count": 0,
      "outputs": [
        {
          "output_type": "execute_result",
          "data": {
            "text/plain": [
              "2011.0    24\n",
              "2010.0    23\n",
              "2013.0    22\n",
              "2008.0    21\n",
              "2007.0    20\n",
              "2012.0    20\n",
              "2014.0    19\n",
              "2006.0    19\n",
              "2005.0    19\n",
              "2009.0    18\n",
              "Name: draft_year, dtype: int64"
            ]
          },
          "metadata": {
            "tags": []
          },
          "execution_count": 33
        }
      ]
    },
    {
      "cell_type": "markdown",
      "metadata": {
        "id": "GrhSkTsN_QKP",
        "colab_type": "text"
      },
      "source": [
        "Ok, so now we have the set of players drafted in the second round between 2005 and 2014.  Let's start by plotting a frequency distribution of the number of years that a player drafted in the second round played in the NBA."
      ]
    },
    {
      "cell_type": "code",
      "metadata": {
        "id": "KoesKPBC_QKQ",
        "colab_type": "code",
        "outputId": "afda1e51-64d2-4c35-8039-4fa40497ab6e",
        "colab": {
          "base_uri": "https://localhost:8080/",
          "height": 282
        }
      },
      "source": [
        "selected_players['total_seasons'].hist(density=True)"
      ],
      "execution_count": 0,
      "outputs": [
        {
          "output_type": "execute_result",
          "data": {
            "text/plain": [
              "<matplotlib.axes._subplots.AxesSubplot at 0x7fe6adcb36d8>"
            ]
          },
          "metadata": {
            "tags": []
          },
          "execution_count": 38
        },
        {
          "output_type": "display_data",
          "data": {
            "image/png": "[encoded data removed]",
            "text/plain": [
              "<Figure size 432x288 with 1 Axes>"
            ]
          },
          "metadata": {
            "tags": []
          }
        }
      ]
    },
    {
      "cell_type": "markdown",
      "metadata": {
        "id": "rdIYe7Gd_QKS",
        "colab_type": "text"
      },
      "source": [
        "Answer: <img src=\"https://github.com/jigsawlabs-student/modeling-distributions/blob/master/frequency-dist-players.png?raw=1\" width=\"50%\">"
      ]
    },
    {
      "cell_type": "markdown",
      "metadata": {
        "id": "1R2WX7q2_QKT",
        "colab_type": "text"
      },
      "source": [
        "Next, plot the probability density function for total leasons in the second round."
      ]
    },
    {
      "cell_type": "code",
      "metadata": {
        "id": "agAVqGTv_QKT",
        "colab_type": "code",
        "outputId": "3fc6134c-8afb-4c3b-a651-203d1e12b413",
        "colab": {
          "base_uri": "https://localhost:8080/",
          "height": 282
        }
      },
      "source": [
        "selected_players['total_seasons'].hist(density=True)"
      ],
      "execution_count": 0,
      "outputs": [
        {
          "output_type": "execute_result",
          "data": {
            "text/plain": [
              "<matplotlib.axes._subplots.AxesSubplot at 0x7fe6ac0c0240>"
            ]
          },
          "metadata": {
            "tags": []
          },
          "execution_count": 49
        },
        {
          "output_type": "display_data",
          "data": {
            "image/png": "[encoded data removed]",
            "text/plain": [
              "<Figure size 432x288 with 1 Axes>"
            ]
          },
          "metadata": {
            "tags": []
          }
        }
      ]
    },
    {
      "cell_type": "markdown",
      "metadata": {
        "id": "w3PdRLWK_QKW",
        "colab_type": "text"
      },
      "source": [
        "Answer: <img src=\"https://github.com/jigsawlabs-student/modeling-distributions/blob/master/density-players.png?raw=1\" width=\"50%\">"
      ]
    },
    {
      "cell_type": "markdown",
      "metadata": {
        "id": "uD5rBcKO_QKW",
        "colab_type": "text"
      },
      "source": [
        "### Random Variables PDFs and CDFs"
      ]
    },
    {
      "cell_type": "markdown",
      "metadata": {
        "id": "GKd8ATbl_QKX",
        "colab_type": "text"
      },
      "source": [
        "It's time we added a bit of formalism to our problem."
      ]
    },
    {
      "cell_type": "markdown",
      "metadata": {
        "id": "Z1J6Gea5_QKX",
        "colab_type": "text"
      },
      "source": [
        "1. What is the lower bound of the sample space for our problem."
      ]
    },
    {
      "cell_type": "markdown",
      "metadata": {
        "id": "qOJNV49b_QKX",
        "colab_type": "text"
      },
      "source": [
        "2. Is our sample space continuous or discrete?"
      ]
    },
    {
      "cell_type": "markdown",
      "metadata": {
        "id": "Pl8HiHNK_QKY",
        "colab_type": "text"
      },
      "source": [
        "3. Define a random variable $X$ to frame our problem\n",
        "\n",
        "$X = $"
      ]
    },
    {
      "cell_type": "markdown",
      "metadata": {
        "id": "U42kR0ap_QKY",
        "colab_type": "text"
      },
      "source": [
        "Now, use the pandas to find the $P(X = 3)$"
      ]
    },
    {
      "cell_type": "code",
      "metadata": {
        "id": "yz7HYJ6H_QKY",
        "colab_type": "code",
        "outputId": "42b0d018-24ae-4120-88a6-7e310a727928",
        "colab": {
          "base_uri": "https://localhost:8080/",
          "height": 34
        }
      },
      "source": [
        "p_x_is_3 = selected_players['total_seasons'].value_counts(normalize=True).loc[3.0]\n",
        "p_x_is_3\n",
        "# 0.0952"
      ],
      "execution_count": 0,
      "outputs": [
        {
          "output_type": "execute_result",
          "data": {
            "text/plain": [
              "0.09523809523809523"
            ]
          },
          "metadata": {
            "tags": []
          },
          "execution_count": 44
        }
      ]
    },
    {
      "cell_type": "markdown",
      "metadata": {
        "id": "yCmLLsHL_QKb",
        "colab_type": "text"
      },
      "source": [
        "Next use the pandas to find the $P(X \\le 3)$"
      ]
    },
    {
      "cell_type": "code",
      "metadata": {
        "id": "zB9YG6nP_QKb",
        "colab_type": "code",
        "outputId": "862c0837-8161-4b97-f05b-4875d75f9e0e",
        "colab": {
          "base_uri": "https://localhost:8080/",
          "height": 34
        }
      },
      "source": [
        "p_x_less_3 = selected_players['total_seasons'].value_counts(normalize=True).sort_index().loc[:3.0].sum()\n",
        "p_x_less_3\n",
        "# 0.513"
      ],
      "execution_count": 0,
      "outputs": [
        {
          "output_type": "execute_result",
          "data": {
            "text/plain": [
              "0.5132275132275133"
            ]
          },
          "metadata": {
            "tags": []
          },
          "execution_count": 45
        }
      ]
    },
    {
      "cell_type": "markdown",
      "metadata": {
        "id": "PKfVOJfs_QKd",
        "colab_type": "text"
      },
      "source": [
        "### Summary"
      ]
    },
    {
      "cell_type": "markdown",
      "metadata": {
        "id": "A_V_V2Ml_QKe",
        "colab_type": "text"
      },
      "source": [
        "In this lesson we used data about NBA players to define a random variable $X$ that represented the number of years that a player drafted in the second round would play in the NBA.  Then we used that random variable's probability distribution function, and cumulative distribution function to find the probability that the player's career would be for exactly a certain number number of years, or less than a certain number of years."
      ]
    }
  ]
}