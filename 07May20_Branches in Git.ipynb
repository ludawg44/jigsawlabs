{
  "nbformat": 4,
  "nbformat_minor": 0,
  "metadata": {
    "kernelspec": {
      "display_name": "Python 3",
      "language": "python",
      "name": "python3"
    },
    "language_info": {
      "codemirror_mode": {
        "name": "ipython",
        "version": 3
      },
      "file_extension": ".py",
      "mimetype": "text/x-python",
      "name": "python",
      "nbconvert_exporter": "python",
      "pygments_lexer": "ipython3",
      "version": "3.7.4"
    },
    "colab": {
      "name": "Copy of index.ipynb",
      "provenance": [],
      "include_colab_link": true
    }
  },
  "cells": [
    {
      "cell_type": "markdown",
      "metadata": {
        "id": "view-in-github",
        "colab_type": "text"
      },
      "source": [
        "<a href=\"https://colab.research.google.com/github/ludawg44/jigsawlabs/blob/master/07May20_Branches%20in%20Git.ipynb\" target=\"_parent\"><img src=\"https://colab.research.google.com/assets/colab-badge.svg\" alt=\"Open In Colab\"/></a>"
      ]
    },
    {
      "cell_type": "markdown",
      "metadata": {
        "id": "CdoEHNwVNTvx",
        "colab_type": "text"
      },
      "source": [
        "# Branches in Git"
      ]
    },
    {
      "cell_type": "markdown",
      "metadata": {
        "id": "6n3Aw85KNTvy",
        "colab_type": "text"
      },
      "source": [
        "### Introduction"
      ]
    },
    {
      "cell_type": "markdown",
      "metadata": {
        "id": "SU7pU4KLNTvy",
        "colab_type": "text"
      },
      "source": [
        "So far we have learned how to save our progress in git.  That is how to move forward by adding files and then making a commit.  And then another commit."
      ]
    },
    {
      "cell_type": "markdown",
      "metadata": {
        "id": "SCDL4MVHNTvz",
        "colab_type": "text"
      },
      "source": [
        "<img src=\"https://github.com/jigsawlabs-student/mod-1-a-data-structures/blob/master/91-git-and-github/3-git-branches/commit-draw.png?raw=1\" width=\"30%\">"
      ]
    },
    {
      "cell_type": "markdown",
      "metadata": {
        "id": "4qZn4sZvNTvz",
        "colab_type": "text"
      },
      "source": [
        "But what if we want to add some new code but we're not sure how it will turn out?  We may want to branch off of this main path, and into a new one."
      ]
    },
    {
      "cell_type": "markdown",
      "metadata": {
        "id": "jSbBIuy7NTv0",
        "colab_type": "text"
      },
      "source": [
        "In this lesson we'll learn how to do that."
      ]
    },
    {
      "cell_type": "markdown",
      "metadata": {
        "id": "A3wBkwBeNTv0",
        "colab_type": "text"
      },
      "source": [
        "### Branches in Git"
      ]
    },
    {
      "cell_type": "markdown",
      "metadata": {
        "id": "v8_HA1yMNTv1",
        "colab_type": "text"
      },
      "source": [
        "Let's initialize another git repository."
      ]
    },
    {
      "cell_type": "code",
      "metadata": {
        "id": "sHlOWvUoNTv1",
        "colab_type": "code",
        "outputId": "299e787f-2f45-4e31-a0de-ded43116e03f",
        "colab": {}
      },
      "source": [
        "!git init"
      ],
      "execution_count": 0,
      "outputs": [
        {
          "output_type": "stream",
          "text": [
            "Initialized empty Git repository in /Users/jeff/Documents/jigsaw/curriculum/1-section-content/mod-1/2-datatypes/a-fundamentals/9-github/3-git-branches/.git/\n"
          ],
          "name": "stdout"
        }
      ]
    },
    {
      "cell_type": "markdown",
      "metadata": {
        "id": "02T-4WKzNTv5",
        "colab_type": "text"
      },
      "source": [
        "And then check our status."
      ]
    },
    {
      "cell_type": "code",
      "metadata": {
        "id": "OAauV0mONTv6",
        "colab_type": "code",
        "outputId": "7ad788ce-ab7a-44b2-f233-e1ede240f136",
        "colab": {}
      },
      "source": [
        "!git status"
      ],
      "execution_count": 0,
      "outputs": [
        {
          "output_type": "stream",
          "text": [
            "On branch master\n",
            "\n",
            "No commits yet\n",
            "\n",
            "Untracked files:\n",
            "  (use \"git add <file>...\" to include in what will be committed)\n",
            "\n",
            "\t\u001b[31m.ipynb_checkpoints/\u001b[m\n",
            "\t\u001b[31mbranching.png\u001b[m\n",
            "\t\u001b[31mcommit-diagram.png\u001b[m\n",
            "\t\u001b[31mcommit-draw.png\u001b[m\n",
            "\t\u001b[31mindex.ipynb\u001b[m\n",
            "\t\u001b[31muntitled.dio\u001b[m\n",
            "\n",
            "nothing added to commit but untracked files present (use \"git add\" to track)\n"
          ],
          "name": "stdout"
        }
      ]
    },
    {
      "cell_type": "markdown",
      "metadata": {
        "id": "BO_NfXJZNTv8",
        "colab_type": "text"
      },
      "source": [
        "The first line says that we are `On branch master`.  The master branch is the main branch of our repository.  If we think of our repository as a tree, then the master branch is the trunk.  Each commit is another knotch, moving sequentially further along that trunk."
      ]
    },
    {
      "cell_type": "markdown",
      "metadata": {
        "id": "CIXne_RmNTv9",
        "colab_type": "text"
      },
      "source": [
        "<img src=\"https://github.com/jigsawlabs-student/mod-1-a-data-structures/blob/master/91-git-and-github/3-git-branches/master-branch-git.png?raw=1\" width=\"40%\">"
      ]
    },
    {
      "cell_type": "markdown",
      "metadata": {
        "id": "qDcyYqapNTv9",
        "colab_type": "text"
      },
      "source": [
        "> Here we have laid our tree sideways."
      ]
    },
    {
      "cell_type": "markdown",
      "metadata": {
        "id": "Uh4RvTULNTv9",
        "colab_type": "text"
      },
      "source": [
        "Let's add all of our files and make a commit."
      ]
    },
    {
      "cell_type": "markdown",
      "metadata": {
        "id": "bWUC5s0RNTv-",
        "colab_type": "text"
      },
      "source": [
        "> `git add .` will add all of the files to staging."
      ]
    },
    {
      "cell_type": "code",
      "metadata": {
        "id": "j4Yjmk1KNTv-",
        "colab_type": "code",
        "outputId": "ce56ce8e-3a8a-4df8-b907-56ec698861d7",
        "colab": {}
      },
      "source": [
        "!git add album.py\n",
        "!git commit -m 'first commit'"
      ],
      "execution_count": 0,
      "outputs": [
        {
          "output_type": "stream",
          "text": [
            "[master (root-commit) f99c203] first commit\n",
            " 8 files changed, 252 insertions(+)\n",
            " create mode 100644 .ipynb_checkpoints/index-checkpoint.ipynb\n",
            " create mode 100644 .ipynb_checkpoints/untitled-checkpoint.dio\n",
            " create mode 100644 branching.png\n",
            " create mode 100644 commit-diagram.png\n",
            " create mode 100644 commit-draw.png\n",
            " create mode 100644 index.ipynb\n",
            " create mode 100644 master-branch-git.png\n",
            " create mode 100644 untitled.dio\n"
          ],
          "name": "stdout"
        }
      ]
    },
    {
      "cell_type": "markdown",
      "metadata": {
        "id": "qAc4H7aBNTwA",
        "colab_type": "text"
      },
      "source": [
        "Notice that at the top git says, `master (root-commit) ...]`."
      ]
    },
    {
      "cell_type": "markdown",
      "metadata": {
        "id": "e4oSxnsQNTwB",
        "colab_type": "text"
      },
      "source": [
        "Now let's create another file and make one more commit."
      ]
    },
    {
      "cell_type": "code",
      "metadata": {
        "id": "2yyOnJd6NTwB",
        "colab_type": "code",
        "colab": {}
      },
      "source": [
        "!touch album.py"
      ],
      "execution_count": 0,
      "outputs": []
    },
    {
      "cell_type": "code",
      "metadata": {
        "id": "6Zif7ZS1NTwD",
        "colab_type": "code",
        "outputId": "1001bb3c-cf2c-43dd-c64c-ba10ece76541",
        "colab": {}
      },
      "source": [
        "!git add .\n",
        "! git commit -m 'adding album.py'"
      ],
      "execution_count": 0,
      "outputs": [
        {
          "output_type": "stream",
          "text": [
            "[master 0c079aa] adding album.py\n",
            " 2 files changed, 73 insertions(+), 2 deletions(-)\n",
            " create mode 100644 album.py\n"
          ],
          "name": "stdout"
        }
      ]
    },
    {
      "cell_type": "markdown",
      "metadata": {
        "id": "Ocn2KRUqNTwG",
        "colab_type": "text"
      },
      "source": [
        "If do a `git log`, we'll see our master branch now looks like the following."
      ]
    },
    {
      "cell_type": "markdown",
      "metadata": {
        "id": "I8aDrqCDNTwG",
        "colab_type": "text"
      },
      "source": [
        "<img src=\"https://github.com/jigsawlabs-student/mod-1-a-data-structures/blob/master/91-git-and-github/3-git-branches/adding-album-commit.png?raw=1\" width=\"50%\">"
      ]
    },
    {
      "cell_type": "code",
      "metadata": {
        "id": "eXtbR4ayNTwG",
        "colab_type": "code",
        "outputId": "67c86723-211c-4663-807e-7ca64ce2ca28",
        "colab": {}
      },
      "source": [
        "!git log"
      ],
      "execution_count": 0,
      "outputs": [
        {
          "output_type": "stream",
          "text": [
            "\u001b[33mcommit 0c079aa1e802b4c3f5a455c10b6e97288a79dcd1\u001b[m\u001b[33m (\u001b[m\u001b[1;36mHEAD -> \u001b[m\u001b[1;32mmaster\u001b[m\u001b[33m)\u001b[m\n",
            "Author: Jeff Katz <JeffreyEricKatz@gmail.com>\n",
            "Date:   Wed Feb 5 15:56:42 2020 -0500\n",
            "\n",
            "    adding album.py\n",
            "\n",
            "\u001b[33mcommit f99c2039641ee41ca45caffb73684f09444ae130\u001b[m\n",
            "Author: Jeff Katz <JeffreyEricKatz@gmail.com>\n",
            "Date:   Wed Feb 5 15:53:50 2020 -0500\n",
            "\n",
            "    first commit\n"
          ],
          "name": "stdout"
        }
      ]
    },
    {
      "cell_type": "markdown",
      "metadata": {
        "id": "etzEOTAnNTwI",
        "colab_type": "text"
      },
      "source": [
        "### Moving to a New Branch"
      ]
    },
    {
      "cell_type": "markdown",
      "metadata": {
        "id": "vg1ROOT4NTwJ",
        "colab_type": "text"
      },
      "source": [
        "Ok, before moving to a new branch, let's learn another git command."
      ]
    },
    {
      "cell_type": "code",
      "metadata": {
        "id": "A-1uyVuVNTwJ",
        "colab_type": "code",
        "outputId": "1aa94493-55a1-43e2-9244-f48e8e718d5a",
        "colab": {}
      },
      "source": [
        "!git branch -a"
      ],
      "execution_count": 0,
      "outputs": [
        {
          "output_type": "stream",
          "text": [
            "* \u001b[32mmaster\u001b[m\n"
          ],
          "name": "stdout"
        }
      ]
    },
    {
      "cell_type": "markdown",
      "metadata": {
        "id": "GIcCD8Z3NTwL",
        "colab_type": "text"
      },
      "source": [
        "This above lists all of the branches in the repostory.  We can see that we currently only have one branch master, and the `*` indicates that we are on the master branch."
      ]
    },
    {
      "cell_type": "markdown",
      "metadata": {
        "id": "-Hbnvn6wNTwM",
        "colab_type": "text"
      },
      "source": [
        "Now let's create a new branch."
      ]
    },
    {
      "cell_type": "code",
      "metadata": {
        "id": "6WZ6zu11NTwM",
        "colab_type": "code",
        "outputId": "a76c2079-7d00-44a1-ddd8-d1fb29deb27b",
        "colab": {}
      },
      "source": [
        "!git checkout -b find_albums"
      ],
      "execution_count": 0,
      "outputs": [
        {
          "output_type": "stream",
          "text": [
            "M\tindex.ipynb\n",
            "Switched to a new branch 'find_albums'\n"
          ],
          "name": "stdout"
        }
      ]
    },
    {
      "cell_type": "markdown",
      "metadata": {
        "id": "0YjJ98CtNTwO",
        "colab_type": "text"
      },
      "source": [
        "We can see that we just created, and switched to a new branch `find_albums`.  Let's use `git branch -a` to confirm both of these facts."
      ]
    },
    {
      "cell_type": "code",
      "metadata": {
        "id": "enPjQWsHNTwP",
        "colab_type": "code",
        "outputId": "578213dd-6fb6-4ac4-87ed-f5136ad94797",
        "colab": {}
      },
      "source": [
        "!git branch -a"
      ],
      "execution_count": 0,
      "outputs": [
        {
          "output_type": "stream",
          "text": [
            "* \u001b[32mfind_albums\u001b[m\n",
            "  master\u001b[m\n"
          ],
          "name": "stdout"
        }
      ]
    },
    {
      "cell_type": "markdown",
      "metadata": {
        "id": "Dvj0TQAXNTwR",
        "colab_type": "text"
      },
      "source": [
        "Excellent.  And now let's add a `find_albums` function to our code."
      ]
    },
    {
      "cell_type": "markdown",
      "metadata": {
        "id": "8jpWfNmjNTwR",
        "colab_type": "text"
      },
      "source": [
        "```python\n",
        "def find_albums(albums, title):\n",
        "    return [ album for album in albums if album['title'] == 'title' ]\n",
        "```"
      ]
    },
    {
      "cell_type": "markdown",
      "metadata": {
        "id": "YmreNYqoNTwS",
        "colab_type": "text"
      },
      "source": [
        "> Actually copy and paste this into the `album.py` file.  Trust me, it's worth it."
      ]
    },
    {
      "cell_type": "markdown",
      "metadata": {
        "id": "nVeP4kqMNTwS",
        "colab_type": "text"
      },
      "source": [
        "And just for good measure, let's also create a new file called `song.py`."
      ]
    },
    {
      "cell_type": "code",
      "metadata": {
        "id": "OJsepploNTwT",
        "colab_type": "code",
        "colab": {}
      },
      "source": [
        "!touch song.py"
      ],
      "execution_count": 0,
      "outputs": []
    },
    {
      "cell_type": "markdown",
      "metadata": {
        "id": "g6FQXTD5NTwV",
        "colab_type": "text"
      },
      "source": [
        "Ok, now let's add the changes to our files, and make a commit."
      ]
    },
    {
      "cell_type": "code",
      "metadata": {
        "id": "4hDnnaicNTwV",
        "colab_type": "code",
        "outputId": "a21c0667-efad-4cbb-9145-d0da8dd01767",
        "colab": {}
      },
      "source": [
        "!git add song.py album.py\n",
        "!git commit -m 'search albums added'"
      ],
      "execution_count": 0,
      "outputs": [
        {
          "output_type": "stream",
          "text": [
            "[find_albums e06ae3c] search albums added\n",
            " 4 files changed, 78 insertions(+), 1 deletion(-)\n",
            " create mode 100644 .ipynb_checkpoints/album-checkpoint.py\n",
            " create mode 100644 feature-branch.png\n"
          ],
          "name": "stdout"
        }
      ]
    },
    {
      "cell_type": "markdown",
      "metadata": {
        "id": "0WbStKRUNTwX",
        "colab_type": "text"
      },
      "source": [
        "Now here is the question.  If we ran `git log` right now, would we see all of the previous commits?"
      ]
    },
    {
      "cell_type": "code",
      "metadata": {
        "id": "BX-EmqyVNTwY",
        "colab_type": "code",
        "outputId": "cb93caa0-5edc-49e1-c33e-b1cc3f3a5485",
        "colab": {}
      },
      "source": [
        "!git log"
      ],
      "execution_count": 0,
      "outputs": [
        {
          "output_type": "stream",
          "text": [
            "\u001b[33mcommit e06ae3c2140e12b1f348dc1b289f41d640734b7a\u001b[m\u001b[33m (\u001b[m\u001b[1;36mHEAD -> \u001b[m\u001b[1;32mfind_albums\u001b[m\u001b[33m)\u001b[m\n",
            "Author: Jeff Katz <JeffreyEricKatz@gmail.com>\n",
            "Date:   Wed Feb 5 16:13:07 2020 -0500\n",
            "\n",
            "    search albums added\n",
            "\n",
            "\u001b[33mcommit 1d947cac431d454dd1a125e762a7635d0aa727b2\u001b[m\n",
            "Author: Jeff Katz <JeffreyEricKatz@gmail.com>\n",
            "Date:   Wed Feb 5 16:05:27 2020 -0500\n",
            "\n",
            "    add song\n",
            "\n",
            "\u001b[33mcommit 0c079aa1e802b4c3f5a455c10b6e97288a79dcd1\u001b[m\u001b[33m (\u001b[m\u001b[1;32mmaster\u001b[m\u001b[33m)\u001b[m\n",
            "Author: Jeff Katz <JeffreyEricKatz@gmail.com>\n",
            "Date:   Wed Feb 5 15:56:42 2020 -0500\n",
            "\n",
            "    adding album.py\n",
            "\n",
            "\u001b[33mcommit f99c2039641ee41ca45caffb73684f09444ae130\u001b[m\n",
            "Author: Jeff Katz <JeffreyEricKatz@gmail.com>\n",
            "Date:   Wed Feb 5 15:53:50 2020 -0500\n",
            "\n",
            "    first commit\n"
          ],
          "name": "stdout"
        }
      ]
    },
    {
      "cell_type": "markdown",
      "metadata": {
        "id": "m0BOpLFlNTwa",
        "colab_type": "text"
      },
      "source": [
        "So the answer is yes."
      ]
    },
    {
      "cell_type": "markdown",
      "metadata": {
        "id": "Ni0DPKbvNTwa",
        "colab_type": "text"
      },
      "source": [
        "Here is what our `find_albums` branch currently looks like."
      ]
    },
    {
      "cell_type": "markdown",
      "metadata": {
        "id": "8g4FL-wVNTwa",
        "colab_type": "text"
      },
      "source": [
        "<img src=\"https://github.com/jigsawlabs-student/mod-1-a-data-structures/blob/master/91-git-and-github/3-git-branches/find-albums-branch.png?raw=1\" width=\"60%\">"
      ]
    },
    {
      "cell_type": "markdown",
      "metadata": {
        "id": "UhSZUTiBNTwb",
        "colab_type": "text"
      },
      "source": [
        "So the branch inherits or shares a history with all the commits that preceded it on the master branch."
      ]
    },
    {
      "cell_type": "markdown",
      "metadata": {
        "id": "9Ihi3636NTwb",
        "colab_type": "text"
      },
      "source": [
        "Now let's switch back to the master branch.  We can do so with `git checkout master`."
      ]
    },
    {
      "cell_type": "code",
      "metadata": {
        "id": "XDY3010wNTwc",
        "colab_type": "code",
        "outputId": "7313723d-7cee-40a3-d303-943defff5763",
        "colab": {}
      },
      "source": [
        "!git add -A \n",
        "!git commit -m 'making updates'\n",
        "!git checkout master"
      ],
      "execution_count": 0,
      "outputs": [
        {
          "output_type": "stream",
          "text": [
            "[find_albums 56e8280] making updates\n",
            " 4 files changed, 486 insertions(+), 21 deletions(-)\n",
            " create mode 100644 feature-branch-search.png\n",
            " create mode 100644 find-albums-branch.png\n",
            "Switched to branch 'master'\n"
          ],
          "name": "stdout"
        }
      ]
    },
    {
      "cell_type": "markdown",
      "metadata": {
        "id": "LjyuXdAGNTwe",
        "colab_type": "text"
      },
      "source": [
        "And then confirm that we are on the master branch."
      ]
    },
    {
      "cell_type": "code",
      "metadata": {
        "id": "6NnHVWldNTwf",
        "colab_type": "code",
        "outputId": "f16f64db-b489-4ef3-d064-072588371b3e",
        "colab": {}
      },
      "source": [
        "!git branch -a"
      ],
      "execution_count": 0,
      "outputs": [
        {
          "output_type": "stream",
          "text": [
            "  find_albums\u001b[m\n",
            "* \u001b[32mmaster\u001b[m\n"
          ],
          "name": "stdout"
        }
      ]
    },
    {
      "cell_type": "markdown",
      "metadata": {
        "id": "nB90OyCtNTwh",
        "colab_type": "text"
      },
      "source": [
        "Now if we take a look at git log, we'll see that we no longer have the code we wrote on the `adding_albums` branch."
      ]
    },
    {
      "cell_type": "code",
      "metadata": {
        "id": "sTgmxxzCNTwh",
        "colab_type": "code",
        "outputId": "59864c05-b7e0-437c-b7f4-00a5a705b8cb",
        "colab": {}
      },
      "source": [
        "!git log"
      ],
      "execution_count": 0,
      "outputs": [
        {
          "output_type": "stream",
          "text": [
            "\u001b[33mcommit 0c079aa1e802b4c3f5a455c10b6e97288a79dcd1\u001b[m\u001b[33m (\u001b[m\u001b[1;36mHEAD -> \u001b[m\u001b[1;32mmaster\u001b[m\u001b[33m)\u001b[m\n",
            "Author: Jeff Katz <JeffreyEricKatz@gmail.com>\n",
            "Date:   Wed Feb 5 15:56:42 2020 -0500\n",
            "\n",
            "    adding album.py\n",
            "\n",
            "\u001b[33mcommit f99c2039641ee41ca45caffb73684f09444ae130\u001b[m\n",
            "Author: Jeff Katz <JeffreyEricKatz@gmail.com>\n",
            "Date:   Wed Feb 5 15:53:50 2020 -0500\n",
            "\n",
            "    first commit\n"
          ],
          "name": "stdout"
        }
      ]
    },
    {
      "cell_type": "markdown",
      "metadata": {
        "id": "Dhxbw4umNTwj",
        "colab_type": "text"
      },
      "source": [
        "While this may seem like a hindrance, it's actually the benefit of creating a new branch.  Our original, working code, is untouched by any changes we make.  And then if we decide to we like the code on the other branch, we can always merge it in."
      ]
    },
    {
      "cell_type": "code",
      "metadata": {
        "id": "7Ib3N6mCNTwj",
        "colab_type": "code",
        "outputId": "7e462ed7-c177-4bbe-f460-34ffcc9790da",
        "colab": {}
      },
      "source": [
        "!git branch -a"
      ],
      "execution_count": 0,
      "outputs": [
        {
          "output_type": "stream",
          "text": [
            "  find_albums\u001b[m\n",
            "* \u001b[32mmaster\u001b[m\n"
          ],
          "name": "stdout"
        }
      ]
    },
    {
      "cell_type": "code",
      "metadata": {
        "id": "36oIZcBnNTwl",
        "colab_type": "code",
        "outputId": "81d49e59-c0af-401b-d4b2-455afdaa5b55",
        "colab": {}
      },
      "source": [
        "!git add .\n",
        "!git commit -m 'updating'\n",
        "!git merge find_albums"
      ],
      "execution_count": 0,
      "outputs": [
        {
          "output_type": "stream",
          "text": [
            "[master 614c9b9] updating\n",
            " 2 files changed, 353 insertions(+), 8 deletions(-)\n",
            "Auto-merging index.ipynb\n",
            "CONFLICT (content): Merge conflict in index.ipynb\n",
            "Automatic merge failed; fix conflicts and then commit the result.\n"
          ],
          "name": "stdout"
        }
      ]
    },
    {
      "cell_type": "markdown",
      "metadata": {
        "id": "rpReUALzNTwn",
        "colab_type": "text"
      },
      "source": [
        "So notice above, to merge the commits from our new branch onto master, we first had to `checkout` the master branch, and then specified the branch that we wanted to merge into master.  "
      ]
    },
    {
      "cell_type": "markdown",
      "metadata": {
        "id": "mpPjrGevNTwn",
        "colab_type": "text"
      },
      "source": [
        "Our repository now looks like the following:"
      ]
    },
    {
      "cell_type": "markdown",
      "metadata": {
        "id": "mDahFHDJNTwo",
        "colab_type": "text"
      },
      "source": [
        "<img src=\"https://github.com/jigsawlabs-student/mod-1-a-data-structures/blob/master/91-git-and-github/3-git-branches/merged-master.png?raw=1\">"
      ]
    },
    {
      "cell_type": "markdown",
      "metadata": {
        "id": "n3obGzfCNTwo",
        "colab_type": "text"
      },
      "source": [
        "### Summary"
      ]
    },
    {
      "cell_type": "markdown",
      "metadata": {
        "id": "H_5P0teuNTwo",
        "colab_type": "text"
      },
      "source": [
        "In this lesson, we saw how to work with different branches in git.  We first learned about the `master` branch, which is the branch that we start on in a git repository.\n",
        "\n",
        "Then we saw how to list the branches:\n",
        "* `git branch -a`\n",
        "\n",
        "And the how to create, and switch to a new branch:\n",
        "* `git checkout -b name_of_branch`\n",
        "\n",
        "We saw that on that new branch, the branch inherits all of the previous commits made on branch it spawned off of.  However when we make a commit on that branch, it is not automatically on the master branch.\n",
        "\n",
        "To move the commits from a different branch onto the master branch, we must first checkout the master branch, and then merge our branch onto the master branch.\n",
        "\n",
        "* `git checkout master`\n",
        "* `git merge name_of_branch`"
      ]
    }
  ]
}