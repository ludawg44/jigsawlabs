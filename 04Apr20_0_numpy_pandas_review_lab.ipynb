{
  "nbformat": 4,
  "nbformat_minor": 0,
  "metadata": {
    "kernelspec": {
      "display_name": "Python 3",
      "language": "python",
      "name": "python3"
    },
    "language_info": {
      "codemirror_mode": {
        "name": "ipython",
        "version": 3
      },
      "file_extension": ".py",
      "mimetype": "text/x-python",
      "name": "python",
      "nbconvert_exporter": "python",
      "pygments_lexer": "ipython3",
      "version": "3.7.4"
    },
    "colab": {
      "name": "Copy of 0-numpy-pandas-review-lab.ipynb",
      "provenance": [],
      "include_colab_link": true
    }
  },
  "cells": [
    {
      "cell_type": "markdown",
      "metadata": {
        "id": "view-in-github",
        "colab_type": "text"
      },
      "source": [
        "<a href=\"https://colab.research.google.com/github/ludawg44/jigsawlabs/blob/master/04Apr20_0_numpy_pandas_review_lab.ipynb\" target=\"_parent\"><img src=\"https://colab.research.google.com/assets/colab-badge.svg\" alt=\"Open In Colab\"/></a>"
      ]
    },
    {
      "cell_type": "markdown",
      "metadata": {
        "id": "iO3VjHbVpES6",
        "colab_type": "text"
      },
      "source": [
        "# Numpy and Pandas Review"
      ]
    },
    {
      "cell_type": "markdown",
      "metadata": {
        "id": "7yLxEaiIpES7",
        "colab_type": "text"
      },
      "source": [
        "### Introduction"
      ]
    },
    {
      "cell_type": "markdown",
      "metadata": {
        "id": "CrqpBRB3pES8",
        "colab_type": "text"
      },
      "source": [
        "In this lesson, we'll work through some problems with our spotify dataset to practice pandas and numpy skills."
      ]
    },
    {
      "cell_type": "markdown",
      "metadata": {
        "id": "TRKNG_LBpES8",
        "colab_type": "text"
      },
      "source": [
        "Let's load up our data."
      ]
    },
    {
      "cell_type": "code",
      "metadata": {
        "id": "e9Is_xYSp7xg",
        "colab_type": "code",
        "outputId": "6f1da188-4e6a-47b0-d667-f41197898067",
        "colab": {
          "base_uri": "https://localhost:8080/",
          "height": 336
        }
      },
      "source": [
        "!pip install gcsfs"
      ],
      "execution_count": 0,
      "outputs": [
        {
          "output_type": "stream",
          "text": [
            "Requirement already satisfied: gcsfs in /usr/local/lib/python3.6/dist-packages (0.6.1)\n",
            "Requirement already satisfied: google-auth>=1.2 in /usr/local/lib/python3.6/dist-packages (from gcsfs) (1.7.2)\n",
            "Requirement already satisfied: fsspec>=0.6.0 in /usr/local/lib/python3.6/dist-packages (from gcsfs) (0.7.1)\n",
            "Requirement already satisfied: google-auth-oauthlib in /usr/local/lib/python3.6/dist-packages (from gcsfs) (0.4.1)\n",
            "Requirement already satisfied: requests in /usr/local/lib/python3.6/dist-packages (from gcsfs) (2.21.0)\n",
            "Requirement already satisfied: decorator in /usr/local/lib/python3.6/dist-packages (from gcsfs) (4.4.2)\n",
            "Requirement already satisfied: pyasn1-modules>=0.2.1 in /usr/local/lib/python3.6/dist-packages (from google-auth>=1.2->gcsfs) (0.2.8)\n",
            "Requirement already satisfied: rsa<4.1,>=3.1.4 in /usr/local/lib/python3.6/dist-packages (from google-auth>=1.2->gcsfs) (4.0)\n",
            "Requirement already satisfied: cachetools<3.2,>=2.0.0 in /usr/local/lib/python3.6/dist-packages (from google-auth>=1.2->gcsfs) (3.1.1)\n",
            "Requirement already satisfied: six>=1.9.0 in /usr/local/lib/python3.6/dist-packages (from google-auth>=1.2->gcsfs) (1.12.0)\n",
            "Requirement already satisfied: setuptools>=40.3.0 in /usr/local/lib/python3.6/dist-packages (from google-auth>=1.2->gcsfs) (46.0.0)\n",
            "Requirement already satisfied: requests-oauthlib>=0.7.0 in /usr/local/lib/python3.6/dist-packages (from google-auth-oauthlib->gcsfs) (1.3.0)\n",
            "Requirement already satisfied: urllib3<1.25,>=1.21.1 in /usr/local/lib/python3.6/dist-packages (from requests->gcsfs) (1.24.3)\n",
            "Requirement already satisfied: certifi>=2017.4.17 in /usr/local/lib/python3.6/dist-packages (from requests->gcsfs) (2019.11.28)\n",
            "Requirement already satisfied: chardet<3.1.0,>=3.0.2 in /usr/local/lib/python3.6/dist-packages (from requests->gcsfs) (3.0.4)\n",
            "Requirement already satisfied: idna<2.9,>=2.5 in /usr/local/lib/python3.6/dist-packages (from requests->gcsfs) (2.8)\n",
            "Requirement already satisfied: pyasn1<0.5.0,>=0.4.6 in /usr/local/lib/python3.6/dist-packages (from pyasn1-modules>=0.2.1->google-auth>=1.2->gcsfs) (0.4.8)\n",
            "Requirement already satisfied: oauthlib>=3.0.0 in /usr/local/lib/python3.6/dist-packages (from requests-oauthlib>=0.7.0->google-auth-oauthlib->gcsfs) (3.1.0)\n"
          ],
          "name": "stdout"
        }
      ]
    },
    {
      "cell_type": "code",
      "metadata": {
        "id": "s0OXik2TpES9",
        "colab_type": "code",
        "colab": {}
      },
      "source": [
        "import pandas as pd\n",
        "\n",
        "url = \"gs://curriculum-assets/mod-2/spotify.csv\"\n",
        "df = pd.read_csv(url, encoding = 'ISO-8859-1', index_col = 0)"
      ],
      "execution_count": 0,
      "outputs": []
    },
    {
      "cell_type": "code",
      "metadata": {
        "id": "C8zNuXStpETA",
        "colab_type": "code",
        "colab": {}
      },
      "source": [
        "import numpy as np\n",
        "songs_np = df.to_numpy()"
      ],
      "execution_count": 0,
      "outputs": []
    },
    {
      "cell_type": "markdown",
      "metadata": {
        "id": "Pw2k7bRfpETC",
        "colab_type": "text"
      },
      "source": [
        "### Selecting Data"
      ]
    },
    {
      "cell_type": "code",
      "metadata": {
        "id": "1M9pnHaNpETC",
        "colab_type": "code",
        "outputId": "dcfc4750-d13d-4eeb-a5ad-00addc95ea73",
        "colab": {
          "base_uri": "https://localhost:8080/",
          "height": 137
        }
      },
      "source": [
        "df[:3]"
      ],
      "execution_count": 0,
      "outputs": [
        {
          "output_type": "execute_result",
          "data": {
            "text/html": [
              "<div>\n",
              "<style scoped>\n",
              "    .dataframe tbody tr th:only-of-type {\n",
              "        vertical-align: middle;\n",
              "    }\n",
              "\n",
              "    .dataframe tbody tr th {\n",
              "        vertical-align: top;\n",
              "    }\n",
              "\n",
              "    .dataframe thead th {\n",
              "        text-align: right;\n",
              "    }\n",
              "</style>\n",
              "<table border=\"1\" class=\"dataframe\">\n",
              "  <thead>\n",
              "    <tr style=\"text-align: right;\">\n",
              "      <th></th>\n",
              "      <th>title</th>\n",
              "      <th>artist</th>\n",
              "      <th>top genre</th>\n",
              "      <th>year</th>\n",
              "      <th>bpm</th>\n",
              "      <th>nrgy</th>\n",
              "      <th>dnce</th>\n",
              "      <th>dB</th>\n",
              "      <th>live</th>\n",
              "      <th>val</th>\n",
              "      <th>dur</th>\n",
              "      <th>acous</th>\n",
              "      <th>spch</th>\n",
              "      <th>pop</th>\n",
              "    </tr>\n",
              "  </thead>\n",
              "  <tbody>\n",
              "    <tr>\n",
              "      <th>1</th>\n",
              "      <td>Hey, Soul Sister</td>\n",
              "      <td>Train</td>\n",
              "      <td>neo mellow</td>\n",
              "      <td>2010</td>\n",
              "      <td>97</td>\n",
              "      <td>89</td>\n",
              "      <td>67</td>\n",
              "      <td>-4</td>\n",
              "      <td>8</td>\n",
              "      <td>80</td>\n",
              "      <td>217</td>\n",
              "      <td>19</td>\n",
              "      <td>4</td>\n",
              "      <td>83</td>\n",
              "    </tr>\n",
              "    <tr>\n",
              "      <th>2</th>\n",
              "      <td>Love The Way You Lie</td>\n",
              "      <td>Eminem</td>\n",
              "      <td>detroit hip hop</td>\n",
              "      <td>2010</td>\n",
              "      <td>87</td>\n",
              "      <td>93</td>\n",
              "      <td>75</td>\n",
              "      <td>-5</td>\n",
              "      <td>52</td>\n",
              "      <td>64</td>\n",
              "      <td>263</td>\n",
              "      <td>24</td>\n",
              "      <td>23</td>\n",
              "      <td>82</td>\n",
              "    </tr>\n",
              "    <tr>\n",
              "      <th>3</th>\n",
              "      <td>TiK ToK</td>\n",
              "      <td>Kesha</td>\n",
              "      <td>dance pop</td>\n",
              "      <td>2010</td>\n",
              "      <td>120</td>\n",
              "      <td>84</td>\n",
              "      <td>76</td>\n",
              "      <td>-3</td>\n",
              "      <td>29</td>\n",
              "      <td>71</td>\n",
              "      <td>200</td>\n",
              "      <td>10</td>\n",
              "      <td>14</td>\n",
              "      <td>80</td>\n",
              "    </tr>\n",
              "  </tbody>\n",
              "</table>\n",
              "</div>"
            ],
            "text/plain": [
              "                  title  artist        top genre  year  ...  dur  acous  spch  pop\n",
              "1      Hey, Soul Sister   Train       neo mellow  2010  ...  217     19     4   83\n",
              "2  Love The Way You Lie  Eminem  detroit hip hop  2010  ...  263     24    23   82\n",
              "3               TiK ToK   Kesha        dance pop  2010  ...  200     10    14   80\n",
              "\n",
              "[3 rows x 14 columns]"
            ]
          },
          "metadata": {
            "tags": []
          },
          "execution_count": 52
        }
      ]
    },
    {
      "cell_type": "markdown",
      "metadata": {
        "id": "O6lMWXOcpETG",
        "colab_type": "text"
      },
      "source": [
        "Begin by using numpy to select all songs of the genre dance pop."
      ]
    },
    {
      "cell_type": "code",
      "metadata": {
        "id": "P9_Ec-fppETG",
        "colab_type": "code",
        "colab": {}
      },
      "source": [
        "# This was done using pandas, not numpy\n",
        "# dance_pop_np = df[df['top genre']=='dance pop'][:3]"
      ],
      "execution_count": 0,
      "outputs": []
    },
    {
      "cell_type": "code",
      "metadata": {
        "id": "Q8t9b1fnqkXU",
        "colab_type": "code",
        "outputId": "04d04e7b-ce7b-4fca-c7d0-2539989c70a5",
        "colab": {
          "base_uri": "https://localhost:8080/",
          "height": 194
        }
      },
      "source": [
        "dance_pop_np = songs_np[songs_np[:,2]=='dance pop']\n",
        "dance_pop_np"
      ],
      "execution_count": 0,
      "outputs": [
        {
          "output_type": "execute_result",
          "data": {
            "text/plain": [
              "array([['TiK ToK', 'Kesha', 'dance pop', ..., 10, 14, 80],\n",
              "       ['Bad Romance', 'Lady Gaga', 'dance pop', ..., 0, 4, 79],\n",
              "       ['Dynamite', 'Taio Cruz', 'dance pop', ..., 0, 9, 77],\n",
              "       ...,\n",
              "       ['Find U Again (feat. Camila Cabello)', 'Mark Ronson',\n",
              "        'dance pop', ..., 1, 3, 75],\n",
              "       ['No Brainer (feat. Justin Bieber, Chance the Rapper & Quavo)',\n",
              "        'DJ Khaled', 'dance pop', ..., 7, 34, 70],\n",
              "       ['Nothing Breaks Like a Heart (feat. Miley Cyrus)', 'Mark Ronson',\n",
              "        'dance pop', ..., 1, 7, 69]], dtype=object)"
            ]
          },
          "metadata": {
            "tags": []
          },
          "execution_count": 111
        }
      ]
    },
    {
      "cell_type": "code",
      "metadata": {
        "id": "FmG7YiR0pETI",
        "colab_type": "code",
        "outputId": "fb3cbec3-9679-4548-bb46-10f963e09994",
        "colab": {
          "base_uri": "https://localhost:8080/",
          "height": 137
        }
      },
      "source": [
        "dance_pop_np[:3]\n",
        "\n",
        "# array([['TiK ToK', 'Kesha', 'dance pop', 2010, 120, 84, 76, -3, 29, 71,\n",
        "#         200, 10, 14, 80],\n",
        "#        ['Bad Romance', 'Lady Gaga', 'dance pop', 2010, 119, 92, 70, -4,\n",
        "#         8, 71, 295, 0, 4, 79],\n",
        "#        ['Dynamite', 'Taio Cruz', 'dance pop', 2010, 120, 78, 75, -4, 4,\n",
        "#         82, 203, 0, 9, 77]], dtype=object)"
      ],
      "execution_count": 0,
      "outputs": [
        {
          "output_type": "execute_result",
          "data": {
            "text/html": [
              "<div>\n",
              "<style scoped>\n",
              "    .dataframe tbody tr th:only-of-type {\n",
              "        vertical-align: middle;\n",
              "    }\n",
              "\n",
              "    .dataframe tbody tr th {\n",
              "        vertical-align: top;\n",
              "    }\n",
              "\n",
              "    .dataframe thead th {\n",
              "        text-align: right;\n",
              "    }\n",
              "</style>\n",
              "<table border=\"1\" class=\"dataframe\">\n",
              "  <thead>\n",
              "    <tr style=\"text-align: right;\">\n",
              "      <th></th>\n",
              "      <th>title</th>\n",
              "      <th>artist</th>\n",
              "      <th>top genre</th>\n",
              "      <th>year</th>\n",
              "      <th>bpm</th>\n",
              "      <th>nrgy</th>\n",
              "      <th>dnce</th>\n",
              "      <th>dB</th>\n",
              "      <th>live</th>\n",
              "      <th>val</th>\n",
              "      <th>dur</th>\n",
              "      <th>acous</th>\n",
              "      <th>spch</th>\n",
              "      <th>pop</th>\n",
              "    </tr>\n",
              "  </thead>\n",
              "  <tbody>\n",
              "    <tr>\n",
              "      <th>3</th>\n",
              "      <td>TiK ToK</td>\n",
              "      <td>Kesha</td>\n",
              "      <td>dance pop</td>\n",
              "      <td>2010</td>\n",
              "      <td>120</td>\n",
              "      <td>84</td>\n",
              "      <td>76</td>\n",
              "      <td>-3</td>\n",
              "      <td>29</td>\n",
              "      <td>71</td>\n",
              "      <td>200</td>\n",
              "      <td>10</td>\n",
              "      <td>14</td>\n",
              "      <td>80</td>\n",
              "    </tr>\n",
              "    <tr>\n",
              "      <th>4</th>\n",
              "      <td>Bad Romance</td>\n",
              "      <td>Lady Gaga</td>\n",
              "      <td>dance pop</td>\n",
              "      <td>2010</td>\n",
              "      <td>119</td>\n",
              "      <td>92</td>\n",
              "      <td>70</td>\n",
              "      <td>-4</td>\n",
              "      <td>8</td>\n",
              "      <td>71</td>\n",
              "      <td>295</td>\n",
              "      <td>0</td>\n",
              "      <td>4</td>\n",
              "      <td>79</td>\n",
              "    </tr>\n",
              "    <tr>\n",
              "      <th>7</th>\n",
              "      <td>Dynamite</td>\n",
              "      <td>Taio Cruz</td>\n",
              "      <td>dance pop</td>\n",
              "      <td>2010</td>\n",
              "      <td>120</td>\n",
              "      <td>78</td>\n",
              "      <td>75</td>\n",
              "      <td>-4</td>\n",
              "      <td>4</td>\n",
              "      <td>82</td>\n",
              "      <td>203</td>\n",
              "      <td>0</td>\n",
              "      <td>9</td>\n",
              "      <td>77</td>\n",
              "    </tr>\n",
              "  </tbody>\n",
              "</table>\n",
              "</div>"
            ],
            "text/plain": [
              "         title     artist  top genre  year  bpm  ...  val  dur  acous  spch  pop\n",
              "3      TiK ToK      Kesha  dance pop  2010  120  ...   71  200     10    14   80\n",
              "4  Bad Romance  Lady Gaga  dance pop  2010  119  ...   71  295      0     4   79\n",
              "7     Dynamite  Taio Cruz  dance pop  2010  120  ...   82  203      0     9   77\n",
              "\n",
              "[3 rows x 14 columns]"
            ]
          },
          "metadata": {
            "tags": []
          },
          "execution_count": 54
        }
      ]
    },
    {
      "cell_type": "markdown",
      "metadata": {
        "id": "mX1IU_ShpETK",
        "colab_type": "text"
      },
      "source": [
        "Then use pandas to select the valence scores of the first five rows.  Do so first using `iloc` and then `loc`."
      ]
    },
    {
      "cell_type": "code",
      "metadata": {
        "id": "HTIh-yDHpETL",
        "colab_type": "code",
        "outputId": "aed1f76e-0c34-47b5-af42-6f0f3598cd82",
        "colab": {
          "base_uri": "https://localhost:8080/",
          "height": 123
        }
      },
      "source": [
        "first_five_val_iloc = df['val'].iloc[:5]\n",
        "first_five_val_iloc\n",
        "# 1    80\n",
        "# 2    64\n",
        "# 3    71\n",
        "# 4    71\n",
        "# 5    43\n",
        "# Name: val, dtype: int64"
      ],
      "execution_count": 0,
      "outputs": [
        {
          "output_type": "execute_result",
          "data": {
            "text/plain": [
              "1    80\n",
              "2    64\n",
              "3    71\n",
              "4    71\n",
              "5    43\n",
              "Name: val, dtype: int64"
            ]
          },
          "metadata": {
            "tags": []
          },
          "execution_count": 55
        }
      ]
    },
    {
      "cell_type": "code",
      "metadata": {
        "id": "uDhP9immpETN",
        "colab_type": "code",
        "colab": {}
      },
      "source": [
        "first_five_val_loc = df['val'].loc[:5]\n",
        "first_five_val_loc\n",
        "# 1    80\n",
        "# 2    64\n",
        "# 3    71\n",
        "# 4    71\n",
        "# 5    43\n",
        "# Name: val, dtype: int64"
      ],
      "execution_count": 0,
      "outputs": []
    },
    {
      "cell_type": "markdown",
      "metadata": {
        "id": "llMSTvSIpETP",
        "colab_type": "text"
      },
      "source": [
        "Next without using loc, or iloc, select only the `title` and  `artist` columns."
      ]
    },
    {
      "cell_type": "code",
      "metadata": {
        "id": "AynkPaRdpETQ",
        "colab_type": "code",
        "colab": {}
      },
      "source": [
        "songs_artists_df = df[['title','artist']]"
      ],
      "execution_count": 0,
      "outputs": []
    },
    {
      "cell_type": "code",
      "metadata": {
        "id": "PNjAWqNBpETS",
        "colab_type": "code",
        "outputId": "f1d85ea6-3503-41fa-d0f1-8f8dd800014e",
        "colab": {
          "base_uri": "https://localhost:8080/",
          "height": 137
        }
      },
      "source": [
        "songs_artists_df[:3]\n",
        "\n",
        "# title\tartist\n",
        "# 1\tHey, Soul Sister\tTrain\n",
        "# 2\tLove The Way You Lie\tEminem\n",
        "# 3\tTiK ToK\tKesha"
      ],
      "execution_count": 0,
      "outputs": [
        {
          "output_type": "execute_result",
          "data": {
            "text/html": [
              "<div>\n",
              "<style scoped>\n",
              "    .dataframe tbody tr th:only-of-type {\n",
              "        vertical-align: middle;\n",
              "    }\n",
              "\n",
              "    .dataframe tbody tr th {\n",
              "        vertical-align: top;\n",
              "    }\n",
              "\n",
              "    .dataframe thead th {\n",
              "        text-align: right;\n",
              "    }\n",
              "</style>\n",
              "<table border=\"1\" class=\"dataframe\">\n",
              "  <thead>\n",
              "    <tr style=\"text-align: right;\">\n",
              "      <th></th>\n",
              "      <th>title</th>\n",
              "      <th>artist</th>\n",
              "    </tr>\n",
              "  </thead>\n",
              "  <tbody>\n",
              "    <tr>\n",
              "      <th>1</th>\n",
              "      <td>Hey, Soul Sister</td>\n",
              "      <td>Train</td>\n",
              "    </tr>\n",
              "    <tr>\n",
              "      <th>2</th>\n",
              "      <td>Love The Way You Lie</td>\n",
              "      <td>Eminem</td>\n",
              "    </tr>\n",
              "    <tr>\n",
              "      <th>3</th>\n",
              "      <td>TiK ToK</td>\n",
              "      <td>Kesha</td>\n",
              "    </tr>\n",
              "  </tbody>\n",
              "</table>\n",
              "</div>"
            ],
            "text/plain": [
              "                  title  artist\n",
              "1      Hey, Soul Sister   Train\n",
              "2  Love The Way You Lie  Eminem\n",
              "3               TiK ToK   Kesha"
            ]
          },
          "metadata": {
            "tags": []
          },
          "execution_count": 58
        }
      ]
    },
    {
      "cell_type": "markdown",
      "metadata": {
        "id": "u11XIsokpETU",
        "colab_type": "text"
      },
      "source": [
        "Select the rows where all val, acous, and pop have scores above 55."
      ]
    },
    {
      "cell_type": "code",
      "metadata": {
        "id": "1Zl7HVPWwR0O",
        "colab_type": "code",
        "outputId": "a66b6a05-5cd9-4c38-c47a-52fc2721b9ff",
        "colab": {
          "base_uri": "https://localhost:8080/",
          "height": 406
        }
      },
      "source": [
        "over_fiftyfive = df[['val', 'acous', 'pop']]> 55\n",
        "over_fiftyfive "
      ],
      "execution_count": 0,
      "outputs": [
        {
          "output_type": "execute_result",
          "data": {
            "text/html": [
              "<div>\n",
              "<style scoped>\n",
              "    .dataframe tbody tr th:only-of-type {\n",
              "        vertical-align: middle;\n",
              "    }\n",
              "\n",
              "    .dataframe tbody tr th {\n",
              "        vertical-align: top;\n",
              "    }\n",
              "\n",
              "    .dataframe thead th {\n",
              "        text-align: right;\n",
              "    }\n",
              "</style>\n",
              "<table border=\"1\" class=\"dataframe\">\n",
              "  <thead>\n",
              "    <tr style=\"text-align: right;\">\n",
              "      <th></th>\n",
              "      <th>val</th>\n",
              "      <th>acous</th>\n",
              "      <th>pop</th>\n",
              "    </tr>\n",
              "  </thead>\n",
              "  <tbody>\n",
              "    <tr>\n",
              "      <th>1</th>\n",
              "      <td>True</td>\n",
              "      <td>False</td>\n",
              "      <td>True</td>\n",
              "    </tr>\n",
              "    <tr>\n",
              "      <th>2</th>\n",
              "      <td>True</td>\n",
              "      <td>False</td>\n",
              "      <td>True</td>\n",
              "    </tr>\n",
              "    <tr>\n",
              "      <th>3</th>\n",
              "      <td>True</td>\n",
              "      <td>False</td>\n",
              "      <td>True</td>\n",
              "    </tr>\n",
              "    <tr>\n",
              "      <th>4</th>\n",
              "      <td>True</td>\n",
              "      <td>False</td>\n",
              "      <td>True</td>\n",
              "    </tr>\n",
              "    <tr>\n",
              "      <th>5</th>\n",
              "      <td>False</td>\n",
              "      <td>False</td>\n",
              "      <td>True</td>\n",
              "    </tr>\n",
              "    <tr>\n",
              "      <th>...</th>\n",
              "      <td>...</td>\n",
              "      <td>...</td>\n",
              "      <td>...</td>\n",
              "    </tr>\n",
              "    <tr>\n",
              "      <th>599</th>\n",
              "      <td>False</td>\n",
              "      <td>False</td>\n",
              "      <td>True</td>\n",
              "    </tr>\n",
              "    <tr>\n",
              "      <th>600</th>\n",
              "      <td>True</td>\n",
              "      <td>False</td>\n",
              "      <td>True</td>\n",
              "    </tr>\n",
              "    <tr>\n",
              "      <th>601</th>\n",
              "      <td>True</td>\n",
              "      <td>False</td>\n",
              "      <td>True</td>\n",
              "    </tr>\n",
              "    <tr>\n",
              "      <th>602</th>\n",
              "      <td>False</td>\n",
              "      <td>False</td>\n",
              "      <td>True</td>\n",
              "    </tr>\n",
              "    <tr>\n",
              "      <th>603</th>\n",
              "      <td>False</td>\n",
              "      <td>False</td>\n",
              "      <td>True</td>\n",
              "    </tr>\n",
              "  </tbody>\n",
              "</table>\n",
              "<p>603 rows × 3 columns</p>\n",
              "</div>"
            ],
            "text/plain": [
              "       val  acous   pop\n",
              "1     True  False  True\n",
              "2     True  False  True\n",
              "3     True  False  True\n",
              "4     True  False  True\n",
              "5    False  False  True\n",
              "..     ...    ...   ...\n",
              "599  False  False  True\n",
              "600   True  False  True\n",
              "601   True  False  True\n",
              "602  False  False  True\n",
              "603  False  False  True\n",
              "\n",
              "[603 rows x 3 columns]"
            ]
          },
          "metadata": {
            "tags": []
          },
          "execution_count": 106
        }
      ]
    },
    {
      "cell_type": "code",
      "metadata": {
        "id": "u2p7Yd6AwR-f",
        "colab_type": "code",
        "outputId": "2e2fc889-695e-4deb-cdb0-d1f1147e4db3",
        "colab": {
          "base_uri": "https://localhost:8080/",
          "height": 230
        }
      },
      "source": [
        "over_fiftyfive_fixed = np.all(over_fiftyfive, axis=1)\n",
        "over_fiftyfive_fixed"
      ],
      "execution_count": 0,
      "outputs": [
        {
          "output_type": "execute_result",
          "data": {
            "text/plain": [
              "1      False\n",
              "2      False\n",
              "3      False\n",
              "4      False\n",
              "5      False\n",
              "       ...  \n",
              "599    False\n",
              "600    False\n",
              "601    False\n",
              "602    False\n",
              "603    False\n",
              "Length: 603, dtype: bool"
            ]
          },
          "metadata": {
            "tags": []
          },
          "execution_count": 109
        }
      ]
    },
    {
      "cell_type": "code",
      "metadata": {
        "id": "XShQFmqUpETV",
        "colab_type": "code",
        "outputId": "b372ec5a-3472-43a3-b780-7b212693c92a",
        "colab": {
          "base_uri": "https://localhost:8080/",
          "height": 227
        }
      },
      "source": [
        "good_scores_df = df[over_fiftyfive_fixed]\n",
        "good_scores_df\n",
        "\n",
        "# \ttitle\tartist\ttop genre\tyear\tbpm\tnrgy\tdnce\tdB\tlive\tval\tdur\tacous\tspch\tpop\n",
        "# 280\tWhat Do You Mean?\tJustin Bieber\tcanadian pop\t2015\t125\t57\t85\t-8\t8\t79\t206\t59\t10\t79\n",
        "# 310\tTrumpets\tJason Derulo\tdance pop\t2015\t82\t70\t63\t-5\t10\t64\t217\t56\t24\t69\n",
        "# 330\tWhat Do You Mean? - Acoustic\tJustin Bieber\tcanadian pop\t2015\t125\t36\t77\t-11\t10\t76\t204\t79\t4\t64\n",
        "# 444\tShape of You\tEd Sheeran\tpop\t2017\t96\t65\t83\t-3\t9\t93\t234\t58\t8\t87\n",
        "# 560\tWalk On Water (feat. Beyoncé)\tEminem\tdetroit hip hop\t2018\t82\t44\t48\t-10\t64\t62\t304\t81\t24\t65\n",
        "# 573\tMemories\tMaroon 5\tpop\t2019\t91\t32\t76\t-7\t8\t57\t189\t84\t5\t99"
      ],
      "execution_count": 0,
      "outputs": [
        {
          "output_type": "execute_result",
          "data": {
            "text/html": [
              "<div>\n",
              "<style scoped>\n",
              "    .dataframe tbody tr th:only-of-type {\n",
              "        vertical-align: middle;\n",
              "    }\n",
              "\n",
              "    .dataframe tbody tr th {\n",
              "        vertical-align: top;\n",
              "    }\n",
              "\n",
              "    .dataframe thead th {\n",
              "        text-align: right;\n",
              "    }\n",
              "</style>\n",
              "<table border=\"1\" class=\"dataframe\">\n",
              "  <thead>\n",
              "    <tr style=\"text-align: right;\">\n",
              "      <th></th>\n",
              "      <th>title</th>\n",
              "      <th>artist</th>\n",
              "      <th>top genre</th>\n",
              "      <th>year</th>\n",
              "      <th>bpm</th>\n",
              "      <th>nrgy</th>\n",
              "      <th>dnce</th>\n",
              "      <th>dB</th>\n",
              "      <th>live</th>\n",
              "      <th>val</th>\n",
              "      <th>dur</th>\n",
              "      <th>acous</th>\n",
              "      <th>spch</th>\n",
              "      <th>pop</th>\n",
              "    </tr>\n",
              "  </thead>\n",
              "  <tbody>\n",
              "    <tr>\n",
              "      <th>280</th>\n",
              "      <td>What Do You Mean?</td>\n",
              "      <td>Justin Bieber</td>\n",
              "      <td>canadian pop</td>\n",
              "      <td>2015</td>\n",
              "      <td>125</td>\n",
              "      <td>57</td>\n",
              "      <td>85</td>\n",
              "      <td>-8</td>\n",
              "      <td>8</td>\n",
              "      <td>79</td>\n",
              "      <td>206</td>\n",
              "      <td>59</td>\n",
              "      <td>10</td>\n",
              "      <td>79</td>\n",
              "    </tr>\n",
              "    <tr>\n",
              "      <th>310</th>\n",
              "      <td>Trumpets</td>\n",
              "      <td>Jason Derulo</td>\n",
              "      <td>dance pop</td>\n",
              "      <td>2015</td>\n",
              "      <td>82</td>\n",
              "      <td>70</td>\n",
              "      <td>63</td>\n",
              "      <td>-5</td>\n",
              "      <td>10</td>\n",
              "      <td>64</td>\n",
              "      <td>217</td>\n",
              "      <td>56</td>\n",
              "      <td>24</td>\n",
              "      <td>69</td>\n",
              "    </tr>\n",
              "    <tr>\n",
              "      <th>330</th>\n",
              "      <td>What Do You Mean? - Acoustic</td>\n",
              "      <td>Justin Bieber</td>\n",
              "      <td>canadian pop</td>\n",
              "      <td>2015</td>\n",
              "      <td>125</td>\n",
              "      <td>36</td>\n",
              "      <td>77</td>\n",
              "      <td>-11</td>\n",
              "      <td>10</td>\n",
              "      <td>76</td>\n",
              "      <td>204</td>\n",
              "      <td>79</td>\n",
              "      <td>4</td>\n",
              "      <td>64</td>\n",
              "    </tr>\n",
              "    <tr>\n",
              "      <th>444</th>\n",
              "      <td>Shape of You</td>\n",
              "      <td>Ed Sheeran</td>\n",
              "      <td>pop</td>\n",
              "      <td>2017</td>\n",
              "      <td>96</td>\n",
              "      <td>65</td>\n",
              "      <td>83</td>\n",
              "      <td>-3</td>\n",
              "      <td>9</td>\n",
              "      <td>93</td>\n",
              "      <td>234</td>\n",
              "      <td>58</td>\n",
              "      <td>8</td>\n",
              "      <td>87</td>\n",
              "    </tr>\n",
              "    <tr>\n",
              "      <th>560</th>\n",
              "      <td>Walk On Water (feat. Beyoncé)</td>\n",
              "      <td>Eminem</td>\n",
              "      <td>detroit hip hop</td>\n",
              "      <td>2018</td>\n",
              "      <td>82</td>\n",
              "      <td>44</td>\n",
              "      <td>48</td>\n",
              "      <td>-10</td>\n",
              "      <td>64</td>\n",
              "      <td>62</td>\n",
              "      <td>304</td>\n",
              "      <td>81</td>\n",
              "      <td>24</td>\n",
              "      <td>65</td>\n",
              "    </tr>\n",
              "    <tr>\n",
              "      <th>573</th>\n",
              "      <td>Memories</td>\n",
              "      <td>Maroon 5</td>\n",
              "      <td>pop</td>\n",
              "      <td>2019</td>\n",
              "      <td>91</td>\n",
              "      <td>32</td>\n",
              "      <td>76</td>\n",
              "      <td>-7</td>\n",
              "      <td>8</td>\n",
              "      <td>57</td>\n",
              "      <td>189</td>\n",
              "      <td>84</td>\n",
              "      <td>5</td>\n",
              "      <td>99</td>\n",
              "    </tr>\n",
              "  </tbody>\n",
              "</table>\n",
              "</div>"
            ],
            "text/plain": [
              "                             title         artist  ... spch  pop\n",
              "280              What Do You Mean?  Justin Bieber  ...   10   79\n",
              "310                       Trumpets   Jason Derulo  ...   24   69\n",
              "330   What Do You Mean? - Acoustic  Justin Bieber  ...    4   64\n",
              "444                   Shape of You     Ed Sheeran  ...    8   87\n",
              "560  Walk On Water (feat. Beyoncé)         Eminem  ...   24   65\n",
              "573                       Memories       Maroon 5  ...    5   99\n",
              "\n",
              "[6 rows x 14 columns]"
            ]
          },
          "metadata": {
            "tags": []
          },
          "execution_count": 110
        }
      ]
    },
    {
      "cell_type": "markdown",
      "metadata": {
        "id": "qVYXTtDnpETX",
        "colab_type": "text"
      },
      "source": [
        "### Sorting Data"
      ]
    },
    {
      "cell_type": "markdown",
      "metadata": {
        "id": "9ioiIJkHpETX",
        "colab_type": "text"
      },
      "source": [
        "Begin by using pandas to sort all of the rows by the `dnce` score, from highest to lowest."
      ]
    },
    {
      "cell_type": "code",
      "metadata": {
        "id": "_rtXuXEFt37o",
        "colab_type": "code",
        "outputId": "2effd6df-7057-459b-bfb0-3925f3fdb3a9",
        "colab": {
          "base_uri": "https://localhost:8080/",
          "height": 137
        }
      },
      "source": [
        "df[:3]"
      ],
      "execution_count": 0,
      "outputs": [
        {
          "output_type": "execute_result",
          "data": {
            "text/html": [
              "<div>\n",
              "<style scoped>\n",
              "    .dataframe tbody tr th:only-of-type {\n",
              "        vertical-align: middle;\n",
              "    }\n",
              "\n",
              "    .dataframe tbody tr th {\n",
              "        vertical-align: top;\n",
              "    }\n",
              "\n",
              "    .dataframe thead th {\n",
              "        text-align: right;\n",
              "    }\n",
              "</style>\n",
              "<table border=\"1\" class=\"dataframe\">\n",
              "  <thead>\n",
              "    <tr style=\"text-align: right;\">\n",
              "      <th></th>\n",
              "      <th>title</th>\n",
              "      <th>artist</th>\n",
              "      <th>top genre</th>\n",
              "      <th>year</th>\n",
              "      <th>bpm</th>\n",
              "      <th>nrgy</th>\n",
              "      <th>dnce</th>\n",
              "      <th>dB</th>\n",
              "      <th>live</th>\n",
              "      <th>val</th>\n",
              "      <th>dur</th>\n",
              "      <th>acous</th>\n",
              "      <th>spch</th>\n",
              "      <th>pop</th>\n",
              "    </tr>\n",
              "  </thead>\n",
              "  <tbody>\n",
              "    <tr>\n",
              "      <th>1</th>\n",
              "      <td>Hey, Soul Sister</td>\n",
              "      <td>Train</td>\n",
              "      <td>neo mellow</td>\n",
              "      <td>2010</td>\n",
              "      <td>97</td>\n",
              "      <td>89</td>\n",
              "      <td>67</td>\n",
              "      <td>-4</td>\n",
              "      <td>8</td>\n",
              "      <td>80</td>\n",
              "      <td>217</td>\n",
              "      <td>19</td>\n",
              "      <td>4</td>\n",
              "      <td>83</td>\n",
              "    </tr>\n",
              "    <tr>\n",
              "      <th>2</th>\n",
              "      <td>Love The Way You Lie</td>\n",
              "      <td>Eminem</td>\n",
              "      <td>detroit hip hop</td>\n",
              "      <td>2010</td>\n",
              "      <td>87</td>\n",
              "      <td>93</td>\n",
              "      <td>75</td>\n",
              "      <td>-5</td>\n",
              "      <td>52</td>\n",
              "      <td>64</td>\n",
              "      <td>263</td>\n",
              "      <td>24</td>\n",
              "      <td>23</td>\n",
              "      <td>82</td>\n",
              "    </tr>\n",
              "    <tr>\n",
              "      <th>3</th>\n",
              "      <td>TiK ToK</td>\n",
              "      <td>Kesha</td>\n",
              "      <td>dance pop</td>\n",
              "      <td>2010</td>\n",
              "      <td>120</td>\n",
              "      <td>84</td>\n",
              "      <td>76</td>\n",
              "      <td>-3</td>\n",
              "      <td>29</td>\n",
              "      <td>71</td>\n",
              "      <td>200</td>\n",
              "      <td>10</td>\n",
              "      <td>14</td>\n",
              "      <td>80</td>\n",
              "    </tr>\n",
              "  </tbody>\n",
              "</table>\n",
              "</div>"
            ],
            "text/plain": [
              "                  title  artist        top genre  year  ...  dur  acous  spch  pop\n",
              "1      Hey, Soul Sister   Train       neo mellow  2010  ...  217     19     4   83\n",
              "2  Love The Way You Lie  Eminem  detroit hip hop  2010  ...  263     24    23   82\n",
              "3               TiK ToK   Kesha        dance pop  2010  ...  200     10    14   80\n",
              "\n",
              "[3 rows x 14 columns]"
            ]
          },
          "metadata": {
            "tags": []
          },
          "execution_count": 70
        }
      ]
    },
    {
      "cell_type": "markdown",
      "metadata": {
        "id": "8q6dZkqK1ED0",
        "colab_type": "text"
      },
      "source": [
        ""
      ]
    },
    {
      "cell_type": "code",
      "metadata": {
        "id": "6FS9O18j1ER2",
        "colab_type": "code",
        "outputId": "bb454777-4b97-43b3-df25-48fcc27c7f48",
        "colab": {
          "base_uri": "https://localhost:8080/",
          "height": 406
        }
      },
      "source": [
        "df.sort_values(by='dnce', ascending=False)"
      ],
      "execution_count": 0,
      "outputs": [
        {
          "output_type": "execute_result",
          "data": {
            "text/html": [
              "<div>\n",
              "<style scoped>\n",
              "    .dataframe tbody tr th:only-of-type {\n",
              "        vertical-align: middle;\n",
              "    }\n",
              "\n",
              "    .dataframe tbody tr th {\n",
              "        vertical-align: top;\n",
              "    }\n",
              "\n",
              "    .dataframe thead th {\n",
              "        text-align: right;\n",
              "    }\n",
              "</style>\n",
              "<table border=\"1\" class=\"dataframe\">\n",
              "  <thead>\n",
              "    <tr style=\"text-align: right;\">\n",
              "      <th></th>\n",
              "      <th>title</th>\n",
              "      <th>artist</th>\n",
              "      <th>top genre</th>\n",
              "      <th>year</th>\n",
              "      <th>bpm</th>\n",
              "      <th>nrgy</th>\n",
              "      <th>dnce</th>\n",
              "      <th>dB</th>\n",
              "      <th>live</th>\n",
              "      <th>val</th>\n",
              "      <th>dur</th>\n",
              "      <th>acous</th>\n",
              "      <th>spch</th>\n",
              "      <th>pop</th>\n",
              "    </tr>\n",
              "  </thead>\n",
              "  <tbody>\n",
              "    <tr>\n",
              "      <th>571</th>\n",
              "      <td>Drip (feat. Migos)</td>\n",
              "      <td>Cardi B</td>\n",
              "      <td>pop</td>\n",
              "      <td>2018</td>\n",
              "      <td>130</td>\n",
              "      <td>59</td>\n",
              "      <td>97</td>\n",
              "      <td>-8</td>\n",
              "      <td>8</td>\n",
              "      <td>27</td>\n",
              "      <td>264</td>\n",
              "      <td>5</td>\n",
              "      <td>26</td>\n",
              "      <td>45</td>\n",
              "    </tr>\n",
              "    <tr>\n",
              "      <th>540</th>\n",
              "      <td>Bad Liar</td>\n",
              "      <td>Selena Gomez</td>\n",
              "      <td>dance pop</td>\n",
              "      <td>2018</td>\n",
              "      <td>121</td>\n",
              "      <td>41</td>\n",
              "      <td>97</td>\n",
              "      <td>-6</td>\n",
              "      <td>8</td>\n",
              "      <td>73</td>\n",
              "      <td>215</td>\n",
              "      <td>19</td>\n",
              "      <td>7</td>\n",
              "      <td>75</td>\n",
              "    </tr>\n",
              "    <tr>\n",
              "      <th>258</th>\n",
              "      <td>Anaconda</td>\n",
              "      <td>Nicki Minaj</td>\n",
              "      <td>dance pop</td>\n",
              "      <td>2014</td>\n",
              "      <td>130</td>\n",
              "      <td>60</td>\n",
              "      <td>96</td>\n",
              "      <td>-6</td>\n",
              "      <td>21</td>\n",
              "      <td>65</td>\n",
              "      <td>260</td>\n",
              "      <td>7</td>\n",
              "      <td>18</td>\n",
              "      <td>50</td>\n",
              "    </tr>\n",
              "    <tr>\n",
              "      <th>390</th>\n",
              "      <td>Me Too</td>\n",
              "      <td>Meghan Trainor</td>\n",
              "      <td>dance pop</td>\n",
              "      <td>2016</td>\n",
              "      <td>124</td>\n",
              "      <td>69</td>\n",
              "      <td>93</td>\n",
              "      <td>-6</td>\n",
              "      <td>48</td>\n",
              "      <td>84</td>\n",
              "      <td>181</td>\n",
              "      <td>10</td>\n",
              "      <td>10</td>\n",
              "      <td>73</td>\n",
              "    </tr>\n",
              "    <tr>\n",
              "      <th>478</th>\n",
              "      <td>Bodak Yellow</td>\n",
              "      <td>Cardi B</td>\n",
              "      <td>pop</td>\n",
              "      <td>2017</td>\n",
              "      <td>125</td>\n",
              "      <td>72</td>\n",
              "      <td>93</td>\n",
              "      <td>-6</td>\n",
              "      <td>35</td>\n",
              "      <td>46</td>\n",
              "      <td>224</td>\n",
              "      <td>7</td>\n",
              "      <td>11</td>\n",
              "      <td>70</td>\n",
              "    </tr>\n",
              "    <tr>\n",
              "      <th>...</th>\n",
              "      <td>...</td>\n",
              "      <td>...</td>\n",
              "      <td>...</td>\n",
              "      <td>...</td>\n",
              "      <td>...</td>\n",
              "      <td>...</td>\n",
              "      <td>...</td>\n",
              "      <td>...</td>\n",
              "      <td>...</td>\n",
              "      <td>...</td>\n",
              "      <td>...</td>\n",
              "      <td>...</td>\n",
              "      <td>...</td>\n",
              "      <td>...</td>\n",
              "    </tr>\n",
              "    <tr>\n",
              "      <th>353</th>\n",
              "      <td>St Jude</td>\n",
              "      <td>Florence + The Machine</td>\n",
              "      <td>art pop</td>\n",
              "      <td>2015</td>\n",
              "      <td>117</td>\n",
              "      <td>43</td>\n",
              "      <td>26</td>\n",
              "      <td>-11</td>\n",
              "      <td>11</td>\n",
              "      <td>9</td>\n",
              "      <td>225</td>\n",
              "      <td>75</td>\n",
              "      <td>3</td>\n",
              "      <td>47</td>\n",
              "    </tr>\n",
              "    <tr>\n",
              "      <th>278</th>\n",
              "      <td>Love Me Like You Do - From \"Fifty Shades Of Grey\"</td>\n",
              "      <td>Ellie Goulding</td>\n",
              "      <td>dance pop</td>\n",
              "      <td>2015</td>\n",
              "      <td>190</td>\n",
              "      <td>61</td>\n",
              "      <td>26</td>\n",
              "      <td>-7</td>\n",
              "      <td>13</td>\n",
              "      <td>28</td>\n",
              "      <td>253</td>\n",
              "      <td>25</td>\n",
              "      <td>5</td>\n",
              "      <td>79</td>\n",
              "    </tr>\n",
              "    <tr>\n",
              "      <th>518</th>\n",
              "      <td>Dusk Till Dawn - Radio Edit</td>\n",
              "      <td>ZAYN</td>\n",
              "      <td>dance pop</td>\n",
              "      <td>2018</td>\n",
              "      <td>180</td>\n",
              "      <td>44</td>\n",
              "      <td>26</td>\n",
              "      <td>-7</td>\n",
              "      <td>11</td>\n",
              "      <td>10</td>\n",
              "      <td>239</td>\n",
              "      <td>10</td>\n",
              "      <td>4</td>\n",
              "      <td>83</td>\n",
              "    </tr>\n",
              "    <tr>\n",
              "      <th>45</th>\n",
              "      <td>You Lost Me</td>\n",
              "      <td>Christina Aguilera</td>\n",
              "      <td>dance pop</td>\n",
              "      <td>2010</td>\n",
              "      <td>43</td>\n",
              "      <td>39</td>\n",
              "      <td>23</td>\n",
              "      <td>-6</td>\n",
              "      <td>14</td>\n",
              "      <td>7</td>\n",
              "      <td>257</td>\n",
              "      <td>85</td>\n",
              "      <td>4</td>\n",
              "      <td>56</td>\n",
              "    </tr>\n",
              "    <tr>\n",
              "      <th>443</th>\n",
              "      <td>Million Years Ago</td>\n",
              "      <td>Adele</td>\n",
              "      <td>british soul</td>\n",
              "      <td>2016</td>\n",
              "      <td>0</td>\n",
              "      <td>0</td>\n",
              "      <td>0</td>\n",
              "      <td>-60</td>\n",
              "      <td>0</td>\n",
              "      <td>0</td>\n",
              "      <td>227</td>\n",
              "      <td>0</td>\n",
              "      <td>0</td>\n",
              "      <td>0</td>\n",
              "    </tr>\n",
              "  </tbody>\n",
              "</table>\n",
              "<p>603 rows × 14 columns</p>\n",
              "</div>"
            ],
            "text/plain": [
              "                                                 title  ... pop\n",
              "571                                 Drip (feat. Migos)  ...  45\n",
              "540                                           Bad Liar  ...  75\n",
              "258                                           Anaconda  ...  50\n",
              "390                                             Me Too  ...  73\n",
              "478                                       Bodak Yellow  ...  70\n",
              "..                                                 ...  ...  ..\n",
              "353                                            St Jude  ...  47\n",
              "278  Love Me Like You Do - From \"Fifty Shades Of Grey\"  ...  79\n",
              "518                        Dusk Till Dawn - Radio Edit  ...  83\n",
              "45                                         You Lost Me  ...  56\n",
              "443                                  Million Years Ago  ...   0\n",
              "\n",
              "[603 rows x 14 columns]"
            ]
          },
          "metadata": {
            "tags": []
          },
          "execution_count": 137
        }
      ]
    },
    {
      "cell_type": "code",
      "metadata": {
        "id": "9rqPV1Gpykun",
        "colab_type": "code",
        "colab": {}
      },
      "source": [
        "sorted_dnce = df['dnce'].sort_values()[::-1]\n",
        "sorted_dnce_index = sorted_dnce.index"
      ],
      "execution_count": 0,
      "outputs": []
    },
    {
      "cell_type": "code",
      "metadata": {
        "id": "vMfREN1BpETY",
        "colab_type": "code",
        "colab": {}
      },
      "source": [
        "most_dancey = df.loc[sorted_dnce_index]"
      ],
      "execution_count": 0,
      "outputs": []
    },
    {
      "cell_type": "code",
      "metadata": {
        "id": "29gZgukzpETa",
        "colab_type": "code",
        "outputId": "3881c690-5a17-4073-a9f2-00ff14d4486c",
        "colab": {
          "base_uri": "https://localhost:8080/",
          "height": 167
        }
      },
      "source": [
        "most_dancey[:4]\n",
        "\n",
        "\n",
        "# title\tartist\ttop genre\tyear\tbpm\tnrgy\tdnce\tdB\tlive\tval\tdur\tacous\tspch\tpop\n",
        "# 571\tDrip (feat. Migos)\tCardi B\tpop\t2018\t130\t59\t97\t-8\t8\t27\t264\t5\t26\t45\n",
        "# 540\tBad Liar\tSelena Gomez\tdance pop\t2018\t121\t41\t97\t-6\t8\t73\t215\t19\t7\t75\n",
        "# 258\tAnaconda\tNicki Minaj\tdance pop\t2014\t130\t60\t96\t-6\t21\t65\t260\t7\t18\t50\n",
        "# 390\tMe Too\tMeghan Trainor\tdance pop\t2016\t124\t69\t93\t-6\t48\t84\t181\t10\t10\t73\n",
        "# "
      ],
      "execution_count": 0,
      "outputs": [
        {
          "output_type": "execute_result",
          "data": {
            "text/html": [
              "<div>\n",
              "<style scoped>\n",
              "    .dataframe tbody tr th:only-of-type {\n",
              "        vertical-align: middle;\n",
              "    }\n",
              "\n",
              "    .dataframe tbody tr th {\n",
              "        vertical-align: top;\n",
              "    }\n",
              "\n",
              "    .dataframe thead th {\n",
              "        text-align: right;\n",
              "    }\n",
              "</style>\n",
              "<table border=\"1\" class=\"dataframe\">\n",
              "  <thead>\n",
              "    <tr style=\"text-align: right;\">\n",
              "      <th></th>\n",
              "      <th>title</th>\n",
              "      <th>artist</th>\n",
              "      <th>top genre</th>\n",
              "      <th>year</th>\n",
              "      <th>bpm</th>\n",
              "      <th>nrgy</th>\n",
              "      <th>dnce</th>\n",
              "      <th>dB</th>\n",
              "      <th>live</th>\n",
              "      <th>val</th>\n",
              "      <th>dur</th>\n",
              "      <th>acous</th>\n",
              "      <th>spch</th>\n",
              "      <th>pop</th>\n",
              "    </tr>\n",
              "  </thead>\n",
              "  <tbody>\n",
              "    <tr>\n",
              "      <th>540</th>\n",
              "      <td>Bad Liar</td>\n",
              "      <td>Selena Gomez</td>\n",
              "      <td>dance pop</td>\n",
              "      <td>2018</td>\n",
              "      <td>121</td>\n",
              "      <td>41</td>\n",
              "      <td>97</td>\n",
              "      <td>-6</td>\n",
              "      <td>8</td>\n",
              "      <td>73</td>\n",
              "      <td>215</td>\n",
              "      <td>19</td>\n",
              "      <td>7</td>\n",
              "      <td>75</td>\n",
              "    </tr>\n",
              "    <tr>\n",
              "      <th>571</th>\n",
              "      <td>Drip (feat. Migos)</td>\n",
              "      <td>Cardi B</td>\n",
              "      <td>pop</td>\n",
              "      <td>2018</td>\n",
              "      <td>130</td>\n",
              "      <td>59</td>\n",
              "      <td>97</td>\n",
              "      <td>-8</td>\n",
              "      <td>8</td>\n",
              "      <td>27</td>\n",
              "      <td>264</td>\n",
              "      <td>5</td>\n",
              "      <td>26</td>\n",
              "      <td>45</td>\n",
              "    </tr>\n",
              "    <tr>\n",
              "      <th>258</th>\n",
              "      <td>Anaconda</td>\n",
              "      <td>Nicki Minaj</td>\n",
              "      <td>dance pop</td>\n",
              "      <td>2014</td>\n",
              "      <td>130</td>\n",
              "      <td>60</td>\n",
              "      <td>96</td>\n",
              "      <td>-6</td>\n",
              "      <td>21</td>\n",
              "      <td>65</td>\n",
              "      <td>260</td>\n",
              "      <td>7</td>\n",
              "      <td>18</td>\n",
              "      <td>50</td>\n",
              "    </tr>\n",
              "    <tr>\n",
              "      <th>390</th>\n",
              "      <td>Me Too</td>\n",
              "      <td>Meghan Trainor</td>\n",
              "      <td>dance pop</td>\n",
              "      <td>2016</td>\n",
              "      <td>124</td>\n",
              "      <td>69</td>\n",
              "      <td>93</td>\n",
              "      <td>-6</td>\n",
              "      <td>48</td>\n",
              "      <td>84</td>\n",
              "      <td>181</td>\n",
              "      <td>10</td>\n",
              "      <td>10</td>\n",
              "      <td>73</td>\n",
              "    </tr>\n",
              "  </tbody>\n",
              "</table>\n",
              "</div>"
            ],
            "text/plain": [
              "                  title          artist  top genre  year  ...  dur  acous  spch  pop\n",
              "540            Bad Liar    Selena Gomez  dance pop  2018  ...  215     19     7   75\n",
              "571  Drip (feat. Migos)         Cardi B        pop  2018  ...  264      5    26   45\n",
              "258            Anaconda     Nicki Minaj  dance pop  2014  ...  260      7    18   50\n",
              "390              Me Too  Meghan Trainor  dance pop  2016  ...  181     10    10   73\n",
              "\n",
              "[4 rows x 14 columns]"
            ]
          },
          "metadata": {
            "tags": []
          },
          "execution_count": 134
        }
      ]
    },
    {
      "cell_type": "markdown",
      "metadata": {
        "id": "e16nXcOgpETc",
        "colab_type": "text"
      },
      "source": [
        "Then use numpy to do the same."
      ]
    },
    {
      "cell_type": "markdown",
      "metadata": {
        "id": "wTtcuOYTpETc",
        "colab_type": "text"
      },
      "source": [
        "We'll get you started."
      ]
    },
    {
      "cell_type": "code",
      "metadata": {
        "id": "IAFR6E8qpETc",
        "colab_type": "code",
        "outputId": "26ce6d60-48d6-41db-f149-8d949893aed8",
        "colab": {
          "base_uri": "https://localhost:8080/",
          "height": 34
        }
      },
      "source": [
        "df.columns.tolist().index('dnce')"
      ],
      "execution_count": 0,
      "outputs": [
        {
          "output_type": "execute_result",
          "data": {
            "text/plain": [
              "6"
            ]
          },
          "metadata": {
            "tags": []
          },
          "execution_count": 138
        }
      ]
    },
    {
      "cell_type": "markdown",
      "metadata": {
        "id": "k7LnXklEpETf",
        "colab_type": "text"
      },
      "source": [
        "> The ordering may be slightly different than the one above, as there are ties.  Still use numpy to sort the rows by danciness."
      ]
    },
    {
      "cell_type": "code",
      "metadata": {
        "id": "CCUCGQJApETf",
        "colab_type": "code",
        "colab": {}
      },
      "source": [
        "sorted_songs_np = songs_np[songs_np[:,6].argsort()]"
      ],
      "execution_count": 0,
      "outputs": []
    },
    {
      "cell_type": "code",
      "metadata": {
        "id": "7j0QyWiEpETh",
        "colab_type": "code",
        "outputId": "341633ba-4b9f-4c38-9565-3fc9605f4b7f",
        "colab": {
          "base_uri": "https://localhost:8080/",
          "height": 158
        }
      },
      "source": [
        "sorted_songs_np\n",
        "# array([['Bad Liar', 'Selena Gomez', 'dance pop', ..., 19, 7, 75],\n",
        "#        ['Drip (feat. Migos)', 'Cardi B', 'pop', ..., 5, 26, 45],\n",
        "#        ['Anaconda', 'Nicki Minaj', 'dance pop', ..., 7, 18, 50],\n",
        "#        ...,\n",
        "#        ['St Jude', 'Florence + The Machine', 'art pop', ..., 75, 3, 47],\n",
        "#        ['You Lost Me', 'Christina Aguilera', 'dance pop', ..., 85, 4, 56],\n",
        "#        ['Million Years Ago', 'Adele', 'british soul', ..., 0, 0, 0]],\n",
        "#       dtype=object)\n"
      ],
      "execution_count": 0,
      "outputs": [
        {
          "output_type": "execute_result",
          "data": {
            "text/plain": [
              "array([['Million Years Ago', 'Adele', 'british soul', ..., 0, 0, 0],\n",
              "       ['You Lost Me', 'Christina Aguilera', 'dance pop', ..., 85, 4, 56],\n",
              "       ['St Jude', 'Florence + The Machine', 'art pop', ..., 75, 3, 47],\n",
              "       ...,\n",
              "       ['Anaconda', 'Nicki Minaj', 'dance pop', ..., 7, 18, 50],\n",
              "       ['Drip (feat. Migos)', 'Cardi B', 'pop', ..., 5, 26, 45],\n",
              "       ['Bad Liar', 'Selena Gomez', 'dance pop', ..., 19, 7, 75]],\n",
              "      dtype=object)"
            ]
          },
          "metadata": {
            "tags": []
          },
          "execution_count": 186
        }
      ]
    },
    {
      "cell_type": "markdown",
      "metadata": {
        "id": "ZlqXZU_bpETk",
        "colab_type": "text"
      },
      "source": [
        "For each row, add up the sum of the last 10 columns either in numpy."
      ]
    },
    {
      "cell_type": "code",
      "metadata": {
        "id": "LHBTBxZvpETl",
        "colab_type": "code",
        "colab": {}
      },
      "source": [
        "sum_of_features = np.sum(songs_np[:, -10:], axis = 1)\n"
      ],
      "execution_count": 0,
      "outputs": []
    },
    {
      "cell_type": "code",
      "metadata": {
        "id": "HxLT7VCdpETp",
        "colab_type": "code",
        "outputId": "e6d89878-e68f-4a38-a147-968c68f4dee1",
        "colab": {
          "base_uri": "https://localhost:8080/",
          "height": 34
        }
      },
      "source": [
        "sum_of_features[:3]\n",
        "\n",
        "# array([660, 758, 681], dtype=object)"
      ],
      "execution_count": 0,
      "outputs": [
        {
          "output_type": "execute_result",
          "data": {
            "text/plain": [
              "array([660, 758, 681], dtype=object)"
            ]
          },
          "metadata": {
            "tags": []
          },
          "execution_count": 187
        }
      ]
    },
    {
      "cell_type": "markdown",
      "metadata": {
        "id": "1CdLoucwpETq",
        "colab_type": "text"
      },
      "source": [
        "Now we'll add this to the pandas dataframe."
      ]
    },
    {
      "cell_type": "code",
      "metadata": {
        "id": "_7hudWR2pETr",
        "colab_type": "code",
        "colab": {}
      },
      "source": [
        "total_score = pd.Series(sum_of_features, name = 'total_score')"
      ],
      "execution_count": 0,
      "outputs": []
    },
    {
      "cell_type": "markdown",
      "metadata": {
        "id": "pwUNjMtFpETs",
        "colab_type": "text"
      },
      "source": [
        "Now we'll assign total score to our dataframe."
      ]
    },
    {
      "cell_type": "code",
      "metadata": {
        "id": "QkZJYp3upETt",
        "colab_type": "code",
        "colab": {}
      },
      "source": [
        "df_with_total = df.assign(total_score = total_score)"
      ],
      "execution_count": 0,
      "outputs": []
    },
    {
      "cell_type": "code",
      "metadata": {
        "id": "RB_oqwpHpETu",
        "colab_type": "code",
        "outputId": "ac5b3f85-3658-43ba-e06c-8b20560f55af",
        "colab": {
          "base_uri": "https://localhost:8080/",
          "height": 137
        }
      },
      "source": [
        "df_with_total[:3]"
      ],
      "execution_count": 0,
      "outputs": [
        {
          "output_type": "execute_result",
          "data": {
            "text/html": [
              "<div>\n",
              "<style scoped>\n",
              "    .dataframe tbody tr th:only-of-type {\n",
              "        vertical-align: middle;\n",
              "    }\n",
              "\n",
              "    .dataframe tbody tr th {\n",
              "        vertical-align: top;\n",
              "    }\n",
              "\n",
              "    .dataframe thead th {\n",
              "        text-align: right;\n",
              "    }\n",
              "</style>\n",
              "<table border=\"1\" class=\"dataframe\">\n",
              "  <thead>\n",
              "    <tr style=\"text-align: right;\">\n",
              "      <th></th>\n",
              "      <th>title</th>\n",
              "      <th>artist</th>\n",
              "      <th>top genre</th>\n",
              "      <th>year</th>\n",
              "      <th>bpm</th>\n",
              "      <th>nrgy</th>\n",
              "      <th>dnce</th>\n",
              "      <th>dB</th>\n",
              "      <th>live</th>\n",
              "      <th>val</th>\n",
              "      <th>dur</th>\n",
              "      <th>acous</th>\n",
              "      <th>spch</th>\n",
              "      <th>pop</th>\n",
              "      <th>total_score</th>\n",
              "    </tr>\n",
              "  </thead>\n",
              "  <tbody>\n",
              "    <tr>\n",
              "      <th>1</th>\n",
              "      <td>Hey, Soul Sister</td>\n",
              "      <td>Train</td>\n",
              "      <td>neo mellow</td>\n",
              "      <td>2010</td>\n",
              "      <td>97</td>\n",
              "      <td>89</td>\n",
              "      <td>67</td>\n",
              "      <td>-4</td>\n",
              "      <td>8</td>\n",
              "      <td>80</td>\n",
              "      <td>217</td>\n",
              "      <td>19</td>\n",
              "      <td>4</td>\n",
              "      <td>83</td>\n",
              "      <td>758</td>\n",
              "    </tr>\n",
              "    <tr>\n",
              "      <th>2</th>\n",
              "      <td>Love The Way You Lie</td>\n",
              "      <td>Eminem</td>\n",
              "      <td>detroit hip hop</td>\n",
              "      <td>2010</td>\n",
              "      <td>87</td>\n",
              "      <td>93</td>\n",
              "      <td>75</td>\n",
              "      <td>-5</td>\n",
              "      <td>52</td>\n",
              "      <td>64</td>\n",
              "      <td>263</td>\n",
              "      <td>24</td>\n",
              "      <td>23</td>\n",
              "      <td>82</td>\n",
              "      <td>681</td>\n",
              "    </tr>\n",
              "    <tr>\n",
              "      <th>3</th>\n",
              "      <td>TiK ToK</td>\n",
              "      <td>Kesha</td>\n",
              "      <td>dance pop</td>\n",
              "      <td>2010</td>\n",
              "      <td>120</td>\n",
              "      <td>84</td>\n",
              "      <td>76</td>\n",
              "      <td>-3</td>\n",
              "      <td>29</td>\n",
              "      <td>71</td>\n",
              "      <td>200</td>\n",
              "      <td>10</td>\n",
              "      <td>14</td>\n",
              "      <td>80</td>\n",
              "      <td>734</td>\n",
              "    </tr>\n",
              "  </tbody>\n",
              "</table>\n",
              "</div>"
            ],
            "text/plain": [
              "                  title  artist        top genre  ...  spch  pop  total_score\n",
              "1      Hey, Soul Sister   Train       neo mellow  ...     4   83          758\n",
              "2  Love The Way You Lie  Eminem  detroit hip hop  ...    23   82          681\n",
              "3               TiK ToK   Kesha        dance pop  ...    14   80          734\n",
              "\n",
              "[3 rows x 15 columns]"
            ]
          },
          "metadata": {
            "tags": []
          },
          "execution_count": 190
        }
      ]
    },
    {
      "cell_type": "markdown",
      "metadata": {
        "id": "RySRzqempETw",
        "colab_type": "text"
      },
      "source": [
        "Now look through the following dataframe `selected_df`."
      ]
    },
    {
      "cell_type": "code",
      "metadata": {
        "id": "NPMdG8sGpETw",
        "colab_type": "code",
        "colab": {}
      },
      "source": [
        "cols = ['title', 'artist', 'top genre', 'year',  'nrgy', 'dnce', \n",
        "       'live', 'val',  'acous', 'spch', 'pop']\n",
        "selected_df = df[cols]"
      ],
      "execution_count": 0,
      "outputs": []
    },
    {
      "cell_type": "code",
      "metadata": {
        "id": "LJTH-wlRpETy",
        "colab_type": "code",
        "outputId": "077b530e-a88b-4185-ffcb-4201eb418c9f",
        "colab": {
          "base_uri": "https://localhost:8080/",
          "height": 137
        }
      },
      "source": [
        "selected_df[:3]"
      ],
      "execution_count": 0,
      "outputs": [
        {
          "output_type": "execute_result",
          "data": {
            "text/html": [
              "<div>\n",
              "<style scoped>\n",
              "    .dataframe tbody tr th:only-of-type {\n",
              "        vertical-align: middle;\n",
              "    }\n",
              "\n",
              "    .dataframe tbody tr th {\n",
              "        vertical-align: top;\n",
              "    }\n",
              "\n",
              "    .dataframe thead th {\n",
              "        text-align: right;\n",
              "    }\n",
              "</style>\n",
              "<table border=\"1\" class=\"dataframe\">\n",
              "  <thead>\n",
              "    <tr style=\"text-align: right;\">\n",
              "      <th></th>\n",
              "      <th>title</th>\n",
              "      <th>artist</th>\n",
              "      <th>top genre</th>\n",
              "      <th>year</th>\n",
              "      <th>nrgy</th>\n",
              "      <th>dnce</th>\n",
              "      <th>live</th>\n",
              "      <th>val</th>\n",
              "      <th>acous</th>\n",
              "      <th>spch</th>\n",
              "      <th>pop</th>\n",
              "    </tr>\n",
              "  </thead>\n",
              "  <tbody>\n",
              "    <tr>\n",
              "      <th>1</th>\n",
              "      <td>Hey, Soul Sister</td>\n",
              "      <td>Train</td>\n",
              "      <td>neo mellow</td>\n",
              "      <td>2010</td>\n",
              "      <td>89</td>\n",
              "      <td>67</td>\n",
              "      <td>8</td>\n",
              "      <td>80</td>\n",
              "      <td>19</td>\n",
              "      <td>4</td>\n",
              "      <td>83</td>\n",
              "    </tr>\n",
              "    <tr>\n",
              "      <th>2</th>\n",
              "      <td>Love The Way You Lie</td>\n",
              "      <td>Eminem</td>\n",
              "      <td>detroit hip hop</td>\n",
              "      <td>2010</td>\n",
              "      <td>93</td>\n",
              "      <td>75</td>\n",
              "      <td>52</td>\n",
              "      <td>64</td>\n",
              "      <td>24</td>\n",
              "      <td>23</td>\n",
              "      <td>82</td>\n",
              "    </tr>\n",
              "    <tr>\n",
              "      <th>3</th>\n",
              "      <td>TiK ToK</td>\n",
              "      <td>Kesha</td>\n",
              "      <td>dance pop</td>\n",
              "      <td>2010</td>\n",
              "      <td>84</td>\n",
              "      <td>76</td>\n",
              "      <td>29</td>\n",
              "      <td>71</td>\n",
              "      <td>10</td>\n",
              "      <td>14</td>\n",
              "      <td>80</td>\n",
              "    </tr>\n",
              "  </tbody>\n",
              "</table>\n",
              "</div>"
            ],
            "text/plain": [
              "                  title  artist        top genre  year  ...  val  acous  spch  pop\n",
              "1      Hey, Soul Sister   Train       neo mellow  2010  ...   80     19     4   83\n",
              "2  Love The Way You Lie  Eminem  detroit hip hop  2010  ...   64     24    23   82\n",
              "3               TiK ToK   Kesha        dance pop  2010  ...   71     10    14   80\n",
              "\n",
              "[3 rows x 11 columns]"
            ]
          },
          "metadata": {
            "tags": []
          },
          "execution_count": 192
        }
      ]
    },
    {
      "cell_type": "markdown",
      "metadata": {
        "id": "_sLttc4bpET0",
        "colab_type": "text"
      },
      "source": [
        "In the last eight columns (everything after year), find the song whose maximum value across all 8 of those columns, is the smallest for all songs.  In other words, which song has the lowest, high score."
      ]
    },
    {
      "cell_type": "code",
      "metadata": {
        "id": "ZHUs1uk7pET1",
        "colab_type": "code",
        "outputId": "85b93470-bad4-4326-e5db-49ac08ffc053",
        "colab": {
          "base_uri": "https://localhost:8080/",
          "height": 123
        }
      },
      "source": [
        "selected_np = selected_df.to_numpy()\n",
        "selected_np[:3]"
      ],
      "execution_count": 0,
      "outputs": [
        {
          "output_type": "execute_result",
          "data": {
            "text/plain": [
              "array([['Hey, Soul Sister', 'Train', 'neo mellow', 2010, 89, 67, 8, 80,\n",
              "        19, 4, 83],\n",
              "       ['Love The Way You Lie', 'Eminem', 'detroit hip hop', 2010, 93,\n",
              "        75, 52, 64, 24, 23, 82],\n",
              "       ['TiK ToK', 'Kesha', 'dance pop', 2010, 84, 76, 29, 71, 10, 14,\n",
              "        80]], dtype=object)"
            ]
          },
          "metadata": {
            "tags": []
          },
          "execution_count": 199
        }
      ]
    },
    {
      "cell_type": "code",
      "metadata": {
        "id": "YuQ9fBYzpET2",
        "colab_type": "code",
        "outputId": "296b159d-b3ff-492c-cc33-6367396271f0",
        "colab": {
          "base_uri": "https://localhost:8080/",
          "height": 52
        }
      },
      "source": [
        "selected_np[np.max(selected_np[:,-7:], axis=1).argsort()][0]\n",
        "\n",
        "# array(['Million Years Ago', 'Adele', 'british soul', 2016, 0, 0, 0, 0, 0,\n",
        "#        0, 0], dtype=object)"
      ],
      "execution_count": 0,
      "outputs": [
        {
          "output_type": "execute_result",
          "data": {
            "text/plain": [
              "array(['Million Years Ago', 'Adele', 'british soul', 2016, 0, 0, 0, 0, 0,\n",
              "       0, 0], dtype=object)"
            ]
          },
          "metadata": {
            "tags": []
          },
          "execution_count": 203
        }
      ]
    },
    {
      "cell_type": "markdown",
      "metadata": {
        "id": "uPYI7hOkpET4",
        "colab_type": "text"
      },
      "source": [
        "Now find the bottom five."
      ]
    },
    {
      "cell_type": "code",
      "metadata": {
        "id": "nVegl1t9pET5",
        "colab_type": "code",
        "outputId": "645d0a23-6bc6-4e07-8c8c-f8fefebeede2",
        "colab": {
          "base_uri": "https://localhost:8080/",
          "height": 197
        }
      },
      "source": [
        "cols = \n",
        "bottom_five = selected_np[np.max(selected_np[:,-7:], axis=1).argsort()][:5]\n",
        "bottom_five_df = pd.DataFrame(bottom_five)\n",
        "bottom_five_df\n",
        "# \ttitle\tartist\ttop genre\tyear\tnrgy\tdnce\tlive\tval\tacous\tspch\tpop\n",
        "# 443\tMillion Years Ago\tAdele\tbritish soul\t2016\t0\t0\t0\t0\t0\t0\t0\n",
        "# 360\tRun Run Run\tKelly Clarkson\tdance pop\t2015\t37\t28\t11\t8\t45\t4\t36\n",
        "# 363\tL.A.LOVE (la la)\tFergie\tdance pop\t2015\t39\t48\t26\t27\t2\t9\t0\n",
        "# 208\tFoolish Games\tJewel\talaska indie\t2013\t34\t51\t12\t7\t23\t3\t36\n",
        "# 262\tWords as Weapons\tBirdy\tneo mellow\t2014\t35\t53\t14\t19\t28\t3\t44"
      ],
      "execution_count": 0,
      "outputs": [
        {
          "output_type": "execute_result",
          "data": {
            "text/html": [
              "<div>\n",
              "<style scoped>\n",
              "    .dataframe tbody tr th:only-of-type {\n",
              "        vertical-align: middle;\n",
              "    }\n",
              "\n",
              "    .dataframe tbody tr th {\n",
              "        vertical-align: top;\n",
              "    }\n",
              "\n",
              "    .dataframe thead th {\n",
              "        text-align: right;\n",
              "    }\n",
              "</style>\n",
              "<table border=\"1\" class=\"dataframe\">\n",
              "  <thead>\n",
              "    <tr style=\"text-align: right;\">\n",
              "      <th></th>\n",
              "      <th>0</th>\n",
              "      <th>1</th>\n",
              "      <th>2</th>\n",
              "      <th>3</th>\n",
              "      <th>4</th>\n",
              "      <th>5</th>\n",
              "      <th>6</th>\n",
              "      <th>7</th>\n",
              "      <th>8</th>\n",
              "      <th>9</th>\n",
              "      <th>10</th>\n",
              "    </tr>\n",
              "  </thead>\n",
              "  <tbody>\n",
              "    <tr>\n",
              "      <th>0</th>\n",
              "      <td>Million Years Ago</td>\n",
              "      <td>Adele</td>\n",
              "      <td>british soul</td>\n",
              "      <td>2016</td>\n",
              "      <td>0</td>\n",
              "      <td>0</td>\n",
              "      <td>0</td>\n",
              "      <td>0</td>\n",
              "      <td>0</td>\n",
              "      <td>0</td>\n",
              "      <td>0</td>\n",
              "    </tr>\n",
              "    <tr>\n",
              "      <th>1</th>\n",
              "      <td>Run Run Run</td>\n",
              "      <td>Kelly Clarkson</td>\n",
              "      <td>dance pop</td>\n",
              "      <td>2015</td>\n",
              "      <td>37</td>\n",
              "      <td>28</td>\n",
              "      <td>11</td>\n",
              "      <td>8</td>\n",
              "      <td>45</td>\n",
              "      <td>4</td>\n",
              "      <td>36</td>\n",
              "    </tr>\n",
              "    <tr>\n",
              "      <th>2</th>\n",
              "      <td>L.A.LOVE (la la)</td>\n",
              "      <td>Fergie</td>\n",
              "      <td>dance pop</td>\n",
              "      <td>2015</td>\n",
              "      <td>39</td>\n",
              "      <td>48</td>\n",
              "      <td>26</td>\n",
              "      <td>27</td>\n",
              "      <td>2</td>\n",
              "      <td>9</td>\n",
              "      <td>0</td>\n",
              "    </tr>\n",
              "    <tr>\n",
              "      <th>3</th>\n",
              "      <td>Foolish Games</td>\n",
              "      <td>Jewel</td>\n",
              "      <td>alaska indie</td>\n",
              "      <td>2013</td>\n",
              "      <td>34</td>\n",
              "      <td>51</td>\n",
              "      <td>12</td>\n",
              "      <td>7</td>\n",
              "      <td>23</td>\n",
              "      <td>3</td>\n",
              "      <td>36</td>\n",
              "    </tr>\n",
              "    <tr>\n",
              "      <th>4</th>\n",
              "      <td>Words as Weapons</td>\n",
              "      <td>Birdy</td>\n",
              "      <td>neo mellow</td>\n",
              "      <td>2014</td>\n",
              "      <td>35</td>\n",
              "      <td>53</td>\n",
              "      <td>14</td>\n",
              "      <td>19</td>\n",
              "      <td>28</td>\n",
              "      <td>3</td>\n",
              "      <td>44</td>\n",
              "    </tr>\n",
              "  </tbody>\n",
              "</table>\n",
              "</div>"
            ],
            "text/plain": [
              "                  0               1             2     3   4   ...  6   7   8  9   10\n",
              "0  Million Years Ago           Adele  british soul  2016   0  ...   0   0   0  0   0\n",
              "1        Run Run Run  Kelly Clarkson     dance pop  2015  37  ...  11   8  45  4  36\n",
              "2   L.A.LOVE (la la)          Fergie     dance pop  2015  39  ...  26  27   2  9   0\n",
              "3      Foolish Games           Jewel  alaska indie  2013  34  ...  12   7  23  3  36\n",
              "4   Words as Weapons           Birdy    neo mellow  2014  35  ...  14  19  28  3  44\n",
              "\n",
              "[5 rows x 11 columns]"
            ]
          },
          "metadata": {
            "tags": []
          },
          "execution_count": 208
        }
      ]
    },
    {
      "cell_type": "code",
      "metadata": {
        "id": "dex9VpakpET6",
        "colab_type": "code",
        "colab": {}
      },
      "source": [
        ""
      ],
      "execution_count": 0,
      "outputs": []
    }
  ]
}