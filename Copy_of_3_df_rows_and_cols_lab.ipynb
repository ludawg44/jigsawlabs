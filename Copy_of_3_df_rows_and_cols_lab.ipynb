{
  "nbformat": 4,
  "nbformat_minor": 0,
  "metadata": {
    "kernelspec": {
      "display_name": "Python 3",
      "language": "python",
      "name": "python3"
    },
    "language_info": {
      "codemirror_mode": {
        "name": "ipython",
        "version": 3
      },
      "file_extension": ".py",
      "mimetype": "text/x-python",
      "name": "python",
      "nbconvert_exporter": "python",
      "pygments_lexer": "ipython3",
      "version": "3.7.4"
    },
    "colab": {
      "name": "Copy of 3-df-rows-and-cols-lab.ipynb",
      "provenance": [],
      "include_colab_link": true
    }
  },
  "cells": [
    {
      "cell_type": "markdown",
      "metadata": {
        "id": "view-in-github",
        "colab_type": "text"
      },
      "source": [
        "<a href=\"https://colab.research.google.com/github/ludawg44/jigsawlabs/blob/master/Copy_of_3_df_rows_and_cols_lab.ipynb\" target=\"_parent\"><img src=\"https://colab.research.google.com/assets/colab-badge.svg\" alt=\"Open In Colab\"/></a>"
      ]
    },
    {
      "cell_type": "markdown",
      "metadata": {
        "id": "DWQ6rU9Bn_SM",
        "colab_type": "text"
      },
      "source": [
        "# Pandas Selecting Lab"
      ]
    },
    {
      "cell_type": "markdown",
      "metadata": {
        "id": "Di1nU1zYn_SN",
        "colab_type": "text"
      },
      "source": [
        "### Introduction"
      ]
    },
    {
      "cell_type": "markdown",
      "metadata": {
        "id": "Rp_UNxIkn_SO",
        "colab_type": "text"
      },
      "source": [
        "In this lab, we'll start with collecting our data from github, and finish with plotting some data.  Let's get started.  "
      ]
    },
    {
      "cell_type": "markdown",
      "metadata": {
        "id": "NgZVnFShn_SO",
        "colab_type": "text"
      },
      "source": [
        "### Loading the data"
      ]
    },
    {
      "cell_type": "markdown",
      "metadata": {
        "id": "0NcvJMnKn_SP",
        "colab_type": "text"
      },
      "source": [
        "Let's work with a different movie dataset, this one from imdb.  The path to the CSV file is located here."
      ]
    },
    {
      "cell_type": "code",
      "metadata": {
        "id": "sS0otXDGn_SQ",
        "colab_type": "code",
        "colab": {}
      },
      "source": [
        "url = 'https://raw.githubusercontent.com/jigsawlabs-student/introductory-pandas/master/imdb_movies.csv'"
      ],
      "execution_count": 0,
      "outputs": []
    },
    {
      "cell_type": "markdown",
      "metadata": {
        "id": "dc5o_yj3n_ST",
        "colab_type": "text"
      },
      "source": [
        "Now load up the data into a pandas dataframe and store it as df."
      ]
    },
    {
      "cell_type": "markdown",
      "metadata": {
        "id": "ONaKAbz_n_ST",
        "colab_type": "text"
      },
      "source": [
        "> Replace the word None with your code."
      ]
    },
    {
      "cell_type": "code",
      "metadata": {
        "id": "l2hcxypxn_SU",
        "colab_type": "code",
        "colab": {}
      },
      "source": [
        "import pandas as pd\n",
        "df = pd.read_csv(url)"
      ],
      "execution_count": 0,
      "outputs": []
    },
    {
      "cell_type": "code",
      "metadata": {
        "id": "-CCyqgTRn_SX",
        "colab_type": "code",
        "outputId": "6bd80394-42cc-4973-d354-8b2253ceec51",
        "colab": {
          "base_uri": "https://localhost:8080/",
          "height": 108
        }
      },
      "source": [
        "df[:2]\n",
        "\n",
        "# \ttitle\tgenre\tbudget\truntime\tyear\tmonth\trevenue\n",
        "# 0\tAvatar\tAction\t237000000\t162.0\t2009\t12\t2787965087\n",
        "# 1\tPirates of the Caribbean: At World's End\tAdventure\t300000000\t169.0\t2007\t5\t961000000"
      ],
      "execution_count": 0,
      "outputs": [
        {
          "output_type": "execute_result",
          "data": {
            "text/html": [
              "<div>\n",
              "<style scoped>\n",
              "    .dataframe tbody tr th:only-of-type {\n",
              "        vertical-align: middle;\n",
              "    }\n",
              "\n",
              "    .dataframe tbody tr th {\n",
              "        vertical-align: top;\n",
              "    }\n",
              "\n",
              "    .dataframe thead th {\n",
              "        text-align: right;\n",
              "    }\n",
              "</style>\n",
              "<table border=\"1\" class=\"dataframe\">\n",
              "  <thead>\n",
              "    <tr style=\"text-align: right;\">\n",
              "      <th></th>\n",
              "      <th>title</th>\n",
              "      <th>genre</th>\n",
              "      <th>budget</th>\n",
              "      <th>runtime</th>\n",
              "      <th>year</th>\n",
              "      <th>month</th>\n",
              "      <th>revenue</th>\n",
              "    </tr>\n",
              "  </thead>\n",
              "  <tbody>\n",
              "    <tr>\n",
              "      <th>0</th>\n",
              "      <td>Avatar</td>\n",
              "      <td>Action</td>\n",
              "      <td>237000000</td>\n",
              "      <td>162.0</td>\n",
              "      <td>2009</td>\n",
              "      <td>12</td>\n",
              "      <td>2787965087</td>\n",
              "    </tr>\n",
              "    <tr>\n",
              "      <th>1</th>\n",
              "      <td>Pirates of the Caribbean: At World's End</td>\n",
              "      <td>Adventure</td>\n",
              "      <td>300000000</td>\n",
              "      <td>169.0</td>\n",
              "      <td>2007</td>\n",
              "      <td>5</td>\n",
              "      <td>961000000</td>\n",
              "    </tr>\n",
              "  </tbody>\n",
              "</table>\n",
              "</div>"
            ],
            "text/plain": [
              "                                      title      genre  ...  month     revenue\n",
              "0                                    Avatar     Action  ...     12  2787965087\n",
              "1  Pirates of the Caribbean: At World's End  Adventure  ...      5   961000000\n",
              "\n",
              "[2 rows x 7 columns]"
            ]
          },
          "metadata": {
            "tags": []
          },
          "execution_count": 3
        }
      ]
    },
    {
      "cell_type": "markdown",
      "metadata": {
        "id": "v0y03F5Nn_Sa",
        "colab_type": "text"
      },
      "source": [
        "Now that we have loaded the data, let's explore it.  We can start by viewing the list of columns in our dataframe."
      ]
    },
    {
      "cell_type": "code",
      "metadata": {
        "id": "8UM9-WjMn_Sb",
        "colab_type": "code",
        "outputId": "fb6a8844-99d5-42a4-8a33-d6b6722844e3",
        "colab": {
          "base_uri": "https://localhost:8080/",
          "height": 35
        }
      },
      "source": [
        "df_cols = df.columns\n",
        "df_cols\n",
        "\n",
        "# Index(['title', 'genre', 'budget', 'runtime', 'year', 'month', 'revenue'], dtype='object')"
      ],
      "execution_count": 0,
      "outputs": [
        {
          "output_type": "execute_result",
          "data": {
            "text/plain": [
              "Index(['title', 'genre', 'budget', 'runtime', 'year', 'month', 'revenue'], dtype='object')"
            ]
          },
          "metadata": {
            "tags": []
          },
          "execution_count": 7
        }
      ]
    },
    {
      "cell_type": "markdown",
      "metadata": {
        "id": "urvwagE5n_Se",
        "colab_type": "text"
      },
      "source": [
        "Ok, now that we have our list of columns, let's select a single column, the column that we try to predict or explain (our target), and assign it to the variable `y`.\n",
        "\n",
        "In this case, this variable is revenue.  Go ahead and assign that column of data to the variable `y`."
      ]
    },
    {
      "cell_type": "code",
      "metadata": {
        "id": "aSe0QRkUn_Se",
        "colab_type": "code",
        "outputId": "645feb77-e546-4570-8e82-97314cc41b50",
        "colab": {
          "base_uri": "https://localhost:8080/",
          "height": 225
        }
      },
      "source": [
        "y = df.revenue\n",
        "y\n",
        "# 0       2787965087\n",
        "# 1        961000000\n",
        "# 2        880674609\n",
        "# 3       1084939099\n",
        "# 4        284139100\n",
        "#            ...    \n",
        "# 1995      53187659\n",
        "# 1996             0\n",
        "# 1997      47351251\n",
        "# 1998      36642838\n",
        "# 1999          6399\n",
        "# Name: revenue, Length: 2000, dtype: int64"
      ],
      "execution_count": 0,
      "outputs": [
        {
          "output_type": "execute_result",
          "data": {
            "text/plain": [
              "0       2787965087\n",
              "1        961000000\n",
              "2        880674609\n",
              "3       1084939099\n",
              "4        284139100\n",
              "           ...    \n",
              "1995      53187659\n",
              "1996             0\n",
              "1997      47351251\n",
              "1998      36642838\n",
              "1999          6399\n",
              "Name: revenue, Length: 2000, dtype: int64"
            ]
          },
          "metadata": {
            "tags": []
          },
          "execution_count": 9
        }
      ]
    },
    {
      "cell_type": "markdown",
      "metadata": {
        "id": "bJWrgqpZn_Sh",
        "colab_type": "text"
      },
      "source": [
        "Ok, now it's time to assign columns that may be influencing the `revenue` to the variable X.  Let's take another look at our columns."
      ]
    },
    {
      "cell_type": "code",
      "metadata": {
        "id": "oMki5IeQn_Si",
        "colab_type": "code",
        "outputId": "b9e7e975-e0bf-4ad9-9eb8-d005ec8915d0",
        "colab": {
          "base_uri": "https://localhost:8080/",
          "height": 35
        }
      },
      "source": [
        "df.columns"
      ],
      "execution_count": 0,
      "outputs": [
        {
          "output_type": "execute_result",
          "data": {
            "text/plain": [
              "Index(['title', 'genre', 'budget', 'runtime', 'year', 'month', 'revenue'], dtype='object')"
            ]
          },
          "metadata": {
            "tags": []
          },
          "execution_count": 10
        }
      ]
    },
    {
      "cell_type": "markdown",
      "metadata": {
        "id": "KraHd9fTn_Sl",
        "colab_type": "text"
      },
      "source": [
        "Ok, now it looks like `genre`, `budget`, `runtime`, `year` and `month` would each make good features or explanatory variables to explore.  \n",
        "\n",
        "However, it's often easier to explore columns that are filled with numbers.  In fact, when we get to training machine learning models we'll see that everything we pass to a machine learning model must be a number.\n",
        "\n",
        "Are each of these columns full of numbers?  The easiest way to find out is to use the `dtypes` method on a dataframe."
      ]
    },
    {
      "cell_type": "code",
      "metadata": {
        "id": "Hspqg7MRn_Sl",
        "colab_type": "code",
        "outputId": "08aafcab-9967-4352-b376-6b3977b05098",
        "colab": {
          "base_uri": "https://localhost:8080/",
          "height": 155
        }
      },
      "source": [
        "df.dtypes"
      ],
      "execution_count": 0,
      "outputs": [
        {
          "output_type": "execute_result",
          "data": {
            "text/plain": [
              "title       object\n",
              "genre       object\n",
              "budget       int64\n",
              "runtime    float64\n",
              "year         int64\n",
              "month        int64\n",
              "revenue      int64\n",
              "dtype: object"
            ]
          },
          "metadata": {
            "tags": []
          },
          "execution_count": 13
        }
      ]
    },
    {
      "cell_type": "markdown",
      "metadata": {
        "id": "djTcVzjOn_So",
        "colab_type": "text"
      },
      "source": [
        "Everytime we see `object`, this means the data in the column is of type string.  So `genre` is not a number, nor is title, but we can use columns `budget`, `runtime`, `year`, and `month` as features.  Select these columns and assign it to the variable `X`."
      ]
    },
    {
      "cell_type": "markdown",
      "metadata": {
        "id": "vrFOruM_n_Sp",
        "colab_type": "text"
      },
      "source": [
        "> Hint: Remember it is often easiest to assign a list of columns to a variable, and then select the columns."
      ]
    },
    {
      "cell_type": "code",
      "metadata": {
        "id": "jrz96jU0n_Sp",
        "colab_type": "code",
        "outputId": "a44a5c77-f3a1-42aa-f99f-49af33f5f7fb",
        "colab": {
          "base_uri": "https://localhost:8080/",
          "height": 407
        }
      },
      "source": [
        "cols = ['budget', 'runtime', 'year', 'month']\n",
        "\n",
        "X = df[cols]\n",
        "X\n",
        "\n"
      ],
      "execution_count": 0,
      "outputs": [
        {
          "output_type": "execute_result",
          "data": {
            "text/html": [
              "<div>\n",
              "<style scoped>\n",
              "    .dataframe tbody tr th:only-of-type {\n",
              "        vertical-align: middle;\n",
              "    }\n",
              "\n",
              "    .dataframe tbody tr th {\n",
              "        vertical-align: top;\n",
              "    }\n",
              "\n",
              "    .dataframe thead th {\n",
              "        text-align: right;\n",
              "    }\n",
              "</style>\n",
              "<table border=\"1\" class=\"dataframe\">\n",
              "  <thead>\n",
              "    <tr style=\"text-align: right;\">\n",
              "      <th></th>\n",
              "      <th>budget</th>\n",
              "      <th>runtime</th>\n",
              "      <th>year</th>\n",
              "      <th>month</th>\n",
              "    </tr>\n",
              "  </thead>\n",
              "  <tbody>\n",
              "    <tr>\n",
              "      <th>0</th>\n",
              "      <td>237000000</td>\n",
              "      <td>162.0</td>\n",
              "      <td>2009</td>\n",
              "      <td>12</td>\n",
              "    </tr>\n",
              "    <tr>\n",
              "      <th>1</th>\n",
              "      <td>300000000</td>\n",
              "      <td>169.0</td>\n",
              "      <td>2007</td>\n",
              "      <td>5</td>\n",
              "    </tr>\n",
              "    <tr>\n",
              "      <th>2</th>\n",
              "      <td>245000000</td>\n",
              "      <td>148.0</td>\n",
              "      <td>2015</td>\n",
              "      <td>10</td>\n",
              "    </tr>\n",
              "    <tr>\n",
              "      <th>3</th>\n",
              "      <td>250000000</td>\n",
              "      <td>165.0</td>\n",
              "      <td>2012</td>\n",
              "      <td>7</td>\n",
              "    </tr>\n",
              "    <tr>\n",
              "      <th>4</th>\n",
              "      <td>260000000</td>\n",
              "      <td>132.0</td>\n",
              "      <td>2012</td>\n",
              "      <td>3</td>\n",
              "    </tr>\n",
              "    <tr>\n",
              "      <th>...</th>\n",
              "      <td>...</td>\n",
              "      <td>...</td>\n",
              "      <td>...</td>\n",
              "      <td>...</td>\n",
              "    </tr>\n",
              "    <tr>\n",
              "      <th>1995</th>\n",
              "      <td>23000000</td>\n",
              "      <td>108.0</td>\n",
              "      <td>2000</td>\n",
              "      <td>2</td>\n",
              "    </tr>\n",
              "    <tr>\n",
              "      <th>1996</th>\n",
              "      <td>23000000</td>\n",
              "      <td>97.0</td>\n",
              "      <td>2001</td>\n",
              "      <td>3</td>\n",
              "    </tr>\n",
              "    <tr>\n",
              "      <th>1997</th>\n",
              "      <td>23000000</td>\n",
              "      <td>126.0</td>\n",
              "      <td>2013</td>\n",
              "      <td>12</td>\n",
              "    </tr>\n",
              "    <tr>\n",
              "      <th>1998</th>\n",
              "      <td>23000000</td>\n",
              "      <td>97.0</td>\n",
              "      <td>2001</td>\n",
              "      <td>10</td>\n",
              "    </tr>\n",
              "    <tr>\n",
              "      <th>1999</th>\n",
              "      <td>25000000</td>\n",
              "      <td>99.0</td>\n",
              "      <td>2013</td>\n",
              "      <td>12</td>\n",
              "    </tr>\n",
              "  </tbody>\n",
              "</table>\n",
              "<p>2000 rows × 4 columns</p>\n",
              "</div>"
            ],
            "text/plain": [
              "         budget  runtime  year  month\n",
              "0     237000000    162.0  2009     12\n",
              "1     300000000    169.0  2007      5\n",
              "2     245000000    148.0  2015     10\n",
              "3     250000000    165.0  2012      7\n",
              "4     260000000    132.0  2012      3\n",
              "...         ...      ...   ...    ...\n",
              "1995   23000000    108.0  2000      2\n",
              "1996   23000000     97.0  2001      3\n",
              "1997   23000000    126.0  2013     12\n",
              "1998   23000000     97.0  2001     10\n",
              "1999   25000000     99.0  2013     12\n",
              "\n",
              "[2000 rows x 4 columns]"
            ]
          },
          "metadata": {
            "tags": []
          },
          "execution_count": 15
        }
      ]
    },
    {
      "cell_type": "markdown",
      "metadata": {
        "id": "sxEXKLHHn_Ss",
        "colab_type": "text"
      },
      "source": [
        "Check that `X` contains the columns listed below."
      ]
    },
    {
      "cell_type": "code",
      "metadata": {
        "id": "J1Qtwj1Fn_Ss",
        "colab_type": "code",
        "outputId": "9a7c0961-eb7d-44b8-a27b-b4178e8a29ae",
        "colab": {
          "base_uri": "https://localhost:8080/",
          "height": 35
        }
      },
      "source": [
        "X.columns\n",
        "\n",
        "# Index(['budget', 'runtime', 'year', 'month'], dtype='object')"
      ],
      "execution_count": 0,
      "outputs": [
        {
          "output_type": "execute_result",
          "data": {
            "text/plain": [
              "Index(['budget', 'runtime', 'year', 'month'], dtype='object')"
            ]
          },
          "metadata": {
            "tags": []
          },
          "execution_count": 16
        }
      ]
    },
    {
      "cell_type": "markdown",
      "metadata": {
        "id": "eqZi42JOn_Sw",
        "colab_type": "text"
      },
      "source": [
        "### Plotting our Data"
      ]
    },
    {
      "cell_type": "markdown",
      "metadata": {
        "id": "nOPth9mUn_Sw",
        "colab_type": "text"
      },
      "source": [
        "Note that once we reduce our dataset, we can plot some of our data.  We'll set revenue as our target and plot a scatter plot."
      ]
    },
    {
      "cell_type": "code",
      "metadata": {
        "id": "-T1Ad_nsn_Sx",
        "colab_type": "code",
        "colab": {}
      },
      "source": [
        "import pandas as pd"
      ],
      "execution_count": 0,
      "outputs": []
    },
    {
      "cell_type": "code",
      "metadata": {
        "id": "t3jSbIM-n_Sz",
        "colab_type": "code",
        "colab": {}
      },
      "source": [
        "df = pd.read_csv(url)"
      ],
      "execution_count": 0,
      "outputs": []
    },
    {
      "cell_type": "code",
      "metadata": {
        "id": "vdbRTQ0dn_S2",
        "colab_type": "code",
        "outputId": "7c55c9de-b8c1-4eb4-d110-c94471e96eac",
        "colab": {
          "base_uri": "https://localhost:8080/",
          "height": 307
        }
      },
      "source": [
        "df.plot(x = 'budget', y = 'revenue', kind='scatter')\n"
      ],
      "execution_count": 0,
      "outputs": [
        {
          "output_type": "execute_result",
          "data": {
            "text/plain": [
              "<matplotlib.axes._subplots.AxesSubplot at 0x7fb10863b668>"
            ]
          },
          "metadata": {
            "tags": []
          },
          "execution_count": 20
        },
        {
          "output_type": "display_data",
          "data": {
            "image/png": "[encoded data removed]",
            "text/plain": [
              "<Figure size 432x288 with 1 Axes>"
            ]
          },
          "metadata": {
            "tags": []
          }
        }
      ]
    },
    {
      "cell_type": "code",
      "metadata": {
        "id": "_PrPzmBGx_RJ",
        "colab_type": "code",
        "outputId": "34714d13-ce84-42e5-b380-297aa4070fdb",
        "colab": {
          "base_uri": "https://localhost:8080/",
          "height": 35
        }
      },
      "source": [
        "budgetList = df.budget.to_list()\n",
        "type(budgetList)"
      ],
      "execution_count": 0,
      "outputs": [
        {
          "output_type": "execute_result",
          "data": {
            "text/plain": [
              "list"
            ]
          },
          "metadata": {
            "tags": []
          },
          "execution_count": 22
        }
      ]
    },
    {
      "cell_type": "markdown",
      "metadata": {
        "id": "Yt3MPN1an_S4",
        "colab_type": "text"
      },
      "source": [
        "### Summary"
      ]
    },
    {
      "cell_type": "markdown",
      "metadata": {
        "id": "EiJK_EEJn_S5",
        "colab_type": "text"
      },
      "source": [
        "In this lesson, we went from collecting our data from a CSV file, to selecting our data with pandas, to then modeling our data with `sklearn`.  If you were able to do this successfully, give yourself a nice smile and an big exhale.  Really feel that dopamine hit.  Now, in the next lessons, we'll learn a little bit more about data munging, and then will finish up with one more important concept in data science."
      ]
    },
    {
      "cell_type": "markdown",
      "metadata": {
        "id": "QheQVKx9n_S5",
        "colab_type": "text"
      },
      "source": [
        "### Resources"
      ]
    },
    {
      "cell_type": "markdown",
      "metadata": {
        "id": "y4-BGr1fn_S6",
        "colab_type": "text"
      },
      "source": [
        "[Pandas Scatter Plots](https://pandas.pydata.org/pandas-docs/version/0.15.0/visualization.html#scatter-plot)"
      ]
    }
  ]
}