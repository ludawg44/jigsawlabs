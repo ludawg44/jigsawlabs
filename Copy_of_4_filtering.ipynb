{
  "nbformat": 4,
  "nbformat_minor": 0,
  "metadata": {
    "kernelspec": {
      "display_name": "Python 3",
      "language": "python",
      "name": "python3"
    },
    "language_info": {
      "codemirror_mode": {
        "name": "ipython",
        "version": 3
      },
      "file_extension": ".py",
      "mimetype": "text/x-python",
      "name": "python",
      "nbconvert_exporter": "python",
      "pygments_lexer": "ipython3",
      "version": "3.7.4"
    },
    "colab": {
      "name": "Copy of 4-filtering.ipynb",
      "provenance": [],
      "include_colab_link": true
    }
  },
  "cells": [
    {
      "cell_type": "markdown",
      "metadata": {
        "id": "view-in-github",
        "colab_type": "text"
      },
      "source": [
        "<a href=\"https://colab.research.google.com/github/ludawg44/jigsawlabs/blob/master/Copy_of_4_filtering.ipynb\" target=\"_parent\"><img src=\"https://colab.research.google.com/assets/colab-badge.svg\" alt=\"Open In Colab\"/></a>"
      ]
    },
    {
      "cell_type": "markdown",
      "metadata": {
        "id": "tHYkJb-SbSsL",
        "colab_type": "text"
      },
      "source": [
        "# Filtering Data in Numpy"
      ]
    },
    {
      "cell_type": "markdown",
      "metadata": {
        "id": "iNQKTARIbSsO",
        "colab_type": "text"
      },
      "source": [
        "### Introduction"
      ]
    },
    {
      "cell_type": "markdown",
      "metadata": {
        "id": "suGj5xlZbSsP",
        "colab_type": "text"
      },
      "source": [
        "Now that we know how to work with multidimensional arrays, the next step is to lern how to filter by some criteria.  Let's check it out."
      ]
    },
    {
      "cell_type": "markdown",
      "metadata": {
        "id": "DU8evFMMbSsP",
        "colab_type": "text"
      },
      "source": [
        "### Broadcasting with Boolean Operators"
      ]
    },
    {
      "cell_type": "markdown",
      "metadata": {
        "id": "aHV-yrcEbSsQ",
        "colab_type": "text"
      },
      "source": [
        "To start, let's introduce another way of select entries from an array in numpy.  We'll first initialize a new array of values zero through 4."
      ]
    },
    {
      "cell_type": "code",
      "metadata": {
        "id": "ppHIjVi_bSsR",
        "colab_type": "code",
        "outputId": "42d77621-0b64-43c1-9d66-b135977777dd",
        "colab": {}
      },
      "source": [
        "import numpy as np\n",
        "range_nums = np.arange(5)\n",
        "range_nums"
      ],
      "execution_count": 0,
      "outputs": [
        {
          "output_type": "execute_result",
          "data": {
            "text/plain": [
              "array([0, 1, 2, 3, 4])"
            ]
          },
          "metadata": {
            "tags": []
          },
          "execution_count": 1
        }
      ]
    },
    {
      "cell_type": "markdown",
      "metadata": {
        "id": "u0j3AdCnbSsV",
        "colab_type": "text"
      },
      "source": [
        "> Note that if we just pass the number 5 to `arange` numpy still returns 5 items, starting from zero."
      ]
    },
    {
      "cell_type": "markdown",
      "metadata": {
        "id": "wZguFsnbbSsW",
        "colab_type": "text"
      },
      "source": [
        "Ok, so if we want to select every other item from the array above, one way is to create an array of alternating `True` and `False` values..."
      ]
    },
    {
      "cell_type": "code",
      "metadata": {
        "id": "2Iyu7L06bSsW",
        "colab_type": "code",
        "outputId": "1cc737a1-0d7c-47b3-eb25-2e371fc4f127",
        "colab": {}
      },
      "source": [
        "bool_vals = np.array([True, False, True, False, True])\n",
        "bool_vals"
      ],
      "execution_count": 0,
      "outputs": [
        {
          "output_type": "execute_result",
          "data": {
            "text/plain": [
              "array([ True, False,  True, False,  True])"
            ]
          },
          "metadata": {
            "tags": []
          },
          "execution_count": 29
        }
      ]
    },
    {
      "cell_type": "markdown",
      "metadata": {
        "id": "7p7IiAG0bSsa",
        "colab_type": "text"
      },
      "source": [
        "And then use this boolean array to select items from our `range_nums` array above."
      ]
    },
    {
      "cell_type": "code",
      "metadata": {
        "id": "BBaTOhZfbSsb",
        "colab_type": "code",
        "outputId": "ff721063-1d0c-49ba-c894-56e6b6c0626a",
        "colab": {}
      },
      "source": [
        "range_nums[bool_vals]"
      ],
      "execution_count": 0,
      "outputs": [
        {
          "output_type": "execute_result",
          "data": {
            "text/plain": [
              "array([0, 2, 4])"
            ]
          },
          "metadata": {
            "tags": []
          },
          "execution_count": 31
        }
      ]
    },
    {
      "cell_type": "markdown",
      "metadata": {
        "id": "Be9u6aVmbSsd",
        "colab_type": "text"
      },
      "source": [
        "> Let's see that again."
      ]
    },
    {
      "cell_type": "code",
      "metadata": {
        "id": "5HF57tjKbSse",
        "colab_type": "code",
        "outputId": "28f3e3d7-6a45-4827-93b1-a6be7c59ae97",
        "colab": {}
      },
      "source": [
        "bool_vals = np.array([True, False, True, False, True])\n",
        "arr = np.array([0, 1, 2, 3, 4])\n",
        "\n",
        "arr[bool_vals]"
      ],
      "execution_count": 0,
      "outputs": [
        {
          "output_type": "execute_result",
          "data": {
            "text/plain": [
              "array([0, 2, 4])"
            ]
          },
          "metadata": {
            "tags": []
          },
          "execution_count": 2
        }
      ]
    },
    {
      "cell_type": "markdown",
      "metadata": {
        "id": "dzKPoU_GbSsi",
        "colab_type": "text"
      },
      "source": [
        "So we are provide the True or False value to indicate whether to select an item at that index."
      ]
    },
    {
      "cell_type": "markdown",
      "metadata": {
        "id": "OEAkLYEHbSsj",
        "colab_type": "text"
      },
      "source": [
        "This procedure is called **boolean indexing**."
      ]
    },
    {
      "cell_type": "markdown",
      "metadata": {
        "id": "R7rhulm6bSsj",
        "colab_type": "text"
      },
      "source": [
        "### Boolean Indexing Rows"
      ]
    },
    {
      "cell_type": "markdown",
      "metadata": {
        "id": "OX3Gyv1gbSsk",
        "colab_type": "text"
      },
      "source": [
        "Notice that we can also use **boolean indexing** on a row of data.  Let's first initialize some data that makes this clear.  "
      ]
    },
    {
      "cell_type": "markdown",
      "metadata": {
        "id": "nggcTH6jbSsl",
        "colab_type": "text"
      },
      "source": [
        "> We initialize a new array where each the items in each row increase.  The `indices` method, which is not that important, accomplishes this."
      ]
    },
    {
      "cell_type": "code",
      "metadata": {
        "id": "rrJmE5LabSsl",
        "colab_type": "code",
        "outputId": "049cd3f6-f3ec-44db-c829-3364cbd96720",
        "colab": {}
      },
      "source": [
        "grid = np.indices([5,5])[0]\n",
        "grid"
      ],
      "execution_count": 0,
      "outputs": [
        {
          "output_type": "execute_result",
          "data": {
            "text/plain": [
              "array([[0, 0, 0, 0, 0],\n",
              "       [1, 1, 1, 1, 1],\n",
              "       [2, 2, 2, 2, 2],\n",
              "       [3, 3, 3, 3, 3],\n",
              "       [4, 4, 4, 4, 4]])"
            ]
          },
          "metadata": {
            "tags": []
          },
          "execution_count": 3
        }
      ]
    },
    {
      "cell_type": "markdown",
      "metadata": {
        "id": "-cDJfoTwbSso",
        "colab_type": "text"
      },
      "source": [
        "Then we can use our boolean array to select every other row from the above array."
      ]
    },
    {
      "cell_type": "code",
      "metadata": {
        "id": "cr3eo7nRbSsp",
        "colab_type": "code",
        "outputId": "55443bae-e379-4671-801e-348dcf0d70f2",
        "colab": {}
      },
      "source": [
        "bool_vals"
      ],
      "execution_count": 0,
      "outputs": [
        {
          "output_type": "execute_result",
          "data": {
            "text/plain": [
              "array([ True, False,  True, False,  True])"
            ]
          },
          "metadata": {
            "tags": []
          },
          "execution_count": 65
        }
      ]
    },
    {
      "cell_type": "code",
      "metadata": {
        "id": "HGnKCnqJbSsr",
        "colab_type": "code",
        "outputId": "d5ce3ed3-4a86-43db-bf16-108d799cc202",
        "colab": {}
      },
      "source": [
        "grid[bool_vals]"
      ],
      "execution_count": 0,
      "outputs": [
        {
          "output_type": "execute_result",
          "data": {
            "text/plain": [
              "array([[0, 0, 0, 0, 0],\n",
              "       [2, 2, 2, 2, 2],\n",
              "       [4, 4, 4, 4, 4]])"
            ]
          },
          "metadata": {
            "tags": []
          },
          "execution_count": 66
        }
      ]
    },
    {
      "cell_type": "markdown",
      "metadata": {
        "id": "bbqkLvAibSst",
        "colab_type": "text"
      },
      "source": [
        "### Onto Filtering Data"
      ]
    },
    {
      "cell_type": "markdown",
      "metadata": {
        "id": "KAtEKxD9bSsu",
        "colab_type": "text"
      },
      "source": [
        "Now what does this have to do with filtering data you ask?  Well just like with ordinary Python we can use boolean operators on an array in numpy."
      ]
    },
    {
      "cell_type": "markdown",
      "metadata": {
        "id": "--IN4uOjbSsu",
        "colab_type": "text"
      },
      "source": [
        "Let's see this on a grid of numbers one through twenty five."
      ]
    },
    {
      "cell_type": "code",
      "metadata": {
        "id": "L5AQ3dhXbSsv",
        "colab_type": "code",
        "outputId": "c63277a6-28b3-4bf6-c0f1-64a142e53cf6",
        "colab": {}
      },
      "source": [
        "increasing_grid = np.arange(1, 26).reshape(5, 5)\n",
        "increasing_grid"
      ],
      "execution_count": 0,
      "outputs": [
        {
          "output_type": "execute_result",
          "data": {
            "text/plain": [
              "array([[ 1,  2,  3,  4,  5],\n",
              "       [ 6,  7,  8,  9, 10],\n",
              "       [11, 12, 13, 14, 15],\n",
              "       [16, 17, 18, 19, 20],\n",
              "       [21, 22, 23, 24, 25]])"
            ]
          },
          "metadata": {
            "tags": []
          },
          "execution_count": 71
        }
      ]
    },
    {
      "cell_type": "markdown",
      "metadata": {
        "id": "k65ODI6DbSsy",
        "colab_type": "text"
      },
      "source": [
        "Now let's return `True` or `False` based on whether the second item less than 10.  Notice that  the first two rows meet this criteria."
      ]
    },
    {
      "cell_type": "markdown",
      "metadata": {
        "id": "Dc3FDc95bSsz",
        "colab_type": "text"
      },
      "source": [
        "We can use broadcasting to see this."
      ]
    },
    {
      "cell_type": "code",
      "metadata": {
        "id": "v5xhOl_JbSsz",
        "colab_type": "code",
        "outputId": "aecadab5-e71b-44f0-dd3a-3a4a94899da4",
        "colab": {}
      },
      "source": [
        "new_bools = increasing_grid[:, 1] < 10\n",
        "new_bools"
      ],
      "execution_count": 0,
      "outputs": [
        {
          "output_type": "execute_result",
          "data": {
            "text/plain": [
              "array([ True,  True, False, False, False])"
            ]
          },
          "metadata": {
            "tags": []
          },
          "execution_count": 82
        }
      ]
    },
    {
      "cell_type": "markdown",
      "metadata": {
        "id": "YNpoK_wBbSs2",
        "colab_type": "text"
      },
      "source": [
        "And then we can use these values to select the appropriate rows."
      ]
    },
    {
      "cell_type": "code",
      "metadata": {
        "id": "PQOMGjHsbSs3",
        "colab_type": "code",
        "outputId": "e8099886-ecd9-4bed-f392-6fd13a1ec571",
        "colab": {}
      },
      "source": [
        "increasing_grid[new_bools]"
      ],
      "execution_count": 0,
      "outputs": [
        {
          "output_type": "execute_result",
          "data": {
            "text/plain": [
              "array([[ 1,  2,  3,  4,  5],\n",
              "       [ 6,  7,  8,  9, 10]])"
            ]
          },
          "metadata": {
            "tags": []
          },
          "execution_count": 83
        }
      ]
    },
    {
      "cell_type": "markdown",
      "metadata": {
        "id": "N-TRRmx2bSs6",
        "colab_type": "text"
      },
      "source": [
        "And this just returns us the first two rows."
      ]
    },
    {
      "cell_type": "markdown",
      "metadata": {
        "id": "CtybBZk1bSs6",
        "colab_type": "text"
      },
      "source": [
        "> But generally, we will see all of this in one step:"
      ]
    },
    {
      "cell_type": "code",
      "metadata": {
        "id": "EH0EYMT0bSs7",
        "colab_type": "code",
        "outputId": "a2e33a07-7551-46c3-af0b-14d09a861bc5",
        "colab": {}
      },
      "source": [
        "increasing_grid"
      ],
      "execution_count": 0,
      "outputs": [
        {
          "output_type": "execute_result",
          "data": {
            "text/plain": [
              "array([[ 1,  2,  3,  4,  5],\n",
              "       [ 6,  7,  8,  9, 10],\n",
              "       [11, 12, 13, 14, 15],\n",
              "       [16, 17, 18, 19, 20],\n",
              "       [21, 22, 23, 24, 25]])"
            ]
          },
          "metadata": {
            "tags": []
          },
          "execution_count": 84
        }
      ]
    },
    {
      "cell_type": "code",
      "metadata": {
        "id": "arr0NbK1bSs9",
        "colab_type": "code",
        "outputId": "e5ad9e7f-13eb-4ca0-b887-e3832c69b5fa",
        "colab": {}
      },
      "source": [
        "increasing_grid[increasing_grid[:, 1] < 10]"
      ],
      "execution_count": 0,
      "outputs": [
        {
          "output_type": "execute_result",
          "data": {
            "text/plain": [
              "array([[ 1,  2,  3,  4,  5],\n",
              "       [ 6,  7,  8,  9, 10]])"
            ]
          },
          "metadata": {
            "tags": []
          },
          "execution_count": 85
        }
      ]
    },
    {
      "cell_type": "markdown",
      "metadata": {
        "id": "uqt8xUsXbStA",
        "colab_type": "text"
      },
      "source": [
        "This says select the rows where the second item is less than 10."
      ]
    },
    {
      "cell_type": "markdown",
      "metadata": {
        "id": "fxSNcT0zbStB",
        "colab_type": "text"
      },
      "source": [
        "* Your turn"
      ]
    },
    {
      "cell_type": "markdown",
      "metadata": {
        "id": "GXtN5U86bStC",
        "colab_type": "text"
      },
      "source": [
        "Try to select all of the rows where the last element is 20."
      ]
    },
    {
      "cell_type": "code",
      "metadata": {
        "id": "Dx54mbB3bStD",
        "colab_type": "code",
        "outputId": "3e27eacf-533c-409c-9375-ab014b489c23",
        "colab": {}
      },
      "source": [
        "increasing_grid[increasing_grid[:, -1] == 20]\n",
        "\n",
        "# array([[16, 17, 18, 19, 20]])"
      ],
      "execution_count": 0,
      "outputs": [
        {
          "output_type": "execute_result",
          "data": {
            "text/plain": [
              "array([[16, 17, 18, 19, 20]])"
            ]
          },
          "metadata": {
            "tags": []
          },
          "execution_count": 86
        }
      ]
    },
    {
      "cell_type": "markdown",
      "metadata": {
        "id": "jdF3oWL0bStF",
        "colab_type": "text"
      },
      "source": [
        "We should only return the second to last row."
      ]
    },
    {
      "cell_type": "markdown",
      "metadata": {
        "id": "JJYrxLZ1bStG",
        "colab_type": "text"
      },
      "source": [
        "### Filtering even or odd"
      ]
    },
    {
      "cell_type": "markdown",
      "metadata": {
        "id": "ulpAbI2wbStG",
        "colab_type": "text"
      },
      "source": [
        "Next let's review filtering by only selecting the rows that have an even number in the third column."
      ]
    },
    {
      "cell_type": "markdown",
      "metadata": {
        "id": "hq92INV-bStH",
        "colab_type": "text"
      },
      "source": [
        "> First we'll give you an opportunity to try this yourself."
      ]
    },
    {
      "cell_type": "code",
      "metadata": {
        "id": "15-TkFfbbStI",
        "colab_type": "code",
        "outputId": "c274d9cb-5107-4c2b-8828-eac8ad2d0883",
        "colab": {}
      },
      "source": [
        "import numpy as np\n",
        "increasing_grid = np.arange(1, 26).reshape(5, 5)\n",
        "increasing_grid"
      ],
      "execution_count": 0,
      "outputs": [
        {
          "output_type": "execute_result",
          "data": {
            "text/plain": [
              "array([[ 1,  2,  3,  4,  5],\n",
              "       [ 6,  7,  8,  9, 10],\n",
              "       [11, 12, 13, 14, 15],\n",
              "       [16, 17, 18, 19, 20],\n",
              "       [21, 22, 23, 24, 25]])"
            ]
          },
          "metadata": {
            "tags": []
          },
          "execution_count": 5
        }
      ]
    },
    {
      "cell_type": "markdown",
      "metadata": {
        "id": "RwOxtR95bStL",
        "colab_type": "text"
      },
      "source": [
        "> Doing so, requires knowledge of `%`, `modulo`, which returns the *remainder* of a divisor.  For example, below is the remainder of dividing each item in the above array by 2."
      ]
    },
    {
      "cell_type": "code",
      "metadata": {
        "id": "Q1p3ODambStL",
        "colab_type": "code",
        "outputId": "32588574-c941-4c72-f801-7a41884b19f8",
        "colab": {}
      },
      "source": [
        "increasing_grid % 2"
      ],
      "execution_count": 0,
      "outputs": [
        {
          "output_type": "execute_result",
          "data": {
            "text/plain": [
              "array([[1, 0, 1, 0, 1],\n",
              "       [0, 1, 0, 1, 0],\n",
              "       [1, 0, 1, 0, 1],\n",
              "       [0, 1, 0, 1, 0],\n",
              "       [1, 0, 1, 0, 1]])"
            ]
          },
          "metadata": {
            "tags": []
          },
          "execution_count": 7
        }
      ]
    },
    {
      "cell_type": "markdown",
      "metadata": {
        "id": "V7O7-1bKbStN",
        "colab_type": "text"
      },
      "source": [
        "Ok, now try using module to only select the rows that have an even number in the third column. "
      ]
    },
    {
      "cell_type": "markdown",
      "metadata": {
        "id": "rxPBMiylbStO",
        "colab_type": "text"
      },
      "source": [
        "> Embrace the struggle...we'll show you the answer below."
      ]
    },
    {
      "cell_type": "code",
      "metadata": {
        "id": "bY6VMH9FbStP",
        "colab_type": "code",
        "outputId": "bf751a0f-77ef-4815-925d-1d02bfa9654b",
        "colab": {}
      },
      "source": [
        "increasing_grid"
      ],
      "execution_count": 0,
      "outputs": [
        {
          "output_type": "execute_result",
          "data": {
            "text/plain": [
              "array([[ 1,  2,  3,  4,  5],\n",
              "       [ 6,  7,  8,  9, 10],\n",
              "       [11, 12, 13, 14, 15],\n",
              "       [16, 17, 18, 19, 20],\n",
              "       [21, 22, 23, 24, 25]])"
            ]
          },
          "metadata": {
            "tags": []
          },
          "execution_count": 8
        }
      ]
    },
    {
      "cell_type": "code",
      "metadata": {
        "id": "3NsotEdSbStQ",
        "colab_type": "code",
        "colab": {}
      },
      "source": [
        ""
      ],
      "execution_count": 0,
      "outputs": []
    },
    {
      "cell_type": "markdown",
      "metadata": {
        "id": "rmC683qJbStS",
        "colab_type": "text"
      },
      "source": [
        "## The answer"
      ]
    },
    {
      "cell_type": "markdown",
      "metadata": {
        "id": "dsYpdPcybStT",
        "colab_type": "text"
      },
      "source": [
        "1. Select all the rows, the third column"
      ]
    },
    {
      "cell_type": "code",
      "metadata": {
        "id": "dkifJjynbStU",
        "colab_type": "code",
        "outputId": "2b6d3c76-b573-4b18-af40-548b38a1d259",
        "colab": {}
      },
      "source": [
        "increasing_grid[:, 2]"
      ],
      "execution_count": 0,
      "outputs": [
        {
          "output_type": "execute_result",
          "data": {
            "text/plain": [
              "array([ 3,  8, 13, 18, 23])"
            ]
          },
          "metadata": {
            "tags": []
          },
          "execution_count": 6
        }
      ]
    },
    {
      "cell_type": "markdown",
      "metadata": {
        "id": "lb7mHUdLbStV",
        "colab_type": "text"
      },
      "source": [
        "2. Then use broadcasting to query each item in that column"
      ]
    },
    {
      "cell_type": "code",
      "metadata": {
        "id": "s_r-Mm-qbStW",
        "colab_type": "code",
        "outputId": "032b09c0-3be3-4fca-8cbe-6abc97534d2c",
        "colab": {}
      },
      "source": [
        "increasing_grid[:, 2] % 2"
      ],
      "execution_count": 0,
      "outputs": [
        {
          "output_type": "execute_result",
          "data": {
            "text/plain": [
              "array([1, 0, 1, 0, 1])"
            ]
          },
          "metadata": {
            "tags": []
          },
          "execution_count": 8
        }
      ]
    },
    {
      "cell_type": "markdown",
      "metadata": {
        "id": "91ubG1dqbStY",
        "colab_type": "text"
      },
      "source": [
        "> We use the `modulo` operator which returns the remainder. So here, modulo returns the remainder of dividing each item by 2.  So `3 % 2 = 1`.  "
      ]
    },
    {
      "cell_type": "markdown",
      "metadata": {
        "id": "694iTDHZbStZ",
        "colab_type": "text"
      },
      "source": [
        "> Where the `% 2 == 0`, our element is even."
      ]
    },
    {
      "cell_type": "code",
      "metadata": {
        "id": "p181M_xKbStZ",
        "colab_type": "code",
        "outputId": "28457db5-7f43-4e0e-8264-e9805b22eae0",
        "colab": {}
      },
      "source": [
        "increasing_grid[:, 2] % 2 == 0"
      ],
      "execution_count": 0,
      "outputs": [
        {
          "output_type": "execute_result",
          "data": {
            "text/plain": [
              "array([False,  True, False,  True, False])"
            ]
          },
          "metadata": {
            "tags": []
          },
          "execution_count": 9
        }
      ]
    },
    {
      "cell_type": "markdown",
      "metadata": {
        "id": "P7Bjq5EdbStc",
        "colab_type": "text"
      },
      "source": [
        "3. Use boolean indexing"
      ]
    },
    {
      "cell_type": "markdown",
      "metadata": {
        "id": "irb8NWj7bStc",
        "colab_type": "text"
      },
      "source": [
        "Now we can find all of the rows where our third item is even."
      ]
    },
    {
      "cell_type": "code",
      "metadata": {
        "id": "DcURK-YebStd",
        "colab_type": "code",
        "outputId": "915dd754-e28d-4eb6-a180-21d6100c816d",
        "colab": {}
      },
      "source": [
        "increasing_grid"
      ],
      "execution_count": 0,
      "outputs": [
        {
          "output_type": "execute_result",
          "data": {
            "text/plain": [
              "array([[ 1,  2,  3,  4,  5],\n",
              "       [ 6,  7,  8,  9, 10],\n",
              "       [11, 12, 13, 14, 15],\n",
              "       [16, 17, 18, 19, 20],\n",
              "       [21, 22, 23, 24, 25]])"
            ]
          },
          "metadata": {
            "tags": []
          },
          "execution_count": 12
        }
      ]
    },
    {
      "cell_type": "code",
      "metadata": {
        "id": "gQGA9bXzbStf",
        "colab_type": "code",
        "outputId": "a13f89c0-bfd1-4dec-c30b-12209f8edd48",
        "colab": {}
      },
      "source": [
        "increasing_grid[increasing_grid[:, 2] % 2 == 0]"
      ],
      "execution_count": 0,
      "outputs": [
        {
          "output_type": "execute_result",
          "data": {
            "text/plain": [
              "array([[ 6,  7,  8,  9, 10],\n",
              "       [16, 17, 18, 19, 20]])"
            ]
          },
          "metadata": {
            "tags": []
          },
          "execution_count": 10
        }
      ]
    },
    {
      "cell_type": "markdown",
      "metadata": {
        "id": "AL2gp5MybSth",
        "colab_type": "text"
      },
      "source": [
        "### Summary"
      ]
    },
    {
      "cell_type": "markdown",
      "metadata": {
        "id": "4-sJKW1wbSti",
        "colab_type": "text"
      },
      "source": [
        "In this lesson we saw how to filter data in a multidimensional array.  We do so by taking advantage of boolean indexing in Numpy, which allows us to select from an array by passing through True or False value, for the corresponding entries that we wish to return."
      ]
    },
    {
      "cell_type": "code",
      "metadata": {
        "id": "t8CLHsIfbStj",
        "colab_type": "code",
        "outputId": "4626f5d9-8eda-473c-b228-d363fb76ec87",
        "colab": {}
      },
      "source": [
        "increasing_grid"
      ],
      "execution_count": 0,
      "outputs": [
        {
          "output_type": "execute_result",
          "data": {
            "text/plain": [
              "array([[ 1,  2,  3,  4,  5],\n",
              "       [ 6,  7,  8,  9, 10],\n",
              "       [11, 12, 13, 14, 15],\n",
              "       [16, 17, 18, 19, 20],\n",
              "       [21, 22, 23, 24, 25]])"
            ]
          },
          "metadata": {
            "tags": []
          },
          "execution_count": 87
        }
      ]
    },
    {
      "cell_type": "code",
      "metadata": {
        "id": "5wpxB-jkbStm",
        "colab_type": "code",
        "colab": {}
      },
      "source": [
        "bool_vals = np.array([ True, False,  True, False,  True])"
      ],
      "execution_count": 0,
      "outputs": []
    },
    {
      "cell_type": "code",
      "metadata": {
        "id": "Ql2HzpcJbSto",
        "colab_type": "code",
        "outputId": "b3c83ce2-a426-4ac9-cd8a-e3916ec61d61",
        "colab": {}
      },
      "source": [
        "increasing_grid[bool_vals]"
      ],
      "execution_count": 0,
      "outputs": [
        {
          "output_type": "execute_result",
          "data": {
            "text/plain": [
              "array([[ 1,  2,  3,  4,  5],\n",
              "       [11, 12, 13, 14, 15],\n",
              "       [21, 22, 23, 24, 25]])"
            ]
          },
          "metadata": {
            "tags": []
          },
          "execution_count": 89
        }
      ]
    },
    {
      "cell_type": "markdown",
      "metadata": {
        "id": "e2FhZfZbbStr",
        "colab_type": "text"
      },
      "source": [
        "It also uses broadcasting, so we can check whether multiple elements match or do not match some criteria."
      ]
    },
    {
      "cell_type": "code",
      "metadata": {
        "id": "nIVS-AAQbStr",
        "colab_type": "code",
        "outputId": "d6a70f4a-4e1e-4fed-c0d4-5ec45e6fd722",
        "colab": {}
      },
      "source": [
        "increasing_grid[:, 0] < 10"
      ],
      "execution_count": 0,
      "outputs": [
        {
          "output_type": "execute_result",
          "data": {
            "text/plain": [
              "array([ True,  True, False, False, False])"
            ]
          },
          "metadata": {
            "tags": []
          },
          "execution_count": 90
        }
      ]
    },
    {
      "cell_type": "markdown",
      "metadata": {
        "id": "567vSttHbStt",
        "colab_type": "text"
      },
      "source": [
        "And then combines the two to filter entire rows."
      ]
    },
    {
      "cell_type": "code",
      "metadata": {
        "id": "z0yE0n-abStu",
        "colab_type": "code",
        "outputId": "092d7094-396f-4fa4-ee69-28067183b01f",
        "colab": {}
      },
      "source": [
        "increasing_grid[increasing_grid[:, 0] < 10]"
      ],
      "execution_count": 0,
      "outputs": [
        {
          "output_type": "execute_result",
          "data": {
            "text/plain": [
              "array([[ 1,  2,  3,  4,  5],\n",
              "       [ 6,  7,  8,  9, 10]])"
            ]
          },
          "metadata": {
            "tags": []
          },
          "execution_count": 91
        }
      ]
    },
    {
      "cell_type": "markdown",
      "metadata": {
        "id": "dttochBdbStw",
        "colab_type": "text"
      },
      "source": [
        "### Solutions"
      ]
    },
    {
      "cell_type": "code",
      "metadata": {
        "id": "wgBX6op9bStx",
        "colab_type": "code",
        "colab": {}
      },
      "source": [
        "increasing_grid[increasing_grid[:, -1] == 20]"
      ],
      "execution_count": 0,
      "outputs": []
    },
    {
      "cell_type": "markdown",
      "metadata": {
        "id": "KBTtamxbbSt1",
        "colab_type": "text"
      },
      "source": [
        "### Resources\n",
        "\n",
        "[Replace corrupted text](https://stackoverflow.com/questions/26541968/delete-every-non-utf-8-symbols-from-string)\n",
        "\n",
        "[Numpy filtering](http://heydenberk.com/blog/posts/demystifying-pandas-numpy-filtering/)"
      ]
    }
  ]
}