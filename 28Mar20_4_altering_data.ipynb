{
  "nbformat": 4,
  "nbformat_minor": 0,
  "metadata": {
    "kernelspec": {
      "display_name": "Python 3",
      "language": "python",
      "name": "python3"
    },
    "language_info": {
      "codemirror_mode": {
        "name": "ipython",
        "version": 3
      },
      "file_extension": ".py",
      "mimetype": "text/x-python",
      "name": "python",
      "nbconvert_exporter": "python",
      "pygments_lexer": "ipython3",
      "version": "3.7.4"
    },
    "colab": {
      "name": "Copy of 4-altering-data.ipynb",
      "provenance": [],
      "include_colab_link": true
    }
  },
  "cells": [
    {
      "cell_type": "markdown",
      "metadata": {
        "id": "view-in-github",
        "colab_type": "text"
      },
      "source": [
        "<a href=\"https://colab.research.google.com/github/ludawg44/jigsawlabs/blob/master/28Mar20_4_altering_data.ipynb\" target=\"_parent\"><img src=\"https://colab.research.google.com/assets/colab-badge.svg\" alt=\"Open In Colab\"/></a>"
      ]
    },
    {
      "cell_type": "markdown",
      "metadata": {
        "id": "lC-L-lxWfzkE",
        "colab_type": "text"
      },
      "source": [
        "# Replacing Data With Map"
      ]
    },
    {
      "cell_type": "markdown",
      "metadata": {
        "id": "HGxD4uEqfzkF",
        "colab_type": "text"
      },
      "source": [
        "### Introduction"
      ]
    },
    {
      "cell_type": "markdown",
      "metadata": {
        "id": "xbX-netofzkG",
        "colab_type": "text"
      },
      "source": [
        "In the last lesson, we successfully trained our machine learning model, and there was only one feature that we were unable to include -- that of borough.  In this lesson, we will see how we can use the map method to coerce this data into numbers.  In a later lesson, we will see a different approach with categorical variables."
      ]
    },
    {
      "cell_type": "markdown",
      "metadata": {
        "id": "KkB8F3ZifzkG",
        "colab_type": "text"
      },
      "source": [
        "### Initial Loading and Cleaning"
      ]
    },
    {
      "cell_type": "markdown",
      "metadata": {
        "id": "fxozv_sdfzkH",
        "colab_type": "text"
      },
      "source": [
        "Let's take another look at our SAT data from the last lab."
      ]
    },
    {
      "cell_type": "code",
      "metadata": {
        "id": "5TpSwCanfzkH",
        "colab_type": "code",
        "colab": {}
      },
      "source": [
        "import pandas as pd\n",
        "url = \"https://raw.githubusercontent.com/jigsawlabs-student/introductory-pandas/master/2-coercing-data/nyc_hs_sat.csv?token=ANKFJMC7BYDRMREKZA7QBG26QVGK6\"\n",
        "sat_df = pd.read_csv(url, index_col = 0)"
      ],
      "execution_count": 0,
      "outputs": []
    },
    {
      "cell_type": "markdown",
      "metadata": {
        "id": "fSHvCfIzfzkK",
        "colab_type": "text"
      },
      "source": [
        "We'll start by dropping the rows that contain missing values."
      ]
    },
    {
      "cell_type": "code",
      "metadata": {
        "id": "48honpK7fzkL",
        "colab_type": "code",
        "colab": {}
      },
      "source": [
        "dropped_sat_df = sat_df.dropna()"
      ],
      "execution_count": 0,
      "outputs": []
    },
    {
      "cell_type": "markdown",
      "metadata": {
        "id": "BQLjkVQefzkN",
        "colab_type": "text"
      },
      "source": [
        "Let's confirm that we no longer have `na` values in our data."
      ]
    },
    {
      "cell_type": "code",
      "metadata": {
        "id": "Y2oGk18JfzkN",
        "colab_type": "code",
        "outputId": "d394f0d5-771b-4f4e-b612-3f9430f0a9df",
        "colab": {}
      },
      "source": [
        "dropped_sat_df.isna().sum()"
      ],
      "execution_count": 0,
      "outputs": [
        {
          "output_type": "execute_result",
          "data": {
            "text/plain": [
              "dbn                    0\n",
              "name                   0\n",
              "num_test_takers        0\n",
              "reading_avg            0\n",
              "math_avg               0\n",
              "writing_score          0\n",
              "boro                   0\n",
              "total_students         0\n",
              "graduation_rate        0\n",
              "attendance_rate        0\n",
              "college_career_rate    0\n",
              "dtype: int64"
            ]
          },
          "metadata": {
            "tags": []
          },
          "execution_count": 4
        }
      ]
    },
    {
      "cell_type": "markdown",
      "metadata": {
        "id": "5yAasepDfzkR",
        "colab_type": "text"
      },
      "source": [
        "Looks pretty good.  Now, as we know, we still cannot use the column `boro` as the values in it are text and not numeric, but perhaps they could be.  Let's tackle that in the next section.  "
      ]
    },
    {
      "cell_type": "markdown",
      "metadata": {
        "id": "Rikfs32cfzkS",
        "colab_type": "text"
      },
      "source": [
        "### Exploring and Mapping"
      ]
    },
    {
      "cell_type": "markdown",
      "metadata": {
        "id": "OYfWoTydfzkT",
        "colab_type": "text"
      },
      "source": [
        "Now we currently have three columns in our dataset that are non-numeric: `dbn`, `name`, and `boro`. Now, there is not an easy way of representing `dbn` and `name` as meaningful numbers."
      ]
    },
    {
      "cell_type": "code",
      "metadata": {
        "id": "YNWfwy9nfzkT",
        "colab_type": "code",
        "outputId": "ede7598c-c67c-4fec-a301-d09ff64220cb",
        "colab": {}
      },
      "source": [
        "dropped_sat_df[['dbn', 'name']][:2]"
      ],
      "execution_count": 0,
      "outputs": [
        {
          "output_type": "execute_result",
          "data": {
            "text/html": [
              "<div>\n",
              "<style scoped>\n",
              "    .dataframe tbody tr th:only-of-type {\n",
              "        vertical-align: middle;\n",
              "    }\n",
              "\n",
              "    .dataframe tbody tr th {\n",
              "        vertical-align: top;\n",
              "    }\n",
              "\n",
              "    .dataframe thead th {\n",
              "        text-align: right;\n",
              "    }\n",
              "</style>\n",
              "<table border=\"1\" class=\"dataframe\">\n",
              "  <thead>\n",
              "    <tr style=\"text-align: right;\">\n",
              "      <th></th>\n",
              "      <th>dbn</th>\n",
              "      <th>name</th>\n",
              "    </tr>\n",
              "  </thead>\n",
              "  <tbody>\n",
              "    <tr>\n",
              "      <th>0</th>\n",
              "      <td>01M292</td>\n",
              "      <td>HENRY STREET SCHOOL FOR INTERNATIONAL STUDIES</td>\n",
              "    </tr>\n",
              "    <tr>\n",
              "      <th>1</th>\n",
              "      <td>01M448</td>\n",
              "      <td>UNIVERSITY NEIGHBORHOOD HIGH SCHOOL</td>\n",
              "    </tr>\n",
              "  </tbody>\n",
              "</table>\n",
              "</div>"
            ],
            "text/plain": [
              "      dbn                                           name\n",
              "0  01M292  HENRY STREET SCHOOL FOR INTERNATIONAL STUDIES\n",
              "1  01M448            UNIVERSITY NEIGHBORHOOD HIGH SCHOOL"
            ]
          },
          "metadata": {
            "tags": []
          },
          "execution_count": 5
        }
      ]
    },
    {
      "cell_type": "markdown",
      "metadata": {
        "id": "gaBLINiBfzkV",
        "colab_type": "text"
      },
      "source": [
        "As we can see, each of the values in those columns are different.  But a little data exploration will reveal that the values in the `boro` column are constrained to five different values, one for each borough of New York City.  A good way to see this, is by using the `value_counts` method, which is available on a pandas series."
      ]
    },
    {
      "cell_type": "code",
      "metadata": {
        "id": "7NLGRvuKfzkW",
        "colab_type": "code",
        "outputId": "d1275c92-3f2f-45cd-fbaf-61af0322070c",
        "colab": {}
      },
      "source": [
        "dropped_sat_df['boro'].value_counts()"
      ],
      "execution_count": 0,
      "outputs": [
        {
          "output_type": "execute_result",
          "data": {
            "text/plain": [
              "K    96\n",
              "X    80\n",
              "M    77\n",
              "Q    60\n",
              "R    10\n",
              "Name: boro, dtype: int64"
            ]
          },
          "metadata": {
            "tags": []
          },
          "execution_count": 6
        }
      ]
    },
    {
      "cell_type": "markdown",
      "metadata": {
        "id": "3CEuPEqWfzkZ",
        "colab_type": "text"
      },
      "source": [
        "```\n",
        "M -> Manhattan\n",
        "Q -> Queens\n",
        "X - Bronx\n",
        "K -> Brooklyn\n",
        "R -> Staten Island\n",
        "```"
      ]
    },
    {
      "cell_type": "markdown",
      "metadata": {
        "id": "LhegieOXfzkZ",
        "colab_type": "text"
      },
      "source": [
        "Now let's change these letters to the corresponding borough name in our dataset.We can do so with the `map` function.  Here's how:"
      ]
    },
    {
      "cell_type": "code",
      "metadata": {
        "id": "ojADg31sfzka",
        "colab_type": "code",
        "colab": {}
      },
      "source": [
        "mapping = {'M': 'Manhattan', 'Q': 'Queens', 'X': 'Bronx', 'K': 'Brooklyn', 'R': 'Staten Island'}\n",
        "mapped_borough = dropped_sat_df['boro'].map(mapping)"
      ],
      "execution_count": 0,
      "outputs": []
    },
    {
      "cell_type": "markdown",
      "metadata": {
        "id": "w9u-U_oJfzkc",
        "colab_type": "text"
      },
      "source": [
        "Let's see what this did."
      ]
    },
    {
      "cell_type": "code",
      "metadata": {
        "id": "P0nqX20_fzkd",
        "colab_type": "code",
        "outputId": "284f359a-0d77-4279-d5ce-3d2e6591e21b",
        "colab": {}
      },
      "source": [
        "mapped_borough.value_counts()"
      ],
      "execution_count": 0,
      "outputs": [
        {
          "output_type": "execute_result",
          "data": {
            "text/plain": [
              "Brooklyn         96\n",
              "Bronx            80\n",
              "Manhattan        77\n",
              "Queens           60\n",
              "Staten Island    10\n",
              "Name: boro, dtype: int64"
            ]
          },
          "metadata": {
            "tags": []
          },
          "execution_count": 8
        }
      ]
    },
    {
      "cell_type": "code",
      "metadata": {
        "id": "jMUzvWJGfzkf",
        "colab_type": "code",
        "outputId": "d646256f-15b9-43b7-e02f-762537b2d55c",
        "colab": {}
      },
      "source": [
        "mapped_borough[:3]"
      ],
      "execution_count": 0,
      "outputs": [
        {
          "output_type": "execute_result",
          "data": {
            "text/plain": [
              "0    Manhattan\n",
              "1    Manhattan\n",
              "2    Manhattan\n",
              "Name: boro, dtype: object"
            ]
          },
          "metadata": {
            "tags": []
          },
          "execution_count": 9
        }
      ]
    },
    {
      "cell_type": "markdown",
      "metadata": {
        "id": "UCRh_Tezfzkh",
        "colab_type": "text"
      },
      "source": [
        "So we can see that we provided `map` a dictionary.  And map changed each of the values that matched a key in our dictionary to the corresponding value, here a number."
      ]
    },
    {
      "cell_type": "markdown",
      "metadata": {
        "id": "ooBV3hPSfzkh",
        "colab_type": "text"
      },
      "source": [
        "### Going further with map"
      ]
    },
    {
      "cell_type": "markdown",
      "metadata": {
        "id": "fKIWmUdQfzki",
        "colab_type": "text"
      },
      "source": [
        "Now so far, we used `map` with a dictionary to change one value to another."
      ]
    },
    {
      "cell_type": "code",
      "metadata": {
        "id": "bPl0MAGTfzkj",
        "colab_type": "code",
        "outputId": "aa663cd3-4774-41b2-96d6-70076e743d58",
        "colab": {}
      },
      "source": [
        "mapping = {'M': 'Manhattan', 'Q': 'Queens', 'X': 'Bronx', 'K': 'Brooklyn', 'R': 'Staten Island'}\n",
        "mapped_borough = dropped_sat_df['boro'].map(mapping)\n",
        "mapped_borough.value_counts()"
      ],
      "execution_count": 0,
      "outputs": [
        {
          "output_type": "execute_result",
          "data": {
            "text/plain": [
              "Brooklyn         96\n",
              "Bronx            80\n",
              "Manhattan        77\n",
              "Queens           60\n",
              "Staten Island    10\n",
              "Name: boro, dtype: int64"
            ]
          },
          "metadata": {
            "tags": []
          },
          "execution_count": 10
        }
      ]
    },
    {
      "cell_type": "markdown",
      "metadata": {
        "id": "2fQFU0sSfzkl",
        "colab_type": "text"
      },
      "source": [
        "But another way that we can use map is to take a function.  Let's see this with some datetime data.  Let's load up our Max's Wine Bar data, and get started."
      ]
    },
    {
      "cell_type": "code",
      "metadata": {
        "id": "F1QF8vlnfzkl",
        "colab_type": "code",
        "outputId": "571bcb02-528a-401d-f77f-cc22d60f16fd",
        "colab": {}
      },
      "source": [
        "import pandas as pd\n",
        "\n",
        "url = \"https://raw.githubusercontent.com/jigsawlabs-student/introductory-pandas/master/2-coercing-data/max-revenue.json?token=ANKFJMBT7AUKZPSIA47CLTC6QVGHG\"\n",
        "df_max = pd.read_json(url)\n",
        "df_max[:3]"
      ],
      "execution_count": 0,
      "outputs": [
        {
          "output_type": "execute_result",
          "data": {
            "text/html": [
              "<div>\n",
              "<style scoped>\n",
              "    .dataframe tbody tr th:only-of-type {\n",
              "        vertical-align: middle;\n",
              "    }\n",
              "\n",
              "    .dataframe tbody tr th {\n",
              "        vertical-align: top;\n",
              "    }\n",
              "\n",
              "    .dataframe thead th {\n",
              "        text-align: right;\n",
              "    }\n",
              "</style>\n",
              "<table border=\"1\" class=\"dataframe\">\n",
              "  <thead>\n",
              "    <tr style=\"text-align: right;\">\n",
              "      <th></th>\n",
              "      <th>end_date</th>\n",
              "      <th>total_receipts</th>\n",
              "    </tr>\n",
              "  </thead>\n",
              "  <tbody>\n",
              "    <tr>\n",
              "      <th>0</th>\n",
              "      <td>2016-12-31T00:00:00.000</td>\n",
              "      <td>56182</td>\n",
              "    </tr>\n",
              "    <tr>\n",
              "      <th>1</th>\n",
              "      <td>2017-08-31T00:00:00.000</td>\n",
              "      <td>9400</td>\n",
              "    </tr>\n",
              "    <tr>\n",
              "      <th>2</th>\n",
              "      <td>2016-06-30T00:00:00.000</td>\n",
              "      <td>50574</td>\n",
              "    </tr>\n",
              "  </tbody>\n",
              "</table>\n",
              "</div>"
            ],
            "text/plain": [
              "                  end_date  total_receipts\n",
              "0  2016-12-31T00:00:00.000           56182\n",
              "1  2017-08-31T00:00:00.000            9400\n",
              "2  2016-06-30T00:00:00.000           50574"
            ]
          },
          "metadata": {
            "tags": []
          },
          "execution_count": 12
        }
      ]
    },
    {
      "cell_type": "markdown",
      "metadata": {
        "id": "2GjIPL5bfzkn",
        "colab_type": "text"
      },
      "source": [
        "Because `end_date` is currently of type object, let's convert it to be a `datetime`."
      ]
    },
    {
      "cell_type": "code",
      "metadata": {
        "id": "HPOeT07Yfzkn",
        "colab_type": "code",
        "outputId": "fcfa91d4-42aa-4781-a51b-795cfb101b8c",
        "colab": {}
      },
      "source": [
        "end_date_dt = df_max['end_date'].astype('datetime64[ns]')\n",
        "end_date_dt[:2]"
      ],
      "execution_count": 0,
      "outputs": [
        {
          "output_type": "execute_result",
          "data": {
            "text/plain": [
              "0   2016-12-31\n",
              "1   2017-08-31\n",
              "Name: end_date, dtype: datetime64[ns]"
            ]
          },
          "metadata": {
            "tags": []
          },
          "execution_count": 44
        }
      ]
    },
    {
      "cell_type": "markdown",
      "metadata": {
        "id": "ZMznE1qZfzkp",
        "colab_type": "text"
      },
      "source": [
        "Ok, now that `end_date_dt` is of type `datetime`, we can call methods `month` and `year` on individual entries. "
      ]
    },
    {
      "cell_type": "code",
      "metadata": {
        "id": "XJy0aWkrfzkq",
        "colab_type": "code",
        "outputId": "4c41fa35-bec8-4f57-c425-5dd20644d85d",
        "colab": {}
      },
      "source": [
        "end_date_dt[0].month"
      ],
      "execution_count": 0,
      "outputs": [
        {
          "output_type": "execute_result",
          "data": {
            "text/plain": [
              "12"
            ]
          },
          "metadata": {
            "tags": []
          },
          "execution_count": 45
        }
      ]
    },
    {
      "cell_type": "markdown",
      "metadata": {
        "id": "ORSAl4WUfzks",
        "colab_type": "text"
      },
      "source": [
        "But we would like to create a `end_date_month` where we extract the month from every entry.  We can do so, also with the `map` method, like so."
      ]
    },
    {
      "cell_type": "code",
      "metadata": {
        "id": "2lSZgMnkfzks",
        "colab_type": "code",
        "outputId": "bdb22f79-abd4-4223-a10c-57d222448402",
        "colab": {}
      },
      "source": [
        "end_date_month = end_date_dt.map(lambda date: date.month)\n",
        "end_date_month[:2]"
      ],
      "execution_count": 0,
      "outputs": [
        {
          "output_type": "execute_result",
          "data": {
            "text/plain": [
              "0    12\n",
              "1     8\n",
              "Name: end_date, dtype: int64"
            ]
          },
          "metadata": {
            "tags": []
          },
          "execution_count": 48
        }
      ]
    },
    {
      "cell_type": "markdown",
      "metadata": {
        "id": "glNLZKCrfzku",
        "colab_type": "text"
      },
      "source": [
        "So here, inside the `map` argument works by looping through the data, and each entry takes a turn being represented by the `date` variable.  After the colon, we indicate what information we would like to replace the date entry with -- here the date's month."
      ]
    },
    {
      "cell_type": "markdown",
      "metadata": {
        "id": "kzAx_yA2fzkv",
        "colab_type": "text"
      },
      "source": [
        "If we would prefer, we can also break this into steps by first writing a function called `date_to_year`."
      ]
    },
    {
      "cell_type": "code",
      "metadata": {
        "id": "S7Usl_r8fzkv",
        "colab_type": "code",
        "colab": {}
      },
      "source": [
        "def date_to_month(date):\n",
        "    return date.month"
      ],
      "execution_count": 0,
      "outputs": []
    },
    {
      "cell_type": "code",
      "metadata": {
        "id": "oICkkQXnfzkx",
        "colab_type": "code",
        "outputId": "ba3cc98b-18a4-43a6-afe8-556316e7d4eb",
        "colab": {}
      },
      "source": [
        "end_date_dt[0]\n",
        "# Timestamp('2016-12-31 00:00:00')\n",
        "\n",
        "date_to_month(end_date_dt[0])"
      ],
      "execution_count": 0,
      "outputs": [
        {
          "output_type": "execute_result",
          "data": {
            "text/plain": [
              "12"
            ]
          },
          "metadata": {
            "tags": []
          },
          "execution_count": 58
        }
      ]
    },
    {
      "cell_type": "code",
      "metadata": {
        "id": "zsYskCcbfzkz",
        "colab_type": "code",
        "outputId": "3d41330a-d338-4062-886c-a976c91866cb",
        "colab": {}
      },
      "source": [
        "months = end_date_dt.map(lambda date: date_to_month(date))\n",
        "months[:2]"
      ],
      "execution_count": 0,
      "outputs": [
        {
          "output_type": "execute_result",
          "data": {
            "text/plain": [
              "0    12\n",
              "1     8\n",
              "Name: end_date, dtype: int64"
            ]
          },
          "metadata": {
            "tags": []
          },
          "execution_count": 61
        }
      ]
    },
    {
      "cell_type": "markdown",
      "metadata": {
        "id": "2YjMPMOSfzk1",
        "colab_type": "text"
      },
      "source": [
        "Try the to write the corresponding code to extract the date's year.  Remember we can go from one date to a year, with the `month` method."
      ]
    },
    {
      "cell_type": "code",
      "metadata": {
        "id": "gNn6I0htfzk2",
        "colab_type": "code",
        "outputId": "0f995c77-9152-4969-d03f-aa691893c597",
        "colab": {}
      },
      "source": [
        "end_date_year = end_date_dt\n",
        "end_date_year[:2]\n",
        "\n",
        "# 0    2016\n",
        "# 1    2017\n",
        "# Name: end_date, dtype: int64"
      ],
      "execution_count": 0,
      "outputs": [
        {
          "output_type": "execute_result",
          "data": {
            "text/plain": [
              "0   2016-12-31\n",
              "1   2017-08-31\n",
              "Name: end_date, dtype: datetime64[ns]"
            ]
          },
          "metadata": {
            "tags": []
          },
          "execution_count": 52
        }
      ]
    },
    {
      "cell_type": "markdown",
      "metadata": {
        "id": "UOpUWpF5fzk4",
        "colab_type": "text"
      },
      "source": [
        "So the format for `map` is `lambda variable: method(variable)`."
      ]
    },
    {
      "cell_type": "markdown",
      "metadata": {
        "id": "cAh84N-jfzk4",
        "colab_type": "text"
      },
      "source": [
        "### Summary"
      ]
    },
    {
      "cell_type": "markdown",
      "metadata": {
        "id": "7CN4dfpmfzk4",
        "colab_type": "text"
      },
      "source": [
        "In this lesson, we saw how to coerce our data with the `map` function.  We saw that this can convert matching strings to other values.  We saw that our map function can accept both a dictionary to change one value to another, or we can use `lambda variable`, and replace each of our entry values with the value returned from the lambda statement."
      ]
    }
  ]
}