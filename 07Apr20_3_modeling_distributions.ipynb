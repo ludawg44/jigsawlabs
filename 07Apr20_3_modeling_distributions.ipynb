{
  "nbformat": 4,
  "nbformat_minor": 0,
  "metadata": {
    "kernelspec": {
      "display_name": "Python 3",
      "language": "python",
      "name": "python3"
    },
    "language_info": {
      "codemirror_mode": {
        "name": "ipython",
        "version": 3
      },
      "file_extension": ".py",
      "mimetype": "text/x-python",
      "name": "python",
      "nbconvert_exporter": "python",
      "pygments_lexer": "ipython3",
      "version": "3.7.4"
    },
    "colab": {
      "name": "Copy of 3-modeling-distributions.ipynb",
      "provenance": [],
      "include_colab_link": true
    }
  },
  "cells": [
    {
      "cell_type": "markdown",
      "metadata": {
        "id": "view-in-github",
        "colab_type": "text"
      },
      "source": [
        "<a href=\"https://colab.research.google.com/github/ludawg44/jigsawlabs/blob/master/07Apr20_3_modeling_distributions.ipynb\" target=\"_parent\"><img src=\"https://colab.research.google.com/assets/colab-badge.svg\" alt=\"Open In Colab\"/></a>"
      ]
    },
    {
      "cell_type": "markdown",
      "metadata": {
        "id": "IMbRrZ29PLav",
        "colab_type": "text"
      },
      "source": [
        "# Modeling Distributions"
      ]
    },
    {
      "cell_type": "markdown",
      "metadata": {
        "id": "lFVp3BzZPLaw",
        "colab_type": "text"
      },
      "source": [
        "### Introduction"
      ]
    },
    {
      "cell_type": "markdown",
      "metadata": {
        "id": "uDidf2I1PLax",
        "colab_type": "text"
      },
      "source": [
        "Now so far we have seen how to work with probability distributions that we derived directly from the sample of our population.  Our model of our probability distribution function of our random variable simply equaled the relative frequencies in our sample.  In this lesson, we'll see the limitations of this approach, and how we can improve upon it."
      ]
    },
    {
      "cell_type": "markdown",
      "metadata": {
        "id": "sHicM8kTPLay",
        "colab_type": "text"
      },
      "source": [
        "### Loading the data"
      ]
    },
    {
      "cell_type": "markdown",
      "metadata": {
        "id": "GHGNpmo4PLay",
        "colab_type": "text"
      },
      "source": [
        "Let's begin by loading up our data, and then we can plot our distribution function."
      ]
    },
    {
      "cell_type": "code",
      "metadata": {
        "id": "P8ZeiusdPLaz",
        "colab_type": "code",
        "colab": {}
      },
      "source": [
        "import pandas as pd \n",
        "url = \"https://raw.githubusercontent.com/jigsawlabs-student/modeling-distributions/master/scores_grade_eight_2015.csv\"\n",
        "df = pd.read_csv(url, index_col = 0)"
      ],
      "execution_count": 0,
      "outputs": []
    },
    {
      "cell_type": "code",
      "metadata": {
        "id": "XeVU436YPLa2",
        "colab_type": "code",
        "outputId": "fe807c51-5cd1-416f-b50b-cfc7f220235f",
        "colab": {
          "base_uri": "https://localhost:8080/",
          "height": 34
        }
      },
      "source": [
        "df.shape"
      ],
      "execution_count": 0,
      "outputs": [
        {
          "output_type": "execute_result",
          "data": {
            "text/plain": [
              "(472, 8)"
            ]
          },
          "metadata": {
            "tags": []
          },
          "execution_count": 2
        }
      ]
    },
    {
      "cell_type": "markdown",
      "metadata": {
        "id": "PRNgbbw-PLa5",
        "colab_type": "text"
      },
      "source": [
        "We'll imagine that we can only select a sample from our data.  We use numpy to do so."
      ]
    },
    {
      "cell_type": "code",
      "metadata": {
        "id": "l2q5OA8yPLa6",
        "colab_type": "code",
        "colab": {}
      },
      "source": [
        "from numpy.random import default_rng, seed\n",
        "seed(3)\n",
        "rng = default_rng()\n",
        "numbers = rng.choice(range(0, 471), size=100, replace=False)\n",
        "\n",
        "numbers = sorted(numbers)\n",
        "\n",
        "sample_df = df.iloc[numbers]"
      ],
      "execution_count": 0,
      "outputs": []
    },
    {
      "cell_type": "code",
      "metadata": {
        "id": "Corm9G9cPLa8",
        "colab_type": "code",
        "colab": {}
      },
      "source": [
        "avg_score = sample_df['Mean Scale Score']"
      ],
      "execution_count": 0,
      "outputs": []
    },
    {
      "cell_type": "code",
      "metadata": {
        "id": "1GdKIjOJPLa_",
        "colab_type": "code",
        "outputId": "60d59a6c-677d-4a59-8e27-f42031acf579",
        "colab": {
          "base_uri": "https://localhost:8080/",
          "height": 298
        }
      },
      "source": [
        "import matplotlib.pyplot as plt\n",
        "ax = avg_score.hist(density = True)\n",
        "ax.set_title('average math scores')\n"
      ],
      "execution_count": 0,
      "outputs": [
        {
          "output_type": "execute_result",
          "data": {
            "text/plain": [
              "Text(0.5, 1.0, 'average math scores')"
            ]
          },
          "metadata": {
            "tags": []
          },
          "execution_count": 5
        },
        {
          "output_type": "display_data",
          "data": {
            "image/png": "[encoded data removed]",
            "text/plain": [
              "<Figure size 432x288 with 1 Axes>"
            ]
          },
          "metadata": {
            "tags": []
          }
        }
      ]
    },
    {
      "cell_type": "markdown",
      "metadata": {
        "id": "d0HHjE94PLbC",
        "colab_type": "text"
      },
      "source": [
        "The above is our probability density function."
      ]
    },
    {
      "cell_type": "markdown",
      "metadata": {
        "id": "9WTCTOGrPLbC",
        "colab_type": "text"
      },
      "source": [
        "Now, one problem with the above, is that we don't really *believe* the probability density function above.  After all, do we really believe that $P(X = 340) = 0$, as displayed above?  Probably not."
      ]
    },
    {
      "cell_type": "markdown",
      "metadata": {
        "id": "GN1pn_hBPLbD",
        "colab_type": "text"
      },
      "source": [
        "Instead, we **use our sample to create a model of the distribution**.  We do so with one of some predefined distributions.  For the data above, it looks like the normal distribution can do a pretty good job."
      ]
    },
    {
      "cell_type": "markdown",
      "metadata": {
        "id": "CVofyLaQPLbE",
        "colab_type": "text"
      },
      "source": [
        "<img src=\"https://github.com/jigsawlabs-student/modeling-distributions/blob/master/normal-dist.png?raw=1\" width=\"60%\">"
      ]
    },
    {
      "cell_type": "markdown",
      "metadata": {
        "id": "3TNyUZXTPLbE",
        "colab_type": "text"
      },
      "source": [
        "You may have seen the normal distribution before.  The normal distribution is the bell curve.  It's symmetric about the mean and it's PDF returns smaller and smaller probabilities the further it gets from the mean.  We can plot it using scipy like so."
      ]
    },
    {
      "cell_type": "code",
      "metadata": {
        "id": "0Mr93GSiPLbE",
        "colab_type": "code",
        "colab": {}
      },
      "source": [
        "import scipy.stats as stats\n",
        "import numpy as np\n",
        "norm_dist = stats.norm()"
      ],
      "execution_count": 0,
      "outputs": []
    },
    {
      "cell_type": "markdown",
      "metadata": {
        "id": "_HB9XVFaPLbG",
        "colab_type": "text"
      },
      "source": [
        "First we initialize a model of the normal distribution."
      ]
    },
    {
      "cell_type": "markdown",
      "metadata": {
        "id": "8uL4rwa-PLbH",
        "colab_type": "text"
      },
      "source": [
        "Then we can find what value is that one percentile like so."
      ]
    },
    {
      "cell_type": "code",
      "metadata": {
        "id": "Op5eZnZhPLbH",
        "colab_type": "code",
        "outputId": "31bd9567-a5eb-4211-e559-5f6d3973937e",
        "colab": {
          "base_uri": "https://localhost:8080/",
          "height": 34
        }
      },
      "source": [
        "norm_dist.ppf(0.01)"
      ],
      "execution_count": 0,
      "outputs": [
        {
          "output_type": "execute_result",
          "data": {
            "text/plain": [
              "-2.3263478740408408"
            ]
          },
          "metadata": {
            "tags": []
          },
          "execution_count": 7
        }
      ]
    },
    {
      "cell_type": "markdown",
      "metadata": {
        "id": "J5CqBBy4PLbJ",
        "colab_type": "text"
      },
      "source": [
        "Or the 99th percentile."
      ]
    },
    {
      "cell_type": "code",
      "metadata": {
        "id": "H_Wu_P9vPLbK",
        "colab_type": "code",
        "outputId": "b8a6a5ca-0278-4247-82c8-1717818f4026",
        "colab": {
          "base_uri": "https://localhost:8080/",
          "height": 34
        }
      },
      "source": [
        "norm_dist.ppf(0.99)"
      ],
      "execution_count": 0,
      "outputs": [
        {
          "output_type": "execute_result",
          "data": {
            "text/plain": [
              "2.3263478740408408"
            ]
          },
          "metadata": {
            "tags": []
          },
          "execution_count": 8
        }
      ]
    },
    {
      "cell_type": "markdown",
      "metadata": {
        "id": "85amkHpfPLbO",
        "colab_type": "text"
      },
      "source": [
        "And for any value of $x$ we can use the pdf function to find the probability that the value occurs."
      ]
    },
    {
      "cell_type": "code",
      "metadata": {
        "id": "ZZwWJEBtPLbO",
        "colab_type": "code",
        "outputId": "2f40df2c-a04c-440c-d42f-53ca8d78ceae",
        "colab": {
          "base_uri": "https://localhost:8080/",
          "height": 34
        }
      },
      "source": [
        "norm_dist.pdf(1)"
      ],
      "execution_count": 0,
      "outputs": [
        {
          "output_type": "execute_result",
          "data": {
            "text/plain": [
              "0.24197072451914337"
            ]
          },
          "metadata": {
            "tags": []
          },
          "execution_count": 9
        }
      ]
    },
    {
      "cell_type": "markdown",
      "metadata": {
        "id": "zY31bLcbPLbR",
        "colab_type": "text"
      },
      "source": [
        "So we create a range of 100 values between our one percentile, and 99th percentile."
      ]
    },
    {
      "cell_type": "code",
      "metadata": {
        "id": "djq3o3BuPLbR",
        "colab_type": "code",
        "colab": {}
      },
      "source": [
        "x = np.linspace(norm_dist.ppf(0.01), norm_dist.ppf(0.99), 100)"
      ],
      "execution_count": 0,
      "outputs": []
    },
    {
      "cell_type": "markdown",
      "metadata": {
        "id": "eEYIh81kPLbU",
        "colab_type": "text"
      },
      "source": [
        "And then we find the corresponding probabilities for each value."
      ]
    },
    {
      "cell_type": "code",
      "metadata": {
        "id": "gpsAlJiTPLbU",
        "colab_type": "code",
        "colab": {}
      },
      "source": [
        "pdf_nums_norm = norm_dist.pdf(x)"
      ],
      "execution_count": 0,
      "outputs": []
    },
    {
      "cell_type": "code",
      "metadata": {
        "id": "6kreGTybPLbW",
        "colab_type": "code",
        "outputId": "a73f6449-113b-467e-d873-a0540f48a0d5",
        "colab": {
          "base_uri": "https://localhost:8080/",
          "height": 51
        }
      },
      "source": [
        "x[:4], pdf_nums_norm[:4]"
      ],
      "execution_count": 0,
      "outputs": [
        {
          "output_type": "execute_result",
          "data": {
            "text/plain": [
              "(array([-2.32634787, -2.27935095, -2.23235402, -2.18535709]),\n",
              " array([0.02665214, 0.0296985 , 0.03302004, 0.03663206]))"
            ]
          },
          "metadata": {
            "tags": []
          },
          "execution_count": 12
        }
      ]
    },
    {
      "cell_type": "markdown",
      "metadata": {
        "id": "2XxMZDp1PLbY",
        "colab_type": "text"
      },
      "source": [
        "Then we can plot our x values and corresponding probabilities to plot a pdf of the normal distribution."
      ]
    },
    {
      "cell_type": "code",
      "metadata": {
        "id": "dmiIdlQvPLbZ",
        "colab_type": "code",
        "outputId": "0995f93a-24e3-48ba-e0cd-85e990c83eaf",
        "colab": {
          "base_uri": "https://localhost:8080/",
          "height": 298
        }
      },
      "source": [
        "from scipy.stats import norm\n",
        "import matplotlib.pyplot as plt\n",
        "fig = plt.figure()\n",
        "ax = fig.add_subplot(111)\n",
        "ax.plot(x, pdf_nums_norm,\n",
        "'r-', lw=5, alpha=0.6, label='norm pdf')\n",
        "ax.set(title = 'normal distribution')"
      ],
      "execution_count": 0,
      "outputs": [
        {
          "output_type": "execute_result",
          "data": {
            "text/plain": [
              "[Text(0.5, 1.0, 'normal distribution')]"
            ]
          },
          "metadata": {
            "tags": []
          },
          "execution_count": 13
        },
        {
          "output_type": "display_data",
          "data": {
            "image/png": "[encoded data removed]",
            "text/plain": [
              "<Figure size 432x288 with 1 Axes>"
            ]
          },
          "metadata": {
            "tags": []
          }
        }
      ]
    },
    {
      "cell_type": "markdown",
      "metadata": {
        "id": "LSpxJb0mPLbb",
        "colab_type": "text"
      },
      "source": [
        "So above is the above is the standard normal distribution.  The standard normal distribution has a mean of 0, and a standard deviation of 1."
      ]
    },
    {
      "cell_type": "markdown",
      "metadata": {
        "id": "WrcjnzJKPLbb",
        "colab_type": "text"
      },
      "source": [
        "### From sample to model"
      ]
    },
    {
      "cell_type": "markdown",
      "metadata": {
        "id": "mKjOLs3rPLbb",
        "colab_type": "text"
      },
      "source": [
        "Now let's use the normal distribution to model distribution of math scores among NYC schools.  To do so, we'll want to create a normal distribution, with the same location and spread in our NYC school sample."
      ]
    },
    {
      "cell_type": "code",
      "metadata": {
        "id": "5vfHfnfmPLbc",
        "colab_type": "code",
        "outputId": "b3bb49ca-7570-4c43-f81f-3374a3eab9f6",
        "colab": {
          "base_uri": "https://localhost:8080/",
          "height": 34
        }
      },
      "source": [
        "df['Mean Scale Score'].mean()"
      ],
      "execution_count": 0,
      "outputs": [
        {
          "output_type": "execute_result",
          "data": {
            "text/plain": [
              "290.72281449893393"
            ]
          },
          "metadata": {
            "tags": []
          },
          "execution_count": 14
        }
      ]
    },
    {
      "cell_type": "code",
      "metadata": {
        "id": "t0xw8IG2PLbe",
        "colab_type": "code",
        "outputId": "c7803d3d-0be9-4449-9f51-d040a65f12a8",
        "colab": {
          "base_uri": "https://localhost:8080/",
          "height": 34
        }
      },
      "source": [
        "df['Mean Scale Score'].std()"
      ],
      "execution_count": 0,
      "outputs": [
        {
          "output_type": "execute_result",
          "data": {
            "text/plain": [
              "20.553659493078015"
            ]
          },
          "metadata": {
            "tags": []
          },
          "execution_count": 15
        }
      ]
    },
    {
      "cell_type": "markdown",
      "metadata": {
        "id": "WRu9z7ggPLbg",
        "colab_type": "text"
      },
      "source": [
        "Now we can create initialize a normal distribution with these same parameters."
      ]
    },
    {
      "cell_type": "code",
      "metadata": {
        "id": "ll5NzVvePLbg",
        "colab_type": "code",
        "colab": {}
      },
      "source": [
        "school_scores_norm = stats.norm(df['Mean Scale Score'].mean(), df['Mean Scale Score'].std())"
      ],
      "execution_count": 0,
      "outputs": []
    },
    {
      "cell_type": "markdown",
      "metadata": {
        "id": "7D_O4LPhPLbj",
        "colab_type": "text"
      },
      "source": [
        "And then plot this distribution like so."
      ]
    },
    {
      "cell_type": "code",
      "metadata": {
        "id": "0LeFVaCnPLbj",
        "colab_type": "code",
        "colab": {}
      },
      "source": [
        "x_schools = np.linspace(school_scores_norm.ppf(0.001), school_scores_norm.ppf(0.999), 100)\n",
        "school_scores_norm = school_scores_norm.pdf(x_schools)"
      ],
      "execution_count": 0,
      "outputs": []
    },
    {
      "cell_type": "code",
      "metadata": {
        "id": "-7OLMBMuPLbl",
        "colab_type": "code",
        "outputId": "5934f368-9890-46a6-bea7-5b7a09e87493",
        "colab": {
          "base_uri": "https://localhost:8080/",
          "height": 282
        }
      },
      "source": [
        "from scipy.stats import norm\n",
        "import matplotlib.pyplot as plt\n",
        "fig_schools = plt.figure()\n",
        "ax_schools = fig_schools.add_subplot(111)\n",
        "ax_schools = avg_score.hist(density = True)\n",
        "\n",
        "ax_schools.plot(x_schools, school_scores_norm,\n",
        "'r-', lw=5, alpha=0.6, label='norm pdf')"
      ],
      "execution_count": 0,
      "outputs": [
        {
          "output_type": "execute_result",
          "data": {
            "text/plain": [
              "[<matplotlib.lines.Line2D at 0x7f8f3dbad630>]"
            ]
          },
          "metadata": {
            "tags": []
          },
          "execution_count": 18
        },
        {
          "output_type": "display_data",
          "data": {
            "image/png": "[encoded data removed]",
            "text/plain": [
              "<Figure size 432x288 with 1 Axes>"
            ]
          },
          "metadata": {
            "tags": []
          }
        }
      ]
    },
    {
      "cell_type": "markdown",
      "metadata": {
        "id": "S3MlBzsIPLbn",
        "colab_type": "text"
      },
      "source": [
        "This looks *pretty* good."
      ]
    },
    {
      "cell_type": "markdown",
      "metadata": {
        "id": "SkfH680HPLbn",
        "colab_type": "text"
      },
      "source": [
        "> Notice that we have this `schools_score_norm`, is also what we get with the `stats.norm.fit` function. "
      ]
    },
    {
      "cell_type": "code",
      "metadata": {
        "id": "4j7NG6zwPLbn",
        "colab_type": "code",
        "outputId": "7b387cd4-f171-455e-e3ac-43c32d65f565",
        "colab": {
          "base_uri": "https://localhost:8080/",
          "height": 34
        }
      },
      "source": [
        "stats.norm.fit(df['Mean Scale Score'].dropna())"
      ],
      "execution_count": 0,
      "outputs": [
        {
          "output_type": "execute_result",
          "data": {
            "text/plain": [
              "(290.72281449893393, 20.531735583379273)"
            ]
          },
          "metadata": {
            "tags": []
          },
          "execution_count": 26
        }
      ]
    },
    {
      "cell_type": "markdown",
      "metadata": {
        "id": "Od2xbVo-PLbp",
        "colab_type": "text"
      },
      "source": [
        "Ok, now *instead of using our sample, we can use this model*."
      ]
    },
    {
      "cell_type": "markdown",
      "metadata": {
        "id": "kQ_aK1CaPLbq",
        "colab_type": "text"
      },
      "source": [
        "For example, let's see the likelihood that a school has a score **that equals 310**."
      ]
    },
    {
      "cell_type": "code",
      "metadata": {
        "id": "48gUfN7dPLbq",
        "colab_type": "code",
        "outputId": "fd6da3bd-dfda-488d-9938-97740c7ca978",
        "colab": {
          "base_uri": "https://localhost:8080/",
          "height": 34
        }
      },
      "source": [
        "school_scores_norm.pdf(310)"
      ],
      "execution_count": 0,
      "outputs": [
        {
          "output_type": "execute_result",
          "data": {
            "text/plain": [
              "0.012502813816575269"
            ]
          },
          "metadata": {
            "tags": []
          },
          "execution_count": 29
        }
      ]
    },
    {
      "cell_type": "markdown",
      "metadata": {
        "id": "CRrzx5B_PLbs",
        "colab_type": "text"
      },
      "source": [
        "> So we use the `pdf` function to find the corresponding value."
      ]
    },
    {
      "cell_type": "markdown",
      "metadata": {
        "id": "Rg0D4AvpPLbt",
        "colab_type": "text"
      },
      "source": [
        "And what about the probability that a school has less than 310."
      ]
    },
    {
      "cell_type": "code",
      "metadata": {
        "id": "jNFOOarKPLbt",
        "colab_type": "code",
        "outputId": "3ffc52f9-626c-4d11-a589-7ca64daeb047",
        "colab": {
          "base_uri": "https://localhost:8080/",
          "height": 34
        }
      },
      "source": [
        "school_scores_norm.cdf(310)"
      ],
      "execution_count": 0,
      "outputs": [
        {
          "output_type": "execute_result",
          "data": {
            "text/plain": [
              "0.8258509514271425"
            ]
          },
          "metadata": {
            "tags": []
          },
          "execution_count": 30
        }
      ]
    },
    {
      "cell_type": "markdown",
      "metadata": {
        "id": "lCrfrQSnPLbv",
        "colab_type": "text"
      },
      "source": [
        "So there is a $.82$ probability that a school's score is less than 310."
      ]
    },
    {
      "cell_type": "markdown",
      "metadata": {
        "id": "MKQpbJutPLbw",
        "colab_type": "text"
      },
      "source": [
        "Let's compare this with our actual values in our population."
      ]
    },
    {
      "cell_type": "code",
      "metadata": {
        "id": "8usscoF3PLbw",
        "colab_type": "code",
        "outputId": "1c3d0274-e763-4443-b381-0297d8279c41",
        "colab": {
          "base_uri": "https://localhost:8080/",
          "height": 34
        }
      },
      "source": [
        "df['Mean Scale Score'].value_counts(normalize = True).loc[:310].sum()"
      ],
      "execution_count": 0,
      "outputs": [
        {
          "output_type": "execute_result",
          "data": {
            "text/plain": [
              "0.8656716417910448"
            ]
          },
          "metadata": {
            "tags": []
          },
          "execution_count": 31
        }
      ]
    },
    {
      "cell_type": "markdown",
      "metadata": {
        "id": "Bpj_hM8BPLby",
        "colab_type": "text"
      },
      "source": [
        "Pretty close."
      ]
    },
    {
      "cell_type": "markdown",
      "metadata": {
        "id": "2gyY9xNjPLby",
        "colab_type": "text"
      },
      "source": [
        "### Summary"
      ]
    },
    {
      "cell_type": "markdown",
      "metadata": {
        "id": "fjs_ZwoOPLbz",
        "colab_type": "text"
      },
      "source": [
        "In this lesson, we saw how to go from a sample distribution to then modeling that distribution.  So far we have used the normal distribution to model our the distribution of our population.  Then, we saw that we can use the distribution's probability density function to "
      ]
    },
    {
      "cell_type": "markdown",
      "metadata": {
        "id": "7RMB23GQPLb0",
        "colab_type": "text"
      },
      "source": [
        "### Resources"
      ]
    },
    {
      "cell_type": "markdown",
      "metadata": {
        "id": "PjXVeb6XPLb0",
        "colab_type": "text"
      },
      "source": [
        "[Distributions Overview](http://people.stern.nyu.edu/adamodar/New_Home_Page/StatFile/statdistns.htm)"
      ]
    }
  ]
}