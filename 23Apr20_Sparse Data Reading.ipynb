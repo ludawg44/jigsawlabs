{
  "nbformat": 4,
  "nbformat_minor": 0,
  "metadata": {
    "kernelspec": {
      "display_name": "Python 3",
      "language": "python",
      "name": "python3"
    },
    "language_info": {
      "codemirror_mode": {
        "name": "ipython",
        "version": 3
      },
      "file_extension": ".py",
      "mimetype": "text/x-python",
      "name": "python",
      "nbconvert_exporter": "python",
      "pygments_lexer": "ipython3",
      "version": "3.7.4"
    },
    "colab": {
      "name": "index.ipynb",
      "provenance": [],
      "include_colab_link": true
    }
  },
  "cells": [
    {
      "cell_type": "markdown",
      "metadata": {
        "id": "view-in-github",
        "colab_type": "text"
      },
      "source": [
        "<a href=\"https://colab.research.google.com/github/ludawg44/jigsawlabs/blob/master/23Apr20_Sparse%20Data%20Reading.ipynb\" target=\"_parent\"><img src=\"https://colab.research.google.com/assets/colab-badge.svg\" alt=\"Open In Colab\"/></a>"
      ]
    },
    {
      "cell_type": "markdown",
      "metadata": {
        "id": "7woBIJJBZQ9h",
        "colab_type": "text"
      },
      "source": [
        "# Sparse Data"
      ]
    },
    {
      "cell_type": "markdown",
      "metadata": {
        "id": "HYTwE-M9ZQ9i",
        "colab_type": "text"
      },
      "source": [
        "### Introduction"
      ]
    },
    {
      "cell_type": "markdown",
      "metadata": {
        "id": "ut8iFoADZQ9i",
        "colab_type": "text"
      },
      "source": [
        "We saw that we can represent categorical features numerically, through one hot encoding.  This creates a separate column for each value in a category, and has us indicate whether that value is present.\n",
        "\n",
        "Unfortunately, if we have some values that show up just a couple of times, this can lead us to create new columns that add little value.  We'll see how we can correct for this in this lesson."
      ]
    },
    {
      "cell_type": "markdown",
      "metadata": {
        "id": "dcPprnNSZQ9j",
        "colab_type": "text"
      },
      "source": [
        "### Loading the Data"
      ]
    },
    {
      "cell_type": "markdown",
      "metadata": {
        "id": "kWSOCmIaZQ9k",
        "colab_type": "text"
      },
      "source": [
        "Let's begin by loading data of new york city restaurants."
      ]
    },
    {
      "cell_type": "code",
      "metadata": {
        "id": "QdiY-WCnZQ9k",
        "colab_type": "code",
        "colab": {}
      },
      "source": [
        "import pandas as pd \n",
        "url_yelp = \"https://raw.githubusercontent.com/jigsawlabs-student/feature-engineering/master/9-sparse-categories-yelp/yelp-lunch-nyc.csv\"\n",
        "\n",
        "df = pd.read_csv(url_yelp)"
      ],
      "execution_count": 0,
      "outputs": []
    },
    {
      "cell_type": "code",
      "metadata": {
        "id": "y9B46ju8ZQ9n",
        "colab_type": "code",
        "outputId": "0c81a86e-04f0-446b-ae2f-9843178a6dad",
        "colab": {
          "base_uri": "https://localhost:8080/",
          "height": 111
        }
      },
      "source": [
        "df[:2]"
      ],
      "execution_count": 0,
      "outputs": [
        {
          "output_type": "execute_result",
          "data": {
            "text/html": [
              "<div>\n",
              "<style scoped>\n",
              "    .dataframe tbody tr th:only-of-type {\n",
              "        vertical-align: middle;\n",
              "    }\n",
              "\n",
              "    .dataframe tbody tr th {\n",
              "        vertical-align: top;\n",
              "    }\n",
              "\n",
              "    .dataframe thead th {\n",
              "        text-align: right;\n",
              "    }\n",
              "</style>\n",
              "<table border=\"1\" class=\"dataframe\">\n",
              "  <thead>\n",
              "    <tr style=\"text-align: right;\">\n",
              "      <th></th>\n",
              "      <th>Name</th>\n",
              "      <th>Address</th>\n",
              "      <th>City</th>\n",
              "      <th>Category</th>\n",
              "      <th>Rating</th>\n",
              "      <th>URL</th>\n",
              "    </tr>\n",
              "  </thead>\n",
              "  <tbody>\n",
              "    <tr>\n",
              "      <th>0</th>\n",
              "      <td>Rambling House</td>\n",
              "      <td>4292 Katonah Ave</td>\n",
              "      <td>Bronx</td>\n",
              "      <td>Pubs</td>\n",
              "      <td>4.0</td>\n",
              "      <td>http://www.yelp.com/biz/rambling-house-bronx</td>\n",
              "    </tr>\n",
              "    <tr>\n",
              "      <th>1</th>\n",
              "      <td>Curry Spot</td>\n",
              "      <td>4268 Katonah Ave</td>\n",
              "      <td>Bronx</td>\n",
              "      <td>Indian</td>\n",
              "      <td>4.0</td>\n",
              "      <td>http://www.yelp.com/biz/curry-spot-bronx</td>\n",
              "    </tr>\n",
              "  </tbody>\n",
              "</table>\n",
              "</div>"
            ],
            "text/plain": [
              "             Name  ...                                           URL\n",
              "0  Rambling House  ...  http://www.yelp.com/biz/rambling-house-bronx\n",
              "1      Curry Spot  ...      http://www.yelp.com/biz/curry-spot-bronx\n",
              "\n",
              "[2 rows x 6 columns]"
            ]
          },
          "metadata": {
            "tags": []
          },
          "execution_count": 24
        }
      ]
    },
    {
      "cell_type": "markdown",
      "metadata": {
        "id": "H4nE-eSIZQ9r",
        "colab_type": "text"
      },
      "source": [
        "Now we can imagine that columns like `City`, `Category`, and `Rating` would be good features to predict something like restaurant revenue.  "
      ]
    },
    {
      "cell_type": "markdown",
      "metadata": {
        "id": "zMEuaGVrZQ9s",
        "colab_type": "text"
      },
      "source": [
        "### Applying One Hot Encoding"
      ]
    },
    {
      "cell_type": "markdown",
      "metadata": {
        "id": "04i2uu2kZQ9s",
        "colab_type": "text"
      },
      "source": [
        "Let's see what happens if we one hot encode our city data."
      ]
    },
    {
      "cell_type": "code",
      "metadata": {
        "id": "RfIMQA3CZQ9t",
        "colab_type": "code",
        "outputId": "3b1eee23-27bc-4aa3-fc34-09d52900f4e2",
        "colab": {
          "base_uri": "https://localhost:8080/",
          "height": 225
        }
      },
      "source": [
        "cities_df = pd.get_dummies(df['City'], drop_first = True)\n",
        "cities_df[:3]"
      ],
      "execution_count": 0,
      "outputs": [
        {
          "output_type": "execute_result",
          "data": {
            "text/html": [
              "<div>\n",
              "<style scoped>\n",
              "    .dataframe tbody tr th:only-of-type {\n",
              "        vertical-align: middle;\n",
              "    }\n",
              "\n",
              "    .dataframe tbody tr th {\n",
              "        vertical-align: top;\n",
              "    }\n",
              "\n",
              "    .dataframe thead th {\n",
              "        text-align: right;\n",
              "    }\n",
              "</style>\n",
              "<table border=\"1\" class=\"dataframe\">\n",
              "  <thead>\n",
              "    <tr style=\"text-align: right;\">\n",
              "      <th></th>\n",
              "      <th>Astoria</th>\n",
              "      <th>Bayonne</th>\n",
              "      <th>Bayside</th>\n",
              "      <th>Belle Harbor</th>\n",
              "      <th>Bellerose</th>\n",
              "      <th>Breezy Point</th>\n",
              "      <th>Briarwood</th>\n",
              "      <th>Broad Channel</th>\n",
              "      <th>Bronx</th>\n",
              "      <th>Brooklyn</th>\n",
              "      <th>Cambria Heights</th>\n",
              "      <th>Cedarhurst</th>\n",
              "      <th>Clifton</th>\n",
              "      <th>College Point</th>\n",
              "      <th>Coney Island</th>\n",
              "      <th>Corona</th>\n",
              "      <th>Douglaston</th>\n",
              "      <th>East Elmhurst</th>\n",
              "      <th>Edgewater</th>\n",
              "      <th>Elizabeth</th>\n",
              "      <th>Elmhurst</th>\n",
              "      <th>Elmont</th>\n",
              "      <th>Englewood</th>\n",
              "      <th>Englewood Cliffs</th>\n",
              "      <th>Far Rockaway</th>\n",
              "      <th>Financial District</th>\n",
              "      <th>Floral Park</th>\n",
              "      <th>Flushing</th>\n",
              "      <th>Forest Hills</th>\n",
              "      <th>Fort Lee</th>\n",
              "      <th>Fresh Meadow</th>\n",
              "      <th>Fresh Meadows</th>\n",
              "      <th>Glen Oaks</th>\n",
              "      <th>Glendale</th>\n",
              "      <th>Great Neck</th>\n",
              "      <th>Harlem</th>\n",
              "      <th>Hewlett</th>\n",
              "      <th>Hollis</th>\n",
              "      <th>Howard Beach</th>\n",
              "      <th>Inwood</th>\n",
              "      <th>...</th>\n",
              "      <th>Little Neck</th>\n",
              "      <th>Long Beach</th>\n",
              "      <th>Long Island City</th>\n",
              "      <th>Lynbrook</th>\n",
              "      <th>MIddle Village</th>\n",
              "      <th>Manhattan</th>\n",
              "      <th>Maspeth</th>\n",
              "      <th>Middle Village</th>\n",
              "      <th>Mount Vernon</th>\n",
              "      <th>New Hyde Park</th>\n",
              "      <th>New York</th>\n",
              "      <th>Newark</th>\n",
              "      <th>Oakland Gardens</th>\n",
              "      <th>Ozone Park</th>\n",
              "      <th>Pelham Manor</th>\n",
              "      <th>Perth Amboy</th>\n",
              "      <th>Port Reading</th>\n",
              "      <th>Queens</th>\n",
              "      <th>Queens Village</th>\n",
              "      <th>Rego Park</th>\n",
              "      <th>Richmond Hill</th>\n",
              "      <th>Ridgewood</th>\n",
              "      <th>Rockaway</th>\n",
              "      <th>Rockaway Beach</th>\n",
              "      <th>Rockaway Park</th>\n",
              "      <th>Rosedale</th>\n",
              "      <th>South Amboy</th>\n",
              "      <th>South Ozone Park</th>\n",
              "      <th>South Richmond Hill</th>\n",
              "      <th>Springfield Gardens</th>\n",
              "      <th>Staten Island</th>\n",
              "      <th>Staten Island NY</th>\n",
              "      <th>Sunnyside</th>\n",
              "      <th>Valley Stream</th>\n",
              "      <th>Whitestone</th>\n",
              "      <th>Woodbridge</th>\n",
              "      <th>Woodhaven</th>\n",
              "      <th>Woodmere</th>\n",
              "      <th>Woodside</th>\n",
              "      <th>Yonkers</th>\n",
              "    </tr>\n",
              "  </thead>\n",
              "  <tbody>\n",
              "    <tr>\n",
              "      <th>0</th>\n",
              "      <td>0</td>\n",
              "      <td>0</td>\n",
              "      <td>0</td>\n",
              "      <td>0</td>\n",
              "      <td>0</td>\n",
              "      <td>0</td>\n",
              "      <td>0</td>\n",
              "      <td>0</td>\n",
              "      <td>1</td>\n",
              "      <td>0</td>\n",
              "      <td>0</td>\n",
              "      <td>0</td>\n",
              "      <td>0</td>\n",
              "      <td>0</td>\n",
              "      <td>0</td>\n",
              "      <td>0</td>\n",
              "      <td>0</td>\n",
              "      <td>0</td>\n",
              "      <td>0</td>\n",
              "      <td>0</td>\n",
              "      <td>0</td>\n",
              "      <td>0</td>\n",
              "      <td>0</td>\n",
              "      <td>0</td>\n",
              "      <td>0</td>\n",
              "      <td>0</td>\n",
              "      <td>0</td>\n",
              "      <td>0</td>\n",
              "      <td>0</td>\n",
              "      <td>0</td>\n",
              "      <td>0</td>\n",
              "      <td>0</td>\n",
              "      <td>0</td>\n",
              "      <td>0</td>\n",
              "      <td>0</td>\n",
              "      <td>0</td>\n",
              "      <td>0</td>\n",
              "      <td>0</td>\n",
              "      <td>0</td>\n",
              "      <td>0</td>\n",
              "      <td>...</td>\n",
              "      <td>0</td>\n",
              "      <td>0</td>\n",
              "      <td>0</td>\n",
              "      <td>0</td>\n",
              "      <td>0</td>\n",
              "      <td>0</td>\n",
              "      <td>0</td>\n",
              "      <td>0</td>\n",
              "      <td>0</td>\n",
              "      <td>0</td>\n",
              "      <td>0</td>\n",
              "      <td>0</td>\n",
              "      <td>0</td>\n",
              "      <td>0</td>\n",
              "      <td>0</td>\n",
              "      <td>0</td>\n",
              "      <td>0</td>\n",
              "      <td>0</td>\n",
              "      <td>0</td>\n",
              "      <td>0</td>\n",
              "      <td>0</td>\n",
              "      <td>0</td>\n",
              "      <td>0</td>\n",
              "      <td>0</td>\n",
              "      <td>0</td>\n",
              "      <td>0</td>\n",
              "      <td>0</td>\n",
              "      <td>0</td>\n",
              "      <td>0</td>\n",
              "      <td>0</td>\n",
              "      <td>0</td>\n",
              "      <td>0</td>\n",
              "      <td>0</td>\n",
              "      <td>0</td>\n",
              "      <td>0</td>\n",
              "      <td>0</td>\n",
              "      <td>0</td>\n",
              "      <td>0</td>\n",
              "      <td>0</td>\n",
              "      <td>0</td>\n",
              "    </tr>\n",
              "    <tr>\n",
              "      <th>1</th>\n",
              "      <td>0</td>\n",
              "      <td>0</td>\n",
              "      <td>0</td>\n",
              "      <td>0</td>\n",
              "      <td>0</td>\n",
              "      <td>0</td>\n",
              "      <td>0</td>\n",
              "      <td>0</td>\n",
              "      <td>1</td>\n",
              "      <td>0</td>\n",
              "      <td>0</td>\n",
              "      <td>0</td>\n",
              "      <td>0</td>\n",
              "      <td>0</td>\n",
              "      <td>0</td>\n",
              "      <td>0</td>\n",
              "      <td>0</td>\n",
              "      <td>0</td>\n",
              "      <td>0</td>\n",
              "      <td>0</td>\n",
              "      <td>0</td>\n",
              "      <td>0</td>\n",
              "      <td>0</td>\n",
              "      <td>0</td>\n",
              "      <td>0</td>\n",
              "      <td>0</td>\n",
              "      <td>0</td>\n",
              "      <td>0</td>\n",
              "      <td>0</td>\n",
              "      <td>0</td>\n",
              "      <td>0</td>\n",
              "      <td>0</td>\n",
              "      <td>0</td>\n",
              "      <td>0</td>\n",
              "      <td>0</td>\n",
              "      <td>0</td>\n",
              "      <td>0</td>\n",
              "      <td>0</td>\n",
              "      <td>0</td>\n",
              "      <td>0</td>\n",
              "      <td>...</td>\n",
              "      <td>0</td>\n",
              "      <td>0</td>\n",
              "      <td>0</td>\n",
              "      <td>0</td>\n",
              "      <td>0</td>\n",
              "      <td>0</td>\n",
              "      <td>0</td>\n",
              "      <td>0</td>\n",
              "      <td>0</td>\n",
              "      <td>0</td>\n",
              "      <td>0</td>\n",
              "      <td>0</td>\n",
              "      <td>0</td>\n",
              "      <td>0</td>\n",
              "      <td>0</td>\n",
              "      <td>0</td>\n",
              "      <td>0</td>\n",
              "      <td>0</td>\n",
              "      <td>0</td>\n",
              "      <td>0</td>\n",
              "      <td>0</td>\n",
              "      <td>0</td>\n",
              "      <td>0</td>\n",
              "      <td>0</td>\n",
              "      <td>0</td>\n",
              "      <td>0</td>\n",
              "      <td>0</td>\n",
              "      <td>0</td>\n",
              "      <td>0</td>\n",
              "      <td>0</td>\n",
              "      <td>0</td>\n",
              "      <td>0</td>\n",
              "      <td>0</td>\n",
              "      <td>0</td>\n",
              "      <td>0</td>\n",
              "      <td>0</td>\n",
              "      <td>0</td>\n",
              "      <td>0</td>\n",
              "      <td>0</td>\n",
              "      <td>0</td>\n",
              "    </tr>\n",
              "    <tr>\n",
              "      <th>2</th>\n",
              "      <td>0</td>\n",
              "      <td>0</td>\n",
              "      <td>0</td>\n",
              "      <td>0</td>\n",
              "      <td>0</td>\n",
              "      <td>0</td>\n",
              "      <td>0</td>\n",
              "      <td>0</td>\n",
              "      <td>0</td>\n",
              "      <td>0</td>\n",
              "      <td>0</td>\n",
              "      <td>0</td>\n",
              "      <td>0</td>\n",
              "      <td>0</td>\n",
              "      <td>0</td>\n",
              "      <td>0</td>\n",
              "      <td>0</td>\n",
              "      <td>0</td>\n",
              "      <td>0</td>\n",
              "      <td>0</td>\n",
              "      <td>0</td>\n",
              "      <td>0</td>\n",
              "      <td>0</td>\n",
              "      <td>0</td>\n",
              "      <td>0</td>\n",
              "      <td>0</td>\n",
              "      <td>0</td>\n",
              "      <td>0</td>\n",
              "      <td>0</td>\n",
              "      <td>0</td>\n",
              "      <td>0</td>\n",
              "      <td>0</td>\n",
              "      <td>0</td>\n",
              "      <td>0</td>\n",
              "      <td>0</td>\n",
              "      <td>0</td>\n",
              "      <td>0</td>\n",
              "      <td>0</td>\n",
              "      <td>0</td>\n",
              "      <td>0</td>\n",
              "      <td>...</td>\n",
              "      <td>0</td>\n",
              "      <td>0</td>\n",
              "      <td>0</td>\n",
              "      <td>0</td>\n",
              "      <td>0</td>\n",
              "      <td>0</td>\n",
              "      <td>0</td>\n",
              "      <td>0</td>\n",
              "      <td>0</td>\n",
              "      <td>0</td>\n",
              "      <td>0</td>\n",
              "      <td>0</td>\n",
              "      <td>0</td>\n",
              "      <td>0</td>\n",
              "      <td>0</td>\n",
              "      <td>0</td>\n",
              "      <td>0</td>\n",
              "      <td>0</td>\n",
              "      <td>0</td>\n",
              "      <td>0</td>\n",
              "      <td>0</td>\n",
              "      <td>0</td>\n",
              "      <td>0</td>\n",
              "      <td>0</td>\n",
              "      <td>0</td>\n",
              "      <td>0</td>\n",
              "      <td>0</td>\n",
              "      <td>0</td>\n",
              "      <td>0</td>\n",
              "      <td>0</td>\n",
              "      <td>0</td>\n",
              "      <td>0</td>\n",
              "      <td>0</td>\n",
              "      <td>0</td>\n",
              "      <td>0</td>\n",
              "      <td>0</td>\n",
              "      <td>0</td>\n",
              "      <td>0</td>\n",
              "      <td>0</td>\n",
              "      <td>1</td>\n",
              "    </tr>\n",
              "  </tbody>\n",
              "</table>\n",
              "<p>3 rows × 84 columns</p>\n",
              "</div>"
            ],
            "text/plain": [
              "   Astoria  Bayonne  Bayside  ...  Woodmere  Woodside  Yonkers\n",
              "0        0        0        0  ...         0         0        0\n",
              "1        0        0        0  ...         0         0        0\n",
              "2        0        0        0  ...         0         0        1\n",
              "\n",
              "[3 rows x 84 columns]"
            ]
          },
          "metadata": {
            "tags": []
          },
          "execution_count": 25
        }
      ]
    },
    {
      "cell_type": "markdown",
      "metadata": {
        "id": "5BPa4sR5ZQ9w",
        "colab_type": "text"
      },
      "source": [
        "We can see that this single column has eighty four different categories."
      ]
    },
    {
      "cell_type": "code",
      "metadata": {
        "id": "WjvMDzesZQ9x",
        "colab_type": "code",
        "outputId": "eb5efefa-9125-4d2d-eaed-f36f3a9e3b78",
        "colab": {
          "base_uri": "https://localhost:8080/",
          "height": 34
        }
      },
      "source": [
        "cities_df.shape"
      ],
      "execution_count": 0,
      "outputs": [
        {
          "output_type": "execute_result",
          "data": {
            "text/plain": [
              "(5811, 84)"
            ]
          },
          "metadata": {
            "tags": []
          },
          "execution_count": 26
        }
      ]
    },
    {
      "cell_type": "markdown",
      "metadata": {
        "id": "5MdklaS_ZQ90",
        "colab_type": "text"
      },
      "source": [
        "As we know, the more features we add to our dataset, the more prone we are to overfitting to the randomness in our data.  What makes our feature engineering above even more problematic is that many of the columns only have a few positive values."
      ]
    },
    {
      "cell_type": "code",
      "metadata": {
        "id": "ftyQK606ZQ90",
        "colab_type": "code",
        "outputId": "78770bbe-36ac-4b73-cedc-6076cdb706d1",
        "colab": {
          "base_uri": "https://localhost:8080/",
          "height": 289
        }
      },
      "source": [
        "cities_df.sum().sort_values()[:15]"
      ],
      "execution_count": 0,
      "outputs": [
        {
          "output_type": "execute_result",
          "data": {
            "text/plain": [
              "Englewood             1\n",
              "Harlem                1\n",
              "Woodbridge            1\n",
              "Financial District    1\n",
              "Port Reading          1\n",
              "Coney Island          1\n",
              "Woodmere              1\n",
              "Long Beach            1\n",
              "Staten Island NY      2\n",
              "MIddle Village        2\n",
              "Cambria Heights       2\n",
              "Cedarhurst            2\n",
              "Inwood                2\n",
              "Mount Vernon          2\n",
              "Fort Lee              2\n",
              "dtype: int64"
            ]
          },
          "metadata": {
            "tags": []
          },
          "execution_count": 28
        }
      ]
    },
    {
      "cell_type": "markdown",
      "metadata": {
        "id": "LWimagt2ZQ93",
        "colab_type": "text"
      },
      "source": [
        "This means that if our model sees an error between what it predicts for the restaurant in Englewood and what is observed, it can make up that error by attributing the difference to the restaurant being in Englewood.  And then it can do the same for it's restaurant in Harlem, and so on."
      ]
    },
    {
      "cell_type": "markdown",
      "metadata": {
        "id": "cuDstaMlZQ93",
        "colab_type": "text"
      },
      "source": [
        "To correct for this, we can decide to one hot encode only a subset of the cities -- those with the most values, as this will prevent overfitting."
      ]
    },
    {
      "cell_type": "markdown",
      "metadata": {
        "id": "_vICwzN0ZQ94",
        "colab_type": "text"
      },
      "source": [
        "### Identifying the Key values"
      ]
    },
    {
      "cell_type": "markdown",
      "metadata": {
        "id": "VsR6Jzk_ZQ94",
        "colab_type": "text"
      },
      "source": [
        "To accomplish this, we can use `value_counts` to see which of the values occur most frequently, and group the infrequent values together as `Other`."
      ]
    },
    {
      "cell_type": "markdown",
      "metadata": {
        "id": "EYOQ9B8ZZQ95",
        "colab_type": "text"
      },
      "source": [
        "Let's take another look at our original data."
      ]
    },
    {
      "cell_type": "code",
      "metadata": {
        "id": "OPcMLiIJZQ95",
        "colab_type": "code",
        "outputId": "8245836e-48f1-42cf-98b9-93f1a4403027",
        "colab": {
          "base_uri": "https://localhost:8080/",
          "height": 193
        }
      },
      "source": [
        "df[:3]"
      ],
      "execution_count": 0,
      "outputs": [
        {
          "output_type": "execute_result",
          "data": {
            "text/html": [
              "<div>\n",
              "<style scoped>\n",
              "    .dataframe tbody tr th:only-of-type {\n",
              "        vertical-align: middle;\n",
              "    }\n",
              "\n",
              "    .dataframe tbody tr th {\n",
              "        vertical-align: top;\n",
              "    }\n",
              "\n",
              "    .dataframe thead th {\n",
              "        text-align: right;\n",
              "    }\n",
              "</style>\n",
              "<table border=\"1\" class=\"dataframe\">\n",
              "  <thead>\n",
              "    <tr style=\"text-align: right;\">\n",
              "      <th></th>\n",
              "      <th>Name</th>\n",
              "      <th>Address</th>\n",
              "      <th>City</th>\n",
              "      <th>Category</th>\n",
              "      <th>Rating</th>\n",
              "      <th>URL</th>\n",
              "    </tr>\n",
              "  </thead>\n",
              "  <tbody>\n",
              "    <tr>\n",
              "      <th>0</th>\n",
              "      <td>Rambling House</td>\n",
              "      <td>4292 Katonah Ave</td>\n",
              "      <td>Bronx</td>\n",
              "      <td>Pubs</td>\n",
              "      <td>4.0</td>\n",
              "      <td>http://www.yelp.com/biz/rambling-house-bronx</td>\n",
              "    </tr>\n",
              "    <tr>\n",
              "      <th>1</th>\n",
              "      <td>Curry Spot</td>\n",
              "      <td>4268 Katonah Ave</td>\n",
              "      <td>Bronx</td>\n",
              "      <td>Indian</td>\n",
              "      <td>4.0</td>\n",
              "      <td>http://www.yelp.com/biz/curry-spot-bronx</td>\n",
              "    </tr>\n",
              "    <tr>\n",
              "      <th>2</th>\n",
              "      <td>Eileens Country Kitchen</td>\n",
              "      <td>964 McLean Ave</td>\n",
              "      <td>Yonkers</td>\n",
              "      <td>American (Traditional)</td>\n",
              "      <td>3.5</td>\n",
              "      <td>http://www.yelp.com/biz/eileens-country-kitche...</td>\n",
              "    </tr>\n",
              "  </tbody>\n",
              "</table>\n",
              "</div>"
            ],
            "text/plain": [
              "                      Name  ...                                                URL\n",
              "0           Rambling House  ...       http://www.yelp.com/biz/rambling-house-bronx\n",
              "1               Curry Spot  ...           http://www.yelp.com/biz/curry-spot-bronx\n",
              "2  Eileens Country Kitchen  ...  http://www.yelp.com/biz/eileens-country-kitche...\n",
              "\n",
              "[3 rows x 6 columns]"
            ]
          },
          "metadata": {
            "tags": []
          },
          "execution_count": 30
        }
      ]
    },
    {
      "cell_type": "markdown",
      "metadata": {
        "id": "dNsp3GnxZQ98",
        "colab_type": "text"
      },
      "source": [
        "Now let's look at a distribution of our different cities."
      ]
    },
    {
      "cell_type": "code",
      "metadata": {
        "id": "rSEM8H0UZQ99",
        "colab_type": "code",
        "outputId": "e8b20c67-a5bb-4796-c8d2-81c6f2fd89bc",
        "colab": {
          "base_uri": "https://localhost:8080/",
          "height": 374
        }
      },
      "source": [
        "df['City'].value_counts(normalize = True)[:20]"
      ],
      "execution_count": 0,
      "outputs": [
        {
          "output_type": "execute_result",
          "data": {
            "text/plain": [
              "Brooklyn            0.220616\n",
              "New York            0.197728\n",
              "Staten Island       0.177938\n",
              "Bronx               0.140595\n",
              "Flushing            0.027706\n",
              "Jamaica             0.024953\n",
              "Forest Hills        0.016692\n",
              "Astoria             0.015832\n",
              "Bayside             0.012046\n",
              "Rockaway Park       0.010153\n",
              "Long Island City    0.009637\n",
              "Elmhurst            0.008260\n",
              "Howard Beach        0.007744\n",
              "Ridgewood           0.006883\n",
              "Whitestone          0.006539\n",
              "Valley Stream       0.005679\n",
              "Fresh Meadows       0.005507\n",
              "Rego Park           0.004991\n",
              "Glendale            0.004991\n",
              "Jackson Heights     0.004818\n",
              "Name: City, dtype: float64"
            ]
          },
          "metadata": {
            "tags": []
          },
          "execution_count": 31
        }
      ]
    },
    {
      "cell_type": "markdown",
      "metadata": {
        "id": "5b0G3Nm3ZQ9_",
        "colab_type": "text"
      },
      "source": [
        "As we can see from the above, once we get past Rockaway Park, subsequent values account for less than 1 percent of the data."
      ]
    },
    {
      "cell_type": "code",
      "metadata": {
        "id": "RiBpmWaYZQ9_",
        "colab_type": "code",
        "outputId": "e9bcd96e-387c-4fb4-a84c-1086afb59c02",
        "colab": {
          "base_uri": "https://localhost:8080/",
          "height": 204
        }
      },
      "source": [
        "city = df['City']\n",
        "city_val = city.value_counts(normalize = True)\n",
        "city_val[city_val > .01]"
      ],
      "execution_count": 0,
      "outputs": [
        {
          "output_type": "execute_result",
          "data": {
            "text/plain": [
              "Brooklyn         0.220616\n",
              "New York         0.197728\n",
              "Staten Island    0.177938\n",
              "Bronx            0.140595\n",
              "Flushing         0.027706\n",
              "Jamaica          0.024953\n",
              "Forest Hills     0.016692\n",
              "Astoria          0.015832\n",
              "Bayside          0.012046\n",
              "Rockaway Park    0.010153\n",
              "Name: City, dtype: float64"
            ]
          },
          "metadata": {
            "tags": []
          },
          "execution_count": 33
        }
      ]
    },
    {
      "cell_type": "code",
      "metadata": {
        "id": "GWNZ-UtTZQ-C",
        "colab_type": "code",
        "outputId": "c9889d8c-5549-48d1-f76b-967e081a6b4b",
        "colab": {
          "base_uri": "https://localhost:8080/",
          "height": 34
        }
      },
      "source": [
        "city_val[city_val > .01].sum()"
      ],
      "execution_count": 0,
      "outputs": [
        {
          "output_type": "execute_result",
          "data": {
            "text/plain": [
              "0.8442608845293408"
            ]
          },
          "metadata": {
            "tags": []
          },
          "execution_count": 34
        }
      ]
    },
    {
      "cell_type": "code",
      "metadata": {
        "id": "vRwcCkUwZQ-F",
        "colab_type": "code",
        "outputId": "4dd138de-baac-479e-fabd-5a48f365caca",
        "colab": {
          "base_uri": "https://localhost:8080/",
          "height": 34
        }
      },
      "source": [
        "city_val[city_val > .01].count()"
      ],
      "execution_count": 0,
      "outputs": [
        {
          "output_type": "execute_result",
          "data": {
            "text/plain": [
              "10"
            ]
          },
          "metadata": {
            "tags": []
          },
          "execution_count": 35
        }
      ]
    },
    {
      "cell_type": "markdown",
      "metadata": {
        "id": "nXsUaNi3ZQ-H",
        "colab_type": "text"
      },
      "source": [
        "But these top ten cities account for over $84$% of our data.  So let's replace the remaining data with Other."
      ]
    },
    {
      "cell_type": "code",
      "metadata": {
        "id": "YDXp3jogZQ-H",
        "colab_type": "code",
        "colab": {}
      },
      "source": [
        "top_city_vals =  city_val[city_val > .01].index"
      ],
      "execution_count": 0,
      "outputs": []
    },
    {
      "cell_type": "code",
      "metadata": {
        "id": "S3LfSJsNZQ-I",
        "colab_type": "code",
        "outputId": "4c189595-75c9-4642-92f2-a747ba6bb9c7",
        "colab": {
          "base_uri": "https://localhost:8080/",
          "height": 68
        }
      },
      "source": [
        "top_city_vals"
      ],
      "execution_count": 0,
      "outputs": [
        {
          "output_type": "execute_result",
          "data": {
            "text/plain": [
              "Index(['Brooklyn', 'New York', 'Staten Island', 'Bronx', 'Flushing', 'Jamaica',\n",
              "       'Forest Hills', 'Astoria', 'Bayside', 'Rockaway Park'],\n",
              "      dtype='object')"
            ]
          },
          "metadata": {
            "tags": []
          },
          "execution_count": 38
        }
      ]
    },
    {
      "cell_type": "code",
      "metadata": {
        "id": "r1JYXV6TZQ-L",
        "colab_type": "code",
        "colab": {}
      },
      "source": [
        "city = df['City']"
      ],
      "execution_count": 0,
      "outputs": []
    },
    {
      "cell_type": "code",
      "metadata": {
        "id": "GB9qk2XCZQ-O",
        "colab_type": "code",
        "outputId": "987eef98-8d87-4ae5-8d9f-3cfc803b9511",
        "colab": {
          "base_uri": "https://localhost:8080/",
          "height": 122
        }
      },
      "source": [
        "city.loc[(~city.isin(top_city_vals))] = 'Other'"
      ],
      "execution_count": 0,
      "outputs": [
        {
          "output_type": "stream",
          "text": [
            "/usr/local/lib/python3.6/dist-packages/pandas/core/indexing.py:671: SettingWithCopyWarning: \n",
            "A value is trying to be set on a copy of a slice from a DataFrame\n",
            "\n",
            "See the caveats in the documentation: https://pandas.pydata.org/pandas-docs/stable/user_guide/indexing.html#returning-a-view-versus-a-copy\n",
            "  self._setitem_with_indexer(indexer, value)\n"
          ],
          "name": "stderr"
        }
      ]
    },
    {
      "cell_type": "code",
      "metadata": {
        "id": "MXXJdDO6ZQ-Q",
        "colab_type": "code",
        "outputId": "31bd7b13-13f8-4c89-f66c-d784da9da4f1",
        "colab": {
          "base_uri": "https://localhost:8080/",
          "height": 221
        }
      },
      "source": [
        "city.value_counts()"
      ],
      "execution_count": 0,
      "outputs": [
        {
          "output_type": "execute_result",
          "data": {
            "text/plain": [
              "Brooklyn         1282\n",
              "New York         1149\n",
              "Staten Island    1034\n",
              "Other             905\n",
              "Bronx             817\n",
              "Flushing          161\n",
              "Jamaica           145\n",
              "Forest Hills       97\n",
              "Astoria            92\n",
              "Bayside            70\n",
              "Rockaway Park      59\n",
              "Name: City, dtype: int64"
            ]
          },
          "metadata": {
            "tags": []
          },
          "execution_count": 41
        }
      ]
    },
    {
      "cell_type": "markdown",
      "metadata": {
        "id": "vIm5AQX0ZQ-T",
        "colab_type": "text"
      },
      "source": [
        "Or we can replace values in the dataframe, like so."
      ]
    },
    {
      "cell_type": "code",
      "metadata": {
        "id": "HDuskHkiZQ-U",
        "colab_type": "code",
        "colab": {}
      },
      "source": [
        "df.loc[(~df['City'].isin(top_city_vals)), 'City'] = 'Other'"
      ],
      "execution_count": 0,
      "outputs": []
    },
    {
      "cell_type": "markdown",
      "metadata": {
        "id": "oYAB4WFbZQ-W",
        "colab_type": "text"
      },
      "source": [
        "### Checking our Changes"
      ]
    },
    {
      "cell_type": "markdown",
      "metadata": {
        "id": "AtLCzTjbZQ-W",
        "colab_type": "text"
      },
      "source": [
        "Ok, now if we look at the value counts of our `City` column, we see the following:"
      ]
    },
    {
      "cell_type": "code",
      "metadata": {
        "id": "XBece0XeZQ-W",
        "colab_type": "code",
        "outputId": "477a7e05-a65d-41e3-8efc-d0776a521152",
        "colab": {
          "base_uri": "https://localhost:8080/",
          "height": 221
        }
      },
      "source": [
        "city.value_counts(normalize = True)"
      ],
      "execution_count": 0,
      "outputs": [
        {
          "output_type": "execute_result",
          "data": {
            "text/plain": [
              "Brooklyn         0.220616\n",
              "New York         0.197728\n",
              "Staten Island    0.177938\n",
              "Other            0.155739\n",
              "Bronx            0.140595\n",
              "Flushing         0.027706\n",
              "Jamaica          0.024953\n",
              "Forest Hills     0.016692\n",
              "Astoria          0.015832\n",
              "Bayside          0.012046\n",
              "Rockaway Park    0.010153\n",
              "Name: City, dtype: float64"
            ]
          },
          "metadata": {
            "tags": []
          },
          "execution_count": 43
        }
      ]
    },
    {
      "cell_type": "markdown",
      "metadata": {
        "id": "iee1t6wiZQ-Y",
        "colab_type": "text"
      },
      "source": [
        "And we can call `get_dummies` to generate the new features."
      ]
    },
    {
      "cell_type": "code",
      "metadata": {
        "id": "M77Y6xJgZQ-Z",
        "colab_type": "code",
        "outputId": "77f4b911-ff7b-4c6c-d911-ca4764a8a7d9",
        "colab": {
          "base_uri": "https://localhost:8080/",
          "height": 159
        }
      },
      "source": [
        "pd.get_dummies(city)[:3]"
      ],
      "execution_count": 0,
      "outputs": [
        {
          "output_type": "execute_result",
          "data": {
            "text/html": [
              "<div>\n",
              "<style scoped>\n",
              "    .dataframe tbody tr th:only-of-type {\n",
              "        vertical-align: middle;\n",
              "    }\n",
              "\n",
              "    .dataframe tbody tr th {\n",
              "        vertical-align: top;\n",
              "    }\n",
              "\n",
              "    .dataframe thead th {\n",
              "        text-align: right;\n",
              "    }\n",
              "</style>\n",
              "<table border=\"1\" class=\"dataframe\">\n",
              "  <thead>\n",
              "    <tr style=\"text-align: right;\">\n",
              "      <th></th>\n",
              "      <th>Astoria</th>\n",
              "      <th>Bayside</th>\n",
              "      <th>Bronx</th>\n",
              "      <th>Brooklyn</th>\n",
              "      <th>Flushing</th>\n",
              "      <th>Forest Hills</th>\n",
              "      <th>Jamaica</th>\n",
              "      <th>New York</th>\n",
              "      <th>Other</th>\n",
              "      <th>Rockaway Park</th>\n",
              "      <th>Staten Island</th>\n",
              "    </tr>\n",
              "  </thead>\n",
              "  <tbody>\n",
              "    <tr>\n",
              "      <th>0</th>\n",
              "      <td>0</td>\n",
              "      <td>0</td>\n",
              "      <td>1</td>\n",
              "      <td>0</td>\n",
              "      <td>0</td>\n",
              "      <td>0</td>\n",
              "      <td>0</td>\n",
              "      <td>0</td>\n",
              "      <td>0</td>\n",
              "      <td>0</td>\n",
              "      <td>0</td>\n",
              "    </tr>\n",
              "    <tr>\n",
              "      <th>1</th>\n",
              "      <td>0</td>\n",
              "      <td>0</td>\n",
              "      <td>1</td>\n",
              "      <td>0</td>\n",
              "      <td>0</td>\n",
              "      <td>0</td>\n",
              "      <td>0</td>\n",
              "      <td>0</td>\n",
              "      <td>0</td>\n",
              "      <td>0</td>\n",
              "      <td>0</td>\n",
              "    </tr>\n",
              "    <tr>\n",
              "      <th>2</th>\n",
              "      <td>0</td>\n",
              "      <td>0</td>\n",
              "      <td>0</td>\n",
              "      <td>0</td>\n",
              "      <td>0</td>\n",
              "      <td>0</td>\n",
              "      <td>0</td>\n",
              "      <td>0</td>\n",
              "      <td>1</td>\n",
              "      <td>0</td>\n",
              "      <td>0</td>\n",
              "    </tr>\n",
              "  </tbody>\n",
              "</table>\n",
              "</div>"
            ],
            "text/plain": [
              "   Astoria  Bayside  Bronx  ...  Other  Rockaway Park  Staten Island\n",
              "0        0        0      1  ...      0              0              0\n",
              "1        0        0      1  ...      0              0              0\n",
              "2        0        0      0  ...      1              0              0\n",
              "\n",
              "[3 rows x 11 columns]"
            ]
          },
          "metadata": {
            "tags": []
          },
          "execution_count": 44
        }
      ]
    },
    {
      "cell_type": "markdown",
      "metadata": {
        "id": "oN-QyVX8ZQ-a",
        "colab_type": "text"
      },
      "source": [
        "So now there are much fewer columns, and each column has at least one percent of the columns filled, to minimize overfitting."
      ]
    },
    {
      "cell_type": "markdown",
      "metadata": {
        "id": "jCbpm-MuZQ-b",
        "colab_type": "text"
      },
      "source": [
        "### Summary"
      ]
    },
    {
      "cell_type": "markdown",
      "metadata": {
        "id": "n4rvAK-rZQ-b",
        "colab_type": "text"
      },
      "source": [
        "In this lesson, we learned to reduce error due to variance that occurs from dummy variables that infrequently occur.  To do so, we identify the rarely occurring values, and replace them with `Other`.  Our code looks like the following:"
      ]
    },
    {
      "cell_type": "code",
      "metadata": {
        "id": "VbIv4jbdZQ-c",
        "colab_type": "code",
        "outputId": "9dd61c6e-28e6-4d7f-c502-5c0d85bfb8c3",
        "colab": {
          "base_uri": "https://localhost:8080/",
          "height": 221
        }
      },
      "source": [
        "val_counts = df['City'].value_counts(normalize = True)\n",
        "\n",
        "val_counts[val_counts > .01]"
      ],
      "execution_count": 0,
      "outputs": [
        {
          "output_type": "execute_result",
          "data": {
            "text/plain": [
              "Brooklyn         0.220616\n",
              "New York         0.197728\n",
              "Staten Island    0.177938\n",
              "Other            0.155739\n",
              "Bronx            0.140595\n",
              "Flushing         0.027706\n",
              "Jamaica          0.024953\n",
              "Forest Hills     0.016692\n",
              "Astoria          0.015832\n",
              "Bayside          0.012046\n",
              "Rockaway Park    0.010153\n",
              "Name: City, dtype: float64"
            ]
          },
          "metadata": {
            "tags": []
          },
          "execution_count": 45
        }
      ]
    },
    {
      "cell_type": "markdown",
      "metadata": {
        "id": "950nHO1AZQ-e",
        "colab_type": "text"
      },
      "source": [
        "> Select the top columns."
      ]
    },
    {
      "cell_type": "code",
      "metadata": {
        "id": "7_-oVXzDZQ-e",
        "colab_type": "code",
        "outputId": "b79b52d8-9d31-4165-b494-795b5d898479",
        "colab": {
          "base_uri": "https://localhost:8080/",
          "height": 68
        }
      },
      "source": [
        "top_cols = val_counts[val_counts > .01].index\n",
        "top_cols"
      ],
      "execution_count": 0,
      "outputs": [
        {
          "output_type": "execute_result",
          "data": {
            "text/plain": [
              "Index(['Brooklyn', 'New York', 'Staten Island', 'Other', 'Bronx', 'Flushing',\n",
              "       'Jamaica', 'Forest Hills', 'Astoria', 'Bayside', 'Rockaway Park'],\n",
              "      dtype='object')"
            ]
          },
          "metadata": {
            "tags": []
          },
          "execution_count": 46
        }
      ]
    },
    {
      "cell_type": "markdown",
      "metadata": {
        "id": "CE9DpJhxZQ-h",
        "colab_type": "text"
      },
      "source": [
        "> Replace values that are not in the top columns."
      ]
    },
    {
      "cell_type": "code",
      "metadata": {
        "id": "WGvpf-0CZQ-i",
        "colab_type": "code",
        "colab": {}
      },
      "source": [
        "df.loc[(~df['City'].isin(top_city_vals)), 'City'] = 'Other'"
      ],
      "execution_count": 0,
      "outputs": []
    },
    {
      "cell_type": "markdown",
      "metadata": {
        "id": "rkVnAlPWZQ-k",
        "colab_type": "text"
      },
      "source": [
        "### Resources\n",
        "\n",
        "[One hot encode, pivot table](https://datascience.stackexchange.com/questions/8253/how-to-binary-encode-multi-valued-categorical-variable-from-pandas-dataframe)"
      ]
    }
  ]
}