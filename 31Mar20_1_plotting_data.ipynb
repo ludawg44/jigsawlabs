{
  "nbformat": 4,
  "nbformat_minor": 0,
  "metadata": {
    "kernelspec": {
      "display_name": "Python 3",
      "language": "python",
      "name": "python3"
    },
    "language_info": {
      "codemirror_mode": {
        "name": "ipython",
        "version": 3
      },
      "file_extension": ".py",
      "mimetype": "text/x-python",
      "name": "python",
      "nbconvert_exporter": "python",
      "pygments_lexer": "ipython3",
      "version": "3.7.4"
    },
    "colab": {
      "name": "Copy of 1-plotting-data.ipynb",
      "provenance": [],
      "include_colab_link": true
    }
  },
  "cells": [
    {
      "cell_type": "markdown",
      "metadata": {
        "id": "view-in-github",
        "colab_type": "text"
      },
      "source": [
        "<a href=\"https://colab.research.google.com/github/ludawg44/jigsawlabs/blob/master/31Mar20_1_plotting_data.ipynb\" target=\"_parent\"><img src=\"https://colab.research.google.com/assets/colab-badge.svg\" alt=\"Open In Colab\"/></a>"
      ]
    },
    {
      "cell_type": "markdown",
      "metadata": {
        "id": "FU1PTiPd3hDA",
        "colab_type": "text"
      },
      "source": [
        "# Plotting Data"
      ]
    },
    {
      "cell_type": "markdown",
      "metadata": {
        "id": "V01Km3Ly3hDB",
        "colab_type": "text"
      },
      "source": [
        "### Introduction"
      ]
    },
    {
      "cell_type": "markdown",
      "metadata": {
        "id": "JuKWO72t3hDB",
        "colab_type": "text"
      },
      "source": [
        "As we know an excellent for us to explore our data is by plotting our data.  In this lesson, we'll see how matplotlib functionality is built directly into pandas, and how we can quickly create plots with pandas' integration with the library."
      ]
    },
    {
      "cell_type": "markdown",
      "metadata": {
        "id": "prMTdK5P3hDC",
        "colab_type": "text"
      },
      "source": [
        "### Loading our Data"
      ]
    },
    {
      "cell_type": "markdown",
      "metadata": {
        "id": "HU2VF4YJ3hDC",
        "colab_type": "text"
      },
      "source": [
        "So let's get a better sense of the data in our 538 moves dataset.  The first thing we'll do is load up the data, and then perhaps look at the columns available."
      ]
    },
    {
      "cell_type": "code",
      "metadata": {
        "id": "Pq8_q51J3hDD",
        "colab_type": "code",
        "colab": {}
      },
      "source": [
        "import pandas as pd\n",
        "url = \"https://raw.githubusercontent.com/jigsawlabs-student/exploring-pandas/master/imdb_movies.csv\"\n",
        "movies_df = pd.read_csv(url)"
      ],
      "execution_count": 0,
      "outputs": []
    },
    {
      "cell_type": "code",
      "metadata": {
        "id": "1cWl04qp3hDG",
        "colab_type": "code",
        "outputId": "c08f5f64-7faa-4fd9-b186-68d20d422369",
        "colab": {
          "base_uri": "https://localhost:8080/",
          "height": 35
        }
      },
      "source": [
        "movies_df.columns"
      ],
      "execution_count": 0,
      "outputs": [
        {
          "output_type": "execute_result",
          "data": {
            "text/plain": [
              "Index(['title', 'genre', 'budget', 'runtime', 'year', 'month', 'revenue'], dtype='object')"
            ]
          },
          "metadata": {
            "tags": []
          },
          "execution_count": 2
        }
      ]
    },
    {
      "cell_type": "markdown",
      "metadata": {
        "id": "ssDZbdhp3hDJ",
        "colab_type": "text"
      },
      "source": [
        "### Plotting data"
      ]
    },
    {
      "cell_type": "markdown",
      "metadata": {
        "id": "T0aZRY7h3hDK",
        "colab_type": "text"
      },
      "source": [
        "Now pandas builds matplotlib functionality into both dataframes and series objects.  Let's take a look. "
      ]
    },
    {
      "cell_type": "markdown",
      "metadata": {
        "id": "Fmj0M-l13hDK",
        "colab_type": "text"
      },
      "source": [
        "Imagine that we want to get a sense of the distributions of our different features.  Doing so is pretty simple."
      ]
    },
    {
      "cell_type": "code",
      "metadata": {
        "id": "Sdr_qLV63hDL",
        "colab_type": "code",
        "outputId": "d8141fa7-b54b-4e0e-b8f0-91075ff0f494",
        "colab": {
          "base_uri": "https://localhost:8080/",
          "height": 402
        }
      },
      "source": [
        "movies_df.hist()"
      ],
      "execution_count": 0,
      "outputs": [
        {
          "output_type": "execute_result",
          "data": {
            "text/plain": [
              "array([[<matplotlib.axes._subplots.AxesSubplot object at 0x7fb500635b00>,\n",
              "        <matplotlib.axes._subplots.AxesSubplot object at 0x7fb50060ada0>],\n",
              "       [<matplotlib.axes._subplots.AxesSubplot object at 0x7fb5005befd0>,\n",
              "        <matplotlib.axes._subplots.AxesSubplot object at 0x7fb50057b2b0>],\n",
              "       [<matplotlib.axes._subplots.AxesSubplot object at 0x7fb50052b518>,\n",
              "        <matplotlib.axes._subplots.AxesSubplot object at 0x7fb5004df780>]],\n",
              "      dtype=object)"
            ]
          },
          "metadata": {
            "tags": []
          },
          "execution_count": 3
        },
        {
          "output_type": "display_data",
          "data": {
            "image/png": "[encoded data removed]",
            "text/plain": [
              "<Figure size 432x288 with 6 Axes>"
            ]
          },
          "metadata": {
            "tags": []
          }
        }
      ]
    },
    {
      "cell_type": "markdown",
      "metadata": {
        "id": "fui2ti8i3hDO",
        "colab_type": "text"
      },
      "source": [
        "So this is a nice way to get an overview of our data.  Right away we can see that the years in the dataset are tilted towards the mean."
      ]
    },
    {
      "cell_type": "markdown",
      "metadata": {
        "id": "KJPpvlGJ3hDO",
        "colab_type": "text"
      },
      "source": [
        "### Plotting a column"
      ]
    },
    {
      "cell_type": "markdown",
      "metadata": {
        "id": "Oe0XSSxE3hDP",
        "colab_type": "text"
      },
      "source": [
        "We can also plot an individual series in pandas.  We can directly call the `hist` or `plot` functions on a pandas series."
      ]
    },
    {
      "cell_type": "code",
      "metadata": {
        "id": "EFWBriZQ3hDP",
        "colab_type": "code",
        "outputId": "4a53a270-690b-40eb-b0c0-a26e9018117b",
        "colab": {
          "base_uri": "https://localhost:8080/",
          "height": 311
        }
      },
      "source": [
        "movies_df['budget'].plot(kind = 'hist', title = 'budgets distribution')"
      ],
      "execution_count": 0,
      "outputs": [
        {
          "output_type": "execute_result",
          "data": {
            "text/plain": [
              "<matplotlib.axes._subplots.AxesSubplot at 0x7fb4fff65d30>"
            ]
          },
          "metadata": {
            "tags": []
          },
          "execution_count": 4
        },
        {
          "output_type": "display_data",
          "data": {
            "image/png": "[encoded data removed]",
            "text/plain": [
              "<Figure size 432x288 with 1 Axes>"
            ]
          },
          "metadata": {
            "tags": []
          }
        }
      ]
    },
    {
      "cell_type": "markdown",
      "metadata": {
        "id": "PVqmoirX3hDR",
        "colab_type": "text"
      },
      "source": [
        "Notice that the return value of a plot is a matplotlib axis.  So we could store that axis, style it, and then show the plot."
      ]
    },
    {
      "cell_type": "code",
      "metadata": {
        "id": "jNut0Pu93hDS",
        "colab_type": "code",
        "outputId": "e137e814-4f92-4fbb-aa52-4b78bcc99845",
        "colab": {
          "base_uri": "https://localhost:8080/",
          "height": 312
        }
      },
      "source": [
        "ax = movies_df['budget'].plot(kind = 'hist', title = 'budgets distribution')\n",
        "ax.set(xlabel = 'budgets (100 m)')"
      ],
      "execution_count": 0,
      "outputs": [
        {
          "output_type": "execute_result",
          "data": {
            "text/plain": [
              "[Text(0.5, 0, 'budgets (100 m)')]"
            ]
          },
          "metadata": {
            "tags": []
          },
          "execution_count": 5
        },
        {
          "output_type": "display_data",
          "data": {
            "image/png": "[encoded data removed]",
            "text/plain": [
              "<Figure size 432x288 with 1 Axes>"
            ]
          },
          "metadata": {
            "tags": []
          }
        }
      ]
    },
    {
      "cell_type": "markdown",
      "metadata": {
        "id": "lQO1OWbU3hDV",
        "colab_type": "text"
      },
      "source": [
        "### Plotting Categorical Data"
      ]
    },
    {
      "cell_type": "markdown",
      "metadata": {
        "id": "8FWVIcue3hDV",
        "colab_type": "text"
      },
      "source": [
        "Let's try to plot out our different genres in the dataset.  In our dataframe, our genres are just a list of genre names, and pandas will not know how to turn that into a plot."
      ]
    },
    {
      "cell_type": "code",
      "metadata": {
        "id": "jo-W-mqo3hDW",
        "colab_type": "code",
        "outputId": "130aa658-867b-432d-d76c-0775eac0d144",
        "colab": {
          "base_uri": "https://localhost:8080/",
          "height": 138
        }
      },
      "source": [
        "movies_df[:3]"
      ],
      "execution_count": 0,
      "outputs": [
        {
          "output_type": "execute_result",
          "data": {
            "text/html": [
              "<div>\n",
              "<style scoped>\n",
              "    .dataframe tbody tr th:only-of-type {\n",
              "        vertical-align: middle;\n",
              "    }\n",
              "\n",
              "    .dataframe tbody tr th {\n",
              "        vertical-align: top;\n",
              "    }\n",
              "\n",
              "    .dataframe thead th {\n",
              "        text-align: right;\n",
              "    }\n",
              "</style>\n",
              "<table border=\"1\" class=\"dataframe\">\n",
              "  <thead>\n",
              "    <tr style=\"text-align: right;\">\n",
              "      <th></th>\n",
              "      <th>title</th>\n",
              "      <th>genre</th>\n",
              "      <th>budget</th>\n",
              "      <th>runtime</th>\n",
              "      <th>year</th>\n",
              "      <th>month</th>\n",
              "      <th>revenue</th>\n",
              "    </tr>\n",
              "  </thead>\n",
              "  <tbody>\n",
              "    <tr>\n",
              "      <th>0</th>\n",
              "      <td>Avatar</td>\n",
              "      <td>Action</td>\n",
              "      <td>237000000</td>\n",
              "      <td>162.0</td>\n",
              "      <td>2009</td>\n",
              "      <td>12</td>\n",
              "      <td>2787965087</td>\n",
              "    </tr>\n",
              "    <tr>\n",
              "      <th>1</th>\n",
              "      <td>Pirates of the Caribbean: At World's End</td>\n",
              "      <td>Adventure</td>\n",
              "      <td>300000000</td>\n",
              "      <td>169.0</td>\n",
              "      <td>2007</td>\n",
              "      <td>5</td>\n",
              "      <td>961000000</td>\n",
              "    </tr>\n",
              "    <tr>\n",
              "      <th>2</th>\n",
              "      <td>Spectre</td>\n",
              "      <td>Action</td>\n",
              "      <td>245000000</td>\n",
              "      <td>148.0</td>\n",
              "      <td>2015</td>\n",
              "      <td>10</td>\n",
              "      <td>880674609</td>\n",
              "    </tr>\n",
              "  </tbody>\n",
              "</table>\n",
              "</div>"
            ],
            "text/plain": [
              "                                      title      genre  ...  month     revenue\n",
              "0                                    Avatar     Action  ...     12  2787965087\n",
              "1  Pirates of the Caribbean: At World's End  Adventure  ...      5   961000000\n",
              "2                                   Spectre     Action  ...     10   880674609\n",
              "\n",
              "[3 rows x 7 columns]"
            ]
          },
          "metadata": {
            "tags": []
          },
          "execution_count": 6
        }
      ]
    },
    {
      "cell_type": "markdown",
      "metadata": {
        "id": "6wdaMqCR3hDY",
        "colab_type": "text"
      },
      "source": [
        "But what if we use `value_counts` to see how many times each genre is listed?  Pandas might be able to plot that."
      ]
    },
    {
      "cell_type": "code",
      "metadata": {
        "id": "l3S7GDHu3hDY",
        "colab_type": "code",
        "outputId": "6e91b4ac-5396-43c9-a668-1b27b5ef85dd",
        "colab": {
          "base_uri": "https://localhost:8080/",
          "height": 225
        }
      },
      "source": [
        "movies_df['genre'].value_counts()"
      ],
      "execution_count": 0,
      "outputs": [
        {
          "output_type": "execute_result",
          "data": {
            "text/plain": [
              "Action             483\n",
              "Drama              365\n",
              "Comedy             359\n",
              "Adventure          236\n",
              "Animation           93\n",
              "Fantasy             80\n",
              "Crime               76\n",
              "Thriller            73\n",
              "Horror              59\n",
              "Science Fiction     52\n",
              "Romance             40\n",
              "Name: genre, dtype: int64"
            ]
          },
          "metadata": {
            "tags": []
          },
          "execution_count": 7
        }
      ]
    },
    {
      "cell_type": "code",
      "metadata": {
        "id": "7n7fPvgH3hDb",
        "colab_type": "code",
        "outputId": "c41e0e8f-a370-4059-9ff4-0ad1243455a3",
        "colab": {
          "base_uri": "https://localhost:8080/",
          "height": 282
        }
      },
      "source": [
        "movies_df['genre'].value_counts()[::-1].plot(kind = 'barh', sort_columns='DESC')"
      ],
      "execution_count": 0,
      "outputs": [
        {
          "output_type": "execute_result",
          "data": {
            "text/plain": [
              "<matplotlib.axes._subplots.AxesSubplot at 0x7fb4ffe767b8>"
            ]
          },
          "metadata": {
            "tags": []
          },
          "execution_count": 8
        },
        {
          "output_type": "display_data",
          "data": {
            "image/png": "[encoded data removed]",
            "text/plain": [
              "<Figure size 432x288 with 1 Axes>"
            ]
          },
          "metadata": {
            "tags": []
          }
        }
      ]
    },
    {
      "cell_type": "markdown",
      "metadata": {
        "id": "7-bKq4c03hDe",
        "colab_type": "text"
      },
      "source": [
        "Note that any series returned from a previous calculation can be turned into a plot."
      ]
    },
    {
      "cell_type": "code",
      "metadata": {
        "id": "d7pVQg1K3hDf",
        "colab_type": "code",
        "outputId": "9974a50c-e442-49b9-bc76-7e319915cf05",
        "colab": {
          "base_uri": "https://localhost:8080/",
          "height": 69
        }
      },
      "source": [
        "movies_df[['budget', 'revenue']].mean()"
      ],
      "execution_count": 0,
      "outputs": [
        {
          "output_type": "execute_result",
          "data": {
            "text/plain": [
              "budget     6.043686e+07\n",
              "revenue    1.643506e+08\n",
              "dtype: float64"
            ]
          },
          "metadata": {
            "tags": []
          },
          "execution_count": 9
        }
      ]
    },
    {
      "cell_type": "code",
      "metadata": {
        "id": "rTL1tiY63hDh",
        "colab_type": "code",
        "outputId": "8082c12c-c343-4a79-92a4-e7b440a9da46",
        "colab": {
          "base_uri": "https://localhost:8080/",
          "height": 325
        }
      },
      "source": [
        "movies_df[['budget', 'revenue']].mean().plot.bar()"
      ],
      "execution_count": 0,
      "outputs": [
        {
          "output_type": "execute_result",
          "data": {
            "text/plain": [
              "<matplotlib.axes._subplots.AxesSubplot at 0x7fb4ffdc0748>"
            ]
          },
          "metadata": {
            "tags": []
          },
          "execution_count": 10
        },
        {
          "output_type": "display_data",
          "data": {
            "image/png": "[encoded data removed]",
            "text/plain": [
              "<Figure size 432x288 with 1 Axes>"
            ]
          },
          "metadata": {
            "tags": []
          }
        }
      ]
    },
    {
      "cell_type": "markdown",
      "metadata": {
        "id": "oLoH1cfr3hDj",
        "colab_type": "text"
      },
      "source": [
        "### Exploring Individual Columns"
      ]
    },
    {
      "cell_type": "markdown",
      "metadata": {
        "id": "5fLUFA3U3hDk",
        "colab_type": "text"
      },
      "source": [
        "Now that we have looked at summary statistics for an entire dataframe, we can also explore methods that allow us to explore individual columns."
      ]
    },
    {
      "cell_type": "markdown",
      "metadata": {
        "id": "LPc9t0o53hDk",
        "colab_type": "text"
      },
      "source": [
        "The best way to get an overview of the data in an individual column is to plot it.  We can do so with matplotlib, which is built into pandas."
      ]
    },
    {
      "cell_type": "code",
      "metadata": {
        "id": "xa0mk4Yf3hDk",
        "colab_type": "code",
        "outputId": "8bffb76d-da84-476b-a1fc-5c5d1c8e9b3d",
        "colab": {
          "base_uri": "https://localhost:8080/",
          "height": 299
        }
      },
      "source": [
        "movies_df['budget'].plot(kind = 'hist')"
      ],
      "execution_count": 0,
      "outputs": [
        {
          "output_type": "execute_result",
          "data": {
            "text/plain": [
              "<matplotlib.axes._subplots.AxesSubplot at 0x7fb4ffd2d358>"
            ]
          },
          "metadata": {
            "tags": []
          },
          "execution_count": 11
        },
        {
          "output_type": "display_data",
          "data": {
            "image/png": "[encoded data removed]",
            "text/plain": [
              "<Figure size 432x288 with 1 Axes>"
            ]
          },
          "metadata": {
            "tags": []
          }
        }
      ]
    },
    {
      "cell_type": "markdown",
      "metadata": {
        "id": "tt1vnSGO3hDm",
        "colab_type": "text"
      },
      "source": [
        "Above we are selecting the column for budget, then plotting and specifying that the type of plot should be a histogram."
      ]
    },
    {
      "cell_type": "markdown",
      "metadata": {
        "id": "uPuBsjVq3hDm",
        "colab_type": "text"
      },
      "source": [
        "We can also get summary statistics for this series of data."
      ]
    },
    {
      "cell_type": "markdown",
      "metadata": {
        "id": "KYY6YBxq3hDn",
        "colab_type": "text"
      },
      "source": [
        "### Summary"
      ]
    },
    {
      "cell_type": "markdown",
      "metadata": {
        "id": "vAKAojsU3hDn",
        "colab_type": "text"
      },
      "source": [
        "In this lesson we saw how matplotlib is integrated with pandas.  We saw that we can both produce plots on a dataframe and on an individual series in pandas.  Pandas tends to segment our plots across columns, so that is how we should get our data ready to turn into a visualization.  Also, note that we can format our plots, both with the arguments allowed in the `plot` method, and with the returned `axes` from creating a plot in pandas."
      ]
    }
  ]
}