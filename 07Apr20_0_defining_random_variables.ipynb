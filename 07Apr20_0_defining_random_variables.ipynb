{
  "nbformat": 4,
  "nbformat_minor": 0,
  "metadata": {
    "kernelspec": {
      "display_name": "Python 3",
      "language": "python",
      "name": "python3"
    },
    "language_info": {
      "codemirror_mode": {
        "name": "ipython",
        "version": 3
      },
      "file_extension": ".py",
      "mimetype": "text/x-python",
      "name": "python",
      "nbconvert_exporter": "python",
      "pygments_lexer": "ipython3",
      "version": "3.7.4"
    },
    "colab": {
      "name": "Copy of 0-defining-random-variables.ipynb",
      "provenance": [],
      "include_colab_link": true
    }
  },
  "cells": [
    {
      "cell_type": "markdown",
      "metadata": {
        "id": "view-in-github",
        "colab_type": "text"
      },
      "source": [
        "<a href=\"https://colab.research.google.com/github/ludawg44/jigsawlabs/blob/master/07Apr20_0_defining_random_variables.ipynb\" target=\"_parent\"><img src=\"https://colab.research.google.com/assets/colab-badge.svg\" alt=\"Open In Colab\"/></a>"
      ]
    },
    {
      "cell_type": "markdown",
      "metadata": {
        "id": "Fodb6LT5_LQ-",
        "colab_type": "text"
      },
      "source": [
        "# Defining Random Variables"
      ]
    },
    {
      "cell_type": "markdown",
      "metadata": {
        "id": "M4mfNutK_LQ_",
        "colab_type": "text"
      },
      "source": [
        "### Introduction"
      ]
    },
    {
      "cell_type": "markdown",
      "metadata": {
        "id": "-xJRGh7T_LRA",
        "colab_type": "text"
      },
      "source": [
        "Now so far, we have seen how we can learn about a variable by plotting either a frequency distribution, and exploring summary statistics, or exploring the same information with a sample from the population.\n",
        "\n",
        "One way to describe our variable is as a random variable.  We'll learn how a random variable can help us to answer questions about variable in this lesson."
      ]
    },
    {
      "cell_type": "markdown",
      "metadata": {
        "id": "3cx9X33M_LRB",
        "colab_type": "text"
      },
      "source": [
        "### Loading the data"
      ]
    },
    {
      "cell_type": "markdown",
      "metadata": {
        "id": "oVNnds8h_LRB",
        "colab_type": "text"
      },
      "source": [
        "In this lesson we'll use NYC schools eighth grade scores for NY state's standardized math exam.  Let's load up the data."
      ]
    },
    {
      "cell_type": "code",
      "metadata": {
        "id": "YQTIlCzR_LRC",
        "colab_type": "code",
        "colab": {}
      },
      "source": [
        "import pandas as pd \n",
        "url = \"https://raw.githubusercontent.com/jigsawlabs-student/modeling-distributions/master/scores_grade_eight_2015.csv\"\n",
        "df = pd.read_csv(url, index_col = 0)"
      ],
      "execution_count": 0,
      "outputs": []
    },
    {
      "cell_type": "code",
      "metadata": {
        "id": "yfBaVF4A_LRF",
        "colab_type": "code",
        "outputId": "3ede253e-de59-46d0-e4df-13cb93b0d015",
        "colab": {
          "base_uri": "https://localhost:8080/",
          "height": 34
        }
      },
      "source": [
        "df.shape"
      ],
      "execution_count": 0,
      "outputs": [
        {
          "output_type": "execute_result",
          "data": {
            "text/plain": [
              "(472, 8)"
            ]
          },
          "metadata": {
            "tags": []
          },
          "execution_count": 3
        }
      ]
    },
    {
      "cell_type": "code",
      "metadata": {
        "id": "ZdZVnj1E_LRJ",
        "colab_type": "code",
        "outputId": "9b97de6f-c587-4223-d3e4-840fe42973c7",
        "colab": {
          "base_uri": "https://localhost:8080/",
          "height": 142
        }
      },
      "source": [
        "df[:3]"
      ],
      "execution_count": 0,
      "outputs": [
        {
          "output_type": "execute_result",
          "data": {
            "text/html": [
              "<div>\n",
              "<style scoped>\n",
              "    .dataframe tbody tr th:only-of-type {\n",
              "        vertical-align: middle;\n",
              "    }\n",
              "\n",
              "    .dataframe tbody tr th {\n",
              "        vertical-align: top;\n",
              "    }\n",
              "\n",
              "    .dataframe thead th {\n",
              "        text-align: right;\n",
              "    }\n",
              "</style>\n",
              "<table border=\"1\" class=\"dataframe\">\n",
              "  <thead>\n",
              "    <tr style=\"text-align: right;\">\n",
              "      <th></th>\n",
              "      <th>DBN</th>\n",
              "      <th>School Name</th>\n",
              "      <th>Number Tested</th>\n",
              "      <th>Mean Scale Score</th>\n",
              "      <th># Level 1</th>\n",
              "      <th># Level 2</th>\n",
              "      <th># Level 3</th>\n",
              "      <th># Level 4</th>\n",
              "    </tr>\n",
              "  </thead>\n",
              "  <tbody>\n",
              "    <tr>\n",
              "      <th>53</th>\n",
              "      <td>01M034</td>\n",
              "      <td>P.S. 034 FRANKLIN D. ROOSEVELT</td>\n",
              "      <td>59</td>\n",
              "      <td>298.0</td>\n",
              "      <td>21.0</td>\n",
              "      <td>24.0</td>\n",
              "      <td>9.0</td>\n",
              "      <td>5.0</td>\n",
              "    </tr>\n",
              "    <tr>\n",
              "      <th>136</th>\n",
              "      <td>01M140</td>\n",
              "      <td>P.S. 140 NATHAN STRAUS</td>\n",
              "      <td>58</td>\n",
              "      <td>285.0</td>\n",
              "      <td>28.0</td>\n",
              "      <td>26.0</td>\n",
              "      <td>4.0</td>\n",
              "      <td>0.0</td>\n",
              "    </tr>\n",
              "    <tr>\n",
              "      <th>169</th>\n",
              "      <td>01M184</td>\n",
              "      <td>P.S. 184M SHUANG WEN</td>\n",
              "      <td>56</td>\n",
              "      <td>360.0</td>\n",
              "      <td>0.0</td>\n",
              "      <td>4.0</td>\n",
              "      <td>13.0</td>\n",
              "      <td>39.0</td>\n",
              "    </tr>\n",
              "  </tbody>\n",
              "</table>\n",
              "</div>"
            ],
            "text/plain": [
              "        DBN                     School Name  ...  # Level 3  # Level 4\n",
              "53   01M034  P.S. 034 FRANKLIN D. ROOSEVELT  ...        9.0        5.0\n",
              "136  01M140          P.S. 140 NATHAN STRAUS  ...        4.0        0.0\n",
              "169  01M184            P.S. 184M SHUANG WEN  ...       13.0       39.0\n",
              "\n",
              "[3 rows x 8 columns]"
            ]
          },
          "metadata": {
            "tags": []
          },
          "execution_count": 4
        }
      ]
    },
    {
      "cell_type": "markdown",
      "metadata": {
        "id": "-67EySec_LRM",
        "colab_type": "text"
      },
      "source": [
        "From here, we can use numpy to select a sample from our dataframe."
      ]
    },
    {
      "cell_type": "code",
      "metadata": {
        "id": "uBJGsLwu_LRM",
        "colab_type": "code",
        "colab": {}
      },
      "source": [
        "sample_df = df.sample(n = 100, random_state = 5)"
      ],
      "execution_count": 0,
      "outputs": []
    },
    {
      "cell_type": "code",
      "metadata": {
        "id": "u-e3XfBt_LRO",
        "colab_type": "code",
        "outputId": "e45d4bad-5f02-44f4-bd4a-39d53ce90344",
        "colab": {
          "base_uri": "https://localhost:8080/",
          "height": 142
        }
      },
      "source": [
        "sample_df[:3]"
      ],
      "execution_count": 0,
      "outputs": [
        {
          "output_type": "execute_result",
          "data": {
            "text/html": [
              "<div>\n",
              "<style scoped>\n",
              "    .dataframe tbody tr th:only-of-type {\n",
              "        vertical-align: middle;\n",
              "    }\n",
              "\n",
              "    .dataframe tbody tr th {\n",
              "        vertical-align: top;\n",
              "    }\n",
              "\n",
              "    .dataframe thead th {\n",
              "        text-align: right;\n",
              "    }\n",
              "</style>\n",
              "<table border=\"1\" class=\"dataframe\">\n",
              "  <thead>\n",
              "    <tr style=\"text-align: right;\">\n",
              "      <th></th>\n",
              "      <th>DBN</th>\n",
              "      <th>School Name</th>\n",
              "      <th>Number Tested</th>\n",
              "      <th>Mean Scale Score</th>\n",
              "      <th># Level 1</th>\n",
              "      <th># Level 2</th>\n",
              "      <th># Level 3</th>\n",
              "      <th># Level 4</th>\n",
              "    </tr>\n",
              "  </thead>\n",
              "  <tbody>\n",
              "    <tr>\n",
              "      <th>13675</th>\n",
              "      <td>31R027</td>\n",
              "      <td>I.S. 027 ANNING S. PRALL</td>\n",
              "      <td>385</td>\n",
              "      <td>295.0</td>\n",
              "      <td>158.0</td>\n",
              "      <td>133.0</td>\n",
              "      <td>63.0</td>\n",
              "      <td>31.0</td>\n",
              "    </tr>\n",
              "    <tr>\n",
              "      <th>6491</th>\n",
              "      <td>14K318</td>\n",
              "      <td>I.S. 318 EUGENIO MARIA DE HOSTOS</td>\n",
              "      <td>328</td>\n",
              "      <td>289.0</td>\n",
              "      <td>116.0</td>\n",
              "      <td>184.0</td>\n",
              "      <td>27.0</td>\n",
              "      <td>1.0</td>\n",
              "    </tr>\n",
              "    <tr>\n",
              "      <th>10264</th>\n",
              "      <td>24Q061</td>\n",
              "      <td>I.S. 061 LEONARDO DA VINCI</td>\n",
              "      <td>768</td>\n",
              "      <td>295.0</td>\n",
              "      <td>295.0</td>\n",
              "      <td>318.0</td>\n",
              "      <td>102.0</td>\n",
              "      <td>53.0</td>\n",
              "    </tr>\n",
              "  </tbody>\n",
              "</table>\n",
              "</div>"
            ],
            "text/plain": [
              "          DBN                       School Name  ...  # Level 3  # Level 4\n",
              "13675  31R027          I.S. 027 ANNING S. PRALL  ...       63.0       31.0\n",
              "6491   14K318  I.S. 318 EUGENIO MARIA DE HOSTOS  ...       27.0        1.0\n",
              "10264  24Q061        I.S. 061 LEONARDO DA VINCI  ...      102.0       53.0\n",
              "\n",
              "[3 rows x 8 columns]"
            ]
          },
          "metadata": {
            "tags": []
          },
          "execution_count": 6
        }
      ]
    },
    {
      "cell_type": "markdown",
      "metadata": {
        "id": "oIKv5aKA_LRS",
        "colab_type": "text"
      },
      "source": [
        "### Breaking down the problem"
      ]
    },
    {
      "cell_type": "markdown",
      "metadata": {
        "id": "SoD1Wg58_LRT",
        "colab_type": "text"
      },
      "source": [
        "So here's how we'd like to use this data.\n",
        "\n",
        "Let's say that our older sister, Michelle, is considering a move to NYC, and that she currently live in Albany.  She wants to make sure that if she move, her child, Emmet, doesn't get placed at a significantly worse school.  Emmet's school had an average score of 310 in 2015 (when our data is from).\n",
        "\n",
        "Ok, now let's try to be a bit formal in the way that we break down this problem.  We'll frame the problem of consisting of an **experiment**, that has will have an **outcome** from the **sample space**, which can either be **continuous or discrete**.  We'll explain:"
      ]
    },
    {
      "cell_type": "markdown",
      "metadata": {
        "id": "XFuxzmWk_LRU",
        "colab_type": "text"
      },
      "source": [
        "1. An experiment/trial\n",
        "\n",
        "> In probability theory, an **experiment or trial** is any procedure that can be infinitely repeated and has a well-defined set of possible outcomes.\n",
        "\n",
        "* The assignment of Emmet to a school is called an *experiment* or *trial*."
      ]
    },
    {
      "cell_type": "markdown",
      "metadata": {
        "id": "nYzddcGR_LRU",
        "colab_type": "text"
      },
      "source": [
        "2. An outcome\n",
        "* The average math score of Emmet's school is called an outcome.\n",
        "> An **outcome** is the result of an experiment."
      ]
    },
    {
      "cell_type": "markdown",
      "metadata": {
        "id": "zwTOOiIe_LRU",
        "colab_type": "text"
      },
      "source": [
        "3. Sample space\n",
        "> The sample space is the set of all possible outcomes to an experiment.\n",
        "\n",
        "* So the set of all possible average scores Emmet's school can have is the sample space of the experiment.  The range of scores on the test is between 148 and 423, so the average score Emmet's school can have is any number in between.\n",
        "\n",
        "* $\\Omega = [148, 423]$"
      ]
    },
    {
      "cell_type": "markdown",
      "metadata": {
        "id": "03qZNZRi_LRV",
        "colab_type": "text"
      },
      "source": [
        "> Capital omega is used to represent the sample space.  The square brackets mean the range is inclusive.  To represent exclusive, rounded brackets can be used. $\\Omega = [148, 423)$ means 148 to 423, but not including 423."
      ]
    },
    {
      "cell_type": "markdown",
      "metadata": {
        "id": "2gOrdC_C_LRV",
        "colab_type": "text"
      },
      "source": [
        "4. Continuous or Discrete\n",
        "\n",
        "It's useful to get a sense of if the sample space is continuous or discrete.  "
      ]
    },
    {
      "cell_type": "markdown",
      "metadata": {
        "id": "6F-LWgo5_LRW",
        "colab_type": "text"
      },
      "source": [
        "<img src=\"https://github.com/jigsawlabs-student/modeling-distributions/blob/master/discrete-cont-side.png?raw=1\" width=\"50%\">"
      ]
    },
    {
      "cell_type": "markdown",
      "metadata": {
        "id": "GTFO5_My_LRW",
        "colab_type": "text"
      },
      "source": [
        "A. Discrete \n",
        "* A sample space is **discrete** if there are *countably many outcomes*.  \n",
        "The number of shots a basketball player makes in a game is discrete.  A basketball player can make 20 shots, but not 20.1, or 35.9.\n",
        "\n",
        "B. Continuous\n",
        "\n",
        "* A sample space is **continous** if the set of outcomes consists of any value between the minimum value and maximum value in the sample space.\n",
        "\n",
        "For example, the weight of an individual is continous.  It can take on any value above zero.  It's the same thing for the height.  Here, because we our sample space consists of the set of the *average scores* Emmet's school can have, this sample space is continuous. "
      ]
    },
    {
      "cell_type": "markdown",
      "metadata": {
        "id": "y3Fv93qP_LRW",
        "colab_type": "text"
      },
      "source": [
        "### Probability distributions and Random Variable"
      ]
    },
    {
      "cell_type": "markdown",
      "metadata": {
        "id": "9IZcu6i8_LRX",
        "colab_type": "text"
      },
      "source": [
        "The average math score of Emmet's assigned school is an example of a *random variable*."
      ]
    },
    {
      "cell_type": "markdown",
      "metadata": {
        "id": "Zs9RJDQe_LRY",
        "colab_type": "text"
      },
      "source": [
        "> A **random variable** is described informally as a variable whose values depend on outcomes of a random phenomenon. - [Wikipedia](https://en.wikipedia.org/wiki/Random_variable)"
      ]
    },
    {
      "cell_type": "markdown",
      "metadata": {
        "id": "8cWco8Sl_LRZ",
        "colab_type": "text"
      },
      "source": [
        "Random variables occur all over the place.  For example, if we want to see get a sense of how tall a newborn may grow to be, we know one component of this is due to random chance.  And therefore this another example of a random variable.  Here, the average math score of Emmet's assigned school is an example of a random variable."
      ]
    },
    {
      "cell_type": "markdown",
      "metadata": {
        "id": "75dhp24b_LRZ",
        "colab_type": "text"
      },
      "source": [
        "> Once more a **random variable** is described a variable whose values depend on outcomes of a random phenomenon."
      ]
    },
    {
      "cell_type": "markdown",
      "metadata": {
        "id": "8pV6PZWy_LRa",
        "colab_type": "text"
      },
      "source": [
        "Let's represent this random variable as $X$."
      ]
    },
    {
      "cell_type": "markdown",
      "metadata": {
        "id": "yCmZUdC1_LRa",
        "colab_type": "text"
      },
      "source": [
        "> $X = $  the math score of Emmet's assigned school."
      ]
    },
    {
      "cell_type": "markdown",
      "metadata": {
        "id": "y5DJgJSR_LRb",
        "colab_type": "text"
      },
      "source": [
        "Now we can ask questions of the random variable.  For example, if we want to ask the the probability that Emmet's school's score is 310, we would say:\n",
        "\n",
        "* $P(X = 310)$"
      ]
    },
    {
      "cell_type": "markdown",
      "metadata": {
        "id": "HzDR48Cf_LRb",
        "colab_type": "text"
      },
      "source": [
        "And the probability that the school's score is 300 is:\n",
        "\n",
        "* $P(X = 300)$"
      ]
    },
    {
      "cell_type": "markdown",
      "metadata": {
        "id": "iLoU1cx3_LRc",
        "colab_type": "text"
      },
      "source": [
        "Now to represent the probability of that this random variable takes on any value in the sample space, we use the probability distribution function:"
      ]
    },
    {
      "cell_type": "markdown",
      "metadata": {
        "id": "9-sG93Sd_LRc",
        "colab_type": "text"
      },
      "source": [
        "> The **probability distribution function** of a random variable is a mathematical function that provides the probabilities of occurrence of different possible outcomes in that random variable."
      ]
    },
    {
      "cell_type": "markdown",
      "metadata": {
        "id": "665Gj-EZ_LRc",
        "colab_type": "text"
      },
      "source": [
        "> If our random variable is continuous, we call this the **probability density funtion**."
      ]
    },
    {
      "cell_type": "markdown",
      "metadata": {
        "id": "x3bWpQ-4_LRd",
        "colab_type": "text"
      },
      "source": [
        "To show the probability distribution function our defined random variable $X$ above, we can simply plot the different math average math scores a school in NYC can take, and the probability of each score."
      ]
    },
    {
      "cell_type": "markdown",
      "metadata": {
        "id": "8skp4BXH_LRd",
        "colab_type": "text"
      },
      "source": [
        "> Here we'll just look to our sample to get those probabilities."
      ]
    },
    {
      "cell_type": "code",
      "metadata": {
        "id": "4snfb5NVBJ_R",
        "colab_type": "code",
        "outputId": "f0683dd5-45f7-42c8-9c83-d5908f28a6a5",
        "colab": {
          "base_uri": "https://localhost:8080/",
          "height": 204
        }
      },
      "source": [
        "sample_df.head()"
      ],
      "execution_count": 0,
      "outputs": [
        {
          "output_type": "execute_result",
          "data": {
            "text/html": [
              "<div>\n",
              "<style scoped>\n",
              "    .dataframe tbody tr th:only-of-type {\n",
              "        vertical-align: middle;\n",
              "    }\n",
              "\n",
              "    .dataframe tbody tr th {\n",
              "        vertical-align: top;\n",
              "    }\n",
              "\n",
              "    .dataframe thead th {\n",
              "        text-align: right;\n",
              "    }\n",
              "</style>\n",
              "<table border=\"1\" class=\"dataframe\">\n",
              "  <thead>\n",
              "    <tr style=\"text-align: right;\">\n",
              "      <th></th>\n",
              "      <th>DBN</th>\n",
              "      <th>School Name</th>\n",
              "      <th>Number Tested</th>\n",
              "      <th>Mean Scale Score</th>\n",
              "      <th># Level 1</th>\n",
              "      <th># Level 2</th>\n",
              "      <th># Level 3</th>\n",
              "      <th># Level 4</th>\n",
              "    </tr>\n",
              "  </thead>\n",
              "  <tbody>\n",
              "    <tr>\n",
              "      <th>13675</th>\n",
              "      <td>31R027</td>\n",
              "      <td>I.S. 027 ANNING S. PRALL</td>\n",
              "      <td>385</td>\n",
              "      <td>295.0</td>\n",
              "      <td>158.0</td>\n",
              "      <td>133.0</td>\n",
              "      <td>63.0</td>\n",
              "      <td>31.0</td>\n",
              "    </tr>\n",
              "    <tr>\n",
              "      <th>6491</th>\n",
              "      <td>14K318</td>\n",
              "      <td>I.S. 318 EUGENIO MARIA DE HOSTOS</td>\n",
              "      <td>328</td>\n",
              "      <td>289.0</td>\n",
              "      <td>116.0</td>\n",
              "      <td>184.0</td>\n",
              "      <td>27.0</td>\n",
              "      <td>1.0</td>\n",
              "    </tr>\n",
              "    <tr>\n",
              "      <th>10264</th>\n",
              "      <td>24Q061</td>\n",
              "      <td>I.S. 061 LEONARDO DA VINCI</td>\n",
              "      <td>768</td>\n",
              "      <td>295.0</td>\n",
              "      <td>295.0</td>\n",
              "      <td>318.0</td>\n",
              "      <td>102.0</td>\n",
              "      <td>53.0</td>\n",
              "    </tr>\n",
              "    <tr>\n",
              "      <th>12716</th>\n",
              "      <td>29Q138</td>\n",
              "      <td>P.S./ M.S.138 SUNRISE</td>\n",
              "      <td>41</td>\n",
              "      <td>264.0</td>\n",
              "      <td>33.0</td>\n",
              "      <td>8.0</td>\n",
              "      <td>0.0</td>\n",
              "      <td>0.0</td>\n",
              "    </tr>\n",
              "    <tr>\n",
              "      <th>3804</th>\n",
              "      <td>09X219</td>\n",
              "      <td>I.S. 219 NEW VENTURE SCHOOL</td>\n",
              "      <td>108</td>\n",
              "      <td>254.0</td>\n",
              "      <td>88.0</td>\n",
              "      <td>20.0</td>\n",
              "      <td>0.0</td>\n",
              "      <td>0.0</td>\n",
              "    </tr>\n",
              "  </tbody>\n",
              "</table>\n",
              "</div>"
            ],
            "text/plain": [
              "          DBN                       School Name  ...  # Level 3  # Level 4\n",
              "13675  31R027          I.S. 027 ANNING S. PRALL  ...       63.0       31.0\n",
              "6491   14K318  I.S. 318 EUGENIO MARIA DE HOSTOS  ...       27.0        1.0\n",
              "10264  24Q061        I.S. 061 LEONARDO DA VINCI  ...      102.0       53.0\n",
              "12716  29Q138             P.S./ M.S.138 SUNRISE  ...        0.0        0.0\n",
              "3804   09X219       I.S. 219 NEW VENTURE SCHOOL  ...        0.0        0.0\n",
              "\n",
              "[5 rows x 8 columns]"
            ]
          },
          "metadata": {
            "tags": []
          },
          "execution_count": 13
        }
      ]
    },
    {
      "cell_type": "code",
      "metadata": {
        "id": "kqtr8re5A4N5",
        "colab_type": "code",
        "colab": {}
      },
      "source": [
        "avg_score = sample_df['Mean Scale Score']"
      ],
      "execution_count": 0,
      "outputs": []
    },
    {
      "cell_type": "code",
      "metadata": {
        "id": "qsluwuk2_LRe",
        "colab_type": "code",
        "outputId": "d37371cc-aa10-434e-ed88-a4a38ea963c1",
        "colab": {
          "base_uri": "https://localhost:8080/",
          "height": 279
        }
      },
      "source": [
        "import matplotlib.pyplot as plt\n",
        "\n",
        "ax = avg_score.hist(density = True)\n",
        "ax.set(xlabel = 'avg math score', ylabel = 'probability')\n",
        "pdf_fig = plt.gcf()"
      ],
      "execution_count": 0,
      "outputs": [
        {
          "output_type": "display_data",
          "data": {
            "image/png": "[encoded data removed]",
            "text/plain": [
              "<Figure size 432x288 with 1 Axes>"
            ]
          },
          "metadata": {
            "tags": []
          }
        }
      ]
    },
    {
      "cell_type": "markdown",
      "metadata": {
        "id": "KW6Cpapk_LRh",
        "colab_type": "text"
      },
      "source": [
        "> The key line is: `ax = avg_score.hist(density = True)`"
      ]
    },
    {
      "cell_type": "markdown",
      "metadata": {
        "id": "sJaXqDWX_LRi",
        "colab_type": "text"
      },
      "source": [
        "So the above is a plot of the probability distribution function for our random variable $X$.  Let's make sure that we can interpret the above.  Across the bottom are the range of values in our sample space and vertically we are representing the corresponding probability of each outcome."
      ]
    },
    {
      "cell_type": "markdown",
      "metadata": {
        "id": "a9C1TPWK_LRj",
        "colab_type": "text"
      },
      "source": [
        "So we can read the graph above as saying there's a $.21$ probability that Emmet's school's math score is 300."
      ]
    },
    {
      "cell_type": "markdown",
      "metadata": {
        "id": "CSP7_7mB_LRj",
        "colab_type": "text"
      },
      "source": [
        "* $P(X = 300) = .21$"
      ]
    },
    {
      "cell_type": "markdown",
      "metadata": {
        "id": "XzUCg_H9_LRj",
        "colab_type": "text"
      },
      "source": [
        "How did we get the probability distribution above.  We just took counts of all the values (our frequency distribution), and divided it by the size of our sample.  This shows us **relative frequencies** of each outcome in our distribution's sample space."
      ]
    },
    {
      "cell_type": "markdown",
      "metadata": {
        "id": "S5NF4Mci_LRk",
        "colab_type": "text"
      },
      "source": [
        "> Pandas can do this for us."
      ]
    },
    {
      "cell_type": "code",
      "metadata": {
        "id": "1PVr_UFY_LRk",
        "colab_type": "code",
        "outputId": "e3c81641-46aa-44a6-b299-7d4cb279effa",
        "colab": {
          "base_uri": "https://localhost:8080/",
          "height": 204
        }
      },
      "source": [
        "avg_score.value_counts(normalize = True).sort_index().iloc[:10]"
      ],
      "execution_count": 0,
      "outputs": [
        {
          "output_type": "execute_result",
          "data": {
            "text/plain": [
              "245.0    0.010101\n",
              "250.0    0.010101\n",
              "254.0    0.010101\n",
              "259.0    0.010101\n",
              "262.0    0.010101\n",
              "264.0    0.030303\n",
              "265.0    0.010101\n",
              "266.0    0.010101\n",
              "269.0    0.030303\n",
              "270.0    0.010101\n",
              "Name: Mean Scale Score, dtype: float64"
            ]
          },
          "metadata": {
            "tags": []
          },
          "execution_count": 16
        }
      ]
    },
    {
      "cell_type": "markdown",
      "metadata": {
        "id": "QhQMeJER_LRm",
        "colab_type": "text"
      },
      "source": [
        "So this is just our probability distribution function again, this time in a table form (as opposed to a graph).  The value and the corresponding probability.  The return value from the `value_counts(normalize=True)` also returns to us our probability distribution function for a random variable."
      ]
    },
    {
      "cell_type": "markdown",
      "metadata": {
        "id": "jvtTpNs7_LRn",
        "colab_type": "text"
      },
      "source": [
        "> Every outcome in the sample space that is not that is not listed, we can set equal to zero."
      ]
    },
    {
      "cell_type": "markdown",
      "metadata": {
        "id": "3Bmu683T_LRn",
        "colab_type": "text"
      },
      "source": [
        "Now that in calling this our probability distribution function, we are making a pretty large assumption - that these relative frequencies in our sample are also the probabilities of occurrence in the future.  But for now, it's ok.    "
      ]
    },
    {
      "cell_type": "markdown",
      "metadata": {
        "id": "rmKT-cFT_LRn",
        "colab_type": "text"
      },
      "source": [
        "### Summary"
      ]
    },
    {
      "cell_type": "markdown",
      "metadata": {
        "id": "LA9MKePF_LRo",
        "colab_type": "text"
      },
      "source": [
        "In this lesson we learned about random variables.  A random variable as a variable whose values depend on outcomes of a random phenomenon.  A random variable has a sample space, which is the set of all possible outcomes.  And that sample space can be either continuous or discrete.  \n",
        "\n",
        "A sample space is continous if the set of outcomes consists of any value between the minimum value and maximum value in the sample space.   A sample space is discrete if there are countably many outcomes. "
      ]
    },
    {
      "cell_type": "markdown",
      "metadata": {
        "id": "_3Ju6xFX_LRp",
        "colab_type": "text"
      },
      "source": [
        "<img src=\"https://github.com/jigsawlabs-student/modeling-distributions/blob/master/discrete-cont-side.png?raw=1\" width=\"30%\">"
      ]
    },
    {
      "cell_type": "markdown",
      "metadata": {
        "id": "Gk-VhSkf_LRp",
        "colab_type": "text"
      },
      "source": [
        "Here, we defined our random variable $X$ where $X = $  the math score of Emmet's assigned school."
      ]
    },
    {
      "cell_type": "markdown",
      "metadata": {
        "id": "57Vtow0e_LRp",
        "colab_type": "text"
      },
      "source": [
        "Each random variable has a probability distribution function, which is a mathematical function that provides the probabilities of occurrence of different possible outcomes in an experiment.  Here, we used the relative frequencies in our random sample to define the probability distribution function."
      ]
    },
    {
      "cell_type": "code",
      "metadata": {
        "id": "Qhz0wCU-_LRq",
        "colab_type": "code",
        "outputId": "dd1fac24-e863-4f9c-b4e9-d26f3c1921ab",
        "colab": {
          "base_uri": "https://localhost:8080/",
          "height": 204
        }
      },
      "source": [
        "avg_score.value_counts(normalize = True).sort_index().iloc[:10]"
      ],
      "execution_count": 0,
      "outputs": [
        {
          "output_type": "execute_result",
          "data": {
            "text/plain": [
              "245.0    0.010101\n",
              "250.0    0.010101\n",
              "254.0    0.010101\n",
              "259.0    0.010101\n",
              "262.0    0.010101\n",
              "264.0    0.030303\n",
              "265.0    0.010101\n",
              "266.0    0.010101\n",
              "269.0    0.030303\n",
              "270.0    0.010101\n",
              "Name: Mean Scale Score, dtype: float64"
            ]
          },
          "metadata": {
            "tags": []
          },
          "execution_count": 17
        }
      ]
    },
    {
      "cell_type": "markdown",
      "metadata": {
        "id": "sbXg3o5P_LRt",
        "colab_type": "text"
      },
      "source": [
        "Or in graph form:"
      ]
    },
    {
      "cell_type": "code",
      "metadata": {
        "id": "W1suEmao_LRt",
        "colab_type": "code",
        "outputId": "f81f33d4-5a49-4cd3-d1f2-159ef620e476",
        "colab": {
          "base_uri": "https://localhost:8080/",
          "height": 279
        }
      },
      "source": [
        "import matplotlib.pyplot as plt\n",
        "\n",
        "ax = avg_score.hist(density = True)\n",
        "ax.set(xlabel = 'avg math score', ylabel = 'probability')\n",
        "pdf_fig = plt.gcf()"
      ],
      "execution_count": 0,
      "outputs": [
        {
          "output_type": "display_data",
          "data": {
            "image/png": "[encoded data removed]",
            "text/plain": [
              "<Figure size 432x288 with 1 Axes>"
            ]
          },
          "metadata": {
            "tags": []
          }
        }
      ]
    }
  ]
}