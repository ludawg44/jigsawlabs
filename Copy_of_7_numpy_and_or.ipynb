{
  "nbformat": 4,
  "nbformat_minor": 0,
  "metadata": {
    "kernelspec": {
      "display_name": "Python 3",
      "language": "python",
      "name": "python3"
    },
    "language_info": {
      "codemirror_mode": {
        "name": "ipython",
        "version": 3
      },
      "file_extension": ".py",
      "mimetype": "text/x-python",
      "name": "python",
      "nbconvert_exporter": "python",
      "pygments_lexer": "ipython3",
      "version": "3.7.4"
    },
    "colab": {
      "name": "Copy of 7-numpy-and-or.ipynb",
      "provenance": [],
      "include_colab_link": true
    }
  },
  "cells": [
    {
      "cell_type": "markdown",
      "metadata": {
        "id": "view-in-github",
        "colab_type": "text"
      },
      "source": [
        "<a href=\"https://colab.research.google.com/github/ludawg44/jigsawlabs/blob/master/Copy_of_7_numpy_and_or.ipynb\" target=\"_parent\"><img src=\"https://colab.research.google.com/assets/colab-badge.svg\" alt=\"Open In Colab\"/></a>"
      ]
    },
    {
      "cell_type": "markdown",
      "metadata": {
        "id": "TvW_wF3Cpt1I",
        "colab_type": "text"
      },
      "source": [
        "# Multiple Conditions with And and Or and Not"
      ]
    },
    {
      "cell_type": "markdown",
      "metadata": {
        "id": "zAsITQAHpt1K",
        "colab_type": "text"
      },
      "source": [
        "### Introduction"
      ]
    },
    {
      "cell_type": "markdown",
      "metadata": {
        "id": "EiUgQ70Upt1L",
        "colab_type": "text"
      },
      "source": [
        "In the last lesson, we saw how we can use the `isin` condition to see if an item matches one of multiple values."
      ]
    },
    {
      "cell_type": "code",
      "metadata": {
        "id": "JjjfGeqSpt1M",
        "colab_type": "code",
        "outputId": "860a9806-3017-4f72-d14d-5748cb613635",
        "colab": {}
      },
      "source": [
        "import numpy as np\n",
        "increasing_grid = np.arange(1, 26).reshape(5, 5)\n",
        "increasing_grid"
      ],
      "execution_count": 0,
      "outputs": [
        {
          "output_type": "execute_result",
          "data": {
            "text/plain": [
              "array([[ 1,  2,  3,  4,  5],\n",
              "       [ 6,  7,  8,  9, 10],\n",
              "       [11, 12, 13, 14, 15],\n",
              "       [16, 17, 18, 19, 20],\n",
              "       [21, 22, 23, 24, 25]])"
            ]
          },
          "metadata": {
            "tags": []
          },
          "execution_count": 1
        }
      ]
    },
    {
      "cell_type": "code",
      "metadata": {
        "id": "rExfEl7Hpt1R",
        "colab_type": "code",
        "outputId": "19952ae3-9d31-486a-f0af-37f0797b3251",
        "colab": {}
      },
      "source": [
        "np.isin(increasing_grid[0, :], [1, 3, 5])"
      ],
      "execution_count": 0,
      "outputs": [
        {
          "output_type": "execute_result",
          "data": {
            "text/plain": [
              "array([ True, False,  True, False,  True])"
            ]
          },
          "metadata": {
            "tags": []
          },
          "execution_count": 3
        }
      ]
    },
    {
      "cell_type": "markdown",
      "metadata": {
        "id": "ltuaK4TTpt1U",
        "colab_type": "text"
      },
      "source": [
        "And we saw that we can use `any` condition to query if any value in an array is True."
      ]
    },
    {
      "cell_type": "code",
      "metadata": {
        "id": "5tNVNJVRpt1V",
        "colab_type": "code",
        "outputId": "44b1bf4e-1eb4-4f57-c31d-476e484f105e",
        "colab": {}
      },
      "source": [
        "increasing_grid[0, :] == 2"
      ],
      "execution_count": 0,
      "outputs": [
        {
          "output_type": "execute_result",
          "data": {
            "text/plain": [
              "array([False,  True, False, False, False])"
            ]
          },
          "metadata": {
            "tags": []
          },
          "execution_count": 8
        }
      ]
    },
    {
      "cell_type": "code",
      "metadata": {
        "id": "ktHup6QRpt1Y",
        "colab_type": "code",
        "outputId": "94383a10-2b14-4596-adf7-789dfb23577d",
        "colab": {}
      },
      "source": [
        "np.any(increasing_grid[0, :] == 2)"
      ],
      "execution_count": 0,
      "outputs": [
        {
          "output_type": "execute_result",
          "data": {
            "text/plain": [
              "True"
            ]
          },
          "metadata": {
            "tags": []
          },
          "execution_count": 9
        }
      ]
    },
    {
      "cell_type": "markdown",
      "metadata": {
        "id": "2Pkcb8fEpt1b",
        "colab_type": "text"
      },
      "source": [
        "Now let's see how we can perform queries with **multiple conditions** in a single numpy call."
      ]
    },
    {
      "cell_type": "markdown",
      "metadata": {
        "id": "Cp_sUznspt1c",
        "colab_type": "text"
      },
      "source": [
        "### Using And"
      ]
    },
    {
      "cell_type": "markdown",
      "metadata": {
        "id": "QEDjyX9Upt1d",
        "colab_type": "text"
      },
      "source": [
        "Let's start with a familiar query of only returning rows where the second column is odd."
      ]
    },
    {
      "cell_type": "code",
      "metadata": {
        "id": "h1cSc1XHpt1e",
        "colab_type": "code",
        "outputId": "79102d82-3e15-47d1-cb0f-db714d3ae8b9",
        "colab": {}
      },
      "source": [
        "import numpy as np\n",
        "increasing_grid = np.arange(1, 26).reshape(5, 5)\n",
        "increasing_grid"
      ],
      "execution_count": 0,
      "outputs": [
        {
          "output_type": "execute_result",
          "data": {
            "text/plain": [
              "array([[ 1,  2,  3,  4,  5],\n",
              "       [ 6,  7,  8,  9, 10],\n",
              "       [11, 12, 13, 14, 15],\n",
              "       [16, 17, 18, 19, 20],\n",
              "       [21, 22, 23, 24, 25]])"
            ]
          },
          "metadata": {
            "tags": []
          },
          "execution_count": 15
        }
      ]
    },
    {
      "cell_type": "code",
      "metadata": {
        "id": "vl8KMO9Dpt1h",
        "colab_type": "code",
        "outputId": "5e3d2122-df08-49b7-cf81-0379be9a1499",
        "colab": {}
      },
      "source": [
        "increasing_grid[increasing_grid[:, 2] % 2 == 1]"
      ],
      "execution_count": 0,
      "outputs": [
        {
          "output_type": "execute_result",
          "data": {
            "text/plain": [
              "array([[ 1,  2,  3,  4,  5],\n",
              "       [11, 12, 13, 14, 15],\n",
              "       [21, 22, 23, 24, 25]])"
            ]
          },
          "metadata": {
            "tags": []
          },
          "execution_count": 16
        }
      ]
    },
    {
      "cell_type": "markdown",
      "metadata": {
        "id": "U_ViDnY6pt1k",
        "colab_type": "text"
      },
      "source": [
        "Now, let's say that we only want to return rows where the second item is odd, and the third item is less than 15."
      ]
    },
    {
      "cell_type": "code",
      "metadata": {
        "id": "ae1hwfzXpt1k",
        "colab_type": "code",
        "outputId": "6c80221e-7359-4801-b92c-43a2a985ec3a",
        "colab": {}
      },
      "source": [
        "increasing_grid[(increasing_grid[:, 2] % 2 == 1) & (increasing_grid[:, 2] < 15)]"
      ],
      "execution_count": 0,
      "outputs": [
        {
          "output_type": "execute_result",
          "data": {
            "text/plain": [
              "array([[ 1,  2,  3,  4,  5],\n",
              "       [11, 12, 13, 14, 15]])"
            ]
          },
          "metadata": {
            "tags": []
          },
          "execution_count": 18
        }
      ]
    },
    {
      "cell_type": "markdown",
      "metadata": {
        "id": "GWXDOn9gpt1o",
        "colab_type": "text"
      },
      "source": [
        "> Notice that how we achieve this.  We surround each query with parentheses, and only return rows that return True for both queries by placing an `&` in between."
      ]
    },
    {
      "cell_type": "markdown",
      "metadata": {
        "id": "9imJy5ozpt1o",
        "colab_type": "text"
      },
      "source": [
        "Now try it on your own.  Select the elements where the first item is even and where the last item is greater than 10."
      ]
    },
    {
      "cell_type": "code",
      "metadata": {
        "id": "ALdDELNJpt1p",
        "colab_type": "code",
        "outputId": "c9de3f03-37cc-43b0-9183-53f40b1a1bf0",
        "colab": {}
      },
      "source": [
        "\n",
        "\n",
        "# array([[16, 17, 18, 19, 20]])"
      ],
      "execution_count": 0,
      "outputs": [
        {
          "output_type": "execute_result",
          "data": {
            "text/plain": [
              "array([[16, 17, 18, 19, 20]])"
            ]
          },
          "metadata": {
            "tags": []
          },
          "execution_count": 20
        }
      ]
    },
    {
      "cell_type": "markdown",
      "metadata": {
        "id": "lEt3gKxzpt1s",
        "colab_type": "text"
      },
      "source": [
        "### Using Or"
      ]
    },
    {
      "cell_type": "markdown",
      "metadata": {
        "id": "v3Z6ALhRpt1t",
        "colab_type": "text"
      },
      "source": [
        "Ok, now we can use or statements with use of the `|` (pipe) character."
      ]
    },
    {
      "cell_type": "markdown",
      "metadata": {
        "id": "GOJFwANMpt1t",
        "colab_type": "text"
      },
      "source": [
        "Let's select all of the rows where the third column is `1` **or** the third column is less than 15."
      ]
    },
    {
      "cell_type": "code",
      "metadata": {
        "id": "46wFqgiUpt1u",
        "colab_type": "code",
        "outputId": "71748615-03f8-4536-bb51-6ad2259f3f5d",
        "colab": {}
      },
      "source": [
        "increasing_grid[(increasing_grid[:, 2] % 2 == 1) | (increasing_grid[:, 2] < 15)]"
      ],
      "execution_count": 0,
      "outputs": [
        {
          "output_type": "execute_result",
          "data": {
            "text/plain": [
              "array([[ 1,  2,  3,  4,  5],\n",
              "       [ 6,  7,  8,  9, 10],\n",
              "       [11, 12, 13, 14, 15],\n",
              "       [21, 22, 23, 24, 25]])"
            ]
          },
          "metadata": {
            "tags": []
          },
          "execution_count": 20
        }
      ]
    },
    {
      "cell_type": "markdown",
      "metadata": {
        "id": "pHc9RDD8pt1x",
        "colab_type": "text"
      },
      "source": [
        "Try it on your own."
      ]
    },
    {
      "cell_type": "markdown",
      "metadata": {
        "id": "t3aR1IeApt1x",
        "colab_type": "text"
      },
      "source": [
        "Select the rows where the fourth item is odd or the first item is greater than 15."
      ]
    },
    {
      "cell_type": "code",
      "metadata": {
        "id": "lSvFK5IYpt1y",
        "colab_type": "code",
        "outputId": "43e2e162-dd43-4707-d139-08529c8f6b1d",
        "colab": {}
      },
      "source": [
        "\n",
        "\n",
        "# array([[ 6,  7,  8,  9, 10],\n",
        "#        [16, 17, 18, 19, 20],\n",
        "#        [21, 22, 23, 24, 25]])"
      ],
      "execution_count": 0,
      "outputs": [
        {
          "output_type": "execute_result",
          "data": {
            "text/plain": [
              "array([[ 6,  7,  8,  9, 10],\n",
              "       [16, 17, 18, 19, 20],\n",
              "       [21, 22, 23, 24, 25]])"
            ]
          },
          "metadata": {
            "tags": []
          },
          "execution_count": 68
        }
      ]
    },
    {
      "cell_type": "markdown",
      "metadata": {
        "id": "rCYkQYWrpt11",
        "colab_type": "text"
      },
      "source": [
        "Finally, we can use not with the `~` symbol."
      ]
    },
    {
      "cell_type": "code",
      "metadata": {
        "id": "_g9Kr2pMpt12",
        "colab_type": "code",
        "outputId": "620bf640-be2d-420e-fc25-2388d8a17548",
        "colab": {}
      },
      "source": [
        "increasing_grid"
      ],
      "execution_count": 0,
      "outputs": [
        {
          "output_type": "execute_result",
          "data": {
            "text/plain": [
              "array([[ 1,  2,  3,  4,  5],\n",
              "       [ 6,  7,  8,  9, 10],\n",
              "       [11, 12, 13, 14, 15],\n",
              "       [16, 17, 18, 19, 20],\n",
              "       [21, 22, 23, 24, 25]])"
            ]
          },
          "metadata": {
            "tags": []
          },
          "execution_count": 22
        }
      ]
    },
    {
      "cell_type": "code",
      "metadata": {
        "id": "nS8yDrm5pt15",
        "colab_type": "code",
        "outputId": "3050d2d1-9144-4d56-fe1c-e7608e70387d",
        "colab": {}
      },
      "source": [
        "first_row = increasing_grid[0, :]\n",
        "\n",
        "first_row"
      ],
      "execution_count": 0,
      "outputs": [
        {
          "output_type": "execute_result",
          "data": {
            "text/plain": [
              "array([1, 2, 3, 4, 5])"
            ]
          },
          "metadata": {
            "tags": []
          },
          "execution_count": 25
        }
      ]
    },
    {
      "cell_type": "code",
      "metadata": {
        "id": "EiWnHb79pt1-",
        "colab_type": "code",
        "outputId": "4962db7a-8d93-4a6b-ccc6-6d87948ca6ca",
        "colab": {}
      },
      "source": [
        "first_row[~np.isin(first_row, [1, 3])]"
      ],
      "execution_count": 0,
      "outputs": [
        {
          "output_type": "execute_result",
          "data": {
            "text/plain": [
              "array([2, 4, 5])"
            ]
          },
          "metadata": {
            "tags": []
          },
          "execution_count": 26
        }
      ]
    },
    {
      "cell_type": "markdown",
      "metadata": {
        "id": "kvKzs82Upt2B",
        "colab_type": "text"
      },
      "source": [
        "### Summary"
      ]
    },
    {
      "cell_type": "markdown",
      "metadata": {
        "id": "EF01ivijpt2B",
        "colab_type": "text"
      },
      "source": [
        "In this lesson, how we can use numpy's `&` and `|` operators, to return items so that we can use multiple conditions in our query.  If we only wish to return items meet both conditions we use the `&` operator, and demarcate each condition with parentheses."
      ]
    },
    {
      "cell_type": "markdown",
      "metadata": {
        "id": "LAHrIZsFpt2C",
        "colab_type": "text"
      },
      "source": [
        "```python\n",
        "increasing_grid[(increasing_grid[:, 2] % 2 == 0) & (increasing_grid[:, -1] > 10)]\n",
        "```"
      ]
    },
    {
      "cell_type": "markdown",
      "metadata": {
        "id": "qy2N-YKTpt2E",
        "colab_type": "text"
      },
      "source": [
        "To return items that match one of two conditions, we use the `|` operator."
      ]
    },
    {
      "cell_type": "markdown",
      "metadata": {
        "id": "xSUyNRd_pt2F",
        "colab_type": "text"
      },
      "source": [
        "```python\n",
        "increasing_grid[(increasing_grid[:, 2] % 2 == 0) | (increasing_grid[:, -1] > 10)]\n",
        "```"
      ]
    },
    {
      "cell_type": "markdown",
      "metadata": {
        "id": "697bM3O8pt2G",
        "colab_type": "text"
      },
      "source": [
        "### Solutions"
      ]
    },
    {
      "cell_type": "markdown",
      "metadata": {
        "id": "Op8i2xp5pt2I",
        "colab_type": "text"
      },
      "source": [
        "* & problem"
      ]
    },
    {
      "cell_type": "code",
      "metadata": {
        "id": "2nreMeoept2J",
        "colab_type": "code",
        "outputId": "1f7f540c-92fe-409e-fccd-8ff49b7a8b37",
        "colab": {}
      },
      "source": [
        "increasing_grid[(increasing_grid[:, 2] % 2 == 0) & (increasing_grid[:, -1] > 10)]"
      ],
      "execution_count": 0,
      "outputs": [
        {
          "output_type": "execute_result",
          "data": {
            "text/plain": [
              "array([[16, 17, 18, 19, 20]])"
            ]
          },
          "metadata": {
            "tags": []
          },
          "execution_count": 21
        }
      ]
    },
    {
      "cell_type": "markdown",
      "metadata": {
        "id": "gqwYmU9wpt2S",
        "colab_type": "text"
      },
      "source": [
        "* | problem"
      ]
    },
    {
      "cell_type": "code",
      "metadata": {
        "id": "24gmnuQTpt2T",
        "colab_type": "code",
        "outputId": "f2c70687-4d9c-4bb8-f228-7da6035c577f",
        "colab": {}
      },
      "source": [
        "increasing_grid[(increasing_grid[:, 3] % 2 == 1)| (increasing_grid[:, 2] > 15)]"
      ],
      "execution_count": 0,
      "outputs": [
        {
          "output_type": "execute_result",
          "data": {
            "text/plain": [
              "array([[ 6,  7,  8,  9, 10],\n",
              "       [16, 17, 18, 19, 20],\n",
              "       [21, 22, 23, 24, 25]])"
            ]
          },
          "metadata": {
            "tags": []
          },
          "execution_count": 19
        }
      ]
    }
  ]
}