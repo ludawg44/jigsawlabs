{
  "nbformat": 4,
  "nbformat_minor": 0,
  "metadata": {
    "kernelspec": {
      "display_name": "Python 3",
      "language": "python",
      "name": "python3"
    },
    "language_info": {
      "codemirror_mode": {
        "name": "ipython",
        "version": 3
      },
      "file_extension": ".py",
      "mimetype": "text/x-python",
      "name": "python",
      "nbconvert_exporter": "python",
      "pygments_lexer": "ipython3",
      "version": "3.7.4"
    },
    "colab": {
      "name": "Copy of lab-datetimes.ipynb",
      "provenance": [],
      "include_colab_link": true
    }
  },
  "cells": [
    {
      "cell_type": "markdown",
      "metadata": {
        "id": "view-in-github",
        "colab_type": "text"
      },
      "source": [
        "<a href=\"https://colab.research.google.com/github/ludawg44/jigsawlabs/blob/master/21Apr20_lab_datetimes.ipynb\" target=\"_parent\"><img src=\"https://colab.research.google.com/assets/colab-badge.svg\" alt=\"Open In Colab\"/></a>"
      ]
    },
    {
      "cell_type": "markdown",
      "metadata": {
        "id": "2fq8KFZcCIXt",
        "colab_type": "text"
      },
      "source": [
        "# DateTimes Lab"
      ]
    },
    {
      "cell_type": "markdown",
      "metadata": {
        "id": "Ml71RG0ECIXu",
        "colab_type": "text"
      },
      "source": [
        "## Introduction\n",
        "In the previous lesson we learned how to handle DateTime features in Pandas. We can create a variety of different features using dates, and in this lab we will practice some of those methods."
      ]
    },
    {
      "cell_type": "markdown",
      "metadata": {
        "id": "JQw_P7rZCIXu",
        "colab_type": "text"
      },
      "source": [
        "In the cells below, populate a dataframe with the following columns from `house_data.csv`: 'date' (the sell date), 'yr_built' (original build date), and 'yr_renovated' (renovation date)."
      ]
    },
    {
      "cell_type": "code",
      "metadata": {
        "id": "WKJY0jTtCIXv",
        "colab_type": "code",
        "colab": {}
      },
      "source": [
        "import pandas as pd\n",
        "import matplotlib.pyplot as plt\n",
        "%matplotlib inline"
      ],
      "execution_count": 0,
      "outputs": []
    },
    {
      "cell_type": "code",
      "metadata": {
        "id": "ljWSQdo_CIXz",
        "colab_type": "code",
        "colab": {}
      },
      "source": [
        "url = \"https://raw.githubusercontent.com/jigsawlabs-student/feature-engineering/master/6-datetimes-lab/house_data.csv\"\n",
        "df = pd.read_csv(url, index_col = 0)"
      ],
      "execution_count": 0,
      "outputs": []
    },
    {
      "cell_type": "code",
      "metadata": {
        "id": "kAMLNlN_CIX2",
        "colab_type": "code",
        "outputId": "80a3a25f-d8b2-4557-ad5d-ac25cb526831",
        "colab": {
          "base_uri": "https://localhost:8080/",
          "height": 224
        }
      },
      "source": [
        "\n",
        "df[:5]"
      ],
      "execution_count": 0,
      "outputs": [
        {
          "output_type": "execute_result",
          "data": {
            "text/html": [
              "<div>\n",
              "<style scoped>\n",
              "    .dataframe tbody tr th:only-of-type {\n",
              "        vertical-align: middle;\n",
              "    }\n",
              "\n",
              "    .dataframe tbody tr th {\n",
              "        vertical-align: top;\n",
              "    }\n",
              "\n",
              "    .dataframe thead th {\n",
              "        text-align: right;\n",
              "    }\n",
              "</style>\n",
              "<table border=\"1\" class=\"dataframe\">\n",
              "  <thead>\n",
              "    <tr style=\"text-align: right;\">\n",
              "      <th></th>\n",
              "      <th>id</th>\n",
              "      <th>date</th>\n",
              "      <th>price</th>\n",
              "      <th>bedrooms</th>\n",
              "      <th>bathrooms</th>\n",
              "      <th>sqft_living</th>\n",
              "      <th>sqft_lot</th>\n",
              "      <th>floors</th>\n",
              "      <th>waterfront</th>\n",
              "      <th>view</th>\n",
              "      <th>condition</th>\n",
              "      <th>grade</th>\n",
              "      <th>sqft_above</th>\n",
              "      <th>sqft_basement</th>\n",
              "      <th>yr_built</th>\n",
              "      <th>yr_renovated</th>\n",
              "      <th>zipcode</th>\n",
              "      <th>lat</th>\n",
              "      <th>long</th>\n",
              "      <th>sqft_living15</th>\n",
              "      <th>sqft_lot15</th>\n",
              "    </tr>\n",
              "  </thead>\n",
              "  <tbody>\n",
              "    <tr>\n",
              "      <th>0</th>\n",
              "      <td>7129300520</td>\n",
              "      <td>20141013T000000</td>\n",
              "      <td>221900.0</td>\n",
              "      <td>3</td>\n",
              "      <td>1.00</td>\n",
              "      <td>1180</td>\n",
              "      <td>5650</td>\n",
              "      <td>1.0</td>\n",
              "      <td>0</td>\n",
              "      <td>0</td>\n",
              "      <td>3</td>\n",
              "      <td>7</td>\n",
              "      <td>1180</td>\n",
              "      <td>0</td>\n",
              "      <td>1955</td>\n",
              "      <td>0</td>\n",
              "      <td>98178</td>\n",
              "      <td>47.5112</td>\n",
              "      <td>-122.257</td>\n",
              "      <td>1340</td>\n",
              "      <td>5650</td>\n",
              "    </tr>\n",
              "    <tr>\n",
              "      <th>1</th>\n",
              "      <td>6414100192</td>\n",
              "      <td>20141209T000000</td>\n",
              "      <td>538000.0</td>\n",
              "      <td>3</td>\n",
              "      <td>2.25</td>\n",
              "      <td>2570</td>\n",
              "      <td>7242</td>\n",
              "      <td>2.0</td>\n",
              "      <td>0</td>\n",
              "      <td>0</td>\n",
              "      <td>3</td>\n",
              "      <td>7</td>\n",
              "      <td>2170</td>\n",
              "      <td>400</td>\n",
              "      <td>1951</td>\n",
              "      <td>1991</td>\n",
              "      <td>98125</td>\n",
              "      <td>47.7210</td>\n",
              "      <td>-122.319</td>\n",
              "      <td>1690</td>\n",
              "      <td>7639</td>\n",
              "    </tr>\n",
              "    <tr>\n",
              "      <th>2</th>\n",
              "      <td>5631500400</td>\n",
              "      <td>20150225T000000</td>\n",
              "      <td>180000.0</td>\n",
              "      <td>2</td>\n",
              "      <td>1.00</td>\n",
              "      <td>770</td>\n",
              "      <td>10000</td>\n",
              "      <td>1.0</td>\n",
              "      <td>0</td>\n",
              "      <td>0</td>\n",
              "      <td>3</td>\n",
              "      <td>6</td>\n",
              "      <td>770</td>\n",
              "      <td>0</td>\n",
              "      <td>1933</td>\n",
              "      <td>0</td>\n",
              "      <td>98028</td>\n",
              "      <td>47.7379</td>\n",
              "      <td>-122.233</td>\n",
              "      <td>2720</td>\n",
              "      <td>8062</td>\n",
              "    </tr>\n",
              "    <tr>\n",
              "      <th>3</th>\n",
              "      <td>2487200875</td>\n",
              "      <td>20141209T000000</td>\n",
              "      <td>604000.0</td>\n",
              "      <td>4</td>\n",
              "      <td>3.00</td>\n",
              "      <td>1960</td>\n",
              "      <td>5000</td>\n",
              "      <td>1.0</td>\n",
              "      <td>0</td>\n",
              "      <td>0</td>\n",
              "      <td>5</td>\n",
              "      <td>7</td>\n",
              "      <td>1050</td>\n",
              "      <td>910</td>\n",
              "      <td>1965</td>\n",
              "      <td>0</td>\n",
              "      <td>98136</td>\n",
              "      <td>47.5208</td>\n",
              "      <td>-122.393</td>\n",
              "      <td>1360</td>\n",
              "      <td>5000</td>\n",
              "    </tr>\n",
              "    <tr>\n",
              "      <th>4</th>\n",
              "      <td>1954400510</td>\n",
              "      <td>20150218T000000</td>\n",
              "      <td>510000.0</td>\n",
              "      <td>3</td>\n",
              "      <td>2.00</td>\n",
              "      <td>1680</td>\n",
              "      <td>8080</td>\n",
              "      <td>1.0</td>\n",
              "      <td>0</td>\n",
              "      <td>0</td>\n",
              "      <td>3</td>\n",
              "      <td>8</td>\n",
              "      <td>1680</td>\n",
              "      <td>0</td>\n",
              "      <td>1987</td>\n",
              "      <td>0</td>\n",
              "      <td>98074</td>\n",
              "      <td>47.6168</td>\n",
              "      <td>-122.045</td>\n",
              "      <td>1800</td>\n",
              "      <td>7503</td>\n",
              "    </tr>\n",
              "  </tbody>\n",
              "</table>\n",
              "</div>"
            ],
            "text/plain": [
              "           id             date     price  ...     long  sqft_living15  sqft_lot15\n",
              "0  7129300520  20141013T000000  221900.0  ... -122.257           1340        5650\n",
              "1  6414100192  20141209T000000  538000.0  ... -122.319           1690        7639\n",
              "2  5631500400  20150225T000000  180000.0  ... -122.233           2720        8062\n",
              "3  2487200875  20141209T000000  604000.0  ... -122.393           1360        5000\n",
              "4  1954400510  20150218T000000  510000.0  ... -122.045           1800        7503\n",
              "\n",
              "[5 rows x 21 columns]"
            ]
          },
          "metadata": {
            "tags": []
          },
          "execution_count": 52
        }
      ]
    },
    {
      "cell_type": "markdown",
      "metadata": {
        "id": "wQHA1T5BCIX5",
        "colab_type": "text"
      },
      "source": [
        "Now use info to look at the null values and datatypes of the columns."
      ]
    },
    {
      "cell_type": "code",
      "metadata": {
        "id": "xrPqxT8zCIX5",
        "colab_type": "code",
        "outputId": "e7506424-5cf9-4399-a1f7-f6b7e8fd1785",
        "colab": {
          "base_uri": "https://localhost:8080/",
          "height": 493
        }
      },
      "source": [
        "# use info here\n",
        "df.info()"
      ],
      "execution_count": 0,
      "outputs": [
        {
          "output_type": "stream",
          "text": [
            "<class 'pandas.core.frame.DataFrame'>\n",
            "Int64Index: 21611 entries, 0 to 21612\n",
            "Data columns (total 21 columns):\n",
            " #   Column         Non-Null Count  Dtype  \n",
            "---  ------         --------------  -----  \n",
            " 0   id             21611 non-null  int64  \n",
            " 1   date           21611 non-null  object \n",
            " 2   price          21611 non-null  float64\n",
            " 3   bedrooms       21611 non-null  int64  \n",
            " 4   bathrooms      21611 non-null  float64\n",
            " 5   sqft_living    21611 non-null  int64  \n",
            " 6   sqft_lot       21611 non-null  int64  \n",
            " 7   floors         21611 non-null  float64\n",
            " 8   waterfront     21611 non-null  int64  \n",
            " 9   view           21611 non-null  int64  \n",
            " 10  condition      21611 non-null  int64  \n",
            " 11  grade          21611 non-null  int64  \n",
            " 12  sqft_above     21611 non-null  int64  \n",
            " 13  sqft_basement  21611 non-null  int64  \n",
            " 14  yr_built       21611 non-null  int64  \n",
            " 15  yr_renovated   21611 non-null  int64  \n",
            " 16  zipcode        21611 non-null  int64  \n",
            " 17  lat            21611 non-null  float64\n",
            " 18  long           21611 non-null  float64\n",
            " 19  sqft_living15  21611 non-null  int64  \n",
            " 20  sqft_lot15     21611 non-null  int64  \n",
            "dtypes: float64(5), int64(15), object(1)\n",
            "memory usage: 3.6+ MB\n"
          ],
          "name": "stdout"
        }
      ]
    },
    {
      "cell_type": "markdown",
      "metadata": {
        "id": "-pYkjUmxCIX7",
        "colab_type": "text"
      },
      "source": [
        "### Missing Value Analysis"
      ]
    },
    {
      "cell_type": "markdown",
      "metadata": {
        "id": "oIHKl3-uCIX7",
        "colab_type": "text"
      },
      "source": [
        "Our first step would be to look for missing values across our features, and see how we can clean them up.  We'll skip this for now, so that we can focus on our datetime features."
      ]
    },
    {
      "cell_type": "markdown",
      "metadata": {
        "id": "k4UoQwGGCIX8",
        "colab_type": "text"
      },
      "source": [
        "### Working with our Features"
      ]
    },
    {
      "cell_type": "markdown",
      "metadata": {
        "id": "tXbYi0AmCIX9",
        "colab_type": "text"
      },
      "source": [
        "Our dataframe contains three date features: Date, Year Built, and Year Renovated.  In terms of creating multiple features, the `Date` column will have the most information to unpack.  Let's start there."
      ]
    },
    {
      "cell_type": "markdown",
      "metadata": {
        "id": "6C4pms4gCIX9",
        "colab_type": "text"
      },
      "source": [
        "The first step is select our `date` column, and try converting it to a datetime."
      ]
    },
    {
      "cell_type": "code",
      "metadata": {
        "id": "Aq_w1IP5CIX9",
        "colab_type": "code",
        "colab": {}
      },
      "source": [
        "date_col = df.date"
      ],
      "execution_count": 0,
      "outputs": []
    },
    {
      "cell_type": "code",
      "metadata": {
        "id": "fWtgSpEpCIYA",
        "colab_type": "code",
        "outputId": "9b021241-c3f9-4b7d-b20c-cbf5d3221024",
        "colab": {
          "base_uri": "https://localhost:8080/",
          "height": 68
        }
      },
      "source": [
        "date_col[:2]\n",
        "# 0    20141013T000000\n",
        "# 1    20141209T000000\n",
        "# Name: date, dtype: object"
      ],
      "execution_count": 0,
      "outputs": [
        {
          "output_type": "execute_result",
          "data": {
            "text/plain": [
              "0    20141013T000000\n",
              "1    20141209T000000\n",
              "Name: date, dtype: object"
            ]
          },
          "metadata": {
            "tags": []
          },
          "execution_count": 55
        }
      ]
    },
    {
      "cell_type": "markdown",
      "metadata": {
        "id": "WVZFNG9YCIYC",
        "colab_type": "text"
      },
      "source": [
        "> Convert this column to a datetime."
      ]
    },
    {
      "cell_type": "code",
      "metadata": {
        "id": "Jy5BdUbcCIYD",
        "colab_type": "code",
        "colab": {}
      },
      "source": [
        "date_col_as_dt = pd.to_datetime(df.date)"
      ],
      "execution_count": 0,
      "outputs": []
    },
    {
      "cell_type": "code",
      "metadata": {
        "id": "VY41nOKmCIYF",
        "colab_type": "code",
        "outputId": "fd6a737c-5f5a-4613-e379-cddc57d62a9c",
        "colab": {
          "base_uri": "https://localhost:8080/",
          "height": 68
        }
      },
      "source": [
        "date_col_as_dt[:2]\n",
        "# 0   2014-10-13\n",
        "# 1   2014-12-09\n",
        "# Name: date, dtype: datetime64[ns]"
      ],
      "execution_count": 0,
      "outputs": [
        {
          "output_type": "execute_result",
          "data": {
            "text/plain": [
              "0   2014-10-13\n",
              "1   2014-12-09\n",
              "Name: date, dtype: datetime64[ns]"
            ]
          },
          "metadata": {
            "tags": []
          },
          "execution_count": 57
        }
      ]
    },
    {
      "cell_type": "markdown",
      "metadata": {
        "id": "aoSZbcDZCIYH",
        "colab_type": "text"
      },
      "source": [
        "Ok, now let's drop the the original date column, and add the formatted version as `sale_date`."
      ]
    },
    {
      "cell_type": "code",
      "metadata": {
        "id": "MKxzcY98FNPz",
        "colab_type": "code",
        "outputId": "96815b51-c925-46cb-8e33-71b38499cf5d",
        "colab": {
          "base_uri": "https://localhost:8080/",
          "height": 102
        }
      },
      "source": [
        "df.columns"
      ],
      "execution_count": 0,
      "outputs": [
        {
          "output_type": "execute_result",
          "data": {
            "text/plain": [
              "Index(['id', 'date', 'price', 'bedrooms', 'bathrooms', 'sqft_living',\n",
              "       'sqft_lot', 'floors', 'waterfront', 'view', 'condition', 'grade',\n",
              "       'sqft_above', 'sqft_basement', 'yr_built', 'yr_renovated', 'zipcode',\n",
              "       'lat', 'long', 'sqft_living15', 'sqft_lot15'],\n",
              "      dtype='object')"
            ]
          },
          "metadata": {
            "tags": []
          },
          "execution_count": 58
        }
      ]
    },
    {
      "cell_type": "code",
      "metadata": {
        "id": "LARNxE0cCIYI",
        "colab_type": "code",
        "colab": {}
      },
      "source": [
        "df = df.drop(columns=['date'])\n"
      ],
      "execution_count": 0,
      "outputs": []
    },
    {
      "cell_type": "code",
      "metadata": {
        "id": "DQOWapbeE7O2",
        "colab_type": "code",
        "colab": {}
      },
      "source": [
        "df['sale_date'] = date_col_as_dt"
      ],
      "execution_count": 0,
      "outputs": []
    },
    {
      "cell_type": "code",
      "metadata": {
        "id": "7H2eFxLvCIYL",
        "colab_type": "code",
        "colab": {}
      },
      "source": [
        ""
      ],
      "execution_count": 0,
      "outputs": []
    },
    {
      "cell_type": "code",
      "metadata": {
        "id": "DjgWnei5CIYO",
        "colab_type": "code",
        "outputId": "f25b4260-615f-49d8-e66d-5d67a522eb67",
        "colab": {
          "base_uri": "https://localhost:8080/",
          "height": 85
        }
      },
      "source": [
        "df['sale_date'][:3]\n",
        "\n",
        "# 0   2014-10-13\n",
        "# 1   2014-12-09\n",
        "# 2   2015-02-25\n",
        "# Name: sale_date, dtype: datetime64[ns]"
      ],
      "execution_count": 0,
      "outputs": [
        {
          "output_type": "execute_result",
          "data": {
            "text/plain": [
              "0   2014-10-13\n",
              "1   2014-12-09\n",
              "2   2015-02-25\n",
              "Name: sale_date, dtype: datetime64[ns]"
            ]
          },
          "metadata": {
            "tags": []
          },
          "execution_count": 61
        }
      ]
    },
    {
      "cell_type": "markdown",
      "metadata": {
        "id": "7s3158hqCIYQ",
        "colab_type": "text"
      },
      "source": [
        "Ok, now let's use `add_datepart` to extract multiple features from this column."
      ]
    },
    {
      "cell_type": "code",
      "metadata": {
        "id": "d4rEBSLrCIYQ",
        "colab_type": "code",
        "colab": {}
      },
      "source": [
        "import numpy as np\n",
        "import re\n",
        "def add_datepart(df, fldname, drop=True, time=False, errors=\"raise\"):\n",
        "    fld = df[fldname]\n",
        "    fld_dtype = fld.dtype\n",
        "    if isinstance(fld_dtype, pd.core.dtypes.dtypes.DatetimeTZDtype):\n",
        "        fld_dtype = np.datetime64\n",
        "\n",
        "    if not np.issubdtype(fld_dtype, np.datetime64):\n",
        "        df[fldname] = fld = pd.to_datetime(fld, infer_datetime_format=True, errors=errors)\n",
        "    targ_pre = re.sub('[Dd]ate$', '', fldname)\n",
        "    attr = ['Year', 'Month', 'Week', 'Day', 'Dayofweek', 'Dayofyear',\n",
        "            'Is_month_end', 'Is_month_start', 'Is_quarter_end', 'Is_quarter_start', 'Is_year_end', 'Is_year_start']\n",
        "    if time: attr = attr + ['Hour', 'Minute', 'Second']\n",
        "    for n in attr: df[targ_pre + n] = getattr(fld.dt, n.lower())\n",
        "    df[targ_pre + 'Elapsed'] = fld.astype(np.int64) // 10 ** 9\n",
        "    if drop: df.drop(fldname, axis=1, inplace=True)"
      ],
      "execution_count": 0,
      "outputs": []
    },
    {
      "cell_type": "markdown",
      "metadata": {
        "id": "HdriFGjFCIYS",
        "colab_type": "text"
      },
      "source": [
        "Use add datepart on our dataframe on the sale_date column."
      ]
    },
    {
      "cell_type": "code",
      "metadata": {
        "id": "4vquNHjpG2Uj",
        "colab_type": "code",
        "outputId": "76991c69-51b6-4d2f-a0cf-1ffd83649631",
        "colab": {
          "base_uri": "https://localhost:8080/",
          "height": 102
        }
      },
      "source": [
        "df.columns"
      ],
      "execution_count": 0,
      "outputs": [
        {
          "output_type": "execute_result",
          "data": {
            "text/plain": [
              "Index(['id', 'price', 'bedrooms', 'bathrooms', 'sqft_living', 'sqft_lot',\n",
              "       'floors', 'waterfront', 'view', 'condition', 'grade', 'sqft_above',\n",
              "       'sqft_basement', 'yr_built', 'yr_renovated', 'zipcode', 'lat', 'long',\n",
              "       'sqft_living15', 'sqft_lot15', 'sale_date'],\n",
              "      dtype='object')"
            ]
          },
          "metadata": {
            "tags": []
          },
          "execution_count": 63
        }
      ]
    },
    {
      "cell_type": "code",
      "metadata": {
        "id": "L5cuQz13CIYS",
        "colab_type": "code",
        "colab": {}
      },
      "source": [
        "add_datepart(df, 'sale_date')"
      ],
      "execution_count": 0,
      "outputs": []
    },
    {
      "cell_type": "markdown",
      "metadata": {
        "id": "h89PY56xCIYV",
        "colab_type": "text"
      },
      "source": [
        "> Then check the resulting columns."
      ]
    },
    {
      "cell_type": "code",
      "metadata": {
        "id": "Gh27lyDaCIYW",
        "colab_type": "code",
        "outputId": "f9b7978d-ac9f-41a7-dfc2-cfcd6615d092",
        "colab": {
          "base_uri": "https://localhost:8080/",
          "height": 131
        }
      },
      "source": [
        "df[:2]\n",
        "# \tid\tprice\tbedrooms\tbathrooms\tsqft_living\tsqft_lot\tfloors\twaterfront\tview\tcondition\t...\tsale_Day\tsale_Dayofweek\tsale_Dayofyear\tsale_Is_month_end\tsale_Is_month_start\tsale_Is_quarter_end\tsale_Is_quarter_start\tsale_Is_year_end\tsale_Is_year_start\tsale_Elapsed\n",
        "# 0\t7129300520\t221900.0\t3\t1.00\t1180\t5650\t1.0\t0\t0\t3\t...\t13\t0\t286\tFalse\tFalse\tFalse\tFalse\tFalse\tFalse\t1413158400\n",
        "# 1\t6414100192\t538000.0\t3\t2.25\t2570\t7242\t2.0\t0\t0\t3\t...\t9\t1\t343\tFalse\tFalse\tFalse\tFalse\tFalse\tFalse\t1418083200"
      ],
      "execution_count": 0,
      "outputs": [
        {
          "output_type": "execute_result",
          "data": {
            "text/html": [
              "<div>\n",
              "<style scoped>\n",
              "    .dataframe tbody tr th:only-of-type {\n",
              "        vertical-align: middle;\n",
              "    }\n",
              "\n",
              "    .dataframe tbody tr th {\n",
              "        vertical-align: top;\n",
              "    }\n",
              "\n",
              "    .dataframe thead th {\n",
              "        text-align: right;\n",
              "    }\n",
              "</style>\n",
              "<table border=\"1\" class=\"dataframe\">\n",
              "  <thead>\n",
              "    <tr style=\"text-align: right;\">\n",
              "      <th></th>\n",
              "      <th>id</th>\n",
              "      <th>price</th>\n",
              "      <th>bedrooms</th>\n",
              "      <th>bathrooms</th>\n",
              "      <th>sqft_living</th>\n",
              "      <th>sqft_lot</th>\n",
              "      <th>floors</th>\n",
              "      <th>waterfront</th>\n",
              "      <th>view</th>\n",
              "      <th>condition</th>\n",
              "      <th>grade</th>\n",
              "      <th>sqft_above</th>\n",
              "      <th>sqft_basement</th>\n",
              "      <th>yr_built</th>\n",
              "      <th>yr_renovated</th>\n",
              "      <th>zipcode</th>\n",
              "      <th>lat</th>\n",
              "      <th>long</th>\n",
              "      <th>sqft_living15</th>\n",
              "      <th>sqft_lot15</th>\n",
              "      <th>sale_Year</th>\n",
              "      <th>sale_Month</th>\n",
              "      <th>sale_Week</th>\n",
              "      <th>sale_Day</th>\n",
              "      <th>sale_Dayofweek</th>\n",
              "      <th>sale_Dayofyear</th>\n",
              "      <th>sale_Is_month_end</th>\n",
              "      <th>sale_Is_month_start</th>\n",
              "      <th>sale_Is_quarter_end</th>\n",
              "      <th>sale_Is_quarter_start</th>\n",
              "      <th>sale_Is_year_end</th>\n",
              "      <th>sale_Is_year_start</th>\n",
              "      <th>sale_Elapsed</th>\n",
              "    </tr>\n",
              "  </thead>\n",
              "  <tbody>\n",
              "    <tr>\n",
              "      <th>0</th>\n",
              "      <td>7129300520</td>\n",
              "      <td>221900.0</td>\n",
              "      <td>3</td>\n",
              "      <td>1.00</td>\n",
              "      <td>1180</td>\n",
              "      <td>5650</td>\n",
              "      <td>1.0</td>\n",
              "      <td>0</td>\n",
              "      <td>0</td>\n",
              "      <td>3</td>\n",
              "      <td>7</td>\n",
              "      <td>1180</td>\n",
              "      <td>0</td>\n",
              "      <td>1955</td>\n",
              "      <td>0</td>\n",
              "      <td>98178</td>\n",
              "      <td>47.5112</td>\n",
              "      <td>-122.257</td>\n",
              "      <td>1340</td>\n",
              "      <td>5650</td>\n",
              "      <td>2014</td>\n",
              "      <td>10</td>\n",
              "      <td>42</td>\n",
              "      <td>13</td>\n",
              "      <td>0</td>\n",
              "      <td>286</td>\n",
              "      <td>False</td>\n",
              "      <td>False</td>\n",
              "      <td>False</td>\n",
              "      <td>False</td>\n",
              "      <td>False</td>\n",
              "      <td>False</td>\n",
              "      <td>1413158400</td>\n",
              "    </tr>\n",
              "    <tr>\n",
              "      <th>1</th>\n",
              "      <td>6414100192</td>\n",
              "      <td>538000.0</td>\n",
              "      <td>3</td>\n",
              "      <td>2.25</td>\n",
              "      <td>2570</td>\n",
              "      <td>7242</td>\n",
              "      <td>2.0</td>\n",
              "      <td>0</td>\n",
              "      <td>0</td>\n",
              "      <td>3</td>\n",
              "      <td>7</td>\n",
              "      <td>2170</td>\n",
              "      <td>400</td>\n",
              "      <td>1951</td>\n",
              "      <td>1991</td>\n",
              "      <td>98125</td>\n",
              "      <td>47.7210</td>\n",
              "      <td>-122.319</td>\n",
              "      <td>1690</td>\n",
              "      <td>7639</td>\n",
              "      <td>2014</td>\n",
              "      <td>12</td>\n",
              "      <td>50</td>\n",
              "      <td>9</td>\n",
              "      <td>1</td>\n",
              "      <td>343</td>\n",
              "      <td>False</td>\n",
              "      <td>False</td>\n",
              "      <td>False</td>\n",
              "      <td>False</td>\n",
              "      <td>False</td>\n",
              "      <td>False</td>\n",
              "      <td>1418083200</td>\n",
              "    </tr>\n",
              "  </tbody>\n",
              "</table>\n",
              "</div>"
            ],
            "text/plain": [
              "           id     price  ...  sale_Is_year_start  sale_Elapsed\n",
              "0  7129300520  221900.0  ...               False    1413158400\n",
              "1  6414100192  538000.0  ...               False    1418083200\n",
              "\n",
              "[2 rows x 33 columns]"
            ]
          },
          "metadata": {
            "tags": []
          },
          "execution_count": 65
        }
      ]
    },
    {
      "cell_type": "code",
      "metadata": {
        "id": "tJ3oEiHoCIYY",
        "colab_type": "code",
        "outputId": "20945db4-3400-4993-ec41-ff8649e0fe97",
        "colab": {
          "base_uri": "https://localhost:8080/",
          "height": 153
        }
      },
      "source": [
        "df.columns\n",
        "# Index(['id', 'price', 'bedrooms', 'bathrooms', 'sqft_living', 'sqft_lot',\n",
        "#        'floors', 'waterfront', 'view', 'condition', 'grade', 'sqft_above',\n",
        "#        'sqft_basement', 'yr_built', 'yr_renovated', 'zipcode', 'lat', 'long',\n",
        "#        'sqft_living15', 'sqft_lot15', 'sale_Year', 'sale_Month', 'sale_Week',\n",
        "#        'sale_Day', 'sale_Dayofweek', 'sale_Dayofyear', 'sale_Is_month_end',\n",
        "#        'sale_Is_month_start', 'sale_Is_quarter_end', 'sale_Is_quarter_start',\n",
        "#        'sale_Is_year_end', 'sale_Is_year_start', 'sale_Elapsed'],\n",
        "#       dtype='object')"
      ],
      "execution_count": 0,
      "outputs": [
        {
          "output_type": "execute_result",
          "data": {
            "text/plain": [
              "Index(['id', 'price', 'bedrooms', 'bathrooms', 'sqft_living', 'sqft_lot',\n",
              "       'floors', 'waterfront', 'view', 'condition', 'grade', 'sqft_above',\n",
              "       'sqft_basement', 'yr_built', 'yr_renovated', 'zipcode', 'lat', 'long',\n",
              "       'sqft_living15', 'sqft_lot15', 'sale_Year', 'sale_Month', 'sale_Week',\n",
              "       'sale_Day', 'sale_Dayofweek', 'sale_Dayofyear', 'sale_Is_month_end',\n",
              "       'sale_Is_month_start', 'sale_Is_quarter_end', 'sale_Is_quarter_start',\n",
              "       'sale_Is_year_end', 'sale_Is_year_start', 'sale_Elapsed'],\n",
              "      dtype='object')"
            ]
          },
          "metadata": {
            "tags": []
          },
          "execution_count": 66
        }
      ]
    },
    {
      "cell_type": "markdown",
      "metadata": {
        "id": "GB7AVPvsCIYb",
        "colab_type": "text"
      },
      "source": [
        "### Working with Multiple Dates"
      ]
    },
    {
      "cell_type": "code",
      "metadata": {
        "id": "_7NeITnhCIYb",
        "colab_type": "code",
        "colab": {}
      },
      "source": [
        "year_built = df['yr_built']"
      ],
      "execution_count": 0,
      "outputs": []
    },
    {
      "cell_type": "markdown",
      "metadata": {
        "id": "LD4tRlMvCIYf",
        "colab_type": "text"
      },
      "source": [
        "Ok, let's take a look at the `yr_built` column to see if there are any abnormal values."
      ]
    },
    {
      "cell_type": "code",
      "metadata": {
        "id": "MGgPhtjkCIYg",
        "colab_type": "code",
        "outputId": "93543a56-905e-4eeb-e440-cc55e318b9dc",
        "colab": {
          "base_uri": "https://localhost:8080/",
          "height": 282
        }
      },
      "source": [
        "# \n",
        "year_built.hist()"
      ],
      "execution_count": 0,
      "outputs": [
        {
          "output_type": "execute_result",
          "data": {
            "text/plain": [
              "<matplotlib.axes._subplots.AxesSubplot at 0x7ff4a9eb68d0>"
            ]
          },
          "metadata": {
            "tags": []
          },
          "execution_count": 68
        },
        {
          "output_type": "display_data",
          "data": {
            "image/png": "[encoded data removed]",
            "text/plain": [
              "<Figure size 432x288 with 1 Axes>"
            ]
          },
          "metadata": {
            "tags": [],
            "needs_background": "light"
          }
        }
      ]
    },
    {
      "cell_type": "markdown",
      "metadata": {
        "id": "w8iFxuA5CIYi",
        "colab_type": "text"
      },
      "source": [
        "<img src=\"https://github.com/jigsawlabs-student/feature-engineering/blob/master/6-datetimes-lab/year-built.png?raw=1\" width=\"50%\">"
      ]
    },
    {
      "cell_type": "markdown",
      "metadata": {
        "id": "jdxXi_p4CIYi",
        "colab_type": "text"
      },
      "source": [
        "The values there seem to make sense.  Let's double check by seeing if there are any values below 1900.  \n",
        "\n",
        "> Use pandas to select all years below 1900."
      ]
    },
    {
      "cell_type": "code",
      "metadata": {
        "id": "vhqMVL8mCIYi",
        "colab_type": "code",
        "outputId": "2d86a15d-3cab-4460-c71e-ab9b781bdeb3",
        "colab": {
          "base_uri": "https://localhost:8080/",
          "height": 34
        }
      },
      "source": [
        "year_built[year_built < 1900]\n",
        "\n",
        "# Series([], Name: yr_built, dtype: int64)"
      ],
      "execution_count": 0,
      "outputs": [
        {
          "output_type": "execute_result",
          "data": {
            "text/plain": [
              "Series([], Name: yr_built, dtype: int64)"
            ]
          },
          "metadata": {
            "tags": []
          },
          "execution_count": 69
        }
      ]
    },
    {
      "cell_type": "markdown",
      "metadata": {
        "id": "t6G4lK6WCIYm",
        "colab_type": "text"
      },
      "source": [
        "So there are no values less than 1900.  Let's see if the number `1900` values is perhaps a placeholder for missing values.\n",
        "\n",
        "Check the percentage of values that equal 1900."
      ]
    },
    {
      "cell_type": "code",
      "metadata": {
        "id": "0O4bhrW7CIYn",
        "colab_type": "code",
        "outputId": "bb5ff829-0158-4b4f-e07a-c8c0d22c33f1",
        "colab": {
          "base_uri": "https://localhost:8080/",
          "height": 34
        }
      },
      "source": [
        "(year_built == 1900).sum()/ len(year_built)\n",
        "# 0.00402"
      ],
      "execution_count": 0,
      "outputs": [
        {
          "output_type": "execute_result",
          "data": {
            "text/plain": [
              "0.0040257276387025125"
            ]
          },
          "metadata": {
            "tags": []
          },
          "execution_count": 70
        }
      ]
    },
    {
      "cell_type": "code",
      "metadata": {
        "id": "Fnb-px10I1Tg",
        "colab_type": "code",
        "outputId": "65650c89-e0c7-45a7-899c-3bfdcf220a40",
        "colab": {
          "base_uri": "https://localhost:8080/",
          "height": 34
        }
      },
      "source": [
        "# Another way to get the answer\n",
        "year_built.value_counts(normalize=True).loc[1900]"
      ],
      "execution_count": 0,
      "outputs": [
        {
          "output_type": "execute_result",
          "data": {
            "text/plain": [
              "0.0040257276387025125"
            ]
          },
          "metadata": {
            "tags": []
          },
          "execution_count": 73
        }
      ]
    },
    {
      "cell_type": "markdown",
      "metadata": {
        "id": "Lx4ahEftCIYq",
        "colab_type": "text"
      },
      "source": [
        "With only half a percent of the data, it seems fine."
      ]
    },
    {
      "cell_type": "markdown",
      "metadata": {
        "id": "9vIBK5zRCIYq",
        "colab_type": "text"
      },
      "source": [
        "Ok, now that we've checked the data in our column, we are good to use it.  When we have multiple date columns, one feature we can add is the difference between dates.  Here, we can calculate the difference between the year built and the year sold."
      ]
    },
    {
      "cell_type": "code",
      "metadata": {
        "id": "hfOdRiAMCIYr",
        "colab_type": "code",
        "colab": {}
      },
      "source": [
        "sale_year = df['sale_Year']"
      ],
      "execution_count": 0,
      "outputs": []
    },
    {
      "cell_type": "code",
      "metadata": {
        "id": "ttCUNqoZCIYt",
        "colab_type": "code",
        "colab": {}
      },
      "source": [
        "sale_age = sale_year - year_built"
      ],
      "execution_count": 0,
      "outputs": []
    },
    {
      "cell_type": "code",
      "metadata": {
        "id": "7LWwrn4aIJGg",
        "colab_type": "code",
        "outputId": "f112cb00-0ffe-4145-bc2f-a1fb37803699",
        "colab": {
          "base_uri": "https://localhost:8080/",
          "height": 221
        }
      },
      "source": [
        "sale_age"
      ],
      "execution_count": 0,
      "outputs": [
        {
          "output_type": "execute_result",
          "data": {
            "text/plain": [
              "0        59\n",
              "1        63\n",
              "2        82\n",
              "3        49\n",
              "4        28\n",
              "         ..\n",
              "21608     5\n",
              "21609     1\n",
              "21610     5\n",
              "21611    11\n",
              "21612     6\n",
              "Length: 21611, dtype: int64"
            ]
          },
          "metadata": {
            "tags": []
          },
          "execution_count": 76
        }
      ]
    },
    {
      "cell_type": "markdown",
      "metadata": {
        "id": "96z9LNsTCIYw",
        "colab_type": "text"
      },
      "source": [
        "Then add this to the dataframe as `age_at_sale`."
      ]
    },
    {
      "cell_type": "code",
      "metadata": {
        "id": "p9UU5SWICIYw",
        "colab_type": "code",
        "colab": {}
      },
      "source": [
        "df['age_at_sale'] = sale_age"
      ],
      "execution_count": 0,
      "outputs": []
    },
    {
      "cell_type": "code",
      "metadata": {
        "id": "w782zrChIiF2",
        "colab_type": "code",
        "outputId": "8b90fe3f-ae47-48c1-c8c4-ae33aac439c0",
        "colab": {
          "base_uri": "https://localhost:8080/",
          "height": 224
        }
      },
      "source": [
        "df.head()"
      ],
      "execution_count": 0,
      "outputs": [
        {
          "output_type": "execute_result",
          "data": {
            "text/html": [
              "<div>\n",
              "<style scoped>\n",
              "    .dataframe tbody tr th:only-of-type {\n",
              "        vertical-align: middle;\n",
              "    }\n",
              "\n",
              "    .dataframe tbody tr th {\n",
              "        vertical-align: top;\n",
              "    }\n",
              "\n",
              "    .dataframe thead th {\n",
              "        text-align: right;\n",
              "    }\n",
              "</style>\n",
              "<table border=\"1\" class=\"dataframe\">\n",
              "  <thead>\n",
              "    <tr style=\"text-align: right;\">\n",
              "      <th></th>\n",
              "      <th>id</th>\n",
              "      <th>price</th>\n",
              "      <th>bedrooms</th>\n",
              "      <th>bathrooms</th>\n",
              "      <th>sqft_living</th>\n",
              "      <th>sqft_lot</th>\n",
              "      <th>floors</th>\n",
              "      <th>waterfront</th>\n",
              "      <th>view</th>\n",
              "      <th>condition</th>\n",
              "      <th>grade</th>\n",
              "      <th>sqft_above</th>\n",
              "      <th>sqft_basement</th>\n",
              "      <th>yr_built</th>\n",
              "      <th>yr_renovated</th>\n",
              "      <th>zipcode</th>\n",
              "      <th>lat</th>\n",
              "      <th>long</th>\n",
              "      <th>sqft_living15</th>\n",
              "      <th>sqft_lot15</th>\n",
              "      <th>sale_Year</th>\n",
              "      <th>sale_Month</th>\n",
              "      <th>sale_Week</th>\n",
              "      <th>sale_Day</th>\n",
              "      <th>sale_Dayofweek</th>\n",
              "      <th>sale_Dayofyear</th>\n",
              "      <th>sale_Is_month_end</th>\n",
              "      <th>sale_Is_month_start</th>\n",
              "      <th>sale_Is_quarter_end</th>\n",
              "      <th>sale_Is_quarter_start</th>\n",
              "      <th>sale_Is_year_end</th>\n",
              "      <th>sale_Is_year_start</th>\n",
              "      <th>sale_Elapsed</th>\n",
              "      <th>age_at_sale</th>\n",
              "    </tr>\n",
              "  </thead>\n",
              "  <tbody>\n",
              "    <tr>\n",
              "      <th>0</th>\n",
              "      <td>7129300520</td>\n",
              "      <td>221900.0</td>\n",
              "      <td>3</td>\n",
              "      <td>1.00</td>\n",
              "      <td>1180</td>\n",
              "      <td>5650</td>\n",
              "      <td>1.0</td>\n",
              "      <td>0</td>\n",
              "      <td>0</td>\n",
              "      <td>3</td>\n",
              "      <td>7</td>\n",
              "      <td>1180</td>\n",
              "      <td>0</td>\n",
              "      <td>1955</td>\n",
              "      <td>0</td>\n",
              "      <td>98178</td>\n",
              "      <td>47.5112</td>\n",
              "      <td>-122.257</td>\n",
              "      <td>1340</td>\n",
              "      <td>5650</td>\n",
              "      <td>2014</td>\n",
              "      <td>10</td>\n",
              "      <td>42</td>\n",
              "      <td>13</td>\n",
              "      <td>0</td>\n",
              "      <td>286</td>\n",
              "      <td>False</td>\n",
              "      <td>False</td>\n",
              "      <td>False</td>\n",
              "      <td>False</td>\n",
              "      <td>False</td>\n",
              "      <td>False</td>\n",
              "      <td>1413158400</td>\n",
              "      <td>59</td>\n",
              "    </tr>\n",
              "    <tr>\n",
              "      <th>1</th>\n",
              "      <td>6414100192</td>\n",
              "      <td>538000.0</td>\n",
              "      <td>3</td>\n",
              "      <td>2.25</td>\n",
              "      <td>2570</td>\n",
              "      <td>7242</td>\n",
              "      <td>2.0</td>\n",
              "      <td>0</td>\n",
              "      <td>0</td>\n",
              "      <td>3</td>\n",
              "      <td>7</td>\n",
              "      <td>2170</td>\n",
              "      <td>400</td>\n",
              "      <td>1951</td>\n",
              "      <td>1991</td>\n",
              "      <td>98125</td>\n",
              "      <td>47.7210</td>\n",
              "      <td>-122.319</td>\n",
              "      <td>1690</td>\n",
              "      <td>7639</td>\n",
              "      <td>2014</td>\n",
              "      <td>12</td>\n",
              "      <td>50</td>\n",
              "      <td>9</td>\n",
              "      <td>1</td>\n",
              "      <td>343</td>\n",
              "      <td>False</td>\n",
              "      <td>False</td>\n",
              "      <td>False</td>\n",
              "      <td>False</td>\n",
              "      <td>False</td>\n",
              "      <td>False</td>\n",
              "      <td>1418083200</td>\n",
              "      <td>63</td>\n",
              "    </tr>\n",
              "    <tr>\n",
              "      <th>2</th>\n",
              "      <td>5631500400</td>\n",
              "      <td>180000.0</td>\n",
              "      <td>2</td>\n",
              "      <td>1.00</td>\n",
              "      <td>770</td>\n",
              "      <td>10000</td>\n",
              "      <td>1.0</td>\n",
              "      <td>0</td>\n",
              "      <td>0</td>\n",
              "      <td>3</td>\n",
              "      <td>6</td>\n",
              "      <td>770</td>\n",
              "      <td>0</td>\n",
              "      <td>1933</td>\n",
              "      <td>0</td>\n",
              "      <td>98028</td>\n",
              "      <td>47.7379</td>\n",
              "      <td>-122.233</td>\n",
              "      <td>2720</td>\n",
              "      <td>8062</td>\n",
              "      <td>2015</td>\n",
              "      <td>2</td>\n",
              "      <td>9</td>\n",
              "      <td>25</td>\n",
              "      <td>2</td>\n",
              "      <td>56</td>\n",
              "      <td>False</td>\n",
              "      <td>False</td>\n",
              "      <td>False</td>\n",
              "      <td>False</td>\n",
              "      <td>False</td>\n",
              "      <td>False</td>\n",
              "      <td>1424822400</td>\n",
              "      <td>82</td>\n",
              "    </tr>\n",
              "    <tr>\n",
              "      <th>3</th>\n",
              "      <td>2487200875</td>\n",
              "      <td>604000.0</td>\n",
              "      <td>4</td>\n",
              "      <td>3.00</td>\n",
              "      <td>1960</td>\n",
              "      <td>5000</td>\n",
              "      <td>1.0</td>\n",
              "      <td>0</td>\n",
              "      <td>0</td>\n",
              "      <td>5</td>\n",
              "      <td>7</td>\n",
              "      <td>1050</td>\n",
              "      <td>910</td>\n",
              "      <td>1965</td>\n",
              "      <td>0</td>\n",
              "      <td>98136</td>\n",
              "      <td>47.5208</td>\n",
              "      <td>-122.393</td>\n",
              "      <td>1360</td>\n",
              "      <td>5000</td>\n",
              "      <td>2014</td>\n",
              "      <td>12</td>\n",
              "      <td>50</td>\n",
              "      <td>9</td>\n",
              "      <td>1</td>\n",
              "      <td>343</td>\n",
              "      <td>False</td>\n",
              "      <td>False</td>\n",
              "      <td>False</td>\n",
              "      <td>False</td>\n",
              "      <td>False</td>\n",
              "      <td>False</td>\n",
              "      <td>1418083200</td>\n",
              "      <td>49</td>\n",
              "    </tr>\n",
              "    <tr>\n",
              "      <th>4</th>\n",
              "      <td>1954400510</td>\n",
              "      <td>510000.0</td>\n",
              "      <td>3</td>\n",
              "      <td>2.00</td>\n",
              "      <td>1680</td>\n",
              "      <td>8080</td>\n",
              "      <td>1.0</td>\n",
              "      <td>0</td>\n",
              "      <td>0</td>\n",
              "      <td>3</td>\n",
              "      <td>8</td>\n",
              "      <td>1680</td>\n",
              "      <td>0</td>\n",
              "      <td>1987</td>\n",
              "      <td>0</td>\n",
              "      <td>98074</td>\n",
              "      <td>47.6168</td>\n",
              "      <td>-122.045</td>\n",
              "      <td>1800</td>\n",
              "      <td>7503</td>\n",
              "      <td>2015</td>\n",
              "      <td>2</td>\n",
              "      <td>8</td>\n",
              "      <td>18</td>\n",
              "      <td>2</td>\n",
              "      <td>49</td>\n",
              "      <td>False</td>\n",
              "      <td>False</td>\n",
              "      <td>False</td>\n",
              "      <td>False</td>\n",
              "      <td>False</td>\n",
              "      <td>False</td>\n",
              "      <td>1424217600</td>\n",
              "      <td>28</td>\n",
              "    </tr>\n",
              "  </tbody>\n",
              "</table>\n",
              "</div>"
            ],
            "text/plain": [
              "           id     price  ...  sale_Elapsed  age_at_sale\n",
              "0  7129300520  221900.0  ...    1413158400           59\n",
              "1  6414100192  538000.0  ...    1418083200           63\n",
              "2  5631500400  180000.0  ...    1424822400           82\n",
              "3  2487200875  604000.0  ...    1418083200           49\n",
              "4  1954400510  510000.0  ...    1424217600           28\n",
              "\n",
              "[5 rows x 34 columns]"
            ]
          },
          "metadata": {
            "tags": []
          },
          "execution_count": 78
        }
      ]
    },
    {
      "cell_type": "code",
      "metadata": {
        "id": "iik5Pn8-CIYy",
        "colab_type": "code",
        "outputId": "7c7d31d8-b543-4b94-e210-e9014b1af115",
        "colab": {
          "base_uri": "https://localhost:8080/",
          "height": 34
        }
      },
      "source": [
        "df.dtypes['age_at_sale']\n",
        "# dtype('int64')"
      ],
      "execution_count": 0,
      "outputs": [
        {
          "output_type": "execute_result",
          "data": {
            "text/plain": [
              "dtype('int64')"
            ]
          },
          "metadata": {
            "tags": []
          },
          "execution_count": 79
        }
      ]
    },
    {
      "cell_type": "markdown",
      "metadata": {
        "id": "oXJFI7TtCIY0",
        "colab_type": "text"
      },
      "source": [
        "## Conclusion\n",
        "In this lab we worked with the Pandas data type Datetime. To begin, we made sure that all of our time columns were properly converted to datetime. We then used Matplotlib to visualize the data in each of the columns. Finally, we practiced different types of transformations that can be applied to these types of variables."
      ]
    }
  ]
}