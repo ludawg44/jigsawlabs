{
  "nbformat": 4,
  "nbformat_minor": 0,
  "metadata": {
    "kernelspec": {
      "display_name": "Python 3",
      "language": "python",
      "name": "python3"
    },
    "language_info": {
      "codemirror_mode": {
        "name": "ipython",
        "version": 3
      },
      "file_extension": ".py",
      "mimetype": "text/x-python",
      "name": "python",
      "nbconvert_exporter": "python",
      "pygments_lexer": "ipython3",
      "version": "3.7.4"
    },
    "colab": {
      "name": "Copy of 4-different-plots.ipynb",
      "provenance": [],
      "include_colab_link": true
    }
  },
  "cells": [
    {
      "cell_type": "markdown",
      "metadata": {
        "id": "view-in-github",
        "colab_type": "text"
      },
      "source": [
        "<a href=\"https://colab.research.google.com/github/ludawg44/jigsawlabs/blob/master/Copy_of_4_different_plots.ipynb\" target=\"_parent\"><img src=\"https://colab.research.google.com/assets/colab-badge.svg\" alt=\"Open In Colab\"/></a>"
      ]
    },
    {
      "cell_type": "markdown",
      "metadata": {
        "id": "S9TP4lDGdL2M",
        "colab_type": "text"
      },
      "source": [
        "# Types of Plot in Matplotlib"
      ]
    },
    {
      "cell_type": "markdown",
      "metadata": {
        "id": "7TBK-d3WdL2O",
        "colab_type": "text"
      },
      "source": [
        "### Introduction"
      ]
    },
    {
      "cell_type": "markdown",
      "metadata": {
        "id": "9tJlK8TWdL2Q",
        "colab_type": "text"
      },
      "source": [
        "In the last lesson, we dug into the different components of matplotlib.  And we saw that a figure contains one or more axes, and each axes can have multiple plots.  Now the main component that we'll be working with are the plots.  In this lesson, we'll explore some of the various plot types we can create."
      ]
    },
    {
      "cell_type": "markdown",
      "metadata": {
        "id": "b2-CUvhhdL2R",
        "colab_type": "text"
      },
      "source": [
        "### Why plot"
      ]
    },
    {
      "cell_type": "markdown",
      "metadata": {
        "id": "en0V5RXDdL2S",
        "colab_type": "text"
      },
      "source": [
        "Before showing how these plots work in matplotlib, it's worth a brief discussion as to what we are using these plots for in the first place.\n",
        "\n",
        "Here's some broad categories of plots we can create."
      ]
    },
    {
      "cell_type": "markdown",
      "metadata": {
        "id": "Z4pYK29odL2S",
        "colab_type": "text"
      },
      "source": [
        "1. Distributions\n",
        "    * We can use distributions to describe the data (center, spread, and shape)\n",
        "    * Use distributions to get an overview of the data quality and inclusiveness of the data\n",
        "2. Grouping and Aggregating \n",
        "    * How can we compare aggregate statistics (count, average) across categorical variables in the data\n",
        "    * Does the breakdown of our data match what we expect in the broader population\n",
        "3. Scatter Plots Plots \n",
        "    * How correlated is one variable with another\n",
        "    * Are there differences between categories in the data"
      ]
    },
    {
      "cell_type": "markdown",
      "metadata": {
        "id": "wDMJk-V3dL2T",
        "colab_type": "text"
      },
      "source": [
        "### Loading the Data and Matplotlib "
      ]
    },
    {
      "cell_type": "markdown",
      "metadata": {
        "id": "M2la6LsqdL2U",
        "colab_type": "text"
      },
      "source": [
        "Let's load our data from the `imdb_movies` dataset and take a look."
      ]
    },
    {
      "cell_type": "code",
      "metadata": {
        "id": "w2tPO-uQdL2V",
        "colab_type": "code",
        "colab": {}
      },
      "source": [
        "import pandas as pd\n",
        "url = \"https://raw.githubusercontent.com/jigsawlabs-student/matplotlib/master/imdb_movies.csv?token=AADXLBKU6UDM5ZL5JPDAZTC6QNGEM\"\n",
        "df = pd.read_csv(url)"
      ],
      "execution_count": 0,
      "outputs": []
    },
    {
      "cell_type": "code",
      "metadata": {
        "id": "4KovClNFdL2Y",
        "colab_type": "code",
        "outputId": "f6a9ed68-b27c-4e35-a528-57d5a5f7fc31",
        "colab": {}
      },
      "source": [
        "cols = df.columns\n",
        "cols"
      ],
      "execution_count": 0,
      "outputs": [
        {
          "output_type": "execute_result",
          "data": {
            "text/plain": [
              "Index(['title', 'genre', 'budget', 'runtime', 'year', 'month', 'revenue'], dtype='object')"
            ]
          },
          "metadata": {
            "tags": []
          },
          "execution_count": 4
        }
      ]
    },
    {
      "cell_type": "code",
      "metadata": {
        "id": "iORfZBQNdL2b",
        "colab_type": "code",
        "outputId": "728ad13b-b5a7-41d9-e11b-b5d5b48e897c",
        "colab": {}
      },
      "source": [
        "movies = df.to_numpy()\n",
        "movies[:2]"
      ],
      "execution_count": 0,
      "outputs": [
        {
          "output_type": "execute_result",
          "data": {
            "text/plain": [
              "array([['Avatar', 'Action', 237000000, 162.0, 2009, 12, 2787965087],\n",
              "       [\"Pirates of the Caribbean: At World's End\", 'Adventure',\n",
              "        300000000, 169.0, 2007, 5, 961000000]], dtype=object)"
            ]
          },
          "metadata": {
            "tags": []
          },
          "execution_count": 85
        }
      ]
    },
    {
      "cell_type": "markdown",
      "metadata": {
        "id": "PCnzMCdpdL2e",
        "colab_type": "text"
      },
      "source": [
        "So above, we can get a general sense of the data we'll be working with."
      ]
    },
    {
      "cell_type": "markdown",
      "metadata": {
        "id": "2QgUP9vNdL2f",
        "colab_type": "text"
      },
      "source": [
        "> Next, let's load up `matplotlib`."
      ]
    },
    {
      "cell_type": "code",
      "metadata": {
        "id": "PASAfHrpdL2g",
        "colab_type": "code",
        "colab": {}
      },
      "source": [
        "import matplotlib.pyplot as plt\n",
        "%matplotlib inline"
      ],
      "execution_count": 0,
      "outputs": []
    },
    {
      "cell_type": "markdown",
      "metadata": {
        "id": "2XaStBfadL2i",
        "colab_type": "text"
      },
      "source": [
        "### Distributions"
      ]
    },
    {
      "cell_type": "markdown",
      "metadata": {
        "id": "EOG0xQ-TdL2j",
        "colab_type": "text"
      },
      "source": [
        "Let's start by getting an overview of the range of years that our movies come from.  To do so, we can use a histogram."
      ]
    },
    {
      "cell_type": "code",
      "metadata": {
        "id": "fwG5511DdL2k",
        "colab_type": "code",
        "colab": {}
      },
      "source": [
        "years = movies[:, 4]"
      ],
      "execution_count": 0,
      "outputs": []
    },
    {
      "cell_type": "code",
      "metadata": {
        "id": "9D_phekkdL2m",
        "colab_type": "code",
        "outputId": "a4ed00ac-05e4-42aa-85a5-ee4c22346eff",
        "colab": {}
      },
      "source": [
        "fig = plt.figure()\n",
        "# we'll explain add_subplot(111) in a future lesson\n",
        "ax = fig.add_subplot(111)\n",
        "ax.hist(years)"
      ],
      "execution_count": 0,
      "outputs": [
        {
          "output_type": "execute_result",
          "data": {
            "text/plain": [
              "(array([  1.,   0.,   1.,   4.,   5.,  47.,  89., 408., 744., 701.]),\n",
              " array([1940.0, 1947.6, 1955.2, 1962.8, 1970.4, 1978.0, 1985.6, 1993.2,\n",
              "        2000.8, 2008.4, 2016.0], dtype=object),\n",
              " <a list of 10 Patch objects>)"
            ]
          },
          "metadata": {
            "tags": []
          },
          "execution_count": 89
        },
        {
          "output_type": "display_data",
          "data": {
            "image/png": "[encoded data removed]",
            "text/plain": [
              "<Figure size 432x288 with 1 Axes>"
            ]
          },
          "metadata": {
            "tags": [],
            "needs_background": "light"
          }
        }
      ]
    },
    {
      "cell_type": "markdown",
      "metadata": {
        "id": "tdiiCCOedL2q",
        "colab_type": "text"
      },
      "source": [
        "So from the above, we can see that many of the movies of the dataset are from after the year 2000.  Notice that with the histogram plot, we can set the number of bins in the data, as well as the range to change the plot."
      ]
    },
    {
      "cell_type": "code",
      "metadata": {
        "id": "Gr6phyKodL2q",
        "colab_type": "code",
        "outputId": "9235f80c-d356-41ef-b796-2316bf2bf12d",
        "colab": {}
      },
      "source": [
        "fig = plt.figure()\n",
        "ax = fig.add_subplot(111)\n",
        "ax.hist(years, range=[1970, 2013], bins = 2013 - 1970)\n",
        "# we add print('') to avoid the display of the data before the fig\n",
        "print('')"
      ],
      "execution_count": 0,
      "outputs": [
        {
          "output_type": "stream",
          "text": [
            "\n"
          ],
          "name": "stdout"
        },
        {
          "output_type": "display_data",
          "data": {
            "image/png": "[encoded data removed]",
            "text/plain": [
              "<Figure size 432x288 with 1 Axes>"
            ]
          },
          "metadata": {
            "tags": [],
            "needs_background": "light"
          }
        }
      ]
    },
    {
      "cell_type": "markdown",
      "metadata": {
        "id": "jthn_LYSdL2t",
        "colab_type": "text"
      },
      "source": [
        "### Grouping by Categories"
      ]
    },
    {
      "cell_type": "markdown",
      "metadata": {
        "id": "gbEihNLddL2u",
        "colab_type": "text"
      },
      "source": [
        "> We'll cover how to perform different metrics with groups more extensively in pandas, for right now, let's simply plot counts."
      ]
    },
    {
      "cell_type": "code",
      "metadata": {
        "id": "QLtlq_radL2u",
        "colab_type": "code",
        "colab": {}
      },
      "source": [
        "cats_and_counts = np.unique(movies[~pd.isnull(movies[:, 1])][:, 1], return_counts = True)\n",
        "cats = cats_and_counts[0]\n",
        "counts = cats_and_counts[1]"
      ],
      "execution_count": 0,
      "outputs": []
    },
    {
      "cell_type": "code",
      "metadata": {
        "id": "nH1cn-mhdL2w",
        "colab_type": "code",
        "outputId": "83f01b78-efbb-44ab-81da-3863a2cfe000",
        "colab": {}
      },
      "source": [
        "plt.bar(cats, counts)\n",
        "fig = plt.gcf()\n",
        "fig.set_size_inches(16, 6)"
      ],
      "execution_count": 0,
      "outputs": [
        {
          "output_type": "display_data",
          "data": {
            "image/png": "[encoded data removed]",
            "text/plain": [
              "<Figure size 1152x432 with 1 Axes>"
            ]
          },
          "metadata": {
            "tags": [],
            "needs_background": "light"
          }
        }
      ]
    },
    {
      "cell_type": "markdown",
      "metadata": {
        "id": "4FR6FbzZdL2z",
        "colab_type": "text"
      },
      "source": [
        "Note that we can also plot our information horizontally with `barh`."
      ]
    },
    {
      "cell_type": "code",
      "metadata": {
        "id": "aTcPODphdL2z",
        "colab_type": "code",
        "outputId": "175199dd-b36e-4dfd-a5ff-1e924f5d7a44",
        "colab": {}
      },
      "source": [
        "plt.barh(cats, counts)\n",
        "fig = plt.gcf()\n",
        "fig.set_size_inches(10, 6)"
      ],
      "execution_count": 0,
      "outputs": [
        {
          "output_type": "display_data",
          "data": {
            "image/png": "[encoded data removed]",
            "text/plain": [
              "<Figure size 720x432 with 1 Axes>"
            ]
          },
          "metadata": {
            "tags": [],
            "needs_background": "light"
          }
        }
      ]
    },
    {
      "cell_type": "markdown",
      "metadata": {
        "id": "10SHIqsedL22",
        "colab_type": "text"
      },
      "source": [
        "### Scatter plots and Line Plots "
      ]
    },
    {
      "cell_type": "markdown",
      "metadata": {
        "id": "Q7TzXb3NdL23",
        "colab_type": "text"
      },
      "source": [
        "Finally, with scatter plots we can get a sense of relationships between variables."
      ]
    },
    {
      "cell_type": "code",
      "metadata": {
        "id": "J2QLnzGTdL24",
        "colab_type": "code",
        "outputId": "a21fb075-d2ce-41c8-afe7-bedfbe30b553",
        "colab": {}
      },
      "source": [
        "cols"
      ],
      "execution_count": 0,
      "outputs": [
        {
          "output_type": "execute_result",
          "data": {
            "text/plain": [
              "Index(['title', 'genre', 'budget', 'runtime', 'year', 'month', 'revenue'], dtype='object')"
            ]
          },
          "metadata": {
            "tags": []
          },
          "execution_count": 56
        }
      ]
    },
    {
      "cell_type": "code",
      "metadata": {
        "id": "eDubJ-QGdL26",
        "colab_type": "code",
        "colab": {}
      },
      "source": [
        "budgets = movies[:, 2]\n",
        "revenues = movies[:, -1]"
      ],
      "execution_count": 0,
      "outputs": []
    },
    {
      "cell_type": "code",
      "metadata": {
        "id": "KbknesdbdL29",
        "colab_type": "code",
        "outputId": "da9327f1-e13c-4436-8fac-5bf34a9518c6",
        "colab": {}
      },
      "source": [
        "plt.scatter(x = budgets, y = revenues)"
      ],
      "execution_count": 0,
      "outputs": [
        {
          "output_type": "execute_result",
          "data": {
            "text/plain": [
              "<matplotlib.collections.PathCollection at 0x1200d03d0>"
            ]
          },
          "metadata": {
            "tags": []
          },
          "execution_count": 64
        },
        {
          "output_type": "display_data",
          "data": {
            "image/png": "[encoded data removed]",
            "text/plain": [
              "<Figure size 432x288 with 1 Axes>"
            ]
          },
          "metadata": {
            "tags": [],
            "needs_background": "light"
          }
        }
      ]
    },
    {
      "cell_type": "markdown",
      "metadata": {
        "id": "mG7ql4HudL3A",
        "colab_type": "text"
      },
      "source": [
        "For line plots we can call the `plot` function."
      ]
    },
    {
      "cell_type": "markdown",
      "metadata": {
        "id": "kwFpUEcIdL3A",
        "colab_type": "text"
      },
      "source": [
        "> Notice that the plot function does not take any keyword arguments."
      ]
    },
    {
      "cell_type": "code",
      "metadata": {
        "id": "nn_MbRgrdL3B",
        "colab_type": "code",
        "outputId": "b03262df-7c0f-4b9a-f142-26ab5676d2c9",
        "colab": {}
      },
      "source": [
        "plt.plot(np.arange(10), np.linspace(10, 20, 10))"
      ],
      "execution_count": 0,
      "outputs": [
        {
          "output_type": "execute_result",
          "data": {
            "text/plain": [
              "[<matplotlib.lines.Line2D at 0x123920ad0>]"
            ]
          },
          "metadata": {
            "tags": []
          },
          "execution_count": 105
        },
        {
          "output_type": "display_data",
          "data": {
            "image/png": "[encoded data removed]",
            "text/plain": [
              "<Figure size 432x288 with 1 Axes>"
            ]
          },
          "metadata": {
            "tags": [],
            "needs_background": "light"
          }
        }
      ]
    },
    {
      "cell_type": "markdown",
      "metadata": {
        "id": "v5Cqv_KudL3E",
        "colab_type": "text"
      },
      "source": [
        "### Comparing Categories"
      ]
    },
    {
      "cell_type": "markdown",
      "metadata": {
        "id": "Fr62aor1dL3F",
        "colab_type": "text"
      },
      "source": [
        "Note that we can plot two histograms on the same subplot to compare data."
      ]
    },
    {
      "cell_type": "code",
      "metadata": {
        "id": "IGEYRJSwdL3F",
        "colab_type": "code",
        "colab": {}
      },
      "source": [
        "action_movies = movies[movies[:, 1] == 'Action']\n",
        "drama_movies = movies[movies[:, 1] == 'Drama']\n",
        "action_budgets = action_movies[:, 2]\n",
        "action_revenues = action_movies[:, -1]\n",
        "\n",
        "drama_budgets = drama_movies[:, 2]\n",
        "drama_revenues = drama_movies[:, -1]"
      ],
      "execution_count": 0,
      "outputs": []
    },
    {
      "cell_type": "code",
      "metadata": {
        "id": "CX_p3KjSdL3H",
        "colab_type": "code",
        "outputId": "7f979f7b-39f9-4bda-9423-334e75bb57a5",
        "colab": {}
      },
      "source": [
        "fig = plt.figure()\n",
        "ax = fig.add_subplot(111)\n",
        "ax.hist(action_budgets, bins = 50, range=[0, 300000000], label = 'action')\n",
        "ax.hist(drama_budgets, bins = 50, range=[0, 300000000], label = 'drama')\n",
        "ax.legend(loc='best')\n",
        "print('none')"
      ],
      "execution_count": 0,
      "outputs": [
        {
          "output_type": "stream",
          "text": [
            "none\n"
          ],
          "name": "stdout"
        },
        {
          "output_type": "display_data",
          "data": {
            "image/png": "[encoded data removed]",
            "text/plain": [
              "<Figure size 432x288 with 1 Axes>"
            ]
          },
          "metadata": {
            "tags": [],
            "needs_background": "light"
          }
        }
      ]
    },
    {
      "cell_type": "markdown",
      "metadata": {
        "id": "YhRAuKd3dL3J",
        "colab_type": "text"
      },
      "source": [
        "> For example, above we see that action movies have eanred more than drama movies.  "
      ]
    },
    {
      "cell_type": "markdown",
      "metadata": {
        "id": "5KW1OnHTdL3K",
        "colab_type": "text"
      },
      "source": [
        "### Resources"
      ]
    },
    {
      "cell_type": "markdown",
      "metadata": {
        "id": "TKkhKn_BdL3L",
        "colab_type": "text"
      },
      "source": [
        "[Dunder Data Matplotlib](https://github.com/DunderData/Tutorials/blob/master/Data%20Analysis%20and%20Visualization%20Tutorials/Matplotlib%20Tutorials/1.%20Matplotlib%20Fundamentals.ipynb)"
      ]
    }
  ]
}