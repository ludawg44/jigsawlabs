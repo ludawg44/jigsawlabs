{
  "nbformat": 4,
  "nbformat_minor": 0,
  "metadata": {
    "kernelspec": {
      "display_name": "Python 3",
      "language": "python",
      "name": "python3"
    },
    "language_info": {
      "codemirror_mode": {
        "name": "ipython",
        "version": 3
      },
      "file_extension": ".py",
      "mimetype": "text/x-python",
      "name": "python",
      "nbconvert_exporter": "python",
      "pygments_lexer": "ipython3",
      "version": "3.7.4"
    },
    "colab": {
      "name": "index.ipynb",
      "provenance": [],
      "include_colab_link": true
    }
  },
  "cells": [
    {
      "cell_type": "markdown",
      "metadata": {
        "id": "view-in-github",
        "colab_type": "text"
      },
      "source": [
        "<a href=\"https://colab.research.google.com/github/ludawg44/jigsawlabs/blob/master/07May20_Introducing_Git.ipynb\" target=\"_parent\"><img src=\"https://colab.research.google.com/assets/colab-badge.svg\" alt=\"Open In Colab\"/></a>"
      ]
    },
    {
      "cell_type": "markdown",
      "metadata": {
        "id": "1n-VOCO33Tys",
        "colab_type": "text"
      },
      "source": [
        "# Introducing Git"
      ]
    },
    {
      "cell_type": "markdown",
      "metadata": {
        "id": "gstaeU0d3Tyt",
        "colab_type": "text"
      },
      "source": [
        "### Introduction"
      ]
    },
    {
      "cell_type": "markdown",
      "metadata": {
        "id": "7MncuhyP3Tyu",
        "colab_type": "text"
      },
      "source": [
        "As we continue to build up a codebase in Python, we'll need a way to keep track of and save our progress.  Sometimes we'll work on a problem, only to decide that we would like to move back to how the code was previously.  Or perhaps we would like to better understand why certain code was written.  Well git can help us with each of these.  "
      ]
    },
    {
      "cell_type": "markdown",
      "metadata": {
        "id": "p1SQLA6o3Tyu",
        "colab_type": "text"
      },
      "source": [
        "### What is Git"
      ]
    },
    {
      "cell_type": "markdown",
      "metadata": {
        "id": "-5IZtgQb3Tyu",
        "colab_type": "text"
      },
      "source": [
        "> Git is a distributed version-control system for tracking changes in source code during software development"
      ]
    },
    {
      "cell_type": "markdown",
      "metadata": {
        "id": "ldN7CgEA3Tyv",
        "colab_type": "text"
      },
      "source": [
        "Version control means what we would think.  Our software has various versions -- like whenever we add new code -- and Git tracks changes across versions.  As we learn some of the features in Git, we can see how it can help us."
      ]
    },
    {
      "cell_type": "markdown",
      "metadata": {
        "id": "u1Nbw6aK3Tyw",
        "colab_type": "text"
      },
      "source": [
        "### Starting Git"
      ]
    },
    {
      "cell_type": "markdown",
      "metadata": {
        "id": "Oem0tXyp3Tyw",
        "colab_type": "text"
      },
      "source": [
        "Ok, so Git is a system for keeping track of the changes we make in our codebase.  We can begin using Git by typing into the terminal `git init`."
      ]
    },
    {
      "cell_type": "code",
      "metadata": {
        "id": "-blzUh-k3Tyx",
        "colab_type": "code",
        "outputId": "c982ea64-7de4-4ffb-b3bc-74b4f6df9f78",
        "colab": {}
      },
      "source": [
        "!git init\n",
        "# Initialized empty Git repository "
      ],
      "execution_count": 0,
      "outputs": [
        {
          "output_type": "stream",
          "text": [
            "Initialized empty Git repository in /Users/jeff/Documents/jigsaw/curriculum/1-section-content/mod-1/2-datatypes/a-fundamentals/9-github/.git/\n"
          ],
          "name": "stdout"
        }
      ]
    },
    {
      "cell_type": "markdown",
      "metadata": {
        "id": "ZbA9Uxax3Ty1",
        "colab_type": "text"
      },
      "source": [
        "This creates an empty repository. \n",
        "\n",
        "> A Git repository is just a folder that has content to keep track of the various changes we make in our code."
      ]
    },
    {
      "cell_type": "markdown",
      "metadata": {
        "id": "dZI45FYE3Ty1",
        "colab_type": "text"
      },
      "source": [
        "Now if we look for this Git repository with ls, we won't see it as the folder is hidden."
      ]
    },
    {
      "cell_type": "code",
      "metadata": {
        "id": "r2oL7wDm3Ty1",
        "colab_type": "code",
        "outputId": "332f99f1-c123-4149-f540-31a3ee3c94e5",
        "colab": {}
      },
      "source": [
        "ls"
      ],
      "execution_count": 0,
      "outputs": [
        {
          "output_type": "stream",
          "text": [
            "index.ipynb\n"
          ],
          "name": "stdout"
        }
      ]
    },
    {
      "cell_type": "markdown",
      "metadata": {
        "id": "W00NMJts3Ty4",
        "colab_type": "text"
      },
      "source": [
        "But, it can't hide forever.  Type `ls -a`, which lists *all* files and folders, even those hidden, and we'll see it. "
      ]
    },
    {
      "cell_type": "code",
      "metadata": {
        "id": "0MvQilBn3Ty4",
        "colab_type": "code",
        "outputId": "dd29ebd4-a834-4eca-d68e-f803ec47848a",
        "colab": {}
      },
      "source": [
        "ls -a"
      ],
      "execution_count": 0,
      "outputs": [
        {
          "output_type": "stream",
          "text": [
            "\u001b[34m.\u001b[m\u001b[m/                  \u001b[34m.git\u001b[m\u001b[m/               index.ipynb\n",
            "\u001b[34m..\u001b[m\u001b[m/                 \u001b[34m.ipynb_checkpoints\u001b[m\u001b[m/\n"
          ],
          "name": "stdout"
        }
      ]
    },
    {
      "cell_type": "markdown",
      "metadata": {
        "id": "LMFxGFiP3Ty7",
        "colab_type": "text"
      },
      "source": [
        "> Hidden folders and files are just those whose name begins with a dot."
      ]
    },
    {
      "cell_type": "markdown",
      "metadata": {
        "id": "Yoplccwv3Ty7",
        "colab_type": "text"
      },
      "source": [
        "Ok, so we just created a git repository, which is our `.git` folder.  Now let's add some code.  \n",
        "\n",
        "We'll create a new file, `album.py`."
      ]
    },
    {
      "cell_type": "code",
      "metadata": {
        "id": "0kHWP7zk3Ty7",
        "colab_type": "code",
        "colab": {}
      },
      "source": [
        "!touch album.py"
      ],
      "execution_count": 0,
      "outputs": []
    },
    {
      "cell_type": "markdown",
      "metadata": {
        "id": "74FtwavV3Ty-",
        "colab_type": "text"
      },
      "source": [
        "And copy the code below into the file. "
      ]
    },
    {
      "cell_type": "markdown",
      "metadata": {
        "id": "7pJOy8hK3Ty_",
        "colab_type": "text"
      },
      "source": [
        "```python\n",
        "def find_by_name(album, name):\n",
        "    return [album for albums where album['name'] == name]\n",
        "```"
      ]
    },
    {
      "cell_type": "markdown",
      "metadata": {
        "id": "hJLUM4ND3Ty_",
        "colab_type": "text"
      },
      "source": [
        "Now that we've added some code, let's take use some Git."
      ]
    },
    {
      "cell_type": "markdown",
      "metadata": {
        "id": "qceRnNrr3TzA",
        "colab_type": "text"
      },
      "source": [
        "### Git Commands"
      ]
    },
    {
      "cell_type": "markdown",
      "metadata": {
        "id": "f2dt2PPp3TzA",
        "colab_type": "text"
      },
      "source": [
        "In the lines that follow, let's move through the steps of saving work with Git.  We'll see the entire workflow, and then we'll break down each of the steps in future lessons.\n",
        "\n",
        "1. View an overview of the work we've done so far"
      ]
    },
    {
      "cell_type": "code",
      "metadata": {
        "id": "YkTmvmmq3TzA",
        "colab_type": "code",
        "outputId": "261c2629-59a4-4236-dc80-56c08d78d166",
        "colab": {}
      },
      "source": [
        "!git status"
      ],
      "execution_count": 0,
      "outputs": [
        {
          "output_type": "stream",
          "text": [
            "On branch master\n",
            "Untracked files:\n",
            "  (use \"git add <file>...\" to include in what will be committed)\n",
            "\n",
            "\t\u001b[31m.ipynb_checkpoints/\u001b[m\n",
            "\t\u001b[31mindex.ipynb\u001b[m\n",
            "\n",
            "nothing added to commit but untracked files present (use \"git add\" to track)\n"
          ],
          "name": "stdout"
        }
      ]
    },
    {
      "cell_type": "markdown",
      "metadata": {
        "id": "ZevASt603TzD",
        "colab_type": "text"
      },
      "source": [
        "> Git does an excellent job of helping you out along the way, so please take the time to read the text that it prints out for us."
      ]
    },
    {
      "cell_type": "markdown",
      "metadata": {
        "id": "5l_3Ytf83TzE",
        "colab_type": "text"
      },
      "source": [
        "In red, we see the files that we have so far.  \n",
        "\n",
        "2. Add the files we wish to save (here `album.py`)"
      ]
    },
    {
      "cell_type": "code",
      "metadata": {
        "id": "ixarzeB53TzE",
        "colab_type": "code",
        "colab": {}
      },
      "source": [
        "!git add album.py"
      ],
      "execution_count": 0,
      "outputs": []
    },
    {
      "cell_type": "markdown",
      "metadata": {
        "id": "xWthVSHK3TzG",
        "colab_type": "text"
      },
      "source": [
        "3. View what we've done (add the `album.py` file)"
      ]
    },
    {
      "cell_type": "code",
      "metadata": {
        "id": "BrrEbGSg3TzG",
        "colab_type": "code",
        "outputId": "8b1c2dc8-3a66-45cb-ce92-76ac0f19a642",
        "colab": {}
      },
      "source": [
        "!git status"
      ],
      "execution_count": 0,
      "outputs": [
        {
          "output_type": "stream",
          "text": [
            "On branch master\n",
            "\n",
            "No commits yet\n",
            "\n",
            "Changes to be committed:\n",
            "  (use \"git rm --cached <file>...\" to unstage)\n",
            "\n",
            "\t\u001b[32mnew file:   album.py\u001b[m\n",
            "\n",
            "Untracked files:\n",
            "  (use \"git add <file>...\" to include in what will be committed)\n",
            "\n",
            "\t\u001b[31m.ipynb_checkpoints/\u001b[m\n",
            "\t\u001b[31mindex.ipynb\u001b[m\n",
            "\n"
          ],
          "name": "stdout"
        }
      ]
    },
    {
      "cell_type": "markdown",
      "metadata": {
        "id": "nTHElkC03TzI",
        "colab_type": "text"
      },
      "source": [
        "4. Commit the added files (here `album.py`)"
      ]
    },
    {
      "cell_type": "code",
      "metadata": {
        "id": "jT5gw0EB3TzJ",
        "colab_type": "code",
        "outputId": "9e712978-01fe-4d33-ff18-908e04659330",
        "colab": {}
      },
      "source": [
        "!git commit -m 'find album by name'"
      ],
      "execution_count": 0,
      "outputs": [
        {
          "output_type": "stream",
          "text": [
            "[master (root-commit) a6959c8] find album by name\n",
            " 1 file changed, 2 insertions(+)\n",
            " create mode 100644 album.py\n"
          ],
          "name": "stdout"
        }
      ]
    },
    {
      "cell_type": "markdown",
      "metadata": {
        "id": "CmahSh0Z3TzL",
        "colab_type": "text"
      },
      "source": [
        "So above, we saved our work in the `album.py` file, by calling `git add album.py`, followed by `git commit -m 'find album by name'`.  As we mentioned, we'll break down these commands later.  But for, now, let's see what commiting our `album.py` file got us."
      ]
    },
    {
      "cell_type": "markdown",
      "metadata": {
        "id": "7is5KxGl3TzL",
        "colab_type": "text"
      },
      "source": [
        "### The fruit of our labor"
      ]
    },
    {
      "cell_type": "markdown",
      "metadata": {
        "id": "qnWsJQov3TzM",
        "colab_type": "text"
      },
      "source": [
        "1. See a history of our changes by calling `git log`."
      ]
    },
    {
      "cell_type": "code",
      "metadata": {
        "id": "DeMWPssS3TzM",
        "colab_type": "code",
        "outputId": "fa7df81c-33f9-475f-c337-862d233de849",
        "colab": {}
      },
      "source": [
        "!git log"
      ],
      "execution_count": 0,
      "outputs": [
        {
          "output_type": "stream",
          "text": [
            "\u001b[33mcommit a6959c8dc2d8c440743ab4739d7c12bd348be548\u001b[m\u001b[33m (\u001b[m\u001b[1;36mHEAD -> \u001b[m\u001b[1;32mmaster\u001b[m\u001b[33m)\u001b[m\n",
            "Author: Jeff Katz <JeffreyEricKatz@gmail.com>\n",
            "Date:   Wed Feb 5 10:56:35 2020 -0500\n",
            "\n",
            "    find album by name\n"
          ],
          "name": "stdout"
        }
      ]
    },
    {
      "cell_type": "markdown",
      "metadata": {
        "id": "ySm-nt4i3TzO",
        "colab_type": "text"
      },
      "source": [
        "So above we see our first and only commit of `find album by name`."
      ]
    },
    {
      "cell_type": "markdown",
      "metadata": {
        "id": "WjUbE24Z3TzP",
        "colab_type": "text"
      },
      "source": [
        "And we can see the contents of this commit with `git show`."
      ]
    },
    {
      "cell_type": "code",
      "metadata": {
        "id": "WqRv-kdR3TzP",
        "colab_type": "code",
        "outputId": "961f1dab-00cd-4520-ea82-b0bf38ecc121",
        "colab": {}
      },
      "source": [
        "!git show"
      ],
      "execution_count": 0,
      "outputs": [
        {
          "output_type": "stream",
          "text": [
            "\u001b[33mcommit a6959c8dc2d8c440743ab4739d7c12bd348be548\u001b[m\u001b[33m (\u001b[m\u001b[1;36mHEAD -> \u001b[m\u001b[1;32mmaster\u001b[m\u001b[33m)\u001b[m\n",
            "Author: Jeff Katz <JeffreyEricKatz@gmail.com>\n",
            "Date:   Wed Feb 5 10:56:35 2020 -0500\n",
            "\n",
            "    find album by name\n",
            "\n",
            "\u001b[1mdiff --git a/album.py b/album.py\u001b[m\n",
            "\u001b[1mnew file mode 100644\u001b[m\n",
            "\u001b[1mindex 0000000..fae6ce5\u001b[m\n",
            "\u001b[1m--- /dev/null\u001b[m\n",
            "\u001b[1m+++ b/album.py\u001b[m\n",
            "\u001b[36m@@ -0,0 +1,2 @@\u001b[m\n",
            "\u001b[32m+\u001b[m\u001b[32mdef find_by_name(album, name):\u001b[m\n",
            "\u001b[32m+\u001b[m\u001b[32m    return [album for albums where album['name'] == name]\u001b[m\n",
            "\\ No newline at end of file\u001b[m\n"
          ],
          "name": "stdout"
        }
      ]
    },
    {
      "cell_type": "markdown",
      "metadata": {
        "id": "zTwt3HRa3TzR",
        "colab_type": "text"
      },
      "source": [
        "So notice at the bottom, we see all of the changes made to the file committed, the line of `def find_by_name`."
      ]
    },
    {
      "cell_type": "markdown",
      "metadata": {
        "id": "jTFqH-FP3TzR",
        "colab_type": "text"
      },
      "source": [
        "### Why did we do this?"
      ]
    },
    {
      "cell_type": "markdown",
      "metadata": {
        "id": "U9S6Av7m3TzS",
        "colab_type": "text"
      },
      "source": [
        "The benefit of git is that, if we make commits along the way, it allows us to better understand, and make changes to our codebase.  \n",
        "\n",
        "For example, let's say that we have a bug that recently showed up in our code related to searching for albums.  To help us discover what caused the bug, we could use `git log` to see recent changes to our codebase related to finding albums, and then we could use `git show` to see the changes to the codebase that we made.  \n",
        "\n",
        "This is exceptionally powerful.  For example, imagine if in medicine, there was a log of all of the treatments ever given to a patient.  And then a doctor could quickly look at specifically what was done.  The doctor might better be able to understand what could be causing symptoms in a patient.\n",
        "\n",
        "A codebase can become exceptionally complicated and thousands, if not millions, of lines long.  Having a documentation that tells us what changes were made, and an explanation of why these changes were made can make our lives a lot easier as developers."
      ]
    },
    {
      "cell_type": "markdown",
      "metadata": {
        "id": "b7sErKnW3TzS",
        "colab_type": "text"
      },
      "source": [
        "Over the next lessons, we'll take a deeper look at our git commands."
      ]
    },
    {
      "cell_type": "markdown",
      "metadata": {
        "id": "WvWQqOWx3TzT",
        "colab_type": "text"
      },
      "source": [
        "### Summary"
      ]
    },
    {
      "cell_type": "code",
      "metadata": {
        "id": "egNm1PhK3TzT",
        "colab_type": "code",
        "colab": {}
      },
      "source": [
        ""
      ],
      "execution_count": 0,
      "outputs": []
    }
  ]
}