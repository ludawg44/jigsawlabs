{
  "nbformat": 4,
  "nbformat_minor": 0,
  "metadata": {
    "kernelspec": {
      "display_name": "Python 3",
      "language": "python",
      "name": "python3"
    },
    "language_info": {
      "codemirror_mode": {
        "name": "ipython",
        "version": 3
      },
      "file_extension": ".py",
      "mimetype": "text/x-python",
      "name": "python",
      "nbconvert_exporter": "python",
      "pygments_lexer": "ipython3",
      "version": "3.7.4"
    },
    "colab": {
      "name": "Copy of 2-index.ipynb",
      "provenance": [],
      "include_colab_link": true
    }
  },
  "cells": [
    {
      "cell_type": "markdown",
      "metadata": {
        "id": "view-in-github",
        "colab_type": "text"
      },
      "source": [
        "<a href=\"https://colab.research.google.com/github/ludawg44/jigsawlabs/blob/master/18Apr20_Handling%20Missing%20Values.ipynb\" target=\"_parent\"><img src=\"https://colab.research.google.com/assets/colab-badge.svg\" alt=\"Open In Colab\"/></a>"
      ]
    },
    {
      "cell_type": "markdown",
      "metadata": {
        "id": "nLGDTSB-ORnW",
        "colab_type": "text"
      },
      "source": [
        "# Handling Missing Values"
      ]
    },
    {
      "cell_type": "markdown",
      "metadata": {
        "id": "DFwtSjVqORnY",
        "colab_type": "text"
      },
      "source": [
        "### Introduction"
      ]
    },
    {
      "cell_type": "markdown",
      "metadata": {
        "id": "XsVjGdlKORnY",
        "colab_type": "text"
      },
      "source": [
        "In the last lesson we saw how to detect missing values, now in this lesson we will see how to handle missing values.  As we'll see, the fact that data is missing, may itself contain information."
      ]
    },
    {
      "cell_type": "markdown",
      "metadata": {
        "id": "oXJkHxPEORnZ",
        "colab_type": "text"
      },
      "source": [
        "### Throw it out?"
      ]
    },
    {
      "cell_type": "markdown",
      "metadata": {
        "id": "ii6u5_V-ORnZ",
        "colab_type": "text"
      },
      "source": [
        "The easiest, and perhaps most tempting way to handle missing values is to throw the buggers out. "
      ]
    },
    {
      "cell_type": "markdown",
      "metadata": {
        "id": "ZFK9hnLbORna",
        "colab_type": "text"
      },
      "source": [
        "In general, this is not a great idea.  This is why:"
      ]
    },
    {
      "cell_type": "markdown",
      "metadata": {
        "id": "SrZs5NVLORna",
        "colab_type": "text"
      },
      "source": [
        "**The missingness may be an indication of something that can predict the target variable.**  And thus by throwing away missing data, we will be further exposed to ommitted variable bias."
      ]
    },
    {
      "cell_type": "markdown",
      "metadata": {
        "id": "18PwclmDORnc",
        "colab_type": "text"
      },
      "source": [
        "For example, in our SAT score data, we have data regarding the number of students who are tested in the SAT.  And in this feature, we have some missing data."
      ]
    },
    {
      "cell_type": "markdown",
      "metadata": {
        "id": "LfB264dsORnd",
        "colab_type": "text"
      },
      "source": [
        "Well, whether or not a school reports this information may not be random.  For example: \n",
        "* it could be that schools who do not record the percent tested are less likely to put efforts into prepping for the SAT.  \n",
        "* Or it could be, that schools who don't record percent tested are requiring every student to take the SAT, and their students take the exam very seriously.  \n",
        "\n",
        "Either way, there may be an association between this information being recorded and a student's performance.  And because of this, we don't want to throw out this information.  Our model may find it helpful in predicting our target. "
      ]
    },
    {
      "cell_type": "markdown",
      "metadata": {
        "id": "lmHghDqsORnd",
        "colab_type": "text"
      },
      "source": [
        "### How to handle missing data"
      ]
    },
    {
      "cell_type": "markdown",
      "metadata": {
        "id": "PsV9M1WaORnd",
        "colab_type": "text"
      },
      "source": [
        "So how do we allow our model to handle missing data.  After all, missing data is often numeric, and we know that missing data can be listed as something that is not a number.\n",
        "\n",
        "Well, the general way to handle missing data is to impute the data. Impute just means to replace the data with something else."
      ]
    },
    {
      "cell_type": "markdown",
      "metadata": {
        "id": "HMjERHzGORne",
        "colab_type": "text"
      },
      "source": [
        "The following is the easiest, and recommended, mechanism for handling missing data: \n",
        "\n",
        "1. create a new feature that indicates whether or not the value is missing, and \n",
        "2. replace the missing number with the mean of the feature"
      ]
    },
    {
      "cell_type": "markdown",
      "metadata": {
        "id": "VbKIbGkHORne",
        "colab_type": "text"
      },
      "source": [
        "Ok, let's get to it, and then we'll explain why this is a good strategy."
      ]
    },
    {
      "cell_type": "markdown",
      "metadata": {
        "id": "Pa_Kv65-ORnf",
        "colab_type": "text"
      },
      "source": [
        "### Loading our Data"
      ]
    },
    {
      "cell_type": "markdown",
      "metadata": {
        "id": "dBjzAXTSORnf",
        "colab_type": "text"
      },
      "source": [
        "LEt's start by loading our sat data."
      ]
    },
    {
      "cell_type": "code",
      "metadata": {
        "id": "hsovfJNLORng",
        "colab_type": "code",
        "colab": {}
      },
      "source": [
        "import pandas as pd\n",
        "url = \"https://raw.githubusercontent.com/jigsawlabs-student/feature-engineering/master/3-handling-missing-data-reading/scores.csv\"\n",
        "df = pd.read_csv(url)\n",
        "df.columns = df.columns.str.strip().str.lower().str.replace(' ', '_').str.replace('(', '').str.replace(')', '')"
      ],
      "execution_count": 0,
      "outputs": []
    },
    {
      "cell_type": "markdown",
      "metadata": {
        "id": "-sdlFrX0ORnj",
        "colab_type": "text"
      },
      "source": [
        "Remember we saw that in the `percent_tested` column, there is a number of missing values."
      ]
    },
    {
      "cell_type": "code",
      "metadata": {
        "id": "mnVGprrvORnk",
        "colab_type": "code",
        "outputId": "485aeb91-5c61-47ef-8dff-211783564754",
        "colab": {
          "base_uri": "https://localhost:8080/",
          "height": 68
        }
      },
      "source": [
        "df.percent_tested.isna().value_counts()"
      ],
      "execution_count": 0,
      "outputs": [
        {
          "output_type": "execute_result",
          "data": {
            "text/plain": [
              "False    386\n",
              "True      49\n",
              "Name: percent_tested, dtype: int64"
            ]
          },
          "metadata": {
            "tags": []
          },
          "execution_count": 2
        }
      ]
    },
    {
      "cell_type": "markdown",
      "metadata": {
        "id": "XOZKqbmSORno",
        "colab_type": "text"
      },
      "source": [
        "So let's create a new feature called `is_null` -- that is, a new pandas series -- to indicate if a feature variable is missing."
      ]
    },
    {
      "cell_type": "code",
      "metadata": {
        "id": "C99O_9GgORno",
        "colab_type": "code",
        "outputId": "43a10ffd-fa4f-4f01-ab65-86d11ca07cf7",
        "colab": {
          "base_uri": "https://localhost:8080/",
          "height": 34
        }
      },
      "source": [
        "import numpy as np\n",
        "is_null = np.where(df.percent_tested.isna(), 1, 0)\n",
        "is_null[0:3]"
      ],
      "execution_count": 0,
      "outputs": [
        {
          "output_type": "execute_result",
          "data": {
            "text/plain": [
              "array([1, 1, 0])"
            ]
          },
          "metadata": {
            "tags": []
          },
          "execution_count": 3
        }
      ]
    },
    {
      "cell_type": "markdown",
      "metadata": {
        "id": "18iurJYqORnr",
        "colab_type": "text"
      },
      "source": [
        "Above we find all of the places where a value for `percent_tested` is not available.  Our is_null column lists a 1 where when the data is not available, and a zero otherwise.  Then, we simpy attach this column to our dataframe."
      ]
    },
    {
      "cell_type": "code",
      "metadata": {
        "id": "EPUt58WXORns",
        "colab_type": "code",
        "outputId": "f0961e9f-979b-473a-f163-ec8f9cdb6db4",
        "colab": {
          "base_uri": "https://localhost:8080/",
          "height": 142
        }
      },
      "source": [
        "df['null_percent_tested'] = is_null\n",
        "df[['percent_tested', 'null_percent_tested']][0:3]"
      ],
      "execution_count": 0,
      "outputs": [
        {
          "output_type": "execute_result",
          "data": {
            "text/html": [
              "<div>\n",
              "<style scoped>\n",
              "    .dataframe tbody tr th:only-of-type {\n",
              "        vertical-align: middle;\n",
              "    }\n",
              "\n",
              "    .dataframe tbody tr th {\n",
              "        vertical-align: top;\n",
              "    }\n",
              "\n",
              "    .dataframe thead th {\n",
              "        text-align: right;\n",
              "    }\n",
              "</style>\n",
              "<table border=\"1\" class=\"dataframe\">\n",
              "  <thead>\n",
              "    <tr style=\"text-align: right;\">\n",
              "      <th></th>\n",
              "      <th>percent_tested</th>\n",
              "      <th>null_percent_tested</th>\n",
              "    </tr>\n",
              "  </thead>\n",
              "  <tbody>\n",
              "    <tr>\n",
              "      <th>0</th>\n",
              "      <td>NaN</td>\n",
              "      <td>1</td>\n",
              "    </tr>\n",
              "    <tr>\n",
              "      <th>1</th>\n",
              "      <td>NaN</td>\n",
              "      <td>1</td>\n",
              "    </tr>\n",
              "    <tr>\n",
              "      <th>2</th>\n",
              "      <td>91.0%</td>\n",
              "      <td>0</td>\n",
              "    </tr>\n",
              "  </tbody>\n",
              "</table>\n",
              "</div>"
            ],
            "text/plain": [
              "  percent_tested  null_percent_tested\n",
              "0            NaN                    1\n",
              "1            NaN                    1\n",
              "2          91.0%                    0"
            ]
          },
          "metadata": {
            "tags": []
          },
          "execution_count": 4
        }
      ]
    },
    {
      "cell_type": "markdown",
      "metadata": {
        "id": "pxizatpUORnv",
        "colab_type": "text"
      },
      "source": [
        "Now, we can perform our second step of replacing the `NaN`s with the mean."
      ]
    },
    {
      "cell_type": "code",
      "metadata": {
        "id": "6jbjOCtDORnv",
        "colab_type": "code",
        "colab": {}
      },
      "source": [
        "df.percent_tested = df.percent_tested.str[0:-1].astype('Float64')"
      ],
      "execution_count": 0,
      "outputs": []
    },
    {
      "cell_type": "code",
      "metadata": {
        "id": "28FW_leBORny",
        "colab_type": "code",
        "outputId": "2bdbb20c-5a68-4188-d275-2060c0240f40",
        "colab": {
          "base_uri": "https://localhost:8080/",
          "height": 34
        }
      },
      "source": [
        "df['percent_tested'].mean()"
      ],
      "execution_count": 0,
      "outputs": [
        {
          "output_type": "execute_result",
          "data": {
            "text/plain": [
              "63.34715025906737"
            ]
          },
          "metadata": {
            "tags": []
          },
          "execution_count": 6
        }
      ]
    },
    {
      "cell_type": "code",
      "metadata": {
        "id": "VFffHNzZORn0",
        "colab_type": "code",
        "colab": {}
      },
      "source": [
        "df['percent_tested'] = np.where(df.percent_tested.isna(), 63.3, df.percent_tested)"
      ],
      "execution_count": 0,
      "outputs": []
    },
    {
      "cell_type": "code",
      "metadata": {
        "id": "ch6D2yolORn3",
        "colab_type": "code",
        "outputId": "0d35ca6a-bcf1-494e-a824-038985c740c2",
        "colab": {
          "base_uri": "https://localhost:8080/",
          "height": 142
        }
      },
      "source": [
        "df[['percent_tested', 'null_percent_tested']][0:3]"
      ],
      "execution_count": 0,
      "outputs": [
        {
          "output_type": "execute_result",
          "data": {
            "text/html": [
              "<div>\n",
              "<style scoped>\n",
              "    .dataframe tbody tr th:only-of-type {\n",
              "        vertical-align: middle;\n",
              "    }\n",
              "\n",
              "    .dataframe tbody tr th {\n",
              "        vertical-align: top;\n",
              "    }\n",
              "\n",
              "    .dataframe thead th {\n",
              "        text-align: right;\n",
              "    }\n",
              "</style>\n",
              "<table border=\"1\" class=\"dataframe\">\n",
              "  <thead>\n",
              "    <tr style=\"text-align: right;\">\n",
              "      <th></th>\n",
              "      <th>percent_tested</th>\n",
              "      <th>null_percent_tested</th>\n",
              "    </tr>\n",
              "  </thead>\n",
              "  <tbody>\n",
              "    <tr>\n",
              "      <th>0</th>\n",
              "      <td>63.3</td>\n",
              "      <td>1</td>\n",
              "    </tr>\n",
              "    <tr>\n",
              "      <th>1</th>\n",
              "      <td>63.3</td>\n",
              "      <td>1</td>\n",
              "    </tr>\n",
              "    <tr>\n",
              "      <th>2</th>\n",
              "      <td>91.0</td>\n",
              "      <td>0</td>\n",
              "    </tr>\n",
              "  </tbody>\n",
              "</table>\n",
              "</div>"
            ],
            "text/plain": [
              "   percent_tested  null_percent_tested\n",
              "0            63.3                    1\n",
              "1            63.3                    1\n",
              "2            91.0                    0"
            ]
          },
          "metadata": {
            "tags": []
          },
          "execution_count": 8
        }
      ]
    },
    {
      "cell_type": "markdown",
      "metadata": {
        "id": "eCfT95iXORn7",
        "colab_type": "text"
      },
      "source": [
        "Here's why this is beneficial.\n",
        "\n",
        "1. By adding a `null_math` column, we are allowing our machine learning model to say whether our `is_null` feature is associated with a higher or lower math SAT score.  \n",
        "2. Then, for our percent tested column, we are replacing the `nan` with a value that will have a relatively neutral effect.  \n",
        "\n",
        "So we are effectively decreasing the impact of our missing value in the percent tested column, and instead capturing that impact in the new column, `null_percent_tested`."
      ]
    },
    {
      "cell_type": "markdown",
      "metadata": {
        "id": "x2YrifTgORn7",
        "colab_type": "text"
      },
      "source": [
        "### Missing variables with the target variable"
      ]
    },
    {
      "cell_type": "markdown",
      "metadata": {
        "id": "MnZJMK0HORn8",
        "colab_type": "text"
      },
      "source": [
        "So far we discussed working with missing variables with a feature variable.  However, things are not so easy with a target variable."
      ]
    },
    {
      "cell_type": "markdown",
      "metadata": {
        "id": "cmBbRYzHORn8",
        "colab_type": "text"
      },
      "source": [
        "With our target variable there are a couple of other approaches we can employ:\n",
        "\n",
        "1. Drop the rows with a null target\n",
        "    * Here, we are conceding defeat, as it is hard difficult to learn the information when we have a null target\n",
        "2. Use a machine learning model to impute target data\n",
        "    * We can treat the missing target data as information we are trying to predict, and then replace our values with those we predict.  \n",
        "    * See the [fancy impute](https://github.com/iskandr/fancyimpute) library for more on this."
      ]
    },
    {
      "cell_type": "markdown",
      "metadata": {
        "id": "hqQQKf5JORn9",
        "colab_type": "text"
      },
      "source": [
        "### Also, be scrappy"
      ]
    },
    {
      "cell_type": "markdown",
      "metadata": {
        "id": "bokx7YWRORn9",
        "colab_type": "text"
      },
      "source": [
        "Finally, remember that we do have coding skills.  If we cannot find our data in one dataset, we can always keep looking.  Try to fill in the data by collecting data from other datasets."
      ]
    },
    {
      "cell_type": "markdown",
      "metadata": {
        "id": "vjSC-hHiORn-",
        "colab_type": "text"
      },
      "source": [
        "### Summary"
      ]
    },
    {
      "cell_type": "markdown",
      "metadata": {
        "id": "PfwayFpXORn-",
        "colab_type": "text"
      },
      "source": [
        "In this lesson, we learned how to work with missing data.  Our main approach involves two steps.  We decrease the numerical impact that our missing data has by replacing it with the mean in the original feature.  But, to see if the missingness itself has predictive value, we add a new boolean feature to indicate missingness and then include this in our model.  "
      ]
    },
    {
      "cell_type": "markdown",
      "metadata": {
        "id": "HOOQdda3ORn_",
        "colab_type": "text"
      },
      "source": [
        "### Resources"
      ]
    },
    {
      "cell_type": "markdown",
      "metadata": {
        "id": "47-dMRK3ORn_",
        "colab_type": "text"
      },
      "source": [
        "[Gelman missing data](http://www.stat.columbia.edu/~gelman/arm/missing.pdf)"
      ]
    }
  ]
}