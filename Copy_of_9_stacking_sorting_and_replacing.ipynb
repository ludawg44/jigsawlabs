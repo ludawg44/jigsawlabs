{
  "nbformat": 4,
  "nbformat_minor": 0,
  "metadata": {
    "kernelspec": {
      "display_name": "Python 3",
      "language": "python",
      "name": "python3"
    },
    "language_info": {
      "codemirror_mode": {
        "name": "ipython",
        "version": 3
      },
      "file_extension": ".py",
      "mimetype": "text/x-python",
      "name": "python",
      "nbconvert_exporter": "python",
      "pygments_lexer": "ipython3",
      "version": "3.7.4"
    },
    "colab": {
      "name": "Copy of 9-stacking-sorting-and-replacing.ipynb",
      "provenance": [],
      "include_colab_link": true
    }
  },
  "cells": [
    {
      "cell_type": "markdown",
      "metadata": {
        "id": "view-in-github",
        "colab_type": "text"
      },
      "source": [
        "<a href=\"https://colab.research.google.com/github/ludawg44/jigsawlabs/blob/master/Copy_of_9_stacking_sorting_and_replacing.ipynb\" target=\"_parent\"><img src=\"https://colab.research.google.com/assets/colab-badge.svg\" alt=\"Open In Colab\"/></a>"
      ]
    },
    {
      "cell_type": "markdown",
      "metadata": {
        "id": "uhWNQbNn3xQl",
        "colab_type": "text"
      },
      "source": [
        "# Stacking, Sorting and Coercing"
      ]
    },
    {
      "cell_type": "markdown",
      "metadata": {
        "id": "QO4_v_yc3xQn",
        "colab_type": "text"
      },
      "source": [
        "### Introduction"
      ]
    },
    {
      "cell_type": "markdown",
      "metadata": {
        "id": "a7C1ox7K3xQo",
        "colab_type": "text"
      },
      "source": [
        "So far we have used queries to select data, but beyond selecting data we also may wish use sorting on our data, as well as change some of our data."
      ]
    },
    {
      "cell_type": "markdown",
      "metadata": {
        "id": "bkHTIdwj3xQp",
        "colab_type": "text"
      },
      "source": [
        "### Loading Data"
      ]
    },
    {
      "cell_type": "code",
      "metadata": {
        "id": "ofrbNN533xQr",
        "colab_type": "code",
        "outputId": "322c77f4-9598-4073-99ab-b4273b57f7f0",
        "colab": {}
      },
      "source": [
        "import pandas as pd\n",
        "\n",
        "url = \"https://raw.githubusercontent.com/ledeprogram/courses/master/foundations/mapping/tilemill/yelp-lunch-nyc.csv\"\n",
        "lunch_df = pd.read_csv(url)\n",
        "\n",
        "\n",
        "lunch_cols = lunch_df.columns \n",
        "lunch_df.head()"
      ],
      "execution_count": 0,
      "outputs": [
        {
          "output_type": "execute_result",
          "data": {
            "text/html": [
              "<div>\n",
              "<style scoped>\n",
              "    .dataframe tbody tr th:only-of-type {\n",
              "        vertical-align: middle;\n",
              "    }\n",
              "\n",
              "    .dataframe tbody tr th {\n",
              "        vertical-align: top;\n",
              "    }\n",
              "\n",
              "    .dataframe thead th {\n",
              "        text-align: right;\n",
              "    }\n",
              "</style>\n",
              "<table border=\"1\" class=\"dataframe\">\n",
              "  <thead>\n",
              "    <tr style=\"text-align: right;\">\n",
              "      <th></th>\n",
              "      <th>Name</th>\n",
              "      <th>Address</th>\n",
              "      <th>City</th>\n",
              "      <th>Category</th>\n",
              "      <th>Rating</th>\n",
              "      <th>URL</th>\n",
              "    </tr>\n",
              "  </thead>\n",
              "  <tbody>\n",
              "    <tr>\n",
              "      <th>0</th>\n",
              "      <td>Rambling House</td>\n",
              "      <td>4292 Katonah Ave</td>\n",
              "      <td>Bronx</td>\n",
              "      <td>Pubs</td>\n",
              "      <td>4.0</td>\n",
              "      <td>http://www.yelp.com/biz/rambling-house-bronx</td>\n",
              "    </tr>\n",
              "    <tr>\n",
              "      <th>1</th>\n",
              "      <td>Curry Spot</td>\n",
              "      <td>4268 Katonah Ave</td>\n",
              "      <td>Bronx</td>\n",
              "      <td>Indian</td>\n",
              "      <td>4.0</td>\n",
              "      <td>http://www.yelp.com/biz/curry-spot-bronx</td>\n",
              "    </tr>\n",
              "    <tr>\n",
              "      <th>2</th>\n",
              "      <td>Eileens Country Kitchen</td>\n",
              "      <td>964 McLean Ave</td>\n",
              "      <td>Yonkers</td>\n",
              "      <td>American (Traditional)</td>\n",
              "      <td>3.5</td>\n",
              "      <td>http://www.yelp.com/biz/eileens-country-kitche...</td>\n",
              "    </tr>\n",
              "    <tr>\n",
              "      <th>3</th>\n",
              "      <td>Ali's Roti Shop</td>\n",
              "      <td>4220 White Plains Rd</td>\n",
              "      <td>Bronx</td>\n",
              "      <td>Trinidadian</td>\n",
              "      <td>4.0</td>\n",
              "      <td>http://www.yelp.com/biz/alis-roti-shop-bronx</td>\n",
              "    </tr>\n",
              "    <tr>\n",
              "      <th>4</th>\n",
              "      <td>HIM Ital Health Food Market</td>\n",
              "      <td>4374b White Plains Rd</td>\n",
              "      <td>Bronx</td>\n",
              "      <td>Health Markets</td>\n",
              "      <td>4.5</td>\n",
              "      <td>http://www.yelp.com/biz/him-ital-health-food-m...</td>\n",
              "    </tr>\n",
              "  </tbody>\n",
              "</table>\n",
              "</div>"
            ],
            "text/plain": [
              "                          Name                Address     City  \\\n",
              "0               Rambling House       4292 Katonah Ave    Bronx   \n",
              "1                   Curry Spot       4268 Katonah Ave    Bronx   \n",
              "2      Eileens Country Kitchen         964 McLean Ave  Yonkers   \n",
              "3              Ali's Roti Shop   4220 White Plains Rd    Bronx   \n",
              "4  HIM Ital Health Food Market  4374b White Plains Rd    Bronx   \n",
              "\n",
              "                 Category  Rating  \\\n",
              "0                    Pubs     4.0   \n",
              "1                  Indian     4.0   \n",
              "2  American (Traditional)     3.5   \n",
              "3             Trinidadian     4.0   \n",
              "4          Health Markets     4.5   \n",
              "\n",
              "                                                 URL  \n",
              "0       http://www.yelp.com/biz/rambling-house-bronx  \n",
              "1           http://www.yelp.com/biz/curry-spot-bronx  \n",
              "2  http://www.yelp.com/biz/eileens-country-kitche...  \n",
              "3       http://www.yelp.com/biz/alis-roti-shop-bronx  \n",
              "4  http://www.yelp.com/biz/him-ital-health-food-m...  "
            ]
          },
          "metadata": {
            "tags": []
          },
          "execution_count": 2
        }
      ]
    },
    {
      "cell_type": "code",
      "metadata": {
        "id": "CDZhkA583xQw",
        "colab_type": "code",
        "colab": {}
      },
      "source": [
        "lunch_np = lunch_df.to_numpy()"
      ],
      "execution_count": 0,
      "outputs": []
    },
    {
      "cell_type": "code",
      "metadata": {
        "id": "qtQey6eW3xQ0",
        "colab_type": "code",
        "outputId": "9e1497b6-eca5-4d28-929f-858d9d350145",
        "colab": {}
      },
      "source": [
        "lunch_np[:2]"
      ],
      "execution_count": 0,
      "outputs": [
        {
          "output_type": "execute_result",
          "data": {
            "text/plain": [
              "array([['Rambling House', '4292 Katonah Ave', 'Bronx', 'Pubs', 4.0,\n",
              "        'http://www.yelp.com/biz/rambling-house-bronx'],\n",
              "       ['Curry Spot', '4268 Katonah Ave', 'Bronx', 'Indian', 4.0,\n",
              "        'http://www.yelp.com/biz/curry-spot-bronx']], dtype=object)"
            ]
          },
          "metadata": {
            "tags": []
          },
          "execution_count": 4
        }
      ]
    },
    {
      "cell_type": "markdown",
      "metadata": {
        "id": "6_-BQoLb3xQ2",
        "colab_type": "text"
      },
      "source": [
        "### Sorting Data"
      ]
    },
    {
      "cell_type": "markdown",
      "metadata": {
        "id": "n5r2EzcS3xQ3",
        "colab_type": "text"
      },
      "source": [
        "Let's say that we wish to find out which categories occur the most.  We have seen that we can kind of get this by using `unique` with the option `return_counts = True`."
      ]
    },
    {
      "cell_type": "code",
      "metadata": {
        "id": "wVKB6AUj3xQ4",
        "colab_type": "code",
        "colab": {}
      },
      "source": [
        "import numpy as np\n",
        "\n",
        "unique_counts_pairs = np.unique(lunch_np[:, 3], return_counts = True)"
      ],
      "execution_count": 0,
      "outputs": []
    },
    {
      "cell_type": "markdown",
      "metadata": {
        "id": "GNZpNpnd3xQ7",
        "colab_type": "text"
      },
      "source": [
        "This returns to us a tuple, where the first element is an array of the unique restaurants, and the second element is an array of the related counts."
      ]
    },
    {
      "cell_type": "code",
      "metadata": {
        "id": "5l-Fk72i3xQ8",
        "colab_type": "code",
        "colab": {}
      },
      "source": [
        "unique_restaurants = unique_counts_pairs[0]\n",
        "unique_counts = unique_counts_pairs[1]"
      ],
      "execution_count": 0,
      "outputs": []
    },
    {
      "cell_type": "code",
      "metadata": {
        "id": "fNyJNLWi3xQ-",
        "colab_type": "code",
        "outputId": "ddde8771-3b58-4cf7-dc75-2808e29f0ed2",
        "colab": {}
      },
      "source": [
        "unique_restaurants[:3]"
      ],
      "execution_count": 0,
      "outputs": [
        {
          "output_type": "execute_result",
          "data": {
            "text/plain": [
              "array(['Afghan', 'American (New)', 'American (Traditional)'], dtype=object)"
            ]
          },
          "metadata": {
            "tags": []
          },
          "execution_count": 42
        }
      ]
    },
    {
      "cell_type": "code",
      "metadata": {
        "id": "M3bdyke83xRA",
        "colab_type": "code",
        "outputId": "2779c96f-7de5-4c28-fa64-7c15669409d0",
        "colab": {}
      },
      "source": [
        "unique_counts[:3]"
      ],
      "execution_count": 0,
      "outputs": [
        {
          "output_type": "execute_result",
          "data": {
            "text/plain": [
              "array([  2, 259, 173])"
            ]
          },
          "metadata": {
            "tags": []
          },
          "execution_count": 43
        }
      ]
    },
    {
      "cell_type": "markdown",
      "metadata": {
        "id": "632j3gpg3xRD",
        "colab_type": "text"
      },
      "source": [
        "Now the first thing we should do is combine these arrays, so that they consist of columns of a numpy array.  We can do so using the `stack` method."
      ]
    },
    {
      "cell_type": "code",
      "metadata": {
        "id": "WTH2JIUw3xRE",
        "colab_type": "code",
        "colab": {}
      },
      "source": [
        "category_counts = np.stack([unique_restaurants, unique_counts])"
      ],
      "execution_count": 0,
      "outputs": []
    },
    {
      "cell_type": "markdown",
      "metadata": {
        "id": "LlXgTCJ83xRH",
        "colab_type": "text"
      },
      "source": [
        "> So stack places two numpy arrays into a larger array. By default it stacks as one row on top of the other. "
      ]
    },
    {
      "cell_type": "code",
      "metadata": {
        "id": "KJiqcsI13xRH",
        "colab_type": "code",
        "outputId": "2c5c7d9c-8076-46a7-8715-99a923186d40",
        "colab": {}
      },
      "source": [
        "category_counts[:, 0:20]"
      ],
      "execution_count": 0,
      "outputs": [
        {
          "output_type": "execute_result",
          "data": {
            "text/plain": [
              "array([['Afghan', 'American (New)', 'American (Traditional)',\n",
              "        'Argentine', 'Asian Fusion', 'Bagels', 'Bakeries', 'Barbeque',\n",
              "        'Bars', 'Brazilian', 'Breakfast & Brunch', 'Bubble Tea',\n",
              "        'Buffets', 'Burgers', 'Cafes', 'Cajun/Creole', 'Cambodian',\n",
              "        'Cantonese', 'Caribbean', 'Caterers'],\n",
              "       [2, 259, 173, 1, 52, 6, 57, 50, 15, 12, 23, 3, 12, 131, 62, 5, 19,\n",
              "        1, 110, 40]], dtype=object)"
            ]
          },
          "metadata": {
            "tags": []
          },
          "execution_count": 47
        }
      ]
    },
    {
      "cell_type": "markdown",
      "metadata": {
        "id": "0itIfHP33xRK",
        "colab_type": "text"
      },
      "source": [
        "But we can stack them column-wise by providing axis = 1."
      ]
    },
    {
      "cell_type": "code",
      "metadata": {
        "id": "aOrWH0wl3xRK",
        "colab_type": "code",
        "colab": {}
      },
      "source": [
        "category_counts = np.stack([unique_restaurants, unique_counts], axis = 1)"
      ],
      "execution_count": 0,
      "outputs": []
    },
    {
      "cell_type": "code",
      "metadata": {
        "id": "PnFp-Mvy3xRN",
        "colab_type": "code",
        "outputId": "5b54c36d-24d7-4048-cf71-211258c7e8e7",
        "colab": {}
      },
      "source": [
        "category_counts[:15]"
      ],
      "execution_count": 0,
      "outputs": [
        {
          "output_type": "execute_result",
          "data": {
            "text/plain": [
              "array([['Afghan', 2],\n",
              "       ['American (New)', 259],\n",
              "       ['American (Traditional)', 173],\n",
              "       ['Argentine', 1],\n",
              "       ['Asian Fusion', 52],\n",
              "       ['Bagels', 6],\n",
              "       ['Bakeries', 57],\n",
              "       ['Barbeque', 50],\n",
              "       ['Bars', 15],\n",
              "       ['Brazilian', 12],\n",
              "       ['Breakfast & Brunch', 23],\n",
              "       ['Bubble Tea', 3],\n",
              "       ['Buffets', 12],\n",
              "       ['Burgers', 131],\n",
              "       ['Cafes', 62]], dtype=object)"
            ]
          },
          "metadata": {
            "tags": []
          },
          "execution_count": 50
        }
      ]
    },
    {
      "cell_type": "markdown",
      "metadata": {
        "id": "hYKe8hDn3xRQ",
        "colab_type": "text"
      },
      "source": [
        "### Sorting our columns"
      ]
    },
    {
      "cell_type": "markdown",
      "metadata": {
        "id": "jclvWNmp3xRR",
        "colab_type": "text"
      },
      "source": [
        "Now that we have `category_counts` indicating the category and the related number of restaurants, let's try to sort these from largest to smallest.    "
      ]
    },
    {
      "cell_type": "markdown",
      "metadata": {
        "id": "O02_L2re3xRS",
        "colab_type": "text"
      },
      "source": [
        "1. An attempt gone wrong"
      ]
    },
    {
      "cell_type": "markdown",
      "metadata": {
        "id": "svorKxxK3xRT",
        "colab_type": "text"
      },
      "source": [
        "For our first attempt, we can select the second column and then call `sort`."
      ]
    },
    {
      "cell_type": "code",
      "metadata": {
        "id": "6-VDt7eE3xRU",
        "colab_type": "code",
        "colab": {}
      },
      "source": [
        "category_counts[:, 1].sort()"
      ],
      "execution_count": 0,
      "outputs": []
    },
    {
      "cell_type": "code",
      "metadata": {
        "id": "TvnPGOq93xRX",
        "colab_type": "code",
        "outputId": "d7dda5a7-6fd1-42b4-cf00-dfbca91b7f07",
        "colab": {}
      },
      "source": [
        "category_counts[:5]"
      ],
      "execution_count": 0,
      "outputs": [
        {
          "output_type": "execute_result",
          "data": {
            "text/plain": [
              "array([['Afghan', 1],\n",
              "       ['American (New)', 1],\n",
              "       ['American (Traditional)', 1],\n",
              "       ['Argentine', 1],\n",
              "       ['Asian Fusion', 1]], dtype=object)"
            ]
          },
          "metadata": {
            "tags": []
          },
          "execution_count": 54
        }
      ]
    },
    {
      "cell_type": "markdown",
      "metadata": {
        "id": "P42RZHHY3xRa",
        "colab_type": "text"
      },
      "source": [
        "This did **not** do what we wanted at all.  Here, it *only* changed the second column in our `category_counts` array.  It did not change the order as the first column.  So now we're in a worse spot, as our two columns don't line up."
      ]
    },
    {
      "cell_type": "markdown",
      "metadata": {
        "id": "gdF3X1j33xRb",
        "colab_type": "text"
      },
      "source": [
        "Let's try again."
      ]
    },
    {
      "cell_type": "markdown",
      "metadata": {
        "id": "ZoKI3wIA3xRd",
        "colab_type": "text"
      },
      "source": [
        "2. A second attempt"
      ]
    },
    {
      "cell_type": "markdown",
      "metadata": {
        "id": "DFnTsR4Z3xRe",
        "colab_type": "text"
      },
      "source": [
        "First we'll recreate `category_counts`."
      ]
    },
    {
      "cell_type": "code",
      "metadata": {
        "id": "xBghokFc3xRg",
        "colab_type": "code",
        "outputId": "886d1aa8-fa6f-440b-f81e-cb9f1fa78e8b",
        "colab": {}
      },
      "source": [
        "category_counts = np.stack([unique_restaurants, unique_counts], axis = 1)\n",
        "category_counts[:3]"
      ],
      "execution_count": 0,
      "outputs": [
        {
          "output_type": "execute_result",
          "data": {
            "text/plain": [
              "array([['Afghan', 2],\n",
              "       ['American (New)', 259],\n",
              "       ['American (Traditional)', 173]], dtype=object)"
            ]
          },
          "metadata": {
            "tags": []
          },
          "execution_count": 57
        }
      ]
    },
    {
      "cell_type": "markdown",
      "metadata": {
        "id": "Cf6OZrFr3xRi",
        "colab_type": "text"
      },
      "source": [
        "Now before sorting, let's just try to find the amount of times that the most popular cuisine occurs."
      ]
    },
    {
      "cell_type": "code",
      "metadata": {
        "id": "uwn0Xppi3xRl",
        "colab_type": "code",
        "outputId": "305e85ba-4eb1-4afa-d633-5580f846bf98",
        "colab": {}
      },
      "source": [
        "np.max(category_counts[:, 1])"
      ],
      "execution_count": 0,
      "outputs": [
        {
          "output_type": "execute_result",
          "data": {
            "text/plain": [
              "661"
            ]
          },
          "metadata": {
            "tags": []
          },
          "execution_count": 58
        }
      ]
    },
    {
      "cell_type": "markdown",
      "metadata": {
        "id": "U8yV_sCl3xRo",
        "colab_type": "text"
      },
      "source": [
        "Now to find what type of cuisine that is, we can use `np.argmax`.  The `np.argmax` function returns to us the `index` where the maximum value is located."
      ]
    },
    {
      "cell_type": "code",
      "metadata": {
        "id": "ZNjbUHJO3xRp",
        "colab_type": "code",
        "outputId": "0a095b13-2ce1-48fb-f2b9-4b116ccd936a",
        "colab": {}
      },
      "source": [
        "max_idx = np.argmax(category_counts[:, 1])\n",
        "max_idx"
      ],
      "execution_count": 0,
      "outputs": [
        {
          "output_type": "execute_result",
          "data": {
            "text/plain": [
              "71"
            ]
          },
          "metadata": {
            "tags": []
          },
          "execution_count": 60
        }
      ]
    },
    {
      "cell_type": "markdown",
      "metadata": {
        "id": "oSj3FmGM3xRt",
        "colab_type": "text"
      },
      "source": [
        "So at position 71, we'll find our maximum value.  Now we can select this row."
      ]
    },
    {
      "cell_type": "code",
      "metadata": {
        "id": "kH9zQM-q3xRu",
        "colab_type": "code",
        "outputId": "65a52195-b11e-4515-b8b0-2583e03226ad",
        "colab": {}
      },
      "source": [
        "category_counts[max_idx]"
      ],
      "execution_count": 0,
      "outputs": [
        {
          "output_type": "execute_result",
          "data": {
            "text/plain": [
              "array(['Pizza', 661], dtype=object)"
            ]
          },
          "metadata": {
            "tags": []
          },
          "execution_count": 61
        }
      ]
    },
    {
      "cell_type": "markdown",
      "metadata": {
        "id": "USBdbTw13xRx",
        "colab_type": "text"
      },
      "source": [
        "Ok, so here we see that the category that appears the most is `Pizza`."
      ]
    },
    {
      "cell_type": "markdown",
      "metadata": {
        "id": "2sOB14ob3xRy",
        "colab_type": "text"
      },
      "source": [
        "### Sorting For Real "
      ]
    },
    {
      "cell_type": "markdown",
      "metadata": {
        "id": "teJ-CzQ43xRy",
        "colab_type": "text"
      },
      "source": [
        "So now that we saw how to use the `np.argmax` function to return the position of maximum value, let's see what `np.argsort` does."
      ]
    },
    {
      "cell_type": "code",
      "metadata": {
        "id": "qPDknRLG3xRz",
        "colab_type": "code",
        "outputId": "02457a9c-fe34-4d3e-9c9f-506b103192af",
        "colab": {}
      },
      "source": [
        "category_order = np.argsort(category_counts[:, 1])\n",
        "category_order"
      ],
      "execution_count": 0,
      "outputs": [
        {
          "output_type": "execute_result",
          "data": {
            "text/plain": [
              "array([ 81,   3,  60,  41,  40,  36,  35,  17,   0,  89,  74,  69,  47,\n",
              "        45,  34,  24,  52,  25,  67,  39,  11,  93,  80,  68,  50,  87,\n",
              "        82,  96,  28,  91,  15,   5,  59,  49, 104,  98,  62,  99,  92,\n",
              "        30,   9,  12,  72, 102,  46,  48,  94,   8,  20,  38,  44,  16,\n",
              "        61,  42,  37,  84,  63,  57,  73,  77,  76,  10,  33,  97,  31,\n",
              "        88,  32,  83,  86,  21,  70, 100,  19,  55,  75,   7,   4,   6,\n",
              "        14,  43,  26,  85,  56,  66, 103,  29,  79,  23,  18, 101,  64,\n",
              "        13,  90,  95,   2,  51,  27,  78,  58,  54,   1,  65,  53,  22,\n",
              "        71])"
            ]
          },
          "metadata": {
            "tags": []
          },
          "execution_count": 68
        }
      ]
    },
    {
      "cell_type": "markdown",
      "metadata": {
        "id": "ltc9_EP63xR3",
        "colab_type": "text"
      },
      "source": [
        "> Argsort returns an array of indices in sorted order of the provided array."
      ]
    },
    {
      "cell_type": "markdown",
      "metadata": {
        "id": "KKbWizIN3xR3",
        "colab_type": "text"
      },
      "source": [
        "So here we have the indices according to the category counts.  But it's ordered by count, lowest to highest.  We want highest to lowest.  We can reverse the order like so."
      ]
    },
    {
      "cell_type": "code",
      "metadata": {
        "id": "HZZJKkmg3xR5",
        "colab_type": "code",
        "outputId": "114f2fc9-70f9-49da-8020-5627e7c32f5f",
        "colab": {}
      },
      "source": [
        "category_order_desc = category_order[::-1]\n",
        "category_order_desc[:10]"
      ],
      "execution_count": 0,
      "outputs": [
        {
          "output_type": "execute_result",
          "data": {
            "text/plain": [
              "array([71, 22, 53, 65,  1, 54, 58, 78, 27, 51])"
            ]
          },
          "metadata": {
            "tags": []
          },
          "execution_count": 70
        }
      ]
    },
    {
      "cell_type": "markdown",
      "metadata": {
        "id": "-6NwISAx3xR7",
        "colab_type": "text"
      },
      "source": [
        "Ok, much better.  Now we can uses these indices to order our `category_counts` array."
      ]
    },
    {
      "cell_type": "code",
      "metadata": {
        "id": "FkU2XXPY3xR8",
        "colab_type": "code",
        "outputId": "466fe08e-663c-4338-aa7b-7e4dc3ca83ed",
        "colab": {}
      },
      "source": [
        "ordered_categories = category_counts[category_order_desc]\n",
        "ordered_categories[:20]"
      ],
      "execution_count": 0,
      "outputs": [
        {
          "output_type": "execute_result",
          "data": {
            "text/plain": [
              "array([['Pizza', 661],\n",
              "       ['Chinese', 300],\n",
              "       ['Italian', 285],\n",
              "       ['Mexican', 259],\n",
              "       ['American (New)', 259],\n",
              "       ['Japanese', 247],\n",
              "       ['Latin American', 233],\n",
              "       ['Sandwiches', 226],\n",
              "       ['Delis', 225],\n",
              "       ['Indian', 181],\n",
              "       ['American (Traditional)', 173],\n",
              "       ['Thai', 171],\n",
              "       ['Sushi Bars', 166],\n",
              "       ['Burgers', 131],\n",
              "       ['Mediterranean', 113],\n",
              "       ['Vegetarian', 113],\n",
              "       ['Caribbean', 110],\n",
              "       ['Coffee & Tea', 99],\n",
              "       ['Seafood', 95],\n",
              "       ['Diners', 94]], dtype=object)"
            ]
          },
          "metadata": {
            "tags": []
          },
          "execution_count": 76
        }
      ]
    },
    {
      "cell_type": "markdown",
      "metadata": {
        "id": "Rq5Y7pD43xR_",
        "colab_type": "text"
      },
      "source": [
        "### Coercing Data"
      ]
    },
    {
      "cell_type": "markdown",
      "metadata": {
        "id": "wvLg7uMG3xSA",
        "colab_type": "text"
      },
      "source": [
        "Now so far we have focused on querying data.  But we may also need to coerce our data.  For example, let's look at the cuisines that occur the least."
      ]
    },
    {
      "cell_type": "code",
      "metadata": {
        "id": "N5WJjwfM3xSB",
        "colab_type": "code",
        "outputId": "08c0c479-197f-4a36-f8c2-c9ea59b3484f",
        "colab": {}
      },
      "source": [
        "ordered_categories[::-1][:30]"
      ],
      "execution_count": 0,
      "outputs": [
        {
          "output_type": "execute_result",
          "data": {
            "text/plain": [
              "array([['Senegalese', 1],\n",
              "       ['Argentine', 1],\n",
              "       ['Local Flavor', 1],\n",
              "       ['Gastropubs', 1],\n",
              "       ['Gas & Service Stations', 1],\n",
              "       ['Food Delivery Services', 1],\n",
              "       ['Food', 1],\n",
              "       ['Cantonese', 1],\n",
              "       ['Afghan', 2],\n",
              "       ['Street Vendors', 2],\n",
              "       ['Ramen', 2],\n",
              "       ['Pakistani', 2],\n",
              "       ['Hawaiian', 2],\n",
              "       ['Haitian', 2],\n",
              "       ['Filipino', 2],\n",
              "       ['Comfort Food', 2],\n",
              "       ['Irish', 2],\n",
              "       ['Creperies', 3],\n",
              "       ['Modern European', 3],\n",
              "       ['Fruits & Veggies', 3],\n",
              "       ['Bubble Tea', 3],\n",
              "       ['Tapas Bars', 3],\n",
              "       ['Seafood Markets', 4],\n",
              "       ['Music Venues', 4],\n",
              "       ['Ice Cream & Frozen Yogurt', 4],\n",
              "       ['Sports Bars', 5],\n",
              "       ['Shanghainese', 5],\n",
              "       ['Trinidadian', 5],\n",
              "       ['Desserts', 5],\n",
              "       ['Szechuan', 5]], dtype=object)"
            ]
          },
          "metadata": {
            "tags": []
          },
          "execution_count": 79
        }
      ]
    },
    {
      "cell_type": "markdown",
      "metadata": {
        "id": "Q1npPqvq3xSE",
        "colab_type": "text"
      },
      "source": [
        "We can see that `Szechuan`, `Cantonese`, and `Shanghainese` and `Taiwanese` each do not occur that often, and could be added to Chinese food."
      ]
    },
    {
      "cell_type": "code",
      "metadata": {
        "id": "_26WMvW63xSF",
        "colab_type": "code",
        "outputId": "54ead7b9-79b3-4559-de90-bedc5c7ed65a",
        "colab": {}
      },
      "source": [
        "ordered_categories[:, 0]"
      ],
      "execution_count": 0,
      "outputs": [
        {
          "output_type": "execute_result",
          "data": {
            "text/plain": [
              "array(['Pizza', 'Chinese', 'Italian', 'Mexican', 'American (New)',\n",
              "       'Japanese', 'Latin American', 'Sandwiches', 'Delis', 'Indian',\n",
              "       'American (Traditional)', 'Thai', 'Sushi Bars', 'Burgers',\n",
              "       'Mediterranean', 'Vegetarian', 'Caribbean', 'Coffee & Tea',\n",
              "       'Seafood', 'Diners', 'Vietnamese', 'Middle Eastern', 'Korean',\n",
              "       'Spanish', 'Cuban', 'Greek', 'Cafes', 'Bakeries', 'Asian Fusion',\n",
              "       'Barbeque', 'Restaurants', 'Juice Bars & Smoothies', 'Caterers',\n",
              "       'Vegan', 'Peruvian', 'Chicken Wings', 'Specialty Food',\n",
              "       'Soul Food', 'Falafel', 'Steakhouses', 'Ethnic Food', 'Turkish',\n",
              "       'Fast Food', 'Breakfast & Brunch', 'Russian', 'Salad', 'Pubs',\n",
              "       'Kosher', 'Meat Shops', 'Southern', 'Food Stands', 'German',\n",
              "       'Lounges', 'Cambodian', 'Grocery', 'French', 'Cheese Shops',\n",
              "       'Bars', 'Tex-Mex', 'Health Markets', 'Halal', 'Venezuelan',\n",
              "       'Polish', 'Buffets', 'Brazilian', 'Dominican', 'Taiwanese',\n",
              "       'Uzbek', 'Malaysian', 'Ukrainian', 'Wine Bars', 'Hot Dogs',\n",
              "       'Lebanese', 'Bagels', 'Cajun/Creole', 'Szechuan', 'Desserts',\n",
              "       'Trinidadian', 'Shanghainese', 'Sports Bars',\n",
              "       'Ice Cream & Frozen Yogurt', 'Music Venues', 'Seafood Markets',\n",
              "       'Tapas Bars', 'Bubble Tea', 'Fruits & Veggies', 'Modern European',\n",
              "       'Creperies', 'Irish', 'Comfort Food', 'Filipino', 'Haitian',\n",
              "       'Hawaiian', 'Pakistani', 'Ramen', 'Street Vendors', 'Afghan',\n",
              "       'Cantonese', 'Food', 'Food Delivery Services',\n",
              "       'Gas & Service Stations', 'Gastropubs', 'Local Flavor',\n",
              "       'Argentine', 'Senegalese'], dtype=object)"
            ]
          },
          "metadata": {
            "tags": []
          },
          "execution_count": 82
        }
      ]
    },
    {
      "cell_type": "markdown",
      "metadata": {
        "id": "4jeaPctH3xSI",
        "colab_type": "text"
      },
      "source": [
        "Let's assign each of the restaurants in this category to be cuisine `Chinese`."
      ]
    },
    {
      "cell_type": "code",
      "metadata": {
        "id": "B_aqoFiY3xSI",
        "colab_type": "code",
        "colab": {}
      },
      "source": [
        "chinese_regional = ['Szechuan', 'Cantonese', 'Shanghainese', 'Taiwanese']\n",
        "\n",
        "selected_rests = lunch_np[np.isin(lunch_np[:, 3], chinese_regional)]"
      ],
      "execution_count": 0,
      "outputs": []
    },
    {
      "cell_type": "markdown",
      "metadata": {
        "id": "a_HiT2js3xSK",
        "colab_type": "text"
      },
      "source": [
        "Then we can assign the fourth column to be 'Chinese'."
      ]
    },
    {
      "cell_type": "code",
      "metadata": {
        "id": "PUKtoLO33xSL",
        "colab_type": "code",
        "outputId": "77368860-4810-4808-d7b3-a7c59583f16c",
        "colab": {}
      },
      "source": [
        "selected_rests[:, 3]"
      ],
      "execution_count": 0,
      "outputs": [
        {
          "output_type": "execute_result",
          "data": {
            "text/plain": [
              "array(['Cantonese', 'Szechuan', 'Shanghainese', 'Taiwanese', 'Szechuan',\n",
              "       'Shanghainese', 'Taiwanese', 'Shanghainese', 'Taiwanese',\n",
              "       'Taiwanese', 'Taiwanese', 'Taiwanese', 'Szechuan', 'Taiwanese',\n",
              "       'Taiwanese', 'Taiwanese', 'Taiwanese', 'Szechuan', 'Shanghainese',\n",
              "       'Taiwanese', 'Szechuan', 'Shanghainese'], dtype=object)"
            ]
          },
          "metadata": {
            "tags": []
          },
          "execution_count": 92
        }
      ]
    },
    {
      "cell_type": "code",
      "metadata": {
        "id": "2PqcXyex3xSO",
        "colab_type": "code",
        "colab": {}
      },
      "source": [
        "lunch_np[np.isin(lunch_np[:, 3], chinese_regional)] = 'Chinese'"
      ],
      "execution_count": 0,
      "outputs": []
    },
    {
      "cell_type": "code",
      "metadata": {
        "id": "5HDiGMM53xSP",
        "colab_type": "code",
        "outputId": "2c498276-3726-4139-9510-49361b830a6a",
        "colab": {}
      },
      "source": [
        "lunch_np[np.isin(lunch_np[:, 3], chinese_regional)]"
      ],
      "execution_count": 0,
      "outputs": [
        {
          "output_type": "execute_result",
          "data": {
            "text/plain": [
              "array([], shape=(0, 6), dtype=object)"
            ]
          },
          "metadata": {
            "tags": []
          },
          "execution_count": 94
        }
      ]
    },
    {
      "cell_type": "markdown",
      "metadata": {
        "id": "HpMBGTh-3xSS",
        "colab_type": "text"
      },
      "source": [
        "### Complex Assignment with Where"
      ]
    },
    {
      "cell_type": "markdown",
      "metadata": {
        "id": "VA8krxNi3xST",
        "colab_type": "text"
      },
      "source": [
        "Another way of performing a find and replace is with the `np.where` method.  Here is how we can use `np.where`."
      ]
    },
    {
      "cell_type": "code",
      "metadata": {
        "id": "ASwC6INB3xSU",
        "colab_type": "code",
        "outputId": "4e7d8df6-035f-417f-eeb0-6676a85b5ee1",
        "colab": {}
      },
      "source": [
        "arr = np.arange(0, 5)\n",
        "\n",
        "arr"
      ],
      "execution_count": 0,
      "outputs": [
        {
          "output_type": "execute_result",
          "data": {
            "text/plain": [
              "array([0, 1, 2, 3, 4])"
            ]
          },
          "metadata": {
            "tags": []
          },
          "execution_count": 98
        }
      ]
    },
    {
      "cell_type": "code",
      "metadata": {
        "id": "buyW4pwf3xSX",
        "colab_type": "code",
        "outputId": "39b8b0e9-2ee7-432c-f6a6-c56b0b969b90",
        "colab": {}
      },
      "source": [
        "np.where(arr < 2, 'under 2', '2 or over')"
      ],
      "execution_count": 0,
      "outputs": [
        {
          "output_type": "execute_result",
          "data": {
            "text/plain": [
              "array(['under 2', 'under 2', '2 or over', '2 or over', '2 or over'],\n",
              "      dtype='<U9')"
            ]
          },
          "metadata": {
            "tags": []
          },
          "execution_count": 102
        }
      ]
    },
    {
      "cell_type": "markdown",
      "metadata": {
        "id": "D30zuTdN3xSY",
        "colab_type": "text"
      },
      "source": [
        "So with `np.where` we provide the condition in the first argument, and then we provide the value if the condition returns True, and the value if the condition returns False."
      ]
    },
    {
      "cell_type": "code",
      "metadata": {
        "id": "jq-kU-fD3xSZ",
        "colab_type": "code",
        "outputId": "4aec560a-3f25-47a0-f7b1-a4344de75010",
        "colab": {}
      },
      "source": [
        "np.where(arr < 2, 1, 0)"
      ],
      "execution_count": 0,
      "outputs": [
        {
          "output_type": "execute_result",
          "data": {
            "text/plain": [
              "array([1, 1, 0, 0, 0])"
            ]
          },
          "metadata": {
            "tags": []
          },
          "execution_count": 104
        }
      ]
    },
    {
      "cell_type": "markdown",
      "metadata": {
        "id": "bmWTizC53xSb",
        "colab_type": "text"
      },
      "source": [
        "Using np.where can be good for cleaning up data.  For example, let's say that we want to change all ratings of `3.5` to a `3`.  We can do so by saying if the rating is `3.5` reassign it to `3`, otherwise keep it the same."
      ]
    },
    {
      "cell_type": "code",
      "metadata": {
        "id": "xQ5XU-We3xSb",
        "colab_type": "code",
        "outputId": "758fc066-009d-4ac2-8f7f-ef025a74ea82",
        "colab": {}
      },
      "source": [
        "lunch_np[:3]"
      ],
      "execution_count": 0,
      "outputs": [
        {
          "output_type": "execute_result",
          "data": {
            "text/plain": [
              "array([['Rambling House', '4292 Katonah Ave', 'Bronx', 'Pubs', 4.0,\n",
              "        'http://www.yelp.com/biz/rambling-house-bronx'],\n",
              "       ['Curry Spot', '4268 Katonah Ave', 'Bronx', 'Indian', 4.0,\n",
              "        'http://www.yelp.com/biz/curry-spot-bronx'],\n",
              "       ['Eileens Country Kitchen', '964 McLean Ave', 'Yonkers',\n",
              "        'American (Traditional)', 3.5,\n",
              "        'http://www.yelp.com/biz/eileens-country-kitchen-yonkers']],\n",
              "      dtype=object)"
            ]
          },
          "metadata": {
            "tags": []
          },
          "execution_count": 107
        }
      ]
    },
    {
      "cell_type": "code",
      "metadata": {
        "id": "b3BRLwis3xSe",
        "colab_type": "code",
        "outputId": "289afa98-98fd-421d-b1b3-a6fe8404e2f9",
        "colab": {}
      },
      "source": [
        "corerced_vals = np.where(lunch_np[:, 4] == 3.5, 3, lunch_np[:, 4])\n",
        "set(corerced_vals)"
      ],
      "execution_count": 0,
      "outputs": [
        {
          "output_type": "execute_result",
          "data": {
            "text/plain": [
              "{1.0, 1.5, 2.0, 2.5, 3, 4.0, 4.5, 5.0}"
            ]
          },
          "metadata": {
            "tags": []
          },
          "execution_count": 115
        }
      ]
    },
    {
      "cell_type": "markdown",
      "metadata": {
        "id": "36DE38Me3xSj",
        "colab_type": "text"
      },
      "source": [
        "And now we can update the `lunch_np` array."
      ]
    },
    {
      "cell_type": "code",
      "metadata": {
        "id": "Dsdz0BmM3xSk",
        "colab_type": "code",
        "colab": {}
      },
      "source": [
        "lunch_np[:, 4] = corerced_vals"
      ],
      "execution_count": 0,
      "outputs": []
    },
    {
      "cell_type": "code",
      "metadata": {
        "id": "HhHJweVq3xSm",
        "colab_type": "code",
        "outputId": "dd2358a1-8fc9-43c0-ea9b-65766d180cdb",
        "colab": {}
      },
      "source": [
        "set(lunch_np[:, 4])"
      ],
      "execution_count": 0,
      "outputs": [
        {
          "output_type": "execute_result",
          "data": {
            "text/plain": [
              "{1.0, 1.5, 2.0, 2.5, 3, 4.0, 4.5, 5.0}"
            ]
          },
          "metadata": {
            "tags": []
          },
          "execution_count": 118
        }
      ]
    },
    {
      "cell_type": "markdown",
      "metadata": {
        "id": "vxzgeP363xSp",
        "colab_type": "text"
      },
      "source": [
        "### Summary"
      ]
    },
    {
      "cell_type": "markdown",
      "metadata": {
        "id": "hNmI_dsr3xSr",
        "colab_type": "text"
      },
      "source": [
        "In this lesson we learned about stacking, sorting and coercing our data.  With the stack method, we place a collection of numpy arrays inside of another array."
      ]
    },
    {
      "cell_type": "code",
      "metadata": {
        "id": "d8qkOTVR3xSr",
        "colab_type": "code",
        "outputId": "79312343-3b9e-4b31-ef21-8bbe4a107b22",
        "colab": {}
      },
      "source": [
        "unique_counts_pairs = np.unique(lunch_np[:, 3], return_counts = True)\n",
        "unique_restaurants = unique_counts_pairs[0]\n",
        "unique_counts = unique_counts_pairs[1]\n",
        "\n",
        "# use stack\n",
        "category_counts = np.stack([unique_restaurants, unique_counts], axis = 1)\n",
        "category_counts[:2]"
      ],
      "execution_count": 0,
      "outputs": [
        {
          "output_type": "execute_result",
          "data": {
            "text/plain": [
              "array([['Afghan', 2],\n",
              "       ['American (New)', 259]], dtype=object)"
            ]
          },
          "metadata": {
            "tags": []
          },
          "execution_count": 125
        }
      ]
    },
    {
      "cell_type": "markdown",
      "metadata": {
        "id": "IWJqYDwP3xSs",
        "colab_type": "text"
      },
      "source": [
        "Then we saw that sorting nested arrays in numpy can be tricky.  We can do so by using the `argsort` method, and then accessing each element by the array of sorted indices."
      ]
    },
    {
      "cell_type": "code",
      "metadata": {
        "id": "H7KaKqHj3xSt",
        "colab_type": "code",
        "outputId": "cbe7f324-9ae2-4ebd-f2e4-472647ef54bf",
        "colab": {}
      },
      "source": [
        "sorted_cats = category_counts[np.argsort(category_counts[:, 1])][::-1]\n",
        "\n",
        "sorted_cats[:3]"
      ],
      "execution_count": 0,
      "outputs": [
        {
          "output_type": "execute_result",
          "data": {
            "text/plain": [
              "array([['Pizza', 661],\n",
              "       ['Chinese', 300],\n",
              "       ['Italian', 285]], dtype=object)"
            ]
          },
          "metadata": {
            "tags": []
          },
          "execution_count": 129
        }
      ]
    },
    {
      "cell_type": "markdown",
      "metadata": {
        "id": "WZTADeK-3xSv",
        "colab_type": "text"
      },
      "source": [
        "Finally, we saw how we can coerce values, by selecting and then reassigning the value."
      ]
    },
    {
      "cell_type": "code",
      "metadata": {
        "id": "DOiJsqcV3xSv",
        "colab_type": "code",
        "colab": {}
      },
      "source": [
        "chinese_regional = ['Szechuan', 'Cantonese', 'Shanghainese', 'Taiwanese']\n",
        "\n",
        "lunch_np[np.isin(lunch_np[:, 3], chinese_regional)] = 'Chinese'"
      ],
      "execution_count": 0,
      "outputs": []
    },
    {
      "cell_type": "markdown",
      "metadata": {
        "id": "lxiMf0yv3xSz",
        "colab_type": "text"
      },
      "source": [
        "And then we saw that we can also find and replace using the `np.where` method."
      ]
    },
    {
      "cell_type": "code",
      "metadata": {
        "id": "d1Lau89x3xS0",
        "colab_type": "code",
        "outputId": "792105d6-4841-4c36-d3e9-f5559a57288d",
        "colab": {}
      },
      "source": [
        "arr = np.arange(0, 5)\n",
        "\n",
        "np.where(arr < 2, 'under 2', '2 or over')"
      ],
      "execution_count": 0,
      "outputs": [
        {
          "output_type": "execute_result",
          "data": {
            "text/plain": [
              "array(['under 2', 'under 2', '2 or over', '2 or over', '2 or over'],\n",
              "      dtype='<U9')"
            ]
          },
          "metadata": {
            "tags": []
          },
          "execution_count": 132
        }
      ]
    }
  ]
}