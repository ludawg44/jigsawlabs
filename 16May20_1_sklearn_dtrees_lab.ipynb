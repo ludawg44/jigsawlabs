{
  "nbformat": 4,
  "nbformat_minor": 0,
  "metadata": {
    "kernelspec": {
      "display_name": "Python 3",
      "language": "python",
      "name": "python3"
    },
    "language_info": {
      "codemirror_mode": {
        "name": "ipython",
        "version": 3
      },
      "file_extension": ".py",
      "mimetype": "text/x-python",
      "name": "python",
      "nbconvert_exporter": "python",
      "pygments_lexer": "ipython3",
      "version": "3.7.4"
    },
    "colab": {
      "name": "Copy of 1-sklearn-dtrees-lab.ipynb",
      "provenance": [],
      "include_colab_link": true
    }
  },
  "cells": [
    {
      "cell_type": "markdown",
      "metadata": {
        "id": "view-in-github",
        "colab_type": "text"
      },
      "source": [
        "<a href=\"https://colab.research.google.com/github/ludawg44/jigsawlabs/blob/master/16May20_1_sklearn_dtrees_lab.ipynb\" target=\"_parent\"><img src=\"https://colab.research.google.com/assets/colab-badge.svg\" alt=\"Open In Colab\"/></a>"
      ]
    },
    {
      "cell_type": "markdown",
      "metadata": {
        "id": "wqDmJBV_pJkr",
        "colab_type": "text"
      },
      "source": [
        "# Decision Trees Lab"
      ]
    },
    {
      "cell_type": "markdown",
      "metadata": {
        "id": "B4WnzJbOpJks",
        "colab_type": "text"
      },
      "source": [
        "## Introduction"
      ]
    },
    {
      "cell_type": "markdown",
      "metadata": {
        "id": "pU0nzpylpJkt",
        "colab_type": "text"
      },
      "source": [
        "In this lesson, we'll begin using our decision tree algorithm to make predictions of movie revenue.  To do so, we'll use our IMDB dataset."
      ]
    },
    {
      "cell_type": "markdown",
      "metadata": {
        "id": "YXJAnL1_pJkt",
        "colab_type": "text"
      },
      "source": [
        "### Exploring our data"
      ]
    },
    {
      "cell_type": "markdown",
      "metadata": {
        "id": "2_QkAGYapJku",
        "colab_type": "text"
      },
      "source": [
        "Let's start by loading our data."
      ]
    },
    {
      "cell_type": "code",
      "metadata": {
        "id": "XVynqewupJku",
        "colab_type": "code",
        "outputId": "d2e9a143-0d72-48e1-d5f0-36c454f5c996",
        "colab": {
          "base_uri": "https://localhost:8080/",
          "height": 198
        }
      },
      "source": [
        "import pandas as pd\n",
        "movies_df = pd.read_csv('https://raw.githubusercontent.com/jigsawlabs-student/decision-trees-intro/master/3-practical-ds-4/imdb_movies.csv')\n",
        "movies_df[:5]"
      ],
      "execution_count": 1,
      "outputs": [
        {
          "output_type": "execute_result",
          "data": {
            "text/html": [
              "<div>\n",
              "<style scoped>\n",
              "    .dataframe tbody tr th:only-of-type {\n",
              "        vertical-align: middle;\n",
              "    }\n",
              "\n",
              "    .dataframe tbody tr th {\n",
              "        vertical-align: top;\n",
              "    }\n",
              "\n",
              "    .dataframe thead th {\n",
              "        text-align: right;\n",
              "    }\n",
              "</style>\n",
              "<table border=\"1\" class=\"dataframe\">\n",
              "  <thead>\n",
              "    <tr style=\"text-align: right;\">\n",
              "      <th></th>\n",
              "      <th>title</th>\n",
              "      <th>genre</th>\n",
              "      <th>budget</th>\n",
              "      <th>runtime</th>\n",
              "      <th>year</th>\n",
              "      <th>month</th>\n",
              "      <th>revenue</th>\n",
              "    </tr>\n",
              "  </thead>\n",
              "  <tbody>\n",
              "    <tr>\n",
              "      <th>0</th>\n",
              "      <td>Avatar</td>\n",
              "      <td>Action</td>\n",
              "      <td>237000000</td>\n",
              "      <td>162.0</td>\n",
              "      <td>2009</td>\n",
              "      <td>12</td>\n",
              "      <td>2787965087</td>\n",
              "    </tr>\n",
              "    <tr>\n",
              "      <th>1</th>\n",
              "      <td>Pirates of the Caribbean: At World's End</td>\n",
              "      <td>Adventure</td>\n",
              "      <td>300000000</td>\n",
              "      <td>169.0</td>\n",
              "      <td>2007</td>\n",
              "      <td>5</td>\n",
              "      <td>961000000</td>\n",
              "    </tr>\n",
              "    <tr>\n",
              "      <th>2</th>\n",
              "      <td>Spectre</td>\n",
              "      <td>Action</td>\n",
              "      <td>245000000</td>\n",
              "      <td>148.0</td>\n",
              "      <td>2015</td>\n",
              "      <td>10</td>\n",
              "      <td>880674609</td>\n",
              "    </tr>\n",
              "    <tr>\n",
              "      <th>3</th>\n",
              "      <td>The Dark Knight Rises</td>\n",
              "      <td>Action</td>\n",
              "      <td>250000000</td>\n",
              "      <td>165.0</td>\n",
              "      <td>2012</td>\n",
              "      <td>7</td>\n",
              "      <td>1084939099</td>\n",
              "    </tr>\n",
              "    <tr>\n",
              "      <th>4</th>\n",
              "      <td>John Carter</td>\n",
              "      <td>Action</td>\n",
              "      <td>260000000</td>\n",
              "      <td>132.0</td>\n",
              "      <td>2012</td>\n",
              "      <td>3</td>\n",
              "      <td>284139100</td>\n",
              "    </tr>\n",
              "  </tbody>\n",
              "</table>\n",
              "</div>"
            ],
            "text/plain": [
              "                                      title      genre  ...  month     revenue\n",
              "0                                    Avatar     Action  ...     12  2787965087\n",
              "1  Pirates of the Caribbean: At World's End  Adventure  ...      5   961000000\n",
              "2                                   Spectre     Action  ...     10   880674609\n",
              "3                     The Dark Knight Rises     Action  ...      7  1084939099\n",
              "4                               John Carter     Action  ...      3   284139100\n",
              "\n",
              "[5 rows x 7 columns]"
            ]
          },
          "metadata": {
            "tags": []
          },
          "execution_count": 1
        }
      ]
    },
    {
      "cell_type": "markdown",
      "metadata": {
        "id": "CP1wBxG8pJkz",
        "colab_type": "text"
      },
      "source": [
        "Now let's use  `genre`, `budget`, `runtime`, `year`, and `month` as our features, and `revenue` as our target.  "
      ]
    },
    {
      "cell_type": "markdown",
      "metadata": {
        "id": "Aj-accPCpJk2",
        "colab_type": "text"
      },
      "source": [
        "Assign the `genre`, `budget`, `runtime`, `year` and `month` columns to the variable `X`."
      ]
    },
    {
      "cell_type": "code",
      "metadata": {
        "id": "xvbL-0CDpJk4",
        "colab_type": "code",
        "colab": {}
      },
      "source": [
        "feature_columns = ['genre', 'budget', 'runtime', 'year', 'month']\n",
        "X = movies_df[feature_columns]"
      ],
      "execution_count": 0,
      "outputs": []
    },
    {
      "cell_type": "code",
      "metadata": {
        "id": "N6cClEJMpJk8",
        "colab_type": "code",
        "colab": {
          "base_uri": "https://localhost:8080/",
          "height": 138
        },
        "outputId": "2f5c9f33-3697-485f-9f8b-792e6b1010ca"
      },
      "source": [
        "X[:3]\n",
        "\n",
        "# \tgenre\tbudget\truntime\tyear\tmonth\n",
        "# 0\tAction\t237000000\t162.0\t2009\t12\n",
        "# 1\tAdventure\t300000000\t169.0\t2007\t5\n",
        "# 2\tAction\t245000000\t148.0\t2015\t10"
      ],
      "execution_count": 4,
      "outputs": [
        {
          "output_type": "execute_result",
          "data": {
            "text/html": [
              "<div>\n",
              "<style scoped>\n",
              "    .dataframe tbody tr th:only-of-type {\n",
              "        vertical-align: middle;\n",
              "    }\n",
              "\n",
              "    .dataframe tbody tr th {\n",
              "        vertical-align: top;\n",
              "    }\n",
              "\n",
              "    .dataframe thead th {\n",
              "        text-align: right;\n",
              "    }\n",
              "</style>\n",
              "<table border=\"1\" class=\"dataframe\">\n",
              "  <thead>\n",
              "    <tr style=\"text-align: right;\">\n",
              "      <th></th>\n",
              "      <th>genre</th>\n",
              "      <th>budget</th>\n",
              "      <th>runtime</th>\n",
              "      <th>year</th>\n",
              "      <th>month</th>\n",
              "    </tr>\n",
              "  </thead>\n",
              "  <tbody>\n",
              "    <tr>\n",
              "      <th>0</th>\n",
              "      <td>Action</td>\n",
              "      <td>237000000</td>\n",
              "      <td>162.0</td>\n",
              "      <td>2009</td>\n",
              "      <td>12</td>\n",
              "    </tr>\n",
              "    <tr>\n",
              "      <th>1</th>\n",
              "      <td>Adventure</td>\n",
              "      <td>300000000</td>\n",
              "      <td>169.0</td>\n",
              "      <td>2007</td>\n",
              "      <td>5</td>\n",
              "    </tr>\n",
              "    <tr>\n",
              "      <th>2</th>\n",
              "      <td>Action</td>\n",
              "      <td>245000000</td>\n",
              "      <td>148.0</td>\n",
              "      <td>2015</td>\n",
              "      <td>10</td>\n",
              "    </tr>\n",
              "  </tbody>\n",
              "</table>\n",
              "</div>"
            ],
            "text/plain": [
              "       genre     budget  runtime  year  month\n",
              "0     Action  237000000    162.0  2009     12\n",
              "1  Adventure  300000000    169.0  2007      5\n",
              "2     Action  245000000    148.0  2015     10"
            ]
          },
          "metadata": {
            "tags": []
          },
          "execution_count": 4
        }
      ]
    },
    {
      "cell_type": "markdown",
      "metadata": {
        "id": "Mjzsj_18pJlC",
        "colab_type": "text"
      },
      "source": [
        "And assign revenue to the variable `y`."
      ]
    },
    {
      "cell_type": "code",
      "metadata": {
        "id": "aOJd4coWpJlD",
        "colab_type": "code",
        "colab": {}
      },
      "source": [
        "y = movies_df.revenue"
      ],
      "execution_count": 0,
      "outputs": []
    },
    {
      "cell_type": "code",
      "metadata": {
        "id": "7GM7faBtpJlG",
        "colab_type": "code",
        "outputId": "99c46ad7-3d1c-45ff-874e-78ab6fbc3847",
        "colab": {
          "base_uri": "https://localhost:8080/",
          "height": 69
        }
      },
      "source": [
        "y[:2]\n",
        "# 0    2787965087\n",
        "# 1     961000000\n",
        "# Name: revenue, dtype: int64"
      ],
      "execution_count": 6,
      "outputs": [
        {
          "output_type": "execute_result",
          "data": {
            "text/plain": [
              "0    2787965087\n",
              "1     961000000\n",
              "Name: revenue, dtype: int64"
            ]
          },
          "metadata": {
            "tags": []
          },
          "execution_count": 6
        }
      ]
    },
    {
      "cell_type": "markdown",
      "metadata": {
        "id": "T9HAlhfFpJlI",
        "colab_type": "text"
      },
      "source": [
        "### Changing the data"
      ]
    },
    {
      "cell_type": "markdown",
      "metadata": {
        "id": "Yg3geNeypJlJ",
        "colab_type": "text"
      },
      "source": [
        "Now currently the `genre` column is of type `object`. Let's use our LabelEncoder and DataFrameMapper to change it. "
      ]
    },
    {
      "cell_type": "code",
      "metadata": {
        "id": "uDviivAIpJlK",
        "colab_type": "code",
        "colab": {}
      },
      "source": [
        "from sklearn.preprocessing import LabelEncoder\n",
        "from sklearn.impute import SimpleImputer\n",
        "from sklearn_pandas import DataFrameMapper\n",
        "\n",
        "mapper = DataFrameMapper([\n",
        "    (['genre'], [SimpleImputer(strategy='constant', fill_value='other'), LabelEncoder()])\n",
        "],df_out=True, default = None)\n"
      ],
      "execution_count": 0,
      "outputs": []
    },
    {
      "cell_type": "markdown",
      "metadata": {
        "id": "doG1IFJypJlN",
        "colab_type": "text"
      },
      "source": [
        "Use the mapper to transform the genre column, and save the result as `transformed_genre`."
      ]
    },
    {
      "cell_type": "code",
      "metadata": {
        "id": "AW0WyxGlpJlO",
        "colab_type": "code",
        "colab": {
          "base_uri": "https://localhost:8080/",
          "height": 72
        },
        "outputId": "7c9f358e-7bba-4c1e-e454-e73da14cb27e"
      },
      "source": [
        "transformed_genre = mapper.fit_transform(X)"
      ],
      "execution_count": 33,
      "outputs": [
        {
          "output_type": "stream",
          "text": [
            "/usr/local/lib/python3.6/dist-packages/sklearn/preprocessing/_label.py:251: DataConversionWarning: A column-vector y was passed when a 1d array was expected. Please change the shape of y to (n_samples, ), for example using ravel().\n",
            "  y = column_or_1d(y, warn=True)\n"
          ],
          "name": "stderr"
        }
      ]
    },
    {
      "cell_type": "code",
      "metadata": {
        "id": "nat4_0KIpJlR",
        "colab_type": "code",
        "outputId": "ed54a393-472d-429e-a61d-91109c79207f",
        "colab": {
          "base_uri": "https://localhost:8080/",
          "height": 198
        }
      },
      "source": [
        "transformed_genre[:5]\n",
        "\n",
        "\n",
        "# genre\n",
        "# 0\t0\n",
        "# 1\t1\n",
        "# 2\t0\n",
        "# 3\t0\n",
        "# 4\t0"
      ],
      "execution_count": 34,
      "outputs": [
        {
          "output_type": "execute_result",
          "data": {
            "text/html": [
              "<div>\n",
              "<style scoped>\n",
              "    .dataframe tbody tr th:only-of-type {\n",
              "        vertical-align: middle;\n",
              "    }\n",
              "\n",
              "    .dataframe tbody tr th {\n",
              "        vertical-align: top;\n",
              "    }\n",
              "\n",
              "    .dataframe thead th {\n",
              "        text-align: right;\n",
              "    }\n",
              "</style>\n",
              "<table border=\"1\" class=\"dataframe\">\n",
              "  <thead>\n",
              "    <tr style=\"text-align: right;\">\n",
              "      <th></th>\n",
              "      <th>genre</th>\n",
              "      <th>budget</th>\n",
              "      <th>runtime</th>\n",
              "      <th>year</th>\n",
              "      <th>month</th>\n",
              "    </tr>\n",
              "  </thead>\n",
              "  <tbody>\n",
              "    <tr>\n",
              "      <th>0</th>\n",
              "      <td>0</td>\n",
              "      <td>237000000.0</td>\n",
              "      <td>162.0</td>\n",
              "      <td>2009.0</td>\n",
              "      <td>12.0</td>\n",
              "    </tr>\n",
              "    <tr>\n",
              "      <th>1</th>\n",
              "      <td>1</td>\n",
              "      <td>300000000.0</td>\n",
              "      <td>169.0</td>\n",
              "      <td>2007.0</td>\n",
              "      <td>5.0</td>\n",
              "    </tr>\n",
              "    <tr>\n",
              "      <th>2</th>\n",
              "      <td>0</td>\n",
              "      <td>245000000.0</td>\n",
              "      <td>148.0</td>\n",
              "      <td>2015.0</td>\n",
              "      <td>10.0</td>\n",
              "    </tr>\n",
              "    <tr>\n",
              "      <th>3</th>\n",
              "      <td>0</td>\n",
              "      <td>250000000.0</td>\n",
              "      <td>165.0</td>\n",
              "      <td>2012.0</td>\n",
              "      <td>7.0</td>\n",
              "    </tr>\n",
              "    <tr>\n",
              "      <th>4</th>\n",
              "      <td>0</td>\n",
              "      <td>260000000.0</td>\n",
              "      <td>132.0</td>\n",
              "      <td>2012.0</td>\n",
              "      <td>3.0</td>\n",
              "    </tr>\n",
              "  </tbody>\n",
              "</table>\n",
              "</div>"
            ],
            "text/plain": [
              "   genre       budget  runtime    year  month\n",
              "0      0  237000000.0    162.0  2009.0   12.0\n",
              "1      1  300000000.0    169.0  2007.0    5.0\n",
              "2      0  245000000.0    148.0  2015.0   10.0\n",
              "3      0  250000000.0    165.0  2012.0    7.0\n",
              "4      0  260000000.0    132.0  2012.0    3.0"
            ]
          },
          "metadata": {
            "tags": []
          },
          "execution_count": 34
        }
      ]
    },
    {
      "cell_type": "code",
      "metadata": {
        "id": "1iLrgHlTtE3A",
        "colab_type": "code",
        "colab": {
          "base_uri": "https://localhost:8080/",
          "height": 121
        },
        "outputId": "243fa829-5262-439f-9a8a-5eaf635dce09"
      },
      "source": [
        "transformed_genre.dtypes"
      ],
      "execution_count": 35,
      "outputs": [
        {
          "output_type": "execute_result",
          "data": {
            "text/plain": [
              "genre        int64\n",
              "budget     float64\n",
              "runtime    float64\n",
              "year       float64\n",
              "month      float64\n",
              "dtype: object"
            ]
          },
          "metadata": {
            "tags": []
          },
          "execution_count": 35
        }
      ]
    },
    {
      "cell_type": "markdown",
      "metadata": {
        "id": "kXOp_V1PpJlZ",
        "colab_type": "text"
      },
      "source": [
        "Now if we want to see what genres were turned into what numbers we can do so with by selecting the labelencoder from our mapper, and then checking the `classes_` attribute.  Let's do it.  Begin by looking at the features of the model."
      ]
    },
    {
      "cell_type": "code",
      "metadata": {
        "id": "c6Gaeih8pJlZ",
        "colab_type": "code",
        "outputId": "6b4efc03-34a7-4e92-c4a0-e83b0da17dd3",
        "colab": {
          "base_uri": "https://localhost:8080/",
          "height": 69
        }
      },
      "source": [
        "mapper.features\n",
        "\n",
        "# [(['genre'],\n",
        "#   [SimpleImputer(add_indicator=False, copy=True, fill_value='na',\n",
        "#                  missing_values=nan, strategy='constant', verbose=0),\n",
        "#    LabelEncoder()])]"
      ],
      "execution_count": 36,
      "outputs": [
        {
          "output_type": "execute_result",
          "data": {
            "text/plain": [
              "[(['genre'], [SimpleImputer(add_indicator=False, copy=True, fill_value='other',\n",
              "                 missing_values=nan, strategy='constant', verbose=0),\n",
              "   LabelEncoder()])]"
            ]
          },
          "metadata": {
            "tags": []
          },
          "execution_count": 36
        }
      ]
    },
    {
      "cell_type": "markdown",
      "metadata": {
        "id": "xYm36_jlpJle",
        "colab_type": "text"
      },
      "source": [
        "Now select the label encoder from the features."
      ]
    },
    {
      "cell_type": "code",
      "metadata": {
        "id": "XZqNZxu2pJlf",
        "colab_type": "code",
        "outputId": "61d7a991-8cac-4703-a11b-87784930f17e",
        "colab": {
          "base_uri": "https://localhost:8080/",
          "height": 35
        }
      },
      "source": [
        "encoder = mapper.features[-1][-1][-1]\n",
        "encoder\n",
        "# LabelEncoder()"
      ],
      "execution_count": 37,
      "outputs": [
        {
          "output_type": "execute_result",
          "data": {
            "text/plain": [
              "LabelEncoder()"
            ]
          },
          "metadata": {
            "tags": []
          },
          "execution_count": 37
        }
      ]
    },
    {
      "cell_type": "markdown",
      "metadata": {
        "id": "1-p0R0OWpJli",
        "colab_type": "text"
      },
      "source": [
        "Finally, look at the encoder's classes."
      ]
    },
    {
      "cell_type": "code",
      "metadata": {
        "id": "DyAuJN6QpJlj",
        "colab_type": "code",
        "outputId": "dd5f0c27-9950-47e5-f26f-a477a09a99e3",
        "colab": {
          "base_uri": "https://localhost:8080/",
          "height": 69
        }
      },
      "source": [
        "encoder.classes_\n",
        "\n",
        "# array(['Action', 'Adventure', 'Animation', 'Comedy', 'Crime', 'Drama',\n",
        "#        'Fantasy', 'Horror', 'Romance', 'Science Fiction', 'Thriller',\n",
        "#        'na'], dtype=object)"
      ],
      "execution_count": 38,
      "outputs": [
        {
          "output_type": "execute_result",
          "data": {
            "text/plain": [
              "array(['Action', 'Adventure', 'Animation', 'Comedy', 'Crime', 'Drama',\n",
              "       'Fantasy', 'Horror', 'Romance', 'Science Fiction', 'Thriller',\n",
              "       'other'], dtype=object)"
            ]
          },
          "metadata": {
            "tags": []
          },
          "execution_count": 38
        }
      ]
    },
    {
      "cell_type": "markdown",
      "metadata": {
        "id": "Via1dkx7pJlm",
        "colab_type": "text"
      },
      "source": [
        "We can then zip them together with a list of indices to create a dictionary telling us how to translate the column."
      ]
    },
    {
      "cell_type": "code",
      "metadata": {
        "id": "fW80x5bepJlm",
        "colab_type": "code",
        "outputId": "83924ed4-623a-4ea9-90d6-acc3e6ca63e8",
        "colab": {
          "base_uri": "https://localhost:8080/",
          "height": 225
        }
      },
      "source": [
        "import numpy as np\n",
        "idcs = np.arange(0, len(encoder.classes_))\n",
        "dict(zip(idcs, encoder.classes_))"
      ],
      "execution_count": 39,
      "outputs": [
        {
          "output_type": "execute_result",
          "data": {
            "text/plain": [
              "{0: 'Action',\n",
              " 1: 'Adventure',\n",
              " 2: 'Animation',\n",
              " 3: 'Comedy',\n",
              " 4: 'Crime',\n",
              " 5: 'Drama',\n",
              " 6: 'Fantasy',\n",
              " 7: 'Horror',\n",
              " 8: 'Romance',\n",
              " 9: 'Science Fiction',\n",
              " 10: 'Thriller',\n",
              " 11: 'other'}"
            ]
          },
          "metadata": {
            "tags": []
          },
          "execution_count": 39
        }
      ]
    },
    {
      "cell_type": "markdown",
      "metadata": {
        "id": "Dn_tvPpjpJlp",
        "colab_type": "text"
      },
      "source": [
        "### Training the Model"
      ]
    },
    {
      "cell_type": "markdown",
      "metadata": {
        "id": "fbMokASjpJlq",
        "colab_type": "text"
      },
      "source": [
        "Ok, now let's load up a `DecisionTreeRegressor`.  \n",
        "\n",
        "We use a DecisionTreeRegressor (as opposed to a DecisionTreeClassifier) because the revenue data is not just a $1$ or $0$, but potentially any value greater than 0.  So we have a regression problem."
      ]
    },
    {
      "cell_type": "code",
      "metadata": {
        "id": "icPpFwn6pJlq",
        "colab_type": "code",
        "colab": {}
      },
      "source": [
        "# Load DecisionTreeRegressor from the tree module here\n",
        "from sklearn.tree import DecisionTreeRegressor"
      ],
      "execution_count": 0,
      "outputs": []
    },
    {
      "cell_type": "markdown",
      "metadata": {
        "id": "IhlRD8HXpJlt",
        "colab_type": "text"
      },
      "source": [
        "Now follow the steps training a model.  Initialize our `DecisionTreeRegressor` and then fit the model."
      ]
    },
    {
      "cell_type": "code",
      "metadata": {
        "id": "riFGB4ObpJlu",
        "colab_type": "code",
        "colab": {}
      },
      "source": [
        "model = DecisionTreeRegressor()"
      ],
      "execution_count": 0,
      "outputs": []
    },
    {
      "cell_type": "code",
      "metadata": {
        "id": "arwh5jkPpJlx",
        "colab_type": "code",
        "outputId": "81c1472e-26e0-4532-8215-17361f80af19",
        "colab": {
          "base_uri": "https://localhost:8080/",
          "height": 121
        }
      },
      "source": [
        "model.fit(transformed_genre, y)\n",
        "# DecisionTreeRegressor(criterion='mse', max_depth=None, max_features=None,\n",
        "#                       max_leaf_nodes=None, min_impurity_decrease=0.0,\n",
        "#                       min_impurity_split=None, min_samples_leaf=1,\n",
        "#                       min_samples_split=2, min_weight_fraction_leaf=0.0,\n",
        "#                       presort=False, random_state=None, splitter='best')"
      ],
      "execution_count": 44,
      "outputs": [
        {
          "output_type": "execute_result",
          "data": {
            "text/plain": [
              "DecisionTreeRegressor(ccp_alpha=0.0, criterion='mse', max_depth=None,\n",
              "                      max_features=None, max_leaf_nodes=None,\n",
              "                      min_impurity_decrease=0.0, min_impurity_split=None,\n",
              "                      min_samples_leaf=1, min_samples_split=2,\n",
              "                      min_weight_fraction_leaf=0.0, presort='deprecated',\n",
              "                      random_state=None, splitter='best')"
            ]
          },
          "metadata": {
            "tags": []
          },
          "execution_count": 44
        }
      ]
    },
    {
      "cell_type": "markdown",
      "metadata": {
        "id": "K6ZJk3r8pJl3",
        "colab_type": "text"
      },
      "source": [
        "And finally, we can make a prediction, by passing through the features of an observation.\n",
        "\n",
        "> Use the model to make the first prediction below."
      ]
    },
    {
      "cell_type": "code",
      "metadata": {
        "id": "uAU9M1KHpJl3",
        "colab_type": "code",
        "outputId": "44872693-d4dc-4523-bf8d-2f1db98e4bbb",
        "colab": {
          "base_uri": "https://localhost:8080/",
          "height": 35
        }
      },
      "source": [
        "first_observation = transformed_genre[:1]\n",
        "model.predict(first_observation)\n",
        "# predict first observation\n",
        "\n",
        "# array([2.78796509e+09])"
      ],
      "execution_count": 48,
      "outputs": [
        {
          "output_type": "execute_result",
          "data": {
            "text/plain": [
              "array([2.78796509e+09])"
            ]
          },
          "metadata": {
            "tags": []
          },
          "execution_count": 48
        }
      ]
    },
    {
      "cell_type": "markdown",
      "metadata": {
        "id": "UigFf4dHpJl6",
        "colab_type": "text"
      },
      "source": [
        "We can also see the hypothesis function for our model."
      ]
    },
    {
      "cell_type": "markdown",
      "metadata": {
        "id": "4r4To0dcpJl7",
        "colab_type": "text"
      },
      "source": [
        "> Note that we pass through our `model`, `feature_names`, and the depth we wish to display."
      ]
    },
    {
      "cell_type": "code",
      "metadata": {
        "id": "7sPOPSlRpJl7",
        "colab_type": "code",
        "outputId": "fb8d41bb-18d1-4315-fca7-3fb04a4de631",
        "colab": {
          "base_uri": "https://localhost:8080/",
          "height": 516
        }
      },
      "source": [
        "from sklearn import tree\n",
        "from IPython.display import SVG, display\n",
        "from graphviz import Source \n",
        "\n",
        "Source(tree.export_graphviz(model, out_file = None, feature_names=X.columns, max_depth = 2))"
      ],
      "execution_count": 49,
      "outputs": [
        {
          "output_type": "execute_result",
          "data": {
            "text/plain": [
              "<graphviz.files.Source at 0x7ff31ab092e8>"
            ],
            "image/svg+xml": "<?xml version=\"1.0\" encoding=\"UTF-8\" standalone=\"no\"?>\n<!DOCTYPE svg PUBLIC \"-//W3C//DTD SVG 1.1//EN\"\n \"http://www.w3.org/Graphics/SVG/1.1/DTD/svg11.dtd\">\n<!-- Generated by graphviz version 2.40.1 (20161225.0304)\n -->\n<!-- Title: Tree Pages: 1 -->\n<svg width=\"880pt\" height=\"356pt\"\n viewBox=\"0.00 0.00 879.50 356.00\" xmlns=\"http://www.w3.org/2000/svg\" xmlns:xlink=\"http://www.w3.org/1999/xlink\">\n<g id=\"graph0\" class=\"graph\" transform=\"scale(1 1) rotate(0) translate(4 352)\">\n<title>Tree</title>\n<polygon fill=\"#ffffff\" stroke=\"transparent\" points=\"-4,4 -4,-352 875.5,-352 875.5,4 -4,4\"/>\n<!-- 0 -->\n<g id=\"node1\" class=\"node\">\n<title>0</title>\n<polygon fill=\"none\" stroke=\"#000000\" points=\"525,-348 317,-348 317,-280 525,-280 525,-348\"/>\n<text text-anchor=\"middle\" x=\"421\" y=\"-332.8\" font-family=\"Times,serif\" font-size=\"14.00\" fill=\"#000000\">budget &lt;= 102500000.0</text>\n<text text-anchor=\"middle\" x=\"421\" y=\"-317.8\" font-family=\"Times,serif\" font-size=\"14.00\" fill=\"#000000\">mse = 4.779774067198597e+16</text>\n<text text-anchor=\"middle\" x=\"421\" y=\"-302.8\" font-family=\"Times,serif\" font-size=\"14.00\" fill=\"#000000\">samples = 2000</text>\n<text text-anchor=\"middle\" x=\"421\" y=\"-287.8\" font-family=\"Times,serif\" font-size=\"14.00\" fill=\"#000000\">value = 164350612.606</text>\n</g>\n<!-- 1 -->\n<g id=\"node2\" class=\"node\">\n<title>1</title>\n<polygon fill=\"none\" stroke=\"#000000\" points=\"413.5,-244 198.5,-244 198.5,-176 413.5,-176 413.5,-244\"/>\n<text text-anchor=\"middle\" x=\"306\" y=\"-228.8\" font-family=\"Times,serif\" font-size=\"14.00\" fill=\"#000000\">budget &lt;= 60500000.0</text>\n<text text-anchor=\"middle\" x=\"306\" y=\"-213.8\" font-family=\"Times,serif\" font-size=\"14.00\" fill=\"#000000\">mse = 1.7996870958248382e+16</text>\n<text text-anchor=\"middle\" x=\"306\" y=\"-198.8\" font-family=\"Times,serif\" font-size=\"14.00\" fill=\"#000000\">samples = 1724</text>\n<text text-anchor=\"middle\" x=\"306\" y=\"-183.8\" font-family=\"Times,serif\" font-size=\"14.00\" fill=\"#000000\">value = 112646268.774</text>\n</g>\n<!-- 0&#45;&gt;1 -->\n<g id=\"edge1\" class=\"edge\">\n<title>0&#45;&gt;1</title>\n<path fill=\"none\" stroke=\"#000000\" d=\"M383.3447,-279.9465C373.1187,-270.6986 361.9382,-260.5876 351.3359,-250.9994\"/>\n<polygon fill=\"#000000\" stroke=\"#000000\" points=\"353.5044,-248.2416 343.7399,-244.13 348.8092,-253.4334 353.5044,-248.2416\"/>\n<text text-anchor=\"middle\" x=\"344.994\" y=\"-265.3985\" font-family=\"Times,serif\" font-size=\"14.00\" fill=\"#000000\">True</text>\n</g>\n<!-- 3256 -->\n<g id=\"node9\" class=\"node\">\n<title>3256</title>\n<polygon fill=\"none\" stroke=\"#000000\" points=\"640,-244 432,-244 432,-176 640,-176 640,-244\"/>\n<text text-anchor=\"middle\" x=\"536\" y=\"-228.8\" font-family=\"Times,serif\" font-size=\"14.00\" fill=\"#000000\">budget &lt;= 182500000.0</text>\n<text text-anchor=\"middle\" x=\"536\" y=\"-213.8\" font-family=\"Times,serif\" font-size=\"14.00\" fill=\"#000000\">mse = 1.129402470843553e+17</text>\n<text text-anchor=\"middle\" x=\"536\" y=\"-198.8\" font-family=\"Times,serif\" font-size=\"14.00\" fill=\"#000000\">samples = 276</text>\n<text text-anchor=\"middle\" x=\"536\" y=\"-183.8\" font-family=\"Times,serif\" font-size=\"14.00\" fill=\"#000000\">value = 487315426.982</text>\n</g>\n<!-- 0&#45;&gt;3256 -->\n<g id=\"edge8\" class=\"edge\">\n<title>0&#45;&gt;3256</title>\n<path fill=\"none\" stroke=\"#000000\" d=\"M458.6553,-279.9465C468.8813,-270.6986 480.0618,-260.5876 490.6641,-250.9994\"/>\n<polygon fill=\"#000000\" stroke=\"#000000\" points=\"493.1908,-253.4334 498.2601,-244.13 488.4956,-248.2416 493.1908,-253.4334\"/>\n<text text-anchor=\"middle\" x=\"497.006\" y=\"-265.3985\" font-family=\"Times,serif\" font-size=\"14.00\" fill=\"#000000\">False</text>\n</g>\n<!-- 2 -->\n<g id=\"node3\" class=\"node\">\n<title>2</title>\n<polygon fill=\"none\" stroke=\"#000000\" points=\"186,-140 0,-140 0,-72 186,-72 186,-140\"/>\n<text text-anchor=\"middle\" x=\"93\" y=\"-124.8\" font-family=\"Times,serif\" font-size=\"14.00\" fill=\"#000000\">budget &lt;= 36750000.0</text>\n<text text-anchor=\"middle\" x=\"93\" y=\"-109.8\" font-family=\"Times,serif\" font-size=\"14.00\" fill=\"#000000\">mse = 9901454363896212.0</text>\n<text text-anchor=\"middle\" x=\"93\" y=\"-94.8\" font-family=\"Times,serif\" font-size=\"14.00\" fill=\"#000000\">samples = 1304</text>\n<text text-anchor=\"middle\" x=\"93\" y=\"-79.8\" font-family=\"Times,serif\" font-size=\"14.00\" fill=\"#000000\">value = 85531516.617</text>\n</g>\n<!-- 1&#45;&gt;2 -->\n<g id=\"edge2\" class=\"edge\">\n<title>1&#45;&gt;2</title>\n<path fill=\"none\" stroke=\"#000000\" d=\"M236.2558,-175.9465C215.7524,-165.9354 193.1773,-154.9129 172.1318,-144.6371\"/>\n<polygon fill=\"#000000\" stroke=\"#000000\" points=\"173.4226,-141.3725 162.9009,-140.13 170.3513,-147.6627 173.4226,-141.3725\"/>\n</g>\n<!-- 2421 -->\n<g id=\"node6\" class=\"node\">\n<title>2421</title>\n<polygon fill=\"none\" stroke=\"#000000\" points=\"412,-140 204,-140 204,-72 412,-72 412,-140\"/>\n<text text-anchor=\"middle\" x=\"308\" y=\"-124.8\" font-family=\"Times,serif\" font-size=\"14.00\" fill=\"#000000\">runtime &lt;= 196.0</text>\n<text text-anchor=\"middle\" x=\"308\" y=\"-109.8\" font-family=\"Times,serif\" font-size=\"14.00\" fill=\"#000000\">mse = 3.376147177846705e+16</text>\n<text text-anchor=\"middle\" x=\"308\" y=\"-94.8\" font-family=\"Times,serif\" font-size=\"14.00\" fill=\"#000000\">samples = 420</text>\n<text text-anchor=\"middle\" x=\"308\" y=\"-79.8\" font-family=\"Times,serif\" font-size=\"14.00\" fill=\"#000000\">value = 196831118.326</text>\n</g>\n<!-- 1&#45;&gt;2421 -->\n<g id=\"edge5\" class=\"edge\">\n<title>1&#45;&gt;2421</title>\n<path fill=\"none\" stroke=\"#000000\" d=\"M306.6549,-175.9465C306.812,-167.776 306.9821,-158.9318 307.1467,-150.3697\"/>\n<polygon fill=\"#000000\" stroke=\"#000000\" points=\"310.6506,-150.1955 307.3437,-140.13 303.6519,-150.0608 310.6506,-150.1955\"/>\n</g>\n<!-- 3 -->\n<g id=\"node4\" class=\"node\">\n<title>3</title>\n<polygon fill=\"none\" stroke=\"#000000\" points=\"84,-36 30,-36 30,0 84,0 84,-36\"/>\n<text text-anchor=\"middle\" x=\"57\" y=\"-14.3\" font-family=\"Times,serif\" font-size=\"14.00\" fill=\"#000000\">(...)</text>\n</g>\n<!-- 2&#45;&gt;3 -->\n<g id=\"edge3\" class=\"edge\">\n<title>2&#45;&gt;3</title>\n<path fill=\"none\" stroke=\"#000000\" d=\"M79.0815,-71.9769C75.4977,-63.2167 71.6862,-53.8995 68.2564,-45.5157\"/>\n<polygon fill=\"#000000\" stroke=\"#000000\" points=\"71.468,-44.1222 64.4422,-36.192 64.9891,-46.7727 71.468,-44.1222\"/>\n</g>\n<!-- 1282 -->\n<g id=\"node5\" class=\"node\">\n<title>1282</title>\n<polygon fill=\"none\" stroke=\"#000000\" points=\"156,-36 102,-36 102,0 156,0 156,-36\"/>\n<text text-anchor=\"middle\" x=\"129\" y=\"-14.3\" font-family=\"Times,serif\" font-size=\"14.00\" fill=\"#000000\">(...)</text>\n</g>\n<!-- 2&#45;&gt;1282 -->\n<g id=\"edge4\" class=\"edge\">\n<title>2&#45;&gt;1282</title>\n<path fill=\"none\" stroke=\"#000000\" d=\"M106.9185,-71.9769C110.5023,-63.2167 114.3138,-53.8995 117.7436,-45.5157\"/>\n<polygon fill=\"#000000\" stroke=\"#000000\" points=\"121.0109,-46.7727 121.5578,-36.192 114.532,-44.1222 121.0109,-46.7727\"/>\n</g>\n<!-- 2422 -->\n<g id=\"node7\" class=\"node\">\n<title>2422</title>\n<polygon fill=\"none\" stroke=\"#000000\" points=\"299,-36 245,-36 245,0 299,0 299,-36\"/>\n<text text-anchor=\"middle\" x=\"272\" y=\"-14.3\" font-family=\"Times,serif\" font-size=\"14.00\" fill=\"#000000\">(...)</text>\n</g>\n<!-- 2421&#45;&gt;2422 -->\n<g id=\"edge6\" class=\"edge\">\n<title>2421&#45;&gt;2422</title>\n<path fill=\"none\" stroke=\"#000000\" d=\"M294.0815,-71.9769C290.4977,-63.2167 286.6862,-53.8995 283.2564,-45.5157\"/>\n<polygon fill=\"#000000\" stroke=\"#000000\" points=\"286.468,-44.1222 279.4422,-36.192 279.9891,-46.7727 286.468,-44.1222\"/>\n</g>\n<!-- 3255 -->\n<g id=\"node8\" class=\"node\">\n<title>3255</title>\n<polygon fill=\"none\" stroke=\"#000000\" points=\"371,-36 317,-36 317,0 371,0 371,-36\"/>\n<text text-anchor=\"middle\" x=\"344\" y=\"-14.3\" font-family=\"Times,serif\" font-size=\"14.00\" fill=\"#000000\">(...)</text>\n</g>\n<!-- 2421&#45;&gt;3255 -->\n<g id=\"edge7\" class=\"edge\">\n<title>2421&#45;&gt;3255</title>\n<path fill=\"none\" stroke=\"#000000\" d=\"M321.9185,-71.9769C325.5023,-63.2167 329.3138,-53.8995 332.7436,-45.5157\"/>\n<polygon fill=\"#000000\" stroke=\"#000000\" points=\"336.0109,-46.7727 336.5578,-36.192 329.532,-44.1222 336.0109,-46.7727\"/>\n</g>\n<!-- 3257 -->\n<g id=\"node10\" class=\"node\">\n<title>3257</title>\n<polygon fill=\"none\" stroke=\"#000000\" points=\"638,-140 432,-140 432,-72 638,-72 638,-140\"/>\n<text text-anchor=\"middle\" x=\"535\" y=\"-124.8\" font-family=\"Times,serif\" font-size=\"14.00\" fill=\"#000000\">budget &lt;= 149500000.0</text>\n<text text-anchor=\"middle\" x=\"535\" y=\"-109.8\" font-family=\"Times,serif\" font-size=\"14.00\" fill=\"#000000\">mse = 5.875933677111968e+16</text>\n<text text-anchor=\"middle\" x=\"535\" y=\"-94.8\" font-family=\"Times,serif\" font-size=\"14.00\" fill=\"#000000\">samples = 220</text>\n<text text-anchor=\"middle\" x=\"535\" y=\"-79.8\" font-family=\"Times,serif\" font-size=\"14.00\" fill=\"#000000\">value = 409530744.382</text>\n</g>\n<!-- 3256&#45;&gt;3257 -->\n<g id=\"edge9\" class=\"edge\">\n<title>3256&#45;&gt;3257</title>\n<path fill=\"none\" stroke=\"#000000\" d=\"M535.6726,-175.9465C535.594,-167.776 535.509,-158.9318 535.4266,-150.3697\"/>\n<polygon fill=\"#000000\" stroke=\"#000000\" points=\"538.9243,-150.0958 535.3282,-140.13 531.9246,-150.1632 538.9243,-150.0958\"/>\n</g>\n<!-- 3696 -->\n<g id=\"node13\" class=\"node\">\n<title>3696</title>\n<polygon fill=\"none\" stroke=\"#000000\" points=\"871.5,-140 656.5,-140 656.5,-72 871.5,-72 871.5,-140\"/>\n<text text-anchor=\"middle\" x=\"764\" y=\"-124.8\" font-family=\"Times,serif\" font-size=\"14.00\" fill=\"#000000\">runtime &lt;= 134.0</text>\n<text text-anchor=\"middle\" x=\"764\" y=\"-109.8\" font-family=\"Times,serif\" font-size=\"14.00\" fill=\"#000000\">mse = 2.0864339609503386e+17</text>\n<text text-anchor=\"middle\" x=\"764\" y=\"-94.8\" font-family=\"Times,serif\" font-size=\"14.00\" fill=\"#000000\">samples = 56</text>\n<text text-anchor=\"middle\" x=\"764\" y=\"-79.8\" font-family=\"Times,serif\" font-size=\"14.00\" fill=\"#000000\">value = 792898108.625</text>\n</g>\n<!-- 3256&#45;&gt;3696 -->\n<g id=\"edge12\" class=\"edge\">\n<title>3256&#45;&gt;3696</title>\n<path fill=\"none\" stroke=\"#000000\" d=\"M610.6557,-175.9465C632.7999,-165.8457 657.2016,-154.7151 679.9013,-144.3608\"/>\n<polygon fill=\"#000000\" stroke=\"#000000\" points=\"681.5309,-147.4645 689.1765,-140.13 678.6258,-141.0957 681.5309,-147.4645\"/>\n</g>\n<!-- 3258 -->\n<g id=\"node11\" class=\"node\">\n<title>3258</title>\n<polygon fill=\"none\" stroke=\"#000000\" points=\"526,-36 472,-36 472,0 526,0 526,-36\"/>\n<text text-anchor=\"middle\" x=\"499\" y=\"-14.3\" font-family=\"Times,serif\" font-size=\"14.00\" fill=\"#000000\">(...)</text>\n</g>\n<!-- 3257&#45;&gt;3258 -->\n<g id=\"edge10\" class=\"edge\">\n<title>3257&#45;&gt;3258</title>\n<path fill=\"none\" stroke=\"#000000\" d=\"M521.0815,-71.9769C517.4977,-63.2167 513.6862,-53.8995 510.2564,-45.5157\"/>\n<polygon fill=\"#000000\" stroke=\"#000000\" points=\"513.468,-44.1222 506.4422,-36.192 506.9891,-46.7727 513.468,-44.1222\"/>\n</g>\n<!-- 3521 -->\n<g id=\"node12\" class=\"node\">\n<title>3521</title>\n<polygon fill=\"none\" stroke=\"#000000\" points=\"598,-36 544,-36 544,0 598,0 598,-36\"/>\n<text text-anchor=\"middle\" x=\"571\" y=\"-14.3\" font-family=\"Times,serif\" font-size=\"14.00\" fill=\"#000000\">(...)</text>\n</g>\n<!-- 3257&#45;&gt;3521 -->\n<g id=\"edge11\" class=\"edge\">\n<title>3257&#45;&gt;3521</title>\n<path fill=\"none\" stroke=\"#000000\" d=\"M548.9185,-71.9769C552.5023,-63.2167 556.3138,-53.8995 559.7436,-45.5157\"/>\n<polygon fill=\"#000000\" stroke=\"#000000\" points=\"563.0109,-46.7727 563.5578,-36.192 556.532,-44.1222 563.0109,-46.7727\"/>\n</g>\n<!-- 3697 -->\n<g id=\"node14\" class=\"node\">\n<title>3697</title>\n<polygon fill=\"none\" stroke=\"#000000\" points=\"755,-36 701,-36 701,0 755,0 755,-36\"/>\n<text text-anchor=\"middle\" x=\"728\" y=\"-14.3\" font-family=\"Times,serif\" font-size=\"14.00\" fill=\"#000000\">(...)</text>\n</g>\n<!-- 3696&#45;&gt;3697 -->\n<g id=\"edge13\" class=\"edge\">\n<title>3696&#45;&gt;3697</title>\n<path fill=\"none\" stroke=\"#000000\" d=\"M750.0815,-71.9769C746.4977,-63.2167 742.6862,-53.8995 739.2564,-45.5157\"/>\n<polygon fill=\"#000000\" stroke=\"#000000\" points=\"742.468,-44.1222 735.4422,-36.192 735.9891,-46.7727 742.468,-44.1222\"/>\n</g>\n<!-- 3748 -->\n<g id=\"node15\" class=\"node\">\n<title>3748</title>\n<polygon fill=\"none\" stroke=\"#000000\" points=\"827,-36 773,-36 773,0 827,0 827,-36\"/>\n<text text-anchor=\"middle\" x=\"800\" y=\"-14.3\" font-family=\"Times,serif\" font-size=\"14.00\" fill=\"#000000\">(...)</text>\n</g>\n<!-- 3696&#45;&gt;3748 -->\n<g id=\"edge14\" class=\"edge\">\n<title>3696&#45;&gt;3748</title>\n<path fill=\"none\" stroke=\"#000000\" d=\"M777.9185,-71.9769C781.5023,-63.2167 785.3138,-53.8995 788.7436,-45.5157\"/>\n<polygon fill=\"#000000\" stroke=\"#000000\" points=\"792.0109,-46.7727 792.5578,-36.192 785.532,-44.1222 792.0109,-46.7727\"/>\n</g>\n</g>\n</svg>\n"
          },
          "metadata": {
            "tags": []
          },
          "execution_count": 49
        }
      ]
    },
    {
      "cell_type": "markdown",
      "metadata": {
        "id": "maAQgmQwpJl-",
        "colab_type": "text"
      },
      "source": [
        "Let's interpret diagram above.  The `value` on the first node at the top, is the average revenue for all movies - `164350612` (at the bottom of the node).  The best split point for all of the data is the budget.  And then at the next level, we again split by the budget.\n",
        "\n",
        "In the third level, we see runtime show up as feature.  "
      ]
    },
    {
      "cell_type": "markdown",
      "metadata": {
        "id": "7T7mKuoepJl_",
        "colab_type": "text"
      },
      "source": [
        "The decision tree continues beyond the image, but we only printed out three levels.  A complete mapping of the numbers to genres is provided below.  "
      ]
    },
    {
      "cell_type": "markdown",
      "metadata": {
        "id": "wrwKSI4mpJmA",
        "colab_type": "text"
      },
      "source": [
        "### Summary"
      ]
    },
    {
      "cell_type": "markdown",
      "metadata": {
        "id": "2AuTQRJ-pJmA",
        "colab_type": "text"
      },
      "source": [
        "In this lesson, we saw how to format our data, then train and make predictions with our decision tree algorithm.  We formatted our data by using the LabelEncoder which transforms our each category in a categorical feature to a corresponding number, which our decision tree can then split on.  We then chose the DecisionTreeRegressor as our target is not a category but a number, and then fit a model and made our predictions.  "
      ]
    },
    {
      "cell_type": "markdown",
      "metadata": {
        "id": "kum1VKaqpJmB",
        "colab_type": "text"
      },
      "source": [
        "<center>\n",
        "<a href=\"https://www.jigsawlabs.io/free\" style=\"position: center\"><img src=\"https://storage.cloud.google.com/curriculum-assets/curriculum-assets.nosync/mom-files/jigsaw-labs.png\" width=\"15%\" style=\"text-align: center\"></a>\n",
        "</center>"
      ]
    }
  ]
}