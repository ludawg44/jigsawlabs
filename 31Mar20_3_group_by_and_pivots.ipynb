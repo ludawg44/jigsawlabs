{
  "nbformat": 4,
  "nbformat_minor": 0,
  "metadata": {
    "kernelspec": {
      "display_name": "Python 3",
      "language": "python",
      "name": "python3"
    },
    "language_info": {
      "codemirror_mode": {
        "name": "ipython",
        "version": 3
      },
      "file_extension": ".py",
      "mimetype": "text/x-python",
      "name": "python",
      "nbconvert_exporter": "python",
      "pygments_lexer": "ipython3",
      "version": "3.7.4"
    },
    "colab": {
      "name": "Copy of 3-group-by-and-pivots.ipynb",
      "provenance": [],
      "include_colab_link": true
    }
  },
  "cells": [
    {
      "cell_type": "markdown",
      "metadata": {
        "id": "view-in-github",
        "colab_type": "text"
      },
      "source": [
        "<a href=\"https://colab.research.google.com/github/ludawg44/jigsawlabs/blob/master/31Mar20_3_group_by_and_pivots.ipynb\" target=\"_parent\"><img src=\"https://colab.research.google.com/assets/colab-badge.svg\" alt=\"Open In Colab\"/></a>"
      ]
    },
    {
      "cell_type": "markdown",
      "metadata": {
        "id": "0kvmY1UIVooc",
        "colab_type": "text"
      },
      "source": [
        "# Group By and Pivot Tables"
      ]
    },
    {
      "cell_type": "markdown",
      "metadata": {
        "id": "bq26UC76Vooe",
        "colab_type": "text"
      },
      "source": [
        "### Introduction"
      ]
    },
    {
      "cell_type": "markdown",
      "metadata": {
        "id": "nBMrHeF8Vooe",
        "colab_type": "text"
      },
      "source": [
        "Over the past few lessons, we saw how to find statistics over an entire dataframe, or regarding a specific column.  In this lesson, we'll see how we can partition the data in a dataframe or a series with group by and pivot tables."
      ]
    },
    {
      "cell_type": "markdown",
      "metadata": {
        "id": "xIr78oNMVoof",
        "colab_type": "text"
      },
      "source": [
        "### Loading our Data"
      ]
    },
    {
      "cell_type": "code",
      "metadata": {
        "id": "yENxvs-FVoof",
        "colab_type": "code",
        "colab": {}
      },
      "source": [
        "import pandas as pd\n",
        "url = url = \"https://raw.githubusercontent.com/jigsawlabs-student/exploring-pandas/master/imdb_movies.csv\"\n",
        "df = pd.read_csv(url)"
      ],
      "execution_count": 0,
      "outputs": []
    },
    {
      "cell_type": "code",
      "metadata": {
        "id": "i7nkb2ReVooi",
        "colab_type": "code",
        "outputId": "3dd20bde-6728-45c5-a995-1d989bdeb3b9",
        "colab": {}
      },
      "source": [
        "df.head()"
      ],
      "execution_count": 0,
      "outputs": [
        {
          "output_type": "execute_result",
          "data": {
            "text/html": [
              "<div>\n",
              "<style scoped>\n",
              "    .dataframe tbody tr th:only-of-type {\n",
              "        vertical-align: middle;\n",
              "    }\n",
              "\n",
              "    .dataframe tbody tr th {\n",
              "        vertical-align: top;\n",
              "    }\n",
              "\n",
              "    .dataframe thead th {\n",
              "        text-align: right;\n",
              "    }\n",
              "</style>\n",
              "<table border=\"1\" class=\"dataframe\">\n",
              "  <thead>\n",
              "    <tr style=\"text-align: right;\">\n",
              "      <th></th>\n",
              "      <th>title</th>\n",
              "      <th>genre</th>\n",
              "      <th>budget</th>\n",
              "      <th>runtime</th>\n",
              "      <th>year</th>\n",
              "      <th>month</th>\n",
              "      <th>revenue</th>\n",
              "    </tr>\n",
              "  </thead>\n",
              "  <tbody>\n",
              "    <tr>\n",
              "      <th>0</th>\n",
              "      <td>Avatar</td>\n",
              "      <td>Action</td>\n",
              "      <td>237000000</td>\n",
              "      <td>162.0</td>\n",
              "      <td>2009</td>\n",
              "      <td>12</td>\n",
              "      <td>2787965087</td>\n",
              "    </tr>\n",
              "    <tr>\n",
              "      <th>1</th>\n",
              "      <td>Pirates of the Caribbean: At World's End</td>\n",
              "      <td>Adventure</td>\n",
              "      <td>300000000</td>\n",
              "      <td>169.0</td>\n",
              "      <td>2007</td>\n",
              "      <td>5</td>\n",
              "      <td>961000000</td>\n",
              "    </tr>\n",
              "    <tr>\n",
              "      <th>2</th>\n",
              "      <td>Spectre</td>\n",
              "      <td>Action</td>\n",
              "      <td>245000000</td>\n",
              "      <td>148.0</td>\n",
              "      <td>2015</td>\n",
              "      <td>10</td>\n",
              "      <td>880674609</td>\n",
              "    </tr>\n",
              "    <tr>\n",
              "      <th>3</th>\n",
              "      <td>The Dark Knight Rises</td>\n",
              "      <td>Action</td>\n",
              "      <td>250000000</td>\n",
              "      <td>165.0</td>\n",
              "      <td>2012</td>\n",
              "      <td>7</td>\n",
              "      <td>1084939099</td>\n",
              "    </tr>\n",
              "    <tr>\n",
              "      <th>4</th>\n",
              "      <td>John Carter</td>\n",
              "      <td>Action</td>\n",
              "      <td>260000000</td>\n",
              "      <td>132.0</td>\n",
              "      <td>2012</td>\n",
              "      <td>3</td>\n",
              "      <td>284139100</td>\n",
              "    </tr>\n",
              "  </tbody>\n",
              "</table>\n",
              "</div>"
            ],
            "text/plain": [
              "                                      title      genre     budget  runtime  \\\n",
              "0                                    Avatar     Action  237000000    162.0   \n",
              "1  Pirates of the Caribbean: At World's End  Adventure  300000000    169.0   \n",
              "2                                   Spectre     Action  245000000    148.0   \n",
              "3                     The Dark Knight Rises     Action  250000000    165.0   \n",
              "4                               John Carter     Action  260000000    132.0   \n",
              "\n",
              "   year  month     revenue  \n",
              "0  2009     12  2787965087  \n",
              "1  2007      5   961000000  \n",
              "2  2015     10   880674609  \n",
              "3  2012      7  1084939099  \n",
              "4  2012      3   284139100  "
            ]
          },
          "metadata": {
            "tags": []
          },
          "execution_count": 77
        }
      ]
    },
    {
      "cell_type": "markdown",
      "metadata": {
        "id": "r973Yy7VVool",
        "colab_type": "text"
      },
      "source": [
        "### Exploring within Groups"
      ]
    },
    {
      "cell_type": "markdown",
      "metadata": {
        "id": "3UYdOUGpVoom",
        "colab_type": "text"
      },
      "source": [
        "Group by works well with data that is either categorical in nature.  When we have data categorical in nature, we can imagine grouping that data by categories, and then finding the aggregate statistics, like the mean or the maximum.\n",
        "\n",
        "Here's how we can group our data by genre, and find the mean revenue across each genre."
      ]
    },
    {
      "cell_type": "code",
      "metadata": {
        "id": "xIDHd9dAVoom",
        "colab_type": "code",
        "outputId": "6ab5f7c7-bddc-4373-cb4a-66da007f8e97",
        "colab": {}
      },
      "source": [
        "df.groupby(['genre']).mean()"
      ],
      "execution_count": 0,
      "outputs": [
        {
          "output_type": "execute_result",
          "data": {
            "text/html": [
              "<div>\n",
              "<style scoped>\n",
              "    .dataframe tbody tr th:only-of-type {\n",
              "        vertical-align: middle;\n",
              "    }\n",
              "\n",
              "    .dataframe tbody tr th {\n",
              "        vertical-align: top;\n",
              "    }\n",
              "\n",
              "    .dataframe thead th {\n",
              "        text-align: right;\n",
              "    }\n",
              "</style>\n",
              "<table border=\"1\" class=\"dataframe\">\n",
              "  <thead>\n",
              "    <tr style=\"text-align: right;\">\n",
              "      <th></th>\n",
              "      <th>budget</th>\n",
              "      <th>runtime</th>\n",
              "      <th>year</th>\n",
              "      <th>month</th>\n",
              "      <th>revenue</th>\n",
              "    </tr>\n",
              "    <tr>\n",
              "      <th>genre</th>\n",
              "      <th></th>\n",
              "      <th></th>\n",
              "      <th></th>\n",
              "      <th></th>\n",
              "      <th></th>\n",
              "    </tr>\n",
              "  </thead>\n",
              "  <tbody>\n",
              "    <tr>\n",
              "      <th>Action</th>\n",
              "      <td>6.994379e+07</td>\n",
              "      <td>113.028986</td>\n",
              "      <td>2004.532091</td>\n",
              "      <td>6.418219</td>\n",
              "      <td>1.803353e+08</td>\n",
              "    </tr>\n",
              "    <tr>\n",
              "      <th>Adventure</th>\n",
              "      <td>9.008632e+07</td>\n",
              "      <td>115.381356</td>\n",
              "      <td>2003.741525</td>\n",
              "      <td>7.203390</td>\n",
              "      <td>2.788796e+08</td>\n",
              "    </tr>\n",
              "    <tr>\n",
              "      <th>Animation</th>\n",
              "      <td>8.662127e+07</td>\n",
              "      <td>91.419355</td>\n",
              "      <td>2006.580645</td>\n",
              "      <td>7.021505</td>\n",
              "      <td>3.130796e+08</td>\n",
              "    </tr>\n",
              "    <tr>\n",
              "      <th>Comedy</th>\n",
              "      <td>4.175418e+07</td>\n",
              "      <td>105.245125</td>\n",
              "      <td>2005.144847</td>\n",
              "      <td>6.935933</td>\n",
              "      <td>1.069884e+08</td>\n",
              "    </tr>\n",
              "    <tr>\n",
              "      <th>Crime</th>\n",
              "      <td>4.443289e+07</td>\n",
              "      <td>120.000000</td>\n",
              "      <td>2004.644737</td>\n",
              "      <td>6.763158</td>\n",
              "      <td>9.344435e+07</td>\n",
              "    </tr>\n",
              "    <tr>\n",
              "      <th>Drama</th>\n",
              "      <td>4.497237e+07</td>\n",
              "      <td>126.775342</td>\n",
              "      <td>2003.084932</td>\n",
              "      <td>8.041096</td>\n",
              "      <td>1.038632e+08</td>\n",
              "    </tr>\n",
              "    <tr>\n",
              "      <th>Fantasy</th>\n",
              "      <td>7.210313e+07</td>\n",
              "      <td>106.662500</td>\n",
              "      <td>2004.987500</td>\n",
              "      <td>6.700000</td>\n",
              "      <td>1.894764e+08</td>\n",
              "    </tr>\n",
              "    <tr>\n",
              "      <th>Horror</th>\n",
              "      <td>3.481864e+07</td>\n",
              "      <td>101.203390</td>\n",
              "      <td>2002.237288</td>\n",
              "      <td>6.864407</td>\n",
              "      <td>8.491458e+07</td>\n",
              "    </tr>\n",
              "    <tr>\n",
              "      <th>Romance</th>\n",
              "      <td>4.363117e+07</td>\n",
              "      <td>110.725000</td>\n",
              "      <td>2006.225000</td>\n",
              "      <td>5.825000</td>\n",
              "      <td>1.124715e+08</td>\n",
              "    </tr>\n",
              "    <tr>\n",
              "      <th>Science Fiction</th>\n",
              "      <td>8.488846e+07</td>\n",
              "      <td>115.500000</td>\n",
              "      <td>2003.673077</td>\n",
              "      <td>7.115385</td>\n",
              "      <td>2.682699e+08</td>\n",
              "    </tr>\n",
              "    <tr>\n",
              "      <th>Thriller</th>\n",
              "      <td>5.387671e+07</td>\n",
              "      <td>116.219178</td>\n",
              "      <td>2006.835616</td>\n",
              "      <td>6.904110</td>\n",
              "      <td>1.332438e+08</td>\n",
              "    </tr>\n",
              "  </tbody>\n",
              "</table>\n",
              "</div>"
            ],
            "text/plain": [
              "                       budget     runtime         year     month       revenue\n",
              "genre                                                                         \n",
              "Action           6.994379e+07  113.028986  2004.532091  6.418219  1.803353e+08\n",
              "Adventure        9.008632e+07  115.381356  2003.741525  7.203390  2.788796e+08\n",
              "Animation        8.662127e+07   91.419355  2006.580645  7.021505  3.130796e+08\n",
              "Comedy           4.175418e+07  105.245125  2005.144847  6.935933  1.069884e+08\n",
              "Crime            4.443289e+07  120.000000  2004.644737  6.763158  9.344435e+07\n",
              "Drama            4.497237e+07  126.775342  2003.084932  8.041096  1.038632e+08\n",
              "Fantasy          7.210313e+07  106.662500  2004.987500  6.700000  1.894764e+08\n",
              "Horror           3.481864e+07  101.203390  2002.237288  6.864407  8.491458e+07\n",
              "Romance          4.363117e+07  110.725000  2006.225000  5.825000  1.124715e+08\n",
              "Science Fiction  8.488846e+07  115.500000  2003.673077  7.115385  2.682699e+08\n",
              "Thriller         5.387671e+07  116.219178  2006.835616  6.904110  1.332438e+08"
            ]
          },
          "metadata": {
            "tags": []
          },
          "execution_count": 56
        }
      ]
    },
    {
      "cell_type": "markdown",
      "metadata": {
        "id": "gs0hRxewVooo",
        "colab_type": "text"
      },
      "source": [
        "> We can get rid of scientific notation with the following."
      ]
    },
    {
      "cell_type": "code",
      "metadata": {
        "id": "gM0Zu14VVoop",
        "colab_type": "code",
        "colab": {}
      },
      "source": [
        "pd.options.display.float_format = '{:.2f}'.format"
      ],
      "execution_count": 0,
      "outputs": []
    },
    {
      "cell_type": "markdown",
      "metadata": {
        "id": "ce1aSfyGVoor",
        "colab_type": "text"
      },
      "source": [
        "Notice that group by returns to us a dataframe for each of the numeric columns."
      ]
    },
    {
      "cell_type": "code",
      "metadata": {
        "id": "lPNJy_08Voos",
        "colab_type": "code",
        "outputId": "e3d7eeee-5fce-496e-db3d-f1d539ce2d15",
        "colab": {}
      },
      "source": [
        "df.columns"
      ],
      "execution_count": 0,
      "outputs": [
        {
          "output_type": "execute_result",
          "data": {
            "text/plain": [
              "Index(['title', 'genre', 'budget', 'runtime', 'year', 'month', 'revenue'], dtype='object')"
            ]
          },
          "metadata": {
            "tags": []
          },
          "execution_count": 88
        }
      ]
    },
    {
      "cell_type": "markdown",
      "metadata": {
        "id": "JNk_EmyfVoov",
        "colab_type": "text"
      },
      "source": [
        "We can then scope down that data to just select the revenue."
      ]
    },
    {
      "cell_type": "code",
      "metadata": {
        "id": "Gzusx3LQVoov",
        "colab_type": "code",
        "outputId": "46c3d45a-8ef0-4e22-88fd-deb6982e3d1a",
        "colab": {}
      },
      "source": [
        "df.groupby(['genre']).mean()['revenue'].sort_values()"
      ],
      "execution_count": 0,
      "outputs": [
        {
          "output_type": "execute_result",
          "data": {
            "text/plain": [
              "genre\n",
              "Horror             84914577.80\n",
              "Crime              93444346.83\n",
              "Drama             103863203.52\n",
              "Comedy            106988371.80\n",
              "Romance           112471529.00\n",
              "Thriller          133243758.53\n",
              "Action            180335309.49\n",
              "Fantasy           189476384.70\n",
              "Science Fiction   268269924.02\n",
              "Adventure         278879626.06\n",
              "Animation         313079586.00\n",
              "Name: revenue, dtype: float64"
            ]
          },
          "metadata": {
            "tags": []
          },
          "execution_count": 89
        }
      ]
    },
    {
      "cell_type": "markdown",
      "metadata": {
        "id": "I_msBC6JVooy",
        "colab_type": "text"
      },
      "source": [
        "And then plot this, from there."
      ]
    },
    {
      "cell_type": "code",
      "metadata": {
        "id": "I-OMRrHSVooy",
        "colab_type": "code",
        "outputId": "e2109de3-d26d-45f9-fc5c-fbe61ed3a94c",
        "colab": {}
      },
      "source": [
        "ax = df.groupby(['genre']).mean()['revenue'].sort_values().plot.barh()\n",
        "ax.set(title = 'Avg Revenue by Genre', \n",
        "       xlabel = 'average revenue (m)',\n",
        "       xticklabels = list(range(0, 310, 50)))\n",
        "print('none')"
      ],
      "execution_count": 0,
      "outputs": [
        {
          "output_type": "stream",
          "text": [
            "none\n"
          ],
          "name": "stdout"
        },
        {
          "output_type": "display_data",
          "data": {
            "image/png": "[encoded data removed]",
            "text/plain": [
              "<Figure size 432x288 with 1 Axes>"
            ]
          },
          "metadata": {
            "tags": [],
            "needs_background": "light"
          }
        }
      ]
    },
    {
      "cell_type": "markdown",
      "metadata": {
        "id": "fIuiulJdVoo1",
        "colab_type": "text"
      },
      "source": [
        "### Grouping by Multiple Values"
      ]
    },
    {
      "cell_type": "markdown",
      "metadata": {
        "id": "Hu3A43aDVoo1",
        "colab_type": "text"
      },
      "source": [
        "Now let's say that we wanted to group our data by genre and year.  We can do so with the following."
      ]
    },
    {
      "cell_type": "code",
      "metadata": {
        "id": "racI5AKeVoo2",
        "colab_type": "code",
        "outputId": "a95435c0-a5e9-4214-f9ee-441d67eaff2d",
        "colab": {}
      },
      "source": [
        "df.groupby(['genre', 'year']).mean()[:3]"
      ],
      "execution_count": 0,
      "outputs": [
        {
          "output_type": "execute_result",
          "data": {
            "text/html": [
              "<div>\n",
              "<style scoped>\n",
              "    .dataframe tbody tr th:only-of-type {\n",
              "        vertical-align: middle;\n",
              "    }\n",
              "\n",
              "    .dataframe tbody tr th {\n",
              "        vertical-align: top;\n",
              "    }\n",
              "\n",
              "    .dataframe thead th {\n",
              "        text-align: right;\n",
              "    }\n",
              "</style>\n",
              "<table border=\"1\" class=\"dataframe\">\n",
              "  <thead>\n",
              "    <tr style=\"text-align: right;\">\n",
              "      <th></th>\n",
              "      <th></th>\n",
              "      <th>budget</th>\n",
              "      <th>runtime</th>\n",
              "      <th>month</th>\n",
              "      <th>revenue</th>\n",
              "    </tr>\n",
              "    <tr>\n",
              "      <th>genre</th>\n",
              "      <th>year</th>\n",
              "      <th></th>\n",
              "      <th></th>\n",
              "      <th></th>\n",
              "      <th></th>\n",
              "    </tr>\n",
              "  </thead>\n",
              "  <tbody>\n",
              "    <tr>\n",
              "      <th rowspan=\"3\" valign=\"top\">Action</th>\n",
              "      <th>1978</th>\n",
              "      <td>5.500000e+07</td>\n",
              "      <td>143.000000</td>\n",
              "      <td>12.0</td>\n",
              "      <td>300218018.0</td>\n",
              "    </tr>\n",
              "    <tr>\n",
              "      <th>1979</th>\n",
              "      <td>3.450000e+07</td>\n",
              "      <td>119.500000</td>\n",
              "      <td>9.0</td>\n",
              "      <td>121031920.5</td>\n",
              "    </tr>\n",
              "    <tr>\n",
              "      <th>1980</th>\n",
              "      <td>3.266667e+07</td>\n",
              "      <td>153.666667</td>\n",
              "      <td>8.0</td>\n",
              "      <td>64647679.0</td>\n",
              "    </tr>\n",
              "  </tbody>\n",
              "</table>\n",
              "</div>"
            ],
            "text/plain": [
              "                   budget     runtime  month      revenue\n",
              "genre  year                                              \n",
              "Action 1978  5.500000e+07  143.000000   12.0  300218018.0\n",
              "       1979  3.450000e+07  119.500000    9.0  121031920.5\n",
              "       1980  3.266667e+07  153.666667    8.0   64647679.0"
            ]
          },
          "metadata": {
            "tags": []
          },
          "execution_count": 60
        }
      ]
    },
    {
      "cell_type": "markdown",
      "metadata": {
        "id": "dOKMYvYNVoo5",
        "colab_type": "text"
      },
      "source": [
        "Notice that this returns to us a dataframe that has two indices.  The outer one is genre, and then the inner is by year."
      ]
    },
    {
      "cell_type": "code",
      "metadata": {
        "id": "P7VL4-VSVoo5",
        "colab_type": "code",
        "outputId": "64feb463-6d6d-47b6-e5a6-bd7b408c7d45",
        "colab": {}
      },
      "source": [
        "df[df['year'] > 2013 ].groupby(['genre', 'year']).count()['title'].plot.bar()"
      ],
      "execution_count": 0,
      "outputs": [
        {
          "output_type": "execute_result",
          "data": {
            "text/plain": [
              "array([<matplotlib.axes._subplots.AxesSubplot object at 0x1219e54d0>],\n",
              "      dtype=object)"
            ]
          },
          "metadata": {
            "tags": []
          },
          "execution_count": 68
        },
        {
          "output_type": "display_data",
          "data": {
            "image/png": "[encoded data removed]",
            "text/plain": [
              "<Figure size 432x288 with 1 Axes>"
            ]
          },
          "metadata": {
            "tags": [],
            "needs_background": "light"
          }
        }
      ]
    },
    {
      "cell_type": "markdown",
      "metadata": {
        "id": "jADMlDAbVoo8",
        "colab_type": "text"
      },
      "source": [
        "So in the data set above, we can see a downward trend in the amount of most of the categories, although action movies appear to have been the smallest downturn."
      ]
    },
    {
      "cell_type": "markdown",
      "metadata": {
        "id": "d_rJehN_Voo8",
        "colab_type": "text"
      },
      "source": [
        "### Pivot Tables"
      ]
    },
    {
      "cell_type": "markdown",
      "metadata": {
        "id": "MwBaA6VeVoo9",
        "colab_type": "text"
      },
      "source": [
        "Now pivot tables perform the same calculations as group by.  But in their presentation, the pivot tables allow us to better control what are the components of the dataframe, from the index, to the columns."
      ]
    },
    {
      "cell_type": "markdown",
      "metadata": {
        "id": "4RMzhhT5Voo9",
        "colab_type": "text"
      },
      "source": [
        "Let's use a pivot table to capture the average revenue across genres, fore each year after 2010."
      ]
    },
    {
      "cell_type": "code",
      "metadata": {
        "id": "akJxfxEuVoo9",
        "colab_type": "code",
        "colab": {}
      },
      "source": [
        "df_pivot = pd.pivot_table(df[df['year'] > 2010], index=[\"year\"], columns=[\"genre\"], \n",
        "               values=[\"revenue\"], aggfunc=np.mean)"
      ],
      "execution_count": 0,
      "outputs": []
    },
    {
      "cell_type": "code",
      "metadata": {
        "id": "uMxhK3rjVopA",
        "colab_type": "code",
        "outputId": "0c85681e-f5c5-41c5-a6e2-12fd08d297d4",
        "colab": {}
      },
      "source": [
        "df_pivot"
      ],
      "execution_count": 0,
      "outputs": [
        {
          "output_type": "execute_result",
          "data": {
            "text/html": [
              "<div>\n",
              "<style scoped>\n",
              "    .dataframe tbody tr th:only-of-type {\n",
              "        vertical-align: middle;\n",
              "    }\n",
              "\n",
              "    .dataframe tbody tr th {\n",
              "        vertical-align: top;\n",
              "    }\n",
              "\n",
              "    .dataframe thead tr th {\n",
              "        text-align: left;\n",
              "    }\n",
              "\n",
              "    .dataframe thead tr:last-of-type th {\n",
              "        text-align: right;\n",
              "    }\n",
              "</style>\n",
              "<table border=\"1\" class=\"dataframe\">\n",
              "  <thead>\n",
              "    <tr>\n",
              "      <th></th>\n",
              "      <th colspan=\"11\" halign=\"left\">revenue</th>\n",
              "    </tr>\n",
              "    <tr>\n",
              "      <th>genre</th>\n",
              "      <th>Action</th>\n",
              "      <th>Adventure</th>\n",
              "      <th>Animation</th>\n",
              "      <th>Comedy</th>\n",
              "      <th>Crime</th>\n",
              "      <th>Drama</th>\n",
              "      <th>Fantasy</th>\n",
              "      <th>Horror</th>\n",
              "      <th>Romance</th>\n",
              "      <th>Science Fiction</th>\n",
              "      <th>Thriller</th>\n",
              "    </tr>\n",
              "    <tr>\n",
              "      <th>year</th>\n",
              "      <th></th>\n",
              "      <th></th>\n",
              "      <th></th>\n",
              "      <th></th>\n",
              "      <th></th>\n",
              "      <th></th>\n",
              "      <th></th>\n",
              "      <th></th>\n",
              "      <th></th>\n",
              "      <th></th>\n",
              "      <th></th>\n",
              "    </tr>\n",
              "  </thead>\n",
              "  <tbody>\n",
              "    <tr>\n",
              "      <th>2011</th>\n",
              "      <td>240880374.42</td>\n",
              "      <td>261467678.45</td>\n",
              "      <td>358559319.00</td>\n",
              "      <td>120890809.00</td>\n",
              "      <td>109702299.33</td>\n",
              "      <td>78075523.00</td>\n",
              "      <td>124029199.75</td>\n",
              "      <td>70940362.00</td>\n",
              "      <td>98988416.75</td>\n",
              "      <td>127869379.00</td>\n",
              "      <td>240998690.80</td>\n",
              "    </tr>\n",
              "    <tr>\n",
              "      <th>2012</th>\n",
              "      <td>275432225.18</td>\n",
              "      <td>414326105.33</td>\n",
              "      <td>382174960.14</td>\n",
              "      <td>108644503.94</td>\n",
              "      <td>90512024.25</td>\n",
              "      <td>151623615.54</td>\n",
              "      <td>138265579.25</td>\n",
              "      <td>75966077.50</td>\n",
              "      <td>79700000.00</td>\n",
              "      <td>871312914.67</td>\n",
              "      <td>169805081.00</td>\n",
              "    </tr>\n",
              "    <tr>\n",
              "      <th>2013</th>\n",
              "      <td>242654455.29</td>\n",
              "      <td>447869360.00</td>\n",
              "      <td>375896902.55</td>\n",
              "      <td>110324406.50</td>\n",
              "      <td>186606081.00</td>\n",
              "      <td>119456960.82</td>\n",
              "      <td>197635539.67</td>\n",
              "      <td>116980662.00</td>\n",
              "      <td>72472695.50</td>\n",
              "      <td>294050203.60</td>\n",
              "      <td>54063921.57</td>\n",
              "    </tr>\n",
              "    <tr>\n",
              "      <th>2014</th>\n",
              "      <td>287276588.12</td>\n",
              "      <td>352096096.25</td>\n",
              "      <td>220339158.75</td>\n",
              "      <td>118283953.10</td>\n",
              "      <td>70257707.50</td>\n",
              "      <td>84255706.80</td>\n",
              "      <td>526855068.33</td>\n",
              "      <td>143341896.50</td>\n",
              "      <td>48718553.00</td>\n",
              "      <td>757837473.00</td>\n",
              "      <td>94330364.29</td>\n",
              "    </tr>\n",
              "    <tr>\n",
              "      <th>2015</th>\n",
              "      <td>415734720.32</td>\n",
              "      <td>171880610.70</td>\n",
              "      <td>343684701.00</td>\n",
              "      <td>113729622.43</td>\n",
              "      <td>61021114.43</td>\n",
              "      <td>248533903.18</td>\n",
              "      <td>145367798.25</td>\n",
              "      <td>nan</td>\n",
              "      <td>232492438.67</td>\n",
              "      <td>293606612.75</td>\n",
              "      <td>86433035.33</td>\n",
              "    </tr>\n",
              "    <tr>\n",
              "      <th>2016</th>\n",
              "      <td>311719134.29</td>\n",
              "      <td>353311188.20</td>\n",
              "      <td>875958308.00</td>\n",
              "      <td>75127174.00</td>\n",
              "      <td>15436808.00</td>\n",
              "      <td>94061311.00</td>\n",
              "      <td>231891598.67</td>\n",
              "      <td>320170008.00</td>\n",
              "      <td>16374328.00</td>\n",
              "      <td>543934787.00</td>\n",
              "      <td>93282604.00</td>\n",
              "    </tr>\n",
              "  </tbody>\n",
              "</table>\n",
              "</div>"
            ],
            "text/plain": [
              "           revenue                                                      \\\n",
              "genre       Action    Adventure    Animation       Comedy        Crime   \n",
              "year                                                                     \n",
              "2011  240880374.42 261467678.45 358559319.00 120890809.00 109702299.33   \n",
              "2012  275432225.18 414326105.33 382174960.14 108644503.94  90512024.25   \n",
              "2013  242654455.29 447869360.00 375896902.55 110324406.50 186606081.00   \n",
              "2014  287276588.12 352096096.25 220339158.75 118283953.10  70257707.50   \n",
              "2015  415734720.32 171880610.70 343684701.00 113729622.43  61021114.43   \n",
              "2016  311719134.29 353311188.20 875958308.00  75127174.00  15436808.00   \n",
              "\n",
              "                                                                           \\\n",
              "genre        Drama      Fantasy       Horror      Romance Science Fiction   \n",
              "year                                                                        \n",
              "2011   78075523.00 124029199.75  70940362.00  98988416.75    127869379.00   \n",
              "2012  151623615.54 138265579.25  75966077.50  79700000.00    871312914.67   \n",
              "2013  119456960.82 197635539.67 116980662.00  72472695.50    294050203.60   \n",
              "2014   84255706.80 526855068.33 143341896.50  48718553.00    757837473.00   \n",
              "2015  248533903.18 145367798.25          nan 232492438.67    293606612.75   \n",
              "2016   94061311.00 231891598.67 320170008.00  16374328.00    543934787.00   \n",
              "\n",
              "                    \n",
              "genre     Thriller  \n",
              "year                \n",
              "2011  240998690.80  \n",
              "2012  169805081.00  \n",
              "2013   54063921.57  \n",
              "2014   94330364.29  \n",
              "2015   86433035.33  \n",
              "2016   93282604.00  "
            ]
          },
          "metadata": {
            "tags": []
          },
          "execution_count": 114
        }
      ]
    },
    {
      "cell_type": "markdown",
      "metadata": {
        "id": "MErk0IitVopC",
        "colab_type": "text"
      },
      "source": [
        "One nice thing is that because pandas only creates subplots across columns, we can now create a graph with subplots, one for each selected genre. "
      ]
    },
    {
      "cell_type": "code",
      "metadata": {
        "id": "1eFn4iffVopC",
        "colab_type": "code",
        "outputId": "2747adb6-d75a-46ee-95fc-5f8bfd4ecf83",
        "colab": {}
      },
      "source": [
        "import matplotlib.pyplot as plt\n",
        "\n",
        "df_pivot.iloc[:, :4].plot.bar(subplots = True)\n",
        "fig = plt.gcf()\n",
        "fig.set_size_inches(15, 12)"
      ],
      "execution_count": 0,
      "outputs": [
        {
          "output_type": "display_data",
          "data": {
            "image/png": "[encoded data removed]",
            "text/plain": [
              "<Figure size 1080x864 with 4 Axes>"
            ]
          },
          "metadata": {
            "tags": [],
            "needs_background": "light"
          }
        }
      ]
    },
    {
      "cell_type": "markdown",
      "metadata": {
        "id": "tTZAPdvmVopE",
        "colab_type": "text"
      },
      "source": [
        "So above we have the average movie revenue by year, separated by genre."
      ]
    },
    {
      "cell_type": "markdown",
      "metadata": {
        "id": "b7gGDhXKVopF",
        "colab_type": "text"
      },
      "source": [
        "Or we can also plot across columns in the same plot."
      ]
    },
    {
      "cell_type": "code",
      "metadata": {
        "id": "1FIu19BmVopF",
        "colab_type": "code",
        "outputId": "646b1edb-430f-4dfb-c0af-c2c997fcb77c",
        "colab": {}
      },
      "source": [
        "df_pivot.iloc[:, :4].plot.bar()\n",
        "fig = plt.gcf()\n",
        "fig.set_size_inches(15, 12)"
      ],
      "execution_count": 0,
      "outputs": [
        {
          "output_type": "display_data",
          "data": {
            "image/png": "[encoded data removed]",
            "text/plain": [
              "<Figure size 1080x864 with 1 Axes>"
            ]
          },
          "metadata": {
            "tags": [],
            "needs_background": "light"
          }
        }
      ]
    },
    {
      "cell_type": "markdown",
      "metadata": {
        "id": "1-IkZNnbVopI",
        "colab_type": "text"
      },
      "source": [
        "### Summary"
      ]
    },
    {
      "cell_type": "markdown",
      "metadata": {
        "id": "qaIbINOLVopK",
        "colab_type": "text"
      },
      "source": [
        "In this lesson we saw how to both perform aggregate queries and then plot this information.  We started with using group by which gives us aggregate statistics across multiple columns.\n",
        "\n",
        "From there, we moved onto the `pivot_table` function in pandas.  And we saw that with a pivot table, we can control what information is displayed across rows or columns.  Because pandas plots data across columns, we can use pivot tables to help us refine our plots in pandas."
      ]
    }
  ]
}