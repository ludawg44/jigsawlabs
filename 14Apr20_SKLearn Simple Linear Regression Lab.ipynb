{
  "nbformat": 4,
  "nbformat_minor": 0,
  "metadata": {
    "kernelspec": {
      "display_name": "Python 3",
      "language": "python",
      "name": "python3"
    },
    "language_info": {
      "codemirror_mode": {
        "name": "ipython",
        "version": 3
      },
      "file_extension": ".py",
      "mimetype": "text/x-python",
      "name": "python",
      "nbconvert_exporter": "python",
      "pygments_lexer": "ipython3",
      "version": "3.7.4"
    },
    "colab": {
      "name": "Copy of index-lab.ipynb",
      "provenance": [],
      "include_colab_link": true
    }
  },
  "cells": [
    {
      "cell_type": "markdown",
      "metadata": {
        "id": "view-in-github",
        "colab_type": "text"
      },
      "source": [
        "<a href=\"https://colab.research.google.com/github/ludawg44/jigsawlabs/blob/master/14Apr20_SKLearn%20Simple%20Linear%20Regression%20Lab.ipynb\" target=\"_parent\"><img src=\"https://colab.research.google.com/assets/colab-badge.svg\" alt=\"Open In Colab\"/></a>"
      ]
    },
    {
      "cell_type": "markdown",
      "metadata": {
        "id": "cY_LnQFZOAFj",
        "colab_type": "text"
      },
      "source": [
        "# SKlearn Simple Linear Regression Lab"
      ]
    },
    {
      "cell_type": "markdown",
      "metadata": {
        "id": "y7jNMz7tOAFk",
        "colab_type": "text"
      },
      "source": [
        "### Introduction"
      ]
    },
    {
      "cell_type": "markdown",
      "metadata": {
        "id": "mvYW1dLFOAFk",
        "colab_type": "text"
      },
      "source": [
        "In this lesson, we'll NYC high school data to help predict the graduation rate of NYC schools.  In doing this, we'll look at a single feature, the economic need index of high schools."
      ]
    },
    {
      "cell_type": "markdown",
      "metadata": {
        "id": "5paaVMkiOAFl",
        "colab_type": "text"
      },
      "source": [
        "### Loading the Data"
      ]
    },
    {
      "cell_type": "markdown",
      "metadata": {
        "id": "mOKcuRo6OAFl",
        "colab_type": "text"
      },
      "source": [
        "Let's start by loading our data."
      ]
    },
    {
      "cell_type": "code",
      "metadata": {
        "id": "w0G2dd4ZOAFm",
        "colab_type": "code",
        "colab": {}
      },
      "source": [
        "import pandas as pd\n",
        "grad_rate_df = pd.read_csv('https://raw.githubusercontent.com/jigsawlabs-student/regression-fundamentals/master/12-using-ml-library-lab/econ_need_grad_rate.csv')"
      ],
      "execution_count": 0,
      "outputs": []
    },
    {
      "cell_type": "code",
      "metadata": {
        "id": "6ZNfIzvNOAFp",
        "colab_type": "code",
        "outputId": "248ed6f9-c4bf-4fac-eab2-542f9249b51e",
        "colab": {
          "base_uri": "https://localhost:8080/",
          "height": 35
        }
      },
      "source": [
        "grad_rate_df.shape"
      ],
      "execution_count": 0,
      "outputs": [
        {
          "output_type": "execute_result",
          "data": {
            "text/plain": [
              "(415, 2)"
            ]
          },
          "metadata": {
            "tags": []
          },
          "execution_count": 8
        }
      ]
    },
    {
      "cell_type": "markdown",
      "metadata": {
        "id": "7gYRPc1JOAFs",
        "colab_type": "text"
      },
      "source": [
        "For sklearn to be able to fit our data, each column must numeric.  Let's look at the datatypes of the columns in our `grad_rate_df`."
      ]
    },
    {
      "cell_type": "code",
      "metadata": {
        "id": "qxyf9AhBOTNi",
        "colab_type": "code",
        "outputId": "2cb9b577-ba39-4d69-e4d3-3644c5d6a303",
        "colab": {
          "base_uri": "https://localhost:8080/",
          "height": 69
        }
      },
      "source": [
        "grad_rate_df.dtypes"
      ],
      "execution_count": 0,
      "outputs": [
        {
          "output_type": "execute_result",
          "data": {
            "text/plain": [
              "Economic Need Index    float64\n",
              "graduation_rate        float64\n",
              "dtype: object"
            ]
          },
          "metadata": {
            "tags": []
          },
          "execution_count": 9
        }
      ]
    },
    {
      "cell_type": "code",
      "metadata": {
        "id": "luaua-GcOAFt",
        "colab_type": "code",
        "colab": {}
      },
      "source": [
        "# show datatypes here\n",
        "\n",
        "# Economic Need Index    float64\n",
        "# graduation_rate        float64\n",
        "# dtype: object"
      ],
      "execution_count": 0,
      "outputs": []
    },
    {
      "cell_type": "markdown",
      "metadata": {
        "id": "6JuCduvzOAFv",
        "colab_type": "text"
      },
      "source": [
        "Ok, so it looks like our data is already numeric.  Next, we also need to make sure that none of our data is labeled as not a number as sklearn also does not know how to handle this data.\n",
        "\n",
        "Count the amount of nan values across our columns."
      ]
    },
    {
      "cell_type": "code",
      "metadata": {
        "id": "iORc6bHyOAFw",
        "colab_type": "code",
        "outputId": "85abee4d-45e2-43c7-c6e0-cb91a093dbdf",
        "colab": {
          "base_uri": "https://localhost:8080/",
          "height": 69
        }
      },
      "source": [
        "grad_rate_df.isna().sum()\n",
        "\n",
        "# display amount of na values here\n",
        "\n",
        "# Economic Need Index     0\n",
        "# graduation_rate        13\n",
        "# dtype: int64"
      ],
      "execution_count": 0,
      "outputs": [
        {
          "output_type": "execute_result",
          "data": {
            "text/plain": [
              "Economic Need Index     0\n",
              "graduation_rate        13\n",
              "dtype: int64"
            ]
          },
          "metadata": {
            "tags": []
          },
          "execution_count": 10
        }
      ]
    },
    {
      "cell_type": "markdown",
      "metadata": {
        "id": "XdXaikbjOAFy",
        "colab_type": "text"
      },
      "source": [
        "Ok, so because our missing data is with our target, graduation rate, we can just remove these rows.  Remove the rows that have graduate rate listed as `nan`, and assign the resulting dataframe to `grad_rate_selected_df`."
      ]
    },
    {
      "cell_type": "code",
      "metadata": {
        "id": "l9oxWZZOOAFz",
        "colab_type": "code",
        "colab": {}
      },
      "source": [
        "grad_rate_selected_df = grad_rate_df.dropna()"
      ],
      "execution_count": 0,
      "outputs": []
    },
    {
      "cell_type": "code",
      "metadata": {
        "id": "6dg9mepgOAF2",
        "colab_type": "code",
        "outputId": "d1b0be9b-2748-42c5-fb52-71a830697a42",
        "colab": {
          "base_uri": "https://localhost:8080/",
          "height": 35
        }
      },
      "source": [
        "grad_rate_selected_df.shape\n",
        "# (402, 2)"
      ],
      "execution_count": 0,
      "outputs": [
        {
          "output_type": "execute_result",
          "data": {
            "text/plain": [
              "(402, 2)"
            ]
          },
          "metadata": {
            "tags": []
          },
          "execution_count": 32
        }
      ]
    },
    {
      "cell_type": "markdown",
      "metadata": {
        "id": "cHp5EGPqOAF4",
        "colab_type": "text"
      },
      "source": [
        "### Fitting our Model"
      ]
    },
    {
      "cell_type": "markdown",
      "metadata": {
        "id": "-cl_2gfFOAF4",
        "colab_type": "text"
      },
      "source": [
        "Ok, now it's time to fit a machine learning model.  Let's begin by separating our the features, `Economic Need Index`, and assign it to X.  And the graduation rate which we can assign to `y`."
      ]
    },
    {
      "cell_type": "markdown",
      "metadata": {
        "id": "EZM566KDOAF5",
        "colab_type": "text"
      },
      "source": [
        "> The X feature must be a sliced column.  Check that your X value matches the answer below. "
      ]
    },
    {
      "cell_type": "code",
      "metadata": {
        "id": "q_UqtPYqOAF5",
        "colab_type": "code",
        "colab": {}
      },
      "source": [
        "X = grad_rate_selected_df['Economic Need Index']"
      ],
      "execution_count": 0,
      "outputs": []
    },
    {
      "cell_type": "code",
      "metadata": {
        "id": "Ub3ToN3lOAF7",
        "colab_type": "code",
        "outputId": "df518519-4b12-4a79-b22b-5c460efad442",
        "colab": {
          "base_uri": "https://localhost:8080/",
          "height": 86
        }
      },
      "source": [
        "X[:3]\n",
        "# \tEconomic Need Index\n",
        "# 0\t0.730\n",
        "# 1\t0.903\n",
        "# 2\t0.58"
      ],
      "execution_count": 0,
      "outputs": [
        {
          "output_type": "execute_result",
          "data": {
            "text/plain": [
              "0    0.730\n",
              "1    0.903\n",
              "2    0.581\n",
              "Name: Economic Need Index, dtype: float64"
            ]
          },
          "metadata": {
            "tags": []
          },
          "execution_count": 47
        }
      ]
    },
    {
      "cell_type": "markdown",
      "metadata": {
        "id": "9E0t-bFcOAF-",
        "colab_type": "text"
      },
      "source": [
        "Make sure that the shape is correct."
      ]
    },
    {
      "cell_type": "code",
      "metadata": {
        "id": "KpD4_QTjQHJP",
        "colab_type": "code",
        "outputId": "4511a034-3b2f-4040-dd1c-ab7b05f54f5c",
        "colab": {
          "base_uri": "https://localhost:8080/",
          "height": 86
        }
      },
      "source": [
        "X.to_numpy()\n",
        "X[:3]"
      ],
      "execution_count": 0,
      "outputs": [
        {
          "output_type": "execute_result",
          "data": {
            "text/plain": [
              "0    0.730\n",
              "1    0.903\n",
              "2    0.581\n",
              "Name: Economic Need Index, dtype: float64"
            ]
          },
          "metadata": {
            "tags": []
          },
          "execution_count": 48
        }
      ]
    },
    {
      "cell_type": "code",
      "metadata": {
        "id": "dlMOzaVFQrE1",
        "colab_type": "code",
        "outputId": "9c4245b1-d93f-4740-896d-0cf854882531",
        "colab": {
          "base_uri": "https://localhost:8080/",
          "height": 69
        }
      },
      "source": [
        "X = X.to_numpy().reshape(-1,1)\n",
        "X[:3]"
      ],
      "execution_count": 0,
      "outputs": [
        {
          "output_type": "execute_result",
          "data": {
            "text/plain": [
              "array([[0.73 ],\n",
              "       [0.903],\n",
              "       [0.581]])"
            ]
          },
          "metadata": {
            "tags": []
          },
          "execution_count": 49
        }
      ]
    },
    {
      "cell_type": "code",
      "metadata": {
        "id": "2zjwupbhOAF-",
        "colab_type": "code",
        "outputId": "1287051b-2d0c-499b-c94e-7edaa9540d40",
        "colab": {
          "base_uri": "https://localhost:8080/",
          "height": 35
        }
      },
      "source": [
        "X.shape\n",
        "# (402, 1)"
      ],
      "execution_count": 0,
      "outputs": [
        {
          "output_type": "execute_result",
          "data": {
            "text/plain": [
              "(402, 1)"
            ]
          },
          "metadata": {
            "tags": []
          },
          "execution_count": 50
        }
      ]
    },
    {
      "cell_type": "markdown",
      "metadata": {
        "id": "B4HaVYT7OAGB",
        "colab_type": "text"
      },
      "source": [
        "The y data is just a vector (or list) of target values."
      ]
    },
    {
      "cell_type": "code",
      "metadata": {
        "id": "3dGs4fMgOAGB",
        "colab_type": "code",
        "colab": {}
      },
      "source": [
        "y = grad_rate_selected_df.graduation_rate"
      ],
      "execution_count": 0,
      "outputs": []
    },
    {
      "cell_type": "code",
      "metadata": {
        "id": "BxqLF2jLOAGE",
        "colab_type": "code",
        "outputId": "61e5bc44-5592-4069-bd46-f8ee6198c5bd",
        "colab": {
          "base_uri": "https://localhost:8080/",
          "height": 86
        }
      },
      "source": [
        "y[:3]\n",
        "# 0    0.74\n",
        "# 1    0.63\n",
        "# 2    0.96"
      ],
      "execution_count": 0,
      "outputs": [
        {
          "output_type": "execute_result",
          "data": {
            "text/plain": [
              "0    0.74\n",
              "1    0.63\n",
              "2    0.96\n",
              "Name: graduation_rate, dtype: float64"
            ]
          },
          "metadata": {
            "tags": []
          },
          "execution_count": 52
        }
      ]
    },
    {
      "cell_type": "code",
      "metadata": {
        "id": "_YJzTzmUOAGG",
        "colab_type": "code",
        "outputId": "925838c2-04a8-4d0d-94ff-4b4900a0bf6a",
        "colab": {
          "base_uri": "https://localhost:8080/",
          "height": 35
        }
      },
      "source": [
        "y.shape\n",
        "# (402,)"
      ],
      "execution_count": 0,
      "outputs": [
        {
          "output_type": "execute_result",
          "data": {
            "text/plain": [
              "(402,)"
            ]
          },
          "metadata": {
            "tags": []
          },
          "execution_count": 53
        }
      ]
    },
    {
      "cell_type": "markdown",
      "metadata": {
        "id": "6BoZDu0VOAGJ",
        "colab_type": "text"
      },
      "source": [
        "If your data is in the correct format, it's time to use sklearn.  Begin by loading the LinearRegression model from the library."
      ]
    },
    {
      "cell_type": "code",
      "metadata": {
        "id": "E7883LvbXENW",
        "colab_type": "code",
        "colab": {}
      },
      "source": [
        "import statsmodels.api as sm\n",
        "import statsmodels.formula.api as smf"
      ],
      "execution_count": 0,
      "outputs": []
    },
    {
      "cell_type": "code",
      "metadata": {
        "id": "QfaQINNhYH2h",
        "colab_type": "code",
        "outputId": "b53f1420-a2cd-4caf-da7f-bb8257ea8e55",
        "colab": {
          "base_uri": "https://localhost:8080/",
          "height": 35
        }
      },
      "source": [
        "grad_rate_selected_df.columns"
      ],
      "execution_count": 0,
      "outputs": [
        {
          "output_type": "execute_result",
          "data": {
            "text/plain": [
              "Index(['Economic Need Index', 'graduation_rate'], dtype='object')"
            ]
          },
          "metadata": {
            "tags": []
          },
          "execution_count": 74
        }
      ]
    },
    {
      "cell_type": "code",
      "metadata": {
        "id": "YVfBIwLHYApo",
        "colab_type": "code",
        "colab": {}
      },
      "source": [
        "econ = grad_rate_selected_df['Economic Need Index']\n",
        "grad = grad_rate_selected_df['graduation_rate']"
      ],
      "execution_count": 0,
      "outputs": []
    },
    {
      "cell_type": "code",
      "metadata": {
        "id": "0MnVomV0XElE",
        "colab_type": "code",
        "colab": {}
      },
      "source": [
        "results = smf.ols('grad ~ econ', data=grad_rate_selected_df).fit()"
      ],
      "execution_count": 0,
      "outputs": []
    },
    {
      "cell_type": "code",
      "metadata": {
        "id": "-0YlMOoKXEtN",
        "colab_type": "code",
        "outputId": "24683020-039d-4465-b659-c0b10919288c",
        "colab": {
          "base_uri": "https://localhost:8080/",
          "height": 469
        }
      },
      "source": [
        "print(results.summary())"
      ],
      "execution_count": 0,
      "outputs": [
        {
          "output_type": "stream",
          "text": [
            "                            OLS Regression Results                            \n",
            "==============================================================================\n",
            "Dep. Variable:                   grad   R-squared:                       0.371\n",
            "Model:                            OLS   Adj. R-squared:                  0.369\n",
            "Method:                 Least Squares   F-statistic:                     236.0\n",
            "Date:                Wed, 15 Apr 2020   Prob (F-statistic):           3.47e-42\n",
            "Time:                        01:09:10   Log-Likelihood:                 325.04\n",
            "No. Observations:                 402   AIC:                            -646.1\n",
            "Df Residuals:                     400   BIC:                            -638.1\n",
            "Df Model:                           1                                         \n",
            "Covariance Type:            nonrobust                                         \n",
            "==============================================================================\n",
            "                 coef    std err          t      P>|t|      [0.025      0.975]\n",
            "------------------------------------------------------------------------------\n",
            "Intercept      1.1169      0.022     51.049      0.000       1.074       1.160\n",
            "econ          -0.4915      0.032    -15.361      0.000      -0.554      -0.429\n",
            "==============================================================================\n",
            "Omnibus:                        0.981   Durbin-Watson:                   1.825\n",
            "Prob(Omnibus):                  0.612   Jarque-Bera (JB):                1.084\n",
            "Skew:                          -0.102   Prob(JB):                        0.581\n",
            "Kurtosis:                       2.848   Cond. No.                         8.60\n",
            "==============================================================================\n",
            "\n",
            "Warnings:\n",
            "[1] Standard Errors assume that the covariance matrix of the errors is correctly specified.\n"
          ],
          "name": "stdout"
        }
      ]
    },
    {
      "cell_type": "code",
      "metadata": {
        "id": "Z4Om9W9JOAGK",
        "colab_type": "code",
        "colab": {}
      },
      "source": [
        "from sklearn.linear_model import LinearRegression"
      ],
      "execution_count": 0,
      "outputs": []
    },
    {
      "cell_type": "markdown",
      "metadata": {
        "id": "oF6Zvb2gcW-H",
        "colab_type": "text"
      },
      "source": [
        ""
      ]
    },
    {
      "cell_type": "markdown",
      "metadata": {
        "id": "F68-Byw8OAGM",
        "colab_type": "text"
      },
      "source": [
        "Then create an instance of the linear regression model and assign it to the variable `model`."
      ]
    },
    {
      "cell_type": "code",
      "metadata": {
        "id": "vTDgPGJ7OAGM",
        "colab_type": "code",
        "outputId": "a24ef738-7ba7-4102-8256-f071c24f0e81",
        "colab": {
          "base_uri": "https://localhost:8080/",
          "height": 35
        }
      },
      "source": [
        "model = LinearRegression()\n",
        "model\n",
        "# LinearRegression(copy_X=True, fit_intercept=True, n_jobs=None, normalize=False)"
      ],
      "execution_count": 0,
      "outputs": [
        {
          "output_type": "execute_result",
          "data": {
            "text/plain": [
              "LinearRegression(copy_X=True, fit_intercept=True, n_jobs=None, normalize=False)"
            ]
          },
          "metadata": {
            "tags": []
          },
          "execution_count": 55
        }
      ]
    },
    {
      "cell_type": "markdown",
      "metadata": {
        "id": "iP-ktJUgOAGO",
        "colab_type": "text"
      },
      "source": [
        "Now call fit, passing through the feature and target data."
      ]
    },
    {
      "cell_type": "code",
      "metadata": {
        "id": "SJaTU9v4OAGO",
        "colab_type": "code",
        "outputId": "b3f8d568-1326-45c6-da9c-a5418a12b8a8",
        "colab": {
          "base_uri": "https://localhost:8080/",
          "height": 35
        }
      },
      "source": [
        "model.fit(X,y)\n",
        "# LinearRegression(copy_X=True, fit_intercept=True, n_jobs=None, normalize=False)"
      ],
      "execution_count": 0,
      "outputs": [
        {
          "output_type": "execute_result",
          "data": {
            "text/plain": [
              "LinearRegression(copy_X=True, fit_intercept=True, n_jobs=None, normalize=False)"
            ]
          },
          "metadata": {
            "tags": []
          },
          "execution_count": 57
        }
      ]
    },
    {
      "cell_type": "markdown",
      "metadata": {
        "id": "s8zQEKVaOAGQ",
        "colab_type": "text"
      },
      "source": [
        "Now take a look at the coefficient and intercept associated with the model."
      ]
    },
    {
      "cell_type": "code",
      "metadata": {
        "id": "4rpzBKXKOAGR",
        "colab_type": "code",
        "outputId": "a2c08532-58f8-46e3-9685-da40871ef905",
        "colab": {
          "base_uri": "https://localhost:8080/",
          "height": 35
        }
      },
      "source": [
        "model.coef_\n",
        "\n",
        "# array([-0.49152145])"
      ],
      "execution_count": 0,
      "outputs": [
        {
          "output_type": "execute_result",
          "data": {
            "text/plain": [
              "array([-0.49152145])"
            ]
          },
          "metadata": {
            "tags": []
          },
          "execution_count": 58
        }
      ]
    },
    {
      "cell_type": "code",
      "metadata": {
        "id": "x4GXJvsfOAGT",
        "colab_type": "code",
        "outputId": "140a6357-b592-4401-f94f-62f3af482e98",
        "colab": {
          "base_uri": "https://localhost:8080/",
          "height": 35
        }
      },
      "source": [
        "model.intercept_\n",
        "# 1.1168913738375528"
      ],
      "execution_count": 0,
      "outputs": [
        {
          "output_type": "execute_result",
          "data": {
            "text/plain": [
              "1.1168913738375528"
            ]
          },
          "metadata": {
            "tags": []
          },
          "execution_count": 59
        }
      ]
    },
    {
      "cell_type": "markdown",
      "metadata": {
        "id": "RWdKgbZ3OAGV",
        "colab_type": "text"
      },
      "source": [
        "Next make use the model to predictions for our feature data."
      ]
    },
    {
      "cell_type": "code",
      "metadata": {
        "id": "MsdKdhxTTGFZ",
        "colab_type": "code",
        "colab": {}
      },
      "source": [
        ""
      ],
      "execution_count": 0,
      "outputs": []
    },
    {
      "cell_type": "code",
      "metadata": {
        "id": "asHJiEPsOAGV",
        "colab_type": "code",
        "outputId": "7d5ba2e1-8692-4c15-91c2-35beae9615ff",
        "colab": {
          "base_uri": "https://localhost:8080/",
          "height": 52
        }
      },
      "source": [
        "predictions = model.predict(X)\n",
        "predictions[:10]\n",
        "# array([0.75808071, 0.6730475 , 0.83131741, 0.75660615, 0.96697733,\n",
        "#        0.79592786, 0.74136898, 0.97336711, 0.76299593, 0.70942009])\n"
      ],
      "execution_count": 0,
      "outputs": [
        {
          "output_type": "execute_result",
          "data": {
            "text/plain": [
              "array([0.75808071, 0.6730475 , 0.83131741, 0.75660615, 0.96697733,\n",
              "       0.79592786, 0.74136898, 0.97336711, 0.76299593, 0.70942009])"
            ]
          },
          "metadata": {
            "tags": []
          },
          "execution_count": 60
        }
      ]
    },
    {
      "cell_type": "markdown",
      "metadata": {
        "id": "q_WdEn9hOAGX",
        "colab_type": "text"
      },
      "source": [
        "These are the predicted graduation rates."
      ]
    },
    {
      "cell_type": "markdown",
      "metadata": {
        "id": "zxssTyfwOAGX",
        "colab_type": "text"
      },
      "source": [
        "We'll plot these predictions in plotly, then you can plot them in matplotlib below."
      ]
    },
    {
      "cell_type": "code",
      "metadata": {
        "id": "r7iJDcjGTOcn",
        "colab_type": "code",
        "colab": {}
      },
      "source": [
        "import pandas as pd\n",
        "X = pd.DataFrame(X)"
      ],
      "execution_count": 0,
      "outputs": []
    },
    {
      "cell_type": "code",
      "metadata": {
        "id": "JmVoy6WMOAGX",
        "colab_type": "code",
        "outputId": "fc188b23-92a7-48e9-ef4a-18642e0d0f8b",
        "colab": {
          "base_uri": "https://localhost:8080/",
          "height": 542
        }
      },
      "source": [
        "import pandas as pd\n",
        "import plotly.graph_objects as go\n",
        "predictions_trace = go.Scatter(x = X.iloc[:, 0], y = predictions, name = 'expected')\n",
        "observed_trace = go.Scatter(x = X.iloc[:, 0], y = y, mode = 'markers', name = 'observed')\n",
        "layout = {'title': 'Graduation Rate & Economic Need', 'xaxis': {'title': 'economic need index'}, 'yaxis': {'title': 'graduation rate'}}\n",
        "go.Figure(data = [observed_trace, predictions_trace], layout = layout)"
      ],
      "execution_count": 0,
      "outputs": [
        {
          "output_type": "display_data",
          "data": {
            "text/html": [
              "<html>\n",
              "<head><meta charset=\"utf-8\" /></head>\n",
              "<body>\n",
              "    <div>\n",
              "            <script src=\"https://cdnjs.cloudflare.com/ajax/libs/mathjax/2.7.5/MathJax.js?config=TeX-AMS-MML_SVG\"></script><script type=\"text/javascript\">if (window.MathJax) {MathJax.Hub.Config({SVG: {font: \"STIX-Web\"}});}</script>\n",
              "                <script type=\"text/javascript\">window.PlotlyConfig = {MathJaxConfig: 'local'};</script>\n",
              "        <script src=\"https://cdn.plot.ly/plotly-latest.min.js\"></script>    \n",
              "            <div id=\"def3f1d4-129c-4896-afc3-be312a9a2b2d\" class=\"plotly-graph-div\" style=\"height:525px; width:100%;\"></div>\n",
              "            <script type=\"text/javascript\">\n",
              "                \n",
              "                    window.PLOTLYENV=window.PLOTLYENV || {};\n",
              "                    \n",
              "                if (document.getElementById(\"def3f1d4-129c-4896-afc3-be312a9a2b2d\")) {\n",
              "                    Plotly.newPlot(\n",
              "                        'def3f1d4-129c-4896-afc3-be312a9a2b2d',\n",
              "                        [{\"mode\": \"markers\", \"name\": \"observed\", \"type\": \"scatter\", \"x\": [0.73, 0.903, 0.581, 0.733, 0.305, 0.653, 0.764, 0.292, 0.72, 0.8290000000000001, 0.249, 0.765, 0.685, 0.515, 0.784, 0.79, 0.449, 0.6559999999999999, 0.726, 0.306, 0.726, 0.319, 0.6559999999999999, 0.72, 0.618, 0.653, 0.378, 0.598, 0.726, 0.67, 0.655, 0.807, 0.34, 0.8590000000000001, 0.947, 0.743, 0.639, 0.659, 0.6890000000000001, 0.8759999999999999, 0.79, 0.6629999999999999, 0.26, 0.6920000000000001, 0.732, 0.815, 0.404, 0.875, 0.7759999999999999, 0.366, 0.7290000000000001, 0.818, 0.621, 0.476, 0.7120000000000001, 0.809, 0.6559999999999999, 0.5589999999999999, 0.778, 0.7929999999999999, 0.605, 0.933, 0.7509999999999999, 0.757, 0.585, 0.6679999999999999, 0.665, 0.8390000000000001, 0.928, 0.748, 0.619, 0.8690000000000001, 0.726, 0.7929999999999999, 0.495, 0.52, 0.812, 0.685, 0.753, 0.589, 0.476, 0.519, 0.631, 0.6940000000000001, 0.731, 0.458, 0.919, 0.507, 0.82, 0.422, 0.865, 0.8540000000000001, 0.765, 0.767, 0.376, 0.708, 0.6729999999999999, 0.61, 0.634, 0.838, 0.706, 0.6729999999999999, 0.736, 0.804, 0.875, 0.787, 0.7020000000000001, 0.789, 0.85, 0.594, 0.802, 0.618, 0.599, 0.628, 0.95, 0.923, 0.615, 0.434, 0.674, 0.828, 0.541, 0.287, 0.833, 0.7020000000000001, 0.616, 0.818, 0.383, 0.647, 0.487, 0.614, 0.685, 0.695, 0.818, 0.334, 0.674, 0.752, 0.499, 0.407, 0.815, 0.696, 0.816, 0.772, 0.6559999999999999, 0.6, 0.685, 0.67, 0.8009999999999999, 0.263, 0.726, 0.37, 0.6829999999999999, 0.417, 0.662, 0.364, 0.5579999999999999, 0.664, 0.733, 0.636, 0.6609999999999999, 0.733, 0.958, 0.7929999999999999, 0.359, 0.888, 0.561, 0.379, 0.539, 0.512, 0.937, 0.721, 0.858, 0.5579999999999999, 0.397, 0.525, 0.736, 0.657, 0.7659999999999999, 0.716, 0.5579999999999999, 0.687, 0.556, 0.8190000000000001, 0.77, 0.763, 0.63, 0.4320000000000001, 0.647, 0.6459999999999999, 0.86, 0.6920000000000001, 0.359, 0.705, 0.688, 0.7909999999999999, 0.823, 0.545, 0.5710000000000001, 0.5589999999999999, 0.8190000000000001, 0.753, 0.618, 0.648, 0.706, 0.502, 0.938, 0.83, 0.46, 0.628, 0.828, 0.669, 0.755, 0.451, 0.626, 0.421, 0.6859999999999999, 0.693, 0.266, 0.815, 0.419, 0.836, 0.611, 0.615, 0.769, 0.47, 0.868, 0.72, 0.664, 0.405, 0.631, 0.7809999999999999, 0.586, 0.6609999999999999, 0.708, 0.745, 0.898, 0.758, 0.8859999999999999, 0.777, 0.941, 0.687, 0.418, 0.7559999999999999, 0.615, 0.825, 0.642, 0.57, 0.614, 0.736, 0.5589999999999999, 0.828, 0.6859999999999999, 0.607, 0.7390000000000001, 0.792, 0.7070000000000001, 0.8740000000000001, 0.569, 0.78, 0.616, 0.32, 0.231, 0.875, 0.758, 0.805, 0.679, 0.731, 0.625, 0.857, 0.487, 0.6940000000000001, 0.861, 0.455, 0.858, 0.748, 0.779, 0.716, 0.37, 0.805, 0.511, 0.825, 0.5589999999999999, 0.472, 0.7859999999999999, 0.287, 0.841, 0.645, 0.6859999999999999, 0.6920000000000001, 0.8740000000000001, 0.765, 0.7, 0.757, 0.759, 0.826, 0.562, 0.7120000000000001, 0.8320000000000001, 0.906, 0.835, 0.8109999999999999, 0.195, 0.653, 0.792, 0.78, 0.6970000000000001, 0.7040000000000001, 0.831, 0.659, 0.581, 0.545, 0.741, 0.727, 0.6409999999999999, 0.773, 0.547, 0.677, 0.276, 0.866, 0.759, 0.505, 0.611, 0.294, 0.889, 0.923, 0.7759999999999999, 0.5870000000000001, 0.394, 0.764, 0.6509999999999999, 0.213, 0.393, 0.521, 0.802, 0.511, 0.833, 0.825, 0.95, 0.907, 0.259, 0.732, 0.743, 0.813, 0.621, 0.3670000000000001, 0.741, 0.605, 0.8320000000000001, 0.43, 0.6729999999999999, 0.693, 0.785, 0.77, 0.8440000000000001, 0.8490000000000001, 0.447, 0.7709999999999999, 0.953, 0.8370000000000001, 0.377, 0.536, 0.708, 0.624, 0.35100000000000003, 0.83, 0.619, 0.847, 0.955, 0.7190000000000001, 0.26, 0.711, 0.506, 0.7559999999999999, 0.726, 0.381, 0.6809999999999999, 0.795, 0.454, 0.953, 0.312, 0.589, 0.557, 0.376, 0.747, 0.78, 0.7490000000000001, 0.7659999999999999, 0.664, 0.284, 0.648, 0.7879999999999999, 0.818, 0.35100000000000003, 0.418, 0.46, 0.608, 0.677, 0.8140000000000001, 0.8320000000000001, 0.485, 0.792, 0.43, 0.363], \"y\": [0.74, 0.63, 0.96, 0.81, 0.99, 0.53, 0.73, 0.87, 0.81, 0.66, 0.98, 0.69, 0.89, 0.93, 0.81, 0.89, 0.97, 0.74, 0.64, 1.0, 0.68, 1.0, 0.61, 0.83, 0.76, 0.89, 0.99, 0.67, 0.66, 0.78, 0.83, 0.66, 0.99, 0.73, 0.62, 0.6, 0.73, 0.81, 0.71, 0.67, 0.76, 0.74, 0.97, 0.96, 0.91, 0.8, 0.99, 0.58, 0.73, 0.97, 0.7, 0.63, 0.93, 0.98, 0.74, 0.7, 0.94, 0.81, 0.54, 0.85, 0.77, 0.96, 0.69, 0.9, 0.93, 0.73, 0.8, 0.55, 0.61, 0.47, 0.64, 0.67, 0.75, 0.9, 0.89, 0.93, 0.73, 0.8, 0.67, 0.63, 0.71, 0.82, 0.99, 0.86, 0.78, 0.93, 0.67, 0.83, 0.66, 0.89, 0.46, 0.62, 0.57, 0.74, 0.97, 0.63, 0.82, 0.71, 0.69, 0.72, 0.63, 1.0, 0.77, 0.77, 0.8, 0.84, 1.0, 0.54, 0.53, 0.7, 0.51, 0.6, 0.84, 0.72, 0.57, 0.69, 0.9, 0.99, 0.82, 0.64, 0.83, 0.91, 0.71, 0.81, 0.9, 0.64, 0.99, 0.71, 0.87, 0.74, 0.76, 0.86, 0.66, 0.98, 0.83, 0.96, 0.98, 0.99, 0.87, 0.7, 0.96, 0.71, 0.96, 0.75, 0.65, 0.89, 0.73, 1.0, 0.77, 0.99, 0.78, 0.95, 0.95, 0.93, 0.91, 0.74, 0.61, 0.66, 0.86, 0.68, 0.79, 0.67, 0.97, 0.52, 0.8, 0.98, 0.81, 0.9, 0.63, 0.71, 0.92, 1.0, 0.93, 0.97, 0.77, 0.74, 0.65, 0.93, 0.92, 0.74, 0.84, 0.72, 0.6, 0.69, 0.64, 0.96, 0.92, 0.95, 0.55, 0.79, 0.91, 0.95, 1.0, 0.73, 0.68, 0.94, 0.91, 0.68, 0.91, 0.83, 0.71, 0.9, 0.59, 0.93, 0.73, 0.96, 0.98, 0.67, 0.73, 0.93, 0.83, 0.97, 0.87, 0.92, 0.8, 0.67, 0.99, 0.65, 0.98, 0.73, 0.97, 0.63, 0.68, 0.7, 0.85, 0.72, 0.59, 0.93, 0.73, 0.5, 0.92, 0.78, 0.75, 0.95, 0.9, 0.7, 0.73, 0.74, 0.77, 0.66, 0.9, 0.77, 0.97, 0.49, 0.81, 0.85, 0.9, 0.69, 0.87, 0.85, 0.91, 0.58, 0.73, 0.6, 0.83, 0.68, 0.84, 0.92, 0.86, 0.98, 0.89, 0.5, 0.75, 0.77, 0.81, 0.74, 0.8, 0.43, 0.67, 0.74, 0.78, 0.79, 0.54, 0.92, 0.89, 0.78, 0.86, 0.79, 0.93, 0.81, 0.68, 0.98, 0.56, 1.0, 0.8, 0.88, 0.89, 0.75, 0.69, 0.84, 0.74, 0.68, 0.67, 0.54, 0.73, 0.67, 0.66, 0.77, 0.66, 0.85, 1.0, 0.72, 0.67, 0.72, 0.79, 0.54, 0.64, 0.84, 0.8, 0.96, 0.73, 0.64, 0.96, 0.63, 0.88, 0.64, 0.99, 0.65, 0.48, 0.77, 0.85, 0.93, 0.88, 0.66, 0.91, 0.96, 0.86, 0.78, 0.86, 0.99, 0.98, 0.84, 0.86, 0.98, 0.64, 0.53, 0.62, 0.58, 0.99, 0.82, 0.76, 0.68, 0.85, 0.66, 0.71, 0.75, 0.83, 0.89, 0.95, 0.84, 0.77, 0.98, 0.73, 0.74, 0.88, 0.92, 0.8, 0.5, 0.96, 0.82, 0.67, 0.75, 1.0, 0.73, 0.95, 0.79, 0.62, 0.97, 1.0, 0.76, 0.85, 0.72, 0.87, 0.98, 0.97, 0.86, 0.8, 0.39, 0.97, 0.73, 0.73, 0.93, 0.93, 0.64, 0.75, 0.82, 0.65, 0.91, 0.76, 0.7, 0.63, 0.94, 0.86, 1.0, 0.9, 0.66, 0.8, 0.69, 0.78, 0.63, 0.98, 0.99]}, {\"name\": \"expected\", \"type\": \"scatter\", \"x\": [0.73, 0.903, 0.581, 0.733, 0.305, 0.653, 0.764, 0.292, 0.72, 0.8290000000000001, 0.249, 0.765, 0.685, 0.515, 0.784, 0.79, 0.449, 0.6559999999999999, 0.726, 0.306, 0.726, 0.319, 0.6559999999999999, 0.72, 0.618, 0.653, 0.378, 0.598, 0.726, 0.67, 0.655, 0.807, 0.34, 0.8590000000000001, 0.947, 0.743, 0.639, 0.659, 0.6890000000000001, 0.8759999999999999, 0.79, 0.6629999999999999, 0.26, 0.6920000000000001, 0.732, 0.815, 0.404, 0.875, 0.7759999999999999, 0.366, 0.7290000000000001, 0.818, 0.621, 0.476, 0.7120000000000001, 0.809, 0.6559999999999999, 0.5589999999999999, 0.778, 0.7929999999999999, 0.605, 0.933, 0.7509999999999999, 0.757, 0.585, 0.6679999999999999, 0.665, 0.8390000000000001, 0.928, 0.748, 0.619, 0.8690000000000001, 0.726, 0.7929999999999999, 0.495, 0.52, 0.812, 0.685, 0.753, 0.589, 0.476, 0.519, 0.631, 0.6940000000000001, 0.731, 0.458, 0.919, 0.507, 0.82, 0.422, 0.865, 0.8540000000000001, 0.765, 0.767, 0.376, 0.708, 0.6729999999999999, 0.61, 0.634, 0.838, 0.706, 0.6729999999999999, 0.736, 0.804, 0.875, 0.787, 0.7020000000000001, 0.789, 0.85, 0.594, 0.802, 0.618, 0.599, 0.628, 0.95, 0.923, 0.615, 0.434, 0.674, 0.828, 0.541, 0.287, 0.833, 0.7020000000000001, 0.616, 0.818, 0.383, 0.647, 0.487, 0.614, 0.685, 0.695, 0.818, 0.334, 0.674, 0.752, 0.499, 0.407, 0.815, 0.696, 0.816, 0.772, 0.6559999999999999, 0.6, 0.685, 0.67, 0.8009999999999999, 0.263, 0.726, 0.37, 0.6829999999999999, 0.417, 0.662, 0.364, 0.5579999999999999, 0.664, 0.733, 0.636, 0.6609999999999999, 0.733, 0.958, 0.7929999999999999, 0.359, 0.888, 0.561, 0.379, 0.539, 0.512, 0.937, 0.721, 0.858, 0.5579999999999999, 0.397, 0.525, 0.736, 0.657, 0.7659999999999999, 0.716, 0.5579999999999999, 0.687, 0.556, 0.8190000000000001, 0.77, 0.763, 0.63, 0.4320000000000001, 0.647, 0.6459999999999999, 0.86, 0.6920000000000001, 0.359, 0.705, 0.688, 0.7909999999999999, 0.823, 0.545, 0.5710000000000001, 0.5589999999999999, 0.8190000000000001, 0.753, 0.618, 0.648, 0.706, 0.502, 0.938, 0.83, 0.46, 0.628, 0.828, 0.669, 0.755, 0.451, 0.626, 0.421, 0.6859999999999999, 0.693, 0.266, 0.815, 0.419, 0.836, 0.611, 0.615, 0.769, 0.47, 0.868, 0.72, 0.664, 0.405, 0.631, 0.7809999999999999, 0.586, 0.6609999999999999, 0.708, 0.745, 0.898, 0.758, 0.8859999999999999, 0.777, 0.941, 0.687, 0.418, 0.7559999999999999, 0.615, 0.825, 0.642, 0.57, 0.614, 0.736, 0.5589999999999999, 0.828, 0.6859999999999999, 0.607, 0.7390000000000001, 0.792, 0.7070000000000001, 0.8740000000000001, 0.569, 0.78, 0.616, 0.32, 0.231, 0.875, 0.758, 0.805, 0.679, 0.731, 0.625, 0.857, 0.487, 0.6940000000000001, 0.861, 0.455, 0.858, 0.748, 0.779, 0.716, 0.37, 0.805, 0.511, 0.825, 0.5589999999999999, 0.472, 0.7859999999999999, 0.287, 0.841, 0.645, 0.6859999999999999, 0.6920000000000001, 0.8740000000000001, 0.765, 0.7, 0.757, 0.759, 0.826, 0.562, 0.7120000000000001, 0.8320000000000001, 0.906, 0.835, 0.8109999999999999, 0.195, 0.653, 0.792, 0.78, 0.6970000000000001, 0.7040000000000001, 0.831, 0.659, 0.581, 0.545, 0.741, 0.727, 0.6409999999999999, 0.773, 0.547, 0.677, 0.276, 0.866, 0.759, 0.505, 0.611, 0.294, 0.889, 0.923, 0.7759999999999999, 0.5870000000000001, 0.394, 0.764, 0.6509999999999999, 0.213, 0.393, 0.521, 0.802, 0.511, 0.833, 0.825, 0.95, 0.907, 0.259, 0.732, 0.743, 0.813, 0.621, 0.3670000000000001, 0.741, 0.605, 0.8320000000000001, 0.43, 0.6729999999999999, 0.693, 0.785, 0.77, 0.8440000000000001, 0.8490000000000001, 0.447, 0.7709999999999999, 0.953, 0.8370000000000001, 0.377, 0.536, 0.708, 0.624, 0.35100000000000003, 0.83, 0.619, 0.847, 0.955, 0.7190000000000001, 0.26, 0.711, 0.506, 0.7559999999999999, 0.726, 0.381, 0.6809999999999999, 0.795, 0.454, 0.953, 0.312, 0.589, 0.557, 0.376, 0.747, 0.78, 0.7490000000000001, 0.7659999999999999, 0.664, 0.284, 0.648, 0.7879999999999999, 0.818, 0.35100000000000003, 0.418, 0.46, 0.608, 0.677, 0.8140000000000001, 0.8320000000000001, 0.485, 0.792, 0.43, 0.363], \"y\": [0.7580807124723465, 0.6730475009433319, 0.8313174091071626, 0.7566061481105717, 0.9669773303904461, 0.7959278644245669, 0.7413689830388985, 0.9733671092914703, 0.7629959270115959, 0.7094200885337774, 0.9945025318102427, 0.7408774615849736, 0.7801991778989688, 0.8637578250662086, 0.7315385539603997, 0.7285894252368501, 0.8961982410252547, 0.794453300062792, 0.7600467982880463, 0.9664858089365211, 0.7600467982880463, 0.9600960300354968, 0.794453300062792, 0.7629959270115959, 0.8131311153119398, 0.7959278644245669, 0.9310962642539254, 0.8229615443904386, 0.7600467982880463, 0.7875719997078429, 0.794944821516717, 0.720233560520126, 0.9497740795030731, 0.6946744449160291, 0.6514205569706345, 0.7516909335713222, 0.802809164779516, 0.7929787357010172, 0.778233092083269, 0.6863185801993053, 0.7285894252368501, 0.7910126498853175, 0.9890957958170683, 0.7767585277214941, 0.7570976695644966, 0.7163013888887266, 0.9183167064518769, 0.6868101016532302, 0.7354707255917993, 0.9369945217010247, 0.7585722339262714, 0.7148268245269518, 0.811656550950165, 0.8829271617692813, 0.7669280986429954, 0.7192505176122762, 0.794453300062792, 0.8421308810935113, 0.7344876826839493, 0.7271148608750753, 0.8195208942129639, 0.6583018573255837, 0.7477587619399229, 0.7448096332163732, 0.8293513232914629, 0.7885550426156929, 0.7900296069774675, 0.704504873994528, 0.6607594645952083, 0.7492333263016975, 0.8126395938580149, 0.6897592303767798, 0.7600467982880463, 0.7271148608750753, 0.8735882541447074, 0.8613002177965838, 0.7177759532505014, 0.7801991778989688, 0.7467757190320728, 0.8273852374757631, 0.8829271617692813, 0.8617917392505088, 0.8067413364109155, 0.7757754848136442, 0.7575891910184216, 0.8917745479399302, 0.6651831576805327, 0.8676899966976082, 0.7138437816191019, 0.9094693202812281, 0.6917253161924796, 0.6971320521856539, 0.7408774615849736, 0.7398944186771237, 0.9320793071617752, 0.7688941844586952, 0.7860974353460681, 0.8170632869433393, 0.8052667720491407, 0.7049963954484529, 0.7698772273665451, 0.7860974353460681, 0.7551315837487969, 0.7217081248819008, 0.6868101016532302, 0.730063989598625, 0.7718433131822448, 0.7290809466907751, 0.6990981380013537, 0.8249276302061384, 0.7226911677897507, 0.8131311153119398, 0.8224700229365136, 0.8082159007726903, 0.6499459926088597, 0.663217071864833, 0.8146056796737147, 0.9035710628341287, 0.7856059138921432, 0.7099116099877023, 0.8509782672641601, 0.9758247165610949, 0.7074540027180777, 0.7718433131822448, 0.8141141582197897, 0.7148268245269518, 0.9286386569843007, 0.7988769931481166, 0.8775204257761069, 0.8150972011276396, 0.7801991778989688, 0.7752839633597194, 0.7148268245269518, 0.9527232082266228, 0.7856059138921432, 0.7472672404859978, 0.8716221683290076, 0.9168421420901022, 0.7163013888887266, 0.7747924419057945, 0.7158098674348017, 0.737436811407499, 0.794453300062792, 0.8219785014825887, 0.7801991778989688, 0.7875719997078429, 0.7231826892436758, 0.9876212314552935, 0.7600467982880463, 0.9350284358853249, 0.7811822208068187, 0.9119269275508528, 0.7915041713392423, 0.9379775646088746, 0.8426224025474363, 0.7905211284313924, 0.7566061481105717, 0.8042837291412909, 0.7919956927931674, 0.7566061481105717, 0.6460138209774602, 0.7271148608750753, 0.9404351718784992, 0.6804203227522059, 0.8411478381856614, 0.9306047428000005, 0.85196131017201, 0.8652323894279834, 0.6563357715098839, 0.762504405557671, 0.6951659663699541, 0.8426224025474363, 0.9217573566293515, 0.8588426105269592, 0.7551315837487969, 0.7939617786088671, 0.7403859401310486, 0.7649620128272956, 0.8426224025474363, 0.7792161349911189, 0.843605445455286, 0.7143353030730268, 0.7384198543153488, 0.7418605044928235, 0.8072328578648404, 0.9045541057419786, 0.7988769931481166, 0.7993685146020415, 0.6941829234621042, 0.7767585277214941, 0.9404351718784992, 0.77036874882047, 0.7787246135371939, 0.7280979037829252, 0.712369217257327, 0.8490121814484604, 0.8362326236464119, 0.8421308810935113, 0.7143353030730268, 0.7467757190320728, 0.8131311153119398, 0.7983854716941916, 0.7698772273665451, 0.8701476039672329, 0.6558442500559589, 0.7089285670798524, 0.8907915050320803, 0.8082159007726903, 0.7099116099877023, 0.7880635211617678, 0.745792676124223, 0.8952151981174048, 0.8091989436805402, 0.909960841735153, 0.7797076564450438, 0.7762670062675693, 0.9861466670935187, 0.7163013888887266, 0.9109438846430029, 0.7059794383563028, 0.8165717654894143, 0.8146056796737147, 0.7389113757692738, 0.8858762904928309, 0.6902507518307047, 0.7629959270115959, 0.7905211284313924, 0.917825184997952, 0.8067413364109155, 0.7330131183221746, 0.8288598018375379, 0.7919956927931674, 0.7688941844586952, 0.7507078906634723, 0.6755051082129565, 0.7443181117624482, 0.6814033656600559, 0.7349792041378742, 0.6543696856941841, 0.7792161349911189, 0.9114354060969279, 0.7453011546702981, 0.8146056796737147, 0.7113861743494772, 0.8013346004177412, 0.8367241451003369, 0.8150972011276396, 0.7551315837487969, 0.8421308810935113, 0.7099116099877023, 0.7797076564450438, 0.8185378513051141, 0.753657019387022, 0.7276063823290002, 0.7693857059126201, 0.687301623107155, 0.8372156665542618, 0.7335046397760995, 0.8141141582197897, 0.9596045085815719, 1.0033499179808916, 0.6868101016532302, 0.7443181117624482, 0.7212166034279759, 0.7831483066225184, 0.7575891910184216, 0.8096904651344652, 0.695657487823879, 0.8775204257761069, 0.7757754848136442, 0.6936914020081794, 0.893249112301705, 0.6951659663699541, 0.7492333263016975, 0.7339961612300244, 0.7649620128272956, 0.9350284358853249, 0.7212166034279759, 0.8657239108819084, 0.7113861743494772, 0.8421308810935113, 0.8848932475849811, 0.7305555110525499, 0.9758247165610949, 0.7035218310866782, 0.7998600360559665, 0.7797076564450438, 0.7767585277214941, 0.687301623107155, 0.7408774615849736, 0.7728263560900948, 0.7448096332163732, 0.7438265903085233, 0.7108946528955522, 0.8406563167317365, 0.7669280986429954, 0.7079455241720025, 0.671572936581557, 0.7064709598102278, 0.7182674747044264, 1.0210446903221895, 0.7959278644245669, 0.7276063823290002, 0.7335046397760995, 0.7743009204518695, 0.770860270274395, 0.7084370456259276, 0.7929787357010172, 0.8313174091071626, 0.8490121814484604, 0.7526739764791721, 0.7595552768341214, 0.8018261218716662, 0.736945289953574, 0.8480291385406105, 0.7841313495303683, 0.9812314525542692, 0.6912337947385546, 0.7438265903085233, 0.868673039605458, 0.8165717654894143, 0.9723840663836204, 0.6799288012982809, 0.663217071864833, 0.7354707255917993, 0.8283682803836129, 0.9232319209911264, 0.7413689830388985, 0.7969109073324168, 1.0121973041515404, 0.9237234424450513, 0.8608086963426589, 0.7226911677897507, 0.8657239108819084, 0.7074540027180777, 0.7113861743494772, 0.6499459926088597, 0.6710814151276321, 0.9895873172709932, 0.7570976695644966, 0.7516909335713222, 0.7172844317965765, 0.811656550950165, 0.9365030002470998, 0.7526739764791721, 0.8195208942129639, 0.7079455241720025, 0.9055371486498285, 0.7860974353460681, 0.7762670062675693, 0.7310470325064747, 0.7384198543153488, 0.7020472667249033, 0.6995896594552786, 0.8971812839331046, 0.737928332861424, 0.6484714282470849, 0.7054879169023778, 0.9315877857078503, 0.8534358745337849, 0.7688941844586952, 0.8101819865883901, 0.9443673435098987, 0.7089285670798524, 0.8126395938580149, 0.7005727023631285, 0.647488385339235, 0.7634874484655207, 0.9890957958170683, 0.7674196200969203, 0.8681815181515331, 0.7453011546702981, 0.7600467982880463, 0.9296216998921506, 0.7821652637146685, 0.7261318179672254, 0.89374063375563, 0.6484714282470849, 0.9635366802129715, 0.8273852374757631, 0.8431139240013611, 0.9320793071617752, 0.7497248477556224, 0.7335046397760995, 0.7487418048477725, 0.7403859401310486, 0.7905211284313924, 0.9772992809228698, 0.7983854716941916, 0.7295724681447, 0.7148268245269518, 0.9443673435098987, 0.9114354060969279, 0.8907915050320803, 0.8180463298511892, 0.7841313495303683, 0.7167929103426515, 0.7079455241720025, 0.8785034686839568, 0.7276063823290002, 0.9055371486498285, 0.9384690860627996]}],\n",
              "                        {\"template\": {\"data\": {\"bar\": [{\"error_x\": {\"color\": \"#2a3f5f\"}, \"error_y\": {\"color\": \"#2a3f5f\"}, \"marker\": {\"line\": {\"color\": \"#E5ECF6\", \"width\": 0.5}}, \"type\": \"bar\"}], \"barpolar\": [{\"marker\": {\"line\": {\"color\": \"#E5ECF6\", \"width\": 0.5}}, \"type\": \"barpolar\"}], \"carpet\": [{\"aaxis\": {\"endlinecolor\": \"#2a3f5f\", \"gridcolor\": \"white\", \"linecolor\": \"white\", \"minorgridcolor\": \"white\", \"startlinecolor\": \"#2a3f5f\"}, \"baxis\": {\"endlinecolor\": \"#2a3f5f\", \"gridcolor\": \"white\", \"linecolor\": \"white\", \"minorgridcolor\": \"white\", \"startlinecolor\": \"#2a3f5f\"}, \"type\": \"carpet\"}], \"choropleth\": [{\"colorbar\": {\"outlinewidth\": 0, \"ticks\": \"\"}, \"type\": \"choropleth\"}], \"contour\": [{\"colorbar\": {\"outlinewidth\": 0, \"ticks\": \"\"}, \"colorscale\": [[0.0, \"#0d0887\"], [0.1111111111111111, \"#46039f\"], [0.2222222222222222, \"#7201a8\"], [0.3333333333333333, \"#9c179e\"], [0.4444444444444444, \"#bd3786\"], [0.5555555555555556, \"#d8576b\"], [0.6666666666666666, \"#ed7953\"], [0.7777777777777778, \"#fb9f3a\"], [0.8888888888888888, \"#fdca26\"], [1.0, \"#f0f921\"]], \"type\": \"contour\"}], \"contourcarpet\": [{\"colorbar\": {\"outlinewidth\": 0, \"ticks\": \"\"}, \"type\": \"contourcarpet\"}], \"heatmap\": [{\"colorbar\": {\"outlinewidth\": 0, \"ticks\": \"\"}, \"colorscale\": [[0.0, \"#0d0887\"], [0.1111111111111111, \"#46039f\"], [0.2222222222222222, \"#7201a8\"], [0.3333333333333333, \"#9c179e\"], [0.4444444444444444, \"#bd3786\"], [0.5555555555555556, \"#d8576b\"], [0.6666666666666666, \"#ed7953\"], [0.7777777777777778, \"#fb9f3a\"], [0.8888888888888888, \"#fdca26\"], [1.0, \"#f0f921\"]], \"type\": \"heatmap\"}], \"heatmapgl\": [{\"colorbar\": {\"outlinewidth\": 0, \"ticks\": \"\"}, \"colorscale\": [[0.0, \"#0d0887\"], [0.1111111111111111, \"#46039f\"], [0.2222222222222222, \"#7201a8\"], [0.3333333333333333, \"#9c179e\"], [0.4444444444444444, \"#bd3786\"], [0.5555555555555556, \"#d8576b\"], [0.6666666666666666, \"#ed7953\"], [0.7777777777777778, \"#fb9f3a\"], [0.8888888888888888, \"#fdca26\"], [1.0, \"#f0f921\"]], \"type\": \"heatmapgl\"}], \"histogram\": [{\"marker\": {\"colorbar\": {\"outlinewidth\": 0, \"ticks\": \"\"}}, \"type\": \"histogram\"}], \"histogram2d\": [{\"colorbar\": {\"outlinewidth\": 0, \"ticks\": \"\"}, \"colorscale\": [[0.0, \"#0d0887\"], [0.1111111111111111, \"#46039f\"], [0.2222222222222222, \"#7201a8\"], [0.3333333333333333, \"#9c179e\"], [0.4444444444444444, \"#bd3786\"], [0.5555555555555556, \"#d8576b\"], [0.6666666666666666, \"#ed7953\"], [0.7777777777777778, \"#fb9f3a\"], [0.8888888888888888, \"#fdca26\"], [1.0, \"#f0f921\"]], \"type\": \"histogram2d\"}], \"histogram2dcontour\": [{\"colorbar\": {\"outlinewidth\": 0, \"ticks\": \"\"}, \"colorscale\": [[0.0, \"#0d0887\"], [0.1111111111111111, \"#46039f\"], [0.2222222222222222, \"#7201a8\"], [0.3333333333333333, \"#9c179e\"], [0.4444444444444444, \"#bd3786\"], [0.5555555555555556, \"#d8576b\"], [0.6666666666666666, \"#ed7953\"], [0.7777777777777778, \"#fb9f3a\"], [0.8888888888888888, \"#fdca26\"], [1.0, \"#f0f921\"]], \"type\": \"histogram2dcontour\"}], \"mesh3d\": [{\"colorbar\": {\"outlinewidth\": 0, \"ticks\": \"\"}, \"type\": \"mesh3d\"}], \"parcoords\": [{\"line\": {\"colorbar\": {\"outlinewidth\": 0, \"ticks\": \"\"}}, \"type\": \"parcoords\"}], \"pie\": [{\"automargin\": true, \"type\": \"pie\"}], \"scatter\": [{\"marker\": {\"colorbar\": {\"outlinewidth\": 0, \"ticks\": \"\"}}, \"type\": \"scatter\"}], \"scatter3d\": [{\"line\": {\"colorbar\": {\"outlinewidth\": 0, \"ticks\": \"\"}}, \"marker\": {\"colorbar\": {\"outlinewidth\": 0, \"ticks\": \"\"}}, \"type\": \"scatter3d\"}], \"scattercarpet\": [{\"marker\": {\"colorbar\": {\"outlinewidth\": 0, \"ticks\": \"\"}}, \"type\": \"scattercarpet\"}], \"scattergeo\": [{\"marker\": {\"colorbar\": {\"outlinewidth\": 0, \"ticks\": \"\"}}, \"type\": \"scattergeo\"}], \"scattergl\": [{\"marker\": {\"colorbar\": {\"outlinewidth\": 0, \"ticks\": \"\"}}, \"type\": \"scattergl\"}], \"scattermapbox\": [{\"marker\": {\"colorbar\": {\"outlinewidth\": 0, \"ticks\": \"\"}}, \"type\": \"scattermapbox\"}], \"scatterpolar\": [{\"marker\": {\"colorbar\": {\"outlinewidth\": 0, \"ticks\": \"\"}}, \"type\": \"scatterpolar\"}], \"scatterpolargl\": [{\"marker\": {\"colorbar\": {\"outlinewidth\": 0, \"ticks\": \"\"}}, \"type\": \"scatterpolargl\"}], \"scatterternary\": [{\"marker\": {\"colorbar\": {\"outlinewidth\": 0, \"ticks\": \"\"}}, \"type\": \"scatterternary\"}], \"surface\": [{\"colorbar\": {\"outlinewidth\": 0, \"ticks\": \"\"}, \"colorscale\": [[0.0, \"#0d0887\"], [0.1111111111111111, \"#46039f\"], [0.2222222222222222, \"#7201a8\"], [0.3333333333333333, \"#9c179e\"], [0.4444444444444444, \"#bd3786\"], [0.5555555555555556, \"#d8576b\"], [0.6666666666666666, \"#ed7953\"], [0.7777777777777778, \"#fb9f3a\"], [0.8888888888888888, \"#fdca26\"], [1.0, \"#f0f921\"]], \"type\": \"surface\"}], \"table\": [{\"cells\": {\"fill\": {\"color\": \"#EBF0F8\"}, \"line\": {\"color\": \"white\"}}, \"header\": {\"fill\": {\"color\": \"#C8D4E3\"}, \"line\": {\"color\": \"white\"}}, \"type\": \"table\"}]}, \"layout\": {\"annotationdefaults\": {\"arrowcolor\": \"#2a3f5f\", \"arrowhead\": 0, \"arrowwidth\": 1}, \"coloraxis\": {\"colorbar\": {\"outlinewidth\": 0, \"ticks\": \"\"}}, \"colorscale\": {\"diverging\": [[0, \"#8e0152\"], [0.1, \"#c51b7d\"], [0.2, \"#de77ae\"], [0.3, \"#f1b6da\"], [0.4, \"#fde0ef\"], [0.5, \"#f7f7f7\"], [0.6, \"#e6f5d0\"], [0.7, \"#b8e186\"], [0.8, \"#7fbc41\"], [0.9, \"#4d9221\"], [1, \"#276419\"]], \"sequential\": [[0.0, \"#0d0887\"], [0.1111111111111111, \"#46039f\"], [0.2222222222222222, \"#7201a8\"], [0.3333333333333333, \"#9c179e\"], [0.4444444444444444, \"#bd3786\"], [0.5555555555555556, \"#d8576b\"], [0.6666666666666666, \"#ed7953\"], [0.7777777777777778, \"#fb9f3a\"], [0.8888888888888888, \"#fdca26\"], [1.0, \"#f0f921\"]], \"sequentialminus\": [[0.0, \"#0d0887\"], [0.1111111111111111, \"#46039f\"], [0.2222222222222222, \"#7201a8\"], [0.3333333333333333, \"#9c179e\"], [0.4444444444444444, \"#bd3786\"], [0.5555555555555556, \"#d8576b\"], [0.6666666666666666, \"#ed7953\"], [0.7777777777777778, \"#fb9f3a\"], [0.8888888888888888, \"#fdca26\"], [1.0, \"#f0f921\"]]}, \"colorway\": [\"#636efa\", \"#EF553B\", \"#00cc96\", \"#ab63fa\", \"#FFA15A\", \"#19d3f3\", \"#FF6692\", \"#B6E880\", \"#FF97FF\", \"#FECB52\"], \"font\": {\"color\": \"#2a3f5f\"}, \"geo\": {\"bgcolor\": \"white\", \"lakecolor\": \"white\", \"landcolor\": \"#E5ECF6\", \"showlakes\": true, \"showland\": true, \"subunitcolor\": \"white\"}, \"hoverlabel\": {\"align\": \"left\"}, \"hovermode\": \"closest\", \"mapbox\": {\"style\": \"light\"}, \"paper_bgcolor\": \"white\", \"plot_bgcolor\": \"#E5ECF6\", \"polar\": {\"angularaxis\": {\"gridcolor\": \"white\", \"linecolor\": \"white\", \"ticks\": \"\"}, \"bgcolor\": \"#E5ECF6\", \"radialaxis\": {\"gridcolor\": \"white\", \"linecolor\": \"white\", \"ticks\": \"\"}}, \"scene\": {\"xaxis\": {\"backgroundcolor\": \"#E5ECF6\", \"gridcolor\": \"white\", \"gridwidth\": 2, \"linecolor\": \"white\", \"showbackground\": true, \"ticks\": \"\", \"zerolinecolor\": \"white\"}, \"yaxis\": {\"backgroundcolor\": \"#E5ECF6\", \"gridcolor\": \"white\", \"gridwidth\": 2, \"linecolor\": \"white\", \"showbackground\": true, \"ticks\": \"\", \"zerolinecolor\": \"white\"}, \"zaxis\": {\"backgroundcolor\": \"#E5ECF6\", \"gridcolor\": \"white\", \"gridwidth\": 2, \"linecolor\": \"white\", \"showbackground\": true, \"ticks\": \"\", \"zerolinecolor\": \"white\"}}, \"shapedefaults\": {\"line\": {\"color\": \"#2a3f5f\"}}, \"ternary\": {\"aaxis\": {\"gridcolor\": \"white\", \"linecolor\": \"white\", \"ticks\": \"\"}, \"baxis\": {\"gridcolor\": \"white\", \"linecolor\": \"white\", \"ticks\": \"\"}, \"bgcolor\": \"#E5ECF6\", \"caxis\": {\"gridcolor\": \"white\", \"linecolor\": \"white\", \"ticks\": \"\"}}, \"title\": {\"x\": 0.05}, \"xaxis\": {\"automargin\": true, \"gridcolor\": \"white\", \"linecolor\": \"white\", \"ticks\": \"\", \"title\": {\"standoff\": 15}, \"zerolinecolor\": \"white\", \"zerolinewidth\": 2}, \"yaxis\": {\"automargin\": true, \"gridcolor\": \"white\", \"linecolor\": \"white\", \"ticks\": \"\", \"title\": {\"standoff\": 15}, \"zerolinecolor\": \"white\", \"zerolinewidth\": 2}}}, \"title\": {\"text\": \"Graduation Rate & Economic Need\"}, \"xaxis\": {\"title\": {\"text\": \"economic need index\"}}, \"yaxis\": {\"title\": {\"text\": \"graduation rate\"}}},\n",
              "                        {\"responsive\": true}\n",
              "                    ).then(function(){\n",
              "                            \n",
              "var gd = document.getElementById('def3f1d4-129c-4896-afc3-be312a9a2b2d');\n",
              "var x = new MutationObserver(function (mutations, observer) {{\n",
              "        var display = window.getComputedStyle(gd).display;\n",
              "        if (!display || display === 'none') {{\n",
              "            console.log([gd, 'removed!']);\n",
              "            Plotly.purge(gd);\n",
              "            observer.disconnect();\n",
              "        }}\n",
              "}});\n",
              "\n",
              "// Listen for the removal of the full notebook cells\n",
              "var notebookContainer = gd.closest('#notebook-container');\n",
              "if (notebookContainer) {{\n",
              "    x.observe(notebookContainer, {childList: true});\n",
              "}}\n",
              "\n",
              "// Listen for the clearing of the current output cell\n",
              "var outputEl = gd.closest('.output');\n",
              "if (outputEl) {{\n",
              "    x.observe(outputEl, {childList: true});\n",
              "}}\n",
              "\n",
              "                        })\n",
              "                };\n",
              "                \n",
              "            </script>\n",
              "        </div>\n",
              "</body>\n",
              "</html>"
            ]
          },
          "metadata": {
            "tags": []
          }
        }
      ]
    },
    {
      "cell_type": "markdown",
      "metadata": {
        "id": "P2PGP8RTOAGb",
        "colab_type": "text"
      },
      "source": [
        "Plot in matplotlib below."
      ]
    },
    {
      "cell_type": "code",
      "metadata": {
        "id": "ujh5iAiyOAGc",
        "colab_type": "code",
        "outputId": "ec195640-300e-44fa-9525-d5618f12da0f",
        "colab": {
          "base_uri": "https://localhost:8080/",
          "height": 265
        }
      },
      "source": [
        "import matplotlib.pyplot as plt\n",
        "fig = plt.figure()\n",
        "ax = fig.add_subplot(111)\n",
        "\n",
        "ax.scatter(X,y)\n",
        "ax.plot(X,predictions, 'r-')\n",
        "plt.show()"
      ],
      "execution_count": 0,
      "outputs": [
        {
          "output_type": "display_data",
          "data": {
            "image/png": "[encoded data removed]",
            "text/plain": [
              "<Figure size 432x288 with 1 Axes>"
            ]
          },
          "metadata": {
            "tags": [],
            "needs_background": "light"
          }
        }
      ]
    },
    {
      "cell_type": "markdown",
      "metadata": {
        "id": "gGR-bpUYOAGe",
        "colab_type": "text"
      },
      "source": [
        "Answer: <img src=\"https://github.com/jigsawlabs-student/regression-fundamentals/blob/master/12-using-ml-library-lab/grad-rate-econ-need.png?raw=1\" width=\"60%\">"
      ]
    },
    {
      "cell_type": "markdown",
      "metadata": {
        "id": "0lmObeX6OAGe",
        "colab_type": "text"
      },
      "source": [
        "We can get a sense of how well our model is predicting our data with the `score` method, which returns $r^2$, whatever that is."
      ]
    },
    {
      "cell_type": "code",
      "metadata": {
        "id": "69mjOM3JOAGf",
        "colab_type": "code",
        "outputId": "fa9f19d6-c0ad-4bf3-e237-8ced311e5813",
        "colab": {
          "base_uri": "https://localhost:8080/",
          "height": 35
        }
      },
      "source": [
        "model.score(X, y)"
      ],
      "execution_count": 0,
      "outputs": [
        {
          "output_type": "execute_result",
          "data": {
            "text/plain": [
              "0.37103269710922127"
            ]
          },
          "metadata": {
            "tags": []
          },
          "execution_count": 66
        }
      ]
    },
    {
      "cell_type": "markdown",
      "metadata": {
        "id": "rxGlTd0-OAGh",
        "colab_type": "text"
      },
      "source": [
        "Essentially, a returning a 1 signifies a that our model perfectly explains of the data, and a score of a 0 signifies that our model does no better at predicting our data than the mean."
      ]
    },
    {
      "cell_type": "markdown",
      "metadata": {
        "id": "0bxsZvuoOAGh",
        "colab_type": "text"
      },
      "source": [
        "### Resources\n",
        "* [17 School Quality Report](https://data.cityofnewyork.us/Education/2017-School-Quality-Report/cxrn-zyvb)\n",
        "* [16-17 Quality Report](https://data.cityofnewyork.us/Education/2016-2017-School-Quality-Report-Results-for-High-S/ewhs-k7um)"
      ]
    },
    {
      "cell_type": "markdown",
      "metadata": {
        "id": "AbeJtkY5OAGi",
        "colab_type": "text"
      },
      "source": [
        "[HS directory](https://data.cityofnewyork.us/Education/2019-DOE-High-School-Directory/uq7m-95z8)"
      ]
    }
  ]
}