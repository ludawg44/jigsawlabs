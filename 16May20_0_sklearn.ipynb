{
  "nbformat": 4,
  "nbformat_minor": 0,
  "metadata": {
    "kernelspec": {
      "display_name": "Python 3",
      "language": "python",
      "name": "python3"
    },
    "language_info": {
      "codemirror_mode": {
        "name": "ipython",
        "version": 3
      },
      "file_extension": ".py",
      "mimetype": "text/x-python",
      "name": "python",
      "nbconvert_exporter": "python",
      "pygments_lexer": "ipython3",
      "version": "3.7.4"
    },
    "colab": {
      "name": "Copy of 0-sklearn.ipynb",
      "provenance": [],
      "include_colab_link": true
    }
  },
  "cells": [
    {
      "cell_type": "markdown",
      "metadata": {
        "id": "view-in-github",
        "colab_type": "text"
      },
      "source": [
        "<a href=\"https://colab.research.google.com/github/ludawg44/jigsawlabs/blob/master/16May20_0_sklearn.ipynb\" target=\"_parent\"><img src=\"https://colab.research.google.com/assets/colab-badge.svg\" alt=\"Open In Colab\"/></a>"
      ]
    },
    {
      "cell_type": "markdown",
      "metadata": {
        "id": "tCwudWg6pJGM",
        "colab_type": "text"
      },
      "source": [
        "## Machine Learning In Sklearn"
      ]
    },
    {
      "cell_type": "markdown",
      "metadata": {
        "id": "kAVc3_PdpJGN",
        "colab_type": "text"
      },
      "source": [
        "### Introduction"
      ]
    },
    {
      "cell_type": "markdown",
      "metadata": {
        "id": "Zw4NMsOcpJGN",
        "colab_type": "text"
      },
      "source": [
        "Now that we have learned about the hypothesis function, training procedure, and cost function for decision trees, let's move onto using them with the sklearn library."
      ]
    },
    {
      "cell_type": "markdown",
      "metadata": {
        "id": "PGoUiZwXpJGO",
        "colab_type": "text"
      },
      "source": [
        "### 1. Gather the data"
      ]
    },
    {
      "cell_type": "markdown",
      "metadata": {
        "id": "DVNDgC5gpJGO",
        "colab_type": "text"
      },
      "source": [
        "We can start by gathering our customer data."
      ]
    },
    {
      "cell_type": "code",
      "metadata": {
        "id": "sdG2z2mTpJGP",
        "colab_type": "code",
        "outputId": "cf47bfc5-fe5a-43e2-90e1-ca36ca746155",
        "colab": {}
      },
      "source": [
        "import pandas as pd\n",
        "url = \"https://raw.githubusercontent.com/jigsawlabs-student/decision-trees-intro/master/3-practical-ds-4/customer_data.csv\"\n",
        "df = pd.read_csv(url)\n",
        "df"
      ],
      "execution_count": 0,
      "outputs": [
        {
          "output_type": "execute_result",
          "data": {
            "text/html": [
              "<div>\n",
              "<style scoped>\n",
              "    .dataframe tbody tr th:only-of-type {\n",
              "        vertical-align: middle;\n",
              "    }\n",
              "\n",
              "    .dataframe tbody tr th {\n",
              "        vertical-align: top;\n",
              "    }\n",
              "\n",
              "    .dataframe thead th {\n",
              "        text-align: right;\n",
              "    }\n",
              "</style>\n",
              "<table border=\"1\" class=\"dataframe\">\n",
              "  <thead>\n",
              "    <tr style=\"text-align: right;\">\n",
              "      <th></th>\n",
              "      <th>attended_college</th>\n",
              "      <th>under_thirty</th>\n",
              "      <th>borough</th>\n",
              "      <th>income</th>\n",
              "      <th>customer</th>\n",
              "    </tr>\n",
              "  </thead>\n",
              "  <tbody>\n",
              "    <tr>\n",
              "      <th>0</th>\n",
              "      <td>?</td>\n",
              "      <td>Yes</td>\n",
              "      <td>Manhattan</td>\n",
              "      <td>&lt; 55</td>\n",
              "      <td>0</td>\n",
              "    </tr>\n",
              "    <tr>\n",
              "      <th>1</th>\n",
              "      <td>Yes</td>\n",
              "      <td>Yes</td>\n",
              "      <td>Brooklyn</td>\n",
              "      <td>&lt; 55</td>\n",
              "      <td>0</td>\n",
              "    </tr>\n",
              "    <tr>\n",
              "      <th>2</th>\n",
              "      <td>?</td>\n",
              "      <td>No</td>\n",
              "      <td>Brooklyn</td>\n",
              "      <td>&lt; 55</td>\n",
              "      <td>1</td>\n",
              "    </tr>\n",
              "    <tr>\n",
              "      <th>3</th>\n",
              "      <td>No</td>\n",
              "      <td>No</td>\n",
              "      <td>Queens</td>\n",
              "      <td>&gt; 100</td>\n",
              "      <td>1</td>\n",
              "    </tr>\n",
              "    <tr>\n",
              "      <th>4</th>\n",
              "      <td>?</td>\n",
              "      <td>No</td>\n",
              "      <td>Queens</td>\n",
              "      <td>55 - 100</td>\n",
              "      <td>1</td>\n",
              "    </tr>\n",
              "    <tr>\n",
              "      <th>5</th>\n",
              "      <td>Yes</td>\n",
              "      <td>No</td>\n",
              "      <td>Manhattan</td>\n",
              "      <td>&gt; 100</td>\n",
              "      <td>0</td>\n",
              "    </tr>\n",
              "    <tr>\n",
              "      <th>6</th>\n",
              "      <td>Yes</td>\n",
              "      <td>No</td>\n",
              "      <td>Queens</td>\n",
              "      <td>&gt; 100</td>\n",
              "      <td>0</td>\n",
              "    </tr>\n",
              "    <tr>\n",
              "      <th>7</th>\n",
              "      <td>Yes</td>\n",
              "      <td>Yes</td>\n",
              "      <td>Brooklyn</td>\n",
              "      <td>55 - 100</td>\n",
              "      <td>0</td>\n",
              "    </tr>\n",
              "  </tbody>\n",
              "</table>\n",
              "</div>"
            ],
            "text/plain": [
              "  attended_college under_thirty    borough    income  customer\n",
              "0                ?          Yes  Manhattan      < 55         0\n",
              "1              Yes          Yes   Brooklyn      < 55         0\n",
              "2                ?           No   Brooklyn      < 55         1\n",
              "3               No           No     Queens     > 100         1\n",
              "4                ?           No     Queens  55 - 100         1\n",
              "5              Yes           No  Manhattan     > 100         0\n",
              "6              Yes           No     Queens     > 100         0\n",
              "7              Yes          Yes   Brooklyn  55 - 100         0"
            ]
          },
          "metadata": {
            "tags": []
          },
          "execution_count": 1
        }
      ]
    },
    {
      "cell_type": "markdown",
      "metadata": {
        "id": "x2xbX6OUpJGT",
        "colab_type": "text"
      },
      "source": [
        "Now to feed the data above into a decision tree model, we need to convert every value above into a number.  We can do so with the labelencoder from sklearn."
      ]
    },
    {
      "cell_type": "code",
      "metadata": {
        "id": "MHHRHHXLpJGU",
        "colab_type": "code",
        "outputId": "30c04114-fa45-48e2-91c2-2ccf7352cc17",
        "colab": {}
      },
      "source": [
        "from sklearn.preprocessing import LabelEncoder \n",
        "from sklearn_pandas import DataFrameMapper\n",
        "mapper = DataFrameMapper([\n",
        " (['attended_college'], LabelEncoder()), \n",
        " (['under_thirty'], LabelEncoder()), \n",
        " (['borough'], LabelEncoder()), \n",
        " (['income'], LabelEncoder()), \n",
        "], df_out = True)\n",
        "\n",
        "\n",
        "X = mapper.fit_transform(df)\n",
        "X"
      ],
      "execution_count": 0,
      "outputs": [
        {
          "output_type": "execute_result",
          "data": {
            "text/html": [
              "<div>\n",
              "<style scoped>\n",
              "    .dataframe tbody tr th:only-of-type {\n",
              "        vertical-align: middle;\n",
              "    }\n",
              "\n",
              "    .dataframe tbody tr th {\n",
              "        vertical-align: top;\n",
              "    }\n",
              "\n",
              "    .dataframe thead th {\n",
              "        text-align: right;\n",
              "    }\n",
              "</style>\n",
              "<table border=\"1\" class=\"dataframe\">\n",
              "  <thead>\n",
              "    <tr style=\"text-align: right;\">\n",
              "      <th></th>\n",
              "      <th>attended_college</th>\n",
              "      <th>under_thirty</th>\n",
              "      <th>borough</th>\n",
              "      <th>income</th>\n",
              "    </tr>\n",
              "  </thead>\n",
              "  <tbody>\n",
              "    <tr>\n",
              "      <th>0</th>\n",
              "      <td>0</td>\n",
              "      <td>1</td>\n",
              "      <td>1</td>\n",
              "      <td>1</td>\n",
              "    </tr>\n",
              "    <tr>\n",
              "      <th>1</th>\n",
              "      <td>2</td>\n",
              "      <td>1</td>\n",
              "      <td>0</td>\n",
              "      <td>1</td>\n",
              "    </tr>\n",
              "    <tr>\n",
              "      <th>2</th>\n",
              "      <td>0</td>\n",
              "      <td>0</td>\n",
              "      <td>0</td>\n",
              "      <td>1</td>\n",
              "    </tr>\n",
              "    <tr>\n",
              "      <th>3</th>\n",
              "      <td>1</td>\n",
              "      <td>0</td>\n",
              "      <td>2</td>\n",
              "      <td>2</td>\n",
              "    </tr>\n",
              "    <tr>\n",
              "      <th>4</th>\n",
              "      <td>0</td>\n",
              "      <td>0</td>\n",
              "      <td>2</td>\n",
              "      <td>0</td>\n",
              "    </tr>\n",
              "    <tr>\n",
              "      <th>5</th>\n",
              "      <td>2</td>\n",
              "      <td>0</td>\n",
              "      <td>1</td>\n",
              "      <td>2</td>\n",
              "    </tr>\n",
              "    <tr>\n",
              "      <th>6</th>\n",
              "      <td>2</td>\n",
              "      <td>0</td>\n",
              "      <td>2</td>\n",
              "      <td>2</td>\n",
              "    </tr>\n",
              "    <tr>\n",
              "      <th>7</th>\n",
              "      <td>2</td>\n",
              "      <td>1</td>\n",
              "      <td>0</td>\n",
              "      <td>0</td>\n",
              "    </tr>\n",
              "  </tbody>\n",
              "</table>\n",
              "</div>"
            ],
            "text/plain": [
              "   attended_college  under_thirty  borough  income\n",
              "0                 0             1        1       1\n",
              "1                 2             1        0       1\n",
              "2                 0             0        0       1\n",
              "3                 1             0        2       2\n",
              "4                 0             0        2       0\n",
              "5                 2             0        1       2\n",
              "6                 2             0        2       2\n",
              "7                 2             1        0       0"
            ]
          },
          "metadata": {
            "tags": []
          },
          "execution_count": 11
        }
      ]
    },
    {
      "cell_type": "markdown",
      "metadata": {
        "id": "e5v00YfDpJGX",
        "colab_type": "text"
      },
      "source": [
        "The data in `X` *may not look like* our original training data, but it is equivalent.  We got to the data in `X` by starting with our original data that had values as text, and then assigning a different number to each unique value in a column. "
      ]
    },
    {
      "cell_type": "markdown",
      "metadata": {
        "id": "6MpVlQiPpJGX",
        "colab_type": "text"
      },
      "source": [
        "> **For example,** for the `attended_college` column, `?` is represented by a `0`, and `Yes` is represented by a `2`."
      ]
    },
    {
      "cell_type": "markdown",
      "metadata": {
        "id": "lUfsOgdnpJGY",
        "colab_type": "text"
      },
      "source": [
        "| Attended College | Under Thirty | Borough   | Income | Customer |\n",
        "| ---------------- | ------------ | --------- | ------ | :------: |\n",
        "| ?                | Yes          | Manhattan | < 55   |    0     |\n",
        "| Yes              | Yes          | Brooklyn  | < 55   |    0     |\n",
        "| ?                | No           | Brooklyn  | < 55   |    1     |"
      ]
    },
    {
      "cell_type": "markdown",
      "metadata": {
        "id": "Kt_KlcYypJGY",
        "colab_type": "text"
      },
      "source": [
        "So we have prepared our data by translating all of our feature values into a corresponding number."
      ]
    },
    {
      "cell_type": "markdown",
      "metadata": {
        "id": "MrKE1roQpJGZ",
        "colab_type": "text"
      },
      "source": [
        "Now let's assign the Customer column to equal `y`."
      ]
    },
    {
      "cell_type": "code",
      "metadata": {
        "id": "DGMZQqfFpJGZ",
        "colab_type": "code",
        "outputId": "e7b91a39-5235-4d8e-f036-38246645ff48",
        "colab": {}
      },
      "source": [
        "y = df['customer']\n",
        "y"
      ],
      "execution_count": 0,
      "outputs": [
        {
          "output_type": "execute_result",
          "data": {
            "text/plain": [
              "0    0\n",
              "1    0\n",
              "2    1\n",
              "3    1\n",
              "4    1\n",
              "5    0\n",
              "6    0\n",
              "7    0\n",
              "Name: customer, dtype: int64"
            ]
          },
          "metadata": {
            "tags": []
          },
          "execution_count": 13
        }
      ]
    },
    {
      "cell_type": "markdown",
      "metadata": {
        "id": "KON7k2RTpJGc",
        "colab_type": "text"
      },
      "source": [
        "### 2. Train a Model"
      ]
    },
    {
      "cell_type": "markdown",
      "metadata": {
        "id": "c7YtJR6wpJGc",
        "colab_type": "text"
      },
      "source": [
        "Ok, now that we have our feature data and target data separated, and all of our values represented as a number, we can move into training.  "
      ]
    },
    {
      "cell_type": "markdown",
      "metadata": {
        "id": "F4xRTjKepJGd",
        "colab_type": "text"
      },
      "source": [
        "To do so, we'll use the `sklearn` library.  We start by telling Jupyter to use the `sklearn.tree` module's `DecisionTreeClasifier`.  "
      ]
    },
    {
      "cell_type": "code",
      "metadata": {
        "id": "udMq_nQOpJGe",
        "colab_type": "code",
        "outputId": "f066cce4-5da0-43e1-a8e8-76275a314c6a",
        "colab": {}
      },
      "source": [
        "from sklearn.tree import DecisionTreeClassifier\n",
        "model = DecisionTreeClassifier()\n",
        "model.fit(X, y)"
      ],
      "execution_count": 0,
      "outputs": [
        {
          "output_type": "execute_result",
          "data": {
            "text/plain": [
              "DecisionTreeClassifier(class_weight=None, criterion='gini', max_depth=None,\n",
              "                       max_features=None, max_leaf_nodes=None,\n",
              "                       min_impurity_decrease=0.0, min_impurity_split=None,\n",
              "                       min_samples_leaf=1, min_samples_split=2,\n",
              "                       min_weight_fraction_leaf=0.0, presort=False,\n",
              "                       random_state=None, splitter='best')"
            ]
          },
          "metadata": {
            "tags": []
          },
          "execution_count": 14
        }
      ]
    },
    {
      "cell_type": "markdown",
      "metadata": {
        "id": "Op3euY5dpJGh",
        "colab_type": "text"
      },
      "source": [
        "That it!  We just trained a machine learning model in `sklearn`.  Our hypothesis function is now in there, but it will take a couple of lines of code to see it."
      ]
    },
    {
      "cell_type": "markdown",
      "metadata": {
        "id": "1MP-yMUJpJGi",
        "colab_type": "text"
      },
      "source": [
        "### 3. Use the Hypothesis Function"
      ]
    },
    {
      "cell_type": "markdown",
      "metadata": {
        "id": "mfKqny_KpJGi",
        "colab_type": "text"
      },
      "source": [
        "Now that we have created and trained our model, we can view the hypothesis function of our decision tree above.  But unfortunately, we need another library to do so.  \n",
        "\n",
        "> Run the cell below to install the `dtreeviz` library into your notebook environment.  There may be a lot of output after running the cell below.  Just scroll down."
      ]
    },
    {
      "cell_type": "code",
      "metadata": {
        "id": "EMq2b0RxpJGj",
        "colab_type": "code",
        "colab": {}
      },
      "source": [
        "!pip install dtreeviz"
      ],
      "execution_count": 0,
      "outputs": []
    },
    {
      "cell_type": "markdown",
      "metadata": {
        "id": "K8Jsl3cMpJGl",
        "colab_type": "text"
      },
      "source": [
        "Afterwards, we can visualize our decision tree by pressing `shift + return` on the cell below.  \n",
        "\n",
        "> For now, let's not worry too much about how the code below works, but if you take a look at it, it's not so bad."
      ]
    },
    {
      "cell_type": "code",
      "metadata": {
        "id": "_Uv7hnexpJGl",
        "colab_type": "code",
        "outputId": "77068189-5cf4-4d7f-ada6-341b5cebf9db",
        "colab": {}
      },
      "source": [
        "from dtreeviz.trees import dtreeviz\n",
        "viz_1 = dtreeviz(model,\n",
        "               X.to_numpy(),\n",
        "               y.values,\n",
        "               target_name='is_customer',\n",
        "               feature_names=X.columns,\n",
        "               class_names=['not-customer', 'customer']\n",
        "              )\n",
        "              \n",
        "viz_1   "
      ],
      "execution_count": 0,
      "outputs": [
        {
          "output_type": "execute_result",
          "data": {
            "image/svg+xml": "<svg xmlns=\"http://www.w3.org/2000/svg\" xmlns:xlink=\"http://www.w3.org/1999/xlink\" height=\"225pt\" viewBox=\"0.00 0.00 312.50 225.00\" width=\"313pt\">\n<g class=\"graph\" id=\"graph0\" transform=\"scale(1 1) rotate(0) translate(4 221)\">\n<title>G</title>\n<polygon fill=\"white\" points=\"-4,4 -4,-221 308.5,-221 308.5,4 -4,4\" stroke=\"transparent\" />\n<g class=\"cluster\" id=\"clust3\">\n<title>cluster_legend</title>\n</g>\n\n<g class=\"node\" id=\"node1\">\n<title>node1</title>\n<svg height=\"44px\" preserveAspectRatio=\"xMinYMin meet\" version=\"1.1\" viewBox=\"0 0 196.23 58.782589\" width=\"147px\" x=\"4.5\" y=\"-89\">\n <defs>\n  <style type=\"text/css\">\n*{stroke-linecap:butt;stroke-linejoin:round;}\n  </style>\n </defs>\n <g id=\"figure_1\">\n  <g id=\"patch_1\">\n   <path d=\"M 0 58.782589  L 196.23 58.782589  L 196.23 0  L 0 0  z \" style=\"fill:#ffffff;\" />\n  </g>\n  <g id=\"axes_1\">\n   <g id=\"patch_2\">\n    <path d=\"M 12.09 28.925089  L 196.23 28.925089  L 196.23 1.745089  L 12.09 1.745089  z \" style=\"fill:#ffffff;\" />\n   </g>\n   <g id=\"patch_3\">\n    <path clip-path=\"url(#p74e2ba24d4)\" d=\"M 12.09 28.925089  L 21.320075 28.925089  L 21.320075 28.925089  L 12.09 28.925089  z \" style=\"fill:#fefebb;stroke:#444443;stroke-linejoin:miter;stroke-width:0.5;\" />\n   </g>\n   <g id=\"patch_4\">\n    <path clip-path=\"url(#p74e2ba24d4)\" d=\"M 21.320075 28.925089  L 30.55015 28.925089  L 30.55015 28.925089  L 21.320075 28.925089  z \" style=\"fill:#fefebb;stroke:#444443;stroke-linejoin:miter;stroke-width:0.5;\" />\n   </g>\n   <g id=\"patch_5\">\n    <path clip-path=\"url(#p74e2ba24d4)\" d=\"M 30.55015 28.925089  L 39.780226 28.925089  L 39.780226 28.925089  L 30.55015 28.925089  z \" style=\"fill:#fefebb;stroke:#444443;stroke-linejoin:miter;stroke-width:0.5;\" />\n   </g>\n   <g id=\"patch_6\">\n    <path clip-path=\"url(#p74e2ba24d4)\" d=\"M 39.780226 28.925089  L 49.010301 28.925089  L 49.010301 28.925089  L 39.780226 28.925089  z \" style=\"fill:#fefebb;stroke:#444443;stroke-linejoin:miter;stroke-width:0.5;\" />\n   </g>\n   <g id=\"patch_7\">\n    <path clip-path=\"url(#p74e2ba24d4)\" d=\"M 49.010301 28.925089  L 58.240376 28.925089  L 58.240376 28.925089  L 49.010301 28.925089  z \" style=\"fill:#fefebb;stroke:#444443;stroke-linejoin:miter;stroke-width:0.5;\" />\n   </g>\n   <g id=\"patch_8\">\n    <path clip-path=\"url(#p74e2ba24d4)\" d=\"M 58.240376 28.925089  L 67.470451 28.925089  L 67.470451 28.925089  L 58.240376 28.925089  z \" style=\"fill:#fefebb;stroke:#444443;stroke-linejoin:miter;stroke-width:0.5;\" />\n   </g>\n   <g id=\"patch_9\">\n    <path clip-path=\"url(#p74e2ba24d4)\" d=\"M 67.470451 28.925089  L 76.700526 28.925089  L 76.700526 28.925089  L 67.470451 28.925089  z \" style=\"fill:#fefebb;stroke:#444443;stroke-linejoin:miter;stroke-width:0.5;\" />\n   </g>\n   <g id=\"patch_10\">\n    <path clip-path=\"url(#p74e2ba24d4)\" d=\"M 76.700526 28.925089  L 85.930602 28.925089  L 85.930602 28.925089  L 76.700526 28.925089  z \" style=\"fill:#fefebb;stroke:#444443;stroke-linejoin:miter;stroke-width:0.5;\" />\n   </g>\n   <g id=\"patch_11\">\n    <path clip-path=\"url(#p74e2ba24d4)\" d=\"M 85.930602 28.925089  L 95.160677 28.925089  L 95.160677 28.925089  L 85.930602 28.925089  z \" style=\"fill:#fefebb;stroke:#444443;stroke-linejoin:miter;stroke-width:0.5;\" />\n   </g>\n   <g id=\"patch_12\">\n    <path clip-path=\"url(#p74e2ba24d4)\" d=\"M 95.160677 28.925089  L 104.390752 28.925089  L 104.390752 28.925089  L 95.160677 28.925089  z \" style=\"fill:#fefebb;stroke:#444443;stroke-linejoin:miter;stroke-width:0.5;\" />\n   </g>\n   <g id=\"patch_13\">\n    <path clip-path=\"url(#p74e2ba24d4)\" d=\"M 104.390752 28.925089  L 113.620827 28.925089  L 113.620827 28.925089  L 104.390752 28.925089  z \" style=\"fill:#fefebb;stroke:#444443;stroke-linejoin:miter;stroke-width:0.5;\" />\n   </g>\n   <g id=\"patch_14\">\n    <path clip-path=\"url(#p74e2ba24d4)\" d=\"M 113.620827 28.925089  L 122.850902 28.925089  L 122.850902 28.925089  L 113.620827 28.925089  z \" style=\"fill:#fefebb;stroke:#444443;stroke-linejoin:miter;stroke-width:0.5;\" />\n   </g>\n   <g id=\"patch_15\">\n    <path clip-path=\"url(#p74e2ba24d4)\" d=\"M 122.850902 28.925089  L 132.080977 28.925089  L 132.080977 28.925089  L 122.850902 28.925089  z \" style=\"fill:#fefebb;stroke:#444443;stroke-linejoin:miter;stroke-width:0.5;\" />\n   </g>\n   <g id=\"patch_16\">\n    <path clip-path=\"url(#p74e2ba24d4)\" d=\"M 132.080977 28.925089  L 141.311053 28.925089  L 141.311053 28.925089  L 132.080977 28.925089  z \" style=\"fill:#fefebb;stroke:#444443;stroke-linejoin:miter;stroke-width:0.5;\" />\n   </g>\n   <g id=\"patch_17\">\n    <path clip-path=\"url(#p74e2ba24d4)\" d=\"M 141.311053 28.925089  L 150.541128 28.925089  L 150.541128 28.925089  L 141.311053 28.925089  z \" style=\"fill:#fefebb;stroke:#444443;stroke-linejoin:miter;stroke-width:0.5;\" />\n   </g>\n   <g id=\"patch_18\">\n    <path clip-path=\"url(#p74e2ba24d4)\" d=\"M 150.541128 28.925089  L 159.771203 28.925089  L 159.771203 28.925089  L 150.541128 28.925089  z \" style=\"fill:#fefebb;stroke:#444443;stroke-linejoin:miter;stroke-width:0.5;\" />\n   </g>\n   <g id=\"patch_19\">\n    <path clip-path=\"url(#p74e2ba24d4)\" d=\"M 159.771203 28.925089  L 169.001278 28.925089  L 169.001278 28.925089  L 159.771203 28.925089  z \" style=\"fill:#fefebb;stroke:#444443;stroke-linejoin:miter;stroke-width:0.5;\" />\n   </g>\n   <g id=\"patch_20\">\n    <path clip-path=\"url(#p74e2ba24d4)\" d=\"M 169.001278 28.925089  L 178.231353 28.925089  L 178.231353 28.925089  L 169.001278 28.925089  z \" style=\"fill:#fefebb;stroke:#444443;stroke-linejoin:miter;stroke-width:0.5;\" />\n   </g>\n   <g id=\"patch_21\">\n    <path clip-path=\"url(#p74e2ba24d4)\" d=\"M 178.231353 28.925089  L 187.461429 28.925089  L 187.461429 20.296518  L 178.231353 20.296518  z \" style=\"fill:#fefebb;stroke:#444443;stroke-linejoin:miter;stroke-width:0.5;\" />\n   </g>\n   <g id=\"patch_22\">\n    <path clip-path=\"url(#p74e2ba24d4)\" d=\"M 12.09 28.925089  L 21.320075 28.925089  L 21.320075 3.039375  L 12.09 3.039375  z \" style=\"fill:#a1dab4;stroke:#444443;stroke-linejoin:miter;stroke-width:0.5;\" />\n   </g>\n   <g id=\"patch_23\">\n    <path clip-path=\"url(#p74e2ba24d4)\" d=\"M 21.320075 28.925089  L 30.55015 28.925089  L 30.55015 28.925089  L 21.320075 28.925089  z \" style=\"fill:#a1dab4;stroke:#444443;stroke-linejoin:miter;stroke-width:0.5;\" />\n   </g>\n   <g id=\"patch_24\">\n    <path clip-path=\"url(#p74e2ba24d4)\" d=\"M 30.55015 28.925089  L 39.780226 28.925089  L 39.780226 28.925089  L 30.55015 28.925089  z \" style=\"fill:#a1dab4;stroke:#444443;stroke-linejoin:miter;stroke-width:0.5;\" />\n   </g>\n   <g id=\"patch_25\">\n    <path clip-path=\"url(#p74e2ba24d4)\" d=\"M 39.780226 28.925089  L 49.010301 28.925089  L 49.010301 28.925089  L 39.780226 28.925089  z \" style=\"fill:#a1dab4;stroke:#444443;stroke-linejoin:miter;stroke-width:0.5;\" />\n   </g>\n   <g id=\"patch_26\">\n    <path clip-path=\"url(#p74e2ba24d4)\" d=\"M 49.010301 28.925089  L 58.240376 28.925089  L 58.240376 28.925089  L 49.010301 28.925089  z \" style=\"fill:#a1dab4;stroke:#444443;stroke-linejoin:miter;stroke-width:0.5;\" />\n   </g>\n   <g id=\"patch_27\">\n    <path clip-path=\"url(#p74e2ba24d4)\" d=\"M 58.240376 28.925089  L 67.470451 28.925089  L 67.470451 28.925089  L 58.240376 28.925089  z \" style=\"fill:#a1dab4;stroke:#444443;stroke-linejoin:miter;stroke-width:0.5;\" />\n   </g>\n   <g id=\"patch_28\">\n    <path clip-path=\"url(#p74e2ba24d4)\" d=\"M 67.470451 28.925089  L 76.700526 28.925089  L 76.700526 28.925089  L 67.470451 28.925089  z \" style=\"fill:#a1dab4;stroke:#444443;stroke-linejoin:miter;stroke-width:0.5;\" />\n   </g>\n   <g id=\"patch_29\">\n    <path clip-path=\"url(#p74e2ba24d4)\" d=\"M 76.700526 28.925089  L 85.930602 28.925089  L 85.930602 28.925089  L 76.700526 28.925089  z \" style=\"fill:#a1dab4;stroke:#444443;stroke-linejoin:miter;stroke-width:0.5;\" />\n   </g>\n   <g id=\"patch_30\">\n    <path clip-path=\"url(#p74e2ba24d4)\" d=\"M 85.930602 28.925089  L 95.160677 28.925089  L 95.160677 28.925089  L 85.930602 28.925089  z \" style=\"fill:#a1dab4;stroke:#444443;stroke-linejoin:miter;stroke-width:0.5;\" />\n   </g>\n   <g id=\"patch_31\">\n    <path clip-path=\"url(#p74e2ba24d4)\" d=\"M 95.160677 28.925089  L 104.390752 28.925089  L 104.390752 28.925089  L 95.160677 28.925089  z \" style=\"fill:#a1dab4;stroke:#444443;stroke-linejoin:miter;stroke-width:0.5;\" />\n   </g>\n   <g id=\"patch_32\">\n    <path clip-path=\"url(#p74e2ba24d4)\" d=\"M 104.390752 28.925089  L 113.620827 28.925089  L 113.620827 28.925089  L 104.390752 28.925089  z \" style=\"fill:#a1dab4;stroke:#444443;stroke-linejoin:miter;stroke-width:0.5;\" />\n   </g>\n   <g id=\"patch_33\">\n    <path clip-path=\"url(#p74e2ba24d4)\" d=\"M 113.620827 28.925089  L 122.850902 28.925089  L 122.850902 28.925089  L 113.620827 28.925089  z \" style=\"fill:#a1dab4;stroke:#444443;stroke-linejoin:miter;stroke-width:0.5;\" />\n   </g>\n   <g id=\"patch_34\">\n    <path clip-path=\"url(#p74e2ba24d4)\" d=\"M 122.850902 28.925089  L 132.080977 28.925089  L 132.080977 28.925089  L 122.850902 28.925089  z \" style=\"fill:#a1dab4;stroke:#444443;stroke-linejoin:miter;stroke-width:0.5;\" />\n   </g>\n   <g id=\"patch_35\">\n    <path clip-path=\"url(#p74e2ba24d4)\" d=\"M 132.080977 28.925089  L 141.311053 28.925089  L 141.311053 28.925089  L 132.080977 28.925089  z \" style=\"fill:#a1dab4;stroke:#444443;stroke-linejoin:miter;stroke-width:0.5;\" />\n   </g>\n   <g id=\"patch_36\">\n    <path clip-path=\"url(#p74e2ba24d4)\" d=\"M 141.311053 28.925089  L 150.541128 28.925089  L 150.541128 28.925089  L 141.311053 28.925089  z \" style=\"fill:#a1dab4;stroke:#444443;stroke-linejoin:miter;stroke-width:0.5;\" />\n   </g>\n   <g id=\"patch_37\">\n    <path clip-path=\"url(#p74e2ba24d4)\" d=\"M 150.541128 28.925089  L 159.771203 28.925089  L 159.771203 28.925089  L 150.541128 28.925089  z \" style=\"fill:#a1dab4;stroke:#444443;stroke-linejoin:miter;stroke-width:0.5;\" />\n   </g>\n   <g id=\"patch_38\">\n    <path clip-path=\"url(#p74e2ba24d4)\" d=\"M 159.771203 28.925089  L 169.001278 28.925089  L 169.001278 28.925089  L 159.771203 28.925089  z \" style=\"fill:#a1dab4;stroke:#444443;stroke-linejoin:miter;stroke-width:0.5;\" />\n   </g>\n   <g id=\"patch_39\">\n    <path clip-path=\"url(#p74e2ba24d4)\" d=\"M 169.001278 28.925089  L 178.231353 28.925089  L 178.231353 28.925089  L 169.001278 28.925089  z \" style=\"fill:#a1dab4;stroke:#444443;stroke-linejoin:miter;stroke-width:0.5;\" />\n   </g>\n   <g id=\"patch_40\">\n    <path clip-path=\"url(#p74e2ba24d4)\" d=\"M 178.231353 20.296518  L 187.461429 20.296518  L 187.461429 20.296518  L 178.231353 20.296518  z \" style=\"fill:#a1dab4;stroke:#444443;stroke-linejoin:miter;stroke-width:0.5;\" />\n   </g>\n   <g id=\"patch_41\">\n    <path d=\"M 99.775714 29.740489  L 96.461194 37.079089  L 103.090234 37.079089  z \" style=\"fill:#444443;\" />\n   </g>\n   <g id=\"matplotlib.axis_1\">\n    <g id=\"xtick_1\">\n     <g id=\"line2d_1\">\n      <defs>\n       <path d=\"M 0 0  L 0 3.5  \" id=\"m04ea17a369\" style=\"stroke:#000000;stroke-width:0.3;\" />\n      </defs>\n      <g>\n       <use style=\"stroke:#000000;stroke-width:0.3;\" x=\"12.09\" y=\"28.925089\" xlink:href=\"#m04ea17a369\" />\n      </g>\n     </g>\n     <g id=\"text_1\">\n      \n      <defs>\n       <path d=\"M 31.78125 66.40625  Q 24.171875 66.40625 20.328125 58.90625  Q 16.5 51.421875 16.5 36.375  Q 16.5 21.390625 20.328125 13.890625  Q 24.171875 6.390625 31.78125 6.390625  Q 39.453125 6.390625 43.28125 13.890625  Q 47.125 21.390625 47.125 36.375  Q 47.125 51.421875 43.28125 58.90625  Q 39.453125 66.40625 31.78125 66.40625  z M 31.78125 74.21875  Q 44.046875 74.21875 50.515625 64.515625  Q 56.984375 54.828125 56.984375 36.375  Q 56.984375 17.96875 50.515625 8.265625  Q 44.046875 -1.421875 31.78125 -1.421875  Q 19.53125 -1.421875 13.0625 8.265625  Q 6.59375 17.96875 6.59375 36.375  Q 6.59375 54.828125 13.0625 64.515625  Q 19.53125 74.21875 31.78125 74.21875  z \" id=\"DejaVuSans-48\" />\n      </defs>\n      <g style=\"fill:#444443;\" transform=\"translate(9.545 42.003839)scale(0.08 -0.08)\">\n       <use xlink:href=\"#DejaVuSans-48\" />\n      </g>\n     </g>\n    </g>\n    <g id=\"xtick_2\">\n     <g id=\"line2d_2\">\n      <g>\n       <use style=\"stroke:#000000;stroke-width:0.3;\" x=\"187.461429\" y=\"28.925089\" xlink:href=\"#m04ea17a369\" />\n      </g>\n     </g>\n     <g id=\"text_2\">\n      \n      <defs>\n       <path d=\"M 12.40625 8.296875  L 28.515625 8.296875  L 28.515625 63.921875  L 10.984375 60.40625  L 10.984375 69.390625  L 28.421875 72.90625  L 38.28125 72.90625  L 38.28125 8.296875  L 54.390625 8.296875  L 54.390625 0  L 12.40625 0  z \" id=\"DejaVuSans-49\" />\n      </defs>\n      <g style=\"fill:#444443;\" transform=\"translate(184.916429 42.003839)scale(0.08 -0.08)\">\n       <use xlink:href=\"#DejaVuSans-49\" />\n      </g>\n     </g>\n    </g>\n    <g id=\"text_3\">\n     \n     <defs>\n      <path d=\"M 40.578125 0  L 40.578125 7.625  Q 34.515625 -1.171875 24.125 -1.171875  Q 19.53125 -1.171875 15.546875 0.578125  Q 11.578125 2.34375 9.640625 5  Q 7.71875 7.671875 6.9375 11.53125  Q 6.390625 14.109375 6.390625 19.734375  L 6.390625 51.859375  L 15.1875 51.859375  L 15.1875 23.09375  Q 15.1875 16.21875 15.71875 13.8125  Q 16.546875 10.359375 19.234375 8.375  Q 21.921875 6.390625 25.875 6.390625  Q 29.828125 6.390625 33.296875 8.421875  Q 36.765625 10.453125 38.203125 13.9375  Q 39.65625 17.4375 39.65625 24.078125  L 39.65625 51.859375  L 48.4375 51.859375  L 48.4375 0  z \" id=\"ArialMT-117\" />\n      <path d=\"M 6.59375 0  L 6.59375 51.859375  L 14.5 51.859375  L 14.5 44.484375  Q 20.21875 53.03125 31 53.03125  Q 35.6875 53.03125 39.625 51.34375  Q 43.5625 49.65625 45.515625 46.921875  Q 47.46875 44.1875 48.25 40.4375  Q 48.734375 37.984375 48.734375 31.890625  L 48.734375 0  L 39.9375 0  L 39.9375 31.546875  Q 39.9375 36.921875 38.90625 39.578125  Q 37.890625 42.234375 35.28125 43.8125  Q 32.671875 45.40625 29.15625 45.40625  Q 23.53125 45.40625 19.453125 41.84375  Q 15.375 38.28125 15.375 28.328125  L 15.375 0  z \" id=\"ArialMT-110\" />\n      <path d=\"M 40.234375 0  L 40.234375 6.546875  Q 35.296875 -1.171875 25.734375 -1.171875  Q 19.53125 -1.171875 14.328125 2.25  Q 9.125 5.671875 6.265625 11.796875  Q 3.421875 17.921875 3.421875 25.875  Q 3.421875 33.640625 6 39.96875  Q 8.59375 46.296875 13.765625 49.65625  Q 18.953125 53.03125 25.34375 53.03125  Q 30.03125 53.03125 33.6875 51.046875  Q 37.359375 49.078125 39.65625 45.90625  L 39.65625 71.578125  L 48.390625 71.578125  L 48.390625 0  z M 12.453125 25.875  Q 12.453125 15.921875 16.640625 10.984375  Q 20.84375 6.0625 26.5625 6.0625  Q 32.328125 6.0625 36.34375 10.765625  Q 40.375 15.484375 40.375 25.140625  Q 40.375 35.796875 36.265625 40.765625  Q 32.171875 45.75 26.171875 45.75  Q 20.3125 45.75 16.375 40.96875  Q 12.453125 36.1875 12.453125 25.875  z \" id=\"ArialMT-100\" />\n      <path d=\"M 42.09375 16.703125  L 51.171875 15.578125  Q 49.03125 7.625 43.21875 3.21875  Q 37.40625 -1.171875 28.375 -1.171875  Q 17 -1.171875 10.328125 5.828125  Q 3.65625 12.84375 3.65625 25.484375  Q 3.65625 38.578125 10.390625 45.796875  Q 17.140625 53.03125 27.875 53.03125  Q 38.28125 53.03125 44.875 45.953125  Q 51.46875 38.875 51.46875 26.03125  Q 51.46875 25.25 51.421875 23.6875  L 12.75 23.6875  Q 13.234375 15.140625 17.578125 10.59375  Q 21.921875 6.0625 28.421875 6.0625  Q 33.25 6.0625 36.671875 8.59375  Q 40.09375 11.140625 42.09375 16.703125  z M 13.234375 30.90625  L 42.1875 30.90625  Q 41.609375 37.453125 38.875 40.71875  Q 34.671875 45.796875 27.984375 45.796875  Q 21.921875 45.796875 17.796875 41.75  Q 13.671875 37.703125 13.234375 30.90625  z \" id=\"ArialMT-101\" />\n      <path d=\"M 6.5 0  L 6.5 51.859375  L 14.40625 51.859375  L 14.40625 44  Q 17.4375 49.515625 20 51.265625  Q 22.5625 53.03125 25.640625 53.03125  Q 30.078125 53.03125 34.671875 50.203125  L 31.640625 42.046875  Q 28.421875 43.953125 25.203125 43.953125  Q 22.3125 43.953125 20.015625 42.21875  Q 17.71875 40.484375 16.75 37.40625  Q 15.28125 32.71875 15.28125 27.15625  L 15.28125 0  z \" id=\"ArialMT-114\" />\n      <path d=\"M -1.515625 -19.875  L -1.515625 -13.53125  L 56.734375 -13.53125  L 56.734375 -19.875  z \" id=\"ArialMT-95\" />\n      <path d=\"M 25.78125 7.859375  L 27.046875 0.09375  Q 23.34375 -0.6875 20.40625 -0.6875  Q 15.625 -0.6875 12.984375 0.828125  Q 10.359375 2.34375 9.28125 4.8125  Q 8.203125 7.28125 8.203125 15.1875  L 8.203125 45.015625  L 1.765625 45.015625  L 1.765625 51.859375  L 8.203125 51.859375  L 8.203125 64.703125  L 16.9375 69.96875  L 16.9375 51.859375  L 25.78125 51.859375  L 25.78125 45.015625  L 16.9375 45.015625  L 16.9375 14.703125  Q 16.9375 10.9375 17.40625 9.859375  Q 17.875 8.796875 18.921875 8.15625  Q 19.96875 7.515625 21.921875 7.515625  Q 23.390625 7.515625 25.78125 7.859375  z \" id=\"ArialMT-116\" />\n      <path d=\"M 6.59375 0  L 6.59375 71.578125  L 15.375 71.578125  L 15.375 45.90625  Q 21.53125 53.03125 30.90625 53.03125  Q 36.671875 53.03125 40.921875 50.75  Q 45.171875 48.484375 47 44.484375  Q 48.828125 40.484375 48.828125 32.859375  L 48.828125 0  L 40.046875 0  L 40.046875 32.859375  Q 40.046875 39.453125 37.1875 42.453125  Q 34.328125 45.453125 29.109375 45.453125  Q 25.203125 45.453125 21.75 43.421875  Q 18.3125 41.40625 16.84375 37.9375  Q 15.375 34.46875 15.375 28.375  L 15.375 0  z \" id=\"ArialMT-104\" />\n      <path d=\"M 6.640625 61.46875  L 6.640625 71.578125  L 15.4375 71.578125  L 15.4375 61.46875  z M 6.640625 0  L 6.640625 51.859375  L 15.4375 51.859375  L 15.4375 0  z \" id=\"ArialMT-105\" />\n      <path d=\"M 6.203125 -19.96875  L 5.21875 -11.71875  Q 8.109375 -12.5 10.25 -12.5  Q 13.1875 -12.5 14.9375 -11.515625  Q 16.703125 -10.546875 17.828125 -8.796875  Q 18.65625 -7.46875 20.515625 -2.25  Q 20.75 -1.515625 21.296875 -0.09375  L 1.609375 51.859375  L 11.078125 51.859375  L 21.875 21.828125  Q 23.96875 16.109375 25.640625 9.8125  Q 27.15625 15.875 29.25 21.625  L 40.328125 51.859375  L 49.125 51.859375  L 29.390625 -0.875  Q 26.21875 -9.421875 24.46875 -12.640625  Q 22.125 -17 19.09375 -19.015625  Q 16.0625 -21.046875 11.859375 -21.046875  Q 9.328125 -21.046875 6.203125 -19.96875  z \" id=\"ArialMT-121\" />\n     </defs>\n     <g style=\"fill:#444443;\" transform=\"translate(72.478125 56.256964)scale(0.12 -0.12)\">\n      <use xlink:href=\"#ArialMT-117\" />\n      <use x=\"55.615234\" xlink:href=\"#ArialMT-110\" />\n      <use x=\"111.230469\" xlink:href=\"#ArialMT-100\" />\n      <use x=\"166.845703\" xlink:href=\"#ArialMT-101\" />\n      <use x=\"222.460938\" xlink:href=\"#ArialMT-114\" />\n      <use x=\"255.761719\" xlink:href=\"#ArialMT-95\" />\n      <use x=\"311.376953\" xlink:href=\"#ArialMT-116\" />\n      <use x=\"339.160156\" xlink:href=\"#ArialMT-104\" />\n      <use x=\"394.775391\" xlink:href=\"#ArialMT-105\" />\n      <use x=\"416.992188\" xlink:href=\"#ArialMT-114\" />\n      <use x=\"450.292969\" xlink:href=\"#ArialMT-116\" />\n      <use x=\"478.076172\" xlink:href=\"#ArialMT-121\" />\n     </g>\n    </g>\n   </g>\n   <g id=\"matplotlib.axis_2\">\n    <g id=\"ytick_1\">\n     <g id=\"line2d_3\">\n      <defs>\n       <path d=\"M 0 0  L -3.5 0  \" id=\"mc0c4c9202f\" style=\"stroke:#000000;stroke-width:0.3;\" />\n      </defs>\n      <g>\n       <use style=\"stroke:#000000;stroke-width:0.3;\" x=\"12.09\" y=\"28.925089\" xlink:href=\"#mc0c4c9202f\" />\n      </g>\n     </g>\n     <g id=\"text_4\">\n      \n      <g style=\"fill:#444443;\" transform=\"translate(0 31.964464)scale(0.08 -0.08)\">\n       <use xlink:href=\"#DejaVuSans-48\" />\n      </g>\n     </g>\n    </g>\n    <g id=\"ytick_2\">\n     <g id=\"line2d_4\">\n      <g>\n       <use style=\"stroke:#000000;stroke-width:0.3;\" x=\"12.09\" y=\"3.039375\" xlink:href=\"#mc0c4c9202f\" />\n      </g>\n     </g>\n     <g id=\"text_5\">\n      \n      <defs>\n       <path d=\"M 40.578125 39.3125  Q 47.65625 37.796875 51.625 33  Q 55.609375 28.21875 55.609375 21.1875  Q 55.609375 10.40625 48.1875 4.484375  Q 40.765625 -1.421875 27.09375 -1.421875  Q 22.515625 -1.421875 17.65625 -0.515625  Q 12.796875 0.390625 7.625 2.203125  L 7.625 11.71875  Q 11.71875 9.328125 16.59375 8.109375  Q 21.484375 6.890625 26.8125 6.890625  Q 36.078125 6.890625 40.9375 10.546875  Q 45.796875 14.203125 45.796875 21.1875  Q 45.796875 27.640625 41.28125 31.265625  Q 36.765625 34.90625 28.71875 34.90625  L 20.21875 34.90625  L 20.21875 43.015625  L 29.109375 43.015625  Q 36.375 43.015625 40.234375 45.921875  Q 44.09375 48.828125 44.09375 54.296875  Q 44.09375 59.90625 40.109375 62.90625  Q 36.140625 65.921875 28.71875 65.921875  Q 24.65625 65.921875 20.015625 65.03125  Q 15.375 64.15625 9.8125 62.3125  L 9.8125 71.09375  Q 15.4375 72.65625 20.34375 73.4375  Q 25.25 74.21875 29.59375 74.21875  Q 40.828125 74.21875 47.359375 69.109375  Q 53.90625 64.015625 53.90625 55.328125  Q 53.90625 49.265625 50.4375 45.09375  Q 46.96875 40.921875 40.578125 39.3125  z \" id=\"DejaVuSans-51\" />\n      </defs>\n      <g style=\"fill:#444443;\" transform=\"translate(0 6.07875)scale(0.08 -0.08)\">\n       <use xlink:href=\"#DejaVuSans-51\" />\n      </g>\n     </g>\n    </g>\n   </g>\n   <g id=\"patch_42\">\n    <path d=\"M 12.09 28.925089  L 12.09 1.745089  \" style=\"fill:none;stroke:#000000;stroke-linecap:square;stroke-linejoin:miter;stroke-width:0.3;\" />\n   </g>\n   <g id=\"patch_43\">\n    <path d=\"M 12.09 28.925089  L 196.23 28.925089  \" style=\"fill:none;stroke:#000000;stroke-linecap:square;stroke-linejoin:miter;stroke-width:0.3;\" />\n   </g>\n   <g id=\"text_6\">\n    \n    <defs>\n     <path d=\"M 4.15625 35.296875  Q 4.15625 48 6.765625 55.734375  Q 9.375 63.484375 14.515625 67.671875  Q 19.671875 71.875 27.484375 71.875  Q 33.25 71.875 37.59375 69.546875  Q 41.9375 67.234375 44.765625 62.859375  Q 47.609375 58.5 49.21875 52.21875  Q 50.828125 45.953125 50.828125 35.296875  Q 50.828125 22.703125 48.234375 14.96875  Q 45.65625 7.234375 40.5 3  Q 35.359375 -1.21875 27.484375 -1.21875  Q 17.140625 -1.21875 11.234375 6.203125  Q 4.15625 15.140625 4.15625 35.296875  z M 13.1875 35.296875  Q 13.1875 17.671875 17.3125 11.828125  Q 21.4375 6 27.484375 6  Q 33.546875 6 37.671875 11.859375  Q 41.796875 17.71875 41.796875 35.296875  Q 41.796875 52.984375 37.671875 58.78125  Q 33.546875 64.59375 27.390625 64.59375  Q 21.34375 64.59375 17.71875 59.46875  Q 13.1875 52.9375 13.1875 35.296875  z \" id=\"ArialMT-48\" />\n     <path d=\"M 9.078125 0  L 9.078125 10.015625  L 19.09375 10.015625  L 19.09375 0  z \" id=\"ArialMT-46\" />\n     <path d=\"M 4.15625 18.75  L 13.375 19.53125  Q 14.40625 12.796875 18.140625 9.390625  Q 21.875 6 27.15625 6  Q 33.5 6 37.890625 10.78125  Q 42.28125 15.578125 42.28125 23.484375  Q 42.28125 31 38.0625 35.34375  Q 33.84375 39.703125 27 39.703125  Q 22.75 39.703125 19.328125 37.765625  Q 15.921875 35.84375 13.96875 32.765625  L 5.71875 33.84375  L 12.640625 70.609375  L 48.25 70.609375  L 48.25 62.203125  L 19.671875 62.203125  L 15.828125 42.96875  Q 22.265625 47.46875 29.34375 47.46875  Q 38.71875 47.46875 45.15625 40.96875  Q 51.609375 34.46875 51.609375 24.265625  Q 51.609375 14.546875 45.953125 7.46875  Q 39.0625 -1.21875 27.15625 -1.21875  Q 17.390625 -1.21875 11.203125 4.25  Q 5.03125 9.71875 4.15625 18.75  z \" id=\"ArialMT-53\" />\n    </defs>\n    <g style=\"fill:#444443;\" transform=\"translate(91.991339 45.233089)scale(0.08 -0.08)\">\n     <use xlink:href=\"#ArialMT-48\" />\n     <use x=\"55.615234\" xlink:href=\"#ArialMT-46\" />\n     <use x=\"83.398438\" xlink:href=\"#ArialMT-53\" />\n     <use x=\"139.013672\" xlink:href=\"#ArialMT-48\" />\n    </g>\n   </g>\n  </g>\n </g>\n <defs>\n  <clipPath id=\"p74e2ba24d4\">\n   <rect height=\"27.18\" width=\"184.14\" x=\"12.09\" y=\"1.745089\" />\n  </clipPath>\n </defs>\n</svg></g>\n\n<g class=\"node\" id=\"node3\">\n<title>leaf2</title>\n<polygon fill=\"none\" points=\"71.5,-24 51.5,-24 51.5,0 71.5,0 71.5,-24\" stroke=\"#444443\" stroke-width=\"0\" />\n<svg height=\"16px\" preserveAspectRatio=\"xMinYMin meet\" version=\"1.1\" viewBox=\"0 0 15.26625 21.422141\" width=\"12px\" x=\"55.5\" y=\"-20\">\n <defs>\n  <style type=\"text/css\">\n*{stroke-linecap:butt;stroke-linejoin:round;}\n  </style>\n </defs>\n <g id=\"figure_1\">\n  <g id=\"patch_1\">\n   <path d=\"M 0 21.422141  L 15.26625 21.422141  L 15.26625 -0  L 0 -0  z \" style=\"fill:#ffffff;\" />\n  </g>\n  <g id=\"axes_1\">\n   <g id=\"patch_2\">\n    <path d=\"M 13.975125 6.342  C 13.975125 5.509176 13.811077 4.684451 13.492369 3.915022  C 13.173661 3.145593 12.706492 2.446424 12.117596 1.857529  C 11.528701 1.268633 10.829532 0.801464 10.060103 0.482756  C 9.290674 0.164048 8.465949 0 7.633125 0  C 6.800301 0 5.975576 0.164048 5.206147 0.482756  C 4.436718 0.801464 3.737549 1.268633 3.148654 1.857529  C 2.559758 2.446424 2.092589 3.145593 1.773881 3.915022  C 1.455173 4.684451 1.291125 5.509176 1.291125 6.342  C 1.291125 7.174824 1.455173 7.999549 1.773881 8.768978  C 2.092589 9.538407 2.559758 10.237576 3.148654 10.826471  C 3.737549 11.415367 4.436718 11.882536 5.206147 12.201244  C 5.975576 12.519952 6.800301 12.684 7.633125 12.684  C 8.465949 12.684 9.290674 12.519952 10.060103 12.201244  C 10.829532 11.882536 11.528701 11.415367 12.117596 10.826471  C 12.706492 10.237576 13.173661 9.538407 13.492369 8.768978  C 13.811077 7.999549 13.975125 7.174824 13.975125 6.342  M 7.633125 6.342  M 13.975125 6.342  z \" style=\"fill:#a1dab4;stroke:#444443;stroke-linejoin:miter;stroke-width:0.5;\" />\n   </g>\n   <g id=\"text_1\">\n    \n    <defs>\n     <path d=\"M 6.59375 0  L 6.59375 51.859375  L 14.5 51.859375  L 14.5 44.484375  Q 20.21875 53.03125 31 53.03125  Q 35.6875 53.03125 39.625 51.34375  Q 43.5625 49.65625 45.515625 46.921875  Q 47.46875 44.1875 48.25 40.4375  Q 48.734375 37.984375 48.734375 31.890625  L 48.734375 0  L 39.9375 0  L 39.9375 31.546875  Q 39.9375 36.921875 38.90625 39.578125  Q 37.890625 42.234375 35.28125 43.8125  Q 32.671875 45.40625 29.15625 45.40625  Q 23.53125 45.40625 19.453125 41.84375  Q 15.375 38.28125 15.375 28.328125  L 15.375 0  z \" id=\"ArialMT-110\" />\n     <path d=\"M 52.828125 42.09375  L 5.5625 42.09375  L 5.5625 50.296875  L 52.828125 50.296875  z M 52.828125 20.359375  L 5.5625 20.359375  L 5.5625 28.5625  L 52.828125 28.5625  z \" id=\"ArialMT-61\" />\n     <path d=\"M 4.203125 18.890625  L 12.984375 20.0625  Q 14.5 12.59375 18.140625 9.296875  Q 21.78125 6 27 6  Q 33.203125 6 37.46875 10.296875  Q 41.75 14.59375 41.75 20.953125  Q 41.75 27 37.796875 30.921875  Q 33.84375 34.859375 27.734375 34.859375  Q 25.25 34.859375 21.53125 33.890625  L 22.515625 41.609375  Q 23.390625 41.5 23.921875 41.5  Q 29.546875 41.5 34.03125 44.421875  Q 38.53125 47.359375 38.53125 53.46875  Q 38.53125 58.296875 35.25 61.46875  Q 31.984375 64.65625 26.8125 64.65625  Q 21.6875 64.65625 18.265625 61.421875  Q 14.84375 58.203125 13.875 51.765625  L 5.078125 53.328125  Q 6.6875 62.15625 12.390625 67.015625  Q 18.109375 71.875 26.609375 71.875  Q 32.46875 71.875 37.390625 69.359375  Q 42.328125 66.84375 44.9375 62.5  Q 47.5625 58.15625 47.5625 53.265625  Q 47.5625 48.640625 45.0625 44.828125  Q 42.578125 41.015625 37.703125 38.765625  Q 44.046875 37.3125 47.5625 32.6875  Q 51.078125 28.078125 51.078125 21.140625  Q 51.078125 11.765625 44.234375 5.25  Q 37.40625 -1.265625 26.953125 -1.265625  Q 17.53125 -1.265625 11.296875 4.34375  Q 5.078125 9.96875 4.203125 18.890625  z \" id=\"ArialMT-51\" />\n    </defs>\n    <g style=\"fill:#444443;\" transform=\"translate(0 19.633391)scale(0.09 -0.09)\">\n     <use xlink:href=\"#ArialMT-110\" />\n     <use x=\"55.615234\" xlink:href=\"#ArialMT-61\" />\n     <use x=\"114.013672\" xlink:href=\"#ArialMT-51\" />\n    </g>\n   </g>\n  </g>\n </g>\n</svg></g>\n\n<g class=\"edge\" id=\"edge1\">\n<title>node1-&gt;leaf2</title>\n<path d=\"M69.87,-40.74C68.55,-36.34 67.2,-31.9 66,-27.89\" fill=\"none\" stroke=\"#444443\" stroke-width=\"0.3\" />\n<polygon fill=\"#444443\" points=\"67.33,-27.48 64.84,-24.05 64.65,-28.29 67.33,-27.48\" stroke=\"#444443\" stroke-width=\"0.3\" />\n</g>\n\n<g class=\"node\" id=\"node4\">\n<title>leaf3</title>\n<polygon fill=\"none\" points=\"105.5,-23 85.5,-23 85.5,-1 105.5,-1 105.5,-23\" stroke=\"#444443\" stroke-width=\"0\" />\n<svg height=\"14px\" preserveAspectRatio=\"xMinYMin meet\" version=\"1.1\" viewBox=\"0 0 15.26625 18.909501\" width=\"12px\" x=\"89.5\" y=\"-19\">\n <defs>\n  <style type=\"text/css\">\n*{stroke-linecap:butt;stroke-linejoin:round;}\n  </style>\n </defs>\n <g id=\"figure_1\">\n  <g id=\"patch_1\">\n   <path d=\"M 0 18.909501  L 15.26625 18.909501  L 15.26625 0  L 0 0  z \" style=\"fill:#ffffff;\" />\n  </g>\n  <g id=\"axes_1\">\n   <g id=\"patch_2\">\n    <path d=\"M 12.767125 5.134  C 12.767125 4.459809 12.634324 3.792174 12.376323 3.169303  C 12.118321 2.546432 11.740136 1.980439 11.263411 1.503714  C 10.786686 1.026989 10.220693 0.648804 9.597822 0.390802  C 8.974951 0.132801 8.307316 -0 7.633125 -0  C 6.958934 -0 6.291299 0.132801 5.668428 0.390802  C 5.045557 0.648804 4.479564 1.026989 4.002839 1.503714  C 3.526114 1.980439 3.147929 2.546432 2.889927 3.169303  C 2.631926 3.792174 2.499125 4.459809 2.499125 5.134  C 2.499125 5.808191 2.631926 6.475826 2.889927 7.098697  C 3.147929 7.721568 3.526114 8.287561 4.002839 8.764286  C 4.479564 9.241011 5.045557 9.619196 5.668428 9.877198  C 6.291299 10.135199 6.958934 10.268 7.633125 10.268  C 8.307316 10.268 8.974951 10.135199 9.597822 9.877198  C 10.220693 9.619196 10.786686 9.241011 11.263411 8.764286  C 11.740136 8.287561 12.118321 7.721568 12.376323 7.098697  C 12.634324 6.475826 12.767125 5.808191 12.767125 5.134  M 7.633125 5.134  M 12.767125 5.134  z \" style=\"fill:#fefebb;stroke:#444443;stroke-linejoin:miter;stroke-width:0.5;\" />\n   </g>\n   <g id=\"text_1\">\n    \n    <defs>\n     <path d=\"M 6.59375 0  L 6.59375 51.859375  L 14.5 51.859375  L 14.5 44.484375  Q 20.21875 53.03125 31 53.03125  Q 35.6875 53.03125 39.625 51.34375  Q 43.5625 49.65625 45.515625 46.921875  Q 47.46875 44.1875 48.25 40.4375  Q 48.734375 37.984375 48.734375 31.890625  L 48.734375 0  L 39.9375 0  L 39.9375 31.546875  Q 39.9375 36.921875 38.90625 39.578125  Q 37.890625 42.234375 35.28125 43.8125  Q 32.671875 45.40625 29.15625 45.40625  Q 23.53125 45.40625 19.453125 41.84375  Q 15.375 38.28125 15.375 28.328125  L 15.375 0  z \" id=\"ArialMT-110\" />\n     <path d=\"M 52.828125 42.09375  L 5.5625 42.09375  L 5.5625 50.296875  L 52.828125 50.296875  z M 52.828125 20.359375  L 5.5625 20.359375  L 5.5625 28.5625  L 52.828125 28.5625  z \" id=\"ArialMT-61\" />\n     <path d=\"M 37.25 0  L 28.46875 0  L 28.46875 56  Q 25.296875 52.984375 20.140625 49.953125  Q 14.984375 46.921875 10.890625 45.40625  L 10.890625 53.90625  Q 18.265625 57.375 23.78125 62.296875  Q 29.296875 67.234375 31.59375 71.875  L 37.25 71.875  z \" id=\"ArialMT-49\" />\n    </defs>\n    <g style=\"fill:#444443;\" transform=\"translate(0 17.120751)scale(0.09 -0.09)\">\n     <use xlink:href=\"#ArialMT-110\" />\n     <use x=\"55.615234\" xlink:href=\"#ArialMT-61\" />\n     <use x=\"114.013672\" xlink:href=\"#ArialMT-49\" />\n    </g>\n   </g>\n  </g>\n </g>\n</svg></g>\n\n<g class=\"edge\" id=\"edge2\">\n<title>node1-&gt;leaf3</title>\n<path d=\"M86.08,-40.74C87.68,-36.02 89.3,-31.25 90.74,-27.03\" fill=\"none\" stroke=\"#444443\" stroke-width=\"0.3\" />\n<polygon fill=\"#444443\" points=\"92.14,-27.25 92.1,-23.01 89.49,-26.35 92.14,-27.25\" stroke=\"#444443\" stroke-width=\"0.3\" />\n</g>\n\n<g class=\"node\" id=\"node5\">\n<title>leaf4</title>\n<polygon fill=\"none\" points=\"188.5,-79.5 168.5,-79.5 168.5,-54.5 188.5,-54.5 188.5,-79.5\" stroke=\"#444443\" stroke-width=\"0\" />\n<svg height=\"17px\" preserveAspectRatio=\"xMinYMin meet\" version=\"1.1\" viewBox=\"0 0 15.26625 22.678461\" width=\"12px\" x=\"172.5\" y=\"-75\">\n <defs>\n  <style type=\"text/css\">\n*{stroke-linecap:butt;stroke-linejoin:round;}\n  </style>\n </defs>\n <g id=\"figure_1\">\n  <g id=\"patch_1\">\n   <path d=\"M 0 22.678461  L 15.26625 22.678461  L 15.26625 0  L 0 0  z \" style=\"fill:#ffffff;\" />\n  </g>\n  <g id=\"axes_1\">\n   <g id=\"patch_2\">\n    <path d=\"M 14.579125 6.946  C 14.579125 6.03386 14.399453 5.130589 14.050392 4.287881  C 13.701331 3.445173 13.189669 2.679417 12.544689 2.034436  C 11.899708 1.389456 11.133952 0.877794 10.291244 0.528733  C 9.448536 0.179672 8.545265 0 7.633125 0  C 6.720985 0 5.817714 0.179672 4.975006 0.528733  C 4.132298 0.877794 3.366542 1.389456 2.721561 2.034436  C 2.076581 2.679417 1.564919 3.445173 1.215858 4.287881  C 0.866797 5.130589 0.687125 6.03386 0.687125 6.946  C 0.687125 7.85814 0.866797 8.761411 1.215858 9.604119  C 1.564919 10.446827 2.076581 11.212583 2.721561 11.857564  C 3.366542 12.502544 4.132298 13.014206 4.975006 13.363267  C 5.817714 13.712328 6.720985 13.892 7.633125 13.892  C 8.545265 13.892 9.448536 13.712328 10.291244 13.363267  C 11.133952 13.014206 11.899708 12.502544 12.544689 11.857564  C 13.189669 11.212583 13.701331 10.446827 14.050392 9.604119  C 14.399453 8.761411 14.579125 7.85814 14.579125 6.946  M 7.633125 6.946  M 14.579125 6.946  z \" style=\"fill:#fefebb;stroke:#444443;stroke-linejoin:miter;stroke-width:0.5;\" />\n   </g>\n   <g id=\"text_1\">\n    \n    <defs>\n     <path d=\"M 6.59375 0  L 6.59375 51.859375  L 14.5 51.859375  L 14.5 44.484375  Q 20.21875 53.03125 31 53.03125  Q 35.6875 53.03125 39.625 51.34375  Q 43.5625 49.65625 45.515625 46.921875  Q 47.46875 44.1875 48.25 40.4375  Q 48.734375 37.984375 48.734375 31.890625  L 48.734375 0  L 39.9375 0  L 39.9375 31.546875  Q 39.9375 36.921875 38.90625 39.578125  Q 37.890625 42.234375 35.28125 43.8125  Q 32.671875 45.40625 29.15625 45.40625  Q 23.53125 45.40625 19.453125 41.84375  Q 15.375 38.28125 15.375 28.328125  L 15.375 0  z \" id=\"ArialMT-110\" />\n     <path d=\"M 52.828125 42.09375  L 5.5625 42.09375  L 5.5625 50.296875  L 52.828125 50.296875  z M 52.828125 20.359375  L 5.5625 20.359375  L 5.5625 28.5625  L 52.828125 28.5625  z \" id=\"ArialMT-61\" />\n     <path d=\"M 32.328125 0  L 32.328125 17.140625  L 1.265625 17.140625  L 1.265625 25.203125  L 33.9375 71.578125  L 41.109375 71.578125  L 41.109375 25.203125  L 50.78125 25.203125  L 50.78125 17.140625  L 41.109375 17.140625  L 41.109375 0  z M 32.328125 25.203125  L 32.328125 57.46875  L 9.90625 25.203125  z \" id=\"ArialMT-52\" />\n    </defs>\n    <g style=\"fill:#444443;\" transform=\"translate(0 20.889711)scale(0.09 -0.09)\">\n     <use xlink:href=\"#ArialMT-110\" />\n     <use x=\"55.615234\" xlink:href=\"#ArialMT-61\" />\n     <use x=\"114.013672\" xlink:href=\"#ArialMT-52\" />\n    </g>\n   </g>\n  </g>\n </g>\n</svg></g>\n\n\n<g class=\"node\" id=\"node2\">\n<title>node0</title>\n<svg height=\"86px\" preserveAspectRatio=\"xMinYMin meet\" version=\"1.1\" viewBox=\"0 0 196.23 114.436875\" width=\"147px\" x=\"54.5\" y=\"-213\">\n <defs>\n  <style type=\"text/css\">\n*{stroke-linecap:butt;stroke-linejoin:round;}\n  </style>\n </defs>\n <g id=\"figure_1\">\n  <g id=\"patch_1\">\n   <path d=\"M 0 114.436875  L 196.23 114.436875  L 196.23 0  L 0 0  z \" style=\"fill:#ffffff;\" />\n  </g>\n  <g id=\"axes_1\">\n   <g id=\"patch_2\">\n    <path d=\"M 12.09 84.579375  L 196.23 84.579375  L 196.23 3.039375  L 12.09 3.039375  z \" style=\"fill:#ffffff;\" />\n   </g>\n   <g id=\"patch_3\">\n    <path clip-path=\"url(#p41884017f7)\" d=\"M 12.09 84.579375  L 21.320075 84.579375  L 21.320075 64.194375  L 12.09 64.194375  z \" style=\"fill:#fefebb;stroke:#444443;stroke-linejoin:miter;stroke-width:0.5;\" />\n   </g>\n   <g id=\"patch_4\">\n    <path clip-path=\"url(#p41884017f7)\" d=\"M 21.320075 84.579375  L 30.55015 84.579375  L 30.55015 84.579375  L 21.320075 84.579375  z \" style=\"fill:#fefebb;stroke:#444443;stroke-linejoin:miter;stroke-width:0.5;\" />\n   </g>\n   <g id=\"patch_5\">\n    <path clip-path=\"url(#p41884017f7)\" d=\"M 30.55015 84.579375  L 39.780226 84.579375  L 39.780226 84.579375  L 30.55015 84.579375  z \" style=\"fill:#fefebb;stroke:#444443;stroke-linejoin:miter;stroke-width:0.5;\" />\n   </g>\n   <g id=\"patch_6\">\n    <path clip-path=\"url(#p41884017f7)\" d=\"M 39.780226 84.579375  L 49.010301 84.579375  L 49.010301 84.579375  L 39.780226 84.579375  z \" style=\"fill:#fefebb;stroke:#444443;stroke-linejoin:miter;stroke-width:0.5;\" />\n   </g>\n   <g id=\"patch_7\">\n    <path clip-path=\"url(#p41884017f7)\" d=\"M 49.010301 84.579375  L 58.240376 84.579375  L 58.240376 84.579375  L 49.010301 84.579375  z \" style=\"fill:#fefebb;stroke:#444443;stroke-linejoin:miter;stroke-width:0.5;\" />\n   </g>\n   <g id=\"patch_8\">\n    <path clip-path=\"url(#p41884017f7)\" d=\"M 58.240376 84.579375  L 67.470451 84.579375  L 67.470451 84.579375  L 58.240376 84.579375  z \" style=\"fill:#fefebb;stroke:#444443;stroke-linejoin:miter;stroke-width:0.5;\" />\n   </g>\n   <g id=\"patch_9\">\n    <path clip-path=\"url(#p41884017f7)\" d=\"M 67.470451 84.579375  L 76.700526 84.579375  L 76.700526 84.579375  L 67.470451 84.579375  z \" style=\"fill:#fefebb;stroke:#444443;stroke-linejoin:miter;stroke-width:0.5;\" />\n   </g>\n   <g id=\"patch_10\">\n    <path clip-path=\"url(#p41884017f7)\" d=\"M 76.700526 84.579375  L 85.930602 84.579375  L 85.930602 84.579375  L 76.700526 84.579375  z \" style=\"fill:#fefebb;stroke:#444443;stroke-linejoin:miter;stroke-width:0.5;\" />\n   </g>\n   <g id=\"patch_11\">\n    <path clip-path=\"url(#p41884017f7)\" d=\"M 85.930602 84.579375  L 95.160677 84.579375  L 95.160677 84.579375  L 85.930602 84.579375  z \" style=\"fill:#fefebb;stroke:#444443;stroke-linejoin:miter;stroke-width:0.5;\" />\n   </g>\n   <g id=\"patch_12\">\n    <path clip-path=\"url(#p41884017f7)\" d=\"M 95.160677 84.579375  L 104.390752 84.579375  L 104.390752 84.579375  L 95.160677 84.579375  z \" style=\"fill:#fefebb;stroke:#444443;stroke-linejoin:miter;stroke-width:0.5;\" />\n   </g>\n   <g id=\"patch_13\">\n    <path clip-path=\"url(#p41884017f7)\" d=\"M 104.390752 84.579375  L 113.620827 84.579375  L 113.620827 84.579375  L 104.390752 84.579375  z \" style=\"fill:#fefebb;stroke:#444443;stroke-linejoin:miter;stroke-width:0.5;\" />\n   </g>\n   <g id=\"patch_14\">\n    <path clip-path=\"url(#p41884017f7)\" d=\"M 113.620827 84.579375  L 122.850902 84.579375  L 122.850902 84.579375  L 113.620827 84.579375  z \" style=\"fill:#fefebb;stroke:#444443;stroke-linejoin:miter;stroke-width:0.5;\" />\n   </g>\n   <g id=\"patch_15\">\n    <path clip-path=\"url(#p41884017f7)\" d=\"M 122.850902 84.579375  L 132.080977 84.579375  L 132.080977 84.579375  L 122.850902 84.579375  z \" style=\"fill:#fefebb;stroke:#444443;stroke-linejoin:miter;stroke-width:0.5;\" />\n   </g>\n   <g id=\"patch_16\">\n    <path clip-path=\"url(#p41884017f7)\" d=\"M 132.080977 84.579375  L 141.311053 84.579375  L 141.311053 84.579375  L 132.080977 84.579375  z \" style=\"fill:#fefebb;stroke:#444443;stroke-linejoin:miter;stroke-width:0.5;\" />\n   </g>\n   <g id=\"patch_17\">\n    <path clip-path=\"url(#p41884017f7)\" d=\"M 141.311053 84.579375  L 150.541128 84.579375  L 150.541128 84.579375  L 141.311053 84.579375  z \" style=\"fill:#fefebb;stroke:#444443;stroke-linejoin:miter;stroke-width:0.5;\" />\n   </g>\n   <g id=\"patch_18\">\n    <path clip-path=\"url(#p41884017f7)\" d=\"M 150.541128 84.579375  L 159.771203 84.579375  L 159.771203 84.579375  L 150.541128 84.579375  z \" style=\"fill:#fefebb;stroke:#444443;stroke-linejoin:miter;stroke-width:0.5;\" />\n   </g>\n   <g id=\"patch_19\">\n    <path clip-path=\"url(#p41884017f7)\" d=\"M 159.771203 84.579375  L 169.001278 84.579375  L 169.001278 84.579375  L 159.771203 84.579375  z \" style=\"fill:#fefebb;stroke:#444443;stroke-linejoin:miter;stroke-width:0.5;\" />\n   </g>\n   <g id=\"patch_20\">\n    <path clip-path=\"url(#p41884017f7)\" d=\"M 169.001278 84.579375  L 178.231353 84.579375  L 178.231353 84.579375  L 169.001278 84.579375  z \" style=\"fill:#fefebb;stroke:#444443;stroke-linejoin:miter;stroke-width:0.5;\" />\n   </g>\n   <g id=\"patch_21\">\n    <path clip-path=\"url(#p41884017f7)\" d=\"M 178.231353 84.579375  L 187.461429 84.579375  L 187.461429 3.039375  L 178.231353 3.039375  z \" style=\"fill:#fefebb;stroke:#444443;stroke-linejoin:miter;stroke-width:0.5;\" />\n   </g>\n   <g id=\"patch_22\">\n    <path clip-path=\"url(#p41884017f7)\" d=\"M 12.09 64.194375  L 21.320075 64.194375  L 21.320075 23.424375  L 12.09 23.424375  z \" style=\"fill:#a1dab4;stroke:#444443;stroke-linejoin:miter;stroke-width:0.5;\" />\n   </g>\n   <g id=\"patch_23\">\n    <path clip-path=\"url(#p41884017f7)\" d=\"M 21.320075 84.579375  L 30.55015 84.579375  L 30.55015 84.579375  L 21.320075 84.579375  z \" style=\"fill:#a1dab4;stroke:#444443;stroke-linejoin:miter;stroke-width:0.5;\" />\n   </g>\n   <g id=\"patch_24\">\n    <path clip-path=\"url(#p41884017f7)\" d=\"M 30.55015 84.579375  L 39.780226 84.579375  L 39.780226 84.579375  L 30.55015 84.579375  z \" style=\"fill:#a1dab4;stroke:#444443;stroke-linejoin:miter;stroke-width:0.5;\" />\n   </g>\n   <g id=\"patch_25\">\n    <path clip-path=\"url(#p41884017f7)\" d=\"M 39.780226 84.579375  L 49.010301 84.579375  L 49.010301 84.579375  L 39.780226 84.579375  z \" style=\"fill:#a1dab4;stroke:#444443;stroke-linejoin:miter;stroke-width:0.5;\" />\n   </g>\n   <g id=\"patch_26\">\n    <path clip-path=\"url(#p41884017f7)\" d=\"M 49.010301 84.579375  L 58.240376 84.579375  L 58.240376 84.579375  L 49.010301 84.579375  z \" style=\"fill:#a1dab4;stroke:#444443;stroke-linejoin:miter;stroke-width:0.5;\" />\n   </g>\n   <g id=\"patch_27\">\n    <path clip-path=\"url(#p41884017f7)\" d=\"M 58.240376 84.579375  L 67.470451 84.579375  L 67.470451 84.579375  L 58.240376 84.579375  z \" style=\"fill:#a1dab4;stroke:#444443;stroke-linejoin:miter;stroke-width:0.5;\" />\n   </g>\n   <g id=\"patch_28\">\n    <path clip-path=\"url(#p41884017f7)\" d=\"M 67.470451 84.579375  L 76.700526 84.579375  L 76.700526 84.579375  L 67.470451 84.579375  z \" style=\"fill:#a1dab4;stroke:#444443;stroke-linejoin:miter;stroke-width:0.5;\" />\n   </g>\n   <g id=\"patch_29\">\n    <path clip-path=\"url(#p41884017f7)\" d=\"M 76.700526 84.579375  L 85.930602 84.579375  L 85.930602 84.579375  L 76.700526 84.579375  z \" style=\"fill:#a1dab4;stroke:#444443;stroke-linejoin:miter;stroke-width:0.5;\" />\n   </g>\n   <g id=\"patch_30\">\n    <path clip-path=\"url(#p41884017f7)\" d=\"M 85.930602 84.579375  L 95.160677 84.579375  L 95.160677 84.579375  L 85.930602 84.579375  z \" style=\"fill:#a1dab4;stroke:#444443;stroke-linejoin:miter;stroke-width:0.5;\" />\n   </g>\n   <g id=\"patch_31\">\n    <path clip-path=\"url(#p41884017f7)\" d=\"M 95.160677 84.579375  L 104.390752 84.579375  L 104.390752 64.194375  L 95.160677 64.194375  z \" style=\"fill:#a1dab4;stroke:#444443;stroke-linejoin:miter;stroke-width:0.5;\" />\n   </g>\n   <g id=\"patch_32\">\n    <path clip-path=\"url(#p41884017f7)\" d=\"M 104.390752 84.579375  L 113.620827 84.579375  L 113.620827 84.579375  L 104.390752 84.579375  z \" style=\"fill:#a1dab4;stroke:#444443;stroke-linejoin:miter;stroke-width:0.5;\" />\n   </g>\n   <g id=\"patch_33\">\n    <path clip-path=\"url(#p41884017f7)\" d=\"M 113.620827 84.579375  L 122.850902 84.579375  L 122.850902 84.579375  L 113.620827 84.579375  z \" style=\"fill:#a1dab4;stroke:#444443;stroke-linejoin:miter;stroke-width:0.5;\" />\n   </g>\n   <g id=\"patch_34\">\n    <path clip-path=\"url(#p41884017f7)\" d=\"M 122.850902 84.579375  L 132.080977 84.579375  L 132.080977 84.579375  L 122.850902 84.579375  z \" style=\"fill:#a1dab4;stroke:#444443;stroke-linejoin:miter;stroke-width:0.5;\" />\n   </g>\n   <g id=\"patch_35\">\n    <path clip-path=\"url(#p41884017f7)\" d=\"M 132.080977 84.579375  L 141.311053 84.579375  L 141.311053 84.579375  L 132.080977 84.579375  z \" style=\"fill:#a1dab4;stroke:#444443;stroke-linejoin:miter;stroke-width:0.5;\" />\n   </g>\n   <g id=\"patch_36\">\n    <path clip-path=\"url(#p41884017f7)\" d=\"M 141.311053 84.579375  L 150.541128 84.579375  L 150.541128 84.579375  L 141.311053 84.579375  z \" style=\"fill:#a1dab4;stroke:#444443;stroke-linejoin:miter;stroke-width:0.5;\" />\n   </g>\n   <g id=\"patch_37\">\n    <path clip-path=\"url(#p41884017f7)\" d=\"M 150.541128 84.579375  L 159.771203 84.579375  L 159.771203 84.579375  L 150.541128 84.579375  z \" style=\"fill:#a1dab4;stroke:#444443;stroke-linejoin:miter;stroke-width:0.5;\" />\n   </g>\n   <g id=\"patch_38\">\n    <path clip-path=\"url(#p41884017f7)\" d=\"M 159.771203 84.579375  L 169.001278 84.579375  L 169.001278 84.579375  L 159.771203 84.579375  z \" style=\"fill:#a1dab4;stroke:#444443;stroke-linejoin:miter;stroke-width:0.5;\" />\n   </g>\n   <g id=\"patch_39\">\n    <path clip-path=\"url(#p41884017f7)\" d=\"M 169.001278 84.579375  L 178.231353 84.579375  L 178.231353 84.579375  L 169.001278 84.579375  z \" style=\"fill:#a1dab4;stroke:#444443;stroke-linejoin:miter;stroke-width:0.5;\" />\n   </g>\n   <g id=\"patch_40\">\n    <path clip-path=\"url(#p41884017f7)\" d=\"M 178.231353 3.039375  L 187.461429 3.039375  L 187.461429 3.039375  L 178.231353 3.039375  z \" style=\"fill:#a1dab4;stroke:#444443;stroke-linejoin:miter;stroke-width:0.5;\" />\n   </g>\n   <g id=\"patch_41\">\n    <path d=\"M 143.618571 85.394775  L 140.304051 92.733375  L 146.933091 92.733375  z \" style=\"fill:#444443;\" />\n   </g>\n   <g id=\"matplotlib.axis_1\">\n    <g id=\"xtick_1\">\n     <g id=\"line2d_1\">\n      <defs>\n       <path d=\"M 0 0  L 0 3.5  \" id=\"m7712cebeaf\" style=\"stroke:#000000;stroke-width:0.3;\" />\n      </defs>\n      <g>\n       <use style=\"stroke:#000000;stroke-width:0.3;\" x=\"12.09\" y=\"84.579375\" xlink:href=\"#m7712cebeaf\" />\n      </g>\n     </g>\n     <g id=\"text_1\">\n      \n      <defs>\n       <path d=\"M 31.78125 66.40625  Q 24.171875 66.40625 20.328125 58.90625  Q 16.5 51.421875 16.5 36.375  Q 16.5 21.390625 20.328125 13.890625  Q 24.171875 6.390625 31.78125 6.390625  Q 39.453125 6.390625 43.28125 13.890625  Q 47.125 21.390625 47.125 36.375  Q 47.125 51.421875 43.28125 58.90625  Q 39.453125 66.40625 31.78125 66.40625  z M 31.78125 74.21875  Q 44.046875 74.21875 50.515625 64.515625  Q 56.984375 54.828125 56.984375 36.375  Q 56.984375 17.96875 50.515625 8.265625  Q 44.046875 -1.421875 31.78125 -1.421875  Q 19.53125 -1.421875 13.0625 8.265625  Q 6.59375 17.96875 6.59375 36.375  Q 6.59375 54.828125 13.0625 64.515625  Q 19.53125 74.21875 31.78125 74.21875  z \" id=\"DejaVuSans-48\" />\n      </defs>\n      <g style=\"fill:#444443;\" transform=\"translate(9.545 97.658125)scale(0.08 -0.08)\">\n       <use xlink:href=\"#DejaVuSans-48\" />\n      </g>\n     </g>\n    </g>\n    <g id=\"xtick_2\">\n     <g id=\"line2d_2\">\n      <g>\n       <use style=\"stroke:#000000;stroke-width:0.3;\" x=\"187.461429\" y=\"84.579375\" xlink:href=\"#m7712cebeaf\" />\n      </g>\n     </g>\n     <g id=\"text_2\">\n      \n      <defs>\n       <path d=\"M 19.1875 8.296875  L 53.609375 8.296875  L 53.609375 0  L 7.328125 0  L 7.328125 8.296875  Q 12.9375 14.109375 22.625 23.890625  Q 32.328125 33.6875 34.8125 36.53125  Q 39.546875 41.84375 41.421875 45.53125  Q 43.3125 49.21875 43.3125 52.78125  Q 43.3125 58.59375 39.234375 62.25  Q 35.15625 65.921875 28.609375 65.921875  Q 23.96875 65.921875 18.8125 64.3125  Q 13.671875 62.703125 7.8125 59.421875  L 7.8125 69.390625  Q 13.765625 71.78125 18.9375 73  Q 24.125 74.21875 28.421875 74.21875  Q 39.75 74.21875 46.484375 68.546875  Q 53.21875 62.890625 53.21875 53.421875  Q 53.21875 48.921875 51.53125 44.890625  Q 49.859375 40.875 45.40625 35.40625  Q 44.1875 33.984375 37.640625 27.21875  Q 31.109375 20.453125 19.1875 8.296875  z \" id=\"DejaVuSans-50\" />\n      </defs>\n      <g style=\"fill:#444443;\" transform=\"translate(184.916429 97.658125)scale(0.08 -0.08)\">\n       <use xlink:href=\"#DejaVuSans-50\" />\n      </g>\n     </g>\n    </g>\n    <g id=\"text_3\">\n     \n     <defs>\n      <path d=\"M 40.4375 6.390625  Q 35.546875 2.25 31.03125 0.53125  Q 26.515625 -1.171875 21.34375 -1.171875  Q 12.796875 -1.171875 8.203125 3  Q 3.609375 7.171875 3.609375 13.671875  Q 3.609375 17.484375 5.34375 20.625  Q 7.078125 23.78125 9.890625 25.6875  Q 12.703125 27.59375 16.21875 28.5625  Q 18.796875 29.25 24.03125 29.890625  Q 34.671875 31.15625 39.703125 32.90625  Q 39.75 34.71875 39.75 35.203125  Q 39.75 40.578125 37.25 42.78125  Q 33.890625 45.75 27.25 45.75  Q 21.046875 45.75 18.09375 43.578125  Q 15.140625 41.40625 13.71875 35.890625  L 5.125 37.0625  Q 6.296875 42.578125 8.984375 45.96875  Q 11.671875 49.359375 16.75 51.1875  Q 21.828125 53.03125 28.515625 53.03125  Q 35.15625 53.03125 39.296875 51.46875  Q 43.453125 49.90625 45.40625 47.53125  Q 47.359375 45.171875 48.140625 41.546875  Q 48.578125 39.3125 48.578125 33.453125  L 48.578125 21.734375  Q 48.578125 9.46875 49.140625 6.21875  Q 49.703125 2.984375 51.375 0  L 42.1875 0  Q 40.828125 2.734375 40.4375 6.390625  z M 39.703125 26.03125  Q 34.90625 24.078125 25.34375 22.703125  Q 19.921875 21.921875 17.671875 20.9375  Q 15.4375 19.96875 14.203125 18.09375  Q 12.984375 16.21875 12.984375 13.921875  Q 12.984375 10.40625 15.640625 8.0625  Q 18.3125 5.71875 23.4375 5.71875  Q 28.515625 5.71875 32.46875 7.9375  Q 36.421875 10.15625 38.28125 14.015625  Q 39.703125 17 39.703125 22.796875  z \" id=\"ArialMT-97\" />\n      <path d=\"M 25.78125 7.859375  L 27.046875 0.09375  Q 23.34375 -0.6875 20.40625 -0.6875  Q 15.625 -0.6875 12.984375 0.828125  Q 10.359375 2.34375 9.28125 4.8125  Q 8.203125 7.28125 8.203125 15.1875  L 8.203125 45.015625  L 1.765625 45.015625  L 1.765625 51.859375  L 8.203125 51.859375  L 8.203125 64.703125  L 16.9375 69.96875  L 16.9375 51.859375  L 25.78125 51.859375  L 25.78125 45.015625  L 16.9375 45.015625  L 16.9375 14.703125  Q 16.9375 10.9375 17.40625 9.859375  Q 17.875 8.796875 18.921875 8.15625  Q 19.96875 7.515625 21.921875 7.515625  Q 23.390625 7.515625 25.78125 7.859375  z \" id=\"ArialMT-116\" />\n      <path d=\"M 42.09375 16.703125  L 51.171875 15.578125  Q 49.03125 7.625 43.21875 3.21875  Q 37.40625 -1.171875 28.375 -1.171875  Q 17 -1.171875 10.328125 5.828125  Q 3.65625 12.84375 3.65625 25.484375  Q 3.65625 38.578125 10.390625 45.796875  Q 17.140625 53.03125 27.875 53.03125  Q 38.28125 53.03125 44.875 45.953125  Q 51.46875 38.875 51.46875 26.03125  Q 51.46875 25.25 51.421875 23.6875  L 12.75 23.6875  Q 13.234375 15.140625 17.578125 10.59375  Q 21.921875 6.0625 28.421875 6.0625  Q 33.25 6.0625 36.671875 8.59375  Q 40.09375 11.140625 42.09375 16.703125  z M 13.234375 30.90625  L 42.1875 30.90625  Q 41.609375 37.453125 38.875 40.71875  Q 34.671875 45.796875 27.984375 45.796875  Q 21.921875 45.796875 17.796875 41.75  Q 13.671875 37.703125 13.234375 30.90625  z \" id=\"ArialMT-101\" />\n      <path d=\"M 6.59375 0  L 6.59375 51.859375  L 14.5 51.859375  L 14.5 44.484375  Q 20.21875 53.03125 31 53.03125  Q 35.6875 53.03125 39.625 51.34375  Q 43.5625 49.65625 45.515625 46.921875  Q 47.46875 44.1875 48.25 40.4375  Q 48.734375 37.984375 48.734375 31.890625  L 48.734375 0  L 39.9375 0  L 39.9375 31.546875  Q 39.9375 36.921875 38.90625 39.578125  Q 37.890625 42.234375 35.28125 43.8125  Q 32.671875 45.40625 29.15625 45.40625  Q 23.53125 45.40625 19.453125 41.84375  Q 15.375 38.28125 15.375 28.328125  L 15.375 0  z \" id=\"ArialMT-110\" />\n      <path d=\"M 40.234375 0  L 40.234375 6.546875  Q 35.296875 -1.171875 25.734375 -1.171875  Q 19.53125 -1.171875 14.328125 2.25  Q 9.125 5.671875 6.265625 11.796875  Q 3.421875 17.921875 3.421875 25.875  Q 3.421875 33.640625 6 39.96875  Q 8.59375 46.296875 13.765625 49.65625  Q 18.953125 53.03125 25.34375 53.03125  Q 30.03125 53.03125 33.6875 51.046875  Q 37.359375 49.078125 39.65625 45.90625  L 39.65625 71.578125  L 48.390625 71.578125  L 48.390625 0  z M 12.453125 25.875  Q 12.453125 15.921875 16.640625 10.984375  Q 20.84375 6.0625 26.5625 6.0625  Q 32.328125 6.0625 36.34375 10.765625  Q 40.375 15.484375 40.375 25.140625  Q 40.375 35.796875 36.265625 40.765625  Q 32.171875 45.75 26.171875 45.75  Q 20.3125 45.75 16.375 40.96875  Q 12.453125 36.1875 12.453125 25.875  z \" id=\"ArialMT-100\" />\n      <path d=\"M -1.515625 -19.875  L -1.515625 -13.53125  L 56.734375 -13.53125  L 56.734375 -19.875  z \" id=\"ArialMT-95\" />\n      <path d=\"M 40.4375 19  L 49.078125 17.875  Q 47.65625 8.9375 41.8125 3.875  Q 35.984375 -1.171875 27.484375 -1.171875  Q 16.84375 -1.171875 10.375 5.78125  Q 3.90625 12.75 3.90625 25.734375  Q 3.90625 34.125 6.6875 40.421875  Q 9.46875 46.734375 15.15625 49.875  Q 20.84375 53.03125 27.546875 53.03125  Q 35.984375 53.03125 41.359375 48.75  Q 46.734375 44.484375 48.25 36.625  L 39.703125 35.296875  Q 38.484375 40.53125 35.375 43.15625  Q 32.28125 45.796875 27.875 45.796875  Q 21.234375 45.796875 17.078125 41.03125  Q 12.9375 36.28125 12.9375 25.984375  Q 12.9375 15.53125 16.9375 10.796875  Q 20.953125 6.0625 27.390625 6.0625  Q 32.5625 6.0625 36.03125 9.234375  Q 39.5 12.40625 40.4375 19  z \" id=\"ArialMT-99\" />\n      <path d=\"M 3.328125 25.921875  Q 3.328125 40.328125 11.328125 47.265625  Q 18.015625 53.03125 27.640625 53.03125  Q 38.328125 53.03125 45.109375 46.015625  Q 51.90625 39.015625 51.90625 26.65625  Q 51.90625 16.65625 48.90625 10.90625  Q 45.90625 5.171875 40.15625 2  Q 34.421875 -1.171875 27.640625 -1.171875  Q 16.75 -1.171875 10.03125 5.8125  Q 3.328125 12.796875 3.328125 25.921875  z M 12.359375 25.921875  Q 12.359375 15.96875 16.703125 11.015625  Q 21.046875 6.0625 27.640625 6.0625  Q 34.1875 6.0625 38.53125 11.03125  Q 42.875 16.015625 42.875 26.21875  Q 42.875 35.84375 38.5 40.796875  Q 34.125 45.75 27.640625 45.75  Q 21.046875 45.75 16.703125 40.8125  Q 12.359375 35.890625 12.359375 25.921875  z \" id=\"ArialMT-111\" />\n      <path d=\"M 6.390625 0  L 6.390625 71.578125  L 15.1875 71.578125  L 15.1875 0  z \" id=\"ArialMT-108\" />\n      <path d=\"M 4.984375 -4.296875  L 13.53125 -5.5625  Q 14.0625 -9.515625 16.5 -11.328125  Q 19.78125 -13.765625 25.4375 -13.765625  Q 31.546875 -13.765625 34.859375 -11.328125  Q 38.1875 -8.890625 39.359375 -4.5  Q 40.046875 -1.8125 39.984375 6.78125  Q 34.234375 0 25.640625 0  Q 14.9375 0 9.078125 7.71875  Q 3.21875 15.4375 3.21875 26.21875  Q 3.21875 33.640625 5.90625 39.90625  Q 8.59375 46.1875 13.6875 49.609375  Q 18.796875 53.03125 25.6875 53.03125  Q 34.859375 53.03125 40.828125 45.609375  L 40.828125 51.859375  L 48.921875 51.859375  L 48.921875 7.03125  Q 48.921875 -5.078125 46.453125 -10.125  Q 44 -15.1875 38.640625 -18.109375  Q 33.296875 -21.046875 25.484375 -21.046875  Q 16.21875 -21.046875 10.5 -16.875  Q 4.78125 -12.703125 4.984375 -4.296875  z M 12.25 26.859375  Q 12.25 16.65625 16.296875 11.96875  Q 20.359375 7.28125 26.46875 7.28125  Q 32.515625 7.28125 36.609375 11.9375  Q 40.71875 16.609375 40.71875 26.5625  Q 40.71875 36.078125 36.5 40.90625  Q 32.28125 45.75 26.3125 45.75  Q 20.453125 45.75 16.34375 40.984375  Q 12.25 36.234375 12.25 26.859375  z \" id=\"ArialMT-103\" />\n     </defs>\n     <g style=\"fill:#444443;\" transform=\"translate(58.457813 111.91125)scale(0.12 -0.12)\">\n      <use xlink:href=\"#ArialMT-97\" />\n      <use x=\"55.615234\" xlink:href=\"#ArialMT-116\" />\n      <use x=\"83.398438\" xlink:href=\"#ArialMT-116\" />\n      <use x=\"111.181641\" xlink:href=\"#ArialMT-101\" />\n      <use x=\"166.796875\" xlink:href=\"#ArialMT-110\" />\n      <use x=\"222.412109\" xlink:href=\"#ArialMT-100\" />\n      <use x=\"278.027344\" xlink:href=\"#ArialMT-101\" />\n      <use x=\"333.642578\" xlink:href=\"#ArialMT-100\" />\n      <use x=\"389.257812\" xlink:href=\"#ArialMT-95\" />\n      <use x=\"444.873047\" xlink:href=\"#ArialMT-99\" />\n      <use x=\"494.873047\" xlink:href=\"#ArialMT-111\" />\n      <use x=\"550.488281\" xlink:href=\"#ArialMT-108\" />\n      <use x=\"572.705078\" xlink:href=\"#ArialMT-108\" />\n      <use x=\"594.921875\" xlink:href=\"#ArialMT-101\" />\n      <use x=\"650.537109\" xlink:href=\"#ArialMT-103\" />\n      <use x=\"706.152344\" xlink:href=\"#ArialMT-101\" />\n     </g>\n    </g>\n   </g>\n   <g id=\"matplotlib.axis_2\">\n    <g id=\"ytick_1\">\n     <g id=\"line2d_3\">\n      <defs>\n       <path d=\"M 0 0  L -3.5 0  \" id=\"m4f1a07c6a7\" style=\"stroke:#000000;stroke-width:0.3;\" />\n      </defs>\n      <g>\n       <use style=\"stroke:#000000;stroke-width:0.3;\" x=\"12.09\" y=\"84.579375\" xlink:href=\"#m4f1a07c6a7\" />\n      </g>\n     </g>\n     <g id=\"text_4\">\n      \n      <g style=\"fill:#444443;\" transform=\"translate(0 87.61875)scale(0.08 -0.08)\">\n       <use xlink:href=\"#DejaVuSans-48\" />\n      </g>\n     </g>\n    </g>\n    <g id=\"ytick_2\">\n     <g id=\"line2d_4\">\n      <g>\n       <use style=\"stroke:#000000;stroke-width:0.3;\" x=\"12.09\" y=\"3.039375\" xlink:href=\"#m4f1a07c6a7\" />\n      </g>\n     </g>\n     <g id=\"text_5\">\n      \n      <defs>\n       <path d=\"M 37.796875 64.3125  L 12.890625 25.390625  L 37.796875 25.390625  z M 35.203125 72.90625  L 47.609375 72.90625  L 47.609375 25.390625  L 58.015625 25.390625  L 58.015625 17.1875  L 47.609375 17.1875  L 47.609375 0  L 37.796875 0  L 37.796875 17.1875  L 4.890625 17.1875  L 4.890625 26.703125  z \" id=\"DejaVuSans-52\" />\n      </defs>\n      <g style=\"fill:#444443;\" transform=\"translate(0 6.07875)scale(0.08 -0.08)\">\n       <use xlink:href=\"#DejaVuSans-52\" />\n      </g>\n     </g>\n    </g>\n   </g>\n   <g id=\"patch_42\">\n    <path d=\"M 12.09 84.579375  L 12.09 3.039375  \" style=\"fill:none;stroke:#000000;stroke-linecap:square;stroke-linejoin:miter;stroke-width:0.3;\" />\n   </g>\n   <g id=\"patch_43\">\n    <path d=\"M 12.09 84.579375  L 196.23 84.579375  \" style=\"fill:none;stroke:#000000;stroke-linecap:square;stroke-linejoin:miter;stroke-width:0.3;\" />\n   </g>\n   <g id=\"text_6\">\n    \n    <defs>\n     <path d=\"M 37.25 0  L 28.46875 0  L 28.46875 56  Q 25.296875 52.984375 20.140625 49.953125  Q 14.984375 46.921875 10.890625 45.40625  L 10.890625 53.90625  Q 18.265625 57.375 23.78125 62.296875  Q 29.296875 67.234375 31.59375 71.875  L 37.25 71.875  z \" id=\"ArialMT-49\" />\n     <path d=\"M 9.078125 0  L 9.078125 10.015625  L 19.09375 10.015625  L 19.09375 0  z \" id=\"ArialMT-46\" />\n     <path d=\"M 4.15625 18.75  L 13.375 19.53125  Q 14.40625 12.796875 18.140625 9.390625  Q 21.875 6 27.15625 6  Q 33.5 6 37.890625 10.78125  Q 42.28125 15.578125 42.28125 23.484375  Q 42.28125 31 38.0625 35.34375  Q 33.84375 39.703125 27 39.703125  Q 22.75 39.703125 19.328125 37.765625  Q 15.921875 35.84375 13.96875 32.765625  L 5.71875 33.84375  L 12.640625 70.609375  L 48.25 70.609375  L 48.25 62.203125  L 19.671875 62.203125  L 15.828125 42.96875  Q 22.265625 47.46875 29.34375 47.46875  Q 38.71875 47.46875 45.15625 40.96875  Q 51.609375 34.46875 51.609375 24.265625  Q 51.609375 14.546875 45.953125 7.46875  Q 39.0625 -1.21875 27.15625 -1.21875  Q 17.390625 -1.21875 11.203125 4.25  Q 5.03125 9.71875 4.15625 18.75  z \" id=\"ArialMT-53\" />\n     <path d=\"M 4.15625 35.296875  Q 4.15625 48 6.765625 55.734375  Q 9.375 63.484375 14.515625 67.671875  Q 19.671875 71.875 27.484375 71.875  Q 33.25 71.875 37.59375 69.546875  Q 41.9375 67.234375 44.765625 62.859375  Q 47.609375 58.5 49.21875 52.21875  Q 50.828125 45.953125 50.828125 35.296875  Q 50.828125 22.703125 48.234375 14.96875  Q 45.65625 7.234375 40.5 3  Q 35.359375 -1.21875 27.484375 -1.21875  Q 17.140625 -1.21875 11.234375 6.203125  Q 4.15625 15.140625 4.15625 35.296875  z M 13.1875 35.296875  Q 13.1875 17.671875 17.3125 11.828125  Q 21.4375 6 27.484375 6  Q 33.546875 6 37.671875 11.859375  Q 41.796875 17.71875 41.796875 35.296875  Q 41.796875 52.984375 37.671875 58.78125  Q 33.546875 64.59375 27.390625 64.59375  Q 21.34375 64.59375 17.71875 59.46875  Q 13.1875 52.9375 13.1875 35.296875  z \" id=\"ArialMT-48\" />\n    </defs>\n    <g style=\"fill:#444443;\" transform=\"translate(135.834196 100.887375)scale(0.08 -0.08)\">\n     <use xlink:href=\"#ArialMT-49\" />\n     <use x=\"55.615234\" xlink:href=\"#ArialMT-46\" />\n     <use x=\"83.398438\" xlink:href=\"#ArialMT-53\" />\n     <use x=\"139.013672\" xlink:href=\"#ArialMT-48\" />\n    </g>\n   </g>\n  </g>\n </g>\n <defs>\n  <clipPath id=\"p41884017f7\">\n   <rect height=\"81.54\" width=\"184.14\" x=\"12.09\" y=\"3.039375\" />\n  </clipPath>\n </defs>\n</svg></g>\n\n<g class=\"edge\" id=\"edge4\">\n<title>node0-&gt;node1</title>\n<path d=\"M104.69,-122.93C100.31,-114.08 95.84,-105.04 91.82,-96.93\" fill=\"none\" stroke=\"#444443\" stroke-width=\"0.3\" />\n<polygon fill=\"#444443\" points=\"92.91,-95.98 89.89,-93.02 90.41,-97.22 92.91,-95.98\" stroke=\"#444443\" stroke-width=\"0.3\" />\n<text font-family=\"Times,serif\" font-size=\"14.00\" text-anchor=\"start\" x=\"100.5\" y=\"-103.8\">&lt;</text>\n</g>\n\n<g class=\"edge\" id=\"edge5\">\n<title>node0-&gt;leaf4</title>\n<path d=\"M150.76,-122.93C157.97,-108.66 165.41,-93.91 170.78,-83.3\" fill=\"none\" stroke=\"#444443\" stroke-width=\"0.3\" />\n<polygon fill=\"#444443\" points=\"172.1,-83.78 172.65,-79.58 169.6,-82.52 172.1,-83.78\" stroke=\"#444443\" stroke-width=\"0.3\" />\n<text font-family=\"Times,serif\" font-size=\"14.00\" text-anchor=\"start\" x=\"161.5\" y=\"-103.8\">&#8805;</text>\n</g>\n\n\n<g class=\"node\" id=\"node6\">\n<title>legend</title>\n<polygon fill=\"none\" points=\"296.5,-193 212.5,-193 212.5,-147 296.5,-147 296.5,-193\" stroke=\"black\" stroke-width=\"0\" />\n<svg height=\"42px\" preserveAspectRatio=\"xMinYMin meet\" version=\"1.1\" viewBox=\"0 0 106.573437 55.3125\" width=\"80px\" x=\"214.5\" y=\"-191\">\n <defs>\n  <style type=\"text/css\">\n*{stroke-linecap:butt;stroke-linejoin:round;}\n  </style>\n </defs>\n <g id=\"figure_1\">\n  <g id=\"patch_1\">\n   <path d=\"M 0 55.3125  L 106.573437 55.3125  L 106.573437 0  L 0 0  z \" style=\"fill:#ffffff;\" />\n  </g>\n  <g id=\"axes_1\">\n   <g id=\"legend_1\">\n    <g id=\"patch_2\">\n     <path d=\"M 2 55.3125  L 104.573437 55.3125  Q 106.573437 55.3125 106.573437 53.3125  L 106.573437 2  Q 106.573437 0 104.573437 0  L 2 0  Q 0 0 0 2  L 0 53.3125  Q 0 55.3125 2 55.3125  z \" style=\"fill:#ffffff;opacity:0.8;stroke:#444443;stroke-linejoin:miter;stroke-width:0.5;\" />\n    </g>\n    <g id=\"text_1\">\n     \n     <defs>\n      <path d=\"M 8.40625 54.6875  L 25.875 54.6875  L 25.875 0  L 8.40625 0  z M 8.40625 75.984375  L 25.875 75.984375  L 25.875 61.71875  L 8.40625 61.71875  z \" id=\"DejaVuSans-Bold-105\" />\n      <path d=\"M 51.125 52.984375  L 51.125 39.703125  Q 45.515625 42.046875 40.28125 43.21875  Q 35.0625 44.390625 30.421875 44.390625  Q 25.4375 44.390625 23.015625 43.140625  Q 20.609375 41.890625 20.609375 39.3125  Q 20.609375 37.203125 22.4375 36.078125  Q 24.265625 34.96875 29 34.421875  L 32.078125 33.984375  Q 45.515625 32.28125 50.140625 28.375  Q 54.78125 24.46875 54.78125 16.109375  Q 54.78125 7.375 48.328125 2.96875  Q 41.890625 -1.421875 29.109375 -1.421875  Q 23.6875 -1.421875 17.890625 -0.5625  Q 12.109375 0.296875 6 2  L 6 15.28125  Q 11.234375 12.75 16.71875 11.46875  Q 22.21875 10.203125 27.875 10.203125  Q 33.015625 10.203125 35.59375 11.609375  Q 38.1875 13.03125 38.1875 15.828125  Q 38.1875 18.171875 36.40625 19.3125  Q 34.625 20.453125 29.296875 21.09375  L 26.21875 21.484375  Q 14.546875 22.953125 9.859375 26.90625  Q 5.171875 30.859375 5.171875 38.921875  Q 5.171875 47.609375 11.125 51.796875  Q 17.09375 56 29.390625 56  Q 34.234375 56 39.546875 55.265625  Q 44.875 54.546875 51.125 52.984375  z \" id=\"DejaVuSans-Bold-115\" />\n      <path d=\"M 50 -14.3125  L 50 -23.578125  L 0 -23.578125  L 0 -14.3125  z \" id=\"DejaVuSans-Bold-95\" />\n      <path d=\"M 52.59375 52.984375  L 52.59375 38.71875  Q 49.03125 41.15625 45.4375 42.328125  Q 41.84375 43.5 37.984375 43.5  Q 30.671875 43.5 26.59375 39.234375  Q 22.515625 34.96875 22.515625 27.296875  Q 22.515625 19.625 26.59375 15.34375  Q 30.671875 11.078125 37.984375 11.078125  Q 42.09375 11.078125 45.78125 12.296875  Q 49.46875 13.53125 52.59375 15.921875  L 52.59375 1.609375  Q 48.484375 0.09375 44.265625 -0.65625  Q 40.046875 -1.421875 35.796875 -1.421875  Q 21 -1.421875 12.640625 6.171875  Q 4.296875 13.765625 4.296875 27.296875  Q 4.296875 40.828125 12.640625 48.40625  Q 21 56 35.796875 56  Q 40.09375 56 44.265625 55.25  Q 48.4375 54.5 52.59375 52.984375  z \" id=\"DejaVuSans-Bold-99\" />\n      <path d=\"M 7.8125 21.296875  L 7.8125 54.6875  L 25.390625 54.6875  L 25.390625 49.21875  Q 25.390625 44.78125 25.34375 38.0625  Q 25.296875 31.34375 25.296875 29.109375  Q 25.296875 22.515625 25.640625 19.609375  Q 25.984375 16.703125 26.8125 15.375  Q 27.875 13.671875 29.609375 12.734375  Q 31.34375 11.8125 33.59375 11.8125  Q 39.0625 11.8125 42.1875 16.015625  Q 45.3125 20.21875 45.3125 27.6875  L 45.3125 54.6875  L 62.796875 54.6875  L 62.796875 0  L 45.3125 0  L 45.3125 7.90625  Q 41.359375 3.125 36.9375 0.84375  Q 32.515625 -1.421875 27.203125 -1.421875  Q 17.71875 -1.421875 12.765625 4.390625  Q 7.8125 10.203125 7.8125 21.296875  z \" id=\"DejaVuSans-Bold-117\" />\n      <path d=\"M 27.484375 70.21875  L 27.484375 54.6875  L 45.515625 54.6875  L 45.515625 42.1875  L 27.484375 42.1875  L 27.484375 19  Q 27.484375 15.1875 29 13.84375  Q 30.515625 12.5 35.015625 12.5  L 44 12.5  L 44 0  L 29 0  Q 18.65625 0 14.328125 4.3125  Q 10.015625 8.640625 10.015625 19  L 10.015625 42.1875  L 1.3125 42.1875  L 1.3125 54.6875  L 10.015625 54.6875  L 10.015625 70.21875  z \" id=\"DejaVuSans-Bold-116\" />\n      <path d=\"M 34.421875 43.5  Q 28.609375 43.5 25.5625 39.328125  Q 22.515625 35.15625 22.515625 27.296875  Q 22.515625 19.4375 25.5625 15.25  Q 28.609375 11.078125 34.421875 11.078125  Q 40.140625 11.078125 43.15625 15.25  Q 46.1875 19.4375 46.1875 27.296875  Q 46.1875 35.15625 43.15625 39.328125  Q 40.140625 43.5 34.421875 43.5  z M 34.421875 56  Q 48.53125 56 56.46875 48.375  Q 64.40625 40.765625 64.40625 27.296875  Q 64.40625 13.8125 56.46875 6.1875  Q 48.53125 -1.421875 34.421875 -1.421875  Q 20.265625 -1.421875 12.28125 6.1875  Q 4.296875 13.8125 4.296875 27.296875  Q 4.296875 40.765625 12.28125 48.375  Q 20.265625 56 34.421875 56  z \" id=\"DejaVuSans-Bold-111\" />\n      <path d=\"M 59.078125 45.609375  Q 62.40625 50.6875 66.96875 53.34375  Q 71.53125 56 77 56  Q 86.421875 56 91.359375 50.1875  Q 96.296875 44.390625 96.296875 33.296875  L 96.296875 0  L 78.71875 0  L 78.71875 28.515625  Q 78.765625 29.15625 78.78125 29.828125  Q 78.8125 30.515625 78.8125 31.78125  Q 78.8125 37.59375 77.09375 40.203125  Q 75.390625 42.828125 71.578125 42.828125  Q 66.609375 42.828125 63.890625 38.71875  Q 61.1875 34.625 61.078125 26.859375  L 61.078125 0  L 43.5 0  L 43.5 28.515625  Q 43.5 37.59375 41.9375 40.203125  Q 40.375 42.828125 36.375 42.828125  Q 31.34375 42.828125 28.609375 38.703125  Q 25.875 34.578125 25.875 26.90625  L 25.875 0  L 8.296875 0  L 8.296875 54.6875  L 25.875 54.6875  L 25.875 46.6875  Q 29.109375 51.3125 33.28125 53.65625  Q 37.453125 56 42.484375 56  Q 48.140625 56 52.484375 53.265625  Q 56.84375 50.53125 59.078125 45.609375  z \" id=\"DejaVuSans-Bold-109\" />\n      <path d=\"M 62.984375 27.484375  L 62.984375 22.515625  L 22.125 22.515625  Q 22.75 16.359375 26.5625 13.28125  Q 30.375 10.203125 37.203125 10.203125  Q 42.71875 10.203125 48.5 11.84375  Q 54.296875 13.484375 60.40625 16.796875  L 60.40625 3.328125  Q 54.203125 0.984375 48 -0.21875  Q 41.796875 -1.421875 35.59375 -1.421875  Q 20.75 -1.421875 12.515625 6.125  Q 4.296875 13.671875 4.296875 27.296875  Q 4.296875 40.671875 12.375 48.328125  Q 20.453125 56 34.625 56  Q 47.515625 56 55.25 48.234375  Q 62.984375 40.484375 62.984375 27.484375  z M 45.015625 33.296875  Q 45.015625 38.28125 42.109375 41.328125  Q 39.203125 44.390625 34.515625 44.390625  Q 29.4375 44.390625 26.265625 41.53125  Q 23.09375 38.671875 22.3125 33.296875  z \" id=\"DejaVuSans-Bold-101\" />\n      <path d=\"M 49.03125 39.796875  Q 46.734375 40.875 44.453125 41.375  Q 42.1875 41.890625 39.890625 41.890625  Q 33.15625 41.890625 29.515625 37.5625  Q 25.875 33.25 25.875 25.203125  L 25.875 0  L 8.40625 0  L 8.40625 54.6875  L 25.875 54.6875  L 25.875 45.703125  Q 29.25 51.078125 33.609375 53.53125  Q 37.984375 56 44.09375 56  Q 44.96875 56 45.984375 55.921875  Q 47.015625 55.859375 48.96875 55.609375  z \" id=\"DejaVuSans-Bold-114\" />\n     </defs>\n     <g style=\"fill:#444443;\" transform=\"translate(19.705469 15.598438)scale(0.1 -0.1)\">\n      <use xlink:href=\"#DejaVuSans-Bold-105\" />\n      <use x=\"34.277344\" xlink:href=\"#DejaVuSans-Bold-115\" />\n      <use x=\"93.798828\" xlink:href=\"#DejaVuSans-Bold-95\" />\n      <use x=\"143.798828\" xlink:href=\"#DejaVuSans-Bold-99\" />\n      <use x=\"203.076172\" xlink:href=\"#DejaVuSans-Bold-117\" />\n      <use x=\"274.267578\" xlink:href=\"#DejaVuSans-Bold-115\" />\n      <use x=\"333.789062\" xlink:href=\"#DejaVuSans-Bold-116\" />\n      <use x=\"381.591797\" xlink:href=\"#DejaVuSans-Bold-111\" />\n      <use x=\"450.292969\" xlink:href=\"#DejaVuSans-Bold-109\" />\n      <use x=\"554.492188\" xlink:href=\"#DejaVuSans-Bold-101\" />\n      <use x=\"622.314453\" xlink:href=\"#DejaVuSans-Bold-114\" />\n     </g>\n    </g>\n    <g id=\"patch_3\">\n     <path d=\"M 8 30.554688  L 28 30.554688  L 28 23.554688  L 8 23.554688  z \" style=\"fill:#fefebb;stroke:#444443;stroke-linejoin:miter;stroke-width:0.4;\" />\n    </g>\n    <g id=\"text_2\">\n     \n     <defs>\n      <path d=\"M 54.890625 33.015625  L 54.890625 0  L 45.90625 0  L 45.90625 32.71875  Q 45.90625 40.484375 42.875 44.328125  Q 39.84375 48.1875 33.796875 48.1875  Q 26.515625 48.1875 22.3125 43.546875  Q 18.109375 38.921875 18.109375 30.90625  L 18.109375 0  L 9.078125 0  L 9.078125 54.6875  L 18.109375 54.6875  L 18.109375 46.1875  Q 21.34375 51.125 25.703125 53.5625  Q 30.078125 56 35.796875 56  Q 45.21875 56 50.046875 50.171875  Q 54.890625 44.34375 54.890625 33.015625  z \" id=\"DejaVuSans-110\" />\n      <path d=\"M 30.609375 48.390625  Q 23.390625 48.390625 19.1875 42.75  Q 14.984375 37.109375 14.984375 27.296875  Q 14.984375 17.484375 19.15625 11.84375  Q 23.34375 6.203125 30.609375 6.203125  Q 37.796875 6.203125 41.984375 11.859375  Q 46.1875 17.53125 46.1875 27.296875  Q 46.1875 37.015625 41.984375 42.703125  Q 37.796875 48.390625 30.609375 48.390625  z M 30.609375 56  Q 42.328125 56 49.015625 48.375  Q 55.71875 40.765625 55.71875 27.296875  Q 55.71875 13.875 49.015625 6.21875  Q 42.328125 -1.421875 30.609375 -1.421875  Q 18.84375 -1.421875 12.171875 6.21875  Q 5.515625 13.875 5.515625 27.296875  Q 5.515625 40.765625 12.171875 48.375  Q 18.84375 56 30.609375 56  z \" id=\"DejaVuSans-111\" />\n      <path d=\"M 18.3125 70.21875  L 18.3125 54.6875  L 36.8125 54.6875  L 36.8125 47.703125  L 18.3125 47.703125  L 18.3125 18.015625  Q 18.3125 11.328125 20.140625 9.421875  Q 21.96875 7.515625 27.59375 7.515625  L 36.8125 7.515625  L 36.8125 0  L 27.59375 0  Q 17.1875 0 13.234375 3.875  Q 9.28125 7.765625 9.28125 18.015625  L 9.28125 47.703125  L 2.6875 47.703125  L 2.6875 54.6875  L 9.28125 54.6875  L 9.28125 70.21875  z \" id=\"DejaVuSans-116\" />\n      <path d=\"M 4.890625 31.390625  L 31.203125 31.390625  L 31.203125 23.390625  L 4.890625 23.390625  z \" id=\"DejaVuSans-45\" />\n      <path d=\"M 48.78125 52.59375  L 48.78125 44.1875  Q 44.96875 46.296875 41.140625 47.34375  Q 37.3125 48.390625 33.40625 48.390625  Q 24.65625 48.390625 19.8125 42.84375  Q 14.984375 37.3125 14.984375 27.296875  Q 14.984375 17.28125 19.8125 11.734375  Q 24.65625 6.203125 33.40625 6.203125  Q 37.3125 6.203125 41.140625 7.25  Q 44.96875 8.296875 48.78125 10.40625  L 48.78125 2.09375  Q 45.015625 0.34375 40.984375 -0.53125  Q 36.96875 -1.421875 32.421875 -1.421875  Q 20.0625 -1.421875 12.78125 6.34375  Q 5.515625 14.109375 5.515625 27.296875  Q 5.515625 40.671875 12.859375 48.328125  Q 20.21875 56 33.015625 56  Q 37.15625 56 41.109375 55.140625  Q 45.0625 54.296875 48.78125 52.59375  z \" id=\"DejaVuSans-99\" />\n      <path d=\"M 8.5 21.578125  L 8.5 54.6875  L 17.484375 54.6875  L 17.484375 21.921875  Q 17.484375 14.15625 20.5 10.265625  Q 23.53125 6.390625 29.59375 6.390625  Q 36.859375 6.390625 41.078125 11.03125  Q 45.3125 15.671875 45.3125 23.6875  L 45.3125 54.6875  L 54.296875 54.6875  L 54.296875 0  L 45.3125 0  L 45.3125 8.40625  Q 42.046875 3.421875 37.71875 1  Q 33.40625 -1.421875 27.6875 -1.421875  Q 18.265625 -1.421875 13.375 4.4375  Q 8.5 10.296875 8.5 21.578125  z M 31.109375 56  z \" id=\"DejaVuSans-117\" />\n      <path d=\"M 44.28125 53.078125  L 44.28125 44.578125  Q 40.484375 46.53125 36.375 47.5  Q 32.28125 48.484375 27.875 48.484375  Q 21.1875 48.484375 17.84375 46.4375  Q 14.5 44.390625 14.5 40.28125  Q 14.5 37.15625 16.890625 35.375  Q 19.28125 33.59375 26.515625 31.984375  L 29.59375 31.296875  Q 39.15625 29.25 43.1875 25.515625  Q 47.21875 21.78125 47.21875 15.09375  Q 47.21875 7.46875 41.1875 3.015625  Q 35.15625 -1.421875 24.609375 -1.421875  Q 20.21875 -1.421875 15.453125 -0.5625  Q 10.6875 0.296875 5.421875 2  L 5.421875 11.28125  Q 10.40625 8.6875 15.234375 7.390625  Q 20.0625 6.109375 24.8125 6.109375  Q 31.15625 6.109375 34.5625 8.28125  Q 37.984375 10.453125 37.984375 14.40625  Q 37.984375 18.0625 35.515625 20.015625  Q 33.0625 21.96875 24.703125 23.78125  L 21.578125 24.515625  Q 13.234375 26.265625 9.515625 29.90625  Q 5.8125 33.546875 5.8125 39.890625  Q 5.8125 47.609375 11.28125 51.796875  Q 16.75 56 26.8125 56  Q 31.78125 56 36.171875 55.265625  Q 40.578125 54.546875 44.28125 53.078125  z \" id=\"DejaVuSans-115\" />\n      <path d=\"M 52 44.1875  Q 55.375 50.25 60.0625 53.125  Q 64.75 56 71.09375 56  Q 79.640625 56 84.28125 50.015625  Q 88.921875 44.046875 88.921875 33.015625  L 88.921875 0  L 79.890625 0  L 79.890625 32.71875  Q 79.890625 40.578125 77.09375 44.375  Q 74.3125 48.1875 68.609375 48.1875  Q 61.625 48.1875 57.5625 43.546875  Q 53.515625 38.921875 53.515625 30.90625  L 53.515625 0  L 44.484375 0  L 44.484375 32.71875  Q 44.484375 40.625 41.703125 44.40625  Q 38.921875 48.1875 33.109375 48.1875  Q 26.21875 48.1875 22.15625 43.53125  Q 18.109375 38.875 18.109375 30.90625  L 18.109375 0  L 9.078125 0  L 9.078125 54.6875  L 18.109375 54.6875  L 18.109375 46.1875  Q 21.1875 51.21875 25.484375 53.609375  Q 29.78125 56 35.6875 56  Q 41.65625 56 45.828125 52.96875  Q 50 49.953125 52 44.1875  z \" id=\"DejaVuSans-109\" />\n      <path d=\"M 56.203125 29.59375  L 56.203125 25.203125  L 14.890625 25.203125  Q 15.484375 15.921875 20.484375 11.0625  Q 25.484375 6.203125 34.421875 6.203125  Q 39.59375 6.203125 44.453125 7.46875  Q 49.3125 8.734375 54.109375 11.28125  L 54.109375 2.78125  Q 49.265625 0.734375 44.1875 -0.34375  Q 39.109375 -1.421875 33.890625 -1.421875  Q 20.796875 -1.421875 13.15625 6.1875  Q 5.515625 13.8125 5.515625 26.8125  Q 5.515625 40.234375 12.765625 48.109375  Q 20.015625 56 32.328125 56  Q 43.359375 56 49.78125 48.890625  Q 56.203125 41.796875 56.203125 29.59375  z M 47.21875 32.234375  Q 47.125 39.59375 43.09375 43.984375  Q 39.0625 48.390625 32.421875 48.390625  Q 24.90625 48.390625 20.390625 44.140625  Q 15.875 39.890625 15.1875 32.171875  z \" id=\"DejaVuSans-101\" />\n      <path d=\"M 41.109375 46.296875  Q 39.59375 47.171875 37.8125 47.578125  Q 36.03125 48 33.890625 48  Q 26.265625 48 22.1875 43.046875  Q 18.109375 38.09375 18.109375 28.8125  L 18.109375 0  L 9.078125 0  L 9.078125 54.6875  L 18.109375 54.6875  L 18.109375 46.1875  Q 20.953125 51.171875 25.484375 53.578125  Q 30.03125 56 36.53125 56  Q 37.453125 56 38.578125 55.875  Q 39.703125 55.765625 41.0625 55.515625  z \" id=\"DejaVuSans-114\" />\n     </defs>\n     <g style=\"fill:#444443;\" transform=\"translate(31.5 30.554688)scale(0.1 -0.1)\">\n      <use xlink:href=\"#DejaVuSans-110\" />\n      <use x=\"63.378906\" xlink:href=\"#DejaVuSans-111\" />\n      <use x=\"124.560547\" xlink:href=\"#DejaVuSans-116\" />\n      <use x=\"163.769531\" xlink:href=\"#DejaVuSans-45\" />\n      <use x=\"199.853516\" xlink:href=\"#DejaVuSans-99\" />\n      <use x=\"254.833984\" xlink:href=\"#DejaVuSans-117\" />\n      <use x=\"318.212891\" xlink:href=\"#DejaVuSans-115\" />\n      <use x=\"370.3125\" xlink:href=\"#DejaVuSans-116\" />\n      <use x=\"409.521484\" xlink:href=\"#DejaVuSans-111\" />\n      <use x=\"470.703125\" xlink:href=\"#DejaVuSans-109\" />\n      <use x=\"568.115234\" xlink:href=\"#DejaVuSans-101\" />\n      <use x=\"629.638672\" xlink:href=\"#DejaVuSans-114\" />\n     </g>\n    </g>\n    <g id=\"patch_4\">\n     <path d=\"M 8 45.232813  L 28 45.232813  L 28 38.232813  L 8 38.232813  z \" style=\"fill:#a1dab4;stroke:#444443;stroke-linejoin:miter;stroke-width:0.4;\" />\n    </g>\n    <g id=\"text_3\">\n     \n     <g style=\"fill:#444443;\" transform=\"translate(31.5 45.232813)scale(0.1 -0.1)\">\n      <use xlink:href=\"#DejaVuSans-99\" />\n      <use x=\"54.980469\" xlink:href=\"#DejaVuSans-117\" />\n      <use x=\"118.359375\" xlink:href=\"#DejaVuSans-115\" />\n      <use x=\"170.458984\" xlink:href=\"#DejaVuSans-116\" />\n      <use x=\"209.667969\" xlink:href=\"#DejaVuSans-111\" />\n      <use x=\"270.849609\" xlink:href=\"#DejaVuSans-109\" />\n      <use x=\"368.261719\" xlink:href=\"#DejaVuSans-101\" />\n      <use x=\"429.785156\" xlink:href=\"#DejaVuSans-114\" />\n     </g>\n    </g>\n   </g>\n  </g>\n </g>\n</svg></g>\n</g>\n</svg>",
            "text/plain": [
              "<dtreeviz.trees.DTreeViz at 0x1a2204fc90>"
            ]
          },
          "metadata": {
            "tags": []
          },
          "execution_count": 16
        }
      ]
    },
    {
      "cell_type": "markdown",
      "metadata": {
        "id": "PquRYafXpJGo",
        "colab_type": "text"
      },
      "source": [
        "So we can see that our model's hypothesis function makes predictions based on an observation's feature of `attended_college`.  \n",
        "\n",
        "If there is not a ? for whether the lead attended college, which remember is the 0, then the model predicts she is not a customer.  Otherwise it goes to the next split to see if the lead is under 30, if a ? and not under thirty it predicts a customer, otherwise it predicts not a customer."
      ]
    },
    {
      "cell_type": "markdown",
      "metadata": {
        "id": "npj2F3VQpJGo",
        "colab_type": "text"
      },
      "source": [
        "### Predicting with the model"
      ]
    },
    {
      "cell_type": "markdown",
      "metadata": {
        "id": "fQRip6yGpJGo",
        "colab_type": "text"
      },
      "source": [
        "Now the power of our trained model is that we can now, take in the features of a lead where we do not know the outcome, and predict if she will become a customer or not.  \n",
        "\n",
        "Before we do that, let's check that our model properly predicts the outcomes of the training data."
      ]
    },
    {
      "cell_type": "code",
      "metadata": {
        "id": "TZtvoEdWpJGp",
        "colab_type": "code",
        "outputId": "ec4155fc-2ed7-4bc5-a1e4-0d8f37bce780",
        "colab": {}
      },
      "source": [
        "y"
      ],
      "execution_count": 0,
      "outputs": [
        {
          "output_type": "execute_result",
          "data": {
            "text/plain": [
              "0    0\n",
              "1    0\n",
              "2    1\n",
              "3    1\n",
              "4    1\n",
              "5    0\n",
              "6    0\n",
              "7    0\n",
              "Name: customer, dtype: int64"
            ]
          },
          "metadata": {
            "tags": []
          },
          "execution_count": 18
        }
      ]
    },
    {
      "cell_type": "code",
      "metadata": {
        "id": "wDVnImNSpJGr",
        "colab_type": "code",
        "outputId": "0c833cca-1a13-4007-9146-50824a52057c",
        "colab": {}
      },
      "source": [
        "model.predict(X)"
      ],
      "execution_count": 0,
      "outputs": [
        {
          "output_type": "execute_result",
          "data": {
            "text/plain": [
              "array([0, 0, 1, 1, 1, 0, 0, 0])"
            ]
          },
          "metadata": {
            "tags": []
          },
          "execution_count": 19
        }
      ]
    },
    {
      "cell_type": "markdown",
      "metadata": {
        "id": "k7QX58nBpJGt",
        "colab_type": "text"
      },
      "source": [
        "Ok, now let's use the model to predict the outcome of a lead where we do not know the outcome."
      ]
    },
    {
      "cell_type": "markdown",
      "metadata": {
        "id": "Nhy8LBwRpJGu",
        "colab_type": "text"
      },
      "source": [
        "| Attended College | Under Thirty | Borough   | Income | \n",
        "| ---------------- | ------------ | --------- | ------ | \n",
        "| ?                | No          | Brooklyn | < 55   | "
      ]
    },
    {
      "cell_type": "code",
      "metadata": {
        "id": "Yl4HWMr5pJGu",
        "colab_type": "code",
        "outputId": "389d566b-efe3-4f89-b3b7-26cde422a357",
        "colab": {}
      },
      "source": [
        "import numpy as np\n",
        "df_2 = pd.DataFrame([['?', 'No', 'Brooklyn', '< 55']], columns = df.columns[:-1])\n",
        "df_2"
      ],
      "execution_count": 0,
      "outputs": [
        {
          "output_type": "execute_result",
          "data": {
            "text/html": [
              "<div>\n",
              "<style scoped>\n",
              "    .dataframe tbody tr th:only-of-type {\n",
              "        vertical-align: middle;\n",
              "    }\n",
              "\n",
              "    .dataframe tbody tr th {\n",
              "        vertical-align: top;\n",
              "    }\n",
              "\n",
              "    .dataframe thead th {\n",
              "        text-align: right;\n",
              "    }\n",
              "</style>\n",
              "<table border=\"1\" class=\"dataframe\">\n",
              "  <thead>\n",
              "    <tr style=\"text-align: right;\">\n",
              "      <th></th>\n",
              "      <th>attended_college</th>\n",
              "      <th>under_thirty</th>\n",
              "      <th>borough</th>\n",
              "      <th>income</th>\n",
              "    </tr>\n",
              "  </thead>\n",
              "  <tbody>\n",
              "    <tr>\n",
              "      <th>0</th>\n",
              "      <td>?</td>\n",
              "      <td>No</td>\n",
              "      <td>Brooklyn</td>\n",
              "      <td>&lt; 55</td>\n",
              "    </tr>\n",
              "  </tbody>\n",
              "</table>\n",
              "</div>"
            ],
            "text/plain": [
              "  attended_college under_thirty   borough income\n",
              "0                ?           No  Brooklyn   < 55"
            ]
          },
          "metadata": {
            "tags": []
          },
          "execution_count": 63
        }
      ]
    },
    {
      "cell_type": "code",
      "metadata": {
        "id": "9zu38B2TpJGy",
        "colab_type": "code",
        "outputId": "fa818c08-5d01-4f1b-cad0-ab343ed4a6bf",
        "colab": {}
      },
      "source": [
        "obs = mapper.transform(df_2)\n",
        "obs"
      ],
      "execution_count": 0,
      "outputs": [
        {
          "output_type": "execute_result",
          "data": {
            "text/html": [
              "<div>\n",
              "<style scoped>\n",
              "    .dataframe tbody tr th:only-of-type {\n",
              "        vertical-align: middle;\n",
              "    }\n",
              "\n",
              "    .dataframe tbody tr th {\n",
              "        vertical-align: top;\n",
              "    }\n",
              "\n",
              "    .dataframe thead th {\n",
              "        text-align: right;\n",
              "    }\n",
              "</style>\n",
              "<table border=\"1\" class=\"dataframe\">\n",
              "  <thead>\n",
              "    <tr style=\"text-align: right;\">\n",
              "      <th></th>\n",
              "      <th>attended_college</th>\n",
              "      <th>under_thirty</th>\n",
              "      <th>borough</th>\n",
              "      <th>income</th>\n",
              "    </tr>\n",
              "  </thead>\n",
              "  <tbody>\n",
              "    <tr>\n",
              "      <th>0</th>\n",
              "      <td>0</td>\n",
              "      <td>0</td>\n",
              "      <td>0</td>\n",
              "      <td>1</td>\n",
              "    </tr>\n",
              "  </tbody>\n",
              "</table>\n",
              "</div>"
            ],
            "text/plain": [
              "   attended_college  under_thirty  borough  income\n",
              "0                 0             0        0       1"
            ]
          },
          "metadata": {
            "tags": []
          },
          "execution_count": 66
        }
      ]
    },
    {
      "cell_type": "markdown",
      "metadata": {
        "id": "AoF0_h7EpJG0",
        "colab_type": "text"
      },
      "source": [
        "And then we can pass this into the model's predict method."
      ]
    },
    {
      "cell_type": "code",
      "metadata": {
        "id": "SdEN23bnpJG1",
        "colab_type": "code",
        "outputId": "7b6b30c5-bf2b-48df-817f-e693d18dfd7f",
        "colab": {}
      },
      "source": [
        "model.predict(obs)"
      ],
      "execution_count": 0,
      "outputs": [
        {
          "output_type": "execute_result",
          "data": {
            "text/plain": [
              "array([1])"
            ]
          },
          "metadata": {
            "tags": []
          },
          "execution_count": 68
        }
      ]
    },
    {
      "cell_type": "markdown",
      "metadata": {
        "id": "Sljy7pHDpJG3",
        "colab_type": "text"
      },
      "source": [
        "> `model.predict` takes a *list* of observations as an argument."
      ]
    },
    {
      "cell_type": "markdown",
      "metadata": {
        "id": "KIAvWu50pJG4",
        "colab_type": "text"
      },
      "source": [
        "Above, because the lead is not under 30, our model predicts the lead will become a customer."
      ]
    },
    {
      "cell_type": "markdown",
      "metadata": {
        "id": "GYHiTpuBpJG4",
        "colab_type": "text"
      },
      "source": [
        "### Summary"
      ]
    },
    {
      "cell_type": "markdown",
      "metadata": {
        "id": "IYedSkF8pJG4",
        "colab_type": "text"
      },
      "source": [
        "In this lesson, we saw how we can train and predict with a decision tree classifier.  Doing so involves first converting our data to be numerical.  Here, we used the LabelEncoder transformer to convert each category into an assigned number.  Then, we initialized a DecisionTreeClassifier, fitting with our feature and target variables.  It's tricky to see the hypothesis function, but we can do so using `dtreeviz`.\n",
        "\n",
        "Finally, we can predict the outcomes of new observations by transforming the observations with our mapper and then with the `predict` method."
      ]
    },
    {
      "cell_type": "markdown",
      "metadata": {
        "id": "0NC3_TpbpJG5",
        "colab_type": "text"
      },
      "source": [
        "<center>\n",
        "<a href=\"https://www.jigsawlabs.io/free\" style=\"position: center\"><img src=\"https://storage.cloud.google.com/curriculum-assets/curriculum-assets.nosync/mom-files/jigsaw-labs.png\" width=\"15%\" style=\"text-align: center\"></a>\n",
        "</center>"
      ]
    }
  ]
}