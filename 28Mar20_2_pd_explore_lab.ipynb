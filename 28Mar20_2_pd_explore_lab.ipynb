{
  "nbformat": 4,
  "nbformat_minor": 0,
  "metadata": {
    "kernelspec": {
      "display_name": "Python 3",
      "language": "python",
      "name": "python3"
    },
    "language_info": {
      "codemirror_mode": {
        "name": "ipython",
        "version": 3
      },
      "file_extension": ".py",
      "mimetype": "text/x-python",
      "name": "python",
      "nbconvert_exporter": "python",
      "pygments_lexer": "ipython3",
      "version": "3.7.4"
    },
    "colab": {
      "name": "Copy of 2-pd-explore-lab.ipynb",
      "provenance": [],
      "include_colab_link": true
    }
  },
  "cells": [
    {
      "cell_type": "markdown",
      "metadata": {
        "id": "view-in-github",
        "colab_type": "text"
      },
      "source": [
        "<a href=\"https://colab.research.google.com/github/ludawg44/jigsawlabs/blob/master/28Mar20_2_pd_explore_lab.ipynb\" target=\"_parent\"><img src=\"https://colab.research.google.com/assets/colab-badge.svg\" alt=\"Open In Colab\"/></a>"
      ]
    },
    {
      "cell_type": "markdown",
      "metadata": {
        "id": "2kNiUiUN4FLT",
        "colab_type": "text"
      },
      "source": [
        "# Explore and Coerce Pandas DataTypes "
      ]
    },
    {
      "cell_type": "markdown",
      "metadata": {
        "id": "jmd7JDzB4FLU",
        "colab_type": "text"
      },
      "source": [
        "### Introduction"
      ]
    },
    {
      "cell_type": "markdown",
      "metadata": {
        "id": "Cswrb_A24FLV",
        "colab_type": "text"
      },
      "source": [
        "In the last lesson we saw that even though some of our columns may start off as datatype object, and thus not directly usable in a machine learning model, that we develop techniques for extracting numeric information from that data.  In this lab we'll practice exploring the different datatypes of our pandas dataframe, and making some of the data in our columns to be numeric."
      ]
    },
    {
      "cell_type": "markdown",
      "metadata": {
        "id": "25JaC1Tp4FLV",
        "colab_type": "text"
      },
      "source": [
        "### Loading and Exploring Our Data"
      ]
    },
    {
      "cell_type": "markdown",
      "metadata": {
        "id": "wItjW8VO4FLW",
        "colab_type": "text"
      },
      "source": [
        "Loading our data."
      ]
    },
    {
      "cell_type": "code",
      "metadata": {
        "id": "vJk4ZPoS4FLW",
        "colab_type": "code",
        "colab": {}
      },
      "source": [
        "import pandas as pd\n",
        "url = 'https://raw.githubusercontent.com/jigsawlabs-student/introductory-pandas/master/nyc_hs_sat.csv'\n",
        "df = pd.read_csv(url, index_col = 0)\n",
        "\n",
        "# to make things more interesting, we also alter some of the data\n",
        "columns = ['math_avg', 'writing_score']\n",
        "df[columns] = df[columns].astype('object')\n",
        "str_cols = df[columns].apply(lambda x: x.map(str))\n",
        "df = df.drop(columns = columns)\n",
        "sat_df = pd.concat([df, str_cols], axis = 1)"
      ],
      "execution_count": 0,
      "outputs": []
    },
    {
      "cell_type": "markdown",
      "metadata": {
        "id": "eWdcrIZQ4FLZ",
        "colab_type": "text"
      },
      "source": [
        "> Press shift + enter to load the data above"
      ]
    },
    {
      "cell_type": "code",
      "metadata": {
        "id": "szNvNy1L4FLa",
        "colab_type": "code",
        "outputId": "af737fcd-abda-4462-b7fc-34520c04d5e9",
        "colab": {}
      },
      "source": [
        "sat_df[:2]"
      ],
      "execution_count": 0,
      "outputs": [
        {
          "output_type": "execute_result",
          "data": {
            "text/html": [
              "<div>\n",
              "<style scoped>\n",
              "    .dataframe tbody tr th:only-of-type {\n",
              "        vertical-align: middle;\n",
              "    }\n",
              "\n",
              "    .dataframe tbody tr th {\n",
              "        vertical-align: top;\n",
              "    }\n",
              "\n",
              "    .dataframe thead th {\n",
              "        text-align: right;\n",
              "    }\n",
              "</style>\n",
              "<table border=\"1\" class=\"dataframe\">\n",
              "  <thead>\n",
              "    <tr style=\"text-align: right;\">\n",
              "      <th></th>\n",
              "      <th>dbn</th>\n",
              "      <th>name</th>\n",
              "      <th>num_test_takers</th>\n",
              "      <th>reading_avg</th>\n",
              "      <th>boro</th>\n",
              "      <th>total_students</th>\n",
              "      <th>graduation_rate</th>\n",
              "      <th>attendance_rate</th>\n",
              "      <th>college_career_rate</th>\n",
              "      <th>math_avg</th>\n",
              "      <th>writing_score</th>\n",
              "    </tr>\n",
              "  </thead>\n",
              "  <tbody>\n",
              "    <tr>\n",
              "      <th>0</th>\n",
              "      <td>01M292</td>\n",
              "      <td>HENRY STREET SCHOOL FOR INTERNATIONAL STUDIES</td>\n",
              "      <td>29.0</td>\n",
              "      <td>355.0</td>\n",
              "      <td>M</td>\n",
              "      <td>171</td>\n",
              "      <td>0.66</td>\n",
              "      <td>0.87</td>\n",
              "      <td>0.36</td>\n",
              "      <td>404.0</td>\n",
              "      <td>363.0</td>\n",
              "    </tr>\n",
              "    <tr>\n",
              "      <th>1</th>\n",
              "      <td>01M448</td>\n",
              "      <td>UNIVERSITY NEIGHBORHOOD HIGH SCHOOL</td>\n",
              "      <td>91.0</td>\n",
              "      <td>383.0</td>\n",
              "      <td>M</td>\n",
              "      <td>465</td>\n",
              "      <td>0.90</td>\n",
              "      <td>0.93</td>\n",
              "      <td>0.70</td>\n",
              "      <td>423.0</td>\n",
              "      <td>366.0</td>\n",
              "    </tr>\n",
              "  </tbody>\n",
              "</table>\n",
              "</div>"
            ],
            "text/plain": [
              "      dbn                                           name  num_test_takers  \\\n",
              "0  01M292  HENRY STREET SCHOOL FOR INTERNATIONAL STUDIES             29.0   \n",
              "1  01M448            UNIVERSITY NEIGHBORHOOD HIGH SCHOOL             91.0   \n",
              "\n",
              "   reading_avg boro  total_students  graduation_rate  attendance_rate  \\\n",
              "0        355.0    M             171             0.66             0.87   \n",
              "1        383.0    M             465             0.90             0.93   \n",
              "\n",
              "   college_career_rate math_avg writing_score  \n",
              "0                 0.36    404.0         363.0  \n",
              "1                 0.70    423.0         366.0  "
            ]
          },
          "metadata": {
            "tags": []
          },
          "execution_count": 2
        }
      ]
    },
    {
      "cell_type": "markdown",
      "metadata": {
        "id": "QN60q0G-4FLd",
        "colab_type": "text"
      },
      "source": [
        "Now let's begin exploring our data.  Let's start by looking at all of the datatypes for each column."
      ]
    },
    {
      "cell_type": "code",
      "metadata": {
        "id": "3Qtjpzm-4FLd",
        "colab_type": "code",
        "colab": {}
      },
      "source": [
        "sat_df_datatypes = None\n",
        "sat_df_datatypes\n",
        "\n",
        "# dbn                     object\n",
        "# name                    object\n",
        "# num_test_takers        float64\n",
        "# reading_avg            float64\n",
        "# boro                    object\n",
        "# total_students           int64\n",
        "# graduation_rate        float64\n",
        "# attendance_rate        float64\n",
        "# college_career_rate    float64\n",
        "# math_avg                object\n",
        "# writing_score           object\n",
        "# dtype: object"
      ],
      "execution_count": 0,
      "outputs": []
    },
    {
      "cell_type": "markdown",
      "metadata": {
        "id": "CO6wk9g94FLg",
        "colab_type": "text"
      },
      "source": [
        "We can see that there are multiple columns that are of type `object` which we can potentially clean.  Select just those columns that are of type of object and assign the resulting dataframe to the variable `object_df`."
      ]
    },
    {
      "cell_type": "code",
      "metadata": {
        "id": "I2BmCU4g4FLg",
        "colab_type": "code",
        "colab": {}
      },
      "source": [
        "object_df = None\n",
        "\n",
        "object_df.columns\n",
        "\n",
        "# Index(['dbn', 'name', 'boro', 'math_avg', 'writing_score'], dtype='object')"
      ],
      "execution_count": 0,
      "outputs": []
    },
    {
      "cell_type": "markdown",
      "metadata": {
        "id": "w1R9s7NZ4FLi",
        "colab_type": "text"
      },
      "source": [
        "Ok, so it looks like `math_avg` and `writing_score` are two columns that could be converted to become numeric."
      ]
    },
    {
      "cell_type": "markdown",
      "metadata": {
        "id": "ditI7zPR4FLj",
        "colab_type": "text"
      },
      "source": [
        "### Coercing our data"
      ]
    },
    {
      "cell_type": "markdown",
      "metadata": {
        "id": "FkhBGt_A4FLj",
        "colab_type": "text"
      },
      "source": [
        "Let's a look at the first entry in the `writing_score` column.  "
      ]
    },
    {
      "cell_type": "code",
      "metadata": {
        "id": "o5YVJIfb4FLk",
        "colab_type": "code",
        "outputId": "c998d035-14a5-42fb-b1c2-594a6633bfc9",
        "colab": {}
      },
      "source": [
        "sat_df.writing_score[0]"
      ],
      "execution_count": 0,
      "outputs": [
        {
          "output_type": "execute_result",
          "data": {
            "text/plain": [
              "'363.0'"
            ]
          },
          "metadata": {
            "tags": []
          },
          "execution_count": 15
        }
      ]
    },
    {
      "cell_type": "markdown",
      "metadata": {
        "id": "1tV5IUDP4FLn",
        "colab_type": "text"
      },
      "source": [
        "Let's convert this column to be of type `float64` and assign this series to the variable `writing` using the `to_numeric` method."
      ]
    },
    {
      "cell_type": "code",
      "metadata": {
        "id": "a_6vmtfh4FLn",
        "colab_type": "code",
        "outputId": "d1e84054-f875-48df-c721-e13d8e40993f",
        "colab": {}
      },
      "source": [
        "writing = sat_df.writing_score.astype('float64')\n",
        "\n",
        "writing.dtype\n",
        "# dtype('float64')"
      ],
      "execution_count": 0,
      "outputs": [
        {
          "output_type": "execute_result",
          "data": {
            "text/plain": [
              "dtype('float64')"
            ]
          },
          "metadata": {
            "tags": []
          },
          "execution_count": 17
        }
      ]
    },
    {
      "cell_type": "markdown",
      "metadata": {
        "id": "49mnPfSJ4FLq",
        "colab_type": "text"
      },
      "source": [
        "Now let's do the same with the `math_avg`.  This time, do not use the `to_numeric` method to coerce the data, but use the `astype` method to change the datatype from object to float64."
      ]
    },
    {
      "cell_type": "code",
      "metadata": {
        "id": "Kxi2ag5R4FLr",
        "colab_type": "code",
        "outputId": "e6f47a30-a30e-4f2c-ab22-55e92dec02cb",
        "colab": {}
      },
      "source": [
        "math = sat_df.math_avg\n",
        "\n",
        "math.dtype\n",
        "# dtype('float64')"
      ],
      "execution_count": 0,
      "outputs": [
        {
          "output_type": "execute_result",
          "data": {
            "text/plain": [
              "dtype('O')"
            ]
          },
          "metadata": {
            "tags": []
          },
          "execution_count": 6
        }
      ]
    },
    {
      "cell_type": "markdown",
      "metadata": {
        "id": "5E797aJ84FLt",
        "colab_type": "text"
      },
      "source": [
        "Ok, now that we two coerced columns stored as `math` and `writing` it's time to update our dataframe.  We'll copy the dataframe for you, so that we do not change the original.  Then, let's update this *copied* dataframe to have the new `float64` type columns."
      ]
    },
    {
      "cell_type": "code",
      "metadata": {
        "id": "G9YCMHBk4FLu",
        "colab_type": "code",
        "colab": {}
      },
      "source": [
        "copied_sat_df = sat_df.copy()"
      ],
      "execution_count": 0,
      "outputs": []
    },
    {
      "cell_type": "code",
      "metadata": {
        "id": "xpq7VF2L4FLx",
        "colab_type": "code",
        "colab": {}
      },
      "source": [
        "copied_sat_df['math_avg'] = math"
      ],
      "execution_count": 0,
      "outputs": []
    },
    {
      "cell_type": "code",
      "metadata": {
        "id": "rA2jED2T4FL0",
        "colab_type": "code",
        "colab": {}
      },
      "source": [
        "copied_sat_df['writing_score'] = writing"
      ],
      "execution_count": 0,
      "outputs": []
    },
    {
      "cell_type": "code",
      "metadata": {
        "id": "Ax4W7bFv4FL3",
        "colab_type": "code",
        "outputId": "680afa94-88c5-4681-b371-cc9f5a04acce",
        "colab": {}
      },
      "source": [
        "copied_sat_df.dtypes\n",
        "\n",
        "# dbn                     object\n",
        "# name                    object\n",
        "# num_test_takers        float64\n",
        "# reading_avg            float64\n",
        "# boro                    object\n",
        "# total_students           int64\n",
        "# graduation_rate        float64\n",
        "# attendance_rate        float64\n",
        "# college_career_rate    float64\n",
        "# math_avg               float64\n",
        "# writing_score          float64"
      ],
      "execution_count": 0,
      "outputs": [
        {
          "output_type": "execute_result",
          "data": {
            "text/plain": [
              "dbn                     object\n",
              "name                    object\n",
              "num_test_takers        float64\n",
              "reading_avg            float64\n",
              "boro                    object\n",
              "total_students           int64\n",
              "graduation_rate        float64\n",
              "attendance_rate        float64\n",
              "college_career_rate    float64\n",
              "math_avg               float64\n",
              "writing_score          float64\n",
              "dtype: object"
            ]
          },
          "metadata": {
            "tags": []
          },
          "execution_count": 27
        }
      ]
    },
    {
      "cell_type": "markdown",
      "metadata": {
        "id": "A72dW4OR4FL4",
        "colab_type": "text"
      },
      "source": [
        "So we now have a lot of data that we can now use in our model."
      ]
    },
    {
      "cell_type": "code",
      "metadata": {
        "id": "wxsRVp0E4FL5",
        "colab_type": "code",
        "outputId": "9b6b8528-0800-4ecc-ff27-1ad34c765aaa",
        "colab": {}
      },
      "source": [
        "copied_sat_df.select_dtypes(exclude = ['object'])[:2]"
      ],
      "execution_count": 0,
      "outputs": [
        {
          "output_type": "execute_result",
          "data": {
            "text/html": [
              "<div>\n",
              "<style scoped>\n",
              "    .dataframe tbody tr th:only-of-type {\n",
              "        vertical-align: middle;\n",
              "    }\n",
              "\n",
              "    .dataframe tbody tr th {\n",
              "        vertical-align: top;\n",
              "    }\n",
              "\n",
              "    .dataframe thead th {\n",
              "        text-align: right;\n",
              "    }\n",
              "</style>\n",
              "<table border=\"1\" class=\"dataframe\">\n",
              "  <thead>\n",
              "    <tr style=\"text-align: right;\">\n",
              "      <th></th>\n",
              "      <th>num_test_takers</th>\n",
              "      <th>reading_avg</th>\n",
              "      <th>total_students</th>\n",
              "      <th>graduation_rate</th>\n",
              "      <th>attendance_rate</th>\n",
              "      <th>college_career_rate</th>\n",
              "      <th>math_avg</th>\n",
              "      <th>writing_score</th>\n",
              "    </tr>\n",
              "  </thead>\n",
              "  <tbody>\n",
              "    <tr>\n",
              "      <td>0</td>\n",
              "      <td>29.0</td>\n",
              "      <td>355.0</td>\n",
              "      <td>171</td>\n",
              "      <td>0.66</td>\n",
              "      <td>0.87</td>\n",
              "      <td>0.36</td>\n",
              "      <td>404.0</td>\n",
              "      <td>363.0</td>\n",
              "    </tr>\n",
              "    <tr>\n",
              "      <td>1</td>\n",
              "      <td>91.0</td>\n",
              "      <td>383.0</td>\n",
              "      <td>465</td>\n",
              "      <td>0.90</td>\n",
              "      <td>0.93</td>\n",
              "      <td>0.70</td>\n",
              "      <td>423.0</td>\n",
              "      <td>366.0</td>\n",
              "    </tr>\n",
              "  </tbody>\n",
              "</table>\n",
              "</div>"
            ],
            "text/plain": [
              "   num_test_takers  reading_avg  total_students  graduation_rate  \\\n",
              "0             29.0        355.0             171             0.66   \n",
              "1             91.0        383.0             465             0.90   \n",
              "\n",
              "   attendance_rate  college_career_rate  math_avg  writing_score  \n",
              "0             0.87                 0.36     404.0          363.0  \n",
              "1             0.93                 0.70     423.0          366.0  "
            ]
          },
          "metadata": {
            "tags": []
          },
          "execution_count": 30
        }
      ]
    },
    {
      "cell_type": "markdown",
      "metadata": {
        "id": "HcALUL5I4FL7",
        "colab_type": "text"
      },
      "source": [
        "And only `boro` remains as a column that we would like to change to be numeric so that we can use it as a feature in predicting math SAT scores.  "
      ]
    },
    {
      "cell_type": "code",
      "metadata": {
        "id": "PQKg_GrQ4FL7",
        "colab_type": "code",
        "outputId": "a4df4499-66e6-4a8b-c6af-567fc901e02f",
        "colab": {
          "base_uri": "https://localhost:8080/",
          "height": 162
        }
      },
      "source": [
        "copied_sat_df.select_dtypes('object')[:2]"
      ],
      "execution_count": 0,
      "outputs": [
        {
          "output_type": "error",
          "ename": "NameError",
          "evalue": "ignored",
          "traceback": [
            "\u001b[0;31m---------------------------------------------------------------------------\u001b[0m",
            "\u001b[0;31mNameError\u001b[0m                                 Traceback (most recent call last)",
            "\u001b[0;32m<ipython-input-1-5cabda1077f8>\u001b[0m in \u001b[0;36m<module>\u001b[0;34m()\u001b[0m\n\u001b[0;32m----> 1\u001b[0;31m \u001b[0mcopied_sat_df\u001b[0m\u001b[0;34m.\u001b[0m\u001b[0mselect_dtypes\u001b[0m\u001b[0;34m(\u001b[0m\u001b[0;34m'object'\u001b[0m\u001b[0;34m)\u001b[0m\u001b[0;34m[\u001b[0m\u001b[0;34m:\u001b[0m\u001b[0;36m2\u001b[0m\u001b[0;34m]\u001b[0m\u001b[0;34m\u001b[0m\u001b[0;34m\u001b[0m\u001b[0m\n\u001b[0m",
            "\u001b[0;31mNameError\u001b[0m: name 'copied_sat_df' is not defined"
          ]
        }
      ]
    },
    {
      "cell_type": "markdown",
      "metadata": {
        "id": "r5QhAE714FL9",
        "colab_type": "text"
      },
      "source": [
        "We'll learn how to finish cleaning this dataset in future lessons. "
      ]
    },
    {
      "cell_type": "markdown",
      "metadata": {
        "id": "XglaFIeE4FL-",
        "colab_type": "text"
      },
      "source": [
        "### Summary"
      ]
    },
    {
      "cell_type": "markdown",
      "metadata": {
        "id": "xkglogST4FL-",
        "colab_type": "text"
      },
      "source": [
        "In this lab we practiced both exploring and coercing our data.  There is still a little more work to do before we can train our model.  We'll see what's left in the next lesson."
      ]
    }
  ]
}