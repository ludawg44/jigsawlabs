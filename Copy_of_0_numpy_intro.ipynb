{
  "nbformat": 4,
  "nbformat_minor": 0,
  "metadata": {
    "kernelspec": {
      "display_name": "Python 3",
      "language": "python",
      "name": "python3"
    },
    "language_info": {
      "codemirror_mode": {
        "name": "ipython",
        "version": 3
      },
      "file_extension": ".py",
      "mimetype": "text/x-python",
      "name": "python",
      "nbconvert_exporter": "python",
      "pygments_lexer": "ipython3",
      "version": "3.7.4"
    },
    "colab": {
      "name": "Copy of 0-numpy-intro.ipynb",
      "provenance": [],
      "include_colab_link": true
    }
  },
  "cells": [
    {
      "cell_type": "markdown",
      "metadata": {
        "id": "view-in-github",
        "colab_type": "text"
      },
      "source": [
        "<a href=\"https://colab.research.google.com/github/ludawg44/jigsawlabs/blob/master/Copy_of_0_numpy_intro.ipynb\" target=\"_parent\"><img src=\"https://colab.research.google.com/assets/colab-badge.svg\" alt=\"Open In Colab\"/></a>"
      ]
    },
    {
      "cell_type": "markdown",
      "metadata": {
        "id": "dFsxBVZfZHIy",
        "colab_type": "text"
      },
      "source": [
        "# Numpy Arrays and DataTypes"
      ]
    },
    {
      "cell_type": "markdown",
      "metadata": {
        "id": "LTBM88xrZHI1",
        "colab_type": "text"
      },
      "source": [
        "### Introduction"
      ]
    },
    {
      "cell_type": "markdown",
      "metadata": {
        "id": "XgwS0mZaZHI2",
        "colab_type": "text"
      },
      "source": [
        "Numpy is a scientific computing and data analysis library in Python.  One of the main benefits of working in numpy is it's speed.  With numpy, we can perform operations on lists -- called numpy arrays -- quickly and in a space efficient way.  Also important, is that libraries like pandas are built on numpy, and thus borrow much of it's functionality.  \n",
        "\n",
        "In this lesson, we'll begin working with the fundamental data structure in numpy, the numpy array."
      ]
    },
    {
      "cell_type": "markdown",
      "metadata": {
        "id": "4eP6kCHkZHI2",
        "colab_type": "text"
      },
      "source": [
        "### Introduction to Arrays"
      ]
    },
    {
      "cell_type": "markdown",
      "metadata": {
        "id": "87sXttiXZHI3",
        "colab_type": "text"
      },
      "source": [
        "Let's get started by importing the numpy library and constructing an array."
      ]
    },
    {
      "cell_type": "code",
      "metadata": {
        "id": "oL1U3QM_ZHI4",
        "colab_type": "code",
        "outputId": "23fcde7c-c936-48d5-dbd7-f9fd89a51e66",
        "colab": {}
      },
      "source": [
        "import numpy as np\n",
        "python_ages = [12, 22, 20, 15]\n",
        "ages = np.array(python_ages)\n",
        "ages"
      ],
      "execution_count": 0,
      "outputs": [
        {
          "output_type": "execute_result",
          "data": {
            "text/plain": [
              "array([12, 22, 20, 15])"
            ]
          },
          "metadata": {
            "tags": []
          },
          "execution_count": 1
        }
      ]
    },
    {
      "cell_type": "markdown",
      "metadata": {
        "id": "H6H3MZGeZHI8",
        "colab_type": "text"
      },
      "source": [
        "We have just initialized a numpy array.  And it has much of the same functionality as a list in Python."
      ]
    },
    {
      "cell_type": "markdown",
      "metadata": {
        "id": "L-COV2I7ZHI9",
        "colab_type": "text"
      },
      "source": [
        "> For example, we can slice or select items of the array."
      ]
    },
    {
      "cell_type": "code",
      "metadata": {
        "id": "slWTvWdcZHI-",
        "colab_type": "code",
        "outputId": "7c6d5a59-b7e5-4145-84ab-6bb2f919c950",
        "colab": {}
      },
      "source": [
        "ages[:2]"
      ],
      "execution_count": 0,
      "outputs": [
        {
          "output_type": "execute_result",
          "data": {
            "text/plain": [
              "array([12, 22])"
            ]
          },
          "metadata": {
            "tags": []
          },
          "execution_count": 2
        }
      ]
    },
    {
      "cell_type": "code",
      "metadata": {
        "id": "CXcT14YVZHJA",
        "colab_type": "code",
        "outputId": "ec946a6e-9800-4417-ab25-350e12de56e2",
        "colab": {}
      },
      "source": [
        "ages[0]"
      ],
      "execution_count": 0,
      "outputs": [
        {
          "output_type": "execute_result",
          "data": {
            "text/plain": [
              "12"
            ]
          },
          "metadata": {
            "tags": []
          },
          "execution_count": 13
        }
      ]
    },
    {
      "cell_type": "markdown",
      "metadata": {
        "id": "gw8JJ56yZHJD",
        "colab_type": "text"
      },
      "source": [
        "> Notice that we say that a numpy array has *items* as opposed to elements.  You may also hear a an item referred to as an *entry* in an array."
      ]
    },
    {
      "cell_type": "markdown",
      "metadata": {
        "id": "QUS4JgMVZHJF",
        "colab_type": "text"
      },
      "source": [
        "### Creating Arrays"
      ]
    },
    {
      "cell_type": "markdown",
      "metadata": {
        "id": "EtvynodaZHJG",
        "colab_type": "text"
      },
      "source": [
        "So we just saw one way that we can create an array: initialize a Python list, and then call `np.array`.  Note that we can also convert a Python range into numpy like so."
      ]
    },
    {
      "cell_type": "code",
      "metadata": {
        "id": "VV3jISJ1ZHJH",
        "colab_type": "code",
        "outputId": "7e5e5f42-7d18-43f5-9a04-0aa5fd4b5cd6",
        "colab": {}
      },
      "source": [
        "np.array(range(0, 5))"
      ],
      "execution_count": 0,
      "outputs": [
        {
          "output_type": "execute_result",
          "data": {
            "text/plain": [
              "array([0, 1, 2, 3, 4])"
            ]
          },
          "metadata": {
            "tags": []
          },
          "execution_count": 62
        }
      ]
    },
    {
      "cell_type": "markdown",
      "metadata": {
        "id": "0aIgCIzBZHJJ",
        "colab_type": "text"
      },
      "source": [
        "But we can simplify our code by using the numpy equivalent: `arange`."
      ]
    },
    {
      "cell_type": "code",
      "metadata": {
        "id": "9y1ryYGnZHJK",
        "colab_type": "code",
        "outputId": "8a2dfcd2-8317-43b7-fe32-f3d7f9c16343",
        "colab": {}
      },
      "source": [
        "np.arange(0, 5)"
      ],
      "execution_count": 0,
      "outputs": [
        {
          "output_type": "execute_result",
          "data": {
            "text/plain": [
              "array([0, 1, 2, 3, 4])"
            ]
          },
          "metadata": {
            "tags": []
          },
          "execution_count": 69
        }
      ]
    },
    {
      "cell_type": "markdown",
      "metadata": {
        "id": "RtHMpCjOZHJM",
        "colab_type": "text"
      },
      "source": [
        "### Working with DataTypes"
      ]
    },
    {
      "cell_type": "markdown",
      "metadata": {
        "id": "0no8K0zHZHJN",
        "colab_type": "text"
      },
      "source": [
        "One difference from lists in Python is that in numpy, every item of the array must be of the same type."
      ]
    },
    {
      "cell_type": "code",
      "metadata": {
        "id": "QNNF-Z13ZHJO",
        "colab_type": "code",
        "outputId": "e22c92c8-ede7-4cd0-8ab7-8c405e99ddbf",
        "colab": {}
      },
      "source": [
        "ages.dtype"
      ],
      "execution_count": 0,
      "outputs": [
        {
          "output_type": "execute_result",
          "data": {
            "text/plain": [
              "dtype('int64')"
            ]
          },
          "metadata": {
            "tags": []
          },
          "execution_count": 14
        }
      ]
    },
    {
      "cell_type": "markdown",
      "metadata": {
        "id": "KMMz9fYVZHJQ",
        "colab_type": "text"
      },
      "source": [
        "If we even try to modify our array so that there is a mismatch of types, we see an error."
      ]
    },
    {
      "cell_type": "code",
      "metadata": {
        "id": "OuAuVERoZHJR",
        "colab_type": "code",
        "outputId": "c6ebfe2e-46a0-497f-fe49-c198205791a5",
        "colab": {}
      },
      "source": [
        "ages[0] = 'hello'"
      ],
      "execution_count": 0,
      "outputs": [
        {
          "output_type": "error",
          "ename": "ValueError",
          "evalue": "invalid literal for int() with base 10: 'hello'",
          "traceback": [
            "\u001b[0;31m---------------------------------------------------------------------------\u001b[0m",
            "\u001b[0;31mValueError\u001b[0m                                Traceback (most recent call last)",
            "\u001b[0;32m<ipython-input-16-ea88f6bea38e>\u001b[0m in \u001b[0;36m<module>\u001b[0;34m\u001b[0m\n\u001b[0;32m----> 1\u001b[0;31m \u001b[0mages\u001b[0m\u001b[0;34m[\u001b[0m\u001b[0;36m0\u001b[0m\u001b[0;34m]\u001b[0m \u001b[0;34m=\u001b[0m \u001b[0;34m'hello'\u001b[0m\u001b[0;34m\u001b[0m\u001b[0;34m\u001b[0m\u001b[0m\n\u001b[0m",
            "\u001b[0;31mValueError\u001b[0m: invalid literal for int() with base 10: 'hello'"
          ]
        }
      ]
    },
    {
      "cell_type": "markdown",
      "metadata": {
        "id": "uh89c4NvZHJT",
        "colab_type": "text"
      },
      "source": [
        "> Enforcing that items are of the same type is a key component to what makes numpy work quickly.  By enforcing type, numpy can have space constraints on each item, and thus on the entire array.  This saves space in memory.  "
      ]
    },
    {
      "cell_type": "markdown",
      "metadata": {
        "id": "qE1wlcTcZHJU",
        "colab_type": "text"
      },
      "source": [
        "We can convert the items in our array from one datatype to another using the `astype` method. "
      ]
    },
    {
      "cell_type": "code",
      "metadata": {
        "id": "T-zI4AB9ZHJV",
        "colab_type": "code",
        "outputId": "ae875a8b-3de7-4478-b758-908278bd28b3",
        "colab": {}
      },
      "source": [
        "ages"
      ],
      "execution_count": 0,
      "outputs": [
        {
          "output_type": "execute_result",
          "data": {
            "text/plain": [
              "array([12, 22, 20, 15])"
            ]
          },
          "metadata": {
            "tags": []
          },
          "execution_count": 20
        }
      ]
    },
    {
      "cell_type": "code",
      "metadata": {
        "id": "wGPEbssQZHJY",
        "colab_type": "code",
        "outputId": "f13c9de9-220c-495b-d9b1-50dc4b60f87e",
        "colab": {}
      },
      "source": [
        "ages.astype(np.float64)"
      ],
      "execution_count": 0,
      "outputs": [
        {
          "output_type": "execute_result",
          "data": {
            "text/plain": [
              "array([12., 22., 20., 15.])"
            ]
          },
          "metadata": {
            "tags": []
          },
          "execution_count": 23
        }
      ]
    },
    {
      "cell_type": "markdown",
      "metadata": {
        "id": "y99tYzULZHJb",
        "colab_type": "text"
      },
      "source": [
        "> One thing to note is that we are *copying* and then changing our array.  The original `ages` array is unchanged with type `int64`."
      ]
    },
    {
      "cell_type": "code",
      "metadata": {
        "id": "phVri3qGZHJc",
        "colab_type": "code",
        "outputId": "91769f9b-8639-49de-b537-63148d85a23e",
        "colab": {}
      },
      "source": [
        "ages.dtype"
      ],
      "execution_count": 0,
      "outputs": [
        {
          "output_type": "execute_result",
          "data": {
            "text/plain": [
              "dtype('int64')"
            ]
          },
          "metadata": {
            "tags": []
          },
          "execution_count": 22
        }
      ]
    },
    {
      "cell_type": "markdown",
      "metadata": {
        "id": "WXYGJBRhZHJf",
        "colab_type": "text"
      },
      "source": [
        "We can see a list of array types [here](https://docs.scipy.org/doc/numpy-1.10.1/user/basics.types.html).  It's not important to know them all.  Many, integer, float, boolean, string are similar to the types in Python.  \n",
        "\n",
        "If you'd like to see if a certain type exists, we can check it by referencing the numpy library."
      ]
    },
    {
      "cell_type": "code",
      "metadata": {
        "id": "2-X7qsGnZHJg",
        "colab_type": "code",
        "outputId": "a33835ad-50b1-44fa-f0b6-eb2400a863fc",
        "colab": {}
      },
      "source": [
        "import numpy as np\n",
        "np.float64\n",
        "\n",
        "np.float16"
      ],
      "execution_count": 0,
      "outputs": [
        {
          "output_type": "execute_result",
          "data": {
            "text/plain": [
              "numpy.float16"
            ]
          },
          "metadata": {
            "tags": []
          },
          "execution_count": 5
        }
      ]
    },
    {
      "cell_type": "markdown",
      "metadata": {
        "id": "lBFoxeEjZHJi",
        "colab_type": "text"
      },
      "source": [
        "> Notice that Numpy is trying to keep each item as space-efficient as possible.  The numbers 16 32, and 64 indicate different memory constraints for the array.  The allocation for each item is one eighth the size of the memory space for the array."
      ]
    },
    {
      "cell_type": "code",
      "metadata": {
        "id": "NcLuynCfZHJi",
        "colab_type": "code",
        "outputId": "f2b4edd0-4e97-4128-9a0f-6434d036d2bd",
        "colab": {}
      },
      "source": [
        "np.array([214748364721474836]).astype(np.int64).itemsize"
      ],
      "execution_count": 0,
      "outputs": [
        {
          "output_type": "execute_result",
          "data": {
            "text/plain": [
              "8"
            ]
          },
          "metadata": {
            "tags": []
          },
          "execution_count": 4
        }
      ]
    },
    {
      "cell_type": "markdown",
      "metadata": {
        "id": "J-a9tUKsZHJk",
        "colab_type": "text"
      },
      "source": [
        "> Change the above to `int16` to see how the itemsize changes."
      ]
    },
    {
      "cell_type": "markdown",
      "metadata": {
        "id": "CCo8L_n6ZHJl",
        "colab_type": "text"
      },
      "source": [
        "Let's turn our array of ages into a string.  Why? Just for fun."
      ]
    },
    {
      "cell_type": "code",
      "metadata": {
        "id": "eGztEUCdZHJm",
        "colab_type": "code",
        "outputId": "aed9814e-6cf0-4b34-c495-261817864823",
        "colab": {}
      },
      "source": [
        "python_ages = [12, 22, 20, 15]\n",
        "ages = np.array(python_ages)\n",
        "\n",
        "\n",
        "str_ages = ages.astype(np.str_)\n",
        "\n",
        "str_ages"
      ],
      "execution_count": 0,
      "outputs": [
        {
          "output_type": "execute_result",
          "data": {
            "text/plain": [
              "array(['12', '22', '20', '15'], dtype='<U21')"
            ]
          },
          "metadata": {
            "tags": []
          },
          "execution_count": 37
        }
      ]
    },
    {
      "cell_type": "markdown",
      "metadata": {
        "id": "OgsVKrHNZHJp",
        "colab_type": "text"
      },
      "source": [
        "See? Fun :)"
      ]
    },
    {
      "cell_type": "markdown",
      "metadata": {
        "id": "UwiKD9QsZHJq",
        "colab_type": "text"
      },
      "source": [
        "### Broadcasting"
      ]
    },
    {
      "cell_type": "markdown",
      "metadata": {
        "id": "GE__Y5wHZHJq",
        "colab_type": "text"
      },
      "source": [
        "Beyond have all items of the same type, the other major difference between Python and Numpy is Numpy's ability to broadcast.  Let's see what this means.\n",
        "\n",
        "Let's say that we wanted to increase each person's age by 2.  In Python we accomplish this with a for loop."
      ]
    },
    {
      "cell_type": "code",
      "metadata": {
        "id": "CPH52eigZHJr",
        "colab_type": "code",
        "colab": {}
      },
      "source": [
        "ages = [20, 12, 15]"
      ],
      "execution_count": 0,
      "outputs": []
    },
    {
      "cell_type": "code",
      "metadata": {
        "id": "cxjjCBzLZHJt",
        "colab_type": "code",
        "outputId": "4d063d84-9714-47b0-c949-f1d644332975",
        "colab": {}
      },
      "source": [
        "[age + 2 for age in ages]"
      ],
      "execution_count": 0,
      "outputs": [
        {
          "output_type": "execute_result",
          "data": {
            "text/plain": [
              "[22, 14, 17]"
            ]
          },
          "metadata": {
            "tags": []
          },
          "execution_count": 39
        }
      ]
    },
    {
      "cell_type": "markdown",
      "metadata": {
        "id": "1IIkmxYNZHJv",
        "colab_type": "text"
      },
      "source": [
        "In Numpy, we can accomplish this with the following:"
      ]
    },
    {
      "cell_type": "code",
      "metadata": {
        "id": "DNyxSHBSZHJw",
        "colab_type": "code",
        "outputId": "79a4bbe1-d3e0-43c1-ef6a-c35547b7f1e5",
        "colab": {}
      },
      "source": [
        "2 + np.array(ages)"
      ],
      "execution_count": 0,
      "outputs": [
        {
          "output_type": "execute_result",
          "data": {
            "text/plain": [
              "array([22, 14, 17])"
            ]
          },
          "metadata": {
            "tags": []
          },
          "execution_count": 40
        }
      ]
    },
    {
      "cell_type": "markdown",
      "metadata": {
        "id": "tpjj2o7DZHJx",
        "colab_type": "text"
      },
      "source": [
        "This is called broadcasting."
      ]
    },
    {
      "cell_type": "markdown",
      "metadata": {
        "id": "qcca_lluZHJy",
        "colab_type": "text"
      },
      "source": [
        "> The term broadcasting describes how numpy treats arrays with different shapes during arithmetic operations. Subject to certain constraints, the smaller array is “broadcast” across the larger array so that they have compatible shapes. \n",
        "\n",
        "> [Numpy documentation](https://docs.scipy.org/doc/numpy/user/basics.broadcasting.html)"
      ]
    },
    {
      "cell_type": "markdown",
      "metadata": {
        "id": "e5u1mVmAZHJz",
        "colab_type": "text"
      },
      "source": [
        "In other words, we can think of numpy performing the following in the cell above."
      ]
    },
    {
      "cell_type": "code",
      "metadata": {
        "id": "y1vYK0TzZHJz",
        "colab_type": "code",
        "outputId": "d469bea6-cab1-42c8-b6c4-c7031b8a3527",
        "colab": {}
      },
      "source": [
        "ages = [20, 12, 15]\n",
        "\n",
        "# 2 + np.array(ages)\n",
        "\n",
        "\n",
        "np.array([2, 2, 2, 2]) + np.array(ages)\n"
      ],
      "execution_count": 0,
      "outputs": [
        {
          "output_type": "execute_result",
          "data": {
            "text/plain": [
              "array([14, 24, 22, 17])"
            ]
          },
          "metadata": {
            "tags": []
          },
          "execution_count": 7
        }
      ]
    },
    {
      "cell_type": "markdown",
      "metadata": {
        "id": "qZ5hDqeGZHJ1",
        "colab_type": "text"
      },
      "source": [
        "> The number 2 is broadcast to have the shape of the larger array `ages`."
      ]
    },
    {
      "cell_type": "markdown",
      "metadata": {
        "id": "DyjCE6g6ZHJ2",
        "colab_type": "text"
      },
      "source": [
        "One thing to note about broadcasting, is that it can speed up our operations."
      ]
    },
    {
      "cell_type": "markdown",
      "metadata": {
        "id": "T_zgrjQ4ZHJ4",
        "colab_type": "text"
      },
      "source": [
        "For example, let's create an array of length 1000."
      ]
    },
    {
      "cell_type": "code",
      "metadata": {
        "id": "XGgEY0aHZHJ4",
        "colab_type": "code",
        "colab": {}
      },
      "source": [
        "ages = list(range(1000))\n",
        "\n",
        "np_ages = np.array(ages)"
      ],
      "execution_count": 0,
      "outputs": []
    },
    {
      "cell_type": "code",
      "metadata": {
        "id": "jsTae4ReZHJ6",
        "colab_type": "code",
        "outputId": "e9c16644-46ef-456b-c913-62ecc96ab5cb",
        "colab": {}
      },
      "source": [
        "%%time\n",
        "ages_plus = [age + 2 for age in ages]\n",
        "    "
      ],
      "execution_count": 0,
      "outputs": [
        {
          "output_type": "stream",
          "text": [
            "CPU times: user 93 µs, sys: 0 ns, total: 93 µs\n",
            "Wall time: 98 µs\n"
          ],
          "name": "stdout"
        }
      ]
    },
    {
      "cell_type": "code",
      "metadata": {
        "id": "cVD-PI0bZHJ8",
        "colab_type": "code",
        "outputId": "7be9ce22-9569-48dc-f163-9dbe1eef09af",
        "colab": {}
      },
      "source": [
        "%%time\n",
        "ages_plus_arr = 2 + np_ages"
      ],
      "execution_count": 0,
      "outputs": [
        {
          "output_type": "stream",
          "text": [
            "CPU times: user 39 µs, sys: 12 µs, total: 51 µs\n",
            "Wall time: 46 µs\n"
          ],
          "name": "stdout"
        }
      ]
    },
    {
      "cell_type": "markdown",
      "metadata": {
        "id": "etD30NK5ZHJ-",
        "colab_type": "text"
      },
      "source": [
        "> So we can see that the native Python operation takes twice as long as the Numpy operation."
      ]
    },
    {
      "cell_type": "markdown",
      "metadata": {
        "id": "EdoxbHEXZHJ_",
        "colab_type": "text"
      },
      "source": [
        "We won't take a deep dive into broadcasting right now, but we can think of broadcasting as an alternative to looping.  And we just saw how we apply the same coercion to an array of items."
      ]
    },
    {
      "cell_type": "code",
      "metadata": {
        "id": "A-k9nwJ7ZHKA",
        "colab_type": "code",
        "outputId": "d205025b-5d85-46e3-e784-ab0a7cf389df",
        "colab": {}
      },
      "source": [
        "2* np.array(ages)"
      ],
      "execution_count": 0,
      "outputs": [
        {
          "output_type": "execute_result",
          "data": {
            "text/plain": [
              "array([40, 24, 30])"
            ]
          },
          "metadata": {
            "tags": []
          },
          "execution_count": 41
        }
      ]
    },
    {
      "cell_type": "markdown",
      "metadata": {
        "id": "3TmoSUx6ZHKC",
        "colab_type": "text"
      },
      "source": [
        "### Summary"
      ]
    },
    {
      "cell_type": "markdown",
      "metadata": {
        "id": "OX7u-FVnZHKD",
        "colab_type": "text"
      },
      "source": [
        "In this lesson, we learned some of the fundamental differences of working with arrays in Numpy as opposed to Python.  The first is that all items in an array are of the same type.  If we do not specify a type, Numpy will choose an appropriate one for us.  We can explicitly set the type of an array with the `np.astype` method.  And we can refer to each type with `np.` followed by the type, for example, `np.float64`.\n",
        "\n",
        "Then we saw the second major difference in Numpy, which is broadcasting.  Broadcasting occurs when we have a smaller array (or single item) that we then apply to the larger array.  We can oftentimes use this procedure to replace loops in Python, saving us both code, and computation time."
      ]
    },
    {
      "cell_type": "markdown",
      "metadata": {
        "id": "1w7X9KjEZHKE",
        "colab_type": "text"
      },
      "source": [
        "### Resources "
      ]
    },
    {
      "cell_type": "markdown",
      "metadata": {
        "id": "0rgmETwHZHKE",
        "colab_type": "text"
      },
      "source": [
        "[Broadcasting in Numpy](https://towardsdatascience.com/why-you-should-forget-for-loop-for-data-science-code-and-embrace-vectorization-696632622d5f)"
      ]
    }
  ]
}