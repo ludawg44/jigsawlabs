{
  "nbformat": 4,
  "nbformat_minor": 0,
  "metadata": {
    "kernelspec": {
      "display_name": "Python 3",
      "language": "python",
      "name": "python3"
    },
    "language_info": {
      "codemirror_mode": {
        "name": "ipython",
        "version": 3
      },
      "file_extension": ".py",
      "mimetype": "text/x-python",
      "name": "python",
      "nbconvert_exporter": "python",
      "pygments_lexer": "ipython3",
      "version": "3.7.4"
    },
    "colab": {
      "name": "Copy of 2-understanding-figures-lab.ipynb",
      "provenance": [],
      "include_colab_link": true
    }
  },
  "cells": [
    {
      "cell_type": "markdown",
      "metadata": {
        "id": "view-in-github",
        "colab_type": "text"
      },
      "source": [
        "<a href=\"https://colab.research.google.com/github/ludawg44/jigsawlabs/blob/master/Copy_of_2_understanding_figures_lab.ipynb\" target=\"_parent\"><img src=\"https://colab.research.google.com/assets/colab-badge.svg\" alt=\"Open In Colab\"/></a>"
      ]
    },
    {
      "cell_type": "markdown",
      "metadata": {
        "id": "6FKYwJ7Qfn_E",
        "colab_type": "text"
      },
      "source": [
        "# Navigating Figures Lab"
      ]
    },
    {
      "cell_type": "markdown",
      "metadata": {
        "id": "4yk5RIU5fn_H",
        "colab_type": "text"
      },
      "source": [
        "### Introduction"
      ]
    },
    {
      "cell_type": "markdown",
      "metadata": {
        "id": "PLhekxGHfn_I",
        "colab_type": "text"
      },
      "source": [
        "In this lesson, we'll practice what we know about the relationship between a figure, a subplot or axes, an axis, and a plot."
      ]
    },
    {
      "cell_type": "markdown",
      "metadata": {
        "id": "z63LARwffn_I",
        "colab_type": "text"
      },
      "source": [
        "### Getting Started"
      ]
    },
    {
      "cell_type": "markdown",
      "metadata": {
        "id": "i9jxZl6wfn_J",
        "colab_type": "text"
      },
      "source": [
        "To get started, import the matplotlib library and use the jupyter magic function to display the plot inline."
      ]
    },
    {
      "cell_type": "code",
      "metadata": {
        "id": "B0I1Ejwnfn_L",
        "colab_type": "code",
        "colab": {}
      },
      "source": [
        "import matplotlib.pyplot as plt\n",
        "%matplotlib inline"
      ],
      "execution_count": 0,
      "outputs": []
    },
    {
      "cell_type": "markdown",
      "metadata": {
        "id": "1K4Sqw8ffn_P",
        "colab_type": "text"
      },
      "source": [
        "> Uncomment and run the line below if you'd like to make the figure size smaller."
      ]
    },
    {
      "cell_type": "code",
      "metadata": {
        "id": "LXnmA7FNfn_P",
        "colab_type": "code",
        "colab": {}
      },
      "source": [
        "plt.rcParams['figure.figsize'] = [4, 2.5]"
      ],
      "execution_count": 0,
      "outputs": []
    },
    {
      "cell_type": "markdown",
      "metadata": {
        "id": "jhaaAhSzfn_S",
        "colab_type": "text"
      },
      "source": [
        "### Figures, Plots and Axes"
      ]
    },
    {
      "cell_type": "markdown",
      "metadata": {
        "id": "9Jj7OGlAfn_T",
        "colab_type": "text"
      },
      "source": [
        "Begin by creating a new figure, and assigning it to the variable `fig`."
      ]
    },
    {
      "cell_type": "code",
      "metadata": {
        "id": "AzcDipqIfn_T",
        "colab_type": "code",
        "colab": {}
      },
      "source": [
        "fig = None\n",
        "# <Figure size 432x288 with 0 Axes>"
      ],
      "execution_count": 0,
      "outputs": []
    },
    {
      "cell_type": "markdown",
      "metadata": {
        "id": "ddiYd1g_fn_W",
        "colab_type": "text"
      },
      "source": [
        "Ok, We should see that there  are 0 Axes.  This is because our figure does not have any subplot associated with it.  \n",
        "\n",
        "We can confirm this by calling figure below.  Because there are no subplots or axes, there is nothing to display."
      ]
    },
    {
      "cell_type": "code",
      "metadata": {
        "id": "zLDQNScvfn_X",
        "colab_type": "code",
        "outputId": "f999cd4f-8517-46f0-fa7f-2da745d6f782",
        "colab": {}
      },
      "source": [
        "fig"
      ],
      "execution_count": 0,
      "outputs": [
        {
          "output_type": "execute_result",
          "data": {
            "text/plain": [
              "<Figure size 432x288 with 0 Axes>"
            ]
          },
          "metadata": {
            "tags": []
          },
          "execution_count": 90
        }
      ]
    },
    {
      "cell_type": "markdown",
      "metadata": {
        "id": "yFPtRg_4fn_b",
        "colab_type": "text"
      },
      "source": [
        "Next, let's add a single axes or subplot to this figure.  Use the `fig.subplots` method to do so."
      ]
    },
    {
      "cell_type": "code",
      "metadata": {
        "id": "75MGV6Bjfn_b",
        "colab_type": "code",
        "outputId": "3cdd38fd-c9dc-4ae1-b4e3-93a11cc88009",
        "colab": {}
      },
      "source": [
        "axs = None\n",
        "\n",
        "type(axs)\n",
        "# matplotlib.axes._subplots.AxesSubplot"
      ],
      "execution_count": 0,
      "outputs": [
        {
          "output_type": "execute_result",
          "data": {
            "text/plain": [
              "matplotlib.axes._subplots.AxesSubplot"
            ]
          },
          "metadata": {
            "tags": []
          },
          "execution_count": 91
        }
      ]
    },
    {
      "cell_type": "markdown",
      "metadata": {
        "id": "VEQkurvJfn_e",
        "colab_type": "text"
      },
      "source": [
        "Let's take another look at our figure."
      ]
    },
    {
      "cell_type": "code",
      "metadata": {
        "id": "GRLl5Af8fn_f",
        "colab_type": "code",
        "outputId": "eb5fdbcb-5ef4-4fd8-aa0d-aba5b04e923c",
        "colab": {}
      },
      "source": [
        "fig"
      ],
      "execution_count": 0,
      "outputs": [
        {
          "output_type": "execute_result",
          "data": {
            "image/png": "[encoded data removed]",
            "text/plain": [
              "<Figure size 432x288 with 1 Axes>"
            ]
          },
          "metadata": {
            "tags": []
          },
          "execution_count": 92
        }
      ]
    },
    {
      "cell_type": "markdown",
      "metadata": {
        "id": "_mmyFX2Xfn_h",
        "colab_type": "text"
      },
      "source": [
        "> Answer:\n",
        "<img src=\"https://github.com/jigsawlabs-student/matplotlib/blob/master/blank-fig.png?raw=1\" width=\"40%\">"
      ]
    },
    {
      "cell_type": "markdown",
      "metadata": {
        "id": "QrXSczQrfn_i",
        "colab_type": "text"
      },
      "source": [
        "Ok, so we can see that now there is a blank subplot as part of our figure."
      ]
    },
    {
      "cell_type": "markdown",
      "metadata": {
        "id": "ddcurNR0fn_j",
        "colab_type": "text"
      },
      "source": [
        "Next let's add a plot to our subplot or axes.  \n",
        "* First, use `np.arange` to create a list of values from 0 to 9.  \n",
        "> You should only need to provide one number as an argument to do so."
      ]
    },
    {
      "cell_type": "code",
      "metadata": {
        "id": "HAdAsYtYfn_j",
        "colab_type": "code",
        "outputId": "840a2a41-ad27-4ba5-8d26-f483588efb46",
        "colab": {}
      },
      "source": [
        "import numpy as np\n",
        "xs = np.arange(9)\n",
        "xs\n",
        "# array([0, 1, 2, 3, 4, 5, 6, 7, 8])"
      ],
      "execution_count": 0,
      "outputs": [
        {
          "output_type": "execute_result",
          "data": {
            "text/plain": [
              "array([0, 1, 2, 3, 4, 5, 6, 7, 8])"
            ]
          },
          "metadata": {
            "tags": []
          },
          "execution_count": 21
        }
      ]
    },
    {
      "cell_type": "markdown",
      "metadata": {
        "id": "qVaTXhWtfn_m",
        "colab_type": "text"
      },
      "source": [
        "* Next, use `np.arange` to create a list of `y` values from 2 to 18, only even numbers.\n"
      ]
    },
    {
      "cell_type": "code",
      "metadata": {
        "id": "3qAPKtkxfn_m",
        "colab_type": "code",
        "outputId": "43cd2b44-b6ed-4c13-92f4-00c56d9caf6d",
        "colab": {}
      },
      "source": [
        "ys = np.arange(2, 19, 2)\n",
        "ys\n",
        "# array([ 2,  4,  6,  8, 10, 12, 14, 16, 18])"
      ],
      "execution_count": 0,
      "outputs": [
        {
          "output_type": "execute_result",
          "data": {
            "text/plain": [
              "array([ 2,  4,  6,  8, 10, 12, 14, 16, 18])"
            ]
          },
          "metadata": {
            "tags": []
          },
          "execution_count": 7
        }
      ]
    },
    {
      "cell_type": "markdown",
      "metadata": {
        "id": "TZ2ImjjYfn_p",
        "colab_type": "text"
      },
      "source": [
        "> We need to make sure that the length of the two arrays are equal.  But predicting the number of items in an array with `arange` can sometimes be confusing.  We can also use `np.linspace`, which allows us to specify the number of items in between a range."
      ]
    },
    {
      "cell_type": "code",
      "metadata": {
        "id": "DF1EjTZYfn_p",
        "colab_type": "code",
        "outputId": "add85349-be47-4404-9893-106e876db568",
        "colab": {}
      },
      "source": [
        "arr = np.linspace(2, 19, 9)\n",
        "arr"
      ],
      "execution_count": 0,
      "outputs": [
        {
          "output_type": "execute_result",
          "data": {
            "text/plain": [
              "array([ 2.   ,  4.125,  6.25 ,  8.375, 10.5  , 12.625, 14.75 , 16.875,\n",
              "       19.   ])"
            ]
          },
          "metadata": {
            "tags": []
          },
          "execution_count": 13
        }
      ]
    },
    {
      "cell_type": "code",
      "metadata": {
        "id": "z72c73UZfn_s",
        "colab_type": "code",
        "outputId": "7d53dbc2-6d3b-472b-9385-b4f9d906a5b8",
        "colab": {}
      },
      "source": [
        "len(arr)"
      ],
      "execution_count": 0,
      "outputs": [
        {
          "output_type": "execute_result",
          "data": {
            "text/plain": [
              "9"
            ]
          },
          "metadata": {
            "tags": []
          },
          "execution_count": 14
        }
      ]
    },
    {
      "cell_type": "markdown",
      "metadata": {
        "id": "s8Fi0Bomfn_u",
        "colab_type": "text"
      },
      "source": [
        "* Now add a scatter plot to the `axs` with the `xs` as the x values and the `ys` as the y values."
      ]
    },
    {
      "cell_type": "code",
      "metadata": {
        "id": "rrNxwxDzfn_v",
        "colab_type": "code",
        "colab": {}
      },
      "source": [
        "# write answer here"
      ],
      "execution_count": 0,
      "outputs": []
    },
    {
      "cell_type": "code",
      "metadata": {
        "id": "KCQB3_6ufn_x",
        "colab_type": "code",
        "colab": {}
      },
      "source": [
        "# fig"
      ],
      "execution_count": 0,
      "outputs": []
    },
    {
      "cell_type": "markdown",
      "metadata": {
        "id": "VQ02PyOvfn_z",
        "colab_type": "text"
      },
      "source": [
        "> If we uncomment and run the cell above we should see a scatter plot with x values ranging from 0 to 9, and y values ranging to 18."
      ]
    },
    {
      "cell_type": "markdown",
      "metadata": {
        "id": "v9IOD_u1fn_0",
        "colab_type": "text"
      },
      "source": [
        "> Answer: <img src=\"https://github.com/jigsawlabs-student/matplotlib/blob/master/scatter-answer.png?raw=1\" width=\"40%\">"
      ]
    },
    {
      "cell_type": "markdown",
      "metadata": {
        "id": "OXjBM2lZfn_1",
        "colab_type": "text"
      },
      "source": [
        "Now let's add a second scatter plot with the following data."
      ]
    },
    {
      "cell_type": "code",
      "metadata": {
        "id": "sRBBDkmafn_2",
        "colab_type": "code",
        "colab": {}
      },
      "source": [
        "x_2s = [15, 20, 12]\n",
        "y_2s = [25, 28, 24]"
      ],
      "execution_count": 0,
      "outputs": []
    },
    {
      "cell_type": "code",
      "metadata": {
        "id": "8e3IfUEafn_4",
        "colab_type": "code",
        "colab": {}
      },
      "source": [
        "fig"
      ],
      "execution_count": 0,
      "outputs": []
    },
    {
      "cell_type": "markdown",
      "metadata": {
        "id": "EVZJD_G7fn_9",
        "colab_type": "text"
      },
      "source": [
        "> Answer: <img src=\"https://github.com/jigsawlabs-student/matplotlib/blob/master/two-scatters.png?raw=1\" width=\"40%\">"
      ]
    },
    {
      "cell_type": "markdown",
      "metadata": {
        "id": "-6QHHxCOfn_9",
        "colab_type": "text"
      },
      "source": [
        "Now let's move onto seeing if we can reference and change some of the either the xaxis figure's subplot above."
      ]
    },
    {
      "cell_type": "markdown",
      "metadata": {
        "id": "nlp-m4TMfn_-",
        "colab_type": "text"
      },
      "source": [
        "> We can see a list all of the axes in the figure with the following."
      ]
    },
    {
      "cell_type": "code",
      "metadata": {
        "id": "t1RCREkcfn_-",
        "colab_type": "code",
        "outputId": "99c99964-9cd8-47b8-f6da-339baafe3a33",
        "colab": {}
      },
      "source": [
        "fig.axes"
      ],
      "execution_count": 0,
      "outputs": [
        {
          "output_type": "execute_result",
          "data": {
            "text/plain": [
              "[<matplotlib.axes._subplots.AxesSubplot at 0x11d458c90>]"
            ]
          },
          "metadata": {
            "tags": []
          },
          "execution_count": 120
        }
      ]
    },
    {
      "cell_type": "markdown",
      "metadata": {
        "id": "XEMx-P_JfoAB",
        "colab_type": "text"
      },
      "source": [
        "And from there, we can retrieve the first axes, and then reference the xaxis."
      ]
    },
    {
      "cell_type": "code",
      "metadata": {
        "id": "jdg-_snYfoAB",
        "colab_type": "code",
        "outputId": "625d2fba-5028-4f2e-c0dc-709d757a9743",
        "colab": {}
      },
      "source": [
        "x_axis = fig.axes[0].xaxis\n",
        "x_axis"
      ],
      "execution_count": 0,
      "outputs": [
        {
          "output_type": "execute_result",
          "data": {
            "text/plain": [
              "<matplotlib.axis.XAxis at 0x11cced550>"
            ]
          },
          "metadata": {
            "tags": []
          },
          "execution_count": 121
        }
      ]
    },
    {
      "cell_type": "code",
      "metadata": {
        "id": "RlCn2aiofoAD",
        "colab_type": "code",
        "colab": {}
      },
      "source": [
        "fig.axes[0].xaxis.set_major_formatter(plt.NullFormatter())"
      ],
      "execution_count": 0,
      "outputs": []
    },
    {
      "cell_type": "code",
      "metadata": {
        "id": "Fr3dJxR8foAF",
        "colab_type": "code",
        "outputId": "a55abb53-fd6b-4c22-879c-fa8cdbaed02a",
        "colab": {}
      },
      "source": [
        "fig"
      ],
      "execution_count": 0,
      "outputs": [
        {
          "output_type": "execute_result",
          "data": {
            "image/png": "[encoded data removed]",
            "text/plain": [
              "<Figure size 432x288 with 1 Axes>"
            ]
          },
          "metadata": {
            "tags": []
          },
          "execution_count": 129
        }
      ]
    },
    {
      "cell_type": "markdown",
      "metadata": {
        "id": "0utqDhPjfoAH",
        "colab_type": "text"
      },
      "source": [
        "As we can see there are now no labels under the xaxis tick marks."
      ]
    },
    {
      "cell_type": "markdown",
      "metadata": {
        "id": "73OzcSSffoAI",
        "colab_type": "text"
      },
      "source": [
        "Or we can specify where the ticks are located.  For example, below, we'll specify that they are located where $x = 0, 5, 10, 15$, and $20$."
      ]
    },
    {
      "cell_type": "code",
      "metadata": {
        "id": "_Cfs89dTfoAI",
        "colab_type": "code",
        "outputId": "a2eaaba8-9b84-49e6-fca9-81a513a8d74b",
        "colab": {}
      },
      "source": [
        "fig.axes[0].xaxis.set_ticks([0, 5, 10, 15, 20])"
      ],
      "execution_count": 0,
      "outputs": [
        {
          "output_type": "execute_result",
          "data": {
            "text/plain": [
              "[<matplotlib.axis.XTick at 0x11de5d890>,\n",
              " <matplotlib.axis.XTick at 0x11da92a90>,\n",
              " <matplotlib.axis.XTick at 0x11cc570d0>,\n",
              " <matplotlib.axis.XTick at 0x11da8f090>,\n",
              " <matplotlib.axis.XTick at 0x11da8ff50>]"
            ]
          },
          "metadata": {
            "tags": []
          },
          "execution_count": 130
        }
      ]
    },
    {
      "cell_type": "code",
      "metadata": {
        "id": "nj2QqhxjfoAK",
        "colab_type": "code",
        "outputId": "5a8285bc-d8c5-4663-b277-e3c26a9b163b",
        "colab": {}
      },
      "source": [
        "fig"
      ],
      "execution_count": 0,
      "outputs": [
        {
          "output_type": "execute_result",
          "data": {
            "image/png": "[encoded data removed]",
            "text/plain": [
              "<Figure size 432x288 with 1 Axes>"
            ]
          },
          "metadata": {
            "tags": []
          },
          "execution_count": 131
        }
      ]
    },
    {
      "cell_type": "markdown",
      "metadata": {
        "id": "QQgjHRBufoAN",
        "colab_type": "text"
      },
      "source": [
        "Now it's your turn."
      ]
    },
    {
      "cell_type": "markdown",
      "metadata": {
        "id": "Lvag7Q9CfoAN",
        "colab_type": "text"
      },
      "source": [
        "Begin at `fig` object and reference yaxis.  Then use the `set_major_locator` method to remove the tick labels."
      ]
    },
    {
      "cell_type": "code",
      "metadata": {
        "id": "faYqlkr2foAO",
        "colab_type": "code",
        "colab": {}
      },
      "source": [
        "# write code here"
      ],
      "execution_count": 0,
      "outputs": []
    },
    {
      "cell_type": "code",
      "metadata": {
        "id": "-O-zOG2SfoAP",
        "colab_type": "code",
        "outputId": "c0c7c17b-8bf0-4a03-cfd2-ea60e9b35fc6",
        "colab": {}
      },
      "source": [
        "fig"
      ],
      "execution_count": 0,
      "outputs": [
        {
          "output_type": "execute_result",
          "data": {
            "image/png": "[encoded data removed]",
            "text/plain": [
              "<Figure size 432x288 with 1 Axes>"
            ]
          },
          "metadata": {
            "tags": []
          },
          "execution_count": 140
        }
      ]
    },
    {
      "cell_type": "markdown",
      "metadata": {
        "id": "rPhTdisWfoAS",
        "colab_type": "text"
      },
      "source": [
        "Look and behold our plot.  "
      ]
    },
    {
      "cell_type": "markdown",
      "metadata": {
        "id": "ZLBhBeAGfoAS",
        "colab_type": "text"
      },
      "source": [
        "> Answer: <img src=\"https://github.com/jigsawlabs-student/matplotlib/blob/master/plot-behold.png?raw=1\" width=\"40%\">"
      ]
    },
    {
      "cell_type": "markdown",
      "metadata": {
        "id": "oTAr5o6wfoAT",
        "colab_type": "text"
      },
      "source": [
        "### Summary"
      ]
    },
    {
      "cell_type": "markdown",
      "metadata": {
        "id": "ttF_e8YofoAU",
        "colab_type": "text"
      },
      "source": [
        "In this lesson, we practiced navigating a figure.  We saw that a figure has one or more subplot or axes, and that from the axes we can reference and style both the xaxis and yaxis.  We also saw how to add different plots to our subplots. "
      ]
    }
  ]
}