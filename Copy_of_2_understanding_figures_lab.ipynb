{
  "nbformat": 4,
  "nbformat_minor": 0,
  "metadata": {
    "kernelspec": {
      "display_name": "Python 3",
      "language": "python",
      "name": "python3"
    },
    "language_info": {
      "codemirror_mode": {
        "name": "ipython",
        "version": 3
      },
      "file_extension": ".py",
      "mimetype": "text/x-python",
      "name": "python",
      "nbconvert_exporter": "python",
      "pygments_lexer": "ipython3",
      "version": "3.7.4"
    },
    "colab": {
      "name": "Copy of 2-understanding-figures-lab.ipynb",
      "provenance": [],
      "include_colab_link": true
    }
  },
  "cells": [
    {
      "cell_type": "markdown",
      "metadata": {
        "id": "view-in-github",
        "colab_type": "text"
      },
      "source": [
        "<a href=\"https://colab.research.google.com/github/ludawg44/jigsawlabs/blob/24Mar20/Copy_of_2_understanding_figures_lab.ipynb\" target=\"_parent\"><img src=\"https://colab.research.google.com/assets/colab-badge.svg\" alt=\"Open In Colab\"/></a>"
      ]
    },
    {
      "cell_type": "markdown",
      "metadata": {
        "id": "Y4LN-nl9bw5k",
        "colab_type": "text"
      },
      "source": [
        "# Navigating Figures Lab"
      ]
    },
    {
      "cell_type": "markdown",
      "metadata": {
        "id": "rBp-1Zg5bw5m",
        "colab_type": "text"
      },
      "source": [
        "### Introduction"
      ]
    },
    {
      "cell_type": "markdown",
      "metadata": {
        "id": "uKoFou4Gbw5o",
        "colab_type": "text"
      },
      "source": [
        "In this lesson, we'll practice what we know about the relationship between a figure, a subplot or axes, an axis, and a plot."
      ]
    },
    {
      "cell_type": "markdown",
      "metadata": {
        "id": "yqFpta1Obw5p",
        "colab_type": "text"
      },
      "source": [
        "### Getting Started"
      ]
    },
    {
      "cell_type": "markdown",
      "metadata": {
        "id": "A9AEBWQsbw5q",
        "colab_type": "text"
      },
      "source": [
        "To get started, import the matplotlib library and use the jupyter magic function to display the plot inline."
      ]
    },
    {
      "cell_type": "code",
      "metadata": {
        "id": "zIKmuaDTbw5r",
        "colab_type": "code",
        "colab": {}
      },
      "source": [
        "import matplotlib.pyplot as plt\n",
        "%matplotlib inline"
      ],
      "execution_count": 0,
      "outputs": []
    },
    {
      "cell_type": "markdown",
      "metadata": {
        "id": "y8xffYNpbw5u",
        "colab_type": "text"
      },
      "source": [
        "> Uncomment and run the line below if you'd like to make the figure size smaller."
      ]
    },
    {
      "cell_type": "code",
      "metadata": {
        "id": "TziHaOA4bw5v",
        "colab_type": "code",
        "colab": {}
      },
      "source": [
        "plt.rcParams['figure.figsize'] = [4, 2.5]"
      ],
      "execution_count": 0,
      "outputs": []
    },
    {
      "cell_type": "markdown",
      "metadata": {
        "id": "PwJC893cbw5x",
        "colab_type": "text"
      },
      "source": [
        "### Figures, Plots and Axes"
      ]
    },
    {
      "cell_type": "markdown",
      "metadata": {
        "id": "RJWNHsxIbw5y",
        "colab_type": "text"
      },
      "source": [
        "Begin by creating a new figure, and assigning it to the variable `fig`."
      ]
    },
    {
      "cell_type": "code",
      "metadata": {
        "id": "G3xAfbL8bw5z",
        "colab_type": "code",
        "colab": {}
      },
      "source": [
        "fig = None\n",
        "# <Figure size 432x288 with 0 Axes>"
      ],
      "execution_count": 0,
      "outputs": []
    },
    {
      "cell_type": "markdown",
      "metadata": {
        "id": "G9zBRJLWbw52",
        "colab_type": "text"
      },
      "source": [
        "Ok, We should see that there  are 0 Axes.  This is because our figure does not have any subplot associated with it.  \n",
        "\n",
        "We can confirm this by calling figure below.  Because there are no subplots or axes, there is nothing to display."
      ]
    },
    {
      "cell_type": "code",
      "metadata": {
        "id": "VWx2ENWwbw53",
        "colab_type": "code",
        "outputId": "0ef6dbf3-b3d8-4390-be9e-f843797d82e8",
        "colab": {}
      },
      "source": [
        "fig"
      ],
      "execution_count": 0,
      "outputs": [
        {
          "output_type": "execute_result",
          "data": {
            "text/plain": [
              "<Figure size 432x288 with 0 Axes>"
            ]
          },
          "metadata": {
            "tags": []
          },
          "execution_count": 90
        }
      ]
    },
    {
      "cell_type": "markdown",
      "metadata": {
        "id": "BhVGwbHibw58",
        "colab_type": "text"
      },
      "source": [
        "Next, let's add a single axes or subplot to this figure.  Use the `fig.subplots` method to do so."
      ]
    },
    {
      "cell_type": "code",
      "metadata": {
        "id": "x_J1RyHfbw59",
        "colab_type": "code",
        "outputId": "5c1ec44d-f951-4f97-d0a8-7c4335159331",
        "colab": {}
      },
      "source": [
        "axs = None\n",
        "\n",
        "type(axs)\n",
        "# matplotlib.axes._subplots.AxesSubplot"
      ],
      "execution_count": 0,
      "outputs": [
        {
          "output_type": "execute_result",
          "data": {
            "text/plain": [
              "matplotlib.axes._subplots.AxesSubplot"
            ]
          },
          "metadata": {
            "tags": []
          },
          "execution_count": 91
        }
      ]
    },
    {
      "cell_type": "markdown",
      "metadata": {
        "id": "ahfdRdvrbw5_",
        "colab_type": "text"
      },
      "source": [
        "Let's take another look at our figure."
      ]
    },
    {
      "cell_type": "code",
      "metadata": {
        "id": "6SZtKZ5wbw6A",
        "colab_type": "code",
        "outputId": "f3c6b5af-095d-43e8-a093-1fafd40507ae",
        "colab": {}
      },
      "source": [
        "fig"
      ],
      "execution_count": 0,
      "outputs": [
        {
          "output_type": "execute_result",
          "data": {
            "image/png": "[encoded data removed]",
            "text/plain": [
              "<Figure size 432x288 with 1 Axes>"
            ]
          },
          "metadata": {
            "tags": []
          },
          "execution_count": 92
        }
      ]
    },
    {
      "cell_type": "markdown",
      "metadata": {
        "id": "RXuGaT6Rbw6D",
        "colab_type": "text"
      },
      "source": [
        "> Answer:\n",
        "<img src=\"https://github.com/jigsawlabs-student/matplotlib/blob/master/blank-fig.png?raw=1\" width=\"40%\">"
      ]
    },
    {
      "cell_type": "markdown",
      "metadata": {
        "id": "dtVwkK6Ubw6D",
        "colab_type": "text"
      },
      "source": [
        "Ok, so we can see that now there is a blank subplot as part of our figure."
      ]
    },
    {
      "cell_type": "markdown",
      "metadata": {
        "id": "YG5xNO4Tbw6E",
        "colab_type": "text"
      },
      "source": [
        "Next let's add a plot to our subplot or axes.  \n",
        "* First, use `np.arange` to create a list of values from 0 to 9.  \n",
        "> You should only need to provide one number as an argument to do so."
      ]
    },
    {
      "cell_type": "code",
      "metadata": {
        "id": "nvrs3vGWbw6F",
        "colab_type": "code",
        "outputId": "0f27fc3a-d20d-4a01-c234-582e556a82ae",
        "colab": {}
      },
      "source": [
        "import numpy as np\n",
        "xs = np.arange(9)\n",
        "xs\n",
        "# array([0, 1, 2, 3, 4, 5, 6, 7, 8])"
      ],
      "execution_count": 0,
      "outputs": [
        {
          "output_type": "execute_result",
          "data": {
            "text/plain": [
              "array([0, 1, 2, 3, 4, 5, 6, 7, 8])"
            ]
          },
          "metadata": {
            "tags": []
          },
          "execution_count": 21
        }
      ]
    },
    {
      "cell_type": "markdown",
      "metadata": {
        "id": "s8gs8bntbw6H",
        "colab_type": "text"
      },
      "source": [
        "* Next, use `np.arange` to create a list of `y` values from 2 to 18, only even numbers.\n"
      ]
    },
    {
      "cell_type": "code",
      "metadata": {
        "id": "cokYJ5wDbw6I",
        "colab_type": "code",
        "outputId": "fc7d15d2-3b35-4150-e91f-5ee1d2d721e7",
        "colab": {}
      },
      "source": [
        "ys = np.arange(2, 19, 2)\n",
        "ys\n",
        "# array([ 2,  4,  6,  8, 10, 12, 14, 16, 18])"
      ],
      "execution_count": 0,
      "outputs": [
        {
          "output_type": "execute_result",
          "data": {
            "text/plain": [
              "array([ 2,  4,  6,  8, 10, 12, 14, 16, 18])"
            ]
          },
          "metadata": {
            "tags": []
          },
          "execution_count": 7
        }
      ]
    },
    {
      "cell_type": "markdown",
      "metadata": {
        "id": "GpSDzjVBbw6K",
        "colab_type": "text"
      },
      "source": [
        "> We need to make sure that the length of the two arrays are equal.  But predicting the number of items in an array with `arange` can sometimes be confusing.  We can also use `np.linspace`, which allows us to specify the number of items in between a range."
      ]
    },
    {
      "cell_type": "code",
      "metadata": {
        "id": "iJSL8Jkcbw6L",
        "colab_type": "code",
        "outputId": "45985462-c1a0-4406-9ef5-1d795b076f9c",
        "colab": {}
      },
      "source": [
        "arr = np.linspace(2, 19, 9)\n",
        "arr"
      ],
      "execution_count": 0,
      "outputs": [
        {
          "output_type": "execute_result",
          "data": {
            "text/plain": [
              "array([ 2.   ,  4.125,  6.25 ,  8.375, 10.5  , 12.625, 14.75 , 16.875,\n",
              "       19.   ])"
            ]
          },
          "metadata": {
            "tags": []
          },
          "execution_count": 13
        }
      ]
    },
    {
      "cell_type": "code",
      "metadata": {
        "id": "Vv5S49T2bw6N",
        "colab_type": "code",
        "outputId": "3c32fcb1-273b-4d9c-906d-0b124b77977b",
        "colab": {}
      },
      "source": [
        "len(arr)"
      ],
      "execution_count": 0,
      "outputs": [
        {
          "output_type": "execute_result",
          "data": {
            "text/plain": [
              "9"
            ]
          },
          "metadata": {
            "tags": []
          },
          "execution_count": 14
        }
      ]
    },
    {
      "cell_type": "markdown",
      "metadata": {
        "id": "8ejDtTk3bw6Q",
        "colab_type": "text"
      },
      "source": [
        "* Now add a scatter plot to the `axs` with the `xs` as the x values and the `ys` as the y values."
      ]
    },
    {
      "cell_type": "code",
      "metadata": {
        "id": "L-Eu5axLbw6R",
        "colab_type": "code",
        "colab": {}
      },
      "source": [
        "# write answer here"
      ],
      "execution_count": 0,
      "outputs": []
    },
    {
      "cell_type": "code",
      "metadata": {
        "id": "IdyOC6h5bw6U",
        "colab_type": "code",
        "colab": {}
      },
      "source": [
        "# fig"
      ],
      "execution_count": 0,
      "outputs": []
    },
    {
      "cell_type": "markdown",
      "metadata": {
        "id": "j5AQ0Fefbw6W",
        "colab_type": "text"
      },
      "source": [
        "> If we uncomment and run the cell above we should see a scatter plot with x values ranging from 0 to 9, and y values ranging to 18."
      ]
    },
    {
      "cell_type": "markdown",
      "metadata": {
        "id": "bXv81YlZbw6X",
        "colab_type": "text"
      },
      "source": [
        "> Answer: <img src=\"https://github.com/jigsawlabs-student/matplotlib/blob/master/scatter-answer.png?raw=1\" width=\"40%\">"
      ]
    },
    {
      "cell_type": "markdown",
      "metadata": {
        "id": "Bv45JX8pbw6Y",
        "colab_type": "text"
      },
      "source": [
        "Now let's add a second scatter plot with the following data."
      ]
    },
    {
      "cell_type": "code",
      "metadata": {
        "id": "1eSzIn12bw6Y",
        "colab_type": "code",
        "colab": {}
      },
      "source": [
        "x_2s = [15, 20, 12]\n",
        "y_2s = [25, 28, 24]"
      ],
      "execution_count": 0,
      "outputs": []
    },
    {
      "cell_type": "code",
      "metadata": {
        "id": "rp5e_EE7bw6b",
        "colab_type": "code",
        "colab": {}
      },
      "source": [
        "fig"
      ],
      "execution_count": 0,
      "outputs": []
    },
    {
      "cell_type": "markdown",
      "metadata": {
        "id": "GVTxyIatbw6e",
        "colab_type": "text"
      },
      "source": [
        "> Answer: <img src=\"https://github.com/jigsawlabs-student/matplotlib/blob/master/two-scatters.png?raw=1\" width=\"40%\">"
      ]
    },
    {
      "cell_type": "markdown",
      "metadata": {
        "id": "N8sFCy3vbw6f",
        "colab_type": "text"
      },
      "source": [
        "Now let's move onto seeing if we can reference and change some of the either the xaxis figure's subplot above."
      ]
    },
    {
      "cell_type": "markdown",
      "metadata": {
        "id": "FiwkOPZZbw6g",
        "colab_type": "text"
      },
      "source": [
        "> We can see a list all of the axes in the figure with the following."
      ]
    },
    {
      "cell_type": "code",
      "metadata": {
        "id": "HRekL8pQbw6g",
        "colab_type": "code",
        "outputId": "a58704ff-7822-4c0a-b7ca-ed196af42e9a",
        "colab": {}
      },
      "source": [
        "fig.axes"
      ],
      "execution_count": 0,
      "outputs": [
        {
          "output_type": "execute_result",
          "data": {
            "text/plain": [
              "[<matplotlib.axes._subplots.AxesSubplot at 0x11d458c90>]"
            ]
          },
          "metadata": {
            "tags": []
          },
          "execution_count": 120
        }
      ]
    },
    {
      "cell_type": "markdown",
      "metadata": {
        "id": "B8KzyQebbw6j",
        "colab_type": "text"
      },
      "source": [
        "And from there, we can retrieve the first axes, and then reference the xaxis."
      ]
    },
    {
      "cell_type": "code",
      "metadata": {
        "id": "-lSigeCKbw6k",
        "colab_type": "code",
        "outputId": "0fd1fbb4-5f09-4383-82c9-c89711676333",
        "colab": {}
      },
      "source": [
        "x_axis = fig.axes[0].xaxis\n",
        "x_axis"
      ],
      "execution_count": 0,
      "outputs": [
        {
          "output_type": "execute_result",
          "data": {
            "text/plain": [
              "<matplotlib.axis.XAxis at 0x11cced550>"
            ]
          },
          "metadata": {
            "tags": []
          },
          "execution_count": 121
        }
      ]
    },
    {
      "cell_type": "code",
      "metadata": {
        "id": "VJSJMN8Qbw6o",
        "colab_type": "code",
        "colab": {}
      },
      "source": [
        "fig.axes[0].xaxis.set_major_formatter(plt.NullFormatter())"
      ],
      "execution_count": 0,
      "outputs": []
    },
    {
      "cell_type": "code",
      "metadata": {
        "id": "Hi1-qE4bbw6q",
        "colab_type": "code",
        "outputId": "e80fac14-271e-4bdd-d6ed-2d7e3e5265e1",
        "colab": {}
      },
      "source": [
        "fig"
      ],
      "execution_count": 0,
      "outputs": [
        {
          "output_type": "execute_result",
          "data": {
            "image/png": "[encoded data removed]",
            "text/plain": [
              "<Figure size 432x288 with 1 Axes>"
            ]
          },
          "metadata": {
            "tags": []
          },
          "execution_count": 129
        }
      ]
    },
    {
      "cell_type": "markdown",
      "metadata": {
        "id": "KxIaJ56Jbw6s",
        "colab_type": "text"
      },
      "source": [
        "As we can see there are now no labels under the xaxis tick marks."
      ]
    },
    {
      "cell_type": "markdown",
      "metadata": {
        "id": "ZDXkNLIAbw6t",
        "colab_type": "text"
      },
      "source": [
        "Or we can specify where the ticks are located.  For example, below, we'll specify that they are located where $x = 0, 5, 10, 15$, and $20$."
      ]
    },
    {
      "cell_type": "code",
      "metadata": {
        "id": "ZbUeIyv_bw6u",
        "colab_type": "code",
        "outputId": "38d502a2-2940-4255-e5b0-c4d462799ae3",
        "colab": {}
      },
      "source": [
        "fig.axes[0].xaxis.set_ticks([0, 5, 10, 15, 20])"
      ],
      "execution_count": 0,
      "outputs": [
        {
          "output_type": "execute_result",
          "data": {
            "text/plain": [
              "[<matplotlib.axis.XTick at 0x11de5d890>,\n",
              " <matplotlib.axis.XTick at 0x11da92a90>,\n",
              " <matplotlib.axis.XTick at 0x11cc570d0>,\n",
              " <matplotlib.axis.XTick at 0x11da8f090>,\n",
              " <matplotlib.axis.XTick at 0x11da8ff50>]"
            ]
          },
          "metadata": {
            "tags": []
          },
          "execution_count": 130
        }
      ]
    },
    {
      "cell_type": "code",
      "metadata": {
        "id": "mUqZoGlHbw6w",
        "colab_type": "code",
        "outputId": "1d5c1c72-f0c7-476e-cce0-6339db0d7357",
        "colab": {}
      },
      "source": [
        "fig"
      ],
      "execution_count": 0,
      "outputs": [
        {
          "output_type": "execute_result",
          "data": {
            "image/png": "[encoded data removed]",
            "text/plain": [
              "<Figure size 432x288 with 1 Axes>"
            ]
          },
          "metadata": {
            "tags": []
          },
          "execution_count": 131
        }
      ]
    },
    {
      "cell_type": "markdown",
      "metadata": {
        "id": "tfYHgrxxbw6x",
        "colab_type": "text"
      },
      "source": [
        "Now it's your turn."
      ]
    },
    {
      "cell_type": "markdown",
      "metadata": {
        "id": "xQofqpX5bw6y",
        "colab_type": "text"
      },
      "source": [
        "Begin at `fig` object and reference yaxis.  Then use the `set_major_locator` method to remove the tick labels."
      ]
    },
    {
      "cell_type": "code",
      "metadata": {
        "id": "piyTitz-bw6y",
        "colab_type": "code",
        "colab": {}
      },
      "source": [
        "# write code here"
      ],
      "execution_count": 0,
      "outputs": []
    },
    {
      "cell_type": "code",
      "metadata": {
        "id": "Jg7SHyLkbw60",
        "colab_type": "code",
        "outputId": "9cf46950-0b78-4c31-8c0a-9747236b2661",
        "colab": {}
      },
      "source": [
        "fig"
      ],
      "execution_count": 0,
      "outputs": [
        {
          "output_type": "execute_result",
          "data": {
            "image/png": "[encoded data removed]",
            "text/plain": [
              "<Figure size 432x288 with 1 Axes>"
            ]
          },
          "metadata": {
            "tags": []
          },
          "execution_count": 140
        }
      ]
    },
    {
      "cell_type": "markdown",
      "metadata": {
        "id": "IUx_nu-Cbw62",
        "colab_type": "text"
      },
      "source": [
        "Look and behold our plot.  "
      ]
    },
    {
      "cell_type": "markdown",
      "metadata": {
        "id": "u0aBjKIDbw63",
        "colab_type": "text"
      },
      "source": [
        "> Answer: <img src=\"https://github.com/jigsawlabs-student/matplotlib/blob/master/plot-behold.png?raw=1\" width=\"40%\">"
      ]
    },
    {
      "cell_type": "markdown",
      "metadata": {
        "id": "lZBngLXpbw64",
        "colab_type": "text"
      },
      "source": [
        "### Summary"
      ]
    },
    {
      "cell_type": "markdown",
      "metadata": {
        "id": "v-CJM7UWbw65",
        "colab_type": "text"
      },
      "source": [
        "In this lesson, we practiced navigating a figure.  We saw that a figure has one or more subplot or axes, and that from the axes we can reference and style both the xaxis and yaxis.  We also saw how to add different plots to our subplots. "
      ]
    }
  ]
}