{
  "nbformat": 4,
  "nbformat_minor": 0,
  "metadata": {
    "kernelspec": {
      "display_name": "Python 3",
      "language": "python",
      "name": "python3"
    },
    "language_info": {
      "codemirror_mode": {
        "name": "ipython",
        "version": 3
      },
      "file_extension": ".py",
      "mimetype": "text/x-python",
      "name": "python",
      "nbconvert_exporter": "python",
      "pygments_lexer": "ipython3",
      "version": "3.7.4"
    },
    "colab": {
      "name": "Copy of index.ipynb",
      "provenance": [],
      "include_colab_link": true
    }
  },
  "cells": [
    {
      "cell_type": "markdown",
      "metadata": {
        "id": "view-in-github",
        "colab_type": "text"
      },
      "source": [
        "<a href=\"https://colab.research.google.com/github/ludawg44/jigsawlabs/blob/master/17Apr20_Holdout%20Sets%20Lab.ipynb\" target=\"_parent\"><img src=\"https://colab.research.google.com/assets/colab-badge.svg\" alt=\"Open In Colab\"/></a>"
      ]
    },
    {
      "cell_type": "markdown",
      "metadata": {
        "id": "2uQ8oY5UuXbp",
        "colab_type": "text"
      },
      "source": [
        "# Holdout Sets Lab"
      ]
    },
    {
      "cell_type": "markdown",
      "metadata": {
        "id": "6UHs8eHiuXbq",
        "colab_type": "text"
      },
      "source": [
        "### Introduction"
      ]
    },
    {
      "cell_type": "markdown",
      "metadata": {
        "id": "c0qWaeuXuXbr",
        "colab_type": "text"
      },
      "source": [
        "In this lesson, we'll see how we can use holdout sets to correct for overfitting.  We'll do so, with the use of one of the datasets built into sklearn, the california housing dataset."
      ]
    },
    {
      "cell_type": "markdown",
      "metadata": {
        "id": "j1oYY79YuXbr",
        "colab_type": "text"
      },
      "source": [
        "### Loading our Data"
      ]
    },
    {
      "cell_type": "markdown",
      "metadata": {
        "id": "gW2PMcMMuXbs",
        "colab_type": "text"
      },
      "source": [
        "Let's begin by loading our dataset from sklearn."
      ]
    },
    {
      "cell_type": "code",
      "metadata": {
        "id": "WmTwE3XRuXbs",
        "colab_type": "code",
        "colab": {}
      },
      "source": [
        "from sklearn.datasets import fetch_california_housing\n",
        "dataset = fetch_california_housing()"
      ],
      "execution_count": 0,
      "outputs": []
    },
    {
      "cell_type": "markdown",
      "metadata": {
        "id": "EEzWrtlfuXbw",
        "colab_type": "text"
      },
      "source": [
        "Now the `fetch_california_housing` method returns to us a dictionary like object.  Begin by viewing the keys in our dataset."
      ]
    },
    {
      "cell_type": "code",
      "metadata": {
        "id": "GsvugCM-5T0i",
        "colab_type": "code",
        "outputId": "d50836a3-0fa3-4e7a-b5e5-9e34f58c17fc",
        "colab": {
          "base_uri": "https://localhost:8080/",
          "height": 34
        }
      },
      "source": [
        "# LV\n",
        "type(dataset)"
      ],
      "execution_count": 0,
      "outputs": [
        {
          "output_type": "execute_result",
          "data": {
            "text/plain": [
              "sklearn.utils.Bunch"
            ]
          },
          "metadata": {
            "tags": []
          },
          "execution_count": 33
        }
      ]
    },
    {
      "cell_type": "code",
      "metadata": {
        "id": "2zUBbkdS2_4d",
        "colab_type": "code",
        "outputId": "bffbe0dd-2df7-427f-eb28-11a499eecb4c",
        "colab": {
          "base_uri": "https://localhost:8080/",
          "height": 428
        }
      },
      "source": [
        "# LV\n",
        "dataset"
      ],
      "execution_count": 0,
      "outputs": [
        {
          "output_type": "execute_result",
          "data": {
            "text/plain": [
              "{'DESCR': '.. _california_housing_dataset:\\n\\nCalifornia Housing dataset\\n--------------------------\\n\\n**Data Set Characteristics:**\\n\\n    :Number of Instances: 20640\\n\\n    :Number of Attributes: 8 numeric, predictive attributes and the target\\n\\n    :Attribute Information:\\n        - MedInc        median income in block\\n        - HouseAge      median house age in block\\n        - AveRooms      average number of rooms\\n        - AveBedrms     average number of bedrooms\\n        - Population    block population\\n        - AveOccup      average house occupancy\\n        - Latitude      house block latitude\\n        - Longitude     house block longitude\\n\\n    :Missing Attribute Values: None\\n\\nThis dataset was obtained from the StatLib repository.\\nhttp://lib.stat.cmu.edu/datasets/\\n\\nThe target variable is the median house value for California districts.\\n\\nThis dataset was derived from the 1990 U.S. census, using one row per census\\nblock group. A block group is the smallest geographical unit for which the U.S.\\nCensus Bureau publishes sample data (a block group typically has a population\\nof 600 to 3,000 people).\\n\\nIt can be downloaded/loaded using the\\n:func:`sklearn.datasets.fetch_california_housing` function.\\n\\n.. topic:: References\\n\\n    - Pace, R. Kelley and Ronald Barry, Sparse Spatial Autoregressions,\\n      Statistics and Probability Letters, 33 (1997) 291-297\\n',\n",
              " 'data': array([[   8.3252    ,   41.        ,    6.98412698, ...,    2.55555556,\n",
              "           37.88      , -122.23      ],\n",
              "        [   8.3014    ,   21.        ,    6.23813708, ...,    2.10984183,\n",
              "           37.86      , -122.22      ],\n",
              "        [   7.2574    ,   52.        ,    8.28813559, ...,    2.80225989,\n",
              "           37.85      , -122.24      ],\n",
              "        ...,\n",
              "        [   1.7       ,   17.        ,    5.20554273, ...,    2.3256351 ,\n",
              "           39.43      , -121.22      ],\n",
              "        [   1.8672    ,   18.        ,    5.32951289, ...,    2.12320917,\n",
              "           39.43      , -121.32      ],\n",
              "        [   2.3886    ,   16.        ,    5.25471698, ...,    2.61698113,\n",
              "           39.37      , -121.24      ]]),\n",
              " 'feature_names': ['MedInc',\n",
              "  'HouseAge',\n",
              "  'AveRooms',\n",
              "  'AveBedrms',\n",
              "  'Population',\n",
              "  'AveOccup',\n",
              "  'Latitude',\n",
              "  'Longitude'],\n",
              " 'target': array([4.526, 3.585, 3.521, ..., 0.923, 0.847, 0.894])}"
            ]
          },
          "metadata": {
            "tags": []
          },
          "execution_count": 18
        }
      ]
    },
    {
      "cell_type": "code",
      "metadata": {
        "id": "nN1nNEbjuXbw",
        "colab_type": "code",
        "outputId": "ebc93e6a-cf74-4936-ecb6-99f757187ebd",
        "colab": {
          "base_uri": "https://localhost:8080/",
          "height": 34
        }
      },
      "source": [
        "# LV: `dict.keys()` method returns a dictionary view obejct, which acts as a set. \n",
        "# Iterating over the dictionary directly also yeilds keys, so turning a dictionary\n",
        "# into a list results in a list of all the keys. \n",
        "\n",
        "dict_keys = list(dataset)\n",
        "dict_keys\n",
        "# dict_keys(['data', 'target', 'feature_names', 'DESCR'])"
      ],
      "execution_count": 0,
      "outputs": [
        {
          "output_type": "execute_result",
          "data": {
            "text/plain": [
              "['data', 'target', 'feature_names', 'DESCR']"
            ]
          },
          "metadata": {
            "tags": []
          },
          "execution_count": 36
        }
      ]
    },
    {
      "cell_type": "markdown",
      "metadata": {
        "id": "AWmJI2EZuXb0",
        "colab_type": "text"
      },
      "source": [
        "One of the keys is `DESCR`.  This is the description of the dataset.  Let's print out the first 1000 lines of the description."
      ]
    },
    {
      "cell_type": "code",
      "metadata": {
        "id": "Uekr9lPMuXb0",
        "colab_type": "code",
        "outputId": "0645fb7c-3da1-454a-ef0b-444ee6b43ae7",
        "colab": {
          "base_uri": "https://localhost:8080/",
          "height": 54
        }
      },
      "source": [
        "# print DESCR here\n",
        "dataset.DESCR"
      ],
      "execution_count": 0,
      "outputs": [
        {
          "output_type": "execute_result",
          "data": {
            "text/plain": [
              "'.. _california_housing_dataset:\\n\\nCalifornia Housing dataset\\n--------------------------\\n\\n**Data Set Characteristics:**\\n\\n    :Number of Instances: 20640\\n\\n    :Number of Attributes: 8 numeric, predictive attributes and the target\\n\\n    :Attribute Information:\\n        - MedInc        median income in block\\n        - HouseAge      median house age in block\\n        - AveRooms      average number of rooms\\n        - AveBedrms     average number of bedrooms\\n        - Population    block population\\n        - AveOccup      average house occupancy\\n        - Latitude      house block latitude\\n        - Longitude     house block longitude\\n\\n    :Missing Attribute Values: None\\n\\nThis dataset was obtained from the StatLib repository.\\nhttp://lib.stat.cmu.edu/datasets/\\n\\nThe target variable is the median house value for California districts.\\n\\nThis dataset was derived from the 1990 U.S. census, using one row per census\\nblock group. A block group is the smallest geographical unit for which the U.S.\\nCensus Bureau publishes sample data (a block group typically has a population\\nof 600 to 3,000 people).\\n\\nIt can be downloaded/loaded using the\\n:func:`sklearn.datasets.fetch_california_housing` function.\\n\\n.. topic:: References\\n\\n    - Pace, R. Kelley and Ronald Barry, Sparse Spatial Autoregressions,\\n      Statistics and Probability Letters, 33 (1997) 291-297\\n'"
            ]
          },
          "metadata": {
            "tags": []
          },
          "execution_count": 19
        }
      ]
    },
    {
      "cell_type": "markdown",
      "metadata": {
        "id": "D9RHovSkuXb2",
        "colab_type": "text"
      },
      "source": [
        "Ok, now that we have a sense of the data, let's gather our features.  Create a dataframe from the `dataset` in the `data` key, and name the columns the list of names in the `feature_names` from the dataset.  Assign the dataframe to the variable `X`."
      ]
    },
    {
      "cell_type": "code",
      "metadata": {
        "id": "7SnBiRnWuXb3",
        "colab_type": "code",
        "outputId": "d9591c4d-608e-437e-d329-dec89ddf0bef",
        "colab": {
          "base_uri": "https://localhost:8080/",
          "height": 204
        }
      },
      "source": [
        "# LV https://scikit-learn.org/stable/auto_examples/inspection/plot_partial_dependence.html#sphx-glr-auto-examples-inspection-plot-partial-dependence-py\n",
        "\n",
        "import numpy as np\n",
        "import pandas as pd\n",
        "\n",
        "X = pd.DataFrame(dataset.data, columns = dataset.feature_names)\n",
        "X.head()"
      ],
      "execution_count": 0,
      "outputs": [
        {
          "output_type": "execute_result",
          "data": {
            "text/html": [
              "<div>\n",
              "<style scoped>\n",
              "    .dataframe tbody tr th:only-of-type {\n",
              "        vertical-align: middle;\n",
              "    }\n",
              "\n",
              "    .dataframe tbody tr th {\n",
              "        vertical-align: top;\n",
              "    }\n",
              "\n",
              "    .dataframe thead th {\n",
              "        text-align: right;\n",
              "    }\n",
              "</style>\n",
              "<table border=\"1\" class=\"dataframe\">\n",
              "  <thead>\n",
              "    <tr style=\"text-align: right;\">\n",
              "      <th></th>\n",
              "      <th>MedInc</th>\n",
              "      <th>HouseAge</th>\n",
              "      <th>AveRooms</th>\n",
              "      <th>AveBedrms</th>\n",
              "      <th>Population</th>\n",
              "      <th>AveOccup</th>\n",
              "      <th>Latitude</th>\n",
              "      <th>Longitude</th>\n",
              "    </tr>\n",
              "  </thead>\n",
              "  <tbody>\n",
              "    <tr>\n",
              "      <th>0</th>\n",
              "      <td>8.3252</td>\n",
              "      <td>41.0</td>\n",
              "      <td>6.984127</td>\n",
              "      <td>1.023810</td>\n",
              "      <td>322.0</td>\n",
              "      <td>2.555556</td>\n",
              "      <td>37.88</td>\n",
              "      <td>-122.23</td>\n",
              "    </tr>\n",
              "    <tr>\n",
              "      <th>1</th>\n",
              "      <td>8.3014</td>\n",
              "      <td>21.0</td>\n",
              "      <td>6.238137</td>\n",
              "      <td>0.971880</td>\n",
              "      <td>2401.0</td>\n",
              "      <td>2.109842</td>\n",
              "      <td>37.86</td>\n",
              "      <td>-122.22</td>\n",
              "    </tr>\n",
              "    <tr>\n",
              "      <th>2</th>\n",
              "      <td>7.2574</td>\n",
              "      <td>52.0</td>\n",
              "      <td>8.288136</td>\n",
              "      <td>1.073446</td>\n",
              "      <td>496.0</td>\n",
              "      <td>2.802260</td>\n",
              "      <td>37.85</td>\n",
              "      <td>-122.24</td>\n",
              "    </tr>\n",
              "    <tr>\n",
              "      <th>3</th>\n",
              "      <td>5.6431</td>\n",
              "      <td>52.0</td>\n",
              "      <td>5.817352</td>\n",
              "      <td>1.073059</td>\n",
              "      <td>558.0</td>\n",
              "      <td>2.547945</td>\n",
              "      <td>37.85</td>\n",
              "      <td>-122.25</td>\n",
              "    </tr>\n",
              "    <tr>\n",
              "      <th>4</th>\n",
              "      <td>3.8462</td>\n",
              "      <td>52.0</td>\n",
              "      <td>6.281853</td>\n",
              "      <td>1.081081</td>\n",
              "      <td>565.0</td>\n",
              "      <td>2.181467</td>\n",
              "      <td>37.85</td>\n",
              "      <td>-122.25</td>\n",
              "    </tr>\n",
              "  </tbody>\n",
              "</table>\n",
              "</div>"
            ],
            "text/plain": [
              "   MedInc  HouseAge  AveRooms  ...  AveOccup  Latitude  Longitude\n",
              "0  8.3252      41.0  6.984127  ...  2.555556     37.88    -122.23\n",
              "1  8.3014      21.0  6.238137  ...  2.109842     37.86    -122.22\n",
              "2  7.2574      52.0  8.288136  ...  2.802260     37.85    -122.24\n",
              "3  5.6431      52.0  5.817352  ...  2.547945     37.85    -122.25\n",
              "4  3.8462      52.0  6.281853  ...  2.181467     37.85    -122.25\n",
              "\n",
              "[5 rows x 8 columns]"
            ]
          },
          "metadata": {
            "tags": []
          },
          "execution_count": 39
        }
      ]
    },
    {
      "cell_type": "code",
      "metadata": {
        "id": "-wFnABdXuXb5",
        "colab_type": "code",
        "outputId": "87db79ad-75bc-4049-f138-8160a6d52215",
        "colab": {}
      },
      "source": [
        "X[:3]\n",
        "\n",
        "# \tMedInc\tHouseAge\tAveRooms\tAveBedrms\tPopulation\tAveOccup\tLatitude\tLongitude\n",
        "# 0\t8.3252\t41.0\t6.984127\t1.023810\t322.0\t2.555556\t37.88\t-122.23\n",
        "# 1\t8.3014\t21.0\t6.238137\t0.971880\t2401.0\t2.109842\t37.86\t-122.22\n",
        "# 2\t7.2574\t52.0\t8.288136\t1.073446\t496.0\t2.802260\t37.85\t-122.24"
      ],
      "execution_count": 0,
      "outputs": [
        {
          "output_type": "execute_result",
          "data": {
            "text/html": [
              "<div>\n",
              "<style scoped>\n",
              "    .dataframe tbody tr th:only-of-type {\n",
              "        vertical-align: middle;\n",
              "    }\n",
              "\n",
              "    .dataframe tbody tr th {\n",
              "        vertical-align: top;\n",
              "    }\n",
              "\n",
              "    .dataframe thead th {\n",
              "        text-align: right;\n",
              "    }\n",
              "</style>\n",
              "<table border=\"1\" class=\"dataframe\">\n",
              "  <thead>\n",
              "    <tr style=\"text-align: right;\">\n",
              "      <th></th>\n",
              "      <th>MedInc</th>\n",
              "      <th>HouseAge</th>\n",
              "      <th>AveRooms</th>\n",
              "      <th>AveBedrms</th>\n",
              "      <th>Population</th>\n",
              "      <th>AveOccup</th>\n",
              "      <th>Latitude</th>\n",
              "      <th>Longitude</th>\n",
              "    </tr>\n",
              "  </thead>\n",
              "  <tbody>\n",
              "    <tr>\n",
              "      <th>0</th>\n",
              "      <td>8.3252</td>\n",
              "      <td>41.0</td>\n",
              "      <td>6.984127</td>\n",
              "      <td>1.023810</td>\n",
              "      <td>322.0</td>\n",
              "      <td>2.555556</td>\n",
              "      <td>37.88</td>\n",
              "      <td>-122.23</td>\n",
              "    </tr>\n",
              "    <tr>\n",
              "      <th>1</th>\n",
              "      <td>8.3014</td>\n",
              "      <td>21.0</td>\n",
              "      <td>6.238137</td>\n",
              "      <td>0.971880</td>\n",
              "      <td>2401.0</td>\n",
              "      <td>2.109842</td>\n",
              "      <td>37.86</td>\n",
              "      <td>-122.22</td>\n",
              "    </tr>\n",
              "    <tr>\n",
              "      <th>2</th>\n",
              "      <td>7.2574</td>\n",
              "      <td>52.0</td>\n",
              "      <td>8.288136</td>\n",
              "      <td>1.073446</td>\n",
              "      <td>496.0</td>\n",
              "      <td>2.802260</td>\n",
              "      <td>37.85</td>\n",
              "      <td>-122.24</td>\n",
              "    </tr>\n",
              "  </tbody>\n",
              "</table>\n",
              "</div>"
            ],
            "text/plain": [
              "   MedInc  HouseAge  AveRooms  AveBedrms  Population  AveOccup  Latitude  \\\n",
              "0  8.3252      41.0  6.984127   1.023810       322.0  2.555556     37.88   \n",
              "1  8.3014      21.0  6.238137   0.971880      2401.0  2.109842     37.86   \n",
              "2  7.2574      52.0  8.288136   1.073446       496.0  2.802260     37.85   \n",
              "\n",
              "   Longitude  \n",
              "0    -122.23  \n",
              "1    -122.22  \n",
              "2    -122.24  "
            ]
          },
          "metadata": {
            "tags": []
          },
          "execution_count": 154
        }
      ]
    },
    {
      "cell_type": "markdown",
      "metadata": {
        "id": "TtKL_tvFuXb7",
        "colab_type": "text"
      },
      "source": [
        "Retrieve the target data from the dataset, and store the data in a pandas series.  Assign it to the variable `y`."
      ]
    },
    {
      "cell_type": "code",
      "metadata": {
        "id": "tu6pH6lOuXb8",
        "colab_type": "code",
        "colab": {}
      },
      "source": [
        "# https://note.nkmk.me/en/python-pandas-list/\n",
        "\n",
        "y = pd.Series(dataset.target)"
      ],
      "execution_count": 0,
      "outputs": []
    },
    {
      "cell_type": "code",
      "metadata": {
        "id": "ctV1SxWeuXb_",
        "colab_type": "code",
        "outputId": "3af44fed-2324-45b5-bea7-2da02b940e65",
        "colab": {
          "base_uri": "https://localhost:8080/",
          "height": 34
        }
      },
      "source": [
        "type(y)\n",
        "# pandas.core.series.Series"
      ],
      "execution_count": 0,
      "outputs": [
        {
          "output_type": "execute_result",
          "data": {
            "text/plain": [
              "pandas.core.series.Series"
            ]
          },
          "metadata": {
            "tags": []
          },
          "execution_count": 64
        }
      ]
    },
    {
      "cell_type": "code",
      "metadata": {
        "id": "-USnE4lpuXcB",
        "colab_type": "code",
        "outputId": "5a08e510-e1dd-4ddd-8b66-ca15fa60a9c5",
        "colab": {
          "base_uri": "https://localhost:8080/",
          "height": 85
        }
      },
      "source": [
        "y[:3]\n",
        "# 0    4.526\n",
        "# 1    3.585\n",
        "# 2    3.521\n",
        "# dtype: float64"
      ],
      "execution_count": 0,
      "outputs": [
        {
          "output_type": "execute_result",
          "data": {
            "text/plain": [
              "0    4.526\n",
              "1    3.585\n",
              "2    3.521\n",
              "dtype: float64"
            ]
          },
          "metadata": {
            "tags": []
          },
          "execution_count": 65
        }
      ]
    },
    {
      "cell_type": "markdown",
      "metadata": {
        "id": "RDfE6unMuXcD",
        "colab_type": "text"
      },
      "source": [
        "Ok, now that we have separate our features and targets, let's train a linear regression model."
      ]
    },
    {
      "cell_type": "code",
      "metadata": {
        "id": "Og5VwliXuXcE",
        "colab_type": "code",
        "outputId": "6f44c817-1630-47f8-b75c-2645f28ecdbd",
        "colab": {
          "base_uri": "https://localhost:8080/",
          "height": 34
        }
      },
      "source": [
        "from sklearn.linear_model import LinearRegression\n",
        "\n",
        "model = LinearRegression().fit(X, y)\n",
        "model\n",
        "\n",
        "# LinearRegression(copy_X=True, fit_intercept=True, n_jobs=None, normalize=False)"
      ],
      "execution_count": 0,
      "outputs": [
        {
          "output_type": "execute_result",
          "data": {
            "text/plain": [
              "LinearRegression(copy_X=True, fit_intercept=True, n_jobs=None, normalize=False)"
            ]
          },
          "metadata": {
            "tags": []
          },
          "execution_count": 66
        }
      ]
    },
    {
      "cell_type": "markdown",
      "metadata": {
        "id": "_0fgaq73uXcG",
        "colab_type": "text"
      },
      "source": [
        "> And calculate the score on the linear regression model."
      ]
    },
    {
      "cell_type": "code",
      "metadata": {
        "id": "3Uz8txiKuXcH",
        "colab_type": "code",
        "outputId": "7cf0c51d-3390-4403-b1f1-0f10ba656e62",
        "colab": {
          "base_uri": "https://localhost:8080/",
          "height": 34
        }
      },
      "source": [
        "model.score(X, y)\n",
        "# 0.6062326851998051"
      ],
      "execution_count": 0,
      "outputs": [
        {
          "output_type": "execute_result",
          "data": {
            "text/plain": [
              "0.6062326851998049"
            ]
          },
          "metadata": {
            "tags": []
          },
          "execution_count": 83
        }
      ]
    },
    {
      "cell_type": "markdown",
      "metadata": {
        "id": "nQuC7kbMuXcJ",
        "colab_type": "text"
      },
      "source": [
        "### Checking for Overfitting"
      ]
    },
    {
      "cell_type": "markdown",
      "metadata": {
        "id": "noreXE51uXcJ",
        "colab_type": "text"
      },
      "source": [
        "Let's take a look at the coefficients from our previous model."
      ]
    },
    {
      "cell_type": "code",
      "metadata": {
        "id": "Qxwo19IJuXcJ",
        "colab_type": "code",
        "outputId": "79e867cd-da0f-40f7-b756-43e1ec5dc3d6",
        "colab": {
          "base_uri": "https://localhost:8080/",
          "height": 51
        }
      },
      "source": [
        "model.coef_\n",
        "# array([ 4.36693293e-01,  9.43577803e-03, -1.07322041e-01,  6.45065694e-01,\n",
        "#        -3.97638942e-06, -3.78654265e-03, -4.21314378e-01, -4.34513755e-01])"
      ],
      "execution_count": 0,
      "outputs": [
        {
          "output_type": "execute_result",
          "data": {
            "text/plain": [
              "array([ 4.36693293e-01,  9.43577803e-03, -1.07322041e-01,  6.45065694e-01,\n",
              "       -3.97638942e-06, -3.78654265e-03, -4.21314378e-01, -4.34513755e-01])"
            ]
          },
          "metadata": {
            "tags": []
          },
          "execution_count": 84
        }
      ]
    },
    {
      "cell_type": "markdown",
      "metadata": {
        "id": "deH1DA58uXcL",
        "colab_type": "text"
      },
      "source": [
        "There is one for each of the columns.  So one *crude* way to get a sense of what features may not be contributing too much is to sort our columns by the size of the associated coefficients, from largest to smallest."
      ]
    },
    {
      "cell_type": "markdown",
      "metadata": {
        "id": "mR7yU-7CuXcM",
        "colab_type": "text"
      },
      "source": [
        "> We'll improve on this technique for feature importance in future lessons."
      ]
    },
    {
      "cell_type": "markdown",
      "metadata": {
        "id": "R5FPvFHDuXcM",
        "colab_type": "text"
      },
      "source": [
        "Use numpy to do it.  Assign the result to `sorted_cols`."
      ]
    },
    {
      "cell_type": "code",
      "metadata": {
        "id": "poaMw4kZuXcM",
        "colab_type": "code",
        "outputId": "ec17badf-0497-4538-bcb1-1dc469b07750",
        "colab": {
          "base_uri": "https://localhost:8080/",
          "height": 426
        }
      },
      "source": [
        "# LV THIS IS WHERE I HAD TO LEAVE IT\n",
        "sorted_cols = dataset.sort(['AveBedrms', 'MedInc', 'HouseAge', 'Population', 'AveOccup','AveRooms', 'Latitude', 'Longitude'])\n",
        "sorted_cols\n",
        "# array(['AveBedrms', 'MedInc', 'HouseAge', 'Population', 'AveOccup',\n",
        "#        'AveRooms', 'Latitude', 'Longitude'], dtype='<U10')"
      ],
      "execution_count": 0,
      "outputs": [
        {
          "output_type": "error",
          "ename": "AttributeError",
          "evalue": "ignored",
          "traceback": [
            "\u001b[0;31m---------------------------------------------------------------------------\u001b[0m",
            "\u001b[0;31mKeyError\u001b[0m                                  Traceback (most recent call last)",
            "\u001b[0;32m/usr/local/lib/python3.6/dist-packages/sklearn/utils/__init__.py\u001b[0m in \u001b[0;36m__getattr__\u001b[0;34m(self, key)\u001b[0m\n\u001b[1;32m    113\u001b[0m         \u001b[0;32mtry\u001b[0m\u001b[0;34m:\u001b[0m\u001b[0;34m\u001b[0m\u001b[0;34m\u001b[0m\u001b[0m\n\u001b[0;32m--> 114\u001b[0;31m             \u001b[0;32mreturn\u001b[0m \u001b[0mself\u001b[0m\u001b[0;34m[\u001b[0m\u001b[0mkey\u001b[0m\u001b[0;34m]\u001b[0m\u001b[0;34m\u001b[0m\u001b[0;34m\u001b[0m\u001b[0m\n\u001b[0m\u001b[1;32m    115\u001b[0m         \u001b[0;32mexcept\u001b[0m \u001b[0mKeyError\u001b[0m\u001b[0;34m:\u001b[0m\u001b[0;34m\u001b[0m\u001b[0;34m\u001b[0m\u001b[0m\n",
            "\u001b[0;31mKeyError\u001b[0m: 'sort'",
            "\nDuring handling of the above exception, another exception occurred:\n",
            "\u001b[0;31mAttributeError\u001b[0m                            Traceback (most recent call last)",
            "\u001b[0;32m<ipython-input-113-b02d2c8bb94d>\u001b[0m in \u001b[0;36m<module>\u001b[0;34m()\u001b[0m\n\u001b[0;32m----> 1\u001b[0;31m \u001b[0msorted_cols\u001b[0m \u001b[0;34m=\u001b[0m \u001b[0mdataset\u001b[0m\u001b[0;34m.\u001b[0m\u001b[0msort\u001b[0m\u001b[0;34m(\u001b[0m\u001b[0;34m[\u001b[0m\u001b[0;34m'AveBedrms'\u001b[0m\u001b[0;34m,\u001b[0m \u001b[0;34m'MedInc'\u001b[0m\u001b[0;34m,\u001b[0m \u001b[0;34m'HouseAge'\u001b[0m\u001b[0;34m,\u001b[0m \u001b[0;34m'Population'\u001b[0m\u001b[0;34m,\u001b[0m \u001b[0;34m'AveOccup'\u001b[0m\u001b[0;34m,\u001b[0m\u001b[0;34m'AveRooms'\u001b[0m\u001b[0;34m,\u001b[0m \u001b[0;34m'Latitude'\u001b[0m\u001b[0;34m,\u001b[0m \u001b[0;34m'Longitude'\u001b[0m\u001b[0;34m]\u001b[0m\u001b[0;34m)\u001b[0m\u001b[0;34m\u001b[0m\u001b[0;34m\u001b[0m\u001b[0m\n\u001b[0m\u001b[1;32m      2\u001b[0m \u001b[0msorted_cols\u001b[0m\u001b[0;34m\u001b[0m\u001b[0;34m\u001b[0m\u001b[0m\n\u001b[1;32m      3\u001b[0m \u001b[0;31m# array(['AveBedrms', 'MedInc', 'HouseAge', 'Population', 'AveOccup',\u001b[0m\u001b[0;34m\u001b[0m\u001b[0;34m\u001b[0m\u001b[0;34m\u001b[0m\u001b[0m\n\u001b[1;32m      4\u001b[0m \u001b[0;31m#        'AveRooms', 'Latitude', 'Longitude'], dtype='<U10')\u001b[0m\u001b[0;34m\u001b[0m\u001b[0;34m\u001b[0m\u001b[0;34m\u001b[0m\u001b[0m\n",
            "\u001b[0;32m/usr/local/lib/python3.6/dist-packages/sklearn/utils/__init__.py\u001b[0m in \u001b[0;36m__getattr__\u001b[0;34m(self, key)\u001b[0m\n\u001b[1;32m    114\u001b[0m             \u001b[0;32mreturn\u001b[0m \u001b[0mself\u001b[0m\u001b[0;34m[\u001b[0m\u001b[0mkey\u001b[0m\u001b[0;34m]\u001b[0m\u001b[0;34m\u001b[0m\u001b[0;34m\u001b[0m\u001b[0m\n\u001b[1;32m    115\u001b[0m         \u001b[0;32mexcept\u001b[0m \u001b[0mKeyError\u001b[0m\u001b[0;34m:\u001b[0m\u001b[0;34m\u001b[0m\u001b[0;34m\u001b[0m\u001b[0m\n\u001b[0;32m--> 116\u001b[0;31m             \u001b[0;32mraise\u001b[0m \u001b[0mAttributeError\u001b[0m\u001b[0;34m(\u001b[0m\u001b[0mkey\u001b[0m\u001b[0;34m)\u001b[0m\u001b[0;34m\u001b[0m\u001b[0;34m\u001b[0m\u001b[0m\n\u001b[0m\u001b[1;32m    117\u001b[0m \u001b[0;34m\u001b[0m\u001b[0m\n\u001b[1;32m    118\u001b[0m     \u001b[0;32mdef\u001b[0m \u001b[0m__setstate__\u001b[0m\u001b[0;34m(\u001b[0m\u001b[0mself\u001b[0m\u001b[0;34m,\u001b[0m \u001b[0mstate\u001b[0m\u001b[0;34m)\u001b[0m\u001b[0;34m:\u001b[0m\u001b[0;34m\u001b[0m\u001b[0;34m\u001b[0m\u001b[0m\n",
            "\u001b[0;31mAttributeError\u001b[0m: sort"
          ]
        }
      ]
    },
    {
      "cell_type": "markdown",
      "metadata": {
        "id": "RYNWGKI3uXcP",
        "colab_type": "text"
      },
      "source": [
        "Ok, now this will be our plan.  We'll create eight different datasets.  The first one will only have the feature `AveBedrms`, then the next one will have the features `AveBedrms` and `MedInc`, then the next dataset will add on `HouseAge`, and so on."
      ]
    },
    {
      "cell_type": "markdown",
      "metadata": {
        "id": "lc4Kvvn2uXcP",
        "colab_type": "text"
      },
      "source": [
        "Use list comprehension to create a list of 8 dataframes, each one with an additional feature."
      ]
    },
    {
      "cell_type": "code",
      "metadata": {
        "id": "_N5oORmEuXcQ",
        "colab_type": "code",
        "colab": {}
      },
      "source": [
        "feature_datasets = None"
      ],
      "execution_count": 0,
      "outputs": []
    },
    {
      "cell_type": "code",
      "metadata": {
        "id": "XvVbhZ99uXcU",
        "colab_type": "code",
        "outputId": "b9a4cec7-c0bd-4cb5-e48d-a0539f9f8857",
        "colab": {
          "base_uri": "https://localhost:8080/",
          "height": 181
        }
      },
      "source": [
        "len(feature_datasets)\n",
        "# 8"
      ],
      "execution_count": 0,
      "outputs": [
        {
          "output_type": "error",
          "ename": "TypeError",
          "evalue": "ignored",
          "traceback": [
            "\u001b[0;31m---------------------------------------------------------------------------\u001b[0m",
            "\u001b[0;31mTypeError\u001b[0m                                 Traceback (most recent call last)",
            "\u001b[0;32m<ipython-input-107-e7a4aed20517>\u001b[0m in \u001b[0;36m<module>\u001b[0;34m()\u001b[0m\n\u001b[0;32m----> 1\u001b[0;31m \u001b[0mlen\u001b[0m\u001b[0;34m(\u001b[0m\u001b[0mfeature_datasets\u001b[0m\u001b[0;34m)\u001b[0m\u001b[0;34m\u001b[0m\u001b[0;34m\u001b[0m\u001b[0m\n\u001b[0m\u001b[1;32m      2\u001b[0m \u001b[0;31m# 8\u001b[0m\u001b[0;34m\u001b[0m\u001b[0;34m\u001b[0m\u001b[0;34m\u001b[0m\u001b[0m\n",
            "\u001b[0;31mTypeError\u001b[0m: object of type 'NoneType' has no len()"
          ]
        }
      ]
    },
    {
      "cell_type": "code",
      "metadata": {
        "id": "2wvWwzdYuXcX",
        "colab_type": "code",
        "outputId": "d3f7677c-f60b-4fd0-99f2-99f6700590b9",
        "colab": {}
      },
      "source": [
        "feature_datasets[0][:3]\n",
        "# \tAveBedrms\n",
        "# 0\t1.023810\n",
        "# 1\t0.971880\n",
        "# 2\t1.073446"
      ],
      "execution_count": 0,
      "outputs": [
        {
          "output_type": "execute_result",
          "data": {
            "text/html": [
              "<div>\n",
              "<style scoped>\n",
              "    .dataframe tbody tr th:only-of-type {\n",
              "        vertical-align: middle;\n",
              "    }\n",
              "\n",
              "    .dataframe tbody tr th {\n",
              "        vertical-align: top;\n",
              "    }\n",
              "\n",
              "    .dataframe thead th {\n",
              "        text-align: right;\n",
              "    }\n",
              "</style>\n",
              "<table border=\"1\" class=\"dataframe\">\n",
              "  <thead>\n",
              "    <tr style=\"text-align: right;\">\n",
              "      <th></th>\n",
              "      <th>AveBedrms</th>\n",
              "    </tr>\n",
              "  </thead>\n",
              "  <tbody>\n",
              "    <tr>\n",
              "      <th>0</th>\n",
              "      <td>1.023810</td>\n",
              "    </tr>\n",
              "    <tr>\n",
              "      <th>1</th>\n",
              "      <td>0.971880</td>\n",
              "    </tr>\n",
              "    <tr>\n",
              "      <th>2</th>\n",
              "      <td>1.073446</td>\n",
              "    </tr>\n",
              "  </tbody>\n",
              "</table>\n",
              "</div>"
            ],
            "text/plain": [
              "   AveBedrms\n",
              "0   1.023810\n",
              "1   0.971880\n",
              "2   1.073446"
            ]
          },
          "metadata": {
            "tags": []
          },
          "execution_count": 167
        }
      ]
    },
    {
      "cell_type": "code",
      "metadata": {
        "id": "83KgUEnWuXcZ",
        "colab_type": "code",
        "outputId": "c8d4b17e-81af-4d8b-8060-606535475f93",
        "colab": {}
      },
      "source": [
        "feature_datasets[1][:3]\n",
        "# \tAveBedrms\tMedInc\n",
        "# 0\t1.023810\t8.3252\n",
        "# 1\t0.971880\t8.3014\n",
        "# 2\t1.073446\t7.2574"
      ],
      "execution_count": 0,
      "outputs": [
        {
          "output_type": "execute_result",
          "data": {
            "text/html": [
              "<div>\n",
              "<style scoped>\n",
              "    .dataframe tbody tr th:only-of-type {\n",
              "        vertical-align: middle;\n",
              "    }\n",
              "\n",
              "    .dataframe tbody tr th {\n",
              "        vertical-align: top;\n",
              "    }\n",
              "\n",
              "    .dataframe thead th {\n",
              "        text-align: right;\n",
              "    }\n",
              "</style>\n",
              "<table border=\"1\" class=\"dataframe\">\n",
              "  <thead>\n",
              "    <tr style=\"text-align: right;\">\n",
              "      <th></th>\n",
              "      <th>AveBedrms</th>\n",
              "      <th>MedInc</th>\n",
              "    </tr>\n",
              "  </thead>\n",
              "  <tbody>\n",
              "    <tr>\n",
              "      <th>0</th>\n",
              "      <td>1.023810</td>\n",
              "      <td>8.3252</td>\n",
              "    </tr>\n",
              "    <tr>\n",
              "      <th>1</th>\n",
              "      <td>0.971880</td>\n",
              "      <td>8.3014</td>\n",
              "    </tr>\n",
              "    <tr>\n",
              "      <th>2</th>\n",
              "      <td>1.073446</td>\n",
              "      <td>7.2574</td>\n",
              "    </tr>\n",
              "  </tbody>\n",
              "</table>\n",
              "</div>"
            ],
            "text/plain": [
              "   AveBedrms  MedInc\n",
              "0   1.023810  8.3252\n",
              "1   0.971880  8.3014\n",
              "2   1.073446  7.2574"
            ]
          },
          "metadata": {
            "tags": []
          },
          "execution_count": 169
        }
      ]
    },
    {
      "cell_type": "markdown",
      "metadata": {
        "id": "7ZkjBaR0uXcc",
        "colab_type": "text"
      },
      "source": [
        "Ok, now that we have our eight different datasets, we'll use our train each of these datasets on the first `4/5` of the data, and allocate the remaining 20 percent for the test set."
      ]
    },
    {
      "cell_type": "markdown",
      "metadata": {
        "id": "pbeLdKOguXcc",
        "colab_type": "text"
      },
      "source": [
        "For example, here's how we could do this with just our first dataset."
      ]
    },
    {
      "cell_type": "code",
      "metadata": {
        "id": "cIcnh5W1uXcc",
        "colab_type": "code",
        "colab": {}
      },
      "source": [
        "training_cutoff = np.int(.8*X.shape[0])\n",
        "training_cutoff\n",
        "# 16512.0"
      ],
      "execution_count": 0,
      "outputs": []
    },
    {
      "cell_type": "code",
      "metadata": {
        "id": "dAChLtm2uXcm",
        "colab_type": "code",
        "outputId": "123b4910-bb91-42b0-85ed-4f618b69274f",
        "colab": {}
      },
      "source": [
        "LinearRegression().fit(X[:training_cutoff], y[:training_cutoff])"
      ],
      "execution_count": 0,
      "outputs": [
        {
          "output_type": "execute_result",
          "data": {
            "text/plain": [
              "LinearRegression(copy_X=True, fit_intercept=True, n_jobs=None, normalize=False)"
            ]
          },
          "metadata": {
            "tags": []
          },
          "execution_count": 192
        }
      ]
    },
    {
      "cell_type": "markdown",
      "metadata": {
        "id": "5WOCxhXmuXco",
        "colab_type": "text"
      },
      "source": [
        "> Now use list comprehension to loop through each of the feature datasets and train each model."
      ]
    },
    {
      "cell_type": "code",
      "metadata": {
        "id": "jFhtBykVuXco",
        "colab_type": "code",
        "colab": {}
      },
      "source": [
        "models = None\n",
        "# models"
      ],
      "execution_count": 0,
      "outputs": []
    },
    {
      "cell_type": "markdown",
      "metadata": {
        "id": "AwcjHOB9uXcq",
        "colab_type": "text"
      },
      "source": [
        "Confirm that you did this correctly by taking a look at the coefficients of your models.  There should be only one coefficient in the first model (as you trained on one feature, and two on the second, and so on."
      ]
    },
    {
      "cell_type": "code",
      "metadata": {
        "id": "JzjgMv-uuXcq",
        "colab_type": "code",
        "outputId": "9cd88c4e-6284-4c8d-a508-f2223594a2a0",
        "colab": {}
      },
      "source": [
        "[model.coef_ for model in models]\n",
        "\n",
        "# [array([-0.08472077]),\n",
        "#  array([-0.00530241,  0.4078728 ]),\n",
        "#  array([0.03627788, 0.42396549, 0.01832752]),\n",
        "#  array([4.41398935e-02, 4.24895746e-01, 1.93896280e-02, 3.70981852e-05]),\n",
        "#  array([ 4.39572800e-02,  4.24936826e-01,  1.95360434e-02,  4.09593233e-05,\n",
        "#         -1.21859740e-02]),\n",
        "#  array([ 1.05174649e+00,  5.36219341e-01,  1.73618921e-02,  2.53744473e-05,\n",
        "#         -1.17657007e-02, -2.21649954e-01]),\n",
        "#  array([ 9.71711856e-01,  5.21567608e-01,  1.76671678e-02,  1.93844117e-05,\n",
        "#         -1.17596405e-02, -2.01479564e-01, -3.98712430e-02]),\n",
        "#  array([ 7.10267788e-01,  4.47847084e-01,  9.40820722e-03, -1.47053238e-06,\n",
        "#         -8.81496820e-03, -1.20960919e-01, -4.21714509e-01, -4.29775301e-01])]"
      ],
      "execution_count": 0,
      "outputs": [
        {
          "output_type": "execute_result",
          "data": {
            "text/plain": [
              "[array([-0.08472077]),\n",
              " array([-0.00530241,  0.4078728 ]),\n",
              " array([0.03627788, 0.42396549, 0.01832752]),\n",
              " array([4.41398935e-02, 4.24895746e-01, 1.93896280e-02, 3.70981852e-05]),\n",
              " array([ 4.39572800e-02,  4.24936826e-01,  1.95360434e-02,  4.09593233e-05,\n",
              "        -1.21859740e-02]),\n",
              " array([ 1.05174649e+00,  5.36219341e-01,  1.73618921e-02,  2.53744473e-05,\n",
              "        -1.17657007e-02, -2.21649954e-01]),\n",
              " array([ 9.71711856e-01,  5.21567608e-01,  1.76671678e-02,  1.93844117e-05,\n",
              "        -1.17596405e-02, -2.01479564e-01, -3.98712430e-02]),\n",
              " array([ 7.10267788e-01,  4.47847084e-01,  9.40820722e-03, -1.47053238e-06,\n",
              "        -8.81496820e-03, -1.20960919e-01, -4.21714509e-01, -4.29775301e-01])]"
            ]
          },
          "metadata": {
            "tags": []
          },
          "execution_count": 195
        }
      ]
    },
    {
      "cell_type": "markdown",
      "metadata": {
        "id": "TL8ZFt-BuXcs",
        "colab_type": "text"
      },
      "source": [
        "Now let's see how the first model does scores on the training data."
      ]
    },
    {
      "cell_type": "code",
      "metadata": {
        "id": "M_0ouHlLuXct",
        "colab_type": "code",
        "outputId": "2771980b-febf-4072-c549-0f234b2dced2",
        "colab": {}
      },
      "source": [
        "# Select the first model from the list of models and check the score on the training set here\n",
        "\n",
        "# 0.0014673783785782435"
      ],
      "execution_count": 0,
      "outputs": [
        {
          "output_type": "execute_result",
          "data": {
            "text/plain": [
              "0.0014673783785782435"
            ]
          },
          "metadata": {
            "tags": []
          },
          "execution_count": 198
        }
      ]
    },
    {
      "cell_type": "markdown",
      "metadata": {
        "id": "Jjt7mqBhuXcv",
        "colab_type": "text"
      },
      "source": [
        "Now loop through all of the models and find the scores on the training datasets."
      ]
    },
    {
      "cell_type": "code",
      "metadata": {
        "id": "9tMfJKrfuXcw",
        "colab_type": "code",
        "outputId": "f38bb0d4-7135-41d4-a57a-ba9c856e56c2",
        "colab": {}
      },
      "source": [
        "training_scores = None\n",
        "training_scores\n",
        "# [0.0014673783785782435,\n",
        "#  0.45236533768477305,\n",
        "#  0.4939927242376319,\n",
        "#  0.4952854616280577,\n",
        "#  0.4983070309325991,\n",
        "#  0.5305040120758866,\n",
        "#  0.535449549407038,\n",
        "#  0.5844329298051016]"
      ],
      "execution_count": 0,
      "outputs": [
        {
          "output_type": "execute_result",
          "data": {
            "text/plain": [
              "[0.0014673783785782435,\n",
              " 0.45236533768477305,\n",
              " 0.4939927242376319,\n",
              " 0.4952854616280577,\n",
              " 0.4983070309325991,\n",
              " 0.5305040120758866,\n",
              " 0.535449549407038,\n",
              " 0.5844329298051016]"
            ]
          },
          "metadata": {
            "tags": []
          },
          "execution_count": 201
        }
      ]
    },
    {
      "cell_type": "markdown",
      "metadata": {
        "id": "suk9yYGKuXcy",
        "colab_type": "text"
      },
      "source": [
        "Next calculate the scores for each model on the holdout dataset."
      ]
    },
    {
      "cell_type": "code",
      "metadata": {
        "id": "TuBo7dMGuXcy",
        "colab_type": "code",
        "colab": {}
      },
      "source": [
        "holdout_scores = None"
      ],
      "execution_count": 0,
      "outputs": []
    },
    {
      "cell_type": "code",
      "metadata": {
        "id": "DaHRvZ2duXc0",
        "colab_type": "code",
        "outputId": "5fa2c23e-8245-4f8c-98de-1252f14e2605",
        "colab": {}
      },
      "source": [
        "holdout_scores\n",
        "# [-0.035080253443077636,\n",
        "#  0.5290087155979699,\n",
        "#  0.5434340630909426,\n",
        "#  0.5429317996619257,\n",
        "#  0.5193319873743043,\n",
        "#  0.5347415747282829,\n",
        "#  0.5243752202100567,\n",
        "#  0.6605140591531988]"
      ],
      "execution_count": 0,
      "outputs": [
        {
          "output_type": "execute_result",
          "data": {
            "text/plain": [
              "[-0.035080253443077636,\n",
              " 0.5290087155979699,\n",
              " 0.5434340630909426,\n",
              " 0.5429317996619257,\n",
              " 0.5193319873743043,\n",
              " 0.5347415747282829,\n",
              " 0.5243752202100567,\n",
              " 0.6605140591531988]"
            ]
          },
          "metadata": {
            "tags": []
          },
          "execution_count": 206
        }
      ]
    },
    {
      "cell_type": "markdown",
      "metadata": {
        "id": "VS9CrDV9uXc2",
        "colab_type": "text"
      },
      "source": [
        "Ok, now create a trace for the training scores, with the scores on the y axis and the related column on the x axis. \n",
        "\n",
        "Do the same for the holdout scores."
      ]
    },
    {
      "cell_type": "code",
      "metadata": {
        "id": "cXzyynEIuXc2",
        "colab_type": "code",
        "colab": {}
      },
      "source": [
        "# either matplotlib or plotly is fine"
      ],
      "execution_count": 0,
      "outputs": []
    },
    {
      "cell_type": "markdown",
      "metadata": {
        "id": "vCOVRmg6uXc4",
        "colab_type": "text"
      },
      "source": [
        "> Answer: <img src=\"https://github.com/jigsawlabs-student/train-test-split/blob/master/8-test-train-split-lab/plotly-graph.png?raw=1\" width=\"80%\">"
      ]
    },
    {
      "cell_type": "markdown",
      "metadata": {
        "id": "eu8RSByMuXc4",
        "colab_type": "text"
      },
      "source": [
        "We'll talk more about feature selection in later lessons, but for now, we can see that the holdout score indicates limited benefit by including features like Population, AveOccup, and AveRooms.  Let's try removing these columns, and then see how we do on our training and test datasets."
      ]
    },
    {
      "cell_type": "markdown",
      "metadata": {
        "id": "2tjvbu23uXc5",
        "colab_type": "text"
      },
      "source": [
        "> Drop the specified columns and assign the resulting dataframe to the variable `X_select`."
      ]
    },
    {
      "cell_type": "code",
      "metadata": {
        "id": "as1NMR5buXc5",
        "colab_type": "code",
        "colab": {}
      },
      "source": [
        "X_select = None"
      ],
      "execution_count": 0,
      "outputs": []
    },
    {
      "cell_type": "code",
      "metadata": {
        "id": "h-bV0bwEuXc7",
        "colab_type": "code",
        "outputId": "6f3f02c4-4590-43da-ff7c-ce221ee1993e",
        "colab": {}
      },
      "source": [
        "X_select[:2]\n",
        "\n",
        "# MedInc\tHouseAge\tAveBedrms\tLatitude\tLongitude\n",
        "# 0\t8.3252\t41.0\t1.02381\t37.88\t-122.23\n",
        "# 1\t8.3014\t21.0\t0.97188\t37.86\t-122.22"
      ],
      "execution_count": 0,
      "outputs": [
        {
          "output_type": "execute_result",
          "data": {
            "text/html": [
              "<div>\n",
              "<style scoped>\n",
              "    .dataframe tbody tr th:only-of-type {\n",
              "        vertical-align: middle;\n",
              "    }\n",
              "\n",
              "    .dataframe tbody tr th {\n",
              "        vertical-align: top;\n",
              "    }\n",
              "\n",
              "    .dataframe thead th {\n",
              "        text-align: right;\n",
              "    }\n",
              "</style>\n",
              "<table border=\"1\" class=\"dataframe\">\n",
              "  <thead>\n",
              "    <tr style=\"text-align: right;\">\n",
              "      <th></th>\n",
              "      <th>MedInc</th>\n",
              "      <th>HouseAge</th>\n",
              "      <th>AveBedrms</th>\n",
              "      <th>Latitude</th>\n",
              "      <th>Longitude</th>\n",
              "    </tr>\n",
              "  </thead>\n",
              "  <tbody>\n",
              "    <tr>\n",
              "      <th>0</th>\n",
              "      <td>8.3252</td>\n",
              "      <td>41.0</td>\n",
              "      <td>1.02381</td>\n",
              "      <td>37.88</td>\n",
              "      <td>-122.23</td>\n",
              "    </tr>\n",
              "    <tr>\n",
              "      <th>1</th>\n",
              "      <td>8.3014</td>\n",
              "      <td>21.0</td>\n",
              "      <td>0.97188</td>\n",
              "      <td>37.86</td>\n",
              "      <td>-122.22</td>\n",
              "    </tr>\n",
              "  </tbody>\n",
              "</table>\n",
              "</div>"
            ],
            "text/plain": [
              "   MedInc  HouseAge  AveBedrms  Latitude  Longitude\n",
              "0  8.3252      41.0    1.02381     37.88    -122.23\n",
              "1  8.3014      21.0    0.97188     37.86    -122.22"
            ]
          },
          "metadata": {
            "tags": []
          },
          "execution_count": 99
        }
      ]
    },
    {
      "cell_type": "markdown",
      "metadata": {
        "id": "LhtXfWy8uXc8",
        "colab_type": "text"
      },
      "source": [
        "Now let's train one model on these features, just the 80 percent of our training set."
      ]
    },
    {
      "cell_type": "code",
      "metadata": {
        "id": "qkWscd3QuXc9",
        "colab_type": "code",
        "outputId": "6e9a2e4c-5090-486e-ce6b-1241e7e3ca4f",
        "colab": {}
      },
      "source": [
        "# fit the model on the training data here\n",
        "\n",
        "# LinearRegression(copy_X=True, fit_intercept=True, n_jobs=None, normalize=False)"
      ],
      "execution_count": 0,
      "outputs": [
        {
          "output_type": "execute_result",
          "data": {
            "text/plain": [
              "LinearRegression(copy_X=True, fit_intercept=True, n_jobs=None, normalize=False)"
            ]
          },
          "metadata": {
            "tags": []
          },
          "execution_count": 208
        }
      ]
    },
    {
      "cell_type": "markdown",
      "metadata": {
        "id": "v2pRQ_tbuXc_",
        "colab_type": "text"
      },
      "source": [
        "And score the model on the remaining data."
      ]
    },
    {
      "cell_type": "code",
      "metadata": {
        "id": "u8efhQpKuXc_",
        "colab_type": "code",
        "outputId": "39bef200-b55e-4b83-ecb3-b14d1ebd8f57",
        "colab": {}
      },
      "source": [
        "\n",
        "# 0.6710958382245962"
      ],
      "execution_count": 0,
      "outputs": [
        {
          "output_type": "execute_result",
          "data": {
            "text/plain": [
              "0.6710958382245962"
            ]
          },
          "metadata": {
            "tags": []
          },
          "execution_count": 211
        }
      ]
    },
    {
      "cell_type": "markdown",
      "metadata": {
        "id": "NX6Ygy64uXdC",
        "colab_type": "text"
      },
      "source": [
        "### Using SKlearn to Split"
      ]
    },
    {
      "cell_type": "markdown",
      "metadata": {
        "id": "OLB0e7p3uXdD",
        "colab_type": "text"
      },
      "source": [
        "Now let's split our data again.  This time, we'll use sklearn's `train_test_split` function."
      ]
    },
    {
      "cell_type": "code",
      "metadata": {
        "id": "XpToqRj0uXdD",
        "colab_type": "code",
        "colab": {}
      },
      "source": [
        "from sklearn.model_selection import train_test_split\n",
        "\n",
        "X_train, X_test, y_train, y_test = train_test_split(X_select, y, test_size = .3, random_state = 1)"
      ],
      "execution_count": 0,
      "outputs": []
    },
    {
      "cell_type": "code",
      "metadata": {
        "id": "-OyuNIkhuXdG",
        "colab_type": "code",
        "colab": {}
      },
      "source": [
        "model = LinearRegression().fit(X_train, y_train)"
      ],
      "execution_count": 0,
      "outputs": []
    },
    {
      "cell_type": "code",
      "metadata": {
        "id": "-YNM6bXpuXdI",
        "colab_type": "code",
        "outputId": "ae537fcf-cc1c-4818-d1cd-68d17676c2cb",
        "colab": {}
      },
      "source": [
        "model.score(X_test, y_test)"
      ],
      "execution_count": 0,
      "outputs": [
        {
          "output_type": "execute_result",
          "data": {
            "text/plain": [
              "0.5898474184857773"
            ]
          },
          "metadata": {
            "tags": []
          },
          "execution_count": 214
        }
      ]
    }
  ]
}