{
  "nbformat": 4,
  "nbformat_minor": 0,
  "metadata": {
    "kernelspec": {
      "display_name": "Python 3",
      "language": "python",
      "name": "python3"
    },
    "language_info": {
      "codemirror_mode": {
        "name": "ipython",
        "version": 3
      },
      "file_extension": ".py",
      "mimetype": "text/x-python",
      "name": "python",
      "nbconvert_exporter": "python",
      "pygments_lexer": "ipython3",
      "version": "3.7.4"
    },
    "colab": {
      "name": "Copy of 2-analytical-sample-statistics.ipynb",
      "provenance": [],
      "include_colab_link": true
    }
  },
  "cells": [
    {
      "cell_type": "markdown",
      "metadata": {
        "id": "view-in-github",
        "colab_type": "text"
      },
      "source": [
        "<a href=\"https://colab.research.google.com/github/ludawg44/jigsawlabs/blob/master/04Apr20_2_analytical_sample_statistics.ipynb\" target=\"_parent\"><img src=\"https://colab.research.google.com/assets/colab-badge.svg\" alt=\"Open In Colab\"/></a>"
      ]
    },
    {
      "cell_type": "markdown",
      "metadata": {
        "id": "Duh0H8NgFwan",
        "colab_type": "text"
      },
      "source": [
        "# Sampling Statistics"
      ]
    },
    {
      "cell_type": "markdown",
      "metadata": {
        "id": "VHbuIiluFwao",
        "colab_type": "text"
      },
      "source": [
        "### Introduction"
      ]
    },
    {
      "cell_type": "markdown",
      "metadata": {
        "id": "xsEkKxUVFwap",
        "colab_type": "text"
      },
      "source": [
        "In this lesson, we'll see how we can make inferences about the underlying population, once we draw a representative sample.  Remember that when we are doing a survey, it is rare for us to have all of the information we need on the underlying population.  So we must rely on inferences about the underlying population from sampling."
      ]
    },
    {
      "cell_type": "markdown",
      "metadata": {
        "id": "2wzCLSr6Fwaq",
        "colab_type": "text"
      },
      "source": [
        "### Loading our Sample"
      ]
    },
    {
      "cell_type": "markdown",
      "metadata": {
        "id": "XxqDSAVuFwar",
        "colab_type": "text"
      },
      "source": [
        "Now that we have drawn a sample from the population, let's begin to use it to make inferences about our underlying population."
      ]
    },
    {
      "cell_type": "markdown",
      "metadata": {
        "id": "PQCyVzNeFwas",
        "colab_type": "text"
      },
      "source": [
        "> You may have to install the gcsf library."
      ]
    },
    {
      "cell_type": "code",
      "metadata": {
        "id": "_SMc1wHfFwas",
        "colab_type": "code",
        "colab": {}
      },
      "source": [
        "import pandas as pd\n",
        "url = \"gs://curriculum-assets/mod-2/players_sample.csv\"\n",
        "players_df = pd.read_csv(url)"
      ],
      "execution_count": 0,
      "outputs": []
    },
    {
      "cell_type": "code",
      "metadata": {
        "id": "dTcd2RlAFwaz",
        "colab_type": "code",
        "outputId": "ec8ff8f0-9597-441a-df2b-8643a5924eaf",
        "colab": {}
      },
      "source": [
        "players_df.shape"
      ],
      "execution_count": 0,
      "outputs": [
        {
          "output_type": "execute_result",
          "data": {
            "text/plain": [
              "(150, 30)"
            ]
          },
          "metadata": {
            "tags": []
          },
          "execution_count": 6
        }
      ]
    },
    {
      "cell_type": "markdown",
      "metadata": {
        "id": "NIcffYKhFwa3",
        "colab_type": "text"
      },
      "source": [
        "Now let's plot and then find statistics on this sample."
      ]
    },
    {
      "cell_type": "code",
      "metadata": {
        "id": "7rlxj4haFwa4",
        "colab_type": "code",
        "outputId": "a1da98bb-2df9-411d-a75c-f9ed01efa6a1",
        "colab": {}
      },
      "source": [
        "import matplotlib.pyplot as plt\n",
        "fig =  plt.figure()\n",
        "ax = fig.add_subplot(111)\n",
        "ax.set(title = 'sample heights', xlabel = 'heights (in)', ylabel = 'counts')\n",
        "players_df['height'].hist(ax = ax)"
      ],
      "execution_count": 0,
      "outputs": [
        {
          "output_type": "execute_result",
          "data": {
            "text/plain": [
              "<matplotlib.axes._subplots.AxesSubplot at 0x124692350>"
            ]
          },
          "metadata": {
            "tags": []
          },
          "execution_count": 7
        },
        {
          "output_type": "display_data",
          "data": {
            "image/png": "[encoded data removed]",
            "text/plain": [
              "<Figure size 432x288 with 1 Axes>"
            ]
          },
          "metadata": {
            "tags": [],
            "needs_background": "light"
          }
        }
      ]
    },
    {
      "cell_type": "markdown",
      "metadata": {
        "id": "kNKxkP_JFwa6",
        "colab_type": "text"
      },
      "source": [
        "Now let's take a look at our sample statistics indicating the location and spread of the data."
      ]
    },
    {
      "cell_type": "markdown",
      "metadata": {
        "id": "wFJv04ldFwa7",
        "colab_type": "text"
      },
      "source": [
        "The formula for the sample mean is the following: \n",
        "*  $\\hat{x} = \\frac{1}{n}\\sum_{i=1}^n x_i $"
      ]
    },
    {
      "cell_type": "markdown",
      "metadata": {
        "id": "ehvXqK9lFwa7",
        "colab_type": "text"
      },
      "source": [
        "> It is identical to the population mean, but we use an $\\hat{x}$ instead of $\\mu$ to differentiate it from the population mean."
      ]
    },
    {
      "cell_type": "markdown",
      "metadata": {
        "id": "C0qSHCTxFwa8",
        "colab_type": "text"
      },
      "source": [
        "The formula for the sample variance is the following:"
      ]
    },
    {
      "cell_type": "markdown",
      "metadata": {
        "id": "BGQm5nFOFwa8",
        "colab_type": "text"
      },
      "source": [
        "$S^2 = \\frac{\\sum_{i=0}^n (x_i - \\hat{x})^2}{{n - 1}}$"
      ]
    },
    {
      "cell_type": "markdown",
      "metadata": {
        "id": "cwdzTOI0Fwa9",
        "colab_type": "text"
      },
      "source": [
        "> Which is similar to our formula for population variance (the only differnece is the `- 1` component)."
      ]
    },
    {
      "cell_type": "markdown",
      "metadata": {
        "id": "tw5oPoVEFwa9",
        "colab_type": "text"
      },
      "source": [
        "> $\\sigma^2 = \\frac{1}{n}\\sum_{i=0}^n (x_i - \\mu)^2$"
      ]
    },
    {
      "cell_type": "markdown",
      "metadata": {
        "id": "VqJ9rpoSFwa-",
        "colab_type": "text"
      },
      "source": [
        "And the sample standard deviation is just the square root of that."
      ]
    },
    {
      "cell_type": "markdown",
      "metadata": {
        "id": "C7vHcEt8Fwa-",
        "colab_type": "text"
      },
      "source": [
        "$S =\\sqrt{\\frac{\\sum_{i=0}^n (x_i - \\hat{x})^2}{{n - 1}}}$"
      ]
    },
    {
      "cell_type": "markdown",
      "metadata": {
        "id": "FeCzmtO2Fwa_",
        "colab_type": "text"
      },
      "source": [
        "> The reason why we subtract 1 is because of degrees of freedom, which we provided some references to below, if you're interested."
      ]
    },
    {
      "cell_type": "code",
      "metadata": {
        "id": "nS1UjFWYFwa_",
        "colab_type": "code",
        "outputId": "18dbd4dd-405c-4433-80f1-daa51d173159",
        "colab": {}
      },
      "source": [
        "players_df['height'].mean()"
      ],
      "execution_count": 0,
      "outputs": [
        {
          "output_type": "execute_result",
          "data": {
            "text/plain": [
              "78.53333333333333"
            ]
          },
          "metadata": {
            "tags": []
          },
          "execution_count": 15
        }
      ]
    },
    {
      "cell_type": "markdown",
      "metadata": {
        "id": "cFBYsDs1FwbC",
        "colab_type": "text"
      },
      "source": [
        "Notice that we can change whether we want to use the ddof or not (that is, specify whether we are working with a sample or not in numpy and pandas)."
      ]
    },
    {
      "cell_type": "code",
      "metadata": {
        "id": "8bwL3HhxFwbD",
        "colab_type": "code",
        "outputId": "95b8a62a-1f31-4f82-e7bd-752cc2788e39",
        "colab": {}
      },
      "source": [
        "players_df['height'].std()"
      ],
      "execution_count": 0,
      "outputs": [
        {
          "output_type": "execute_result",
          "data": {
            "text/plain": [
              "3.3810896672238098"
            ]
          },
          "metadata": {
            "tags": []
          },
          "execution_count": 35
        }
      ]
    },
    {
      "cell_type": "markdown",
      "metadata": {
        "id": "dKEK-iq6FwbG",
        "colab_type": "text"
      },
      "source": [
        "Now remember the above is our sample statistics, and as a first step we'll assume that our sample distribution looks just like our underlying distribution.  So this means that we assume that:\n",
        "1. The central tendancy of player's heights in the NBA is 78.53 and \n",
        "2. That the average deviation from this mean among NBA players is 3.38."
      ]
    },
    {
      "cell_type": "markdown",
      "metadata": {
        "id": "25xq7UX2FwbJ",
        "colab_type": "text"
      },
      "source": [
        "### How the sample size matters?"
      ]
    },
    {
      "cell_type": "markdown",
      "metadata": {
        "id": "hmjXyT8BFwbK",
        "colab_type": "text"
      },
      "source": [
        "Now at this point, intuition may tell us that the size of the sample must play some role in how close our sample statistic is to our underlying statistic.  And it does.  "
      ]
    },
    {
      "cell_type": "markdown",
      "metadata": {
        "id": "pleNdWmwFwbK",
        "colab_type": "text"
      },
      "source": [
        "For example, this is the standard error for the mean."
      ]
    },
    {
      "cell_type": "markdown",
      "metadata": {
        "id": "zKRPjLZWFwbL",
        "colab_type": "text"
      },
      "source": [
        "$SE = \\frac{S}{\\sqrt{n}}$"
      ]
    },
    {
      "cell_type": "markdown",
      "metadata": {
        "id": "a4z75ejfFwbO",
        "colab_type": "text"
      },
      "source": [
        "So on average if we were to perform our sampling procedure multiple times, we would expect to calculate different sample means, and on average they would deviate by the sample standard deviation divided by the square root of the sample size."
      ]
    },
    {
      "cell_type": "markdown",
      "metadata": {
        "id": "5xQVwfjFFwbP",
        "colab_type": "text"
      },
      "source": [
        "> Whenever we see a formula like this, it's a good idea to check our understanding by playing around with the different variables.  \n",
        "\n",
        "> For example, when the sample standard deviation increases, the standard error increases.  This makes sense as there would be more variation in our sample.  And as $n$ the size of our sample increases the standard error will decrease.  "
      ]
    },
    {
      "cell_type": "markdown",
      "metadata": {
        "id": "MmecdeUcFwbP",
        "colab_type": "text"
      },
      "source": [
        "### Why this occurs"
      ]
    },
    {
      "cell_type": "markdown",
      "metadata": {
        "id": "oNENwP4qFwbQ",
        "colab_type": "text"
      },
      "source": [
        "We can also get an intuition for the standard error of the sample by looking at our previous picture of the bullseye.  The bullseyes represent our underlying population and our sample members are the green dots."
      ]
    },
    {
      "cell_type": "markdown",
      "metadata": {
        "id": "gV8yrDy3FwbQ",
        "colab_type": "text"
      },
      "source": [
        "<img src=\"https://github.com/jigsawlabs-student/sampling-statistics/blob/master/bias-variance.png?raw=1\" width=\"40%\">"
      ]
    },
    {
      "cell_type": "markdown",
      "metadata": {
        "id": "c28ZKvfDFwbR",
        "colab_type": "text"
      },
      "source": [
        "Because we did a good job designing our sample, we are the low bias part of the graph at the top row.  Now take another look at our formula for the standard error in the mean. "
      ]
    },
    {
      "cell_type": "markdown",
      "metadata": {
        "id": "BKE2JFKRFwbR",
        "colab_type": "text"
      },
      "source": [
        "$SE = \\frac{S}{\\sqrt{n}}$"
      ]
    },
    {
      "cell_type": "markdown",
      "metadata": {
        "id": "5wfqe0LCFwbS",
        "colab_type": "text"
      },
      "source": [
        "Explain why when variance of the sample is smaller, we need fewer samples to achieve the same level of accuracy of the sample mean.  \n",
        "\n",
        "And explain why more a larger sample size can help reduce the standard error for the mean, by looking at the image in the top right."
      ]
    },
    {
      "cell_type": "markdown",
      "metadata": {
        "id": "VY9JxN1WFwbT",
        "colab_type": "text"
      },
      "source": [
        "### Resources"
      ]
    },
    {
      "cell_type": "markdown",
      "metadata": {
        "id": "GUp1gN05FwbU",
        "colab_type": "text"
      },
      "source": [
        "[Degrees of Freedom](https://blog.minitab.com/blog/statistics-and-quality-data-analysis/what-are-degrees-of-freedom-in-statistics)"
      ]
    },
    {
      "cell_type": "markdown",
      "metadata": {
        "id": "1Hq38KJvFwbV",
        "colab_type": "text"
      },
      "source": [
        "[Degrees of Freedom Online Stats](http://onlinestatbook.com/2/estimation/df.html)"
      ]
    },
    {
      "cell_type": "markdown",
      "metadata": {
        "id": "C7Csw5gcFwbW",
        "colab_type": "text"
      },
      "source": [
        "[Sports Reference](https://sportsreference.readthedocs.io/en/stable/)"
      ]
    },
    {
      "cell_type": "markdown",
      "metadata": {
        "id": "LLtdwC3EFwbW",
        "colab_type": "text"
      },
      "source": [
        "[Degrees of Freedom](https://blog.minitab.com/blog/statistics-and-quality-data-analysis/what-are-degrees-of-freedom-in-statistics)"
      ]
    }
  ]
}