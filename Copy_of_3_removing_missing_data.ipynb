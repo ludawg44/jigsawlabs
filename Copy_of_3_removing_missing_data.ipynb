{
  "nbformat": 4,
  "nbformat_minor": 0,
  "metadata": {
    "kernelspec": {
      "display_name": "Python 3",
      "language": "python",
      "name": "python3"
    },
    "language_info": {
      "codemirror_mode": {
        "name": "ipython",
        "version": 3
      },
      "file_extension": ".py",
      "mimetype": "text/x-python",
      "name": "python",
      "nbconvert_exporter": "python",
      "pygments_lexer": "ipython3",
      "version": "3.7.4"
    },
    "colab": {
      "name": "Copy of 3-removing-missing-data.ipynb",
      "provenance": [],
      "include_colab_link": true
    }
  },
  "cells": [
    {
      "cell_type": "markdown",
      "metadata": {
        "id": "view-in-github",
        "colab_type": "text"
      },
      "source": [
        "<a href=\"https://colab.research.google.com/github/ludawg44/jigsawlabs/blob/master/Copy_of_3_removing_missing_data.ipynb\" target=\"_parent\"><img src=\"https://colab.research.google.com/assets/colab-badge.svg\" alt=\"Open In Colab\"/></a>"
      ]
    },
    {
      "cell_type": "markdown",
      "metadata": {
        "id": "LpUml1dw4IA3",
        "colab_type": "text"
      },
      "source": [
        "# Replacing Data: Missing Data And Map"
      ]
    },
    {
      "cell_type": "markdown",
      "metadata": {
        "id": "vwiMrLl64IA4",
        "colab_type": "text"
      },
      "source": [
        "### Introduction"
      ]
    },
    {
      "cell_type": "markdown",
      "metadata": {
        "id": "3Kh_CyR44IA5",
        "colab_type": "text"
      },
      "source": [
        "In our last lab, we were able to gather data from a our CSV file and coerce much of our data into numbers so that we could better make sense of the data.  There are a couple of places where we were stuck.  In this lesson, we'll learn how to finish cleaning our data by cleaning missing values, and working with the map method."
      ]
    },
    {
      "cell_type": "markdown",
      "metadata": {
        "id": "G6jkBYNR4IA6",
        "colab_type": "text"
      },
      "source": [
        "### Our SAT Data - Not as Clean as We Thought :("
      ]
    },
    {
      "cell_type": "markdown",
      "metadata": {
        "id": "FbzHF8hI4IA7",
        "colab_type": "text"
      },
      "source": [
        "Let's take another look at our SAT data from the last lab."
      ]
    },
    {
      "cell_type": "code",
      "metadata": {
        "id": "mejBJD9T4IA7",
        "colab_type": "code",
        "colab": {}
      },
      "source": [
        "import pandas as pd\n",
        "url = \"https://raw.githubusercontent.com/jigsawlabs-student/introductory-pandas/master/nyc_hs_sat.csv\"\n",
        "sat_df = pd.read_csv(url, index_col = 0)"
      ],
      "execution_count": 0,
      "outputs": []
    },
    {
      "cell_type": "code",
      "metadata": {
        "id": "OveiVY_i4IBC",
        "colab_type": "code",
        "outputId": "bb32aa22-5dee-4df2-ad28-21d905e9e24f",
        "colab": {}
      },
      "source": [
        "sat_df.dtypes"
      ],
      "execution_count": 0,
      "outputs": [
        {
          "output_type": "execute_result",
          "data": {
            "text/plain": [
              "dbn                     object\n",
              "name                    object\n",
              "num_test_takers        float64\n",
              "reading_avg            float64\n",
              "math_avg               float64\n",
              "writing_score          float64\n",
              "boro                    object\n",
              "total_students           int64\n",
              "graduation_rate        float64\n",
              "attendance_rate        float64\n",
              "college_career_rate    float64\n",
              "dtype: object"
            ]
          },
          "metadata": {
            "tags": []
          },
          "execution_count": 2
        }
      ]
    },
    {
      "cell_type": "markdown",
      "metadata": {
        "id": "mFLvShHY4IBF",
        "colab_type": "text"
      },
      "source": [
        "Looking at the above data, it appears that we have a good number of features to help explain the `math_avg` of a school."
      ]
    },
    {
      "cell_type": "markdown",
      "metadata": {
        "id": "DwMRwbzO4IBG",
        "colab_type": "text"
      },
      "source": [
        "But one problem that we may have is that some of the data is missing.  It's good to know if a lot of our data is missing, as we may wish to either not use the column (if too many entries in the column is missing) or change some of the replace the missing entries with the average value in the column."
      ]
    },
    {
      "cell_type": "markdown",
      "metadata": {
        "id": "tJD4fldf4IBG",
        "colab_type": "text"
      },
      "source": [
        "> In calculating summary statistics, and in plotting data, and in training a machine learning model it's important to remove missing values."
      ]
    },
    {
      "cell_type": "markdown",
      "metadata": {
        "id": "lJDXqhb24IBH",
        "colab_type": "text"
      },
      "source": [
        "### Working with Missing Values"
      ]
    },
    {
      "cell_type": "markdown",
      "metadata": {
        "id": "BmrEG7EM4IBH",
        "colab_type": "text"
      },
      "source": [
        "So how do we see if our dataset has missing values?"
      ]
    },
    {
      "cell_type": "markdown",
      "metadata": {
        "id": "MWlQJoPY4IBI",
        "colab_type": "text"
      },
      "source": [
        "Missing values (if we're lucky) are generally identified with the value `na` which stands for not available.  We can identify the number of missing values in each column with the following line of code."
      ]
    },
    {
      "cell_type": "code",
      "metadata": {
        "id": "4SU4IzJQ4IBI",
        "colab_type": "code",
        "outputId": "f6472326-d287-4c67-b9ba-bb823f03b6d7",
        "colab": {}
      },
      "source": [
        "sat_df.isna().sum()"
      ],
      "execution_count": 0,
      "outputs": [
        {
          "output_type": "execute_result",
          "data": {
            "text/plain": [
              "dbn                     0\n",
              "name                    0\n",
              "num_test_takers        29\n",
              "reading_avg            29\n",
              "math_avg               29\n",
              "writing_score          29\n",
              "boro                    0\n",
              "total_students          0\n",
              "graduation_rate         5\n",
              "attendance_rate         0\n",
              "college_career_rate     5\n",
              "dtype: int64"
            ]
          },
          "metadata": {
            "tags": []
          },
          "execution_count": 13
        }
      ]
    },
    {
      "cell_type": "markdown",
      "metadata": {
        "id": "i3TQU8Uc4IBM",
        "colab_type": "text"
      },
      "source": [
        "Now we can see that a number of columns have missing values.\n",
        "\n",
        "What to do with missing values warrants a longer discussion, but for now, we can simply drop the rows that contain missing values.  Here's how."
      ]
    },
    {
      "cell_type": "code",
      "metadata": {
        "id": "Rw-FrV1e4IBM",
        "colab_type": "code",
        "colab": {}
      },
      "source": [
        "dropped_sat_df = sat_df.dropna()"
      ],
      "execution_count": 0,
      "outputs": []
    },
    {
      "cell_type": "markdown",
      "metadata": {
        "id": "qTNmZ0J_4IBP",
        "colab_type": "text"
      },
      "source": [
        "> The method `dropna` returns a new, updated, dataframe so be sure to store this new dataframe in a variable."
      ]
    },
    {
      "cell_type": "markdown",
      "metadata": {
        "id": "21S-gMhH4IBQ",
        "colab_type": "text"
      },
      "source": [
        "And now we can see that none of the columns have `na` values."
      ]
    },
    {
      "cell_type": "code",
      "metadata": {
        "id": "aTDlYyh04IBR",
        "colab_type": "code",
        "outputId": "1840b7a7-eb54-4c71-dee8-c0673c52c5ae",
        "colab": {}
      },
      "source": [
        "dropped_sat_df.isna().sum()"
      ],
      "execution_count": 0,
      "outputs": [
        {
          "output_type": "execute_result",
          "data": {
            "text/plain": [
              "dbn                    0\n",
              "name                   0\n",
              "num_test_takers        0\n",
              "reading_avg            0\n",
              "math_avg               0\n",
              "writing_score          0\n",
              "boro                   0\n",
              "total_students         0\n",
              "graduation_rate        0\n",
              "attendance_rate        0\n",
              "college_career_rate    0\n",
              "dtype: int64"
            ]
          },
          "metadata": {
            "tags": []
          },
          "execution_count": 15
        }
      ]
    },
    {
      "cell_type": "markdown",
      "metadata": {
        "id": "qSqap2Ps4IBT",
        "colab_type": "text"
      },
      "source": [
        "And now we can work with our reduced dataset."
      ]
    },
    {
      "cell_type": "code",
      "metadata": {
        "id": "wmSznRCh4IBU",
        "colab_type": "code",
        "colab": {}
      },
      "source": [
        "X = dropped_sat_df.select_dtypes(exclude = ['object']).drop(columns = ['math_avg'])\n",
        "X.columns\n",
        "\n",
        "y = dropped_sat_df.math_avg"
      ],
      "execution_count": 0,
      "outputs": []
    },
    {
      "cell_type": "markdown",
      "metadata": {
        "id": "w4YuH4IV4IBW",
        "colab_type": "text"
      },
      "source": [
        "### Summary"
      ]
    },
    {
      "cell_type": "markdown",
      "metadata": {
        "id": "LtGPu7Hg4IBX",
        "colab_type": "text"
      },
      "source": [
        "In this lesson, we saw that all of our machine learning model data being numeric means that we must not have any `na` values in our training data.  We can discover how many `na` values are in each column with the line:\n",
        "\n",
        "```python\n",
        "df.isna().sum()\n",
        "```\n",
        "\n",
        "And we can drop our those rows with missing data in a column with the line:\n",
        "\n",
        "`dropped_df = df.dropna()`"
      ]
    }
  ]
}