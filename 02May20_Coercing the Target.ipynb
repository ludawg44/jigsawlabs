{
  "nbformat": 4,
  "nbformat_minor": 0,
  "metadata": {
    "kernelspec": {
      "display_name": "Python 3",
      "language": "python",
      "name": "python3"
    },
    "language_info": {
      "codemirror_mode": {
        "name": "ipython",
        "version": 3
      },
      "file_extension": ".py",
      "mimetype": "text/x-python",
      "name": "python",
      "nbconvert_exporter": "python",
      "pygments_lexer": "ipython3",
      "version": "3.7.4"
    },
    "colab": {
      "name": "Copy of index.ipynb",
      "provenance": [],
      "include_colab_link": true
    }
  },
  "cells": [
    {
      "cell_type": "markdown",
      "metadata": {
        "id": "view-in-github",
        "colab_type": "text"
      },
      "source": [
        "<a href=\"https://colab.research.google.com/github/ludawg44/jigsawlabs/blob/master/02May20_Coercing%20the%20Target.ipynb\" target=\"_parent\"><img src=\"https://colab.research.google.com/assets/colab-badge.svg\" alt=\"Open In Colab\"/></a>"
      ]
    },
    {
      "cell_type": "markdown",
      "metadata": {
        "id": "vxfyUJDeSp8z",
        "colab_type": "text"
      },
      "source": [
        "# Coercing the Target"
      ]
    },
    {
      "cell_type": "markdown",
      "metadata": {
        "id": "r6ZeZVaCSp80",
        "colab_type": "text"
      },
      "source": [
        "### Introduction"
      ]
    },
    {
      "cell_type": "markdown",
      "metadata": {
        "id": "kKAMLXiuSp81",
        "colab_type": "text"
      },
      "source": [
        "In this lesson, we'll walk through some of the techniques for coercing our target variable.  Let's start by loading up our data."
      ]
    },
    {
      "cell_type": "markdown",
      "metadata": {
        "id": "6hOBudZSSp81",
        "colab_type": "text"
      },
      "source": [
        "### Loading the Data"
      ]
    },
    {
      "cell_type": "code",
      "metadata": {
        "id": "scO3iN3TSp82",
        "colab_type": "code",
        "colab": {}
      },
      "source": [
        "import requests\n",
        "\n",
        "url = 'https://raw.githubusercontent.com/jigsawlabs-student/engineering-large-datasets/master/99-coerce-target/dtypes_listings.json'\n",
        "response = requests.get(url)\n",
        "dtypes = response.json()"
      ],
      "execution_count": 0,
      "outputs": []
    },
    {
      "cell_type": "code",
      "metadata": {
        "id": "5FSr2U03Sp85",
        "colab_type": "code",
        "colab": {}
      },
      "source": [
        "import pandas as pd\n",
        "url_csv = \"https://raw.githubusercontent.com/jigsawlabs-student/engineering-large-datasets/master/99-coerce-target/listings_target.csv\"\n",
        "df = pd.read_csv(url_csv, dtype = dtypes, index_col = 0)"
      ],
      "execution_count": 0,
      "outputs": []
    },
    {
      "cell_type": "code",
      "metadata": {
        "id": "pfouwcaiSp87",
        "colab_type": "code",
        "outputId": "cb491d6c-686e-4665-b4f6-050ffd043500",
        "colab": {}
      },
      "source": [
        "df.select_dtypes('object').shape"
      ],
      "execution_count": 0,
      "outputs": [
        {
          "output_type": "execute_result",
          "data": {
            "text/plain": [
              "(22544, 0)"
            ]
          },
          "metadata": {
            "tags": []
          },
          "execution_count": 7
        }
      ]
    },
    {
      "cell_type": "markdown",
      "metadata": {
        "id": "rDyBGdftSp8-",
        "colab_type": "text"
      },
      "source": [
        "### Training our model"
      ]
    },
    {
      "cell_type": "code",
      "metadata": {
        "id": "-zeOYkvGSp8-",
        "colab_type": "code",
        "colab": {}
      },
      "source": [
        "X = df.drop(columns = ['price', 'log_price'])\n",
        "y = df['price']"
      ],
      "execution_count": 0,
      "outputs": []
    },
    {
      "cell_type": "code",
      "metadata": {
        "id": "IOObjYxhSp9A",
        "colab_type": "code",
        "colab": {}
      },
      "source": [
        "from sklearn.model_selection import train_test_split\n",
        "\n",
        "X_train, X_validate, y_train, y_validate = train_test_split(X, y, random_state = 42)"
      ],
      "execution_count": 0,
      "outputs": []
    },
    {
      "cell_type": "code",
      "metadata": {
        "id": "5q42gCLNSp9C",
        "colab_type": "code",
        "outputId": "68fe817c-bd57-428c-e967-4eff12a6e397",
        "colab": {}
      },
      "source": [
        "from sklearn.linear_model import LinearRegression\n",
        "\n",
        "model = LinearRegression()\n",
        "\n",
        "model.fit(X_train, y_train).score(X_validate, y_validate)"
      ],
      "execution_count": 0,
      "outputs": [
        {
          "output_type": "execute_result",
          "data": {
            "text/plain": [
              "0.11422160237232248"
            ]
          },
          "metadata": {
            "tags": []
          },
          "execution_count": 10
        }
      ]
    },
    {
      "cell_type": "markdown",
      "metadata": {
        "id": "crNPviacSp9F",
        "colab_type": "text"
      },
      "source": [
        "What we can see from this model is not such an excellent score.  Let's take a look at the distribution of our data."
      ]
    },
    {
      "cell_type": "code",
      "metadata": {
        "id": "diB4g9RtSp9F",
        "colab_type": "code",
        "outputId": "a1c4b237-e039-4bd6-d48c-aa62a6a92338",
        "colab": {}
      },
      "source": [
        "y.hist()"
      ],
      "execution_count": 0,
      "outputs": [
        {
          "output_type": "execute_result",
          "data": {
            "text/plain": [
              "<matplotlib.axes._subplots.AxesSubplot at 0x1a22ce0350>"
            ]
          },
          "metadata": {
            "tags": []
          },
          "execution_count": 8
        },
        {
          "output_type": "display_data",
          "data": {
            "image/png": "[encoded data removed]",
            "text/plain": [
              "<Figure size 432x288 with 1 Axes>"
            ]
          },
          "metadata": {
            "tags": [],
            "needs_background": "light"
          }
        }
      ]
    },
    {
      "cell_type": "markdown",
      "metadata": {
        "id": "i8lw1B9uSp9H",
        "colab_type": "text"
      },
      "source": [
        "We can start by seeing that while most of our data appears close to zero, matplotlib is still showing us a wide range of values -- past 8000.  This is likely because of outliers.  Let's use describe to see some statistics about our target."
      ]
    },
    {
      "cell_type": "code",
      "metadata": {
        "id": "ZeQaZByLSp9I",
        "colab_type": "code",
        "outputId": "e268c3cc-fc57-4db2-c93f-61f59c3bf388",
        "colab": {}
      },
      "source": [
        "y.describe()"
      ],
      "execution_count": 0,
      "outputs": [
        {
          "output_type": "execute_result",
          "data": {
            "text/plain": [
              "count    22544.000000\n",
              "mean        67.167495\n",
              "std        220.301658\n",
              "min          1.000000\n",
              "25%         30.000000\n",
              "50%         45.000000\n",
              "75%         70.000000\n",
              "max       9000.000000\n",
              "Name: price, dtype: float64"
            ]
          },
          "metadata": {
            "tags": []
          },
          "execution_count": 20
        }
      ]
    },
    {
      "cell_type": "markdown",
      "metadata": {
        "id": "XN2g8XRHSp9K",
        "colab_type": "text"
      },
      "source": [
        "So we can see that while the average price is 67, the max price is at 9000.  This accounts for the distribution of the data we see above.  For example, if we limit our histogram to around 300, we see the following:"
      ]
    },
    {
      "cell_type": "code",
      "metadata": {
        "id": "yyZA9tcHSp9K",
        "colab_type": "code",
        "outputId": "72f147aa-1291-48b3-ead7-cfb12dc8c2a5",
        "colab": {}
      },
      "source": [
        "ax = y.hist(bins = 500)\n",
        "ax.set(xlim = (0, 300))"
      ],
      "execution_count": 0,
      "outputs": [
        {
          "output_type": "execute_result",
          "data": {
            "text/plain": [
              "[(0, 300)]"
            ]
          },
          "metadata": {
            "tags": []
          },
          "execution_count": 24
        },
        {
          "output_type": "display_data",
          "data": {
            "image/png": "[encoded data removed]",
            "text/plain": [
              "<Figure size 432x288 with 1 Axes>"
            ]
          },
          "metadata": {
            "tags": [],
            "needs_background": "light"
          }
        }
      ]
    },
    {
      "cell_type": "markdown",
      "metadata": {
        "id": "ZOmW_35ESp9N",
        "colab_type": "text"
      },
      "source": [
        "So we can see that our data is pretty well skewed to the right.  And this still doesn't account for our top values in the 9000 range."
      ]
    },
    {
      "cell_type": "code",
      "metadata": {
        "id": "weYdh0QjSp9N",
        "colab_type": "code",
        "outputId": "da7b249c-56c4-4a68-af80-2733b0b72827",
        "colab": {}
      },
      "source": [
        "top_prices = y.value_counts().sort_index(ascending = False).iloc[:5]\n",
        "top_prices"
      ],
      "execution_count": 0,
      "outputs": [
        {
          "output_type": "execute_result",
          "data": {
            "text/plain": [
              "9000.0     1\n",
              "8600.0     1\n",
              "8000.0     1\n",
              "6000.0    20\n",
              "5000.0     2\n",
              "Name: price, dtype: int64"
            ]
          },
          "metadata": {
            "tags": []
          },
          "execution_count": 26
        }
      ]
    },
    {
      "cell_type": "markdown",
      "metadata": {
        "id": "Iu_ixvM9Sp9P",
        "colab_type": "text"
      },
      "source": [
        "### Why outliers are problematic"
      ]
    },
    {
      "cell_type": "markdown",
      "metadata": {
        "id": "j7dnZs7vSp9P",
        "colab_type": "text"
      },
      "source": [
        "Outliers are particularly problematic for linear regression models.  To see why, let's look at a different linear model of our data -- one that uses just one of our features, `lastReviewElapsed`, the time since the last review, to look at price."
      ]
    },
    {
      "cell_type": "code",
      "metadata": {
        "id": "eCOJXdvtSp9Q",
        "colab_type": "code",
        "outputId": "913a7ef8-9e62-43b3-b664-c59f50d7984f",
        "colab": {}
      },
      "source": [
        "from sklearn.linear_model import LinearRegression\n",
        "model = LinearRegression()\n",
        "model.fit(X_train[['last_reviewElapsed']], y_train)"
      ],
      "execution_count": 0,
      "outputs": [
        {
          "output_type": "execute_result",
          "data": {
            "text/plain": [
              "LinearRegression(copy_X=True, fit_intercept=True, n_jobs=None, normalize=False)"
            ]
          },
          "metadata": {
            "tags": []
          },
          "execution_count": 73
        }
      ]
    },
    {
      "cell_type": "code",
      "metadata": {
        "id": "wc_gMPS7Sp9S",
        "colab_type": "code",
        "colab": {}
      },
      "source": [
        "predictions = model.predict(X_validate[['last_reviewElapsed']])"
      ],
      "execution_count": 0,
      "outputs": []
    },
    {
      "cell_type": "code",
      "metadata": {
        "id": "2smKt30FSp9U",
        "colab_type": "code",
        "outputId": "6ebba068-bdea-46e2-a749-75bbf4db05ab",
        "colab": {}
      },
      "source": [
        "ax = df.dropna(subset = ['last_reviewElapsed']).plot.scatter(x = 'last_reviewElapsed', y = 'price')\n",
        "ax.set(xlim = (1280000000, 1600000000))\n",
        "ax.plot(X_validate['last_reviewElapsed'], predictions, color = 'red')"
      ],
      "execution_count": 0,
      "outputs": [
        {
          "output_type": "execute_result",
          "data": {
            "text/plain": [
              "[<matplotlib.lines.Line2D at 0x1a2aa84b10>]"
            ]
          },
          "metadata": {
            "tags": []
          },
          "execution_count": 80
        },
        {
          "output_type": "display_data",
          "data": {
            "image/png": "[encoded data removed]",
            "text/plain": [
              "<Figure size 432x288 with 1 Axes>"
            ]
          },
          "metadata": {
            "tags": [],
            "needs_background": "light"
          }
        }
      ]
    },
    {
      "cell_type": "markdown",
      "metadata": {
        "id": "TY3Afgz7Sp9V",
        "colab_type": "text"
      },
      "source": [
        "We can see that while the model does tend to draw a line through most of the data points, it does not do a good job at predicting outliers.  This is in part, because linear regression fits to the data **globally**.  In other words, there is only one line drawn through the data, and must use a single line to predict both the lower priced data means and the outliers -- even though these observations behave differently."
      ]
    },
    {
      "cell_type": "markdown",
      "metadata": {
        "id": "UsGPcgGLSp9W",
        "colab_type": "text"
      },
      "source": [
        "### Taking the log"
      ]
    },
    {
      "cell_type": "markdown",
      "metadata": {
        "id": "KYgmuI4_Sp9W",
        "colab_type": "text"
      },
      "source": [
        "There are a couple different ways to handle outliers.  One is simply to choose a different kind of machine learning algorithm which is better at predicting outliers -- for example tree-based models.  Another is to adjust our target variable.\n",
        "\n",
        "One of the most common ways to handle outliers is to take a log of the data.  To see why this effective, let's first review what our distribution of prices currently looks like."
      ]
    },
    {
      "cell_type": "code",
      "metadata": {
        "id": "SvFvy0ivSp9W",
        "colab_type": "code",
        "outputId": "1fbdda39-04be-43e1-b59c-77dd21369041",
        "colab": {}
      },
      "source": [
        "ax = y.hist(bins = 500)\n",
        "ax.set(xlim = (0, 300), xlabel = 'price', ylabel = 'count')"
      ],
      "execution_count": 0,
      "outputs": [
        {
          "output_type": "execute_result",
          "data": {
            "text/plain": [
              "[Text(0, 0.5, 'count'), (0, 300), Text(0.5, 0, 'price')]"
            ]
          },
          "metadata": {
            "tags": []
          },
          "execution_count": 94
        },
        {
          "output_type": "display_data",
          "data": {
            "image/png": "[encoded data removed]",
            "text/plain": [
              "<Figure size 432x288 with 1 Axes>"
            ]
          },
          "metadata": {
            "tags": [],
            "needs_background": "light"
          }
        }
      ]
    },
    {
      "cell_type": "markdown",
      "metadata": {
        "id": "fsmJh474Sp9Z",
        "colab_type": "text"
      },
      "source": [
        "And this a histogram of the log of price."
      ]
    },
    {
      "cell_type": "code",
      "metadata": {
        "id": "tGzOjvItSp9a",
        "colab_type": "code",
        "outputId": "3c8b4177-c9bf-45df-e013-28ab2acce9fb",
        "colab": {}
      },
      "source": [
        "ax = df['log_price'].hist(bins = 50)\n",
        "ax.set(xlim = (0, 10), xlabel = 'price', ylabel = 'count')"
      ],
      "execution_count": 0,
      "outputs": [
        {
          "output_type": "execute_result",
          "data": {
            "text/plain": [
              "[Text(0, 0.5, 'count'), (0, 10), Text(0.5, 0, 'price')]"
            ]
          },
          "metadata": {
            "tags": []
          },
          "execution_count": 99
        },
        {
          "output_type": "display_data",
          "data": {
            "image/png": "[encoded data removed]",
            "text/plain": [
              "<Figure size 432x288 with 1 Axes>"
            ]
          },
          "metadata": {
            "tags": [],
            "needs_background": "light"
          }
        }
      ]
    },
    {
      "cell_type": "markdown",
      "metadata": {
        "id": "zS1XmTFXSp9c",
        "colab_type": "text"
      },
      "source": [
        "We can see that taking the log makes our distribution less skewed. \n",
        "\n",
        "Now let's see why this is the case.  Let's say we have prices of 60, 600, and 6000."
      ]
    },
    {
      "cell_type": "code",
      "metadata": {
        "id": "v1r_wBJwSp9c",
        "colab_type": "code",
        "colab": {}
      },
      "source": [
        "import numpy as np\n",
        "prices =  np.array([6, 60, 600, 6000])"
      ],
      "execution_count": 0,
      "outputs": []
    },
    {
      "cell_type": "markdown",
      "metadata": {
        "id": "rOcjvc3ASp9g",
        "colab_type": "text"
      },
      "source": [
        "Taking the log of these values decreases our large numbers much more than it decreased our small numbers.  "
      ]
    },
    {
      "cell_type": "code",
      "metadata": {
        "id": "0R38C5omSp9g",
        "colab_type": "code",
        "colab": {}
      },
      "source": [
        "np.log(prices)"
      ],
      "execution_count": 0,
      "outputs": []
    },
    {
      "cell_type": "markdown",
      "metadata": {
        "id": "zWCksUoySp9i",
        "colab_type": "text"
      },
      "source": [
        "So this tends to squeeze in our outliers."
      ]
    },
    {
      "cell_type": "markdown",
      "metadata": {
        "id": "8EVIXAChSp9i",
        "colab_type": "text"
      },
      "source": [
        "Notice that our linear regression model can better fit to the data now that this data is less skewed. "
      ]
    },
    {
      "cell_type": "code",
      "metadata": {
        "id": "QDHmvk3gSp9i",
        "colab_type": "code",
        "outputId": "aa189c72-2d23-4ed8-c6c3-2348f0b5a061",
        "colab": {}
      },
      "source": [
        "from sklearn.linear_model import LinearRegression\n",
        "\n",
        "log_model = LinearRegression()\n",
        "\n",
        "log_model.fit(X_train, np.log(y_train)).score(X_validate, np.log(y_validate))"
      ],
      "execution_count": 0,
      "outputs": [
        {
          "output_type": "execute_result",
          "data": {
            "text/plain": [
              "0.569405590563142"
            ]
          },
          "metadata": {
            "tags": []
          },
          "execution_count": 113
        }
      ]
    },
    {
      "cell_type": "markdown",
      "metadata": {
        "id": "tUKsTGPeSp9k",
        "colab_type": "text"
      },
      "source": [
        "Once we move to taking the log of the target variable, our interpretation of the linear model changes.  For example, assume we find that our model's coefficients look like the following, and we did not apply the log:"
      ]
    },
    {
      "cell_type": "markdown",
      "metadata": {
        "id": "t4BkA6BkSp9l",
        "colab_type": "text"
      },
      "source": [
        "$price = 20*num\\_rooms + 50*sq\\_meters  + c$"
      ]
    },
    {
      "cell_type": "markdown",
      "metadata": {
        "id": "oJwTHfEISp9l",
        "colab_type": "text"
      },
      "source": [
        "If we had not taken the log of price, remember we interpret this as a one unit increase in the number of rooms leads to an increase in price of 20.  Once we move to the log however, we may get a different model, like so:"
      ]
    },
    {
      "cell_type": "markdown",
      "metadata": {
        "id": "UloWjOQySp9l",
        "colab_type": "text"
      },
      "source": [
        "$log(price) = .3*num\\_rooms + .2*sq\\_meters  + c$"
      ]
    },
    {
      "cell_type": "markdown",
      "metadata": {
        "id": "jy3oSWbzSp9m",
        "colab_type": "text"
      },
      "source": [
        "Here this is saying that a one unit increase in the number of rooms, leads to a 30 **percent increase** in the price.  An explanation as to why follows in the next section."
      ]
    },
    {
      "cell_type": "markdown",
      "metadata": {
        "id": "T9YHZNYgSp9m",
        "colab_type": "text"
      },
      "source": [
        "### Explaining the Interpretation of the Log"
      ]
    },
    {
      "cell_type": "markdown",
      "metadata": {
        "id": "gNhTpv0wSp9m",
        "colab_type": "text"
      },
      "source": [
        "Once we move to taking the log of the target variable, our interpretation of the linear model changes.  Remember that normally we have a linear model of the following form:"
      ]
    },
    {
      "cell_type": "markdown",
      "metadata": {
        "id": "nkXfhV5QSp9n",
        "colab_type": "text"
      },
      "source": [
        "$price = 3*num\\_rooms + 2*sq\\_meters  + c$"
      ]
    },
    {
      "cell_type": "markdown",
      "metadata": {
        "id": "zG3V9IY9Sp9n",
        "colab_type": "text"
      },
      "source": [
        "And that we interpret this as:\n",
        "\n",
        "* For a one unit change in the number of rooms, price changes by 3.  \n",
        "* And for a one unit change in the number of meters, price changes by 2. "
      ]
    },
    {
      "cell_type": "markdown",
      "metadata": {
        "id": "I_-5-OZqSp9n",
        "colab_type": "text"
      },
      "source": [
        "While we can see this intuitively, if we wanted to show this mathematically, we could do so by taking the derivative with respect to each variable."
      ]
    },
    {
      "cell_type": "markdown",
      "metadata": {
        "id": "Uj8x2-koSp9o",
        "colab_type": "text"
      },
      "source": [
        "* $\\frac{\\Delta price}{\\Delta num\\_rooms} = 3$ \n",
        "\n",
        "* $\\frac{\\Delta price}{\\Delta sq\\_meters} = 2$"
      ]
    },
    {
      "cell_type": "markdown",
      "metadata": {
        "id": "pEumCpPhSp9o",
        "colab_type": "text"
      },
      "source": [
        "Now let's see what happens when we apply the log transformation.  When we fit a model to the log of a target, we'll get an equation something like the following:"
      ]
    },
    {
      "cell_type": "markdown",
      "metadata": {
        "id": "W9h-XIIFSp9o",
        "colab_type": "text"
      },
      "source": [
        "$log(price) = \\theta_1*num\\_rooms + \\theta_2*sq\\_meters + c$"
      ]
    },
    {
      "cell_type": "markdown",
      "metadata": {
        "id": "hpMj83tESp9q",
        "colab_type": "text"
      },
      "source": [
        "Now let's try to interpret the impact that each coefficient has on price.  We can start by solving for our target, price.  So we do so by applying the exponent to each side.  This gives us the following.\n",
        "\n"
      ]
    },
    {
      "cell_type": "markdown",
      "metadata": {
        "id": "chseDE_JSp9q",
        "colab_type": "text"
      },
      "source": [
        "$ price = e^{\\theta_1*num\\_rooms + \\theta_2*sq\\_meters + c} $"
      ]
    },
    {
      "cell_type": "markdown",
      "metadata": {
        "id": "rNzAC9L9Sp9q",
        "colab_type": "text"
      },
      "source": [
        "And so if we want to see how a unit change in the number of rooms affects our price, then again we take the derivative.  Now the derivative of $e^x$ equals $e^x$.  And the derivative of our formula:"
      ]
    },
    {
      "cell_type": "markdown",
      "metadata": {
        "id": "ZF0zg7A6Sp9r",
        "colab_type": "text"
      },
      "source": [
        "$\\frac{\\Delta price}{\\Delta num\\_rooms} = \\theta_{num\\_rooms}*e^{\\theta_1x_1 + \\theta_2x_2 + x_3} $\n",
        "\n",
        "> Notice that $e^{\\theta_1x_1 + \\theta_2x_2 + x_3} = y$, so applying substitution, we get:"
      ]
    },
    {
      "cell_type": "markdown",
      "metadata": {
        "id": "HDKXDzKdSp9r",
        "colab_type": "text"
      },
      "source": [
        "$\\frac{\\Delta price}{\\Delta num\\_rooms} = \\theta_1*y $\n",
        "\n",
        "So in other words each coefficient now represents a percentage change in our target.  So for example, if $\\theta_1 = .1$, then a one unit change in $x$ leads to a $.1y$ increase in $y$.  In other words, $y$ increases by 10 percent."
      ]
    },
    {
      "cell_type": "markdown",
      "metadata": {
        "id": "biStOT-ySp9r",
        "colab_type": "text"
      },
      "source": [
        "### Resources "
      ]
    },
    {
      "cell_type": "markdown",
      "metadata": {
        "id": "h05iacbeSp9s",
        "colab_type": "text"
      },
      "source": [
        "[David Dranove - Northwestern University](https://www.kellogg.northwestern.edu/faculty/dranove/htm/dranove/coursepages/mgmt469.htm)"
      ]
    }
  ]
}