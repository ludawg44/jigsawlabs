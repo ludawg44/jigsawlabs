{
  "nbformat": 4,
  "nbformat_minor": 0,
  "metadata": {
    "kernelspec": {
      "display_name": "Python 3",
      "language": "python",
      "name": "python3"
    },
    "language_info": {
      "codemirror_mode": {
        "name": "ipython",
        "version": 3
      },
      "file_extension": ".py",
      "mimetype": "text/x-python",
      "name": "python",
      "nbconvert_exporter": "python",
      "pygments_lexer": "ipython3",
      "version": "3.7.4"
    },
    "colab": {
      "name": "Copy of 6-normal-distributions-lab.ipynb",
      "provenance": [],
      "include_colab_link": true
    }
  },
  "cells": [
    {
      "cell_type": "markdown",
      "metadata": {
        "id": "view-in-github",
        "colab_type": "text"
      },
      "source": [
        "<a href=\"https://colab.research.google.com/github/ludawg44/jigsawlabs/blob/master/09Apr20_6_normal_distributions_lab_COMPLETE.ipynb\" target=\"_parent\"><img src=\"https://colab.research.google.com/assets/colab-badge.svg\" alt=\"Open In Colab\"/></a>"
      ]
    },
    {
      "cell_type": "markdown",
      "metadata": {
        "id": "W6_QQQQTUNfw",
        "colab_type": "text"
      },
      "source": [
        "# Normal Distributions Lab"
      ]
    },
    {
      "cell_type": "markdown",
      "metadata": {
        "id": "Ac0GpOi5UNfx",
        "colab_type": "text"
      },
      "source": [
        "### Introduction "
      ]
    },
    {
      "cell_type": "markdown",
      "metadata": {
        "id": "Z-QCd6F7UNfy",
        "colab_type": "text"
      },
      "source": [
        "In this lesson, we'll work with the normal distribution to see how the number of years a player drafted in the first round is likely to play in the NBA."
      ]
    },
    {
      "cell_type": "markdown",
      "metadata": {
        "id": "fIsFxcMtUNfy",
        "colab_type": "text"
      },
      "source": [
        "Let's load up our data."
      ]
    },
    {
      "cell_type": "code",
      "metadata": {
        "id": "2KFcIjnxUNfz",
        "colab_type": "code",
        "colab": {}
      },
      "source": [
        "import pandas as pd\n",
        "url = \"https://raw.githubusercontent.com/the-pudding/data/master/hype/players.csv\"\n",
        "df = pd.read_csv(url)"
      ],
      "execution_count": 0,
      "outputs": []
    },
    {
      "cell_type": "code",
      "metadata": {
        "id": "ThfGARLYUNf2",
        "colab_type": "code",
        "outputId": "fc88cfa6-8ec4-430d-a26b-987648402530",
        "colab": {
          "base_uri": "https://localhost:8080/",
          "height": 213
        }
      },
      "source": [
        "df[:3]"
      ],
      "execution_count": 0,
      "outputs": [
        {
          "output_type": "execute_result",
          "data": {
            "text/html": [
              "<div>\n",
              "<style scoped>\n",
              "    .dataframe tbody tr th:only-of-type {\n",
              "        vertical-align: middle;\n",
              "    }\n",
              "\n",
              "    .dataframe tbody tr th {\n",
              "        vertical-align: top;\n",
              "    }\n",
              "\n",
              "    .dataframe thead th {\n",
              "        text-align: right;\n",
              "    }\n",
              "</style>\n",
              "<table border=\"1\" class=\"dataframe\">\n",
              "  <thead>\n",
              "    <tr style=\"text-align: right;\">\n",
              "      <th></th>\n",
              "      <th>name</th>\n",
              "      <th>link</th>\n",
              "      <th>rank</th>\n",
              "      <th>draft_year</th>\n",
              "      <th>draft_rd</th>\n",
              "      <th>draft_pk</th>\n",
              "      <th>college</th>\n",
              "      <th>recruit_year</th>\n",
              "      <th>bbrID</th>\n",
              "      <th>pick_overall</th>\n",
              "      <th>pick_number</th>\n",
              "      <th>pick_round</th>\n",
              "      <th>nba_mean_ws48</th>\n",
              "      <th>nba_mean_vorp</th>\n",
              "      <th>nba_mean_pipm</th>\n",
              "      <th>nba_mean_wa</th>\n",
              "      <th>top_mean_ws48</th>\n",
              "      <th>top_mean_vorp</th>\n",
              "      <th>top_mean_pipm</th>\n",
              "      <th>top_mean_wa</th>\n",
              "      <th>nba_mean_ws48_rank</th>\n",
              "      <th>nba_mean_vorp_rank</th>\n",
              "      <th>nba_mean_pipm_rank</th>\n",
              "      <th>nba_mean_wa_rank</th>\n",
              "      <th>top_mean_ws48_rank</th>\n",
              "      <th>top_mean_vorp_rank</th>\n",
              "      <th>top_mean_pipm_rank</th>\n",
              "      <th>top_mean_wa_rank</th>\n",
              "      <th>total_seasons</th>\n",
              "      <th>valid_seasons</th>\n",
              "    </tr>\n",
              "  </thead>\n",
              "  <tbody>\n",
              "    <tr>\n",
              "      <th>0</th>\n",
              "      <td>Al Harrington</td>\n",
              "      <td>/players/h/harrial01.html</td>\n",
              "      <td>1.0</td>\n",
              "      <td>1998.0</td>\n",
              "      <td>1.0</td>\n",
              "      <td>25.0</td>\n",
              "      <td>NaN</td>\n",
              "      <td>1998.0</td>\n",
              "      <td>harrial01</td>\n",
              "      <td>25.0</td>\n",
              "      <td>25.0</td>\n",
              "      <td>1.0</td>\n",
              "      <td>0.073909</td>\n",
              "      <td>0.536364</td>\n",
              "      <td>-0.905455</td>\n",
              "      <td>2.030000</td>\n",
              "      <td>0.0958</td>\n",
              "      <td>0.90</td>\n",
              "      <td>0.282</td>\n",
              "      <td>3.946</td>\n",
              "      <td>134.363636</td>\n",
              "      <td>129.727273</td>\n",
              "      <td>122.181818</td>\n",
              "      <td>118.727273</td>\n",
              "      <td>109.6</td>\n",
              "      <td>114.0</td>\n",
              "      <td>86.8</td>\n",
              "      <td>79.8</td>\n",
              "      <td>16.0</td>\n",
              "      <td>11.0</td>\n",
              "    </tr>\n",
              "    <tr>\n",
              "      <th>1</th>\n",
              "      <td>Rashard Lewis</td>\n",
              "      <td>/players/l/lewisra02.html</td>\n",
              "      <td>2.0</td>\n",
              "      <td>1998.0</td>\n",
              "      <td>2.0</td>\n",
              "      <td>32.0</td>\n",
              "      <td>NaN</td>\n",
              "      <td>1998.0</td>\n",
              "      <td>lewisra02</td>\n",
              "      <td>32.0</td>\n",
              "      <td>32.0</td>\n",
              "      <td>2.0</td>\n",
              "      <td>0.135250</td>\n",
              "      <td>2.858333</td>\n",
              "      <td>1.532500</td>\n",
              "      <td>7.520833</td>\n",
              "      <td>0.1556</td>\n",
              "      <td>3.78</td>\n",
              "      <td>3.142</td>\n",
              "      <td>11.672</td>\n",
              "      <td>55.916667</td>\n",
              "      <td>44.416667</td>\n",
              "      <td>56.083333</td>\n",
              "      <td>55.166667</td>\n",
              "      <td>32.4</td>\n",
              "      <td>21.8</td>\n",
              "      <td>19.4</td>\n",
              "      <td>18.2</td>\n",
              "      <td>16.0</td>\n",
              "      <td>12.0</td>\n",
              "    </tr>\n",
              "    <tr>\n",
              "      <th>2</th>\n",
              "      <td>Korleone Young</td>\n",
              "      <td>/players/y/youngko01.html</td>\n",
              "      <td>3.0</td>\n",
              "      <td>1998.0</td>\n",
              "      <td>2.0</td>\n",
              "      <td>40.0</td>\n",
              "      <td>NaN</td>\n",
              "      <td>1998.0</td>\n",
              "      <td>youngko01</td>\n",
              "      <td>40.0</td>\n",
              "      <td>40.0</td>\n",
              "      <td>2.0</td>\n",
              "      <td>NaN</td>\n",
              "      <td>NaN</td>\n",
              "      <td>NaN</td>\n",
              "      <td>NaN</td>\n",
              "      <td>NaN</td>\n",
              "      <td>NaN</td>\n",
              "      <td>NaN</td>\n",
              "      <td>NaN</td>\n",
              "      <td>NaN</td>\n",
              "      <td>NaN</td>\n",
              "      <td>NaN</td>\n",
              "      <td>NaN</td>\n",
              "      <td>NaN</td>\n",
              "      <td>NaN</td>\n",
              "      <td>NaN</td>\n",
              "      <td>NaN</td>\n",
              "      <td>1.0</td>\n",
              "      <td>0.0</td>\n",
              "    </tr>\n",
              "  </tbody>\n",
              "</table>\n",
              "</div>"
            ],
            "text/plain": [
              "             name                       link  ...  total_seasons  valid_seasons\n",
              "0   Al Harrington  /players/h/harrial01.html  ...           16.0           11.0\n",
              "1   Rashard Lewis  /players/l/lewisra02.html  ...           16.0           12.0\n",
              "2  Korleone Young  /players/y/youngko01.html  ...            1.0            0.0\n",
              "\n",
              "[3 rows x 30 columns]"
            ]
          },
          "metadata": {
            "tags": []
          },
          "execution_count": 2
        }
      ]
    },
    {
      "cell_type": "code",
      "metadata": {
        "id": "UIj68xCLUNf5",
        "colab_type": "code",
        "colab": {}
      },
      "source": [
        "first_round_df = df[df['draft_pk'] <= 5]"
      ],
      "execution_count": 0,
      "outputs": []
    },
    {
      "cell_type": "code",
      "metadata": {
        "id": "U28bgr0wUNf9",
        "colab_type": "code",
        "outputId": "065c1b8b-083c-44d5-fc9e-f302dbcdb3f5",
        "colab": {
          "base_uri": "https://localhost:8080/",
          "height": 34
        }
      },
      "source": [
        "first_round_df.shape"
      ],
      "execution_count": 0,
      "outputs": [
        {
          "output_type": "execute_result",
          "data": {
            "text/plain": [
              "(56, 30)"
            ]
          },
          "metadata": {
            "tags": []
          },
          "execution_count": 4
        }
      ]
    },
    {
      "cell_type": "code",
      "metadata": {
        "id": "8jI9AMzvUNf_",
        "colab_type": "code",
        "colab": {}
      },
      "source": [
        "total_seasons = first_round_df['total_seasons']"
      ],
      "execution_count": 0,
      "outputs": []
    },
    {
      "cell_type": "code",
      "metadata": {
        "id": "05J4Ys6XUNgB",
        "colab_type": "code",
        "outputId": "8da6f034-e787-4d8e-e9d0-4ce6c98821ba",
        "colab": {
          "base_uri": "https://localhost:8080/",
          "height": 282
        }
      },
      "source": [
        "total_seasons.hist(density = True)"
      ],
      "execution_count": 0,
      "outputs": [
        {
          "output_type": "execute_result",
          "data": {
            "text/plain": [
              "<matplotlib.axes._subplots.AxesSubplot at 0x7fe02d31ac88>"
            ]
          },
          "metadata": {
            "tags": []
          },
          "execution_count": 6
        },
        {
          "output_type": "display_data",
          "data": {
            "image/png": "[encoded data removed]",
            "text/plain": [
              "<Figure size 432x288 with 1 Axes>"
            ]
          },
          "metadata": {
            "tags": []
          }
        }
      ]
    },
    {
      "cell_type": "markdown",
      "metadata": {
        "id": "tkxknaddUNgE",
        "colab_type": "text"
      },
      "source": [
        "Now let's use assume that the total number of seasons is normally distributed, with a mean equal and standard deviation equal to that in our dataset."
      ]
    },
    {
      "cell_type": "code",
      "metadata": {
        "id": "CwGyyCELUNgE",
        "colab_type": "code",
        "outputId": "19d87405-366b-4198-e2d2-a4bda4698892",
        "colab": {
          "base_uri": "https://localhost:8080/",
          "height": 34
        }
      },
      "source": [
        "total_seasons.mean()"
      ],
      "execution_count": 0,
      "outputs": [
        {
          "output_type": "execute_result",
          "data": {
            "text/plain": [
              "9.303571428571429"
            ]
          },
          "metadata": {
            "tags": []
          },
          "execution_count": 7
        }
      ]
    },
    {
      "cell_type": "code",
      "metadata": {
        "id": "DMxHx7oNUNgH",
        "colab_type": "code",
        "outputId": "64360899-a179-48d6-c01c-c9a225123105",
        "colab": {
          "base_uri": "https://localhost:8080/",
          "height": 34
        }
      },
      "source": [
        "total_seasons.std()"
      ],
      "execution_count": 0,
      "outputs": [
        {
          "output_type": "execute_result",
          "data": {
            "text/plain": [
              "3.8890038119485886"
            ]
          },
          "metadata": {
            "tags": []
          },
          "execution_count": 8
        }
      ]
    },
    {
      "cell_type": "markdown",
      "metadata": {
        "id": "Z4j7gmZUUNgJ",
        "colab_type": "text"
      },
      "source": [
        "> For this lab, we'll assume that the standard deviation in our dataset is the standard deviation of the population.  And we'll round our standard deviation to 4."
      ]
    },
    {
      "cell_type": "markdown",
      "metadata": {
        "id": "pIms_71TUNgJ",
        "colab_type": "text"
      },
      "source": [
        "<img src=\"https://github.com/jigsawlabs-student/modeling-distributions/blob/master/pdf-normal.png?raw=1\" width=\"50%\">"
      ]
    },
    {
      "cell_type": "markdown",
      "metadata": {
        "id": "jtn5X9F-UNgJ",
        "colab_type": "text"
      },
      "source": [
        "Ok, so we have a normal distribution with the following parameters:\n",
        "* $\\mu = 9$ seasons and \n",
        "* $\\sigma = 4$  seasons.  \n",
        "\n",
        "Now answer the following questions (without using the scipy stats library).  \n",
        "\n",
        "> The answers are provided at the end of this lab."
      ]
    },
    {
      "cell_type": "markdown",
      "metadata": {
        "id": "VBHCfZE2UNgK",
        "colab_type": "text"
      },
      "source": [
        "> What is the z-score of a player drafted in the top five that plays fewer than one season."
      ]
    },
    {
      "cell_type": "code",
      "metadata": {
        "id": "1GJ1Sq20UNgK",
        "colab_type": "code",
        "outputId": "ff94751c-05f1-4855-c3e1-0b0f4fe51a54",
        "colab": {
          "base_uri": "https://localhost:8080/",
          "height": 34
        }
      },
      "source": [
        "(1-9)/4"
      ],
      "execution_count": 0,
      "outputs": [
        {
          "output_type": "execute_result",
          "data": {
            "text/plain": [
              "-2.0"
            ]
          },
          "metadata": {
            "tags": []
          },
          "execution_count": 9
        }
      ]
    },
    {
      "cell_type": "markdown",
      "metadata": {
        "id": "nT6uCrVRUNgM",
        "colab_type": "text"
      },
      "source": [
        "What is the probability that a player drafted in the top 5, plays fewer than 1 season?"
      ]
    },
    {
      "cell_type": "code",
      "metadata": {
        "id": "3v5g6jmHUNgN",
        "colab_type": "code",
        "colab": {}
      },
      "source": [
        "2.2% "
      ],
      "execution_count": 0,
      "outputs": []
    },
    {
      "cell_type": "markdown",
      "metadata": {
        "id": "2-KikrqbUNgP",
        "colab_type": "text"
      },
      "source": [
        "What is the probability that a player drafted in the top 5, plays more than 13 seasons?"
      ]
    },
    {
      "cell_type": "code",
      "metadata": {
        "id": "zCWQTQWxUNgQ",
        "colab_type": "code",
        "outputId": "c65ad515-d50f-48c4-f0b2-0c544b2823a5",
        "colab": {
          "base_uri": "https://localhost:8080/",
          "height": 34
        }
      },
      "source": [
        "(13-9)/4"
      ],
      "execution_count": 0,
      "outputs": [
        {
          "output_type": "execute_result",
          "data": {
            "text/plain": [
              "1.0"
            ]
          },
          "metadata": {
            "tags": []
          },
          "execution_count": 11
        }
      ]
    },
    {
      "cell_type": "code",
      "metadata": {
        "id": "c_FGBqfLWcyA",
        "colab_type": "code",
        "outputId": "2a3151d2-5ac6-49b8-fbe2-b94a6ba38070",
        "colab": {
          "base_uri": "https://localhost:8080/",
          "height": 34
        }
      },
      "source": [
        "13.6+2.1+0.1\n",
        "# 15%"
      ],
      "execution_count": 0,
      "outputs": [
        {
          "output_type": "execute_result",
          "data": {
            "text/plain": [
              "15.799999999999999"
            ]
          },
          "metadata": {
            "tags": []
          },
          "execution_count": 12
        }
      ]
    },
    {
      "cell_type": "markdown",
      "metadata": {
        "id": "-lCzJ8y5UNgR",
        "colab_type": "text"
      },
      "source": [
        "What is the probability that a player drafted in the top 5, plays between 5 and 13 seasons?"
      ]
    },
    {
      "cell_type": "code",
      "metadata": {
        "id": "dCzguiE-UNgS",
        "colab_type": "code",
        "outputId": "6b375453-d4b9-439e-c6f7-c6c317c9eb82",
        "colab": {
          "base_uri": "https://localhost:8080/",
          "height": 34
        }
      },
      "source": [
        "(5-9)/4\n",
        "# 68%"
      ],
      "execution_count": 0,
      "outputs": [
        {
          "output_type": "execute_result",
          "data": {
            "text/plain": [
              "-1.0"
            ]
          },
          "metadata": {
            "tags": []
          },
          "execution_count": 13
        }
      ]
    },
    {
      "cell_type": "markdown",
      "metadata": {
        "id": "q33jSR3MUNgU",
        "colab_type": "text"
      },
      "source": [
        "### Answers using scipy stats below"
      ]
    },
    {
      "cell_type": "markdown",
      "metadata": {
        "id": "Q-E1wiQwUNgU",
        "colab_type": "text"
      },
      "source": [
        "Now answer the same questions with the scipy.stats library.  We'll initialize the normal distribution for you.  You do the rest."
      ]
    },
    {
      "cell_type": "code",
      "metadata": {
        "id": "8nEOQi6GUNgV",
        "colab_type": "code",
        "colab": {}
      },
      "source": [
        "from scipy.stats import norm"
      ],
      "execution_count": 0,
      "outputs": []
    },
    {
      "cell_type": "code",
      "metadata": {
        "id": "wn9WBbDwUNgW",
        "colab_type": "code",
        "colab": {}
      },
      "source": [
        "player_seasons_norm = norm(9, 4)"
      ],
      "execution_count": 0,
      "outputs": []
    },
    {
      "cell_type": "markdown",
      "metadata": {
        "id": "T2zkPTjjUNgY",
        "colab_type": "text"
      },
      "source": [
        "What is the probability that a player drafted in the top 5, plays fewer than 1 season?"
      ]
    },
    {
      "cell_type": "code",
      "metadata": {
        "id": "2FBd4UNKUNgZ",
        "colab_type": "code",
        "outputId": "d578dbb9-7dd9-45c5-d70c-5739b7b2a585",
        "colab": {
          "base_uri": "https://localhost:8080/",
          "height": 34
        }
      },
      "source": [
        "player_seasons_norm.cdf(1)\n",
        "# 0.0227501"
      ],
      "execution_count": 0,
      "outputs": [
        {
          "output_type": "execute_result",
          "data": {
            "text/plain": [
              "0.022750131948179195"
            ]
          },
          "metadata": {
            "tags": []
          },
          "execution_count": 17
        }
      ]
    },
    {
      "cell_type": "markdown",
      "metadata": {
        "id": "pHcFeg0aUNgc",
        "colab_type": "text"
      },
      "source": [
        "What is the probability that a player drafted in the top 5, plays more than 13 seasons?"
      ]
    },
    {
      "cell_type": "code",
      "metadata": {
        "id": "OhcXHQAkUNgc",
        "colab_type": "code",
        "outputId": "29f70570-31dd-46a0-f391-ab39b7fdafee",
        "colab": {
          "base_uri": "https://localhost:8080/",
          "height": 34
        }
      },
      "source": [
        "1 - player_seasons_norm.cdf(13)\n",
        "# 0.15865"
      ],
      "execution_count": 0,
      "outputs": [
        {
          "output_type": "execute_result",
          "data": {
            "text/plain": [
              "0.15865525393145707"
            ]
          },
          "metadata": {
            "tags": []
          },
          "execution_count": 18
        }
      ]
    },
    {
      "cell_type": "markdown",
      "metadata": {
        "id": "Wn0_mclfUNgf",
        "colab_type": "text"
      },
      "source": [
        "What is the probability that a player drafted in the top 5, plays between 5 and 13 seasons?"
      ]
    },
    {
      "cell_type": "code",
      "metadata": {
        "id": "74HSZ8d3UNgg",
        "colab_type": "code",
        "outputId": "8413bec6-8077-4829-f7ab-6bfd26b7b373",
        "colab": {
          "base_uri": "https://localhost:8080/",
          "height": 34
        }
      },
      "source": [
        "player_seasons_norm.cdf(13) - player_seasons_norm.cdf(5) \n",
        "\n",
        "\n",
        "# 0.682689"
      ],
      "execution_count": 0,
      "outputs": [
        {
          "output_type": "execute_result",
          "data": {
            "text/plain": [
              "0.6826894921370859"
            ]
          },
          "metadata": {
            "tags": []
          },
          "execution_count": 19
        }
      ]
    },
    {
      "cell_type": "markdown",
      "metadata": {
        "id": "yzcNpinWUNgi",
        "colab_type": "text"
      },
      "source": [
        "Finally, we can check this against the percentages from our data with the following."
      ]
    },
    {
      "cell_type": "code",
      "metadata": {
        "id": "_eJeTsguUNgi",
        "colab_type": "code",
        "colab": {}
      },
      "source": [
        "import numpy as np\n",
        "from statsmodels.distributions.empirical_distribution import ECDF\n",
        "e_seasons = ECDF(df['total_seasons'])"
      ],
      "execution_count": 0,
      "outputs": []
    },
    {
      "cell_type": "code",
      "metadata": {
        "id": "G-YmK2iNUNgk",
        "colab_type": "code",
        "outputId": "4fc910d5-be92-4a3f-99cb-7af9d1243459",
        "colab": {
          "base_uri": "https://localhost:8080/",
          "height": 34
        }
      },
      "source": [
        "e_seasons(1) # compare with .022"
      ],
      "execution_count": 0,
      "outputs": [
        {
          "output_type": "execute_result",
          "data": {
            "text/plain": [
              "0.13240790176187933"
            ]
          },
          "metadata": {
            "tags": []
          },
          "execution_count": 25
        }
      ]
    },
    {
      "cell_type": "code",
      "metadata": {
        "id": "fTtBrC8_UNgl",
        "colab_type": "code",
        "outputId": "2c6c3b36-0025-4d11-d51b-b6200e679c8a",
        "colab": {
          "base_uri": "https://localhost:8080/",
          "height": 34
        }
      },
      "source": [
        "1 - e_seasons(13) # compare with .158"
      ],
      "execution_count": 0,
      "outputs": [
        {
          "output_type": "execute_result",
          "data": {
            "text/plain": [
              "0.5242925787506674"
            ]
          },
          "metadata": {
            "tags": []
          },
          "execution_count": 26
        }
      ]
    },
    {
      "cell_type": "code",
      "metadata": {
        "id": "qxW1LT9iUNgo",
        "colab_type": "code",
        "outputId": "e6dcffd7-2f3b-4021-deba-1c3063d67bfa",
        "colab": {
          "base_uri": "https://localhost:8080/",
          "height": 34
        }
      },
      "source": [
        "e_seasons(13) - e_seasons(5) # compare with .682"
      ],
      "execution_count": 0,
      "outputs": [
        {
          "output_type": "execute_result",
          "data": {
            "text/plain": [
              "0.17138280832888414"
            ]
          },
          "metadata": {
            "tags": []
          },
          "execution_count": 27
        }
      ]
    },
    {
      "cell_type": "markdown",
      "metadata": {
        "id": "2QTquyoVUNgq",
        "colab_type": "text"
      },
      "source": [
        "### Solutions"
      ]
    },
    {
      "cell_type": "code",
      "metadata": {
        "id": "JHV4Iu7CUNgq",
        "colab_type": "code",
        "outputId": "b6f01b33-4c2d-485e-88de-d34268941904",
        "colab": {}
      },
      "source": [
        "(1 - 9)/4"
      ],
      "execution_count": 0,
      "outputs": [
        {
          "output_type": "execute_result",
          "data": {
            "text/plain": [
              "-2.0"
            ]
          },
          "metadata": {
            "tags": []
          },
          "execution_count": 48
        }
      ]
    },
    {
      "cell_type": "markdown",
      "metadata": {
        "id": "6WwK6_kdUNgt",
        "colab_type": "text"
      },
      "source": [
        "What is the probability that a player drafted in the top 5, plays fewer than 1 season?"
      ]
    },
    {
      "cell_type": "code",
      "metadata": {
        "id": "5aQkYwGeUNgu",
        "colab_type": "code",
        "colab": {}
      },
      "source": [
        ".025"
      ],
      "execution_count": 0,
      "outputs": []
    },
    {
      "cell_type": "markdown",
      "metadata": {
        "id": "eY_hD07RUNgw",
        "colab_type": "text"
      },
      "source": [
        "What is the probability that a player drafted in the top 5, plays more than 13 seasons?"
      ]
    },
    {
      "cell_type": "code",
      "metadata": {
        "id": "M8dPdyEyUNgw",
        "colab_type": "code",
        "colab": {}
      },
      "source": [
        ".16"
      ],
      "execution_count": 0,
      "outputs": []
    },
    {
      "cell_type": "markdown",
      "metadata": {
        "id": "if4hSfJ6UNgy",
        "colab_type": "text"
      },
      "source": [
        "What is the probability that a player drafted in the top 5, plays between 5 and 13 seasons?"
      ]
    },
    {
      "cell_type": "code",
      "metadata": {
        "id": "QbbIR1iAUNgy",
        "colab_type": "code",
        "outputId": "85a83442-6465-4668-9a4d-a9a2d94b968f",
        "colab": {}
      },
      "source": [
        ".68"
      ],
      "execution_count": 0,
      "outputs": [
        {
          "output_type": "execute_result",
          "data": {
            "text/plain": [
              "0.68"
            ]
          },
          "metadata": {
            "tags": []
          },
          "execution_count": 49
        }
      ]
    },
    {
      "cell_type": "markdown",
      "metadata": {
        "id": "2VGANEISUNg0",
        "colab_type": "text"
      },
      "source": [
        "What is the probability that a player drafted in the top 5, plays fewer than 1 season?"
      ]
    },
    {
      "cell_type": "code",
      "metadata": {
        "id": "pkl55LABUNg0",
        "colab_type": "code",
        "outputId": "6822f894-9a8c-49f4-d182-3cd853128c59",
        "colab": {}
      },
      "source": [
        "player_seasons_norm.cdf(1)\n",
        "# 0.0227501"
      ],
      "execution_count": 0,
      "outputs": [
        {
          "output_type": "execute_result",
          "data": {
            "text/plain": [
              "0.022750131948179195"
            ]
          },
          "metadata": {
            "tags": []
          },
          "execution_count": 65
        }
      ]
    },
    {
      "cell_type": "markdown",
      "metadata": {
        "id": "ZwZ--sskUNg3",
        "colab_type": "text"
      },
      "source": [
        "What is the probability that a player drafted in the top 5, plays more than 13 seasons?"
      ]
    },
    {
      "cell_type": "code",
      "metadata": {
        "id": "z8zekj48UNg3",
        "colab_type": "code",
        "outputId": "1db7c40b-8598-47c6-de55-5fb25442f335",
        "colab": {}
      },
      "source": [
        "1 - player_seasons_norm.cdf(13)\n",
        "# 0.15865"
      ],
      "execution_count": 0,
      "outputs": [
        {
          "output_type": "execute_result",
          "data": {
            "text/plain": [
              "0.15865525393145707"
            ]
          },
          "metadata": {
            "tags": []
          },
          "execution_count": 54
        }
      ]
    },
    {
      "cell_type": "markdown",
      "metadata": {
        "id": "oVrbIfceUNg5",
        "colab_type": "text"
      },
      "source": [
        "What is the probability that a player drafted in the top 5, plays between 5 and 13 seasons?"
      ]
    },
    {
      "cell_type": "code",
      "metadata": {
        "id": "QPhDJ2R5UNg5",
        "colab_type": "code",
        "outputId": "18cd6fce-9bd5-4a9f-e403-9deff1ec4196",
        "colab": {}
      },
      "source": [
        "player_seasons_norm.cdf(13) - player_seasons_norm.cdf(5)\n",
        "\n",
        "# 0.682689"
      ],
      "execution_count": 0,
      "outputs": [
        {
          "output_type": "execute_result",
          "data": {
            "text/plain": [
              "0.6826894921370859"
            ]
          },
          "metadata": {
            "tags": []
          },
          "execution_count": 55
        }
      ]
    }
  ]
}