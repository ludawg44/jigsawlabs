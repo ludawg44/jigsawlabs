{
  "nbformat": 4,
  "nbformat_minor": 0,
  "metadata": {
    "kernelspec": {
      "display_name": "Python 3",
      "language": "python",
      "name": "python3"
    },
    "language_info": {
      "codemirror_mode": {
        "name": "ipython",
        "version": 3
      },
      "file_extension": ".py",
      "mimetype": "text/x-python",
      "name": "python",
      "nbconvert_exporter": "python",
      "pygments_lexer": "ipython3",
      "version": "3.7.4"
    },
    "colab": {
      "name": "Copy of 7-custom-transformers-lab.ipynb",
      "provenance": [],
      "include_colab_link": true
    }
  },
  "cells": [
    {
      "cell_type": "markdown",
      "metadata": {
        "id": "view-in-github",
        "colab_type": "text"
      },
      "source": [
        "<a href=\"https://colab.research.google.com/github/ludawg44/jigsawlabs/blob/master/25Apr20_7_custom_transformers_lab.ipynb\" target=\"_parent\"><img src=\"https://colab.research.google.com/assets/colab-badge.svg\" alt=\"Open In Colab\"/></a>"
      ]
    },
    {
      "cell_type": "markdown",
      "metadata": {
        "id": "7kLpXDYUFCDN",
        "colab_type": "text"
      },
      "source": [
        "# Custom Transformers Lab"
      ]
    },
    {
      "cell_type": "markdown",
      "metadata": {
        "id": "ZYAwULyEFCDO",
        "colab_type": "text"
      },
      "source": [
        "### Introduction"
      ]
    },
    {
      "cell_type": "markdown",
      "metadata": {
        "id": "u_dLAEeeFCDP",
        "colab_type": "text"
      },
      "source": [
        "In this lesson, we'll practice creating our own transformer and integrating with oru DataFrameMapper.  Let's get started."
      ]
    },
    {
      "cell_type": "markdown",
      "metadata": {
        "id": "ONuqZx2XFCDP",
        "colab_type": "text"
      },
      "source": [
        "### Loading our Data"
      ]
    },
    {
      "cell_type": "markdown",
      "metadata": {
        "id": "N6nMtYq-FCDQ",
        "colab_type": "text"
      },
      "source": [
        "Let's continue working with our Airbnb dataset."
      ]
    },
    {
      "cell_type": "code",
      "metadata": {
        "id": "3259bnPhFCDQ",
        "colab_type": "code",
        "colab": {}
      },
      "source": [
        "import pandas as pd\n",
        "listings_url = \"https://raw.githubusercontent.com/jigsawlabs-student/pipelines-and-transformers/master/listings_summary.csv\"\n",
        "# listings_shorter_url = \"https://raw.githubusercontent.com/jigsawlabs-student/pipelines-and-transformers/master/listings_five_k.csv\"\n",
        "listings_df = pd.read_csv(listings_url)"
      ],
      "execution_count": 0,
      "outputs": []
    },
    {
      "cell_type": "markdown",
      "metadata": {
        "id": "Ljic5eUcFCDU",
        "colab_type": "text"
      },
      "source": [
        "This time let's select the zipcode column.  Now, while zipcodes to contain numbers, we do not think of this as being linear.  That is, we don't expect our increasing our zipcode from 11001 to 11002 to necessarily increase our target value.  Zipcode represents a geographic region, and so can be handled as a category.\n",
        "\n",
        "Let's see how we can handle this."
      ]
    },
    {
      "cell_type": "markdown",
      "metadata": {
        "id": "qQKb2ThJFCDV",
        "colab_type": "text"
      },
      "source": [
        "Let's begin by checking if there any null values."
      ]
    },
    {
      "cell_type": "code",
      "metadata": {
        "id": "p5gU3V3BFCDW",
        "colab_type": "code",
        "colab": {}
      },
      "source": [
        "zipcode_col = listings_df[['zipcode']]"
      ],
      "execution_count": 0,
      "outputs": []
    },
    {
      "cell_type": "code",
      "metadata": {
        "id": "xsrp-EFKFCDY",
        "colab_type": "code",
        "outputId": "5b7c9c0a-b92c-4814-8c6d-b34e269bee56",
        "colab": {
          "base_uri": "https://localhost:8080/",
          "height": 52
        }
      },
      "source": [
        "zipcode_col.isna().sum()"
      ],
      "execution_count": 0,
      "outputs": [
        {
          "output_type": "execute_result",
          "data": {
            "text/plain": [
              "zipcode    656\n",
              "dtype: int64"
            ]
          },
          "metadata": {
            "tags": []
          },
          "execution_count": 3
        }
      ]
    },
    {
      "cell_type": "markdown",
      "metadata": {
        "id": "9txTPSaRFCDb",
        "colab_type": "text"
      },
      "source": [
        "That's a lot of null values.  Let's begin by using a DataFrameMapper to convert them each to an empty string, `''`."
      ]
    },
    {
      "cell_type": "code",
      "metadata": {
        "id": "rCNF_IhvFCDc",
        "colab_type": "code",
        "colab": {}
      },
      "source": [
        "# Add DataFrameMapper here\n",
        "from sklearn_pandas import DataFrameMapper\n",
        "from sklearn.impute import SimpleImputer\n",
        "mapper = DataFrameMapper([\n",
        "    (['zipcode'], SimpleImputer(strategy = 'constant', fill_value=''))                \n",
        "], df_out=True)"
      ],
      "execution_count": 0,
      "outputs": []
    },
    {
      "cell_type": "code",
      "metadata": {
        "id": "FADvGhO5FCDf",
        "colab_type": "code",
        "outputId": "c39c15a1-e441-4e47-c5b4-9eddd3548160",
        "colab": {
          "base_uri": "https://localhost:8080/",
          "height": 52
        }
      },
      "source": [
        "mapper.fit_transform(listings_df).isna().sum()\n",
        "\n",
        "# zipcode    0\n",
        "# dtype: int64"
      ],
      "execution_count": 0,
      "outputs": [
        {
          "output_type": "execute_result",
          "data": {
            "text/plain": [
              "zipcode    0\n",
              "dtype: int64"
            ]
          },
          "metadata": {
            "tags": []
          },
          "execution_count": 17
        }
      ]
    },
    {
      "cell_type": "markdown",
      "metadata": {
        "id": "nIW1OM3fFCDj",
        "colab_type": "text"
      },
      "source": [
        "Ok, now we want to handle zipcodes like a categorical variable.  But if we simply one hot encode our zipcodes we will have sparse columns.  A workable technique instead is to just select a subset of the string."
      ]
    },
    {
      "cell_type": "code",
      "metadata": {
        "id": "PZrMdKDcFCDj",
        "colab_type": "code",
        "colab": {}
      },
      "source": [
        "# Once you got to the bottom, you had to give it a top_zip_prefixes variable name\n",
        "top_zip_prefixes = listings_df['zipcode'].str[:4].value_counts(normalize = True)[:10].index"
      ],
      "execution_count": 0,
      "outputs": []
    },
    {
      "cell_type": "markdown",
      "metadata": {
        "id": "eADRcfMKFCDn",
        "colab_type": "text"
      },
      "source": [
        "We can see that the top ten values account for 68 percent of our string.  Not bad."
      ]
    },
    {
      "cell_type": "markdown",
      "metadata": {
        "id": "QFdieBECFCDn",
        "colab_type": "text"
      },
      "source": [
        "So let's add two custom imputers to our DataFrameMapper.  The first one just selects the first four values from each string.  And the second one replaces the zipcode with `'Other'` if not in our top ten values.  Then apply one hot encoding on the column."
      ]
    },
    {
      "cell_type": "code",
      "metadata": {
        "id": "qXYNxwVwFCDo",
        "colab_type": "code",
        "colab": {}
      },
      "source": [
        "# write functions for custom transformer\n",
        "def first_four(zip_str):\n",
        "  return zip_str[:4]\n",
        "\n",
        "def not_top_10(zip_str):\n",
        "  if zip_str not in top_zip_prefixes:\n",
        "    return 'Other'\n",
        "  else:\n",
        "    return zip_str"
      ],
      "execution_count": 0,
      "outputs": []
    },
    {
      "cell_type": "code",
      "metadata": {
        "id": "f68pH-9GFCDq",
        "colab_type": "code",
        "colab": {}
      },
      "source": [
        "# And update DataFrameMapper\n",
        "from sklearn_pandas import FunctionTransformer\n",
        "\n",
        "mapper = DataFrameMapper([\n",
        "    (['zipcode'], [SimpleImputer(strategy='constant', fill_value=''), FunctionTransformer(first_four), FunctionTransformer(not_top_10)]),\n",
        "                              \n",
        "], df_out=True)"
      ],
      "execution_count": 0,
      "outputs": []
    },
    {
      "cell_type": "code",
      "metadata": {
        "id": "ujzO37ClFCDs",
        "colab_type": "code",
        "colab": {}
      },
      "source": [
        "zipcode_updated = mapper.fit_transform(listings_df)"
      ],
      "execution_count": 0,
      "outputs": []
    },
    {
      "cell_type": "code",
      "metadata": {
        "id": "wvwsIVJVFCDv",
        "colab_type": "code",
        "outputId": "afa84371-42ce-45e2-ba50-3f33a7258f9f",
        "colab": {
          "base_uri": "https://localhost:8080/",
          "height": 225
        }
      },
      "source": [
        "zipcode_updated['zipcode'].value_counts(normalize = True)\n",
        "\n",
        "# Other    0.340679\n",
        "# 1024     0.115333\n",
        "# 1043     0.076268\n",
        "# 1204     0.074361\n",
        "# 1096     0.072455\n",
        "# 1205     0.069173\n",
        "# 1011     0.066868\n",
        "# 1099     0.052013\n",
        "# 1335     0.047934\n",
        "# 1040     0.047845\n",
        "# 1055     0.037070"
      ],
      "execution_count": 0,
      "outputs": [
        {
          "output_type": "execute_result",
          "data": {
            "text/plain": [
              "Other    0.340679\n",
              "1024     0.115333\n",
              "1043     0.076268\n",
              "1204     0.074361\n",
              "1096     0.072455\n",
              "1205     0.069173\n",
              "1011     0.066868\n",
              "1099     0.052013\n",
              "1335     0.047934\n",
              "1040     0.047845\n",
              "1055     0.037070\n",
              "Name: zipcode, dtype: float64"
            ]
          },
          "metadata": {
            "tags": []
          },
          "execution_count": 29
        }
      ]
    },
    {
      "cell_type": "markdown",
      "metadata": {
        "id": "zp-iFP1fFCDy",
        "colab_type": "text"
      },
      "source": [
        "### Summary"
      ]
    },
    {
      "cell_type": "markdown",
      "metadata": {
        "id": "zpxWd_uMFCDy",
        "colab_type": "text"
      },
      "source": [
        "In this lesson, we saw how we can use Custom Transformers to both coerce object columns, and handle categorical columns with sparse values.  We can also see that using Custom Transformers encourages to write our code in methods, which makes it more reusable going forward."
      ]
    }
  ]
}