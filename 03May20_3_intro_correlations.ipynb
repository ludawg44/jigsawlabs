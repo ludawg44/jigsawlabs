{
  "nbformat": 4,
  "nbformat_minor": 0,
  "metadata": {
    "kernelspec": {
      "display_name": "Python 3",
      "language": "python",
      "name": "python3"
    },
    "language_info": {
      "codemirror_mode": {
        "name": "ipython",
        "version": 3
      },
      "file_extension": ".py",
      "mimetype": "text/x-python",
      "name": "python",
      "nbconvert_exporter": "python",
      "pygments_lexer": "ipython3",
      "version": "3.7.4"
    },
    "colab": {
      "name": "Copy of 3-intro-correlations.ipynb",
      "provenance": [],
      "include_colab_link": true
    }
  },
  "cells": [
    {
      "cell_type": "markdown",
      "metadata": {
        "id": "view-in-github",
        "colab_type": "text"
      },
      "source": [
        "<a href=\"https://colab.research.google.com/github/ludawg44/jigsawlabs/blob/master/03May20_3_intro_correlations.ipynb\" target=\"_parent\"><img src=\"https://colab.research.google.com/assets/colab-badge.svg\" alt=\"Open In Colab\"/></a>"
      ]
    },
    {
      "cell_type": "markdown",
      "metadata": {
        "id": "3piwoVy6Epl_",
        "colab_type": "text"
      },
      "source": [
        "# Introduction to Correlations"
      ]
    },
    {
      "cell_type": "markdown",
      "metadata": {
        "id": "V8vBZQNTEpl_",
        "colab_type": "text"
      },
      "source": [
        "### Introduction"
      ]
    },
    {
      "cell_type": "markdown",
      "metadata": {
        "id": "lpO0YqWLEpmA",
        "colab_type": "text"
      },
      "source": [
        "In this lesson, we'll see how we can go further with reducing features by using correlations to identify features that capture similar information.  Let's get started."
      ]
    },
    {
      "cell_type": "markdown",
      "metadata": {
        "id": "s3pG2YWjEpmA",
        "colab_type": "text"
      },
      "source": [
        "### Loading our Data"
      ]
    },
    {
      "cell_type": "markdown",
      "metadata": {
        "id": "PaIwwaWnEpmB",
        "colab_type": "text"
      },
      "source": [
        "Let's load up our Boston Housing Dataset."
      ]
    },
    {
      "cell_type": "code",
      "metadata": {
        "id": "eTrDtmwsEpmC",
        "colab_type": "code",
        "colab": {}
      },
      "source": [
        "from sklearn.datasets import load_boston\n",
        "import pandas as pd\n",
        "\n",
        "data = load_boston()\n",
        "X_data = data['data']\n",
        "X = pd.DataFrame(X_data, columns = data['feature_names'])\n",
        "y = data['target']"
      ],
      "execution_count": 0,
      "outputs": []
    },
    {
      "cell_type": "markdown",
      "metadata": {
        "id": "WdhZCl0OEpmF",
        "colab_type": "text"
      },
      "source": [
        "Now let's just choose two of our features for our model - TAX and RAD."
      ]
    },
    {
      "cell_type": "code",
      "metadata": {
        "id": "BO8ZbxEMEpmF",
        "colab_type": "code",
        "colab": {}
      },
      "source": [
        "X_feats = X[['TAX', 'RAD']]"
      ],
      "execution_count": 0,
      "outputs": []
    },
    {
      "cell_type": "code",
      "metadata": {
        "id": "4vfQGfJZEpmH",
        "colab_type": "code",
        "outputId": "b7bf61ae-776e-446d-cf9d-760fb9ddcd72",
        "colab": {}
      },
      "source": [
        "X_feats[:3]"
      ],
      "execution_count": 0,
      "outputs": [
        {
          "output_type": "execute_result",
          "data": {
            "text/html": [
              "<div>\n",
              "<style scoped>\n",
              "    .dataframe tbody tr th:only-of-type {\n",
              "        vertical-align: middle;\n",
              "    }\n",
              "\n",
              "    .dataframe tbody tr th {\n",
              "        vertical-align: top;\n",
              "    }\n",
              "\n",
              "    .dataframe thead th {\n",
              "        text-align: right;\n",
              "    }\n",
              "</style>\n",
              "<table border=\"1\" class=\"dataframe\">\n",
              "  <thead>\n",
              "    <tr style=\"text-align: right;\">\n",
              "      <th></th>\n",
              "      <th>TAX</th>\n",
              "      <th>RAD</th>\n",
              "    </tr>\n",
              "  </thead>\n",
              "  <tbody>\n",
              "    <tr>\n",
              "      <th>0</th>\n",
              "      <td>296.0</td>\n",
              "      <td>1.0</td>\n",
              "    </tr>\n",
              "    <tr>\n",
              "      <th>1</th>\n",
              "      <td>242.0</td>\n",
              "      <td>2.0</td>\n",
              "    </tr>\n",
              "    <tr>\n",
              "      <th>2</th>\n",
              "      <td>242.0</td>\n",
              "      <td>2.0</td>\n",
              "    </tr>\n",
              "  </tbody>\n",
              "</table>\n",
              "</div>"
            ],
            "text/plain": [
              "     TAX  RAD\n",
              "0  296.0  1.0\n",
              "1  242.0  2.0\n",
              "2  242.0  2.0"
            ]
          },
          "metadata": {
            "tags": []
          },
          "execution_count": 4
        }
      ]
    },
    {
      "cell_type": "code",
      "metadata": {
        "id": "rrhq9Sh8EpmK",
        "colab_type": "code",
        "outputId": "dc92b953-31f5-48a6-9e15-9046be158641",
        "colab": {}
      },
      "source": [
        "from sklearn.model_selection import train_test_split\n",
        "from sklearn.linear_model import LinearRegression\n",
        "X_train, X_test, y_train, y_test = train_test_split(X_feats, y, random_state = 42)\n",
        "\n",
        "model_two_feats = LinearRegression()\n",
        "model_two_feats.fit(X_train, y_train).score(X_test, y_test)"
      ],
      "execution_count": 0,
      "outputs": [
        {
          "output_type": "execute_result",
          "data": {
            "text/plain": [
              "0.2800674393285203"
            ]
          },
          "metadata": {
            "tags": []
          },
          "execution_count": 5
        }
      ]
    },
    {
      "cell_type": "markdown",
      "metadata": {
        "id": "hrltXaiSEpmM",
        "colab_type": "text"
      },
      "source": [
        "So we see that even with just these two features.  We get a score close to $.30$."
      ]
    },
    {
      "cell_type": "markdown",
      "metadata": {
        "id": "8Q-exGInEpmN",
        "colab_type": "text"
      },
      "source": [
        "### Eliminating Features"
      ]
    },
    {
      "cell_type": "markdown",
      "metadata": {
        "id": "cQcaq59REpmN",
        "colab_type": "text"
      },
      "source": [
        "While it may not be obvious at first, the two features above are pretty redundant.  We can get a sense of this if we plot the two features."
      ]
    },
    {
      "cell_type": "code",
      "metadata": {
        "id": "OFQBz2XVEpmO",
        "colab_type": "code",
        "outputId": "c64f50da-cd0c-4a71-f28b-38939590b013",
        "colab": {}
      },
      "source": [
        "X.plot.scatter(x = 'TAX', y = 'RAD')"
      ],
      "execution_count": 0,
      "outputs": [
        {
          "output_type": "execute_result",
          "data": {
            "text/plain": [
              "<matplotlib.axes._subplots.AxesSubplot at 0x1a206b6f90>"
            ]
          },
          "metadata": {
            "tags": []
          },
          "execution_count": 34
        },
        {
          "output_type": "display_data",
          "data": {
            "image/png": "[encoded data removed]",
            "text/plain": [
              "<Figure size 432x288 with 1 Axes>"
            ]
          },
          "metadata": {
            "tags": [],
            "needs_background": "light"
          }
        }
      ]
    },
    {
      "cell_type": "markdown",
      "metadata": {
        "id": "-EsqxYlpEpmQ",
        "colab_type": "text"
      },
      "source": [
        "While subtle, what the plot above shows is that the relationship between TAX and RAD is linear.  In other words, if we know one of the observation's values, we can use a line to do a good job of predicting the the value of the other feature.  And we can capture this in the correlation metric."
      ]
    },
    {
      "cell_type": "code",
      "metadata": {
        "id": "zmHYwPmZEpmR",
        "colab_type": "code",
        "outputId": "fef9a748-7643-4c3d-98bf-0a04b11884a4",
        "colab": {}
      },
      "source": [
        "import numpy as np\n",
        "np.corrcoef(X['TAX'], X['RAD'])"
      ],
      "execution_count": 0,
      "outputs": [
        {
          "output_type": "execute_result",
          "data": {
            "text/plain": [
              "array([[1.        , 0.91022819],\n",
              "       [0.91022819, 1.        ]])"
            ]
          },
          "metadata": {
            "tags": []
          },
          "execution_count": 37
        }
      ]
    },
    {
      "cell_type": "markdown",
      "metadata": {
        "id": "WvxxkEJOEpmT",
        "colab_type": "text"
      },
      "source": [
        "When our correlation metric is high, we can pretty safely remove one of the features, as we are essentially modeling the same information twice."
      ]
    },
    {
      "cell_type": "code",
      "metadata": {
        "id": "2hxtRs4cEpmT",
        "colab_type": "code",
        "outputId": "b7ac6ee6-676f-4e71-f581-0ce2257aa62d",
        "colab": {}
      },
      "source": [
        "X_tax = X[['TAX']]\n",
        "\n",
        "X_train, X_test, y_train, y_test = train_test_split(X_tax, y, random_state = 42)\n",
        "\n",
        "model_one_feat = LinearRegression(fit_intercept = False)\n",
        "model_one_feat.fit(X_train, y_train).score(X_test, y_test)"
      ],
      "execution_count": 0,
      "outputs": [
        {
          "output_type": "execute_result",
          "data": {
            "text/plain": [
              "0.2508430039544137"
            ]
          },
          "metadata": {
            "tags": []
          },
          "execution_count": 52
        }
      ]
    },
    {
      "cell_type": "markdown",
      "metadata": {
        "id": "0BGE-jrtEpmV",
        "colab_type": "text"
      },
      "source": [
        "Now while this often will not improve the scores of our model, it does make our model simpler.  And remember, this reduction in multicollinearity means that the effect will be more consolidated in one feature."
      ]
    },
    {
      "cell_type": "markdown",
      "metadata": {
        "id": "z0AGIp1gEpmW",
        "colab_type": "text"
      },
      "source": [
        "### Digging Deeper into the Correlation Coefficient"
      ]
    },
    {
      "cell_type": "markdown",
      "metadata": {
        "id": "DMAT83qfEpmW",
        "colab_type": "text"
      },
      "source": [
        "Remember that correlation coefficient tells us how well a line can describe the relationship between $x$ and $y$.\n",
        "\n",
        "Let's take a look at some correlations below.  "
      ]
    },
    {
      "cell_type": "markdown",
      "metadata": {
        "id": "VP5tvbi8EpmX",
        "colab_type": "text"
      },
      "source": [
        "<img src=\"https://github.com/jigsawlabs-student/feature-selection/blob/master/corr-nums.png?raw=1\" width=\"60%\">"
      ]
    },
    {
      "cell_type": "markdown",
      "metadata": {
        "id": "ZlhNelHIEpmX",
        "colab_type": "text"
      },
      "source": [
        "So we can that our correlations range between 1 and -1.  And the more a line describes the relationship, the larger the absolute value of our correlation.  When a line does not do a good job of describing the correlation, like in the center, the correlation is 0.  "
      ]
    },
    {
      "cell_type": "markdown",
      "metadata": {
        "id": "2iLt-E0tEpmX",
        "colab_type": "text"
      },
      "source": [
        "Now below we see datasets each that have perfect correlations, and so the correlation is either -1 or 1."
      ]
    },
    {
      "cell_type": "markdown",
      "metadata": {
        "id": "U0CXII34EpmY",
        "colab_type": "text"
      },
      "source": [
        "<img src=\"https://github.com/jigsawlabs-student/feature-selection/blob/master/corr-slope.png?raw=1\" width=\"60%\">"
      ]
    },
    {
      "cell_type": "markdown",
      "metadata": {
        "id": "Jtnk6GkiEpmY",
        "colab_type": "text"
      },
      "source": [
        "So notice, that the *slope* of the line **is not** captured by the correlation coefficient.  "
      ]
    },
    {
      "cell_type": "markdown",
      "metadata": {
        "id": "5bKYhi0EEpmZ",
        "colab_type": "text"
      },
      "source": [
        "### Capturing Nonlinear Relationships"
      ]
    },
    {
      "cell_type": "markdown",
      "metadata": {
        "id": "MXI5ddhiEpmZ",
        "colab_type": "text"
      },
      "source": [
        "Another thing to remember about correlation coefficients is that they only indicate whether the relationship between two variables is *linear*.  For example, take a look at the following variables."
      ]
    },
    {
      "cell_type": "markdown",
      "metadata": {
        "id": "F7t3ntS3Epma",
        "colab_type": "text"
      },
      "source": [
        "<img src=\"https://github.com/jigsawlabs-student/feature-selection/blob/master/corr-zeros.png?raw=1\" width=\"60%\">"
      ]
    },
    {
      "cell_type": "markdown",
      "metadata": {
        "id": "kppLXGixEpma",
        "colab_type": "text"
      },
      "source": [
        "We can see that while with some of the these features, knowing one feature does tell us information about the value of the other feature, because the relationship is not *linear* the correlation coefficient is 0."
      ]
    },
    {
      "cell_type": "markdown",
      "metadata": {
        "id": "_0Bnh1JuEpmb",
        "colab_type": "text"
      },
      "source": [
        "Now let's build a model with two different features, `NOX` and `DIS`."
      ]
    },
    {
      "cell_type": "code",
      "metadata": {
        "id": "Un0ozcdNEpmb",
        "colab_type": "code",
        "outputId": "f90ec70b-8e47-4217-e845-eee2967a83ce",
        "colab": {}
      },
      "source": [
        "from sklearn.model_selection import train_test_split\n",
        "from sklearn.linear_model import LinearRegression\n",
        "\n",
        "X_feats = X[['NOX', 'DIS']]\n",
        "X_train, X_test, y_train, y_test = train_test_split(X_feats, y, random_state = 42)\n",
        "\n",
        "\n",
        "model = LinearRegression()\n",
        "model.fit(X_train, y_train).score(X_test, y_test)"
      ],
      "execution_count": 0,
      "outputs": [
        {
          "output_type": "execute_result",
          "data": {
            "text/plain": [
              "0.21550826109907628"
            ]
          },
          "metadata": {
            "tags": []
          },
          "execution_count": 61
        }
      ]
    },
    {
      "cell_type": "markdown",
      "metadata": {
        "id": "GDyAwug_Epmd",
        "colab_type": "text"
      },
      "source": [
        "If we plot the two features, we see that while one feature does describe the other, the two are not as highly correlated as we might suspect."
      ]
    },
    {
      "cell_type": "code",
      "metadata": {
        "id": "9QcgSPwXEpme",
        "colab_type": "code",
        "outputId": "66324aa9-7c26-4bd7-8a18-a564087872ca",
        "colab": {}
      },
      "source": [
        "X_feats.plot.scatter(x = 'NOX', y = 'DIS')"
      ],
      "execution_count": 0,
      "outputs": [
        {
          "output_type": "execute_result",
          "data": {
            "text/plain": [
              "<matplotlib.axes._subplots.AxesSubplot at 0x1a20896750>"
            ]
          },
          "metadata": {
            "tags": []
          },
          "execution_count": 63
        },
        {
          "output_type": "display_data",
          "data": {
            "image/png": "[encoded data removed]",
            "text/plain": [
              "<Figure size 432x288 with 1 Axes>"
            ]
          },
          "metadata": {
            "tags": [],
            "needs_background": "light"
          }
        }
      ]
    },
    {
      "cell_type": "code",
      "metadata": {
        "id": "iONTHo4mEpmf",
        "colab_type": "code",
        "outputId": "ccfe5b36-ea90-473d-c4ac-c370c1b1d684",
        "colab": {}
      },
      "source": [
        "np.corrcoef(X['NOX'], X['DIS'])"
      ],
      "execution_count": 0,
      "outputs": [
        {
          "output_type": "execute_result",
          "data": {
            "text/plain": [
              "array([[ 1.        , -0.76923011],\n",
              "       [-0.76923011,  1.        ]])"
            ]
          },
          "metadata": {
            "tags": []
          },
          "execution_count": 64
        }
      ]
    },
    {
      "cell_type": "markdown",
      "metadata": {
        "id": "wVRuxN6mEpmh",
        "colab_type": "text"
      },
      "source": [
        "Again, this is because the relationship is not linear.  Well if we want to do better at capturing this non-linear relationship we can first extract the rank of each of the features."
      ]
    },
    {
      "cell_type": "code",
      "metadata": {
        "id": "6VwQZpGuEpmi",
        "colab_type": "code",
        "outputId": "7fab8d30-2a70-4688-ca5d-bbb791b92f88",
        "colab": {}
      },
      "source": [
        "X[['NOX', 'DIS']].rank()[:5]"
      ],
      "execution_count": 0,
      "outputs": [
        {
          "output_type": "execute_result",
          "data": {
            "text/html": [
              "<div>\n",
              "<style scoped>\n",
              "    .dataframe tbody tr th:only-of-type {\n",
              "        vertical-align: middle;\n",
              "    }\n",
              "\n",
              "    .dataframe tbody tr th {\n",
              "        vertical-align: top;\n",
              "    }\n",
              "\n",
              "    .dataframe thead th {\n",
              "        text-align: right;\n",
              "    }\n",
              "</style>\n",
              "<table border=\"1\" class=\"dataframe\">\n",
              "  <thead>\n",
              "    <tr style=\"text-align: right;\">\n",
              "      <th></th>\n",
              "      <th>NOX</th>\n",
              "      <th>DIS</th>\n",
              "    </tr>\n",
              "  </thead>\n",
              "  <tbody>\n",
              "    <tr>\n",
              "      <th>0</th>\n",
              "      <td>261.0</td>\n",
              "      <td>323.0</td>\n",
              "    </tr>\n",
              "    <tr>\n",
              "      <th>1</th>\n",
              "      <td>150.5</td>\n",
              "      <td>370.5</td>\n",
              "    </tr>\n",
              "    <tr>\n",
              "      <th>2</th>\n",
              "      <td>150.5</td>\n",
              "      <td>370.5</td>\n",
              "    </tr>\n",
              "    <tr>\n",
              "      <th>3</th>\n",
              "      <td>137.0</td>\n",
              "      <td>421.0</td>\n",
              "    </tr>\n",
              "    <tr>\n",
              "      <th>4</th>\n",
              "      <td>137.0</td>\n",
              "      <td>421.0</td>\n",
              "    </tr>\n",
              "  </tbody>\n",
              "</table>\n",
              "</div>"
            ],
            "text/plain": [
              "     NOX    DIS\n",
              "0  261.0  323.0\n",
              "1  150.5  370.5\n",
              "2  150.5  370.5\n",
              "3  137.0  421.0\n",
              "4  137.0  421.0"
            ]
          },
          "metadata": {
            "tags": []
          },
          "execution_count": 6
        }
      ]
    },
    {
      "cell_type": "markdown",
      "metadata": {
        "id": "kkVS2KaREpmk",
        "colab_type": "text"
      },
      "source": [
        "And plotting the ranks shows the relationship is now pretty linear."
      ]
    },
    {
      "cell_type": "code",
      "metadata": {
        "id": "L0gt_pdyEpml",
        "colab_type": "code",
        "outputId": "c1a1e1de-8739-4756-dc91-99db61b8859a",
        "colab": {}
      },
      "source": [
        "X[['NOX', 'DIS']].rank().plot.scatter(x = 'NOX', y = 'DIS')"
      ],
      "execution_count": 0,
      "outputs": [
        {
          "output_type": "execute_result",
          "data": {
            "text/plain": [
              "<matplotlib.axes._subplots.AxesSubplot at 0x1a20ba8290>"
            ]
          },
          "metadata": {
            "tags": []
          },
          "execution_count": 75
        },
        {
          "output_type": "display_data",
          "data": {
            "image/png": "[encoded data removed]",
            "text/plain": [
              "<Figure size 432x288 with 1 Axes>"
            ]
          },
          "metadata": {
            "tags": [],
            "needs_background": "light"
          }
        }
      ]
    },
    {
      "cell_type": "markdown",
      "metadata": {
        "id": "6zs-Tkj2Epmo",
        "colab_type": "text"
      },
      "source": [
        "And this is also captured by our ranked correlation."
      ]
    },
    {
      "cell_type": "code",
      "metadata": {
        "id": "HQIQ68OYEpmp",
        "colab_type": "code",
        "outputId": "c230309f-70cd-4bd5-a975-21b2cf3ab95a",
        "colab": {}
      },
      "source": [
        "np.corrcoef(X['NOX'].rank(), X['DIS'].rank())"
      ],
      "execution_count": 0,
      "outputs": [
        {
          "output_type": "execute_result",
          "data": {
            "text/plain": [
              "array([[ 1.        , -0.88001486],\n",
              "       [-0.88001486,  1.        ]])"
            ]
          },
          "metadata": {
            "tags": []
          },
          "execution_count": 77
        }
      ]
    },
    {
      "cell_type": "markdown",
      "metadata": {
        "id": "kR-btNQWEpmr",
        "colab_type": "text"
      },
      "source": [
        "Another word for this rank correlation is the *spearman* correlation, and we calculate it with pandas."
      ]
    },
    {
      "cell_type": "code",
      "metadata": {
        "id": "hwm3swHtEpms",
        "colab_type": "code",
        "outputId": "1e19433c-b431-482f-e5c6-418b31da7b06",
        "colab": {}
      },
      "source": [
        "X[['NOX', 'DIS']].corr(method = 'spearman')"
      ],
      "execution_count": 0,
      "outputs": [
        {
          "output_type": "execute_result",
          "data": {
            "text/html": [
              "<div>\n",
              "<style scoped>\n",
              "    .dataframe tbody tr th:only-of-type {\n",
              "        vertical-align: middle;\n",
              "    }\n",
              "\n",
              "    .dataframe tbody tr th {\n",
              "        vertical-align: top;\n",
              "    }\n",
              "\n",
              "    .dataframe thead th {\n",
              "        text-align: right;\n",
              "    }\n",
              "</style>\n",
              "<table border=\"1\" class=\"dataframe\">\n",
              "  <thead>\n",
              "    <tr style=\"text-align: right;\">\n",
              "      <th></th>\n",
              "      <th>NOX</th>\n",
              "      <th>DIS</th>\n",
              "    </tr>\n",
              "  </thead>\n",
              "  <tbody>\n",
              "    <tr>\n",
              "      <th>NOX</th>\n",
              "      <td>1.000000</td>\n",
              "      <td>-0.880015</td>\n",
              "    </tr>\n",
              "    <tr>\n",
              "      <th>DIS</th>\n",
              "      <td>-0.880015</td>\n",
              "      <td>1.000000</td>\n",
              "    </tr>\n",
              "  </tbody>\n",
              "</table>\n",
              "</div>"
            ],
            "text/plain": [
              "          NOX       DIS\n",
              "NOX  1.000000 -0.880015\n",
              "DIS -0.880015  1.000000"
            ]
          },
          "metadata": {
            "tags": []
          },
          "execution_count": 78
        }
      ]
    },
    {
      "cell_type": "markdown",
      "metadata": {
        "id": "p3UCIdtqEpmu",
        "colab_type": "text"
      },
      "source": [
        "If we do not provide the method argument, `corr` defaults to the pearson correlation, which is what we saw previously."
      ]
    },
    {
      "cell_type": "code",
      "metadata": {
        "id": "t6-7wLg3Epmv",
        "colab_type": "code",
        "outputId": "95b42d7a-ec02-48ab-eb28-b014c00fddd9",
        "colab": {}
      },
      "source": [
        "X[['NOX', 'DIS']].corr()"
      ],
      "execution_count": 0,
      "outputs": [
        {
          "output_type": "execute_result",
          "data": {
            "text/html": [
              "<div>\n",
              "<style scoped>\n",
              "    .dataframe tbody tr th:only-of-type {\n",
              "        vertical-align: middle;\n",
              "    }\n",
              "\n",
              "    .dataframe tbody tr th {\n",
              "        vertical-align: top;\n",
              "    }\n",
              "\n",
              "    .dataframe thead th {\n",
              "        text-align: right;\n",
              "    }\n",
              "</style>\n",
              "<table border=\"1\" class=\"dataframe\">\n",
              "  <thead>\n",
              "    <tr style=\"text-align: right;\">\n",
              "      <th></th>\n",
              "      <th>NOX</th>\n",
              "      <th>DIS</th>\n",
              "    </tr>\n",
              "  </thead>\n",
              "  <tbody>\n",
              "    <tr>\n",
              "      <th>NOX</th>\n",
              "      <td>1.00000</td>\n",
              "      <td>-0.76923</td>\n",
              "    </tr>\n",
              "    <tr>\n",
              "      <th>DIS</th>\n",
              "      <td>-0.76923</td>\n",
              "      <td>1.00000</td>\n",
              "    </tr>\n",
              "  </tbody>\n",
              "</table>\n",
              "</div>"
            ],
            "text/plain": [
              "         NOX      DIS\n",
              "NOX  1.00000 -0.76923\n",
              "DIS -0.76923  1.00000"
            ]
          },
          "metadata": {
            "tags": []
          },
          "execution_count": 79
        }
      ]
    },
    {
      "cell_type": "markdown",
      "metadata": {
        "id": "d2Oy7SaREpmx",
        "colab_type": "text"
      },
      "source": [
        "### Summary"
      ]
    },
    {
      "cell_type": "markdown",
      "metadata": {
        "id": "TGJOi9BLEpmx",
        "colab_type": "text"
      },
      "source": [
        "In this lesson, we learned about the pearson correlation coefficient and the spearman correlation coefficient.  The pearson correlation coefficient describes the *linear* relationship between two variables.  The number ranges between -1 and 1, and the larger the number the more a line can be used to capture the relationship between the variables.\n",
        "\n",
        "Because the pearson coefficient only captures linear relationship, it can miss non-linear relationships.  The spearman correlation coefficient can capture both linear and non-linear relationships between variables.  It works by first finding the rank value of the observations, and then calculates the correlation of the ranks for the two features.\n",
        "\n",
        "We care about correlations because they can help us identify redundant features.  Once identified we can then try removing one of the features.  This makes our model simpler and reduces multicollinearity."
      ]
    },
    {
      "cell_type": "markdown",
      "metadata": {
        "id": "-lpnTYJOEpmy",
        "colab_type": "text"
      },
      "source": [
        "### Resources\n",
        "\n",
        "[Khan Academy correlation coefficient formula](https://www.youtube.com/watch?v=u4ugaNo6v1Q)"
      ]
    },
    {
      "cell_type": "code",
      "metadata": {
        "id": "Gm3j0LxoEpm5",
        "colab_type": "code",
        "colab": {}
      },
      "source": [
        ""
      ],
      "execution_count": 0,
      "outputs": []
    }
  ]
}