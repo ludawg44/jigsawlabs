{
  "nbformat": 4,
  "nbformat_minor": 0,
  "metadata": {
    "kernelspec": {
      "display_name": "Python 3",
      "language": "python",
      "name": "python3"
    },
    "language_info": {
      "codemirror_mode": {
        "name": "ipython",
        "version": 3
      },
      "file_extension": ".py",
      "mimetype": "text/x-python",
      "name": "python",
      "nbconvert_exporter": "python",
      "pygments_lexer": "ipython3",
      "version": "3.7.4"
    },
    "colab": {
      "name": "Copy of 7-styling-plots.ipynb",
      "provenance": [],
      "include_colab_link": true
    }
  },
  "cells": [
    {
      "cell_type": "markdown",
      "metadata": {
        "id": "view-in-github",
        "colab_type": "text"
      },
      "source": [
        "<a href=\"https://colab.research.google.com/github/ludawg44/jigsawlabs/blob/master/Copy_of_7_styling_plots.ipynb\" target=\"_parent\"><img src=\"https://colab.research.google.com/assets/colab-badge.svg\" alt=\"Open In Colab\"/></a>"
      ]
    },
    {
      "cell_type": "markdown",
      "metadata": {
        "id": "06FhuSOEdTde",
        "colab_type": "text"
      },
      "source": [
        "# Styling Plots"
      ]
    },
    {
      "cell_type": "markdown",
      "metadata": {
        "id": "_gli-IZjdTdg",
        "colab_type": "text"
      },
      "source": [
        "### Introduction"
      ]
    },
    {
      "cell_type": "markdown",
      "metadata": {
        "id": "QZmscm_kdTdh",
        "colab_type": "text"
      },
      "source": [
        "In this lesson, we'll move onto styling some of the plots themselves.  Let's see what we can do."
      ]
    },
    {
      "cell_type": "markdown",
      "metadata": {
        "id": "7msgLUSWdTdi",
        "colab_type": "text"
      },
      "source": [
        "Like previously, we'll load up matplotlib, and set the figure size."
      ]
    },
    {
      "cell_type": "code",
      "metadata": {
        "id": "BPeYyHR-dTdj",
        "colab_type": "code",
        "colab": {}
      },
      "source": [
        "import matplotlib.pyplot as plt\n",
        "%matplotlib inline\n",
        "plt.rcParams['figure.figsize'] = [4, 2.5]"
      ],
      "execution_count": 0,
      "outputs": []
    },
    {
      "cell_type": "markdown",
      "metadata": {
        "id": "hOVr56q2dTdm",
        "colab_type": "text"
      },
      "source": [
        "### Colors"
      ]
    },
    {
      "cell_type": "markdown",
      "metadata": {
        "id": "3IKVuTRqdTdn",
        "colab_type": "text"
      },
      "source": [
        "Let's start off by covering the different ways that we can set colors in matplotlib."
      ]
    },
    {
      "cell_type": "code",
      "metadata": {
        "id": "TWAiaPH9dTdo",
        "colab_type": "code",
        "outputId": "9ddb5d80-f706-4118-9331-d7933ba630f4",
        "colab": {}
      },
      "source": [
        "plt.scatter(x = [1, 2, 3, 4], y = [2, 4, 6, 8], c = 'blue')\n",
        "plt.scatter(x = [5, 6, 7, 8], y = [2, 4, 6, 8], c = 'r')"
      ],
      "execution_count": 0,
      "outputs": [
        {
          "output_type": "execute_result",
          "data": {
            "text/plain": [
              "<matplotlib.collections.PathCollection at 0x11dc89110>"
            ]
          },
          "metadata": {
            "tags": []
          },
          "execution_count": 18
        },
        {
          "output_type": "display_data",
          "data": {
            "image/png": "[encoded data removed]",
            "text/plain": [
              "<Figure size 288x180 with 1 Axes>"
            ]
          },
          "metadata": {
            "tags": [],
            "needs_background": "light"
          }
        }
      ]
    },
    {
      "cell_type": "markdown",
      "metadata": {
        "id": "kxW7BbK7dTdr",
        "colab_type": "text"
      },
      "source": [
        "As we can see from the above, `matplotlib` allows us to specify a colors by providing a string indicating the color.  We can do so by providing the full color name, or through a single character that represents the color.  Here are some examples strings that we can provide."
      ]
    },
    {
      "cell_type": "markdown",
      "metadata": {
        "id": "zrTVrxNMdTds",
        "colab_type": "text"
      },
      "source": [
        "- b: blue, g: green\n",
        "- r: red,  y: yellow\n",
        "- k: black,  w: white\n",
        "- c: cyan,  m: magenta"
      ]
    },
    {
      "cell_type": "markdown",
      "metadata": {
        "id": "rEvtjYbddTdt",
        "colab_type": "text"
      },
      "source": [
        "We can also specify the color through the hex format or those of an array that represents the rgb numbers for a specific color."
      ]
    },
    {
      "cell_type": "code",
      "metadata": {
        "id": "NLf-JALYdTdu",
        "colab_type": "code",
        "outputId": "dc2cebbf-8823-4703-f5f9-8ced997a7f3c",
        "colab": {}
      },
      "source": [
        "plt.scatter(x = [9, 10, 11, 12], y = [2, 4, 6, 8], c = '#800000')\n",
        "plt.scatter(x = [13, 14, 15, 16], y = [2, 4, 6, 8], c = [[1.0, 1.0, 0.0]])"
      ],
      "execution_count": 0,
      "outputs": [
        {
          "output_type": "execute_result",
          "data": {
            "text/plain": [
              "<matplotlib.collections.PathCollection at 0x11dd07790>"
            ]
          },
          "metadata": {
            "tags": []
          },
          "execution_count": 19
        },
        {
          "output_type": "display_data",
          "data": {
            "image/png": "[encoded data removed]",
            "text/plain": [
              "<Figure size 288x180 with 1 Axes>"
            ]
          },
          "metadata": {
            "tags": [],
            "needs_background": "light"
          }
        }
      ]
    },
    {
      "cell_type": "markdown",
      "metadata": {
        "id": "1-Udqn4FdTdw",
        "colab_type": "text"
      },
      "source": [
        "Notice that we specified the rgb colors as a nested array.  It's a nested array, because we can have a different color for each datapoint."
      ]
    },
    {
      "cell_type": "code",
      "metadata": {
        "id": "0f5yRN1OdTdx",
        "colab_type": "code",
        "outputId": "3cd89e3c-e0b2-4c89-f69e-b5fd7d3a2bba",
        "colab": {}
      },
      "source": [
        "plt.scatter(x = [9, 10, 11, 12], y = [2, 4, 6, 8], c = ['red', 'blue', 'green', 'black'])"
      ],
      "execution_count": 0,
      "outputs": [
        {
          "output_type": "execute_result",
          "data": {
            "text/plain": [
              "<matplotlib.collections.PathCollection at 0x11fff35d0>"
            ]
          },
          "metadata": {
            "tags": []
          },
          "execution_count": 66
        },
        {
          "output_type": "display_data",
          "data": {
            "image/png": "[encoded data removed]",
            "text/plain": [
              "<Figure size 288x180 with 1 Axes>"
            ]
          },
          "metadata": {
            "tags": [],
            "needs_background": "light"
          }
        }
      ]
    },
    {
      "cell_type": "markdown",
      "metadata": {
        "id": "CPSrKH1WdTd0",
        "colab_type": "text"
      },
      "source": [
        "> This can become useful in distinguishing between categorical data."
      ]
    },
    {
      "cell_type": "markdown",
      "metadata": {
        "id": "zrqwH00zdTd1",
        "colab_type": "text"
      },
      "source": [
        "### Markers\n",
        "\n",
        "Beyond styling our plots with colors we can also style our plots with markers."
      ]
    },
    {
      "cell_type": "code",
      "metadata": {
        "id": "f57pbOa-dTd2",
        "colab_type": "code",
        "outputId": "1c19b892-9557-453a-b52b-39711d9e55d1",
        "colab": {}
      },
      "source": [
        "plt.scatter(x = [1, 2, 3, 4], y = [2, 4, 6, 8], marker = 's')\n",
        "plt.scatter(x = [5, 6, 7, 8], y = [2, 4, 6, 8], marker = 'o')\n",
        "plt.scatter(x = [9, 10, 11, 12], y = [2, 4, 6, 8], marker = 'x')\n",
        "plt.scatter(x = [13, 14, 15, 16], y = [2, 4, 6, 8], marker = '^')"
      ],
      "execution_count": 0,
      "outputs": [
        {
          "output_type": "execute_result",
          "data": {
            "text/plain": [
              "<matplotlib.collections.PathCollection at 0x11fffcc10>"
            ]
          },
          "metadata": {
            "tags": []
          },
          "execution_count": 63
        },
        {
          "output_type": "display_data",
          "data": {
            "image/png": "[encoded data removed]",
            "text/plain": [
              "<Figure size 288x180 with 1 Axes>"
            ]
          },
          "metadata": {
            "tags": [],
            "needs_background": "light"
          }
        }
      ]
    },
    {
      "cell_type": "markdown",
      "metadata": {
        "id": "YtxNFk1pdTd4",
        "colab_type": "text"
      },
      "source": [
        "So above we can see the following mapping between letters and shapes:"
      ]
    },
    {
      "cell_type": "markdown",
      "metadata": {
        "id": "BaEo5Rh9dTd5",
        "colab_type": "text"
      },
      "source": [
        "- s: square\n",
        "- o: circle\n",
        "- x: x\n",
        "- D: diamond\n",
        "- ^: triangle"
      ]
    },
    {
      "cell_type": "markdown",
      "metadata": {
        "id": "R0O0lXWPdTd6",
        "colab_type": "text"
      },
      "source": [
        "[Reference the documentation](https://matplotlib.org/api/markers_api.html) for a full list of the markers available."
      ]
    },
    {
      "cell_type": "markdown",
      "metadata": {
        "id": "-zO4i3DqdTd7",
        "colab_type": "text"
      },
      "source": [
        "### Line Styles"
      ]
    },
    {
      "cell_type": "markdown",
      "metadata": {
        "id": "SUi096xCdTd8",
        "colab_type": "text"
      },
      "source": [
        "Then, for line plots, matplotlib gives us a variety of ways to style our lines."
      ]
    },
    {
      "cell_type": "markdown",
      "metadata": {
        "id": "Y-Ddr3BCdTd9",
        "colab_type": "text"
      },
      "source": [
        "linestyle          | description\n",
        "-------------------|------------------------------\n",
        "'-'                | solid\n",
        "'--'               | dashed\n",
        "'-.'               | dashdot\n",
        "':'                | dotted\n",
        "\"\"                 | draw nothing"
      ]
    },
    {
      "cell_type": "code",
      "metadata": {
        "id": "irLAIrGOdTd9",
        "colab_type": "code",
        "outputId": "0ace040c-a6ab-42c2-e512-53775769ad23",
        "colab": {}
      },
      "source": [
        "import numpy as np\n",
        "plt.plot(np.arange(10, step = 2), np.arange(10, 20, 2), '--')\n",
        "plt.plot(np.arange(10, 20, step = 2), np.arange(10, 20, 2), '-')\n",
        "plt.plot(np.arange(20, 30, step = 2), np.arange(10, 20, 2), ':')"
      ],
      "execution_count": 0,
      "outputs": [
        {
          "output_type": "execute_result",
          "data": {
            "text/plain": [
              "[<matplotlib.lines.Line2D at 0x11fa7a7d0>]"
            ]
          },
          "metadata": {
            "tags": []
          },
          "execution_count": 47
        },
        {
          "output_type": "display_data",
          "data": {
            "image/png": "[encoded data removed]",
            "text/plain": [
              "<Figure size 288x180 with 1 Axes>"
            ]
          },
          "metadata": {
            "tags": [],
            "needs_background": "light"
          }
        }
      ]
    },
    {
      "cell_type": "markdown",
      "metadata": {
        "id": "8FfMCVxedTeA",
        "colab_type": "text"
      },
      "source": [
        "### Plot function"
      ]
    },
    {
      "cell_type": "markdown",
      "metadata": {
        "id": "fB6-h2qRdTeA",
        "colab_type": "text"
      },
      "source": [
        "So with the plot function we are drawing a line graph where the first argument is the x values the second argument is the y values, and the third argument is the styling.  With that third argument, we can provide various styling options for our graph."
      ]
    },
    {
      "cell_type": "code",
      "metadata": {
        "id": "wMilyIFodTeB",
        "colab_type": "code",
        "outputId": "e1a65f68-62e9-4411-8aa2-7e196d29c7d1",
        "colab": {}
      },
      "source": [
        "plt.plot(np.arange(10, 20, step = 2), np.arange(10, 20, 2), '.-')\n",
        "plt.plot(np.arange(20, 30, step = 2), np.arange(10, 20, 2), 'g.')"
      ],
      "execution_count": 0,
      "outputs": [
        {
          "output_type": "execute_result",
          "data": {
            "text/plain": [
              "[<matplotlib.lines.Line2D at 0x11f64e710>]"
            ]
          },
          "metadata": {
            "tags": []
          },
          "execution_count": 54
        },
        {
          "output_type": "display_data",
          "data": {
            "image/png": "[encoded data removed]",
            "text/plain": [
              "<Figure size 288x180 with 1 Axes>"
            ]
          },
          "metadata": {
            "tags": [],
            "needs_background": "light"
          }
        }
      ]
    },
    {
      "cell_type": "markdown",
      "metadata": {
        "id": "abVSDztPdTeE",
        "colab_type": "text"
      },
      "source": [
        "For example, in the first plot above we first are adding a marker of `.`, as well as a dotted line.  And in the second, we are also adding the styling of the color, and then using the `.` marker to effectively draw a scatter plot. "
      ]
    },
    {
      "cell_type": "markdown",
      "metadata": {
        "id": "KuBW1z1odTeF",
        "colab_type": "text"
      },
      "source": [
        "> Note that in a single call to the `plot` function we can add as many plots as we want, simply by providing more series of arguments."
      ]
    },
    {
      "cell_type": "code",
      "metadata": {
        "id": "26k94KCVdTeF",
        "colab_type": "code",
        "outputId": "2b11c839-fce8-4ec7-cf49-380e55925be1",
        "colab": {}
      },
      "source": [
        "import numpy as np\n",
        "import matplotlib.pyplot as pl\n",
        "x_1 = np.arange(0, 5, 1)\n",
        "x_2 = np.arange(6, 11, 1)\n",
        "x_3 = np.arange(12, 18, 1)\n",
        "\n",
        "plt.plot(x_1, x_1, 'r--', x_2, x_2*2, 'g^', x_3, x_3*4, 'bs')\n",
        "plt.show()"
      ],
      "execution_count": 0,
      "outputs": [
        {
          "output_type": "display_data",
          "data": {
            "image/png": "[encoded data removed]",
            "text/plain": [
              "<Figure size 288x180 with 1 Axes>"
            ]
          },
          "metadata": {
            "tags": [],
            "needs_background": "light"
          }
        }
      ]
    },
    {
      "cell_type": "markdown",
      "metadata": {
        "id": "trfwIzl7dTeI",
        "colab_type": "text"
      },
      "source": [
        "### Summary"
      ]
    },
    {
      "cell_type": "markdown",
      "metadata": {
        "id": "Z1YlV3AcdTeJ",
        "colab_type": "text"
      },
      "source": [
        "In this lesson, we saw various techniques for styling plots.  We started by seeing that we can specify the color of a plot through the `c = ` argument, and that we can specify a string with the full color name, or short name.  We also can provide the hex number, or rgb numbers as an array.\n",
        "\n",
        "We use the marker argument to change the marker type.  And saw square (s), circle (o), x (x), Diamond (D), and triangle (^) as different options.\n",
        "\n",
        "Similarly, when drawing a line graph, we line styling options such as:\n",
        "solid (-), dashed (--), and dotted (:).\n",
        "\n",
        "Then, we saw that with the plot function we can provide mutliple types of styling in the third argument (colors, markers, lines), and create multiple plots in a single call to the `plot` function."
      ]
    }
  ]
}