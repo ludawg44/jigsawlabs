{
  "nbformat": 4,
  "nbformat_minor": 0,
  "metadata": {
    "kernelspec": {
      "display_name": "Python 3",
      "language": "python",
      "name": "python3"
    },
    "language_info": {
      "codemirror_mode": {
        "name": "ipython",
        "version": 3
      },
      "file_extension": ".py",
      "mimetype": "text/x-python",
      "name": "python",
      "nbconvert_exporter": "python",
      "pygments_lexer": "ipython3",
      "version": "3.7.4"
    },
    "colab": {
      "name": "Copy of 7-styling-plots.ipynb",
      "provenance": [],
      "include_colab_link": true
    }
  },
  "cells": [
    {
      "cell_type": "markdown",
      "metadata": {
        "id": "view-in-github",
        "colab_type": "text"
      },
      "source": [
        "<a href=\"https://colab.research.google.com/github/ludawg44/jigsawlabs/blob/master/Copy_of_7_styling_plots.ipynb\" target=\"_parent\"><img src=\"https://colab.research.google.com/assets/colab-badge.svg\" alt=\"Open In Colab\"/></a>"
      ]
    },
    {
      "cell_type": "markdown",
      "metadata": {
        "id": "eQQYLC3uQ2Q1",
        "colab_type": "text"
      },
      "source": [
        "# Styling Plots"
      ]
    },
    {
      "cell_type": "markdown",
      "metadata": {
        "id": "4P-QTUesQ2Q5",
        "colab_type": "text"
      },
      "source": [
        "### Introduction"
      ]
    },
    {
      "cell_type": "markdown",
      "metadata": {
        "id": "N0gG1TehQ2Q6",
        "colab_type": "text"
      },
      "source": [
        "In this lesson, we'll move onto styling some of the plots themselves.  Let's see what we can do."
      ]
    },
    {
      "cell_type": "markdown",
      "metadata": {
        "id": "9TkzVR0XQ2Q7",
        "colab_type": "text"
      },
      "source": [
        "Like previously, we'll load up matplotlib, and set the figure size."
      ]
    },
    {
      "cell_type": "code",
      "metadata": {
        "id": "8qdDEf4EQ2Q_",
        "colab_type": "code",
        "colab": {}
      },
      "source": [
        "import matplotlib.pyplot as plt\n",
        "%matplotlib inline\n",
        "plt.rcParams['figure.figsize'] = [4, 2.5]"
      ],
      "execution_count": 0,
      "outputs": []
    },
    {
      "cell_type": "markdown",
      "metadata": {
        "id": "s5yFea8XQ2RC",
        "colab_type": "text"
      },
      "source": [
        "### Colors"
      ]
    },
    {
      "cell_type": "markdown",
      "metadata": {
        "id": "HLtqIQCTQ2RD",
        "colab_type": "text"
      },
      "source": [
        "Let's start off by covering the different ways that we can set colors in matplotlib."
      ]
    },
    {
      "cell_type": "code",
      "metadata": {
        "id": "7His9a5pQ2RE",
        "colab_type": "code",
        "outputId": "a576aaa0-6082-4529-8e28-4c3209c2f97b",
        "colab": {
          "base_uri": "https://localhost:8080/",
          "height": 201
        }
      },
      "source": [
        "plt.scatter(x = [1, 2, 3, 4], y = [2, 4, 6, 8], c = 'blue')\n",
        "plt.scatter(x = [5, 6, 7, 8], y = [2, 4, 6, 8], c = 'r')"
      ],
      "execution_count": 0,
      "outputs": [
        {
          "output_type": "execute_result",
          "data": {
            "text/plain": [
              "<matplotlib.collections.PathCollection at 0x7f91ba9095c0>"
            ]
          },
          "metadata": {
            "tags": []
          },
          "execution_count": 3
        },
        {
          "output_type": "display_data",
          "data": {
            "image/png": "[encoded data removed]",
            "text/plain": [
              "<Figure size 288x180 with 1 Axes>"
            ]
          },
          "metadata": {
            "tags": []
          }
        }
      ]
    },
    {
      "cell_type": "markdown",
      "metadata": {
        "id": "OagCDO2kQ2RJ",
        "colab_type": "text"
      },
      "source": [
        "As we can see from the above, `matplotlib` allows us to specify a colors by providing a string indicating the color.  We can do so by providing the full color name, or through a single character that represents the color.  Here are some examples strings that we can provide."
      ]
    },
    {
      "cell_type": "markdown",
      "metadata": {
        "id": "1BcF-UOyQ2RJ",
        "colab_type": "text"
      },
      "source": [
        "- b: blue, g: green\n",
        "- r: red,  y: yellow\n",
        "- k: black,  w: white\n",
        "- c: cyan,  m: magenta"
      ]
    },
    {
      "cell_type": "markdown",
      "metadata": {
        "id": "aNAOxSpgQ2RK",
        "colab_type": "text"
      },
      "source": [
        "We can also specify the color through the hex format or those of an array that represents the rgb numbers for a specific color."
      ]
    },
    {
      "cell_type": "code",
      "metadata": {
        "id": "3QPtYFUyQ2RL",
        "colab_type": "code",
        "outputId": "0333992c-9927-46ee-eea5-3b2cb6bf5b3f",
        "colab": {
          "base_uri": "https://localhost:8080/",
          "height": 201
        }
      },
      "source": [
        "plt.scatter(x = [9, 10, 11, 12], y = [2, 4, 6, 8], c = '#800000')\n",
        "plt.scatter(x = [13, 14, 15, 16], y = [2, 4, 6, 8], c = [[1.0, 1.0, 0.0]])"
      ],
      "execution_count": 0,
      "outputs": [
        {
          "output_type": "execute_result",
          "data": {
            "text/plain": [
              "<matplotlib.collections.PathCollection at 0x7f91ba8e1c50>"
            ]
          },
          "metadata": {
            "tags": []
          },
          "execution_count": 4
        },
        {
          "output_type": "display_data",
          "data": {
            "image/png": "[encoded data removed]",
            "text/plain": [
              "<Figure size 288x180 with 1 Axes>"
            ]
          },
          "metadata": {
            "tags": []
          }
        }
      ]
    },
    {
      "cell_type": "markdown",
      "metadata": {
        "id": "NL2LySjyQ2RO",
        "colab_type": "text"
      },
      "source": [
        "Notice that we specified the rgb colors as a nested array.  It's a nested array, because we can have a different color for each datapoint."
      ]
    },
    {
      "cell_type": "code",
      "metadata": {
        "id": "3rHuFy5eQ2RP",
        "colab_type": "code",
        "outputId": "100a9ac3-e99a-4c68-b952-9064f7da504a",
        "colab": {
          "base_uri": "https://localhost:8080/",
          "height": 201
        }
      },
      "source": [
        "plt.scatter(x = [9, 10, 11, 12], y = [2, 4, 6, 8], c = ['r', 'b', 'g', 'k'])"
      ],
      "execution_count": 0,
      "outputs": [
        {
          "output_type": "execute_result",
          "data": {
            "text/plain": [
              "<matplotlib.collections.PathCollection at 0x7f91ba8d7eb8>"
            ]
          },
          "metadata": {
            "tags": []
          },
          "execution_count": 9
        },
        {
          "output_type": "display_data",
          "data": {
            "image/png": "[encoded data removed]",
            "text/plain": [
              "<Figure size 288x180 with 1 Axes>"
            ]
          },
          "metadata": {
            "tags": []
          }
        }
      ]
    },
    {
      "cell_type": "markdown",
      "metadata": {
        "id": "4p45K2eTQ2RS",
        "colab_type": "text"
      },
      "source": [
        "> This can become useful in distinguishing between categorical data."
      ]
    },
    {
      "cell_type": "markdown",
      "metadata": {
        "id": "U0GP4Qm3Q2RT",
        "colab_type": "text"
      },
      "source": [
        "### Markers\n",
        "\n",
        "Beyond styling our plots with colors we can also style our plots with markers."
      ]
    },
    {
      "cell_type": "code",
      "metadata": {
        "id": "L9WD_zN3Q2RU",
        "colab_type": "code",
        "outputId": "07858b5e-acfa-4ef6-8f03-77cf420524ee",
        "colab": {
          "base_uri": "https://localhost:8080/",
          "height": 201
        }
      },
      "source": [
        "plt.scatter(x = [1, 2, 3, 4], y = [2, 4, 6, 8], marker = 's', c='k')\n",
        "plt.scatter(x = [5, 6, 7, 8], y = [2, 4, 6, 8], marker = 'o')\n",
        "plt.scatter(x = [9, 10, 11, 12], y = [2, 4, 6, 8], marker = 'x')\n",
        "plt.scatter(x = [13, 14, 15, 16], y = [2, 4, 6, 8], marker = '^')"
      ],
      "execution_count": 0,
      "outputs": [
        {
          "output_type": "execute_result",
          "data": {
            "text/plain": [
              "<matplotlib.collections.PathCollection at 0x7f91ba514cf8>"
            ]
          },
          "metadata": {
            "tags": []
          },
          "execution_count": 13
        },
        {
          "output_type": "display_data",
          "data": {
            "image/png": "[encoded data removed]",
            "text/plain": [
              "<Figure size 288x180 with 1 Axes>"
            ]
          },
          "metadata": {
            "tags": []
          }
        }
      ]
    },
    {
      "cell_type": "markdown",
      "metadata": {
        "id": "IsI5QGNsQ2RX",
        "colab_type": "text"
      },
      "source": [
        "So above we can see the following mapping between letters and shapes:"
      ]
    },
    {
      "cell_type": "markdown",
      "metadata": {
        "id": "p0UnpgwAQ2RY",
        "colab_type": "text"
      },
      "source": [
        "- s: square\n",
        "- o: circle\n",
        "- x: x\n",
        "- D: diamond\n",
        "- ^: triangle"
      ]
    },
    {
      "cell_type": "markdown",
      "metadata": {
        "id": "UxxeYWNuQ2RZ",
        "colab_type": "text"
      },
      "source": [
        "[Reference the documentation](https://matplotlib.org/api/markers_api.html) for a full list of the markers available."
      ]
    },
    {
      "cell_type": "markdown",
      "metadata": {
        "id": "sRMm1DlOQ2Ra",
        "colab_type": "text"
      },
      "source": [
        "### Line Styles"
      ]
    },
    {
      "cell_type": "markdown",
      "metadata": {
        "id": "LOLXISaPQ2Rb",
        "colab_type": "text"
      },
      "source": [
        "Then, for line plots, matplotlib gives us a variety of ways to style our lines."
      ]
    },
    {
      "cell_type": "markdown",
      "metadata": {
        "id": "yXB0UjRWQ2Rc",
        "colab_type": "text"
      },
      "source": [
        "linestyle          | description\n",
        "-------------------|------------------------------\n",
        "'-'                | solid\n",
        "'--'               | dashed\n",
        "'-.'               | dashdot\n",
        "':'                | dotted\n",
        "\"\"                 | draw nothing"
      ]
    },
    {
      "cell_type": "code",
      "metadata": {
        "id": "LmJYCqU_Q2Rd",
        "colab_type": "code",
        "outputId": "eb46ab36-b50f-4847-d1a3-832fd1f8960b",
        "colab": {
          "base_uri": "https://localhost:8080/",
          "height": 201
        }
      },
      "source": [
        "import numpy as np\n",
        "plt.plot(np.arange(10, step = 2), np.arange(10, 20, 2), '--')\n",
        "plt.plot(np.arange(10, 20, step = 2), np.arange(10, 20, 2), '-')\n",
        "plt.plot(np.arange(20, 30, step = 2), np.arange(10, 20, 2), ':')"
      ],
      "execution_count": 0,
      "outputs": [
        {
          "output_type": "execute_result",
          "data": {
            "text/plain": [
              "[<matplotlib.lines.Line2D at 0x7f91ba474fd0>]"
            ]
          },
          "metadata": {
            "tags": []
          },
          "execution_count": 14
        },
        {
          "output_type": "display_data",
          "data": {
            "image/png": "[encoded data removed]",
            "text/plain": [
              "<Figure size 288x180 with 1 Axes>"
            ]
          },
          "metadata": {
            "tags": []
          }
        }
      ]
    },
    {
      "cell_type": "markdown",
      "metadata": {
        "id": "DeFsHt-7Q2Rg",
        "colab_type": "text"
      },
      "source": [
        "### Plot function"
      ]
    },
    {
      "cell_type": "markdown",
      "metadata": {
        "id": "HEDTqNIzQ2Rh",
        "colab_type": "text"
      },
      "source": [
        "So with the plot function we are drawing a line graph where the first argument is the x values the second argument is the y values, and the third argument is the styling.  With that third argument, we can provide various styling options for our graph."
      ]
    },
    {
      "cell_type": "code",
      "metadata": {
        "id": "hO2D-NUeQ2Ri",
        "colab_type": "code",
        "outputId": "74114756-ab73-407c-8a58-10238b2902b4",
        "colab": {
          "base_uri": "https://localhost:8080/",
          "height": 201
        }
      },
      "source": [
        "plt.plot(np.arange(10, 20, step = 2), np.arange(10, 20, 2), '.-')\n",
        "plt.plot(np.arange(20, 30, step = 2), np.arange(10, 20, 2), 'g.')"
      ],
      "execution_count": 0,
      "outputs": [
        {
          "output_type": "execute_result",
          "data": {
            "text/plain": [
              "[<matplotlib.lines.Line2D at 0x7f91ba0dd710>]"
            ]
          },
          "metadata": {
            "tags": []
          },
          "execution_count": 21
        },
        {
          "output_type": "display_data",
          "data": {
            "image/png": "[encoded data removed]",
            "text/plain": [
              "<Figure size 288x180 with 1 Axes>"
            ]
          },
          "metadata": {
            "tags": []
          }
        }
      ]
    },
    {
      "cell_type": "markdown",
      "metadata": {
        "id": "kL6i0-VsQ2Rk",
        "colab_type": "text"
      },
      "source": [
        "For example, in the first plot above we first are adding a marker of `.`, as well as a dotted line.  And in the second, we are also adding the styling of the color, and then using the `.` marker to effectively draw a scatter plot. "
      ]
    },
    {
      "cell_type": "markdown",
      "metadata": {
        "id": "mAvyZWmOQ2Rl",
        "colab_type": "text"
      },
      "source": [
        "> Note that in a single call to the `plot` function we can add as many plots as we want, simply by providing more series of arguments."
      ]
    },
    {
      "cell_type": "code",
      "metadata": {
        "id": "kOn7Pnz1Q2Rm",
        "colab_type": "code",
        "outputId": "b502a7aa-703a-4bb2-9ead-c27f384a7847",
        "colab": {
          "base_uri": "https://localhost:8080/",
          "height": 184
        }
      },
      "source": [
        "import numpy as np\n",
        "import matplotlib.pyplot as pl\n",
        "x_1 = np.arange(0, 5, 1)\n",
        "x_2 = np.arange(6, 11, 1)\n",
        "x_3 = np.arange(12, 18, 1)\n",
        "\n",
        "plt.plot(x_1, x_1, 'r--', x_2, x_2*2, 'g^', x_3, x_3*4, 'bs')\n",
        "plt.show()"
      ],
      "execution_count": 0,
      "outputs": [
        {
          "output_type": "display_data",
          "data": {
            "image/png": "[encoded data removed]",
            "text/plain": [
              "<Figure size 288x180 with 1 Axes>"
            ]
          },
          "metadata": {
            "tags": []
          }
        }
      ]
    },
    {
      "cell_type": "markdown",
      "metadata": {
        "id": "ymHm9GvZQ2Rq",
        "colab_type": "text"
      },
      "source": [
        "### Summary"
      ]
    },
    {
      "cell_type": "markdown",
      "metadata": {
        "id": "uAneuIB6Q2Rr",
        "colab_type": "text"
      },
      "source": [
        "In this lesson, we saw various techniques for styling plots.  We started by seeing that we can specify the color of a plot through the `c = ` argument, and that we can specify a string with the full color name, or short name.  We also can provide the hex number, or rgb numbers as an array.\n",
        "\n",
        "We use the marker argument to change the marker type.  And saw square (s), circle (o), x (x), Diamond (D), and triangle (^) as different options.\n",
        "\n",
        "Similarly, when drawing a line graph, we line styling options such as:\n",
        "solid (-), dashed (--), and dotted (:).\n",
        "\n",
        "Then, we saw that with the plot function we can provide mutliple types of styling in the third argument (colors, markers, lines), and create multiple plots in a single call to the `plot` function."
      ]
    }
  ]
}