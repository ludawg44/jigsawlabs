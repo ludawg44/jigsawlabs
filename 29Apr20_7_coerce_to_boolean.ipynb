{
  "nbformat": 4,
  "nbformat_minor": 0,
  "metadata": {
    "kernelspec": {
      "display_name": "Python 3",
      "language": "python",
      "name": "python3"
    },
    "language_info": {
      "codemirror_mode": {
        "name": "ipython",
        "version": 3
      },
      "file_extension": ".py",
      "mimetype": "text/x-python",
      "name": "python",
      "nbconvert_exporter": "python",
      "pygments_lexer": "ipython3",
      "version": "3.7.4"
    },
    "colab": {
      "name": "Copy of 7-coerce-to-boolean.ipynb",
      "provenance": [],
      "include_colab_link": true
    }
  },
  "cells": [
    {
      "cell_type": "markdown",
      "metadata": {
        "id": "view-in-github",
        "colab_type": "text"
      },
      "source": [
        "<a href=\"https://colab.research.google.com/github/ludawg44/jigsawlabs/blob/master/29Apr20_7_coerce_to_boolean.ipynb\" target=\"_parent\"><img src=\"https://colab.research.google.com/assets/colab-badge.svg\" alt=\"Open In Colab\"/></a>"
      ]
    },
    {
      "cell_type": "markdown",
      "metadata": {
        "id": "XUohh_kkd0kv",
        "colab_type": "text"
      },
      "source": [
        "# Coercing to Booleans"
      ]
    },
    {
      "cell_type": "markdown",
      "metadata": {
        "id": "KjGVTl3Wd0kw",
        "colab_type": "text"
      },
      "source": [
        "### Introduction"
      ]
    },
    {
      "cell_type": "markdown",
      "metadata": {
        "id": "Sn9kWsBAd0kw",
        "colab_type": "text"
      },
      "source": [
        "In this lesson, we'll work through identifying and coercing data to boolean values.  This will also prepare us to identify and coerce categorical values in our dataset."
      ]
    },
    {
      "cell_type": "markdown",
      "metadata": {
        "id": "uJW3bFZKd0kx",
        "colab_type": "text"
      },
      "source": [
        "### Loading our AirBnb Data"
      ]
    },
    {
      "cell_type": "markdown",
      "metadata": {
        "id": "NCD8WM-Bd0kx",
        "colab_type": "text"
      },
      "source": [
        "For this lesson, we'll work with [AirBnb listings in Berlin](https://www.kaggle.com/brittabettendorf/berlin-airbnb-data).  Let's load our data."
      ]
    },
    {
      "cell_type": "code",
      "metadata": {
        "id": "pqhGhrczd0ky",
        "colab_type": "code",
        "colab": {}
      },
      "source": [
        "import pandas as pd\n",
        "url = \"https://raw.githubusercontent.com/jigsawlabs-student/engineering-large-datasets/master/nums_and_dates_ten_k.csv\"\n",
        "df = pd.read_csv(url, index_col = 0)"
      ],
      "execution_count": 0,
      "outputs": []
    },
    {
      "cell_type": "code",
      "metadata": {
        "id": "GZlZa9q-d0k2",
        "colab_type": "code",
        "outputId": "90de7c68-c8fd-416a-9eb4-5d40a4494e01",
        "colab": {
          "base_uri": "https://localhost:8080/",
          "height": 34
        }
      },
      "source": [
        "df.select_dtypes('object').shape"
      ],
      "execution_count": 0,
      "outputs": [
        {
          "output_type": "execute_result",
          "data": {
            "text/plain": [
              "(8000, 50)"
            ]
          },
          "metadata": {
            "tags": []
          },
          "execution_count": 2
        }
      ]
    },
    {
      "cell_type": "code",
      "metadata": {
        "id": "SXh8YX-Md0k4",
        "colab_type": "code",
        "colab": {}
      },
      "source": [
        "potential_date_cols = ['last_scraped',\n",
        " 'host_since',\n",
        " 'calendar_last_scraped',\n",
        " 'first_review',\n",
        " 'last_review']\n",
        "df[potential_date_cols] = df[potential_date_cols].astype('datetime64')"
      ],
      "execution_count": 0,
      "outputs": []
    },
    {
      "cell_type": "code",
      "metadata": {
        "id": "Em6eQ9ayd0k6",
        "colab_type": "code",
        "outputId": "677ebdf1-6aef-4d7e-a3f3-e15b95242cc7",
        "colab": {}
      },
      "source": [
        "df.shape"
      ],
      "execution_count": 0,
      "outputs": [
        {
          "output_type": "execute_result",
          "data": {
            "text/plain": [
              "(8000, 83)"
            ]
          },
          "metadata": {
            "tags": []
          },
          "execution_count": 279
        }
      ]
    },
    {
      "cell_type": "markdown",
      "metadata": {
        "id": "CCxjKRHpd0k9",
        "colab_type": "text"
      },
      "source": [
        "Lucky for us, we already have our good amount of our data already coerced.  But we still have more work to do."
      ]
    },
    {
      "cell_type": "code",
      "metadata": {
        "id": "hFZXQkaId0k-",
        "colab_type": "code",
        "outputId": "211d8186-18ff-46a2-f3f1-809e9763a3e7",
        "colab": {
          "base_uri": "https://localhost:8080/",
          "height": 34
        }
      },
      "source": [
        "object_df = df.select_dtypes(include = 'object')\n",
        "\n",
        "object_df.shape"
      ],
      "execution_count": 0,
      "outputs": [
        {
          "output_type": "execute_result",
          "data": {
            "text/plain": [
              "(8000, 45)"
            ]
          },
          "metadata": {
            "tags": []
          },
          "execution_count": 4
        }
      ]
    },
    {
      "cell_type": "code",
      "metadata": {
        "id": "eFl5fK2Yd0lA",
        "colab_type": "code",
        "colab": {}
      },
      "source": [
        "def contains_date(column):\n",
        "#     remove nas first, potentially use all\n",
        "    regex_string = (r'^\\d{1,2}-\\d{1,2}-\\d{4}$|^\\d{4}-\\d{1,2}-\\d{1,2}$' + \n",
        "'|^\\d{1,2}\\/\\d{1,2}\\/\\d{4}$|^\\d{4}\\/\\d{1,2}\\/\\d{1,2}$')\n",
        "    return column.str.contains(regex_string).any()"
      ],
      "execution_count": 0,
      "outputs": []
    },
    {
      "cell_type": "markdown",
      "metadata": {
        "id": "bCioA7ltd0lC",
        "colab_type": "text"
      },
      "source": [
        "### Feature engineering"
      ]
    },
    {
      "cell_type": "markdown",
      "metadata": {
        "id": "XDzzC7r7d0lC",
        "colab_type": "text"
      },
      "source": [
        "So a lot of our columns are still of type object.  Let's take a look at some of our object columns. "
      ]
    },
    {
      "cell_type": "code",
      "metadata": {
        "id": "lOrFXFynd0lD",
        "colab_type": "code",
        "outputId": "5b3fa989-de29-4c2f-8261-728e6a6b9f68",
        "colab": {
          "base_uri": "https://localhost:8080/",
          "height": 799
        }
      },
      "source": [
        "object_df.dtypes"
      ],
      "execution_count": 0,
      "outputs": [
        {
          "output_type": "execute_result",
          "data": {
            "text/plain": [
              "listing_url                         object\n",
              "name                                object\n",
              "summary                             object\n",
              "space                               object\n",
              "description                         object\n",
              "neighborhood_overview               object\n",
              "notes                               object\n",
              "transit                             object\n",
              "access                              object\n",
              "interaction                         object\n",
              "house_rules                         object\n",
              "picture_url                         object\n",
              "host_url                            object\n",
              "host_name                           object\n",
              "host_location                       object\n",
              "host_about                          object\n",
              "host_response_time                  object\n",
              "host_is_superhost                   object\n",
              "host_thumbnail_url                  object\n",
              "host_picture_url                    object\n",
              "host_neighbourhood                  object\n",
              "host_verifications                  object\n",
              "host_has_profile_pic                object\n",
              "host_identity_verified              object\n",
              "street                              object\n",
              "neighbourhood                       object\n",
              "neighbourhood_cleansed              object\n",
              "neighbourhood_group_cleansed        object\n",
              "city                                object\n",
              "state                               object\n",
              "zipcode                             object\n",
              "market                              object\n",
              "smart_location                      object\n",
              "is_location_exact                   object\n",
              "property_type                       object\n",
              "room_type                           object\n",
              "bed_type                            object\n",
              "amenities                           object\n",
              "calendar_updated                    object\n",
              "requires_license                    object\n",
              "license                             object\n",
              "instant_bookable                    object\n",
              "cancellation_policy                 object\n",
              "require_guest_profile_picture       object\n",
              "require_guest_phone_verification    object\n",
              "dtype: object"
            ]
          },
          "metadata": {
            "tags": []
          },
          "execution_count": 6
        }
      ]
    },
    {
      "cell_type": "markdown",
      "metadata": {
        "id": "qfeUdzgad0lF",
        "colab_type": "text"
      },
      "source": [
        "Where a larger percentage of the values in our columns repeat, we can think of them as categorical, and eventually one hot encode them.  So we wrote a method called `percent_different` that returns the percent of unique values that make up a series.  If most of the values in a series are unique, then it is not a categorical column.  \n",
        "\n",
        "So in `find_categorical`, we loop through our columns, identifying those where `percent_different` is not too large - and those are our categorical columns."
      ]
    },
    {
      "cell_type": "code",
      "metadata": {
        "id": "s_g6E9xhd0lG",
        "colab_type": "code",
        "colab": {}
      },
      "source": [
        "def percent_different(df_series):\n",
        "    series_filled = df_series.dropna()\n",
        "    return len(series_filled.unique())/len(series_filled)"
      ],
      "execution_count": 0,
      "outputs": []
    },
    {
      "cell_type": "code",
      "metadata": {
        "id": "q3D5IFAEd0lH",
        "colab_type": "code",
        "colab": {}
      },
      "source": [
        "def find_categorical(df, threshold = .5):    \n",
        "    categorical_df = pd.DataFrame({})\n",
        "    for column in df.columns:\n",
        "        if percent_different(df[column]) < threshold:\n",
        "            categorical_df[column] = df[column]\n",
        "    return categorical_df "
      ],
      "execution_count": 0,
      "outputs": []
    },
    {
      "cell_type": "markdown",
      "metadata": {
        "id": "cW4k63pUd0lK",
        "colab_type": "text"
      },
      "source": [
        "Let's see how this works."
      ]
    },
    {
      "cell_type": "code",
      "metadata": {
        "id": "zpt9lBYqd0lK",
        "colab_type": "code",
        "colab": {}
      },
      "source": [
        "potential_cat = find_categorical(object_df)"
      ],
      "execution_count": 0,
      "outputs": []
    },
    {
      "cell_type": "code",
      "metadata": {
        "id": "76P7hMMod0lM",
        "colab_type": "code",
        "outputId": "1c8c347a-42ad-4e9b-f122-40b09aecaec0",
        "colab": {
          "base_uri": "https://localhost:8080/",
          "height": 34
        }
      },
      "source": [
        "potential_cat.shape"
      ],
      "execution_count": 0,
      "outputs": [
        {
          "output_type": "execute_result",
          "data": {
            "text/plain": [
              "(8000, 27)"
            ]
          },
          "metadata": {
            "tags": []
          },
          "execution_count": 11
        }
      ]
    },
    {
      "cell_type": "code",
      "metadata": {
        "id": "hFUeiP8md0lO",
        "colab_type": "code",
        "outputId": "2a530606-dcc3-43cc-9c9a-7207ed1440ff",
        "colab": {
          "base_uri": "https://localhost:8080/",
          "height": 459
        }
      },
      "source": [
        "potential_cat[:6]"
      ],
      "execution_count": 0,
      "outputs": [
        {
          "output_type": "execute_result",
          "data": {
            "text/html": [
              "<div>\n",
              "<style scoped>\n",
              "    .dataframe tbody tr th:only-of-type {\n",
              "        vertical-align: middle;\n",
              "    }\n",
              "\n",
              "    .dataframe tbody tr th {\n",
              "        vertical-align: top;\n",
              "    }\n",
              "\n",
              "    .dataframe thead th {\n",
              "        text-align: right;\n",
              "    }\n",
              "</style>\n",
              "<table border=\"1\" class=\"dataframe\">\n",
              "  <thead>\n",
              "    <tr style=\"text-align: right;\">\n",
              "      <th></th>\n",
              "      <th>host_name</th>\n",
              "      <th>host_location</th>\n",
              "      <th>host_response_time</th>\n",
              "      <th>host_is_superhost</th>\n",
              "      <th>host_neighbourhood</th>\n",
              "      <th>host_verifications</th>\n",
              "      <th>host_has_profile_pic</th>\n",
              "      <th>host_identity_verified</th>\n",
              "      <th>street</th>\n",
              "      <th>neighbourhood</th>\n",
              "      <th>neighbourhood_cleansed</th>\n",
              "      <th>neighbourhood_group_cleansed</th>\n",
              "      <th>city</th>\n",
              "      <th>state</th>\n",
              "      <th>zipcode</th>\n",
              "      <th>market</th>\n",
              "      <th>smart_location</th>\n",
              "      <th>is_location_exact</th>\n",
              "      <th>property_type</th>\n",
              "      <th>room_type</th>\n",
              "      <th>bed_type</th>\n",
              "      <th>calendar_updated</th>\n",
              "      <th>requires_license</th>\n",
              "      <th>instant_bookable</th>\n",
              "      <th>cancellation_policy</th>\n",
              "      <th>require_guest_profile_picture</th>\n",
              "      <th>require_guest_phone_verification</th>\n",
              "    </tr>\n",
              "  </thead>\n",
              "  <tbody>\n",
              "    <tr>\n",
              "      <th>0</th>\n",
              "      <td>Ian</td>\n",
              "      <td>Key Biscayne, Florida, United States</td>\n",
              "      <td>within an hour</td>\n",
              "      <td>t</td>\n",
              "      <td>Mitte</td>\n",
              "      <td>['email', 'phone', 'reviews', 'jumio', 'offlin...</td>\n",
              "      <td>t</td>\n",
              "      <td>t</td>\n",
              "      <td>Berlin, Berlin, Germany</td>\n",
              "      <td>Mitte</td>\n",
              "      <td>Brunnenstr. Süd</td>\n",
              "      <td>Mitte</td>\n",
              "      <td>Berlin</td>\n",
              "      <td>Berlin</td>\n",
              "      <td>10119</td>\n",
              "      <td>Berlin</td>\n",
              "      <td>Berlin, Germany</td>\n",
              "      <td>f</td>\n",
              "      <td>Guesthouse</td>\n",
              "      <td>Entire home/apt</td>\n",
              "      <td>Real Bed</td>\n",
              "      <td>3 months ago</td>\n",
              "      <td>t</td>\n",
              "      <td>f</td>\n",
              "      <td>strict_14_with_grace_period</td>\n",
              "      <td>f</td>\n",
              "      <td>f</td>\n",
              "    </tr>\n",
              "    <tr>\n",
              "      <th>1</th>\n",
              "      <td>Michael</td>\n",
              "      <td>Berlin, Berlin, Germany</td>\n",
              "      <td>NaN</td>\n",
              "      <td>f</td>\n",
              "      <td>Prenzlauer Berg</td>\n",
              "      <td>['email', 'phone', 'reviews', 'jumio', 'govern...</td>\n",
              "      <td>t</td>\n",
              "      <td>t</td>\n",
              "      <td>Berlin, Berlin, Germany</td>\n",
              "      <td>NaN</td>\n",
              "      <td>Prenzlauer Berg Nordwest</td>\n",
              "      <td>Pankow</td>\n",
              "      <td>Berlin</td>\n",
              "      <td>Berlin</td>\n",
              "      <td>10437</td>\n",
              "      <td>Berlin</td>\n",
              "      <td>Berlin, Germany</td>\n",
              "      <td>t</td>\n",
              "      <td>Apartment</td>\n",
              "      <td>Private room</td>\n",
              "      <td>Real Bed</td>\n",
              "      <td>7 weeks ago</td>\n",
              "      <td>t</td>\n",
              "      <td>f</td>\n",
              "      <td>flexible</td>\n",
              "      <td>f</td>\n",
              "      <td>f</td>\n",
              "    </tr>\n",
              "    <tr>\n",
              "      <th>2</th>\n",
              "      <td>Britta</td>\n",
              "      <td>Coledale, New South Wales, Australia</td>\n",
              "      <td>within a day</td>\n",
              "      <td>f</td>\n",
              "      <td>Prenzlauer Berg</td>\n",
              "      <td>['email', 'phone', 'facebook', 'reviews', 'man...</td>\n",
              "      <td>t</td>\n",
              "      <td>t</td>\n",
              "      <td>Berlin, Berlin, Germany</td>\n",
              "      <td>Prenzlauer Berg</td>\n",
              "      <td>Prenzlauer Berg Südwest</td>\n",
              "      <td>Pankow</td>\n",
              "      <td>Berlin</td>\n",
              "      <td>Berlin</td>\n",
              "      <td>10405</td>\n",
              "      <td>Berlin</td>\n",
              "      <td>Berlin, Germany</td>\n",
              "      <td>t</td>\n",
              "      <td>Apartment</td>\n",
              "      <td>Entire home/apt</td>\n",
              "      <td>Real Bed</td>\n",
              "      <td>a week ago</td>\n",
              "      <td>t</td>\n",
              "      <td>t</td>\n",
              "      <td>strict_14_with_grace_period</td>\n",
              "      <td>f</td>\n",
              "      <td>f</td>\n",
              "    </tr>\n",
              "    <tr>\n",
              "      <th>3</th>\n",
              "      <td>Jana</td>\n",
              "      <td>Berlin, Berlin, Germany</td>\n",
              "      <td>NaN</td>\n",
              "      <td>f</td>\n",
              "      <td>Schöneberg</td>\n",
              "      <td>['email', 'phone', 'reviews', 'jumio', 'govern...</td>\n",
              "      <td>t</td>\n",
              "      <td>t</td>\n",
              "      <td>Berlin, Berlin, Germany</td>\n",
              "      <td>Schöneberg</td>\n",
              "      <td>Schöneberg-Nord</td>\n",
              "      <td>Tempelhof - Schöneberg</td>\n",
              "      <td>Berlin</td>\n",
              "      <td>Berlin</td>\n",
              "      <td>10777</td>\n",
              "      <td>Berlin</td>\n",
              "      <td>Berlin, Germany</td>\n",
              "      <td>t</td>\n",
              "      <td>Apartment</td>\n",
              "      <td>Private room</td>\n",
              "      <td>Pull-out Sofa</td>\n",
              "      <td>4 weeks ago</td>\n",
              "      <td>t</td>\n",
              "      <td>f</td>\n",
              "      <td>strict_14_with_grace_period</td>\n",
              "      <td>f</td>\n",
              "      <td>f</td>\n",
              "    </tr>\n",
              "    <tr>\n",
              "      <th>4</th>\n",
              "      <td>Bright</td>\n",
              "      <td>Berlin, Berlin, Germany</td>\n",
              "      <td>within an hour</td>\n",
              "      <td>t</td>\n",
              "      <td>Prenzlauer Berg</td>\n",
              "      <td>['email', 'phone', 'reviews', 'jumio', 'govern...</td>\n",
              "      <td>t</td>\n",
              "      <td>t</td>\n",
              "      <td>Berlin, Berlin, Germany</td>\n",
              "      <td>Prenzlauer Berg</td>\n",
              "      <td>Helmholtzplatz</td>\n",
              "      <td>Pankow</td>\n",
              "      <td>Berlin</td>\n",
              "      <td>Berlin</td>\n",
              "      <td>10437</td>\n",
              "      <td>Berlin</td>\n",
              "      <td>Berlin, Germany</td>\n",
              "      <td>t</td>\n",
              "      <td>Apartment</td>\n",
              "      <td>Private room</td>\n",
              "      <td>Real Bed</td>\n",
              "      <td>3 days ago</td>\n",
              "      <td>t</td>\n",
              "      <td>f</td>\n",
              "      <td>moderate</td>\n",
              "      <td>f</td>\n",
              "      <td>f</td>\n",
              "    </tr>\n",
              "    <tr>\n",
              "      <th>5</th>\n",
              "      <td>Philipp</td>\n",
              "      <td>Berlin, Berlin, Germany</td>\n",
              "      <td>within a few hours</td>\n",
              "      <td>f</td>\n",
              "      <td>Prenzlauer Berg</td>\n",
              "      <td>['email', 'phone', 'facebook', 'reviews', 'jum...</td>\n",
              "      <td>t</td>\n",
              "      <td>t</td>\n",
              "      <td>Berlin, Berlin, Germany</td>\n",
              "      <td>Prenzlauer Berg</td>\n",
              "      <td>Prenzlauer Berg Südwest</td>\n",
              "      <td>Pankow</td>\n",
              "      <td>Berlin</td>\n",
              "      <td>Berlin</td>\n",
              "      <td>10405</td>\n",
              "      <td>Berlin</td>\n",
              "      <td>Berlin, Germany</td>\n",
              "      <td>f</td>\n",
              "      <td>Apartment</td>\n",
              "      <td>Entire home/apt</td>\n",
              "      <td>Real Bed</td>\n",
              "      <td>2 weeks ago</td>\n",
              "      <td>t</td>\n",
              "      <td>f</td>\n",
              "      <td>strict_14_with_grace_period</td>\n",
              "      <td>f</td>\n",
              "      <td>f</td>\n",
              "    </tr>\n",
              "  </tbody>\n",
              "</table>\n",
              "</div>"
            ],
            "text/plain": [
              "  host_name  ... require_guest_phone_verification\n",
              "0       Ian  ...                                f\n",
              "1   Michael  ...                                f\n",
              "2    Britta  ...                                f\n",
              "3      Jana  ...                                f\n",
              "4    Bright  ...                                f\n",
              "5   Philipp  ...                                f\n",
              "\n",
              "[6 rows x 27 columns]"
            ]
          },
          "metadata": {
            "tags": []
          },
          "execution_count": 32
        }
      ]
    },
    {
      "cell_type": "markdown",
      "metadata": {
        "id": "SbxXups7d0lR",
        "colab_type": "text"
      },
      "source": [
        "It looks like it did a good job."
      ]
    },
    {
      "cell_type": "markdown",
      "metadata": {
        "id": "sTYX3Sz0d0lR",
        "colab_type": "text"
      },
      "source": [
        "### Combine with Selecting Categorical Columns"
      ]
    },
    {
      "cell_type": "markdown",
      "metadata": {
        "id": "cfId8kpad0lS",
        "colab_type": "text"
      },
      "source": [
        "The next step is to take a look at the values in those identified columns, to see if indeed they are full of categories.  Our `get_multiple_val_counts` method loops through a dataframe, providing the top `value_counts` values, and the related column."
      ]
    },
    {
      "cell_type": "code",
      "metadata": {
        "id": "ZqnWzRV5d0lS",
        "colab_type": "code",
        "colab": {}
      },
      "source": [
        "def get_multiple_val_counts(df, num_vals = 1):\n",
        "    return [df[column].value_counts(normalize=True).iloc[:num_vals] for column in df.columns]"
      ],
      "execution_count": 0,
      "outputs": []
    },
    {
      "cell_type": "code",
      "metadata": {
        "id": "78B51u0hd0lU",
        "colab_type": "code",
        "outputId": "06b80897-07f7-46e8-e6bb-b804e03ed967",
        "colab": {
          "base_uri": "https://localhost:8080/",
          "height": 85
        }
      },
      "source": [
        "get_multiple_val_counts(potential_cat)[:3]"
      ],
      "execution_count": 0,
      "outputs": [
        {
          "output_type": "execute_result",
          "data": {
            "text/plain": [
              "[Anna    0.00852\n",
              " Name: host_name, dtype: float64, Berlin, Berlin, Germany    0.826202\n",
              " Name: host_location, dtype: float64, within an hour    0.457895\n",
              " Name: host_response_time, dtype: float64]"
            ]
          },
          "metadata": {
            "tags": []
          },
          "execution_count": 14
        }
      ]
    },
    {
      "cell_type": "markdown",
      "metadata": {
        "id": "OwfwkbtGd0lW",
        "colab_type": "text"
      },
      "source": [
        "And summarize cats, puts this information in an easier to work with numpy array."
      ]
    },
    {
      "cell_type": "code",
      "metadata": {
        "id": "_ETL8-SSd0lW",
        "colab_type": "code",
        "colab": {}
      },
      "source": [
        "import numpy as np\n",
        "def summarize_cats(df):\n",
        "    multiple_val_counts = get_multiple_val_counts(df)\n",
        "    stacked_counts = np.vstack([np.array([val_count.name, val_count.index[0], float(val_count.values[0])]) for val_count in multiple_val_counts])\n",
        "    sorted_cols = np.argsort(stacked_counts.reshape(-1, 3)[:, 2].astype('float'))\n",
        "    return stacked_counts[sorted_cols[::-1]]"
      ],
      "execution_count": 0,
      "outputs": []
    },
    {
      "cell_type": "code",
      "metadata": {
        "id": "plWkJI0Gd0lZ",
        "colab_type": "code",
        "outputId": "faeef8a1-67d7-43fa-d9c7-7571d4898e5d",
        "colab": {
          "base_uri": "https://localhost:8080/",
          "height": 187
        }
      },
      "source": [
        "summary = summarize_cats(potential_cat)\n",
        "summary[:10]"
      ],
      "execution_count": 0,
      "outputs": [
        {
          "output_type": "execute_result",
          "data": {
            "text/plain": [
              "array([['requires_license', 't', '0.99975'],\n",
              "       ['market', 'Berlin', '0.99975'],\n",
              "       ['state', 'Berlin', '0.9978704747588626'],\n",
              "       ['host_has_profile_pic', 't', '0.9976193459466233'],\n",
              "       ['smart_location', 'Berlin, Germany', '0.99175'],\n",
              "       ['city', 'Berlin', '0.9917489686210776'],\n",
              "       ['street', 'Berlin, Berlin, Germany', '0.989125'],\n",
              "       ['require_guest_profile_picture', 'f', '0.984375'],\n",
              "       ['require_guest_phone_verification', 'f', '0.975125'],\n",
              "       ['bed_type', 'Real Bed', '0.93525']], dtype='<U55')"
            ]
          },
          "metadata": {
            "tags": []
          },
          "execution_count": 16
        }
      ]
    },
    {
      "cell_type": "markdown",
      "metadata": {
        "id": "LxuM-yZnd0lb",
        "colab_type": "text"
      },
      "source": [
        "The first column in summary is the name of the column, the second is the top value, and the last column is the percent of the column the value was in. "
      ]
    },
    {
      "cell_type": "markdown",
      "metadata": {
        "id": "agD5cE2Fd0lc",
        "colab_type": "text"
      },
      "source": [
        "### Identifying Boolean Values"
      ]
    },
    {
      "cell_type": "markdown",
      "metadata": {
        "id": "v5Nhum-bd0lc",
        "colab_type": "text"
      },
      "source": [
        "From the summary grid, we can start to see some strings that are really boolean values.  These are the columns with `t` or `f` as their top values.  "
      ]
    },
    {
      "cell_type": "code",
      "metadata": {
        "id": "HrecXnx8d0ld",
        "colab_type": "code",
        "outputId": "d027e8ed-adf8-44c6-ef26-4f42296e95a3",
        "colab": {
          "base_uri": "https://localhost:8080/",
          "height": 68
        }
      },
      "source": [
        "summary[:3]"
      ],
      "execution_count": 0,
      "outputs": [
        {
          "output_type": "execute_result",
          "data": {
            "text/plain": [
              "array([['requires_license', 't', '0.99975'],\n",
              "       ['market', 'Berlin', '0.99975'],\n",
              "       ['state', 'Berlin', '0.9978704747588626']], dtype='<U55')"
            ]
          },
          "metadata": {
            "tags": []
          },
          "execution_count": 17
        }
      ]
    },
    {
      "cell_type": "markdown",
      "metadata": {
        "id": "zvYdSs00d0le",
        "colab_type": "text"
      },
      "source": [
        "Let's select all of the columns from our summary that have values of `t` or `f`."
      ]
    },
    {
      "cell_type": "code",
      "metadata": {
        "id": "Ob_SrX6md0lf",
        "colab_type": "code",
        "colab": {}
      },
      "source": [
        "boolean_summary = summary[np.isin(summary[:, 1], ['t', 'f'])]"
      ],
      "execution_count": 0,
      "outputs": []
    },
    {
      "cell_type": "code",
      "metadata": {
        "id": "6L4OU1fVd0lg",
        "colab_type": "code",
        "outputId": "037cc919-20ae-470e-d9e4-20aa40ef1e1d",
        "colab": {
          "base_uri": "https://localhost:8080/",
          "height": 102
        }
      },
      "source": [
        "true_boolean_cols = boolean_summary[:, 0]\n",
        "true_boolean_cols"
      ],
      "execution_count": 0,
      "outputs": [
        {
          "output_type": "execute_result",
          "data": {
            "text/plain": [
              "array(['requires_license', 'host_has_profile_pic',\n",
              "       'require_guest_profile_picture',\n",
              "       'require_guest_phone_verification', 'host_is_superhost',\n",
              "       'instant_bookable', 'is_location_exact', 'host_identity_verified'],\n",
              "      dtype='<U55')"
            ]
          },
          "metadata": {
            "tags": []
          },
          "execution_count": 19
        }
      ]
    },
    {
      "cell_type": "markdown",
      "metadata": {
        "id": "3E9W2zyfd0lk",
        "colab_type": "text"
      },
      "source": [
        "From here, we see that some of these columns have `na` values."
      ]
    },
    {
      "cell_type": "code",
      "metadata": {
        "id": "lWeUFD7Ud0ll",
        "colab_type": "code",
        "outputId": "bada2eb1-655f-49cd-97c5-64accf4a99c6",
        "colab": {
          "base_uri": "https://localhost:8080/",
          "height": 170
        }
      },
      "source": [
        "potential_cat[true_boolean_cols].isna().sum()/potential_cat.shape[0]"
      ],
      "execution_count": 0,
      "outputs": [
        {
          "output_type": "execute_result",
          "data": {
            "text/plain": [
              "requires_license                    0.000000\n",
              "host_has_profile_pic                0.002375\n",
              "require_guest_profile_picture       0.000000\n",
              "require_guest_phone_verification    0.000000\n",
              "host_is_superhost                   0.002375\n",
              "instant_bookable                    0.000000\n",
              "is_location_exact                   0.000000\n",
              "host_identity_verified              0.002375\n",
              "dtype: float64"
            ]
          },
          "metadata": {
            "tags": []
          },
          "execution_count": 20
        }
      ]
    },
    {
      "cell_type": "markdown",
      "metadata": {
        "id": "nf16estbd0ln",
        "colab_type": "text"
      },
      "source": [
        "We'll have to coerce these values as well.  \n",
        "\n",
        "> It's a small enough percentage that we can just coerce them to false values."
      ]
    },
    {
      "cell_type": "markdown",
      "metadata": {
        "id": "5abZhcWjd0ln",
        "colab_type": "text"
      },
      "source": [
        "Now we'll use our MissingIndicator to convert these columns to have True or False values.  We do so, we by having the transformer set `t` to True, and all other values to False.  We'll also coerce the nan values to `f` beforehand."
      ]
    },
    {
      "cell_type": "markdown",
      "metadata": {
        "id": "UTwWbBX_d0lo",
        "colab_type": "text"
      },
      "source": [
        "> We can loop through to do this for each of our boolean columns."
      ]
    },
    {
      "cell_type": "code",
      "metadata": {
        "id": "TVlchX2ad0lo",
        "colab_type": "code",
        "colab": {}
      },
      "source": [
        "from sklearn.impute import SimpleImputer, MissingIndicator\n",
        "steps = [([col], [SimpleImputer(strategy = 'constant', missing_values= np.nan, fill_value = 'f'),\n",
        "                  MissingIndicator(missing_values = 't')\n",
        "                 ]\n",
        "         ) \n",
        "         for col in true_boolean_cols]"
      ],
      "execution_count": 0,
      "outputs": []
    },
    {
      "cell_type": "markdown",
      "metadata": {
        "id": "K7EhDL6Wd0ls",
        "colab_type": "text"
      },
      "source": [
        "And then place these steps in a DataFrameMapper."
      ]
    },
    {
      "cell_type": "code",
      "metadata": {
        "id": "_-v1KWTbd0lt",
        "colab_type": "code",
        "colab": {}
      },
      "source": [
        "from sklearn_pandas import DataFrameMapper\n",
        "boolean_mapper = DataFrameMapper(steps, df_out = True)"
      ],
      "execution_count": 0,
      "outputs": []
    },
    {
      "cell_type": "code",
      "metadata": {
        "id": "Vzup4GtNd0lv",
        "colab_type": "code",
        "colab": {}
      },
      "source": [
        "#df[bools_df.columns]"
      ],
      "execution_count": 0,
      "outputs": []
    },
    {
      "cell_type": "code",
      "metadata": {
        "id": "l0G-JIjDd0l3",
        "colab_type": "code",
        "colab": {}
      },
      "source": [
        "bool_df = boolean_mapper.fit_transform(df)"
      ],
      "execution_count": 0,
      "outputs": []
    },
    {
      "cell_type": "code",
      "metadata": {
        "id": "v1FejSl9d0l5",
        "colab_type": "code",
        "outputId": "f8453369-b8fe-4a4c-eafe-d04286053510",
        "colab": {
          "base_uri": "https://localhost:8080/",
          "height": 131
        }
      },
      "source": [
        "bool_df[:2]"
      ],
      "execution_count": 0,
      "outputs": [
        {
          "output_type": "execute_result",
          "data": {
            "text/html": [
              "<div>\n",
              "<style scoped>\n",
              "    .dataframe tbody tr th:only-of-type {\n",
              "        vertical-align: middle;\n",
              "    }\n",
              "\n",
              "    .dataframe tbody tr th {\n",
              "        vertical-align: top;\n",
              "    }\n",
              "\n",
              "    .dataframe thead th {\n",
              "        text-align: right;\n",
              "    }\n",
              "</style>\n",
              "<table border=\"1\" class=\"dataframe\">\n",
              "  <thead>\n",
              "    <tr style=\"text-align: right;\">\n",
              "      <th></th>\n",
              "      <th>requires_license</th>\n",
              "      <th>host_has_profile_pic</th>\n",
              "      <th>require_guest_profile_picture</th>\n",
              "      <th>require_guest_phone_verification</th>\n",
              "      <th>host_is_superhost</th>\n",
              "      <th>instant_bookable</th>\n",
              "      <th>is_location_exact</th>\n",
              "      <th>host_identity_verified</th>\n",
              "    </tr>\n",
              "  </thead>\n",
              "  <tbody>\n",
              "    <tr>\n",
              "      <th>0</th>\n",
              "      <td>True</td>\n",
              "      <td>True</td>\n",
              "      <td>False</td>\n",
              "      <td>False</td>\n",
              "      <td>True</td>\n",
              "      <td>False</td>\n",
              "      <td>False</td>\n",
              "      <td>True</td>\n",
              "    </tr>\n",
              "    <tr>\n",
              "      <th>1</th>\n",
              "      <td>True</td>\n",
              "      <td>True</td>\n",
              "      <td>False</td>\n",
              "      <td>False</td>\n",
              "      <td>False</td>\n",
              "      <td>False</td>\n",
              "      <td>True</td>\n",
              "      <td>True</td>\n",
              "    </tr>\n",
              "  </tbody>\n",
              "</table>\n",
              "</div>"
            ],
            "text/plain": [
              "   requires_license  ...  host_identity_verified\n",
              "0              True  ...                    True\n",
              "1              True  ...                    True\n",
              "\n",
              "[2 rows x 8 columns]"
            ]
          },
          "metadata": {
            "tags": []
          },
          "execution_count": 26
        }
      ]
    },
    {
      "cell_type": "markdown",
      "metadata": {
        "id": "Iuu6Sogbd0l7",
        "colab_type": "text"
      },
      "source": [
        "Then we can update our dataframe."
      ]
    },
    {
      "cell_type": "code",
      "metadata": {
        "id": "U5NHmW3Sd0l7",
        "colab_type": "code",
        "colab": {}
      },
      "source": [
        "df.loc[:, bool_df.columns] = bool_df"
      ],
      "execution_count": 0,
      "outputs": []
    },
    {
      "cell_type": "code",
      "metadata": {
        "id": "sHq0dVM-d0l-",
        "colab_type": "code",
        "outputId": "c7040d90-d0ae-4e87-c7b8-e9760d555e36",
        "colab": {
          "base_uri": "https://localhost:8080/",
          "height": 34
        }
      },
      "source": [
        "df.select_dtypes('object').shape"
      ],
      "execution_count": 0,
      "outputs": [
        {
          "output_type": "execute_result",
          "data": {
            "text/plain": [
              "(8000, 37)"
            ]
          },
          "metadata": {
            "tags": []
          },
          "execution_count": 28
        }
      ]
    },
    {
      "cell_type": "markdown",
      "metadata": {
        "id": "9mvFxuRkd0mA",
        "colab_type": "text"
      },
      "source": [
        "And store our dataframe."
      ]
    },
    {
      "cell_type": "code",
      "metadata": {
        "id": "iWTzK6gDd0mA",
        "colab_type": "code",
        "colab": {}
      },
      "source": [
        "df.to_csv('./listings_coerced_booleans.csv')"
      ],
      "execution_count": 0,
      "outputs": []
    },
    {
      "cell_type": "markdown",
      "metadata": {
        "id": "wMbttuT4d0mD",
        "colab_type": "text"
      },
      "source": [
        "And finally, we can store our datatypes."
      ]
    },
    {
      "cell_type": "code",
      "metadata": {
        "id": "7cOEx-Mxd0mD",
        "colab_type": "code",
        "colab": {}
      },
      "source": [
        "import json\n",
        "data = df.dtypes.astype(str).to_dict()\n",
        "\n",
        "file = './coerced_bools_dtypes.json'\n",
        "\n",
        "with open(file, 'w') as f:\n",
        "    json.dump(data, f)"
      ],
      "execution_count": 0,
      "outputs": []
    },
    {
      "cell_type": "markdown",
      "metadata": {
        "id": "TcUOBfLrd0mF",
        "colab_type": "text"
      },
      "source": [
        "Then we can use numpy to identify our remaining potential_cat columns that we should coerce."
      ]
    },
    {
      "cell_type": "code",
      "metadata": {
        "id": "Y1EbNWWMd0mF",
        "colab_type": "code",
        "outputId": "927414d9-3c4a-4909-8d8b-651963194409",
        "colab": {
          "base_uri": "https://localhost:8080/",
          "height": 119
        }
      },
      "source": [
        "import numpy as np\n",
        "remaining_cat_cols = np.setdiff1d(potential_cat.columns, bool_df.columns)\n",
        "\n",
        "remaining_cat_cols"
      ],
      "execution_count": 0,
      "outputs": [
        {
          "output_type": "execute_result",
          "data": {
            "text/plain": [
              "array(['bed_type', 'calendar_updated', 'cancellation_policy', 'city',\n",
              "       'host_location', 'host_name', 'host_neighbourhood',\n",
              "       'host_response_time', 'host_verifications', 'market',\n",
              "       'neighbourhood', 'neighbourhood_cleansed',\n",
              "       'neighbourhood_group_cleansed', 'property_type', 'room_type',\n",
              "       'smart_location', 'state', 'street', 'zipcode'], dtype=object)"
            ]
          },
          "metadata": {
            "tags": []
          },
          "execution_count": 31
        }
      ]
    },
    {
      "cell_type": "markdown",
      "metadata": {
        "id": "WX-1UCdld0mI",
        "colab_type": "text"
      },
      "source": [
        "### Summary"
      ]
    },
    {
      "cell_type": "markdown",
      "metadata": {
        "id": "jm5dWPNqd0mI",
        "colab_type": "text"
      },
      "source": [
        "In this lesson, we were introduced to some of the methods for handling boolean and categorical data.  We saw that we identified our categorical columns by looking at the percent different.  If not a large percent of a column's values are different, it is likely categorical or boolean.  We then used our `summarize_cats` method to view the top values in each of the columns, along with how often they occur.\n",
        "\n",
        "Finally, we used the `MissingImputer` to convert values in almost boolean columns to True and False values."
      ]
    }
  ]
}