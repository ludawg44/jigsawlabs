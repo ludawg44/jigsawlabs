{
  "nbformat": 4,
  "nbformat_minor": 0,
  "metadata": {
    "kernelspec": {
      "display_name": "Python 3",
      "language": "python",
      "name": "python3"
    },
    "language_info": {
      "codemirror_mode": {
        "name": "ipython",
        "version": 3
      },
      "file_extension": ".py",
      "mimetype": "text/x-python",
      "name": "python",
      "nbconvert_exporter": "python",
      "pygments_lexer": "ipython3",
      "version": "3.7.4"
    },
    "colab": {
      "name": "Copy of 7-nba-data-lab.ipynb",
      "provenance": [],
      "include_colab_link": true
    }
  },
  "cells": [
    {
      "cell_type": "markdown",
      "metadata": {
        "id": "view-in-github",
        "colab_type": "text"
      },
      "source": [
        "<a href=\"https://colab.research.google.com/github/ludawg44/jigsawlabs/blob/master/28Mar20_7_nba_data_lab.ipynb\" target=\"_parent\"><img src=\"https://colab.research.google.com/assets/colab-badge.svg\" alt=\"Open In Colab\"/></a>"
      ]
    },
    {
      "cell_type": "markdown",
      "metadata": {
        "id": "-d9pyYBWfYHn",
        "colab_type": "text"
      },
      "source": [
        "# NBA Data Lab"
      ]
    },
    {
      "cell_type": "markdown",
      "metadata": {
        "id": "FPB86XYZfYHo",
        "colab_type": "text"
      },
      "source": [
        "### Introduction"
      ]
    },
    {
      "cell_type": "markdown",
      "metadata": {
        "id": "PeKNDi-_fYHp",
        "colab_type": "text"
      },
      "source": [
        "In this lesson, we'll use our knowledge of pandas to coerce data originally drawn from the [sports reference package](https://sportsreference.readthedocs.io/en/stable/)."
      ]
    },
    {
      "cell_type": "markdown",
      "metadata": {
        "id": "vKi4hp-2fYHp",
        "colab_type": "text"
      },
      "source": [
        "### Loading the data"
      ]
    },
    {
      "cell_type": "code",
      "metadata": {
        "id": "cRcDpM2LfYHq",
        "colab_type": "code",
        "colab": {}
      },
      "source": [
        "import pandas as pd\n",
        "url = \"https://raw.githubusercontent.com/jigsawlabs-student/introductory-pandas/master/2-coercing-data/nba_players.csv?token=ANKFJMFY7KDGORDKHUCCMUK6QVGFA\"\n",
        "df = pd.read_csv(url, index_col = 0)"
      ],
      "execution_count": 0,
      "outputs": []
    },
    {
      "cell_type": "code",
      "metadata": {
        "id": "aewBJc7IfYHu",
        "colab_type": "code",
        "outputId": "d86eeffd-61fe-4713-9cc9-9e4a238937ef",
        "colab": {}
      },
      "source": [
        "df[:2]"
      ],
      "execution_count": 0,
      "outputs": [
        {
          "output_type": "execute_result",
          "data": {
            "text/html": [
              "<div>\n",
              "<style scoped>\n",
              "    .dataframe tbody tr th:only-of-type {\n",
              "        vertical-align: middle;\n",
              "    }\n",
              "\n",
              "    .dataframe tbody tr th {\n",
              "        vertical-align: top;\n",
              "    }\n",
              "\n",
              "    .dataframe thead th {\n",
              "        text-align: right;\n",
              "    }\n",
              "</style>\n",
              "<table border=\"1\" class=\"dataframe\">\n",
              "  <thead>\n",
              "    <tr style=\"text-align: right;\">\n",
              "      <th></th>\n",
              "      <th>player_id</th>\n",
              "      <th>name</th>\n",
              "      <th>weight</th>\n",
              "      <th>birth_date</th>\n",
              "      <th>height</th>\n",
              "      <th>nationality</th>\n",
              "      <th>team_abbreviation</th>\n",
              "      <th>most_recent_season</th>\n",
              "      <th>box_plus_minus</th>\n",
              "      <th>games_played</th>\n",
              "      <th>games_started</th>\n",
              "      <th>player_efficiency_rating</th>\n",
              "      <th>three_point_percentage</th>\n",
              "      <th>true_shooting_percentage</th>\n",
              "      <th>two_point_attempts</th>\n",
              "      <th>two_point_percentage</th>\n",
              "      <th>two_pointers</th>\n",
              "    </tr>\n",
              "  </thead>\n",
              "  <tbody>\n",
              "    <tr>\n",
              "      <th>0</th>\n",
              "      <td>klebima01</td>\n",
              "      <td>Maxi Kleber</td>\n",
              "      <td>240lb</td>\n",
              "      <td>1992-01-29</td>\n",
              "      <td>6-10</td>\n",
              "      <td>Germany</td>\n",
              "      <td>DAL</td>\n",
              "      <td>2018-19</td>\n",
              "      <td>0.3</td>\n",
              "      <td>209.0</td>\n",
              "      <td>75.0</td>\n",
              "      <td>13.4</td>\n",
              "      <td>0.354</td>\n",
              "      <td>0.588</td>\n",
              "      <td>529.0</td>\n",
              "      <td>0.597</td>\n",
              "      <td>316.0</td>\n",
              "    </tr>\n",
              "    <tr>\n",
              "      <th>1</th>\n",
              "      <td>wrighde01</td>\n",
              "      <td>Delon Wright</td>\n",
              "      <td>183lb</td>\n",
              "      <td>1992-04-26</td>\n",
              "      <td>6-5</td>\n",
              "      <td>United States of America</td>\n",
              "      <td>DAL</td>\n",
              "      <td>2018-19</td>\n",
              "      <td>2.2</td>\n",
              "      <td>263.0</td>\n",
              "      <td>23.0</td>\n",
              "      <td>16.0</td>\n",
              "      <td>0.345</td>\n",
              "      <td>0.549</td>\n",
              "      <td>1086.0</td>\n",
              "      <td>0.498</td>\n",
              "      <td>541.0</td>\n",
              "    </tr>\n",
              "  </tbody>\n",
              "</table>\n",
              "</div>"
            ],
            "text/plain": [
              "   player_id          name weight  birth_date height  \\\n",
              "0  klebima01   Maxi Kleber  240lb  1992-01-29   6-10   \n",
              "1  wrighde01  Delon Wright  183lb  1992-04-26    6-5   \n",
              "\n",
              "                nationality team_abbreviation most_recent_season  \\\n",
              "0                   Germany               DAL            2018-19   \n",
              "1  United States of America               DAL            2018-19   \n",
              "\n",
              "   box_plus_minus  games_played  games_started  player_efficiency_rating  \\\n",
              "0             0.3         209.0           75.0                      13.4   \n",
              "1             2.2         263.0           23.0                      16.0   \n",
              "\n",
              "   three_point_percentage  true_shooting_percentage  two_point_attempts  \\\n",
              "0                   0.354                     0.588               529.0   \n",
              "1                   0.345                     0.549              1086.0   \n",
              "\n",
              "   two_point_percentage  two_pointers  \n",
              "0                 0.597         316.0  \n",
              "1                 0.498         541.0  "
            ]
          },
          "metadata": {
            "tags": []
          },
          "execution_count": 149
        }
      ]
    },
    {
      "cell_type": "markdown",
      "metadata": {
        "id": "lHzHS5mifYHx",
        "colab_type": "text"
      },
      "source": [
        "### Exploring the data"
      ]
    },
    {
      "cell_type": "markdown",
      "metadata": {
        "id": "FUI87Q47fYHy",
        "colab_type": "text"
      },
      "source": [
        "Let's start off by looking at the different datatypes of the various columns."
      ]
    },
    {
      "cell_type": "code",
      "metadata": {
        "id": "hFjb02NLfYHy",
        "colab_type": "code",
        "colab": {}
      },
      "source": [
        "\n",
        "\n",
        "# player_id                    object\n",
        "# name                         object\n",
        "# weight                       object\n",
        "# birth_date                   object\n",
        "# height                       object\n",
        "# nationality                  object\n",
        "# team_abbreviation            object\n",
        "# most_recent_season           object\n",
        "# box_plus_minus              float64\n",
        "# ...\n",
        "# ..."
      ],
      "execution_count": 0,
      "outputs": []
    },
    {
      "cell_type": "markdown",
      "metadata": {
        "id": "uH3uKvFZfYH0",
        "colab_type": "text"
      },
      "source": [
        "As we can see the initial datatypes are all of type object, while the later ones are of type string.  Let's just select the columns of type object, and then we can get to work coercing some of the columns."
      ]
    },
    {
      "cell_type": "code",
      "metadata": {
        "id": "5aX3Gs9gfYH1",
        "colab_type": "code",
        "colab": {}
      },
      "source": [
        "players_object_df = None"
      ],
      "execution_count": 0,
      "outputs": []
    },
    {
      "cell_type": "code",
      "metadata": {
        "id": "YtAjhRdBfYH4",
        "colab_type": "code",
        "colab": {}
      },
      "source": [
        "\n",
        "players_object_df.columns\n",
        "# Index(['player_id', 'name', 'weight', 'birth_date', 'height', 'nationality',\n",
        "#        'team_abbreviation', 'most_recent_season'],\n",
        "#       dtype='object')"
      ],
      "execution_count": 0,
      "outputs": []
    },
    {
      "cell_type": "markdown",
      "metadata": {
        "id": "8Rk62V8dfYH6",
        "colab_type": "text"
      },
      "source": [
        "Ok, now columns like `weight`, `birth_date`, `height`, and `most_recent_season` are candidates to coerce into different datatypes."
      ]
    },
    {
      "cell_type": "markdown",
      "metadata": {
        "id": "TOUAOSZIfYH6",
        "colab_type": "text"
      },
      "source": [
        "Let's just select those columns."
      ]
    },
    {
      "cell_type": "code",
      "metadata": {
        "id": "fn9sHQPTfYH7",
        "colab_type": "code",
        "colab": {}
      },
      "source": [
        "df_candidates = None\n"
      ],
      "execution_count": 0,
      "outputs": []
    },
    {
      "cell_type": "code",
      "metadata": {
        "id": "BxOi3sfGfYH9",
        "colab_type": "code",
        "colab": {}
      },
      "source": [
        "df_candidates[:3]\n",
        "\n",
        "# \tweight\tbirth_date\theight\n",
        "# 0\t240lb\t1992-01-29\t6-10\n",
        "# 1\t183lb\t1992-04-26\t6-5\n",
        "# 2\t220lb\t1993-05-04\t6-7"
      ],
      "execution_count": 0,
      "outputs": []
    },
    {
      "cell_type": "markdown",
      "metadata": {
        "id": "kz__cgEZfYH_",
        "colab_type": "text"
      },
      "source": [
        "### Changing Birthdate"
      ]
    },
    {
      "cell_type": "markdown",
      "metadata": {
        "id": "BXQaWgrFfYIA",
        "colab_type": "text"
      },
      "source": [
        "Ok, let's start off by changing the birth_date column to be of type `datetime`."
      ]
    },
    {
      "cell_type": "code",
      "metadata": {
        "id": "dfUAAgMnfYIA",
        "colab_type": "code",
        "colab": {}
      },
      "source": [
        "birth_date_as_dt = None \n",
        "\n"
      ],
      "execution_count": 0,
      "outputs": []
    },
    {
      "cell_type": "code",
      "metadata": {
        "id": "MKhEtvTBfYIC",
        "colab_type": "code",
        "outputId": "1a7e62f4-29e2-4255-b58b-2267c3588fd6",
        "colab": {}
      },
      "source": [
        "birth_date_as_dt.dtype\n",
        "# dtype('<M8[ns]')"
      ],
      "execution_count": 0,
      "outputs": [
        {
          "output_type": "execute_result",
          "data": {
            "text/plain": [
              "dtype('<M8[ns]')"
            ]
          },
          "metadata": {
            "tags": []
          },
          "execution_count": 78
        }
      ]
    },
    {
      "cell_type": "markdown",
      "metadata": {
        "id": "aqc-OlCyfYIG",
        "colab_type": "text"
      },
      "source": [
        "Now that it is properly coerced, we can update the `df_candidates` dataframe with it."
      ]
    },
    {
      "cell_type": "markdown",
      "metadata": {
        "id": "v2Vr2DCffYIG",
        "colab_type": "text"
      },
      "source": [
        "> Notice how assign works, we'll ask you to use it later."
      ]
    },
    {
      "cell_type": "code",
      "metadata": {
        "id": "77JyBeeFfYIH",
        "colab_type": "code",
        "colab": {}
      },
      "source": [
        "df_candidates = df_candidates.assign(birth_date = birth_date_as_dt)"
      ],
      "execution_count": 0,
      "outputs": []
    },
    {
      "cell_type": "code",
      "metadata": {
        "id": "zcOboUB4fYIJ",
        "colab_type": "code",
        "outputId": "a0e2927a-53db-4975-df43-0238eed6189a",
        "colab": {}
      },
      "source": [
        "df_candidates.dtypes\n",
        "\n",
        "# weight                        object\n",
        "# birth_date            datetime64[ns]\n",
        "# height                        object\n",
        "# most_recent_season            object\n",
        "# dtype: object"
      ],
      "execution_count": 0,
      "outputs": [
        {
          "output_type": "execute_result",
          "data": {
            "text/plain": [
              "weight                        object\n",
              "birth_date            datetime64[ns]\n",
              "height                        object\n",
              "most_recent_season            object\n",
              "dtype: object"
            ]
          },
          "metadata": {
            "tags": []
          },
          "execution_count": 80
        }
      ]
    },
    {
      "cell_type": "markdown",
      "metadata": {
        "id": "Ux8USKYDfYIM",
        "colab_type": "text"
      },
      "source": [
        "### Weight"
      ]
    },
    {
      "cell_type": "markdown",
      "metadata": {
        "id": "4iwMzWFSfYIM",
        "colab_type": "text"
      },
      "source": [
        "Now let's move onto coercing the weight column.  As we saw, there are a number of ways that we can change weight, so that we only have a digits in each entry.  Try slicing the string, and then try using the replace method to coerce the string so that it only includes digits. \n",
        "\n",
        "* Using slice"
      ]
    },
    {
      "cell_type": "code",
      "metadata": {
        "id": "vyH9aL9rfYIM",
        "colab_type": "code",
        "colab": {}
      },
      "source": [
        "sliced_weights = None\n"
      ],
      "execution_count": 0,
      "outputs": []
    },
    {
      "cell_type": "code",
      "metadata": {
        "id": "hYeA9I3QfYIO",
        "colab_type": "code",
        "colab": {}
      },
      "source": [
        "sliced_weights[:3]\n",
        "\n",
        "# 0    240\n",
        "# 1    183\n",
        "# 2    220\n",
        "# Name: weight, dtype: object"
      ],
      "execution_count": 0,
      "outputs": []
    },
    {
      "cell_type": "markdown",
      "metadata": {
        "id": "1PUMkyKCfYIR",
        "colab_type": "text"
      },
      "source": [
        "* Using replace"
      ]
    },
    {
      "cell_type": "code",
      "metadata": {
        "id": "coadETRCfYIR",
        "colab_type": "code",
        "colab": {}
      },
      "source": [
        "replaced_weights = None"
      ],
      "execution_count": 0,
      "outputs": []
    },
    {
      "cell_type": "code",
      "metadata": {
        "id": "xkz8_XMsfYIT",
        "colab_type": "code",
        "colab": {}
      },
      "source": [
        "replaced_weights[:2]\n",
        "\n",
        "# 0    240\n",
        "# 1    183\n",
        "# Name: weight, dtype: object"
      ],
      "execution_count": 0,
      "outputs": []
    },
    {
      "cell_type": "markdown",
      "metadata": {
        "id": "Q0pTvMvpfYIW",
        "colab_type": "text"
      },
      "source": [
        "Now let's change the series to type integer."
      ]
    },
    {
      "cell_type": "code",
      "metadata": {
        "id": "2iAnhsx1fYIX",
        "colab_type": "code",
        "colab": {}
      },
      "source": [
        "import numpy as np\n",
        "weight_int = None"
      ],
      "execution_count": 0,
      "outputs": []
    },
    {
      "cell_type": "code",
      "metadata": {
        "id": "FKA7PUStfYIZ",
        "colab_type": "code",
        "outputId": "290cd832-dc1e-416d-cc54-0b7a2e1a6bcc",
        "colab": {}
      },
      "source": [
        "weight_int.dtype\n",
        "# dtype('int64')"
      ],
      "execution_count": 0,
      "outputs": [
        {
          "output_type": "execute_result",
          "data": {
            "text/plain": [
              "dtype('int64')"
            ]
          },
          "metadata": {
            "tags": []
          },
          "execution_count": 84
        }
      ]
    },
    {
      "cell_type": "markdown",
      "metadata": {
        "id": "Xh9lCKnwfYIb",
        "colab_type": "text"
      },
      "source": [
        "And then we'll add it to our `df_candidates`."
      ]
    },
    {
      "cell_type": "markdown",
      "metadata": {
        "id": "1uii2o7FfYIb",
        "colab_type": "text"
      },
      "source": [
        "> We'll assign the column for you."
      ]
    },
    {
      "cell_type": "code",
      "metadata": {
        "id": "FEi1hNegfYIb",
        "colab_type": "code",
        "colab": {}
      },
      "source": [
        "df_candidates = df_candidates.assign(weight = weight_int)"
      ],
      "execution_count": 0,
      "outputs": []
    },
    {
      "cell_type": "code",
      "metadata": {
        "id": "YO1yf4G_fYId",
        "colab_type": "code",
        "outputId": "f960a5d5-450e-44fe-9a4d-4f48d2019b92",
        "colab": {}
      },
      "source": [
        "df_candidates.dtypes\n",
        "\n",
        "\n",
        "# weight                         int64\n",
        "# birth_date            datetime64[ns]\n",
        "# height                        object\n",
        "# most_recent_season            object\n",
        "# dtype: object"
      ],
      "execution_count": 0,
      "outputs": [
        {
          "output_type": "execute_result",
          "data": {
            "text/plain": [
              "weight                         int64\n",
              "birth_date            datetime64[ns]\n",
              "height                        object\n",
              "most_recent_season            object\n",
              "dtype: object"
            ]
          },
          "metadata": {
            "tags": []
          },
          "execution_count": 86
        }
      ]
    },
    {
      "cell_type": "markdown",
      "metadata": {
        "id": "swp_jbO7fYIh",
        "colab_type": "text"
      },
      "source": [
        "### Coercing Season"
      ]
    },
    {
      "cell_type": "markdown",
      "metadata": {
        "id": "ImtuMJ0afYIh",
        "colab_type": "text"
      },
      "source": [
        "Now let's change the `most_recent_season` column.  Change it so that it only lists the latter year.  (Eg. 2018-19 should be changed to 2019, and 2017-2018 to 2018)."
      ]
    },
    {
      "cell_type": "code",
      "metadata": {
        "id": "mBRPJqt4fYIh",
        "colab_type": "code",
        "colab": {}
      },
      "source": [
        ""
      ],
      "execution_count": 0,
      "outputs": []
    },
    {
      "cell_type": "code",
      "metadata": {
        "id": "xogFgaQRfYIj",
        "colab_type": "code",
        "outputId": "169e3541-b954-4ea9-d913-b65a32b40e63",
        "colab": {}
      },
      "source": [
        "recent_season[:3]\n",
        "\n",
        "# 0    2019.0\n",
        "# 1    2019.0\n",
        "# 2    2019.0"
      ],
      "execution_count": 0,
      "outputs": [
        {
          "output_type": "execute_result",
          "data": {
            "text/plain": [
              "0    2019.0\n",
              "1    2019.0\n",
              "2    2019.0\n",
              "Name: most_recent_season, dtype: float64"
            ]
          },
          "metadata": {
            "tags": []
          },
          "execution_count": 88
        }
      ]
    },
    {
      "cell_type": "markdown",
      "metadata": {
        "id": "QmdmU4jVfYIm",
        "colab_type": "text"
      },
      "source": [
        "Now update `df_candidates` to use the `recent_season` column, using the `assign` method."
      ]
    },
    {
      "cell_type": "code",
      "metadata": {
        "id": "Sx5X21SwfYIm",
        "colab_type": "code",
        "colab": {}
      },
      "source": [
        "# update df_candidates here"
      ],
      "execution_count": 0,
      "outputs": []
    },
    {
      "cell_type": "code",
      "metadata": {
        "id": "FtHXyuYSfYIo",
        "colab_type": "code",
        "colab": {}
      },
      "source": [
        "df_candidates.dtypes\n",
        "\n",
        "# weight                         int64\n",
        "# birth_date            datetime64[ns]\n",
        "# height                        object\n",
        "# most_recent_season           float64\n",
        "# dtype: object"
      ],
      "execution_count": 0,
      "outputs": []
    },
    {
      "cell_type": "markdown",
      "metadata": {
        "id": "xmEijpivfYIq",
        "colab_type": "text"
      },
      "source": [
        "### Changing Height"
      ]
    },
    {
      "cell_type": "markdown",
      "metadata": {
        "id": "aHKydIaDfYIq",
        "colab_type": "text"
      },
      "source": [
        "Here we'll need to use the height series to calculate the height in inches of each player.  Assign this new series to the variable `total_inches`."
      ]
    },
    {
      "cell_type": "code",
      "metadata": {
        "id": "_Sga7KvhfYIr",
        "colab_type": "code",
        "colab": {}
      },
      "source": [
        "# "
      ],
      "execution_count": 0,
      "outputs": []
    },
    {
      "cell_type": "code",
      "metadata": {
        "id": "1GaN9I6wfYIt",
        "colab_type": "code",
        "outputId": "d492934c-7086-4f58-969c-22752379991b",
        "colab": {}
      },
      "source": [
        "total_inches[:5]\n",
        "# 0    82\n",
        "# 1    77\n",
        "# 2    79\n",
        "# 3    77\n",
        "# 4    74"
      ],
      "execution_count": 0,
      "outputs": [
        {
          "output_type": "execute_result",
          "data": {
            "text/plain": [
              "0    82\n",
              "1    77\n",
              "2    79\n",
              "3    77\n",
              "4    74\n",
              "Name: height, dtype: int64"
            ]
          },
          "metadata": {
            "tags": []
          },
          "execution_count": 108
        }
      ]
    },
    {
      "cell_type": "markdown",
      "metadata": {
        "id": "hoFysJ_5fYIv",
        "colab_type": "text"
      },
      "source": [
        "Next, update `df_candidates` to use the new column."
      ]
    },
    {
      "cell_type": "code",
      "metadata": {
        "id": "GwDbQeBifYIv",
        "colab_type": "code",
        "colab": {}
      },
      "source": [
        "# write code here"
      ],
      "execution_count": 0,
      "outputs": []
    },
    {
      "cell_type": "code",
      "metadata": {
        "id": "4ZlOx5FqfYIx",
        "colab_type": "code",
        "outputId": "7ebbf81b-cae6-4fd6-9d59-0e3008534051",
        "colab": {}
      },
      "source": [
        "df_candidates.dtypes\n",
        "# weight                         int64\n",
        "# birth_date            datetime64[ns]\n",
        "# height                         int64\n",
        "# most_recent_season           float64\n",
        "# dtype: object"
      ],
      "execution_count": 0,
      "outputs": [
        {
          "output_type": "execute_result",
          "data": {
            "text/plain": [
              "weight                         int64\n",
              "birth_date            datetime64[ns]\n",
              "height                         int64\n",
              "most_recent_season           float64\n",
              "dtype: object"
            ]
          },
          "metadata": {
            "tags": []
          },
          "execution_count": 114
        }
      ]
    },
    {
      "cell_type": "markdown",
      "metadata": {
        "id": "EnSp8krqfYIz",
        "colab_type": "text"
      },
      "source": [
        "### Updating the original dataframe"
      ]
    },
    {
      "cell_type": "markdown",
      "metadata": {
        "id": "19zFQHX8fYI0",
        "colab_type": "text"
      },
      "source": [
        "Now that we have coerced all of our data, it's time to combine this with the data from our original dataframe."
      ]
    },
    {
      "cell_type": "markdown",
      "metadata": {
        "id": "u-y7a61DfYI0",
        "colab_type": "text"
      },
      "source": [
        "> Here's our original dataframe."
      ]
    },
    {
      "cell_type": "code",
      "metadata": {
        "id": "qx0m8nXmfYI1",
        "colab_type": "code",
        "outputId": "76886109-cffd-4770-b27b-a4c36c6ea24e",
        "colab": {}
      },
      "source": [
        "df[:2]"
      ],
      "execution_count": 0,
      "outputs": [
        {
          "output_type": "execute_result",
          "data": {
            "text/html": [
              "<div>\n",
              "<style scoped>\n",
              "    .dataframe tbody tr th:only-of-type {\n",
              "        vertical-align: middle;\n",
              "    }\n",
              "\n",
              "    .dataframe tbody tr th {\n",
              "        vertical-align: top;\n",
              "    }\n",
              "\n",
              "    .dataframe thead th {\n",
              "        text-align: right;\n",
              "    }\n",
              "</style>\n",
              "<table border=\"1\" class=\"dataframe\">\n",
              "  <thead>\n",
              "    <tr style=\"text-align: right;\">\n",
              "      <th></th>\n",
              "      <th>player_id</th>\n",
              "      <th>name</th>\n",
              "      <th>weight</th>\n",
              "      <th>birth_date</th>\n",
              "      <th>height</th>\n",
              "      <th>nationality</th>\n",
              "      <th>team_abbreviation</th>\n",
              "      <th>most_recent_season</th>\n",
              "      <th>box_plus_minus</th>\n",
              "      <th>games_played</th>\n",
              "      <th>games_started</th>\n",
              "      <th>player_efficiency_rating</th>\n",
              "      <th>three_point_percentage</th>\n",
              "      <th>true_shooting_percentage</th>\n",
              "      <th>two_point_attempts</th>\n",
              "      <th>two_point_percentage</th>\n",
              "      <th>two_pointers</th>\n",
              "    </tr>\n",
              "  </thead>\n",
              "  <tbody>\n",
              "    <tr>\n",
              "      <th>0</th>\n",
              "      <td>klebima01</td>\n",
              "      <td>Maxi Kleber</td>\n",
              "      <td>240lb</td>\n",
              "      <td>1992-01-29</td>\n",
              "      <td>6-10</td>\n",
              "      <td>Germany</td>\n",
              "      <td>DAL</td>\n",
              "      <td>2018-19</td>\n",
              "      <td>0.3</td>\n",
              "      <td>209.0</td>\n",
              "      <td>75.0</td>\n",
              "      <td>13.4</td>\n",
              "      <td>0.354</td>\n",
              "      <td>0.588</td>\n",
              "      <td>529.0</td>\n",
              "      <td>0.597</td>\n",
              "      <td>316.0</td>\n",
              "    </tr>\n",
              "    <tr>\n",
              "      <th>1</th>\n",
              "      <td>wrighde01</td>\n",
              "      <td>Delon Wright</td>\n",
              "      <td>183lb</td>\n",
              "      <td>1992-04-26</td>\n",
              "      <td>6-5</td>\n",
              "      <td>United States of America</td>\n",
              "      <td>DAL</td>\n",
              "      <td>2018-19</td>\n",
              "      <td>2.2</td>\n",
              "      <td>263.0</td>\n",
              "      <td>23.0</td>\n",
              "      <td>16.0</td>\n",
              "      <td>0.345</td>\n",
              "      <td>0.549</td>\n",
              "      <td>1086.0</td>\n",
              "      <td>0.498</td>\n",
              "      <td>541.0</td>\n",
              "    </tr>\n",
              "  </tbody>\n",
              "</table>\n",
              "</div>"
            ],
            "text/plain": [
              "   player_id          name weight  birth_date height  \\\n",
              "0  klebima01   Maxi Kleber  240lb  1992-01-29   6-10   \n",
              "1  wrighde01  Delon Wright  183lb  1992-04-26    6-5   \n",
              "\n",
              "                nationality team_abbreviation most_recent_season  \\\n",
              "0                   Germany               DAL            2018-19   \n",
              "1  United States of America               DAL            2018-19   \n",
              "\n",
              "   box_plus_minus  games_played  games_started  player_efficiency_rating  \\\n",
              "0             0.3         209.0           75.0                      13.4   \n",
              "1             2.2         263.0           23.0                      16.0   \n",
              "\n",
              "   three_point_percentage  true_shooting_percentage  two_point_attempts  \\\n",
              "0                   0.354                     0.588               529.0   \n",
              "1                   0.345                     0.549              1086.0   \n",
              "\n",
              "   two_point_percentage  two_pointers  \n",
              "0                 0.597         316.0  \n",
              "1                 0.498         541.0  "
            ]
          },
          "metadata": {
            "tags": []
          },
          "execution_count": 115
        }
      ]
    },
    {
      "cell_type": "markdown",
      "metadata": {
        "id": "kwp_gLg_fYI2",
        "colab_type": "text"
      },
      "source": [
        "> And these are the columns we wish to replace."
      ]
    },
    {
      "cell_type": "code",
      "metadata": {
        "id": "nWH1OD_SfYI3",
        "colab_type": "code",
        "outputId": "c356b377-b491-4c93-d815-d9377b9a03ec",
        "colab": {}
      },
      "source": [
        "df_candidates.columns"
      ],
      "execution_count": 0,
      "outputs": [
        {
          "output_type": "execute_result",
          "data": {
            "text/plain": [
              "Index(['weight', 'birth_date', 'height', 'most_recent_season'], dtype='object')"
            ]
          },
          "metadata": {
            "tags": []
          },
          "execution_count": 116
        }
      ]
    },
    {
      "cell_type": "markdown",
      "metadata": {
        "id": "xmdyWaIHfYI5",
        "colab_type": "text"
      },
      "source": [
        "> So we first select all of the columns from our original dataframe that we will not be replacing."
      ]
    },
    {
      "cell_type": "code",
      "metadata": {
        "id": "ecKRJWRcfYI5",
        "colab_type": "code",
        "colab": {}
      },
      "source": [
        "original_cols = df.loc[:, ~df.columns.isin(df_candidates.columns)]"
      ],
      "execution_count": 0,
      "outputs": []
    },
    {
      "cell_type": "code",
      "metadata": {
        "id": "0iSGQaKBfYI7",
        "colab_type": "code",
        "outputId": "8a33362f-6dc4-4496-876f-5eb0ee3b1da7",
        "colab": {}
      },
      "source": [
        "original_cols[:2]"
      ],
      "execution_count": 0,
      "outputs": [
        {
          "output_type": "execute_result",
          "data": {
            "text/html": [
              "<div>\n",
              "<style scoped>\n",
              "    .dataframe tbody tr th:only-of-type {\n",
              "        vertical-align: middle;\n",
              "    }\n",
              "\n",
              "    .dataframe tbody tr th {\n",
              "        vertical-align: top;\n",
              "    }\n",
              "\n",
              "    .dataframe thead th {\n",
              "        text-align: right;\n",
              "    }\n",
              "</style>\n",
              "<table border=\"1\" class=\"dataframe\">\n",
              "  <thead>\n",
              "    <tr style=\"text-align: right;\">\n",
              "      <th></th>\n",
              "      <th>player_id</th>\n",
              "      <th>name</th>\n",
              "      <th>nationality</th>\n",
              "      <th>team_abbreviation</th>\n",
              "      <th>box_plus_minus</th>\n",
              "      <th>games_played</th>\n",
              "      <th>games_started</th>\n",
              "      <th>player_efficiency_rating</th>\n",
              "      <th>three_point_percentage</th>\n",
              "      <th>true_shooting_percentage</th>\n",
              "      <th>two_point_attempts</th>\n",
              "      <th>two_point_percentage</th>\n",
              "      <th>two_pointers</th>\n",
              "    </tr>\n",
              "  </thead>\n",
              "  <tbody>\n",
              "    <tr>\n",
              "      <th>0</th>\n",
              "      <td>klebima01</td>\n",
              "      <td>Maxi Kleber</td>\n",
              "      <td>Germany</td>\n",
              "      <td>DAL</td>\n",
              "      <td>0.3</td>\n",
              "      <td>209.0</td>\n",
              "      <td>75.0</td>\n",
              "      <td>13.4</td>\n",
              "      <td>0.354</td>\n",
              "      <td>0.588</td>\n",
              "      <td>529.0</td>\n",
              "      <td>0.597</td>\n",
              "      <td>316.0</td>\n",
              "    </tr>\n",
              "    <tr>\n",
              "      <th>1</th>\n",
              "      <td>wrighde01</td>\n",
              "      <td>Delon Wright</td>\n",
              "      <td>United States of America</td>\n",
              "      <td>DAL</td>\n",
              "      <td>2.2</td>\n",
              "      <td>263.0</td>\n",
              "      <td>23.0</td>\n",
              "      <td>16.0</td>\n",
              "      <td>0.345</td>\n",
              "      <td>0.549</td>\n",
              "      <td>1086.0</td>\n",
              "      <td>0.498</td>\n",
              "      <td>541.0</td>\n",
              "    </tr>\n",
              "  </tbody>\n",
              "</table>\n",
              "</div>"
            ],
            "text/plain": [
              "   player_id          name               nationality team_abbreviation  \\\n",
              "0  klebima01   Maxi Kleber                   Germany               DAL   \n",
              "1  wrighde01  Delon Wright  United States of America               DAL   \n",
              "\n",
              "   box_plus_minus  games_played  games_started  player_efficiency_rating  \\\n",
              "0             0.3         209.0           75.0                      13.4   \n",
              "1             2.2         263.0           23.0                      16.0   \n",
              "\n",
              "   three_point_percentage  true_shooting_percentage  two_point_attempts  \\\n",
              "0                   0.354                     0.588               529.0   \n",
              "1                   0.345                     0.549              1086.0   \n",
              "\n",
              "   two_point_percentage  two_pointers  \n",
              "0                 0.597         316.0  \n",
              "1                 0.498         541.0  "
            ]
          },
          "metadata": {
            "tags": []
          },
          "execution_count": 125
        }
      ]
    },
    {
      "cell_type": "markdown",
      "metadata": {
        "id": "nJeGC0GWfYI9",
        "colab_type": "text"
      },
      "source": [
        "> And then we merge the columns from the original dataframe, with the newly coerced dataframe."
      ]
    },
    {
      "cell_type": "code",
      "metadata": {
        "id": "u8W9HOoRfYI-",
        "colab_type": "code",
        "colab": {}
      },
      "source": [
        "updated_players = df_candidates.merge(original_cols, left_index=True, right_index=True)"
      ],
      "execution_count": 0,
      "outputs": []
    },
    {
      "cell_type": "code",
      "metadata": {
        "id": "EWqXerWBfYJA",
        "colab_type": "code",
        "outputId": "0ae52fb0-6126-43fd-ddd6-ade6a26cb1da",
        "colab": {}
      },
      "source": [
        "updated_players[:2]"
      ],
      "execution_count": 0,
      "outputs": [
        {
          "output_type": "execute_result",
          "data": {
            "text/html": [
              "<div>\n",
              "<style scoped>\n",
              "    .dataframe tbody tr th:only-of-type {\n",
              "        vertical-align: middle;\n",
              "    }\n",
              "\n",
              "    .dataframe tbody tr th {\n",
              "        vertical-align: top;\n",
              "    }\n",
              "\n",
              "    .dataframe thead th {\n",
              "        text-align: right;\n",
              "    }\n",
              "</style>\n",
              "<table border=\"1\" class=\"dataframe\">\n",
              "  <thead>\n",
              "    <tr style=\"text-align: right;\">\n",
              "      <th></th>\n",
              "      <th>weight</th>\n",
              "      <th>birth_date</th>\n",
              "      <th>height</th>\n",
              "      <th>most_recent_season</th>\n",
              "      <th>player_id</th>\n",
              "      <th>name</th>\n",
              "      <th>nationality</th>\n",
              "      <th>team_abbreviation</th>\n",
              "      <th>box_plus_minus</th>\n",
              "      <th>games_played</th>\n",
              "      <th>games_started</th>\n",
              "      <th>player_efficiency_rating</th>\n",
              "      <th>three_point_percentage</th>\n",
              "      <th>true_shooting_percentage</th>\n",
              "      <th>two_point_attempts</th>\n",
              "      <th>two_point_percentage</th>\n",
              "      <th>two_pointers</th>\n",
              "    </tr>\n",
              "  </thead>\n",
              "  <tbody>\n",
              "    <tr>\n",
              "      <th>0</th>\n",
              "      <td>240</td>\n",
              "      <td>1992-01-29</td>\n",
              "      <td>82</td>\n",
              "      <td>2019.0</td>\n",
              "      <td>klebima01</td>\n",
              "      <td>Maxi Kleber</td>\n",
              "      <td>Germany</td>\n",
              "      <td>DAL</td>\n",
              "      <td>0.3</td>\n",
              "      <td>209.0</td>\n",
              "      <td>75.0</td>\n",
              "      <td>13.4</td>\n",
              "      <td>0.354</td>\n",
              "      <td>0.588</td>\n",
              "      <td>529.0</td>\n",
              "      <td>0.597</td>\n",
              "      <td>316.0</td>\n",
              "    </tr>\n",
              "    <tr>\n",
              "      <th>1</th>\n",
              "      <td>183</td>\n",
              "      <td>1992-04-26</td>\n",
              "      <td>77</td>\n",
              "      <td>2019.0</td>\n",
              "      <td>wrighde01</td>\n",
              "      <td>Delon Wright</td>\n",
              "      <td>United States of America</td>\n",
              "      <td>DAL</td>\n",
              "      <td>2.2</td>\n",
              "      <td>263.0</td>\n",
              "      <td>23.0</td>\n",
              "      <td>16.0</td>\n",
              "      <td>0.345</td>\n",
              "      <td>0.549</td>\n",
              "      <td>1086.0</td>\n",
              "      <td>0.498</td>\n",
              "      <td>541.0</td>\n",
              "    </tr>\n",
              "  </tbody>\n",
              "</table>\n",
              "</div>"
            ],
            "text/plain": [
              "   weight birth_date  height  most_recent_season  player_id          name  \\\n",
              "0     240 1992-01-29      82              2019.0  klebima01   Maxi Kleber   \n",
              "1     183 1992-04-26      77              2019.0  wrighde01  Delon Wright   \n",
              "\n",
              "                nationality team_abbreviation  box_plus_minus  games_played  \\\n",
              "0                   Germany               DAL             0.3         209.0   \n",
              "1  United States of America               DAL             2.2         263.0   \n",
              "\n",
              "   games_started  player_efficiency_rating  three_point_percentage  \\\n",
              "0           75.0                      13.4                   0.354   \n",
              "1           23.0                      16.0                   0.345   \n",
              "\n",
              "   true_shooting_percentage  two_point_attempts  two_point_percentage  \\\n",
              "0                     0.588               529.0                 0.597   \n",
              "1                     0.549              1086.0                 0.498   \n",
              "\n",
              "   two_pointers  \n",
              "0         316.0  \n",
              "1         541.0  "
            ]
          },
          "metadata": {
            "tags": []
          },
          "execution_count": 131
        }
      ]
    },
    {
      "cell_type": "markdown",
      "metadata": {
        "id": "CEVhWluFfYJC",
        "colab_type": "text"
      },
      "source": [
        "Let's make sure that the data lines up with our original."
      ]
    },
    {
      "cell_type": "code",
      "metadata": {
        "id": "HN5cXHwbfYJC",
        "colab_type": "code",
        "outputId": "77d27aad-7574-4d61-ad07-870a11e5a847",
        "colab": {}
      },
      "source": [
        "df[:2]"
      ],
      "execution_count": 0,
      "outputs": [
        {
          "output_type": "execute_result",
          "data": {
            "text/html": [
              "<div>\n",
              "<style scoped>\n",
              "    .dataframe tbody tr th:only-of-type {\n",
              "        vertical-align: middle;\n",
              "    }\n",
              "\n",
              "    .dataframe tbody tr th {\n",
              "        vertical-align: top;\n",
              "    }\n",
              "\n",
              "    .dataframe thead th {\n",
              "        text-align: right;\n",
              "    }\n",
              "</style>\n",
              "<table border=\"1\" class=\"dataframe\">\n",
              "  <thead>\n",
              "    <tr style=\"text-align: right;\">\n",
              "      <th></th>\n",
              "      <th>player_id</th>\n",
              "      <th>name</th>\n",
              "      <th>weight</th>\n",
              "      <th>birth_date</th>\n",
              "      <th>height</th>\n",
              "      <th>nationality</th>\n",
              "      <th>team_abbreviation</th>\n",
              "      <th>most_recent_season</th>\n",
              "      <th>box_plus_minus</th>\n",
              "      <th>games_played</th>\n",
              "      <th>games_started</th>\n",
              "      <th>player_efficiency_rating</th>\n",
              "      <th>three_point_percentage</th>\n",
              "      <th>true_shooting_percentage</th>\n",
              "      <th>two_point_attempts</th>\n",
              "      <th>two_point_percentage</th>\n",
              "      <th>two_pointers</th>\n",
              "    </tr>\n",
              "  </thead>\n",
              "  <tbody>\n",
              "    <tr>\n",
              "      <th>0</th>\n",
              "      <td>klebima01</td>\n",
              "      <td>Maxi Kleber</td>\n",
              "      <td>240lb</td>\n",
              "      <td>1992-01-29</td>\n",
              "      <td>6-10</td>\n",
              "      <td>Germany</td>\n",
              "      <td>DAL</td>\n",
              "      <td>2018-19</td>\n",
              "      <td>0.3</td>\n",
              "      <td>209.0</td>\n",
              "      <td>75.0</td>\n",
              "      <td>13.4</td>\n",
              "      <td>0.354</td>\n",
              "      <td>0.588</td>\n",
              "      <td>529.0</td>\n",
              "      <td>0.597</td>\n",
              "      <td>316.0</td>\n",
              "    </tr>\n",
              "    <tr>\n",
              "      <th>1</th>\n",
              "      <td>wrighde01</td>\n",
              "      <td>Delon Wright</td>\n",
              "      <td>183lb</td>\n",
              "      <td>1992-04-26</td>\n",
              "      <td>6-5</td>\n",
              "      <td>United States of America</td>\n",
              "      <td>DAL</td>\n",
              "      <td>2018-19</td>\n",
              "      <td>2.2</td>\n",
              "      <td>263.0</td>\n",
              "      <td>23.0</td>\n",
              "      <td>16.0</td>\n",
              "      <td>0.345</td>\n",
              "      <td>0.549</td>\n",
              "      <td>1086.0</td>\n",
              "      <td>0.498</td>\n",
              "      <td>541.0</td>\n",
              "    </tr>\n",
              "  </tbody>\n",
              "</table>\n",
              "</div>"
            ],
            "text/plain": [
              "   player_id          name weight  birth_date height  \\\n",
              "0  klebima01   Maxi Kleber  240lb  1992-01-29   6-10   \n",
              "1  wrighde01  Delon Wright  183lb  1992-04-26    6-5   \n",
              "\n",
              "                nationality team_abbreviation most_recent_season  \\\n",
              "0                   Germany               DAL            2018-19   \n",
              "1  United States of America               DAL            2018-19   \n",
              "\n",
              "   box_plus_minus  games_played  games_started  player_efficiency_rating  \\\n",
              "0             0.3         209.0           75.0                      13.4   \n",
              "1             2.2         263.0           23.0                      16.0   \n",
              "\n",
              "   three_point_percentage  true_shooting_percentage  two_point_attempts  \\\n",
              "0                   0.354                     0.588               529.0   \n",
              "1                   0.345                     0.549              1086.0   \n",
              "\n",
              "   two_point_percentage  two_pointers  \n",
              "0                 0.597         316.0  \n",
              "1                 0.498         541.0  "
            ]
          },
          "metadata": {
            "tags": []
          },
          "execution_count": 132
        }
      ]
    },
    {
      "cell_type": "markdown",
      "metadata": {
        "id": "ojLO2XikfYJE",
        "colab_type": "text"
      },
      "source": [
        "And then, let's reorder the columns of our `updated_players` dataframe."
      ]
    },
    {
      "cell_type": "code",
      "metadata": {
        "id": "FNyX0HUvfYJF",
        "colab_type": "code",
        "outputId": "42ac95c5-1ecb-4768-f14d-2c79d87dca66",
        "colab": {}
      },
      "source": [
        "updated_players.columns"
      ],
      "execution_count": 0,
      "outputs": [
        {
          "output_type": "execute_result",
          "data": {
            "text/plain": [
              "Index(['weight', 'birth_date', 'height', 'most_recent_season', 'player_id',\n",
              "       'name', 'nationality', 'team_abbreviation', 'box_plus_minus',\n",
              "       'games_played', 'games_started', 'player_efficiency_rating',\n",
              "       'three_point_percentage', 'true_shooting_percentage',\n",
              "       'two_point_attempts', 'two_point_percentage', 'two_pointers'],\n",
              "      dtype='object')"
            ]
          },
          "metadata": {
            "tags": []
          },
          "execution_count": 133
        }
      ]
    },
    {
      "cell_type": "code",
      "metadata": {
        "id": "WnE3RtgafYJH",
        "colab_type": "code",
        "outputId": "3e1d1db8-b553-48b3-8d19-cce5112ed835",
        "colab": {}
      },
      "source": [
        "df.columns"
      ],
      "execution_count": 0,
      "outputs": [
        {
          "output_type": "execute_result",
          "data": {
            "text/plain": [
              "Index(['player_id', 'name', 'weight', 'birth_date', 'height', 'nationality',\n",
              "       'team_abbreviation', 'most_recent_season', 'box_plus_minus',\n",
              "       'games_played', 'games_started', 'player_efficiency_rating',\n",
              "       'three_point_percentage', 'true_shooting_percentage',\n",
              "       'two_point_attempts', 'two_point_percentage', 'two_pointers'],\n",
              "      dtype='object')"
            ]
          },
          "metadata": {
            "tags": []
          },
          "execution_count": 137
        }
      ]
    },
    {
      "cell_type": "markdown",
      "metadata": {
        "id": "OirXpRc6fYJK",
        "colab_type": "text"
      },
      "source": [
        "We can do so, by using the original dataframe's columns with the `loc` method."
      ]
    },
    {
      "cell_type": "code",
      "metadata": {
        "id": "SeOYmwhpfYJL",
        "colab_type": "code",
        "outputId": "1ceedd96-c518-48ed-c0d4-3e61eccc82bd",
        "colab": {}
      },
      "source": [
        "players_df = updated_players.loc[:, df.columns]\n",
        "players_df[:2]\n",
        "# \tplayer_id\tname\tweight\tbirth_date\theight\tnationality\tteam_abbreviation\tmost_recent_season\tbox_plus_minus\tgames_played\tgames_started\tplayer_efficiency_rating\tthree_point_percentage\ttrue_shooting_percentage\ttwo_point_attempts\ttwo_point_percentage\ttwo_pointers\n",
        "# 0\tklebima01\tMaxi Kleber\t240\t1992-01-29\t82\tGermany\tDAL\t2019.0\t0.3\t209.0\t75.0\t13.4\t0.354\t0.588\t529.0\t0.597\t316.0\n",
        "# 1\twrighde01\tDelon Wright\t183\t1992-04-26\t77\tUnited States of America\tDAL\t"
      ],
      "execution_count": 0,
      "outputs": [
        {
          "output_type": "execute_result",
          "data": {
            "text/html": [
              "<div>\n",
              "<style scoped>\n",
              "    .dataframe tbody tr th:only-of-type {\n",
              "        vertical-align: middle;\n",
              "    }\n",
              "\n",
              "    .dataframe tbody tr th {\n",
              "        vertical-align: top;\n",
              "    }\n",
              "\n",
              "    .dataframe thead th {\n",
              "        text-align: right;\n",
              "    }\n",
              "</style>\n",
              "<table border=\"1\" class=\"dataframe\">\n",
              "  <thead>\n",
              "    <tr style=\"text-align: right;\">\n",
              "      <th></th>\n",
              "      <th>player_id</th>\n",
              "      <th>name</th>\n",
              "      <th>weight</th>\n",
              "      <th>birth_date</th>\n",
              "      <th>height</th>\n",
              "      <th>nationality</th>\n",
              "      <th>team_abbreviation</th>\n",
              "      <th>most_recent_season</th>\n",
              "      <th>box_plus_minus</th>\n",
              "      <th>games_played</th>\n",
              "      <th>games_started</th>\n",
              "      <th>player_efficiency_rating</th>\n",
              "      <th>three_point_percentage</th>\n",
              "      <th>true_shooting_percentage</th>\n",
              "      <th>two_point_attempts</th>\n",
              "      <th>two_point_percentage</th>\n",
              "      <th>two_pointers</th>\n",
              "    </tr>\n",
              "  </thead>\n",
              "  <tbody>\n",
              "    <tr>\n",
              "      <th>0</th>\n",
              "      <td>klebima01</td>\n",
              "      <td>Maxi Kleber</td>\n",
              "      <td>240</td>\n",
              "      <td>1992-01-29</td>\n",
              "      <td>82</td>\n",
              "      <td>Germany</td>\n",
              "      <td>DAL</td>\n",
              "      <td>2019.0</td>\n",
              "      <td>0.3</td>\n",
              "      <td>209.0</td>\n",
              "      <td>75.0</td>\n",
              "      <td>13.4</td>\n",
              "      <td>0.354</td>\n",
              "      <td>0.588</td>\n",
              "      <td>529.0</td>\n",
              "      <td>0.597</td>\n",
              "      <td>316.0</td>\n",
              "    </tr>\n",
              "    <tr>\n",
              "      <th>1</th>\n",
              "      <td>wrighde01</td>\n",
              "      <td>Delon Wright</td>\n",
              "      <td>183</td>\n",
              "      <td>1992-04-26</td>\n",
              "      <td>77</td>\n",
              "      <td>United States of America</td>\n",
              "      <td>DAL</td>\n",
              "      <td>2019.0</td>\n",
              "      <td>2.2</td>\n",
              "      <td>263.0</td>\n",
              "      <td>23.0</td>\n",
              "      <td>16.0</td>\n",
              "      <td>0.345</td>\n",
              "      <td>0.549</td>\n",
              "      <td>1086.0</td>\n",
              "      <td>0.498</td>\n",
              "      <td>541.0</td>\n",
              "    </tr>\n",
              "  </tbody>\n",
              "</table>\n",
              "</div>"
            ],
            "text/plain": [
              "   player_id          name  weight birth_date  height  \\\n",
              "0  klebima01   Maxi Kleber     240 1992-01-29      82   \n",
              "1  wrighde01  Delon Wright     183 1992-04-26      77   \n",
              "\n",
              "                nationality team_abbreviation  most_recent_season  \\\n",
              "0                   Germany               DAL              2019.0   \n",
              "1  United States of America               DAL              2019.0   \n",
              "\n",
              "   box_plus_minus  games_played  games_started  player_efficiency_rating  \\\n",
              "0             0.3         209.0           75.0                      13.4   \n",
              "1             2.2         263.0           23.0                      16.0   \n",
              "\n",
              "   three_point_percentage  true_shooting_percentage  two_point_attempts  \\\n",
              "0                   0.354                     0.588               529.0   \n",
              "1                   0.345                     0.549              1086.0   \n",
              "\n",
              "   two_point_percentage  two_pointers  \n",
              "0                 0.597         316.0  \n",
              "1                 0.498         541.0  "
            ]
          },
          "metadata": {
            "tags": []
          },
          "execution_count": 141
        }
      ]
    },
    {
      "cell_type": "markdown",
      "metadata": {
        "id": "Y3ttWTvVfYJN",
        "colab_type": "text"
      },
      "source": [
        "### Summary"
      ]
    },
    {
      "cell_type": "markdown",
      "metadata": {
        "id": "gQVnlP8FfYJN",
        "colab_type": "text"
      },
      "source": [
        "Nice job.  You are your pandas stripes."
      ]
    },
    {
      "cell_type": "markdown",
      "metadata": {
        "id": "nvP3QAJIfYJO",
        "colab_type": "text"
      },
      "source": [
        "### Resources"
      ]
    },
    {
      "cell_type": "markdown",
      "metadata": {
        "id": "eMeQLV_jfYJO",
        "colab_type": "text"
      },
      "source": [
        "[Sports Reference API](https://sportsreference.readthedocs.io/en/stable/)"
      ]
    },
    {
      "cell_type": "markdown",
      "metadata": {
        "id": "g3aFTPOSfYJO",
        "colab_type": "text"
      },
      "source": [
        "[Set with Copy Warning](https://www.dataquest.io/blog/settingwithcopywarning/)"
      ]
    }
  ]
}