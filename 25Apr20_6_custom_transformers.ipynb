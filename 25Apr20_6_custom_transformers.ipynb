{
  "nbformat": 4,
  "nbformat_minor": 0,
  "metadata": {
    "kernelspec": {
      "display_name": "Python 3",
      "language": "python",
      "name": "python3"
    },
    "language_info": {
      "codemirror_mode": {
        "name": "ipython",
        "version": 3
      },
      "file_extension": ".py",
      "mimetype": "text/x-python",
      "name": "python",
      "nbconvert_exporter": "python",
      "pygments_lexer": "ipython3",
      "version": "3.7.4"
    },
    "colab": {
      "name": "Copy of 6-custom-transformers.ipynb",
      "provenance": [],
      "include_colab_link": true
    }
  },
  "cells": [
    {
      "cell_type": "markdown",
      "metadata": {
        "id": "view-in-github",
        "colab_type": "text"
      },
      "source": [
        "<a href=\"https://colab.research.google.com/github/ludawg44/jigsawlabs/blob/master/25Apr20_6_custom_transformers.ipynb\" target=\"_parent\"><img src=\"https://colab.research.google.com/assets/colab-badge.svg\" alt=\"Open In Colab\"/></a>"
      ]
    },
    {
      "cell_type": "markdown",
      "metadata": {
        "id": "Ftu1Q8LuE-hN",
        "colab_type": "text"
      },
      "source": [
        "# Custom Transformers"
      ]
    },
    {
      "cell_type": "markdown",
      "metadata": {
        "id": "nUEya4aYE-hO",
        "colab_type": "text"
      },
      "source": [
        "### Introduction"
      ]
    },
    {
      "cell_type": "markdown",
      "metadata": {
        "id": "eCtNMbTgE-hP",
        "colab_type": "text"
      },
      "source": [
        "We've not seen how to use `sklearn_pandas`, transformers, and pipelines to perform feature engineering on our dataset.  Sometimes, however, we we'll need to perform more transformations than those provided to us out of the box.  In this lesson, we'll see how we can."
      ]
    },
    {
      "cell_type": "markdown",
      "metadata": {
        "id": "TYrA2MDtE-hQ",
        "colab_type": "text"
      },
      "source": [
        "### Our transformations"
      ]
    },
    {
      "cell_type": "markdown",
      "metadata": {
        "id": "8vWKbGBzE-hQ",
        "colab_type": "text"
      },
      "source": [
        "Let's load data that describes different airbnb listings in Germany."
      ]
    },
    {
      "cell_type": "code",
      "metadata": {
        "id": "D8dv6Zd1E-hR",
        "colab_type": "code",
        "colab": {}
      },
      "source": [
        "import pandas as pd \n",
        "listings_url = \"https://raw.githubusercontent.com/jigsawlabs-student/pipelines-and-transformers/master/listings_summary.csv\"\n",
        "# listings_shorter_url = \"https://raw.githubusercontent.com/jigsawlabs-student/pipelines-and-transformers/master/listings_five_k.csv\"\n",
        "listings_df = pd.read_csv(listings_url)"
      ],
      "execution_count": 0,
      "outputs": []
    },
    {
      "cell_type": "markdown",
      "metadata": {
        "id": "0nFcdLkyE-hU",
        "colab_type": "text"
      },
      "source": [
        "Let's take a look at some of the columns."
      ]
    },
    {
      "cell_type": "code",
      "metadata": {
        "id": "tJZUAuuoE-hV",
        "colab_type": "code",
        "outputId": "edb51eae-54a8-4b7b-db15-365e01de279d",
        "colab": {}
      },
      "source": [
        "prices_df = listings_df[['extra_people', 'price', 'weekly_price', 'monthly_price', 'security_deposit', 'cleaning_fee']]\n",
        "prices_df[:3]"
      ],
      "execution_count": 0,
      "outputs": [
        {
          "output_type": "execute_result",
          "data": {
            "text/html": [
              "<div>\n",
              "<style scoped>\n",
              "    .dataframe tbody tr th:only-of-type {\n",
              "        vertical-align: middle;\n",
              "    }\n",
              "\n",
              "    .dataframe tbody tr th {\n",
              "        vertical-align: top;\n",
              "    }\n",
              "\n",
              "    .dataframe thead th {\n",
              "        text-align: right;\n",
              "    }\n",
              "</style>\n",
              "<table border=\"1\" class=\"dataframe\">\n",
              "  <thead>\n",
              "    <tr style=\"text-align: right;\">\n",
              "      <th></th>\n",
              "      <th>extra_people</th>\n",
              "      <th>price</th>\n",
              "      <th>weekly_price</th>\n",
              "      <th>monthly_price</th>\n",
              "      <th>security_deposit</th>\n",
              "      <th>cleaning_fee</th>\n",
              "    </tr>\n",
              "  </thead>\n",
              "  <tbody>\n",
              "    <tr>\n",
              "      <th>0</th>\n",
              "      <td>$28.00</td>\n",
              "      <td>$60.00</td>\n",
              "      <td>NaN</td>\n",
              "      <td>NaN</td>\n",
              "      <td>$200.00</td>\n",
              "      <td>$30.00</td>\n",
              "    </tr>\n",
              "    <tr>\n",
              "      <th>1</th>\n",
              "      <td>$0.00</td>\n",
              "      <td>$17.00</td>\n",
              "      <td>NaN</td>\n",
              "      <td>NaN</td>\n",
              "      <td>$0.00</td>\n",
              "      <td>$0.00</td>\n",
              "    </tr>\n",
              "    <tr>\n",
              "      <th>2</th>\n",
              "      <td>$20.00</td>\n",
              "      <td>$90.00</td>\n",
              "      <td>$520.00</td>\n",
              "      <td>$1,900.00</td>\n",
              "      <td>$200.00</td>\n",
              "      <td>$50.00</td>\n",
              "    </tr>\n",
              "  </tbody>\n",
              "</table>\n",
              "</div>"
            ],
            "text/plain": [
              "  extra_people   price weekly_price monthly_price security_deposit  \\\n",
              "0       $28.00  $60.00          NaN           NaN          $200.00   \n",
              "1        $0.00  $17.00          NaN           NaN            $0.00   \n",
              "2       $20.00  $90.00      $520.00     $1,900.00          $200.00   \n",
              "\n",
              "  cleaning_fee  \n",
              "0       $30.00  \n",
              "1        $0.00  \n",
              "2       $50.00  "
            ]
          },
          "metadata": {
            "tags": []
          },
          "execution_count": 2
        }
      ]
    },
    {
      "cell_type": "markdown",
      "metadata": {
        "id": "5gJ8cieFE-hZ",
        "colab_type": "text"
      },
      "source": [
        "We can see that each column has information that we would likely want to include in our model, but it is currently not numeric."
      ]
    },
    {
      "cell_type": "code",
      "metadata": {
        "id": "sr2Um504E-hZ",
        "colab_type": "code",
        "outputId": "3300dcc2-ba40-46fb-aff9-0c42a6a653c8",
        "colab": {}
      },
      "source": [
        "prices_df.info()"
      ],
      "execution_count": 0,
      "outputs": [
        {
          "output_type": "stream",
          "text": [
            "<class 'pandas.core.frame.DataFrame'>\n",
            "RangeIndex: 22552 entries, 0 to 22551\n",
            "Data columns (total 6 columns):\n",
            "extra_people        22552 non-null object\n",
            "price               22552 non-null object\n",
            "weekly_price        3681 non-null object\n",
            "monthly_price       2659 non-null object\n",
            "security_deposit    13191 non-null object\n",
            "cleaning_fee        15406 non-null object\n",
            "dtypes: object(6)\n",
            "memory usage: 1.0+ MB\n"
          ],
          "name": "stdout"
        }
      ]
    },
    {
      "cell_type": "markdown",
      "metadata": {
        "id": "kjK1sLU9E-hb",
        "colab_type": "text"
      },
      "source": [
        "Let's get started coercing the data."
      ]
    },
    {
      "cell_type": "markdown",
      "metadata": {
        "id": "DGhGRlO7E-hb",
        "colab_type": "text"
      },
      "source": [
        "### Coercing the data"
      ]
    },
    {
      "cell_type": "markdown",
      "metadata": {
        "id": "nBLspS65E-hc",
        "colab_type": "text"
      },
      "source": [
        "Let's start with the extra people column.  And let's just convert it without even worrying about pipelines or transformers."
      ]
    },
    {
      "cell_type": "code",
      "metadata": {
        "id": "lpsiTXqXE-hc",
        "colab_type": "code",
        "colab": {}
      },
      "source": [
        "extra_people_prices = prices_df['extra_people']"
      ],
      "execution_count": 0,
      "outputs": []
    },
    {
      "cell_type": "markdown",
      "metadata": {
        "id": "QWNnJLxrE-hf",
        "colab_type": "text"
      },
      "source": [
        "Let's select the first price from the column."
      ]
    },
    {
      "cell_type": "code",
      "metadata": {
        "id": "nFyQUhjkE-hf",
        "colab_type": "code",
        "outputId": "3e1e61f8-7940-4d2a-b50f-cb0b9d4a1612",
        "colab": {}
      },
      "source": [
        "first_price = extra_people_prices[0]\n",
        "first_price"
      ],
      "execution_count": 0,
      "outputs": [
        {
          "output_type": "execute_result",
          "data": {
            "text/plain": [
              "'$28.00'"
            ]
          },
          "metadata": {
            "tags": []
          },
          "execution_count": 5
        }
      ]
    },
    {
      "cell_type": "markdown",
      "metadata": {
        "id": "44oZCkGCE-hi",
        "colab_type": "text"
      },
      "source": [
        "And convert it to a number."
      ]
    },
    {
      "cell_type": "code",
      "metadata": {
        "id": "5b-jrA6KE-hj",
        "colab_type": "code",
        "outputId": "6ce25ac5-8401-4397-cded-0bd68603d241",
        "colab": {}
      },
      "source": [
        "first_price[1:]\n",
        "# '28.00'\n",
        "\n",
        "pd.to_numeric(first_price[1:])"
      ],
      "execution_count": 0,
      "outputs": [
        {
          "output_type": "execute_result",
          "data": {
            "text/plain": [
              "28.0"
            ]
          },
          "metadata": {
            "tags": []
          },
          "execution_count": 6
        }
      ]
    },
    {
      "cell_type": "markdown",
      "metadata": {
        "id": "rNHf711JE-hl",
        "colab_type": "text"
      },
      "source": [
        "### Custom Transformers"
      ]
    },
    {
      "cell_type": "markdown",
      "metadata": {
        "id": "3eQL-5BCE-hl",
        "colab_type": "text"
      },
      "source": [
        "Now, to use this in a pipeline, we first wrap the procedure in a function."
      ]
    },
    {
      "cell_type": "code",
      "metadata": {
        "id": "j9Lx0dzjE-hm",
        "colab_type": "code",
        "colab": {}
      },
      "source": [
        "def price_to_number(price):\n",
        "    return pd.to_numeric(price[1:])"
      ],
      "execution_count": 0,
      "outputs": []
    },
    {
      "cell_type": "markdown",
      "metadata": {
        "id": "q2W28s3VE-ho",
        "colab_type": "text"
      },
      "source": [
        "And we can use this function by passing it into a FunctionTransformer, which we use in our DataFrameMapper.  Let's see how it works."
      ]
    },
    {
      "cell_type": "code",
      "metadata": {
        "id": "-DiJSvu3E-hp",
        "colab_type": "code",
        "colab": {}
      },
      "source": [
        "from sklearn_pandas import DataFrameMapper, FunctionTransformer\n",
        "mapper = DataFrameMapper([\n",
        "    ('extra_people', FunctionTransformer(price_to_number))\n",
        "], df_out = True)"
      ],
      "execution_count": 0,
      "outputs": []
    },
    {
      "cell_type": "code",
      "metadata": {
        "id": "UAW1AMg6E-hr",
        "colab_type": "code",
        "outputId": "0eccf88c-adc1-4d20-e664-c10d78bf92fa",
        "colab": {}
      },
      "source": [
        "tranformed_prices = mapper.fit_transform(prices_df)\n",
        "tranformed_prices[:3]"
      ],
      "execution_count": 0,
      "outputs": [
        {
          "output_type": "execute_result",
          "data": {
            "text/html": [
              "<div>\n",
              "<style scoped>\n",
              "    .dataframe tbody tr th:only-of-type {\n",
              "        vertical-align: middle;\n",
              "    }\n",
              "\n",
              "    .dataframe tbody tr th {\n",
              "        vertical-align: top;\n",
              "    }\n",
              "\n",
              "    .dataframe thead th {\n",
              "        text-align: right;\n",
              "    }\n",
              "</style>\n",
              "<table border=\"1\" class=\"dataframe\">\n",
              "  <thead>\n",
              "    <tr style=\"text-align: right;\">\n",
              "      <th></th>\n",
              "      <th>extra_people</th>\n",
              "    </tr>\n",
              "  </thead>\n",
              "  <tbody>\n",
              "    <tr>\n",
              "      <th>0</th>\n",
              "      <td>28.0</td>\n",
              "    </tr>\n",
              "    <tr>\n",
              "      <th>1</th>\n",
              "      <td>0.0</td>\n",
              "    </tr>\n",
              "    <tr>\n",
              "      <th>2</th>\n",
              "      <td>20.0</td>\n",
              "    </tr>\n",
              "  </tbody>\n",
              "</table>\n",
              "</div>"
            ],
            "text/plain": [
              "   extra_people\n",
              "0          28.0\n",
              "1           0.0\n",
              "2          20.0"
            ]
          },
          "metadata": {
            "tags": []
          },
          "execution_count": 10
        }
      ]
    },
    {
      "cell_type": "markdown",
      "metadata": {
        "id": "K7bythE6E-hu",
        "colab_type": "text"
      },
      "source": [
        "### Common Errors with Function Transformers"
      ]
    },
    {
      "cell_type": "markdown",
      "metadata": {
        "id": "9JPCRtt2E-hv",
        "colab_type": "text"
      },
      "source": [
        "One thing to pay attention to with function transformers is that our function takes in a single value in the column."
      ]
    },
    {
      "cell_type": "code",
      "metadata": {
        "id": "92iFnXLVE-hv",
        "colab_type": "code",
        "colab": {}
      },
      "source": [
        "def price_to_number(price):\n",
        "    return pd.to_numeric(price[1:])"
      ],
      "execution_count": 0,
      "outputs": []
    },
    {
      "cell_type": "markdown",
      "metadata": {
        "id": "5vELs5txE-hx",
        "colab_type": "text"
      },
      "source": [
        "So notice that it is not the *entire column* that is passed through, but rather a single value in that column.  Let's try referencing the entire column with our function, and see what happens."
      ]
    },
    {
      "cell_type": "markdown",
      "metadata": {
        "id": "Z0eBsJmSE-hy",
        "colab_type": "text"
      },
      "source": [
        "> If we instead try writing a function that takes in the entire column (like so), we will get an error."
      ]
    },
    {
      "cell_type": "code",
      "metadata": {
        "id": "kLuHYDOWE-hy",
        "colab_type": "code",
        "colab": {}
      },
      "source": [
        "def price_col_to_num(price_col):\n",
        "    return pd.to_numeric(prices_df['extra_people'].str[1:])"
      ],
      "execution_count": 0,
      "outputs": []
    },
    {
      "cell_type": "markdown",
      "metadata": {
        "id": "GQzNRmAfE-h0",
        "colab_type": "text"
      },
      "source": [
        "### Working with NA Columns"
      ]
    },
    {
      "cell_type": "markdown",
      "metadata": {
        "id": "J3qv3aLXE-h1",
        "colab_type": "text"
      },
      "source": [
        "Another tricky component is writing transformers that handle missing values.  For example, let's take a look at the weekly price column."
      ]
    },
    {
      "cell_type": "code",
      "metadata": {
        "id": "I-nf2chJE-h1",
        "colab_type": "code",
        "colab": {}
      },
      "source": [
        "weekly_price = prices_df['weekly_price']"
      ],
      "execution_count": 0,
      "outputs": []
    },
    {
      "cell_type": "code",
      "metadata": {
        "id": "9uCWrYFqE-h3",
        "colab_type": "code",
        "outputId": "2bdf309c-68f4-46ec-c7a0-814c60232144",
        "colab": {}
      },
      "source": [
        "weekly_price[:3]"
      ],
      "execution_count": 0,
      "outputs": [
        {
          "output_type": "execute_result",
          "data": {
            "text/plain": [
              "0        NaN\n",
              "1        NaN\n",
              "2    $520.00\n",
              "Name: weekly_price, dtype: object"
            ]
          },
          "metadata": {
            "tags": []
          },
          "execution_count": 15
        }
      ]
    },
    {
      "cell_type": "markdown",
      "metadata": {
        "id": "WvphZyKpE-h5",
        "colab_type": "text"
      },
      "source": [
        "Let's try to use our price to number function."
      ]
    },
    {
      "cell_type": "code",
      "metadata": {
        "id": "i0sWpOQtE-h6",
        "colab_type": "code",
        "colab": {}
      },
      "source": [
        "num = \"1,137.00\""
      ],
      "execution_count": 0,
      "outputs": []
    },
    {
      "cell_type": "code",
      "metadata": {
        "id": "rRKtuGbgE-h7",
        "colab_type": "code",
        "colab": {}
      },
      "source": [
        "def price_to_number(price):\n",
        "    return pd.to_numeric(price[1:].replace(',', ''))"
      ],
      "execution_count": 0,
      "outputs": []
    },
    {
      "cell_type": "code",
      "metadata": {
        "id": "JWK1xvCvE-h-",
        "colab_type": "code",
        "colab": {}
      },
      "source": [
        "# price_to_number(num)\n",
        "# num.replace(',', '')"
      ],
      "execution_count": 0,
      "outputs": []
    },
    {
      "cell_type": "code",
      "metadata": {
        "id": "Nph_apODE-iC",
        "colab_type": "code",
        "colab": {}
      },
      "source": [
        "mapper = DataFrameMapper([\n",
        "    (['weekly_price'], FunctionTransformer(price_to_number))\n",
        "], df_out = True)"
      ],
      "execution_count": 0,
      "outputs": []
    },
    {
      "cell_type": "code",
      "metadata": {
        "id": "bF9o3Y9qE-iE",
        "colab_type": "code",
        "colab": {}
      },
      "source": [
        "# mapper.fit_transform(prices_df)"
      ],
      "execution_count": 0,
      "outputs": []
    },
    {
      "cell_type": "markdown",
      "metadata": {
        "id": "vGb5KNFBE-iG",
        "colab_type": "text"
      },
      "source": [
        "A problem we are running into is with our NAN values.  One fix is to add an SimpleImputer to replace the nans with an empty string or equivalent.  Another is to handle nans directly in the function.  \n",
        "\n",
        "Let's first replace our NANs with empty strings."
      ]
    },
    {
      "cell_type": "code",
      "metadata": {
        "id": "eiVrbDeXE-iH",
        "colab_type": "code",
        "colab": {}
      },
      "source": [
        "from sklearn.impute import SimpleImputer\n",
        "mapper = DataFrameMapper([\n",
        "    (['weekly_price'], SimpleImputer(strategy = 'constant', fill_value = ''))\n",
        "], df_out = True)"
      ],
      "execution_count": 0,
      "outputs": []
    },
    {
      "cell_type": "code",
      "metadata": {
        "id": "bUAPyYEkE-iJ",
        "colab_type": "code",
        "outputId": "69ce44dc-d322-4c35-9632-dfef6a673ca0",
        "colab": {}
      },
      "source": [
        "transformed_prices = mapper.fit_transform(prices_df)\n",
        "transformed_prices[:3]"
      ],
      "execution_count": 0,
      "outputs": [
        {
          "output_type": "execute_result",
          "data": {
            "text/html": [
              "<div>\n",
              "<style scoped>\n",
              "    .dataframe tbody tr th:only-of-type {\n",
              "        vertical-align: middle;\n",
              "    }\n",
              "\n",
              "    .dataframe tbody tr th {\n",
              "        vertical-align: top;\n",
              "    }\n",
              "\n",
              "    .dataframe thead th {\n",
              "        text-align: right;\n",
              "    }\n",
              "</style>\n",
              "<table border=\"1\" class=\"dataframe\">\n",
              "  <thead>\n",
              "    <tr style=\"text-align: right;\">\n",
              "      <th></th>\n",
              "      <th>weekly_price</th>\n",
              "    </tr>\n",
              "  </thead>\n",
              "  <tbody>\n",
              "    <tr>\n",
              "      <th>0</th>\n",
              "      <td></td>\n",
              "    </tr>\n",
              "    <tr>\n",
              "      <th>1</th>\n",
              "      <td></td>\n",
              "    </tr>\n",
              "    <tr>\n",
              "      <th>2</th>\n",
              "      <td>$520.00</td>\n",
              "    </tr>\n",
              "  </tbody>\n",
              "</table>\n",
              "</div>"
            ],
            "text/plain": [
              "  weekly_price\n",
              "0             \n",
              "1             \n",
              "2      $520.00"
            ]
          },
          "metadata": {
            "tags": []
          },
          "execution_count": 45
        }
      ]
    },
    {
      "cell_type": "markdown",
      "metadata": {
        "id": "UcuUpRvEE-iM",
        "colab_type": "text"
      },
      "source": [
        "And from here, we can add in our function for converting our price."
      ]
    },
    {
      "cell_type": "code",
      "metadata": {
        "id": "Fc3TiDiaE-iN",
        "colab_type": "code",
        "colab": {}
      },
      "source": [
        "from sklearn.impute import SimpleImputer\n",
        "mapper = DataFrameMapper([\n",
        "    (['weekly_price'], [SimpleImputer(strategy = 'constant', fill_value = ''), \n",
        "                        FunctionTransformer(price_to_number)])\n",
        "], df_out = True)"
      ],
      "execution_count": 0,
      "outputs": []
    },
    {
      "cell_type": "code",
      "metadata": {
        "id": "q5SOigIvE-iP",
        "colab_type": "code",
        "outputId": "b13207ae-7099-474c-cbb1-25dc68b9962c",
        "colab": {}
      },
      "source": [
        "transformed_to_num = mapper.fit_transform(prices_df)\n",
        "transformed_to_num[:3]"
      ],
      "execution_count": 0,
      "outputs": [
        {
          "output_type": "execute_result",
          "data": {
            "text/html": [
              "<div>\n",
              "<style scoped>\n",
              "    .dataframe tbody tr th:only-of-type {\n",
              "        vertical-align: middle;\n",
              "    }\n",
              "\n",
              "    .dataframe tbody tr th {\n",
              "        vertical-align: top;\n",
              "    }\n",
              "\n",
              "    .dataframe thead th {\n",
              "        text-align: right;\n",
              "    }\n",
              "</style>\n",
              "<table border=\"1\" class=\"dataframe\">\n",
              "  <thead>\n",
              "    <tr style=\"text-align: right;\">\n",
              "      <th></th>\n",
              "      <th>weekly_price</th>\n",
              "    </tr>\n",
              "  </thead>\n",
              "  <tbody>\n",
              "    <tr>\n",
              "      <th>0</th>\n",
              "      <td>NaN</td>\n",
              "    </tr>\n",
              "    <tr>\n",
              "      <th>1</th>\n",
              "      <td>NaN</td>\n",
              "    </tr>\n",
              "    <tr>\n",
              "      <th>2</th>\n",
              "      <td>520.0</td>\n",
              "    </tr>\n",
              "  </tbody>\n",
              "</table>\n",
              "</div>"
            ],
            "text/plain": [
              "   weekly_price\n",
              "0           NaN\n",
              "1           NaN\n",
              "2         520.0"
            ]
          },
          "metadata": {
            "tags": []
          },
          "execution_count": 47
        }
      ]
    },
    {
      "cell_type": "code",
      "metadata": {
        "id": "n8SVjj-BE-iS",
        "colab_type": "code",
        "outputId": "bd4e7b5a-e211-4c8e-bee9-d067ff997f33",
        "colab": {}
      },
      "source": [
        "transformed_to_num.dtypes"
      ],
      "execution_count": 0,
      "outputs": [
        {
          "output_type": "execute_result",
          "data": {
            "text/plain": [
              "weekly_price    float64\n",
              "dtype: object"
            ]
          },
          "metadata": {
            "tags": []
          },
          "execution_count": 58
        }
      ]
    },
    {
      "cell_type": "markdown",
      "metadata": {
        "id": "U40RoEpSE-ib",
        "colab_type": "text"
      },
      "source": [
        "And now we have our column properly converted into a number."
      ]
    },
    {
      "cell_type": "markdown",
      "metadata": {
        "id": "L2VcaZ9YE-ib",
        "colab_type": "text"
      },
      "source": [
        "### Summary"
      ]
    },
    {
      "cell_type": "markdown",
      "metadata": {
        "id": "kj5QAnYTE-ib",
        "colab_type": "text"
      },
      "source": [
        "In this lesson we saw how to use custom transformers to use with our DataFrameMapper.  The key to using the transformer, is understanding that the function handles a single value in the column.  We can first test out the functionality of our function, and then pass it into our `FunctionTransformer` with `FunctionTransformer(function_name)`."
      ]
    }
  ]
}