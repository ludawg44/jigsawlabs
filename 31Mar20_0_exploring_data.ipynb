{
  "nbformat": 4,
  "nbformat_minor": 0,
  "metadata": {
    "kernelspec": {
      "display_name": "Python 3",
      "language": "python",
      "name": "python3"
    },
    "language_info": {
      "codemirror_mode": {
        "name": "ipython",
        "version": 3
      },
      "file_extension": ".py",
      "mimetype": "text/x-python",
      "name": "python",
      "nbconvert_exporter": "python",
      "pygments_lexer": "ipython3",
      "version": "3.7.4"
    },
    "colab": {
      "name": "Copy of 0-exploring-data.ipynb",
      "provenance": [],
      "include_colab_link": true
    }
  },
  "cells": [
    {
      "cell_type": "markdown",
      "metadata": {
        "id": "view-in-github",
        "colab_type": "text"
      },
      "source": [
        "<a href=\"https://colab.research.google.com/github/ludawg44/jigsawlabs/blob/master/31Mar20_0_exploring_data.ipynb\" target=\"_parent\"><img src=\"https://colab.research.google.com/assets/colab-badge.svg\" alt=\"Open In Colab\"/></a>"
      ]
    },
    {
      "cell_type": "markdown",
      "metadata": {
        "id": "y505GZHd3SX9",
        "colab_type": "text"
      },
      "source": [
        "# Exploring Data"
      ]
    },
    {
      "cell_type": "markdown",
      "metadata": {
        "id": "MIMEc7Rh3SX_",
        "colab_type": "text"
      },
      "source": [
        "### Introduction"
      ]
    },
    {
      "cell_type": "markdown",
      "metadata": {
        "id": "jrCHQE8q3SX_",
        "colab_type": "text"
      },
      "source": [
        "Now that we know how to work with a dataframe and select individual columns, it's time for us to see if we can begin to understand our data."
      ]
    },
    {
      "cell_type": "markdown",
      "metadata": {
        "id": "G3C5w93f3SYA",
        "colab_type": "text"
      },
      "source": [
        "Remember that as data scientists, we sometimes won't know where our data comes from."
      ]
    },
    {
      "cell_type": "markdown",
      "metadata": {
        "id": "TfF_VuVo3SYB",
        "colab_type": "text"
      },
      "source": [
        "> For example, in our movies datasets, are we looking at all of the movies, or all of the movies from a certain time period?  \n",
        "\n",
        "The answer to these questions will have an impact on how we interpret our results. "
      ]
    },
    {
      "cell_type": "markdown",
      "metadata": {
        "id": "UFRL0osb3SYC",
        "colab_type": "text"
      },
      "source": [
        "### Exploring a DataFrame"
      ]
    },
    {
      "cell_type": "markdown",
      "metadata": {
        "id": "5z9npk_f3SYD",
        "colab_type": "text"
      },
      "source": [
        "So let's get a better sense of the data in our 538 moves dataset.  The first thing we'll do is load up the data, and then perhaps look at the columns available."
      ]
    },
    {
      "cell_type": "code",
      "metadata": {
        "id": "uCD9f5A53SYE",
        "colab_type": "code",
        "colab": {}
      },
      "source": [
        "import pandas as pd\n",
        "url = \"https://raw.githubusercontent.com/jigsawlabs-student/exploring-pandas/master/imdb_movies.csv\"\n",
        "movies_df = pd.read_csv(url)"
      ],
      "execution_count": 0,
      "outputs": []
    },
    {
      "cell_type": "code",
      "metadata": {
        "id": "M_iP7L-93SYI",
        "colab_type": "code",
        "outputId": "a6278da7-26b1-4bc6-e1d6-dce7d91247ea",
        "colab": {
          "base_uri": "https://localhost:8080/",
          "height": 35
        }
      },
      "source": [
        "movies_df.columns"
      ],
      "execution_count": 0,
      "outputs": [
        {
          "output_type": "execute_result",
          "data": {
            "text/plain": [
              "Index(['title', 'genre', 'budget', 'runtime', 'year', 'month', 'revenue'], dtype='object')"
            ]
          },
          "metadata": {
            "tags": []
          },
          "execution_count": 4
        }
      ]
    },
    {
      "cell_type": "markdown",
      "metadata": {
        "id": "qXR1mZQq3SYN",
        "colab_type": "text"
      },
      "source": [
        "It may be difficult to understand what information is in these columns so perhaps we want to look at some of the initial values, which we can do with the `head` or `tail` methods."
      ]
    },
    {
      "cell_type": "code",
      "metadata": {
        "id": "S4Y069jz3SYO",
        "colab_type": "code",
        "outputId": "d948803f-b91f-4c8e-a0b8-47428b623a19",
        "colab": {
          "base_uri": "https://localhost:8080/",
          "height": 108
        }
      },
      "source": [
        "movies_df.head(2)"
      ],
      "execution_count": 0,
      "outputs": [
        {
          "output_type": "execute_result",
          "data": {
            "text/html": [
              "<div>\n",
              "<style scoped>\n",
              "    .dataframe tbody tr th:only-of-type {\n",
              "        vertical-align: middle;\n",
              "    }\n",
              "\n",
              "    .dataframe tbody tr th {\n",
              "        vertical-align: top;\n",
              "    }\n",
              "\n",
              "    .dataframe thead th {\n",
              "        text-align: right;\n",
              "    }\n",
              "</style>\n",
              "<table border=\"1\" class=\"dataframe\">\n",
              "  <thead>\n",
              "    <tr style=\"text-align: right;\">\n",
              "      <th></th>\n",
              "      <th>title</th>\n",
              "      <th>genre</th>\n",
              "      <th>budget</th>\n",
              "      <th>runtime</th>\n",
              "      <th>year</th>\n",
              "      <th>month</th>\n",
              "      <th>revenue</th>\n",
              "    </tr>\n",
              "  </thead>\n",
              "  <tbody>\n",
              "    <tr>\n",
              "      <th>0</th>\n",
              "      <td>Avatar</td>\n",
              "      <td>Action</td>\n",
              "      <td>237000000</td>\n",
              "      <td>162.0</td>\n",
              "      <td>2009</td>\n",
              "      <td>12</td>\n",
              "      <td>2787965087</td>\n",
              "    </tr>\n",
              "    <tr>\n",
              "      <th>1</th>\n",
              "      <td>Pirates of the Caribbean: At World's End</td>\n",
              "      <td>Adventure</td>\n",
              "      <td>300000000</td>\n",
              "      <td>169.0</td>\n",
              "      <td>2007</td>\n",
              "      <td>5</td>\n",
              "      <td>961000000</td>\n",
              "    </tr>\n",
              "  </tbody>\n",
              "</table>\n",
              "</div>"
            ],
            "text/plain": [
              "                                      title      genre  ...  month     revenue\n",
              "0                                    Avatar     Action  ...     12  2787965087\n",
              "1  Pirates of the Caribbean: At World's End  Adventure  ...      5   961000000\n",
              "\n",
              "[2 rows x 7 columns]"
            ]
          },
          "metadata": {
            "tags": []
          },
          "execution_count": 6
        }
      ]
    },
    {
      "cell_type": "code",
      "metadata": {
        "id": "Z0RLvCIM3SYQ",
        "colab_type": "code",
        "outputId": "e316bcde-73dd-47c0-aa1f-12980232fd7b",
        "colab": {
          "base_uri": "https://localhost:8080/",
          "height": 108
        }
      },
      "source": [
        "movies_df.tail(2)"
      ],
      "execution_count": 0,
      "outputs": [
        {
          "output_type": "execute_result",
          "data": {
            "text/html": [
              "<div>\n",
              "<style scoped>\n",
              "    .dataframe tbody tr th:only-of-type {\n",
              "        vertical-align: middle;\n",
              "    }\n",
              "\n",
              "    .dataframe tbody tr th {\n",
              "        vertical-align: top;\n",
              "    }\n",
              "\n",
              "    .dataframe thead th {\n",
              "        text-align: right;\n",
              "    }\n",
              "</style>\n",
              "<table border=\"1\" class=\"dataframe\">\n",
              "  <thead>\n",
              "    <tr style=\"text-align: right;\">\n",
              "      <th></th>\n",
              "      <th>title</th>\n",
              "      <th>genre</th>\n",
              "      <th>budget</th>\n",
              "      <th>runtime</th>\n",
              "      <th>year</th>\n",
              "      <th>month</th>\n",
              "      <th>revenue</th>\n",
              "    </tr>\n",
              "  </thead>\n",
              "  <tbody>\n",
              "    <tr>\n",
              "      <th>1998</th>\n",
              "      <td>Joy Ride</td>\n",
              "      <td>NaN</td>\n",
              "      <td>23000000</td>\n",
              "      <td>97.0</td>\n",
              "      <td>2001</td>\n",
              "      <td>10</td>\n",
              "      <td>36642838</td>\n",
              "    </tr>\n",
              "    <tr>\n",
              "      <th>1999</th>\n",
              "      <td>The Adventurer: The Curse of the Midas Box</td>\n",
              "      <td>Fantasy</td>\n",
              "      <td>25000000</td>\n",
              "      <td>99.0</td>\n",
              "      <td>2013</td>\n",
              "      <td>12</td>\n",
              "      <td>6399</td>\n",
              "    </tr>\n",
              "  </tbody>\n",
              "</table>\n",
              "</div>"
            ],
            "text/plain": [
              "                                           title    genre  ...  month   revenue\n",
              "1998                                    Joy Ride      NaN  ...     10  36642838\n",
              "1999  The Adventurer: The Curse of the Midas Box  Fantasy  ...     12      6399\n",
              "\n",
              "[2 rows x 7 columns]"
            ]
          },
          "metadata": {
            "tags": []
          },
          "execution_count": 7
        }
      ]
    },
    {
      "cell_type": "markdown",
      "metadata": {
        "id": "WiN9KVE33SYT",
        "colab_type": "text"
      },
      "source": [
        "Or we can sample from a dataframe with the following."
      ]
    },
    {
      "cell_type": "code",
      "metadata": {
        "id": "mA27eK6F3SYT",
        "colab_type": "code",
        "outputId": "752c869f-bf79-4852-e13c-a5f956eb9a68",
        "colab": {
          "base_uri": "https://localhost:8080/",
          "height": 138
        }
      },
      "source": [
        "movies_df.sample(3)"
      ],
      "execution_count": 0,
      "outputs": [
        {
          "output_type": "execute_result",
          "data": {
            "text/html": [
              "<div>\n",
              "<style scoped>\n",
              "    .dataframe tbody tr th:only-of-type {\n",
              "        vertical-align: middle;\n",
              "    }\n",
              "\n",
              "    .dataframe tbody tr th {\n",
              "        vertical-align: top;\n",
              "    }\n",
              "\n",
              "    .dataframe thead th {\n",
              "        text-align: right;\n",
              "    }\n",
              "</style>\n",
              "<table border=\"1\" class=\"dataframe\">\n",
              "  <thead>\n",
              "    <tr style=\"text-align: right;\">\n",
              "      <th></th>\n",
              "      <th>title</th>\n",
              "      <th>genre</th>\n",
              "      <th>budget</th>\n",
              "      <th>runtime</th>\n",
              "      <th>year</th>\n",
              "      <th>month</th>\n",
              "      <th>revenue</th>\n",
              "    </tr>\n",
              "  </thead>\n",
              "  <tbody>\n",
              "    <tr>\n",
              "      <th>1511</th>\n",
              "      <td>Dreamer: Inspired By a True Story</td>\n",
              "      <td>Drama</td>\n",
              "      <td>0</td>\n",
              "      <td>106.0</td>\n",
              "      <td>2005</td>\n",
              "      <td>9</td>\n",
              "      <td>0</td>\n",
              "    </tr>\n",
              "    <tr>\n",
              "      <th>1738</th>\n",
              "      <td>Kundun</td>\n",
              "      <td>Drama</td>\n",
              "      <td>28000000</td>\n",
              "      <td>134.0</td>\n",
              "      <td>1997</td>\n",
              "      <td>12</td>\n",
              "      <td>5684789</td>\n",
              "    </tr>\n",
              "    <tr>\n",
              "      <th>1109</th>\n",
              "      <td>Heaven's Gate</td>\n",
              "      <td>Action</td>\n",
              "      <td>44000000</td>\n",
              "      <td>219.0</td>\n",
              "      <td>1980</td>\n",
              "      <td>11</td>\n",
              "      <td>3484331</td>\n",
              "    </tr>\n",
              "  </tbody>\n",
              "</table>\n",
              "</div>"
            ],
            "text/plain": [
              "                                  title   genre    budget  ...  year  month  revenue\n",
              "1511  Dreamer: Inspired By a True Story   Drama         0  ...  2005      9        0\n",
              "1738                             Kundun   Drama  28000000  ...  1997     12  5684789\n",
              "1109                      Heaven's Gate  Action  44000000  ...  1980     11  3484331\n",
              "\n",
              "[3 rows x 7 columns]"
            ]
          },
          "metadata": {
            "tags": []
          },
          "execution_count": 8
        }
      ]
    },
    {
      "cell_type": "markdown",
      "metadata": {
        "id": "GHiBOPjY3SYX",
        "colab_type": "text"
      },
      "source": [
        "### Viewing Sample Statistics"
      ]
    },
    {
      "cell_type": "markdown",
      "metadata": {
        "id": "ueTDpWq13SYY",
        "colab_type": "text"
      },
      "source": [
        "In pandas, we can view sample statistics either on a column or across a dataframe."
      ]
    },
    {
      "cell_type": "markdown",
      "metadata": {
        "id": "Ip7-L9o83SYY",
        "colab_type": "text"
      },
      "source": [
        "For example, we can look at the mean budget in the dataset."
      ]
    },
    {
      "cell_type": "code",
      "metadata": {
        "id": "FPMPg2t23SYZ",
        "colab_type": "code",
        "outputId": "71d505a7-82d7-4c10-b9c9-3c9d05acd660",
        "colab": {
          "base_uri": "https://localhost:8080/",
          "height": 35
        }
      },
      "source": [
        "movies_df.budget.mean()"
      ],
      "execution_count": 0,
      "outputs": [
        {
          "output_type": "execute_result",
          "data": {
            "text/plain": [
              "60436856.172"
            ]
          },
          "metadata": {
            "tags": []
          },
          "execution_count": 9
        }
      ]
    },
    {
      "cell_type": "markdown",
      "metadata": {
        "id": "cREWOTMk3SYc",
        "colab_type": "text"
      },
      "source": [
        "Or we can look at the mean across our numeric columns."
      ]
    },
    {
      "cell_type": "code",
      "metadata": {
        "id": "S9BTQX5N3SYc",
        "colab_type": "code",
        "outputId": "5aac7463-eb5c-44fe-a592-5e99201f4ec5",
        "colab": {
          "base_uri": "https://localhost:8080/",
          "height": 121
        }
      },
      "source": [
        "movies_df.select_dtypes(exclude = 'object').mean()"
      ],
      "execution_count": 0,
      "outputs": [
        {
          "output_type": "execute_result",
          "data": {
            "text/plain": [
              "budget     6.043686e+07\n",
              "runtime    1.132675e+02\n",
              "year       2.004427e+03\n",
              "month      7.044000e+00\n",
              "revenue    1.643506e+08\n",
              "dtype: float64"
            ]
          },
          "metadata": {
            "tags": []
          },
          "execution_count": 10
        }
      ]
    },
    {
      "cell_type": "markdown",
      "metadata": {
        "id": "x0nOpYVr3SYf",
        "colab_type": "text"
      },
      "source": [
        "Now if we want to get an overview of the data in each of the columns, we can do so with the describe method."
      ]
    },
    {
      "cell_type": "code",
      "metadata": {
        "id": "AENXbzwD3SYf",
        "colab_type": "code",
        "outputId": "06787f5b-285d-4cbc-c753-3868537e6edf",
        "colab": {
          "base_uri": "https://localhost:8080/",
          "height": 288
        }
      },
      "source": [
        "movies_df.describe()"
      ],
      "execution_count": 0,
      "outputs": [
        {
          "output_type": "execute_result",
          "data": {
            "text/html": [
              "<div>\n",
              "<style scoped>\n",
              "    .dataframe tbody tr th:only-of-type {\n",
              "        vertical-align: middle;\n",
              "    }\n",
              "\n",
              "    .dataframe tbody tr th {\n",
              "        vertical-align: top;\n",
              "    }\n",
              "\n",
              "    .dataframe thead th {\n",
              "        text-align: right;\n",
              "    }\n",
              "</style>\n",
              "<table border=\"1\" class=\"dataframe\">\n",
              "  <thead>\n",
              "    <tr style=\"text-align: right;\">\n",
              "      <th></th>\n",
              "      <th>budget</th>\n",
              "      <th>runtime</th>\n",
              "      <th>year</th>\n",
              "      <th>month</th>\n",
              "      <th>revenue</th>\n",
              "    </tr>\n",
              "  </thead>\n",
              "  <tbody>\n",
              "    <tr>\n",
              "      <th>count</th>\n",
              "      <td>2.000000e+03</td>\n",
              "      <td>2000.000000</td>\n",
              "      <td>2000.00000</td>\n",
              "      <td>2000.000000</td>\n",
              "      <td>2.000000e+03</td>\n",
              "    </tr>\n",
              "    <tr>\n",
              "      <th>mean</th>\n",
              "      <td>6.043686e+07</td>\n",
              "      <td>113.267500</td>\n",
              "      <td>2004.42650</td>\n",
              "      <td>7.044000</td>\n",
              "      <td>1.643506e+08</td>\n",
              "    </tr>\n",
              "    <tr>\n",
              "      <th>std</th>\n",
              "      <td>4.692045e+07</td>\n",
              "      <td>21.073728</td>\n",
              "      <td>7.95319</td>\n",
              "      <td>3.398947</td>\n",
              "      <td>2.186816e+08</td>\n",
              "    </tr>\n",
              "    <tr>\n",
              "      <th>min</th>\n",
              "      <td>0.000000e+00</td>\n",
              "      <td>0.000000</td>\n",
              "      <td>1940.00000</td>\n",
              "      <td>1.000000</td>\n",
              "      <td>0.000000e+00</td>\n",
              "    </tr>\n",
              "    <tr>\n",
              "      <th>25%</th>\n",
              "      <td>3.000000e+07</td>\n",
              "      <td>98.000000</td>\n",
              "      <td>2000.00000</td>\n",
              "      <td>4.000000</td>\n",
              "      <td>3.103408e+07</td>\n",
              "    </tr>\n",
              "    <tr>\n",
              "      <th>50%</th>\n",
              "      <td>4.800000e+07</td>\n",
              "      <td>110.000000</td>\n",
              "      <td>2005.00000</td>\n",
              "      <td>7.000000</td>\n",
              "      <td>9.400000e+07</td>\n",
              "    </tr>\n",
              "    <tr>\n",
              "      <th>75%</th>\n",
              "      <td>7.500000e+07</td>\n",
              "      <td>125.000000</td>\n",
              "      <td>2011.00000</td>\n",
              "      <td>10.000000</td>\n",
              "      <td>2.026695e+08</td>\n",
              "    </tr>\n",
              "    <tr>\n",
              "      <th>max</th>\n",
              "      <td>3.800000e+08</td>\n",
              "      <td>254.000000</td>\n",
              "      <td>2016.00000</td>\n",
              "      <td>12.000000</td>\n",
              "      <td>2.787965e+09</td>\n",
              "    </tr>\n",
              "  </tbody>\n",
              "</table>\n",
              "</div>"
            ],
            "text/plain": [
              "             budget      runtime        year        month       revenue\n",
              "count  2.000000e+03  2000.000000  2000.00000  2000.000000  2.000000e+03\n",
              "mean   6.043686e+07   113.267500  2004.42650     7.044000  1.643506e+08\n",
              "std    4.692045e+07    21.073728     7.95319     3.398947  2.186816e+08\n",
              "min    0.000000e+00     0.000000  1940.00000     1.000000  0.000000e+00\n",
              "25%    3.000000e+07    98.000000  2000.00000     4.000000  3.103408e+07\n",
              "50%    4.800000e+07   110.000000  2005.00000     7.000000  9.400000e+07\n",
              "75%    7.500000e+07   125.000000  2011.00000    10.000000  2.026695e+08\n",
              "max    3.800000e+08   254.000000  2016.00000    12.000000  2.787965e+09"
            ]
          },
          "metadata": {
            "tags": []
          },
          "execution_count": 11
        }
      ]
    },
    {
      "cell_type": "markdown",
      "metadata": {
        "id": "B4aOOyK43SYi",
        "colab_type": "text"
      },
      "source": [
        "As we can see, this shows us the `mean` (that is, the average), and the standard deviation (which we'll describe later), as well as the range and percentiles."
      ]
    },
    {
      "cell_type": "markdown",
      "metadata": {
        "id": "peLI4ytV3SYi",
        "colab_type": "text"
      },
      "source": [
        "> We can see even more information with `movies_df.describe(include = 'all')`."
      ]
    },
    {
      "cell_type": "code",
      "metadata": {
        "id": "ByD_Ik1i3SYj",
        "colab_type": "code",
        "outputId": "13325d6c-8022-411a-9b8e-fdfada6bb8ad",
        "colab": {
          "base_uri": "https://localhost:8080/",
          "height": 378
        }
      },
      "source": [
        "movies_df.describe(include='all')"
      ],
      "execution_count": 0,
      "outputs": [
        {
          "output_type": "execute_result",
          "data": {
            "text/html": [
              "<div>\n",
              "<style scoped>\n",
              "    .dataframe tbody tr th:only-of-type {\n",
              "        vertical-align: middle;\n",
              "    }\n",
              "\n",
              "    .dataframe tbody tr th {\n",
              "        vertical-align: top;\n",
              "    }\n",
              "\n",
              "    .dataframe thead th {\n",
              "        text-align: right;\n",
              "    }\n",
              "</style>\n",
              "<table border=\"1\" class=\"dataframe\">\n",
              "  <thead>\n",
              "    <tr style=\"text-align: right;\">\n",
              "      <th></th>\n",
              "      <th>title</th>\n",
              "      <th>genre</th>\n",
              "      <th>budget</th>\n",
              "      <th>runtime</th>\n",
              "      <th>year</th>\n",
              "      <th>month</th>\n",
              "      <th>revenue</th>\n",
              "    </tr>\n",
              "  </thead>\n",
              "  <tbody>\n",
              "    <tr>\n",
              "      <th>count</th>\n",
              "      <td>2000</td>\n",
              "      <td>1916</td>\n",
              "      <td>2.000000e+03</td>\n",
              "      <td>2000.000000</td>\n",
              "      <td>2000.00000</td>\n",
              "      <td>2000.000000</td>\n",
              "      <td>2.000000e+03</td>\n",
              "    </tr>\n",
              "    <tr>\n",
              "      <th>unique</th>\n",
              "      <td>2000</td>\n",
              "      <td>11</td>\n",
              "      <td>NaN</td>\n",
              "      <td>NaN</td>\n",
              "      <td>NaN</td>\n",
              "      <td>NaN</td>\n",
              "      <td>NaN</td>\n",
              "    </tr>\n",
              "    <tr>\n",
              "      <th>top</th>\n",
              "      <td>We Own the Night</td>\n",
              "      <td>Action</td>\n",
              "      <td>NaN</td>\n",
              "      <td>NaN</td>\n",
              "      <td>NaN</td>\n",
              "      <td>NaN</td>\n",
              "      <td>NaN</td>\n",
              "    </tr>\n",
              "    <tr>\n",
              "      <th>freq</th>\n",
              "      <td>1</td>\n",
              "      <td>483</td>\n",
              "      <td>NaN</td>\n",
              "      <td>NaN</td>\n",
              "      <td>NaN</td>\n",
              "      <td>NaN</td>\n",
              "      <td>NaN</td>\n",
              "    </tr>\n",
              "    <tr>\n",
              "      <th>mean</th>\n",
              "      <td>NaN</td>\n",
              "      <td>NaN</td>\n",
              "      <td>6.043686e+07</td>\n",
              "      <td>113.267500</td>\n",
              "      <td>2004.42650</td>\n",
              "      <td>7.044000</td>\n",
              "      <td>1.643506e+08</td>\n",
              "    </tr>\n",
              "    <tr>\n",
              "      <th>std</th>\n",
              "      <td>NaN</td>\n",
              "      <td>NaN</td>\n",
              "      <td>4.692045e+07</td>\n",
              "      <td>21.073728</td>\n",
              "      <td>7.95319</td>\n",
              "      <td>3.398947</td>\n",
              "      <td>2.186816e+08</td>\n",
              "    </tr>\n",
              "    <tr>\n",
              "      <th>min</th>\n",
              "      <td>NaN</td>\n",
              "      <td>NaN</td>\n",
              "      <td>0.000000e+00</td>\n",
              "      <td>0.000000</td>\n",
              "      <td>1940.00000</td>\n",
              "      <td>1.000000</td>\n",
              "      <td>0.000000e+00</td>\n",
              "    </tr>\n",
              "    <tr>\n",
              "      <th>25%</th>\n",
              "      <td>NaN</td>\n",
              "      <td>NaN</td>\n",
              "      <td>3.000000e+07</td>\n",
              "      <td>98.000000</td>\n",
              "      <td>2000.00000</td>\n",
              "      <td>4.000000</td>\n",
              "      <td>3.103408e+07</td>\n",
              "    </tr>\n",
              "    <tr>\n",
              "      <th>50%</th>\n",
              "      <td>NaN</td>\n",
              "      <td>NaN</td>\n",
              "      <td>4.800000e+07</td>\n",
              "      <td>110.000000</td>\n",
              "      <td>2005.00000</td>\n",
              "      <td>7.000000</td>\n",
              "      <td>9.400000e+07</td>\n",
              "    </tr>\n",
              "    <tr>\n",
              "      <th>75%</th>\n",
              "      <td>NaN</td>\n",
              "      <td>NaN</td>\n",
              "      <td>7.500000e+07</td>\n",
              "      <td>125.000000</td>\n",
              "      <td>2011.00000</td>\n",
              "      <td>10.000000</td>\n",
              "      <td>2.026695e+08</td>\n",
              "    </tr>\n",
              "    <tr>\n",
              "      <th>max</th>\n",
              "      <td>NaN</td>\n",
              "      <td>NaN</td>\n",
              "      <td>3.800000e+08</td>\n",
              "      <td>254.000000</td>\n",
              "      <td>2016.00000</td>\n",
              "      <td>12.000000</td>\n",
              "      <td>2.787965e+09</td>\n",
              "    </tr>\n",
              "  </tbody>\n",
              "</table>\n",
              "</div>"
            ],
            "text/plain": [
              "                   title   genre  ...        month       revenue\n",
              "count               2000    1916  ...  2000.000000  2.000000e+03\n",
              "unique              2000      11  ...          NaN           NaN\n",
              "top     We Own the Night  Action  ...          NaN           NaN\n",
              "freq                   1     483  ...          NaN           NaN\n",
              "mean                 NaN     NaN  ...     7.044000  1.643506e+08\n",
              "std                  NaN     NaN  ...     3.398947  2.186816e+08\n",
              "min                  NaN     NaN  ...     1.000000  0.000000e+00\n",
              "25%                  NaN     NaN  ...     4.000000  3.103408e+07\n",
              "50%                  NaN     NaN  ...     7.000000  9.400000e+07\n",
              "75%                  NaN     NaN  ...    10.000000  2.026695e+08\n",
              "max                  NaN     NaN  ...    12.000000  2.787965e+09\n",
              "\n",
              "[11 rows x 7 columns]"
            ]
          },
          "metadata": {
            "tags": []
          },
          "execution_count": 13
        }
      ]
    },
    {
      "cell_type": "markdown",
      "metadata": {
        "id": "Lp_xyRkX3SYm",
        "colab_type": "text"
      },
      "source": [
        "For example, we can see that our movie years range from 1970 to 2013, and that the minimum budget value is 7000."
      ]
    },
    {
      "cell_type": "markdown",
      "metadata": {
        "id": "V3-TxJlq3SYn",
        "colab_type": "text"
      },
      "source": [
        "Viewing a histogram of the data.  For a single column, we can view a histogram of the data with the `value_counts` method."
      ]
    },
    {
      "cell_type": "code",
      "metadata": {
        "id": "HoxGgXAj3SYn",
        "colab_type": "code",
        "outputId": "754ec7f4-f58a-4c19-eedf-44f53507927e",
        "colab": {
          "base_uri": "https://localhost:8080/",
          "height": 225
        }
      },
      "source": [
        "movies_df['genre'].value_counts()"
      ],
      "execution_count": 0,
      "outputs": [
        {
          "output_type": "execute_result",
          "data": {
            "text/plain": [
              "Action             483\n",
              "Drama              365\n",
              "Comedy             359\n",
              "Adventure          236\n",
              "Animation           93\n",
              "Fantasy             80\n",
              "Crime               76\n",
              "Thriller            73\n",
              "Horror              59\n",
              "Science Fiction     52\n",
              "Romance             40\n",
              "Name: genre, dtype: int64"
            ]
          },
          "metadata": {
            "tags": []
          },
          "execution_count": 14
        }
      ]
    },
    {
      "cell_type": "markdown",
      "metadata": {
        "id": "fASZW2Or3SYs",
        "colab_type": "text"
      },
      "source": [
        "But this method is not available across a dataframe."
      ]
    },
    {
      "cell_type": "markdown",
      "metadata": {
        "id": "9R_ZzIqG3SYs",
        "colab_type": "text"
      },
      "source": [
        "### Summary"
      ]
    },
    {
      "cell_type": "markdown",
      "metadata": {
        "id": "HezPi3873SYt",
        "colab_type": "text"
      },
      "source": [
        "In this lesson, we learned some basic methods for exploring data.  We saw how to get an overview of the data in an entire dataframe with the `head`, `tail`, `columns` and `describe` method.\n",
        "\n",
        "Then we saw how we can focus in on individual columns by plotting our data with the `plot` method, or calling `describe` on a single column, or by using the `value_counts` method."
      ]
    }
  ]
}