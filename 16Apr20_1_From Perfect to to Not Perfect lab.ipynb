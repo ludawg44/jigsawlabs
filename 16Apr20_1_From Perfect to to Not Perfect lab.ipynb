{
  "nbformat": 4,
  "nbformat_minor": 0,
  "metadata": {
    "kernelspec": {
      "display_name": "Python 3",
      "language": "python",
      "name": "python3"
    },
    "language_info": {
      "codemirror_mode": {
        "name": "ipython",
        "version": 3
      },
      "file_extension": ".py",
      "mimetype": "text/x-python",
      "name": "python",
      "nbconvert_exporter": "python",
      "pygments_lexer": "ipython3",
      "version": "3.7.4"
    },
    "colab": {
      "name": "Copy of 1-lab.ipynb",
      "provenance": [],
      "include_colab_link": true
    }
  },
  "cells": [
    {
      "cell_type": "markdown",
      "metadata": {
        "id": "view-in-github",
        "colab_type": "text"
      },
      "source": [
        "<a href=\"https://colab.research.google.com/github/ludawg44/jigsawlabs/blob/master/16Apr20_1_From%20Perfect%20to%20to%20Not%20Perfect%20lab.ipynb\" target=\"_parent\"><img src=\"https://colab.research.google.com/assets/colab-badge.svg\" alt=\"Open In Colab\"/></a>"
      ]
    },
    {
      "cell_type": "markdown",
      "metadata": {
        "id": "BJINS-X4d9Uq",
        "colab_type": "text"
      },
      "source": [
        "# From Perfect to Not Perfect Lab"
      ]
    },
    {
      "cell_type": "markdown",
      "metadata": {
        "id": "1TtN_md6d9Ur",
        "colab_type": "text"
      },
      "source": [
        "### Introduction"
      ]
    },
    {
      "cell_type": "markdown",
      "metadata": {
        "id": "Ux9J3l2Qd9Ur",
        "colab_type": "text"
      },
      "source": [
        "In this lab, we'll practice our Python and Numpy skills, while seeing what happens as we introduce error into our model."
      ]
    },
    {
      "cell_type": "markdown",
      "metadata": {
        "id": "aWcfM8Qrd9Us",
        "colab_type": "text"
      },
      "source": [
        "### Starting up"
      ]
    },
    {
      "cell_type": "markdown",
      "metadata": {
        "id": "phydR87Zd9Us",
        "colab_type": "text"
      },
      "source": [
        "Let's say that we want to model the amount of ticket sales of the opening night of a musical artist at Madison Square Garden.  We will assume that we know the underlying or true model, which is the following:"
      ]
    },
    {
      "cell_type": "markdown",
      "metadata": {
        "id": "yhp6vBMYd9Ut",
        "colab_type": "text"
      },
      "source": [
        "$tickets\\_sold = .12*weekly\\_music\\_streams - 10000$"
      ]
    },
    {
      "cell_type": "markdown",
      "metadata": {
        "id": "-ncvgeUcd9Ut",
        "colab_type": "text"
      },
      "source": [
        "Begin by creating a vector of 100 feature variables ranging from $200,000$ to $350,000$.  Use numpy's random generator with a seed of 3.  Assign the result to the variable `weekly_streams`."
      ]
    },
    {
      "cell_type": "code",
      "metadata": {
        "id": "QhC5Dc6pd9Uu",
        "colab_type": "code",
        "colab": {}
      },
      "source": [
        "import numpy.random as random\n",
        "random.seed(3)\n",
        "weekly_streams = random.randint(200000, 350000, 100)\n"
      ],
      "execution_count": 0,
      "outputs": []
    },
    {
      "cell_type": "code",
      "metadata": {
        "id": "EHJ1Vyfgd9Uy",
        "colab_type": "code",
        "outputId": "567a8d20-15e7-4a52-dc18-7dca9be062d8",
        "colab": {
          "base_uri": "https://localhost:8080/",
          "height": 34
        }
      },
      "source": [
        "weekly_streams[:3]\n",
        "# array([271530, 277049, 248056])"
      ],
      "execution_count": 0,
      "outputs": [
        {
          "output_type": "execute_result",
          "data": {
            "text/plain": [
              "array([271530, 277049, 248056])"
            ]
          },
          "metadata": {
            "tags": []
          },
          "execution_count": 4
        }
      ]
    },
    {
      "cell_type": "markdown",
      "metadata": {
        "id": "LVoEIWCvd9U0",
        "colab_type": "text"
      },
      "source": [
        "Then use numpy to create the number of ticket sales for each feature variable according to the model defined above.  The number should be rounded to the nearest integer."
      ]
    },
    {
      "cell_type": "code",
      "metadata": {
        "id": "Ok0JcHvld9U1",
        "colab_type": "code",
        "colab": {}
      },
      "source": [
        "tickets_sold = [.12 * x - 10000 for x in weekly_streams]"
      ],
      "execution_count": 0,
      "outputs": []
    },
    {
      "cell_type": "code",
      "metadata": {
        "id": "PZ_bWyDJd9U3",
        "colab_type": "code",
        "outputId": "5cbb471b-1599-4128-e1a3-626de2b62b5b",
        "colab": {
          "base_uri": "https://localhost:8080/",
          "height": 34
        }
      },
      "source": [
        "tickets_sold[:3]"
      ],
      "execution_count": 0,
      "outputs": [
        {
          "output_type": "execute_result",
          "data": {
            "text/plain": [
              "[22583.6, 23245.879999999997, 19766.719999999998]"
            ]
          },
          "metadata": {
            "tags": []
          },
          "execution_count": 23
        }
      ]
    },
    {
      "cell_type": "markdown",
      "metadata": {
        "id": "9EgRqzeAd9U6",
        "colab_type": "text"
      },
      "source": [
        "Then perform the same calculation using list comprehension in Python."
      ]
    },
    {
      "cell_type": "markdown",
      "metadata": {
        "id": "hAam4Evzd9U7",
        "colab_type": "text"
      },
      "source": [
        "> No numpy should be used in the below statement."
      ]
    },
    {
      "cell_type": "code",
      "metadata": {
        "id": "u9psNlBHmbVT",
        "colab_type": "code",
        "colab": {}
      },
      "source": [
        "import numpy as np"
      ],
      "execution_count": 0,
      "outputs": []
    },
    {
      "cell_type": "code",
      "metadata": {
        "id": "VfxrC12fd9U7",
        "colab_type": "code",
        "outputId": "417f05a4-dd0b-4be9-de06-4b38385e7e26",
        "colab": {
          "base_uri": "https://localhost:8080/",
          "height": 164
        }
      },
      "source": [
        "tickets_sold_py = .12 * tickets_sold - 10000"
      ],
      "execution_count": 0,
      "outputs": [
        {
          "output_type": "error",
          "ename": "TypeError",
          "evalue": "ignored",
          "traceback": [
            "\u001b[0;31m---------------------------------------------------------------------------\u001b[0m",
            "\u001b[0;31mTypeError\u001b[0m                                 Traceback (most recent call last)",
            "\u001b[0;32m<ipython-input-49-ab07acddce90>\u001b[0m in \u001b[0;36m<module>\u001b[0;34m()\u001b[0m\n\u001b[0;32m----> 1\u001b[0;31m \u001b[0mtickets_sold_py\u001b[0m \u001b[0;34m=\u001b[0m \u001b[0;36m.12\u001b[0m \u001b[0;34m*\u001b[0m \u001b[0mtickets_sold\u001b[0m \u001b[0;34m-\u001b[0m \u001b[0;36m10000\u001b[0m\u001b[0;34m\u001b[0m\u001b[0;34m\u001b[0m\u001b[0m\n\u001b[0m",
            "\u001b[0;31mTypeError\u001b[0m: can't multiply sequence by non-int of type 'float'"
          ]
        }
      ]
    },
    {
      "cell_type": "code",
      "metadata": {
        "id": "OzF419ZXd9U9",
        "colab_type": "code",
        "outputId": "234af7fb-1c9c-4815-a51f-2b333292c693",
        "colab": {
          "base_uri": "https://localhost:8080/",
          "height": 181
        }
      },
      "source": [
        "tickets_sold_py[:3]\n",
        "# [22584.0, 23246.0, 19767.0]"
      ],
      "execution_count": 0,
      "outputs": [
        {
          "output_type": "error",
          "ename": "NameError",
          "evalue": "ignored",
          "traceback": [
            "\u001b[0;31m---------------------------------------------------------------------------\u001b[0m",
            "\u001b[0;31mNameError\u001b[0m                                 Traceback (most recent call last)",
            "\u001b[0;32m<ipython-input-30-3c328357d714>\u001b[0m in \u001b[0;36m<module>\u001b[0;34m()\u001b[0m\n\u001b[0;32m----> 1\u001b[0;31m \u001b[0mtickets_sold_py\u001b[0m\u001b[0;34m[\u001b[0m\u001b[0;34m:\u001b[0m\u001b[0;36m3\u001b[0m\u001b[0;34m]\u001b[0m\u001b[0;34m\u001b[0m\u001b[0;34m\u001b[0m\u001b[0m\n\u001b[0m\u001b[1;32m      2\u001b[0m \u001b[0;31m# [22584.0, 23246.0, 19767.0]\u001b[0m\u001b[0;34m\u001b[0m\u001b[0;34m\u001b[0m\u001b[0;34m\u001b[0m\u001b[0m\n",
            "\u001b[0;31mNameError\u001b[0m: name 'tickets_sold_py' is not defined"
          ]
        }
      ]
    },
    {
      "cell_type": "markdown",
      "metadata": {
        "id": "8Gx-Xaavd9VA",
        "colab_type": "text"
      },
      "source": [
        "Ok, now let's fit a a linear regression model called `perfect_model` using the feature and target variables defined above."
      ]
    },
    {
      "cell_type": "markdown",
      "metadata": {
        "id": "1RIGGFRSd9VA",
        "colab_type": "text"
      },
      "source": [
        "> You can use the numpy arrays to do so."
      ]
    },
    {
      "cell_type": "code",
      "metadata": {
        "id": "7JzWhNk2ldDU",
        "colab_type": "code",
        "outputId": "80a2a36a-ffaa-4001-8c92-f03317f1e267",
        "colab": {
          "base_uri": "https://localhost:8080/",
          "height": 34
        }
      },
      "source": [
        "weekly_streams[:3]"
      ],
      "execution_count": 0,
      "outputs": [
        {
          "output_type": "execute_result",
          "data": {
            "text/plain": [
              "array([271530, 277049, 248056])"
            ]
          },
          "metadata": {
            "tags": []
          },
          "execution_count": 39
        }
      ]
    },
    {
      "cell_type": "code",
      "metadata": {
        "id": "ZSgbU2Zfli1r",
        "colab_type": "code",
        "outputId": "648af771-925d-47e3-dddd-a409db48471b",
        "colab": {
          "base_uri": "https://localhost:8080/",
          "height": 68
        }
      },
      "source": [
        "# Let's reshape weekly_streams and initialize it to X\n",
        "X = weekly_streams.reshape(-1, 1)\n",
        "X[:3]"
      ],
      "execution_count": 0,
      "outputs": [
        {
          "output_type": "execute_result",
          "data": {
            "text/plain": [
              "array([[271530],\n",
              "       [277049],\n",
              "       [248056]])"
            ]
          },
          "metadata": {
            "tags": []
          },
          "execution_count": 41
        }
      ]
    },
    {
      "cell_type": "code",
      "metadata": {
        "id": "TIDgSNZwmCTs",
        "colab_type": "code",
        "outputId": "295af840-f131-43a1-d816-099cfd7fda44",
        "colab": {
          "base_uri": "https://localhost:8080/",
          "height": 34
        }
      },
      "source": [
        "# Initialize `tickets_sold` to y\n",
        "y = tickets_sold\n",
        "y[:3]"
      ],
      "execution_count": 0,
      "outputs": [
        {
          "output_type": "execute_result",
          "data": {
            "text/plain": [
              "[22583.6, 23245.879999999997, 19766.719999999998]"
            ]
          },
          "metadata": {
            "tags": []
          },
          "execution_count": 42
        }
      ]
    },
    {
      "cell_type": "code",
      "metadata": {
        "id": "plnslDixd9VB",
        "colab_type": "code",
        "colab": {}
      },
      "source": [
        "from sklearn.linear_model import LinearRegression\n",
        "\n",
        "perfect_model = LinearRegression().fit(X, y)"
      ],
      "execution_count": 0,
      "outputs": []
    },
    {
      "cell_type": "markdown",
      "metadata": {
        "id": "I6Tqubctd9VF",
        "colab_type": "text"
      },
      "source": [
        "Then calculate the score of the model."
      ]
    },
    {
      "cell_type": "code",
      "metadata": {
        "id": "gA7X6yo-d9VF",
        "colab_type": "code",
        "outputId": "0016a169-b806-458f-bc77-b9f3850eaeeb",
        "colab": {
          "base_uri": "https://localhost:8080/",
          "height": 34
        }
      },
      "source": [
        "perfect_model.score(X, y)\n",
        "# 0.9999999961855224"
      ],
      "execution_count": 0,
      "outputs": [
        {
          "output_type": "execute_result",
          "data": {
            "text/plain": [
              "1.0"
            ]
          },
          "metadata": {
            "tags": []
          },
          "execution_count": 45
        }
      ]
    },
    {
      "cell_type": "markdown",
      "metadata": {
        "id": "slNGGRdud9VH",
        "colab_type": "text"
      },
      "source": [
        "And also calculate the root mean squared error using sklearn metrics."
      ]
    },
    {
      "cell_type": "code",
      "metadata": {
        "id": "lR8LyEfxd9VI",
        "colab_type": "code",
        "outputId": "0cd432df-2e32-41b4-9dd9-c36c8d5dcda2",
        "colab": {
          "base_uri": "https://localhost:8080/",
          "height": 34
        }
      },
      "source": [
        "from sklearn.metrics import mean_squared_error\n",
        "from math import sqrt\n",
        "\n",
        "sqrt(mean_squared_error(y, perfect_model.predict(X)))\n",
        "# 0.31460270684722097"
      ],
      "execution_count": 0,
      "outputs": [
        {
          "output_type": "execute_result",
          "data": {
            "text/plain": [
              "4.729372449219227e-12"
            ]
          },
          "metadata": {
            "tags": []
          },
          "execution_count": 54
        }
      ]
    },
    {
      "cell_type": "markdown",
      "metadata": {
        "id": "aDFZrqyed9VL",
        "colab_type": "text"
      },
      "source": [
        "> We see a small amount of error because we rounded our data above."
      ]
    },
    {
      "cell_type": "markdown",
      "metadata": {
        "id": "7cz5iUlAd9VL",
        "colab_type": "text"
      },
      "source": [
        "### Adding Error"
      ]
    },
    {
      "cell_type": "markdown",
      "metadata": {
        "id": "LPl3ER5qd9VM",
        "colab_type": "text"
      },
      "source": [
        "Ok, now let's add some error to our data and see how our model performs.  Initialize error for each observation ranging from negative 3000 to positive 3000.  Use a seed of 2."
      ]
    },
    {
      "cell_type": "code",
      "metadata": {
        "id": "N8rvon73d9VM",
        "colab_type": "code",
        "outputId": "f674e4a3-685b-41da-f659-9652550c4b95",
        "colab": {
          "base_uri": "https://localhost:8080/",
          "height": 34
        }
      },
      "source": [
        "random.seed(2)\n",
        "random_errors = random.randint(-3000, 3000, 100)\n",
        "random_errors[:3]\n",
        "# array([-425, 2704,  606])"
      ],
      "execution_count": 0,
      "outputs": [
        {
          "output_type": "execute_result",
          "data": {
            "text/plain": [
              "array([-425, 2704,  606])"
            ]
          },
          "metadata": {
            "tags": []
          },
          "execution_count": 59
        }
      ]
    },
    {
      "cell_type": "markdown",
      "metadata": {
        "id": "aXCzAZN4d9VO",
        "colab_type": "text"
      },
      "source": [
        "Add the errors to the our target variables using numpy."
      ]
    },
    {
      "cell_type": "code",
      "metadata": {
        "id": "npB6TwTed9VO",
        "colab_type": "code",
        "colab": {}
      },
      "source": [
        "tickets_with_errors = tickets_sold + random_errors"
      ],
      "execution_count": 0,
      "outputs": []
    },
    {
      "cell_type": "code",
      "metadata": {
        "id": "_CL13WeMd9VQ",
        "colab_type": "code",
        "outputId": "4f45b3fd-2a6a-4d37-baa7-5d98a6503971",
        "colab": {
          "base_uri": "https://localhost:8080/",
          "height": 34
        }
      },
      "source": [
        "tickets_with_errors[:3]\n",
        "# array([22602., 23111., 19689.])"
      ],
      "execution_count": 0,
      "outputs": [
        {
          "output_type": "execute_result",
          "data": {
            "text/plain": [
              "array([22158.6 , 25949.88, 20372.72])"
            ]
          },
          "metadata": {
            "tags": []
          },
          "execution_count": 61
        }
      ]
    },
    {
      "cell_type": "markdown",
      "metadata": {
        "id": "B3lKbD3Cd9VS",
        "colab_type": "text"
      },
      "source": [
        "Now let's see how our previously trained model performs when our new `tickets_with_errors` data.  Calculate the score for with the new data."
      ]
    },
    {
      "cell_type": "code",
      "metadata": {
        "id": "VFoxcMphd9VS",
        "colab_type": "code",
        "outputId": "b558e3fd-ad73-4bb8-f9ea-b33d05d59d75",
        "colab": {
          "base_uri": "https://localhost:8080/",
          "height": 34
        }
      },
      "source": [
        "perfect_model.score(X, tickets_with_errors)\n",
        "# 0.8906120056548548"
      ],
      "execution_count": 0,
      "outputs": [
        {
          "output_type": "execute_result",
          "data": {
            "text/plain": [
              "0.8906122733742218"
            ]
          },
          "metadata": {
            "tags": []
          },
          "execution_count": 66
        }
      ]
    },
    {
      "cell_type": "markdown",
      "metadata": {
        "id": "MGWIvi47d9VU",
        "colab_type": "text"
      },
      "source": [
        "Now plot both the model's predictions and the data with error matplotlib."
      ]
    },
    {
      "cell_type": "code",
      "metadata": {
        "id": "-3AudABU5zdu",
        "colab_type": "code",
        "outputId": "ad1dde9d-94fc-4dfb-facf-66f0a0b68b22",
        "colab": {
          "base_uri": "https://localhost:8080/",
          "height": 34
        }
      },
      "source": [
        "# Display `perfect_model.predict(X)`\n",
        "perfect_model.predict(X).shape"
      ],
      "execution_count": 0,
      "outputs": [
        {
          "output_type": "execute_result",
          "data": {
            "text/plain": [
              "(100,)"
            ]
          },
          "metadata": {
            "tags": []
          },
          "execution_count": 73
        }
      ]
    },
    {
      "cell_type": "code",
      "metadata": {
        "id": "ietT8qvC6Pxd",
        "colab_type": "code",
        "outputId": "23ef1a12-aca0-4460-cb14-fb97b51d4110",
        "colab": {
          "base_uri": "https://localhost:8080/",
          "height": 34
        }
      },
      "source": [
        "# The `predict()` gives you the prediction of y. You're inputting X into it. The prediction line plot will take both X and prediction values.\n",
        "predictions = perfect_model.predict(X)\n",
        "predictions[:3]"
      ],
      "execution_count": 0,
      "outputs": [
        {
          "output_type": "execute_result",
          "data": {
            "text/plain": [
              "array([22583.6 , 23245.88, 19766.72])"
            ]
          },
          "metadata": {
            "tags": []
          },
          "execution_count": 78
        }
      ]
    },
    {
      "cell_type": "code",
      "metadata": {
        "id": "llHpc9W_d9VV",
        "colab_type": "code",
        "outputId": "4c842e05-911f-4bcd-c99f-8468fea31e9f",
        "colab": {
          "base_uri": "https://localhost:8080/",
          "height": 265
        }
      },
      "source": [
        "import matplotlib.pyplot as plt\n",
        "% matplotlib inline\n",
        "\n",
        "fig = plt.figure()\n",
        "ax = fig.add_subplot(1,1,1)\n",
        "ax.scatter(X, tickets_with_errors)\n",
        "ax.plot(X, predictions, 'r-')\n",
        "plt.show()"
      ],
      "execution_count": 0,
      "outputs": [
        {
          "output_type": "display_data",
          "data": {
            "image/png": "[encoded data removed]",
            "text/plain": [
              "<Figure size 432x288 with 1 Axes>"
            ]
          },
          "metadata": {
            "tags": [],
            "needs_background": "light"
          }
        }
      ]
    },
    {
      "cell_type": "markdown",
      "metadata": {
        "id": "RNolniDfd9VX",
        "colab_type": "text"
      },
      "source": [
        "> Answer: <img src=\"https://github.com/jigsawlabs-student/train-test-split/blob/master/minor-error.png?raw=1\" width=\"50%\">"
      ]
    },
    {
      "cell_type": "markdown",
      "metadata": {
        "id": "o5cww33gd9VX",
        "colab_type": "text"
      },
      "source": [
        "Now let's see how our model performs if we increase the error from between -3000 to 3000, to -5000 to 5000.  Assign the new targets to `tickets_larger_error`."
      ]
    },
    {
      "cell_type": "code",
      "metadata": {
        "id": "ETczwvUpd9VX",
        "colab_type": "code",
        "outputId": "ab5421bd-1efa-4143-a73f-cf1328e748f8",
        "colab": {
          "base_uri": "https://localhost:8080/",
          "height": 34
        }
      },
      "source": [
        "\n",
        "import numpy as np\n",
        "random.seed(3)\n",
        "tickets_larger_error = np.random.randint(-5000, 5000, 100)+ tickets_with_errors\n",
        "tickets_larger_error[:3]\n",
        "\n",
        "# array([24920., 20821., 21404.])"
      ],
      "execution_count": 0,
      "outputs": [
        {
          "output_type": "execute_result",
          "data": {
            "text/plain": [
              "array([23152.6 , 22637.88, 25231.72])"
            ]
          },
          "metadata": {
            "tags": []
          },
          "execution_count": 93
        }
      ]
    },
    {
      "cell_type": "markdown",
      "metadata": {
        "id": "qtzYhVtjd9Va",
        "colab_type": "text"
      },
      "source": [
        "Calculate the score."
      ]
    },
    {
      "cell_type": "code",
      "metadata": {
        "id": "xUlIrhlnd9Va",
        "colab_type": "code",
        "outputId": "5c3bc9bf-c47d-4edc-f86c-77b5d1c4deec",
        "colab": {
          "base_uri": "https://localhost:8080/",
          "height": 34
        }
      },
      "source": [
        "perfect_model.score(X, tickets_larger_error)\n",
        "# 0.7853455211240589"
      ],
      "execution_count": 0,
      "outputs": [
        {
          "output_type": "execute_result",
          "data": {
            "text/plain": [
              "0.674553599557519"
            ]
          },
          "metadata": {
            "tags": []
          },
          "execution_count": 95
        }
      ]
    },
    {
      "cell_type": "markdown",
      "metadata": {
        "id": "PMLPASz2d9Vc",
        "colab_type": "text"
      },
      "source": [
        "So we can see that the larger the built in random error, the lower the score.  And there is nothing we can do about it."
      ]
    },
    {
      "cell_type": "markdown",
      "metadata": {
        "id": "Y6pjcKXFd9Vd",
        "colab_type": "text"
      },
      "source": [
        "Then, once again, plot the model's predictions along side the new `tickets_larger_error` data."
      ]
    },
    {
      "cell_type": "code",
      "metadata": {
        "id": "6I8QHZhyd9Vd",
        "colab_type": "code",
        "outputId": "9bfaa951-8913-4b62-8db8-7ffe5e05cf46",
        "colab": {
          "base_uri": "https://localhost:8080/",
          "height": 265
        }
      },
      "source": [
        "import matplotlib.pyplot as plt\n",
        "% matplotlib inline\n",
        "\n",
        "fig = plt.figure()\n",
        "ax = fig.add_subplot(1,1,1)\n",
        "ax.scatter(X, tickets_larger_error)\n",
        "ax.plot(X, predictions, 'r-')\n",
        "plt.show()"
      ],
      "execution_count": 0,
      "outputs": [
        {
          "output_type": "display_data",
          "data": {
            "image/png": "[encoded data removed]",
            "text/plain": [
              "<Figure size 432x288 with 1 Axes>"
            ]
          },
          "metadata": {
            "tags": [],
            "needs_background": "light"
          }
        }
      ]
    },
    {
      "cell_type": "markdown",
      "metadata": {
        "id": "kRUOuPQHd9Vf",
        "colab_type": "text"
      },
      "source": [
        "> Answer: <img src=\"https://github.com/jigsawlabs-student/train-test-split/blob/master/larger-error.png?raw=1\" width=\"50%\">"
      ]
    },
    {
      "cell_type": "markdown",
      "metadata": {
        "id": "cmnL6Df_d9Vf",
        "colab_type": "text"
      },
      "source": [
        "So the predictions are the same, it's just the data. that has more error in it."
      ]
    },
    {
      "cell_type": "markdown",
      "metadata": {
        "id": "HiMoW8ZQd9Vf",
        "colab_type": "text"
      },
      "source": [
        "### Bonus"
      ]
    },
    {
      "cell_type": "markdown",
      "metadata": {
        "id": "VrGad1Kwd9Vg",
        "colab_type": "text"
      },
      "source": [
        "You likely generated the `tickets_larger_error` in numpy.  Try adding the error to each target variable, this time with list comprehension."
      ]
    },
    {
      "cell_type": "code",
      "metadata": {
        "id": "2kpWDhN-AmY6",
        "colab_type": "code",
        "outputId": "6db43a01-82b2-403c-c427-0e4276e308a4",
        "colab": {
          "base_uri": "https://localhost:8080/",
          "height": 34
        }
      },
      "source": [
        "# Difference\n",
        "y[:3]"
      ],
      "execution_count": 0,
      "outputs": [
        {
          "output_type": "execute_result",
          "data": {
            "text/plain": [
              "[22583.6, 23245.879999999997, 19766.719999999998]"
            ]
          },
          "metadata": {
            "tags": []
          },
          "execution_count": 104
        }
      ]
    },
    {
      "cell_type": "code",
      "metadata": {
        "id": "QrPc4zGDEQs5",
        "colab_type": "code",
        "colab": {}
      },
      "source": [
        "# Example\n",
        "#[x + y for x in l2 for y in l1 ]"
      ],
      "execution_count": 0,
      "outputs": []
    },
    {
      "cell_type": "code",
      "metadata": {
        "id": "PbXu1_Cdd9Vg",
        "colab_type": "code",
        "outputId": "1c248237-ebed-4fcf-bf46-c7a3a1453afc",
        "colab": {
          "base_uri": "https://localhost:8080/",
          "height": 34
        }
      },
      "source": [
        "np.random.seed(2)\n",
        "larger_errors = np.random.randint(-5000, 5000, 100)\n",
        "\n",
        "tickets_larger_errors = [i+j for i in y for j in larger_errors]\n",
        "tickets_larger_errors[:3]\n",
        "# [24920.0, 20821.0, 21404.0]"
      ],
      "execution_count": 0,
      "outputs": [
        {
          "output_type": "execute_result",
          "data": {
            "text/plain": [
              "[24919.6, 20158.6, 24220.6]"
            ]
          },
          "metadata": {
            "tags": []
          },
          "execution_count": 111
        }
      ]
    },
    {
      "cell_type": "code",
      "metadata": {
        "id": "vXLhra7yd9Vi",
        "colab_type": "code",
        "colab": {}
      },
      "source": [
        ""
      ],
      "execution_count": 0,
      "outputs": []
    }
  ]
}