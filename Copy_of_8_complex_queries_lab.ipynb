{
  "nbformat": 4,
  "nbformat_minor": 0,
  "metadata": {
    "kernelspec": {
      "display_name": "Python 3",
      "language": "python",
      "name": "python3"
    },
    "language_info": {
      "codemirror_mode": {
        "name": "ipython",
        "version": 3
      },
      "file_extension": ".py",
      "mimetype": "text/x-python",
      "name": "python",
      "nbconvert_exporter": "python",
      "pygments_lexer": "ipython3",
      "version": "3.7.4"
    },
    "colab": {
      "name": "Copy of 8-complex-queries-lab.ipynb",
      "provenance": [],
      "include_colab_link": true
    }
  },
  "cells": [
    {
      "cell_type": "markdown",
      "metadata": {
        "id": "view-in-github",
        "colab_type": "text"
      },
      "source": [
        "<a href=\"https://colab.research.google.com/github/ludawg44/jigsawlabs/blob/master/Copy_of_8_complex_queries_lab.ipynb\" target=\"_parent\"><img src=\"https://colab.research.google.com/assets/colab-badge.svg\" alt=\"Open In Colab\"/></a>"
      ]
    },
    {
      "cell_type": "markdown",
      "metadata": {
        "id": "OC_9T26sn2ks",
        "colab_type": "text"
      },
      "source": [
        "# Complex Queries Lab "
      ]
    },
    {
      "cell_type": "markdown",
      "metadata": {
        "id": "Ja9riaNOn2kv",
        "colab_type": "text"
      },
      "source": [
        "### Introduction"
      ]
    },
    {
      "cell_type": "markdown",
      "metadata": {
        "id": "yU-Bmj_An2kw",
        "colab_type": "text"
      },
      "source": [
        "Over the last couple of lessons, we learned about how to perform more complex queries with the conditions of: \n",
        "\n",
        "* `np.isin`\n",
        "* `np.any`\n",
        "* `np.and`\n",
        "\n",
        "And how to combine multiple conditions with the `&` and `|` operators.  In this lab, we'll put this knowledge towards querying our Spotify dataset."
      ]
    },
    {
      "cell_type": "markdown",
      "metadata": {
        "id": "LF3Phmy2n2kx",
        "colab_type": "text"
      },
      "source": [
        "### Loading Our Data"
      ]
    },
    {
      "cell_type": "markdown",
      "metadata": {
        "id": "7sZ3y3r3n2kx",
        "colab_type": "text"
      },
      "source": [
        "Let's load our Spotify dataset.  Remember that this has will give us the top songs from 2010 to 2019."
      ]
    },
    {
      "cell_type": "code",
      "metadata": {
        "id": "q4UiaoJcn2ky",
        "colab_type": "code",
        "outputId": "37f413ee-f279-4171-afa3-77a9e4be19dd",
        "colab": {
          "base_uri": "https://localhost:8080/",
          "height": 204
        }
      },
      "source": [
        "import pandas as pd\n",
        "import numpy as np\n",
        "url = \"https://raw.githubusercontent.com/jigsawlabs-student/numpy-intro/master/top10s.csv\"\n",
        "tracks_df = pd.read_csv(url, encoding = \"ISO-8859-1\", index_col = 0)\n",
        "tracks_df.head()"
      ],
      "execution_count": 0,
      "outputs": [
        {
          "output_type": "execute_result",
          "data": {
            "text/html": [
              "<div>\n",
              "<style scoped>\n",
              "    .dataframe tbody tr th:only-of-type {\n",
              "        vertical-align: middle;\n",
              "    }\n",
              "\n",
              "    .dataframe tbody tr th {\n",
              "        vertical-align: top;\n",
              "    }\n",
              "\n",
              "    .dataframe thead th {\n",
              "        text-align: right;\n",
              "    }\n",
              "</style>\n",
              "<table border=\"1\" class=\"dataframe\">\n",
              "  <thead>\n",
              "    <tr style=\"text-align: right;\">\n",
              "      <th></th>\n",
              "      <th>title</th>\n",
              "      <th>artist</th>\n",
              "      <th>top genre</th>\n",
              "      <th>year</th>\n",
              "      <th>bpm</th>\n",
              "      <th>nrgy</th>\n",
              "      <th>dnce</th>\n",
              "      <th>dB</th>\n",
              "      <th>live</th>\n",
              "      <th>val</th>\n",
              "      <th>dur</th>\n",
              "      <th>acous</th>\n",
              "      <th>spch</th>\n",
              "      <th>pop</th>\n",
              "    </tr>\n",
              "  </thead>\n",
              "  <tbody>\n",
              "    <tr>\n",
              "      <th>1</th>\n",
              "      <td>Hey, Soul Sister</td>\n",
              "      <td>Train</td>\n",
              "      <td>neo mellow</td>\n",
              "      <td>2010</td>\n",
              "      <td>97</td>\n",
              "      <td>89</td>\n",
              "      <td>67</td>\n",
              "      <td>-4</td>\n",
              "      <td>8</td>\n",
              "      <td>80</td>\n",
              "      <td>217</td>\n",
              "      <td>19</td>\n",
              "      <td>4</td>\n",
              "      <td>83</td>\n",
              "    </tr>\n",
              "    <tr>\n",
              "      <th>2</th>\n",
              "      <td>Love The Way You Lie</td>\n",
              "      <td>Eminem</td>\n",
              "      <td>detroit hip hop</td>\n",
              "      <td>2010</td>\n",
              "      <td>87</td>\n",
              "      <td>93</td>\n",
              "      <td>75</td>\n",
              "      <td>-5</td>\n",
              "      <td>52</td>\n",
              "      <td>64</td>\n",
              "      <td>263</td>\n",
              "      <td>24</td>\n",
              "      <td>23</td>\n",
              "      <td>82</td>\n",
              "    </tr>\n",
              "    <tr>\n",
              "      <th>3</th>\n",
              "      <td>TiK ToK</td>\n",
              "      <td>Kesha</td>\n",
              "      <td>dance pop</td>\n",
              "      <td>2010</td>\n",
              "      <td>120</td>\n",
              "      <td>84</td>\n",
              "      <td>76</td>\n",
              "      <td>-3</td>\n",
              "      <td>29</td>\n",
              "      <td>71</td>\n",
              "      <td>200</td>\n",
              "      <td>10</td>\n",
              "      <td>14</td>\n",
              "      <td>80</td>\n",
              "    </tr>\n",
              "    <tr>\n",
              "      <th>4</th>\n",
              "      <td>Bad Romance</td>\n",
              "      <td>Lady Gaga</td>\n",
              "      <td>dance pop</td>\n",
              "      <td>2010</td>\n",
              "      <td>119</td>\n",
              "      <td>92</td>\n",
              "      <td>70</td>\n",
              "      <td>-4</td>\n",
              "      <td>8</td>\n",
              "      <td>71</td>\n",
              "      <td>295</td>\n",
              "      <td>0</td>\n",
              "      <td>4</td>\n",
              "      <td>79</td>\n",
              "    </tr>\n",
              "    <tr>\n",
              "      <th>5</th>\n",
              "      <td>Just the Way You Are</td>\n",
              "      <td>Bruno Mars</td>\n",
              "      <td>pop</td>\n",
              "      <td>2010</td>\n",
              "      <td>109</td>\n",
              "      <td>84</td>\n",
              "      <td>64</td>\n",
              "      <td>-5</td>\n",
              "      <td>9</td>\n",
              "      <td>43</td>\n",
              "      <td>221</td>\n",
              "      <td>2</td>\n",
              "      <td>4</td>\n",
              "      <td>78</td>\n",
              "    </tr>\n",
              "  </tbody>\n",
              "</table>\n",
              "</div>"
            ],
            "text/plain": [
              "                  title      artist        top genre  ...  acous  spch  pop\n",
              "1      Hey, Soul Sister       Train       neo mellow  ...     19     4   83\n",
              "2  Love The Way You Lie      Eminem  detroit hip hop  ...     24    23   82\n",
              "3               TiK ToK       Kesha        dance pop  ...     10    14   80\n",
              "4           Bad Romance   Lady Gaga        dance pop  ...      0     4   79\n",
              "5  Just the Way You Are  Bruno Mars              pop  ...      2     4   78\n",
              "\n",
              "[5 rows x 14 columns]"
            ]
          },
          "metadata": {
            "tags": []
          },
          "execution_count": 2
        }
      ]
    },
    {
      "cell_type": "code",
      "metadata": {
        "id": "q12sGQSOn2k4",
        "colab_type": "code",
        "colab": {}
      },
      "source": [
        "tracks_cols = tracks_df.columns"
      ],
      "execution_count": 0,
      "outputs": []
    },
    {
      "cell_type": "code",
      "metadata": {
        "id": "2XIpwdexn2k7",
        "colab_type": "code",
        "colab": {}
      },
      "source": [
        "tracks_np = tracks_df.to_numpy()"
      ],
      "execution_count": 0,
      "outputs": []
    },
    {
      "cell_type": "markdown",
      "metadata": {
        "id": "5pLfF7RHn2k-",
        "colab_type": "text"
      },
      "source": [
        "### Exploring the Data"
      ]
    },
    {
      "cell_type": "markdown",
      "metadata": {
        "id": "W8_j9lwnn2lA",
        "colab_type": "text"
      },
      "source": [
        "Let's again, get a sense of what this dataset looks like.  Begin by checking the shape of the `tracks_np` array."
      ]
    },
    {
      "cell_type": "code",
      "metadata": {
        "id": "6RDK2zp_n2lB",
        "colab_type": "code",
        "colab": {}
      },
      "source": [
        "tracks_shape = None\n",
        "tracks_shape\n",
        "# (603, 14)"
      ],
      "execution_count": 0,
      "outputs": []
    },
    {
      "cell_type": "markdown",
      "metadata": {
        "id": "-L3fCA5xn2lF",
        "colab_type": "text"
      },
      "source": [
        "Then let's select the first three rows from array and first four columns."
      ]
    },
    {
      "cell_type": "code",
      "metadata": {
        "id": "ftqKuPbon2lG",
        "colab_type": "code",
        "colab": {}
      },
      "source": [
        "# write code here\n",
        "\n",
        "# array([['Hey, Soul Sister', 'Train', 'neo mellow', 2010],\n",
        "#        ['Love The Way You Lie', 'Eminem', 'detroit hip hop', 2010],\n",
        "#        ['TiK ToK', 'Kesha', 'dance pop', 2010]], dtype=object)"
      ],
      "execution_count": 0,
      "outputs": []
    },
    {
      "cell_type": "markdown",
      "metadata": {
        "id": "EDVCYjaon2lJ",
        "colab_type": "text"
      },
      "source": [
        "### Filtering Data"
      ]
    },
    {
      "cell_type": "markdown",
      "metadata": {
        "id": "Pkz6XSC1n2lK",
        "colab_type": "text"
      },
      "source": [
        "Now for this lab, we'll start you off by providing you with some of the artists and genres that showed up most in this dataset."
      ]
    },
    {
      "cell_type": "code",
      "metadata": {
        "id": "_1T9kpPLn2lL",
        "colab_type": "code",
        "colab": {}
      },
      "source": [
        "top_artists = ['Katy Perry', 'Justin Bieber', 'Maroon 5', 'Rihanna', 'Lady Gaga',\n",
        "       'Bruno Mars', 'The Chainsmokers', 'Pitbull', 'Ed Sheeran',\n",
        "       'Shawn Mendes']"
      ],
      "execution_count": 0,
      "outputs": []
    },
    {
      "cell_type": "code",
      "metadata": {
        "id": "8U_ujsObn2lN",
        "colab_type": "code",
        "colab": {}
      },
      "source": [
        "top_genres = ['dance pop', 'pop', 'canadian pop', 'barbadian pop', 'boy band',\n",
        "       'electropop', 'british soul', 'big room',\n",
        "       'canadian contemporary r&b', 'neo mellow']"
      ],
      "execution_count": 0,
      "outputs": []
    },
    {
      "cell_type": "markdown",
      "metadata": {
        "id": "_Zel-B4Mn2lQ",
        "colab_type": "text"
      },
      "source": [
        "1. barbadian pop?"
      ]
    },
    {
      "cell_type": "markdown",
      "metadata": {
        "id": "RV0ir824n2lR",
        "colab_type": "text"
      },
      "source": [
        "But don't just take our word for it.  `Barbadian pop`, for example, is that really a top genre in the US?    Select all of the tracks of type `barbadian pop` and assign it the variable `barabadian_pop_songs`."
      ]
    },
    {
      "cell_type": "code",
      "metadata": {
        "id": "GnDnU7OAn2lS",
        "colab_type": "code",
        "colab": {}
      },
      "source": [
        "barabadian_pop_songs = None"
      ],
      "execution_count": 0,
      "outputs": []
    },
    {
      "cell_type": "code",
      "metadata": {
        "id": "8hIQyaIDn2lW",
        "colab_type": "code",
        "colab": {}
      },
      "source": [
        "len(barabadian_pop_songs)"
      ],
      "execution_count": 0,
      "outputs": []
    },
    {
      "cell_type": "markdown",
      "metadata": {
        "id": "t16pxd8dn2lZ",
        "colab_type": "text"
      },
      "source": [
        "We can use `np.unique` to see if all of these `barabadian_pop_songs` were written by Rihanna."
      ]
    },
    {
      "cell_type": "code",
      "metadata": {
        "id": "aVUy6Y1in2la",
        "colab_type": "code",
        "outputId": "158e2186-1d05-4d74-b036-28bb47fd2064",
        "colab": {}
      },
      "source": [
        "np.unique(barabadian_pop_songs[:, 1], return_counts = True)"
      ],
      "execution_count": 0,
      "outputs": [
        {
          "output_type": "execute_result",
          "data": {
            "text/plain": [
              "(array(['Rihanna'], dtype=object), array([15]))"
            ]
          },
          "metadata": {
            "tags": []
          },
          "execution_count": 87
        }
      ]
    },
    {
      "cell_type": "markdown",
      "metadata": {
        "id": "mXqTs8kBn2lc",
        "colab_type": "text"
      },
      "source": [
        "So all of these songs were written by Rihanna."
      ]
    },
    {
      "cell_type": "markdown",
      "metadata": {
        "id": "rYcXN834n2ld",
        "colab_type": "text"
      },
      "source": [
        "2. All the pop"
      ]
    },
    {
      "cell_type": "markdown",
      "metadata": {
        "id": "RQ1exzLQn2lf",
        "colab_type": "text"
      },
      "source": [
        "Let's look again at our list of genres."
      ]
    },
    {
      "cell_type": "code",
      "metadata": {
        "id": "hkjVpDemn2lg",
        "colab_type": "code",
        "colab": {}
      },
      "source": [
        "top_genres = ['dance pop', 'pop', 'canadian pop', 'barbadian pop', 'boy band',\n",
        "       'electropop', 'british soul', 'big room',\n",
        "       'canadian contemporary r&b', 'neo mellow']"
      ],
      "execution_count": 0,
      "outputs": []
    },
    {
      "cell_type": "markdown",
      "metadata": {
        "id": "7mJStNZ5n2lj",
        "colab_type": "text"
      },
      "source": [
        "Looking at the above list of genres, the first six categories all look like different versions of `pop`.  Select all of the tracks that fall into one of these six categories."
      ]
    },
    {
      "cell_type": "code",
      "metadata": {
        "id": "VXxQN3Qon2lk",
        "colab_type": "code",
        "colab": {}
      },
      "source": [
        "pop_songs = None"
      ],
      "execution_count": 0,
      "outputs": []
    },
    {
      "cell_type": "code",
      "metadata": {
        "id": "p002Hw3Nn2ln",
        "colab_type": "code",
        "outputId": "e682f29f-ac8e-4b5b-a7e8-9b235b387625",
        "colab": {}
      },
      "source": [
        "len(pop_songs)"
      ],
      "execution_count": 0,
      "outputs": [
        {
          "output_type": "execute_result",
          "data": {
            "text/plain": [
              "464"
            ]
          },
          "metadata": {
            "tags": []
          },
          "execution_count": 89
        }
      ]
    },
    {
      "cell_type": "markdown",
      "metadata": {
        "id": "39bum9XRn2lr",
        "colab_type": "text"
      },
      "source": [
        "Ok, so 464 of the tracks are in one of these six genres."
      ]
    },
    {
      "cell_type": "markdown",
      "metadata": {
        "id": "ap9_XoLwn2ls",
        "colab_type": "text"
      },
      "source": [
        "3. Digging into dance pop"
      ]
    },
    {
      "cell_type": "markdown",
      "metadata": {
        "id": "oYu5FCQLn2lt",
        "colab_type": "text"
      },
      "source": [
        "Now let's dig into the `dance pop` category.  First select all of the columns of type `dance pop`.  "
      ]
    },
    {
      "cell_type": "code",
      "metadata": {
        "id": "fOQMVwFEn2lu",
        "colab_type": "code",
        "colab": {}
      },
      "source": [
        "dance_pop = None"
      ],
      "execution_count": 0,
      "outputs": []
    },
    {
      "cell_type": "code",
      "metadata": {
        "id": "1tAIqpxAn2lx",
        "colab_type": "code",
        "outputId": "652f0505-cc5c-40bf-9136-e86325544394",
        "colab": {}
      },
      "source": [
        "len(dance_pop)"
      ],
      "execution_count": 0,
      "outputs": [
        {
          "output_type": "execute_result",
          "data": {
            "text/plain": [
              "327"
            ]
          },
          "metadata": {
            "tags": []
          },
          "execution_count": 91
        }
      ]
    },
    {
      "cell_type": "markdown",
      "metadata": {
        "id": "Hv9SNFxan2l0",
        "colab_type": "text"
      },
      "source": [
        "4. Low scoring pop "
      ]
    },
    {
      "cell_type": "markdown",
      "metadata": {
        "id": "psrScOFrn2l1",
        "colab_type": "text"
      },
      "source": [
        "Next, select any dance pop song that has `bpm`, `nrgy`, `'dnce'`, `dB` under 25."
      ]
    },
    {
      "cell_type": "markdown",
      "metadata": {
        "id": "5Mf03sDan2l2",
        "colab_type": "text"
      },
      "source": [
        "> For pop songs, the scores for beats per minute (bpm), nrgy, dnce, and loudness measured in decibels (dB) range from the low 20s to high 90s.  So under 25 is pretty low."
      ]
    },
    {
      "cell_type": "markdown",
      "metadata": {
        "id": "Bo2v7qJ5n2l3",
        "colab_type": "text"
      },
      "source": [
        "Again here are the columns."
      ]
    },
    {
      "cell_type": "code",
      "metadata": {
        "id": "UpJAcp3Qn2l4",
        "colab_type": "code",
        "outputId": "4c0f9e97-0c92-4d91-88d1-ea2bec1563cc",
        "colab": {}
      },
      "source": [
        "tracks_cols"
      ],
      "execution_count": 0,
      "outputs": [
        {
          "output_type": "execute_result",
          "data": {
            "text/plain": [
              "Index(['title', 'artist', 'top genre', 'year', 'bpm', 'nrgy', 'dnce', 'dB',\n",
              "       'live', 'val', 'dur', 'acous', 'spch', 'pop'],\n",
              "      dtype='object')"
            ]
          },
          "metadata": {
            "tags": []
          },
          "execution_count": 186
        }
      ]
    },
    {
      "cell_type": "code",
      "metadata": {
        "id": "A3-nMzemn2l7",
        "colab_type": "code",
        "colab": {}
      },
      "source": [
        "low_scoring_pop = None\n",
        "\n",
        "# array([['You Lost Me', 'Christina Aguilera', 'dance pop', 2010, 43, 39,\n",
        "#         23, -6, 14, 7, 257, 85, 4, 56],\n",
        "#        ['Clown', 'Emeli Sandé', 'dance pop', 2013, 130, 23, 45, -8, 11,\n",
        "#         23, 221, 92, 4, 60]], dtype=object)"
      ],
      "execution_count": 0,
      "outputs": []
    },
    {
      "cell_type": "markdown",
      "metadata": {
        "id": "B4Fr9-gmn2l8",
        "colab_type": "text"
      },
      "source": [
        "5. High scoring pop "
      ]
    },
    {
      "cell_type": "markdown",
      "metadata": {
        "id": "reIGVhswn2l-",
        "colab_type": "text"
      },
      "source": [
        "Next select songs where all of 'bpm', 'nrgy', 'dnce', and 'dB' are greater than 81."
      ]
    },
    {
      "cell_type": "code",
      "metadata": {
        "id": "cMBqrgZLn2l_",
        "colab_type": "code",
        "colab": {}
      },
      "source": [
        "highs_across = None\n",
        "highs_across\n",
        "# array([['Telephone', 'Lady Gaga', 'dance pop', 2010, 122, 83, 83, -6, 11,\n",
        "#         71, 221, 1, 4, 73],\n",
        "#        ['Sparks', 'Hilary Duff', 'dance pop', 2015, 122, 88, 85, -5, 10,\n",
        "#         79, 186, 4, 6, 44],\n",
        "#        ['WTF (Where They From)', 'Missy Elliott', 'dance pop', 2016, 120,\n",
        "#         82, 93, -3, 6, 56, 193, 2, 20, 58],\n",
        "#        ['My Way', 'Calvin Harris', 'dance pop', 2017, 120, 91, 82, -3,\n",
        "#         16, 54, 219, 9, 4, 78]], dtype=object)\n"
      ],
      "execution_count": 0,
      "outputs": []
    },
    {
      "cell_type": "markdown",
      "metadata": {
        "id": "kpKYDBmDn2mB",
        "colab_type": "text"
      },
      "source": [
        "6. Fast but not pop "
      ]
    },
    {
      "cell_type": "markdown",
      "metadata": {
        "id": "1ioKSIU3n2mC",
        "colab_type": "text"
      },
      "source": [
        "Next let's find the songs that are not in one of the top six genres and are faster than 120 bpm."
      ]
    },
    {
      "cell_type": "code",
      "metadata": {
        "id": "xVIdpjM0n2mD",
        "colab_type": "code",
        "colab": {}
      },
      "source": [
        "\n",
        "\n",
        "non_top_pop_and_fast = None"
      ],
      "execution_count": 0,
      "outputs": []
    },
    {
      "cell_type": "code",
      "metadata": {
        "id": "Yf0SQ7-cn2mF",
        "colab_type": "code",
        "colab": {}
      },
      "source": [
        "# len(non_top_pop_and_fast)\n",
        "\n",
        "# 62"
      ],
      "execution_count": 0,
      "outputs": []
    },
    {
      "cell_type": "markdown",
      "metadata": {
        "id": "akBw5fx9n2mI",
        "colab_type": "text"
      },
      "source": [
        "Let's look at the genres that meet the above condition."
      ]
    },
    {
      "cell_type": "code",
      "metadata": {
        "id": "Qey0lDoGn2mJ",
        "colab_type": "code",
        "outputId": "2647270c-a8a1-41ae-f710-ef787ac0682f",
        "colab": {}
      },
      "source": [
        "np.unique(non_top_pop_and_fast[:, 2], return_counts = True)\n",
        "\n",
        "# (array(['acoustic pop', 'alaska indie', 'alternative r&b', 'art pop',\n",
        "#         'atl hip hop', 'australian dance', 'australian pop', 'baroque pop',\n",
        "#         'belgian edm', 'big room', 'british soul', 'brostep',\n",
        "#         'canadian contemporary r&b', 'candy pop', 'chicago rap',\n",
        "#         'colombian pop', 'complextro', 'downtempo', 'electro house',\n",
        "#         'escape room', 'french indie pop', 'house', 'indie pop',\n",
        "#         'irish singer-songwriter', 'latin', 'metropopolis', 'neo mellow',\n",
        "#         'permanent wave', 'tropical house'], dtype=object),\n",
        "#  array([2, 1, 1, 3, 1, 3, 5, 1, 2, 7, 6, 1, 2, 1, 1, 2, 4, 1, 1, 1, 1, 1,\n",
        "#         2, 1, 2, 1, 2, 4, 2]))"
      ],
      "execution_count": 0,
      "outputs": [
        {
          "output_type": "execute_result",
          "data": {
            "text/plain": [
              "(array(['acoustic pop', 'alaska indie', 'alternative r&b', 'art pop',\n",
              "        'atl hip hop', 'australian dance', 'australian pop', 'baroque pop',\n",
              "        'belgian edm', 'big room', 'british soul', 'brostep',\n",
              "        'canadian contemporary r&b', 'candy pop', 'chicago rap',\n",
              "        'colombian pop', 'complextro', 'downtempo', 'electro house',\n",
              "        'escape room', 'french indie pop', 'house', 'indie pop',\n",
              "        'irish singer-songwriter', 'latin', 'metropopolis', 'neo mellow',\n",
              "        'permanent wave', 'tropical house'], dtype=object),\n",
              " array([2, 1, 1, 3, 1, 3, 5, 1, 2, 7, 6, 1, 2, 1, 1, 2, 4, 1, 1, 1, 1, 1,\n",
              "        2, 1, 2, 1, 2, 4, 2]))"
            ]
          },
          "metadata": {
            "tags": []
          },
          "execution_count": 217
        }
      ]
    },
    {
      "cell_type": "markdown",
      "metadata": {
        "id": "DhmdmxWNn2mM",
        "colab_type": "text"
      },
      "source": [
        "### Summary"
      ]
    },
    {
      "cell_type": "markdown",
      "metadata": {
        "id": "UsxmFoCIn2mN",
        "colab_type": "text"
      },
      "source": [
        "In this lesson, we had practice working with the numpy methods like `np.any`, `np.all` and `np.isin` to create different kinds of conditions.  And we practiced combining conditions in a single query with the `&` and `|` operators."
      ]
    }
  ]
}