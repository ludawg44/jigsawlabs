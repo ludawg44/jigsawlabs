{
  "nbformat": 4,
  "nbformat_minor": 0,
  "metadata": {
    "kernelspec": {
      "display_name": "Python 3",
      "language": "python",
      "name": "python3"
    },
    "language_info": {
      "codemirror_mode": {
        "name": "ipython",
        "version": 3
      },
      "file_extension": ".py",
      "mimetype": "text/x-python",
      "name": "python",
      "nbconvert_exporter": "python",
      "pygments_lexer": "ipython3",
      "version": "3.7.4"
    },
    "colab": {
      "name": "Copy of 4-groupby-pivots-lab.ipynb",
      "provenance": [],
      "include_colab_link": true
    }
  },
  "cells": [
    {
      "cell_type": "markdown",
      "metadata": {
        "id": "view-in-github",
        "colab_type": "text"
      },
      "source": [
        "<a href=\"https://colab.research.google.com/github/ludawg44/jigsawlabs/blob/master/02Apr20_4_groupby_pivots_lab.ipynb\" target=\"_parent\"><img src=\"https://colab.research.google.com/assets/colab-badge.svg\" alt=\"Open In Colab\"/></a>"
      ]
    },
    {
      "cell_type": "markdown",
      "metadata": {
        "id": "Nd5rEgboGmsO",
        "colab_type": "text"
      },
      "source": [
        "# Group By Lab"
      ]
    },
    {
      "cell_type": "markdown",
      "metadata": {
        "id": "wmab-B_eGmsP",
        "colab_type": "text"
      },
      "source": [
        "### Introduction"
      ]
    },
    {
      "cell_type": "markdown",
      "metadata": {
        "id": "Bq-KSqPdGmsP",
        "colab_type": "text"
      },
      "source": [
        "In this lesson, we'll continue our exploration of the FEMA dataset.  This time we'll do so using the group by and pivot functions."
      ]
    },
    {
      "cell_type": "markdown",
      "metadata": {
        "id": "lZf18dlsGmsQ",
        "colab_type": "text"
      },
      "source": [
        "### Loading our Data"
      ]
    },
    {
      "cell_type": "markdown",
      "metadata": {
        "id": "LCkhfAiVGmsQ",
        "colab_type": "text"
      },
      "source": [
        "Let's begin by loading our data."
      ]
    },
    {
      "cell_type": "code",
      "metadata": {
        "id": "2U5LfrfcGmsR",
        "colab_type": "code",
        "colab": {}
      },
      "source": [
        "import pandas as pd\n",
        "url = \"https://raw.githubusercontent.com/jigsawlabs-student/exploring-pandas/master/formatted_claims_county.txt\"\n",
        "df_claims = pd.read_csv(url, sep='\\t')"
      ],
      "execution_count": 0,
      "outputs": []
    },
    {
      "cell_type": "code",
      "metadata": {
        "id": "0qfX1741GmsU",
        "colab_type": "code",
        "outputId": "32c483a9-53f5-475c-8327-4c8b8309286a",
        "colab": {
          "base_uri": "https://localhost:8080/",
          "height": 138
        }
      },
      "source": [
        "df_claims[:3]"
      ],
      "execution_count": 0,
      "outputs": [
        {
          "output_type": "execute_result",
          "data": {
            "text/html": [
              "<div>\n",
              "<style scoped>\n",
              "    .dataframe tbody tr th:only-of-type {\n",
              "        vertical-align: middle;\n",
              "    }\n",
              "\n",
              "    .dataframe tbody tr th {\n",
              "        vertical-align: top;\n",
              "    }\n",
              "\n",
              "    .dataframe thead th {\n",
              "        text-align: right;\n",
              "    }\n",
              "</style>\n",
              "<table border=\"1\" class=\"dataframe\">\n",
              "  <thead>\n",
              "    <tr style=\"text-align: right;\">\n",
              "      <th></th>\n",
              "      <th>state</th>\n",
              "      <th>county</th>\n",
              "      <th>total_loss</th>\n",
              "      <th>closed_loss</th>\n",
              "      <th>open_loss</th>\n",
              "      <th>cwop_loss</th>\n",
              "      <th>total_pay</th>\n",
              "    </tr>\n",
              "  </thead>\n",
              "  <tbody>\n",
              "    <tr>\n",
              "      <th>0</th>\n",
              "      <td>ALABAMA</td>\n",
              "      <td>AUTAUGA COUNTY</td>\n",
              "      <td>383</td>\n",
              "      <td>259</td>\n",
              "      <td>11</td>\n",
              "      <td>113</td>\n",
              "      <td>5.406710e+06</td>\n",
              "    </tr>\n",
              "    <tr>\n",
              "      <th>1</th>\n",
              "      <td>ALABAMA</td>\n",
              "      <td>BALDWIN COUNTY</td>\n",
              "      <td>17628</td>\n",
              "      <td>14064</td>\n",
              "      <td>10</td>\n",
              "      <td>3554</td>\n",
              "      <td>5.507447e+08</td>\n",
              "    </tr>\n",
              "    <tr>\n",
              "      <th>2</th>\n",
              "      <td>ALABAMA</td>\n",
              "      <td>BARBOUR COUNTY</td>\n",
              "      <td>30</td>\n",
              "      <td>17</td>\n",
              "      <td>0</td>\n",
              "      <td>13</td>\n",
              "      <td>6.780529e+05</td>\n",
              "    </tr>\n",
              "  </tbody>\n",
              "</table>\n",
              "</div>"
            ],
            "text/plain": [
              "     state          county  total_loss  ...  open_loss  cwop_loss     total_pay\n",
              "0  ALABAMA  AUTAUGA COUNTY         383  ...         11        113  5.406710e+06\n",
              "1  ALABAMA  BALDWIN COUNTY       17628  ...         10       3554  5.507447e+08\n",
              "2  ALABAMA  BARBOUR COUNTY          30  ...          0         13  6.780529e+05\n",
              "\n",
              "[3 rows x 7 columns]"
            ]
          },
          "metadata": {
            "tags": []
          },
          "execution_count": 2
        }
      ]
    },
    {
      "cell_type": "markdown",
      "metadata": {
        "id": "qtlcF8vSGmsY",
        "colab_type": "text"
      },
      "source": [
        "And let's remove change the formatting of our data away from scientific notation."
      ]
    },
    {
      "cell_type": "code",
      "metadata": {
        "id": "NwkRv0kSGmsY",
        "colab_type": "code",
        "colab": {}
      },
      "source": [
        "pd.options.display.float_format = '{:.2f}'.format"
      ],
      "execution_count": 0,
      "outputs": []
    },
    {
      "cell_type": "code",
      "metadata": {
        "id": "JDj4UOTHGmsb",
        "colab_type": "code",
        "outputId": "88724d03-fbc3-4afb-fbe3-bbf170b7c53b",
        "colab": {
          "base_uri": "https://localhost:8080/",
          "height": 138
        }
      },
      "source": [
        "df_claims[:3]"
      ],
      "execution_count": 0,
      "outputs": [
        {
          "output_type": "execute_result",
          "data": {
            "text/html": [
              "<div>\n",
              "<style scoped>\n",
              "    .dataframe tbody tr th:only-of-type {\n",
              "        vertical-align: middle;\n",
              "    }\n",
              "\n",
              "    .dataframe tbody tr th {\n",
              "        vertical-align: top;\n",
              "    }\n",
              "\n",
              "    .dataframe thead th {\n",
              "        text-align: right;\n",
              "    }\n",
              "</style>\n",
              "<table border=\"1\" class=\"dataframe\">\n",
              "  <thead>\n",
              "    <tr style=\"text-align: right;\">\n",
              "      <th></th>\n",
              "      <th>state</th>\n",
              "      <th>county</th>\n",
              "      <th>total_loss</th>\n",
              "      <th>closed_loss</th>\n",
              "      <th>open_loss</th>\n",
              "      <th>cwop_loss</th>\n",
              "      <th>total_pay</th>\n",
              "    </tr>\n",
              "  </thead>\n",
              "  <tbody>\n",
              "    <tr>\n",
              "      <th>0</th>\n",
              "      <td>ALABAMA</td>\n",
              "      <td>AUTAUGA COUNTY</td>\n",
              "      <td>383</td>\n",
              "      <td>259</td>\n",
              "      <td>11</td>\n",
              "      <td>113</td>\n",
              "      <td>5406709.64</td>\n",
              "    </tr>\n",
              "    <tr>\n",
              "      <th>1</th>\n",
              "      <td>ALABAMA</td>\n",
              "      <td>BALDWIN COUNTY</td>\n",
              "      <td>17628</td>\n",
              "      <td>14064</td>\n",
              "      <td>10</td>\n",
              "      <td>3554</td>\n",
              "      <td>550744673.38</td>\n",
              "    </tr>\n",
              "    <tr>\n",
              "      <th>2</th>\n",
              "      <td>ALABAMA</td>\n",
              "      <td>BARBOUR COUNTY</td>\n",
              "      <td>30</td>\n",
              "      <td>17</td>\n",
              "      <td>0</td>\n",
              "      <td>13</td>\n",
              "      <td>678052.93</td>\n",
              "    </tr>\n",
              "  </tbody>\n",
              "</table>\n",
              "</div>"
            ],
            "text/plain": [
              "     state          county  total_loss  ...  open_loss  cwop_loss    total_pay\n",
              "0  ALABAMA  AUTAUGA COUNTY         383  ...         11        113   5406709.64\n",
              "1  ALABAMA  BALDWIN COUNTY       17628  ...         10       3554 550744673.38\n",
              "2  ALABAMA  BARBOUR COUNTY          30  ...          0         13    678052.93\n",
              "\n",
              "[3 rows x 7 columns]"
            ]
          },
          "metadata": {
            "tags": []
          },
          "execution_count": 4
        }
      ]
    },
    {
      "cell_type": "markdown",
      "metadata": {
        "id": "cBuFFV7RGmse",
        "colab_type": "text"
      },
      "source": [
        "Notice with this dataset, our missing data is removed."
      ]
    },
    {
      "cell_type": "code",
      "metadata": {
        "id": "dm8bERYGGmse",
        "colab_type": "code",
        "outputId": "622786f5-9097-451a-9809-af4e2a572d22",
        "colab": {
          "base_uri": "https://localhost:8080/",
          "height": 155
        }
      },
      "source": [
        "df_claims.isna().sum()\n",
        "# write code to check na values across columns\n",
        "\n",
        "# state          0\n",
        "# county         0\n",
        "# total_loss     0\n",
        "# closed_loss    0\n",
        "# open_loss      0\n",
        "# cwop_loss      0\n",
        "# total_pay      0"
      ],
      "execution_count": 0,
      "outputs": [
        {
          "output_type": "execute_result",
          "data": {
            "text/plain": [
              "state          0\n",
              "county         0\n",
              "total_loss     0\n",
              "closed_loss    0\n",
              "open_loss      0\n",
              "cwop_loss      0\n",
              "total_pay      0\n",
              "dtype: int64"
            ]
          },
          "metadata": {
            "tags": []
          },
          "execution_count": 10
        }
      ]
    },
    {
      "cell_type": "markdown",
      "metadata": {
        "id": "S7oULJMDGmsh",
        "colab_type": "text"
      },
      "source": [
        "And let's remove our `total_loss` column."
      ]
    },
    {
      "cell_type": "code",
      "metadata": {
        "id": "nCPaH4wXGmsi",
        "colab_type": "code",
        "outputId": "fcc58a72-46ca-4fa1-b505-dbd3d95fea58",
        "colab": {
          "base_uri": "https://localhost:8080/",
          "height": 198
        }
      },
      "source": [
        "df_claims_reduced = df_claims.drop('total_loss', axis=1)\n",
        "df_claims_reduced.head()"
      ],
      "execution_count": 0,
      "outputs": [
        {
          "output_type": "execute_result",
          "data": {
            "text/html": [
              "<div>\n",
              "<style scoped>\n",
              "    .dataframe tbody tr th:only-of-type {\n",
              "        vertical-align: middle;\n",
              "    }\n",
              "\n",
              "    .dataframe tbody tr th {\n",
              "        vertical-align: top;\n",
              "    }\n",
              "\n",
              "    .dataframe thead th {\n",
              "        text-align: right;\n",
              "    }\n",
              "</style>\n",
              "<table border=\"1\" class=\"dataframe\">\n",
              "  <thead>\n",
              "    <tr style=\"text-align: right;\">\n",
              "      <th></th>\n",
              "      <th>state</th>\n",
              "      <th>county</th>\n",
              "      <th>closed_loss</th>\n",
              "      <th>open_loss</th>\n",
              "      <th>cwop_loss</th>\n",
              "      <th>total_pay</th>\n",
              "    </tr>\n",
              "  </thead>\n",
              "  <tbody>\n",
              "    <tr>\n",
              "      <th>0</th>\n",
              "      <td>ALABAMA</td>\n",
              "      <td>AUTAUGA COUNTY</td>\n",
              "      <td>259</td>\n",
              "      <td>11</td>\n",
              "      <td>113</td>\n",
              "      <td>5406709.64</td>\n",
              "    </tr>\n",
              "    <tr>\n",
              "      <th>1</th>\n",
              "      <td>ALABAMA</td>\n",
              "      <td>BALDWIN COUNTY</td>\n",
              "      <td>14064</td>\n",
              "      <td>10</td>\n",
              "      <td>3554</td>\n",
              "      <td>550744673.38</td>\n",
              "    </tr>\n",
              "    <tr>\n",
              "      <th>2</th>\n",
              "      <td>ALABAMA</td>\n",
              "      <td>BARBOUR COUNTY</td>\n",
              "      <td>17</td>\n",
              "      <td>0</td>\n",
              "      <td>13</td>\n",
              "      <td>678052.93</td>\n",
              "    </tr>\n",
              "    <tr>\n",
              "      <th>3</th>\n",
              "      <td>ALABAMA</td>\n",
              "      <td>BIBB COUNTY</td>\n",
              "      <td>2</td>\n",
              "      <td>0</td>\n",
              "      <td>3</td>\n",
              "      <td>4355.14</td>\n",
              "    </tr>\n",
              "    <tr>\n",
              "      <th>4</th>\n",
              "      <td>ALABAMA</td>\n",
              "      <td>BLOUNT COUNTY</td>\n",
              "      <td>19</td>\n",
              "      <td>0</td>\n",
              "      <td>5</td>\n",
              "      <td>1084320.81</td>\n",
              "    </tr>\n",
              "  </tbody>\n",
              "</table>\n",
              "</div>"
            ],
            "text/plain": [
              "     state          county  closed_loss  open_loss  cwop_loss    total_pay\n",
              "0  ALABAMA  AUTAUGA COUNTY          259         11        113   5406709.64\n",
              "1  ALABAMA  BALDWIN COUNTY        14064         10       3554 550744673.38\n",
              "2  ALABAMA  BARBOUR COUNTY           17          0         13    678052.93\n",
              "3  ALABAMA     BIBB COUNTY            2          0          3      4355.14\n",
              "4  ALABAMA   BLOUNT COUNTY           19          0          5   1084320.81"
            ]
          },
          "metadata": {
            "tags": []
          },
          "execution_count": 12
        }
      ]
    },
    {
      "cell_type": "code",
      "metadata": {
        "id": "WQvU64osGmsk",
        "colab_type": "code",
        "outputId": "6f9bfe9b-6540-44bd-dd2b-09db03b59d96",
        "colab": {
          "base_uri": "https://localhost:8080/",
          "height": 69
        }
      },
      "source": [
        "df_claims_reduced.columns\n",
        "# ['state', 'county', 'closed_loss', 'open_loss', 'cwop_loss',\n",
        "#      'total_pay']"
      ],
      "execution_count": 0,
      "outputs": [
        {
          "output_type": "execute_result",
          "data": {
            "text/plain": [
              "Index(['state', 'county', 'closed_loss', 'open_loss', 'cwop_loss',\n",
              "       'total_pay'],\n",
              "      dtype='object')"
            ]
          },
          "metadata": {
            "tags": []
          },
          "execution_count": 13
        }
      ]
    },
    {
      "cell_type": "markdown",
      "metadata": {
        "id": "0F-Utdg6Gmsm",
        "colab_type": "text"
      },
      "source": [
        "### State Level Data"
      ]
    },
    {
      "cell_type": "markdown",
      "metadata": {
        "id": "lTxVQmOeGmsn",
        "colab_type": "text"
      },
      "source": [
        "If we would like to get state level data, we'll need to begin by grouping our data by the state, and then let's call describe to get an overview for each state."
      ]
    },
    {
      "cell_type": "code",
      "metadata": {
        "id": "I7MUqzCrGmsn",
        "colab_type": "code",
        "colab": {}
      },
      "source": [
        "state_grouped = df_claims_reduced.groupby(['state']).describe()"
      ],
      "execution_count": 0,
      "outputs": []
    },
    {
      "cell_type": "code",
      "metadata": {
        "id": "GO3gfMruGmsq",
        "colab_type": "code",
        "outputId": "c33f837d-e55d-4c0a-e6ff-a910a69b766e",
        "colab": {
          "base_uri": "https://localhost:8080/",
          "height": 248
        }
      },
      "source": [
        "state_grouped[:4]\n",
        "# \tcount\tmean\tstd\tmin\t25%\t50%\t75%\tmax\tcount\tmean\t...\t75%\tmax\tcount\tmean\tstd\tmin\t25%\t50%\t75%\tmax\n",
        "# state\t\t\t\t\t\t\t\t\t\t\t\t\t\t\t\t\t\t\t\t\t\n",
        "# ALABAMA\t61.00\t520.75\t2311.04\t0.00\t7.00\t27.00\t93.00\t14064.00\t61.00\t0.64\t...\t27.00\t3554.00\t61.00\t16771509.61\t83074427.40\t0.00\t103893.19\t506268.81\t1084320.81\t550744673.38\n",
        "# ALASKA\t15.00\t28.00\t41.38\t0.00\t1.50\t14.00\t42.50\t157.00\t15.00\t0.20\t...\t17.00\t70.00\t15.00\t647465.67\t988075.98\t0.00\t21770.76\t313648.21\t611153.74\t3397281.17\n",
        "# ARIZONA\t16.00\t199.44\t388.60\t4.00\t48.25\t92.50\t144.25\t1624.00\t16.00\t0.19\t...\t60.50\t741.00\t16.00\t2970977.92\t5075830.19\t5743.11\t738360.34\t1334990.84\t2659236.07\t20938615.73\n",
        "# ARKANSAS\t73.00\t94.88\t167.80\t1.00\t11.00\t45.00\t"
      ],
      "execution_count": 0,
      "outputs": [
        {
          "output_type": "execute_result",
          "data": {
            "text/html": [
              "<div>\n",
              "<style scoped>\n",
              "    .dataframe tbody tr th:only-of-type {\n",
              "        vertical-align: middle;\n",
              "    }\n",
              "\n",
              "    .dataframe tbody tr th {\n",
              "        vertical-align: top;\n",
              "    }\n",
              "\n",
              "    .dataframe thead tr th {\n",
              "        text-align: left;\n",
              "    }\n",
              "\n",
              "    .dataframe thead tr:last-of-type th {\n",
              "        text-align: right;\n",
              "    }\n",
              "</style>\n",
              "<table border=\"1\" class=\"dataframe\">\n",
              "  <thead>\n",
              "    <tr>\n",
              "      <th></th>\n",
              "      <th colspan=\"8\" halign=\"left\">closed_loss</th>\n",
              "      <th colspan=\"8\" halign=\"left\">open_loss</th>\n",
              "      <th colspan=\"8\" halign=\"left\">cwop_loss</th>\n",
              "      <th colspan=\"8\" halign=\"left\">total_pay</th>\n",
              "    </tr>\n",
              "    <tr>\n",
              "      <th></th>\n",
              "      <th>count</th>\n",
              "      <th>mean</th>\n",
              "      <th>std</th>\n",
              "      <th>min</th>\n",
              "      <th>25%</th>\n",
              "      <th>50%</th>\n",
              "      <th>75%</th>\n",
              "      <th>max</th>\n",
              "      <th>count</th>\n",
              "      <th>mean</th>\n",
              "      <th>std</th>\n",
              "      <th>min</th>\n",
              "      <th>25%</th>\n",
              "      <th>50%</th>\n",
              "      <th>75%</th>\n",
              "      <th>max</th>\n",
              "      <th>count</th>\n",
              "      <th>mean</th>\n",
              "      <th>std</th>\n",
              "      <th>min</th>\n",
              "      <th>25%</th>\n",
              "      <th>50%</th>\n",
              "      <th>75%</th>\n",
              "      <th>max</th>\n",
              "      <th>count</th>\n",
              "      <th>mean</th>\n",
              "      <th>std</th>\n",
              "      <th>min</th>\n",
              "      <th>25%</th>\n",
              "      <th>50%</th>\n",
              "      <th>75%</th>\n",
              "      <th>max</th>\n",
              "    </tr>\n",
              "    <tr>\n",
              "      <th>state</th>\n",
              "      <th></th>\n",
              "      <th></th>\n",
              "      <th></th>\n",
              "      <th></th>\n",
              "      <th></th>\n",
              "      <th></th>\n",
              "      <th></th>\n",
              "      <th></th>\n",
              "      <th></th>\n",
              "      <th></th>\n",
              "      <th></th>\n",
              "      <th></th>\n",
              "      <th></th>\n",
              "      <th></th>\n",
              "      <th></th>\n",
              "      <th></th>\n",
              "      <th></th>\n",
              "      <th></th>\n",
              "      <th></th>\n",
              "      <th></th>\n",
              "      <th></th>\n",
              "      <th></th>\n",
              "      <th></th>\n",
              "      <th></th>\n",
              "      <th></th>\n",
              "      <th></th>\n",
              "      <th></th>\n",
              "      <th></th>\n",
              "      <th></th>\n",
              "      <th></th>\n",
              "      <th></th>\n",
              "      <th></th>\n",
              "    </tr>\n",
              "  </thead>\n",
              "  <tbody>\n",
              "    <tr>\n",
              "      <th>ALABAMA</th>\n",
              "      <td>61.00</td>\n",
              "      <td>520.75</td>\n",
              "      <td>2311.04</td>\n",
              "      <td>0.00</td>\n",
              "      <td>7.00</td>\n",
              "      <td>27.00</td>\n",
              "      <td>93.00</td>\n",
              "      <td>14064.00</td>\n",
              "      <td>61.00</td>\n",
              "      <td>0.64</td>\n",
              "      <td>2.19</td>\n",
              "      <td>0.00</td>\n",
              "      <td>0.00</td>\n",
              "      <td>0.00</td>\n",
              "      <td>0.00</td>\n",
              "      <td>11.00</td>\n",
              "      <td>61.00</td>\n",
              "      <td>130.62</td>\n",
              "      <td>575.15</td>\n",
              "      <td>0.00</td>\n",
              "      <td>3.00</td>\n",
              "      <td>9.00</td>\n",
              "      <td>27.00</td>\n",
              "      <td>3554.00</td>\n",
              "      <td>61.00</td>\n",
              "      <td>16771509.61</td>\n",
              "      <td>83074427.40</td>\n",
              "      <td>0.00</td>\n",
              "      <td>103893.19</td>\n",
              "      <td>506268.81</td>\n",
              "      <td>1084320.81</td>\n",
              "      <td>550744673.38</td>\n",
              "    </tr>\n",
              "    <tr>\n",
              "      <th>ALASKA</th>\n",
              "      <td>15.00</td>\n",
              "      <td>28.00</td>\n",
              "      <td>41.38</td>\n",
              "      <td>0.00</td>\n",
              "      <td>1.50</td>\n",
              "      <td>14.00</td>\n",
              "      <td>42.50</td>\n",
              "      <td>157.00</td>\n",
              "      <td>15.00</td>\n",
              "      <td>0.20</td>\n",
              "      <td>0.56</td>\n",
              "      <td>0.00</td>\n",
              "      <td>0.00</td>\n",
              "      <td>0.00</td>\n",
              "      <td>0.00</td>\n",
              "      <td>2.00</td>\n",
              "      <td>15.00</td>\n",
              "      <td>14.07</td>\n",
              "      <td>19.28</td>\n",
              "      <td>1.00</td>\n",
              "      <td>2.00</td>\n",
              "      <td>5.00</td>\n",
              "      <td>17.00</td>\n",
              "      <td>70.00</td>\n",
              "      <td>15.00</td>\n",
              "      <td>647465.67</td>\n",
              "      <td>988075.98</td>\n",
              "      <td>0.00</td>\n",
              "      <td>21770.76</td>\n",
              "      <td>313648.21</td>\n",
              "      <td>611153.74</td>\n",
              "      <td>3397281.17</td>\n",
              "    </tr>\n",
              "    <tr>\n",
              "      <th>ARIZONA</th>\n",
              "      <td>16.00</td>\n",
              "      <td>199.44</td>\n",
              "      <td>388.60</td>\n",
              "      <td>4.00</td>\n",
              "      <td>48.25</td>\n",
              "      <td>92.50</td>\n",
              "      <td>144.25</td>\n",
              "      <td>1624.00</td>\n",
              "      <td>16.00</td>\n",
              "      <td>0.19</td>\n",
              "      <td>0.54</td>\n",
              "      <td>0.00</td>\n",
              "      <td>0.00</td>\n",
              "      <td>0.00</td>\n",
              "      <td>0.00</td>\n",
              "      <td>2.00</td>\n",
              "      <td>16.00</td>\n",
              "      <td>90.06</td>\n",
              "      <td>179.67</td>\n",
              "      <td>3.00</td>\n",
              "      <td>20.25</td>\n",
              "      <td>38.00</td>\n",
              "      <td>60.50</td>\n",
              "      <td>741.00</td>\n",
              "      <td>16.00</td>\n",
              "      <td>2970977.92</td>\n",
              "      <td>5075830.19</td>\n",
              "      <td>5743.11</td>\n",
              "      <td>738360.34</td>\n",
              "      <td>1334990.84</td>\n",
              "      <td>2659236.07</td>\n",
              "      <td>20938615.73</td>\n",
              "    </tr>\n",
              "    <tr>\n",
              "      <th>ARKANSAS</th>\n",
              "      <td>73.00</td>\n",
              "      <td>94.88</td>\n",
              "      <td>167.80</td>\n",
              "      <td>1.00</td>\n",
              "      <td>11.00</td>\n",
              "      <td>45.00</td>\n",
              "      <td>131.00</td>\n",
              "      <td>1137.00</td>\n",
              "      <td>73.00</td>\n",
              "      <td>1.40</td>\n",
              "      <td>3.64</td>\n",
              "      <td>0.00</td>\n",
              "      <td>0.00</td>\n",
              "      <td>0.00</td>\n",
              "      <td>1.00</td>\n",
              "      <td>20.00</td>\n",
              "      <td>73.00</td>\n",
              "      <td>23.16</td>\n",
              "      <td>47.52</td>\n",
              "      <td>0.00</td>\n",
              "      <td>2.00</td>\n",
              "      <td>8.00</td>\n",
              "      <td>18.00</td>\n",
              "      <td>354.00</td>\n",
              "      <td>73.00</td>\n",
              "      <td>1997601.56</td>\n",
              "      <td>3202172.93</td>\n",
              "      <td>1411.81</td>\n",
              "      <td>127303.92</td>\n",
              "      <td>810870.22</td>\n",
              "      <td>2670217.75</td>\n",
              "      <td>21348257.55</td>\n",
              "    </tr>\n",
              "  </tbody>\n",
              "</table>\n",
              "</div>"
            ],
            "text/plain": [
              "         closed_loss                 ...  total_pay                        \n",
              "               count   mean     std  ...        50%        75%          max\n",
              "state                                ...                                   \n",
              "ALABAMA        61.00 520.75 2311.04  ...  506268.81 1084320.81 550744673.38\n",
              "ALASKA         15.00  28.00   41.38  ...  313648.21  611153.74   3397281.17\n",
              "ARIZONA        16.00 199.44  388.60  ... 1334990.84 2659236.07  20938615.73\n",
              "ARKANSAS       73.00  94.88  167.80  ...  810870.22 2670217.75  21348257.55\n",
              "\n",
              "[4 rows x 32 columns]"
            ]
          },
          "metadata": {
            "tags": []
          },
          "execution_count": 15
        }
      ]
    },
    {
      "cell_type": "code",
      "metadata": {
        "id": "hMvjZX6ST_gx",
        "colab_type": "code",
        "colab": {}
      },
      "source": [
        "df_sum = df_claims_reduced.groupby(['state']).sum()"
      ],
      "execution_count": 0,
      "outputs": []
    },
    {
      "cell_type": "markdown",
      "metadata": {
        "id": "Rey-cQaSGmss",
        "colab_type": "text"
      },
      "source": [
        "From here we can select descriptions of individual columns.  For example, let's select just the grouped description for the closed loss."
      ]
    },
    {
      "cell_type": "code",
      "metadata": {
        "id": "E-Pyfof9Gmst",
        "colab_type": "code",
        "colab": {}
      },
      "source": [
        "closed_loss = state_grouped['closed_loss']"
      ],
      "execution_count": 0,
      "outputs": []
    },
    {
      "cell_type": "code",
      "metadata": {
        "id": "ZdmTnStyGmsv",
        "colab_type": "code",
        "outputId": "206a3b39-ab41-4f53-c49e-c66dc68f6b02",
        "colab": {
          "base_uri": "https://localhost:8080/",
          "height": 454
        }
      },
      "source": [
        "closed_loss.hist()\n",
        "# \tcount\tmean\tstd\tmin\t25%\t50%\t75%\tmax\n",
        "# state\t\t\t\t\t\t\t\t\n",
        "# ALABAMA\t61.00\t520.75\t2311.04\t0.00\t7.00\t27.00\t93.00\t14064.00\n",
        "# ALASKA\t15.00\t28.00\t41.38\t0.00\t1.50\t14.00\t42.50\t157.00\n",
        "# ARIZONA\t16.00\t199.44\t388.60\t4.00\t48.25\t92.50\t144.25\t1624.00\n",
        "# ARKANSAS\t73.00\t94.88\t167.80\t1.00\t11.00\t45.00\t131.00\t1137.00\n",
        "# CALIFORNIA\t57.00\t561.05\t1035.47\t1.00\t41.00\t161.00\t571.00\t5641.00"
      ],
      "execution_count": 0,
      "outputs": [
        {
          "output_type": "execute_result",
          "data": {
            "text/plain": [
              "array([[<matplotlib.axes._subplots.AxesSubplot object at 0x7ff82ae47be0>,\n",
              "        <matplotlib.axes._subplots.AxesSubplot object at 0x7ff82ad8c630>,\n",
              "        <matplotlib.axes._subplots.AxesSubplot object at 0x7ff82adc2ac8>],\n",
              "       [<matplotlib.axes._subplots.AxesSubplot object at 0x7ff82ad76e48>,\n",
              "        <matplotlib.axes._subplots.AxesSubplot object at 0x7ff82ad35208>,\n",
              "        <matplotlib.axes._subplots.AxesSubplot object at 0x7ff82ace5588>],\n",
              "       [<matplotlib.axes._subplots.AxesSubplot object at 0x7ff82ac98908>,\n",
              "        <matplotlib.axes._subplots.AxesSubplot object at 0x7ff82ac48c50>,\n",
              "        <matplotlib.axes._subplots.AxesSubplot object at 0x7ff82ac48cc0>]],\n",
              "      dtype=object)"
            ]
          },
          "metadata": {
            "tags": []
          },
          "execution_count": 62
        },
        {
          "output_type": "display_data",
          "data": {
            "image/png": "[encoded data removed]",
            "text/plain": [
              "<Figure size 432x288 with 9 Axes>"
            ]
          },
          "metadata": {
            "tags": []
          }
        }
      ]
    },
    {
      "cell_type": "markdown",
      "metadata": {
        "id": "keG6iAFmGmsy",
        "colab_type": "text"
      },
      "source": [
        "Now that we have the closed loss counts of all of the states, let's begin to plot these."
      ]
    },
    {
      "cell_type": "markdown",
      "metadata": {
        "id": "OdN7-_QJGmsy",
        "colab_type": "text"
      },
      "source": [
        "Use pandas to create subplots of the `50%`, `75%` and `max` of each state."
      ]
    },
    {
      "cell_type": "code",
      "metadata": {
        "id": "rhK0PVghKWI8",
        "colab_type": "code",
        "outputId": "e085451b-03da-47f8-9324-e7d5022bb84e",
        "colab": {
          "base_uri": "https://localhost:8080/",
          "height": 367
        }
      },
      "source": [
        "#import matplotlib.pyplot as plt\n",
        "closed_loss[['50%', '75%', 'max']].hist()"
      ],
      "execution_count": 0,
      "outputs": [
        {
          "output_type": "execute_result",
          "data": {
            "text/plain": [
              "array([[<matplotlib.axes._subplots.AxesSubplot object at 0x7ff82b40f630>,\n",
              "        <matplotlib.axes._subplots.AxesSubplot object at 0x7ff82a944630>],\n",
              "       [<matplotlib.axes._subplots.AxesSubplot object at 0x7ff82a8f3940>,\n",
              "        <matplotlib.axes._subplots.AxesSubplot object at 0x7ff82a8a5cc0>]],\n",
              "      dtype=object)"
            ]
          },
          "metadata": {
            "tags": []
          },
          "execution_count": 67
        },
        {
          "output_type": "display_data",
          "data": {
            "image/png": "[encoded data removed]",
            "text/plain": [
              "<Figure size 432x288 with 4 Axes>"
            ]
          },
          "metadata": {
            "tags": []
          }
        }
      ]
    },
    {
      "cell_type": "code",
      "metadata": {
        "id": "AIqW-w2fGmsy",
        "colab_type": "code",
        "outputId": "3e9415b7-364a-4866-a238-504f8059effa",
        "colab": {
          "base_uri": "https://localhost:8080/",
          "height": 265
        }
      },
      "source": [
        "import matplotlib.pyplot as plt\n",
        "fig, ax = plt.subplots(2,2)\n",
        "\n",
        "ax[0,0].hist(closed_loss['50%'])\n",
        "ax[0,1].hist(closed_loss['75%'])\n",
        "ax[1,0].hist(closed_loss['max'])\n",
        "plt.show()\n",
        "\n",
        "# plot here"
      ],
      "execution_count": 0,
      "outputs": [
        {
          "output_type": "display_data",
          "data": {
            "image/png": "[encoded data removed]",
            "text/plain": [
              "<Figure size 432x288 with 4 Axes>"
            ]
          },
          "metadata": {
            "tags": []
          }
        }
      ]
    },
    {
      "cell_type": "markdown",
      "metadata": {
        "id": "GXV0VAPnGms1",
        "colab_type": "text"
      },
      "source": [
        "> Answer: <img src=\"https://github.com/jigsawlabs-student/exploring-pandas/blob/master/closed-loss-subplots.png?raw=1\" width=\"50%\">"
      ]
    },
    {
      "cell_type": "markdown",
      "metadata": {
        "id": "UsvI4BuXGms2",
        "colab_type": "text"
      },
      "source": [
        "So we can see that most states are between 0 and 2000 for 50% percentile of the county, and over 5000 for the 75th percentile, and less than 50,000 for the max claims per county."
      ]
    },
    {
      "cell_type": "markdown",
      "metadata": {
        "id": "wjmWpd2nGms2",
        "colab_type": "text"
      },
      "source": [
        "Now let's plot the total number of closed loss claims per state, sorted from most to least, and selecting just the top ten states."
      ]
    },
    {
      "cell_type": "code",
      "metadata": {
        "id": "FT_MGvcwTnZz",
        "colab_type": "code",
        "outputId": "8963bbeb-d271-451d-85c6-9e365f32c329",
        "colab": {
          "base_uri": "https://localhost:8080/",
          "height": 228
        }
      },
      "source": [
        "closed_loss.head()"
      ],
      "execution_count": 0,
      "outputs": [
        {
          "output_type": "execute_result",
          "data": {
            "text/html": [
              "<div>\n",
              "<style scoped>\n",
              "    .dataframe tbody tr th:only-of-type {\n",
              "        vertical-align: middle;\n",
              "    }\n",
              "\n",
              "    .dataframe tbody tr th {\n",
              "        vertical-align: top;\n",
              "    }\n",
              "\n",
              "    .dataframe thead th {\n",
              "        text-align: right;\n",
              "    }\n",
              "</style>\n",
              "<table border=\"1\" class=\"dataframe\">\n",
              "  <thead>\n",
              "    <tr style=\"text-align: right;\">\n",
              "      <th></th>\n",
              "      <th>count</th>\n",
              "      <th>mean</th>\n",
              "      <th>std</th>\n",
              "      <th>min</th>\n",
              "      <th>25%</th>\n",
              "      <th>50%</th>\n",
              "      <th>75%</th>\n",
              "      <th>max</th>\n",
              "    </tr>\n",
              "    <tr>\n",
              "      <th>state</th>\n",
              "      <th></th>\n",
              "      <th></th>\n",
              "      <th></th>\n",
              "      <th></th>\n",
              "      <th></th>\n",
              "      <th></th>\n",
              "      <th></th>\n",
              "      <th></th>\n",
              "    </tr>\n",
              "  </thead>\n",
              "  <tbody>\n",
              "    <tr>\n",
              "      <th>ALABAMA</th>\n",
              "      <td>61.00</td>\n",
              "      <td>520.75</td>\n",
              "      <td>2311.04</td>\n",
              "      <td>0.00</td>\n",
              "      <td>7.00</td>\n",
              "      <td>27.00</td>\n",
              "      <td>93.00</td>\n",
              "      <td>14064.00</td>\n",
              "    </tr>\n",
              "    <tr>\n",
              "      <th>ALASKA</th>\n",
              "      <td>15.00</td>\n",
              "      <td>28.00</td>\n",
              "      <td>41.38</td>\n",
              "      <td>0.00</td>\n",
              "      <td>1.50</td>\n",
              "      <td>14.00</td>\n",
              "      <td>42.50</td>\n",
              "      <td>157.00</td>\n",
              "    </tr>\n",
              "    <tr>\n",
              "      <th>ARIZONA</th>\n",
              "      <td>16.00</td>\n",
              "      <td>199.44</td>\n",
              "      <td>388.60</td>\n",
              "      <td>4.00</td>\n",
              "      <td>48.25</td>\n",
              "      <td>92.50</td>\n",
              "      <td>144.25</td>\n",
              "      <td>1624.00</td>\n",
              "    </tr>\n",
              "    <tr>\n",
              "      <th>ARKANSAS</th>\n",
              "      <td>73.00</td>\n",
              "      <td>94.88</td>\n",
              "      <td>167.80</td>\n",
              "      <td>1.00</td>\n",
              "      <td>11.00</td>\n",
              "      <td>45.00</td>\n",
              "      <td>131.00</td>\n",
              "      <td>1137.00</td>\n",
              "    </tr>\n",
              "    <tr>\n",
              "      <th>CALIFORNIA</th>\n",
              "      <td>57.00</td>\n",
              "      <td>561.05</td>\n",
              "      <td>1035.47</td>\n",
              "      <td>1.00</td>\n",
              "      <td>41.00</td>\n",
              "      <td>161.00</td>\n",
              "      <td>571.00</td>\n",
              "      <td>5641.00</td>\n",
              "    </tr>\n",
              "  </tbody>\n",
              "</table>\n",
              "</div>"
            ],
            "text/plain": [
              "            count   mean     std  min   25%    50%    75%      max\n",
              "state                                                             \n",
              "ALABAMA     61.00 520.75 2311.04 0.00  7.00  27.00  93.00 14064.00\n",
              "ALASKA      15.00  28.00   41.38 0.00  1.50  14.00  42.50   157.00\n",
              "ARIZONA     16.00 199.44  388.60 4.00 48.25  92.50 144.25  1624.00\n",
              "ARKANSAS    73.00  94.88  167.80 1.00 11.00  45.00 131.00  1137.00\n",
              "CALIFORNIA  57.00 561.05 1035.47 1.00 41.00 161.00 571.00  5641.00"
            ]
          },
          "metadata": {
            "tags": []
          },
          "execution_count": 79
        }
      ]
    },
    {
      "cell_type": "code",
      "metadata": {
        "id": "t7HZMcmSGms3",
        "colab_type": "code",
        "outputId": "39cbc3d6-68be-41d2-873a-ef9e9472841a",
        "colab": {
          "base_uri": "https://localhost:8080/",
          "height": 282
        }
      },
      "source": [
        "df_sum['closed_loss'].sort_values()[::-1][:10][::-1].plot.barh()\n",
        "# write code for plot here"
      ],
      "execution_count": 0,
      "outputs": [
        {
          "output_type": "execute_result",
          "data": {
            "text/plain": [
              "<matplotlib.axes._subplots.AxesSubplot at 0x7ff82ca35ef0>"
            ]
          },
          "metadata": {
            "tags": []
          },
          "execution_count": 86
        },
        {
          "output_type": "display_data",
          "data": {
            "image/png": "[encoded data removed]",
            "text/plain": [
              "<Figure size 432x288 with 1 Axes>"
            ]
          },
          "metadata": {
            "tags": []
          }
        }
      ]
    },
    {
      "cell_type": "markdown",
      "metadata": {
        "id": "LhCRpCJFGms6",
        "colab_type": "text"
      },
      "source": [
        "<img src=\"https://github.com/jigsawlabs-student/exploring-pandas/blob/master/total-loss-state.png?raw=1\" width=\"50%\">"
      ]
    },
    {
      "cell_type": "markdown",
      "metadata": {
        "id": "O-TyQzg5Gms6",
        "colab_type": "text"
      },
      "source": [
        "Now let's try to plot multiple columns simultaneously."
      ]
    },
    {
      "cell_type": "markdown",
      "metadata": {
        "id": "g26HnKiBGms6",
        "colab_type": "text"
      },
      "source": [
        "Group by the state and take the sum of the all of the columns, then let's sort the entire dataframe by the sum of the `closed loss` per state, descending.  Assign the resulting dataframe to `states_by_loss_claims_all_cols`."
      ]
    },
    {
      "cell_type": "code",
      "metadata": {
        "id": "-dhQbu2PGms7",
        "colab_type": "code",
        "colab": {}
      },
      "source": [
        "states_by_loss_claims_all_cols = df_claims_reduced.groupby(['state']).sum().sort_values(by='closed_loss')[::-1]"
      ],
      "execution_count": 0,
      "outputs": []
    },
    {
      "cell_type": "code",
      "metadata": {
        "id": "a-OwzVLDGms_",
        "colab_type": "code",
        "outputId": "aff97f07-0bbb-4618-fb44-2fa4244e1b06",
        "colab": {
          "base_uri": "https://localhost:8080/",
          "height": 228
        }
      },
      "source": [
        "states_by_loss_claims_all_cols[:5]\n",
        "\n",
        "# \tclosed_loss\topen_loss\tcwop_loss\ttotal_pay\n",
        "# state\t\t\t\t\n",
        "# LOUISIANA\t364596\t701\t84847\t19444472963.33\n",
        "# TEXAS\t216463\t254\t52546\t6897342613.53\n",
        "# FLORIDA\t164245\t331\t91395\t4171595996.58\n",
        "# NEW JERSEY\t159084\t1435\t29990\t5978027433.87\n",
        "# NEW YORK\t137703\t503\t27366\t5350693515.93"
      ],
      "execution_count": 0,
      "outputs": [
        {
          "output_type": "execute_result",
          "data": {
            "text/html": [
              "<div>\n",
              "<style scoped>\n",
              "    .dataframe tbody tr th:only-of-type {\n",
              "        vertical-align: middle;\n",
              "    }\n",
              "\n",
              "    .dataframe tbody tr th {\n",
              "        vertical-align: top;\n",
              "    }\n",
              "\n",
              "    .dataframe thead th {\n",
              "        text-align: right;\n",
              "    }\n",
              "</style>\n",
              "<table border=\"1\" class=\"dataframe\">\n",
              "  <thead>\n",
              "    <tr style=\"text-align: right;\">\n",
              "      <th></th>\n",
              "      <th>closed_loss</th>\n",
              "      <th>open_loss</th>\n",
              "      <th>cwop_loss</th>\n",
              "      <th>total_pay</th>\n",
              "    </tr>\n",
              "    <tr>\n",
              "      <th>state</th>\n",
              "      <th></th>\n",
              "      <th></th>\n",
              "      <th></th>\n",
              "      <th></th>\n",
              "    </tr>\n",
              "  </thead>\n",
              "  <tbody>\n",
              "    <tr>\n",
              "      <th>LOUISIANA</th>\n",
              "      <td>364596</td>\n",
              "      <td>701</td>\n",
              "      <td>84847</td>\n",
              "      <td>19444472963.33</td>\n",
              "    </tr>\n",
              "    <tr>\n",
              "      <th>TEXAS</th>\n",
              "      <td>216463</td>\n",
              "      <td>254</td>\n",
              "      <td>52546</td>\n",
              "      <td>6897342613.53</td>\n",
              "    </tr>\n",
              "    <tr>\n",
              "      <th>FLORIDA</th>\n",
              "      <td>164245</td>\n",
              "      <td>331</td>\n",
              "      <td>91395</td>\n",
              "      <td>4171595996.58</td>\n",
              "    </tr>\n",
              "    <tr>\n",
              "      <th>NEW JERSEY</th>\n",
              "      <td>159084</td>\n",
              "      <td>1435</td>\n",
              "      <td>29990</td>\n",
              "      <td>5978027433.87</td>\n",
              "    </tr>\n",
              "    <tr>\n",
              "      <th>NEW YORK</th>\n",
              "      <td>137703</td>\n",
              "      <td>503</td>\n",
              "      <td>27366</td>\n",
              "      <td>5350693515.93</td>\n",
              "    </tr>\n",
              "  </tbody>\n",
              "</table>\n",
              "</div>"
            ],
            "text/plain": [
              "            closed_loss  open_loss  cwop_loss      total_pay\n",
              "state                                                       \n",
              "LOUISIANA        364596        701      84847 19444472963.33\n",
              "TEXAS            216463        254      52546  6897342613.53\n",
              "FLORIDA          164245        331      91395  4171595996.58\n",
              "NEW JERSEY       159084       1435      29990  5978027433.87\n",
              "NEW YORK         137703        503      27366  5350693515.93"
            ]
          },
          "metadata": {
            "tags": []
          },
          "execution_count": 92
        }
      ]
    },
    {
      "cell_type": "markdown",
      "metadata": {
        "id": "TEapDB1LGmtC",
        "colab_type": "text"
      },
      "source": [
        "Now plot the metrics of these top five states with a separate subplot for each column.  Make the figure large enough so the data isn't squished.  "
      ]
    },
    {
      "cell_type": "code",
      "metadata": {
        "id": "RLGnMv2ZGmtD",
        "colab_type": "code",
        "outputId": "504600c3-38d4-4d4f-f78d-a45fb4d16b21",
        "colab": {
          "base_uri": "https://localhost:8080/",
          "height": 486
        }
      },
      "source": [
        "fig, ax = plt.subplots(5,1)\n",
        "count = 0\n",
        "for column in ['closed_loss', 'open_loss', 'cwop_loss', 'total_pay']:\n",
        "  ax[count, 0].states_by_loss_claims_all_cols[count][column].plot.bar()\n",
        "  count +=1\n",
        "# write code for plots here"
      ],
      "execution_count": 0,
      "outputs": [
        {
          "output_type": "error",
          "ename": "IndexError",
          "evalue": "ignored",
          "traceback": [
            "\u001b[0;31m---------------------------------------------------------------------------\u001b[0m",
            "\u001b[0;31mIndexError\u001b[0m                                Traceback (most recent call last)",
            "\u001b[0;32m<ipython-input-103-739ab2b8750a>\u001b[0m in \u001b[0;36m<module>\u001b[0;34m()\u001b[0m\n\u001b[1;32m      2\u001b[0m \u001b[0mcount\u001b[0m \u001b[0;34m=\u001b[0m \u001b[0;36m0\u001b[0m\u001b[0;34m\u001b[0m\u001b[0;34m\u001b[0m\u001b[0m\n\u001b[1;32m      3\u001b[0m \u001b[0;32mfor\u001b[0m \u001b[0mcolumn\u001b[0m \u001b[0;32min\u001b[0m \u001b[0;34m[\u001b[0m\u001b[0;34m'closed_loss'\u001b[0m\u001b[0;34m,\u001b[0m \u001b[0;34m'open_loss'\u001b[0m\u001b[0;34m,\u001b[0m \u001b[0;34m'cwop_loss'\u001b[0m\u001b[0;34m,\u001b[0m \u001b[0;34m'total_pay'\u001b[0m\u001b[0;34m]\u001b[0m\u001b[0;34m:\u001b[0m\u001b[0;34m\u001b[0m\u001b[0;34m\u001b[0m\u001b[0m\n\u001b[0;32m----> 4\u001b[0;31m   \u001b[0max\u001b[0m\u001b[0;34m[\u001b[0m\u001b[0mcount\u001b[0m\u001b[0;34m,\u001b[0m \u001b[0;36m0\u001b[0m\u001b[0;34m]\u001b[0m\u001b[0;34m.\u001b[0m\u001b[0mstates_by_loss_claims_all_cols\u001b[0m\u001b[0;34m[\u001b[0m\u001b[0mcount\u001b[0m\u001b[0;34m]\u001b[0m\u001b[0;34m[\u001b[0m\u001b[0mcolumn\u001b[0m\u001b[0;34m]\u001b[0m\u001b[0;34m.\u001b[0m\u001b[0mplot\u001b[0m\u001b[0;34m.\u001b[0m\u001b[0mbar\u001b[0m\u001b[0;34m(\u001b[0m\u001b[0;34m)\u001b[0m\u001b[0;34m\u001b[0m\u001b[0;34m\u001b[0m\u001b[0m\n\u001b[0m\u001b[1;32m      5\u001b[0m   \u001b[0mcount\u001b[0m \u001b[0;34m+=\u001b[0m\u001b[0;36m1\u001b[0m\u001b[0;34m\u001b[0m\u001b[0;34m\u001b[0m\u001b[0m\n\u001b[1;32m      6\u001b[0m \u001b[0;31m# write code for plots here\u001b[0m\u001b[0;34m\u001b[0m\u001b[0;34m\u001b[0m\u001b[0;34m\u001b[0m\u001b[0m\n",
            "\u001b[0;31mIndexError\u001b[0m: too many indices for array"
          ]
        },
        {
          "output_type": "display_data",
          "data": {
            "image/png": "[encoded data removed]",
            "text/plain": [
              "<Figure size 432x288 with 5 Axes>"
            ]
          },
          "metadata": {
            "tags": []
          }
        }
      ]
    },
    {
      "cell_type": "code",
      "metadata": {
        "id": "2_qtKfATX0u7",
        "colab_type": "code",
        "outputId": "25a3cb70-0334-4070-a5ec-95582a8bad7d",
        "colab": {
          "base_uri": "https://localhost:8080/",
          "height": 673
        }
      },
      "source": [
        "states_by_loss_claims_all_cols[:5].plot.bar(subplots=True)\n",
        "fig = plt.gcf()\n",
        "fig.set_size_inches(5,10)"
      ],
      "execution_count": 0,
      "outputs": [
        {
          "output_type": "display_data",
          "data": {
            "image/png": "[encoded data removed]",
            "text/plain": [
              "<Figure size 360x720 with 4 Axes>"
            ]
          },
          "metadata": {
            "tags": []
          }
        }
      ]
    },
    {
      "cell_type": "markdown",
      "metadata": {
        "id": "2l7SqBu2GmtF",
        "colab_type": "text"
      },
      "source": [
        "> Answer <img src=\"https://github.com/jigsawlabs-student/exploring-pandas/blob/master/subplot-states.png?raw=1\" width=\"30%\">"
      ]
    },
    {
      "cell_type": "markdown",
      "metadata": {
        "id": "N6GW_gsOGmtF",
        "colab_type": "text"
      },
      "source": [
        "### Summary"
      ]
    },
    {
      "cell_type": "markdown",
      "metadata": {
        "id": "7RG0HLS5GmtG",
        "colab_type": "text"
      },
      "source": [
        "In this lesson, we how to both group our data by values within a column, and then perform aggregate queries in pandas from there.  We then saw how to turn this information in bar chart's with pandas' integration with matplotlib."
      ]
    }
  ]
}