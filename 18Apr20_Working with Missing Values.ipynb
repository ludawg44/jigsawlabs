{
  "nbformat": 4,
  "nbformat_minor": 0,
  "metadata": {
    "kernelspec": {
      "display_name": "Python 3",
      "language": "python",
      "name": "python3"
    },
    "language_info": {
      "codemirror_mode": {
        "name": "ipython",
        "version": 3
      },
      "file_extension": ".py",
      "mimetype": "text/x-python",
      "name": "python",
      "nbconvert_exporter": "python",
      "pygments_lexer": "ipython3",
      "version": "3.7.4"
    },
    "colab": {
      "name": "Copy of 1-index.ipynb",
      "provenance": [],
      "include_colab_link": true
    }
  },
  "cells": [
    {
      "cell_type": "markdown",
      "metadata": {
        "id": "view-in-github",
        "colab_type": "text"
      },
      "source": [
        "<a href=\"https://colab.research.google.com/github/ludawg44/jigsawlabs/blob/master/18Apr20_Working%20with%20Missing%20Values.ipynb\" target=\"_parent\"><img src=\"https://colab.research.google.com/assets/colab-badge.svg\" alt=\"Open In Colab\"/></a>"
      ]
    },
    {
      "cell_type": "markdown",
      "metadata": {
        "id": "FMafA0N_LyCQ",
        "colab_type": "text"
      },
      "source": [
        "# Working with Missing Values"
      ]
    },
    {
      "cell_type": "markdown",
      "metadata": {
        "id": "fE0bfhicLyCR",
        "colab_type": "text"
      },
      "source": [
        "### Introduction"
      ]
    },
    {
      "cell_type": "markdown",
      "metadata": {
        "id": "IaXBVMtmLyCS",
        "colab_type": "text"
      },
      "source": [
        "One of the requirements of linear regression is that each of the inputs is translated into a number before we begin to fit the model to our data.  A problem with that, is that oftentimes some of the data may simply not be available.  In those cases, which occur quite often, we still would like to include the feature, and see how data being missing can still be informative. "
      ]
    },
    {
      "cell_type": "markdown",
      "metadata": {
        "id": "wncinazjLyCT",
        "colab_type": "text"
      },
      "source": [
        "### Working with NYC SAT data"
      ]
    },
    {
      "cell_type": "markdown",
      "metadata": {
        "id": "seSepXR8LyCT",
        "colab_type": "text"
      },
      "source": [
        "For this lesson, let's keep explore the average SAT scores for New York City Public Schools.  First, of course we'll load up the data.  [Click here](https://www.kaggle.com/nycopendata/high-schools#scores.csv) to view the data.  Ok, let's take a look."
      ]
    },
    {
      "cell_type": "code",
      "metadata": {
        "id": "Ea1Hd4G1LyCV",
        "colab_type": "code",
        "outputId": "ec7c9b7d-dc9a-44ed-b514-ae5323fe6c88",
        "colab": {
          "base_uri": "https://localhost:8080/",
          "height": 136
        }
      },
      "source": [
        "import pandas as pd\n",
        "url =\"https://raw.githubusercontent.com/jigsawlabs-student/feature-engineering/master/1-detecting-missing-data-reading/scores.csv\"\n",
        "df = pd.read_csv(url)\n",
        "df.columns"
      ],
      "execution_count": 0,
      "outputs": [
        {
          "output_type": "execute_result",
          "data": {
            "text/plain": [
              "Index(['School ID', 'School Name', 'Borough', 'Building Code',\n",
              "       'Street Address', 'City', 'State', 'Zip Code', 'Latitude', 'Longitude',\n",
              "       'Phone Number', 'Start Time', 'End Time', 'Student Enrollment',\n",
              "       'Percent White', 'Percent Black', 'Percent Hispanic', 'Percent Asian',\n",
              "       'Average Score (SAT Math)', 'Average Score (SAT Reading)',\n",
              "       'Average Score (SAT Writing)', 'Percent Tested'],\n",
              "      dtype='object')"
            ]
          },
          "metadata": {
            "tags": []
          },
          "execution_count": 1
        }
      ]
    },
    {
      "cell_type": "markdown",
      "metadata": {
        "id": "e3jFrP4XLyCZ",
        "colab_type": "text"
      },
      "source": [
        "Working with columns with spaces isn't a lot of fun in pandas, so let's replace the columns with underscores."
      ]
    },
    {
      "cell_type": "code",
      "metadata": {
        "id": "OBw0-r-hLyCZ",
        "colab_type": "code",
        "colab": {}
      },
      "source": [
        "df.columns = df.columns.str.strip().str.lower().str.replace(' ', '_').str.replace('(', '').str.replace(')', '')"
      ],
      "execution_count": 0,
      "outputs": []
    },
    {
      "cell_type": "code",
      "metadata": {
        "id": "FIi-34UgLyCc",
        "colab_type": "code",
        "outputId": "527bdc76-d1af-4cf3-cbef-ab15ed5e9da7",
        "colab": {
          "base_uri": "https://localhost:8080/",
          "height": 136
        }
      },
      "source": [
        "df.columns"
      ],
      "execution_count": 0,
      "outputs": [
        {
          "output_type": "execute_result",
          "data": {
            "text/plain": [
              "Index(['school_id', 'school_name', 'borough', 'building_code',\n",
              "       'street_address', 'city', 'state', 'zip_code', 'latitude', 'longitude',\n",
              "       'phone_number', 'start_time', 'end_time', 'student_enrollment',\n",
              "       'percent_white', 'percent_black', 'percent_hispanic', 'percent_asian',\n",
              "       'average_score_sat_math', 'average_score_sat_reading',\n",
              "       'average_score_sat_writing', 'percent_tested'],\n",
              "      dtype='object')"
            ]
          },
          "metadata": {
            "tags": []
          },
          "execution_count": 3
        }
      ]
    },
    {
      "cell_type": "markdown",
      "metadata": {
        "id": "S2uAQab4LyCe",
        "colab_type": "text"
      },
      "source": [
        "Ok, much better.  Now our goal here is to find the attributes that are associated with higher math SAT scores.  So, we'll set higher math SAT scores as our target variable.  \n",
        "\n",
        "This is one of those datasets where we have missing values. "
      ]
    },
    {
      "cell_type": "code",
      "metadata": {
        "id": "g6KDwD5tLyCe",
        "colab_type": "code",
        "outputId": "5f928947-cd56-47fc-b506-1e9de43e18d5",
        "colab": {
          "base_uri": "https://localhost:8080/",
          "height": 85
        }
      },
      "source": [
        "df.percent_tested[:3]"
      ],
      "execution_count": 0,
      "outputs": [
        {
          "output_type": "execute_result",
          "data": {
            "text/plain": [
              "0      NaN\n",
              "1      NaN\n",
              "2    91.0%\n",
              "Name: percent_tested, dtype: object"
            ]
          },
          "metadata": {
            "tags": []
          },
          "execution_count": 4
        }
      ]
    },
    {
      "cell_type": "markdown",
      "metadata": {
        "id": "vcyU2T1KLyCh",
        "colab_type": "text"
      },
      "source": [
        "Above it's pretty obvious.  We simply look for the places that list NaN, which stands for not a number.  However, we should also check to ensure that the missing values are included in less obvious ways."
      ]
    },
    {
      "cell_type": "markdown",
      "metadata": {
        "id": "Sl7GzFeHLyCh",
        "colab_type": "text"
      },
      "source": [
        "### Discovering Missing Values"
      ]
    },
    {
      "cell_type": "markdown",
      "metadata": {
        "id": "ftl7rwKFLyCi",
        "colab_type": "text"
      },
      "source": [
        "Missing values can show up in various forms. We can also detect them by looking for the following:"
      ]
    },
    {
      "cell_type": "markdown",
      "metadata": {
        "id": "42mq-9alLyCi",
        "colab_type": "text"
      },
      "source": [
        "* NAN - which stands for not a number\n",
        "* -999 or 999 - an outlier number to indicate there is no associated data\n",
        "* Another number, like the mean that repeats more than expected\n",
        "* '' - an empty string\n"
      ]
    },
    {
      "cell_type": "markdown",
      "metadata": {
        "id": "msffosynLyCj",
        "colab_type": "text"
      },
      "source": [
        "Let's see techniques for discovering these in our dataset."
      ]
    },
    {
      "cell_type": "markdown",
      "metadata": {
        "id": "rCdLbajULyCj",
        "colab_type": "text"
      },
      "source": [
        "#### NAN"
      ]
    },
    {
      "cell_type": "markdown",
      "metadata": {
        "id": "6Q1Di8lSLyCk",
        "colab_type": "text"
      },
      "source": [
        "Pandas provides with some the `is_na` method for seeing if a value is not available.  We can use it by passing through the pandas series that we wish to examine. "
      ]
    },
    {
      "cell_type": "code",
      "metadata": {
        "id": "ZzSgGrFZLyCl",
        "colab_type": "code",
        "outputId": "aba7bf2e-6163-4cee-f86e-17df6f1d040a",
        "colab": {
          "base_uri": "https://localhost:8080/",
          "height": 119
        }
      },
      "source": [
        "pd.isna(df.average_score_sat_math)[0:5]"
      ],
      "execution_count": 0,
      "outputs": [
        {
          "output_type": "execute_result",
          "data": {
            "text/plain": [
              "0     True\n",
              "1     True\n",
              "2    False\n",
              "3    False\n",
              "4    False\n",
              "Name: average_score_sat_math, dtype: bool"
            ]
          },
          "metadata": {
            "tags": []
          },
          "execution_count": 6
        }
      ]
    },
    {
      "cell_type": "markdown",
      "metadata": {
        "id": "GLM_OV5SLyCn",
        "colab_type": "text"
      },
      "source": [
        "So the `isna` method returns a series of true or false values.  Let's see how many True values, that is not available values, are in the series."
      ]
    },
    {
      "cell_type": "code",
      "metadata": {
        "id": "2FO1eV0xLyCn",
        "colab_type": "code",
        "outputId": "d6a8399e-c571-4df2-8f34-fa7905c66699",
        "colab": {
          "base_uri": "https://localhost:8080/",
          "height": 68
        }
      },
      "source": [
        "pd.isna(df.average_score_sat_math).value_counts()"
      ],
      "execution_count": 0,
      "outputs": [
        {
          "output_type": "execute_result",
          "data": {
            "text/plain": [
              "False    375\n",
              "True      60\n",
              "Name: average_score_sat_math, dtype: int64"
            ]
          },
          "metadata": {
            "tags": []
          },
          "execution_count": 7
        }
      ]
    },
    {
      "cell_type": "markdown",
      "metadata": {
        "id": "5uiLTh2pLyCq",
        "colab_type": "text"
      },
      "source": [
        "So roughly 14 percent of our target variables have NAN."
      ]
    },
    {
      "cell_type": "markdown",
      "metadata": {
        "id": "KxJs0KhmLyCq",
        "colab_type": "text"
      },
      "source": [
        "### Missing numbers as outliers"
      ]
    },
    {
      "cell_type": "markdown",
      "metadata": {
        "id": "WyPedrPtLyCr",
        "colab_type": "text"
      },
      "source": [
        "Just because we saw some `nan`s listed doesn't signify that we're done.  Our missing numbers could also be disguised as outliers.  This happens because the person entering the data may be forced to enter a number, but does not know which number to enter.  So they choose a number that they know will not occur, like -999. Unfortunately, we do not know which number is used to indicate a missing value.  \n",
        "\n",
        "If we use a histogram, to plot our series, we can discover if there is anything out of the norm."
      ]
    },
    {
      "cell_type": "code",
      "metadata": {
        "id": "bT9bgDqkLyCr",
        "colab_type": "code",
        "outputId": "f0ee377a-2956-48f0-ef9f-e48151d20f81",
        "colab": {
          "base_uri": "https://localhost:8080/",
          "height": 282
        }
      },
      "source": [
        "df.average_score_sat_math.plot.hist()"
      ],
      "execution_count": 0,
      "outputs": [
        {
          "output_type": "execute_result",
          "data": {
            "text/plain": [
              "<matplotlib.axes._subplots.AxesSubplot at 0x7f0583f1b748>"
            ]
          },
          "metadata": {
            "tags": []
          },
          "execution_count": 8
        },
        {
          "output_type": "display_data",
          "data": {
            "image/png": "[encoded data removed]",
            "text/plain": [
              "<Figure size 432x288 with 1 Axes>"
            ]
          },
          "metadata": {
            "tags": [],
            "needs_background": "light"
          }
        }
      ]
    },
    {
      "cell_type": "markdown",
      "metadata": {
        "id": "bgF6jvi_LyCt",
        "colab_type": "text"
      },
      "source": [
        "Here, our numbers look good - they range between a little over 300 and below 800.  Let's make sure no values are cut off in our plot by checking the min and max values."
      ]
    },
    {
      "cell_type": "code",
      "metadata": {
        "id": "OyuAIctTLyCu",
        "colab_type": "code",
        "outputId": "5647aec9-1d25-4975-ef1a-32c4ab216ef0",
        "colab": {
          "base_uri": "https://localhost:8080/",
          "height": 34
        }
      },
      "source": [
        "df.average_score_sat_math.min()"
      ],
      "execution_count": 0,
      "outputs": [
        {
          "output_type": "execute_result",
          "data": {
            "text/plain": [
              "317.0"
            ]
          },
          "metadata": {
            "tags": []
          },
          "execution_count": 9
        }
      ]
    },
    {
      "cell_type": "code",
      "metadata": {
        "id": "W-A8XDOiLyCx",
        "colab_type": "code",
        "outputId": "42fddb58-10de-4c64-d312-9d8e90e5c50c",
        "colab": {
          "base_uri": "https://localhost:8080/",
          "height": 34
        }
      },
      "source": [
        "df.average_score_sat_math.max()"
      ],
      "execution_count": 0,
      "outputs": [
        {
          "output_type": "execute_result",
          "data": {
            "text/plain": [
              "754.0"
            ]
          },
          "metadata": {
            "tags": []
          },
          "execution_count": 10
        }
      ]
    },
    {
      "cell_type": "markdown",
      "metadata": {
        "id": "PyZ4tZETLyCz",
        "colab_type": "text"
      },
      "source": [
        "Ok, so it looks like we do not have any outlier values or spikes in the data to indicate missing values."
      ]
    },
    {
      "cell_type": "markdown",
      "metadata": {
        "id": "mL-EJAOMLyCz",
        "colab_type": "text"
      },
      "source": [
        "### Empty Strings"
      ]
    },
    {
      "cell_type": "markdown",
      "metadata": {
        "id": "8t3FMnppLyC0",
        "colab_type": "text"
      },
      "source": [
        "This is easy enough to check.  With a column that is an float, we can be confident that there are no empty strings."
      ]
    },
    {
      "cell_type": "code",
      "metadata": {
        "id": "uHdhHjS9LyC0",
        "colab_type": "code",
        "outputId": "77f55e3f-3107-4eda-ec20-2dbd022b1955",
        "colab": {
          "base_uri": "https://localhost:8080/",
          "height": 34
        }
      },
      "source": [
        "df.average_score_sat_math.dtype"
      ],
      "execution_count": 0,
      "outputs": [
        {
          "output_type": "execute_result",
          "data": {
            "text/plain": [
              "dtype('float64')"
            ]
          },
          "metadata": {
            "tags": []
          },
          "execution_count": 11
        }
      ]
    },
    {
      "cell_type": "markdown",
      "metadata": {
        "id": "4-vojvqILyC2",
        "colab_type": "text"
      },
      "source": [
        "We can't have empty strings in a column of type float.  So, by way of example, let's take a look at the phone number column. This feature is filled with strings."
      ]
    },
    {
      "cell_type": "code",
      "metadata": {
        "id": "HUZ4l4x1LyC2",
        "colab_type": "code",
        "outputId": "4285e88f-485f-4998-d64b-cb21bb0a0e23",
        "colab": {
          "base_uri": "https://localhost:8080/",
          "height": 34
        }
      },
      "source": [
        "df.phone_number[0]"
      ],
      "execution_count": 0,
      "outputs": [
        {
          "output_type": "execute_result",
          "data": {
            "text/plain": [
              "'212-695-9114'"
            ]
          },
          "metadata": {
            "tags": []
          },
          "execution_count": 12
        }
      ]
    },
    {
      "cell_type": "code",
      "metadata": {
        "id": "0pQvEEkgLyC4",
        "colab_type": "code",
        "outputId": "5cd36b5e-be4c-4f8b-cc36-cc78ff1e5709",
        "colab": {
          "base_uri": "https://localhost:8080/",
          "height": 102
        }
      },
      "source": [
        "(df.phone_number == '212-695-9114')[0:4]"
      ],
      "execution_count": 0,
      "outputs": [
        {
          "output_type": "execute_result",
          "data": {
            "text/plain": [
              "0     True\n",
              "1    False\n",
              "2    False\n",
              "3    False\n",
              "Name: phone_number, dtype: bool"
            ]
          },
          "metadata": {
            "tags": []
          },
          "execution_count": 13
        }
      ]
    },
    {
      "cell_type": "code",
      "metadata": {
        "id": "TFtY6nsiLyC6",
        "colab_type": "code",
        "outputId": "9db138b1-6f31-4514-b96f-2efb832337c0",
        "colab": {
          "base_uri": "https://localhost:8080/",
          "height": 51
        }
      },
      "source": [
        "(df.phone_number == ' ').value_counts()"
      ],
      "execution_count": 0,
      "outputs": [
        {
          "output_type": "execute_result",
          "data": {
            "text/plain": [
              "False    435\n",
              "Name: phone_number, dtype: int64"
            ]
          },
          "metadata": {
            "tags": []
          },
          "execution_count": 14
        }
      ]
    },
    {
      "cell_type": "markdown",
      "metadata": {
        "id": "l_rL3l1gLyC7",
        "colab_type": "text"
      },
      "source": [
        "To check missing values across columns, we can use the `eq` `any` methods in pandas."
      ]
    },
    {
      "cell_type": "code",
      "metadata": {
        "id": "WrTWKKVlLyC8",
        "colab_type": "code",
        "outputId": "56fde26c-06b4-47b8-bd6a-14715c689840",
        "colab": {
          "base_uri": "https://localhost:8080/",
          "height": 103
        }
      },
      "source": [
        "df[df.eq(' ').any(axis = 1)]"
      ],
      "execution_count": 0,
      "outputs": [
        {
          "output_type": "stream",
          "text": [
            "/usr/local/lib/python3.6/dist-packages/pandas/core/ops/array_ops.py:253: FutureWarning: elementwise comparison failed; returning scalar instead, but in the future will perform elementwise comparison\n",
            "  res_values = method(rvalues)\n"
          ],
          "name": "stderr"
        },
        {
          "output_type": "execute_result",
          "data": {
            "text/html": [
              "<div>\n",
              "<style scoped>\n",
              "    .dataframe tbody tr th:only-of-type {\n",
              "        vertical-align: middle;\n",
              "    }\n",
              "\n",
              "    .dataframe tbody tr th {\n",
              "        vertical-align: top;\n",
              "    }\n",
              "\n",
              "    .dataframe thead th {\n",
              "        text-align: right;\n",
              "    }\n",
              "</style>\n",
              "<table border=\"1\" class=\"dataframe\">\n",
              "  <thead>\n",
              "    <tr style=\"text-align: right;\">\n",
              "      <th></th>\n",
              "      <th>school_id</th>\n",
              "      <th>school_name</th>\n",
              "      <th>borough</th>\n",
              "      <th>building_code</th>\n",
              "      <th>street_address</th>\n",
              "      <th>city</th>\n",
              "      <th>state</th>\n",
              "      <th>zip_code</th>\n",
              "      <th>latitude</th>\n",
              "      <th>longitude</th>\n",
              "      <th>phone_number</th>\n",
              "      <th>start_time</th>\n",
              "      <th>end_time</th>\n",
              "      <th>student_enrollment</th>\n",
              "      <th>percent_white</th>\n",
              "      <th>percent_black</th>\n",
              "      <th>percent_hispanic</th>\n",
              "      <th>percent_asian</th>\n",
              "      <th>average_score_sat_math</th>\n",
              "      <th>average_score_sat_reading</th>\n",
              "      <th>average_score_sat_writing</th>\n",
              "      <th>percent_tested</th>\n",
              "    </tr>\n",
              "  </thead>\n",
              "  <tbody>\n",
              "  </tbody>\n",
              "</table>\n",
              "</div>"
            ],
            "text/plain": [
              "Empty DataFrame\n",
              "Columns: [school_id, school_name, borough, building_code, street_address, city, state, zip_code, latitude, longitude, phone_number, start_time, end_time, student_enrollment, percent_white, percent_black, percent_hispanic, percent_asian, average_score_sat_math, average_score_sat_reading, average_score_sat_writing, percent_tested]\n",
              "Index: []"
            ]
          },
          "metadata": {
            "tags": []
          },
          "execution_count": 15
        }
      ]
    },
    {
      "cell_type": "markdown",
      "metadata": {
        "id": "auijli90LyC-",
        "colab_type": "text"
      },
      "source": [
        "> So here we do not see any empty string values in the dataframe."
      ]
    },
    {
      "cell_type": "markdown",
      "metadata": {
        "id": "dN532WeZLyC_",
        "colab_type": "text"
      },
      "source": [
        "Just to see the functionality working, let's look for the value `'212-695-9114'` across our dataframe."
      ]
    },
    {
      "cell_type": "code",
      "metadata": {
        "id": "qX12MdJVLyC_",
        "colab_type": "code",
        "outputId": "5359ebd9-78a4-4009-c3be-abf76170b662",
        "colab": {}
      },
      "source": [
        "import numpy as np\n",
        "df[df.eq('212-695-9114').any(axis = 1)]"
      ],
      "execution_count": 0,
      "outputs": [
        {
          "output_type": "execute_result",
          "data": {
            "text/html": [
              "<div>\n",
              "<style scoped>\n",
              "    .dataframe tbody tr th:only-of-type {\n",
              "        vertical-align: middle;\n",
              "    }\n",
              "\n",
              "    .dataframe tbody tr th {\n",
              "        vertical-align: top;\n",
              "    }\n",
              "\n",
              "    .dataframe thead th {\n",
              "        text-align: right;\n",
              "    }\n",
              "</style>\n",
              "<table border=\"1\" class=\"dataframe\">\n",
              "  <thead>\n",
              "    <tr style=\"text-align: right;\">\n",
              "      <th></th>\n",
              "      <th>school_id</th>\n",
              "      <th>school_name</th>\n",
              "      <th>borough</th>\n",
              "      <th>building_code</th>\n",
              "      <th>street_address</th>\n",
              "      <th>city</th>\n",
              "      <th>state</th>\n",
              "      <th>zip_code</th>\n",
              "      <th>latitude</th>\n",
              "      <th>longitude</th>\n",
              "      <th>...</th>\n",
              "      <th>end_time</th>\n",
              "      <th>student_enrollment</th>\n",
              "      <th>percent_white</th>\n",
              "      <th>percent_black</th>\n",
              "      <th>percent_hispanic</th>\n",
              "      <th>percent_asian</th>\n",
              "      <th>average_score_sat_math</th>\n",
              "      <th>average_score_sat_reading</th>\n",
              "      <th>average_score_sat_writing</th>\n",
              "      <th>percent_tested</th>\n",
              "    </tr>\n",
              "  </thead>\n",
              "  <tbody>\n",
              "    <tr>\n",
              "      <th>0</th>\n",
              "      <td>02M260</td>\n",
              "      <td>Clinton School Writers and Artists</td>\n",
              "      <td>Manhattan</td>\n",
              "      <td>M933</td>\n",
              "      <td>425 West 33rd Street</td>\n",
              "      <td>Manhattan</td>\n",
              "      <td>NY</td>\n",
              "      <td>10001</td>\n",
              "      <td>40.75321</td>\n",
              "      <td>-73.99786</td>\n",
              "      <td>...</td>\n",
              "      <td>NaN</td>\n",
              "      <td>NaN</td>\n",
              "      <td>NaN</td>\n",
              "      <td>NaN</td>\n",
              "      <td>NaN</td>\n",
              "      <td>NaN</td>\n",
              "      <td>NaN</td>\n",
              "      <td>NaN</td>\n",
              "      <td>NaN</td>\n",
              "      <td>NaN</td>\n",
              "    </tr>\n",
              "  </tbody>\n",
              "</table>\n",
              "<p>1 rows × 22 columns</p>\n",
              "</div>"
            ],
            "text/plain": [
              "  school_id                         school_name    borough building_code  \\\n",
              "0    02M260  Clinton School Writers and Artists  Manhattan          M933   \n",
              "\n",
              "         street_address       city state  zip_code  latitude  longitude  ...  \\\n",
              "0  425 West 33rd Street  Manhattan    NY     10001  40.75321  -73.99786  ...   \n",
              "\n",
              "  end_time student_enrollment percent_white  percent_black percent_hispanic  \\\n",
              "0      NaN                NaN           NaN            NaN              NaN   \n",
              "\n",
              "  percent_asian average_score_sat_math average_score_sat_reading  \\\n",
              "0           NaN                    NaN                       NaN   \n",
              "\n",
              "   average_score_sat_writing  percent_tested  \n",
              "0                        NaN             NaN  \n",
              "\n",
              "[1 rows x 22 columns]"
            ]
          },
          "metadata": {
            "tags": []
          },
          "execution_count": 20
        }
      ]
    },
    {
      "cell_type": "code",
      "metadata": {
        "id": "jVuCRGAaLyDB",
        "colab_type": "code",
        "outputId": "9e959e3a-8563-478f-e45e-0d2329d7dbd7",
        "colab": {
          "base_uri": "https://localhost:8080/",
          "height": 34
        }
      },
      "source": [
        "df.shape"
      ],
      "execution_count": 0,
      "outputs": [
        {
          "output_type": "execute_result",
          "data": {
            "text/plain": [
              "(435, 22)"
            ]
          },
          "metadata": {
            "tags": []
          },
          "execution_count": 16
        }
      ]
    },
    {
      "cell_type": "markdown",
      "metadata": {
        "id": "r3s1RNNiLyDE",
        "colab_type": "text"
      },
      "source": [
        "### Summary"
      ]
    },
    {
      "cell_type": "markdown",
      "metadata": {
        "id": "1TO4AbgaLyDF",
        "colab_type": "text"
      },
      "source": [
        "In this lesson, we saw some techniques for discovering missing data.  We can see it via NaN's listed, via outlier data, or spikes in our dataset, like a repeating mean.  We saw how in textual data, missing data may show up as empty strings.  In the next lesson, we'll see how to handle missing data when we find it."
      ]
    }
  ]
}