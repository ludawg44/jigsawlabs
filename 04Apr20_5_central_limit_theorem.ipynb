{
  "nbformat": 4,
  "nbformat_minor": 0,
  "metadata": {
    "kernelspec": {
      "display_name": "Python 3",
      "language": "python",
      "name": "python3"
    },
    "language_info": {
      "codemirror_mode": {
        "name": "ipython",
        "version": 3
      },
      "file_extension": ".py",
      "mimetype": "text/x-python",
      "name": "python",
      "nbconvert_exporter": "python",
      "pygments_lexer": "ipython3",
      "version": "3.7.4"
    },
    "colab": {
      "name": "Copy of 5-central-limit-theorem.ipynb",
      "provenance": [],
      "include_colab_link": true
    }
  },
  "cells": [
    {
      "cell_type": "markdown",
      "metadata": {
        "id": "view-in-github",
        "colab_type": "text"
      },
      "source": [
        "<a href=\"https://colab.research.google.com/github/ludawg44/jigsawlabs/blob/master/04Apr20_5_central_limit_theorem.ipynb\" target=\"_parent\"><img src=\"https://colab.research.google.com/assets/colab-badge.svg\" alt=\"Open In Colab\"/></a>"
      ]
    },
    {
      "cell_type": "markdown",
      "metadata": {
        "id": "SCPOCxGN08aH",
        "colab_type": "text"
      },
      "source": [
        "# Central Limit Theorem"
      ]
    },
    {
      "cell_type": "markdown",
      "metadata": {
        "id": "DvTKG1XY08aH",
        "colab_type": "text"
      },
      "source": [
        "### Introduction"
      ]
    },
    {
      "cell_type": "markdown",
      "metadata": {
        "id": "OhSHmhJd08aI",
        "colab_type": "text"
      },
      "source": [
        "In the few lessons we saw how we can calculate statistics like the standard error of the means using both an analytic approach and a computational approach.  In this lesson, we'll understand a little further one theorem that this analytic approach relies on - called the central limit theorem."
      ]
    },
    {
      "cell_type": "markdown",
      "metadata": {
        "id": "L8EcQNEM08aI",
        "colab_type": "text"
      },
      "source": [
        "### Loading our Sample"
      ]
    },
    {
      "cell_type": "markdown",
      "metadata": {
        "id": "1LZpNXcl08aJ",
        "colab_type": "text"
      },
      "source": [
        "Once again let's load up our sample data on NBA players.  Now this time let's try to calculate sample statistics on the number of NBA games played."
      ]
    },
    {
      "cell_type": "code",
      "metadata": {
        "id": "GHTKiW5808aJ",
        "colab_type": "code",
        "colab": {}
      },
      "source": [
        "import pandas as pd\n",
        "url = \"gs://curriculum-assets/mod-2/players_sample.csv\"\n",
        "players_df = pd.read_csv(url, index_col = 0)"
      ],
      "execution_count": 0,
      "outputs": []
    },
    {
      "cell_type": "markdown",
      "metadata": {
        "id": "LJeKEnSj08aM",
        "colab_type": "text"
      },
      "source": [
        "> We select `games_played` and drop missing values."
      ]
    },
    {
      "cell_type": "code",
      "metadata": {
        "id": "0JYrNHX_08aN",
        "colab_type": "code",
        "colab": {}
      },
      "source": [
        "games_played_cleaned = players_df.games_played.dropna()"
      ],
      "execution_count": 0,
      "outputs": []
    },
    {
      "cell_type": "markdown",
      "metadata": {
        "id": "0J1SIbP908aP",
        "colab_type": "text"
      },
      "source": [
        "Now let's take a sample of our data."
      ]
    },
    {
      "cell_type": "code",
      "metadata": {
        "id": "Fa0Rnl1108aQ",
        "colab_type": "code",
        "colab": {}
      },
      "source": [
        "sample_of_games_played = games_played_cleaned.sample(n = 100)"
      ],
      "execution_count": 0,
      "outputs": []
    },
    {
      "cell_type": "markdown",
      "metadata": {
        "id": "JUbRjK0S08aS",
        "colab_type": "text"
      },
      "source": [
        "And plot the data."
      ]
    },
    {
      "cell_type": "code",
      "metadata": {
        "id": "Gk4mS1Ve08aS",
        "colab_type": "code",
        "outputId": "725fcf7e-b803-4719-a505-7c1e4d2150b6",
        "colab": {}
      },
      "source": [
        "import matplotlib.pyplot as plt\n",
        "fig_pop = plt.figure()\n",
        "ax = fig_pop.add_subplot(111)\n",
        "ax.set(title = 'games played per player', xlabel = 'games played', ylabel ='count')\n",
        "sample_of_games_played.hist(ax = ax)"
      ],
      "execution_count": 0,
      "outputs": [
        {
          "output_type": "execute_result",
          "data": {
            "text/plain": [
              "<matplotlib.axes._subplots.AxesSubplot at 0x120574610>"
            ]
          },
          "metadata": {
            "tags": []
          },
          "execution_count": 31
        },
        {
          "output_type": "display_data",
          "data": {
            "image/png": "[encoded data removed]",
            "text/plain": [
              "<Figure size 432x288 with 1 Axes>"
            ]
          },
          "metadata": {
            "tags": [],
            "needs_background": "light"
          }
        }
      ]
    },
    {
      "cell_type": "markdown",
      "metadata": {
        "id": "DItmVomm08aV",
        "colab_type": "text"
      },
      "source": [
        "Now with a distribution tailed strongly to the right, how can we be sure that a sample mean will be near our underlying mean?  Remember, our formula for the mean is simply to take the mean of our sample, and then we based the standard error on the sample standard deviation."
      ]
    },
    {
      "cell_type": "markdown",
      "metadata": {
        "id": "EBY4myyy08aW",
        "colab_type": "text"
      },
      "source": [
        "$se = \\frac{S}{\\sqrt{n}}$"
      ]
    },
    {
      "cell_type": "markdown",
      "metadata": {
        "id": "t94XW8GB08aW",
        "colab_type": "text"
      },
      "source": [
        "But can we really assume that the average amount our mean will be off by will be $\\pm se$?  For example, for our sample above, the mean is $278.82$."
      ]
    },
    {
      "cell_type": "code",
      "metadata": {
        "id": "4ep0Ty-n08aW",
        "colab_type": "code",
        "outputId": "9214d8e5-1d31-41fd-83fb-53617beb4cad",
        "colab": {}
      },
      "source": [
        "sample_of_games_played.mean()\n",
        "# 278.82"
      ],
      "execution_count": 0,
      "outputs": [
        {
          "output_type": "execute_result",
          "data": {
            "text/plain": [
              "278.82"
            ]
          },
          "metadata": {
            "tags": []
          },
          "execution_count": 9
        }
      ]
    },
    {
      "cell_type": "markdown",
      "metadata": {
        "id": "1CjvpaD208aZ",
        "colab_type": "text"
      },
      "source": [
        "Isn't more likely that the real mean is tilted in one direction or the other, with such an asymmetric distribution."
      ]
    },
    {
      "cell_type": "markdown",
      "metadata": {
        "id": "us8S732I08aa",
        "colab_type": "text"
      },
      "source": [
        "The answer is of course, no."
      ]
    },
    {
      "cell_type": "markdown",
      "metadata": {
        "id": "CfbFyvLa08aa",
        "colab_type": "text"
      },
      "source": [
        "### Distribution of the Means"
      ]
    },
    {
      "cell_type": "markdown",
      "metadata": {
        "id": "hypvzO6208ab",
        "colab_type": "text"
      },
      "source": [
        "What we are looking at above is the distribution of the population.  But the standard error relies on the distribution of sample means.  Let's see what that looks like. "
      ]
    },
    {
      "cell_type": "markdown",
      "metadata": {
        "id": "7WkD2h9E08ab",
        "colab_type": "text"
      },
      "source": [
        "And now for the distribution of the means, we can draw a bunch of samples, calculate the means, and then plot them."
      ]
    },
    {
      "cell_type": "code",
      "metadata": {
        "id": "DmmqDys108ab",
        "colab_type": "code",
        "colab": {}
      },
      "source": [
        "import numpy as np\n",
        "from numpy import random\n",
        "random.seed(2)\n",
        "\n",
        "def make_samples(sample_ser, n_samples= 1000):\n",
        "    n_rows = sample_ser.shape[0]\n",
        "    samples = []\n",
        "    for i in range(n_samples):\n",
        "        sample_idcs = random.choice(n_rows, n_rows)\n",
        "        sample = sample_ser.iloc[sample_idcs]\n",
        "        samples.append(sample)\n",
        "    return samples"
      ],
      "execution_count": 0,
      "outputs": []
    },
    {
      "cell_type": "code",
      "metadata": {
        "id": "ruoXcZb508ad",
        "colab_type": "code",
        "colab": {}
      },
      "source": [
        "samples = make_samples(sample_of_games_played)"
      ],
      "execution_count": 0,
      "outputs": []
    },
    {
      "cell_type": "code",
      "metadata": {
        "id": "ZOaiF1km08ah",
        "colab_type": "code",
        "colab": {}
      },
      "source": [
        "sample_means = [sample.mean() for sample in samples]"
      ],
      "execution_count": 0,
      "outputs": []
    },
    {
      "cell_type": "code",
      "metadata": {
        "id": "ZSKQMy0R08ak",
        "colab_type": "code",
        "outputId": "55c5c1e3-41a4-4210-b164-828571e58d68",
        "colab": {}
      },
      "source": [
        "import matplotlib.pyplot as plt\n",
        "fig_means = plt.figure()\n",
        "ax = fig_means.add_subplot(111)\n",
        "ax.set(title = 'sample means', xlabel = 'sample mean', ylabel ='count')\n",
        "ax.hist(sample_means, bins = 50)\n",
        "plt.show()"
      ],
      "execution_count": 0,
      "outputs": [
        {
          "output_type": "display_data",
          "data": {
            "image/png": "[encoded data removed]",
            "text/plain": [
              "<Figure size 432x288 with 1 Axes>"
            ]
          },
          "metadata": {
            "tags": [],
            "needs_background": "light"
          }
        }
      ]
    },
    {
      "cell_type": "markdown",
      "metadata": {
        "id": "Xr8u3peu08al",
        "colab_type": "text"
      },
      "source": [
        "The above is an illustration of the central limit theorem.  \n",
        "\n",
        "> The **central limit theorem**: The distribution of the means of the sample distributions tends toward a normal distribution (informally a “bell curve”), irrespective of the shape of the population distribution."
      ]
    },
    {
      "cell_type": "markdown",
      "metadata": {
        "id": "PYOVMJoU08am",
        "colab_type": "text"
      },
      "source": [
        "> Really, the central limit theorem even extends beyond the distribution of sample means, and to most sample statistics, but the means is good enough for now. "
      ]
    },
    {
      "cell_type": "markdown",
      "metadata": {
        "id": "tAIjWrq208am",
        "colab_type": "text"
      },
      "source": [
        "So because the distribution of the means is symmetric, we see that we tend to be within a certain plus or minus standard error each time that we calculate the sample mean. "
      ]
    },
    {
      "cell_type": "markdown",
      "metadata": {
        "id": "ZkM_LgCZ08am",
        "colab_type": "text"
      },
      "source": [
        "### Summary"
      ]
    },
    {
      "cell_type": "markdown",
      "metadata": {
        "id": "9XPOf5RF08an",
        "colab_type": "text"
      },
      "source": [
        "In this lesson, we learned about the central limit theorem.  As we saw, central limit theorem says that  distribution of the means of the sample distributions tends toward a normal distribution (informally a “bell curve”), irrespective of the shape of the underlying population distribution."
      ]
    },
    {
      "cell_type": "markdown",
      "metadata": {
        "id": "uG-XAv5h08an",
        "colab_type": "text"
      },
      "source": [
        "### Resources"
      ]
    },
    {
      "cell_type": "markdown",
      "metadata": {
        "id": "bKYYmrfo08an",
        "colab_type": "text"
      },
      "source": [
        "[Central Limit Theorem Wikipedia](https://en.wikipedia.org/wiki/Central_limit_theorem)"
      ]
    }
  ]
}