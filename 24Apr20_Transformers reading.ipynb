{
  "nbformat": 4,
  "nbformat_minor": 0,
  "metadata": {
    "kernelspec": {
      "display_name": "Python 3",
      "language": "python",
      "name": "python3"
    },
    "language_info": {
      "codemirror_mode": {
        "name": "ipython",
        "version": 3
      },
      "file_extension": ".py",
      "mimetype": "text/x-python",
      "name": "python",
      "nbconvert_exporter": "python",
      "pygments_lexer": "ipython3",
      "version": "3.7.4"
    },
    "colab": {
      "name": "Copy of 0-transformers.ipynb",
      "provenance": [],
      "include_colab_link": true
    }
  },
  "cells": [
    {
      "cell_type": "markdown",
      "metadata": {
        "id": "view-in-github",
        "colab_type": "text"
      },
      "source": [
        "<a href=\"https://colab.research.google.com/github/ludawg44/jigsawlabs/blob/master/24Apr20_Transformers%20reading.ipynb\" target=\"_parent\"><img src=\"https://colab.research.google.com/assets/colab-badge.svg\" alt=\"Open In Colab\"/></a>"
      ]
    },
    {
      "cell_type": "markdown",
      "metadata": {
        "id": "T8vTJNYBJ9CM",
        "colab_type": "text"
      },
      "source": [
        "# Introduction to Transformers"
      ]
    },
    {
      "cell_type": "markdown",
      "metadata": {
        "id": "n5aTWCCxJ9CN",
        "colab_type": "text"
      },
      "source": [
        "### Introduction"
      ]
    },
    {
      "cell_type": "markdown",
      "metadata": {
        "id": "Cc-RraJnJ9CN",
        "colab_type": "text"
      },
      "source": [
        "So far we have seen various techniques for engineering our data.  We've seen how to handle missing values by replacing the nan with the mean value, and adding a boolean column to indicate missingness for each observation.  We've seen techniques for converting categorical variables into dummy variables.\n",
        "\n",
        "It may not be surprising that SKlearn has some tools to allow us to better automate these techniques.  In the lesson, we'll see how we can do so with sklearn's transformers."
      ]
    },
    {
      "cell_type": "markdown",
      "metadata": {
        "id": "GpQnW9ULJ9CO",
        "colab_type": "text"
      },
      "source": [
        "### Loading our Data"
      ]
    },
    {
      "cell_type": "code",
      "metadata": {
        "id": "BT9w_dVNJ9CO",
        "colab_type": "code",
        "colab": {}
      },
      "source": [
        "import pandas as pd\n",
        "url = \"https://raw.githubusercontent.com/jigsawlabs-student/pipelines-and-transformers/master/nyc_hs_sat.csv\"\n",
        "df = pd.read_csv(url, index_col = 0)"
      ],
      "execution_count": 0,
      "outputs": []
    },
    {
      "cell_type": "code",
      "metadata": {
        "id": "dD1IvXJtJ9CR",
        "colab_type": "code",
        "outputId": "0fe1d9ce-0e05-4685-dce5-87b7f5d771c4",
        "colab": {}
      },
      "source": [
        "df.info()"
      ],
      "execution_count": 0,
      "outputs": [
        {
          "output_type": "stream",
          "text": [
            "<class 'pandas.core.frame.DataFrame'>\n",
            "Int64Index: 356 entries, 0 to 355\n",
            "Data columns (total 11 columns):\n",
            "dbn                    356 non-null object\n",
            "name                   356 non-null object\n",
            "num_test_takers        327 non-null float64\n",
            "reading_avg            327 non-null float64\n",
            "math_avg               327 non-null float64\n",
            "writing_score          327 non-null float64\n",
            "boro                   356 non-null object\n",
            "total_students         356 non-null int64\n",
            "graduation_rate        351 non-null float64\n",
            "attendance_rate        356 non-null float64\n",
            "college_career_rate    351 non-null float64\n",
            "dtypes: float64(7), int64(1), object(3)\n",
            "memory usage: 33.4+ KB\n"
          ],
          "name": "stdout"
        }
      ]
    },
    {
      "cell_type": "markdown",
      "metadata": {
        "id": "CBR31AqzJ9CU",
        "colab_type": "text"
      },
      "source": [
        "### Missing Data"
      ]
    },
    {
      "cell_type": "markdown",
      "metadata": {
        "id": "Xp0OEdNOJ9CV",
        "colab_type": "text"
      },
      "source": [
        "Now sklearn has a number of `transformers` which provide some out of the box feature engineering.  For example, in handling missing data, one of our techniques is to replace na values with the mean of the column."
      ]
    },
    {
      "cell_type": "code",
      "metadata": {
        "id": "34EQzy3gJ9CV",
        "colab_type": "code",
        "colab": {}
      },
      "source": [
        "graduation_rate = df[['graduation_rate']]"
      ],
      "execution_count": 0,
      "outputs": []
    },
    {
      "cell_type": "code",
      "metadata": {
        "id": "Ve7V5y0YJ9CX",
        "colab_type": "code",
        "outputId": "560d792e-03e4-4571-db9a-dcc044ce0b6e",
        "colab": {}
      },
      "source": [
        "graduation_rate.isna().sum()"
      ],
      "execution_count": 0,
      "outputs": [
        {
          "output_type": "execute_result",
          "data": {
            "text/plain": [
              "graduation_rate    5\n",
              "dtype: int64"
            ]
          },
          "metadata": {
            "tags": []
          },
          "execution_count": 67
        }
      ]
    },
    {
      "cell_type": "markdown",
      "metadata": {
        "id": "l57LtMNfJ9Ca",
        "colab_type": "text"
      },
      "source": [
        "We can perform this with the `SimpleImputer`."
      ]
    },
    {
      "cell_type": "code",
      "metadata": {
        "id": "8-xg2N3tJ9Ca",
        "colab_type": "code",
        "colab": {}
      },
      "source": [
        "from sklearn.impute import SimpleImputer"
      ],
      "execution_count": 0,
      "outputs": []
    },
    {
      "cell_type": "code",
      "metadata": {
        "id": "hkfYhj4RJ9Cc",
        "colab_type": "code",
        "colab": {}
      },
      "source": [
        "imputer = SimpleImputer(strategy='mean', missing_values = np.nan)"
      ],
      "execution_count": 0,
      "outputs": []
    },
    {
      "cell_type": "code",
      "metadata": {
        "id": "82vDnzIiJ9Cf",
        "colab_type": "code",
        "outputId": "530ce35d-a16b-468c-a5a7-d848296f671f",
        "colab": {}
      },
      "source": [
        "import numpy as np\n",
        "imputer.fit(graduation_rate)"
      ],
      "execution_count": 0,
      "outputs": [
        {
          "output_type": "execute_result",
          "data": {
            "text/plain": [
              "SimpleImputer(add_indicator=False, copy=True, fill_value=None,\n",
              "              missing_values=nan, strategy='mean', verbose=0)"
            ]
          },
          "metadata": {
            "tags": []
          },
          "execution_count": 68
        }
      ]
    },
    {
      "cell_type": "code",
      "metadata": {
        "id": "nLkdiY_xJ9Ch",
        "colab_type": "code",
        "colab": {}
      },
      "source": [
        "transformed_graduation = imputer.transform(graduation_rate)"
      ],
      "execution_count": 0,
      "outputs": []
    },
    {
      "cell_type": "code",
      "metadata": {
        "id": "bLfKL1kxJ9Cj",
        "colab_type": "code",
        "outputId": "a7efc15e-9c95-4f6f-eab7-e64f17774820",
        "colab": {}
      },
      "source": [
        "np.isnan(transformed_graduation).sum()"
      ],
      "execution_count": 0,
      "outputs": [
        {
          "output_type": "execute_result",
          "data": {
            "text/plain": [
              "0"
            ]
          },
          "metadata": {
            "tags": []
          },
          "execution_count": 71
        }
      ]
    },
    {
      "cell_type": "markdown",
      "metadata": {
        "id": "mvyp93xeJ9Cl",
        "colab_type": "text"
      },
      "source": [
        "We can see that there are no any nan values in the returned numpy array."
      ]
    },
    {
      "cell_type": "markdown",
      "metadata": {
        "id": "_l7oLlofJ9Cm",
        "colab_type": "text"
      },
      "source": [
        "### Reviewing our Transformer"
      ]
    },
    {
      "cell_type": "markdown",
      "metadata": {
        "id": "Kusvvk8cJ9Cm",
        "colab_type": "text"
      },
      "source": [
        "Let's take a moment to unpack how we got the code above to work."
      ]
    },
    {
      "cell_type": "code",
      "metadata": {
        "id": "G-YXn0DqJ9Cn",
        "colab_type": "code",
        "colab": {}
      },
      "source": [
        "from sklearn.impute import SimpleImputer"
      ],
      "execution_count": 0,
      "outputs": []
    },
    {
      "cell_type": "markdown",
      "metadata": {
        "id": "RyzqR36gJ9Cp",
        "colab_type": "text"
      },
      "source": [
        "We first imported the transformer, and initialized the transformer with some configuration.  We could have just used the default configuration."
      ]
    },
    {
      "cell_type": "code",
      "metadata": {
        "id": "Xf6DId-RJ9Cp",
        "colab_type": "code",
        "colab": {}
      },
      "source": [
        "imputer = SimpleImputer()"
      ],
      "execution_count": 0,
      "outputs": []
    },
    {
      "cell_type": "markdown",
      "metadata": {
        "id": "0ztCS1rSJ9Cr",
        "colab_type": "text"
      },
      "source": [
        "Then we call the fit method.  The fit method learns information from the data.  For example, with our SimpleImputer, it learns what of the column is."
      ]
    },
    {
      "cell_type": "code",
      "metadata": {
        "id": "flUSfEf6J9Cs",
        "colab_type": "code",
        "outputId": "f5e9c4e1-5407-42d3-82b2-ed4c14c45e68",
        "colab": {}
      },
      "source": [
        "imputer.fit(graduation_rate)"
      ],
      "execution_count": 0,
      "outputs": [
        {
          "output_type": "execute_result",
          "data": {
            "text/plain": [
              "SimpleImputer(add_indicator=False, copy=True, fill_value=None,\n",
              "              missing_values=nan, strategy='mean', verbose=0)"
            ]
          },
          "metadata": {
            "tags": []
          },
          "execution_count": 73
        }
      ]
    },
    {
      "cell_type": "markdown",
      "metadata": {
        "id": "2SUvU3KcJ9Cu",
        "colab_type": "text"
      },
      "source": [
        "Here, it learns that the mean of the graduation rate is .79."
      ]
    },
    {
      "cell_type": "code",
      "metadata": {
        "id": "1VPtV5aFJ9Cu",
        "colab_type": "code",
        "outputId": "b8deba3f-6212-482b-b3f0-0b5cce4750ed",
        "colab": {}
      },
      "source": [
        "imputer.statistics_"
      ],
      "execution_count": 0,
      "outputs": [
        {
          "output_type": "execute_result",
          "data": {
            "text/plain": [
              "array([0.79156695])"
            ]
          },
          "metadata": {
            "tags": []
          },
          "execution_count": 74
        }
      ]
    },
    {
      "cell_type": "markdown",
      "metadata": {
        "id": "3ZgM9tWrJ9Cx",
        "colab_type": "text"
      },
      "source": [
        "And if we call transform, our `imputer` replaces the null values with that value."
      ]
    },
    {
      "cell_type": "code",
      "metadata": {
        "id": "wX6m0kF9J9Cx",
        "colab_type": "code",
        "outputId": "dd74d8f0-b238-4dd1-a0c5-205a3b0c2aa1",
        "colab": {}
      },
      "source": [
        "transformed_graduation[transformed_graduation == 0.79]"
      ],
      "execution_count": 0,
      "outputs": [
        {
          "output_type": "execute_result",
          "data": {
            "text/plain": [
              "array([0.79, 0.79, 0.79, 0.79, 0.79, 0.79])"
            ]
          },
          "metadata": {
            "tags": []
          },
          "execution_count": 79
        }
      ]
    },
    {
      "cell_type": "code",
      "metadata": {
        "id": "n78ghLznJ9C0",
        "colab_type": "code",
        "outputId": "f4828026-2709-4670-9983-ca01abdad265",
        "colab": {}
      },
      "source": [
        "np.isnan(transformed_graduation).sum()"
      ],
      "execution_count": 0,
      "outputs": [
        {
          "output_type": "execute_result",
          "data": {
            "text/plain": [
              "0"
            ]
          },
          "metadata": {
            "tags": []
          },
          "execution_count": 82
        }
      ]
    },
    {
      "cell_type": "markdown",
      "metadata": {
        "id": "UuppQK4CJ9C3",
        "colab_type": "text"
      },
      "source": [
        "So we can see that the fit method learns from the data, while the `transform` method applies the changes to the data.  For example, given a new array of data."
      ]
    },
    {
      "cell_type": "code",
      "metadata": {
        "id": "kvqR5YokJ9C3",
        "colab_type": "code",
        "colab": {}
      },
      "source": [
        "new_array = np.array([np.nan, 1, 100, 10000]).reshape(-1, 1)"
      ],
      "execution_count": 0,
      "outputs": []
    },
    {
      "cell_type": "code",
      "metadata": {
        "id": "4X68CogfJ9C5",
        "colab_type": "code",
        "outputId": "e02ea23c-b6b9-4bd7-d9fe-85ac22bebf51",
        "colab": {}
      },
      "source": [
        "imputer.transform(new_array)"
      ],
      "execution_count": 0,
      "outputs": [
        {
          "output_type": "execute_result",
          "data": {
            "text/plain": [
              "array([[7.91566952e-01],\n",
              "       [1.00000000e+00],\n",
              "       [1.00000000e+02],\n",
              "       [1.00000000e+04]])"
            ]
          },
          "metadata": {
            "tags": []
          },
          "execution_count": 86
        }
      ]
    },
    {
      "cell_type": "markdown",
      "metadata": {
        "id": "r7YBBYgwJ9C7",
        "colab_type": "text"
      },
      "source": [
        "It makes the same transformation of replacing the nan value with the previously found mean."
      ]
    },
    {
      "cell_type": "markdown",
      "metadata": {
        "id": "6Hz7m1IJJ9C7",
        "colab_type": "text"
      },
      "source": [
        "So we can now see that both transfomations were applied to our column above."
      ]
    },
    {
      "cell_type": "markdown",
      "metadata": {
        "id": "dN7N5-UHJ9C8",
        "colab_type": "text"
      },
      "source": [
        "### Summary "
      ]
    },
    {
      "cell_type": "markdown",
      "metadata": {
        "id": "bDmNOfnLJ9C8",
        "colab_type": "text"
      },
      "source": [
        "In this lesson we saw how we can use transformers to help us with feature engineering.  Transformers make transformations to features by first learning from the data with `fit` and then applying changes to data with the transform method."
      ]
    },
    {
      "cell_type": "markdown",
      "metadata": {
        "id": "A34lqECzJ9C8",
        "colab_type": "text"
      },
      "source": [
        "```python\n",
        "from sklearn.impute import SimpleImputer\n",
        "imputer = SimpleImputer()\n",
        "imputer.fit(X)\n",
        "imputer.transform(X)\n",
        "```"
      ]
    },
    {
      "cell_type": "markdown",
      "metadata": {
        "id": "mff1hnfdJ9C9",
        "colab_type": "text"
      },
      "source": [
        "### Resources"
      ]
    },
    {
      "cell_type": "markdown",
      "metadata": {
        "id": "zvvQp_ulJ9C9",
        "colab_type": "text"
      },
      "source": [
        "[Pipelines Kaggle Tutorial](https://www.kaggle.com/baghern/a-deep-dive-into-sklearn-pipelines)"
      ]
    }
  ]
}