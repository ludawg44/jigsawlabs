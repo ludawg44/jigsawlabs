{
  "nbformat": 4,
  "nbformat_minor": 0,
  "metadata": {
    "kernelspec": {
      "display_name": "Python 3",
      "language": "python",
      "name": "python3"
    },
    "language_info": {
      "codemirror_mode": {
        "name": "ipython",
        "version": 3
      },
      "file_extension": ".py",
      "mimetype": "text/x-python",
      "name": "python",
      "nbconvert_exporter": "python",
      "pygments_lexer": "ipython3",
      "version": "3.7.4"
    },
    "colab": {
      "name": "Copy of 0-discussion-questions.ipynb",
      "provenance": [],
      "include_colab_link": true
    }
  },
  "cells": [
    {
      "cell_type": "markdown",
      "metadata": {
        "id": "view-in-github",
        "colab_type": "text"
      },
      "source": [
        "<a href=\"https://colab.research.google.com/github/ludawg44/jigsawlabs/blob/master/11Apr20_0_discussion_questions.ipynb\" target=\"_parent\"><img src=\"https://colab.research.google.com/assets/colab-badge.svg\" alt=\"Open In Colab\"/></a>"
      ]
    },
    {
      "cell_type": "markdown",
      "metadata": {
        "id": "mLw4JLOMsGlx",
        "colab_type": "text"
      },
      "source": [
        "# Discussion Questions"
      ]
    },
    {
      "cell_type": "markdown",
      "metadata": {
        "id": "A5PT6mhwsGly",
        "colab_type": "text"
      },
      "source": [
        "### Introduction"
      ]
    },
    {
      "cell_type": "markdown",
      "metadata": {
        "id": "wY1vgZuWsGlz",
        "colab_type": "text"
      },
      "source": [
        "A foundation of exploratory statistics is creating a histogram.  As Python developers and data scientists, we should be familiar with the various ways that we can create one.  In this lesson, we'll create histograms from our movie dataset, and review how to do so in Python."
      ]
    },
    {
      "cell_type": "markdown",
      "metadata": {
        "id": "Sdnupbs0sGl0",
        "colab_type": "text"
      },
      "source": [
        "### Loading our Data"
      ]
    },
    {
      "cell_type": "code",
      "metadata": {
        "id": "Sd9hJpI_sGl0",
        "colab_type": "code",
        "colab": {}
      },
      "source": [
        "import pandas as pd\n",
        "url = \"https://raw.githubusercontent.com/jigsawlabs-student/modeling-distributions/master/imdb_movies.csv\"\n",
        "df = pd.read_csv(url)"
      ],
      "execution_count": 0,
      "outputs": []
    },
    {
      "cell_type": "code",
      "metadata": {
        "id": "Daw6F3brsGl6",
        "colab_type": "code",
        "outputId": "e363ad3f-4045-451c-8132-6c18e7dfa2fc",
        "colab": {}
      },
      "source": [
        "df[:3]"
      ],
      "execution_count": 0,
      "outputs": [
        {
          "output_type": "execute_result",
          "data": {
            "text/html": [
              "<div>\n",
              "<style scoped>\n",
              "    .dataframe tbody tr th:only-of-type {\n",
              "        vertical-align: middle;\n",
              "    }\n",
              "\n",
              "    .dataframe tbody tr th {\n",
              "        vertical-align: top;\n",
              "    }\n",
              "\n",
              "    .dataframe thead th {\n",
              "        text-align: right;\n",
              "    }\n",
              "</style>\n",
              "<table border=\"1\" class=\"dataframe\">\n",
              "  <thead>\n",
              "    <tr style=\"text-align: right;\">\n",
              "      <th></th>\n",
              "      <th>title</th>\n",
              "      <th>genre</th>\n",
              "      <th>budget</th>\n",
              "      <th>runtime</th>\n",
              "      <th>year</th>\n",
              "      <th>month</th>\n",
              "      <th>revenue</th>\n",
              "    </tr>\n",
              "  </thead>\n",
              "  <tbody>\n",
              "    <tr>\n",
              "      <th>0</th>\n",
              "      <td>Avatar</td>\n",
              "      <td>Action</td>\n",
              "      <td>237000000</td>\n",
              "      <td>162.0</td>\n",
              "      <td>2009</td>\n",
              "      <td>12</td>\n",
              "      <td>2787965087</td>\n",
              "    </tr>\n",
              "    <tr>\n",
              "      <th>1</th>\n",
              "      <td>Pirates of the Caribbean: At World's End</td>\n",
              "      <td>Adventure</td>\n",
              "      <td>300000000</td>\n",
              "      <td>169.0</td>\n",
              "      <td>2007</td>\n",
              "      <td>5</td>\n",
              "      <td>961000000</td>\n",
              "    </tr>\n",
              "    <tr>\n",
              "      <th>2</th>\n",
              "      <td>Spectre</td>\n",
              "      <td>Action</td>\n",
              "      <td>245000000</td>\n",
              "      <td>148.0</td>\n",
              "      <td>2015</td>\n",
              "      <td>10</td>\n",
              "      <td>880674609</td>\n",
              "    </tr>\n",
              "  </tbody>\n",
              "</table>\n",
              "</div>"
            ],
            "text/plain": [
              "                                      title      genre     budget  runtime  \\\n",
              "0                                    Avatar     Action  237000000    162.0   \n",
              "1  Pirates of the Caribbean: At World's End  Adventure  300000000    169.0   \n",
              "2                                   Spectre     Action  245000000    148.0   \n",
              "\n",
              "   year  month     revenue  \n",
              "0  2009     12  2787965087  \n",
              "1  2007      5   961000000  \n",
              "2  2015     10   880674609  "
            ]
          },
          "metadata": {
            "tags": []
          },
          "execution_count": 2
        }
      ]
    },
    {
      "cell_type": "code",
      "metadata": {
        "id": "Yj_MfG1gsGl9",
        "colab_type": "code",
        "colab": {}
      },
      "source": [
        "movies = df.to_numpy()"
      ],
      "execution_count": 0,
      "outputs": []
    },
    {
      "cell_type": "markdown",
      "metadata": {
        "id": "kCUGxTGksGl_",
        "colab_type": "text"
      },
      "source": [
        "Next we'll select the years and genres of the movies in our dataset."
      ]
    },
    {
      "cell_type": "code",
      "metadata": {
        "id": "yPNWxXjBsGmA",
        "colab_type": "code",
        "outputId": "7e51a15a-b445-49d3-b62d-60734652d9bf",
        "colab": {}
      },
      "source": [
        "genres = movies[:, 1]\n",
        "genres"
      ],
      "execution_count": 0,
      "outputs": [
        {
          "output_type": "execute_result",
          "data": {
            "text/plain": [
              "array(['Action', 'Adventure', 'Action', ..., 'Romance', nan, 'Fantasy'],\n",
              "      dtype=object)"
            ]
          },
          "metadata": {
            "tags": []
          },
          "execution_count": 5
        }
      ]
    },
    {
      "cell_type": "markdown",
      "metadata": {
        "id": "g5awy75XsGmC",
        "colab_type": "text"
      },
      "source": [
        "Let's start by reviewing some Python."
      ]
    },
    {
      "cell_type": "markdown",
      "metadata": {
        "id": "eTVMsCFJsGmD",
        "colab_type": "text"
      },
      "source": [
        "1. Write a function that finds all moves by the genre in Python."
      ]
    },
    {
      "cell_type": "code",
      "metadata": {
        "id": "llc89uzHsGmD",
        "colab_type": "code",
        "outputId": "21c5c405-a6e4-47c2-e1c6-d2eab424b803",
        "colab": {}
      },
      "source": [
        "movies_py = df.to_dict('records')\n",
        "movies_py[:2]"
      ],
      "execution_count": 0,
      "outputs": [
        {
          "output_type": "execute_result",
          "data": {
            "text/plain": [
              "[{'title': 'Avatar',\n",
              "  'genre': 'Action',\n",
              "  'budget': 237000000,\n",
              "  'runtime': 162.0,\n",
              "  'year': 2009,\n",
              "  'month': 12,\n",
              "  'revenue': 2787965087},\n",
              " {'title': \"Pirates of the Caribbean: At World's End\",\n",
              "  'genre': 'Adventure',\n",
              "  'budget': 300000000,\n",
              "  'runtime': 169.0,\n",
              "  'year': 2007,\n",
              "  'month': 5,\n",
              "  'revenue': 961000000}]"
            ]
          },
          "metadata": {
            "tags": []
          },
          "execution_count": 16
        }
      ]
    },
    {
      "cell_type": "code",
      "metadata": {
        "id": "FzaJNiissGmG",
        "colab_type": "code",
        "colab": {}
      },
      "source": [
        "def find_by_genre(genre, movies):\n",
        "    pass"
      ],
      "execution_count": 0,
      "outputs": []
    },
    {
      "cell_type": "code",
      "metadata": {
        "id": "4EephLLXsGmJ",
        "colab_type": "code",
        "colab": {}
      },
      "source": [
        "action_movies = find_by_genre(\"Action\", movies_py)"
      ],
      "execution_count": 0,
      "outputs": []
    },
    {
      "cell_type": "code",
      "metadata": {
        "id": "wNqdKUvrsGmM",
        "colab_type": "code",
        "outputId": "f9fee70a-045c-4cda-fd56-17bbd829ced2",
        "colab": {}
      },
      "source": [
        "action_movies[:2]\n",
        "# [{'title': 'Avatar',\n",
        "#   'genre': 'Action',\n",
        "#   'budget': 237000000,\n",
        "#   'runtime': 162.0,\n",
        "#   'year': 2009,\n",
        "#   'month': 12,\n",
        "#   'revenue': 2787965087},\n",
        "#  {'title': 'Spectre',\n",
        "#   'genre': 'Action',\n",
        "#   'budget': 245000000,\n",
        "#   'runtime': 148.0,\n",
        "#   'year': 2015,\n",
        "#   'month': 10,\n",
        "#   'revenue': 880674609}]"
      ],
      "execution_count": 0,
      "outputs": [
        {
          "output_type": "execute_result",
          "data": {
            "text/plain": [
              "[{'title': 'Avatar',\n",
              "  'genre': 'Action',\n",
              "  'budget': 237000000,\n",
              "  'runtime': 162.0,\n",
              "  'year': 2009,\n",
              "  'month': 12,\n",
              "  'revenue': 2787965087},\n",
              " {'title': 'Spectre',\n",
              "  'genre': 'Action',\n",
              "  'budget': 245000000,\n",
              "  'runtime': 148.0,\n",
              "  'year': 2015,\n",
              "  'month': 10,\n",
              "  'revenue': 880674609}]"
            ]
          },
          "metadata": {
            "tags": []
          },
          "execution_count": 21
        }
      ]
    },
    {
      "cell_type": "markdown",
      "metadata": {
        "id": "rhqTG2CZsGmP",
        "colab_type": "text"
      },
      "source": [
        "Next write a method that allows us to scope down our list of dictionaries.  For example, if we provide it with the list `['title', 'budget']` it will return to us a list of movie dictionaries with just the title and budget.\n",
        "\n",
        "First let's do this for a single movie."
      ]
    },
    {
      "cell_type": "code",
      "metadata": {
        "id": "0m4UvfUWsGmP",
        "colab_type": "code",
        "colab": {}
      },
      "source": [
        "first_movie = movies_py[0]"
      ],
      "execution_count": 0,
      "outputs": []
    },
    {
      "cell_type": "code",
      "metadata": {
        "id": "knNw3eQPsGmS",
        "colab_type": "code",
        "colab": {}
      },
      "source": [
        "def scope_movie(movie, keys = []):\n",
        "    pass"
      ],
      "execution_count": 0,
      "outputs": []
    },
    {
      "cell_type": "code",
      "metadata": {
        "id": "U6Rgzr_BsGmU",
        "colab_type": "code",
        "outputId": "fb237528-4eb7-4e05-82bc-dc11282e6550",
        "colab": {}
      },
      "source": [
        "scope_movie(first_movie, ['title', 'budget'])\n",
        "# {'title': 'Avatar', 'budget': 237000000}"
      ],
      "execution_count": 0,
      "outputs": [
        {
          "output_type": "execute_result",
          "data": {
            "text/plain": [
              "{'title': 'Avatar', 'budget': 237000000}"
            ]
          },
          "metadata": {
            "tags": []
          },
          "execution_count": 33
        }
      ]
    },
    {
      "cell_type": "code",
      "metadata": {
        "id": "KDTcSS1DsGmX",
        "colab_type": "code",
        "colab": {}
      },
      "source": [
        "def scope_movies(movies, keys = []):\n",
        "    pass"
      ],
      "execution_count": 0,
      "outputs": []
    },
    {
      "cell_type": "code",
      "metadata": {
        "id": "UtStHWYYsGma",
        "colab_type": "code",
        "colab": {}
      },
      "source": [
        "title_and_budgets = scope_movies(movies_py, ['title', 'budget'])\n"
      ],
      "execution_count": 0,
      "outputs": []
    },
    {
      "cell_type": "code",
      "metadata": {
        "id": "X4vyx5YqsGmc",
        "colab_type": "code",
        "outputId": "fd6cf4ef-07ba-4816-ada9-e9d78f6fcff5",
        "colab": {}
      },
      "source": [
        "title_and_budgets[:3]\n",
        "# [{'title': 'Avatar', 'budget': 237000000},\n",
        "#  {'title': \"Pirates of the Caribbean: At World's End\", 'budget': 300000000},\n",
        "#  {'title': 'Spectre', 'budget': 245000000}]"
      ],
      "execution_count": 0,
      "outputs": [
        {
          "output_type": "execute_result",
          "data": {
            "text/plain": [
              "[{'title': 'Avatar', 'budget': 237000000},\n",
              " {'title': \"Pirates of the Caribbean: At World's End\", 'budget': 300000000},\n",
              " {'title': 'Spectre', 'budget': 245000000}]"
            ]
          },
          "metadata": {
            "tags": []
          },
          "execution_count": 41
        }
      ]
    },
    {
      "cell_type": "markdown",
      "metadata": {
        "id": "32BFDMqXsGme",
        "colab_type": "text"
      },
      "source": [
        "### Building Histograms"
      ]
    },
    {
      "cell_type": "markdown",
      "metadata": {
        "id": "FIzsgS1FsGmf",
        "colab_type": "text"
      },
      "source": [
        "1. Creating a histogram in Python"
      ]
    },
    {
      "cell_type": "code",
      "metadata": {
        "id": "bltxg3M8sGmg",
        "colab_type": "code",
        "outputId": "0e17b110-0796-4034-d611-5d4c20015db7",
        "colab": {}
      },
      "source": [
        "py_genres = genres.tolist()\n",
        "py_genres[:3]"
      ],
      "execution_count": 0,
      "outputs": [
        {
          "output_type": "execute_result",
          "data": {
            "text/plain": [
              "['Action', 'Adventure', 'Action']"
            ]
          },
          "metadata": {
            "tags": []
          },
          "execution_count": 8
        }
      ]
    },
    {
      "cell_type": "markdown",
      "metadata": {
        "id": "ws0R49wXsGmi",
        "colab_type": "text"
      },
      "source": [
        "First use Python to find a unique list of the genres."
      ]
    },
    {
      "cell_type": "code",
      "metadata": {
        "id": "RgOWHMdWsGmj",
        "colab_type": "code",
        "colab": {}
      },
      "source": [
        "unique_genres = None\n",
        "\n",
        "unique_genres\n",
        "# [nan,\n",
        "#  'Thriller',\n",
        "#  'Animation',\n",
        "#  'Comedy',\n",
        "#  'Drama',\n",
        "#  'Action',\n",
        "#  'Romance',\n",
        "#  'Fantasy',\n",
        "#  'Science Fiction',\n",
        "#  'Crime',\n",
        "#  'Horror',\n",
        "#  'Adventure']"
      ],
      "execution_count": 0,
      "outputs": []
    },
    {
      "cell_type": "markdown",
      "metadata": {
        "id": "0LGfQvP6sGml",
        "colab_type": "text"
      },
      "source": [
        "The next step is to create a starting dictionary where each key is a different value, and the corresponding value is 0."
      ]
    },
    {
      "cell_type": "markdown",
      "metadata": {
        "id": "bZ5_pfDxsGml",
        "colab_type": "text"
      },
      "source": [
        "* We'll use the `dict.from_keys` method in Python to initialize a dictionary where each value is zero."
      ]
    },
    {
      "cell_type": "code",
      "metadata": {
        "id": "v-DD9iFtsGmm",
        "colab_type": "code",
        "outputId": "7da8909b-af80-4c27-9fc1-e48013c18b2d",
        "colab": {}
      },
      "source": [
        "hist = dict.fromkeys(unique_genres, 0)\n",
        "hist\n",
        "\n",
        "# {nan: 0,\n",
        "#  'Thriller': 0,\n",
        "#  'Animation': 0,\n",
        "#  'Comedy': 0,\n",
        "#  'Drama': 0,\n",
        "#  'Action': 0,\n",
        "#  'Romance': 0,\n",
        "#  'Fantasy': 0,\n",
        "#  'Science Fiction': 0,\n",
        "#  'Crime': 0,\n",
        "#  'Horror': 0,\n",
        "#  'Adventure': 0}\n"
      ],
      "execution_count": 0,
      "outputs": [
        {
          "output_type": "execute_result",
          "data": {
            "text/plain": [
              "{nan: 0,\n",
              " 'Thriller': 0,\n",
              " 'Animation': 0,\n",
              " 'Comedy': 0,\n",
              " 'Drama': 0,\n",
              " 'Action': 0,\n",
              " 'Romance': 0,\n",
              " 'Fantasy': 0,\n",
              " 'Science Fiction': 0,\n",
              " 'Crime': 0,\n",
              " 'Horror': 0,\n",
              " 'Adventure': 0}"
            ]
          },
          "metadata": {
            "tags": []
          },
          "execution_count": 37
        }
      ]
    },
    {
      "cell_type": "markdown",
      "metadata": {
        "id": "wj62rcXVsGmp",
        "colab_type": "text"
      },
      "source": [
        "Ok, now it's time to populate our dictionary with the correct numbers."
      ]
    },
    {
      "cell_type": "code",
      "metadata": {
        "id": "1b8ILvtesGmp",
        "colab_type": "code",
        "colab": {}
      },
      "source": [
        "# write code here"
      ],
      "execution_count": 0,
      "outputs": []
    },
    {
      "cell_type": "code",
      "metadata": {
        "id": "1JSQ03WAsGmr",
        "colab_type": "code",
        "outputId": "2612e09d-735e-4fe2-8194-cbf96ebbd594",
        "colab": {}
      },
      "source": [
        "hist\n",
        "# {nan: 84,\n",
        "#  'Thriller': 73,\n",
        "#  'Animation': 93,\n",
        "#  'Comedy': 359,\n",
        "#  'Drama': 365,\n",
        "#  'Action': 483,\n",
        "#  'Romance': 40,\n",
        "#  'Fantasy': 80,\n",
        "#  'Science Fiction': 52,\n",
        "#  'Crime': 76,\n",
        "#  'Horror': 59,\n",
        "#  'Adventure': 236}"
      ],
      "execution_count": 0,
      "outputs": [
        {
          "output_type": "execute_result",
          "data": {
            "text/plain": [
              "{nan: 84,\n",
              " 'Thriller': 73,\n",
              " 'Animation': 93,\n",
              " 'Comedy': 359,\n",
              " 'Drama': 365,\n",
              " 'Action': 483,\n",
              " 'Romance': 40,\n",
              " 'Fantasy': 80,\n",
              " 'Science Fiction': 52,\n",
              " 'Crime': 76,\n",
              " 'Horror': 59,\n",
              " 'Adventure': 236}"
            ]
          },
          "metadata": {
            "tags": []
          },
          "execution_count": 40
        }
      ]
    },
    {
      "cell_type": "markdown",
      "metadata": {
        "id": "8d76THeAsGmu",
        "colab_type": "text"
      },
      "source": [
        "### Histogram with Counter"
      ]
    },
    {
      "cell_type": "markdown",
      "metadata": {
        "id": "xjgDfZRpsGmv",
        "colab_type": "text"
      },
      "source": [
        "Another way that we can create a histogram in Python is with the Counter method in Python's collection library."
      ]
    },
    {
      "cell_type": "code",
      "metadata": {
        "id": "vDlhn2CVsGmv",
        "colab_type": "code",
        "colab": {}
      },
      "source": [
        "from collections import Counter"
      ],
      "execution_count": 0,
      "outputs": []
    },
    {
      "cell_type": "code",
      "metadata": {
        "id": "ObqFodb-sGmx",
        "colab_type": "code",
        "colab": {}
      },
      "source": [
        "py_from_counter = dict(Counter(py_genres))"
      ],
      "execution_count": 0,
      "outputs": []
    },
    {
      "cell_type": "code",
      "metadata": {
        "id": "8IpUkenZsGmy",
        "colab_type": "code",
        "outputId": "bf1eebee-482c-4be6-dc36-e366df1b6d48",
        "colab": {}
      },
      "source": [
        "py_from_counter\n",
        "# {'Action': 483,\n",
        "#  'Adventure': 236,\n",
        "#  'Fantasy': 80,\n",
        "#  'Animation': 93,\n",
        "#  'Science Fiction': 52,\n",
        "#  'Drama': 365,\n",
        "#  'Thriller': 73,\n",
        "#  nan: 84,\n",
        "#  'Comedy': 359,\n",
        "#  'Romance': 40,\n",
        "#  'Crime': 76,\n",
        "#  'Horror': 59}"
      ],
      "execution_count": 0,
      "outputs": [
        {
          "output_type": "execute_result",
          "data": {
            "text/plain": [
              "{'Action': 483,\n",
              " 'Adventure': 236,\n",
              " 'Fantasy': 80,\n",
              " 'Animation': 93,\n",
              " 'Science Fiction': 52,\n",
              " 'Drama': 365,\n",
              " 'Thriller': 73,\n",
              " nan: 84,\n",
              " 'Comedy': 359,\n",
              " 'Romance': 40,\n",
              " 'Crime': 76,\n",
              " 'Horror': 59}"
            ]
          },
          "metadata": {
            "tags": []
          },
          "execution_count": 46
        }
      ]
    },
    {
      "cell_type": "code",
      "metadata": {
        "id": "ZF90uuL6sGm2",
        "colab_type": "code",
        "outputId": "110c513a-c1ce-4815-d333-1a27c1104f26",
        "colab": {}
      },
      "source": [
        "type(py_from_counter)\n",
        "# dict"
      ],
      "execution_count": 0,
      "outputs": [
        {
          "output_type": "execute_result",
          "data": {
            "text/plain": [
              "dict"
            ]
          },
          "metadata": {
            "tags": []
          },
          "execution_count": 49
        }
      ]
    },
    {
      "cell_type": "markdown",
      "metadata": {
        "id": "qPTrOnljsGm4",
        "colab_type": "text"
      },
      "source": [
        "### Plotting our data in Matplotlib"
      ]
    },
    {
      "cell_type": "markdown",
      "metadata": {
        "id": "S_tufDPHsGm5",
        "colab_type": "text"
      },
      "source": [
        "Now to plot the data above we should use a bar chart in matplotlib.  Remember that we use a bar chart when our data is separated into categories, and we are passing both x and y values."
      ]
    },
    {
      "cell_type": "markdown",
      "metadata": {
        "id": "eQjILuyIsGm5",
        "colab_type": "text"
      },
      "source": [
        "Use Python to get a list of the keys from the `py_from_counter` dictionary.  Assign them to the variable `x_vals`."
      ]
    },
    {
      "cell_type": "code",
      "metadata": {
        "id": "O7ukEvXBsGm5",
        "colab_type": "code",
        "outputId": "82249108-4955-4cb5-a730-349c9d410768",
        "colab": {}
      },
      "source": [
        "x_vals = None\n",
        "x_vals\n",
        "# ['Action','Adventure', 'Fantasy', 'Animation',\n",
        "#  'Science Fiction', 'Drama', 'Thriller', nan,  'Comedy',\n",
        "#  'Romance',  'Crime',  'Horror']\n"
      ],
      "execution_count": 0,
      "outputs": [
        {
          "output_type": "execute_result",
          "data": {
            "text/plain": [
              "['Action',\n",
              " 'Adventure',\n",
              " 'Fantasy',\n",
              " 'Animation',\n",
              " 'Science Fiction',\n",
              " 'Drama',\n",
              " 'Thriller',\n",
              " nan,\n",
              " 'Comedy',\n",
              " 'Romance',\n",
              " 'Crime',\n",
              " 'Horror']"
            ]
          },
          "metadata": {
            "tags": []
          },
          "execution_count": 83
        }
      ]
    },
    {
      "cell_type": "markdown",
      "metadata": {
        "id": "XdqImhCdsGm7",
        "colab_type": "text"
      },
      "source": [
        "Use Python to get a list of values from the `py_from_counter` dictionary.  Assign them to the variable `y_vals`."
      ]
    },
    {
      "cell_type": "code",
      "metadata": {
        "id": "PEaEf7m9sGm8",
        "colab_type": "code",
        "outputId": "d47db77d-b1b0-497a-8379-a8ea06ba4dc0",
        "colab": {}
      },
      "source": [
        "y_vals = None\n",
        "y_vals\n",
        "# [483, 236, 80, 93, 52, 365, 73, 84, 359, 40, 76, 59]"
      ],
      "execution_count": 0,
      "outputs": [
        {
          "output_type": "execute_result",
          "data": {
            "text/plain": [
              "[483, 236, 80, 93, 52, 365, 73, 84, 359, 40, 76, 59]"
            ]
          },
          "metadata": {
            "tags": []
          },
          "execution_count": 80
        }
      ]
    },
    {
      "cell_type": "markdown",
      "metadata": {
        "id": "fnv1he9AsGm-",
        "colab_type": "text"
      },
      "source": [
        "Now matplotlib will not accept `nan` as an x value, so use a loop to create a list of x values that does not include nan, and then use a loop to remove the corresponding y value."
      ]
    },
    {
      "cell_type": "code",
      "metadata": {
        "id": "5wr0tsw3sGm-",
        "colab_type": "code",
        "colab": {}
      },
      "source": [
        "x_vals_select = None\n",
        "x_vals_select\n",
        "# ['Action',\n",
        "#  'Adventure',\n",
        "#  'Fantasy',\n",
        "#  'Animation',\n",
        "#  'Science Fiction',\n",
        "#  'Drama',\n",
        "#  'Thriller',\n",
        "#  'Comedy',\n",
        "#  'Romance',\n",
        "#  'Crime',\n",
        "#  'Horror']"
      ],
      "execution_count": 0,
      "outputs": []
    },
    {
      "cell_type": "code",
      "metadata": {
        "id": "PTAdJEEvsGnA",
        "colab_type": "code",
        "colab": {}
      },
      "source": [
        "y_vals_select = None"
      ],
      "execution_count": 0,
      "outputs": []
    },
    {
      "cell_type": "code",
      "metadata": {
        "id": "9sT3fzjBsGnC",
        "colab_type": "code",
        "colab": {}
      },
      "source": [
        "y_vals_select\n",
        "\n",
        "# [483, 236, 80, 93, 52, 365, 73, 359, 40, 76, 59]"
      ],
      "execution_count": 0,
      "outputs": []
    },
    {
      "cell_type": "markdown",
      "metadata": {
        "id": "CU5mUPAdsGnE",
        "colab_type": "text"
      },
      "source": [
        "Now we can plot this in matplotlib using a horizontal bar plot."
      ]
    },
    {
      "cell_type": "code",
      "metadata": {
        "id": "Mkva8MsZsGnE",
        "colab_type": "code",
        "colab": {}
      },
      "source": [
        "import matplotlib.pyplot as plt\n",
        "\n"
      ],
      "execution_count": 0,
      "outputs": []
    },
    {
      "cell_type": "markdown",
      "metadata": {
        "id": "KUokD_83sGnG",
        "colab_type": "text"
      },
      "source": [
        "> Answer: <img src=\"https://github.com/jigsawlabs-student/modeling-distributions/blob/master/hz-genre-plot.png?raw=1\" width=\"50%\">"
      ]
    }
  ]
}