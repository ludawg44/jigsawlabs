{
  "nbformat": 4,
  "nbformat_minor": 0,
  "metadata": {
    "kernelspec": {
      "display_name": "Python 3",
      "language": "python",
      "name": "python3"
    },
    "language_info": {
      "codemirror_mode": {
        "name": "ipython",
        "version": 3
      },
      "file_extension": ".py",
      "mimetype": "text/x-python",
      "name": "python",
      "nbconvert_exporter": "python",
      "pygments_lexer": "ipython3",
      "version": "3.7.4"
    },
    "colab": {
      "name": "Copy of 3-multidimensional-array-lab.ipynb",
      "provenance": [],
      "include_colab_link": true
    }
  },
  "cells": [
    {
      "cell_type": "markdown",
      "metadata": {
        "id": "view-in-github",
        "colab_type": "text"
      },
      "source": [
        "<a href=\"https://colab.research.google.com/github/ludawg44/jigsawlabs/blob/master/Copy_of_3_multidimensional_array_lab.ipynb\" target=\"_parent\"><img src=\"https://colab.research.google.com/assets/colab-badge.svg\" alt=\"Open In Colab\"/></a>"
      ]
    },
    {
      "cell_type": "markdown",
      "metadata": {
        "id": "4n9LLEQ1ZzGm",
        "colab_type": "text"
      },
      "source": [
        "# Multidimensional Arrays Lab"
      ]
    },
    {
      "cell_type": "markdown",
      "metadata": {
        "id": "fGEt0IylZzGo",
        "colab_type": "text"
      },
      "source": [
        "### Introduction"
      ]
    },
    {
      "cell_type": "markdown",
      "metadata": {
        "id": "nejsDXEVZzGp",
        "colab_type": "text"
      },
      "source": [
        "In this lesson, we'll get started creating and selecting from multidimensional arrays in numpy.  Let's go."
      ]
    },
    {
      "cell_type": "markdown",
      "metadata": {
        "id": "Wb8eWiCbZzGq",
        "colab_type": "text"
      },
      "source": [
        "### Creating and Selecting From MultiDimensional Arrays"
      ]
    },
    {
      "cell_type": "markdown",
      "metadata": {
        "id": "64wg_w2QZzGr",
        "colab_type": "text"
      },
      "source": [
        "Let's begin by creating an array with entries 1 through 20, and with four rows and five columns.  Assign it to the variable `one_through_twenty`."
      ]
    },
    {
      "cell_type": "markdown",
      "metadata": {
        "id": "vQBAieMhZzGs",
        "colab_type": "text"
      },
      "source": [
        "In this lesson, we'll get started working with multidimensional arrays in numpy.  Let's get started."
      ]
    },
    {
      "cell_type": "code",
      "metadata": {
        "id": "geulXz28ZzGt",
        "colab_type": "code",
        "colab": {}
      },
      "source": [
        "import numpy as np\n",
        "one_through_twenty = None"
      ],
      "execution_count": 0,
      "outputs": []
    },
    {
      "cell_type": "code",
      "metadata": {
        "id": "-R0Wvy75ZzGw",
        "colab_type": "code",
        "colab": {}
      },
      "source": [
        "one_through_twenty\n",
        "\n",
        "# array([[ 1,  2,  3,  4,  5],\n",
        "#        [ 6,  7,  8,  9, 10],\n",
        "#        [11, 12, 13, 14, 15],\n",
        "#        [16, 17, 18, 19, 20]])"
      ],
      "execution_count": 0,
      "outputs": []
    },
    {
      "cell_type": "markdown",
      "metadata": {
        "id": "geXZdeAdZzGy",
        "colab_type": "text"
      },
      "source": [
        "Next check that the shape of the array is four rows by five columns."
      ]
    },
    {
      "cell_type": "code",
      "metadata": {
        "id": "WLeXwkSzZzGz",
        "colab_type": "code",
        "colab": {}
      },
      "source": [
        "arr_shape = None\n",
        "\n",
        "arr_shape\n",
        "# (4, 5)"
      ],
      "execution_count": 0,
      "outputs": []
    },
    {
      "cell_type": "markdown",
      "metadata": {
        "id": "xLb2blnCZzG2",
        "colab_type": "text"
      },
      "source": [
        "### Selecting From a Multidimensional Array"
      ]
    },
    {
      "cell_type": "markdown",
      "metadata": {
        "id": "_YfDguvOZzG2",
        "colab_type": "text"
      },
      "source": [
        "Let's practice selecting elements from a multidimensional array."
      ]
    },
    {
      "cell_type": "code",
      "metadata": {
        "id": "uFvT_AdUZzG3",
        "colab_type": "code",
        "colab": {}
      },
      "source": [
        "one_through_twenty\n",
        "# array([[ 1,  2,  3,  4,  5],\n",
        "#        [ 6,  7,  8,  9, 10],\n",
        "#        [11, 12, 13, 14, 15],\n",
        "#        [16, 17, 18, 19, 20]])\n"
      ],
      "execution_count": 0,
      "outputs": []
    },
    {
      "cell_type": "markdown",
      "metadata": {
        "id": "ddUgilB1ZzG6",
        "colab_type": "text"
      },
      "source": [
        "Begin by selecting the last entry in the first row of the above array."
      ]
    },
    {
      "cell_type": "code",
      "metadata": {
        "id": "6q7ii2N-ZzG7",
        "colab_type": "code",
        "outputId": "e1fe5b03-ca0f-4263-8472-6c2911b40418",
        "colab": {}
      },
      "source": [
        "\n",
        "# 5"
      ],
      "execution_count": 0,
      "outputs": [
        {
          "output_type": "execute_result",
          "data": {
            "text/plain": [
              "5"
            ]
          },
          "metadata": {
            "tags": []
          },
          "execution_count": 17
        }
      ]
    },
    {
      "cell_type": "markdown",
      "metadata": {
        "id": "SvNH6vmeZzG-",
        "colab_type": "text"
      },
      "source": [
        "Next, select the last column in the `one_through_twenty` array."
      ]
    },
    {
      "cell_type": "code",
      "metadata": {
        "id": "hGKsyuvDZzG_",
        "colab_type": "code",
        "outputId": "4bf14985-8f70-4b68-f12c-a2074d57a932",
        "colab": {}
      },
      "source": [
        "\n",
        "\n",
        "# array([ 5, 10, 15, 20])"
      ],
      "execution_count": 0,
      "outputs": [
        {
          "output_type": "execute_result",
          "data": {
            "text/plain": [
              "array([ 5, 10, 15, 20])"
            ]
          },
          "metadata": {
            "tags": []
          },
          "execution_count": 19
        }
      ]
    },
    {
      "cell_type": "markdown",
      "metadata": {
        "id": "xmFWykRUZzHB",
        "colab_type": "text"
      },
      "source": [
        "We can also slice multiple columns in an array.  For example, here we'll slice the first two columns."
      ]
    },
    {
      "cell_type": "code",
      "metadata": {
        "id": "jjRvabz5ZzHC",
        "colab_type": "code",
        "outputId": "bc854c71-1c3c-46fc-c4dd-9870ec8846a3",
        "colab": {}
      },
      "source": [
        "one_through_twenty[:, :2]\n",
        "\n",
        "# array([[ 1,  2],\n",
        "#        [ 6,  7],\n",
        "#        [11, 12],\n",
        "#        [16, 17]])"
      ],
      "execution_count": 0,
      "outputs": [
        {
          "output_type": "execute_result",
          "data": {
            "text/plain": [
              "array([[ 1,  2],\n",
              "       [ 6,  7],\n",
              "       [11, 12],\n",
              "       [16, 17]])"
            ]
          },
          "metadata": {
            "tags": []
          },
          "execution_count": 21
        }
      ]
    },
    {
      "cell_type": "markdown",
      "metadata": {
        "id": "TW8w6u-7ZzHE",
        "colab_type": "text"
      },
      "source": [
        "Now it's your turn.  Use a similar pattern to slice the first three rows in the array, and all of the columns."
      ]
    },
    {
      "cell_type": "code",
      "metadata": {
        "id": "lG0q-Q7vZzHF",
        "colab_type": "code",
        "outputId": "1c2f8b89-456e-4c6b-a0e7-5eab1e4425fc",
        "colab": {}
      },
      "source": [
        "one_through_twenty[:3, :]\n",
        "\n",
        "# array([[ 1,  2,  3,  4,  5],\n",
        "#        [ 6,  7,  8,  9, 10],\n",
        "#        [11, 12, 13, 14, 15]])"
      ],
      "execution_count": 0,
      "outputs": [
        {
          "output_type": "execute_result",
          "data": {
            "text/plain": [
              "array([[ 1,  2,  3,  4,  5],\n",
              "       [ 6,  7,  8,  9, 10],\n",
              "       [11, 12, 13, 14, 15]])"
            ]
          },
          "metadata": {
            "tags": []
          },
          "execution_count": 24
        }
      ]
    },
    {
      "cell_type": "markdown",
      "metadata": {
        "id": "1Rw2s8isZzHI",
        "colab_type": "text"
      },
      "source": [
        "Ok, let's take another look at the full array."
      ]
    },
    {
      "cell_type": "code",
      "metadata": {
        "id": "k4NnIgNnZzHI",
        "colab_type": "code",
        "outputId": "e60b4621-c164-4a71-b64c-cf2cf61f849a",
        "colab": {}
      },
      "source": [
        "one_through_twenty"
      ],
      "execution_count": 0,
      "outputs": [
        {
          "output_type": "execute_result",
          "data": {
            "text/plain": [
              "array([[ 1,  2,  3,  4,  5],\n",
              "       [ 6,  7,  8,  9, 10],\n",
              "       [11, 12, 13, 14, 15],\n",
              "       [16, 17, 18, 19, 20]])"
            ]
          },
          "metadata": {
            "tags": []
          },
          "execution_count": 28
        }
      ]
    },
    {
      "cell_type": "markdown",
      "metadata": {
        "id": "zVCFALSfZzHK",
        "colab_type": "text"
      },
      "source": [
        "Next select just the last two entries of the last two rows."
      ]
    },
    {
      "cell_type": "code",
      "metadata": {
        "id": "8_2TfdifZzHL",
        "colab_type": "code",
        "outputId": "8a157512-7194-41ed-c938-7e67996afe6f",
        "colab": {}
      },
      "source": [
        "one_through_twenty[-2:, -2:]\n",
        "\n",
        "# array([[14, 15],\n",
        "#        [19, 20]])"
      ],
      "execution_count": 0,
      "outputs": [
        {
          "output_type": "execute_result",
          "data": {
            "text/plain": [
              "array([[14, 15],\n",
              "       [19, 20]])"
            ]
          },
          "metadata": {
            "tags": []
          },
          "execution_count": 29
        }
      ]
    },
    {
      "cell_type": "markdown",
      "metadata": {
        "id": "4UZmcaebZzHO",
        "colab_type": "text"
      },
      "source": [
        "### Working with Axes"
      ]
    },
    {
      "cell_type": "markdown",
      "metadata": {
        "id": "zjmdBWilZzHO",
        "colab_type": "text"
      },
      "source": [
        "Now that we've practiced creating, and selecting from a multidimensional array, let's practice performing calculations."
      ]
    },
    {
      "cell_type": "markdown",
      "metadata": {
        "id": "71vc7xyoZzHQ",
        "colab_type": "text"
      },
      "source": [
        "We'll start by adding up the rows in our matrix above."
      ]
    },
    {
      "cell_type": "code",
      "metadata": {
        "id": "bwX-_e26ZzHQ",
        "colab_type": "code",
        "colab": {}
      },
      "source": [
        "row_sum = None\n",
        "row_sum\n",
        "# array([34, 38, 42, 46, 50])"
      ],
      "execution_count": 0,
      "outputs": []
    },
    {
      "cell_type": "markdown",
      "metadata": {
        "id": "lCl69-dwZzHS",
        "colab_type": "text"
      },
      "source": [
        "Check that the first item in the returned array is correct by first selecting the first column from `one_through_twenty` and adding all of the items in the column."
      ]
    },
    {
      "cell_type": "code",
      "metadata": {
        "id": "l7es9PY-ZzHT",
        "colab_type": "code",
        "colab": {}
      },
      "source": [
        "\n",
        "# 34"
      ],
      "execution_count": 0,
      "outputs": []
    },
    {
      "cell_type": "markdown",
      "metadata": {
        "id": "5sxv3_VmZzHX",
        "colab_type": "text"
      },
      "source": [
        "Finally add up all of the items in the `one_through_twenty` array."
      ]
    },
    {
      "cell_type": "code",
      "metadata": {
        "id": "Xj11ff4vZzHY",
        "colab_type": "code",
        "colab": {}
      },
      "source": [
        "\n",
        "# 210"
      ],
      "execution_count": 0,
      "outputs": []
    },
    {
      "cell_type": "markdown",
      "metadata": {
        "id": "vEMRkbeBZzHa",
        "colab_type": "text"
      },
      "source": [
        "Next let's move onto sorting."
      ]
    },
    {
      "cell_type": "markdown",
      "metadata": {
        "id": "Vbk5Rf9OZzHc",
        "colab_type": "text"
      },
      "source": [
        "We can create a \"random\" list of integers between one and twenty like so."
      ]
    },
    {
      "cell_type": "code",
      "metadata": {
        "id": "bfdOESHNZzHd",
        "colab_type": "code",
        "colab": {}
      },
      "source": [
        "np.random.seed(1)\n",
        "# seed ensures that the same \"random\" numbers are returned in the line below each time \n",
        "\n",
        "rand_through_twenty = np.random.randint(1, 20, 20).reshape(4, 5)"
      ],
      "execution_count": 0,
      "outputs": []
    },
    {
      "cell_type": "code",
      "metadata": {
        "id": "KMi1z5LyZzHf",
        "colab_type": "code",
        "outputId": "be78862b-d41d-4c97-ad09-123eaadc9c0c",
        "colab": {}
      },
      "source": [
        "rand_through_twenty\n",
        "\n",
        "# array([[ 6, 12, 13,  9, 10],\n",
        "#        [12,  6, 16,  1, 17],\n",
        "#        [ 2, 13,  8, 14,  7],\n",
        "#        [19,  6, 19, 12, 11]])"
      ],
      "execution_count": 0,
      "outputs": [
        {
          "output_type": "execute_result",
          "data": {
            "text/plain": [
              "array([[ 6, 12, 13,  9, 10],\n",
              "       [12,  6, 16,  1, 17],\n",
              "       [ 2, 13,  8, 14,  7],\n",
              "       [19,  6, 19, 12, 11]])"
            ]
          },
          "metadata": {
            "tags": []
          },
          "execution_count": 52
        }
      ]
    },
    {
      "cell_type": "markdown",
      "metadata": {
        "id": "lIERzX4pZzHh",
        "colab_type": "text"
      },
      "source": [
        "Now use `sort` to have the entries go smallest to largest by row."
      ]
    },
    {
      "cell_type": "code",
      "metadata": {
        "id": "8z6UtWr9ZzHh",
        "colab_type": "code",
        "outputId": "b6a50fe2-2e37-4e35-b74c-443b44c9c52e",
        "colab": {}
      },
      "source": [
        "# your code here\n",
        "\n",
        "rand_through_twenty\n",
        "\n",
        "# array([[ 2,  6,  8,  1,  7],\n",
        "#        [ 6,  6, 13,  9, 10],\n",
        "#        [12, 12, 16, 12, 11],\n",
        "#        [19, 13, 19, 14, 17]])"
      ],
      "execution_count": 0,
      "outputs": [
        {
          "output_type": "execute_result",
          "data": {
            "text/plain": [
              "array([[ 2,  6,  8,  1,  7],\n",
              "       [ 6,  6, 13,  9, 10],\n",
              "       [12, 12, 16, 12, 11],\n",
              "       [19, 13, 19, 14, 17]])"
            ]
          },
          "metadata": {
            "tags": []
          },
          "execution_count": 54
        }
      ]
    },
    {
      "cell_type": "markdown",
      "metadata": {
        "id": "fwlHnuOzZzHj",
        "colab_type": "text"
      },
      "source": [
        "> Notice that unlike the other operations we have seen so far, `sort` **does alter** the original array."
      ]
    },
    {
      "cell_type": "markdown",
      "metadata": {
        "id": "ZGnt_rLTZzHk",
        "colab_type": "text"
      },
      "source": [
        "Now sort `rand_through_twenty` by columns."
      ]
    },
    {
      "cell_type": "code",
      "metadata": {
        "id": "KLnPn6FvZzHk",
        "colab_type": "code",
        "outputId": "b98a1c49-df1f-491f-999e-0cf7f56c7873",
        "colab": {}
      },
      "source": [
        "# your code here\n",
        "\n",
        "rand_through_twenty\n",
        "\n",
        "# array([[ 1,  2,  6,  7,  8],\n",
        "#        [ 6,  6,  9, 10, 13],\n",
        "#        [11, 12, 12, 12, 16],\n",
        "#        [13, 14, 17, 19, 19]])"
      ],
      "execution_count": 0,
      "outputs": [
        {
          "output_type": "execute_result",
          "data": {
            "text/plain": [
              "array([[ 1,  2,  6,  7,  8],\n",
              "       [ 6,  6,  9, 10, 13],\n",
              "       [11, 12, 12, 12, 16],\n",
              "       [13, 14, 17, 19, 19]])"
            ]
          },
          "metadata": {
            "tags": []
          },
          "execution_count": 56
        }
      ]
    },
    {
      "cell_type": "markdown",
      "metadata": {
        "id": "teG9XMsAZzHm",
        "colab_type": "text"
      },
      "source": [
        "Notice that some numbers occur more than once.  Also notice that our entries are not sorted throughout the array.  For example, the number `6` appears in the middle of the first row and in the second row.  Let's use the flatten method to turn `rand_through_twenty` into a one dimension arry, and then sorted that array."
      ]
    },
    {
      "cell_type": "code",
      "metadata": {
        "id": "nkzztRpcZzHn",
        "colab_type": "code",
        "colab": {}
      },
      "source": [
        "flattened = rand_through_twenty.flatten()\n",
        "\n",
        "flattened"
      ],
      "execution_count": 0,
      "outputs": []
    },
    {
      "cell_type": "code",
      "metadata": {
        "id": "rDfuUVnvZzHp",
        "colab_type": "code",
        "colab": {}
      },
      "source": [
        "flattened.sort()"
      ],
      "execution_count": 0,
      "outputs": []
    },
    {
      "cell_type": "markdown",
      "metadata": {
        "id": "s7k6RytyZzHr",
        "colab_type": "text"
      },
      "source": [
        "Finally, we can return the array to it's original shape."
      ]
    },
    {
      "cell_type": "code",
      "metadata": {
        "id": "uwsQXBtQZzHs",
        "colab_type": "code",
        "outputId": "a51ade39-e475-45c5-f7fa-268be3d84c51",
        "colab": {}
      },
      "source": [
        "flattened.reshape(4, 5)\n",
        "\n",
        "# array([[ 1,  2,  6,  6,  6],\n",
        "#        [ 7,  8,  9, 10, 11],\n",
        "#        [12, 12, 12, 13, 13],\n",
        "#        [14, 16, 17, 19, 19]])"
      ],
      "execution_count": 0,
      "outputs": [
        {
          "output_type": "execute_result",
          "data": {
            "text/plain": [
              "array([[ 1,  2,  6,  6,  6],\n",
              "       [ 7,  8,  9, 10, 11],\n",
              "       [12, 12, 12, 13, 13],\n",
              "       [14, 16, 17, 19, 19]])"
            ]
          },
          "metadata": {
            "tags": []
          },
          "execution_count": 67
        }
      ]
    },
    {
      "cell_type": "markdown",
      "metadata": {
        "id": "6Dm79k12ZzHu",
        "colab_type": "text"
      },
      "source": [
        "### Summary"
      ]
    },
    {
      "cell_type": "markdown",
      "metadata": {
        "id": "CpBb7mkXZzHv",
        "colab_type": "text"
      },
      "source": [
        "In this lesson, we worked with multidimensional arrays in numpy.  We saw how to create new multidimensional arrays by creating a new array from `np.arange` or `np.random.randint`, and then using `reshape` to change the dimensions of the array.  \n",
        "\n",
        "We then moved onto selecting elements from a multidimensional array using the pattern of row and then column.\n",
        "\n",
        "Afterwards we saw how we can use our knowledge of `axes` with different numpy methods.  For example, we saw how to `sum` the items across rows, and how to sort our items across rows and then columns (axis 0, and 1 respectively)."
      ]
    }
  ]
}