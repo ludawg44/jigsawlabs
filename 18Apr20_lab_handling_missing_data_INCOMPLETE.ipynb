{
  "nbformat": 4,
  "nbformat_minor": 0,
  "metadata": {
    "kernelspec": {
      "display_name": "Python 3",
      "language": "python",
      "name": "python3"
    },
    "language_info": {
      "codemirror_mode": {
        "name": "ipython",
        "version": 3
      },
      "file_extension": ".py",
      "mimetype": "text/x-python",
      "name": "python",
      "nbconvert_exporter": "python",
      "pygments_lexer": "ipython3",
      "version": "3.7.4"
    },
    "colab": {
      "name": "Copy of lab-handling-missing-data.ipynb",
      "provenance": [],
      "include_colab_link": true
    }
  },
  "cells": [
    {
      "cell_type": "markdown",
      "metadata": {
        "id": "view-in-github",
        "colab_type": "text"
      },
      "source": [
        "<a href=\"https://colab.research.google.com/github/ludawg44/jigsawlabs/blob/master/18Apr20_lab_handling_missing_data_INCOMPLETE.ipynb\" target=\"_parent\"><img src=\"https://colab.research.google.com/assets/colab-badge.svg\" alt=\"Open In Colab\"/></a>"
      ]
    },
    {
      "cell_type": "markdown",
      "metadata": {
        "id": "I7-CifNpQQ6U",
        "colab_type": "text"
      },
      "source": [
        "# Handling Missing Data Lab"
      ]
    },
    {
      "cell_type": "markdown",
      "metadata": {
        "id": "_iFSWJq2QQ6V",
        "colab_type": "text"
      },
      "source": [
        "## Introduction\n",
        "After determining what data we are missing, the next step is to determine the best way to handle those missing values. In the following exercises, we will practice a few of those methods. For this lab, we will use the King County house sales data that we analyzed for missing values in the previous lab.\n",
        "\n",
        "Below, load the pandas and numpy libraries and load the data frame using the specified csv file."
      ]
    },
    {
      "cell_type": "code",
      "metadata": {
        "id": "kW80DnipQQ6V",
        "colab_type": "code",
        "colab": {}
      },
      "source": [
        "import pandas as pd\n",
        "import numpy as np\n",
        "url = \"https://raw.githubusercontent.com/jigsawlabs-student/feature-engineering/master/4-handling-missing-data-lab/kc_house_data_missing_values.csv\"\n",
        "housing_df = pd.read_csv(url)"
      ],
      "execution_count": 0,
      "outputs": []
    },
    {
      "cell_type": "code",
      "metadata": {
        "id": "iywQ-WKlQQ6Z",
        "colab_type": "code",
        "outputId": "ece70eef-812c-4afd-93a2-1fb780d33d30",
        "colab": {
          "base_uri": "https://localhost:8080/",
          "height": 142
        }
      },
      "source": [
        "housing_df[:3]\n",
        "\n",
        "# \tid\tdate\tprice\tbedrooms\tbathrooms\tsqft_living\tfloors\n",
        "# 0\t6414100192\tDecember 09, 2014\t538000.0\t3\t2.25\t2570\t2.0\n",
        "# 1\t2487200875\tDecember 09, 2014\t604000.0\t4\t3.00\t1960\t1.0\n",
        "# 2\t1954400510\tFebruary 18, 2015\t510000.0\t3\t2.00\t1680\t1.0"
      ],
      "execution_count": 0,
      "outputs": [
        {
          "output_type": "execute_result",
          "data": {
            "text/html": [
              "<div>\n",
              "<style scoped>\n",
              "    .dataframe tbody tr th:only-of-type {\n",
              "        vertical-align: middle;\n",
              "    }\n",
              "\n",
              "    .dataframe tbody tr th {\n",
              "        vertical-align: top;\n",
              "    }\n",
              "\n",
              "    .dataframe thead th {\n",
              "        text-align: right;\n",
              "    }\n",
              "</style>\n",
              "<table border=\"1\" class=\"dataframe\">\n",
              "  <thead>\n",
              "    <tr style=\"text-align: right;\">\n",
              "      <th></th>\n",
              "      <th>id</th>\n",
              "      <th>date</th>\n",
              "      <th>price</th>\n",
              "      <th>bedrooms</th>\n",
              "      <th>bathrooms</th>\n",
              "      <th>sqft_living</th>\n",
              "      <th>floors</th>\n",
              "    </tr>\n",
              "  </thead>\n",
              "  <tbody>\n",
              "    <tr>\n",
              "      <th>0</th>\n",
              "      <td>6414100192</td>\n",
              "      <td>December 09, 2014</td>\n",
              "      <td>538000.0</td>\n",
              "      <td>3</td>\n",
              "      <td>2.25</td>\n",
              "      <td>2570</td>\n",
              "      <td>2.0</td>\n",
              "    </tr>\n",
              "    <tr>\n",
              "      <th>1</th>\n",
              "      <td>2487200875</td>\n",
              "      <td>December 09, 2014</td>\n",
              "      <td>604000.0</td>\n",
              "      <td>4</td>\n",
              "      <td>3.00</td>\n",
              "      <td>1960</td>\n",
              "      <td>1.0</td>\n",
              "    </tr>\n",
              "    <tr>\n",
              "      <th>2</th>\n",
              "      <td>1954400510</td>\n",
              "      <td>February 18, 2015</td>\n",
              "      <td>510000.0</td>\n",
              "      <td>3</td>\n",
              "      <td>2.00</td>\n",
              "      <td>1680</td>\n",
              "      <td>1.0</td>\n",
              "    </tr>\n",
              "  </tbody>\n",
              "</table>\n",
              "</div>"
            ],
            "text/plain": [
              "           id               date     price  ...  bathrooms  sqft_living  floors\n",
              "0  6414100192  December 09, 2014  538000.0  ...       2.25         2570     2.0\n",
              "1  2487200875  December 09, 2014  604000.0  ...       3.00         1960     1.0\n",
              "2  1954400510  February 18, 2015  510000.0  ...       2.00         1680     1.0\n",
              "\n",
              "[3 rows x 7 columns]"
            ]
          },
          "metadata": {
            "tags": []
          },
          "execution_count": 91
        }
      ]
    },
    {
      "cell_type": "markdown",
      "metadata": {
        "id": "No8DO6VEQQ6d",
        "colab_type": "text"
      },
      "source": [
        "Then, use `info` to return a description of the dataframe and get a sense of the null values in each column."
      ]
    },
    {
      "cell_type": "code",
      "metadata": {
        "id": "GTFA7_b4QQ6e",
        "colab_type": "code",
        "outputId": "7292caa3-c96d-47df-aa40-dbf899829dfc",
        "colab": {
          "base_uri": "https://localhost:8080/",
          "height": 255
        }
      },
      "source": [
        "housing_df.info()\n",
        "# # RangeIndex: 7740 entries, 0 to 7739\n",
        "# Data columns (total 7 columns):\n",
        "# id             7740 non-null int64\n",
        "# date           7740 non-null object\n",
        "# price          7740 non-null float64\n",
        "# bedrooms       7740 non-null int64\n",
        "# bathrooms      7740 non-null float64\n",
        "# sqft_living    7740 non-null int64\n",
        "# floors         7662 non-null float64\n",
        "# dtypes: float64(3), int64(3), object(1)\n",
        "# memory usage: 423.4+ KB"
      ],
      "execution_count": 0,
      "outputs": [
        {
          "output_type": "stream",
          "text": [
            "<class 'pandas.core.frame.DataFrame'>\n",
            "RangeIndex: 7740 entries, 0 to 7739\n",
            "Data columns (total 7 columns):\n",
            " #   Column       Non-Null Count  Dtype  \n",
            "---  ------       --------------  -----  \n",
            " 0   id           7740 non-null   int64  \n",
            " 1   date         7740 non-null   object \n",
            " 2   price        7740 non-null   float64\n",
            " 3   bedrooms     7740 non-null   int64  \n",
            " 4   bathrooms    7740 non-null   float64\n",
            " 5   sqft_living  7740 non-null   int64  \n",
            " 6   floors       7662 non-null   float64\n",
            "dtypes: float64(3), int64(3), object(1)\n",
            "memory usage: 423.4+ KB\n"
          ],
          "name": "stdout"
        }
      ]
    },
    {
      "cell_type": "markdown",
      "metadata": {
        "id": "g_J8Io7hQQ6h",
        "colab_type": "text"
      },
      "source": [
        "We can see that there are 7740 rows of data, and scanning through the columns we see that each column has non-null values except for the `floors` column."
      ]
    },
    {
      "cell_type": "markdown",
      "metadata": {
        "id": "SVAvY7jNQQ6h",
        "colab_type": "text"
      },
      "source": [
        "### Independent Variables\n",
        "\n",
        "In the last lab, we saw that while null values existed with floors, that there were empty strings in the `date` column. \n",
        "\n",
        "Let's first go back to the floors column. Create a new column called `floors_is_null`, which lists a 1 when the data is not available, and a 0 otherwise. "
      ]
    },
    {
      "cell_type": "code",
      "metadata": {
        "id": "dc8aOra-QQ6i",
        "colab_type": "code",
        "outputId": "75948dff-57be-4ab4-860b-fb1a52d47eca",
        "colab": {
          "base_uri": "https://localhost:8080/",
          "height": 34
        }
      },
      "source": [
        "floors_is_null = np.where(housing_df.floors.isna(), 1, 0)\n",
        "floors_is_null[:10]\n",
        "# array([0, 0, 0, 0, 0, 0, 0, 0, 0, 0])"
      ],
      "execution_count": 0,
      "outputs": [
        {
          "output_type": "execute_result",
          "data": {
            "text/plain": [
              "array([0, 0, 0, 0, 0, 0, 0, 0, 0, 0])"
            ]
          },
          "metadata": {
            "tags": []
          },
          "execution_count": 93
        }
      ]
    },
    {
      "cell_type": "code",
      "metadata": {
        "id": "W50R6o3TQQ6l",
        "colab_type": "code",
        "outputId": "f8a7cd53-a856-494c-a910-0318757367e4",
        "colab": {
          "base_uri": "https://localhost:8080/",
          "height": 34
        }
      },
      "source": [
        "np.sum(floors_is_null)\n",
        "# 78"
      ],
      "execution_count": 0,
      "outputs": [
        {
          "output_type": "execute_result",
          "data": {
            "text/plain": [
              "78"
            ]
          },
          "metadata": {
            "tags": []
          },
          "execution_count": 94
        }
      ]
    },
    {
      "cell_type": "markdown",
      "metadata": {
        "id": "My-DkRw0QQ6o",
        "colab_type": "text"
      },
      "source": [
        "Next assign the column to the `housing_df` dataframe."
      ]
    },
    {
      "cell_type": "code",
      "metadata": {
        "id": "1LHegzxJQQ6o",
        "colab_type": "code",
        "colab": {}
      },
      "source": [
        "housing_df = housing_df.assign(floors_is_null=floors_is_null)"
      ],
      "execution_count": 0,
      "outputs": []
    },
    {
      "cell_type": "code",
      "metadata": {
        "id": "NjlhFvDLQQ6r",
        "colab_type": "code",
        "outputId": "da6c2b00-c2ae-4162-935c-279956b4c9a9",
        "colab": {
          "base_uri": "https://localhost:8080/",
          "height": 142
        }
      },
      "source": [
        "housing_df[:3]\n",
        "# date\tprice\tbedrooms\tbathrooms\tsqft_living\tfloors\tfloors_is_null\n",
        "# 0\t6414100192\tDecember 09, 2014\t538000.0\t3\t2.25\t2570\t2.0\t0\n",
        "# 1\t2487200875\tDecember 09, 2014\t604000.0\t4\t3.00\t1960\t1.0\t0\n",
        "# 2\t1954400510\tFebruary 18, 2015\t510000.0\t3\t2.00\t1680\t1.0\t0"
      ],
      "execution_count": 0,
      "outputs": [
        {
          "output_type": "execute_result",
          "data": {
            "text/html": [
              "<div>\n",
              "<style scoped>\n",
              "    .dataframe tbody tr th:only-of-type {\n",
              "        vertical-align: middle;\n",
              "    }\n",
              "\n",
              "    .dataframe tbody tr th {\n",
              "        vertical-align: top;\n",
              "    }\n",
              "\n",
              "    .dataframe thead th {\n",
              "        text-align: right;\n",
              "    }\n",
              "</style>\n",
              "<table border=\"1\" class=\"dataframe\">\n",
              "  <thead>\n",
              "    <tr style=\"text-align: right;\">\n",
              "      <th></th>\n",
              "      <th>id</th>\n",
              "      <th>date</th>\n",
              "      <th>price</th>\n",
              "      <th>bedrooms</th>\n",
              "      <th>bathrooms</th>\n",
              "      <th>sqft_living</th>\n",
              "      <th>floors</th>\n",
              "      <th>floors_is_null</th>\n",
              "    </tr>\n",
              "  </thead>\n",
              "  <tbody>\n",
              "    <tr>\n",
              "      <th>0</th>\n",
              "      <td>6414100192</td>\n",
              "      <td>December 09, 2014</td>\n",
              "      <td>538000.0</td>\n",
              "      <td>3</td>\n",
              "      <td>2.25</td>\n",
              "      <td>2570</td>\n",
              "      <td>2.0</td>\n",
              "      <td>0</td>\n",
              "    </tr>\n",
              "    <tr>\n",
              "      <th>1</th>\n",
              "      <td>2487200875</td>\n",
              "      <td>December 09, 2014</td>\n",
              "      <td>604000.0</td>\n",
              "      <td>4</td>\n",
              "      <td>3.00</td>\n",
              "      <td>1960</td>\n",
              "      <td>1.0</td>\n",
              "      <td>0</td>\n",
              "    </tr>\n",
              "    <tr>\n",
              "      <th>2</th>\n",
              "      <td>1954400510</td>\n",
              "      <td>February 18, 2015</td>\n",
              "      <td>510000.0</td>\n",
              "      <td>3</td>\n",
              "      <td>2.00</td>\n",
              "      <td>1680</td>\n",
              "      <td>1.0</td>\n",
              "      <td>0</td>\n",
              "    </tr>\n",
              "  </tbody>\n",
              "</table>\n",
              "</div>"
            ],
            "text/plain": [
              "           id               date     price  ...  sqft_living  floors  floors_is_null\n",
              "0  6414100192  December 09, 2014  538000.0  ...         2570     2.0               0\n",
              "1  2487200875  December 09, 2014  604000.0  ...         1960     1.0               0\n",
              "2  1954400510  February 18, 2015  510000.0  ...         1680     1.0               0\n",
              "\n",
              "[3 rows x 8 columns]"
            ]
          },
          "metadata": {
            "tags": []
          },
          "execution_count": 96
        }
      ]
    },
    {
      "cell_type": "code",
      "metadata": {
        "id": "o1wi2-ScQQ6u",
        "colab_type": "code",
        "outputId": "a4f93714-cefe-483c-c2e7-4033f5d6c855",
        "colab": {
          "base_uri": "https://localhost:8080/",
          "height": 34
        }
      },
      "source": [
        "housing_df['floors_is_null'].sum()\n",
        "# 78"
      ],
      "execution_count": 0,
      "outputs": [
        {
          "output_type": "execute_result",
          "data": {
            "text/plain": [
              "78"
            ]
          },
          "metadata": {
            "tags": []
          },
          "execution_count": 97
        }
      ]
    },
    {
      "cell_type": "markdown",
      "metadata": {
        "id": "jf_g21FVQQ6x",
        "colab_type": "text"
      },
      "source": [
        "The next step is to remove the nan values from the `avg_floors` column.  Replace each null value in `avg_floors` with the mean number of floors."
      ]
    },
    {
      "cell_type": "code",
      "metadata": {
        "id": "pMii6KioQQ6y",
        "colab_type": "code",
        "outputId": "aa24e305-c272-4ce6-e061-87a381493e11",
        "colab": {
          "base_uri": "https://localhost:8080/",
          "height": 34
        }
      },
      "source": [
        "mean_floors = housing_df.floors.mean()\n",
        "mean_floors\n",
        "# 1.612438005742626"
      ],
      "execution_count": 0,
      "outputs": [
        {
          "output_type": "execute_result",
          "data": {
            "text/plain": [
              "1.612438005742626"
            ]
          },
          "metadata": {
            "tags": []
          },
          "execution_count": 98
        }
      ]
    },
    {
      "cell_type": "code",
      "metadata": {
        "id": "YfjUptq0RWwn",
        "colab_type": "code",
        "outputId": "baee1580-208d-43d0-c7b3-2834fa823321",
        "colab": {
          "base_uri": "https://localhost:8080/",
          "height": 34
        }
      },
      "source": [
        "np.where(housing_df.floors.isna(), mean_floors, housing_df.floors)"
      ],
      "execution_count": 0,
      "outputs": [
        {
          "output_type": "execute_result",
          "data": {
            "text/plain": [
              "array([2., 1., 1., ..., 2., 2., 2.])"
            ]
          },
          "metadata": {
            "tags": []
          },
          "execution_count": 99
        }
      ]
    },
    {
      "cell_type": "code",
      "metadata": {
        "id": "JW5ee23jRpHq",
        "colab_type": "code",
        "colab": {}
      },
      "source": [
        "housing_fl = np.where(housing_df.floors.isna(), mean_floors, housing_df.floors)\n",
        "housing_df.assign(floors = housing_fl)\n",
        "housing_df = housing_df.assign(floors = housing_fl)"
      ],
      "execution_count": 0,
      "outputs": []
    },
    {
      "cell_type": "code",
      "metadata": {
        "id": "FQnLO4xKQQ65",
        "colab_type": "code",
        "outputId": "c52047f1-e42a-4b49-8086-68e7b22d4b96",
        "colab": {
          "base_uri": "https://localhost:8080/",
          "height": 34
        }
      },
      "source": [
        "housing_df[housing_df['floors'] == 1.612438005742626].shape\n",
        "\n",
        "# (78, 8)"
      ],
      "execution_count": 0,
      "outputs": [
        {
          "output_type": "execute_result",
          "data": {
            "text/plain": [
              "(78, 8)"
            ]
          },
          "metadata": {
            "tags": []
          },
          "execution_count": 101
        }
      ]
    },
    {
      "cell_type": "markdown",
      "metadata": {
        "id": "j90H0XdkQQ68",
        "colab_type": "text"
      },
      "source": [
        "So now, we'll see that we no longer have na values for in the floors column."
      ]
    },
    {
      "cell_type": "code",
      "metadata": {
        "id": "qt2NhnQbQQ68",
        "colab_type": "code",
        "outputId": "fa7f56ce-a605-4ee9-b8db-81ea536e5f12",
        "colab": {
          "base_uri": "https://localhost:8080/",
          "height": 34
        }
      },
      "source": [
        "housing_df['floors'].isna().sum()\n",
        "# 0"
      ],
      "execution_count": 0,
      "outputs": [
        {
          "output_type": "execute_result",
          "data": {
            "text/plain": [
              "0"
            ]
          },
          "metadata": {
            "tags": []
          },
          "execution_count": 102
        }
      ]
    },
    {
      "cell_type": "markdown",
      "metadata": {
        "id": "YjURjskLQQ6_",
        "colab_type": "text"
      },
      "source": [
        "### Imputing the date"
      ]
    },
    {
      "cell_type": "markdown",
      "metadata": {
        "id": "lyjwTIrfQQ6_",
        "colab_type": "text"
      },
      "source": [
        "Ok, now it's time to remove the missing values in the date column.  Just like with the floors column, we'll do this in two steps.  First we'll add a new column called `date_is_null`, and then we'll impute the mean in our `date` column."
      ]
    },
    {
      "cell_type": "markdown",
      "metadata": {
        "id": "mYOeB57cQQ6_",
        "colab_type": "text"
      },
      "source": [
        "1. Add a `date_is_null` column\n",
        "\n",
        "Ok, create the `date_is_null`, column that lists a 1 when the date is not available, and a 0 otherwise.  Assign the series to the variable `date_is_null`."
      ]
    },
    {
      "cell_type": "code",
      "metadata": {
        "id": "77-Ry5wESJZ1",
        "colab_type": "code",
        "outputId": "5fe0514e-e292-4b6b-a3e8-d9d0e2cd6c39",
        "colab": {
          "base_uri": "https://localhost:8080/",
          "height": 34
        }
      },
      "source": [
        "housing_df.date.eq(' ').sum()"
      ],
      "execution_count": 0,
      "outputs": [
        {
          "output_type": "execute_result",
          "data": {
            "text/plain": [
              "9"
            ]
          },
          "metadata": {
            "tags": []
          },
          "execution_count": 104
        }
      ]
    },
    {
      "cell_type": "code",
      "metadata": {
        "id": "LcbketdMQQ7A",
        "colab_type": "code",
        "colab": {}
      },
      "source": [
        "date_is_null = np.where(housing_df.date.eq(' '), 1, 0)"
      ],
      "execution_count": 0,
      "outputs": []
    },
    {
      "cell_type": "code",
      "metadata": {
        "id": "XfWhI8gWQQ7E",
        "colab_type": "code",
        "outputId": "6a8de724-0445-4651-9f91-ec409d70d4ed",
        "colab": {
          "base_uri": "https://localhost:8080/",
          "height": 34
        }
      },
      "source": [
        "date_is_null[:3]\n",
        "# array([0, 0, 0])"
      ],
      "execution_count": 0,
      "outputs": [
        {
          "output_type": "execute_result",
          "data": {
            "text/plain": [
              "array([0, 0, 0])"
            ]
          },
          "metadata": {
            "tags": []
          },
          "execution_count": 106
        }
      ]
    },
    {
      "cell_type": "code",
      "metadata": {
        "id": "e3tYyH8sQQ7I",
        "colab_type": "code",
        "outputId": "a64eab53-743b-4c26-87bc-cecedb40c40c",
        "colab": {
          "base_uri": "https://localhost:8080/",
          "height": 34
        }
      },
      "source": [
        "date_is_null.sum()\n",
        "# 9"
      ],
      "execution_count": 0,
      "outputs": [
        {
          "output_type": "execute_result",
          "data": {
            "text/plain": [
              "9"
            ]
          },
          "metadata": {
            "tags": []
          },
          "execution_count": 107
        }
      ]
    },
    {
      "cell_type": "markdown",
      "metadata": {
        "id": "RmCy-jN8QQ7L",
        "colab_type": "text"
      },
      "source": [
        "Then add the column to the dataframe."
      ]
    },
    {
      "cell_type": "code",
      "metadata": {
        "id": "7AiclhnOQQ7M",
        "colab_type": "code",
        "colab": {}
      },
      "source": [
        "housing_df = housing_df.assign(date_is_null = date_is_null)"
      ],
      "execution_count": 0,
      "outputs": []
    },
    {
      "cell_type": "code",
      "metadata": {
        "id": "33-13UFlQQ7P",
        "colab_type": "code",
        "outputId": "52c38fad-2739-460a-de21-6db6bbe5500d",
        "colab": {
          "base_uri": "https://localhost:8080/",
          "height": 142
        }
      },
      "source": [
        "housing_df[:3]\n",
        "# \n",
        "# id\tdate\tprice\tbedrooms\tbathrooms\tsqft_living\tfloors\tfloors_is_null\tdate_is_null\n",
        "# 0\t6414100192\tDecember 09, 2014\t538000.0\t3\t2.25\t2570\t2.0\t0\t0\n",
        "# 1\t2487200875\tDecember 09, 2014\t604000.0\t4\t3.00\t1960\t1.0\t0\t0\n",
        "# 2\t1954400510\tFebruary 18, 2015\t510000.0\t3\t2.00\t1680\t1.0\t0\t0"
      ],
      "execution_count": 0,
      "outputs": [
        {
          "output_type": "execute_result",
          "data": {
            "text/html": [
              "<div>\n",
              "<style scoped>\n",
              "    .dataframe tbody tr th:only-of-type {\n",
              "        vertical-align: middle;\n",
              "    }\n",
              "\n",
              "    .dataframe tbody tr th {\n",
              "        vertical-align: top;\n",
              "    }\n",
              "\n",
              "    .dataframe thead th {\n",
              "        text-align: right;\n",
              "    }\n",
              "</style>\n",
              "<table border=\"1\" class=\"dataframe\">\n",
              "  <thead>\n",
              "    <tr style=\"text-align: right;\">\n",
              "      <th></th>\n",
              "      <th>id</th>\n",
              "      <th>date</th>\n",
              "      <th>price</th>\n",
              "      <th>bedrooms</th>\n",
              "      <th>bathrooms</th>\n",
              "      <th>sqft_living</th>\n",
              "      <th>floors</th>\n",
              "      <th>floors_is_null</th>\n",
              "      <th>date_is_null</th>\n",
              "    </tr>\n",
              "  </thead>\n",
              "  <tbody>\n",
              "    <tr>\n",
              "      <th>0</th>\n",
              "      <td>6414100192</td>\n",
              "      <td>December 09, 2014</td>\n",
              "      <td>538000.0</td>\n",
              "      <td>3</td>\n",
              "      <td>2.25</td>\n",
              "      <td>2570</td>\n",
              "      <td>2.0</td>\n",
              "      <td>0</td>\n",
              "      <td>0</td>\n",
              "    </tr>\n",
              "    <tr>\n",
              "      <th>1</th>\n",
              "      <td>2487200875</td>\n",
              "      <td>December 09, 2014</td>\n",
              "      <td>604000.0</td>\n",
              "      <td>4</td>\n",
              "      <td>3.00</td>\n",
              "      <td>1960</td>\n",
              "      <td>1.0</td>\n",
              "      <td>0</td>\n",
              "      <td>0</td>\n",
              "    </tr>\n",
              "    <tr>\n",
              "      <th>2</th>\n",
              "      <td>1954400510</td>\n",
              "      <td>February 18, 2015</td>\n",
              "      <td>510000.0</td>\n",
              "      <td>3</td>\n",
              "      <td>2.00</td>\n",
              "      <td>1680</td>\n",
              "      <td>1.0</td>\n",
              "      <td>0</td>\n",
              "      <td>0</td>\n",
              "    </tr>\n",
              "  </tbody>\n",
              "</table>\n",
              "</div>"
            ],
            "text/plain": [
              "           id               date  ...  floors_is_null  date_is_null\n",
              "0  6414100192  December 09, 2014  ...               0             0\n",
              "1  2487200875  December 09, 2014  ...               0             0\n",
              "2  1954400510  February 18, 2015  ...               0             0\n",
              "\n",
              "[3 rows x 9 columns]"
            ]
          },
          "metadata": {
            "tags": []
          },
          "execution_count": 109
        }
      ]
    },
    {
      "cell_type": "code",
      "metadata": {
        "id": "WP1zC1SPQQ7S",
        "colab_type": "code",
        "outputId": "b35fa140-bd26-4247-a8fc-0fd7d439dda2",
        "colab": {
          "base_uri": "https://localhost:8080/",
          "height": 34
        }
      },
      "source": [
        "housing_df['date_is_null'].sum()\n",
        "# 9"
      ],
      "execution_count": 0,
      "outputs": [
        {
          "output_type": "execute_result",
          "data": {
            "text/plain": [
              "9"
            ]
          },
          "metadata": {
            "tags": []
          },
          "execution_count": 110
        }
      ]
    },
    {
      "cell_type": "markdown",
      "metadata": {
        "id": "LitIPBJpQQ7d",
        "colab_type": "text"
      },
      "source": [
        "2. Replacing missing values with the mean"
      ]
    },
    {
      "cell_type": "markdown",
      "metadata": {
        "id": "aVM0_3XIQQ7e",
        "colab_type": "text"
      },
      "source": [
        "The next step is to replace the na values in the date column with the mean date.  \n",
        "\n",
        "> Check out [this post](https://stackoverflow.com/questions/52007139/pandas-datetime-average) to see how to  compute the average of a date in Pandas."
      ]
    },
    {
      "cell_type": "markdown",
      "metadata": {
        "id": "l-ZnbPg4QQ7e",
        "colab_type": "text"
      },
      "source": [
        "We'll help you out along the way.  Begin by selecting all of the non-string values and converting them to a date."
      ]
    },
    {
      "cell_type": "code",
      "metadata": {
        "id": "RQwZxvqQTgsU",
        "colab_type": "code",
        "colab": {}
      },
      "source": [
        "# df.date = pd.to_datetime(df.date).values.astype(np.int64)\n",
        "\n",
        "# df = pd.DataFrame(pd.to_datetime(df.groupby('column').mean().date))"
      ],
      "execution_count": 0,
      "outputs": []
    },
    {
      "cell_type": "code",
      "metadata": {
        "id": "tTy7H-DkT75g",
        "colab_type": "code",
        "outputId": "70652e95-f30d-4f8e-b3e9-9f4b31d0a3fe",
        "colab": {
          "base_uri": "https://localhost:8080/",
          "height": 164
        }
      },
      "source": [
        "# np.where(housing_df.date.eq(' '), 0, housing_df.date.values.astype(np.int64))"
      ],
      "execution_count": 0,
      "outputs": [
        {
          "output_type": "error",
          "ename": "ValueError",
          "evalue": "ignored",
          "traceback": [
            "\u001b[0;31m---------------------------------------------------------------------------\u001b[0m",
            "\u001b[0;31mValueError\u001b[0m                                Traceback (most recent call last)",
            "\u001b[0;32m<ipython-input-112-84d8ebe4ffb2>\u001b[0m in \u001b[0;36m<module>\u001b[0;34m()\u001b[0m\n\u001b[0;32m----> 1\u001b[0;31m \u001b[0mnp\u001b[0m\u001b[0;34m.\u001b[0m\u001b[0mwhere\u001b[0m\u001b[0;34m(\u001b[0m\u001b[0mhousing_df\u001b[0m\u001b[0;34m.\u001b[0m\u001b[0mdate\u001b[0m\u001b[0;34m.\u001b[0m\u001b[0meq\u001b[0m\u001b[0;34m(\u001b[0m\u001b[0;34m' '\u001b[0m\u001b[0;34m)\u001b[0m\u001b[0;34m,\u001b[0m \u001b[0;36m0\u001b[0m\u001b[0;34m,\u001b[0m \u001b[0mhousing_df\u001b[0m\u001b[0;34m.\u001b[0m\u001b[0mdate\u001b[0m\u001b[0;34m.\u001b[0m\u001b[0mvalues\u001b[0m\u001b[0;34m.\u001b[0m\u001b[0mastype\u001b[0m\u001b[0;34m(\u001b[0m\u001b[0mnp\u001b[0m\u001b[0;34m.\u001b[0m\u001b[0mint64\u001b[0m\u001b[0;34m)\u001b[0m\u001b[0;34m)\u001b[0m\u001b[0;34m\u001b[0m\u001b[0;34m\u001b[0m\u001b[0m\n\u001b[0m",
            "\u001b[0;31mValueError\u001b[0m: invalid literal for int() with base 10: 'December 09, 2014'"
          ]
        }
      ]
    },
    {
      "cell_type": "code",
      "metadata": {
        "id": "SpxAmrr8U9ml",
        "colab_type": "code",
        "colab": {}
      },
      "source": [
        ""
      ],
      "execution_count": 0,
      "outputs": []
    },
    {
      "cell_type": "code",
      "metadata": {
        "id": "dMYd4MzhQQ7e",
        "colab_type": "code",
        "outputId": "ea5fb3e6-5e08-493f-cde7-4afe8fd66304",
        "colab": {
          "base_uri": "https://localhost:8080/",
          "height": 85
        }
      },
      "source": [
        "dates_to_datetime = pd.to_datetime(housing_df.date, errors= 'coerce')\n",
        "dates_to_datetime[:3]\n",
        "\n",
        "# 0   2014-12-09\n",
        "# 1   2014-12-09\n",
        "# 2   2015-02-18"
      ],
      "execution_count": 0,
      "outputs": [
        {
          "output_type": "execute_result",
          "data": {
            "text/plain": [
              "0   2014-12-09\n",
              "1   2014-12-09\n",
              "2   2015-02-18\n",
              "Name: date, dtype: datetime64[ns]"
            ]
          },
          "metadata": {
            "tags": []
          },
          "execution_count": 113
        }
      ]
    },
    {
      "cell_type": "code",
      "metadata": {
        "id": "4p0n6fDGU-43",
        "colab_type": "code",
        "colab": {}
      },
      "source": [
        "dates_to_datetime= dates_to_datetime.dropna()"
      ],
      "execution_count": 0,
      "outputs": []
    },
    {
      "cell_type": "code",
      "metadata": {
        "id": "JY6dwALyQQ7h",
        "colab_type": "code",
        "outputId": "f40e88a4-f186-4655-f7d5-3db4d4721b03",
        "colab": {
          "base_uri": "https://localhost:8080/",
          "height": 34
        }
      },
      "source": [
        "dates_to_datetime.shape\n",
        "# (7731,)"
      ],
      "execution_count": 0,
      "outputs": [
        {
          "output_type": "execute_result",
          "data": {
            "text/plain": [
              "(7731,)"
            ]
          },
          "metadata": {
            "tags": []
          },
          "execution_count": 117
        }
      ]
    },
    {
      "cell_type": "markdown",
      "metadata": {
        "id": "K2XDyqs-QQ7j",
        "colab_type": "text"
      },
      "source": [
        "Then convert the datetimes to an `int64` and calculate the average."
      ]
    },
    {
      "cell_type": "code",
      "metadata": {
        "id": "XweuO8qnQQ7j",
        "colab_type": "code",
        "outputId": "b36e6959-cc87-4d00-fb60-c7ee15904c19",
        "colab": {
          "base_uri": "https://localhost:8080/",
          "height": 34
        }
      },
      "source": [
        "mean_date = dates_to_datetime.dropna().values.astype(np.int64).mean()\n",
        "mean_date\n",
        "# 1.4144681350407421e+18"
      ],
      "execution_count": 0,
      "outputs": [
        {
          "output_type": "execute_result",
          "data": {
            "text/plain": [
              "1.414468135040745e+18"
            ]
          },
          "metadata": {
            "tags": []
          },
          "execution_count": 118
        }
      ]
    },
    {
      "cell_type": "markdown",
      "metadata": {
        "id": "6nsL0D3NQQ7m",
        "colab_type": "text"
      },
      "source": [
        "Convert the mean number back to a date time, and then you can replace the empty strings with the mean."
      ]
    },
    {
      "cell_type": "code",
      "metadata": {
        "id": "wnBkU5mLQQ7n",
        "colab_type": "code",
        "outputId": "e665b2f0-cbaf-4e75-ec45-0f7d0d9f562a",
        "colab": {
          "base_uri": "https://localhost:8080/",
          "height": 34
        }
      },
      "source": [
        "mean_datetime = pd.to_datetime(mean_date)\n",
        "mean_datetime\n",
        "# Timestamp('2014-10-28 03:48:55.040742144'"
      ],
      "execution_count": 0,
      "outputs": [
        {
          "output_type": "execute_result",
          "data": {
            "text/plain": [
              "Timestamp('2014-10-28 03:48:55.040744960')"
            ]
          },
          "metadata": {
            "tags": []
          },
          "execution_count": 119
        }
      ]
    },
    {
      "cell_type": "markdown",
      "metadata": {
        "id": "RTWwLupQQQ7p",
        "colab_type": "text"
      },
      "source": [
        "As an alternative, we can find the median value, by sorting the values of our dates and then selecting the middle index.\n",
        "\n",
        "Let's start by seeing the length of the our date column."
      ]
    },
    {
      "cell_type": "code",
      "metadata": {
        "id": "nTzVmvbzQQ7q",
        "colab_type": "code",
        "outputId": "7fbf5852-6e30-4870-ca27-c6ba404bf305",
        "colab": {
          "base_uri": "https://localhost:8080/",
          "height": 34
        }
      },
      "source": [
        "dates_to_datetime.shape\n",
        "# 7731"
      ],
      "execution_count": 0,
      "outputs": [
        {
          "output_type": "execute_result",
          "data": {
            "text/plain": [
              "(7731,)"
            ]
          },
          "metadata": {
            "tags": []
          },
          "execution_count": 120
        }
      ]
    },
    {
      "cell_type": "markdown",
      "metadata": {
        "id": "94jclj7IQQ7s",
        "colab_type": "text"
      },
      "source": [
        "So then then middle value is at 3865.  Next, sort the values, and select the datetime at index 3865."
      ]
    },
    {
      "cell_type": "code",
      "metadata": {
        "id": "6KZmNg5FWWTJ",
        "colab_type": "code",
        "outputId": "7970bd29-bf9a-4813-c8ba-b2a92159c31e",
        "colab": {
          "base_uri": "https://localhost:8080/",
          "height": 34
        }
      },
      "source": [
        "dates_to_datetime.sort_values().dropna().iloc[3865]"
      ],
      "execution_count": 0,
      "outputs": [
        {
          "output_type": "execute_result",
          "data": {
            "text/plain": [
              "Timestamp('2014-10-13 00:00:00')"
            ]
          },
          "metadata": {
            "tags": []
          },
          "execution_count": 121
        }
      ]
    },
    {
      "cell_type": "code",
      "metadata": {
        "id": "b5wgguvdQQ7s",
        "colab_type": "code",
        "outputId": "3cf0ebf5-96cc-40b5-9b7f-dcd5dfe7bee6",
        "colab": {
          "base_uri": "https://localhost:8080/",
          "height": 34
        }
      },
      "source": [
        "median_date = dates_to_datetime.sort_values().dropna().iloc[3865]\n",
        "median_date\n",
        "# Timestamp('2014-10-13 00:00:00')"
      ],
      "execution_count": 0,
      "outputs": [
        {
          "output_type": "execute_result",
          "data": {
            "text/plain": [
              "Timestamp('2014-10-13 00:00:00')"
            ]
          },
          "metadata": {
            "tags": []
          },
          "execution_count": 122
        }
      ]
    },
    {
      "cell_type": "markdown",
      "metadata": {
        "id": "fNi6Wjw0QQ7v",
        "colab_type": "text"
      },
      "source": [
        "Ok, now let's replace the empty strings with the mean datetime."
      ]
    },
    {
      "cell_type": "code",
      "metadata": {
        "id": "3TyJlFwUXBZa",
        "colab_type": "code",
        "outputId": "dac9dc32-ac52-4f92-9284-5d4e1e41317a",
        "colab": {
          "base_uri": "https://localhost:8080/",
          "height": 221
        }
      },
      "source": [
        "dates_to_datetime"
      ],
      "execution_count": 0,
      "outputs": [
        {
          "output_type": "execute_result",
          "data": {
            "text/plain": [
              "0      2014-12-09\n",
              "1      2014-12-09\n",
              "2      2015-02-18\n",
              "3      2015-04-03\n",
              "4      2015-03-12\n",
              "          ...    \n",
              "7735   2014-08-13\n",
              "7736   2014-10-13\n",
              "7737   2014-09-15\n",
              "7738   2014-08-25\n",
              "7739   2014-10-14\n",
              "Name: date, Length: 7731, dtype: datetime64[ns]"
            ]
          },
          "metadata": {
            "tags": []
          },
          "execution_count": 123
        }
      ]
    },
    {
      "cell_type": "code",
      "metadata": {
        "id": "R95oSjPWXHEX",
        "colab_type": "code",
        "colab": {}
      },
      "source": [
        "mean_to_date_stamp = pd.to_datetime(mean_date)"
      ],
      "execution_count": 0,
      "outputs": []
    },
    {
      "cell_type": "code",
      "metadata": {
        "id": "Yt5hs8frQQ7v",
        "colab_type": "code",
        "outputId": "6dfc0a27-94ae-46b4-b9d9-b524a90efefa",
        "colab": {
          "base_uri": "https://localhost:8080/",
          "height": 164
        }
      },
      "source": [
        "replaced_housing_date = np.where(dates_to_datetime, mean_to_date_stamp, dates_to_datetime).astype(np.datetime64)"
      ],
      "execution_count": 0,
      "outputs": [
        {
          "output_type": "error",
          "ename": "ValueError",
          "evalue": "ignored",
          "traceback": [
            "\u001b[0;31m---------------------------------------------------------------------------\u001b[0m",
            "\u001b[0;31mValueError\u001b[0m                                Traceback (most recent call last)",
            "\u001b[0;32m<ipython-input-126-d7c93e9a2f80>\u001b[0m in \u001b[0;36m<module>\u001b[0;34m()\u001b[0m\n\u001b[0;32m----> 1\u001b[0;31m \u001b[0mreplaced_housing_date\u001b[0m \u001b[0;34m=\u001b[0m \u001b[0mnp\u001b[0m\u001b[0;34m.\u001b[0m\u001b[0mwhere\u001b[0m\u001b[0;34m(\u001b[0m\u001b[0mdates_to_datetime\u001b[0m\u001b[0;34m.\u001b[0m\u001b[0misna\u001b[0m\u001b[0;34m(\u001b[0m\u001b[0;34m)\u001b[0m\u001b[0;34m,\u001b[0m \u001b[0mmean_to_date_stamp\u001b[0m\u001b[0;34m,\u001b[0m \u001b[0mdates_to_datetime\u001b[0m\u001b[0;34m)\u001b[0m\u001b[0;34m.\u001b[0m\u001b[0mastype\u001b[0m\u001b[0;34m(\u001b[0m\u001b[0mnp\u001b[0m\u001b[0;34m.\u001b[0m\u001b[0mdatetime64\u001b[0m\u001b[0;34m)\u001b[0m\u001b[0;34m\u001b[0m\u001b[0;34m\u001b[0m\u001b[0m\n\u001b[0m",
            "\u001b[0;31mValueError\u001b[0m: Converting an integer to a NumPy datetime requires a specified unit"
          ]
        }
      ]
    },
    {
      "cell_type": "code",
      "metadata": {
        "id": "nODudPaXX0SC",
        "colab_type": "code",
        "colab": {}
      },
      "source": [
        "replaced_housing_date"
      ],
      "execution_count": 0,
      "outputs": []
    },
    {
      "cell_type": "code",
      "metadata": {
        "id": "56vuPXIoX72M",
        "colab_type": "code",
        "colab": {}
      },
      "source": [
        "type(mean_to_date_stamp)"
      ],
      "execution_count": 0,
      "outputs": []
    },
    {
      "cell_type": "code",
      "metadata": {
        "id": "TZbdecg5QQ7y",
        "colab_type": "code",
        "colab": {}
      },
      "source": [
        "(replaced_housing_date == mean_datetime).sum()\n",
        "# 9"
      ],
      "execution_count": 0,
      "outputs": []
    },
    {
      "cell_type": "code",
      "metadata": {
        "id": "h8fYrVb-QQ70",
        "colab_type": "code",
        "colab": {}
      },
      "source": [
        "housing_df = housing_df.assign(date = pd.to_datetime(replaced_housing_date))"
      ],
      "execution_count": 0,
      "outputs": []
    },
    {
      "cell_type": "code",
      "metadata": {
        "id": "-vgy2nYVQQ72",
        "colab_type": "code",
        "colab": {}
      },
      "source": [
        "housing_df[:3]"
      ],
      "execution_count": 0,
      "outputs": []
    },
    {
      "cell_type": "code",
      "metadata": {
        "id": "-pHbWaCfQQ75",
        "colab_type": "code",
        "colab": {}
      },
      "source": [
        "(housing_df['date'] == mean_datetime).sum()\n",
        "# 9"
      ],
      "execution_count": 0,
      "outputs": []
    },
    {
      "cell_type": "markdown",
      "metadata": {
        "id": "5KwnYlg0QQ77",
        "colab_type": "text"
      },
      "source": [
        "### Target Variable\n",
        "In the last lab, we saw that the `price` column (our target variable) had missing values in the form of 0s.  Imputing target data can be difficult and is best suited for situations where we have very few observations to work with.\n",
        "\n",
        "First, determine the number of observations that are 0."
      ]
    },
    {
      "cell_type": "code",
      "metadata": {
        "id": "nHz6ZXvSQQ77",
        "colab_type": "code",
        "colab": {}
      },
      "source": [
        "\n",
        "# 46"
      ],
      "execution_count": 0,
      "outputs": []
    },
    {
      "cell_type": "markdown",
      "metadata": {
        "id": "IImVGOxZQQ7-",
        "colab_type": "text"
      },
      "source": [
        "Here, missing values only represent a very small fraction of our total observations, it is unlikely we would impute values for the target variable. In the cell below, drop all rows with 0 in the price column."
      ]
    },
    {
      "cell_type": "code",
      "metadata": {
        "id": "1hZ9dFdlQQ7-",
        "colab_type": "code",
        "colab": {}
      },
      "source": [
        "housing_df = None"
      ],
      "execution_count": 0,
      "outputs": []
    },
    {
      "cell_type": "code",
      "metadata": {
        "id": "ZBKq7l4CQQ8B",
        "colab_type": "code",
        "colab": {}
      },
      "source": [
        "housing_df.shape\n",
        "# (7694, 9)"
      ],
      "execution_count": 0,
      "outputs": []
    },
    {
      "cell_type": "code",
      "metadata": {
        "id": "BqNeObafQQ8D",
        "colab_type": "code",
        "colab": {}
      },
      "source": [
        "housing_df[housing_df.price == 0]\n",
        "# \tid\tdate\tprice\tbedrooms\tbathrooms\tsqft_living\tfloors\tfloors_is_null\tdate_is_null"
      ],
      "execution_count": 0,
      "outputs": []
    },
    {
      "cell_type": "markdown",
      "metadata": {
        "id": "85BO5rLGQQ8F",
        "colab_type": "text"
      },
      "source": [
        "## Conclusion\n",
        "There are different ways to handle missing data depending on the types of data you are dealing with and the problem you are trying to solve. In this lab, we treated our indpendent variables and target variable differently. For the independent variables, we created new column which reflected whether or not there was a missing value. For both of these variable we used the mean value to impute new values where data was missing.\n",
        "For the target variable, we determined that we only had a small number of missing values. We dropped all of these observations from the dataframe."
      ]
    }
  ]
}