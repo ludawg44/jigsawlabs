{
  "nbformat": 4,
  "nbformat_minor": 0,
  "metadata": {
    "kernelspec": {
      "display_name": "Python 3",
      "language": "python",
      "name": "python3"
    },
    "language_info": {
      "codemirror_mode": {
        "name": "ipython",
        "version": 3
      },
      "file_extension": ".py",
      "mimetype": "text/x-python",
      "name": "python",
      "nbconvert_exporter": "python",
      "pygments_lexer": "ipython3",
      "version": "3.7.4"
    },
    "colab": {
      "name": "Copy of index.ipynb",
      "provenance": [],
      "include_colab_link": true
    }
  },
  "cells": [
    {
      "cell_type": "markdown",
      "metadata": {
        "id": "view-in-github",
        "colab_type": "text"
      },
      "source": [
        "<a href=\"https://colab.research.google.com/github/ludawg44/jigsawlabs/blob/master/07May20_Intro%20to%20Github.ipynb\" target=\"_parent\"><img src=\"https://colab.research.google.com/assets/colab-badge.svg\" alt=\"Open In Colab\"/></a>"
      ]
    },
    {
      "cell_type": "markdown",
      "metadata": {
        "id": "jRnbKuM0TvE6",
        "colab_type": "text"
      },
      "source": [
        "# Introduction to Github"
      ]
    },
    {
      "cell_type": "markdown",
      "metadata": {
        "id": "cXt5gO1GTvE7",
        "colab_type": "text"
      },
      "source": [
        "### Introduction"
      ]
    },
    {
      "cell_type": "markdown",
      "metadata": {
        "id": "5sbYnZb-TvE8",
        "colab_type": "text"
      },
      "source": [
        "Now that we have worked with git locally on our computer, it's time to see how we can share our work online.  One way to do this is with Github.  We'll learn how to work with Github in this lesson."
      ]
    },
    {
      "cell_type": "markdown",
      "metadata": {
        "id": "Jww6b_bzTvE9",
        "colab_type": "text"
      },
      "source": [
        "### Creating a Git Repository"
      ]
    },
    {
      "cell_type": "markdown",
      "metadata": {
        "id": "M-5RjzQKTvE9",
        "colab_type": "text"
      },
      "source": [
        "Let's start by creating a git repository, adding a file, and making a commit."
      ]
    },
    {
      "cell_type": "code",
      "metadata": {
        "id": "zhO4jUcbTvE-",
        "colab_type": "code",
        "outputId": "7f292423-264a-4c0a-cebc-da1efdd46914",
        "colab": {}
      },
      "source": [
        "!git init"
      ],
      "execution_count": 0,
      "outputs": [
        {
          "output_type": "stream",
          "text": [
            "Initialized empty Git repository in /Users/jeff/Documents/jigsaw/curriculum/1-section-content/mod-1/2-datatypes/a-fundamentals/91-git-and-github/5-github/.git/\n"
          ],
          "name": "stdout"
        }
      ]
    },
    {
      "cell_type": "code",
      "metadata": {
        "id": "RP4lpnGDTvFC",
        "colab_type": "code",
        "colab": {}
      },
      "source": [
        "!touch index.py"
      ],
      "execution_count": 0,
      "outputs": []
    },
    {
      "cell_type": "code",
      "metadata": {
        "id": "uLQEBHC0TvFE",
        "colab_type": "code",
        "outputId": "511d3c92-6793-40e9-c8bf-91249e3a1456",
        "colab": {}
      },
      "source": [
        "!git add index.py\n",
        "!git commit -m 'adding index'"
      ],
      "execution_count": 0,
      "outputs": [
        {
          "output_type": "stream",
          "text": [
            "[master (root-commit) 94dc85e] adding index\n",
            " 1 file changed, 0 insertions(+), 0 deletions(-)\n",
            " create mode 100644 index.py\n"
          ],
          "name": "stdout"
        }
      ]
    },
    {
      "cell_type": "code",
      "metadata": {
        "id": "EUCPp5f1TvFH",
        "colab_type": "code",
        "outputId": "85b879ca-37a7-4e5e-971b-4602db384e14",
        "colab": {}
      },
      "source": [
        "!git log"
      ],
      "execution_count": 0,
      "outputs": [
        {
          "output_type": "stream",
          "text": [
            "\u001b[33mcommit 94dc85e51465253ddcfc3f4192f520dbaae69f68\u001b[m\u001b[33m (\u001b[m\u001b[1;36mHEAD -> \u001b[m\u001b[1;32mmaster\u001b[m\u001b[33m)\u001b[m\n",
            "Author: Jeff Katz <JeffreyEricKatz@gmail.com>\n",
            "Date:   Wed Feb 5 18:17:53 2020 -0500\n",
            "\n",
            "    adding index\n"
          ],
          "name": "stdout"
        }
      ]
    },
    {
      "cell_type": "markdown",
      "metadata": {
        "id": "_inE4bz4TvFJ",
        "colab_type": "text"
      },
      "source": [
        "### Signing Up for Github"
      ]
    },
    {
      "cell_type": "markdown",
      "metadata": {
        "id": "v532a33XTvFJ",
        "colab_type": "text"
      },
      "source": [
        "If you haven't do so before, create a new github account by going to [github.com](https://github.com/)."
      ]
    },
    {
      "cell_type": "markdown",
      "metadata": {
        "id": "7SKOTgQbTvFK",
        "colab_type": "text"
      },
      "source": [
        "Next, if you have not set up a github account before, we will need to give your computer a password to add files to your github account.  The way to do this is to generate a random key -- called an ssh key, that is then stored on your computer, and also placed onto Github."
      ]
    },
    {
      "cell_type": "markdown",
      "metadata": {
        "id": "lPaBrQyCTvFK",
        "colab_type": "text"
      },
      "source": [
        "[Walkthrough the guide on adding ssh keys here](https://help.github.com/en/github/authenticating-to-github/checking-for-existing-ssh-keys)."
      ]
    },
    {
      "cell_type": "markdown",
      "metadata": {
        "id": "YOLGa-RSTvFL",
        "colab_type": "text"
      },
      "source": [
        "### Adding Code to Github"
      ]
    },
    {
      "cell_type": "markdown",
      "metadata": {
        "id": "GPmt3d_ITvFL",
        "colab_type": "text"
      },
      "source": [
        "Next, we want to create a new location where we will store our code.  We can create this by creating a new repository on Github."
      ]
    },
    {
      "cell_type": "markdown",
      "metadata": {
        "id": "vL4DTgmXTvFL",
        "colab_type": "text"
      },
      "source": [
        "<img src=\"https://github.com/jigsawlabs-student/mod-1-a-data-structures/blob/master/91-git-and-github/5-github/new-repo.png?raw=1\" width=\"50%\">"
      ]
    },
    {
      "cell_type": "markdown",
      "metadata": {
        "id": "QSs3WcZoTvFM",
        "colab_type": "text"
      },
      "source": [
        "Look for the `+` in the top right, and then click on `New repository`. "
      ]
    },
    {
      "cell_type": "markdown",
      "metadata": {
        "id": "uEql_o4eTvFM",
        "colab_type": "text"
      },
      "source": [
        "Then let's create a repository called `sample-repo`."
      ]
    },
    {
      "cell_type": "markdown",
      "metadata": {
        "id": "ejtBScgjTvFN",
        "colab_type": "text"
      },
      "source": [
        "<img src=\"https://github.com/jigsawlabs-student/mod-1-a-data-structures/blob/master/91-git-and-github/5-github/create-repo.png?raw=1\">"
      ]
    },
    {
      "cell_type": "markdown",
      "metadata": {
        "id": "Ynsv1ES-TvFN",
        "colab_type": "text"
      },
      "source": [
        "Click on the green `Create repository` button to create the new repository."
      ]
    },
    {
      "cell_type": "markdown",
      "metadata": {
        "id": "RwU9I9pQTvFO",
        "colab_type": "text"
      },
      "source": [
        "Then to connect your local code to the repository in the cloud, Github tells you to first add an origin, and then run `git push -u origin master`."
      ]
    },
    {
      "cell_type": "markdown",
      "metadata": {
        "id": "bKfBwlcYTvFO",
        "colab_type": "text"
      },
      "source": [
        "<img src=\"https://github.com/jigsawlabs-student/mod-1-a-data-structures/blob/master/91-git-and-github/5-github/repository.png?raw=1\">"
      ]
    },
    {
      "cell_type": "markdown",
      "metadata": {
        "id": "eVs4tvuCTvFO",
        "colab_type": "text"
      },
      "source": [
        "You should see your code on github."
      ]
    },
    {
      "cell_type": "markdown",
      "metadata": {
        "id": "oEF4kpsBTvFP",
        "colab_type": "text"
      },
      "source": [
        "### Summary"
      ]
    },
    {
      "cell_type": "code",
      "metadata": {
        "id": "uX7VStMnTvFP",
        "colab_type": "code",
        "colab": {}
      },
      "source": [
        ""
      ],
      "execution_count": 0,
      "outputs": []
    }
  ]
}