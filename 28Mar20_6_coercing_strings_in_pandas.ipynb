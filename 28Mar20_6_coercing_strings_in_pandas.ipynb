{
  "nbformat": 4,
  "nbformat_minor": 0,
  "metadata": {
    "kernelspec": {
      "display_name": "Python 3",
      "language": "python",
      "name": "python3"
    },
    "language_info": {
      "codemirror_mode": {
        "name": "ipython",
        "version": 3
      },
      "file_extension": ".py",
      "mimetype": "text/x-python",
      "name": "python",
      "nbconvert_exporter": "python",
      "pygments_lexer": "ipython3",
      "version": "3.7.4"
    },
    "colab": {
      "name": "Copy of 6-coercing-strings-in-pandas.ipynb",
      "provenance": [],
      "include_colab_link": true
    }
  },
  "cells": [
    {
      "cell_type": "markdown",
      "metadata": {
        "id": "view-in-github",
        "colab_type": "text"
      },
      "source": [
        "<a href=\"https://colab.research.google.com/github/ludawg44/jigsawlabs/blob/master/28Mar20_6_coercing_strings_in_pandas.ipynb\" target=\"_parent\"><img src=\"https://colab.research.google.com/assets/colab-badge.svg\" alt=\"Open In Colab\"/></a>"
      ]
    },
    {
      "cell_type": "markdown",
      "metadata": {
        "id": "q1aQyq_Vef4U",
        "colab_type": "text"
      },
      "source": [
        "# Coercing Strings in Pandas"
      ]
    },
    {
      "cell_type": "markdown",
      "metadata": {
        "id": "eI5s3SGKef4V",
        "colab_type": "text"
      },
      "source": [
        "### Introduction"
      ]
    },
    {
      "cell_type": "markdown",
      "metadata": {
        "id": "lSeY14J5ef4V",
        "colab_type": "text"
      },
      "source": [
        "Now so far, we have seen how to coerce data by modifying the datatype with `astype`, by removing missing data, and by coercing data with the `map` function.  In this lesson, we will see some techniques for working with string data in pandas."
      ]
    },
    {
      "cell_type": "markdown",
      "metadata": {
        "id": "hyn3A_Z6ef4W",
        "colab_type": "text"
      },
      "source": [
        "### Working with Strings"
      ]
    },
    {
      "cell_type": "markdown",
      "metadata": {
        "id": "svXG9Ypwef4W",
        "colab_type": "text"
      },
      "source": [
        "Let's use pandas to scrape some data from ESPN about the roster of the Houston Rockets."
      ]
    },
    {
      "cell_type": "code",
      "metadata": {
        "id": "8I9XZmlDef4X",
        "colab_type": "code",
        "colab": {}
      },
      "source": [
        "import pandas as pd\n",
        "hou_dfs = pd.read_html(\"https://www.espn.com/nba/team/roster/_/name/hou\")"
      ],
      "execution_count": 0,
      "outputs": []
    },
    {
      "cell_type": "code",
      "metadata": {
        "id": "CtTqBVoIef4b",
        "colab_type": "code",
        "colab": {}
      },
      "source": [
        "hou_df = hou_dfs[-1].loc[:, 'Name':]"
      ],
      "execution_count": 0,
      "outputs": []
    },
    {
      "cell_type": "code",
      "metadata": {
        "id": "TVrgjdyLef4d",
        "colab_type": "code",
        "outputId": "1c927a28-7061-440b-b8bc-3b1590cb76de",
        "colab": {
          "base_uri": "https://localhost:8080/",
          "height": 142
        }
      },
      "source": [
        "hou_df[:3]"
      ],
      "execution_count": 0,
      "outputs": [
        {
          "output_type": "execute_result",
          "data": {
            "text/html": [
              "<div>\n",
              "<style scoped>\n",
              "    .dataframe tbody tr th:only-of-type {\n",
              "        vertical-align: middle;\n",
              "    }\n",
              "\n",
              "    .dataframe tbody tr th {\n",
              "        vertical-align: top;\n",
              "    }\n",
              "\n",
              "    .dataframe thead th {\n",
              "        text-align: right;\n",
              "    }\n",
              "</style>\n",
              "<table border=\"1\" class=\"dataframe\">\n",
              "  <thead>\n",
              "    <tr style=\"text-align: right;\">\n",
              "      <th></th>\n",
              "      <th>Name</th>\n",
              "      <th>POS</th>\n",
              "      <th>Age</th>\n",
              "      <th>HT</th>\n",
              "      <th>WT</th>\n",
              "      <th>College</th>\n",
              "      <th>Salary</th>\n",
              "    </tr>\n",
              "  </thead>\n",
              "  <tbody>\n",
              "    <tr>\n",
              "      <th>0</th>\n",
              "      <td>Bruno Caboclo5</td>\n",
              "      <td>SF</td>\n",
              "      <td>24</td>\n",
              "      <td>6' 9\"</td>\n",
              "      <td>218 lbs</td>\n",
              "      <td>--</td>\n",
              "      <td>$1,845,301</td>\n",
              "    </tr>\n",
              "    <tr>\n",
              "      <th>1</th>\n",
              "      <td>DeMarre Carroll9</td>\n",
              "      <td>SF</td>\n",
              "      <td>33</td>\n",
              "      <td>6' 6\"</td>\n",
              "      <td>215 lbs</td>\n",
              "      <td>Missouri</td>\n",
              "      <td>$512,721</td>\n",
              "    </tr>\n",
              "    <tr>\n",
              "      <th>2</th>\n",
              "      <td>Tyson Chandler19</td>\n",
              "      <td>C</td>\n",
              "      <td>37</td>\n",
              "      <td>7' 0\"</td>\n",
              "      <td>235 lbs</td>\n",
              "      <td>--</td>\n",
              "      <td>$1,620,564</td>\n",
              "    </tr>\n",
              "  </tbody>\n",
              "</table>\n",
              "</div>"
            ],
            "text/plain": [
              "               Name POS  Age     HT       WT   College      Salary\n",
              "0    Bruno Caboclo5  SF   24  6' 9\"  218 lbs        --  $1,845,301\n",
              "1  DeMarre Carroll9  SF   33  6' 6\"  215 lbs  Missouri    $512,721\n",
              "2  Tyson Chandler19   C   37  7' 0\"  235 lbs        --  $1,620,564"
            ]
          },
          "metadata": {
            "tags": []
          },
          "execution_count": 3
        }
      ]
    },
    {
      "cell_type": "markdown",
      "metadata": {
        "id": "2m1q4Se7ef4h",
        "colab_type": "text"
      },
      "source": [
        "Now let's look to see what datatypes we have."
      ]
    },
    {
      "cell_type": "code",
      "metadata": {
        "id": "fKCO6nWcef4h",
        "colab_type": "code",
        "outputId": "cd60f377-ec8a-4396-806f-302e9e2c10f7",
        "colab": {}
      },
      "source": [
        "hou_df.dtypes"
      ],
      "execution_count": 0,
      "outputs": [
        {
          "output_type": "execute_result",
          "data": {
            "text/plain": [
              "Name       object\n",
              "POS        object\n",
              "Age         int64\n",
              "HT         object\n",
              "WT         object\n",
              "College    object\n",
              "Salary     object\n",
              "dtype: object"
            ]
          },
          "metadata": {
            "tags": []
          },
          "execution_count": 13
        }
      ]
    },
    {
      "cell_type": "markdown",
      "metadata": {
        "id": "8nmJQKHcef4j",
        "colab_type": "text"
      },
      "source": [
        "In the data above, all of the columns except for age are of type of object, but many of them, height, weight, and salary could be converted into numbers."
      ]
    },
    {
      "cell_type": "markdown",
      "metadata": {
        "id": "2UzxqVaIef4k",
        "colab_type": "text"
      },
      "source": [
        "In addition, we also see that each player's name has a number at the of it, likely the player's number. "
      ]
    },
    {
      "cell_type": "markdown",
      "metadata": {
        "id": "YhkgkPy-ef4k",
        "colab_type": "text"
      },
      "source": [
        "### Cleaning Data"
      ]
    },
    {
      "cell_type": "markdown",
      "metadata": {
        "id": "I9S15SDBef4l",
        "colab_type": "text"
      },
      "source": [
        "Let's start by trying to turn the weight column into a number.  We cannot just use `pd.to_numeric` here, because of the `lb` characters at the end.  Luckily for us, the `pandas.str` methods can quickly help us clean up this data."
      ]
    },
    {
      "cell_type": "markdown",
      "metadata": {
        "id": "m6Gu8zuaef4l",
        "colab_type": "text"
      },
      "source": [
        "We can access the string methods by going to any series of type `object` and then typing str."
      ]
    },
    {
      "cell_type": "code",
      "metadata": {
        "id": "WQO22deSef4m",
        "colab_type": "code",
        "outputId": "28de92b3-cb61-49d5-982b-bfc5ea81ac14",
        "colab": {}
      },
      "source": [
        "hou_df['WT'].str."
      ],
      "execution_count": 0,
      "outputs": [
        {
          "output_type": "execute_result",
          "data": {
            "text/plain": [
              "<pandas.core.strings.StringMethods at 0x121ea8450>"
            ]
          },
          "metadata": {
            "tags": []
          },
          "execution_count": 18
        }
      ]
    },
    {
      "cell_type": "markdown",
      "metadata": {
        "id": "aMFRDOssef4p",
        "colab_type": "text"
      },
      "source": [
        "From here, we can simply use tab completion to see a list of methods, or we can browse the [pandas documentation](https://pandas.pydata.org/pandas-docs/stable/user_guide/text.html)."
      ]
    },
    {
      "cell_type": "markdown",
      "metadata": {
        "id": "ZUYcgdWfef4p",
        "colab_type": "text"
      },
      "source": [
        "Now there are a couple of ways that we can clean up this particular series.  The first is to simply slice all but the last three characters, as those are non-numeric."
      ]
    },
    {
      "cell_type": "code",
      "metadata": {
        "id": "zBs1XRmYef4p",
        "colab_type": "code",
        "outputId": "a3f51ce4-dea5-4d7a-e255-8175e77a7020",
        "colab": {}
      },
      "source": [
        "hou_df['WT'][:2]"
      ],
      "execution_count": 0,
      "outputs": [
        {
          "output_type": "execute_result",
          "data": {
            "text/plain": [
              "0    218 lbs\n",
              "1    215 lbs\n",
              "Name: WT, dtype: object"
            ]
          },
          "metadata": {
            "tags": []
          },
          "execution_count": 22
        }
      ]
    },
    {
      "cell_type": "code",
      "metadata": {
        "id": "bBDR-LE-ef4s",
        "colab_type": "code",
        "outputId": "dc531380-8131-46ac-b4c2-805334fd5fce",
        "colab": {}
      },
      "source": [
        "all_but_last_three = hou_df['WT'].str[:-3]\n",
        "all_but_last_three[:4]"
      ],
      "execution_count": 0,
      "outputs": [
        {
          "output_type": "execute_result",
          "data": {
            "text/plain": [
              "0    218 \n",
              "1    215 \n",
              "2    235 \n",
              "3    180 \n",
              "Name: WT, dtype: object"
            ]
          },
          "metadata": {
            "tags": []
          },
          "execution_count": 26
        }
      ]
    },
    {
      "cell_type": "markdown",
      "metadata": {
        "id": "rMezqIFtef4u",
        "colab_type": "text"
      },
      "source": [
        "Or, we could use replace, to replace ` lbs` with an empty string."
      ]
    },
    {
      "cell_type": "code",
      "metadata": {
        "id": "LdI7-Iylef4v",
        "colab_type": "code",
        "outputId": "c6782a1a-25dc-4244-f164-073e8f75b26b",
        "colab": {}
      },
      "source": [
        "replaced = hou_df['WT'].str.replace(' lbs', '')\n",
        "replaced[:2]"
      ],
      "execution_count": 0,
      "outputs": [
        {
          "output_type": "execute_result",
          "data": {
            "text/plain": [
              "0    218\n",
              "1    215\n",
              "Name: WT, dtype: object"
            ]
          },
          "metadata": {
            "tags": []
          },
          "execution_count": 28
        }
      ]
    },
    {
      "cell_type": "markdown",
      "metadata": {
        "id": "kDLgvzW1ef4x",
        "colab_type": "text"
      },
      "source": [
        "Another useful method is the `split` method, let's try using that, splitting on the space."
      ]
    },
    {
      "cell_type": "code",
      "metadata": {
        "id": "lQwIlUSref4x",
        "colab_type": "code",
        "outputId": "39ed1684-89c5-4849-e8d9-24535a3b26d8",
        "colab": {}
      },
      "source": [
        "split_wt = hou_df['WT'].str.split()\n",
        "split_wt[:3]"
      ],
      "execution_count": 0,
      "outputs": [
        {
          "output_type": "execute_result",
          "data": {
            "text/plain": [
              "0    [218, lbs]\n",
              "1    [215, lbs]\n",
              "2    [235, lbs]\n",
              "Name: WT, dtype: object"
            ]
          },
          "metadata": {
            "tags": []
          },
          "execution_count": 43
        }
      ]
    },
    {
      "cell_type": "markdown",
      "metadata": {
        "id": "EAygj7E_ef40",
        "colab_type": "text"
      },
      "source": [
        "And from there, can use map to select the last element from each item."
      ]
    },
    {
      "cell_type": "code",
      "metadata": {
        "id": "x130i1Lief41",
        "colab_type": "code",
        "outputId": "b43fb3e8-f04c-4715-9e3f-69682304a1d4",
        "colab": {}
      },
      "source": [
        "wts = split_wt.map(lambda x: x[0])\n",
        "wts[:3]"
      ],
      "execution_count": 0,
      "outputs": [
        {
          "output_type": "execute_result",
          "data": {
            "text/plain": [
              "0    218\n",
              "1    215\n",
              "2    235\n",
              "Name: WT, dtype: object"
            ]
          },
          "metadata": {
            "tags": []
          },
          "execution_count": 45
        }
      ]
    },
    {
      "cell_type": "markdown",
      "metadata": {
        "id": "SUYye-OZef43",
        "colab_type": "text"
      },
      "source": [
        "### Summary"
      ]
    },
    {
      "cell_type": "markdown",
      "metadata": {
        "id": "_dYhVhWZef43",
        "colab_type": "text"
      },
      "source": [
        "In this lesson we saw that we can access string methods by accessing a series of type object and then typing `.str`.  From there, we saw that we can `slice` our strings, use the `split` method, or use the `replace` method to modify our data.\n",
        "\n",
        "This will. help convert data to numbers in the future."
      ]
    },
    {
      "cell_type": "markdown",
      "metadata": {
        "id": "SS-JSeisef43",
        "colab_type": "text"
      },
      "source": [
        "### Resources\n",
        "\n",
        "[pandas string methods](https://pandas.pydata.org/pandas-docs/stable/user_guide/text.html)"
      ]
    },
    {
      "cell_type": "code",
      "metadata": {
        "id": "pVwgMcvBef44",
        "colab_type": "code",
        "outputId": "93236734-b228-4e80-ff2f-ce8b19564996",
        "colab": {}
      },
      "source": [
        "hou_df['WT'].str.extract(r'(\\d*)', expand=False)"
      ],
      "execution_count": 0,
      "outputs": [
        {
          "output_type": "execute_result",
          "data": {
            "text/plain": [
              "0     218\n",
              "1     215\n",
              "2     235\n",
              "3     180\n",
              "4     209\n",
              "5     200\n",
              "6     215\n",
              "7     235\n",
              "8     220\n",
              "9     250\n",
              "10    220\n",
              "11    207\n",
              "12    195\n",
              "13    200\n",
              "14    215\n",
              "15    245\n",
              "16    200\n",
              "Name: WT, dtype: object"
            ]
          },
          "metadata": {
            "tags": []
          },
          "execution_count": 52
        }
      ]
    },
    {
      "cell_type": "code",
      "metadata": {
        "id": "y71ushyYef46",
        "colab_type": "code",
        "colab": {}
      },
      "source": [
        ""
      ],
      "execution_count": 0,
      "outputs": []
    }
  ]
}