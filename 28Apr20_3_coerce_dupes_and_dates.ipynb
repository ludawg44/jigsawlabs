{
  "nbformat": 4,
  "nbformat_minor": 0,
  "metadata": {
    "kernelspec": {
      "display_name": "Python 3",
      "language": "python",
      "name": "python3"
    },
    "language_info": {
      "codemirror_mode": {
        "name": "ipython",
        "version": 3
      },
      "file_extension": ".py",
      "mimetype": "text/x-python",
      "name": "python",
      "nbconvert_exporter": "python",
      "pygments_lexer": "ipython3",
      "version": "3.7.4"
    },
    "colab": {
      "name": "Copy of 3-coerce-dupes-and-dates.ipynb",
      "provenance": [],
      "include_colab_link": true
    }
  },
  "cells": [
    {
      "cell_type": "markdown",
      "metadata": {
        "id": "view-in-github",
        "colab_type": "text"
      },
      "source": [
        "<a href=\"https://colab.research.google.com/github/ludawg44/jigsawlabs/blob/master/28Apr20_3_coerce_dupes_and_dates.ipynb\" target=\"_parent\"><img src=\"https://colab.research.google.com/assets/colab-badge.svg\" alt=\"Open In Colab\"/></a>"
      ]
    },
    {
      "cell_type": "markdown",
      "metadata": {
        "id": "4VZkTL-m9yI-",
        "colab_type": "text"
      },
      "source": [
        "# Identify DataTypes"
      ]
    },
    {
      "cell_type": "markdown",
      "metadata": {
        "id": "CudEQ6Qr9yI_",
        "colab_type": "text"
      },
      "source": [
        "### Introduction"
      ]
    },
    {
      "cell_type": "markdown",
      "metadata": {
        "id": "z0Njg8Q69yI_",
        "colab_type": "text"
      },
      "source": [
        "We now have the task of working with the rest of our training data.  Now, when working with so many columns it's often difficult to know where to begin.  Our general technique will be to capture as much of our data as possible, and then feed it into our model to get some feedback on the model performance and feature importances.  \n",
        "\n",
        "To do that, to capture as much data as possible, we effectively have to coerce as many columns as possible into a number.  We can accomplish this in stages, working with the data that is easiest to coerce first. Let's get started."
      ]
    },
    {
      "cell_type": "markdown",
      "metadata": {
        "id": "hXQ12Ou-9yJA",
        "colab_type": "text"
      },
      "source": [
        "### Sizing it Up"
      ]
    },
    {
      "cell_type": "markdown",
      "metadata": {
        "id": "vLXuCvb99yJB",
        "colab_type": "text"
      },
      "source": [
        "> You can find this dataset [here](https://github.com/jigsawlabs-student/engineering-large-datasets/blob/master/X_train_listings.feather).  You need to download by clicking *view raw*, and then upload to your colab notebook."
      ]
    },
    {
      "cell_type": "code",
      "metadata": {
        "id": "rw9WxEqA9yJB",
        "colab_type": "code",
        "colab": {}
      },
      "source": [
        "import pandas as pd \n",
        "\n",
        "X_train_df = pd.read_csv('https://raw.githubusercontent.com/jigsawlabs-student/engineering-large-datasets/master/price_listings_ten_k.csv', index_col = 0)"
      ],
      "execution_count": 0,
      "outputs": []
    },
    {
      "cell_type": "markdown",
      "metadata": {
        "id": "8bM6D_Ea9yJE",
        "colab_type": "text"
      },
      "source": [
        "Let's start by reducing our problem.  We have 96 columns to work through with our Airbnb data, but some of them are unnecessary.  The only columns that we can be confident truly add no benefit are those where each value in the column is identical.  "
      ]
    },
    {
      "cell_type": "code",
      "metadata": {
        "id": "pGnyZe6o9yJF",
        "colab_type": "code",
        "colab": {}
      },
      "source": [
        "def find_all_same(df):\n",
        "    return [col for col in df.columns if len(df[col].unique()) == 1]"
      ],
      "execution_count": 0,
      "outputs": []
    },
    {
      "cell_type": "code",
      "metadata": {
        "id": "hPrkYjeS9yJH",
        "colab_type": "code",
        "outputId": "f85b9283-3e23-4134-c0c1-dddf3bd9e05c",
        "colab": {
          "base_uri": "https://localhost:8080/",
          "height": 204
        }
      },
      "source": [
        "same_cols = find_all_same(X_train_df)\n",
        "\n",
        "same_cols"
      ],
      "execution_count": 0,
      "outputs": [
        {
          "output_type": "execute_result",
          "data": {
            "text/plain": [
              "['scrape_id',\n",
              " 'experiences_offered',\n",
              " 'thumbnail_url',\n",
              " 'medium_url',\n",
              " 'xl_picture_url',\n",
              " 'host_acceptance_rate',\n",
              " 'country_code',\n",
              " 'country',\n",
              " 'has_availability',\n",
              " 'jurisdiction_names',\n",
              " 'is_business_travel_ready']"
            ]
          },
          "metadata": {
            "tags": []
          },
          "execution_count": 7
        }
      ]
    },
    {
      "cell_type": "markdown",
      "metadata": {
        "id": "1aiEEOeU9yJK",
        "colab_type": "text"
      },
      "source": [
        "Let's confirm we did this correctly and take a look."
      ]
    },
    {
      "cell_type": "code",
      "metadata": {
        "id": "3xwYHmPw9yJL",
        "colab_type": "code",
        "outputId": "45375415-eb1a-4d2c-f0db-6ec236c359c1",
        "colab": {
          "base_uri": "https://localhost:8080/",
          "height": 131
        }
      },
      "source": [
        "X_train_df[same_cols][:2]"
      ],
      "execution_count": 0,
      "outputs": [
        {
          "output_type": "execute_result",
          "data": {
            "text/html": [
              "<div>\n",
              "<style scoped>\n",
              "    .dataframe tbody tr th:only-of-type {\n",
              "        vertical-align: middle;\n",
              "    }\n",
              "\n",
              "    .dataframe tbody tr th {\n",
              "        vertical-align: top;\n",
              "    }\n",
              "\n",
              "    .dataframe thead th {\n",
              "        text-align: right;\n",
              "    }\n",
              "</style>\n",
              "<table border=\"1\" class=\"dataframe\">\n",
              "  <thead>\n",
              "    <tr style=\"text-align: right;\">\n",
              "      <th></th>\n",
              "      <th>scrape_id</th>\n",
              "      <th>experiences_offered</th>\n",
              "      <th>thumbnail_url</th>\n",
              "      <th>medium_url</th>\n",
              "      <th>xl_picture_url</th>\n",
              "      <th>host_acceptance_rate</th>\n",
              "      <th>country_code</th>\n",
              "      <th>country</th>\n",
              "      <th>has_availability</th>\n",
              "      <th>jurisdiction_names</th>\n",
              "      <th>is_business_travel_ready</th>\n",
              "    </tr>\n",
              "  </thead>\n",
              "  <tbody>\n",
              "    <tr>\n",
              "      <th>0</th>\n",
              "      <td>2.018111e+13</td>\n",
              "      <td>none</td>\n",
              "      <td>NaN</td>\n",
              "      <td>NaN</td>\n",
              "      <td>NaN</td>\n",
              "      <td>NaN</td>\n",
              "      <td>DE</td>\n",
              "      <td>Germany</td>\n",
              "      <td>t</td>\n",
              "      <td>NaN</td>\n",
              "      <td>f</td>\n",
              "    </tr>\n",
              "    <tr>\n",
              "      <th>1</th>\n",
              "      <td>2.018111e+13</td>\n",
              "      <td>none</td>\n",
              "      <td>NaN</td>\n",
              "      <td>NaN</td>\n",
              "      <td>NaN</td>\n",
              "      <td>NaN</td>\n",
              "      <td>DE</td>\n",
              "      <td>Germany</td>\n",
              "      <td>t</td>\n",
              "      <td>NaN</td>\n",
              "      <td>f</td>\n",
              "    </tr>\n",
              "  </tbody>\n",
              "</table>\n",
              "</div>"
            ],
            "text/plain": [
              "      scrape_id  ... is_business_travel_ready\n",
              "0  2.018111e+13  ...                        f\n",
              "1  2.018111e+13  ...                        f\n",
              "\n",
              "[2 rows x 11 columns]"
            ]
          },
          "metadata": {
            "tags": []
          },
          "execution_count": 8
        }
      ]
    },
    {
      "cell_type": "markdown",
      "metadata": {
        "id": "EaKQVcZR9yJN",
        "colab_type": "text"
      },
      "source": [
        "Ok great, let's get rid of this column."
      ]
    },
    {
      "cell_type": "code",
      "metadata": {
        "id": "80XljN0J9yJO",
        "colab_type": "code",
        "colab": {}
      },
      "source": [
        "X_train_df_var = X_train_df.drop(columns = same_cols)"
      ],
      "execution_count": 0,
      "outputs": []
    },
    {
      "cell_type": "code",
      "metadata": {
        "id": "HabVsBQ99yJR",
        "colab_type": "code",
        "outputId": "fc8a579e-0d91-48a9-c1ea-83d7005be037",
        "colab": {}
      },
      "source": [
        "X_train_df_var.shape"
      ],
      "execution_count": 0,
      "outputs": [
        {
          "output_type": "execute_result",
          "data": {
            "text/plain": [
              "(8000, 83)"
            ]
          },
          "metadata": {
            "tags": []
          },
          "execution_count": 118
        }
      ]
    },
    {
      "cell_type": "markdown",
      "metadata": {
        "id": "MiKIs-LM9yJT",
        "colab_type": "text"
      },
      "source": [
        "So right off the bat, we got rid of some columns.  Now let's further reduce our problem by finding those columns that are of type object.  These will be the ones that we'll need to work on coercing."
      ]
    },
    {
      "cell_type": "code",
      "metadata": {
        "id": "xmxK4Neu9yJU",
        "colab_type": "code",
        "colab": {}
      },
      "source": [
        "X_train_object_df = X_train_df_var.select_dtypes(include = 'object')"
      ],
      "execution_count": 0,
      "outputs": []
    },
    {
      "cell_type": "code",
      "metadata": {
        "id": "GqtQiSVI9yJW",
        "colab_type": "code",
        "outputId": "30c28df6-8f86-4185-858e-2047736f337b",
        "colab": {
          "base_uri": "https://localhost:8080/",
          "height": 34
        }
      },
      "source": [
        "X_train_object_df.shape"
      ],
      "execution_count": 0,
      "outputs": [
        {
          "output_type": "execute_result",
          "data": {
            "text/plain": [
              "(8000, 54)"
            ]
          },
          "metadata": {
            "tags": []
          },
          "execution_count": 11
        }
      ]
    },
    {
      "cell_type": "markdown",
      "metadata": {
        "id": "IdYJzeVL9yJY",
        "colab_type": "text"
      },
      "source": [
        "So we see that there are 29 columns that we can effectively use and 56 that we cannot use."
      ]
    },
    {
      "cell_type": "markdown",
      "metadata": {
        "id": "3JS_XMUa9yJZ",
        "colab_type": "text"
      },
      "source": [
        "### Coerce To DateTimes"
      ]
    },
    {
      "cell_type": "markdown",
      "metadata": {
        "id": "7JID4meR9yJZ",
        "colab_type": "text"
      },
      "source": [
        "Now let's identify and coerce our date columns.  We first use our method to identify the date columns."
      ]
    },
    {
      "cell_type": "code",
      "metadata": {
        "id": "CRcLddAM9yJZ",
        "colab_type": "code",
        "colab": {}
      },
      "source": [
        "def contains_date(column):\n",
        "#     remove nas first, potentially use all\n",
        "    regex_string = (r'^\\d{1,2}-\\d{1,2}-\\d{4}$|^\\d{4}-\\d{1,2}-\\d{1,2}$' + \n",
        "'|^\\d{1,2}\\/\\d{1,2}\\/\\d{4}$|^\\d{4}\\/\\d{1,2}\\/\\d{1,2}$')\n",
        "    return column.str.contains(regex_string).any()"
      ],
      "execution_count": 0,
      "outputs": []
    },
    {
      "cell_type": "code",
      "metadata": {
        "id": "KNnbtnzv9yJc",
        "colab_type": "code",
        "colab": {}
      },
      "source": [
        "potential_date_cols = [col for col in X_train_object_df.columns if contains_date(X_train_object_df[col])]"
      ],
      "execution_count": 0,
      "outputs": []
    },
    {
      "cell_type": "code",
      "metadata": {
        "id": "pLW6cop19yJe",
        "colab_type": "code",
        "outputId": "70efa197-9da3-4e50-8cb9-b3a0ab8b2087",
        "colab": {
          "base_uri": "https://localhost:8080/",
          "height": 102
        }
      },
      "source": [
        "potential_date_cols"
      ],
      "execution_count": 0,
      "outputs": [
        {
          "output_type": "execute_result",
          "data": {
            "text/plain": [
              "['last_scraped',\n",
              " 'host_since',\n",
              " 'calendar_last_scraped',\n",
              " 'first_review',\n",
              " 'last_review']"
            ]
          },
          "metadata": {
            "tags": []
          },
          "execution_count": 14
        }
      ]
    },
    {
      "cell_type": "markdown",
      "metadata": {
        "id": "-6mtwutI9yJg",
        "colab_type": "text"
      },
      "source": [
        "Then we take a look."
      ]
    },
    {
      "cell_type": "code",
      "metadata": {
        "id": "k8pxMqDJ9yJh",
        "colab_type": "code",
        "outputId": "778ec7f8-a3e7-401a-e6b4-c229e9835708",
        "colab": {
          "base_uri": "https://localhost:8080/",
          "height": 111
        }
      },
      "source": [
        "almost_date_df = X_train_object_df[potential_date_cols]\n",
        "almost_date_df[:2]"
      ],
      "execution_count": 0,
      "outputs": [
        {
          "output_type": "execute_result",
          "data": {
            "text/html": [
              "<div>\n",
              "<style scoped>\n",
              "    .dataframe tbody tr th:only-of-type {\n",
              "        vertical-align: middle;\n",
              "    }\n",
              "\n",
              "    .dataframe tbody tr th {\n",
              "        vertical-align: top;\n",
              "    }\n",
              "\n",
              "    .dataframe thead th {\n",
              "        text-align: right;\n",
              "    }\n",
              "</style>\n",
              "<table border=\"1\" class=\"dataframe\">\n",
              "  <thead>\n",
              "    <tr style=\"text-align: right;\">\n",
              "      <th></th>\n",
              "      <th>last_scraped</th>\n",
              "      <th>host_since</th>\n",
              "      <th>calendar_last_scraped</th>\n",
              "      <th>first_review</th>\n",
              "      <th>last_review</th>\n",
              "    </tr>\n",
              "  </thead>\n",
              "  <tbody>\n",
              "    <tr>\n",
              "      <th>0</th>\n",
              "      <td>2018-11-07</td>\n",
              "      <td>2008-08-18</td>\n",
              "      <td>2018-11-07</td>\n",
              "      <td>2016-04-11</td>\n",
              "      <td>2018-10-28</td>\n",
              "    </tr>\n",
              "    <tr>\n",
              "      <th>1</th>\n",
              "      <td>2018-11-07</td>\n",
              "      <td>2008-09-16</td>\n",
              "      <td>2018-11-07</td>\n",
              "      <td>2018-07-04</td>\n",
              "      <td>2018-10-01</td>\n",
              "    </tr>\n",
              "  </tbody>\n",
              "</table>\n",
              "</div>"
            ],
            "text/plain": [
              "  last_scraped  host_since calendar_last_scraped first_review last_review\n",
              "0   2018-11-07  2008-08-18            2018-11-07   2016-04-11  2018-10-28\n",
              "1   2018-11-07  2008-09-16            2018-11-07   2018-07-04  2018-10-01"
            ]
          },
          "metadata": {
            "tags": []
          },
          "execution_count": 16
        }
      ]
    },
    {
      "cell_type": "markdown",
      "metadata": {
        "id": "aMjrwsPy9yJj",
        "colab_type": "text"
      },
      "source": [
        "We have identified five columns that we can set as datetimes.  Let's do so."
      ]
    },
    {
      "cell_type": "code",
      "metadata": {
        "id": "rt1nCZNV9yJj",
        "colab_type": "code",
        "outputId": "1d6ac842-ea06-4618-dc11-07fc0b89bb67",
        "colab": {
          "base_uri": "https://localhost:8080/",
          "height": 142
        }
      },
      "source": [
        "\n",
        "date_df = almost_date_df.apply(lambda col: pd.to_datetime(col, errors = 'coerce'))\n",
        "date_df[:3]"
      ],
      "execution_count": 0,
      "outputs": [
        {
          "output_type": "execute_result",
          "data": {
            "text/html": [
              "<div>\n",
              "<style scoped>\n",
              "    .dataframe tbody tr th:only-of-type {\n",
              "        vertical-align: middle;\n",
              "    }\n",
              "\n",
              "    .dataframe tbody tr th {\n",
              "        vertical-align: top;\n",
              "    }\n",
              "\n",
              "    .dataframe thead th {\n",
              "        text-align: right;\n",
              "    }\n",
              "</style>\n",
              "<table border=\"1\" class=\"dataframe\">\n",
              "  <thead>\n",
              "    <tr style=\"text-align: right;\">\n",
              "      <th></th>\n",
              "      <th>last_scraped</th>\n",
              "      <th>host_since</th>\n",
              "      <th>calendar_last_scraped</th>\n",
              "      <th>first_review</th>\n",
              "      <th>last_review</th>\n",
              "    </tr>\n",
              "  </thead>\n",
              "  <tbody>\n",
              "    <tr>\n",
              "      <th>0</th>\n",
              "      <td>2018-11-07</td>\n",
              "      <td>2008-08-18</td>\n",
              "      <td>2018-11-07</td>\n",
              "      <td>2016-04-11</td>\n",
              "      <td>2018-10-28</td>\n",
              "    </tr>\n",
              "    <tr>\n",
              "      <th>1</th>\n",
              "      <td>2018-11-07</td>\n",
              "      <td>2008-09-16</td>\n",
              "      <td>2018-11-07</td>\n",
              "      <td>2018-07-04</td>\n",
              "      <td>2018-10-01</td>\n",
              "    </tr>\n",
              "    <tr>\n",
              "      <th>2</th>\n",
              "      <td>2018-11-07</td>\n",
              "      <td>2008-10-19</td>\n",
              "      <td>2018-11-07</td>\n",
              "      <td>2009-06-20</td>\n",
              "      <td>2017-03-20</td>\n",
              "    </tr>\n",
              "  </tbody>\n",
              "</table>\n",
              "</div>"
            ],
            "text/plain": [
              "  last_scraped host_since calendar_last_scraped first_review last_review\n",
              "0   2018-11-07 2008-08-18            2018-11-07   2016-04-11  2018-10-28\n",
              "1   2018-11-07 2008-09-16            2018-11-07   2018-07-04  2018-10-01\n",
              "2   2018-11-07 2008-10-19            2018-11-07   2009-06-20  2017-03-20"
            ]
          },
          "metadata": {
            "tags": []
          },
          "execution_count": 17
        }
      ]
    },
    {
      "cell_type": "markdown",
      "metadata": {
        "id": "xydc6L4A9yJl",
        "colab_type": "text"
      },
      "source": [
        "Now we can replace our original dataframe with these columns."
      ]
    },
    {
      "cell_type": "code",
      "metadata": {
        "id": "2aQCVtNG9yJl",
        "colab_type": "code",
        "colab": {}
      },
      "source": [
        "X_train_df_var.loc[:, date_df.columns] = date_df"
      ],
      "execution_count": 0,
      "outputs": []
    },
    {
      "cell_type": "markdown",
      "metadata": {
        "id": "aViucmfJ9yJo",
        "colab_type": "text"
      },
      "source": [
        "So we can see that we just coerced five more columns."
      ]
    },
    {
      "cell_type": "code",
      "metadata": {
        "id": "DvdOVLR99yJo",
        "colab_type": "code",
        "outputId": "4b6b1f4e-4ef0-4299-fc44-fe4cd7f044b1",
        "colab": {
          "base_uri": "https://localhost:8080/",
          "height": 34
        }
      },
      "source": [
        "X_train_df_var.select_dtypes(include = 'object').shape"
      ],
      "execution_count": 0,
      "outputs": [
        {
          "output_type": "execute_result",
          "data": {
            "text/plain": [
              "(8000, 49)"
            ]
          },
          "metadata": {
            "tags": []
          },
          "execution_count": 19
        }
      ]
    },
    {
      "cell_type": "markdown",
      "metadata": {
        "id": "egi_m6_19yJs",
        "colab_type": "text"
      },
      "source": [
        "So we just finished with coercing to dates.  It wasn't so bad.  We just needed to identify the datecolumns, and pass a datatype dictionary to the `astype` method."
      ]
    },
    {
      "cell_type": "markdown",
      "metadata": {
        "id": "jy8q7N669yJt",
        "colab_type": "text"
      },
      "source": [
        "### Coercing Numbers"
      ]
    },
    {
      "cell_type": "markdown",
      "metadata": {
        "id": "i3GXBvpg9yJt",
        "colab_type": "text"
      },
      "source": [
        "Let's move onto seeing if there are any columns that we can convert to numbers.  We start off in a similar way as before.  We again select the columns that are of type object, and then see which of those appear to contain numbers."
      ]
    },
    {
      "cell_type": "code",
      "metadata": {
        "id": "4lM0P-JQ9yJu",
        "colab_type": "code",
        "colab": {}
      },
      "source": [
        "X_train_object_df = X_train_df_var.select_dtypes(include = 'object')"
      ],
      "execution_count": 0,
      "outputs": []
    },
    {
      "cell_type": "markdown",
      "metadata": {
        "id": "iVd10u-W9yJw",
        "colab_type": "text"
      },
      "source": [
        "> Now that we narrowed down to object columns, we can see which ones contain numbers."
      ]
    },
    {
      "cell_type": "markdown",
      "metadata": {
        "id": "GfUc2NDT9yJw",
        "colab_type": "text"
      },
      "source": [
        "To do so, we have a function that looks through a column and determines if there are any numbers."
      ]
    },
    {
      "cell_type": "code",
      "metadata": {
        "id": "J27cfdmX9yJx",
        "colab_type": "code",
        "colab": {}
      },
      "source": [
        "def contains_numbers(column):\n",
        "    # matches price or percentage     \n",
        "    regex_string = (r'^(?!.*www|.*-|.*\\/|.*[A-Za-z]|.* ).*\\d.*')\n",
        "#     regex_string = (r'\\$\\d+.*|\\d+.*\\%$|^\\d+.*$')\n",
        "    return column.str.contains(regex_string).all()"
      ],
      "execution_count": 0,
      "outputs": []
    },
    {
      "cell_type": "markdown",
      "metadata": {
        "id": "uhaMrE6Y9yJz",
        "colab_type": "text"
      },
      "source": [
        "> We can change the function to end with `any` instead of `all` to make it less restrictive."
      ]
    },
    {
      "cell_type": "markdown",
      "metadata": {
        "id": "ez_O2uhn9yJz",
        "colab_type": "text"
      },
      "source": [
        "Then, we loop through our columns to see which contain numbers."
      ]
    },
    {
      "cell_type": "code",
      "metadata": {
        "id": "mq-JJVmF9yJ0",
        "colab_type": "code",
        "colab": {}
      },
      "source": [
        "potential_num_cols = [col for col in X_train_object_df.columns if contains_numbers(X_train_object_df[col])]"
      ],
      "execution_count": 0,
      "outputs": []
    },
    {
      "cell_type": "code",
      "metadata": {
        "id": "yGyaa6cz9yJ2",
        "colab_type": "code",
        "outputId": "63ab3713-37df-4535-e524-2cb02a75e5fb",
        "colab": {
          "base_uri": "https://localhost:8080/",
          "height": 34
        }
      },
      "source": [
        "potential_num_cols"
      ],
      "execution_count": 0,
      "outputs": [
        {
          "output_type": "execute_result",
          "data": {
            "text/plain": [
              "['host_response_rate', 'security_deposit', 'cleaning_fee', 'extra_people']"
            ]
          },
          "metadata": {
            "tags": []
          },
          "execution_count": 23
        }
      ]
    },
    {
      "cell_type": "markdown",
      "metadata": {
        "id": "jVSjn9Vk9yJ5",
        "colab_type": "text"
      },
      "source": [
        "Let's take a look."
      ]
    },
    {
      "cell_type": "code",
      "metadata": {
        "id": "iBPyoP4Y9yJ5",
        "colab_type": "code",
        "outputId": "4f33ff2f-6158-4515-ab8e-15706e9e9dc6",
        "colab": {
          "base_uri": "https://localhost:8080/",
          "height": 235
        }
      },
      "source": [
        "almost_num_df = X_train_object_df[potential_num_cols]\n",
        "almost_num_df[:6]"
      ],
      "execution_count": 0,
      "outputs": [
        {
          "output_type": "execute_result",
          "data": {
            "text/html": [
              "<div>\n",
              "<style scoped>\n",
              "    .dataframe tbody tr th:only-of-type {\n",
              "        vertical-align: middle;\n",
              "    }\n",
              "\n",
              "    .dataframe tbody tr th {\n",
              "        vertical-align: top;\n",
              "    }\n",
              "\n",
              "    .dataframe thead th {\n",
              "        text-align: right;\n",
              "    }\n",
              "</style>\n",
              "<table border=\"1\" class=\"dataframe\">\n",
              "  <thead>\n",
              "    <tr style=\"text-align: right;\">\n",
              "      <th></th>\n",
              "      <th>host_response_rate</th>\n",
              "      <th>security_deposit</th>\n",
              "      <th>cleaning_fee</th>\n",
              "      <th>extra_people</th>\n",
              "    </tr>\n",
              "  </thead>\n",
              "  <tbody>\n",
              "    <tr>\n",
              "      <th>0</th>\n",
              "      <td>96%</td>\n",
              "      <td>$200.00</td>\n",
              "      <td>$30.00</td>\n",
              "      <td>$28.00</td>\n",
              "    </tr>\n",
              "    <tr>\n",
              "      <th>1</th>\n",
              "      <td>NaN</td>\n",
              "      <td>$0.00</td>\n",
              "      <td>$0.00</td>\n",
              "      <td>$0.00</td>\n",
              "    </tr>\n",
              "    <tr>\n",
              "      <th>2</th>\n",
              "      <td>100%</td>\n",
              "      <td>$200.00</td>\n",
              "      <td>$50.00</td>\n",
              "      <td>$20.00</td>\n",
              "    </tr>\n",
              "    <tr>\n",
              "      <th>3</th>\n",
              "      <td>NaN</td>\n",
              "      <td>$250.00</td>\n",
              "      <td>$30.00</td>\n",
              "      <td>$18.00</td>\n",
              "    </tr>\n",
              "    <tr>\n",
              "      <th>4</th>\n",
              "      <td>100%</td>\n",
              "      <td>$0.00</td>\n",
              "      <td>$0.00</td>\n",
              "      <td>$24.00</td>\n",
              "    </tr>\n",
              "    <tr>\n",
              "      <th>5</th>\n",
              "      <td>100%</td>\n",
              "      <td>$400.00</td>\n",
              "      <td>$80.00</td>\n",
              "      <td>$10.00</td>\n",
              "    </tr>\n",
              "  </tbody>\n",
              "</table>\n",
              "</div>"
            ],
            "text/plain": [
              "  host_response_rate security_deposit cleaning_fee extra_people\n",
              "0                96%          $200.00       $30.00       $28.00\n",
              "1                NaN            $0.00        $0.00        $0.00\n",
              "2               100%          $200.00       $50.00       $20.00\n",
              "3                NaN          $250.00       $30.00       $18.00\n",
              "4               100%            $0.00        $0.00       $24.00\n",
              "5               100%          $400.00       $80.00       $10.00"
            ]
          },
          "metadata": {
            "tags": []
          },
          "execution_count": 24
        }
      ]
    },
    {
      "cell_type": "markdown",
      "metadata": {
        "id": "X-ulwCvi9yJ8",
        "colab_type": "text"
      },
      "source": [
        "Ok, so our function did a pretty good job."
      ]
    },
    {
      "cell_type": "markdown",
      "metadata": {
        "id": "Jyfm8Vdo9yJ8",
        "colab_type": "text"
      },
      "source": [
        "Ok now that we've identified our almost number columns, let's work on coercing them.  \n",
        "\n",
        "We already have `remove_price` method, which seems like it will work on our `security_deposit`, `cleaning_fee` and `extra_people` columns."
      ]
    },
    {
      "cell_type": "markdown",
      "metadata": {
        "id": "5885PIYv9yJ9",
        "colab_type": "text"
      },
      "source": [
        "> One thing to consider is whether these last three columns really belong in our features.  The columns  are related to how much our host is charging for the apartment, which is what we are trying to predict.  Let's include it for now, but this may be something to remove later on."
      ]
    },
    {
      "cell_type": "markdown",
      "metadata": {
        "id": "9Ov95qEG9yJ9",
        "colab_type": "text"
      },
      "source": [
        "Ok, we can start by selecting a single column, and then working on converting it.  We'll start with the `host_response_rate`."
      ]
    },
    {
      "cell_type": "code",
      "metadata": {
        "id": "pGRasNPc9yJ-",
        "colab_type": "code",
        "colab": {}
      },
      "source": [
        "host_resp_rate = almost_num_df['host_response_rate']"
      ],
      "execution_count": 0,
      "outputs": []
    },
    {
      "cell_type": "code",
      "metadata": {
        "id": "5gEZYlHu9yKA",
        "colab_type": "code",
        "outputId": "65d6726a-2dfd-4bf1-c5d2-31de293f8c2e",
        "colab": {
          "base_uri": "https://localhost:8080/",
          "height": 34
        }
      },
      "source": [
        "host_resp_rate.loc[5]"
      ],
      "execution_count": 0,
      "outputs": [
        {
          "output_type": "execute_result",
          "data": {
            "text/plain": [
              "'100%'"
            ]
          },
          "metadata": {
            "tags": []
          },
          "execution_count": 26
        }
      ]
    },
    {
      "cell_type": "markdown",
      "metadata": {
        "id": "bCwmvqB_9yKC",
        "colab_type": "text"
      },
      "source": [
        "Then we can write a function that removes a percentage where one exists, simply converts null values to be numeric."
      ]
    },
    {
      "cell_type": "code",
      "metadata": {
        "id": "4_fsPq8T9yKD",
        "colab_type": "code",
        "colab": {}
      },
      "source": [
        "import pandas as pd\n",
        "def convert_percent(val):\n",
        "    if pd.isna(val):\n",
        "        return pd.to_numeric(val, errors='coerce', downcast='float')\n",
        "    else:\n",
        "        without_dollar = val[:-1]\n",
        "        return float(without_dollar)"
      ],
      "execution_count": 0,
      "outputs": []
    },
    {
      "cell_type": "markdown",
      "metadata": {
        "id": "8mPfLTuD9yKF",
        "colab_type": "text"
      },
      "source": [
        "We can test that this works properly with the map function."
      ]
    },
    {
      "cell_type": "code",
      "metadata": {
        "id": "LqzBQo7z9yKF",
        "colab_type": "code",
        "outputId": "3c7ad683-b46b-4ba4-d709-aacfc23a5538",
        "colab": {
          "base_uri": "https://localhost:8080/",
          "height": 85
        }
      },
      "source": [
        "host_resp_rate.map(convert_percent)[:3]"
      ],
      "execution_count": 0,
      "outputs": [
        {
          "output_type": "execute_result",
          "data": {
            "text/plain": [
              "0     96.0\n",
              "1      NaN\n",
              "2    100.0\n",
              "Name: host_response_rate, dtype: float64"
            ]
          },
          "metadata": {
            "tags": []
          },
          "execution_count": 28
        }
      ]
    },
    {
      "cell_type": "markdown",
      "metadata": {
        "id": "4ATh9mAf9yKH",
        "colab_type": "text"
      },
      "source": [
        "And then we can use the function with a FunctionTransformer."
      ]
    },
    {
      "cell_type": "code",
      "metadata": {
        "id": "d1NQZkzu9yKI",
        "colab_type": "code",
        "colab": {}
      },
      "source": [
        "from sklearn_pandas import FunctionTransformer, DataFrameMapper"
      ],
      "execution_count": 0,
      "outputs": []
    },
    {
      "cell_type": "code",
      "metadata": {
        "id": "bHYxc9l09yKK",
        "colab_type": "code",
        "colab": {}
      },
      "source": [
        "from sklearn.impute import SimpleImputer\n",
        "mapper = DataFrameMapper([\n",
        "    (['host_response_rate'], FunctionTransformer(convert_percent))\n",
        "], df_out = True)"
      ],
      "execution_count": 0,
      "outputs": []
    },
    {
      "cell_type": "code",
      "metadata": {
        "id": "WjIfLZlj9yKM",
        "colab_type": "code",
        "colab": {}
      },
      "source": [
        "transformed_host_rate = mapper.fit_transform(almost_num_df[['host_response_rate']])"
      ],
      "execution_count": 0,
      "outputs": []
    },
    {
      "cell_type": "code",
      "metadata": {
        "id": "BUje_4Zm9yKO",
        "colab_type": "code",
        "outputId": "b57cc56e-85e3-47d7-9b5f-24515566a69a",
        "colab": {
          "base_uri": "https://localhost:8080/",
          "height": 142
        }
      },
      "source": [
        "transformed_host_rate[:3]"
      ],
      "execution_count": 0,
      "outputs": [
        {
          "output_type": "execute_result",
          "data": {
            "text/html": [
              "<div>\n",
              "<style scoped>\n",
              "    .dataframe tbody tr th:only-of-type {\n",
              "        vertical-align: middle;\n",
              "    }\n",
              "\n",
              "    .dataframe tbody tr th {\n",
              "        vertical-align: top;\n",
              "    }\n",
              "\n",
              "    .dataframe thead th {\n",
              "        text-align: right;\n",
              "    }\n",
              "</style>\n",
              "<table border=\"1\" class=\"dataframe\">\n",
              "  <thead>\n",
              "    <tr style=\"text-align: right;\">\n",
              "      <th></th>\n",
              "      <th>host_response_rate</th>\n",
              "    </tr>\n",
              "  </thead>\n",
              "  <tbody>\n",
              "    <tr>\n",
              "      <th>0</th>\n",
              "      <td>96.0</td>\n",
              "    </tr>\n",
              "    <tr>\n",
              "      <th>1</th>\n",
              "      <td>NaN</td>\n",
              "    </tr>\n",
              "    <tr>\n",
              "      <th>2</th>\n",
              "      <td>100.0</td>\n",
              "    </tr>\n",
              "  </tbody>\n",
              "</table>\n",
              "</div>"
            ],
            "text/plain": [
              "   host_response_rate\n",
              "0                96.0\n",
              "1                 NaN\n",
              "2               100.0"
            ]
          },
          "metadata": {
            "tags": []
          },
          "execution_count": 32
        }
      ]
    },
    {
      "cell_type": "markdown",
      "metadata": {
        "id": "lO2lkipC9yKQ",
        "colab_type": "text"
      },
      "source": [
        "Great, so now we wrote a DataFrameMapper to convert this into a numeric column."
      ]
    },
    {
      "cell_type": "code",
      "metadata": {
        "id": "gVh02eED9yKR",
        "colab_type": "code",
        "outputId": "16c41b65-7767-4fa8-a88c-14861c7f4575",
        "colab": {
          "base_uri": "https://localhost:8080/",
          "height": 51
        }
      },
      "source": [
        "transformed_host_rate.dtypes"
      ],
      "execution_count": 0,
      "outputs": [
        {
          "output_type": "execute_result",
          "data": {
            "text/plain": [
              "host_response_rate    float64\n",
              "dtype: object"
            ]
          },
          "metadata": {
            "tags": []
          },
          "execution_count": 33
        }
      ]
    },
    {
      "cell_type": "markdown",
      "metadata": {
        "id": "Y7iGX2f99yKU",
        "colab_type": "text"
      },
      "source": [
        "Let's move onto the rest of the columns."
      ]
    },
    {
      "cell_type": "code",
      "metadata": {
        "id": "sgsdmpSU9yKU",
        "colab_type": "code",
        "outputId": "c024931f-e98a-4d6f-c45c-34c7ddcc4947",
        "colab": {
          "base_uri": "https://localhost:8080/",
          "height": 235
        }
      },
      "source": [
        "almost_num_df[:6]"
      ],
      "execution_count": 0,
      "outputs": [
        {
          "output_type": "execute_result",
          "data": {
            "text/html": [
              "<div>\n",
              "<style scoped>\n",
              "    .dataframe tbody tr th:only-of-type {\n",
              "        vertical-align: middle;\n",
              "    }\n",
              "\n",
              "    .dataframe tbody tr th {\n",
              "        vertical-align: top;\n",
              "    }\n",
              "\n",
              "    .dataframe thead th {\n",
              "        text-align: right;\n",
              "    }\n",
              "</style>\n",
              "<table border=\"1\" class=\"dataframe\">\n",
              "  <thead>\n",
              "    <tr style=\"text-align: right;\">\n",
              "      <th></th>\n",
              "      <th>host_response_rate</th>\n",
              "      <th>security_deposit</th>\n",
              "      <th>cleaning_fee</th>\n",
              "      <th>extra_people</th>\n",
              "    </tr>\n",
              "  </thead>\n",
              "  <tbody>\n",
              "    <tr>\n",
              "      <th>0</th>\n",
              "      <td>96%</td>\n",
              "      <td>$200.00</td>\n",
              "      <td>$30.00</td>\n",
              "      <td>$28.00</td>\n",
              "    </tr>\n",
              "    <tr>\n",
              "      <th>1</th>\n",
              "      <td>NaN</td>\n",
              "      <td>$0.00</td>\n",
              "      <td>$0.00</td>\n",
              "      <td>$0.00</td>\n",
              "    </tr>\n",
              "    <tr>\n",
              "      <th>2</th>\n",
              "      <td>100%</td>\n",
              "      <td>$200.00</td>\n",
              "      <td>$50.00</td>\n",
              "      <td>$20.00</td>\n",
              "    </tr>\n",
              "    <tr>\n",
              "      <th>3</th>\n",
              "      <td>NaN</td>\n",
              "      <td>$250.00</td>\n",
              "      <td>$30.00</td>\n",
              "      <td>$18.00</td>\n",
              "    </tr>\n",
              "    <tr>\n",
              "      <th>4</th>\n",
              "      <td>100%</td>\n",
              "      <td>$0.00</td>\n",
              "      <td>$0.00</td>\n",
              "      <td>$24.00</td>\n",
              "    </tr>\n",
              "    <tr>\n",
              "      <th>5</th>\n",
              "      <td>100%</td>\n",
              "      <td>$400.00</td>\n",
              "      <td>$80.00</td>\n",
              "      <td>$10.00</td>\n",
              "    </tr>\n",
              "  </tbody>\n",
              "</table>\n",
              "</div>"
            ],
            "text/plain": [
              "  host_response_rate security_deposit cleaning_fee extra_people\n",
              "0                96%          $200.00       $30.00       $28.00\n",
              "1                NaN            $0.00        $0.00        $0.00\n",
              "2               100%          $200.00       $50.00       $20.00\n",
              "3                NaN          $250.00       $30.00       $18.00\n",
              "4               100%            $0.00        $0.00       $24.00\n",
              "5               100%          $400.00       $80.00       $10.00"
            ]
          },
          "metadata": {
            "tags": []
          },
          "execution_count": 34
        }
      ]
    },
    {
      "cell_type": "markdown",
      "metadata": {
        "id": "WxOLGUl59yKW",
        "colab_type": "text"
      },
      "source": [
        "We'll convert the price columns in the same way. "
      ]
    },
    {
      "cell_type": "code",
      "metadata": {
        "id": "GD_RM1TK9yKX",
        "colab_type": "code",
        "colab": {}
      },
      "source": [
        "def convert_price(val):\n",
        "    if pd.isnull(val):\n",
        "        return pd.to_numeric(val) \n",
        "    else:\n",
        "        without_commas = val.replace(',','')\n",
        "        without_dollar = without_commas[1:]\n",
        "        return pd.to_numeric(without_dollar)"
      ],
      "execution_count": 0,
      "outputs": []
    },
    {
      "cell_type": "markdown",
      "metadata": {
        "id": "ysHUaOZj9yKZ",
        "colab_type": "text"
      },
      "source": [
        "> Then we can place this integrate this function into a step with a FunctionTransformer."
      ]
    },
    {
      "cell_type": "code",
      "metadata": {
        "id": "qiabiw-a9yKZ",
        "colab_type": "code",
        "outputId": "388a7c8e-eff3-4cf0-81c4-8f3bb7c386a6",
        "colab": {
          "base_uri": "https://localhost:8080/",
          "height": 88
        }
      },
      "source": [
        "(['security_deposit'], [FunctionTransformer(convert_price)])"
      ],
      "execution_count": 0,
      "outputs": [
        {
          "output_type": "stream",
          "text": [
            "/usr/local/lib/python3.6/dist-packages/sklearn/base.py:197: FutureWarning: From version 0.24, get_params will raise an AttributeError if a parameter cannot be retrieved as an instance attribute. Previously it would return None.\n",
            "  FutureWarning)\n"
          ],
          "name": "stderr"
        },
        {
          "output_type": "execute_result",
          "data": {
            "text/plain": [
              "(['security_deposit'], [FunctionTransformer(func=None)])"
            ]
          },
          "metadata": {
            "tags": []
          },
          "execution_count": 36
        }
      ]
    },
    {
      "cell_type": "markdown",
      "metadata": {
        "id": "rr7BPOJu9yKc",
        "colab_type": "text"
      },
      "source": [
        "But remember, we have three columns that we wish to convert."
      ]
    },
    {
      "cell_type": "code",
      "metadata": {
        "id": "YHunOxUq9yKc",
        "colab_type": "code",
        "outputId": "b4a5d1c6-6e28-4921-c525-1ec28b6e4cba",
        "colab": {
          "base_uri": "https://localhost:8080/",
          "height": 34
        }
      },
      "source": [
        "potential_num_cols[1:]"
      ],
      "execution_count": 0,
      "outputs": [
        {
          "output_type": "execute_result",
          "data": {
            "text/plain": [
              "['security_deposit', 'cleaning_fee', 'extra_people']"
            ]
          },
          "metadata": {
            "tags": []
          },
          "execution_count": 37
        }
      ]
    },
    {
      "cell_type": "markdown",
      "metadata": {
        "id": "ThGRfU5e9yKf",
        "colab_type": "text"
      },
      "source": [
        "So we can loop through and create a list of the steps with code."
      ]
    },
    {
      "cell_type": "code",
      "metadata": {
        "id": "tcFEziue9yKf",
        "colab_type": "code",
        "colab": {}
      },
      "source": [
        "convert_dolls_to_nums = [([col], [FunctionTransformer(convert_price)]) \n",
        "                         for col in potential_num_cols[1:]]"
      ],
      "execution_count": 0,
      "outputs": []
    },
    {
      "cell_type": "code",
      "metadata": {
        "id": "I_GIFj8s9yKh",
        "colab_type": "code",
        "outputId": "637f63e4-d00b-4e67-8b28-865bd6b8d5ee",
        "colab": {
          "base_uri": "https://localhost:8080/",
          "height": 122
        }
      },
      "source": [
        "convert_dolls_to_nums"
      ],
      "execution_count": 0,
      "outputs": [
        {
          "output_type": "stream",
          "text": [
            "/usr/local/lib/python3.6/dist-packages/sklearn/base.py:197: FutureWarning: From version 0.24, get_params will raise an AttributeError if a parameter cannot be retrieved as an instance attribute. Previously it would return None.\n",
            "  FutureWarning)\n"
          ],
          "name": "stderr"
        },
        {
          "output_type": "execute_result",
          "data": {
            "text/plain": [
              "[(['security_deposit'], [FunctionTransformer(func=None)]),\n",
              " (['cleaning_fee'], [FunctionTransformer(func=None)]),\n",
              " (['extra_people'], [FunctionTransformer(func=None)])]"
            ]
          },
          "metadata": {
            "tags": []
          },
          "execution_count": 41
        }
      ]
    },
    {
      "cell_type": "markdown",
      "metadata": {
        "id": "igX8v3iV9yKl",
        "colab_type": "text"
      },
      "source": [
        "Take a look at the code above.  We'll be doing this a lot.  All we're doing is looping through to create multiple steps with list iteration.  So we specify the each step that we want to return as:\n",
        "```python\n",
        "([col], [FunctionTransformer(convert_price)])\n",
        "```"
      ]
    },
    {
      "cell_type": "markdown",
      "metadata": {
        "id": "YMY92dQ49yKn",
        "colab_type": "text"
      },
      "source": [
        "Once our steps are defined, we integrate them in our DataFrameMapper."
      ]
    },
    {
      "cell_type": "code",
      "metadata": {
        "id": "kPwmKqn09yKn",
        "colab_type": "code",
        "colab": {}
      },
      "source": [
        "from sklearn.impute import SimpleImputer\n",
        "convert_percent_to_nums = [ (['host_response_rate'], [FunctionTransformer(convert_percent)]) ]\n",
        "convert_dolls_to_nums\n",
        "convert_to_nums_steps = convert_percent_to_nums + convert_dolls_to_nums\n",
        "to_number_mapper = DataFrameMapper(convert_to_nums_steps, df_out = True, default = None)"
      ],
      "execution_count": 0,
      "outputs": []
    },
    {
      "cell_type": "code",
      "metadata": {
        "id": "iV3nmLkH9yKo",
        "colab_type": "code",
        "outputId": "d2bb3942-94d7-4bc3-8910-4cb4a6bc786b",
        "colab": {
          "base_uri": "https://localhost:8080/",
          "height": 231
        }
      },
      "source": [
        "converted_nums_df = to_number_mapper.fit_transform(X_train_df_var)\n",
        "\n",
        "converted_nums_df[:1]"
      ],
      "execution_count": 0,
      "outputs": [
        {
          "output_type": "execute_result",
          "data": {
            "text/html": [
              "<div>\n",
              "<style scoped>\n",
              "    .dataframe tbody tr th:only-of-type {\n",
              "        vertical-align: middle;\n",
              "    }\n",
              "\n",
              "    .dataframe tbody tr th {\n",
              "        vertical-align: top;\n",
              "    }\n",
              "\n",
              "    .dataframe thead th {\n",
              "        text-align: right;\n",
              "    }\n",
              "</style>\n",
              "<table border=\"1\" class=\"dataframe\">\n",
              "  <thead>\n",
              "    <tr style=\"text-align: right;\">\n",
              "      <th></th>\n",
              "      <th>host_response_rate</th>\n",
              "      <th>security_deposit</th>\n",
              "      <th>cleaning_fee</th>\n",
              "      <th>extra_people</th>\n",
              "      <th>id</th>\n",
              "      <th>listing_url</th>\n",
              "      <th>last_scraped</th>\n",
              "      <th>name</th>\n",
              "      <th>summary</th>\n",
              "      <th>space</th>\n",
              "      <th>description</th>\n",
              "      <th>neighborhood_overview</th>\n",
              "      <th>notes</th>\n",
              "      <th>transit</th>\n",
              "      <th>access</th>\n",
              "      <th>interaction</th>\n",
              "      <th>house_rules</th>\n",
              "      <th>picture_url</th>\n",
              "      <th>host_id</th>\n",
              "      <th>host_url</th>\n",
              "      <th>host_name</th>\n",
              "      <th>host_since</th>\n",
              "      <th>host_location</th>\n",
              "      <th>host_about</th>\n",
              "      <th>host_response_time</th>\n",
              "      <th>host_is_superhost</th>\n",
              "      <th>host_thumbnail_url</th>\n",
              "      <th>host_picture_url</th>\n",
              "      <th>host_neighbourhood</th>\n",
              "      <th>host_listings_count</th>\n",
              "      <th>host_total_listings_count</th>\n",
              "      <th>host_verifications</th>\n",
              "      <th>host_has_profile_pic</th>\n",
              "      <th>host_identity_verified</th>\n",
              "      <th>street</th>\n",
              "      <th>neighbourhood</th>\n",
              "      <th>neighbourhood_cleansed</th>\n",
              "      <th>neighbourhood_group_cleansed</th>\n",
              "      <th>city</th>\n",
              "      <th>state</th>\n",
              "      <th>...</th>\n",
              "      <th>latitude</th>\n",
              "      <th>longitude</th>\n",
              "      <th>is_location_exact</th>\n",
              "      <th>property_type</th>\n",
              "      <th>room_type</th>\n",
              "      <th>accommodates</th>\n",
              "      <th>bathrooms</th>\n",
              "      <th>bedrooms</th>\n",
              "      <th>beds</th>\n",
              "      <th>bed_type</th>\n",
              "      <th>amenities</th>\n",
              "      <th>square_feet</th>\n",
              "      <th>price</th>\n",
              "      <th>guests_included</th>\n",
              "      <th>minimum_nights</th>\n",
              "      <th>maximum_nights</th>\n",
              "      <th>calendar_updated</th>\n",
              "      <th>availability_30</th>\n",
              "      <th>availability_60</th>\n",
              "      <th>availability_90</th>\n",
              "      <th>availability_365</th>\n",
              "      <th>calendar_last_scraped</th>\n",
              "      <th>number_of_reviews</th>\n",
              "      <th>first_review</th>\n",
              "      <th>last_review</th>\n",
              "      <th>review_scores_rating</th>\n",
              "      <th>review_scores_accuracy</th>\n",
              "      <th>review_scores_cleanliness</th>\n",
              "      <th>review_scores_checkin</th>\n",
              "      <th>review_scores_communication</th>\n",
              "      <th>review_scores_location</th>\n",
              "      <th>review_scores_value</th>\n",
              "      <th>requires_license</th>\n",
              "      <th>license</th>\n",
              "      <th>instant_bookable</th>\n",
              "      <th>cancellation_policy</th>\n",
              "      <th>require_guest_profile_picture</th>\n",
              "      <th>require_guest_phone_verification</th>\n",
              "      <th>calculated_host_listings_count</th>\n",
              "      <th>reviews_per_month</th>\n",
              "    </tr>\n",
              "  </thead>\n",
              "  <tbody>\n",
              "    <tr>\n",
              "      <th>0</th>\n",
              "      <td>96.0</td>\n",
              "      <td>200.0</td>\n",
              "      <td>30.0</td>\n",
              "      <td>28.0</td>\n",
              "      <td>2015</td>\n",
              "      <td>https://www.airbnb.com/rooms/2015</td>\n",
              "      <td>2018-11-07 00:00:00</td>\n",
              "      <td>Berlin-Mitte Value! Quiet courtyard/very central</td>\n",
              "      <td>Great location!  30 of 75 sq meters. This wood...</td>\n",
              "      <td>A+++ location! This „Einliegerwohnung“ is an e...</td>\n",
              "      <td>Great location!  30 of 75 sq meters. This wood...</td>\n",
              "      <td>It is located in the former East Berlin area o...</td>\n",
              "      <td>This is my home, not a hotel. I rent out occas...</td>\n",
              "      <td>Close to U-Bahn U8 and U2 (metro), Trams M12, ...</td>\n",
              "      <td>Simple kitchen/cooking, refrigerator, microwav...</td>\n",
              "      <td>Always available</td>\n",
              "      <td>No parties No events No pets No smoking, not e...</td>\n",
              "      <td>https://a0.muscache.com/im/pictures/260fd609-7...</td>\n",
              "      <td>2217</td>\n",
              "      <td>https://www.airbnb.com/users/show/2217</td>\n",
              "      <td>Ian</td>\n",
              "      <td>2008-08-18 00:00:00</td>\n",
              "      <td>Key Biscayne, Florida, United States</td>\n",
              "      <td>Believe in sharing economy.</td>\n",
              "      <td>within an hour</td>\n",
              "      <td>t</td>\n",
              "      <td>https://a0.muscache.com/im/pictures/21428a22-4...</td>\n",
              "      <td>https://a0.muscache.com/im/pictures/21428a22-4...</td>\n",
              "      <td>Mitte</td>\n",
              "      <td>4</td>\n",
              "      <td>4</td>\n",
              "      <td>['email', 'phone', 'reviews', 'jumio', 'offlin...</td>\n",
              "      <td>t</td>\n",
              "      <td>t</td>\n",
              "      <td>Berlin, Berlin, Germany</td>\n",
              "      <td>Mitte</td>\n",
              "      <td>Brunnenstr. Süd</td>\n",
              "      <td>Mitte</td>\n",
              "      <td>Berlin</td>\n",
              "      <td>Berlin</td>\n",
              "      <td>...</td>\n",
              "      <td>52.5345</td>\n",
              "      <td>13.4026</td>\n",
              "      <td>f</td>\n",
              "      <td>Guesthouse</td>\n",
              "      <td>Entire home/apt</td>\n",
              "      <td>3</td>\n",
              "      <td>1</td>\n",
              "      <td>1</td>\n",
              "      <td>2</td>\n",
              "      <td>Real Bed</td>\n",
              "      <td>{TV,\"Cable TV\",Wifi,Kitchen,Gym,Heating,\"Famil...</td>\n",
              "      <td>NaN</td>\n",
              "      <td>60</td>\n",
              "      <td>1</td>\n",
              "      <td>4</td>\n",
              "      <td>1125</td>\n",
              "      <td>3 months ago</td>\n",
              "      <td>0</td>\n",
              "      <td>21</td>\n",
              "      <td>51</td>\n",
              "      <td>141</td>\n",
              "      <td>2018-11-07 00:00:00</td>\n",
              "      <td>118</td>\n",
              "      <td>2016-04-11 00:00:00</td>\n",
              "      <td>2018-10-28 00:00:00</td>\n",
              "      <td>93</td>\n",
              "      <td>10</td>\n",
              "      <td>9</td>\n",
              "      <td>10</td>\n",
              "      <td>10</td>\n",
              "      <td>10</td>\n",
              "      <td>9</td>\n",
              "      <td>t</td>\n",
              "      <td>NaN</td>\n",
              "      <td>f</td>\n",
              "      <td>strict_14_with_grace_period</td>\n",
              "      <td>f</td>\n",
              "      <td>f</td>\n",
              "      <td>4</td>\n",
              "      <td>3.76</td>\n",
              "    </tr>\n",
              "  </tbody>\n",
              "</table>\n",
              "<p>1 rows × 83 columns</p>\n",
              "</div>"
            ],
            "text/plain": [
              "   host_response_rate  ...  reviews_per_month\n",
              "0                96.0  ...               3.76\n",
              "\n",
              "[1 rows x 83 columns]"
            ]
          },
          "metadata": {
            "tags": []
          },
          "execution_count": 43
        }
      ]
    },
    {
      "cell_type": "markdown",
      "metadata": {
        "id": "ckaDsctn9yKr",
        "colab_type": "text"
      },
      "source": [
        "So things look pretty good.  We added default = None, so that we return the entire dataframe."
      ]
    },
    {
      "cell_type": "markdown",
      "metadata": {
        "id": "e-DkdsSX9yKr",
        "colab_type": "text"
      },
      "source": [
        "Unfortunately, the `default = None`, changed our unspecified columns to be type Object.  No worry, we change them back.  We do so by collecting the dtypes from our dataframe above.  And then only selecting those datatypes that were of type object."
      ]
    },
    {
      "cell_type": "code",
      "metadata": {
        "id": "AiH9FZSs9yKs",
        "colab_type": "code",
        "colab": {}
      },
      "source": [
        "dtypes = dict(X_train_df_var.dtypes)"
      ],
      "execution_count": 0,
      "outputs": []
    },
    {
      "cell_type": "code",
      "metadata": {
        "id": "rq8LCqwS9yKt",
        "colab_type": "code",
        "colab": {}
      },
      "source": [
        "dtypes = {k:v for k, v in dtypes.items() if v.kind is not 'O'}"
      ],
      "execution_count": 0,
      "outputs": []
    },
    {
      "cell_type": "code",
      "metadata": {
        "id": "7FR8A3op9yKv",
        "colab_type": "code",
        "outputId": "cf57cd43-5e0b-4e09-fa63-1861751e849c",
        "colab": {
          "base_uri": "https://localhost:8080/",
          "height": 102
        }
      },
      "source": [
        "list(dtypes.items())[:5]"
      ],
      "execution_count": 0,
      "outputs": [
        {
          "output_type": "execute_result",
          "data": {
            "text/plain": [
              "[('id', dtype('int64')),\n",
              " ('last_scraped', dtype('<M8[ns]')),\n",
              " ('host_id', dtype('int64')),\n",
              " ('host_since', dtype('<M8[ns]')),\n",
              " ('host_listings_count', dtype('float64'))]"
            ]
          },
          "metadata": {
            "tags": []
          },
          "execution_count": 46
        }
      ]
    },
    {
      "cell_type": "code",
      "metadata": {
        "id": "La1XxIsr9yKx",
        "colab_type": "code",
        "outputId": "b557d40d-cb72-4fc6-f7db-cd1162cb6532",
        "colab": {
          "base_uri": "https://localhost:8080/",
          "height": 164
        }
      },
      "source": [
        "updated_df['last_scraped'].dtype"
      ],
      "execution_count": 0,
      "outputs": [
        {
          "output_type": "error",
          "ename": "NameError",
          "evalue": "ignored",
          "traceback": [
            "\u001b[0;31m---------------------------------------------------------------------------\u001b[0m",
            "\u001b[0;31mNameError\u001b[0m                                 Traceback (most recent call last)",
            "\u001b[0;32m<ipython-input-47-93352a23c2b1>\u001b[0m in \u001b[0;36m<module>\u001b[0;34m()\u001b[0m\n\u001b[0;32m----> 1\u001b[0;31m \u001b[0mupdated_df\u001b[0m\u001b[0;34m[\u001b[0m\u001b[0;34m'last_scraped'\u001b[0m\u001b[0;34m]\u001b[0m\u001b[0;34m.\u001b[0m\u001b[0mdtype\u001b[0m\u001b[0;34m\u001b[0m\u001b[0;34m\u001b[0m\u001b[0m\n\u001b[0m",
            "\u001b[0;31mNameError\u001b[0m: name 'updated_df' is not defined"
          ]
        }
      ]
    },
    {
      "cell_type": "markdown",
      "metadata": {
        "id": "ZC5b2Xia9yKz",
        "colab_type": "text"
      },
      "source": [
        "Because these are the dtypes that we want to keep, we can then update our dataframe with them."
      ]
    },
    {
      "cell_type": "code",
      "metadata": {
        "id": "qDb_O0NK9yKz",
        "colab_type": "code",
        "colab": {}
      },
      "source": [
        "updated_df = converted_nums_df.astype(dtypes)"
      ],
      "execution_count": 0,
      "outputs": []
    },
    {
      "cell_type": "markdown",
      "metadata": {
        "id": "iL_CPtAj9yK1",
        "colab_type": "text"
      },
      "source": [
        "Now we can see that we have 38 columns in the correct format.  Not to bad."
      ]
    },
    {
      "cell_type": "code",
      "metadata": {
        "id": "g1IJxTw99yK2",
        "colab_type": "code",
        "outputId": "420e501c-7711-4d1b-ae07-a003b5ebc8b8",
        "colab": {
          "base_uri": "https://localhost:8080/",
          "height": 34
        }
      },
      "source": [
        "updated_df.select_dtypes(exclude = 'object').shape"
      ],
      "execution_count": 0,
      "outputs": [
        {
          "output_type": "execute_result",
          "data": {
            "text/plain": [
              "(8000, 38)"
            ]
          },
          "metadata": {
            "tags": []
          },
          "execution_count": 49
        }
      ]
    },
    {
      "cell_type": "code",
      "metadata": {
        "id": "FvfY564T9yK3",
        "colab_type": "code",
        "colab": {}
      },
      "source": [
        "updated_df.to_csv('./nums_and_dates_ten_k.csv')"
      ],
      "execution_count": 0,
      "outputs": []
    },
    {
      "cell_type": "markdown",
      "metadata": {
        "id": "JRcd_b-i9yK7",
        "colab_type": "text"
      },
      "source": [
        "### Summary"
      ]
    },
    {
      "cell_type": "markdown",
      "metadata": {
        "id": "vhAR276T9yK7",
        "colab_type": "text"
      },
      "source": [
        "In this lesson, we worked through our dataset to convert columns to be of type datetime and numeric columns.  With datetimes, we used apply to loop through our almost date columns, and convert each to a datetime, and then updated our dataframe.  \n",
        "\n",
        "With the numeric columns we again identified the almost numeric columns, then we wrote functions to coerce them into numbers, and integrated the functions into our FunctionTransformer to use with our DataFrameMapper."
      ]
    }
  ]
}