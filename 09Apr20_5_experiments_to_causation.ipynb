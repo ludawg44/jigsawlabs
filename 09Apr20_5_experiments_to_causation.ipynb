{
  "nbformat": 4,
  "nbformat_minor": 0,
  "metadata": {
    "kernelspec": {
      "display_name": "Python 3",
      "language": "python",
      "name": "python3"
    },
    "language_info": {
      "codemirror_mode": {
        "name": "ipython",
        "version": 3
      },
      "file_extension": ".py",
      "mimetype": "text/x-python",
      "name": "python",
      "nbconvert_exporter": "python",
      "pygments_lexer": "ipython3",
      "version": "3.7.4"
    },
    "colab": {
      "name": "Copy of 5-experiments-to-causation.ipynb",
      "provenance": [],
      "include_colab_link": true
    }
  },
  "cells": [
    {
      "cell_type": "markdown",
      "metadata": {
        "id": "view-in-github",
        "colab_type": "text"
      },
      "source": [
        "<a href=\"https://colab.research.google.com/github/ludawg44/jigsawlabs/blob/master/09Apr20_5_experiments_to_causation.ipynb\" target=\"_parent\"><img src=\"https://colab.research.google.com/assets/colab-badge.svg\" alt=\"Open In Colab\"/></a>"
      ]
    },
    {
      "cell_type": "markdown",
      "metadata": {
        "id": "kGrUSj6YlnID",
        "colab_type": "text"
      },
      "source": [
        "# Structuring Experiments"
      ]
    },
    {
      "cell_type": "markdown",
      "metadata": {
        "id": "eHHFx03QlnIE",
        "colab_type": "text"
      },
      "source": [
        "### Introduction"
      ]
    },
    {
      "cell_type": "markdown",
      "metadata": {
        "id": "xqNRSJj9lnIE",
        "colab_type": "text"
      },
      "source": [
        "1. Start with a group of participants that start off similar to each other\n",
        "2. Randomly separate the participants into a treatment group and a control group\n",
        "3. Deliver a treatment to one group and nothing (or a placebo) to the other\n",
        "\n",
        "\n",
        "* **If** after the treatment, **we see a difference** in outcomes in the groups:\n",
        "* **Then** we believe we can **attribute it to the treatment** itself\n",
        "* **Because** otherwise the two groups would have looked the same."
      ]
    },
    {
      "cell_type": "markdown",
      "metadata": {
        "id": "TKs_tfgxlnIF",
        "colab_type": "text"
      },
      "source": [
        "### Why Experiments Work (In Theory)"
      ]
    },
    {
      "cell_type": "markdown",
      "metadata": {
        "id": "-fuyVsHLlnIF",
        "colab_type": "text"
      },
      "source": [
        "It's worth it to take the time to consider why experiments are such a powerful tool, and how they help to eliminate our alternative explanations to why two variables would be correlated. "
      ]
    },
    {
      "cell_type": "markdown",
      "metadata": {
        "id": "vfz7LVoflnIG",
        "colab_type": "text"
      },
      "source": [
        "#### Experiments and Confounding variable"
      ]
    },
    {
      "cell_type": "markdown",
      "metadata": {
        "id": "VxZ9pQJllnIG",
        "colab_type": "text"
      },
      "source": [
        "Let's see how we can use experiments to test if higher levels of HDL cholestorol (ie. \"good cholesterol\") decreases the incidence of heart disease.  Now, to start off, we know that there is correlation between high hdl and low heart disease.  But we don't know if there's causation."
      ]
    },
    {
      "cell_type": "markdown",
      "metadata": {
        "id": "yFMnUygylnIG",
        "colab_type": "text"
      },
      "source": [
        "Let's see what would happen if there were a confounding variable leading to the correlation, and not in that HDL impacts heart disease..."
      ]
    },
    {
      "cell_type": "markdown",
      "metadata": {
        "id": "Ks_0Z_VhlnIH",
        "colab_type": "text"
      },
      "source": [
        "<img src=\"https://github.com/jigsawlabs-student/correlations-to-experiments/blob/master/hdl-heart.png?raw=1\" width=\"40%\">"
      ]
    },
    {
      "cell_type": "markdown",
      "metadata": {
        "id": "PkVcOxxSlnII",
        "colab_type": "text"
      },
      "source": [
        "Then an experiment that impacted HDL would not impact Heart Disease."
      ]
    },
    {
      "cell_type": "markdown",
      "metadata": {
        "id": "PqDXtg-PlnIJ",
        "colab_type": "text"
      },
      "source": [
        "<img src=\"https://github.com/jigsawlabs-student/correlations-to-experiments/blob/master/impact-hdl.png?raw=1\" width=\"50%\">"
      ]
    },
    {
      "cell_type": "markdown",
      "metadata": {
        "id": "aMEEKEJflnIJ",
        "colab_type": "text"
      },
      "source": [
        "> And in fact, after performing experiments, doctors have been unable to conclude that manipulation HDL impacts heart disease."
      ]
    },
    {
      "cell_type": "markdown",
      "metadata": {
        "id": "IVVTYnSjlnIK",
        "colab_type": "text"
      },
      "source": [
        "### Experiments and Reverse Causality"
      ]
    },
    {
      "cell_type": "markdown",
      "metadata": {
        "id": "uvttP0XplnIL",
        "colab_type": "text"
      },
      "source": [
        "Now let's consider what an experiment will look like when reverse causality exists."
      ]
    },
    {
      "cell_type": "markdown",
      "metadata": {
        "id": "zhVi3H7FlnIL",
        "colab_type": "text"
      },
      "source": [
        "Let's say that we see a correlation between taking tylenol and getting the stomach flu.  Perhaps we hypothesize that germs from people placing tylenol in their mouth cause the stomach flu.  \n",
        "\n",
        "> Really it's the reverse.  Having the stomach flu leads to more tylenol consumption."
      ]
    },
    {
      "cell_type": "markdown",
      "metadata": {
        "id": "slKEsOj9lnIL",
        "colab_type": "text"
      },
      "source": [
        "<img src=\"https://github.com/jigsawlabs-student/correlations-to-experiments/blob/master/tylenol-relation.png?raw=1\" width=\"50%\">"
      ]
    },
    {
      "cell_type": "markdown",
      "metadata": {
        "id": "2YsIy_zClnIM",
        "colab_type": "text"
      },
      "source": [
        "So we do an experiment by randomly separating groups, prescribing tylenol to one of the groups, and seeing the impact on the incidence in stomach flu."
      ]
    },
    {
      "cell_type": "markdown",
      "metadata": {
        "id": "EcyETal4lnIM",
        "colab_type": "text"
      },
      "source": [
        "<img src=\"https://github.com/jigsawlabs-student/correlations-to-experiments/blob/master/tylenol-experiment.png?raw=1\" width=\"50%\">"
      ]
    },
    {
      "cell_type": "markdown",
      "metadata": {
        "id": "WT9b3r7olnIN",
        "colab_type": "text"
      },
      "source": [
        "Because the Tylenol is not causing the stomach flu, we do not see an effect. "
      ]
    },
    {
      "cell_type": "markdown",
      "metadata": {
        "id": "99-B1e5qlnIN",
        "colab_type": "text"
      },
      "source": [
        "### Experiments and Bi-Directional Causation"
      ]
    },
    {
      "cell_type": "markdown",
      "metadata": {
        "id": "x4APYAwRlnIO",
        "colab_type": "text"
      },
      "source": [
        "An example here is cycling and BMI.  "
      ]
    },
    {
      "cell_type": "markdown",
      "metadata": {
        "id": "8x1NSfIMlnIO",
        "colab_type": "text"
      },
      "source": [
        "There is a strong correlation between cycling and low BMI.  But the impact of getting people to cycle is less than the correlation would suggest.  What could be happening is bi-directional causation."
      ]
    },
    {
      "cell_type": "markdown",
      "metadata": {
        "id": "jeE6HLnclnIO",
        "colab_type": "text"
      },
      "source": [
        "* The exercise from cycling does decrease a person's body mass index.  \n",
        "* But people with a lower BMI are also more likely to cycle. "
      ]
    },
    {
      "cell_type": "markdown",
      "metadata": {
        "id": "k4zoEP04lnIP",
        "colab_type": "text"
      },
      "source": [
        "*  $\\uparrow$ $Cycling$ $\\rightarrow \\downarrow$ $BMI$\n",
        "\n",
        "* $\\downarrow$ $BMI$ $\\rightarrow$    $\\uparrow$ $Cycling$"
      ]
    },
    {
      "cell_type": "markdown",
      "metadata": {
        "id": "H2iY0iUulnIP",
        "colab_type": "text"
      },
      "source": [
        "> So cycling's effect on BMI may be less than the correlation would expect, because those with low BMI are more likely to cycle."
      ]
    },
    {
      "cell_type": "markdown",
      "metadata": {
        "id": "R-_WhcDOlnIQ",
        "colab_type": "text"
      },
      "source": [
        "An experiment that shows this lower than expected effect would help us to detect the bi-directional causality."
      ]
    },
    {
      "cell_type": "markdown",
      "metadata": {
        "id": "t6qg385tlnIQ",
        "colab_type": "text"
      },
      "source": [
        "#### Experiments and Correlation from Coincidence"
      ]
    },
    {
      "cell_type": "markdown",
      "metadata": {
        "id": "W3bj3YQIlnIQ",
        "colab_type": "text"
      },
      "source": [
        "For the sake of completeness, it's worth pointing out that experiments will not eliminate the correlation due to randomness problem.  But that warrants a broader discussion, and something we'll save for our discussion on p-values."
      ]
    },
    {
      "cell_type": "markdown",
      "metadata": {
        "id": "J0SymdQxlnIR",
        "colab_type": "text"
      },
      "source": [
        "### Summary"
      ]
    },
    {
      "cell_type": "markdown",
      "metadata": {
        "id": "kwwre5vLlnIR",
        "colab_type": "text"
      },
      "source": [
        "In this lesson, we learned some of the fundamentals behind how experiments work, and importantly how experiments protect against the alternative explanations to correlation.\n",
        "\n",
        "With experiments, we start with the participants of an experiment, and then randomly separate them into treatment and control groups.  The idea is that the two groups are similar except that one group is administered the treatment and the other isn't. If after administering the treatment, we see a change in only one of the groups, because nothing else should have changed, we assume the change was due to the treatment."
      ]
    },
    {
      "cell_type": "markdown",
      "metadata": {
        "id": "LdJ0uiiXlnIS",
        "colab_type": "text"
      },
      "source": [
        "### Resources\n",
        "\n",
        "* [HDL Experiments](https://www.nih.gov/news-events/nih-research-matters/when-hdl-cholesterol-doesnt-protect-against-heart-disease)\n",
        "\n",
        "* [HDL and Heart Attacks](https://www.ncbi.nlm.nih.gov/pmc/articles/PMC2903818/)\n",
        "\n",
        "* [College for Masses](https://www.nytimes.com/2015/04/26/upshot/college-for-the-masses.html)\n",
        "\n",
        "* [Steve Levitt Interviewed by Famous Journalist](https://dailynorthwestern.com/2004/03/01/archive-manual/names-with-racial-connotations-not-a-disadvantage-speaker-says/#)"
      ]
    }
  ]
}