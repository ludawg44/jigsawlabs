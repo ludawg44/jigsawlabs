{
  "nbformat": 4,
  "nbformat_minor": 0,
  "metadata": {
    "kernelspec": {
      "display_name": "Python 3",
      "language": "python",
      "name": "python3"
    },
    "language_info": {
      "codemirror_mode": {
        "name": "ipython",
        "version": 3
      },
      "file_extension": ".py",
      "mimetype": "text/x-python",
      "name": "python",
      "nbconvert_exporter": "python",
      "pygments_lexer": "ipython3",
      "version": "3.7.4"
    },
    "colab": {
      "name": "Copy of 7-selecting-rows-iloc-loc.ipynb",
      "provenance": [],
      "include_colab_link": true
    }
  },
  "cells": [
    {
      "cell_type": "markdown",
      "metadata": {
        "id": "view-in-github",
        "colab_type": "text"
      },
      "source": [
        "<a href=\"https://colab.research.google.com/github/ludawg44/jigsawlabs/blob/master/28Mar20_7_selecting_rows_iloc_loc.ipynb\" target=\"_parent\"><img src=\"https://colab.research.google.com/assets/colab-badge.svg\" alt=\"Open In Colab\"/></a>"
      ]
    },
    {
      "cell_type": "markdown",
      "metadata": {
        "id": "YRkkgOySVa-c",
        "colab_type": "text"
      },
      "source": [
        "# Selecting Data"
      ]
    },
    {
      "cell_type": "markdown",
      "metadata": {
        "id": "VZ0WRqeIVa-d",
        "colab_type": "text"
      },
      "source": [
        "### Introduction"
      ]
    },
    {
      "cell_type": "markdown",
      "metadata": {
        "id": "OiSOQr2mVa-d",
        "colab_type": "text"
      },
      "source": [
        "So far we have gotten the sense that we can select information from pandas almost like we would with a list, or with a dictionary.  In this lesson, we'll the different ways that we can select information."
      ]
    },
    {
      "cell_type": "markdown",
      "metadata": {
        "id": "e2r0iiLXVa-e",
        "colab_type": "text"
      },
      "source": [
        "### Using Integer Locations with iloc"
      ]
    },
    {
      "cell_type": "markdown",
      "metadata": {
        "id": "oZ6-ifokVa-f",
        "colab_type": "text"
      },
      "source": [
        "Let's begin by loading up our data."
      ]
    },
    {
      "cell_type": "code",
      "metadata": {
        "id": "7Ncc51NFVa-f",
        "colab_type": "code",
        "colab": {}
      },
      "source": [
        "import pandas as pd\n",
        "url = \"https://raw.githubusercontent.com/fivethirtyeight/data/master/bechdel/movies.csv\"\n",
        "movies_df = pd.read_csv(url)"
      ],
      "execution_count": 0,
      "outputs": []
    },
    {
      "cell_type": "markdown",
      "metadata": {
        "id": "t8tVkc0JVa-k",
        "colab_type": "text"
      },
      "source": [
        "Now in pandas, we can use the `iloc` method to select data using the same techniques that we saw with numpy.  Let's still walk through some examples."
      ]
    },
    {
      "cell_type": "code",
      "metadata": {
        "id": "JBysdTERVa-l",
        "colab_type": "code",
        "outputId": "f5050b0e-d4a7-4583-a4a1-440ebdf8c8c6",
        "colab": {}
      },
      "source": [
        "movies_df.iloc[0]"
      ],
      "execution_count": 0,
      "outputs": [
        {
          "output_type": "execute_result",
          "data": {
            "text/plain": [
              "year                       2013\n",
              "imdb                  tt1711425\n",
              "title             21 &amp; Over\n",
              "test                     notalk\n",
              "clean_test               notalk\n",
              "binary                     FAIL\n",
              "budget                 13000000\n",
              "domgross            2.56824e+07\n",
              "intgross            4.21958e+07\n",
              "code                   2013FAIL\n",
              "budget_2013$           13000000\n",
              "domgross_2013$      2.56824e+07\n",
              "intgross_2013$      4.21958e+07\n",
              "period code                   1\n",
              "decade code                   1\n",
              "Name: 0, dtype: object"
            ]
          },
          "metadata": {
            "tags": []
          },
          "execution_count": 3
        }
      ]
    },
    {
      "cell_type": "markdown",
      "metadata": {
        "id": "DmQD7o7QVa-o",
        "colab_type": "text"
      },
      "source": [
        "So above we just selected the first row by using `iloc` and then the row index of 0."
      ]
    },
    {
      "cell_type": "markdown",
      "metadata": {
        "id": "H2vmg8yhVa-p",
        "colab_type": "text"
      },
      "source": [
        "> Using `iloc` means we are selecting with an integer based position."
      ]
    },
    {
      "cell_type": "markdown",
      "metadata": {
        "id": "StIdKkTxVa-p",
        "colab_type": "text"
      },
      "source": [
        "Let's select more than one row."
      ]
    },
    {
      "cell_type": "code",
      "metadata": {
        "id": "HtU0fEHgVa-q",
        "colab_type": "code",
        "outputId": "476df220-ec89-4777-97e9-4a70339130bc",
        "colab": {}
      },
      "source": [
        "movies_df.iloc[:2]"
      ],
      "execution_count": 0,
      "outputs": [
        {
          "output_type": "execute_result",
          "data": {
            "text/html": [
              "<div>\n",
              "<style scoped>\n",
              "    .dataframe tbody tr th:only-of-type {\n",
              "        vertical-align: middle;\n",
              "    }\n",
              "\n",
              "    .dataframe tbody tr th {\n",
              "        vertical-align: top;\n",
              "    }\n",
              "\n",
              "    .dataframe thead th {\n",
              "        text-align: right;\n",
              "    }\n",
              "</style>\n",
              "<table border=\"1\" class=\"dataframe\">\n",
              "  <thead>\n",
              "    <tr style=\"text-align: right;\">\n",
              "      <th></th>\n",
              "      <th>year</th>\n",
              "      <th>imdb</th>\n",
              "      <th>title</th>\n",
              "      <th>test</th>\n",
              "      <th>clean_test</th>\n",
              "      <th>binary</th>\n",
              "      <th>budget</th>\n",
              "      <th>domgross</th>\n",
              "      <th>intgross</th>\n",
              "      <th>code</th>\n",
              "      <th>budget_2013$</th>\n",
              "      <th>domgross_2013$</th>\n",
              "      <th>intgross_2013$</th>\n",
              "      <th>period code</th>\n",
              "      <th>decade code</th>\n",
              "    </tr>\n",
              "  </thead>\n",
              "  <tbody>\n",
              "    <tr>\n",
              "      <th>0</th>\n",
              "      <td>2013</td>\n",
              "      <td>tt1711425</td>\n",
              "      <td>21 &amp;amp; Over</td>\n",
              "      <td>notalk</td>\n",
              "      <td>notalk</td>\n",
              "      <td>FAIL</td>\n",
              "      <td>13000000</td>\n",
              "      <td>25682380.0</td>\n",
              "      <td>42195766.0</td>\n",
              "      <td>2013FAIL</td>\n",
              "      <td>13000000</td>\n",
              "      <td>25682380.0</td>\n",
              "      <td>42195766.0</td>\n",
              "      <td>1.0</td>\n",
              "      <td>1.0</td>\n",
              "    </tr>\n",
              "    <tr>\n",
              "      <th>1</th>\n",
              "      <td>2012</td>\n",
              "      <td>tt1343727</td>\n",
              "      <td>Dredd 3D</td>\n",
              "      <td>ok-disagree</td>\n",
              "      <td>ok</td>\n",
              "      <td>PASS</td>\n",
              "      <td>45000000</td>\n",
              "      <td>13414714.0</td>\n",
              "      <td>40868994.0</td>\n",
              "      <td>2012PASS</td>\n",
              "      <td>45658735</td>\n",
              "      <td>13611086.0</td>\n",
              "      <td>41467257.0</td>\n",
              "      <td>1.0</td>\n",
              "      <td>1.0</td>\n",
              "    </tr>\n",
              "  </tbody>\n",
              "</table>\n",
              "</div>"
            ],
            "text/plain": [
              "   year       imdb          title         test clean_test binary    budget  \\\n",
              "0  2013  tt1711425  21 &amp; Over       notalk     notalk   FAIL  13000000   \n",
              "1  2012  tt1343727       Dredd 3D  ok-disagree         ok   PASS  45000000   \n",
              "\n",
              "     domgross    intgross      code  budget_2013$  domgross_2013$  \\\n",
              "0  25682380.0  42195766.0  2013FAIL      13000000      25682380.0   \n",
              "1  13414714.0  40868994.0  2012PASS      45658735      13611086.0   \n",
              "\n",
              "   intgross_2013$  period code  decade code  \n",
              "0      42195766.0          1.0          1.0  \n",
              "1      41467257.0          1.0          1.0  "
            ]
          },
          "metadata": {
            "tags": []
          },
          "execution_count": 4
        }
      ]
    },
    {
      "cell_type": "markdown",
      "metadata": {
        "id": "WHx6fVA1Va-t",
        "colab_type": "text"
      },
      "source": [
        "We can also select rows by providing a list of indices."
      ]
    },
    {
      "cell_type": "code",
      "metadata": {
        "id": "l5pHXn43Va-t",
        "colab_type": "code",
        "outputId": "5e28019a-b798-474d-b58f-d2864d410736",
        "colab": {}
      },
      "source": [
        "movies_df.iloc[[1, 2, 4]]"
      ],
      "execution_count": 0,
      "outputs": [
        {
          "output_type": "execute_result",
          "data": {
            "text/html": [
              "<div>\n",
              "<style scoped>\n",
              "    .dataframe tbody tr th:only-of-type {\n",
              "        vertical-align: middle;\n",
              "    }\n",
              "\n",
              "    .dataframe tbody tr th {\n",
              "        vertical-align: top;\n",
              "    }\n",
              "\n",
              "    .dataframe thead th {\n",
              "        text-align: right;\n",
              "    }\n",
              "</style>\n",
              "<table border=\"1\" class=\"dataframe\">\n",
              "  <thead>\n",
              "    <tr style=\"text-align: right;\">\n",
              "      <th></th>\n",
              "      <th>year</th>\n",
              "      <th>imdb</th>\n",
              "      <th>title</th>\n",
              "      <th>test</th>\n",
              "      <th>clean_test</th>\n",
              "      <th>binary</th>\n",
              "      <th>budget</th>\n",
              "      <th>domgross</th>\n",
              "      <th>intgross</th>\n",
              "      <th>code</th>\n",
              "      <th>budget_2013$</th>\n",
              "      <th>domgross_2013$</th>\n",
              "      <th>intgross_2013$</th>\n",
              "      <th>period code</th>\n",
              "      <th>decade code</th>\n",
              "    </tr>\n",
              "  </thead>\n",
              "  <tbody>\n",
              "    <tr>\n",
              "      <th>1</th>\n",
              "      <td>2012</td>\n",
              "      <td>tt1343727</td>\n",
              "      <td>Dredd 3D</td>\n",
              "      <td>ok-disagree</td>\n",
              "      <td>ok</td>\n",
              "      <td>PASS</td>\n",
              "      <td>45000000</td>\n",
              "      <td>13414714.0</td>\n",
              "      <td>40868994.0</td>\n",
              "      <td>2012PASS</td>\n",
              "      <td>45658735</td>\n",
              "      <td>13611086.0</td>\n",
              "      <td>41467257.0</td>\n",
              "      <td>1.0</td>\n",
              "      <td>1.0</td>\n",
              "    </tr>\n",
              "    <tr>\n",
              "      <th>2</th>\n",
              "      <td>2013</td>\n",
              "      <td>tt2024544</td>\n",
              "      <td>12 Years a Slave</td>\n",
              "      <td>notalk-disagree</td>\n",
              "      <td>notalk</td>\n",
              "      <td>FAIL</td>\n",
              "      <td>20000000</td>\n",
              "      <td>53107035.0</td>\n",
              "      <td>158607035.0</td>\n",
              "      <td>2013FAIL</td>\n",
              "      <td>20000000</td>\n",
              "      <td>53107035.0</td>\n",
              "      <td>158607035.0</td>\n",
              "      <td>1.0</td>\n",
              "      <td>1.0</td>\n",
              "    </tr>\n",
              "    <tr>\n",
              "      <th>4</th>\n",
              "      <td>2013</td>\n",
              "      <td>tt0453562</td>\n",
              "      <td>42</td>\n",
              "      <td>men</td>\n",
              "      <td>men</td>\n",
              "      <td>FAIL</td>\n",
              "      <td>40000000</td>\n",
              "      <td>95020213.0</td>\n",
              "      <td>95020213.0</td>\n",
              "      <td>2013FAIL</td>\n",
              "      <td>40000000</td>\n",
              "      <td>95020213.0</td>\n",
              "      <td>95020213.0</td>\n",
              "      <td>1.0</td>\n",
              "      <td>1.0</td>\n",
              "    </tr>\n",
              "  </tbody>\n",
              "</table>\n",
              "</div>"
            ],
            "text/plain": [
              "   year       imdb             title             test clean_test binary  \\\n",
              "1  2012  tt1343727          Dredd 3D      ok-disagree         ok   PASS   \n",
              "2  2013  tt2024544  12 Years a Slave  notalk-disagree     notalk   FAIL   \n",
              "4  2013  tt0453562                42              men        men   FAIL   \n",
              "\n",
              "     budget    domgross     intgross      code  budget_2013$  domgross_2013$  \\\n",
              "1  45000000  13414714.0   40868994.0  2012PASS      45658735      13611086.0   \n",
              "2  20000000  53107035.0  158607035.0  2013FAIL      20000000      53107035.0   \n",
              "4  40000000  95020213.0   95020213.0  2013FAIL      40000000      95020213.0   \n",
              "\n",
              "   intgross_2013$  period code  decade code  \n",
              "1      41467257.0          1.0          1.0  \n",
              "2     158607035.0          1.0          1.0  \n",
              "4      95020213.0          1.0          1.0  "
            ]
          },
          "metadata": {
            "tags": []
          },
          "execution_count": 8
        }
      ]
    },
    {
      "cell_type": "markdown",
      "metadata": {
        "id": "5Q2mATwGVa-w",
        "colab_type": "text"
      },
      "source": [
        "Note, that this means we can also select every other row, if we prefer."
      ]
    },
    {
      "cell_type": "code",
      "metadata": {
        "id": "PcD3rQGaVa-w",
        "colab_type": "code",
        "outputId": "9657fb4e-a293-4e46-c75b-e75864f42e9b",
        "colab": {}
      },
      "source": [
        "movies_df.iloc[range(0, 10, 2)]"
      ],
      "execution_count": 0,
      "outputs": [
        {
          "output_type": "execute_result",
          "data": {
            "text/html": [
              "<div>\n",
              "<style scoped>\n",
              "    .dataframe tbody tr th:only-of-type {\n",
              "        vertical-align: middle;\n",
              "    }\n",
              "\n",
              "    .dataframe tbody tr th {\n",
              "        vertical-align: top;\n",
              "    }\n",
              "\n",
              "    .dataframe thead th {\n",
              "        text-align: right;\n",
              "    }\n",
              "</style>\n",
              "<table border=\"1\" class=\"dataframe\">\n",
              "  <thead>\n",
              "    <tr style=\"text-align: right;\">\n",
              "      <th></th>\n",
              "      <th>year</th>\n",
              "      <th>imdb</th>\n",
              "      <th>title</th>\n",
              "      <th>test</th>\n",
              "      <th>clean_test</th>\n",
              "      <th>binary</th>\n",
              "      <th>budget</th>\n",
              "      <th>domgross</th>\n",
              "      <th>intgross</th>\n",
              "      <th>code</th>\n",
              "      <th>budget_2013$</th>\n",
              "      <th>domgross_2013$</th>\n",
              "      <th>intgross_2013$</th>\n",
              "      <th>period code</th>\n",
              "      <th>decade code</th>\n",
              "    </tr>\n",
              "  </thead>\n",
              "  <tbody>\n",
              "    <tr>\n",
              "      <th>0</th>\n",
              "      <td>2013</td>\n",
              "      <td>tt1711425</td>\n",
              "      <td>21 &amp;amp; Over</td>\n",
              "      <td>notalk</td>\n",
              "      <td>notalk</td>\n",
              "      <td>FAIL</td>\n",
              "      <td>13000000</td>\n",
              "      <td>25682380.0</td>\n",
              "      <td>42195766.0</td>\n",
              "      <td>2013FAIL</td>\n",
              "      <td>13000000</td>\n",
              "      <td>25682380.0</td>\n",
              "      <td>42195766.0</td>\n",
              "      <td>1.0</td>\n",
              "      <td>1.0</td>\n",
              "    </tr>\n",
              "    <tr>\n",
              "      <th>2</th>\n",
              "      <td>2013</td>\n",
              "      <td>tt2024544</td>\n",
              "      <td>12 Years a Slave</td>\n",
              "      <td>notalk-disagree</td>\n",
              "      <td>notalk</td>\n",
              "      <td>FAIL</td>\n",
              "      <td>20000000</td>\n",
              "      <td>53107035.0</td>\n",
              "      <td>158607035.0</td>\n",
              "      <td>2013FAIL</td>\n",
              "      <td>20000000</td>\n",
              "      <td>53107035.0</td>\n",
              "      <td>158607035.0</td>\n",
              "      <td>1.0</td>\n",
              "      <td>1.0</td>\n",
              "    </tr>\n",
              "    <tr>\n",
              "      <th>4</th>\n",
              "      <td>2013</td>\n",
              "      <td>tt0453562</td>\n",
              "      <td>42</td>\n",
              "      <td>men</td>\n",
              "      <td>men</td>\n",
              "      <td>FAIL</td>\n",
              "      <td>40000000</td>\n",
              "      <td>95020213.0</td>\n",
              "      <td>95020213.0</td>\n",
              "      <td>2013FAIL</td>\n",
              "      <td>40000000</td>\n",
              "      <td>95020213.0</td>\n",
              "      <td>95020213.0</td>\n",
              "      <td>1.0</td>\n",
              "      <td>1.0</td>\n",
              "    </tr>\n",
              "    <tr>\n",
              "      <th>6</th>\n",
              "      <td>2013</td>\n",
              "      <td>tt1606378</td>\n",
              "      <td>A Good Day to Die Hard</td>\n",
              "      <td>notalk</td>\n",
              "      <td>notalk</td>\n",
              "      <td>FAIL</td>\n",
              "      <td>92000000</td>\n",
              "      <td>67349198.0</td>\n",
              "      <td>304249198.0</td>\n",
              "      <td>2013FAIL</td>\n",
              "      <td>92000000</td>\n",
              "      <td>67349198.0</td>\n",
              "      <td>304249198.0</td>\n",
              "      <td>1.0</td>\n",
              "      <td>1.0</td>\n",
              "    </tr>\n",
              "    <tr>\n",
              "      <th>8</th>\n",
              "      <td>2013</td>\n",
              "      <td>tt1814621</td>\n",
              "      <td>Admission</td>\n",
              "      <td>ok</td>\n",
              "      <td>ok</td>\n",
              "      <td>PASS</td>\n",
              "      <td>13000000</td>\n",
              "      <td>18007317.0</td>\n",
              "      <td>18007317.0</td>\n",
              "      <td>2013PASS</td>\n",
              "      <td>13000000</td>\n",
              "      <td>18007317.0</td>\n",
              "      <td>18007317.0</td>\n",
              "      <td>1.0</td>\n",
              "      <td>1.0</td>\n",
              "    </tr>\n",
              "  </tbody>\n",
              "</table>\n",
              "</div>"
            ],
            "text/plain": [
              "   year       imdb                   title             test clean_test binary  \\\n",
              "0  2013  tt1711425           21 &amp; Over           notalk     notalk   FAIL   \n",
              "2  2013  tt2024544        12 Years a Slave  notalk-disagree     notalk   FAIL   \n",
              "4  2013  tt0453562                      42              men        men   FAIL   \n",
              "6  2013  tt1606378  A Good Day to Die Hard           notalk     notalk   FAIL   \n",
              "8  2013  tt1814621               Admission               ok         ok   PASS   \n",
              "\n",
              "     budget    domgross     intgross      code  budget_2013$  domgross_2013$  \\\n",
              "0  13000000  25682380.0   42195766.0  2013FAIL      13000000      25682380.0   \n",
              "2  20000000  53107035.0  158607035.0  2013FAIL      20000000      53107035.0   \n",
              "4  40000000  95020213.0   95020213.0  2013FAIL      40000000      95020213.0   \n",
              "6  92000000  67349198.0  304249198.0  2013FAIL      92000000      67349198.0   \n",
              "8  13000000  18007317.0   18007317.0  2013PASS      13000000      18007317.0   \n",
              "\n",
              "   intgross_2013$  period code  decade code  \n",
              "0      42195766.0          1.0          1.0  \n",
              "2     158607035.0          1.0          1.0  \n",
              "4      95020213.0          1.0          1.0  \n",
              "6     304249198.0          1.0          1.0  \n",
              "8      18007317.0          1.0          1.0  "
            ]
          },
          "metadata": {
            "tags": []
          },
          "execution_count": 9
        }
      ]
    },
    {
      "cell_type": "markdown",
      "metadata": {
        "id": "XSdNV2xvVa-z",
        "colab_type": "text"
      },
      "source": [
        "### Selecting Columns"
      ]
    },
    {
      "cell_type": "markdown",
      "metadata": {
        "id": "G-SFMB6HVa-0",
        "colab_type": "text"
      },
      "source": [
        "Now beyond selecting rows, we can also use `iloc` to also select certain columns."
      ]
    },
    {
      "cell_type": "code",
      "metadata": {
        "id": "wK9p0p1GVa-0",
        "colab_type": "code",
        "outputId": "11f0056d-8508-4275-d021-ffd9bc34c2f8",
        "colab": {}
      },
      "source": [
        "movies_df.iloc[:2, :3]"
      ],
      "execution_count": 0,
      "outputs": [
        {
          "output_type": "execute_result",
          "data": {
            "text/html": [
              "<div>\n",
              "<style scoped>\n",
              "    .dataframe tbody tr th:only-of-type {\n",
              "        vertical-align: middle;\n",
              "    }\n",
              "\n",
              "    .dataframe tbody tr th {\n",
              "        vertical-align: top;\n",
              "    }\n",
              "\n",
              "    .dataframe thead th {\n",
              "        text-align: right;\n",
              "    }\n",
              "</style>\n",
              "<table border=\"1\" class=\"dataframe\">\n",
              "  <thead>\n",
              "    <tr style=\"text-align: right;\">\n",
              "      <th></th>\n",
              "      <th>year</th>\n",
              "      <th>imdb</th>\n",
              "      <th>title</th>\n",
              "    </tr>\n",
              "  </thead>\n",
              "  <tbody>\n",
              "    <tr>\n",
              "      <th>0</th>\n",
              "      <td>2013</td>\n",
              "      <td>tt1711425</td>\n",
              "      <td>21 &amp;amp; Over</td>\n",
              "    </tr>\n",
              "    <tr>\n",
              "      <th>1</th>\n",
              "      <td>2012</td>\n",
              "      <td>tt1343727</td>\n",
              "      <td>Dredd 3D</td>\n",
              "    </tr>\n",
              "  </tbody>\n",
              "</table>\n",
              "</div>"
            ],
            "text/plain": [
              "   year       imdb          title\n",
              "0  2013  tt1711425  21 &amp; Over\n",
              "1  2012  tt1343727       Dredd 3D"
            ]
          },
          "metadata": {
            "tags": []
          },
          "execution_count": 14
        }
      ]
    },
    {
      "cell_type": "markdown",
      "metadata": {
        "id": "-5QtwbukVa-2",
        "colab_type": "text"
      },
      "source": [
        "So columns is the second argument to our `iloc` function.  And it works just like selecting from a list of elements in Python."
      ]
    },
    {
      "cell_type": "markdown",
      "metadata": {
        "id": "uqYa435WVa-3",
        "colab_type": "text"
      },
      "source": [
        "So with iloc we think of our dataframe as a list of row lists, and we selected our elements based on their order.  To select the first row and first column, we simply use the indices:  "
      ]
    },
    {
      "cell_type": "code",
      "metadata": {
        "id": "oEXTb12hVa-3",
        "colab_type": "code",
        "outputId": "f6fcedfa-39ab-43ad-ca68-18dc70ab8243",
        "colab": {}
      },
      "source": [
        "movies_df.iloc[0, 0]"
      ],
      "execution_count": 0,
      "outputs": [
        {
          "output_type": "execute_result",
          "data": {
            "text/plain": [
              "2013"
            ]
          },
          "metadata": {
            "tags": []
          },
          "execution_count": 17
        }
      ]
    },
    {
      "cell_type": "markdown",
      "metadata": {
        "id": "gbslVYiZVa-6",
        "colab_type": "text"
      },
      "source": [
        "### Selecting with loc"
      ]
    },
    {
      "cell_type": "markdown",
      "metadata": {
        "id": "00HC3qHXVa-6",
        "colab_type": "text"
      },
      "source": [
        "Now we can also think of our dataframe as a set of key value pairs, like a dictionary.  And that is what the `loc` method is for.  Once again, here are the first couple of rows of our dataframe."
      ]
    },
    {
      "cell_type": "markdown",
      "metadata": {
        "id": "uKNYOkNCVa-6",
        "colab_type": "text"
      },
      "source": [
        "When we use `loc` we should use the names in the index to select the proper rows, and the names in the columns to select the proper columns."
      ]
    },
    {
      "cell_type": "markdown",
      "metadata": {
        "id": "Y5YaHqP9Va-7",
        "colab_type": "text"
      },
      "source": [
        "> Let's just take another look at our `movies_df`."
      ]
    },
    {
      "cell_type": "code",
      "metadata": {
        "id": "I49Be0wGVa-8",
        "colab_type": "code",
        "outputId": "79ccf061-717b-4113-ea89-69421654c711",
        "colab": {}
      },
      "source": [
        "movies_df[:2]"
      ],
      "execution_count": 0,
      "outputs": [
        {
          "output_type": "execute_result",
          "data": {
            "text/html": [
              "<div>\n",
              "<style scoped>\n",
              "    .dataframe tbody tr th:only-of-type {\n",
              "        vertical-align: middle;\n",
              "    }\n",
              "\n",
              "    .dataframe tbody tr th {\n",
              "        vertical-align: top;\n",
              "    }\n",
              "\n",
              "    .dataframe thead th {\n",
              "        text-align: right;\n",
              "    }\n",
              "</style>\n",
              "<table border=\"1\" class=\"dataframe\">\n",
              "  <thead>\n",
              "    <tr style=\"text-align: right;\">\n",
              "      <th></th>\n",
              "      <th>year</th>\n",
              "      <th>imdb</th>\n",
              "      <th>title</th>\n",
              "      <th>test</th>\n",
              "      <th>clean_test</th>\n",
              "      <th>binary</th>\n",
              "      <th>budget</th>\n",
              "      <th>domgross</th>\n",
              "      <th>intgross</th>\n",
              "      <th>code</th>\n",
              "      <th>budget_2013$</th>\n",
              "      <th>domgross_2013$</th>\n",
              "      <th>intgross_2013$</th>\n",
              "      <th>period code</th>\n",
              "      <th>decade code</th>\n",
              "    </tr>\n",
              "  </thead>\n",
              "  <tbody>\n",
              "    <tr>\n",
              "      <th>0</th>\n",
              "      <td>2013</td>\n",
              "      <td>tt1711425</td>\n",
              "      <td>21 &amp;amp; Over</td>\n",
              "      <td>notalk</td>\n",
              "      <td>notalk</td>\n",
              "      <td>FAIL</td>\n",
              "      <td>13000000</td>\n",
              "      <td>25682380.0</td>\n",
              "      <td>42195766.0</td>\n",
              "      <td>2013FAIL</td>\n",
              "      <td>13000000</td>\n",
              "      <td>25682380.0</td>\n",
              "      <td>42195766.0</td>\n",
              "      <td>1.0</td>\n",
              "      <td>1.0</td>\n",
              "    </tr>\n",
              "    <tr>\n",
              "      <th>1</th>\n",
              "      <td>2012</td>\n",
              "      <td>tt1343727</td>\n",
              "      <td>Dredd 3D</td>\n",
              "      <td>ok-disagree</td>\n",
              "      <td>ok</td>\n",
              "      <td>PASS</td>\n",
              "      <td>45000000</td>\n",
              "      <td>13414714.0</td>\n",
              "      <td>40868994.0</td>\n",
              "      <td>2012PASS</td>\n",
              "      <td>45658735</td>\n",
              "      <td>13611086.0</td>\n",
              "      <td>41467257.0</td>\n",
              "      <td>1.0</td>\n",
              "      <td>1.0</td>\n",
              "    </tr>\n",
              "  </tbody>\n",
              "</table>\n",
              "</div>"
            ],
            "text/plain": [
              "   year       imdb          title         test clean_test binary    budget  \\\n",
              "0  2013  tt1711425  21 &amp; Over       notalk     notalk   FAIL  13000000   \n",
              "1  2012  tt1343727       Dredd 3D  ok-disagree         ok   PASS  45000000   \n",
              "\n",
              "     domgross    intgross      code  budget_2013$  domgross_2013$  \\\n",
              "0  25682380.0  42195766.0  2013FAIL      13000000      25682380.0   \n",
              "1  13414714.0  40868994.0  2012PASS      45658735      13611086.0   \n",
              "\n",
              "   intgross_2013$  period code  decade code  \n",
              "0      42195766.0          1.0          1.0  \n",
              "1      41467257.0          1.0          1.0  "
            ]
          },
          "metadata": {
            "tags": []
          },
          "execution_count": 6
        }
      ]
    },
    {
      "cell_type": "markdown",
      "metadata": {
        "id": "nxRwSTL9Va-_",
        "colab_type": "text"
      },
      "source": [
        "Ok, so now let's try using loc, by referencing the labels in the index and the names of the columns."
      ]
    },
    {
      "cell_type": "code",
      "metadata": {
        "id": "UKkaMojfVa-_",
        "colab_type": "code",
        "outputId": "db653c61-8e51-49e3-bff4-a83704e88822",
        "colab": {}
      },
      "source": [
        "movies_df.loc[2:4, 'title':'budget']"
      ],
      "execution_count": 0,
      "outputs": [
        {
          "output_type": "execute_result",
          "data": {
            "text/html": [
              "<div>\n",
              "<style scoped>\n",
              "    .dataframe tbody tr th:only-of-type {\n",
              "        vertical-align: middle;\n",
              "    }\n",
              "\n",
              "    .dataframe tbody tr th {\n",
              "        vertical-align: top;\n",
              "    }\n",
              "\n",
              "    .dataframe thead th {\n",
              "        text-align: right;\n",
              "    }\n",
              "</style>\n",
              "<table border=\"1\" class=\"dataframe\">\n",
              "  <thead>\n",
              "    <tr style=\"text-align: right;\">\n",
              "      <th></th>\n",
              "      <th>title</th>\n",
              "      <th>test</th>\n",
              "      <th>clean_test</th>\n",
              "      <th>binary</th>\n",
              "      <th>budget</th>\n",
              "    </tr>\n",
              "  </thead>\n",
              "  <tbody>\n",
              "    <tr>\n",
              "      <th>2</th>\n",
              "      <td>12 Years a Slave</td>\n",
              "      <td>notalk-disagree</td>\n",
              "      <td>notalk</td>\n",
              "      <td>FAIL</td>\n",
              "      <td>20000000</td>\n",
              "    </tr>\n",
              "    <tr>\n",
              "      <th>3</th>\n",
              "      <td>2 Guns</td>\n",
              "      <td>notalk</td>\n",
              "      <td>notalk</td>\n",
              "      <td>FAIL</td>\n",
              "      <td>61000000</td>\n",
              "    </tr>\n",
              "    <tr>\n",
              "      <th>4</th>\n",
              "      <td>42</td>\n",
              "      <td>men</td>\n",
              "      <td>men</td>\n",
              "      <td>FAIL</td>\n",
              "      <td>40000000</td>\n",
              "    </tr>\n",
              "  </tbody>\n",
              "</table>\n",
              "</div>"
            ],
            "text/plain": [
              "              title             test clean_test binary    budget\n",
              "2  12 Years a Slave  notalk-disagree     notalk   FAIL  20000000\n",
              "3            2 Guns           notalk     notalk   FAIL  61000000\n",
              "4                42              men        men   FAIL  40000000"
            ]
          },
          "metadata": {
            "tags": []
          },
          "execution_count": 7
        }
      ]
    },
    {
      "cell_type": "markdown",
      "metadata": {
        "id": "hYCKvDyMVa_B",
        "colab_type": "text"
      },
      "source": [
        "> That seemed to have worked well."
      ]
    },
    {
      "cell_type": "markdown",
      "metadata": {
        "id": "mxGBv5DeVa_B",
        "colab_type": "text"
      },
      "source": [
        "Notice that unlike slicing in `iloc`, or in numpy, that `loc` is inclusive.  It selects up to and including the matching rows and columns."
      ]
    },
    {
      "cell_type": "markdown",
      "metadata": {
        "id": "6-rs8loqVa_C",
        "colab_type": "text"
      },
      "source": [
        "So for example with `iloc` we would have to perform the following."
      ]
    },
    {
      "cell_type": "code",
      "metadata": {
        "id": "3AGNWzn-Va_C",
        "colab_type": "code",
        "outputId": "1be594de-ce11-4dac-c061-2188d5854a28",
        "colab": {}
      },
      "source": [
        "movies_df.iloc[2:5, 2:7]"
      ],
      "execution_count": 0,
      "outputs": [
        {
          "output_type": "execute_result",
          "data": {
            "text/html": [
              "<div>\n",
              "<style scoped>\n",
              "    .dataframe tbody tr th:only-of-type {\n",
              "        vertical-align: middle;\n",
              "    }\n",
              "\n",
              "    .dataframe tbody tr th {\n",
              "        vertical-align: top;\n",
              "    }\n",
              "\n",
              "    .dataframe thead th {\n",
              "        text-align: right;\n",
              "    }\n",
              "</style>\n",
              "<table border=\"1\" class=\"dataframe\">\n",
              "  <thead>\n",
              "    <tr style=\"text-align: right;\">\n",
              "      <th></th>\n",
              "      <th>title</th>\n",
              "      <th>test</th>\n",
              "      <th>clean_test</th>\n",
              "      <th>binary</th>\n",
              "      <th>budget</th>\n",
              "    </tr>\n",
              "  </thead>\n",
              "  <tbody>\n",
              "    <tr>\n",
              "      <th>2</th>\n",
              "      <td>12 Years a Slave</td>\n",
              "      <td>notalk-disagree</td>\n",
              "      <td>notalk</td>\n",
              "      <td>FAIL</td>\n",
              "      <td>20000000</td>\n",
              "    </tr>\n",
              "    <tr>\n",
              "      <th>3</th>\n",
              "      <td>2 Guns</td>\n",
              "      <td>notalk</td>\n",
              "      <td>notalk</td>\n",
              "      <td>FAIL</td>\n",
              "      <td>61000000</td>\n",
              "    </tr>\n",
              "    <tr>\n",
              "      <th>4</th>\n",
              "      <td>42</td>\n",
              "      <td>men</td>\n",
              "      <td>men</td>\n",
              "      <td>FAIL</td>\n",
              "      <td>40000000</td>\n",
              "    </tr>\n",
              "  </tbody>\n",
              "</table>\n",
              "</div>"
            ],
            "text/plain": [
              "              title             test clean_test binary    budget\n",
              "2  12 Years a Slave  notalk-disagree     notalk   FAIL  20000000\n",
              "3            2 Guns           notalk     notalk   FAIL  61000000\n",
              "4                42              men        men   FAIL  40000000"
            ]
          },
          "metadata": {
            "tags": []
          },
          "execution_count": 11
        }
      ]
    },
    {
      "cell_type": "markdown",
      "metadata": {
        "id": "Tg6EOO_6Va_E",
        "colab_type": "text"
      },
      "source": [
        "### Summary"
      ]
    },
    {
      "cell_type": "markdown",
      "metadata": {
        "id": "JUpWbyCVVa_F",
        "colab_type": "text"
      },
      "source": [
        "In this lesson, we saw how to select data from our dataframe using both the `iloc` and `loc` methods.  The `iloc` method works in the same way that we select data in numpy.  \n",
        "\n",
        "For loc, we must specify the labels of the index to select certain rows, and the column names to select columns.  Unlike in numpy or python, the `loc` method is inclusive.  That is, it selects up to and including the matching rows and columns."
      ]
    }
  ]
}