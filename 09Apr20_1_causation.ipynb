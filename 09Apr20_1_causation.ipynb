{
  "nbformat": 4,
  "nbformat_minor": 0,
  "metadata": {
    "kernelspec": {
      "display_name": "Python 3",
      "language": "python",
      "name": "python3"
    },
    "language_info": {
      "codemirror_mode": {
        "name": "ipython",
        "version": 3
      },
      "file_extension": ".py",
      "mimetype": "text/x-python",
      "name": "python",
      "nbconvert_exporter": "python",
      "pygments_lexer": "ipython3",
      "version": "3.7.4"
    },
    "colab": {
      "name": "Copy of 1-causation.ipynb",
      "provenance": [],
      "include_colab_link": true
    }
  },
  "cells": [
    {
      "cell_type": "markdown",
      "metadata": {
        "id": "view-in-github",
        "colab_type": "text"
      },
      "source": [
        "<a href=\"https://colab.research.google.com/github/ludawg44/jigsawlabs/blob/master/09Apr20_1_causation.ipynb\" target=\"_parent\"><img src=\"https://colab.research.google.com/assets/colab-badge.svg\" alt=\"Open In Colab\"/></a>"
      ]
    },
    {
      "cell_type": "markdown",
      "metadata": {
        "id": "s9sgBVNlj5kP",
        "colab_type": "text"
      },
      "source": [
        "# Cause and Effect"
      ]
    },
    {
      "cell_type": "markdown",
      "metadata": {
        "id": "Ksg4YUegj5kQ",
        "colab_type": "text"
      },
      "source": [
        "The principal goals in statistics and data science is to describe and explain our world.  Describing our world with data involves descriptive statistics.  For example, we can describe the income of adults over 18 years old in the US with the average income, or the maximum income.  \n",
        "\n",
        "More useful is being able to explain phenonmena or events in the world.  For example, if we can discover what *causes* an increase or decrease in incomes, perhaps we can produce more wealth.  "
      ]
    },
    {
      "cell_type": "markdown",
      "metadata": {
        "id": "DkDwez1fj5kR",
        "colab_type": "text"
      },
      "source": [
        "> Finding an underlying cause is important because if we can change that cause, we can impact the effect."
      ]
    },
    {
      "cell_type": "markdown",
      "metadata": {
        "id": "eVsGXw4gj5kR",
        "colab_type": "text"
      },
      "source": [
        "### Illustrating cause and effect"
      ]
    },
    {
      "cell_type": "markdown",
      "metadata": {
        "id": "sAM3d_o6j5kS",
        "colab_type": "text"
      },
      "source": [
        "We'll represent cause and effect like the following."
      ]
    },
    {
      "cell_type": "markdown",
      "metadata": {
        "id": "dJjtwuJFj5kS",
        "colab_type": "text"
      },
      "source": [
        "![](https://mermaid.ink/img/eyJjb2RlIjoiZ3JhcGggTFJcbiAgICBDYXVzZS0tPkVmZmVjdFxuXHRcblx0XHRcdFx0XHQiLCJtZXJtYWlkIjp7InRoZW1lIjoiZGVmYXVsdCJ9LCJ1cGRhdGVFZGl0b3IiOmZhbHNlfQ)"
      ]
    },
    {
      "cell_type": "markdown",
      "metadata": {
        "id": "q_0cMIrLj5kT",
        "colab_type": "text"
      },
      "source": [
        "For example, let's assume that an increase in smoking leads to an increased risk in acquiring lung cancer.  We can illustrate this like the following."
      ]
    },
    {
      "cell_type": "markdown",
      "metadata": {
        "id": "8ImUIaBHj5kT",
        "colab_type": "text"
      },
      "source": [
        "$Smoking \\rightarrow Cancer$"
      ]
    },
    {
      "cell_type": "markdown",
      "metadata": {
        "id": "5PYEUbsPj5kT",
        "colab_type": "text"
      },
      "source": [
        "Now in the diagram above, the variable we are trying to explain or predict is called the **outcome** or the **target**.  It's also called the *dependent variable*.\n",
        ">  Above, lung cancer is the outcome, or target, or dependent variable.\n",
        "\n",
        "And the input, smoking, is called the **explanatory variable**, as it is used to explain the incidence of lung cancer."
      ]
    },
    {
      "cell_type": "markdown",
      "metadata": {
        "id": "chODdaPpj5kU",
        "colab_type": "text"
      },
      "source": [
        "Note that our illustration of causation has a direction.  Smoking causes lung cancer.  But this does not mean that lung cancer causes smoking.  "
      ]
    },
    {
      "cell_type": "markdown",
      "metadata": {
        "id": "XB5ot7aLj5kV",
        "colab_type": "text"
      },
      "source": [
        "### Why we Care"
      ]
    },
    {
      "cell_type": "markdown",
      "metadata": {
        "id": "qkwko2uYj5kV",
        "colab_type": "text"
      },
      "source": [
        "As we mentioned, establishing causation is so important because it helps us know what to do."
      ]
    },
    {
      "cell_type": "markdown",
      "metadata": {
        "id": "hgBlprj1j5kW",
        "colab_type": "text"
      },
      "source": [
        "Once we establish that smoking causes lung cancer, if we can change the amount of people who smoke we can change incidence of lung cancer."
      ]
    },
    {
      "cell_type": "markdown",
      "metadata": {
        "id": "c01G9Aqkj5kW",
        "colab_type": "text"
      },
      "source": [
        "$Smoking \\rightarrow Cancer$"
      ]
    },
    {
      "cell_type": "markdown",
      "metadata": {
        "id": "724TyRC4j5kW",
        "colab_type": "text"
      },
      "source": [
        "Therefore:"
      ]
    },
    {
      "cell_type": "markdown",
      "metadata": {
        "id": "TbYEFEmVj5kX",
        "colab_type": "text"
      },
      "source": [
        "* $Increase$ $Smoking$ $\\rightarrow$ $Increase$ $Lung$ $Cancer$\n",
        "\n",
        "* $Decrease$ $Smoking$ $\\rightarrow$ $Decrease$ $Lung$ $Cancer$"
      ]
    },
    {
      "cell_type": "markdown",
      "metadata": {
        "id": "pyC1k1naj5kX",
        "colab_type": "text"
      },
      "source": [
        "So establishing causation is extremely important is because in many situations, we cannot directly control the outcome $Y$, but we sometimes can control $X$."
      ]
    },
    {
      "cell_type": "markdown",
      "metadata": {
        "id": "Z0Rw3OsCj5kY",
        "colab_type": "text"
      },
      "source": [
        "### How to establish causation"
      ]
    },
    {
      "cell_type": "markdown",
      "metadata": {
        "id": "3-AjAR5aj5kY",
        "colab_type": "text"
      },
      "source": [
        "Now while causation is excellent because it can tell us how we can impact a desired outcome, unfortunately establishing causation can be difficult.  For example, the impact of smoking on lung cancer is indirect.  Smoking increases the risk of cancer by weakening a person's immune system, and damaging a cell's DNA which increases the risk of cancer."
      ]
    },
    {
      "cell_type": "markdown",
      "metadata": {
        "id": "RYmaUNUdj5kY",
        "colab_type": "text"
      },
      "source": [
        "![](https://mermaid.ink/img/eyJjb2RlIjoiZ3JhcGggTFJcblx0QVtTbW9raW5nXSAtLT4gQihXZWFrZW5lZCBJbW11bmUgU3lzdGVtKVxuXHRBIC0tPiBDKERhbWFnZWQgRE5BKVxuXHRCIC0tPkRbTHVuZyBDYW5jZXJdXG5cdEMgLS0-RFtMdW5nIENhbmNlcl1cblx0XHRcdFx0XHRcblx0IiwibWVybWFpZCI6eyJ0aGVtZSI6ImRlZmF1bHQifSwidXBkYXRlRWRpdG9yIjpmYWxzZX0)"
      ]
    },
    {
      "cell_type": "markdown",
      "metadata": {
        "id": "4Csrn2nTj5kZ",
        "colab_type": "text"
      },
      "source": [
        "And establishing these links can be difficult."
      ]
    },
    {
      "cell_type": "markdown",
      "metadata": {
        "id": "uYwPMJ4lj5kZ",
        "colab_type": "text"
      },
      "source": [
        "A separate technique could be to show that as the rate of smoking increases, the rate of lung cancer increases, and that as the rate decreases the cancer rate decreases.  Which is in fact what occurred.\n",
        "\n",
        "<img src=\"https://github.com/jigsawlabs-student/correlations-to-experiments/blob/master/lung-cancer-cigarrettes.png?raw=1\" width=\"50%\">"
      ]
    },
    {
      "cell_type": "markdown",
      "metadata": {
        "id": "asStSDhCj5ka",
        "colab_type": "text"
      },
      "source": [
        "But what the chart above illustrates is **correlation** not *causation*."
      ]
    },
    {
      "cell_type": "markdown",
      "metadata": {
        "id": "9um4kFBGj5ka",
        "colab_type": "text"
      },
      "source": [
        "> Correlation between two variables, $X$ and $Y$, exists if knowing something about the value of X tells us something about the value of Y.  \n",
        "\n",
        "> Correlation exists between two variables $X$ and $Y$ if $ P(Y) \\ne  P(Y|X)$."
      ]
    },
    {
      "cell_type": "markdown",
      "metadata": {
        "id": "l5OvYnqmj5ka",
        "colab_type": "text"
      },
      "source": [
        "And as we'll see, while correlation is consistent with a cause and effect, it does not establish that one variable causes a change in our outcome or target.  So the chart above that we see, while it may look convincing *is not enough* to show that smoking causes lung cancer."
      ]
    },
    {
      "cell_type": "markdown",
      "metadata": {
        "id": "P-BtE5qAj5kb",
        "colab_type": "text"
      },
      "source": [
        "### Summary"
      ]
    },
    {
      "cell_type": "markdown",
      "metadata": {
        "id": "KA4zZ-uRj5kb",
        "colab_type": "text"
      },
      "source": [
        "In this lesson, we talked about causation and it's importance in decision making.  If we establish that an explanatory variable effects the value of a target or outcome then we may be able to change that explanatory variable, and thus change the outcome.  For example, if we assume that smoking causes cancer,"
      ]
    },
    {
      "cell_type": "markdown",
      "metadata": {
        "id": "VZ9jCplwj5kb",
        "colab_type": "text"
      },
      "source": [
        "$Smoking \\rightarrow Cancer$"
      ]
    },
    {
      "cell_type": "markdown",
      "metadata": {
        "id": "2MTW18kdj5kc",
        "colab_type": "text"
      },
      "source": [
        "Then decreasing the number of people who smoke can decrease the incidence of lung cancer.  Unfortunately causation is difficult to prove, and while correlation is consistent with a story of cause and effect, it does not by itself prove cause and effect.  We'll get into a deeper discussion of this in the next lesson."
      ]
    },
    {
      "cell_type": "markdown",
      "metadata": {
        "id": "tQRwXcwXj5kc",
        "colab_type": "text"
      },
      "source": [
        "### Resources"
      ]
    },
    {
      "cell_type": "markdown",
      "metadata": {
        "id": "WEo0o6vvj5kd",
        "colab_type": "text"
      },
      "source": [
        "[Smoking and Cancer](https://www.cdc.gov/tobacco/campaign/tips/diseases/cancer.html)"
      ]
    },
    {
      "cell_type": "markdown",
      "metadata": {
        "id": "8GVJ4TVYj5kd",
        "colab_type": "text"
      },
      "source": [
        "[Calling Bullshit Course](https://www.youtube.com/watch?v=YAAHJm1pi1E&list=PLPnZfvKID1Sje5jWxt-4CSZD7bUI4gSPS&index=12)"
      ]
    },
    {
      "cell_type": "markdown",
      "metadata": {
        "id": "7c6Qp4WAj5ke",
        "colab_type": "text"
      },
      "source": [
        "[Steve Levitt: Learning From Data](https://www.youtube.com/watch?v=2EH1D3nhOGI)"
      ]
    }
  ]
}