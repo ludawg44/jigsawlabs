{
  "nbformat": 4,
  "nbformat_minor": 0,
  "metadata": {
    "kernelspec": {
      "display_name": "Python 3",
      "language": "python",
      "name": "python3"
    },
    "language_info": {
      "codemirror_mode": {
        "name": "ipython",
        "version": 3
      },
      "file_extension": ".py",
      "mimetype": "text/x-python",
      "name": "python",
      "nbconvert_exporter": "python",
      "pygments_lexer": "ipython3",
      "version": "3.7.4"
    },
    "colab": {
      "name": "Copy of 6-isin-any-all.ipynb",
      "provenance": [],
      "include_colab_link": true
    }
  },
  "cells": [
    {
      "cell_type": "markdown",
      "metadata": {
        "id": "view-in-github",
        "colab_type": "text"
      },
      "source": [
        "<a href=\"https://colab.research.google.com/github/ludawg44/jigsawlabs/blob/master/Copy_of_6_isin_any_all.ipynb\" target=\"_parent\"><img src=\"https://colab.research.google.com/assets/colab-badge.svg\" alt=\"Open In Colab\"/></a>"
      ]
    },
    {
      "cell_type": "markdown",
      "metadata": {
        "id": "5qJnkrs6qow6",
        "colab_type": "text"
      },
      "source": [
        "# Isin, Any, and All"
      ]
    },
    {
      "cell_type": "markdown",
      "metadata": {
        "id": "rszHeb2Eqow8",
        "colab_type": "text"
      },
      "source": [
        "### Introduction"
      ]
    },
    {
      "cell_type": "markdown",
      "metadata": {
        "id": "8VMIwqpGqow9",
        "colab_type": "text"
      },
      "source": [
        "Now that we know how to filter by one column, let's see how we can write more advanced queries with numpy.  We'll do so using functions like `np.isin`, `np.any` and `np.all`, and we'll see how to use more complex conditionals."
      ]
    },
    {
      "cell_type": "markdown",
      "metadata": {
        "id": "hV7IyQ1eqow-",
        "colab_type": "text"
      },
      "source": [
        "### Checking for Multiple Values"
      ]
    },
    {
      "cell_type": "markdown",
      "metadata": {
        "id": "7aiUd_BZqow_",
        "colab_type": "text"
      },
      "source": [
        "Let's start by creating a grid of data.  We'll initialize an array of numbers 1 through 25, and then reshape this into a 5x5 array."
      ]
    },
    {
      "cell_type": "code",
      "metadata": {
        "id": "nwkhXg3qqoxA",
        "colab_type": "code",
        "outputId": "342d86cc-764e-4db0-8619-af32e58bfc8b",
        "colab": {}
      },
      "source": [
        "import numpy as np\n",
        "increasing_grid = np.arange(1, 26).reshape(5, 5)\n",
        "increasing_grid"
      ],
      "execution_count": 0,
      "outputs": [
        {
          "output_type": "execute_result",
          "data": {
            "text/plain": [
              "array([[ 1,  2,  3,  4,  5],\n",
              "       [ 6,  7,  8,  9, 10],\n",
              "       [11, 12, 13, 14, 15],\n",
              "       [16, 17, 18, 19, 20],\n",
              "       [21, 22, 23, 24, 25]])"
            ]
          },
          "metadata": {
            "tags": []
          },
          "execution_count": 3
        }
      ]
    },
    {
      "cell_type": "markdown",
      "metadata": {
        "id": "pDvxyU6GqoxF",
        "colab_type": "text"
      },
      "source": [
        "We already know how to select for rows that have a value in a specific location."
      ]
    },
    {
      "cell_type": "code",
      "metadata": {
        "id": "myUtKkBuqoxG",
        "colab_type": "code",
        "outputId": "c2b6039c-bcd9-4949-fa85-07b72db802da",
        "colab": {}
      },
      "source": [
        "increasing_grid[0, :] == 1"
      ],
      "execution_count": 0,
      "outputs": [
        {
          "output_type": "execute_result",
          "data": {
            "text/plain": [
              "array([ True, False, False, False, False])"
            ]
          },
          "metadata": {
            "tags": []
          },
          "execution_count": 7
        }
      ]
    },
    {
      "cell_type": "markdown",
      "metadata": {
        "id": "iF2DmLQvqoxJ",
        "colab_type": "text"
      },
      "source": [
        "For example, above we selected the first row, all columns, and checked if each item in the row equals 1."
      ]
    },
    {
      "cell_type": "markdown",
      "metadata": {
        "id": "1PRlBVq-qoxK",
        "colab_type": "text"
      },
      "source": [
        "Now, what if we want to check if any item in the row matches 1 or 5?  To do so, we can use the `np.isin` method."
      ]
    },
    {
      "cell_type": "code",
      "metadata": {
        "id": "_EO8LaFrqoxK",
        "colab_type": "code",
        "outputId": "f5ae47d5-561a-46bb-c7de-82fc9eeb8e64",
        "colab": {}
      },
      "source": [
        "np.isin(increasing_grid[0, :], [1, 5])"
      ],
      "execution_count": 0,
      "outputs": [
        {
          "output_type": "execute_result",
          "data": {
            "text/plain": [
              "array([ True, False, False, False,  True])"
            ]
          },
          "metadata": {
            "tags": []
          },
          "execution_count": 12
        }
      ]
    },
    {
      "cell_type": "markdown",
      "metadata": {
        "id": "wp2JBvWdqoxN",
        "colab_type": "text"
      },
      "source": [
        "So above, we found that the first and last items, match a 1 or a 5. "
      ]
    },
    {
      "cell_type": "code",
      "metadata": {
        "id": "estZ2EGwqoxO",
        "colab_type": "code",
        "colab": {}
      },
      "source": [
        "# [ 1,  2,  3,  4,  5]"
      ],
      "execution_count": 0,
      "outputs": []
    },
    {
      "cell_type": "markdown",
      "metadata": {
        "id": "0YpzmcKhqoxR",
        "colab_type": "text"
      },
      "source": [
        "Now this also works across rows.  So above, we select all rows, where the first item in the row is 1 or 6."
      ]
    },
    {
      "cell_type": "code",
      "metadata": {
        "id": "41gIRTjSqoxS",
        "colab_type": "code",
        "outputId": "5050b20f-be5b-4c65-c19c-30ade027bec7",
        "colab": {}
      },
      "source": [
        "increasing_grid[np.isin(increasing_grid[:, 0], [1, 6])]"
      ],
      "execution_count": 0,
      "outputs": [
        {
          "output_type": "execute_result",
          "data": {
            "text/plain": [
              "array([[ 1,  2,  3,  4,  5],\n",
              "       [ 6,  7,  8,  9, 10]])"
            ]
          },
          "metadata": {
            "tags": []
          },
          "execution_count": 46
        }
      ]
    },
    {
      "cell_type": "markdown",
      "metadata": {
        "id": "6SOOpRi4qoxV",
        "colab_type": "text"
      },
      "source": [
        "### One query per Row"
      ]
    },
    {
      "cell_type": "markdown",
      "metadata": {
        "id": "vk0j9cbKqoxW",
        "colab_type": "text"
      },
      "source": [
        "Now what if we want to ask whether, across the **entire row**, there is any match.  We may think that we can use `isin` to ask this question."
      ]
    },
    {
      "cell_type": "code",
      "metadata": {
        "id": "1KyHwEPmqoxX",
        "colab_type": "code",
        "outputId": "16afd8dd-70a9-4c29-e5c7-4a2da4a137c2",
        "colab": {}
      },
      "source": [
        "first_row = increasing_grid[0]\n",
        "first_row\n",
        "\n",
        "np.isin(first_row, [10])"
      ],
      "execution_count": 0,
      "outputs": [
        {
          "output_type": "execute_result",
          "data": {
            "text/plain": [
              "array([False, False, False, False, False])"
            ]
          },
          "metadata": {
            "tags": []
          },
          "execution_count": 10
        }
      ]
    },
    {
      "cell_type": "markdown",
      "metadata": {
        "id": "bQw5YnIZqoxa",
        "colab_type": "text"
      },
      "source": [
        "But this still returns us a True or False value or each item.  Really, we want to use `np.any`."
      ]
    },
    {
      "cell_type": "code",
      "metadata": {
        "id": "MhI7GGwDqoxb",
        "colab_type": "code",
        "outputId": "66bc7c3b-79de-453f-8007-a8cbb563565d",
        "colab": {}
      },
      "source": [
        "np.any(first_row > 10)"
      ],
      "execution_count": 0,
      "outputs": [
        {
          "output_type": "execute_result",
          "data": {
            "text/plain": [
              "False"
            ]
          },
          "metadata": {
            "tags": []
          },
          "execution_count": 59
        }
      ]
    },
    {
      "cell_type": "markdown",
      "metadata": {
        "id": "V9MarfzHqoxe",
        "colab_type": "text"
      },
      "source": [
        "So with `np.isin` we get a boolean value for each item in the array.  \n",
        "\n",
        "With `np.any`, we return a single value boolean value depending on if any item in the array equal to 10.  "
      ]
    },
    {
      "cell_type": "markdown",
      "metadata": {
        "id": "-_xlFdjQqoxf",
        "colab_type": "text"
      },
      "source": [
        "> With `np.any` we ask a question of the *entire array*.  Only if all of the items in the array return False, does `np.any` return False.  Otherwise `np.any` returns True."
      ]
    },
    {
      "cell_type": "code",
      "metadata": {
        "id": "uHuXWG84qoxg",
        "colab_type": "code",
        "outputId": "41eea107-8df6-49fc-a348-eb7fef69d956",
        "colab": {}
      },
      "source": [
        "np.any(first_row > 4)"
      ],
      "execution_count": 0,
      "outputs": [
        {
          "output_type": "execute_result",
          "data": {
            "text/plain": [
              "True"
            ]
          },
          "metadata": {
            "tags": []
          },
          "execution_count": 60
        }
      ]
    },
    {
      "cell_type": "markdown",
      "metadata": {
        "id": "Lyfc8yv1qoxj",
        "colab_type": "text"
      },
      "source": [
        "Let's take a moment to unpack how `np.any` works.  It works through boolean indexing."
      ]
    },
    {
      "cell_type": "code",
      "metadata": {
        "id": "_kjUd_6Gqoxk",
        "colab_type": "code",
        "outputId": "fcb64c55-74a1-4c50-dac5-c17c847de946",
        "colab": {}
      },
      "source": [
        "first_row"
      ],
      "execution_count": 0,
      "outputs": [
        {
          "output_type": "execute_result",
          "data": {
            "text/plain": [
              "array([1, 2, 3, 4, 5])"
            ]
          },
          "metadata": {
            "tags": []
          },
          "execution_count": 32
        }
      ]
    },
    {
      "cell_type": "code",
      "metadata": {
        "id": "QOTijsKdqoxn",
        "colab_type": "code",
        "outputId": "e4dfa4f8-520e-4434-8685-a434a5641d2a",
        "colab": {}
      },
      "source": [
        "first_row > 10"
      ],
      "execution_count": 0,
      "outputs": [
        {
          "output_type": "execute_result",
          "data": {
            "text/plain": [
              "array([False, False, False, False, False])"
            ]
          },
          "metadata": {
            "tags": []
          },
          "execution_count": 27
        }
      ]
    },
    {
      "cell_type": "code",
      "metadata": {
        "id": "7hAH2pv8qoxr",
        "colab_type": "code",
        "outputId": "54bbbf59-229a-494b-aa21-56673cb27320",
        "colab": {}
      },
      "source": [
        "np.any(first_row > 10)"
      ],
      "execution_count": 0,
      "outputs": [
        {
          "output_type": "execute_result",
          "data": {
            "text/plain": [
              "False"
            ]
          },
          "metadata": {
            "tags": []
          },
          "execution_count": 28
        }
      ]
    },
    {
      "cell_type": "markdown",
      "metadata": {
        "id": "__GncD9Vqoxv",
        "colab_type": "text"
      },
      "source": [
        "So with any, if there is any truthy statment in the array, we get a return value of True."
      ]
    },
    {
      "cell_type": "markdown",
      "metadata": {
        "id": "hsk2oJtSqoxx",
        "colab_type": "text"
      },
      "source": [
        "### Querying Multiple Rows"
      ]
    },
    {
      "cell_type": "markdown",
      "metadata": {
        "id": "ivVsOVk7qoxx",
        "colab_type": "text"
      },
      "source": [
        "So we just saw that we can use `np.any` to see if any item in the row returns True for a query.  Now let's try to use `np.any` to perform this query for each row."
      ]
    },
    {
      "cell_type": "code",
      "metadata": {
        "id": "FuWXAUThqoxy",
        "colab_type": "code",
        "outputId": "2c8a91cd-492b-485a-9966-4da9c4b185c6",
        "colab": {}
      },
      "source": [
        "import numpy as np\n",
        "increasing_grid = np.arange(1, 26).reshape(5, 5)\n",
        "increasing_grid"
      ],
      "execution_count": 0,
      "outputs": [
        {
          "output_type": "execute_result",
          "data": {
            "text/plain": [
              "array([[ 1,  2,  3,  4,  5],\n",
              "       [ 6,  7,  8,  9, 10],\n",
              "       [11, 12, 13, 14, 15],\n",
              "       [16, 17, 18, 19, 20],\n",
              "       [21, 22, 23, 24, 25]])"
            ]
          },
          "metadata": {
            "tags": []
          },
          "execution_count": 61
        }
      ]
    },
    {
      "cell_type": "markdown",
      "metadata": {
        "id": "Z82U6uy0qox1",
        "colab_type": "text"
      },
      "source": [
        "Our first attempt is to use `np.any` on the entire array. "
      ]
    },
    {
      "cell_type": "code",
      "metadata": {
        "id": "9XjcWX7gqox3",
        "colab_type": "code",
        "outputId": "0f1e0537-0b01-4fd2-8ddd-bf3dde74f8b9",
        "colab": {}
      },
      "source": [
        "np.any(increasing_grid > 10)"
      ],
      "execution_count": 0,
      "outputs": [
        {
          "output_type": "execute_result",
          "data": {
            "text/plain": [
              "True"
            ]
          },
          "metadata": {
            "tags": []
          },
          "execution_count": 63
        }
      ]
    },
    {
      "cell_type": "markdown",
      "metadata": {
        "id": "754Umf_5qox7",
        "colab_type": "text"
      },
      "source": [
        " But this asks if *any* item in the entire array is greater than 10."
      ]
    },
    {
      "cell_type": "markdown",
      "metadata": {
        "id": "v7ohpfYxqox8",
        "colab_type": "text"
      },
      "source": [
        "So instead we must provide the `axis = 1` to query across columns."
      ]
    },
    {
      "cell_type": "code",
      "metadata": {
        "id": "_BhhLzYqqoyF",
        "colab_type": "code",
        "outputId": "b0174af5-ef46-43a9-86b1-00be9a064f22",
        "colab": {}
      },
      "source": [
        "np.any(increasing_grid > 10, axis = 1)"
      ],
      "execution_count": 0,
      "outputs": [
        {
          "output_type": "execute_result",
          "data": {
            "text/plain": [
              "array([False, False,  True,  True,  True])"
            ]
          },
          "metadata": {
            "tags": []
          },
          "execution_count": 64
        }
      ]
    },
    {
      "cell_type": "markdown",
      "metadata": {
        "id": "YncpUrgbqoyJ",
        "colab_type": "text"
      },
      "source": [
        "And then we can then use boolean indexing to select the rows where any item is greater than 10."
      ]
    },
    {
      "cell_type": "code",
      "metadata": {
        "id": "HN9-aXrcqoyJ",
        "colab_type": "code",
        "outputId": "b4e3a0ce-ae07-45dd-fa95-6371f4f3fc89",
        "colab": {}
      },
      "source": [
        "increasing_grid[np.any(increasing_grid > 10, axis = 1)]"
      ],
      "execution_count": 0,
      "outputs": [
        {
          "output_type": "execute_result",
          "data": {
            "text/plain": [
              "array([[11, 12, 13, 14, 15],\n",
              "       [16, 17, 18, 19, 20],\n",
              "       [21, 22, 23, 24, 25]])"
            ]
          },
          "metadata": {
            "tags": []
          },
          "execution_count": 40
        }
      ]
    },
    {
      "cell_type": "markdown",
      "metadata": {
        "id": "8Atw7hdQqoyM",
        "colab_type": "text"
      },
      "source": [
        "> The `np.all` method works similarly, but only returns True **if every item** meets a certain criteria."
      ]
    },
    {
      "cell_type": "code",
      "metadata": {
        "id": "3Vp_x_FEqoyM",
        "colab_type": "code",
        "outputId": "8a731f59-73da-443d-a6d4-0ee5179e9bc7",
        "colab": {}
      },
      "source": [
        "increasing_grid[np.all(increasing_grid < 10, axis = 1)]"
      ],
      "execution_count": 0,
      "outputs": [
        {
          "output_type": "execute_result",
          "data": {
            "text/plain": [
              "array([[1, 2, 3, 4, 5]])"
            ]
          },
          "metadata": {
            "tags": []
          },
          "execution_count": 42
        }
      ]
    },
    {
      "cell_type": "markdown",
      "metadata": {
        "id": "3xK5PMSpqoyP",
        "colab_type": "text"
      },
      "source": [
        "### Summary"
      ]
    },
    {
      "cell_type": "markdown",
      "metadata": {
        "id": "fXtAva-5qoyQ",
        "colab_type": "text"
      },
      "source": [
        "In this lesson, we saw how we can use numpy for more advanced queries.  We saw how we can use `np.isin` to check if an item in the array matches one of multiple values, and to use methods like `np.any` or `np.all` to see if any or all items in an array are True."
      ]
    }
  ]
}