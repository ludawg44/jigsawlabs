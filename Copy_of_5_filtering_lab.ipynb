{
  "nbformat": 4,
  "nbformat_minor": 0,
  "metadata": {
    "kernelspec": {
      "display_name": "Python 3",
      "language": "python",
      "name": "python3"
    },
    "language_info": {
      "codemirror_mode": {
        "name": "ipython",
        "version": 3
      },
      "file_extension": ".py",
      "mimetype": "text/x-python",
      "name": "python",
      "nbconvert_exporter": "python",
      "pygments_lexer": "ipython3",
      "version": "3.7.4"
    },
    "colab": {
      "name": "Copy of 5-filtering-lab.ipynb",
      "provenance": [],
      "include_colab_link": true
    }
  },
  "cells": [
    {
      "cell_type": "markdown",
      "metadata": {
        "id": "view-in-github",
        "colab_type": "text"
      },
      "source": [
        "<a href=\"https://colab.research.google.com/github/ludawg44/jigsawlabs/blob/master/Copy_of_5_filtering_lab.ipynb\" target=\"_parent\"><img src=\"https://colab.research.google.com/assets/colab-badge.svg\" alt=\"Open In Colab\"/></a>"
      ]
    },
    {
      "cell_type": "markdown",
      "metadata": {
        "id": "4KX_4cnYq0UA",
        "colab_type": "text"
      },
      "source": [
        "# Filtering Lab"
      ]
    },
    {
      "cell_type": "markdown",
      "metadata": {
        "id": "2y4x5AUxq0UC",
        "colab_type": "text"
      },
      "source": [
        "### Introduction"
      ]
    },
    {
      "cell_type": "markdown",
      "metadata": {
        "id": "ry-mfvKWq0UE",
        "colab_type": "text"
      },
      "source": [
        "Now let's put some of our numpy knowledge to explore data in Spotify.  In this lesson, we'll take a look at the top 10 songs through the years."
      ]
    },
    {
      "cell_type": "markdown",
      "metadata": {
        "id": "vjqe5dI5q0UF",
        "colab_type": "text"
      },
      "source": [
        "### Loading Data"
      ]
    },
    {
      "cell_type": "code",
      "metadata": {
        "id": "mhpJPTD6q0UH",
        "colab_type": "code",
        "outputId": "c73e79b8-8dd7-47ab-cef9-46b58d694c65",
        "colab": {}
      },
      "source": [
        "import pandas as pd\n",
        "import numpy as np\n",
        "\n",
        "url = \"https://raw.githubusercontent.com/jigsawlabs-student/numpy-intro/master/top10s.csv\"\n",
        "df = pd.read_csv(url, encoding = \"ISO-8859-1\", index_col = 0)\n",
        "df.head()"
      ],
      "execution_count": 0,
      "outputs": [
        {
          "output_type": "execute_result",
          "data": {
            "text/html": [
              "<div>\n",
              "<style scoped>\n",
              "    .dataframe tbody tr th:only-of-type {\n",
              "        vertical-align: middle;\n",
              "    }\n",
              "\n",
              "    .dataframe tbody tr th {\n",
              "        vertical-align: top;\n",
              "    }\n",
              "\n",
              "    .dataframe thead th {\n",
              "        text-align: right;\n",
              "    }\n",
              "</style>\n",
              "<table border=\"1\" class=\"dataframe\">\n",
              "  <thead>\n",
              "    <tr style=\"text-align: right;\">\n",
              "      <th></th>\n",
              "      <th>title</th>\n",
              "      <th>artist</th>\n",
              "      <th>top genre</th>\n",
              "      <th>year</th>\n",
              "      <th>bpm</th>\n",
              "      <th>nrgy</th>\n",
              "      <th>dnce</th>\n",
              "      <th>dB</th>\n",
              "      <th>live</th>\n",
              "      <th>val</th>\n",
              "      <th>dur</th>\n",
              "      <th>acous</th>\n",
              "      <th>spch</th>\n",
              "      <th>pop</th>\n",
              "    </tr>\n",
              "  </thead>\n",
              "  <tbody>\n",
              "    <tr>\n",
              "      <th>1</th>\n",
              "      <td>Hey, Soul Sister</td>\n",
              "      <td>Train</td>\n",
              "      <td>neo mellow</td>\n",
              "      <td>2010</td>\n",
              "      <td>97</td>\n",
              "      <td>89</td>\n",
              "      <td>67</td>\n",
              "      <td>-4</td>\n",
              "      <td>8</td>\n",
              "      <td>80</td>\n",
              "      <td>217</td>\n",
              "      <td>19</td>\n",
              "      <td>4</td>\n",
              "      <td>83</td>\n",
              "    </tr>\n",
              "    <tr>\n",
              "      <th>2</th>\n",
              "      <td>Love The Way You Lie</td>\n",
              "      <td>Eminem</td>\n",
              "      <td>detroit hip hop</td>\n",
              "      <td>2010</td>\n",
              "      <td>87</td>\n",
              "      <td>93</td>\n",
              "      <td>75</td>\n",
              "      <td>-5</td>\n",
              "      <td>52</td>\n",
              "      <td>64</td>\n",
              "      <td>263</td>\n",
              "      <td>24</td>\n",
              "      <td>23</td>\n",
              "      <td>82</td>\n",
              "    </tr>\n",
              "    <tr>\n",
              "      <th>3</th>\n",
              "      <td>TiK ToK</td>\n",
              "      <td>Kesha</td>\n",
              "      <td>dance pop</td>\n",
              "      <td>2010</td>\n",
              "      <td>120</td>\n",
              "      <td>84</td>\n",
              "      <td>76</td>\n",
              "      <td>-3</td>\n",
              "      <td>29</td>\n",
              "      <td>71</td>\n",
              "      <td>200</td>\n",
              "      <td>10</td>\n",
              "      <td>14</td>\n",
              "      <td>80</td>\n",
              "    </tr>\n",
              "    <tr>\n",
              "      <th>4</th>\n",
              "      <td>Bad Romance</td>\n",
              "      <td>Lady Gaga</td>\n",
              "      <td>dance pop</td>\n",
              "      <td>2010</td>\n",
              "      <td>119</td>\n",
              "      <td>92</td>\n",
              "      <td>70</td>\n",
              "      <td>-4</td>\n",
              "      <td>8</td>\n",
              "      <td>71</td>\n",
              "      <td>295</td>\n",
              "      <td>0</td>\n",
              "      <td>4</td>\n",
              "      <td>79</td>\n",
              "    </tr>\n",
              "    <tr>\n",
              "      <th>5</th>\n",
              "      <td>Just the Way You Are</td>\n",
              "      <td>Bruno Mars</td>\n",
              "      <td>pop</td>\n",
              "      <td>2010</td>\n",
              "      <td>109</td>\n",
              "      <td>84</td>\n",
              "      <td>64</td>\n",
              "      <td>-5</td>\n",
              "      <td>9</td>\n",
              "      <td>43</td>\n",
              "      <td>221</td>\n",
              "      <td>2</td>\n",
              "      <td>4</td>\n",
              "      <td>78</td>\n",
              "    </tr>\n",
              "  </tbody>\n",
              "</table>\n",
              "</div>"
            ],
            "text/plain": [
              "                  title      artist        top genre  year  bpm  nrgy  dnce  \\\n",
              "1      Hey, Soul Sister       Train       neo mellow  2010   97    89    67   \n",
              "2  Love The Way You Lie      Eminem  detroit hip hop  2010   87    93    75   \n",
              "3               TiK ToK       Kesha        dance pop  2010  120    84    76   \n",
              "4           Bad Romance   Lady Gaga        dance pop  2010  119    92    70   \n",
              "5  Just the Way You Are  Bruno Mars              pop  2010  109    84    64   \n",
              "\n",
              "   dB  live  val  dur  acous  spch  pop  \n",
              "1  -4     8   80  217     19     4   83  \n",
              "2  -5    52   64  263     24    23   82  \n",
              "3  -3    29   71  200     10    14   80  \n",
              "4  -4     8   71  295      0     4   79  \n",
              "5  -5     9   43  221      2     4   78  "
            ]
          },
          "metadata": {
            "tags": []
          },
          "execution_count": 6
        }
      ]
    },
    {
      "cell_type": "markdown",
      "metadata": {
        "id": "bf7P3EyBq0UN",
        "colab_type": "text"
      },
      "source": [
        "Above we loaded a set of csv data.  Notice that we chose `ISO-8859-1` as our encoding option.  We did this so that we could read certain unicode data."
      ]
    },
    {
      "cell_type": "markdown",
      "metadata": {
        "id": "BIEWmirRq0UO",
        "colab_type": "text"
      },
      "source": [
        "Ok, enough of pandas.  Now let's start use numpy."
      ]
    },
    {
      "cell_type": "code",
      "metadata": {
        "id": "2ENr_wTTq0UP",
        "colab_type": "code",
        "colab": {}
      },
      "source": [
        "spotify_np = df.to_numpy()"
      ],
      "execution_count": 0,
      "outputs": []
    },
    {
      "cell_type": "markdown",
      "metadata": {
        "id": "jIyJi7Wuq0US",
        "colab_type": "text"
      },
      "source": [
        "> Let's store the list of pandas columns in an array."
      ]
    },
    {
      "cell_type": "code",
      "metadata": {
        "id": "1adUMAqCq0UT",
        "colab_type": "code",
        "outputId": "cd4bdd74-ff83-4652-cdac-c024dbe3b9e7",
        "colab": {}
      },
      "source": [
        "spotify_cols = df.columns\n",
        "spotify_cols"
      ],
      "execution_count": 0,
      "outputs": [
        {
          "output_type": "execute_result",
          "data": {
            "text/plain": [
              "Index(['title', 'artist', 'top genre', 'year', 'bpm', 'nrgy', 'dnce', 'dB',\n",
              "       'live', 'val', 'dur', 'acous', 'spch', 'pop'],\n",
              "      dtype='object')"
            ]
          },
          "metadata": {
            "tags": []
          },
          "execution_count": 8
        }
      ]
    },
    {
      "cell_type": "markdown",
      "metadata": {
        "id": "WBJplALcq0UY",
        "colab_type": "text"
      },
      "source": [
        "We can get a sense of what these attributes mean by looking at the [Spotify API here](https://developer.spotify.com/documentation/web-api/reference/tracks/get-audio-features/)."
      ]
    },
    {
      "cell_type": "markdown",
      "metadata": {
        "id": "VweZTV3Uq0UZ",
        "colab_type": "text"
      },
      "source": [
        "### Working with Numpy"
      ]
    },
    {
      "cell_type": "markdown",
      "metadata": {
        "id": "fNUA8dJiq0Ua",
        "colab_type": "text"
      },
      "source": [
        "To see what this looks like in Numpy, let's begin by slicing the first three rows from our dataset."
      ]
    },
    {
      "cell_type": "code",
      "metadata": {
        "id": "L9eWGEcaq0Ub",
        "colab_type": "code",
        "colab": {}
      },
      "source": [
        "first_three_rows = None\n",
        "first_three_rows\n",
        "# array([['Hey, Soul Sister', 'Train', 'neo mellow', 2010, 97, 89, 67, -4,\n",
        "#         8, 80, 217, 19, 4, 83],\n",
        "#        ['Love The Way You Lie', 'Eminem', 'detroit hip hop', 2010, 87,\n",
        "#         93, 75, -5, 52, 64, 263, 24, 23, 82],\n",
        "#        ['TiK ToK', 'Kesha', 'dance pop', 2010, 120, 84, 76, -3, 29, 71,\n",
        "#         200, 10, 14, 80]], dtype=object)"
      ],
      "execution_count": 0,
      "outputs": []
    },
    {
      "cell_type": "markdown",
      "metadata": {
        "id": "Xxuc6Z97q0Ue",
        "colab_type": "text"
      },
      "source": [
        "Now that we've look at a few rows in numpy, let's see the shape of the data."
      ]
    },
    {
      "cell_type": "code",
      "metadata": {
        "id": "k7LAA6uEq0Uf",
        "colab_type": "code",
        "colab": {}
      },
      "source": [
        "# your code here\n",
        "\n",
        "# (603, 14)"
      ],
      "execution_count": 0,
      "outputs": []
    },
    {
      "cell_type": "markdown",
      "metadata": {
        "id": "i5Svd7g_q0Ui",
        "colab_type": "text"
      },
      "source": [
        "So we can see that there are 603 entries."
      ]
    },
    {
      "cell_type": "markdown",
      "metadata": {
        "id": "Ltx3Huhuq0Uk",
        "colab_type": "text"
      },
      "source": [
        "Let's look at the maximum and minimum year for the entries."
      ]
    },
    {
      "cell_type": "code",
      "metadata": {
        "id": "ol0rcvi3q0Uk",
        "colab_type": "code",
        "colab": {}
      },
      "source": [
        "max_year = None\n",
        "max_year\n",
        "# 2019"
      ],
      "execution_count": 0,
      "outputs": []
    },
    {
      "cell_type": "code",
      "metadata": {
        "id": "EwjckWaJq0Up",
        "colab_type": "code",
        "colab": {}
      },
      "source": [
        "max_year = None\n",
        "max_year\n",
        "# 2010"
      ],
      "execution_count": 0,
      "outputs": []
    },
    {
      "cell_type": "markdown",
      "metadata": {
        "id": "jzFL6-pyq0Us",
        "colab_type": "text"
      },
      "source": [
        "### Selecting Data"
      ]
    },
    {
      "cell_type": "markdown",
      "metadata": {
        "id": "3gwjTUu0q0Ut",
        "colab_type": "text"
      },
      "source": [
        "Once again, here are the columns."
      ]
    },
    {
      "cell_type": "code",
      "metadata": {
        "id": "7h88JqS3q0Ut",
        "colab_type": "code",
        "outputId": "314ed7d8-a2da-4d79-9478-3ff02b7a5453",
        "colab": {}
      },
      "source": [
        "spotify_cols"
      ],
      "execution_count": 0,
      "outputs": [
        {
          "output_type": "execute_result",
          "data": {
            "text/plain": [
              "Index(['title', 'artist', 'top genre', 'year', 'bpm', 'nrgy', 'dnce', 'dB',\n",
              "       'live', 'val', 'dur', 'acous', 'spch', 'pop'],\n",
              "      dtype='object')"
            ]
          },
          "metadata": {
            "tags": []
          },
          "execution_count": 18
        }
      ]
    },
    {
      "cell_type": "markdown",
      "metadata": {
        "id": "vAnTEbMgq0Uw",
        "colab_type": "text"
      },
      "source": [
        "Let's start by selecting all the first five artists listed in our `spotify_np` array."
      ]
    },
    {
      "cell_type": "code",
      "metadata": {
        "id": "lS-H1ctKq0Ux",
        "colab_type": "code",
        "outputId": "e13f8098-e186-48b4-b96b-bb5f84575348",
        "colab": {}
      },
      "source": [
        "# your code here \n",
        "\n",
        "# array(['Train', 'Eminem', 'Kesha', 'Lady Gaga', 'Bruno Mars'],\n",
        "#       dtype=object)"
      ],
      "execution_count": 0,
      "outputs": [
        {
          "output_type": "execute_result",
          "data": {
            "text/plain": [
              "array(['Train', 'Eminem', 'Kesha', 'Lady Gaga', 'Bruno Mars'],\n",
              "      dtype=object)"
            ]
          },
          "metadata": {
            "tags": []
          },
          "execution_count": 29
        }
      ]
    },
    {
      "cell_type": "markdown",
      "metadata": {
        "id": "ZvHCfhDPq0U0",
        "colab_type": "text"
      },
      "source": [
        "Next let's select all of the rows where the artist is `Eminem`."
      ]
    },
    {
      "cell_type": "code",
      "metadata": {
        "id": "3Jk7cESnq0U1",
        "colab_type": "code",
        "colab": {}
      },
      "source": [
        "eminem_songs = None\n",
        "eminem_songs\n",
        "\n",
        "# array([['Love The Way You Lie', 'Eminem', 'detroit hip hop', 2010, 87,\n",
        "#         93, 75, -5, 52, 64, 263, 24, 23, 82],\n",
        "#        ['Walk On Water (feat. Beyoncé)', 'Eminem', 'detroit hip hop',\n",
        "#         2018, 82, 44, 48, -10, 64, 62, 304, 81, 24, 65]], dtype=object)\n"
      ],
      "execution_count": 0,
      "outputs": []
    },
    {
      "cell_type": "markdown",
      "metadata": {
        "id": "5FegeWxZq0U5",
        "colab_type": "text"
      },
      "source": [
        "Next, let's select the all of the years that `Beyonce` wrote a top song."
      ]
    },
    {
      "cell_type": "code",
      "metadata": {
        "id": "797gy0oBq0U6",
        "colab_type": "code",
        "colab": {}
      },
      "source": [
        "beyonce = \"Beyoncé\""
      ],
      "execution_count": 0,
      "outputs": []
    },
    {
      "cell_type": "code",
      "metadata": {
        "id": "aqCx9m_Xq0U9",
        "colab_type": "code",
        "colab": {}
      },
      "source": [
        "beyonce_years = None\n",
        "\n",
        "beyonce_years\n",
        "# array([2011, 2011, 2011, 2011, 2014, 2014, 2014, 2015], dtype=object)"
      ],
      "execution_count": 0,
      "outputs": []
    },
    {
      "cell_type": "markdown",
      "metadata": {
        "id": "JNUy4Azaq0VB",
        "colab_type": "text"
      },
      "source": [
        "> Note that we can see the years that she had the most top songs by using the `np.unique` method with `return_counts = True`."
      ]
    },
    {
      "cell_type": "code",
      "metadata": {
        "id": "Vt536Pnpq0VC",
        "colab_type": "code",
        "outputId": "76b69b66-5703-408d-f7d1-14a6f4b1f9e4",
        "colab": {}
      },
      "source": [
        "top_years = np.unique(beyonce_years, return_counts=True)\n",
        "top_years"
      ],
      "execution_count": 0,
      "outputs": [
        {
          "output_type": "execute_result",
          "data": {
            "text/plain": [
              "(array([2011, 2014, 2015], dtype=object), array([4, 3, 1]))"
            ]
          },
          "metadata": {
            "tags": []
          },
          "execution_count": 41
        }
      ]
    },
    {
      "cell_type": "markdown",
      "metadata": {
        "id": "H4YzhPwBq0VG",
        "colab_type": "text"
      },
      "source": [
        "So we can see that she had 4 top songs in 2011.  Let's see what they were."
      ]
    },
    {
      "cell_type": "markdown",
      "metadata": {
        "id": "Jp6notfvq0VI",
        "colab_type": "text"
      },
      "source": [
        "Write a statement to select all of the rows from 2011."
      ]
    },
    {
      "cell_type": "code",
      "metadata": {
        "id": "kOQv2dKmq0VJ",
        "colab_type": "code",
        "colab": {}
      },
      "source": [
        "spotify_2011 = spotify_np[(spotify_np[:, 3] == 2011)]"
      ],
      "execution_count": 0,
      "outputs": []
    },
    {
      "cell_type": "markdown",
      "metadata": {
        "id": "uRSaUvULq0VN",
        "colab_type": "text"
      },
      "source": [
        "Then from there, select the songs from 2011 written by Beyoncé."
      ]
    },
    {
      "cell_type": "code",
      "metadata": {
        "id": "PxwfolChq0VO",
        "colab_type": "code",
        "colab": {}
      },
      "source": [
        "beyonce = \"Beyoncé\""
      ],
      "execution_count": 0,
      "outputs": []
    },
    {
      "cell_type": "markdown",
      "metadata": {
        "id": "p243SMkLq0VR",
        "colab_type": "text"
      },
      "source": [
        "Next let's use `np.unique` to see a list of all of the genres in the list and the number of times they occur."
      ]
    },
    {
      "cell_type": "markdown",
      "metadata": {
        "id": "_U5IZpzVq0VZ",
        "colab_type": "text"
      },
      "source": [
        "### Resources"
      ]
    },
    {
      "cell_type": "markdown",
      "metadata": {
        "id": "0XzyHlIZq0Va",
        "colab_type": "text"
      },
      "source": [
        "[Kaggle Spotify Dataset](https://www.kaggle.com/leonardopena/top-spotify-songs-from-20102019-by-year)"
      ]
    }
  ]
}