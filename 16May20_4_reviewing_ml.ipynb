{
  "nbformat": 4,
  "nbformat_minor": 0,
  "metadata": {
    "kernelspec": {
      "display_name": "Python 3",
      "language": "python",
      "name": "python3"
    },
    "language_info": {
      "codemirror_mode": {
        "name": "ipython",
        "version": 3
      },
      "file_extension": ".py",
      "mimetype": "text/x-python",
      "name": "python",
      "nbconvert_exporter": "python",
      "pygments_lexer": "ipython3",
      "version": "3.7.4"
    },
    "colab": {
      "name": "Copy of 4-reviewing-ml.ipynb",
      "provenance": [],
      "include_colab_link": true
    }
  },
  "cells": [
    {
      "cell_type": "markdown",
      "metadata": {
        "id": "view-in-github",
        "colab_type": "text"
      },
      "source": [
        "<a href=\"https://colab.research.google.com/github/ludawg44/jigsawlabs/blob/master/16May20_4_reviewing_ml.ipynb\" target=\"_parent\"><img src=\"https://colab.research.google.com/assets/colab-badge.svg\" alt=\"Open In Colab\"/></a>"
      ]
    },
    {
      "cell_type": "markdown",
      "metadata": {
        "id": "iaBtHD5TDuAE",
        "colab_type": "text"
      },
      "source": [
        "# The Components of Machine Learning"
      ]
    },
    {
      "cell_type": "markdown",
      "metadata": {
        "id": "56wueGMdDuAF",
        "colab_type": "text"
      },
      "source": [
        "### Introduction"
      ]
    },
    {
      "cell_type": "markdown",
      "metadata": {
        "id": "TeZW8OhnDuAF",
        "colab_type": "text"
      },
      "source": [
        "At this point, we learned seen some  major components of a machine learning.  Let's take this moment to review."
      ]
    },
    {
      "cell_type": "markdown",
      "metadata": {
        "id": "MnM50QhADuAG",
        "colab_type": "text"
      },
      "source": [
        "We saw that unlike traditional programming, in machine learning we are not given the underlying logic of a function, but use the machine learning process to discover it.\n",
        "\n",
        "We do this by:\n",
        "* using our **training data** to \n",
        "* discover a **hypothesis function** that comes close to predicting the targets of our training data.  \n",
        "* And we discover our hypothesis function by following a **training procedure**, \n",
        "* where we choose a hypothesis function that minimizes the output from a **cost function**."
      ]
    },
    {
      "cell_type": "markdown",
      "metadata": {
        "id": "ndIhgrr2DuAG",
        "colab_type": "text"
      },
      "source": [
        "Let's review some of the details."
      ]
    },
    {
      "cell_type": "markdown",
      "metadata": {
        "id": "SRBjFlyqDuAG",
        "colab_type": "text"
      },
      "source": [
        "### Our Data"
      ]
    },
    {
      "cell_type": "markdown",
      "metadata": {
        "id": "XTnRuQHCDuAH",
        "colab_type": "text"
      },
      "source": [
        "We can think of our training data like a set of past experiments.  And we use these experiments to discover what makes each experiment have one outcome or the other.  Here is a look at our training data."
      ]
    },
    {
      "cell_type": "markdown",
      "metadata": {
        "id": "jjZ7P3VtDuAH",
        "colab_type": "text"
      },
      "source": [
        "| Attended College | Under Thirty | Borough   | Income | Customer |\n",
        "| ---------------- | ------------ | --------- | ------ | :------: |\n",
        "| ?                | Yes          | Manhattan | < 55   |    0     |\n",
        "| Yes              | Yes          | Brooklyn  | < 55   |    0     |\n",
        "| ?                | No           | Brooklyn  | < 55   |    1     |"
      ]
    },
    {
      "cell_type": "markdown",
      "metadata": {
        "id": "Dq7nUkQxDuAI",
        "colab_type": "text"
      },
      "source": [
        "We call each row of data an **observation** and we can think of each observation as having two components: the features and the target.  If we think of each observation like a separate experiment, then the **target** describes the *result* of that experiment.  Above our target is whether or not the lead became a customer.  And the **features** describe the potential inputs that led to each outcome.  "
      ]
    },
    {
      "cell_type": "markdown",
      "metadata": {
        "id": "Thg5z4kDDuAI",
        "colab_type": "text"
      },
      "source": [
        "## Training"
      ]
    },
    {
      "cell_type": "markdown",
      "metadata": {
        "id": "Ao2yJzXHDuAJ",
        "colab_type": "text"
      },
      "source": [
        "The goal of machine learning is to somehow use our observations to find a hypothesis function that predicts the outcomes of future data.  We do that by following a training procedure.  \n",
        "\n",
        "The training procedure is just a series of steps to arrive at a hypothesis function.  The training procedure has a cost function, and throughout training, the goal is to minimize the output of the cost function.\n",
        "\n",
        "#### Training in a decision tree\n",
        "\n",
        "In the context of decision trees, training means starting with all of our training data and doing the following:"
      ]
    },
    {
      "cell_type": "markdown",
      "metadata": {
        "id": "e0mTgv-qDuAJ",
        "colab_type": "text"
      },
      "source": [
        "**For a mixed group of training data:**\n",
        "1. Find the feature that most separates the data by the target values by\n",
        "    * Splitting the data according to the feature\n",
        "    * Then selecting the split resuling in the lowest **cost** where:\n",
        "        * The **cost** of a split is the number of observations placed into a mixed group (ie. a group with both `1s` and `0s`) \n",
        "2. Add the lowest cost feature to the hypothesis function to separate the mixed group\n",
        "3. Then for each remaining mixed group of training data, perform steps one through three \n",
        "\n",
        "**Stop** when there are no remaining mixed groups."
      ]
    },
    {
      "cell_type": "markdown",
      "metadata": {
        "id": "_JoBzPIPDuAK",
        "colab_type": "text"
      },
      "source": [
        "> We can update this cost function over time.  After all, with larger datasets, we may find that all of the subgroups have some mixing, but we still want assign different costs to these subgroups.  But let's worry about that later."
      ]
    },
    {
      "cell_type": "markdown",
      "metadata": {
        "id": "5VlzUcflDuAK",
        "colab_type": "text"
      },
      "source": [
        "### The Hypothesis Function"
      ]
    },
    {
      "cell_type": "markdown",
      "metadata": {
        "id": "VQbF5mcSDuAK",
        "colab_type": "text"
      },
      "source": [
        "> Our **hypothesis function** takes in the features of our training data, and comes close to predicting the targets of the observations in our training data.\n",
        "\n",
        "We saw that our decision tree's hypothesis function for our provided training data was the following:"
      ]
    },
    {
      "cell_type": "markdown",
      "metadata": {
        "id": "wJg7Q6opDuAL",
        "colab_type": "text"
      },
      "source": [
        "<img src=\"https://storage.googleapis.com/curriculum-assets/intro-to-ml/d-tree-diagram.png\" width=\"40%\">"
      ]
    },
    {
      "cell_type": "markdown",
      "metadata": {
        "id": "eLP6QBdoDuAL",
        "colab_type": "text"
      },
      "source": [
        "The hypothesis function can take the features of each observation and predict whether or not the observation became a customer.\n",
        "\n",
        "Also, notice that our hypothesis function did not use **all** of the features in our training set.  This is useful, because it tells us **which of the inputs are important** to predicting the outcome."
      ]
    },
    {
      "cell_type": "markdown",
      "metadata": {
        "id": "-rbSC9neDuAM",
        "colab_type": "text"
      },
      "source": [
        "### Summary"
      ]
    },
    {
      "cell_type": "markdown",
      "metadata": {
        "id": "H-UgrJcdDuAN",
        "colab_type": "text"
      },
      "source": [
        "In this lesson, we reviewed the major components of a machine learning algorithm.\n",
        "\n",
        "We saw that a machine learning algorithm: \n",
        "* uses **training data** to \n",
        "* discover a **hypothesis function** that comes close to predicting the targets of our training data.  \n",
        "* And we discover our hypothesis function by following a **training procedure**, \n",
        "* where we work to minimize a **cost function**.\n",
        "\n",
        "We specifically saw this applied to decision trees."
      ]
    },
    {
      "cell_type": "markdown",
      "metadata": {
        "id": "TGm3r0jxDuAN",
        "colab_type": "text"
      },
      "source": [
        "<center>\n",
        "<a href=\"https://www.jigsawlabs.io/free\" style=\"position: center\"><img src=\"https://storage.cloud.google.com/curriculum-assets/curriculum-assets.nosync/mom-files/jigsaw-labs.png\" width=\"15%\" style=\"text-align: center\"></a>\n",
        "</center>"
      ]
    }
  ]
}