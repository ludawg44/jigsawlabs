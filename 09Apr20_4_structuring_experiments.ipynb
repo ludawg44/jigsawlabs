{
  "nbformat": 4,
  "nbformat_minor": 0,
  "metadata": {
    "kernelspec": {
      "display_name": "Python 3",
      "language": "python",
      "name": "python3"
    },
    "language_info": {
      "codemirror_mode": {
        "name": "ipython",
        "version": 3
      },
      "file_extension": ".py",
      "mimetype": "text/x-python",
      "name": "python",
      "nbconvert_exporter": "python",
      "pygments_lexer": "ipython3",
      "version": "3.7.4"
    },
    "colab": {
      "name": "Copy of 4-structuring-experiments.ipynb",
      "provenance": [],
      "include_colab_link": true
    }
  },
  "cells": [
    {
      "cell_type": "markdown",
      "metadata": {
        "id": "view-in-github",
        "colab_type": "text"
      },
      "source": [
        "<a href=\"https://colab.research.google.com/github/ludawg44/jigsawlabs/blob/master/09Apr20_4_structuring_experiments.ipynb\" target=\"_parent\"><img src=\"https://colab.research.google.com/assets/colab-badge.svg\" alt=\"Open In Colab\"/></a>"
      ]
    },
    {
      "cell_type": "markdown",
      "metadata": {
        "id": "XDdfVkGTlART",
        "colab_type": "text"
      },
      "source": [
        "# Structuring Experiments"
      ]
    },
    {
      "cell_type": "markdown",
      "metadata": {
        "id": "w49ACckclARU",
        "colab_type": "text"
      },
      "source": [
        "### Introduction"
      ]
    },
    {
      "cell_type": "markdown",
      "metadata": {
        "id": "iO8h_355lARV",
        "colab_type": "text"
      },
      "source": [
        "In the last few lessons we saw that even though an explanatory variable may be *correlated* with an outcome, we cannot assume that it is the *cause* of an outcome, as there may be alternative reasons why the correlation works.  In this lesson, we'll see how experiments can allow us to overcome to issues with correlation, and infer causation."
      ]
    },
    {
      "cell_type": "markdown",
      "metadata": {
        "id": "NlphEIPnlARV",
        "colab_type": "text"
      },
      "source": [
        "### What's an Experiment?"
      ]
    },
    {
      "cell_type": "markdown",
      "metadata": {
        "id": "_YHfQTT8lARW",
        "colab_type": "text"
      },
      "source": [
        "The idea of an experiment is that we take two groups that are similar, and the administer a *treatment* to one of them.  If the group that gets the treatment has a different outcome than the original group, we say that the treatment caused an effect.  \n",
        "\n",
        "That's the gist.  But as we'll see things can go wrong with experiments along the way.  In fact, in the 2010s, many studies were thrown in doubt or discredited, in part, because of poorly designed experiments.  Let's take the time to go through the fundamental components of executing an experiment."
      ]
    },
    {
      "cell_type": "markdown",
      "metadata": {
        "id": "Vpewzo61lARW",
        "colab_type": "text"
      },
      "source": [
        "> **Warning**: Experiments **are not** a perfect way to infer cause and effect, and we'll discuss some of the things that can go wrong in turn.  But for now, let's just make sure we see some of the benefits of experiments, and then we can see some of the things that can still go wrong with experiments."
      ]
    },
    {
      "cell_type": "markdown",
      "metadata": {
        "id": "v56M2glBlARX",
        "colab_type": "text"
      },
      "source": [
        "### 1. Define the hypothesis"
      ]
    },
    {
      "cell_type": "markdown",
      "metadata": {
        "id": "lpJr7K0vlARY",
        "colab_type": "text"
      },
      "source": [
        "> A hypothesis is a testable explanation for an outcome."
      ]
    },
    {
      "cell_type": "markdown",
      "metadata": {
        "id": "5feBzN8blARY",
        "colab_type": "text"
      },
      "source": [
        "Let's say our hypothesis is the following: \n",
        "   > Aspirin reduces the chance of a heart attack for those who have been diagnosed with heart disease."
      ]
    },
    {
      "cell_type": "markdown",
      "metadata": {
        "id": "lywo_zYSlARZ",
        "colab_type": "text"
      },
      "source": [
        "As we'll see in the future, it's important to have a level of specificity in our hypothesis.  Doing so will help us to define our problem, as well as prevent against p-hacking (which we'll learn more about later.)"
      ]
    },
    {
      "cell_type": "markdown",
      "metadata": {
        "id": "CH90s9WnlARZ",
        "colab_type": "text"
      },
      "source": [
        "We can use the PICOT acronym to help us define the following components of a hypothesis.\n",
        "\n",
        "* P (population of interest), \n",
        "* I (Intervention to be studied), \n",
        "* C (comparator intervention), \n",
        "* O (outcomes to be evaluated) and \n",
        "* T (is there a time duration for intervention/outcome ascertainment time)."
      ]
    },
    {
      "cell_type": "markdown",
      "metadata": {
        "id": "nljz7ao3lARa",
        "colab_type": "text"
      },
      "source": [
        "Let's go through these in turn:"
      ]
    },
    {
      "cell_type": "markdown",
      "metadata": {
        "id": "qLqV8uEelARa",
        "colab_type": "text"
      },
      "source": [
        "* The **population** is a set of similar items or events which is of interest for some question or experiment.\n",
        "> Here it's individuals diagnosed with heart disease.\n",
        "\n",
        "* The **intervention** is the change we are testing.  \n",
        "> Here it is taking 75 to 100 milligrams of aspirin daily.\n",
        "\n",
        "* The **comparator** is the approach you're comparing the intervention to\n",
        "    * It can be the placebo, doing nothing, or alternative treatment already in use.\n",
        "    > Here, the comparator is doing nothing.\n",
        "* **Outcome**\n",
        "    * Here the outcome is the number of heart attacks a person has during the study. "
      ]
    },
    {
      "cell_type": "markdown",
      "metadata": {
        "id": "z-mi-2nzlARb",
        "colab_type": "text"
      },
      "source": [
        "### 2. Select/enroll a **sample** of participants\n",
        "\n",
        "Now it's rare that we can directly gather data on each member in our population, so instead we select or enroll a subset of the population in the study, called a sample.\n",
        "\n",
        "> A sample is a set of items or events selected from our population and that we gather data in, in the study.    \n",
        "\n",
        "We work with our sample as a way to discover insights about the broader population.  "
      ]
    },
    {
      "cell_type": "markdown",
      "metadata": {
        "id": "fhYRh71LlARb",
        "colab_type": "text"
      },
      "source": [
        "### 3. Distinguish between Treatment and Control"
      ]
    },
    {
      "cell_type": "markdown",
      "metadata": {
        "id": "pgKS2pk5lARc",
        "colab_type": "text"
      },
      "source": [
        "Once we have a sample of our population we:\n",
        "\n",
        "\n",
        "* Randomly separate the participants into a treatment group and a control group\n",
        "*  Deliver a treatment to one group and nothing (or a placebo) to the other"
      ]
    },
    {
      "cell_type": "markdown",
      "metadata": {
        "id": "GKtMLqHvlARc",
        "colab_type": "text"
      },
      "source": [
        "### 4. See the results"
      ]
    },
    {
      "cell_type": "markdown",
      "metadata": {
        "id": "1OOTLEx7lARc",
        "colab_type": "text"
      },
      "source": [
        "* **If** after the treatment, **we see a difference** in outcomes in the groups:\n",
        "* **Then** we believe we can **attribute it to the treatment** itself\n",
        "* **Because** otherwise the two groups would have looked the same."
      ]
    },
    {
      "cell_type": "markdown",
      "metadata": {
        "id": "nMw-ynRElARd",
        "colab_type": "text"
      },
      "source": [
        "### Summary"
      ]
    },
    {
      "cell_type": "markdown",
      "metadata": {
        "id": "eYN28Cj9lARd",
        "colab_type": "text"
      },
      "source": [
        "In this lesson, we learned some of the fundamentals behind how experiments work, and importantly how experiments protect against the alternative explanations to correlation."
      ]
    },
    {
      "cell_type": "markdown",
      "metadata": {
        "id": "hBISdpLglARe",
        "colab_type": "text"
      },
      "source": [
        "With experiments, we start with the participants of an experiment, and then randomly separate them into treatment and control groups.  The idea is that the two groups are similar except that one group is administered the treatment and the other isn't. If after administering the treatment, we see a change in only one of the groups, because nothing else should have changed, we assume the change was due to the treatment."
      ]
    },
    {
      "cell_type": "markdown",
      "metadata": {
        "id": "AAW4xSqklARe",
        "colab_type": "text"
      },
      "source": [
        "### Resources\n",
        "* [Guide to RCTs](https://obgyn.onlinelibrary.wiley.com/doi/pdf/10.1111/aogs.13309)\n",
        "\n",
        "* [Hypothesis Writing](http://www.pocog.org.au/doc/hypothesiswriting.pdf)\n",
        "\n",
        "* [HDL Experiments](https://www.nih.gov/news-events/nih-research-matters/when-hdl-cholesterol-doesnt-protect-against-heart-disease)\n",
        "\n",
        "* [HDL and Heart Attacks](https://www.ncbi.nlm.nih.gov/pmc/articles/PMC2903818/)\n",
        "\n",
        "* [College for Masses](https://www.nytimes.com/2015/04/26/upshot/college-for-the-masses.html)\n",
        "\n",
        "* [Steve Levitt Interviewed by Famous Journalist](https://dailynorthwestern.com/2004/03/01/archive-manual/names-with-racial-connotations-not-a-disadvantage-speaker-says/#)"
      ]
    }
  ]
}