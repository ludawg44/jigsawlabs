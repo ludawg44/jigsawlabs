{
  "nbformat": 4,
  "nbformat_minor": 0,
  "metadata": {
    "kernelspec": {
      "display_name": "Python 3",
      "language": "python",
      "name": "python3"
    },
    "language_info": {
      "codemirror_mode": {
        "name": "ipython",
        "version": 3
      },
      "file_extension": ".py",
      "mimetype": "text/x-python",
      "name": "python",
      "nbconvert_exporter": "python",
      "pygments_lexer": "ipython3",
      "version": "3.7.4"
    },
    "colab": {
      "name": "Copy of 6-styling-subplots.ipynb",
      "provenance": [],
      "include_colab_link": true
    }
  },
  "cells": [
    {
      "cell_type": "markdown",
      "metadata": {
        "id": "view-in-github",
        "colab_type": "text"
      },
      "source": [
        "<a href=\"https://colab.research.google.com/github/ludawg44/jigsawlabs/blob/master/Copy_of_6_styling_subplots.ipynb\" target=\"_parent\"><img src=\"https://colab.research.google.com/assets/colab-badge.svg\" alt=\"Open In Colab\"/></a>"
      ]
    },
    {
      "cell_type": "markdown",
      "metadata": {
        "id": "oqS_ZlIJQ1Ff",
        "colab_type": "text"
      },
      "source": [
        "# Styling Subplots"
      ]
    },
    {
      "cell_type": "markdown",
      "metadata": {
        "id": "c-M0VlPLQ1Fi",
        "colab_type": "text"
      },
      "source": [
        "### Introduction"
      ]
    },
    {
      "cell_type": "markdown",
      "metadata": {
        "id": "AgOfNQe2Q1Fj",
        "colab_type": "text"
      },
      "source": [
        "As we know, with matplotlib, each visualization consists of a figure, axes which represent each of the boxes in the figure, and the plots inside of these boxes.  In this lesson, we'll move into using this knowledge to add styling to our visualizations.\n",
        "\n",
        "Specifically, we'll discuss styling our axes.  Let's get started."
      ]
    },
    {
      "cell_type": "markdown",
      "metadata": {
        "id": "7W3bDxD5Q1Fk",
        "colab_type": "text"
      },
      "source": [
        "### Loading the data"
      ]
    },
    {
      "cell_type": "markdown",
      "metadata": {
        "id": "3_23T1MpQ1Fl",
        "colab_type": "text"
      },
      "source": [
        "We'll begin by loading matplotlib, and using the magic function `%matplotlib inline`."
      ]
    },
    {
      "cell_type": "code",
      "metadata": {
        "id": "kwWQdtyxQ1Fm",
        "colab_type": "code",
        "colab": {}
      },
      "source": [
        "import matplotlib.pyplot as plt\n",
        "%matplotlib inline\n",
        "\n",
        "# change the default figure size to be width 4, and height 2.5 \n",
        "plt.rcParams['figure.figsize'] = [4, 2.5]"
      ],
      "execution_count": 0,
      "outputs": []
    },
    {
      "cell_type": "markdown",
      "metadata": {
        "id": "QYPx1664Q1Fr",
        "colab_type": "text"
      },
      "source": [
        "Then we can load the data for our `imdb` movies data."
      ]
    },
    {
      "cell_type": "code",
      "metadata": {
        "id": "oGkd1ZWxQ1Fr",
        "colab_type": "code",
        "colab": {}
      },
      "source": [
        "import pandas as pd\n",
        "url = \"https://raw.githubusercontent.com/jigsawlabs-student/matplotlib/master/imdb_movies.csv?token=AADXLBKU6UDM5ZL5JPDAZTC6QNGEM\"\n",
        "df = pd.read_csv(url)\n",
        "movies = df.to_numpy()"
      ],
      "execution_count": 0,
      "outputs": []
    },
    {
      "cell_type": "code",
      "metadata": {
        "id": "c_u2MwQkQ1Fv",
        "colab_type": "code",
        "outputId": "3193b852-aab4-44a3-accf-6d4cff5ea642",
        "colab": {
          "base_uri": "https://localhost:8080/",
          "height": 35
        }
      },
      "source": [
        "cols = df.columns\n",
        "cols"
      ],
      "execution_count": 0,
      "outputs": [
        {
          "output_type": "execute_result",
          "data": {
            "text/plain": [
              "Index(['title', 'genre', 'budget', 'runtime', 'year', 'month', 'revenue'], dtype='object')"
            ]
          },
          "metadata": {
            "tags": []
          },
          "execution_count": 4
        }
      ]
    },
    {
      "cell_type": "code",
      "metadata": {
        "id": "3O9diUcDRv2g",
        "colab_type": "code",
        "outputId": "c021f650-04f3-4025-e91e-ab9afd644601",
        "colab": {
          "base_uri": "https://localhost:8080/",
          "height": 202
        }
      },
      "source": [
        "df.head()"
      ],
      "execution_count": 0,
      "outputs": [
        {
          "output_type": "execute_result",
          "data": {
            "text/html": [
              "<div>\n",
              "<style scoped>\n",
              "    .dataframe tbody tr th:only-of-type {\n",
              "        vertical-align: middle;\n",
              "    }\n",
              "\n",
              "    .dataframe tbody tr th {\n",
              "        vertical-align: top;\n",
              "    }\n",
              "\n",
              "    .dataframe thead th {\n",
              "        text-align: right;\n",
              "    }\n",
              "</style>\n",
              "<table border=\"1\" class=\"dataframe\">\n",
              "  <thead>\n",
              "    <tr style=\"text-align: right;\">\n",
              "      <th></th>\n",
              "      <th>title</th>\n",
              "      <th>genre</th>\n",
              "      <th>budget</th>\n",
              "      <th>runtime</th>\n",
              "      <th>year</th>\n",
              "      <th>month</th>\n",
              "      <th>revenue</th>\n",
              "    </tr>\n",
              "  </thead>\n",
              "  <tbody>\n",
              "    <tr>\n",
              "      <th>0</th>\n",
              "      <td>Avatar</td>\n",
              "      <td>Action</td>\n",
              "      <td>237000000</td>\n",
              "      <td>162.0</td>\n",
              "      <td>2009</td>\n",
              "      <td>12</td>\n",
              "      <td>2787965087</td>\n",
              "    </tr>\n",
              "    <tr>\n",
              "      <th>1</th>\n",
              "      <td>Pirates of the Caribbean: At World's End</td>\n",
              "      <td>Adventure</td>\n",
              "      <td>300000000</td>\n",
              "      <td>169.0</td>\n",
              "      <td>2007</td>\n",
              "      <td>5</td>\n",
              "      <td>961000000</td>\n",
              "    </tr>\n",
              "    <tr>\n",
              "      <th>2</th>\n",
              "      <td>Spectre</td>\n",
              "      <td>Action</td>\n",
              "      <td>245000000</td>\n",
              "      <td>148.0</td>\n",
              "      <td>2015</td>\n",
              "      <td>10</td>\n",
              "      <td>880674609</td>\n",
              "    </tr>\n",
              "    <tr>\n",
              "      <th>3</th>\n",
              "      <td>The Dark Knight Rises</td>\n",
              "      <td>Action</td>\n",
              "      <td>250000000</td>\n",
              "      <td>165.0</td>\n",
              "      <td>2012</td>\n",
              "      <td>7</td>\n",
              "      <td>1084939099</td>\n",
              "    </tr>\n",
              "    <tr>\n",
              "      <th>4</th>\n",
              "      <td>John Carter</td>\n",
              "      <td>Action</td>\n",
              "      <td>260000000</td>\n",
              "      <td>132.0</td>\n",
              "      <td>2012</td>\n",
              "      <td>3</td>\n",
              "      <td>284139100</td>\n",
              "    </tr>\n",
              "  </tbody>\n",
              "</table>\n",
              "</div>"
            ],
            "text/plain": [
              "                                      title      genre  ...  month     revenue\n",
              "0                                    Avatar     Action  ...     12  2787965087\n",
              "1  Pirates of the Caribbean: At World's End  Adventure  ...      5   961000000\n",
              "2                                   Spectre     Action  ...     10   880674609\n",
              "3                     The Dark Knight Rises     Action  ...      7  1084939099\n",
              "4                               John Carter     Action  ...      3   284139100\n",
              "\n",
              "[5 rows x 7 columns]"
            ]
          },
          "metadata": {
            "tags": []
          },
          "execution_count": 7
        }
      ]
    },
    {
      "cell_type": "code",
      "metadata": {
        "id": "kTu91nvAR1jF",
        "colab_type": "code",
        "outputId": "61ccff41-2e0c-449e-b4d9-ff42c2806213",
        "colab": {
          "base_uri": "https://localhost:8080/",
          "height": 294
        }
      },
      "source": [
        "df.describe()"
      ],
      "execution_count": 0,
      "outputs": [
        {
          "output_type": "execute_result",
          "data": {
            "text/html": [
              "<div>\n",
              "<style scoped>\n",
              "    .dataframe tbody tr th:only-of-type {\n",
              "        vertical-align: middle;\n",
              "    }\n",
              "\n",
              "    .dataframe tbody tr th {\n",
              "        vertical-align: top;\n",
              "    }\n",
              "\n",
              "    .dataframe thead th {\n",
              "        text-align: right;\n",
              "    }\n",
              "</style>\n",
              "<table border=\"1\" class=\"dataframe\">\n",
              "  <thead>\n",
              "    <tr style=\"text-align: right;\">\n",
              "      <th></th>\n",
              "      <th>budget</th>\n",
              "      <th>runtime</th>\n",
              "      <th>year</th>\n",
              "      <th>month</th>\n",
              "      <th>revenue</th>\n",
              "    </tr>\n",
              "  </thead>\n",
              "  <tbody>\n",
              "    <tr>\n",
              "      <th>count</th>\n",
              "      <td>2.000000e+03</td>\n",
              "      <td>2000.000000</td>\n",
              "      <td>2000.00000</td>\n",
              "      <td>2000.000000</td>\n",
              "      <td>2.000000e+03</td>\n",
              "    </tr>\n",
              "    <tr>\n",
              "      <th>mean</th>\n",
              "      <td>6.043686e+07</td>\n",
              "      <td>113.267500</td>\n",
              "      <td>2004.42650</td>\n",
              "      <td>7.044000</td>\n",
              "      <td>1.643506e+08</td>\n",
              "    </tr>\n",
              "    <tr>\n",
              "      <th>std</th>\n",
              "      <td>4.692045e+07</td>\n",
              "      <td>21.073728</td>\n",
              "      <td>7.95319</td>\n",
              "      <td>3.398947</td>\n",
              "      <td>2.186816e+08</td>\n",
              "    </tr>\n",
              "    <tr>\n",
              "      <th>min</th>\n",
              "      <td>0.000000e+00</td>\n",
              "      <td>0.000000</td>\n",
              "      <td>1940.00000</td>\n",
              "      <td>1.000000</td>\n",
              "      <td>0.000000e+00</td>\n",
              "    </tr>\n",
              "    <tr>\n",
              "      <th>25%</th>\n",
              "      <td>3.000000e+07</td>\n",
              "      <td>98.000000</td>\n",
              "      <td>2000.00000</td>\n",
              "      <td>4.000000</td>\n",
              "      <td>3.103408e+07</td>\n",
              "    </tr>\n",
              "    <tr>\n",
              "      <th>50%</th>\n",
              "      <td>4.800000e+07</td>\n",
              "      <td>110.000000</td>\n",
              "      <td>2005.00000</td>\n",
              "      <td>7.000000</td>\n",
              "      <td>9.400000e+07</td>\n",
              "    </tr>\n",
              "    <tr>\n",
              "      <th>75%</th>\n",
              "      <td>7.500000e+07</td>\n",
              "      <td>125.000000</td>\n",
              "      <td>2011.00000</td>\n",
              "      <td>10.000000</td>\n",
              "      <td>2.026695e+08</td>\n",
              "    </tr>\n",
              "    <tr>\n",
              "      <th>max</th>\n",
              "      <td>3.800000e+08</td>\n",
              "      <td>254.000000</td>\n",
              "      <td>2016.00000</td>\n",
              "      <td>12.000000</td>\n",
              "      <td>2.787965e+09</td>\n",
              "    </tr>\n",
              "  </tbody>\n",
              "</table>\n",
              "</div>"
            ],
            "text/plain": [
              "             budget      runtime        year        month       revenue\n",
              "count  2.000000e+03  2000.000000  2000.00000  2000.000000  2.000000e+03\n",
              "mean   6.043686e+07   113.267500  2004.42650     7.044000  1.643506e+08\n",
              "std    4.692045e+07    21.073728     7.95319     3.398947  2.186816e+08\n",
              "min    0.000000e+00     0.000000  1940.00000     1.000000  0.000000e+00\n",
              "25%    3.000000e+07    98.000000  2000.00000     4.000000  3.103408e+07\n",
              "50%    4.800000e+07   110.000000  2005.00000     7.000000  9.400000e+07\n",
              "75%    7.500000e+07   125.000000  2011.00000    10.000000  2.026695e+08\n",
              "max    3.800000e+08   254.000000  2016.00000    12.000000  2.787965e+09"
            ]
          },
          "metadata": {
            "tags": []
          },
          "execution_count": 8
        }
      ]
    },
    {
      "cell_type": "markdown",
      "metadata": {
        "id": "zISJphnDQ1Fz",
        "colab_type": "text"
      },
      "source": [
        "### Styling Axes"
      ]
    },
    {
      "cell_type": "markdown",
      "metadata": {
        "id": "TcH1gRf3Q1F0",
        "colab_type": "text"
      },
      "source": [
        "Let's begin by creating an initial scatter plot of revenue and budget."
      ]
    },
    {
      "cell_type": "code",
      "metadata": {
        "id": "PcckpzWdQ1F1",
        "colab_type": "code",
        "outputId": "d080ef5e-7986-4572-a2a4-d4ce138bb56d",
        "colab": {
          "base_uri": "https://localhost:8080/",
          "height": 225
        }
      },
      "source": [
        "fig = plt.figure()\n",
        "ax = fig.add_subplot(121)\n",
        "ax.scatter(movies[:, 2], movies[:, -1])\n"
      ],
      "execution_count": 0,
      "outputs": [
        {
          "output_type": "execute_result",
          "data": {
            "text/plain": [
              "<matplotlib.collections.PathCollection at 0x7f20dec06be0>"
            ]
          },
          "metadata": {
            "tags": []
          },
          "execution_count": 15
        },
        {
          "output_type": "display_data",
          "data": {
            "image/png": "[encoded data removed]",
            "text/plain": [
              "<Figure size 288x180 with 1 Axes>"
            ]
          },
          "metadata": {
            "tags": []
          }
        }
      ]
    },
    {
      "cell_type": "markdown",
      "metadata": {
        "id": "sTUnKamyQ1F5",
        "colab_type": "text"
      },
      "source": [
        "Now, currently, it's a little difficult to see what this plot is describing.  Let's add a title to it."
      ]
    },
    {
      "cell_type": "code",
      "metadata": {
        "id": "vE-Z7CQWQ1F6",
        "colab_type": "code",
        "outputId": "c2c3e5e8-fc21-4992-ee4f-039d503a0b4f",
        "colab": {
          "base_uri": "https://localhost:8080/",
          "height": 231
        }
      },
      "source": [
        "fig = plt.figure()\n",
        "ax = fig.add_subplot(111)\n",
        "ax.set_title('budget vs revenue')\n",
        "ax.scatter(movies[:, 2], movies[:, -1])"
      ],
      "execution_count": 0,
      "outputs": [
        {
          "output_type": "execute_result",
          "data": {
            "text/plain": [
              "<matplotlib.collections.PathCollection at 0x7f20de86cc18>"
            ]
          },
          "metadata": {
            "tags": []
          },
          "execution_count": 19
        },
        {
          "output_type": "display_data",
          "data": {
            "image/png": "[encoded data removed]",
            "text/plain": [
              "<Figure size 288x180 with 1 Axes>"
            ]
          },
          "metadata": {
            "tags": []
          }
        }
      ]
    },
    {
      "cell_type": "markdown",
      "metadata": {
        "id": "9LsK3toIQ1F9",
        "colab_type": "text"
      },
      "source": [
        "So we can use the `set_title` to add a title to the subplot.  Let's look at some othe attributes that we may want to change."
      ]
    },
    {
      "cell_type": "code",
      "metadata": {
        "id": "dbHr1HaZQ1F_",
        "colab_type": "code",
        "outputId": "6435072d-dd9b-49f5-ba86-3894d5568b93",
        "colab": {
          "base_uri": "https://localhost:8080/",
          "height": 35
        }
      },
      "source": [
        "ax.set_xlim([0, 300000000])\n",
        "ax.set_ylim([0, 3000000000])\n",
        "ax.set_title('Budget vs Revenue')\n",
        "ax.set_ylabel('Revenue (100 m)')\n",
        "ax.set_xlabel('Budget (100 m)')"
      ],
      "execution_count": 0,
      "outputs": [
        {
          "output_type": "execute_result",
          "data": {
            "text/plain": [
              "Text(0.5, 16.200000000000003, 'Budget (100 m)')"
            ]
          },
          "metadata": {
            "tags": []
          },
          "execution_count": 20
        }
      ]
    },
    {
      "cell_type": "code",
      "metadata": {
        "id": "76jajk-HQ1GC",
        "colab_type": "code",
        "outputId": "bf37231f-e190-4da7-a787-3038263f98f9",
        "colab": {
          "base_uri": "https://localhost:8080/",
          "height": 214
        }
      },
      "source": [
        "fig"
      ],
      "execution_count": 0,
      "outputs": [
        {
          "output_type": "execute_result",
          "data": {
            "image/png": "[encoded data removed]",
            "text/plain": [
              "<Figure size 288x180 with 1 Axes>"
            ]
          },
          "metadata": {
            "tags": []
          },
          "execution_count": 21
        }
      ]
    },
    {
      "cell_type": "markdown",
      "metadata": {
        "id": "guE4wwpmQ1GF",
        "colab_type": "text"
      },
      "source": [
        "Now we can also add these attributes to the `axes` all at once, with use of the `set` method."
      ]
    },
    {
      "cell_type": "code",
      "metadata": {
        "id": "haQzp07XQ1GG",
        "colab_type": "code",
        "outputId": "4b6f4abe-dfef-41f9-cf6f-5c7baf4f30a6",
        "colab": {
          "base_uri": "https://localhost:8080/",
          "height": 214
        }
      },
      "source": [
        "x=movies[:, 2]\n",
        "y=movies[:, -1]\n",
        "fig = plt.figure()\n",
        "ax = fig.add_subplot(111)\n",
        "ax.scatter(x, y)\n",
        "ax.set(xlim=[0, 300000000], ylim=[0, 3000000000], title='Budget vs Revenue',\n",
        "       ylabel='Revenue (100 m)', xlabel='Budget (100 m)')\n",
        "plt.show()"
      ],
      "execution_count": 0,
      "outputs": [
        {
          "output_type": "display_data",
          "data": {
            "image/png": "[encoded data removed]",
            "text/plain": [
              "<Figure size 288x180 with 1 Axes>"
            ]
          },
          "metadata": {
            "tags": []
          }
        }
      ]
    },
    {
      "cell_type": "markdown",
      "metadata": {
        "id": "8du8v14DQ1GK",
        "colab_type": "text"
      },
      "source": [
        "So as we can see above, we can also style our subplot with a call to `set` followed by passing values for arguments like the following:\n",
        "\n",
        "* `xlim`\n",
        "* `ylim`\n",
        "* `title`\n",
        "* `ylabel`, `xlabel`"
      ]
    },
    {
      "cell_type": "markdown",
      "metadata": {
        "id": "8Nm1PDoDQ1GL",
        "colab_type": "text"
      },
      "source": [
        "### Legends"
      ]
    },
    {
      "cell_type": "markdown",
      "metadata": {
        "id": "-uzz3ejdQ1GM",
        "colab_type": "text"
      },
      "source": [
        "Finally, we can also add legends to our plots, which is useful if we have multiple plots in a single subplot."
      ]
    },
    {
      "cell_type": "markdown",
      "metadata": {
        "id": "aytANBOzQ1GN",
        "colab_type": "text"
      },
      "source": [
        "Doing so involves two steps.  First we add a `label` each of the plots.  And then, we create a legend from the axis.  Let's see it in an example below."
      ]
    },
    {
      "cell_type": "code",
      "metadata": {
        "id": "ojyvMecfQ1GO",
        "colab_type": "code",
        "outputId": "824d8c87-4cc7-499e-bb7a-704e78eb6930",
        "colab": {
          "base_uri": "https://localhost:8080/",
          "height": 184
        }
      },
      "source": [
        "fig, ax = plt.subplots(1, 1)\n",
        "ax.bar([1, 2, 3, 4], [10, 20, 25, 30], label=\"Revenue Growth (mil)\", align='center', color='lightblue')\n",
        "ax.plot([1, 2, 3, 4], [10, 20, 25, 30], label=\"_nolegend_\", marker='o', color='darkred')\n",
        "ax.legend(loc='best')\n",
        "\n",
        "plt.show()"
      ],
      "execution_count": 0,
      "outputs": [
        {
          "output_type": "display_data",
          "data": {
            "image/png": "[encoded data removed]",
            "text/plain": [
              "<Figure size 288x180 with 1 Axes>"
            ]
          },
          "metadata": {
            "tags": []
          }
        }
      ]
    },
    {
      "cell_type": "markdown",
      "metadata": {
        "id": "ED9U_QzoQ1GR",
        "colab_type": "text"
      },
      "source": [
        "> The `ax.legend(loc=\"best\")`, means matplotlib tries to find a location where it does not hide information in the graph."
      ]
    },
    {
      "cell_type": "markdown",
      "metadata": {
        "id": "K6sJtbuRQ1GS",
        "colab_type": "text"
      },
      "source": [
        "Let's wrap up with adding some styling to a specific axis.  To do so, we reference the axis we wish to style."
      ]
    },
    {
      "cell_type": "code",
      "metadata": {
        "id": "cKTJ5AEQQ1GT",
        "colab_type": "code",
        "outputId": "fffc7311-2431-4b01-90cb-837b5d7b2882",
        "colab": {
          "base_uri": "https://localhost:8080/",
          "height": 104
        }
      },
      "source": [
        "ax.xaxis.set_ticklabels(['', 'jan', 'feb', 'march', 'april'])"
      ],
      "execution_count": 0,
      "outputs": [
        {
          "output_type": "execute_result",
          "data": {
            "text/plain": [
              "[Text(0.0, 0, ''),\n",
              " Text(1.0, 0, 'jan'),\n",
              " Text(2.0, 0, 'feb'),\n",
              " Text(3.0, 0, 'march'),\n",
              " Text(4.0, 0, 'april')]"
            ]
          },
          "metadata": {
            "tags": []
          },
          "execution_count": 29
        }
      ]
    },
    {
      "cell_type": "code",
      "metadata": {
        "id": "7lESXw2CQ1Ga",
        "colab_type": "code",
        "outputId": "a76dbcfb-171d-4ef0-a15a-443ea8253558",
        "colab": {
          "base_uri": "https://localhost:8080/",
          "height": 184
        }
      },
      "source": [
        "fig"
      ],
      "execution_count": 0,
      "outputs": [
        {
          "output_type": "execute_result",
          "data": {
            "image/png": "[encoded data removed]",
            "text/plain": [
              "<Figure size 288x180 with 1 Axes>"
            ]
          },
          "metadata": {
            "tags": []
          },
          "execution_count": 30
        }
      ]
    },
    {
      "cell_type": "markdown",
      "metadata": {
        "id": "5e3IncA0Q1Ge",
        "colab_type": "text"
      },
      "source": [
        "> Notice that we left the first index blank, as it is cut off because it is the left-corner of the figure."
      ]
    },
    {
      "cell_type": "markdown",
      "metadata": {
        "id": "3HtibMGLQ1Gf",
        "colab_type": "text"
      },
      "source": [
        "### Summary"
      ]
    },
    {
      "cell_type": "markdown",
      "metadata": {
        "id": "S6HhUtC9Q1Gg",
        "colab_type": "text"
      },
      "source": [
        "In this lesson, we saw how to add styling specifically to our subplots.  There are some specific attributes that we saw we can set.  We can set the range with: \n",
        "\n",
        "* `xlim`, `ylim`\n",
        "\n",
        "And we can add text our subplots with the `title` and the `xlabel` and `ylabel`.\n"
      ]
    },
    {
      "cell_type": "markdown",
      "metadata": {
        "id": "gWIPer2-Q1Gh",
        "colab_type": "text"
      },
      "source": [
        "Then we saw how to add a legend to our plot, by first adding a `label` to each our plots, and then creating a legend on the axes, with `ax.legend()`.  We also some styling of a specific axis with the call to `ax.xaxis.set_ticklabels()`."
      ]
    },
    {
      "cell_type": "markdown",
      "metadata": {
        "id": "9fM59CjyQ1Gi",
        "colab_type": "text"
      },
      "source": [
        "### Resources"
      ]
    },
    {
      "cell_type": "markdown",
      "metadata": {
        "id": "7IzqSW6YQ1Gj",
        "colab_type": "text"
      },
      "source": [
        "[Python data science handbook](https://jakevdp.github.io/PythonDataScienceHandbook/04.10-customizing-ticks.html)"
      ]
    }
  ]
}