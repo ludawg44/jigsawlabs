{
  "nbformat": 4,
  "nbformat_minor": 0,
  "metadata": {
    "kernelspec": {
      "display_name": "Python 3",
      "language": "python",
      "name": "python3"
    },
    "language_info": {
      "codemirror_mode": {
        "name": "ipython",
        "version": 3
      },
      "file_extension": ".py",
      "mimetype": "text/x-python",
      "name": "python",
      "nbconvert_exporter": "python",
      "pygments_lexer": "ipython3",
      "version": "3.7.4"
    },
    "colab": {
      "name": "Copy of 6-styling-subplots.ipynb",
      "provenance": [],
      "include_colab_link": true
    }
  },
  "cells": [
    {
      "cell_type": "markdown",
      "metadata": {
        "id": "view-in-github",
        "colab_type": "text"
      },
      "source": [
        "<a href=\"https://colab.research.google.com/github/ludawg44/jigsawlabs/blob/master/Copy_of_6_styling_subplots.ipynb\" target=\"_parent\"><img src=\"https://colab.research.google.com/assets/colab-badge.svg\" alt=\"Open In Colab\"/></a>"
      ]
    },
    {
      "cell_type": "markdown",
      "metadata": {
        "id": "hJ2lA77PdWO4",
        "colab_type": "text"
      },
      "source": [
        "# Styling Subplots"
      ]
    },
    {
      "cell_type": "markdown",
      "metadata": {
        "id": "mXntaioGdWO6",
        "colab_type": "text"
      },
      "source": [
        "### Introduction"
      ]
    },
    {
      "cell_type": "markdown",
      "metadata": {
        "id": "UQo4xG10dWO7",
        "colab_type": "text"
      },
      "source": [
        "As we know, with matplotlib, each visualization consists of a figure, axes which represent each of the boxes in the figure, and the plots inside of these boxes.  In this lesson, we'll move into using this knowledge to add styling to our visualizations.\n",
        "\n",
        "Specifically, we'll discuss styling our axes.  Let's get started."
      ]
    },
    {
      "cell_type": "markdown",
      "metadata": {
        "id": "C7ryWDAsdWO8",
        "colab_type": "text"
      },
      "source": [
        "### Loading the data"
      ]
    },
    {
      "cell_type": "markdown",
      "metadata": {
        "id": "DKgS2JIBdWO9",
        "colab_type": "text"
      },
      "source": [
        "We'll begin by loading matplotlib, and using the magic function `%matplotlib inline`."
      ]
    },
    {
      "cell_type": "code",
      "metadata": {
        "id": "5EsBsm2kdWO-",
        "colab_type": "code",
        "colab": {}
      },
      "source": [
        "import matplotlib.pyplot as plt\n",
        "%matplotlib inline\n",
        "\n",
        "# change the default figure size to be width 4, and height 2.5 \n",
        "plt.rcParams['figure.figsize'] = [4, 2.5]"
      ],
      "execution_count": 0,
      "outputs": []
    },
    {
      "cell_type": "markdown",
      "metadata": {
        "id": "nW_S957adWPB",
        "colab_type": "text"
      },
      "source": [
        "Then we can load the data for our `imdb` movies data."
      ]
    },
    {
      "cell_type": "code",
      "metadata": {
        "id": "y6Rxa0fJdWPC",
        "colab_type": "code",
        "colab": {}
      },
      "source": [
        "import pandas as pd\n",
        "url = \"https://raw.githubusercontent.com/jigsawlabs-student/matplotlib/master/imdb_movies.csv?token=AADXLBKU6UDM5ZL5JPDAZTC6QNGEM\"\n",
        "df = pd.read_csv(url)\n",
        "movies = df.to_numpy()"
      ],
      "execution_count": 0,
      "outputs": []
    },
    {
      "cell_type": "code",
      "metadata": {
        "id": "dE_j1t39dWPF",
        "colab_type": "code",
        "outputId": "91a71311-9c9f-4ac0-e828-a1a3e83fcf49",
        "colab": {}
      },
      "source": [
        "cols = df.columns\n",
        "cols"
      ],
      "execution_count": 0,
      "outputs": [
        {
          "output_type": "execute_result",
          "data": {
            "text/plain": [
              "Index(['title', 'genre', 'budget', 'runtime', 'year', 'month', 'revenue'], dtype='object')"
            ]
          },
          "metadata": {
            "tags": []
          },
          "execution_count": 6
        }
      ]
    },
    {
      "cell_type": "markdown",
      "metadata": {
        "id": "FD5ZoNPCdWPI",
        "colab_type": "text"
      },
      "source": [
        "### Styling Axes"
      ]
    },
    {
      "cell_type": "markdown",
      "metadata": {
        "id": "8SPFopvidWPJ",
        "colab_type": "text"
      },
      "source": [
        "Let's begin by creating an initial scatter plot of revenue and budget."
      ]
    },
    {
      "cell_type": "code",
      "metadata": {
        "id": "olras_WydWPK",
        "colab_type": "code",
        "outputId": "d6e5a081-c6f4-4a60-c808-c924260e54d8",
        "colab": {}
      },
      "source": [
        "fig = plt.figure()\n",
        "ax = fig.add_subplot(111)\n",
        "ax.scatter(movies[:, 2], movies[:, -1])"
      ],
      "execution_count": 0,
      "outputs": [
        {
          "output_type": "execute_result",
          "data": {
            "text/plain": [
              "<matplotlib.collections.PathCollection at 0x1167da210>"
            ]
          },
          "metadata": {
            "tags": []
          },
          "execution_count": 18
        },
        {
          "output_type": "display_data",
          "data": {
            "image/png": "[encoded data removed]",
            "text/plain": [
              "<Figure size 288x180 with 1 Axes>"
            ]
          },
          "metadata": {
            "tags": [],
            "needs_background": "light"
          }
        }
      ]
    },
    {
      "cell_type": "markdown",
      "metadata": {
        "id": "ijIYBfsbdWPN",
        "colab_type": "text"
      },
      "source": [
        "Now, currently, it's a little difficult to see what this plot is describing.  Let's add a title to it."
      ]
    },
    {
      "cell_type": "code",
      "metadata": {
        "id": "BHGvwchadWPO",
        "colab_type": "code",
        "outputId": "05a48242-1d25-4625-9a72-edda2ca176d5",
        "colab": {}
      },
      "source": [
        "fig = plt.figure()\n",
        "ax = fig.add_subplot(111)\n",
        "ax.set_title('budget vs revenue')\n",
        "ax.scatter(movies[:, 2], movies[:, -1])"
      ],
      "execution_count": 0,
      "outputs": [
        {
          "output_type": "execute_result",
          "data": {
            "text/plain": [
              "<matplotlib.collections.PathCollection at 0x1169ebed0>"
            ]
          },
          "metadata": {
            "tags": []
          },
          "execution_count": 19
        },
        {
          "output_type": "display_data",
          "data": {
            "image/png": "[encoded data removed]",
            "text/plain": [
              "<Figure size 288x180 with 1 Axes>"
            ]
          },
          "metadata": {
            "tags": [],
            "needs_background": "light"
          }
        }
      ]
    },
    {
      "cell_type": "markdown",
      "metadata": {
        "id": "T6LRU5xwdWPR",
        "colab_type": "text"
      },
      "source": [
        "So we can use the `set_title` to add a title to the subplot.  Let's look at some othe attributes that we may want to change."
      ]
    },
    {
      "cell_type": "code",
      "metadata": {
        "id": "2aD_ste7dWPS",
        "colab_type": "code",
        "outputId": "0c208e8c-c7cd-4115-f312-bdbf31d2bedd",
        "colab": {}
      },
      "source": [
        "ax.set_xlim([0, 300000000])\n",
        "ax.set_ylim([0, 3000000000])\n",
        "ax.set_title('Budget vs Revenue')\n",
        "ax.set_ylabel('Revenue (100 m)')\n",
        "ax.set_xlabel('Budget (100 m)')"
      ],
      "execution_count": 0,
      "outputs": [
        {
          "output_type": "execute_result",
          "data": {
            "text/plain": [
              "Text(0.5, 17.200000000000003, 'Budget (100 m)')"
            ]
          },
          "metadata": {
            "tags": []
          },
          "execution_count": 36
        }
      ]
    },
    {
      "cell_type": "code",
      "metadata": {
        "id": "IwErODs0dWPU",
        "colab_type": "code",
        "outputId": "8b32fad2-e9b0-4815-887e-952cd34cb601",
        "colab": {}
      },
      "source": [
        "fig"
      ],
      "execution_count": 0,
      "outputs": [
        {
          "output_type": "execute_result",
          "data": {
            "image/png": "[encoded data removed]",
            "text/plain": [
              "<Figure size 288x180 with 1 Axes>"
            ]
          },
          "metadata": {
            "tags": []
          },
          "execution_count": 37
        }
      ]
    },
    {
      "cell_type": "markdown",
      "metadata": {
        "id": "cY38bgR0dWPX",
        "colab_type": "text"
      },
      "source": [
        "Now we can also add these attributes to the `axes` all at once, with use of the `set` method."
      ]
    },
    {
      "cell_type": "code",
      "metadata": {
        "id": "KmVGC8SxdWPY",
        "colab_type": "code",
        "outputId": "e2501733-da6c-410c-cd21-54df5bfce381",
        "colab": {}
      },
      "source": [
        "fig = plt.figure()\n",
        "ax = fig.add_subplot(111)\n",
        "ax.scatter(movies[:, 2], movies[:, -1])\n",
        "ax.set(xlim=[0, 300000000], ylim=[0, 3000000000], title='Budget vs Revenue',\n",
        "       ylabel='Revenue (100 m)', xlabel='Budget (100 m)')\n",
        "print('none')"
      ],
      "execution_count": 0,
      "outputs": [
        {
          "output_type": "stream",
          "text": [
            "none\n"
          ],
          "name": "stdout"
        },
        {
          "output_type": "display_data",
          "data": {
            "image/png": "[encoded data removed]",
            "text/plain": [
              "<Figure size 288x180 with 1 Axes>"
            ]
          },
          "metadata": {
            "tags": [],
            "needs_background": "light"
          }
        }
      ]
    },
    {
      "cell_type": "markdown",
      "metadata": {
        "id": "tFOiO8fMdWPa",
        "colab_type": "text"
      },
      "source": [
        "So as we can see above, we can also style our subplot with a call to `set` followed by passing values for arguments like the following:\n",
        "\n",
        "* `xlim`\n",
        "* `ylim`\n",
        "* `title`\n",
        "* `ylabel`, `xlabel`"
      ]
    },
    {
      "cell_type": "markdown",
      "metadata": {
        "id": "lTVDiIrOdWPb",
        "colab_type": "text"
      },
      "source": [
        "### Legends"
      ]
    },
    {
      "cell_type": "markdown",
      "metadata": {
        "id": "io0L6yAzdWPc",
        "colab_type": "text"
      },
      "source": [
        "Finally, we can also add legends to our plots, which is useful if we have multiple plots in a single subplot."
      ]
    },
    {
      "cell_type": "markdown",
      "metadata": {
        "id": "hXszgufGdWPd",
        "colab_type": "text"
      },
      "source": [
        "Doing so involves two steps.  First we add a `label` each of the plots.  And then, we create a legend from the axis.  Let's see it in an example below."
      ]
    },
    {
      "cell_type": "code",
      "metadata": {
        "id": "ICnDbVv8dWPe",
        "colab_type": "code",
        "outputId": "af8fa0d6-3c1c-4029-be88-cebf2b1407f0",
        "colab": {}
      },
      "source": [
        "fig, ax = plt.subplots(1, 1)\n",
        "ax.bar([1, 2, 3, 4], [10, 20, 25, 30], label=\"Revenue Growth (mil)\", align='center', color='lightblue')\n",
        "ax.plot([1, 2, 3, 4], [10, 20, 25, 30], label=\"_nolegend_\", marker='o', color='darkred')\n",
        "ax.legend(loc='best')\n",
        "\n",
        "plt.show()"
      ],
      "execution_count": 0,
      "outputs": [
        {
          "output_type": "display_data",
          "data": {
            "image/png": "[encoded data removed]",
            "text/plain": [
              "<Figure size 288x180 with 1 Axes>"
            ]
          },
          "metadata": {
            "tags": [],
            "needs_background": "light"
          }
        }
      ]
    },
    {
      "cell_type": "markdown",
      "metadata": {
        "id": "FYX5b6CidWPg",
        "colab_type": "text"
      },
      "source": [
        "> The `ax.legend(loc=\"best\")`, means matplotlib tries to find a location where it does not hide information in the graph."
      ]
    },
    {
      "cell_type": "markdown",
      "metadata": {
        "id": "BpTGNcB8dWPj",
        "colab_type": "text"
      },
      "source": [
        "Let's wrap up with adding some styling to a specific axis.  To do so, we reference the axis we wish to style."
      ]
    },
    {
      "cell_type": "code",
      "metadata": {
        "id": "yYkN1ElLdWPk",
        "colab_type": "code",
        "outputId": "d45ae987-4532-476b-bbae-c22a1c62a6fd",
        "colab": {}
      },
      "source": [
        "ax.xaxis.set_ticklabels(['', 'jan', 'feb', 'march', 'april'])"
      ],
      "execution_count": 0,
      "outputs": [
        {
          "output_type": "execute_result",
          "data": {
            "text/plain": [
              "[Text(0.0, 0, ''),\n",
              " Text(1.0, 0, 'jan'),\n",
              " Text(2.0, 0, 'feb'),\n",
              " Text(3.0, 0, 'march'),\n",
              " Text(4.0, 0, 'april')]"
            ]
          },
          "metadata": {
            "tags": []
          },
          "execution_count": 52
        }
      ]
    },
    {
      "cell_type": "code",
      "metadata": {
        "id": "8SWEF6Q5dWPn",
        "colab_type": "code",
        "outputId": "9845167f-e5d4-4452-bd5b-e0e799f30100",
        "colab": {}
      },
      "source": [
        "fig"
      ],
      "execution_count": 0,
      "outputs": [
        {
          "output_type": "execute_result",
          "data": {
            "image/png": "[encoded data removed]",
            "text/plain": [
              "<Figure size 288x180 with 1 Axes>"
            ]
          },
          "metadata": {
            "tags": []
          },
          "execution_count": 53
        }
      ]
    },
    {
      "cell_type": "markdown",
      "metadata": {
        "id": "BdP6owZGdWPq",
        "colab_type": "text"
      },
      "source": [
        "> Notice that we left the first index blank, as it is cut off because it is the left-corner of the figure."
      ]
    },
    {
      "cell_type": "markdown",
      "metadata": {
        "id": "RTz2x24ldWPr",
        "colab_type": "text"
      },
      "source": [
        "### Summary"
      ]
    },
    {
      "cell_type": "markdown",
      "metadata": {
        "id": "7wMLZa9YdWPs",
        "colab_type": "text"
      },
      "source": [
        "In this lesson, we saw how to add styling specifically to our subplots.  There are some specific attributes that we saw we can set.  We can set the range with: \n",
        "\n",
        "* `xlim`, `ylim`\n",
        "\n",
        "And we can add text our subplots with the `title` and the `xlabel` and `ylabel`.\n"
      ]
    },
    {
      "cell_type": "markdown",
      "metadata": {
        "id": "CjkmlfejdWPt",
        "colab_type": "text"
      },
      "source": [
        "Then we saw how to add a legend to our plot, by first adding a `label` to each our plots, and then creating a legend on the axes, with `ax.legend()`.  We also some styling of a specific axis with the call to `ax.xaxis.set_ticklabels()`."
      ]
    },
    {
      "cell_type": "markdown",
      "metadata": {
        "id": "M5VJFksldWPu",
        "colab_type": "text"
      },
      "source": [
        "### Resources"
      ]
    },
    {
      "cell_type": "markdown",
      "metadata": {
        "id": "CuTmP4FWdWPv",
        "colab_type": "text"
      },
      "source": [
        "[Python data science handbook](https://jakevdp.github.io/PythonDataScienceHandbook/04.10-customizing-ticks.html)"
      ]
    }
  ]
}