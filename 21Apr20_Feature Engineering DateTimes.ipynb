{
  "nbformat": 4,
  "nbformat_minor": 0,
  "metadata": {
    "kernelspec": {
      "display_name": "Python 3",
      "language": "python",
      "name": "python3"
    },
    "language_info": {
      "codemirror_mode": {
        "name": "ipython",
        "version": 3
      },
      "file_extension": ".py",
      "mimetype": "text/x-python",
      "name": "python",
      "nbconvert_exporter": "python",
      "pygments_lexer": "ipython3",
      "version": "3.7.4"
    },
    "colab": {
      "name": "Copy of index.ipynb",
      "provenance": [],
      "include_colab_link": true
    }
  },
  "cells": [
    {
      "cell_type": "markdown",
      "metadata": {
        "id": "view-in-github",
        "colab_type": "text"
      },
      "source": [
        "<a href=\"https://colab.research.google.com/github/ludawg44/jigsawlabs/blob/master/21Apr20_Feature%20Engineering%20DateTimes.ipynb\" target=\"_parent\"><img src=\"https://colab.research.google.com/assets/colab-badge.svg\" alt=\"Open In Colab\"/></a>"
      ]
    },
    {
      "cell_type": "markdown",
      "metadata": {
        "id": "e0Ur0AieCGyM",
        "colab_type": "text"
      },
      "source": [
        "# Feature Engineering DateTimes "
      ]
    },
    {
      "cell_type": "markdown",
      "metadata": {
        "id": "O9f1e_S0CGyN",
        "colab_type": "text"
      },
      "source": [
        "### Introduction"
      ]
    },
    {
      "cell_type": "markdown",
      "metadata": {
        "id": "tM9bWMpoCGyN",
        "colab_type": "text"
      },
      "source": [
        "Imagine that we are trying to predict the amount of purchases of Diet Dr. Pepper in a grocery store.  We have a dataset of past purchase information.\n",
        "\n",
        "If one of our features in our dataset is a datetime, we have a lot of information to unpack.  \n",
        "\n",
        "For example:\n",
        "\n",
        "* What day of the week was the purchase?  \n",
        "* Was it near a payday, a holiday?  \n",
        "* Is it in the winter or summer?  \n",
        "\n",
        "In this lesson, we'll look at the various features we can generate from a datetime column, a way of organizing our thinking about these features, and some tools for working with this feature."
      ]
    },
    {
      "cell_type": "markdown",
      "metadata": {
        "id": "Oe8Nv4UdCGyO",
        "colab_type": "text"
      },
      "source": [
        "### Domain"
      ]
    },
    {
      "cell_type": "markdown",
      "metadata": {
        "id": "I50PjkDiCGyO",
        "colab_type": "text"
      },
      "source": [
        "In this lesson, we'll work with the [Chicago Crimes Dataset](https://www.kaggle.com/currie32/crimes-in-chicago).  Now, to make our dataset more manageable, we already limited our dataset down to minor marijuana possessions and stored this data in a separate csv file called `chicago_poss.csv`."
      ]
    },
    {
      "cell_type": "markdown",
      "metadata": {
        "id": "YCSSetxfCGyP",
        "colab_type": "text"
      },
      "source": [
        "```python\n",
        "import pandas as pd\n",
        "df = pd.read_csv('chicago_crimes.csv')\n",
        "weed_df = df[df.description == 'POSS: CANNABIS 30GMS OR LESS']\n",
        "selected_columns = ['date']\n",
        "selected_df = df[selected_columns]\n",
        "```"
      ]
    },
    {
      "cell_type": "markdown",
      "metadata": {
        "id": "rotKdqklCGyP",
        "colab_type": "text"
      },
      "source": [
        "Let's load up the `chicago_poss.csv` file."
      ]
    },
    {
      "cell_type": "code",
      "metadata": {
        "id": "X5Vjzm2PCGyQ",
        "colab_type": "code",
        "colab": {}
      },
      "source": [
        "import pandas as pd\n",
        "url = \"https://raw.githubusercontent.com/jigsawlabs-student/feature-engineering/master/5-datetimes/chicago_poss.csv\"\n",
        "df = pd.read_csv(url, index_col = 0)"
      ],
      "execution_count": 0,
      "outputs": []
    },
    {
      "cell_type": "code",
      "metadata": {
        "id": "QHnsDcVVCGyT",
        "colab_type": "code",
        "outputId": "296ee16c-631c-45e0-a39d-ca18e2edd2c0",
        "colab": {}
      },
      "source": [
        "df[:2]"
      ],
      "execution_count": 0,
      "outputs": [
        {
          "output_type": "execute_result",
          "data": {
            "text/html": [
              "<div>\n",
              "<style scoped>\n",
              "    .dataframe tbody tr th:only-of-type {\n",
              "        vertical-align: middle;\n",
              "    }\n",
              "\n",
              "    .dataframe tbody tr th {\n",
              "        vertical-align: top;\n",
              "    }\n",
              "\n",
              "    .dataframe thead th {\n",
              "        text-align: right;\n",
              "    }\n",
              "</style>\n",
              "<table border=\"1\" class=\"dataframe\">\n",
              "  <thead>\n",
              "    <tr style=\"text-align: right;\">\n",
              "      <th></th>\n",
              "      <th>unnamed:_0</th>\n",
              "      <th>id</th>\n",
              "      <th>case_number</th>\n",
              "      <th>date</th>\n",
              "      <th>block</th>\n",
              "      <th>iucr</th>\n",
              "      <th>primary_type</th>\n",
              "      <th>description</th>\n",
              "      <th>location_description</th>\n",
              "      <th>arrest</th>\n",
              "      <th>...</th>\n",
              "      <th>ward</th>\n",
              "      <th>community_area</th>\n",
              "      <th>fbi_code</th>\n",
              "      <th>x_coordinate</th>\n",
              "      <th>y_coordinate</th>\n",
              "      <th>year</th>\n",
              "      <th>updated_on</th>\n",
              "      <th>latitude</th>\n",
              "      <th>longitude</th>\n",
              "      <th>location</th>\n",
              "    </tr>\n",
              "  </thead>\n",
              "  <tbody>\n",
              "    <tr>\n",
              "      <th>140</th>\n",
              "      <td>32450</td>\n",
              "      <td>10509515</td>\n",
              "      <td>HZ251054</td>\n",
              "      <td>05/04/2016 12:50:00 PM</td>\n",
              "      <td>004XX W 97TH ST</td>\n",
              "      <td>1811</td>\n",
              "      <td>NARCOTICS</td>\n",
              "      <td>POSS: CANNABIS 30GMS OR LESS</td>\n",
              "      <td>STREET</td>\n",
              "      <td>True</td>\n",
              "      <td>...</td>\n",
              "      <td>21.0</td>\n",
              "      <td>73.0</td>\n",
              "      <td>18</td>\n",
              "      <td>1174958.0</td>\n",
              "      <td>1840580.0</td>\n",
              "      <td>2016</td>\n",
              "      <td>05/11/2016 03:50:55 PM</td>\n",
              "      <td>41.717933</td>\n",
              "      <td>-87.634796</td>\n",
              "      <td>(41.717933377, -87.634796373)</td>\n",
              "    </tr>\n",
              "    <tr>\n",
              "      <th>181</th>\n",
              "      <td>44256</td>\n",
              "      <td>10508668</td>\n",
              "      <td>HZ250525</td>\n",
              "      <td>05/04/2016 12:15:00 AM</td>\n",
              "      <td>033XX W FLOURNOY ST</td>\n",
              "      <td>1811</td>\n",
              "      <td>NARCOTICS</td>\n",
              "      <td>POSS: CANNABIS 30GMS OR LESS</td>\n",
              "      <td>SIDEWALK</td>\n",
              "      <td>True</td>\n",
              "      <td>...</td>\n",
              "      <td>24.0</td>\n",
              "      <td>27.0</td>\n",
              "      <td>18</td>\n",
              "      <td>1154249.0</td>\n",
              "      <td>1896836.0</td>\n",
              "      <td>2016</td>\n",
              "      <td>05/11/2016 03:50:55 PM</td>\n",
              "      <td>41.872744</td>\n",
              "      <td>-87.709150</td>\n",
              "      <td>(41.87274397, -87.709149899)</td>\n",
              "    </tr>\n",
              "  </tbody>\n",
              "</table>\n",
              "<p>2 rows × 23 columns</p>\n",
              "</div>"
            ],
            "text/plain": [
              "     unnamed:_0        id case_number                    date  \\\n",
              "140       32450  10509515    HZ251054  05/04/2016 12:50:00 PM   \n",
              "181       44256  10508668    HZ250525  05/04/2016 12:15:00 AM   \n",
              "\n",
              "                   block  iucr primary_type                   description  \\\n",
              "140      004XX W 97TH ST  1811    NARCOTICS  POSS: CANNABIS 30GMS OR LESS   \n",
              "181  033XX W FLOURNOY ST  1811    NARCOTICS  POSS: CANNABIS 30GMS OR LESS   \n",
              "\n",
              "    location_description  arrest  ...  ward  community_area  fbi_code  \\\n",
              "140               STREET    True  ...  21.0            73.0        18   \n",
              "181             SIDEWALK    True  ...  24.0            27.0        18   \n",
              "\n",
              "     x_coordinate  y_coordinate  year              updated_on   latitude  \\\n",
              "140     1174958.0     1840580.0  2016  05/11/2016 03:50:55 PM  41.717933   \n",
              "181     1154249.0     1896836.0  2016  05/11/2016 03:50:55 PM  41.872744   \n",
              "\n",
              "     longitude                       location  \n",
              "140 -87.634796  (41.717933377, -87.634796373)  \n",
              "181 -87.709150   (41.87274397, -87.709149899)  \n",
              "\n",
              "[2 rows x 23 columns]"
            ]
          },
          "metadata": {
            "tags": []
          },
          "execution_count": 11
        }
      ]
    },
    {
      "cell_type": "markdown",
      "metadata": {
        "id": "bghh1KfoCGyW",
        "colab_type": "text"
      },
      "source": [
        "Let's begin by selecting our `date` column and converting it into a datetime."
      ]
    },
    {
      "cell_type": "code",
      "metadata": {
        "id": "Kmeo-5QZCGyW",
        "colab_type": "code",
        "colab": {}
      },
      "source": [
        "date_col = pd.to_datetime(df.date)"
      ],
      "execution_count": 0,
      "outputs": []
    },
    {
      "cell_type": "code",
      "metadata": {
        "id": "1_qaV_AiCGyZ",
        "colab_type": "code",
        "colab": {}
      },
      "source": [
        "df = df.assign(date_and_time = date_col)"
      ],
      "execution_count": 0,
      "outputs": []
    },
    {
      "cell_type": "markdown",
      "metadata": {
        "id": "n7SweklLCGyb",
        "colab_type": "text"
      },
      "source": [
        "Ok, now let's begin to explore the different kinds of information we can extract from a date.  Let's select our first date, and get started."
      ]
    },
    {
      "cell_type": "code",
      "metadata": {
        "id": "nVgzEFSqCGyc",
        "colab_type": "code",
        "colab": {}
      },
      "source": [
        "first_day = df['date_and_time'].iloc[0]"
      ],
      "execution_count": 0,
      "outputs": []
    },
    {
      "cell_type": "code",
      "metadata": {
        "id": "ElsJxMMlCGye",
        "colab_type": "code",
        "outputId": "5001d8b5-c615-4e07-c32d-af86ab84eafd",
        "colab": {}
      },
      "source": [
        "first_day.day_name()"
      ],
      "execution_count": 0,
      "outputs": [
        {
          "output_type": "execute_result",
          "data": {
            "text/plain": [
              "'Wednesday'"
            ]
          },
          "metadata": {
            "tags": []
          },
          "execution_count": 37
        }
      ]
    },
    {
      "cell_type": "code",
      "metadata": {
        "id": "oEjm5bOVCGyh",
        "colab_type": "code",
        "outputId": "ed3f5dfc-9146-4f0e-e829-893f37a808d9",
        "colab": {}
      },
      "source": [
        "first_day.date()"
      ],
      "execution_count": 0,
      "outputs": [
        {
          "output_type": "execute_result",
          "data": {
            "text/plain": [
              "datetime.date(2016, 5, 4)"
            ]
          },
          "metadata": {
            "tags": []
          },
          "execution_count": 38
        }
      ]
    },
    {
      "cell_type": "markdown",
      "metadata": {
        "id": "_h1KmdNECGyj",
        "colab_type": "text"
      },
      "source": [
        "## Moving to our regression problem"
      ]
    },
    {
      "cell_type": "markdown",
      "metadata": {
        "id": "XiU6wB6GCGyk",
        "colab_type": "text"
      },
      "source": [
        "Ok, now let's try to use this date information as a regression problem.  Let's take another look at our data."
      ]
    },
    {
      "cell_type": "markdown",
      "metadata": {
        "id": "VEo6IqnJCGyk",
        "colab_type": "text"
      },
      "source": [
        "Imagine that we want to predict the number of marijuana possessions that will be recorded on a given day.  To do so, we'll need data that looks like the following:"
      ]
    },
    {
      "cell_type": "markdown",
      "metadata": {
        "id": "XhPS6PPnCGyk",
        "colab_type": "text"
      },
      "source": [
        "| day  | count  |\n",
        "|---|---|\n",
        "| 10/3/12  | 73  |\n",
        "| 5/4/16  | 50  |\n",
        "| 8/10/17  |  65 |\n"
      ]
    },
    {
      "cell_type": "markdown",
      "metadata": {
        "id": "DMFlPC_fCGyl",
        "colab_type": "text"
      },
      "source": [
        "Currently, we don't have our data aggregated by day, but rather each possession record listed individually, with the related date and time.  "
      ]
    },
    {
      "cell_type": "code",
      "metadata": {
        "id": "ctzkrNwwCGyl",
        "colab_type": "code",
        "outputId": "3b2d2e00-0c6a-4c7a-aab9-098afef60ee4",
        "colab": {}
      },
      "source": [
        "df[['description', 'date_and_time']][:3]"
      ],
      "execution_count": 0,
      "outputs": [
        {
          "output_type": "execute_result",
          "data": {
            "text/html": [
              "<div>\n",
              "<style scoped>\n",
              "    .dataframe tbody tr th:only-of-type {\n",
              "        vertical-align: middle;\n",
              "    }\n",
              "\n",
              "    .dataframe tbody tr th {\n",
              "        vertical-align: top;\n",
              "    }\n",
              "\n",
              "    .dataframe thead th {\n",
              "        text-align: right;\n",
              "    }\n",
              "</style>\n",
              "<table border=\"1\" class=\"dataframe\">\n",
              "  <thead>\n",
              "    <tr style=\"text-align: right;\">\n",
              "      <th></th>\n",
              "      <th>description</th>\n",
              "      <th>date_and_time</th>\n",
              "    </tr>\n",
              "  </thead>\n",
              "  <tbody>\n",
              "    <tr>\n",
              "      <th>140</th>\n",
              "      <td>POSS: CANNABIS 30GMS OR LESS</td>\n",
              "      <td>2016-05-04 12:50:00</td>\n",
              "    </tr>\n",
              "    <tr>\n",
              "      <th>181</th>\n",
              "      <td>POSS: CANNABIS 30GMS OR LESS</td>\n",
              "      <td>2016-05-04 00:15:00</td>\n",
              "    </tr>\n",
              "    <tr>\n",
              "      <th>182</th>\n",
              "      <td>POSS: CANNABIS 30GMS OR LESS</td>\n",
              "      <td>2016-05-04 00:14:00</td>\n",
              "    </tr>\n",
              "  </tbody>\n",
              "</table>\n",
              "</div>"
            ],
            "text/plain": [
              "                      description       date_and_time\n",
              "140  POSS: CANNABIS 30GMS OR LESS 2016-05-04 12:50:00\n",
              "181  POSS: CANNABIS 30GMS OR LESS 2016-05-04 00:15:00\n",
              "182  POSS: CANNABIS 30GMS OR LESS 2016-05-04 00:14:00"
            ]
          },
          "metadata": {
            "tags": []
          },
          "execution_count": 39
        }
      ]
    },
    {
      "cell_type": "markdown",
      "metadata": {
        "id": "xGXE1CgPCGyo",
        "colab_type": "text"
      },
      "source": [
        "So let's change this.  To do aggregate we first need to create a new column **just of the dates** from our date and time."
      ]
    },
    {
      "cell_type": "code",
      "metadata": {
        "id": "-odanrZnCGyp",
        "colab_type": "code",
        "colab": {}
      },
      "source": [
        "df['date'] = df.date_and_time.map(lambda x: x.date())"
      ],
      "execution_count": 0,
      "outputs": []
    },
    {
      "cell_type": "code",
      "metadata": {
        "id": "Gj4dmMGOCGys",
        "colab_type": "code",
        "outputId": "b43d8c71-24b9-45cc-e440-2ccf2ce3c2f3",
        "colab": {}
      },
      "source": [
        "df['date'][0:3]"
      ],
      "execution_count": 0,
      "outputs": [
        {
          "output_type": "execute_result",
          "data": {
            "text/plain": [
              "140    2016-05-04\n",
              "181    2016-05-04\n",
              "182    2016-05-04\n",
              "Name: date, dtype: object"
            ]
          },
          "metadata": {
            "tags": []
          },
          "execution_count": 41
        }
      ]
    },
    {
      "cell_type": "markdown",
      "metadata": {
        "id": "OyPRsHqwCGyt",
        "colab_type": "text"
      },
      "source": [
        "And now we can group all of our rows by the date, and count up the number of rows for each date."
      ]
    },
    {
      "cell_type": "code",
      "metadata": {
        "id": "IMdHmnNxCGyu",
        "colab_type": "code",
        "colab": {}
      },
      "source": [
        "df_aggregated = df.groupby('date').count()\n"
      ],
      "execution_count": 0,
      "outputs": []
    },
    {
      "cell_type": "code",
      "metadata": {
        "id": "km4Nn_m5CGyv",
        "colab_type": "code",
        "outputId": "51a48df5-f563-494b-ea91-95d3f40fd6a2",
        "colab": {}
      },
      "source": [
        "df_aggregated[0:2]"
      ],
      "execution_count": 0,
      "outputs": [
        {
          "output_type": "execute_result",
          "data": {
            "text/html": [
              "<div>\n",
              "<style scoped>\n",
              "    .dataframe tbody tr th:only-of-type {\n",
              "        vertical-align: middle;\n",
              "    }\n",
              "\n",
              "    .dataframe tbody tr th {\n",
              "        vertical-align: top;\n",
              "    }\n",
              "\n",
              "    .dataframe thead th {\n",
              "        text-align: right;\n",
              "    }\n",
              "</style>\n",
              "<table border=\"1\" class=\"dataframe\">\n",
              "  <thead>\n",
              "    <tr style=\"text-align: right;\">\n",
              "      <th></th>\n",
              "      <th>unnamed:_0</th>\n",
              "      <th>id</th>\n",
              "      <th>case_number</th>\n",
              "      <th>block</th>\n",
              "      <th>iucr</th>\n",
              "      <th>primary_type</th>\n",
              "      <th>description</th>\n",
              "      <th>location_description</th>\n",
              "      <th>arrest</th>\n",
              "      <th>domestic</th>\n",
              "      <th>...</th>\n",
              "      <th>x_coordinate</th>\n",
              "      <th>y_coordinate</th>\n",
              "      <th>year</th>\n",
              "      <th>updated_on</th>\n",
              "      <th>latitude</th>\n",
              "      <th>longitude</th>\n",
              "      <th>location</th>\n",
              "      <th>date_col</th>\n",
              "      <th>only_date</th>\n",
              "      <th>date_and_time</th>\n",
              "    </tr>\n",
              "    <tr>\n",
              "      <th>date</th>\n",
              "      <th></th>\n",
              "      <th></th>\n",
              "      <th></th>\n",
              "      <th></th>\n",
              "      <th></th>\n",
              "      <th></th>\n",
              "      <th></th>\n",
              "      <th></th>\n",
              "      <th></th>\n",
              "      <th></th>\n",
              "      <th></th>\n",
              "      <th></th>\n",
              "      <th></th>\n",
              "      <th></th>\n",
              "      <th></th>\n",
              "      <th></th>\n",
              "      <th></th>\n",
              "      <th></th>\n",
              "      <th></th>\n",
              "      <th></th>\n",
              "      <th></th>\n",
              "    </tr>\n",
              "  </thead>\n",
              "  <tbody>\n",
              "    <tr>\n",
              "      <th>2012-01-01</th>\n",
              "      <td>42</td>\n",
              "      <td>42</td>\n",
              "      <td>42</td>\n",
              "      <td>42</td>\n",
              "      <td>42</td>\n",
              "      <td>42</td>\n",
              "      <td>42</td>\n",
              "      <td>42</td>\n",
              "      <td>42</td>\n",
              "      <td>42</td>\n",
              "      <td>...</td>\n",
              "      <td>42</td>\n",
              "      <td>42</td>\n",
              "      <td>42</td>\n",
              "      <td>42</td>\n",
              "      <td>42</td>\n",
              "      <td>42</td>\n",
              "      <td>42</td>\n",
              "      <td>42</td>\n",
              "      <td>42</td>\n",
              "      <td>42</td>\n",
              "    </tr>\n",
              "    <tr>\n",
              "      <th>2012-01-02</th>\n",
              "      <td>48</td>\n",
              "      <td>48</td>\n",
              "      <td>48</td>\n",
              "      <td>48</td>\n",
              "      <td>48</td>\n",
              "      <td>48</td>\n",
              "      <td>48</td>\n",
              "      <td>48</td>\n",
              "      <td>48</td>\n",
              "      <td>48</td>\n",
              "      <td>...</td>\n",
              "      <td>48</td>\n",
              "      <td>48</td>\n",
              "      <td>48</td>\n",
              "      <td>48</td>\n",
              "      <td>48</td>\n",
              "      <td>48</td>\n",
              "      <td>48</td>\n",
              "      <td>48</td>\n",
              "      <td>48</td>\n",
              "      <td>48</td>\n",
              "    </tr>\n",
              "  </tbody>\n",
              "</table>\n",
              "<p>2 rows × 25 columns</p>\n",
              "</div>"
            ],
            "text/plain": [
              "            unnamed:_0  id  case_number  block  iucr  primary_type  \\\n",
              "date                                                                 \n",
              "2012-01-01          42  42           42     42    42            42   \n",
              "2012-01-02          48  48           48     48    48            48   \n",
              "\n",
              "            description  location_description  arrest  domestic  ...  \\\n",
              "date                                                             ...   \n",
              "2012-01-01           42                    42      42        42  ...   \n",
              "2012-01-02           48                    48      48        48  ...   \n",
              "\n",
              "            x_coordinate  y_coordinate  year  updated_on  latitude  longitude  \\\n",
              "date                                                                            \n",
              "2012-01-01            42            42    42          42        42         42   \n",
              "2012-01-02            48            48    48          48        48         48   \n",
              "\n",
              "            location  date_col  only_date  date_and_time  \n",
              "date                                                      \n",
              "2012-01-01        42        42         42             42  \n",
              "2012-01-02        48        48         48             48  \n",
              "\n",
              "[2 rows x 25 columns]"
            ]
          },
          "metadata": {
            "tags": []
          },
          "execution_count": 47
        }
      ]
    },
    {
      "cell_type": "code",
      "metadata": {
        "id": "9MtwhM9SCGyy",
        "colab_type": "code",
        "colab": {}
      },
      "source": [
        "poss_dates_and_counts = df_aggregated.iloc[:, :1]"
      ],
      "execution_count": 0,
      "outputs": []
    },
    {
      "cell_type": "code",
      "metadata": {
        "id": "vyweF_SsCGy2",
        "colab_type": "code",
        "colab": {}
      },
      "source": [
        "poss_dates_and_counts.columns = ['count']"
      ],
      "execution_count": 0,
      "outputs": []
    },
    {
      "cell_type": "code",
      "metadata": {
        "id": "nXVnyjR6CGy4",
        "colab_type": "code",
        "outputId": "833c1a2a-25b4-4e63-e89e-564a5fc4c719",
        "colab": {}
      },
      "source": [
        "poss_dates_and_counts[:2]"
      ],
      "execution_count": 0,
      "outputs": [
        {
          "output_type": "execute_result",
          "data": {
            "text/html": [
              "<div>\n",
              "<style scoped>\n",
              "    .dataframe tbody tr th:only-of-type {\n",
              "        vertical-align: middle;\n",
              "    }\n",
              "\n",
              "    .dataframe tbody tr th {\n",
              "        vertical-align: top;\n",
              "    }\n",
              "\n",
              "    .dataframe thead th {\n",
              "        text-align: right;\n",
              "    }\n",
              "</style>\n",
              "<table border=\"1\" class=\"dataframe\">\n",
              "  <thead>\n",
              "    <tr style=\"text-align: right;\">\n",
              "      <th></th>\n",
              "      <th>count</th>\n",
              "    </tr>\n",
              "    <tr>\n",
              "      <th>date</th>\n",
              "      <th></th>\n",
              "    </tr>\n",
              "  </thead>\n",
              "  <tbody>\n",
              "    <tr>\n",
              "      <th>2012-01-01</th>\n",
              "      <td>42</td>\n",
              "    </tr>\n",
              "    <tr>\n",
              "      <th>2012-01-02</th>\n",
              "      <td>48</td>\n",
              "    </tr>\n",
              "  </tbody>\n",
              "</table>\n",
              "</div>"
            ],
            "text/plain": [
              "            count\n",
              "date             \n",
              "2012-01-01     42\n",
              "2012-01-02     48"
            ]
          },
          "metadata": {
            "tags": []
          },
          "execution_count": 51
        }
      ]
    },
    {
      "cell_type": "markdown",
      "metadata": {
        "id": "qQEdEedXCGy7",
        "colab_type": "text"
      },
      "source": [
        "Ok, great, so now we'd like build a regression model where we use the date to predict the number of crimes reported for that day. "
      ]
    },
    {
      "cell_type": "markdown",
      "metadata": {
        "id": "OeYoT8tiCGy8",
        "colab_type": "text"
      },
      "source": [
        "### Periodic Features from Dates"
      ]
    },
    {
      "cell_type": "markdown",
      "metadata": {
        "id": "DxpqrAmbCGy8",
        "colab_type": "text"
      },
      "source": [
        "It may seem ambitious to try to predict the number of crimes just from the date, but remember, there are many features that we  can derive from dates."
      ]
    },
    {
      "cell_type": "markdown",
      "metadata": {
        "id": "VhQ1f2nXCGy9",
        "colab_type": "text"
      },
      "source": [
        "Features like:"
      ]
    },
    {
      "cell_type": "markdown",
      "metadata": {
        "id": "7y9nveqACGy-",
        "colab_type": "text"
      },
      "source": [
        "* day number in the week\n",
        "* day of month\n",
        "* month\n",
        "* season\n",
        "* day of year\n",
        "\n",
        "And if we also had included the time component, we could add hour, minute and second to that.  "
      ]
    },
    {
      "cell_type": "markdown",
      "metadata": {
        "id": "wh3oTKWnCGy-",
        "colab_type": "text"
      },
      "source": [
        "The team at `fast.ai` put together an excellent library for extracting these features and a lot more.  \n",
        "\n",
        "> We'll copy the code here for you to examine."
      ]
    },
    {
      "cell_type": "code",
      "metadata": {
        "id": "TTjeJ2F_CGy-",
        "colab_type": "code",
        "colab": {}
      },
      "source": [
        "import numpy as np\n",
        "import re\n",
        "def add_datepart(df, fldname, drop=True, time=False, errors=\"raise\"):\n",
        "    fld = df[fldname]\n",
        "    fld_dtype = fld.dtype\n",
        "    if isinstance(fld_dtype, pd.core.dtypes.dtypes.DatetimeTZDtype):\n",
        "        fld_dtype = np.datetime64\n",
        "\n",
        "    if not np.issubdtype(fld_dtype, np.datetime64):\n",
        "        df[fldname] = fld = pd.to_datetime(fld, infer_datetime_format=True, errors=errors)\n",
        "    targ_pre = re.sub('[Dd]ate$', '', fldname)\n",
        "    attr = ['Year', 'Month', 'Week', 'Day', 'Dayofweek', 'Dayofyear',\n",
        "            'Is_month_end', 'Is_month_start', 'Is_quarter_end', 'Is_quarter_start', 'Is_year_end', 'Is_year_start']\n",
        "    if time: attr = attr + ['Hour', 'Minute', 'Second']\n",
        "    for n in attr: df[targ_pre + n] = getattr(fld.dt, n.lower())\n",
        "    df[targ_pre + 'Elapsed'] = fld.astype(np.int64) // 10 ** 9\n",
        "    if drop: df.drop(fldname, axis=1, inplace=True)"
      ],
      "execution_count": 0,
      "outputs": []
    },
    {
      "cell_type": "markdown",
      "metadata": {
        "id": "BQ6DNLlhCGzA",
        "colab_type": "text"
      },
      "source": [
        "Ok, to use the library, we can first create a new column simply of the date."
      ]
    },
    {
      "cell_type": "code",
      "metadata": {
        "id": "0vBOqLbzCGzB",
        "colab_type": "code",
        "outputId": "258b2ef8-fd22-4637-cf64-2a825a7ed669",
        "colab": {}
      },
      "source": [
        "poss_dates_and_counts[:2]"
      ],
      "execution_count": 0,
      "outputs": [
        {
          "output_type": "execute_result",
          "data": {
            "text/html": [
              "<div>\n",
              "<style scoped>\n",
              "    .dataframe tbody tr th:only-of-type {\n",
              "        vertical-align: middle;\n",
              "    }\n",
              "\n",
              "    .dataframe tbody tr th {\n",
              "        vertical-align: top;\n",
              "    }\n",
              "\n",
              "    .dataframe thead th {\n",
              "        text-align: right;\n",
              "    }\n",
              "</style>\n",
              "<table border=\"1\" class=\"dataframe\">\n",
              "  <thead>\n",
              "    <tr style=\"text-align: right;\">\n",
              "      <th></th>\n",
              "      <th>count</th>\n",
              "    </tr>\n",
              "    <tr>\n",
              "      <th>date</th>\n",
              "      <th></th>\n",
              "    </tr>\n",
              "  </thead>\n",
              "  <tbody>\n",
              "    <tr>\n",
              "      <th>2012-01-01</th>\n",
              "      <td>42</td>\n",
              "    </tr>\n",
              "    <tr>\n",
              "      <th>2012-01-02</th>\n",
              "      <td>48</td>\n",
              "    </tr>\n",
              "  </tbody>\n",
              "</table>\n",
              "</div>"
            ],
            "text/plain": [
              "            count\n",
              "date             \n",
              "2012-01-01     42\n",
              "2012-01-02     48"
            ]
          },
          "metadata": {
            "tags": []
          },
          "execution_count": 52
        }
      ]
    },
    {
      "cell_type": "code",
      "metadata": {
        "id": "XKzu2UPuCGzK",
        "colab_type": "code",
        "colab": {}
      },
      "source": [
        "poss_dates_and_counts = poss_dates_and_counts.assign(date = poss_dates_and_counts.index)"
      ],
      "execution_count": 0,
      "outputs": []
    },
    {
      "cell_type": "code",
      "metadata": {
        "id": "T7iYR_XjCGzM",
        "colab_type": "code",
        "outputId": "c10e8166-f035-460d-d009-1b8f42ff9753",
        "colab": {}
      },
      "source": [
        "poss_dates_and_counts[:2]"
      ],
      "execution_count": 0,
      "outputs": [
        {
          "output_type": "execute_result",
          "data": {
            "text/html": [
              "<div>\n",
              "<style scoped>\n",
              "    .dataframe tbody tr th:only-of-type {\n",
              "        vertical-align: middle;\n",
              "    }\n",
              "\n",
              "    .dataframe tbody tr th {\n",
              "        vertical-align: top;\n",
              "    }\n",
              "\n",
              "    .dataframe thead th {\n",
              "        text-align: right;\n",
              "    }\n",
              "</style>\n",
              "<table border=\"1\" class=\"dataframe\">\n",
              "  <thead>\n",
              "    <tr style=\"text-align: right;\">\n",
              "      <th></th>\n",
              "      <th>count</th>\n",
              "      <th>date</th>\n",
              "    </tr>\n",
              "    <tr>\n",
              "      <th>date</th>\n",
              "      <th></th>\n",
              "      <th></th>\n",
              "    </tr>\n",
              "  </thead>\n",
              "  <tbody>\n",
              "    <tr>\n",
              "      <th>2012-01-01</th>\n",
              "      <td>42</td>\n",
              "      <td>2012-01-01</td>\n",
              "    </tr>\n",
              "    <tr>\n",
              "      <th>2012-01-02</th>\n",
              "      <td>48</td>\n",
              "      <td>2012-01-02</td>\n",
              "    </tr>\n",
              "  </tbody>\n",
              "</table>\n",
              "</div>"
            ],
            "text/plain": [
              "            count        date\n",
              "date                         \n",
              "2012-01-01     42  2012-01-01\n",
              "2012-01-02     48  2012-01-02"
            ]
          },
          "metadata": {
            "tags": []
          },
          "execution_count": 56
        }
      ]
    },
    {
      "cell_type": "markdown",
      "metadata": {
        "id": "oI5Y1UTPCGzO",
        "colab_type": "text"
      },
      "source": [
        "Then we can call the `add_datepart` method on our `date` column."
      ]
    },
    {
      "cell_type": "code",
      "metadata": {
        "id": "m_aIeXLJCGzO",
        "colab_type": "code",
        "colab": {}
      },
      "source": [
        "add_datepart(poss_dates_and_counts, 'date')"
      ],
      "execution_count": 0,
      "outputs": []
    },
    {
      "cell_type": "code",
      "metadata": {
        "id": "bUlRCtsSCGzS",
        "colab_type": "code",
        "outputId": "3b504454-7eb4-4774-a27e-3abe78199c4b",
        "colab": {}
      },
      "source": [
        "poss_dates_and_counts[:3]"
      ],
      "execution_count": 0,
      "outputs": [
        {
          "output_type": "execute_result",
          "data": {
            "text/html": [
              "<div>\n",
              "<style scoped>\n",
              "    .dataframe tbody tr th:only-of-type {\n",
              "        vertical-align: middle;\n",
              "    }\n",
              "\n",
              "    .dataframe tbody tr th {\n",
              "        vertical-align: top;\n",
              "    }\n",
              "\n",
              "    .dataframe thead th {\n",
              "        text-align: right;\n",
              "    }\n",
              "</style>\n",
              "<table border=\"1\" class=\"dataframe\">\n",
              "  <thead>\n",
              "    <tr style=\"text-align: right;\">\n",
              "      <th></th>\n",
              "      <th>count</th>\n",
              "      <th>Year</th>\n",
              "      <th>Month</th>\n",
              "      <th>Week</th>\n",
              "      <th>Day</th>\n",
              "      <th>Dayofweek</th>\n",
              "      <th>Dayofyear</th>\n",
              "      <th>Is_month_end</th>\n",
              "      <th>Is_month_start</th>\n",
              "      <th>Is_quarter_end</th>\n",
              "      <th>Is_quarter_start</th>\n",
              "      <th>Is_year_end</th>\n",
              "      <th>Is_year_start</th>\n",
              "      <th>Elapsed</th>\n",
              "    </tr>\n",
              "    <tr>\n",
              "      <th>date</th>\n",
              "      <th></th>\n",
              "      <th></th>\n",
              "      <th></th>\n",
              "      <th></th>\n",
              "      <th></th>\n",
              "      <th></th>\n",
              "      <th></th>\n",
              "      <th></th>\n",
              "      <th></th>\n",
              "      <th></th>\n",
              "      <th></th>\n",
              "      <th></th>\n",
              "      <th></th>\n",
              "      <th></th>\n",
              "    </tr>\n",
              "  </thead>\n",
              "  <tbody>\n",
              "    <tr>\n",
              "      <th>2012-01-01</th>\n",
              "      <td>42</td>\n",
              "      <td>2012</td>\n",
              "      <td>1</td>\n",
              "      <td>52</td>\n",
              "      <td>1</td>\n",
              "      <td>6</td>\n",
              "      <td>1</td>\n",
              "      <td>False</td>\n",
              "      <td>True</td>\n",
              "      <td>False</td>\n",
              "      <td>True</td>\n",
              "      <td>False</td>\n",
              "      <td>True</td>\n",
              "      <td>1325376000</td>\n",
              "    </tr>\n",
              "    <tr>\n",
              "      <th>2012-01-02</th>\n",
              "      <td>48</td>\n",
              "      <td>2012</td>\n",
              "      <td>1</td>\n",
              "      <td>1</td>\n",
              "      <td>2</td>\n",
              "      <td>0</td>\n",
              "      <td>2</td>\n",
              "      <td>False</td>\n",
              "      <td>False</td>\n",
              "      <td>False</td>\n",
              "      <td>False</td>\n",
              "      <td>False</td>\n",
              "      <td>False</td>\n",
              "      <td>1325462400</td>\n",
              "    </tr>\n",
              "    <tr>\n",
              "      <th>2012-01-03</th>\n",
              "      <td>36</td>\n",
              "      <td>2012</td>\n",
              "      <td>1</td>\n",
              "      <td>1</td>\n",
              "      <td>3</td>\n",
              "      <td>1</td>\n",
              "      <td>3</td>\n",
              "      <td>False</td>\n",
              "      <td>False</td>\n",
              "      <td>False</td>\n",
              "      <td>False</td>\n",
              "      <td>False</td>\n",
              "      <td>False</td>\n",
              "      <td>1325548800</td>\n",
              "    </tr>\n",
              "  </tbody>\n",
              "</table>\n",
              "</div>"
            ],
            "text/plain": [
              "            count  Year  Month  Week  Day  Dayofweek  Dayofyear  Is_month_end  \\\n",
              "date                                                                            \n",
              "2012-01-01     42  2012      1    52    1          6          1         False   \n",
              "2012-01-02     48  2012      1     1    2          0          2         False   \n",
              "2012-01-03     36  2012      1     1    3          1          3         False   \n",
              "\n",
              "            Is_month_start  Is_quarter_end  Is_quarter_start  Is_year_end  \\\n",
              "date                                                                        \n",
              "2012-01-01            True           False              True        False   \n",
              "2012-01-02           False           False             False        False   \n",
              "2012-01-03           False           False             False        False   \n",
              "\n",
              "            Is_year_start     Elapsed  \n",
              "date                                   \n",
              "2012-01-01           True  1325376000  \n",
              "2012-01-02          False  1325462400  \n",
              "2012-01-03          False  1325548800  "
            ]
          },
          "metadata": {
            "tags": []
          },
          "execution_count": 61
        }
      ]
    },
    {
      "cell_type": "markdown",
      "metadata": {
        "id": "MPWKcfm0CGzT",
        "colab_type": "text"
      },
      "source": [
        "This does a pretty good job, but it treats the day of the week as a number.  For the purposes of linear regression it's better to treat this as a category."
      ]
    },
    {
      "cell_type": "code",
      "metadata": {
        "id": "sSB7oKCHCGzU",
        "colab_type": "code",
        "colab": {}
      },
      "source": [
        "days_of_week_df = pd.get_dummies(poss_dates_and_counts.Dayofweek, drop_first=True)\n",
        "days_of_week_df.columns = ['Sun', 'Mon', 'Tues', 'Weds', 'Thurs', 'Fri']"
      ],
      "execution_count": 0,
      "outputs": []
    },
    {
      "cell_type": "code",
      "metadata": {
        "id": "jWSq-bJQCGzX",
        "colab_type": "code",
        "colab": {}
      },
      "source": [
        "# df_aggregated.drop(columns = ['Dayofweek'])\n",
        "agg_cats_df = pd.concat([poss_dates_and_counts, days_of_week_df], axis=1)"
      ],
      "execution_count": 0,
      "outputs": []
    },
    {
      "cell_type": "code",
      "metadata": {
        "id": "tZnBLT7xCGzY",
        "colab_type": "code",
        "outputId": "d4ec6184-5f48-4e95-bf7d-b1e1e28c69ed",
        "colab": {}
      },
      "source": [
        "agg_cats_df[:2]"
      ],
      "execution_count": 0,
      "outputs": [
        {
          "output_type": "execute_result",
          "data": {
            "text/html": [
              "<div>\n",
              "<style scoped>\n",
              "    .dataframe tbody tr th:only-of-type {\n",
              "        vertical-align: middle;\n",
              "    }\n",
              "\n",
              "    .dataframe tbody tr th {\n",
              "        vertical-align: top;\n",
              "    }\n",
              "\n",
              "    .dataframe thead th {\n",
              "        text-align: right;\n",
              "    }\n",
              "</style>\n",
              "<table border=\"1\" class=\"dataframe\">\n",
              "  <thead>\n",
              "    <tr style=\"text-align: right;\">\n",
              "      <th></th>\n",
              "      <th>count</th>\n",
              "      <th>Year</th>\n",
              "      <th>Month</th>\n",
              "      <th>Week</th>\n",
              "      <th>Day</th>\n",
              "      <th>Dayofweek</th>\n",
              "      <th>Dayofyear</th>\n",
              "      <th>Is_month_end</th>\n",
              "      <th>Is_month_start</th>\n",
              "      <th>Is_quarter_end</th>\n",
              "      <th>Is_quarter_start</th>\n",
              "      <th>Is_year_end</th>\n",
              "      <th>Is_year_start</th>\n",
              "      <th>Elapsed</th>\n",
              "      <th>Sun</th>\n",
              "      <th>Mon</th>\n",
              "      <th>Tues</th>\n",
              "      <th>Weds</th>\n",
              "      <th>Thurs</th>\n",
              "      <th>Fri</th>\n",
              "    </tr>\n",
              "    <tr>\n",
              "      <th>date</th>\n",
              "      <th></th>\n",
              "      <th></th>\n",
              "      <th></th>\n",
              "      <th></th>\n",
              "      <th></th>\n",
              "      <th></th>\n",
              "      <th></th>\n",
              "      <th></th>\n",
              "      <th></th>\n",
              "      <th></th>\n",
              "      <th></th>\n",
              "      <th></th>\n",
              "      <th></th>\n",
              "      <th></th>\n",
              "      <th></th>\n",
              "      <th></th>\n",
              "      <th></th>\n",
              "      <th></th>\n",
              "      <th></th>\n",
              "      <th></th>\n",
              "    </tr>\n",
              "  </thead>\n",
              "  <tbody>\n",
              "    <tr>\n",
              "      <th>2012-01-01</th>\n",
              "      <td>42</td>\n",
              "      <td>2012</td>\n",
              "      <td>1</td>\n",
              "      <td>52</td>\n",
              "      <td>1</td>\n",
              "      <td>6</td>\n",
              "      <td>1</td>\n",
              "      <td>False</td>\n",
              "      <td>True</td>\n",
              "      <td>False</td>\n",
              "      <td>True</td>\n",
              "      <td>False</td>\n",
              "      <td>True</td>\n",
              "      <td>1325376000</td>\n",
              "      <td>0</td>\n",
              "      <td>0</td>\n",
              "      <td>0</td>\n",
              "      <td>0</td>\n",
              "      <td>0</td>\n",
              "      <td>1</td>\n",
              "    </tr>\n",
              "    <tr>\n",
              "      <th>2012-01-02</th>\n",
              "      <td>48</td>\n",
              "      <td>2012</td>\n",
              "      <td>1</td>\n",
              "      <td>1</td>\n",
              "      <td>2</td>\n",
              "      <td>0</td>\n",
              "      <td>2</td>\n",
              "      <td>False</td>\n",
              "      <td>False</td>\n",
              "      <td>False</td>\n",
              "      <td>False</td>\n",
              "      <td>False</td>\n",
              "      <td>False</td>\n",
              "      <td>1325462400</td>\n",
              "      <td>0</td>\n",
              "      <td>0</td>\n",
              "      <td>0</td>\n",
              "      <td>0</td>\n",
              "      <td>0</td>\n",
              "      <td>0</td>\n",
              "    </tr>\n",
              "  </tbody>\n",
              "</table>\n",
              "</div>"
            ],
            "text/plain": [
              "            count  Year  Month  Week  Day  Dayofweek  Dayofyear  Is_month_end  \\\n",
              "date                                                                            \n",
              "2012-01-01     42  2012      1    52    1          6          1         False   \n",
              "2012-01-02     48  2012      1     1    2          0          2         False   \n",
              "\n",
              "            Is_month_start  Is_quarter_end  Is_quarter_start  Is_year_end  \\\n",
              "date                                                                        \n",
              "2012-01-01            True           False              True        False   \n",
              "2012-01-02           False           False             False        False   \n",
              "\n",
              "            Is_year_start     Elapsed  Sun  Mon  Tues  Weds  Thurs  Fri  \n",
              "date                                                                     \n",
              "2012-01-01           True  1325376000    0    0     0     0      0    1  \n",
              "2012-01-02          False  1325462400    0    0     0     0      0    0  "
            ]
          },
          "metadata": {
            "tags": []
          },
          "execution_count": 69
        }
      ]
    },
    {
      "cell_type": "markdown",
      "metadata": {
        "id": "kd7yvS8nCGzb",
        "colab_type": "text"
      },
      "source": [
        "### Train the model"
      ]
    },
    {
      "cell_type": "code",
      "metadata": {
        "id": "661go0R6CGzb",
        "colab_type": "code",
        "colab": {}
      },
      "source": [
        "X = agg_cats_df.iloc[:, 1:]\n",
        "y = agg_cats_df.iloc[:, 0]"
      ],
      "execution_count": 0,
      "outputs": []
    },
    {
      "cell_type": "code",
      "metadata": {
        "id": "f7ar4POJCGzd",
        "colab_type": "code",
        "colab": {}
      },
      "source": [
        "from sklearn.model_selection import train_test_split\n",
        "\n",
        "X_train, X_test, y_train, y_test = train_test_split(X, y)"
      ],
      "execution_count": 0,
      "outputs": []
    },
    {
      "cell_type": "code",
      "metadata": {
        "id": "5s5Z8SMBCGzg",
        "colab_type": "code",
        "outputId": "ca2da1e3-f3d1-4c7c-d4f4-473e0a7fa5cd",
        "colab": {}
      },
      "source": [
        "from sklearn.linear_model import LinearRegression\n",
        "model = LinearRegression()\n",
        "model.fit(X_train, y_train)\n",
        "\n",
        "model.coef_"
      ],
      "execution_count": 0,
      "outputs": [
        {
          "output_type": "execute_result",
          "data": {
            "text/plain": [
              "array([-7.87671317e+02,  1.05811639e+02,  1.06570234e-01,  3.41760750e+00,\n",
              "       -7.28675304e-02, -5.66907773e+00, -5.34163922e-01,  1.35209237e+00,\n",
              "        7.16023695e-01,  1.99339430e+00, -1.27017929e+01, -2.25815727e+01,\n",
              "        2.46696248e-05,  4.45798373e-01,  1.73351869e+00,  8.42578293e-01,\n",
              "        2.82531493e+00, -1.18563401e+00, -1.98108797e+00])"
            ]
          },
          "metadata": {
            "tags": []
          },
          "execution_count": 74
        }
      ]
    },
    {
      "cell_type": "code",
      "metadata": {
        "id": "D0d_Ln5pCGzi",
        "colab_type": "code",
        "outputId": "bc4aa345-3802-4e75-c7cc-4b2b814a5fc0",
        "colab": {}
      },
      "source": [
        "model.score(X_train, y_train)"
      ],
      "execution_count": 0,
      "outputs": [
        {
          "output_type": "execute_result",
          "data": {
            "text/plain": [
              "0.7463042533867803"
            ]
          },
          "metadata": {
            "tags": []
          },
          "execution_count": 75
        }
      ]
    },
    {
      "cell_type": "code",
      "metadata": {
        "id": "kPLv5XdPCGzk",
        "colab_type": "code",
        "outputId": "6b856319-9ef6-41cd-fd61-a2c40d0e1e4b",
        "colab": {}
      },
      "source": [
        "model.score(X_test, y_test)"
      ],
      "execution_count": 0,
      "outputs": [
        {
          "output_type": "execute_result",
          "data": {
            "text/plain": [
              "0.749749735207782"
            ]
          },
          "metadata": {
            "tags": []
          },
          "execution_count": 76
        }
      ]
    },
    {
      "cell_type": "code",
      "metadata": {
        "id": "RXpDcKXzCGzl",
        "colab_type": "code",
        "outputId": "2ea44aab-0776-4eff-a0c8-60c784b05b28",
        "colab": {}
      },
      "source": [
        "from sklearn.metrics import mean_squared_error\n",
        "from math import sqrt\n",
        "# make predictions on all of them \n",
        "test_predictions = model.predict(X_test)\n",
        "sqrt(mean_squared_error(y_test, test_predictions))"
      ],
      "execution_count": 0,
      "outputs": [
        {
          "output_type": "execute_result",
          "data": {
            "text/plain": [
              "8.509964996220509"
            ]
          },
          "metadata": {
            "tags": []
          },
          "execution_count": 77
        }
      ]
    },
    {
      "cell_type": "markdown",
      "metadata": {
        "id": "DiJEuYWZCGzn",
        "colab_type": "text"
      },
      "source": [
        "The $RMSE$ is 8.5, which looks pretty good considering the dataset.  And the coefficient of determination is .75, which means that our model does a good bit better than just predicting the mean count of possession records."
      ]
    },
    {
      "cell_type": "markdown",
      "metadata": {
        "id": "W0SqcyRPCGzo",
        "colab_type": "text"
      },
      "source": [
        "Let's plot our model alongside the dates to see how we did."
      ]
    },
    {
      "cell_type": "code",
      "metadata": {
        "id": "q2QjM_iaCGzo",
        "colab_type": "code",
        "colab": {}
      },
      "source": [
        "predictions = model.predict(X_train)"
      ],
      "execution_count": 0,
      "outputs": []
    },
    {
      "cell_type": "code",
      "metadata": {
        "id": "m3ka1G47CGzq",
        "colab_type": "code",
        "outputId": "7b3c099a-5a5b-4e33-db05-05053db888a9",
        "colab": {}
      },
      "source": [
        "y_train.shape"
      ],
      "execution_count": 0,
      "outputs": [
        {
          "output_type": "execute_result",
          "data": {
            "text/plain": [
              "(1372,)"
            ]
          },
          "metadata": {
            "tags": []
          },
          "execution_count": 92
        }
      ]
    },
    {
      "cell_type": "code",
      "metadata": {
        "id": "186vSvKZCGzt",
        "colab_type": "code",
        "outputId": "d415c077-fd48-4a7d-ab88-6477fb3ce5ad",
        "colab": {}
      },
      "source": [
        "from pandas.plotting import register_matplotlib_converters\n",
        "register_matplotlib_converters()\n",
        "\n",
        "import matplotlib.pyplot as plt\n",
        "\n",
        "fig = plt.figure()\n",
        "ax = fig.add_subplot(111)\n",
        "ax.scatter(x = X_train.index, y = y_train, color = 'gray')\n",
        "ax.scatter(X_train.index, predictions, color = 'orange')\n",
        "ax.set(xlabel = 'date', ylabel = 'marij. count', title = 'Marij Possession Records In Chicago')\n",
        "fig.set_size_inches(15, 8)"
      ],
      "execution_count": 0,
      "outputs": [
        {
          "output_type": "display_data",
          "data": {
            "image/png": "[encoded data removed]",
            "text/plain": [
              "<Figure size 1080x576 with 1 Axes>"
            ]
          },
          "metadata": {
            "tags": [],
            "needs_background": "light"
          }
        }
      ]
    },
    {
      "cell_type": "markdown",
      "metadata": {
        "id": "vUmLK83oCGzv",
        "colab_type": "text"
      },
      "source": [
        "### Summary "
      ]
    },
    {
      "cell_type": "markdown",
      "metadata": {
        "id": "yL3B7k5-CGzv",
        "colab_type": "text"
      },
      "source": [
        "In this lesson we saw the different features that we can derive from a single datetime column.  These features include the following:"
      ]
    },
    {
      "cell_type": "markdown",
      "metadata": {
        "id": "21hB8appCGzw",
        "colab_type": "text"
      },
      "source": [
        "* `Year`, `Month`, `Week`, `Day`\n",
        "* `Dayofweek`, `Dayofyear`\n",
        "* `Is_month_end`, `Is_month_start`, `Is_quarter_end`, `Is_quarter_start`\n",
        "* `Is_year_end`, `Is_year_start`"
      ]
    },
    {
      "cell_type": "markdown",
      "metadata": {
        "id": "goj74t1kCGzw",
        "colab_type": "text"
      },
      "source": [
        "To use our datetime data, we first aggregated our records by date to use a day to predict a count of the number of records on that day.  \n",
        "\n",
        "```python\n",
        "df_aggregated = df.groupby('date').count()\n",
        "```"
      ]
    },
    {
      "cell_type": "markdown",
      "metadata": {
        "id": "Jlb7OxdqCGzx",
        "colab_type": "text"
      },
      "source": [
        "Then we used the `add_datepart` function to derive a list of features from our date."
      ]
    },
    {
      "cell_type": "markdown",
      "metadata": {
        "id": "7KDvRUq4CGzy",
        "colab_type": "text"
      },
      "source": [
        "```python\n",
        "poss_dates_and_counts = poss_dates_and_counts.assign(date = poss_dates_and_counts.index)\n",
        "\n",
        "add_datepart(poss_dates_and_counts, 'date')\n",
        "```"
      ]
    },
    {
      "cell_type": "markdown",
      "metadata": {
        "id": "q0aqCHQRCGzy",
        "colab_type": "text"
      },
      "source": [
        "This returned to us a dataframe with a number of new features.  But we wanted to translate our `dayofweek` column into dummy variables to use with linear regression.\n",
        "```python\n",
        "days_of_week_df = pd.get_dummies(poss_dates_and_counts.Dayofweek, drop_first=True)\n",
        "days_of_week_df.columns = ['Sun', 'Mon', 'Tues', 'Weds', 'Thurs', 'Fri']\n",
        "\n",
        "agg_cats_df = pd.concat([poss_dates_and_counts, days_of_week_df], axis=1)\n",
        "```"
      ]
    },
    {
      "cell_type": "markdown",
      "metadata": {
        "id": "Ycw51rvbCGzy",
        "colab_type": "text"
      },
      "source": [
        "With our features in place, we were then ready to train and fit our model."
      ]
    },
    {
      "cell_type": "markdown",
      "metadata": {
        "id": "5WavlX4tCGzz",
        "colab_type": "text"
      },
      "source": [
        "### Resources"
      ]
    },
    {
      "cell_type": "markdown",
      "metadata": {
        "id": "1-lGtqUTCGzz",
        "colab_type": "text"
      },
      "source": [
        "[StackOverflow DateTime](https://datascience.stackexchange.com/questions/2368/machine-learning-features-engineering-from-date-time-data)"
      ]
    }
  ]
}