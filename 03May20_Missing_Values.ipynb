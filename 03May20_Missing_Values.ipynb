{
  "nbformat": 4,
  "nbformat_minor": 0,
  "metadata": {
    "kernelspec": {
      "display_name": "Python 3",
      "language": "python",
      "name": "python3"
    },
    "language_info": {
      "codemirror_mode": {
        "name": "ipython",
        "version": 3
      },
      "file_extension": ".py",
      "mimetype": "text/x-python",
      "name": "python",
      "nbconvert_exporter": "python",
      "pygments_lexer": "ipython3",
      "version": "3.7.4"
    },
    "colab": {
      "name": "Copy of 93-missing-values.ipynb",
      "provenance": [],
      "include_colab_link": true
    }
  },
  "cells": [
    {
      "cell_type": "markdown",
      "metadata": {
        "id": "view-in-github",
        "colab_type": "text"
      },
      "source": [
        "<a href=\"https://colab.research.google.com/github/ludawg44/jigsawlabs/blob/master/03May20_Missing_Values.ipynb\" target=\"_parent\"><img src=\"https://colab.research.google.com/assets/colab-badge.svg\" alt=\"Open In Colab\"/></a>"
      ]
    },
    {
      "cell_type": "markdown",
      "metadata": {
        "id": "Xzyh3f0A944Y",
        "colab_type": "text"
      },
      "source": [
        "# Finding Missing Values"
      ]
    },
    {
      "cell_type": "markdown",
      "metadata": {
        "id": "DrR8VDS9944Z",
        "colab_type": "text"
      },
      "source": [
        "### Introduction"
      ]
    },
    {
      "cell_type": "markdown",
      "metadata": {
        "id": "RC2NhwLU944Z",
        "colab_type": "text"
      },
      "source": [
        "It's now to moving onto coercing our data.  Let's start with handling our missing values. While we have seen our two step technique of replacing our isna column with the mean, and adding an `isna` column, one of the trickier things is finding missing values that are not listed as na.  In this lesson, we'll work through handling missing values on a large dataset."
      ]
    },
    {
      "cell_type": "code",
      "metadata": {
        "id": "2qcQF09C944a",
        "colab_type": "code",
        "colab": {}
      },
      "source": [
        "import pandas as pd\n",
        "pd.set_option('display.max_rows',100)"
      ],
      "execution_count": 0,
      "outputs": []
    },
    {
      "cell_type": "markdown",
      "metadata": {
        "id": "lWuLgDB1944d",
        "colab_type": "text"
      },
      "source": [
        "Let's load our training data."
      ]
    },
    {
      "cell_type": "code",
      "metadata": {
        "id": "VxoQqXdy944e",
        "colab_type": "code",
        "outputId": "8d42fe6a-12c8-45f8-ca74-390472ebb640",
        "colab": {}
      },
      "source": [
        "df_listings = pd.read_csv('X_train.csv')"
      ],
      "execution_count": 0,
      "outputs": [
        {
          "output_type": "stream",
          "text": [
            "/Users/jeff/opt/anaconda3/lib/python3.7/site-packages/IPython/core/interactiveshell.py:3063: DtypeWarning: Columns (0,1,16,17,20,28,33,34,49,60,64,66,67) have mixed types. Specify dtype option on import or set low_memory=False.\n",
            "  interactivity=interactivity, compiler=compiler, result=result)\n"
          ],
          "name": "stderr"
        }
      ]
    },
    {
      "cell_type": "code",
      "metadata": {
        "id": "NPbbrM7i944h",
        "colab_type": "code",
        "outputId": "3d112696-fe60-49ad-cd01-61adaafea523",
        "colab": {}
      },
      "source": [
        "df_listings.shape"
      ],
      "execution_count": 0,
      "outputs": [
        {
          "output_type": "execute_result",
          "data": {
            "text/plain": [
              "(18037, 95)"
            ]
          },
          "metadata": {
            "tags": []
          },
          "execution_count": 6
        }
      ]
    },
    {
      "cell_type": "markdown",
      "metadata": {
        "id": "jbnj35aL944j",
        "colab_type": "text"
      },
      "source": [
        "### Look for additional na values"
      ]
    },
    {
      "cell_type": "markdown",
      "metadata": {
        "id": "AwYB_MfM944k",
        "colab_type": "text"
      },
      "source": [
        "Oftentimes, we can have missing values that are stored as other values.  For example, we may have values that are stored as -999 or positive 999.  Our values may be stored as empty strings.  \n",
        "\n",
        "Pandas provides us with a `df.replace` function that allows us to perform find and replace across a dataframe.  "
      ]
    },
    {
      "cell_type": "code",
      "metadata": {
        "id": "7YCMO5uM944k",
        "colab_type": "code",
        "colab": {}
      },
      "source": [
        "def columns_with_value(df, value):\n",
        "    listings_with_val = (df == value).any(axis = 0)\n",
        "    return df[listings_with_val[listings_with_val == True].index]"
      ],
      "execution_count": 0,
      "outputs": []
    },
    {
      "cell_type": "code",
      "metadata": {
        "id": "etUS98wL944n",
        "colab_type": "code",
        "outputId": "794f1e8c-d4d7-47d2-ba16-ccb837cd718c",
        "colab": {}
      },
      "source": [
        "(columns_with_value(df_listings, 0) == 0).sum()"
      ],
      "execution_count": 0,
      "outputs": [
        {
          "output_type": "execute_result",
          "data": {
            "text/plain": [
              "host_listings_count             15\n",
              "host_total_listings_count       15\n",
              "bathrooms                       31\n",
              "bedrooms                      1194\n",
              "beds                            26\n",
              "square_feet                    105\n",
              "availability_30              11590\n",
              "availability_60              10025\n",
              "availability_90               9339\n",
              "availability_365              8579\n",
              "number_of_reviews             3114\n",
              "dtype: int64"
            ]
          },
          "metadata": {
            "tags": []
          },
          "execution_count": 209
        }
      ]
    },
    {
      "cell_type": "markdown",
      "metadata": {
        "id": "mAnILEbj944p",
        "colab_type": "text"
      },
      "source": [
        "Some of these values may be real zero values.  But others perhaps are not.  \n",
        "* Host listings seems odd.  \n",
        "* No bathrooms, no bedrooms or beds seems suspicious, but there could be a reason for.  \n",
        "* The square feet is wrong.\n",
        "* And the availability scores seem like too many to be accurate.  \n",
        "\n",
        "So let's plot the columns we have questions with."
      ]
    },
    {
      "cell_type": "code",
      "metadata": {
        "id": "8yWZwrLE944q",
        "colab_type": "code",
        "outputId": "c037d536-f906-421c-fec7-814a33b921ff",
        "colab": {}
      },
      "source": [
        "suspicious_cols = ['host_listings_count', 'bathrooms', 'bedrooms', 'beds']\n",
        "df_listings[suspicious_cols].hist(bins = 15)"
      ],
      "execution_count": 0,
      "outputs": [
        {
          "output_type": "execute_result",
          "data": {
            "text/plain": [
              "array([[<matplotlib.axes._subplots.AxesSubplot object at 0x133a72e90>,\n",
              "        <matplotlib.axes._subplots.AxesSubplot object at 0x133ad9ed0>],\n",
              "       [<matplotlib.axes._subplots.AxesSubplot object at 0x133bf5810>,\n",
              "        <matplotlib.axes._subplots.AxesSubplot object at 0x133fb5b10>]],\n",
              "      dtype=object)"
            ]
          },
          "metadata": {
            "tags": []
          },
          "execution_count": 214
        },
        {
          "output_type": "display_data",
          "data": {
            "image/png": "[encoded data removed]",
            "text/plain": [
              "<Figure size 432x288 with 4 Axes>"
            ]
          },
          "metadata": {
            "tags": [],
            "needs_background": "light"
          }
        }
      ]
    },
    {
      "cell_type": "markdown",
      "metadata": {
        "id": "X2gj0_1F944t",
        "colab_type": "text"
      },
      "source": [
        "Well these numbers don't exactly come off as outliers, so let's keep them.  This leaves the `square_feet` and availability columns as the columns with missing values."
      ]
    },
    {
      "cell_type": "markdown",
      "metadata": {
        "id": "Xn3Y6x6u944u",
        "colab_type": "text"
      },
      "source": [
        "Let's initialize our mapper, and replace the zero values as missing in those columns."
      ]
    },
    {
      "cell_type": "code",
      "metadata": {
        "id": "w8qbPst0944u",
        "colab_type": "code",
        "colab": {}
      },
      "source": [
        "from sklearn_pandas import DataFrameMapper\n",
        "from sklearn.impute import SimpleImputer\n",
        "import numpy as np\n",
        "\n",
        "replace_zero_cols = ['availability_30', 'availability_60', 'availability_90']\n",
        "\n",
        "mapper = DataFrameMapper([\n",
        "    (['availability_30'], SimpleImputer(missing_values = 0, \n",
        "                                      strategy = 'constant',\n",
        "                                      fill_value = np.nan)),\n",
        "    (['availability_60'], SimpleImputer(missing_values = 0, \n",
        "                                      strategy = 'constant',\n",
        "                                      fill_value = np.nan)),\n",
        "    (['availability_90'], SimpleImputer(missing_values = 0, \n",
        "                                      strategy = 'constant',\n",
        "                                      fill_value = np.nan)),\n",
        "    (['maximum_nights'], SimpleImputer(missing_values = 999, \n",
        "                                      strategy = 'constant',\n",
        "                                      fill_value = np.nan))\n",
        "], df_out = True)"
      ],
      "execution_count": 0,
      "outputs": []
    },
    {
      "cell_type": "code",
      "metadata": {
        "id": "qStB-_EU944w",
        "colab_type": "code",
        "outputId": "4201ce94-267d-40a5-ef05-4e69a008d9c9",
        "colab": {}
      },
      "source": [
        "X_replace_zeros = mapper.fit_transform(df_listings)\n",
        "X_replace_zeros[:2]"
      ],
      "execution_count": 0,
      "outputs": [
        {
          "output_type": "execute_result",
          "data": {
            "text/html": [
              "<div>\n",
              "<style scoped>\n",
              "    .dataframe tbody tr th:only-of-type {\n",
              "        vertical-align: middle;\n",
              "    }\n",
              "\n",
              "    .dataframe tbody tr th {\n",
              "        vertical-align: top;\n",
              "    }\n",
              "\n",
              "    .dataframe thead th {\n",
              "        text-align: right;\n",
              "    }\n",
              "</style>\n",
              "<table border=\"1\" class=\"dataframe\">\n",
              "  <thead>\n",
              "    <tr style=\"text-align: right;\">\n",
              "      <th></th>\n",
              "      <th>availability_30</th>\n",
              "      <th>availability_60</th>\n",
              "      <th>availability_90</th>\n",
              "      <th>maximum_nights</th>\n",
              "    </tr>\n",
              "  </thead>\n",
              "  <tbody>\n",
              "    <tr>\n",
              "      <th>0</th>\n",
              "      <td>4</td>\n",
              "      <td>16</td>\n",
              "      <td>30</td>\n",
              "      <td>365</td>\n",
              "    </tr>\n",
              "    <tr>\n",
              "      <th>1</th>\n",
              "      <td>30</td>\n",
              "      <td>60</td>\n",
              "      <td>90</td>\n",
              "      <td>1125</td>\n",
              "    </tr>\n",
              "  </tbody>\n",
              "</table>\n",
              "</div>"
            ],
            "text/plain": [
              "   availability_30  availability_60  availability_90  maximum_nights\n",
              "0                4               16               30             365\n",
              "1               30               60               90            1125"
            ]
          },
          "metadata": {
            "tags": []
          },
          "execution_count": 260
        }
      ]
    },
    {
      "cell_type": "markdown",
      "metadata": {
        "id": "OjoXAloY944y",
        "colab_type": "text"
      },
      "source": [
        "Let's see if there are any of our other candidates:"
      ]
    },
    {
      "cell_type": "code",
      "metadata": {
        "id": "noU5k8Wb944y",
        "colab_type": "code",
        "colab": {}
      },
      "source": [
        "potential_missing_vals = [-999, 999, ' '] \n",
        "missing_dfs = [columns_with_value(df, value) for value in potential_missing_vals]\n",
        "    "
      ],
      "execution_count": 0,
      "outputs": []
    },
    {
      "cell_type": "code",
      "metadata": {
        "id": "9w_VETMu9441",
        "colab_type": "code",
        "outputId": "d211048d-6437-4db3-9ef4-dce52f8fa345",
        "colab": {}
      },
      "source": [
        "[df.columns for df in missing_dfs]"
      ],
      "execution_count": 0,
      "outputs": [
        {
          "output_type": "execute_result",
          "data": {
            "text/plain": [
              "[Index([], dtype='object'),\n",
              " Index(['maximum_nights'], dtype='object'),\n",
              " Index(['host_about'], dtype='object')]"
            ]
          },
          "metadata": {
            "tags": []
          },
          "execution_count": 254
        }
      ]
    },
    {
      "cell_type": "code",
      "metadata": {
        "id": "7Wc6TqCa9443",
        "colab_type": "code",
        "outputId": "71a8b5c4-7b78-48e6-99b5-4cf894363003",
        "colab": {}
      },
      "source": [
        "(df_listings['maximum_nights'] == 999).sum()"
      ],
      "execution_count": 0,
      "outputs": [
        {
          "output_type": "execute_result",
          "data": {
            "text/plain": [
              "7"
            ]
          },
          "metadata": {
            "tags": []
          },
          "execution_count": 256
        }
      ]
    },
    {
      "cell_type": "markdown",
      "metadata": {
        "id": "Gn7aF-2u9445",
        "colab_type": "text"
      },
      "source": [
        "### Find outliers "
      ]
    },
    {
      "cell_type": "markdown",
      "metadata": {
        "id": "o6x0ttpm9445",
        "colab_type": "text"
      },
      "source": [
        "Sometimes our missing value numbers are not stored as numbers that we can predict.  Instead, we may discover them as outliers in our dataset.\n",
        "\n",
        "Now, with a smaller dataset, we can use pandas to plot histograms of all of our numeric features.  But when we get to more than a dozen or so numeric features, there are some more efficient ways to explore outliers."
      ]
    },
    {
      "cell_type": "code",
      "metadata": {
        "id": "q9DSTPxK9446",
        "colab_type": "code",
        "outputId": "f6d74314-be9f-4671-b8fb-6b40fee73475",
        "colab": {}
      },
      "source": [
        "from scipy import stats\n",
        "\n",
        "column = df['availability_30']\n",
        "stats.zscore(column)"
      ],
      "execution_count": 0,
      "outputs": [
        {
          "output_type": "execute_result",
          "data": {
            "text/plain": [
              "array([-0.56978888, -0.56978888, -0.56978888, ..., -0.22405533,\n",
              "       -0.56978888,  1.73510146])"
            ]
          },
          "metadata": {
            "tags": []
          },
          "execution_count": 262
        }
      ]
    },
    {
      "cell_type": "code",
      "metadata": {
        "id": "HxEWkh0E944-",
        "colab_type": "code",
        "colab": {}
      },
      "source": [
        "from scipy import stats\n",
        "\n",
        "def percentiles(column):\n",
        "    z_scores = stats.zscore(column)\n",
        "    # segment based on number of standard deviations away from the mean     \n",
        "    hist, bin_edges = np.histogram(z_scores, bins=np.arange(-3, 4, 1), density=True)\n",
        "    return np.stack((hist, bin_edges[1:]))"
      ],
      "execution_count": 0,
      "outputs": []
    },
    {
      "cell_type": "code",
      "metadata": {
        "id": "wSOScPD2945B",
        "colab_type": "code",
        "colab": {}
      },
      "source": [
        "z_scores = stats.zscore(df['availability_30'])"
      ],
      "execution_count": 0,
      "outputs": []
    },
    {
      "cell_type": "code",
      "metadata": {
        "id": "7wx0ZfPY945D",
        "colab_type": "code",
        "colab": {}
      },
      "source": [
        "import scipy.stats as stats\n",
        "def percent_outliers(column, sd = 2):\n",
        "    z_scores = stats.zscore(column)\n",
        "    percent_outliers = z_scores[np.absolute(z_scores) > sd].shape[0]/z_scores.shape[0]\n",
        "    return percent_outliers "
      ],
      "execution_count": 0,
      "outputs": []
    },
    {
      "cell_type": "code",
      "metadata": {
        "id": "sPASx_HK945G",
        "colab_type": "code",
        "outputId": "d19f9b17-d66e-46fb-a103-0e25ceaf01ce",
        "colab": {}
      },
      "source": [
        "percent_outliers(df['availability_30'])"
      ],
      "execution_count": 0,
      "outputs": [
        {
          "output_type": "execute_result",
          "data": {
            "text/plain": [
              "0.08695459382759844"
            ]
          },
          "metadata": {
            "tags": []
          },
          "execution_count": 289
        }
      ]
    },
    {
      "cell_type": "code",
      "metadata": {
        "id": "Y8msy0y2945I",
        "colab_type": "code",
        "colab": {}
      },
      "source": [
        "def too_many_outliers(df, sd = 2, threshold = .05):\n",
        "    return [(col, percent_outliers(df[col])) for col in df.select_dtypes(include=['float64', 'int64']).columns if percent_outliers(df[col]) > threshold]"
      ],
      "execution_count": 0,
      "outputs": []
    },
    {
      "cell_type": "code",
      "metadata": {
        "id": "EGUHM2NW945T",
        "colab_type": "code",
        "outputId": "5fa17f4b-b6f7-4c04-ac60-be365b84a9a7",
        "colab": {}
      },
      "source": [
        "too_many_outliers(df)"
      ],
      "execution_count": 0,
      "outputs": [
        {
          "output_type": "stream",
          "text": [
            "/Users/jeff/opt/anaconda3/lib/python3.7/site-packages/ipykernel_launcher.py:4: RuntimeWarning: invalid value encountered in greater\n",
            "  after removing the cwd from sys.path.\n"
          ],
          "name": "stderr"
        },
        {
          "output_type": "execute_result",
          "data": {
            "text/plain": [
              "[('host_id', 0.06784320681092586),\n",
              " ('accommodates', 0.052589570769776516),\n",
              " ('availability_30', 0.08695459382759844),\n",
              " ('availability_60', 0.08043632493792124),\n",
              " ('availability_90', 0.07338595246541327),\n",
              " ('availability_365', 0.08526959914863427)]"
            ]
          },
          "metadata": {
            "tags": []
          },
          "execution_count": 295
        }
      ]
    },
    {
      "cell_type": "markdown",
      "metadata": {
        "id": "JjZ3kJ-d945V",
        "colab_type": "text"
      },
      "source": [
        "This seems to have worked well.  It identified columns whose values we were already suspicious of with the availability column.  Let's take a look at the accommodates column, even though it's a borderline case."
      ]
    },
    {
      "cell_type": "code",
      "metadata": {
        "id": "ZWh1NAqe945V",
        "colab_type": "code",
        "outputId": "1a547ab2-635b-47d0-a207-ed2d77ad355c",
        "colab": {}
      },
      "source": [
        "df['accommodates'].hist()"
      ],
      "execution_count": 0,
      "outputs": [
        {
          "output_type": "execute_result",
          "data": {
            "text/plain": [
              "<matplotlib.axes._subplots.AxesSubplot at 0x1449be150>"
            ]
          },
          "metadata": {
            "tags": []
          },
          "execution_count": 298
        },
        {
          "output_type": "display_data",
          "data": {
            "image/png": "[encoded data removed]",
            "text/plain": [
              "<Figure size 432x288 with 1 Axes>"
            ]
          },
          "metadata": {
            "tags": [],
            "needs_background": "light"
          }
        }
      ]
    },
    {
      "cell_type": "code",
      "metadata": {
        "id": "v0P7pRQy945X",
        "colab_type": "code",
        "outputId": "88025676-12e8-4fdc-9fde-43079187172a",
        "colab": {}
      },
      "source": [
        "df['accommodates'].describe()"
      ],
      "execution_count": 0,
      "outputs": [
        {
          "output_type": "execute_result",
          "data": {
            "text/plain": [
              "count    22552.000000\n",
              "mean         2.637460\n",
              "std          1.510548\n",
              "min          1.000000\n",
              "25%          2.000000\n",
              "50%          2.000000\n",
              "75%          3.000000\n",
              "max         16.000000\n",
              "Name: accommodates, dtype: float64"
            ]
          },
          "metadata": {
            "tags": []
          },
          "execution_count": 299
        }
      ]
    },
    {
      "cell_type": "markdown",
      "metadata": {
        "id": "h1bVIKuC945Z",
        "colab_type": "text"
      },
      "source": [
        "The values here make sense so we'll leave it alone."
      ]
    },
    {
      "cell_type": "markdown",
      "metadata": {
        "id": "rHbwETzz945Z",
        "colab_type": "text"
      },
      "source": [
        "### Resources"
      ]
    },
    {
      "cell_type": "markdown",
      "metadata": {
        "id": "wb0tV9wB945Z",
        "colab_type": "text"
      },
      "source": [
        "[detecting missing values](https://towardsdatascience.com/ways-to-detect-and-remove-the-outliers-404d16608dba)"
      ]
    },
    {
      "cell_type": "markdown",
      "metadata": {
        "id": "e-dluouj945a",
        "colab_type": "text"
      },
      "source": [
        "[detecting outliers](https://machinelearningmastery.com/how-to-use-statistics-to-identify-outliers-in-data/)"
      ]
    }
  ]
}