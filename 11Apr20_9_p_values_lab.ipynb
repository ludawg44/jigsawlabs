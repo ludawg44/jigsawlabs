{
  "nbformat": 4,
  "nbformat_minor": 0,
  "metadata": {
    "kernelspec": {
      "display_name": "Python 3",
      "language": "python",
      "name": "python3"
    },
    "language_info": {
      "codemirror_mode": {
        "name": "ipython",
        "version": 3
      },
      "file_extension": ".py",
      "mimetype": "text/x-python",
      "name": "python",
      "nbconvert_exporter": "python",
      "pygments_lexer": "ipython3",
      "version": "3.7.4"
    },
    "colab": {
      "name": "Copy of 9-p-values-lab.ipynb",
      "provenance": [],
      "include_colab_link": true
    }
  },
  "cells": [
    {
      "cell_type": "markdown",
      "metadata": {
        "id": "view-in-github",
        "colab_type": "text"
      },
      "source": [
        "<a href=\"https://colab.research.google.com/github/ludawg44/jigsawlabs/blob/master/11Apr20_9_p_values_lab.ipynb\" target=\"_parent\"><img src=\"https://colab.research.google.com/assets/colab-badge.svg\" alt=\"Open In Colab\"/></a>"
      ]
    },
    {
      "cell_type": "markdown",
      "metadata": {
        "id": "b28nOXhGEJHv",
        "colab_type": "text"
      },
      "source": [
        "# Calculating P-values"
      ]
    },
    {
      "cell_type": "markdown",
      "metadata": {
        "id": "DluQJeUWEJHx",
        "colab_type": "text"
      },
      "source": [
        "### Introduction"
      ]
    },
    {
      "cell_type": "markdown",
      "metadata": {
        "id": "bi83GkzjEJHx",
        "colab_type": "text"
      },
      "source": [
        "In the previous lesson, we saw how to calculate set up a hypothesis test, and from there calculate the p value of an apparent effect.  In this lesson, we'll try to use this technique to see if see if there is evidence of different kinds of health effects from individuals getting insurance."
      ]
    },
    {
      "cell_type": "markdown",
      "metadata": {
        "id": "aLIKjxN3EJHy",
        "colab_type": "text"
      },
      "source": [
        "### Loading our Data"
      ]
    },
    {
      "cell_type": "markdown",
      "metadata": {
        "id": "bKLNKZ7lEJHz",
        "colab_type": "text"
      },
      "source": [
        "Let's start by loading our data."
      ]
    },
    {
      "cell_type": "code",
      "metadata": {
        "id": "TsJ-xdWrEJH0",
        "colab_type": "code",
        "colab": {}
      },
      "source": [
        "import pandas as pd\n",
        "\n",
        "url = \"https://raw.githubusercontent.com/jigsawlabs-student/correlations-to-experiments/master/oregon_health_insurance.csv\"\n",
        "df = pd.read_csv(url, index_col = 0)"
      ],
      "execution_count": 0,
      "outputs": []
    },
    {
      "cell_type": "code",
      "metadata": {
        "id": "DmUvj2X0EJH5",
        "colab_type": "code",
        "outputId": "7b2f21be-b3bc-4ed1-b4a5-ab491657b993",
        "colab": {
          "base_uri": "https://localhost:8080/",
          "height": 138
        }
      },
      "source": [
        "df[:3]"
      ],
      "execution_count": 0,
      "outputs": [
        {
          "output_type": "execute_result",
          "data": {
            "text/html": [
              "<div>\n",
              "<style scoped>\n",
              "    .dataframe tbody tr th:only-of-type {\n",
              "        vertical-align: middle;\n",
              "    }\n",
              "\n",
              "    .dataframe tbody tr th {\n",
              "        vertical-align: top;\n",
              "    }\n",
              "\n",
              "    .dataframe thead th {\n",
              "        text-align: right;\n",
              "    }\n",
              "</style>\n",
              "<table border=\"1\" class=\"dataframe\">\n",
              "  <thead>\n",
              "    <tr style=\"text-align: right;\">\n",
              "      <th></th>\n",
              "      <th>treatment</th>\n",
              "      <th>depression_pre</th>\n",
              "      <th>depression_post</th>\n",
              "      <th>bp_dias</th>\n",
              "      <th>bp_syst</th>\n",
              "      <th>er_visits</th>\n",
              "      <th>borrow_for_med</th>\n",
              "    </tr>\n",
              "  </thead>\n",
              "  <tbody>\n",
              "    <tr>\n",
              "      <th>0</th>\n",
              "      <td>Selected</td>\n",
              "      <td>No</td>\n",
              "      <td>No</td>\n",
              "      <td>81.0</td>\n",
              "      <td>144.0</td>\n",
              "      <td>0.0</td>\n",
              "      <td>No</td>\n",
              "    </tr>\n",
              "    <tr>\n",
              "      <th>1</th>\n",
              "      <td>Not selected</td>\n",
              "      <td>No</td>\n",
              "      <td>No</td>\n",
              "      <td>82.0</td>\n",
              "      <td>134.0</td>\n",
              "      <td>2.0</td>\n",
              "      <td>Yes</td>\n",
              "    </tr>\n",
              "    <tr>\n",
              "      <th>2</th>\n",
              "      <td>Not selected</td>\n",
              "      <td>NaN</td>\n",
              "      <td>NaN</td>\n",
              "      <td>NaN</td>\n",
              "      <td>NaN</td>\n",
              "      <td>NaN</td>\n",
              "      <td>NaN</td>\n",
              "    </tr>\n",
              "  </tbody>\n",
              "</table>\n",
              "</div>"
            ],
            "text/plain": [
              "      treatment depression_pre  ... er_visits  borrow_for_med\n",
              "0      Selected             No  ...       0.0              No\n",
              "1  Not selected             No  ...       2.0             Yes\n",
              "2  Not selected            NaN  ...       NaN             NaN\n",
              "\n",
              "[3 rows x 7 columns]"
            ]
          },
          "metadata": {
            "tags": []
          },
          "execution_count": 45
        }
      ]
    },
    {
      "cell_type": "code",
      "metadata": {
        "id": "wV9EKKM7EJH-",
        "colab_type": "code",
        "outputId": "f0446650-1593-444b-c4ce-6334cd5270d4",
        "colab": {
          "base_uri": "https://localhost:8080/",
          "height": 35
        }
      },
      "source": [
        "df.shape"
      ],
      "execution_count": 0,
      "outputs": [
        {
          "output_type": "execute_result",
          "data": {
            "text/plain": [
              "(20745, 7)"
            ]
          },
          "metadata": {
            "tags": []
          },
          "execution_count": 46
        }
      ]
    },
    {
      "cell_type": "markdown",
      "metadata": {
        "id": "EMYWJa_bEJIB",
        "colab_type": "text"
      },
      "source": [
        "### Cleaning the Data"
      ]
    },
    {
      "cell_type": "markdown",
      "metadata": {
        "id": "SKv8RoWKEJIB",
        "colab_type": "text"
      },
      "source": [
        "Ok, now let's only select the rows where none of the columns are na."
      ]
    },
    {
      "cell_type": "code",
      "metadata": {
        "id": "m_Ox8X99EJIC",
        "colab_type": "code",
        "colab": {}
      },
      "source": [
        "import numpy as np\n",
        "df_not_na = df.dropna()"
      ],
      "execution_count": 0,
      "outputs": []
    },
    {
      "cell_type": "code",
      "metadata": {
        "id": "MYxYdJ48EJIE",
        "colab_type": "code",
        "outputId": "bff40904-4e6e-4da2-d9f5-34bfc87b2321",
        "colab": {
          "base_uri": "https://localhost:8080/",
          "height": 35
        }
      },
      "source": [
        "df_not_na.shape\n",
        "# (12021, 7)"
      ],
      "execution_count": 0,
      "outputs": [
        {
          "output_type": "execute_result",
          "data": {
            "text/plain": [
              "(12021, 7)"
            ]
          },
          "metadata": {
            "tags": []
          },
          "execution_count": 48
        }
      ]
    },
    {
      "cell_type": "markdown",
      "metadata": {
        "id": "4mm4YGMyEJIH",
        "colab_type": "text"
      },
      "source": [
        "Let's see the percentage of the rows that we lost."
      ]
    },
    {
      "cell_type": "code",
      "metadata": {
        "id": "bFgr90oZEJII",
        "colab_type": "code",
        "outputId": "d9c75409-a0bf-44a5-cf79-4c95521db622",
        "colab": {
          "base_uri": "https://localhost:8080/",
          "height": 35
        }
      },
      "source": [
        "df_not_na.shape[0]/df.shape[0]\n",
        "# 0.5794649313087491"
      ],
      "execution_count": 0,
      "outputs": [
        {
          "output_type": "execute_result",
          "data": {
            "text/plain": [
              "0.5794649313087491"
            ]
          },
          "metadata": {
            "tags": []
          },
          "execution_count": 49
        }
      ]
    },
    {
      "cell_type": "markdown",
      "metadata": {
        "id": "eyd4PvsMEJIL",
        "colab_type": "text"
      },
      "source": [
        "Now, let's take a look at some of our data."
      ]
    },
    {
      "cell_type": "code",
      "metadata": {
        "id": "ZNUGFAfkEJIL",
        "colab_type": "code",
        "outputId": "ffcb6c25-640b-4292-e422-7540d8bdac87",
        "colab": {
          "base_uri": "https://localhost:8080/",
          "height": 138
        }
      },
      "source": [
        "df_not_na[:3]"
      ],
      "execution_count": 0,
      "outputs": [
        {
          "output_type": "execute_result",
          "data": {
            "text/html": [
              "<div>\n",
              "<style scoped>\n",
              "    .dataframe tbody tr th:only-of-type {\n",
              "        vertical-align: middle;\n",
              "    }\n",
              "\n",
              "    .dataframe tbody tr th {\n",
              "        vertical-align: top;\n",
              "    }\n",
              "\n",
              "    .dataframe thead th {\n",
              "        text-align: right;\n",
              "    }\n",
              "</style>\n",
              "<table border=\"1\" class=\"dataframe\">\n",
              "  <thead>\n",
              "    <tr style=\"text-align: right;\">\n",
              "      <th></th>\n",
              "      <th>treatment</th>\n",
              "      <th>depression_pre</th>\n",
              "      <th>depression_post</th>\n",
              "      <th>bp_dias</th>\n",
              "      <th>bp_syst</th>\n",
              "      <th>er_visits</th>\n",
              "      <th>borrow_for_med</th>\n",
              "    </tr>\n",
              "  </thead>\n",
              "  <tbody>\n",
              "    <tr>\n",
              "      <th>0</th>\n",
              "      <td>Selected</td>\n",
              "      <td>No</td>\n",
              "      <td>No</td>\n",
              "      <td>81.0</td>\n",
              "      <td>144.0</td>\n",
              "      <td>0.0</td>\n",
              "      <td>No</td>\n",
              "    </tr>\n",
              "    <tr>\n",
              "      <th>1</th>\n",
              "      <td>Not selected</td>\n",
              "      <td>No</td>\n",
              "      <td>No</td>\n",
              "      <td>82.0</td>\n",
              "      <td>134.0</td>\n",
              "      <td>2.0</td>\n",
              "      <td>Yes</td>\n",
              "    </tr>\n",
              "    <tr>\n",
              "      <th>4</th>\n",
              "      <td>Not selected</td>\n",
              "      <td>Yes</td>\n",
              "      <td>No</td>\n",
              "      <td>110.0</td>\n",
              "      <td>168.0</td>\n",
              "      <td>1.0</td>\n",
              "      <td>No</td>\n",
              "    </tr>\n",
              "  </tbody>\n",
              "</table>\n",
              "</div>"
            ],
            "text/plain": [
              "      treatment depression_pre  ... er_visits  borrow_for_med\n",
              "0      Selected             No  ...       0.0              No\n",
              "1  Not selected             No  ...       2.0             Yes\n",
              "4  Not selected            Yes  ...       1.0              No\n",
              "\n",
              "[3 rows x 7 columns]"
            ]
          },
          "metadata": {
            "tags": []
          },
          "execution_count": 50
        }
      ]
    },
    {
      "cell_type": "markdown",
      "metadata": {
        "id": "X2YuXS3HEJIN",
        "colab_type": "text"
      },
      "source": [
        "Now we want to coerce our columns our values into numbers.  So let's change the values for `depression_pre` from Yes and No to 1 and 0, respectively.  Do the same for `depression_post`.  And finally for treatment, change the values from Selected and Not selected to 1 and 0.  "
      ]
    },
    {
      "cell_type": "code",
      "metadata": {
        "id": "wyCXeTgjEJIO",
        "colab_type": "code",
        "colab": {}
      },
      "source": [
        "depression_pre = df_not_na.depression_pre.map({'Yes':1, 'No':0})"
      ],
      "execution_count": 0,
      "outputs": []
    },
    {
      "cell_type": "code",
      "metadata": {
        "id": "47cCEJckEJIQ",
        "colab_type": "code",
        "outputId": "20310a80-360a-4bc0-a700-ae56eaae5618",
        "colab": {
          "base_uri": "https://localhost:8080/",
          "height": 104
        }
      },
      "source": [
        "depression_pre[:4]\n",
        "# 0    0\n",
        "# 1    0\n",
        "# 4    1\n",
        "# 5    0"
      ],
      "execution_count": 0,
      "outputs": [
        {
          "output_type": "execute_result",
          "data": {
            "text/plain": [
              "0    0\n",
              "1    0\n",
              "4    1\n",
              "5    0\n",
              "Name: depression_pre, dtype: int64"
            ]
          },
          "metadata": {
            "tags": []
          },
          "execution_count": 52
        }
      ]
    },
    {
      "cell_type": "code",
      "metadata": {
        "id": "huYLYs0WEJIT",
        "colab_type": "code",
        "colab": {}
      },
      "source": [
        "depression_post = df_not_na.depression_post.map({'Yes':1,'No':0})"
      ],
      "execution_count": 0,
      "outputs": []
    },
    {
      "cell_type": "code",
      "metadata": {
        "id": "WIYH8-qyEJIV",
        "colab_type": "code",
        "outputId": "f4de5d84-7176-4838-8098-44b388985f2b",
        "colab": {
          "base_uri": "https://localhost:8080/",
          "height": 104
        }
      },
      "source": [
        "depression_post[:4]\n",
        "# 0    0\n",
        "# 1    0\n",
        "# 4    0\n",
        "# 5    0"
      ],
      "execution_count": 0,
      "outputs": [
        {
          "output_type": "execute_result",
          "data": {
            "text/plain": [
              "0    0\n",
              "1    0\n",
              "4    0\n",
              "5    0\n",
              "Name: depression_post, dtype: int64"
            ]
          },
          "metadata": {
            "tags": []
          },
          "execution_count": 54
        }
      ]
    },
    {
      "cell_type": "code",
      "metadata": {
        "id": "n9wT29tCEJIY",
        "colab_type": "code",
        "colab": {}
      },
      "source": [
        "treatment = df_not_na.treatment.map({'Selected':1, 'Not selected':0})"
      ],
      "execution_count": 0,
      "outputs": []
    },
    {
      "cell_type": "code",
      "metadata": {
        "id": "w8DJMedXEJIb",
        "colab_type": "code",
        "outputId": "475e3ce6-af59-4ca1-a376-01a960efb32e",
        "colab": {
          "base_uri": "https://localhost:8080/",
          "height": 104
        }
      },
      "source": [
        "treatment[:4]\n",
        "\n",
        "# 0    1\n",
        "# 1    0\n",
        "# 4    0\n",
        "# 5    0"
      ],
      "execution_count": 0,
      "outputs": [
        {
          "output_type": "execute_result",
          "data": {
            "text/plain": [
              "0    1\n",
              "1    0\n",
              "4    0\n",
              "5    0\n",
              "Name: treatment, dtype: int64"
            ]
          },
          "metadata": {
            "tags": []
          },
          "execution_count": 56
        }
      ]
    },
    {
      "cell_type": "markdown",
      "metadata": {
        "id": "x9y0NATqEJId",
        "colab_type": "text"
      },
      "source": [
        "Make the same change for `borrow_for_med`."
      ]
    },
    {
      "cell_type": "code",
      "metadata": {
        "id": "n2Xhj9e-NIaK",
        "colab_type": "code",
        "outputId": "165fcf5c-32dd-41fc-b4f9-b43fb03865a3",
        "colab": {
          "base_uri": "https://localhost:8080/",
          "height": 108
        }
      },
      "source": [
        "# LV\n",
        "df_not_na.head(2)"
      ],
      "execution_count": 0,
      "outputs": [
        {
          "output_type": "execute_result",
          "data": {
            "text/html": [
              "<div>\n",
              "<style scoped>\n",
              "    .dataframe tbody tr th:only-of-type {\n",
              "        vertical-align: middle;\n",
              "    }\n",
              "\n",
              "    .dataframe tbody tr th {\n",
              "        vertical-align: top;\n",
              "    }\n",
              "\n",
              "    .dataframe thead th {\n",
              "        text-align: right;\n",
              "    }\n",
              "</style>\n",
              "<table border=\"1\" class=\"dataframe\">\n",
              "  <thead>\n",
              "    <tr style=\"text-align: right;\">\n",
              "      <th></th>\n",
              "      <th>treatment</th>\n",
              "      <th>depression_pre</th>\n",
              "      <th>depression_post</th>\n",
              "      <th>bp_dias</th>\n",
              "      <th>bp_syst</th>\n",
              "      <th>er_visits</th>\n",
              "      <th>borrow_for_med</th>\n",
              "    </tr>\n",
              "  </thead>\n",
              "  <tbody>\n",
              "    <tr>\n",
              "      <th>0</th>\n",
              "      <td>Selected</td>\n",
              "      <td>No</td>\n",
              "      <td>No</td>\n",
              "      <td>81.0</td>\n",
              "      <td>144.0</td>\n",
              "      <td>0.0</td>\n",
              "      <td>No</td>\n",
              "    </tr>\n",
              "    <tr>\n",
              "      <th>1</th>\n",
              "      <td>Not selected</td>\n",
              "      <td>No</td>\n",
              "      <td>No</td>\n",
              "      <td>82.0</td>\n",
              "      <td>134.0</td>\n",
              "      <td>2.0</td>\n",
              "      <td>Yes</td>\n",
              "    </tr>\n",
              "  </tbody>\n",
              "</table>\n",
              "</div>"
            ],
            "text/plain": [
              "      treatment depression_pre  ... er_visits  borrow_for_med\n",
              "0      Selected             No  ...       0.0              No\n",
              "1  Not selected             No  ...       2.0             Yes\n",
              "\n",
              "[2 rows x 7 columns]"
            ]
          },
          "metadata": {
            "tags": []
          },
          "execution_count": 57
        }
      ]
    },
    {
      "cell_type": "code",
      "metadata": {
        "id": "rOOFYpIpEJIe",
        "colab_type": "code",
        "colab": {}
      },
      "source": [
        "borrow_for_med = df_not_na.borrow_for_med.map({'Yes':1,'No':0})"
      ],
      "execution_count": 0,
      "outputs": []
    },
    {
      "cell_type": "code",
      "metadata": {
        "id": "X1XIdSyjEJIg",
        "colab_type": "code",
        "outputId": "36fbde3f-6815-4724-dbb0-4f630f7a76d6",
        "colab": {
          "base_uri": "https://localhost:8080/",
          "height": 86
        }
      },
      "source": [
        "borrow_for_med[:3]\n",
        "# 0    0\n",
        "# 1    1\n",
        "# 4    0"
      ],
      "execution_count": 0,
      "outputs": [
        {
          "output_type": "execute_result",
          "data": {
            "text/plain": [
              "0    0\n",
              "1    1\n",
              "4    0\n",
              "Name: borrow_for_med, dtype: int64"
            ]
          },
          "metadata": {
            "tags": []
          },
          "execution_count": 59
        }
      ]
    },
    {
      "cell_type": "markdown",
      "metadata": {
        "id": "GXga3DHPEJIi",
        "colab_type": "text"
      },
      "source": [
        "Ok, now we can update the columns of our dataframe."
      ]
    },
    {
      "cell_type": "code",
      "metadata": {
        "id": "B3i4AXFJEJIj",
        "colab_type": "code",
        "colab": {}
      },
      "source": [
        "df_not_na = df_not_na.assign(treatment = treatment, \n",
        "                 depression_pre = depression_pre,\n",
        "                 depression_post = depression_post,\n",
        "                 borrow_for_med = borrow_for_med)"
      ],
      "execution_count": 0,
      "outputs": []
    },
    {
      "cell_type": "code",
      "metadata": {
        "id": "UGcKl1B0EJIl",
        "colab_type": "code",
        "outputId": "82f69270-9d70-4930-dbc1-b8b141db742e",
        "colab": {
          "base_uri": "https://localhost:8080/",
          "height": 138
        }
      },
      "source": [
        "df_not_na[:3]"
      ],
      "execution_count": 0,
      "outputs": [
        {
          "output_type": "execute_result",
          "data": {
            "text/html": [
              "<div>\n",
              "<style scoped>\n",
              "    .dataframe tbody tr th:only-of-type {\n",
              "        vertical-align: middle;\n",
              "    }\n",
              "\n",
              "    .dataframe tbody tr th {\n",
              "        vertical-align: top;\n",
              "    }\n",
              "\n",
              "    .dataframe thead th {\n",
              "        text-align: right;\n",
              "    }\n",
              "</style>\n",
              "<table border=\"1\" class=\"dataframe\">\n",
              "  <thead>\n",
              "    <tr style=\"text-align: right;\">\n",
              "      <th></th>\n",
              "      <th>treatment</th>\n",
              "      <th>depression_pre</th>\n",
              "      <th>depression_post</th>\n",
              "      <th>bp_dias</th>\n",
              "      <th>bp_syst</th>\n",
              "      <th>er_visits</th>\n",
              "      <th>borrow_for_med</th>\n",
              "    </tr>\n",
              "  </thead>\n",
              "  <tbody>\n",
              "    <tr>\n",
              "      <th>0</th>\n",
              "      <td>1</td>\n",
              "      <td>0</td>\n",
              "      <td>0</td>\n",
              "      <td>81.0</td>\n",
              "      <td>144.0</td>\n",
              "      <td>0.0</td>\n",
              "      <td>0</td>\n",
              "    </tr>\n",
              "    <tr>\n",
              "      <th>1</th>\n",
              "      <td>0</td>\n",
              "      <td>0</td>\n",
              "      <td>0</td>\n",
              "      <td>82.0</td>\n",
              "      <td>134.0</td>\n",
              "      <td>2.0</td>\n",
              "      <td>1</td>\n",
              "    </tr>\n",
              "    <tr>\n",
              "      <th>4</th>\n",
              "      <td>0</td>\n",
              "      <td>1</td>\n",
              "      <td>0</td>\n",
              "      <td>110.0</td>\n",
              "      <td>168.0</td>\n",
              "      <td>1.0</td>\n",
              "      <td>0</td>\n",
              "    </tr>\n",
              "  </tbody>\n",
              "</table>\n",
              "</div>"
            ],
            "text/plain": [
              "  treatment depression_pre depression_post  ...  bp_syst  er_visits  borrow_for_med\n",
              "0         1              0               0  ...    144.0        0.0               0\n",
              "1         0              0               0  ...    134.0        2.0               1\n",
              "4         0              1               0  ...    168.0        1.0               0\n",
              "\n",
              "[3 rows x 7 columns]"
            ]
          },
          "metadata": {
            "tags": []
          },
          "execution_count": 23
        }
      ]
    },
    {
      "cell_type": "code",
      "metadata": {
        "id": "kv4XxFSrOV5O",
        "colab_type": "code",
        "outputId": "86610557-6c7b-4761-d562-d93dc0be568e",
        "colab": {
          "base_uri": "https://localhost:8080/",
          "height": 155
        }
      },
      "source": [
        "# LV\n",
        "df_not_na.dtypes"
      ],
      "execution_count": 0,
      "outputs": [
        {
          "output_type": "execute_result",
          "data": {
            "text/plain": [
              "treatment            int64\n",
              "depression_pre       int64\n",
              "depression_post      int64\n",
              "bp_dias            float64\n",
              "bp_syst            float64\n",
              "er_visits          float64\n",
              "borrow_for_med       int64\n",
              "dtype: object"
            ]
          },
          "metadata": {
            "tags": []
          },
          "execution_count": 61
        }
      ]
    },
    {
      "cell_type": "markdown",
      "metadata": {
        "id": "7xFvJOcnEJIo",
        "colab_type": "text"
      },
      "source": [
        "Let's add another column called `depression_improved` which is the `depression_pre` - `depression_post`."
      ]
    },
    {
      "cell_type": "code",
      "metadata": {
        "id": "xH04pdD4EJIo",
        "colab_type": "code",
        "colab": {}
      },
      "source": [
        "df_not_na = df_not_na.assign(depression_improved = depression_pre - depression_post)"
      ],
      "execution_count": 0,
      "outputs": []
    },
    {
      "cell_type": "code",
      "metadata": {
        "id": "LdenJZSaEJIq",
        "colab_type": "code",
        "outputId": "1de08455-fa1b-423a-a971-16ae6a91d1c5",
        "colab": {
          "base_uri": "https://localhost:8080/",
          "height": 158
        }
      },
      "source": [
        "df_not_na[:3]\n",
        "# \ttreatment\tdepression_pre\tdepression_post\tbp_dias\tbp_syst\ter_visits\tborrow_for_med\tdepression_improved\n",
        "# 0\t1\t0\t0\t81.0\t144.0\t0.0\t0\t0\n",
        "# 1\t0\t0\t0\t82.0\t134.0\t2.0\t1\t0\n",
        "# 4\t0\t1\t0\t110.0\t168.0\t1.0\t0\t1"
      ],
      "execution_count": 0,
      "outputs": [
        {
          "output_type": "execute_result",
          "data": {
            "text/html": [
              "<div>\n",
              "<style scoped>\n",
              "    .dataframe tbody tr th:only-of-type {\n",
              "        vertical-align: middle;\n",
              "    }\n",
              "\n",
              "    .dataframe tbody tr th {\n",
              "        vertical-align: top;\n",
              "    }\n",
              "\n",
              "    .dataframe thead th {\n",
              "        text-align: right;\n",
              "    }\n",
              "</style>\n",
              "<table border=\"1\" class=\"dataframe\">\n",
              "  <thead>\n",
              "    <tr style=\"text-align: right;\">\n",
              "      <th></th>\n",
              "      <th>treatment</th>\n",
              "      <th>depression_pre</th>\n",
              "      <th>depression_post</th>\n",
              "      <th>bp_dias</th>\n",
              "      <th>bp_syst</th>\n",
              "      <th>er_visits</th>\n",
              "      <th>borrow_for_med</th>\n",
              "      <th>depression_improved</th>\n",
              "    </tr>\n",
              "  </thead>\n",
              "  <tbody>\n",
              "    <tr>\n",
              "      <th>0</th>\n",
              "      <td>1</td>\n",
              "      <td>0</td>\n",
              "      <td>0</td>\n",
              "      <td>81.0</td>\n",
              "      <td>144.0</td>\n",
              "      <td>0.0</td>\n",
              "      <td>0</td>\n",
              "      <td>0</td>\n",
              "    </tr>\n",
              "    <tr>\n",
              "      <th>1</th>\n",
              "      <td>0</td>\n",
              "      <td>0</td>\n",
              "      <td>0</td>\n",
              "      <td>82.0</td>\n",
              "      <td>134.0</td>\n",
              "      <td>2.0</td>\n",
              "      <td>1</td>\n",
              "      <td>0</td>\n",
              "    </tr>\n",
              "    <tr>\n",
              "      <th>4</th>\n",
              "      <td>0</td>\n",
              "      <td>1</td>\n",
              "      <td>0</td>\n",
              "      <td>110.0</td>\n",
              "      <td>168.0</td>\n",
              "      <td>1.0</td>\n",
              "      <td>0</td>\n",
              "      <td>1</td>\n",
              "    </tr>\n",
              "  </tbody>\n",
              "</table>\n",
              "</div>"
            ],
            "text/plain": [
              "   treatment  depression_pre  ...  borrow_for_med  depression_improved\n",
              "0          1               0  ...               0                    0\n",
              "1          0               0  ...               1                    0\n",
              "4          0               1  ...               0                    1\n",
              "\n",
              "[3 rows x 8 columns]"
            ]
          },
          "metadata": {
            "tags": []
          },
          "execution_count": 63
        }
      ]
    },
    {
      "cell_type": "markdown",
      "metadata": {
        "id": "ed7lw2z2EJIs",
        "colab_type": "text"
      },
      "source": [
        "So now, the idea is to see if there is a difference between the treatment and the control.  Let's separate the groups.  Assign those who have been selected to `selected_df`.  And those who have not been selected to another `not_selected_df`."
      ]
    },
    {
      "cell_type": "code",
      "metadata": {
        "id": "2BpWfUw9EJIv",
        "colab_type": "code",
        "colab": {}
      },
      "source": [
        "selected_df = df_not_na[df_not_na['treatment'] == 1]\n",
        "not_selected_df = df_not_na[df_not_na['treatment'] == 0]"
      ],
      "execution_count": 0,
      "outputs": []
    },
    {
      "cell_type": "markdown",
      "metadata": {
        "id": "Asr7YqPDEJIx",
        "colab_type": "text"
      },
      "source": [
        "### Is there a change in Blood Pressure?"
      ]
    },
    {
      "cell_type": "markdown",
      "metadata": {
        "id": "lOwhpTMfEJIx",
        "colab_type": "text"
      },
      "source": [
        "Now let's use null hypothesis testing to see if there's a difference between the treatment and control groups.  We'll begin with seeing if there's a difference in the blood pressure diastolic means."
      ]
    },
    {
      "cell_type": "code",
      "metadata": {
        "id": "JmTIoKWkEJIy",
        "colab_type": "code",
        "outputId": "fe27cb1e-806e-4f3a-ba44-8707ec786e92",
        "colab": {
          "base_uri": "https://localhost:8080/",
          "height": 35
        }
      },
      "source": [
        "bp_mean_selected = selected_df['bp_dias'].mean()\n",
        "bp_mean_selected\n",
        "# 75.615"
      ],
      "execution_count": 0,
      "outputs": [
        {
          "output_type": "execute_result",
          "data": {
            "text/plain": [
              "75.61589931495938"
            ]
          },
          "metadata": {
            "tags": []
          },
          "execution_count": 65
        }
      ]
    },
    {
      "cell_type": "code",
      "metadata": {
        "id": "EslEkSVOEJI0",
        "colab_type": "code",
        "outputId": "fd8676fd-7004-4abe-d667-c88ce29bd03a",
        "colab": {
          "base_uri": "https://localhost:8080/",
          "height": 35
        }
      },
      "source": [
        "bp_mean_not_selected = not_selected_df['bp_dias'].mean()\n",
        "bp_mean_not_selected\n",
        "# 75.8957"
      ],
      "execution_count": 0,
      "outputs": [
        {
          "output_type": "execute_result",
          "data": {
            "text/plain": [
              "75.895717270195"
            ]
          },
          "metadata": {
            "tags": []
          },
          "execution_count": 66
        }
      ]
    },
    {
      "cell_type": "markdown",
      "metadata": {
        "id": "5afJtN-2EJI3",
        "colab_type": "text"
      },
      "source": [
        "So our null hypothesis is that the mean blood pressure is 75.89, and our alternative is that it's less than 75.89.  Let's set a significance level of $\\alpha = .01$."
      ]
    },
    {
      "cell_type": "markdown",
      "metadata": {
        "id": "fqZj2IFiEJI3",
        "colab_type": "text"
      },
      "source": [
        "Now the question is, what is the probability that this difference is due to chance.  To do this, we first calculated the standard error, or the standard deviation of the means."
      ]
    },
    {
      "cell_type": "code",
      "metadata": {
        "id": "g_XhQLOCRdAK",
        "colab_type": "code",
        "outputId": "a6c0f292-b571-4a82-9bc3-2d1936e1190a",
        "colab": {
          "base_uri": "https://localhost:8080/",
          "height": 35
        }
      },
      "source": [
        "selected_df.shape[0]"
      ],
      "execution_count": 0,
      "outputs": [
        {
          "output_type": "execute_result",
          "data": {
            "text/plain": [
              "6277"
            ]
          },
          "metadata": {
            "tags": []
          },
          "execution_count": 74
        }
      ]
    },
    {
      "cell_type": "code",
      "metadata": {
        "id": "1X2lmdN8EJI3",
        "colab_type": "code",
        "colab": {}
      },
      "source": [
        "se_bp = (df_not_na['bp_dias'].std())/(np.sqrt(df_not_na['bp_dias'].shape[0]))"
      ],
      "execution_count": 0,
      "outputs": []
    },
    {
      "cell_type": "code",
      "metadata": {
        "id": "S0Se5LEOEJI6",
        "colab_type": "code",
        "outputId": "2f6b0826-058c-4cc5-9a42-e1fb4d5ab587",
        "colab": {
          "base_uri": "https://localhost:8080/",
          "height": 35
        }
      },
      "source": [
        "se_bp\n",
        "# This is correct"
      ],
      "execution_count": 0,
      "outputs": [
        {
          "output_type": "execute_result",
          "data": {
            "text/plain": [
              "0.10914479155066911"
            ]
          },
          "metadata": {
            "tags": []
          },
          "execution_count": 88
        }
      ]
    },
    {
      "cell_type": "markdown",
      "metadata": {
        "id": "MfLhdpvvEJI8",
        "colab_type": "text"
      },
      "source": [
        "Now one way to get a sense of how rare this would be is with the z-score.  "
      ]
    },
    {
      "cell_type": "code",
      "metadata": {
        "id": "Z52olKXuSwfZ",
        "colab_type": "code",
        "colab": {}
      },
      "source": [
        "# LV\n",
        "from scipy import stats\n",
        "\n",
        "norm_dist_bp = stats.norm(bp_mean_not_selected, se_bp)"
      ],
      "execution_count": 0,
      "outputs": []
    },
    {
      "cell_type": "code",
      "metadata": {
        "id": "Io4WFGjREJI8",
        "colab_type": "code",
        "outputId": "ca53eccc-f001-47c7-cfaa-0ba843a2673e",
        "colab": {
          "base_uri": "https://localhost:8080/",
          "height": 35
        }
      },
      "source": [
        "z_bp = (bp_mean_selected - norm_dist_bp.mean())/norm_dist_bp.std()\n",
        "z_bp\n",
        "# This is correct"
      ],
      "execution_count": 0,
      "outputs": [
        {
          "output_type": "execute_result",
          "data": {
            "text/plain": [
              "-2.563731638130552"
            ]
          },
          "metadata": {
            "tags": []
          },
          "execution_count": 94
        }
      ]
    },
    {
      "cell_type": "markdown",
      "metadata": {
        "id": "NhLGtrWYEJI-",
        "colab_type": "text"
      },
      "source": [
        "So we can see that this is less than two standard deviations away.  We can already see that this may not meet our threshold for a p-value. "
      ]
    },
    {
      "cell_type": "markdown",
      "metadata": {
        "id": "5KgksETfEJI-",
        "colab_type": "text"
      },
      "source": [
        "To check, let's plot our distribution of the means and then calculate the cdf."
      ]
    },
    {
      "cell_type": "code",
      "metadata": {
        "id": "6oDtAw06EJI-",
        "colab_type": "code",
        "colab": {}
      },
      "source": [
        "import scipy.stats as stats\n",
        "import numpy as np\n",
        "norm_dist_bp = stats.norm(bp_mean_not_selected, se_bp)"
      ],
      "execution_count": 0,
      "outputs": []
    },
    {
      "cell_type": "code",
      "metadata": {
        "id": "UNMUoClWEJJB",
        "colab_type": "code",
        "colab": {}
      },
      "source": [
        "x_vals = np.linspace(norm_dist_bp.ppf(0.00001), norm_dist_bp.ppf(0.99999), 100)\n",
        "pdf_nums_norm_bp = norm_dist_bp.pdf(x_vals)"
      ],
      "execution_count": 0,
      "outputs": []
    },
    {
      "cell_type": "code",
      "metadata": {
        "id": "qpXkJcAhEJJC",
        "colab_type": "code",
        "outputId": "5c681d7c-feba-47d8-c0ab-5b7475f9f42e",
        "colab": {
          "base_uri": "https://localhost:8080/",
          "height": 298
        }
      },
      "source": [
        "from scipy.stats import norm\n",
        "import matplotlib.pyplot as plt\n",
        "fig = plt.figure()\n",
        "ax = fig.add_subplot(111)\n",
        "ax.plot(x_vals, pdf_nums_norm_bp,\n",
        "'r-', lw=5, alpha=0.6, label='norm pdf')\n",
        "ax.axvline(x=bp_mean_selected)\n",
        "ax.set(title = 'distribution means bp')"
      ],
      "execution_count": 0,
      "outputs": [
        {
          "output_type": "execute_result",
          "data": {
            "text/plain": [
              "[Text(0.5, 1.0, 'distribution means bp')]"
            ]
          },
          "metadata": {
            "tags": []
          },
          "execution_count": 98
        },
        {
          "output_type": "display_data",
          "data": {
            "image/png": "[encoded data removed]",
            "text/plain": [
              "<Figure size 432x288 with 1 Axes>"
            ]
          },
          "metadata": {
            "tags": [],
            "needs_background": "light"
          }
        }
      ]
    },
    {
      "cell_type": "code",
      "metadata": {
        "id": "rIp50CSMEJJF",
        "colab_type": "code",
        "outputId": "4d38988c-abfe-4997-a6c5-1c45352b5ba1",
        "colab": {
          "base_uri": "https://localhost:8080/",
          "height": 35
        }
      },
      "source": [
        "norm_dist_bp.cdf(bp_mean_selected)\n",
        "# This is correct"
      ],
      "execution_count": 0,
      "outputs": [
        {
          "output_type": "execute_result",
          "data": {
            "text/plain": [
              "0.0051776788267894995"
            ]
          },
          "metadata": {
            "tags": []
          },
          "execution_count": 99
        }
      ]
    },
    {
      "cell_type": "markdown",
      "metadata": {
        "id": "cA6k-aPxEJJH",
        "colab_type": "text"
      },
      "source": [
        "\n",
        "\n",
        "```\n",
        "# This is formatted as code\n",
        "```\n",
        "LV: Needs to be updated \n",
        "So three percent of the time, even if there was no effect, we would still see the above difference in means.  We do not reject the null hypothesis."
      ]
    },
    {
      "cell_type": "markdown",
      "metadata": {
        "id": "u5mVM_87EJJH",
        "colab_type": "text"
      },
      "source": [
        "### Change in Borrow for Medicine?"
      ]
    },
    {
      "cell_type": "markdown",
      "metadata": {
        "id": "dBEMQ73aEJJI",
        "colab_type": "text"
      },
      "source": [
        "Now do the same for the `borrow_for_med` variable.  What is the probability that the apparent effect is due to chance, assuming the null hypothesis is true."
      ]
    },
    {
      "cell_type": "code",
      "metadata": {
        "id": "SiZzdtCSarMC",
        "colab_type": "code",
        "colab": {}
      },
      "source": [
        "#selected_df = df_not_na[df_not_na['treatment'] == 1]\n",
        "#not_selected_df = df_not_na[df_not_na['treatment'] == 0]"
      ],
      "execution_count": 0,
      "outputs": []
    },
    {
      "cell_type": "markdown",
      "metadata": {
        "id": "7rC4hMB1EJJI",
        "colab_type": "text"
      },
      "source": [
        "1. Start by stating the null hypothesis."
      ]
    },
    {
      "cell_type": "code",
      "metadata": {
        "id": "194yVSAlawPJ",
        "colab_type": "code",
        "colab": {}
      },
      "source": [
        "sel_df_mean = selected_df['borrow_for_med'].mean()\n",
        "not_sel_df_mean = not_selected_df['borrow_for_med'].mean()"
      ],
      "execution_count": 0,
      "outputs": []
    },
    {
      "cell_type": "code",
      "metadata": {
        "id": "MKsfrRdPa_cG",
        "colab_type": "code",
        "outputId": "6caf6387-5331-4e16-aec8-783d289b69e2",
        "colab": {
          "base_uri": "https://localhost:8080/",
          "height": 35
        }
      },
      "source": [
        "sel_df_mean"
      ],
      "execution_count": 0,
      "outputs": [
        {
          "output_type": "execute_result",
          "data": {
            "text/plain": [
              "0.20742392862832562"
            ]
          },
          "metadata": {
            "tags": []
          },
          "execution_count": 103
        }
      ]
    },
    {
      "cell_type": "code",
      "metadata": {
        "id": "gCIKQg8bbHm6",
        "colab_type": "code",
        "outputId": "8199149d-5fa3-44b6-a3d2-f1d94687754a",
        "colab": {
          "base_uri": "https://localhost:8080/",
          "height": 35
        }
      },
      "source": [
        "not_sel_df_mean"
      ],
      "execution_count": 0,
      "outputs": [
        {
          "output_type": "execute_result",
          "data": {
            "text/plain": [
              "0.24634401114206128"
            ]
          },
          "metadata": {
            "tags": []
          },
          "execution_count": 104
        }
      ]
    },
    {
      "cell_type": "code",
      "metadata": {
        "id": "C2BxYxl2bLfW",
        "colab_type": "code",
        "outputId": "d91b86a2-6f62-49f6-b841-cfc9ed516ed5",
        "colab": {
          "base_uri": "https://localhost:8080/",
          "height": 35
        }
      },
      "source": [
        "bor_med_se = (df_not_na['borrow_for_med'].std())/(np.sqrt(df_not_na.shape[0]))\n",
        "bor_med_se"
      ],
      "execution_count": 0,
      "outputs": [
        {
          "output_type": "execute_result",
          "data": {
            "text/plain": [
              "0.003814932332836049"
            ]
          },
          "metadata": {
            "tags": []
          },
          "execution_count": 106
        }
      ]
    },
    {
      "cell_type": "markdown",
      "metadata": {
        "id": "bjVDSRNuEJJJ",
        "colab_type": "text"
      },
      "source": [
        "2. Then calculate the z-score"
      ]
    },
    {
      "cell_type": "code",
      "metadata": {
        "id": "FDjTrmffb3U_",
        "colab_type": "code",
        "colab": {}
      },
      "source": [
        "norm_dist_br_med = stats.norm(not_sel_df_mean, bor_med_se)"
      ],
      "execution_count": 0,
      "outputs": []
    },
    {
      "cell_type": "code",
      "metadata": {
        "id": "jW6UBaA0EJJJ",
        "colab_type": "code",
        "outputId": "6d3704fb-42cd-4852-87ac-75e346d4e31d",
        "colab": {
          "base_uri": "https://localhost:8080/",
          "height": 35
        }
      },
      "source": [
        "z_borrow = (sel_df_mean - norm_dist_br_med.mean())/norm_dist_br_med.std()\n",
        "z_borrow\n",
        "# -10.202037"
      ],
      "execution_count": 0,
      "outputs": [
        {
          "output_type": "execute_result",
          "data": {
            "text/plain": [
              "-10.202037446048795"
            ]
          },
          "metadata": {
            "tags": []
          },
          "execution_count": 109
        }
      ]
    },
    {
      "cell_type": "code",
      "metadata": {
        "id": "GxCkwQyCccVv",
        "colab_type": "code",
        "colab": {}
      },
      "source": [
        "#(bp_mean_selected - norm_dist_bp.mean())/norm_dist_bp.std()"
      ],
      "execution_count": 0,
      "outputs": []
    },
    {
      "cell_type": "markdown",
      "metadata": {
        "id": "u8FnJYCIEJJM",
        "colab_type": "text"
      },
      "source": [
        "So this time around things are looking promising.  Let's be sure."
      ]
    },
    {
      "cell_type": "markdown",
      "metadata": {
        "id": "BfUFmkGoEJJN",
        "colab_type": "text"
      },
      "source": [
        "3. Initialize a normal distribution that captures null hypothesis."
      ]
    },
    {
      "cell_type": "code",
      "metadata": {
        "id": "6SW3DJjqEJJN",
        "colab_type": "code",
        "outputId": "c4973dc8-ad2d-4bd9-aaca-08c13efba05e",
        "colab": {
          "base_uri": "https://localhost:8080/",
          "height": 35
        }
      },
      "source": [
        "import scipy.stats as stats\n",
        "import numpy as np\n",
        "norm_dist_borrow = norm_dist_br_med\n",
        "norm_dist_borrow"
      ],
      "execution_count": 0,
      "outputs": [
        {
          "output_type": "execute_result",
          "data": {
            "text/plain": [
              "<scipy.stats._distn_infrastructure.rv_frozen at 0x7fd5ff913550>"
            ]
          },
          "metadata": {
            "tags": []
          },
          "execution_count": 110
        }
      ]
    },
    {
      "cell_type": "markdown",
      "metadata": {
        "id": "P6aJDTtTEJJP",
        "colab_type": "text"
      },
      "source": [
        "Then plot the distribution, along with the observed $x_T$."
      ]
    },
    {
      "cell_type": "code",
      "metadata": {
        "id": "evQey78GEJJQ",
        "colab_type": "code",
        "colab": {}
      },
      "source": [
        "x_vals = np.linspace(norm_dist_borrow.ppf(0.0001), norm_dist_borrow.ppf(0.9999), 100)\n",
        "pdf_nums_norm_borrow = norm_dist_borrow.pdf(x_vals)"
      ],
      "execution_count": 0,
      "outputs": []
    },
    {
      "cell_type": "code",
      "metadata": {
        "id": "p6I--PD-EJJS",
        "colab_type": "code",
        "outputId": "d8acae02-ff7c-4a3f-978e-6cdb70d1cab7",
        "colab": {
          "base_uri": "https://localhost:8080/",
          "height": 282
        }
      },
      "source": [
        "from scipy.stats import norm\n",
        "import matplotlib.pyplot as plt\n",
        "fig = plt.figure()\n",
        "ax = fig.add_subplot(111)\n",
        "ax.plot(x_vals, pdf_nums_norm_borrow, 'r-', lw=3)\n",
        "ax.axvline(sel_df_mean)"
      ],
      "execution_count": 0,
      "outputs": [
        {
          "output_type": "execute_result",
          "data": {
            "text/plain": [
              "<matplotlib.lines.Line2D at 0x7fd5fc57ffd0>"
            ]
          },
          "metadata": {
            "tags": []
          },
          "execution_count": 118
        },
        {
          "output_type": "display_data",
          "data": {
            "image/png": "[encoded data removed]",
            "text/plain": [
              "<Figure size 432x288 with 1 Axes>"
            ]
          },
          "metadata": {
            "tags": [],
            "needs_background": "light"
          }
        }
      ]
    },
    {
      "cell_type": "markdown",
      "metadata": {
        "id": "0RM_okBREJJU",
        "colab_type": "text"
      },
      "source": [
        "Answer: <img src=\"https://github.com/jigsawlabs-student/correlations-to-experiments/blob/master/normal-borrow-mean.png?raw=1\" width=\"45%\">"
      ]
    },
    {
      "cell_type": "markdown",
      "metadata": {
        "id": "tU8HddhLEJJU",
        "colab_type": "text"
      },
      "source": [
        "So this likely did not occur do to chance.  Use the CDF function to calculate the probability that this occurred, assuming the null hypothesis is true."
      ]
    },
    {
      "cell_type": "code",
      "metadata": {
        "id": "bWy3rtmREJJV",
        "colab_type": "code",
        "outputId": "685702dd-fbc9-4b67-c7fa-9eaf37581026",
        "colab": {
          "base_uri": "https://localhost:8080/",
          "height": 35
        }
      },
      "source": [
        "# write code here\n",
        "norm_dist_borrow.cdf(sel_df_mean)\n",
        "# 9.461625509785145e-25"
      ],
      "execution_count": 0,
      "outputs": [
        {
          "output_type": "execute_result",
          "data": {
            "text/plain": [
              "9.707803021104608e-25"
            ]
          },
          "metadata": {
            "tags": []
          },
          "execution_count": 120
        }
      ]
    },
    {
      "cell_type": "markdown",
      "metadata": {
        "id": "UMlo1RMTEJJY",
        "colab_type": "text"
      },
      "source": [
        "### Change in ER Visits"
      ]
    },
    {
      "cell_type": "markdown",
      "metadata": {
        "id": "489DbmQeEJJZ",
        "colab_type": "text"
      },
      "source": [
        "This time, for ER visits, note that number could have gone up or down.  So let's set up our null and alternative hypotheses like so."
      ]
    },
    {
      "cell_type": "code",
      "metadata": {
        "id": "VQEbIgJEEJJZ",
        "colab_type": "code",
        "outputId": "e1edf487-c255-46d8-a496-200c4abf01ab",
        "colab": {
          "base_uri": "https://localhost:8080/",
          "height": 35
        }
      },
      "source": [
        "not_selected_er_mean = not_selected_df['er_visits'].mean()\n",
        "not_selected_er_mean\n",
        "# 1.03899"
      ],
      "execution_count": 0,
      "outputs": [
        {
          "output_type": "execute_result",
          "data": {
            "text/plain": [
              "1.0389972144846797"
            ]
          },
          "metadata": {
            "tags": []
          },
          "execution_count": 121
        }
      ]
    },
    {
      "cell_type": "code",
      "metadata": {
        "id": "rK03syQcfmKw",
        "colab_type": "code",
        "colab": {}
      },
      "source": [
        ""
      ],
      "execution_count": 0,
      "outputs": []
    },
    {
      "cell_type": "markdown",
      "metadata": {
        "id": "VnXTjHO_EJJb",
        "colab_type": "text"
      },
      "source": [
        "* $H_0: er = 1.038$\n",
        "* $H_A: er \\neq 1.038$"
      ]
    },
    {
      "cell_type": "markdown",
      "metadata": {
        "id": "-DJcIXLXEJJb",
        "colab_type": "text"
      },
      "source": [
        "Now for ER visits as well, calculate the z score of the apparent effect."
      ]
    },
    {
      "cell_type": "code",
      "metadata": {
        "id": "vvz9mpVpe-Lq",
        "colab_type": "code",
        "outputId": "b50b4c24-c56f-4cb6-bd63-2f87603724ca",
        "colab": {
          "base_uri": "https://localhost:8080/",
          "height": 69
        }
      },
      "source": [
        "df_not_na.columns"
      ],
      "execution_count": 0,
      "outputs": [
        {
          "output_type": "execute_result",
          "data": {
            "text/plain": [
              "Index(['treatment', 'depression_pre', 'depression_post', 'bp_dias', 'bp_syst',\n",
              "       'er_visits', 'borrow_for_med', 'depression_improved'],\n",
              "      dtype='object')"
            ]
          },
          "metadata": {
            "tags": []
          },
          "execution_count": 122
        }
      ]
    },
    {
      "cell_type": "code",
      "metadata": {
        "id": "OrMCLD3Uezm9",
        "colab_type": "code",
        "colab": {}
      },
      "source": [
        "# bor_med_se = (df_not_na['borrow_for_med'].std())/(np.sqrt(df_not_na.shape[0]))\n",
        "# norm_dist_br_med = stats.norm(not_sel_df_mean, bor_med_se)"
      ],
      "execution_count": 0,
      "outputs": []
    },
    {
      "cell_type": "code",
      "metadata": {
        "id": "cRbhLJI8e64W",
        "colab_type": "code",
        "outputId": "3178b0b2-97d3-4ff5-f064-641cae697544",
        "colab": {
          "base_uri": "https://localhost:8080/",
          "height": 35
        }
      },
      "source": [
        "er_visit_se = (df_not_na['er_visits'].std())/(np.sqrt(df_not_na.shape[0]))\n",
        "er_visit_se"
      ],
      "execution_count": 0,
      "outputs": [
        {
          "output_type": "execute_result",
          "data": {
            "text/plain": [
              "0.024786126081321618"
            ]
          },
          "metadata": {
            "tags": []
          },
          "execution_count": 123
        }
      ]
    },
    {
      "cell_type": "code",
      "metadata": {
        "id": "bsFZp1gmfru7",
        "colab_type": "code",
        "outputId": "490ff589-6dc4-4d33-beb3-24f1ee2bd482",
        "colab": {
          "base_uri": "https://localhost:8080/",
          "height": 35
        }
      },
      "source": [
        "selected_er_mean = selected_df['er_visits'].mean()\n",
        "selected_er_mean"
      ],
      "execution_count": 0,
      "outputs": [
        {
          "output_type": "execute_result",
          "data": {
            "text/plain": [
              "1.0900111518241198"
            ]
          },
          "metadata": {
            "tags": []
          },
          "execution_count": 124
        }
      ]
    },
    {
      "cell_type": "code",
      "metadata": {
        "id": "mUnQV9AnfSif",
        "colab_type": "code",
        "outputId": "e96688f9-3a84-4808-8312-2e5300e65f28",
        "colab": {
          "base_uri": "https://localhost:8080/",
          "height": 35
        }
      },
      "source": [
        "norm_er_visit = stats.norm(not_selected_er_mean, er_visit_se)\n",
        "norm_er_visit"
      ],
      "execution_count": 0,
      "outputs": [
        {
          "output_type": "execute_result",
          "data": {
            "text/plain": [
              "<scipy.stats._distn_infrastructure.rv_frozen at 0x7fd5fc7459b0>"
            ]
          },
          "metadata": {
            "tags": []
          },
          "execution_count": 125
        }
      ]
    },
    {
      "cell_type": "code",
      "metadata": {
        "id": "s2T4vRR7gPWy",
        "colab_type": "code",
        "colab": {}
      },
      "source": [
        "#z_borrow = (sel_df_mean - norm_dist_br_med.mean())/norm_dist_br_med.std()\n"
      ],
      "execution_count": 0,
      "outputs": []
    },
    {
      "cell_type": "code",
      "metadata": {
        "id": "aqpdaPhcEJJc",
        "colab_type": "code",
        "outputId": "149793e5-1978-490d-8e88-733e96c89b11",
        "colab": {
          "base_uri": "https://localhost:8080/",
          "height": 35
        }
      },
      "source": [
        "z_er_visits = (selected_er_mean - norm_er_visit.mean())/norm_er_visit.std()\n",
        "z_er_visits\n",
        "# 2.058165006183973"
      ],
      "execution_count": 0,
      "outputs": [
        {
          "output_type": "execute_result",
          "data": {
            "text/plain": [
              "2.058165006183973"
            ]
          },
          "metadata": {
            "tags": []
          },
          "execution_count": 126
        }
      ]
    },
    {
      "cell_type": "markdown",
      "metadata": {
        "id": "lqueBOGtEJJg",
        "colab_type": "text"
      },
      "source": [
        "Then we plot the scores."
      ]
    },
    {
      "cell_type": "code",
      "metadata": {
        "id": "yLplQphLEJJg",
        "colab_type": "code",
        "colab": {}
      },
      "source": [
        "import scipy.stats as stats\n",
        "import numpy as np\n",
        "norm_dist_er = norm_er_visit"
      ],
      "execution_count": 0,
      "outputs": []
    },
    {
      "cell_type": "code",
      "metadata": {
        "id": "pqJeb09WgoyO",
        "colab_type": "code",
        "colab": {}
      },
      "source": [
        "#x_vals = np.linspace(norm_dist_borrow.ppf(0.0001), norm_dist_borrow.ppf(0.9999), 100)\n",
        "#pdf_nums_norm_borrow = norm_dist_borrow.pdf(x_vals)"
      ],
      "execution_count": 0,
      "outputs": []
    },
    {
      "cell_type": "code",
      "metadata": {
        "id": "qsKjjEQlEJJi",
        "colab_type": "code",
        "colab": {}
      },
      "source": [
        "x_vals = np.linspace(norm_dist_er.ppf(0.0001),norm_dist_er.ppf(0.9999), 100)\n",
        "pdf_nums_norm = norm_dist_er.pdf(x_vals)"
      ],
      "execution_count": 0,
      "outputs": []
    },
    {
      "cell_type": "code",
      "metadata": {
        "id": "oLnqpt-whHas",
        "colab_type": "code",
        "colab": {}
      },
      "source": [
        "#ax.plot(x_vals, pdf_nums_norm_borrow, 'r-', lw=3)\n",
        "#ax.axvline(sel_df_mean)"
      ],
      "execution_count": 0,
      "outputs": []
    },
    {
      "cell_type": "code",
      "metadata": {
        "id": "lIFUHf1iEJJk",
        "colab_type": "code",
        "outputId": "d7d7cc8a-1e59-4b4a-9a2e-7e8f8123e6fd",
        "colab": {
          "base_uri": "https://localhost:8080/",
          "height": 282
        }
      },
      "source": [
        "from scipy.stats import norm\n",
        "import matplotlib.pyplot as plt\n",
        "fig = plt.figure()\n",
        "ax = fig.add_subplot(111)\n",
        "ax.plot(x_vals, pdf_nums_norm, 'r-', lw=3)\n",
        "ax.axvline(selected_er_mean)\n"
      ],
      "execution_count": 0,
      "outputs": [
        {
          "output_type": "execute_result",
          "data": {
            "text/plain": [
              "<matplotlib.lines.Line2D at 0x7fd5fc3f1240>"
            ]
          },
          "metadata": {
            "tags": []
          },
          "execution_count": 131
        },
        {
          "output_type": "display_data",
          "data": {
            "image/png": "[encoded data removed]",
            "text/plain": [
              "<Figure size 432x288 with 1 Axes>"
            ]
          },
          "metadata": {
            "tags": [],
            "needs_background": "light"
          }
        }
      ]
    },
    {
      "cell_type": "markdown",
      "metadata": {
        "id": "UFJxMsNOEJJm",
        "colab_type": "text"
      },
      "source": [
        "<img src=\"https://github.com/jigsawlabs-student/correlations-to-experiments/blob/master/er-visits-normal.png?raw=1\" width=\"40%\">"
      ]
    },
    {
      "cell_type": "markdown",
      "metadata": {
        "id": "5U9Ds_DNEJJn",
        "colab_type": "text"
      },
      "source": [
        "Now this time, because in our hypothesis we did not choose a side, we ask not the probability that we received a deviation this large in the positive direction, but that we would see a deviation this large in either direction.  So our formula is the following."
      ]
    },
    {
      "cell_type": "code",
      "metadata": {
        "id": "kAxYjiLAEJJn",
        "colab_type": "code",
        "outputId": "fa8fb3bc-388e-4afa-fdf4-555833c672c2",
        "colab": {
          "base_uri": "https://localhost:8080/",
          "height": 35
        }
      },
      "source": [
        "2*(1 - norm_dist_er.cdf(selected_er_mean))\n",
        "# 0.0395"
      ],
      "execution_count": 0,
      "outputs": [
        {
          "output_type": "execute_result",
          "data": {
            "text/plain": [
              "0.03957429654555744"
            ]
          },
          "metadata": {
            "tags": []
          },
          "execution_count": 132
        }
      ]
    },
    {
      "cell_type": "markdown",
      "metadata": {
        "id": "gQBWG3GwEJJs",
        "colab_type": "text"
      },
      "source": [
        "So there is a four percent chance that we would see this difference even if there were no effect.  We fail to reject the null hypothesis."
      ]
    },
    {
      "cell_type": "markdown",
      "metadata": {
        "id": "O9SHYeozEJJs",
        "colab_type": "text"
      },
      "source": [
        "### Summary "
      ]
    },
    {
      "cell_type": "markdown",
      "metadata": {
        "id": "LIkNe1E8EJJt",
        "colab_type": "text"
      },
      "source": [
        "In this lesson, we saw how to calculate p-values.  Our general approach is to calculate the difference in the means, and then to see the likelihood that the difference in the means was due to chance.  We do that by looking at the standard deviation of the means (the standard error), and seeing the likelihood that the difference in the means is due to the standard deviation in the means.  "
      ]
    }
  ]
}