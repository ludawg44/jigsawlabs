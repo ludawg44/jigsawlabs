{
  "nbformat": 4,
  "nbformat_minor": 0,
  "metadata": {
    "kernelspec": {
      "display_name": "Python 3",
      "language": "python",
      "name": "python3"
    },
    "language_info": {
      "codemirror_mode": {
        "name": "ipython",
        "version": 3
      },
      "file_extension": ".py",
      "mimetype": "text/x-python",
      "name": "python",
      "nbconvert_exporter": "python",
      "pygments_lexer": "ipython3",
      "version": "3.7.4"
    },
    "colab": {
      "name": "Copy of 1-plotting-data.ipynb",
      "provenance": [],
      "include_colab_link": true
    }
  },
  "cells": [
    {
      "cell_type": "markdown",
      "metadata": {
        "id": "view-in-github",
        "colab_type": "text"
      },
      "source": [
        "<a href=\"https://colab.research.google.com/github/ludawg44/jigsawlabs/blob/24Mar20/Copy_of_1_plotting_data.ipynb\" target=\"_parent\"><img src=\"https://colab.research.google.com/assets/colab-badge.svg\" alt=\"Open In Colab\"/></a>"
      ]
    },
    {
      "cell_type": "markdown",
      "metadata": {
        "id": "xVAVdCcoYxy9",
        "colab_type": "text"
      },
      "source": [
        "# Matplotlib Hierarchy"
      ]
    },
    {
      "cell_type": "markdown",
      "metadata": {
        "id": "d0bQo9u1Yxy_",
        "colab_type": "text"
      },
      "source": [
        "### Introduction"
      ]
    },
    {
      "cell_type": "markdown",
      "metadata": {
        "id": "IFjagSbWYxzA",
        "colab_type": "text"
      },
      "source": [
        "Once we have a grasp of tools to acquire data, the next step is to look at the data.  There are different reasons to look at the data, in exploratory data analysis.  For example, in looking at the data we want to get a sense of:\n",
        "\n",
        "1. Data Quality\n",
        "  * Are there missing values or errors in the data \n",
        "  * How inclusive is the data?  What does the data include and not include. \n",
        "2. Specific Variables\n",
        "  * Center, spread, and shape of specific variables\n",
        "3. Differences in categorical data\n",
        "4. Relationships between variables\n",
        "    * Does a correlation exist between variables\n",
        "    * This can potentially allowing us to infer a relationship between variables\n",
        "    "
      ]
    },
    {
      "cell_type": "markdown",
      "metadata": {
        "id": "NCSSn9wYYxzB",
        "colab_type": "text"
      },
      "source": [
        "In this lesson, we'll learn the fundamentals of the matplotlib library, and see how it can help us answer these questions."
      ]
    },
    {
      "cell_type": "markdown",
      "metadata": {
        "id": "9yhzQqiZYxzC",
        "colab_type": "text"
      },
      "source": [
        "### Why matplotlib?"
      ]
    },
    {
      "cell_type": "markdown",
      "metadata": {
        "id": "Wnn6MMvAYxzC",
        "colab_type": "text"
      },
      "source": [
        "Matplotlib is the most popular plotting library in Python.  And has become popular both because of it's robust features, and ease with which individuals can create certain plots.  The also popular Seaborn library uses matplotlib underneath, and features of matplotlib are built into pandas.  Let's get started. "
      ]
    },
    {
      "cell_type": "markdown",
      "metadata": {
        "id": "gSSkJ_lzYxzD",
        "colab_type": "text"
      },
      "source": [
        "The first step is to load in the matplotlib library."
      ]
    },
    {
      "cell_type": "code",
      "metadata": {
        "id": "aBludm9GYxzE",
        "colab_type": "code",
        "colab": {}
      },
      "source": [
        "import matplotlib.pyplot as plt"
      ],
      "execution_count": 0,
      "outputs": []
    },
    {
      "cell_type": "markdown",
      "metadata": {
        "id": "RjOb6UZRYxzI",
        "colab_type": "text"
      },
      "source": [
        "Then we can use the magic command `matplotlib inline` so that the plots are displayed in the Jupyter notebook, and not in a separate window."
      ]
    },
    {
      "cell_type": "code",
      "metadata": {
        "id": "qxpkTFZCYxzI",
        "colab_type": "code",
        "colab": {}
      },
      "source": [
        "%matplotlib inline"
      ],
      "execution_count": 0,
      "outputs": []
    },
    {
      "cell_type": "markdown",
      "metadata": {
        "id": "ujEBzJnPYxzL",
        "colab_type": "text"
      },
      "source": [
        "> Also, we can configure matplotlib so that our figures are 4 inches wide and have a height of 2.5 inches."
      ]
    },
    {
      "cell_type": "code",
      "metadata": {
        "id": "iyGF2mNJYxzM",
        "colab_type": "code",
        "colab": {}
      },
      "source": [
        "plt.rcParams['figure.figsize'] = [4, 2.5]\n",
        "#     width and height of figure"
      ],
      "execution_count": 0,
      "outputs": []
    },
    {
      "cell_type": "markdown",
      "metadata": {
        "id": "daanT2jrYxzO",
        "colab_type": "text"
      },
      "source": [
        "Ok, now it's time to create our plot."
      ]
    },
    {
      "cell_type": "markdown",
      "metadata": {
        "id": "_aqnwqkoYxzQ",
        "colab_type": "text"
      },
      "source": [
        "### Matplotlib Hierarchy"
      ]
    },
    {
      "cell_type": "markdown",
      "metadata": {
        "id": "DcgvGIeWYxzQ",
        "colab_type": "text"
      },
      "source": [
        "The first step to understanding matplotlib, is understanding how matplotlib divides and labels the components of a single visualization."
      ]
    },
    {
      "cell_type": "code",
      "metadata": {
        "id": "2a4aWa0OYxzR",
        "colab_type": "code",
        "outputId": "2f3d94ef-abf3-4c4c-dea3-0258c17cf048",
        "colab": {}
      },
      "source": [
        "fig = plt.figure()\n",
        "fig, axs = plt.subplots(nrows=1, ncols=2)\n",
        "first_axs = axs[0]\n",
        "first_axs.scatter(x = [1, 2, 3], y = [2, 4, 6])\n",
        "first_axs.hist(x = [1, 1, 3], color = 'r')\n",
        "\n",
        "plt.show()"
      ],
      "execution_count": 0,
      "outputs": [
        {
          "output_type": "display_data",
          "data": {
            "text/plain": [
              "<Figure size 432x288 with 0 Axes>"
            ]
          },
          "metadata": {
            "tags": []
          }
        },
        {
          "output_type": "display_data",
          "data": {
            "image/png": "[encoded data removed]",
            "text/plain": [
              "<Figure size 432x288 with 2 Axes>"
            ]
          },
          "metadata": {
            "tags": [],
            "needs_background": "light"
          }
        }
      ]
    },
    {
      "cell_type": "markdown",
      "metadata": {
        "id": "7BGFodXOYxzW",
        "colab_type": "text"
      },
      "source": [
        "The above is an illustration of the three major components in `matplotlib`: figures, axes, and plots."
      ]
    },
    {
      "cell_type": "markdown",
      "metadata": {
        "id": "94iTgiajYxzX",
        "colab_type": "text"
      },
      "source": [
        "> Above we have a **single figure**, that has a **two axes or subplots**, and on the **first** of the axes is a **scatter plot** and a **histogram plot**."
      ]
    },
    {
      "cell_type": "markdown",
      "metadata": {
        "id": "_edX08kxYxzX",
        "colab_type": "text"
      },
      "source": [
        "Let's look at a quick description of each, and then we can dig into these components more deeply.\n",
        "    \n",
        "* **Figure**: The figure is the canvas that all other plotting elements are drawn on.\n",
        "* **Axes**: An axes represents a square box inside of our figure.  So above, we have two sets of axes.  Axes are also called subplots.\n",
        "* **Plots**: Plots are how we display different sets of data inside of an axes.  For example above we both a scatter and a bar plot."
      ]
    },
    {
      "cell_type": "markdown",
      "metadata": {
        "id": "vMVAIbihYxzY",
        "colab_type": "text"
      },
      "source": [
        "#### Figures"
      ]
    },
    {
      "cell_type": "markdown",
      "metadata": {
        "id": "kXkhCX6HYxzZ",
        "colab_type": "text"
      },
      "source": [
        "We create a new figure object with the following."
      ]
    },
    {
      "cell_type": "code",
      "metadata": {
        "id": "w8y5KvHrYxzZ",
        "colab_type": "code",
        "outputId": "2d044698-01f8-48ef-8286-1b94596ee450",
        "colab": {}
      },
      "source": [
        "fig = plt.figure()"
      ],
      "execution_count": 0,
      "outputs": [
        {
          "output_type": "display_data",
          "data": {
            "text/plain": [
              "<Figure size 432x288 with 0 Axes>"
            ]
          },
          "metadata": {
            "tags": []
          }
        }
      ]
    },
    {
      "cell_type": "markdown",
      "metadata": {
        "id": "mEkcOQ_EYxzc",
        "colab_type": "text"
      },
      "source": [
        "And we can set various attributes of the figure through the `fig.set_` methods."
      ]
    },
    {
      "cell_type": "code",
      "metadata": {
        "id": "mfHdsmF8Yxzd",
        "colab_type": "code",
        "colab": {}
      },
      "source": [
        "fig.set_"
      ],
      "execution_count": 0,
      "outputs": []
    },
    {
      "cell_type": "markdown",
      "metadata": {
        "id": "DQ0-6llcYxzf",
        "colab_type": "text"
      },
      "source": [
        "> Press tab on the above to take explore some of the attributes we can set."
      ]
    },
    {
      "cell_type": "markdown",
      "metadata": {
        "id": "ZVnCrGpRYxzg",
        "colab_type": "text"
      },
      "source": [
        "### Axes"
      ]
    },
    {
      "cell_type": "markdown",
      "metadata": {
        "id": "mt5-WfIZYxzh",
        "colab_type": "text"
      },
      "source": [
        "Now as we know, **axes** or a **subplot** refers to a box in our figure  Let's once again create a figure, and then add two subplots to that figure."
      ]
    },
    {
      "cell_type": "code",
      "metadata": {
        "id": "XsSvU9PdYxzi",
        "colab_type": "code",
        "outputId": "7ea5cc7b-dffd-4118-ee1f-2d44c2b3b5c2",
        "colab": {}
      },
      "source": [
        "fig = plt.figure()\n",
        "axes = fig.subplots(nrows=1, ncols=2)"
      ],
      "execution_count": 0,
      "outputs": [
        {
          "output_type": "display_data",
          "data": {
            "image/png": "[encoded data removed]",
            "text/plain": [
              "<Figure size 432x288 with 2 Axes>"
            ]
          },
          "metadata": {
            "tags": [],
            "needs_background": "light"
          }
        }
      ]
    },
    {
      "cell_type": "markdown",
      "metadata": {
        "id": "obmy1qM4Yxzk",
        "colab_type": "text"
      },
      "source": [
        "So with the `fig.subplots` function we added two axes to our figure.  Notice that we also assigned the return value to a variable called `axes`.  Let's take a look."
      ]
    },
    {
      "cell_type": "code",
      "metadata": {
        "id": "JijFyWEwYxzl",
        "colab_type": "code",
        "outputId": "81d2b618-2d86-488c-ad9c-5c873800a4f3",
        "colab": {}
      },
      "source": [
        "axs"
      ],
      "execution_count": 0,
      "outputs": [
        {
          "output_type": "execute_result",
          "data": {
            "text/plain": [
              "array([<matplotlib.axes._subplots.AxesSubplot object at 0x12502e650>,\n",
              "       <matplotlib.axes._subplots.AxesSubplot object at 0x124fc27d0>],\n",
              "      dtype=object)"
            ]
          },
          "metadata": {
            "tags": []
          },
          "execution_count": 153
        }
      ]
    },
    {
      "cell_type": "markdown",
      "metadata": {
        "id": "tppPEq15Yxzn",
        "colab_type": "text"
      },
      "source": [
        "As we can see, the `fig.suplots` method, returns to us a collection of the axes in our figure."
      ]
    },
    {
      "cell_type": "markdown",
      "metadata": {
        "id": "zut-yPrkYxzo",
        "colab_type": "text"
      },
      "source": [
        "Here we have a numpy array with two items (one for each item), and we can reference each axes, and add plots to it accordingly."
      ]
    },
    {
      "cell_type": "code",
      "metadata": {
        "id": "pYjaT678Yxzp",
        "colab_type": "code",
        "outputId": "2b91c27a-c818-4112-dcb1-de3ea38719d2",
        "colab": {}
      },
      "source": [
        "import numpy as np\n",
        "axes[0].scatter(x = np.arange(2, 5, 1), y = np.arange(4, 13, 3))\n",
        "axes[1].hist(x = [1, 1, 2, 2, 2, 3, 3])\n",
        "fig"
      ],
      "execution_count": 0,
      "outputs": [
        {
          "output_type": "execute_result",
          "data": {
            "image/png": "[encoded data removed]",
            "text/plain": [
              "<Figure size 432x288 with 2 Axes>"
            ]
          },
          "metadata": {
            "tags": []
          },
          "execution_count": 180
        }
      ]
    },
    {
      "cell_type": "markdown",
      "metadata": {
        "id": "v51KrTerYxzr",
        "colab_type": "text"
      },
      "source": [
        "So above we referenced the first axes (on the left), as `axes[0]`, and the second as `axes[1]`."
      ]
    },
    {
      "cell_type": "code",
      "metadata": {
        "id": "YHsEy926Yxzs",
        "colab_type": "code",
        "colab": {}
      },
      "source": [
        "left_axes = axes[0]"
      ],
      "execution_count": 0,
      "outputs": []
    },
    {
      "cell_type": "markdown",
      "metadata": {
        "id": "0RDdt7w-Yxzu",
        "colab_type": "text"
      },
      "source": [
        "Then from that left axes or subplot, we can reference the x axis and the y axis."
      ]
    },
    {
      "cell_type": "code",
      "metadata": {
        "id": "ysERxkB8Yxzv",
        "colab_type": "code",
        "outputId": "e5a5818e-4259-46e8-88cd-a8e167fe41e4",
        "colab": {}
      },
      "source": [
        "left_axes.xaxis"
      ],
      "execution_count": 0,
      "outputs": [
        {
          "output_type": "execute_result",
          "data": {
            "text/plain": [
              "Text(0.5, 3.1999999999999993, 'hello')"
            ]
          },
          "metadata": {
            "tags": []
          },
          "execution_count": 174
        }
      ]
    },
    {
      "cell_type": "markdown",
      "metadata": {
        "id": "NTHgLJ9HYxzy",
        "colab_type": "text"
      },
      "source": [
        "From there, we can see what attributes of each individual axis we can set by calling `set_` with tab completion. "
      ]
    },
    {
      "cell_type": "code",
      "metadata": {
        "id": "ZR0cRiPZYxzz",
        "colab_type": "code",
        "colab": {}
      },
      "source": [
        "left_axes.xaxis.set_label_text('hello')"
      ],
      "execution_count": 0,
      "outputs": []
    },
    {
      "cell_type": "code",
      "metadata": {
        "id": "Uz-20QjhYxz1",
        "colab_type": "code",
        "outputId": "88e0b529-be8f-4efb-97f8-491dcc9f07f4",
        "colab": {}
      },
      "source": [
        "fig"
      ],
      "execution_count": 0,
      "outputs": [
        {
          "output_type": "execute_result",
          "data": {
            "image/png": "[encoded data removed]",
            "text/plain": [
              "<Figure size 432x288 with 2 Axes>"
            ]
          },
          "metadata": {
            "tags": []
          },
          "execution_count": 175
        }
      ]
    },
    {
      "cell_type": "markdown",
      "metadata": {
        "id": "t04jngZSYxz3",
        "colab_type": "text"
      },
      "source": [
        "### Summarizing a Figure"
      ]
    },
    {
      "cell_type": "markdown",
      "metadata": {
        "id": "HtZxFUarYxz4",
        "colab_type": "text"
      },
      "source": [
        "So perhaps from the above, we can get a sense of how matplotlib is organized.  Each visualization is captured in a single figure."
      ]
    },
    {
      "cell_type": "code",
      "metadata": {
        "id": "lRfz2VVdYxz5",
        "colab_type": "code",
        "outputId": "d598f4aa-04b1-46c3-aeb5-50d881669675",
        "colab": {}
      },
      "source": [
        "fig = plt.figure()"
      ],
      "execution_count": 0,
      "outputs": [
        {
          "output_type": "display_data",
          "data": {
            "text/plain": [
              "<Figure size 432x288 with 0 Axes>"
            ]
          },
          "metadata": {
            "tags": []
          }
        }
      ]
    },
    {
      "cell_type": "markdown",
      "metadata": {
        "id": "tZsrkevcYxz9",
        "colab_type": "text"
      },
      "source": [
        "A figure can have any number of axes or subplots.  Above we can see the figure currently has zero axes."
      ]
    },
    {
      "cell_type": "markdown",
      "metadata": {
        "id": "epaSH0cUYxz9",
        "colab_type": "text"
      },
      "source": [
        "From there, we can add subplots to the figure."
      ]
    },
    {
      "cell_type": "code",
      "metadata": {
        "id": "HLhcAQtDYxz-",
        "colab_type": "code",
        "outputId": "4d16e178-00d8-444f-b348-a75e457d43fd",
        "colab": {}
      },
      "source": [
        "axes = fig.subplots(nrows = 1, ncols = 1)\n",
        "fig"
      ],
      "execution_count": 0,
      "outputs": [
        {
          "output_type": "execute_result",
          "data": {
            "image/png": "[encoded data removed]",
            "text/plain": [
              "<Figure size 432x288 with 1 Axes>"
            ]
          },
          "metadata": {
            "tags": []
          },
          "execution_count": 188
        }
      ]
    },
    {
      "cell_type": "markdown",
      "metadata": {
        "id": "fteqWfraYx0A",
        "colab_type": "text"
      },
      "source": [
        "Now we've added a single subplot or axes to the figure."
      ]
    },
    {
      "cell_type": "code",
      "metadata": {
        "id": "3JllCaNpYx0B",
        "colab_type": "code",
        "outputId": "6555f9aa-ea78-4084-befc-49edba7a60e8",
        "colab": {}
      },
      "source": [
        "axes"
      ],
      "execution_count": 0,
      "outputs": [
        {
          "output_type": "execute_result",
          "data": {
            "text/plain": [
              "<matplotlib.axes._subplots.AxesSubplot at 0x11d1add10>"
            ]
          },
          "metadata": {
            "tags": []
          },
          "execution_count": 189
        }
      ]
    },
    {
      "cell_type": "markdown",
      "metadata": {
        "id": "c7obeXBNYx0D",
        "colab_type": "text"
      },
      "source": [
        "And from there, we can reference an individual x axis or y axis."
      ]
    },
    {
      "cell_type": "code",
      "metadata": {
        "id": "myRwLHa6Yx0E",
        "colab_type": "code",
        "outputId": "b4882db7-f836-4982-f5b4-a5a1500f3f1f",
        "colab": {}
      },
      "source": [
        "fig.axes"
      ],
      "execution_count": 0,
      "outputs": [
        {
          "output_type": "execute_result",
          "data": {
            "text/plain": [
              "[<matplotlib.axes._subplots.AxesSubplot at 0x11d1add10>]"
            ]
          },
          "metadata": {
            "tags": []
          },
          "execution_count": 193
        }
      ]
    },
    {
      "cell_type": "code",
      "metadata": {
        "id": "OSS_Yv1uYx0F",
        "colab_type": "code",
        "outputId": "ec5a7882-fc51-46ba-f0b9-03ea12e005a3",
        "colab": {}
      },
      "source": [
        "fig.axes[0].xaxis"
      ],
      "execution_count": 0,
      "outputs": [
        {
          "output_type": "execute_result",
          "data": {
            "text/plain": [
              "<matplotlib.axis.XAxis at 0x125548690>"
            ]
          },
          "metadata": {
            "tags": []
          },
          "execution_count": 194
        }
      ]
    },
    {
      "cell_type": "code",
      "metadata": {
        "id": "mRkbI3N0Yx0H",
        "colab_type": "code",
        "outputId": "af3015f3-990c-498f-c121-1295971e2b08",
        "colab": {}
      },
      "source": [
        "fig.axes[0].xaxis.set_ticks(range(10))"
      ],
      "execution_count": 0,
      "outputs": [
        {
          "output_type": "execute_result",
          "data": {
            "text/plain": [
              "[<matplotlib.axis.XTick at 0x125636a50>,\n",
              " <matplotlib.axis.XTick at 0x125648390>,\n",
              " <matplotlib.axis.XTick at 0x1257f77d0>,\n",
              " <matplotlib.axis.XTick at 0x125809410>,\n",
              " <matplotlib.axis.XTick at 0x125809950>,\n",
              " <matplotlib.axis.XTick at 0x125809ed0>,\n",
              " <matplotlib.axis.XTick at 0x125648a10>,\n",
              " <matplotlib.axis.XTick at 0x1256d0810>,\n",
              " <matplotlib.axis.XTick at 0x12581dfd0>,\n",
              " <matplotlib.axis.XTick at 0x1256d4ad0>]"
            ]
          },
          "metadata": {
            "tags": []
          },
          "execution_count": 195
        }
      ]
    },
    {
      "cell_type": "code",
      "metadata": {
        "id": "ne54DrQmYx0K",
        "colab_type": "code",
        "outputId": "430f2bf4-81a5-4831-a565-d4d777ecbd74",
        "colab": {}
      },
      "source": [
        "fig"
      ],
      "execution_count": 0,
      "outputs": [
        {
          "output_type": "execute_result",
          "data": {
            "image/png": "[encoded data removed]",
            "text/plain": [
              "<Figure size 432x288 with 1 Axes>"
            ]
          },
          "metadata": {
            "tags": []
          },
          "execution_count": 196
        }
      ]
    },
    {
      "cell_type": "markdown",
      "metadata": {
        "id": "UNcEWcdXYx0M",
        "colab_type": "text"
      },
      "source": [
        "And inside the axes, we can place one or more plots."
      ]
    },
    {
      "cell_type": "code",
      "metadata": {
        "id": "yJSRwzKZYx0M",
        "colab_type": "code",
        "outputId": "6b19c1b7-9397-4652-97b5-7ecf4bf3b05f",
        "colab": {}
      },
      "source": [
        "axes.scatter(x = np.arange(5), y = np.arange(4, 13, 2))\n",
        "axes.scatter(x = np.arange(5, 10), y = np.arange(4, 13, 2))\n",
        "fig"
      ],
      "execution_count": 0,
      "outputs": [
        {
          "output_type": "execute_result",
          "data": {
            "image/png": "[encoded data removed]",
            "text/plain": [
              "<Figure size 432x288 with 1 Axes>"
            ]
          },
          "metadata": {
            "tags": []
          },
          "execution_count": 206
        }
      ]
    },
    {
      "cell_type": "markdown",
      "metadata": {
        "id": "h0o94cMKYx0P",
        "colab_type": "text"
      },
      "source": [
        "### Resources"
      ]
    },
    {
      "cell_type": "markdown",
      "metadata": {
        "id": "eylSDvhyYx0Q",
        "colab_type": "text"
      },
      "source": [
        "[Usage FAQ - Matplotlib](https://matplotlib.org/faq/usage_faq.html)"
      ]
    },
    {
      "cell_type": "markdown",
      "metadata": {
        "id": "iM7Zv4JqYx0R",
        "colab_type": "text"
      },
      "source": [
        "[Matplotlib](https://people.duke.edu/~ccc14/pcfb/numpympl/MatplotlibBarPlots.html)"
      ]
    },
    {
      "cell_type": "markdown",
      "metadata": {
        "id": "vNkULYBwYx0R",
        "colab_type": "text"
      },
      "source": [
        "[Dunder Data Tutorials](https://github.com/DunderData/Tutorials/blob/master/Data%20Analysis%20and%20Visualization%20Tutorials/Matplotlib%20Tutorials/1.%20Matplotlib%20Fundamentals.ipynb)"
      ]
    }
  ]
}