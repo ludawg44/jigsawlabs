{
  "nbformat": 4,
  "nbformat_minor": 0,
  "metadata": {
    "kernelspec": {
      "display_name": "Python 3",
      "language": "python",
      "name": "python3"
    },
    "language_info": {
      "codemirror_mode": {
        "name": "ipython",
        "version": 3
      },
      "file_extension": ".py",
      "mimetype": "text/x-python",
      "name": "python",
      "nbconvert_exporter": "python",
      "pygments_lexer": "ipython3",
      "version": "3.7.4"
    },
    "colab": {
      "name": "Copy of 3-hidden-figures.ipynb",
      "provenance": [],
      "include_colab_link": true
    }
  },
  "cells": [
    {
      "cell_type": "markdown",
      "metadata": {
        "id": "view-in-github",
        "colab_type": "text"
      },
      "source": [
        "<a href=\"https://colab.research.google.com/github/ludawg44/jigsawlabs/blob/master/Copy_of_3_hidden_figures.ipynb\" target=\"_parent\"><img src=\"https://colab.research.google.com/assets/colab-badge.svg\" alt=\"Open In Colab\"/></a>"
      ]
    },
    {
      "cell_type": "markdown",
      "metadata": {
        "id": "V3M538bPfuOD",
        "colab_type": "text"
      },
      "source": [
        "# Hidden Figures"
      ]
    },
    {
      "cell_type": "markdown",
      "metadata": {
        "id": "nC2znRd8fuOG",
        "colab_type": "text"
      },
      "source": [
        "### Introduction"
      ]
    },
    {
      "cell_type": "markdown",
      "metadata": {
        "id": "PjsC_oCkfuOG",
        "colab_type": "text"
      },
      "source": [
        "In the last lesson, we followed a structured procedure of creating a figure, followed by an axes or subplot inside of that figure, and then adding plots to that subplot.  In this lesson we'll that in matplotlib, it's quite easy to skip this procedure.  And we'll better understand what happens when we do so."
      ]
    },
    {
      "cell_type": "markdown",
      "metadata": {
        "id": "PNagh70ifuOH",
        "colab_type": "text"
      },
      "source": [
        "### It's Automatic"
      ]
    },
    {
      "cell_type": "markdown",
      "metadata": {
        "id": "84xZi7PQfuOJ",
        "colab_type": "text"
      },
      "source": [
        "Now a tricky thing about figures is that matplotlib is often creating them implicitly, when we call different functions.  \n",
        "\n",
        "For example, let's first load up `matplotlib`."
      ]
    },
    {
      "cell_type": "code",
      "metadata": {
        "id": "i_pS1cAPfuOK",
        "colab_type": "code",
        "colab": {}
      },
      "source": [
        "import matplotlib.pyplot as plt\n",
        "%matplotlib inline"
      ],
      "execution_count": 0,
      "outputs": []
    },
    {
      "cell_type": "markdown",
      "metadata": {
        "id": "qdu4KybWfuON",
        "colab_type": "text"
      },
      "source": [
        "And next, let's create a scatter plot."
      ]
    },
    {
      "cell_type": "code",
      "metadata": {
        "id": "McagMbGlfuOO",
        "colab_type": "code",
        "outputId": "fec5904b-0764-4312-a936-3fc651ab0427",
        "colab": {}
      },
      "source": [
        "plt.scatter(x = [1, 2], y = [2, 4])"
      ],
      "execution_count": 0,
      "outputs": [
        {
          "output_type": "execute_result",
          "data": {
            "text/plain": [
              "<matplotlib.collections.PathCollection at 0x11b243ed0>"
            ]
          },
          "metadata": {
            "tags": []
          },
          "execution_count": 3
        },
        {
          "output_type": "display_data",
          "data": {
            "image/png": "[encoded data removed]",
            "text/plain": [
              "<Figure size 432x288 with 1 Axes>"
            ]
          },
          "metadata": {
            "tags": [],
            "needs_background": "light"
          }
        }
      ]
    },
    {
      "cell_type": "markdown",
      "metadata": {
        "id": "JRtcfdE6fuOR",
        "colab_type": "text"
      },
      "source": [
        "Notice that we were able to create the scatter plot, without explicitly creating a figure first.  How did this work?  Well, `matplotlib` created one for us.  While this is done for convenience, it can sometimes cause confusion.  For example, let's try to make the figure below teenie-tiny."
      ]
    },
    {
      "cell_type": "code",
      "metadata": {
        "id": "cdd-FMlkfuOS",
        "colab_type": "code",
        "outputId": "fb08ae33-8e91-4abe-f8bf-011ec17a96bc",
        "colab": {}
      },
      "source": [
        "plt.scatter(x = [1, 2], y = [2, 4])\n",
        "fig.set_size_inches(.5, .1)\n",
        "# this won't work as we want."
      ],
      "execution_count": 0,
      "outputs": [
        {
          "output_type": "display_data",
          "data": {
            "image/png": "[encoded data removed]",
            "text/plain": [
              "<Figure size 432x288 with 1 Axes>"
            ]
          },
          "metadata": {
            "tags": [],
            "needs_background": "light"
          }
        }
      ]
    },
    {
      "cell_type": "markdown",
      "metadata": {
        "id": "Wcls1-aVfuOV",
        "colab_type": "text"
      },
      "source": [
        "The above did not change the size of the figure, because we currently do not have a variable that points to the figure below.  \n",
        "\n",
        "To hold onto and then alter the figure that is about to be displayed, we can call:"
      ]
    },
    {
      "cell_type": "code",
      "metadata": {
        "id": "sC0bqBF8fuOW",
        "colab_type": "code",
        "outputId": "16ab8cc9-1955-4a11-a243-dba56b8aab28",
        "colab": {}
      },
      "source": [
        "fig = plt.gcf()"
      ],
      "execution_count": 0,
      "outputs": [
        {
          "output_type": "display_data",
          "data": {
            "text/plain": [
              "<Figure size 432x288 with 0 Axes>"
            ]
          },
          "metadata": {
            "tags": []
          }
        }
      ]
    },
    {
      "cell_type": "markdown",
      "metadata": {
        "id": "ADflUE_CfuOZ",
        "colab_type": "text"
      },
      "source": [
        "`gcf` stands for get current figure, and it's a way for us to reference that most recent figure that is about to be displayed."
      ]
    },
    {
      "cell_type": "code",
      "metadata": {
        "id": "MAUqBtvCfuOa",
        "colab_type": "code",
        "outputId": "1125901a-8869-4212-cddb-d481251135a3",
        "colab": {}
      },
      "source": [
        "plt.scatter(x = [1, 2], y = [2, 4])\n",
        "fig = plt.gcf()\n",
        "fig.set_size_inches(.5, .1)"
      ],
      "execution_count": 0,
      "outputs": [
        {
          "output_type": "display_data",
          "data": {
            "image/png": "[encoded data removed]",
            "text/plain": [
              "<Figure size 36x7.2 with 1 Axes>"
            ]
          },
          "metadata": {
            "tags": [],
            "needs_background": "light"
          }
        }
      ]
    },
    {
      "cell_type": "markdown",
      "metadata": {
        "id": "_igNCxGzfuOc",
        "colab_type": "text"
      },
      "source": [
        "> Ok, now that's a tiny figure."
      ]
    },
    {
      "cell_type": "markdown",
      "metadata": {
        "id": "_Idd-W8LfuOd",
        "colab_type": "text"
      },
      "source": [
        "## Methods from Many places"
      ]
    },
    {
      "cell_type": "markdown",
      "metadata": {
        "id": "5SVuVgxNfuOe",
        "colab_type": "text"
      },
      "source": [
        "Let's take a moment to notice something else from the code above.  In previous lessons, we called created our scatter plot, directly from our axes.  "
      ]
    },
    {
      "cell_type": "code",
      "metadata": {
        "id": "EhBkVjJCfuOf",
        "colab_type": "code",
        "outputId": "3fc17f49-ee31-4d92-9e03-f48b1efdd107",
        "colab": {}
      },
      "source": [
        "fig = plt.figure()\n",
        "axes = fig.subplots(nrows = 1, ncols = 1)\n",
        "axes.scatter(x = [1, 2, 3], y = [4, 5, 6])"
      ],
      "execution_count": 0,
      "outputs": [
        {
          "output_type": "execute_result",
          "data": {
            "text/plain": [
              "<matplotlib.collections.PathCollection at 0x11c8b0110>"
            ]
          },
          "metadata": {
            "tags": []
          },
          "execution_count": 6
        },
        {
          "output_type": "display_data",
          "data": {
            "image/png": "[encoded data removed]",
            "text/plain": [
              "<Figure size 432x288 with 1 Axes>"
            ]
          },
          "metadata": {
            "tags": [],
            "needs_background": "light"
          }
        }
      ]
    },
    {
      "cell_type": "markdown",
      "metadata": {
        "id": "Ytsu-lHhfuOh",
        "colab_type": "text"
      },
      "source": [
        "In this case we simply called `plt.scatter`.  This works because matplotlib often let's us reference methods of an axes directly from the `plt` object.  So when we do this, we should keep in mind that matplotlib is taking those intermediary steps of creating a figure, and then the appropriate axes for us."
      ]
    },
    {
      "cell_type": "markdown",
      "metadata": {
        "id": "XfRGgl4bfuOi",
        "colab_type": "text"
      },
      "source": [
        "### Summary"
      ]
    },
    {
      "cell_type": "markdown",
      "metadata": {
        "id": "aWdhhkVFfuOj",
        "colab_type": "text"
      },
      "source": [
        "In this lesson, we saw that matplotlib will implicitly create figures and axes for us.  To reference these axes we can call `plt.gcf()` to get the current figure."
      ]
    }
  ]
}