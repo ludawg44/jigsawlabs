{
  "nbformat": 4,
  "nbformat_minor": 0,
  "metadata": {
    "kernelspec": {
      "display_name": "Python 3",
      "language": "python",
      "name": "python3"
    },
    "language_info": {
      "codemirror_mode": {
        "name": "ipython",
        "version": 3
      },
      "file_extension": ".py",
      "mimetype": "text/x-python",
      "name": "python",
      "nbconvert_exporter": "python",
      "pygments_lexer": "ipython3",
      "version": "3.7.4"
    },
    "colab": {
      "name": "Copy of 1-pdfs-and-cdfs.ipynb",
      "provenance": [],
      "include_colab_link": true
    }
  },
  "cells": [
    {
      "cell_type": "markdown",
      "metadata": {
        "id": "view-in-github",
        "colab_type": "text"
      },
      "source": [
        "<a href=\"https://colab.research.google.com/github/ludawg44/jigsawlabs/blob/master/07Apr20_1_pdfs_and_cdfs.ipynb\" target=\"_parent\"><img src=\"https://colab.research.google.com/assets/colab-badge.svg\" alt=\"Open In Colab\"/></a>"
      ]
    },
    {
      "cell_type": "markdown",
      "metadata": {
        "id": "EtkcbdcR_NRI",
        "colab_type": "text"
      },
      "source": [
        "# Asking Questions of a Random VAriable"
      ]
    },
    {
      "cell_type": "markdown",
      "metadata": {
        "id": "KJZTTo_z_NRJ",
        "colab_type": "text"
      },
      "source": [
        "### Introduction"
      ]
    },
    {
      "cell_type": "markdown",
      "metadata": {
        "id": "JJf8_mA7_NRK",
        "colab_type": "text"
      },
      "source": [
        "In the last lesson, we learned about about random variables.  We defined a random variable as a variable whose values depend on outcomes of a random phenomenon.  We also learned about the probability distribution function of a random variable, which is a function that provides the probabilities of occurrence of different possible outcomes in an experiment.  \n",
        "\n",
        "In this lesson, we'll go further into working with a random variable's probability distribution function, as well as learn about the cumulative distribution function."
      ]
    },
    {
      "cell_type": "markdown",
      "metadata": {
        "id": "ZG6ZsSGG_NRK",
        "colab_type": "text"
      },
      "source": [
        "### Loading the data"
      ]
    },
    {
      "cell_type": "markdown",
      "metadata": {
        "id": "e53xtfJG_NRL",
        "colab_type": "text"
      },
      "source": [
        "Ok let's load up our data."
      ]
    },
    {
      "cell_type": "code",
      "metadata": {
        "id": "qdwkC5xZ_NRL",
        "colab_type": "code",
        "colab": {}
      },
      "source": [
        "import pandas as pd \n",
        "url = \"https://raw.githubusercontent.com/jigsawlabs-student/modeling-distributions/master/scores_grade_eight_2015.csv\"\n",
        "df = pd.read_csv(url, index_col = 0)"
      ],
      "execution_count": 0,
      "outputs": []
    },
    {
      "cell_type": "code",
      "metadata": {
        "id": "zYNkAY5I_NRO",
        "colab_type": "code",
        "outputId": "78630516-78f5-40f3-97ed-35eef359c53f",
        "colab": {
          "base_uri": "https://localhost:8080/",
          "height": 142
        }
      },
      "source": [
        "df[:3]"
      ],
      "execution_count": 0,
      "outputs": [
        {
          "output_type": "execute_result",
          "data": {
            "text/html": [
              "<div>\n",
              "<style scoped>\n",
              "    .dataframe tbody tr th:only-of-type {\n",
              "        vertical-align: middle;\n",
              "    }\n",
              "\n",
              "    .dataframe tbody tr th {\n",
              "        vertical-align: top;\n",
              "    }\n",
              "\n",
              "    .dataframe thead th {\n",
              "        text-align: right;\n",
              "    }\n",
              "</style>\n",
              "<table border=\"1\" class=\"dataframe\">\n",
              "  <thead>\n",
              "    <tr style=\"text-align: right;\">\n",
              "      <th></th>\n",
              "      <th>DBN</th>\n",
              "      <th>School Name</th>\n",
              "      <th>Number Tested</th>\n",
              "      <th>Mean Scale Score</th>\n",
              "      <th># Level 1</th>\n",
              "      <th># Level 2</th>\n",
              "      <th># Level 3</th>\n",
              "      <th># Level 4</th>\n",
              "    </tr>\n",
              "  </thead>\n",
              "  <tbody>\n",
              "    <tr>\n",
              "      <th>53</th>\n",
              "      <td>01M034</td>\n",
              "      <td>P.S. 034 FRANKLIN D. ROOSEVELT</td>\n",
              "      <td>59</td>\n",
              "      <td>298.0</td>\n",
              "      <td>21.0</td>\n",
              "      <td>24.0</td>\n",
              "      <td>9.0</td>\n",
              "      <td>5.0</td>\n",
              "    </tr>\n",
              "    <tr>\n",
              "      <th>136</th>\n",
              "      <td>01M140</td>\n",
              "      <td>P.S. 140 NATHAN STRAUS</td>\n",
              "      <td>58</td>\n",
              "      <td>285.0</td>\n",
              "      <td>28.0</td>\n",
              "      <td>26.0</td>\n",
              "      <td>4.0</td>\n",
              "      <td>0.0</td>\n",
              "    </tr>\n",
              "    <tr>\n",
              "      <th>169</th>\n",
              "      <td>01M184</td>\n",
              "      <td>P.S. 184M SHUANG WEN</td>\n",
              "      <td>56</td>\n",
              "      <td>360.0</td>\n",
              "      <td>0.0</td>\n",
              "      <td>4.0</td>\n",
              "      <td>13.0</td>\n",
              "      <td>39.0</td>\n",
              "    </tr>\n",
              "  </tbody>\n",
              "</table>\n",
              "</div>"
            ],
            "text/plain": [
              "        DBN                     School Name  ...  # Level 3  # Level 4\n",
              "53   01M034  P.S. 034 FRANKLIN D. ROOSEVELT  ...        9.0        5.0\n",
              "136  01M140          P.S. 140 NATHAN STRAUS  ...        4.0        0.0\n",
              "169  01M184            P.S. 184M SHUANG WEN  ...       13.0       39.0\n",
              "\n",
              "[3 rows x 8 columns]"
            ]
          },
          "metadata": {
            "tags": []
          },
          "execution_count": 3
        }
      ]
    },
    {
      "cell_type": "markdown",
      "metadata": {
        "id": "WeWqErER_NRS",
        "colab_type": "text"
      },
      "source": [
        "From here, we can select a sample from our dataframe."
      ]
    },
    {
      "cell_type": "code",
      "metadata": {
        "id": "7pmHj2Bu_NRS",
        "colab_type": "code",
        "colab": {}
      },
      "source": [
        "sample_df = df.sample(n = 100, random_state = 5)"
      ],
      "execution_count": 0,
      "outputs": []
    },
    {
      "cell_type": "code",
      "metadata": {
        "id": "uWsXdzEn_NRV",
        "colab_type": "code",
        "outputId": "681e7b09-8b2f-486b-b085-231585e129cc",
        "colab": {
          "base_uri": "https://localhost:8080/",
          "height": 142
        }
      },
      "source": [
        "sample_df[:3]"
      ],
      "execution_count": 0,
      "outputs": [
        {
          "output_type": "execute_result",
          "data": {
            "text/html": [
              "<div>\n",
              "<style scoped>\n",
              "    .dataframe tbody tr th:only-of-type {\n",
              "        vertical-align: middle;\n",
              "    }\n",
              "\n",
              "    .dataframe tbody tr th {\n",
              "        vertical-align: top;\n",
              "    }\n",
              "\n",
              "    .dataframe thead th {\n",
              "        text-align: right;\n",
              "    }\n",
              "</style>\n",
              "<table border=\"1\" class=\"dataframe\">\n",
              "  <thead>\n",
              "    <tr style=\"text-align: right;\">\n",
              "      <th></th>\n",
              "      <th>DBN</th>\n",
              "      <th>School Name</th>\n",
              "      <th>Number Tested</th>\n",
              "      <th>Mean Scale Score</th>\n",
              "      <th># Level 1</th>\n",
              "      <th># Level 2</th>\n",
              "      <th># Level 3</th>\n",
              "      <th># Level 4</th>\n",
              "    </tr>\n",
              "  </thead>\n",
              "  <tbody>\n",
              "    <tr>\n",
              "      <th>13675</th>\n",
              "      <td>31R027</td>\n",
              "      <td>I.S. 027 ANNING S. PRALL</td>\n",
              "      <td>385</td>\n",
              "      <td>295.0</td>\n",
              "      <td>158.0</td>\n",
              "      <td>133.0</td>\n",
              "      <td>63.0</td>\n",
              "      <td>31.0</td>\n",
              "    </tr>\n",
              "    <tr>\n",
              "      <th>6491</th>\n",
              "      <td>14K318</td>\n",
              "      <td>I.S. 318 EUGENIO MARIA DE HOSTOS</td>\n",
              "      <td>328</td>\n",
              "      <td>289.0</td>\n",
              "      <td>116.0</td>\n",
              "      <td>184.0</td>\n",
              "      <td>27.0</td>\n",
              "      <td>1.0</td>\n",
              "    </tr>\n",
              "    <tr>\n",
              "      <th>10264</th>\n",
              "      <td>24Q061</td>\n",
              "      <td>I.S. 061 LEONARDO DA VINCI</td>\n",
              "      <td>768</td>\n",
              "      <td>295.0</td>\n",
              "      <td>295.0</td>\n",
              "      <td>318.0</td>\n",
              "      <td>102.0</td>\n",
              "      <td>53.0</td>\n",
              "    </tr>\n",
              "  </tbody>\n",
              "</table>\n",
              "</div>"
            ],
            "text/plain": [
              "          DBN                       School Name  ...  # Level 3  # Level 4\n",
              "13675  31R027          I.S. 027 ANNING S. PRALL  ...       63.0       31.0\n",
              "6491   14K318  I.S. 318 EUGENIO MARIA DE HOSTOS  ...       27.0        1.0\n",
              "10264  24Q061        I.S. 061 LEONARDO DA VINCI  ...      102.0       53.0\n",
              "\n",
              "[3 rows x 8 columns]"
            ]
          },
          "metadata": {
            "tags": []
          },
          "execution_count": 5
        }
      ]
    },
    {
      "cell_type": "markdown",
      "metadata": {
        "id": "ew06nAA8_NRY",
        "colab_type": "text"
      },
      "source": [
        "### Defining our random variable"
      ]
    },
    {
      "cell_type": "markdown",
      "metadata": {
        "id": "2CY9fGXS_NRY",
        "colab_type": "text"
      },
      "source": [
        "Now remember that we are motivated to get a sense of the math score of assigned school.  To do answer this question, we defined a random variable $X$ where:"
      ]
    },
    {
      "cell_type": "markdown",
      "metadata": {
        "id": "mFA36xKh_NRZ",
        "colab_type": "text"
      },
      "source": [
        "* $X = $ the score of the assigned school "
      ]
    },
    {
      "cell_type": "markdown",
      "metadata": {
        "id": "iYJ-pAhi_NRZ",
        "colab_type": "text"
      },
      "source": [
        "Now there are two main categories of questions that we ask of a random variable.  \n",
        "\n",
        "1. What's the probability that our random variable **equals** a specific value\n",
        "2. What's the probability that our random variable **is less than** a specific value"
      ]
    },
    {
      "cell_type": "markdown",
      "metadata": {
        "id": "zO1_Rvas_NRZ",
        "colab_type": "text"
      },
      "source": [
        "### Probability Distribution Function"
      ]
    },
    {
      "cell_type": "markdown",
      "metadata": {
        "id": "HT2kN9bh_NRa",
        "colab_type": "text"
      },
      "source": [
        "To answer questions in the first catgeory, we use the probability distribution function.  When our random variable is continuous, we call this the probability density function (PDF)."
      ]
    },
    {
      "cell_type": "markdown",
      "metadata": {
        "id": "kTiyzN3S_NRa",
        "colab_type": "text"
      },
      "source": [
        "> A **probability distribution function** is a  function that provides the probabilities of occurrence of different possible outcomes for a random variable."
      ]
    },
    {
      "cell_type": "markdown",
      "metadata": {
        "id": "fQmgMog-_NRb",
        "colab_type": "text"
      },
      "source": [
        "We defined our PDF to equal the relative frequencies of our samples.  "
      ]
    },
    {
      "cell_type": "code",
      "metadata": {
        "id": "Anw--sAG_NRc",
        "colab_type": "code",
        "outputId": "7e7b6744-275b-4d0f-daa4-2b1ca23c65f5",
        "colab": {
          "base_uri": "https://localhost:8080/",
          "height": 85
        }
      },
      "source": [
        "avg_score = sample_df['Mean Scale Score']\n",
        "\n",
        "avg_score.value_counts(normalize = True).iloc[:3]"
      ],
      "execution_count": 0,
      "outputs": [
        {
          "output_type": "execute_result",
          "data": {
            "text/plain": [
              "295.0    0.050505\n",
              "279.0    0.050505\n",
              "283.0    0.040404\n",
              "Name: Mean Scale Score, dtype: float64"
            ]
          },
          "metadata": {
            "tags": []
          },
          "execution_count": 6
        }
      ]
    },
    {
      "cell_type": "markdown",
      "metadata": {
        "id": "WPpmrVfm_NRe",
        "colab_type": "text"
      },
      "source": [
        "And we plotted our PDF with the following code."
      ]
    },
    {
      "cell_type": "code",
      "metadata": {
        "id": "r6k2zMQB_NRf",
        "colab_type": "code",
        "outputId": "bafa4fe9-e93c-480b-b6af-e39a8245e23d",
        "colab": {
          "base_uri": "https://localhost:8080/",
          "height": 279
        }
      },
      "source": [
        "import matplotlib.pyplot as plt\n",
        "\n",
        "ax = avg_score.hist(density = True)\n",
        "ax.set(xlabel = 'avg math score', ylabel = 'probability')\n",
        "pdf_fig = plt.gcf()"
      ],
      "execution_count": 0,
      "outputs": [
        {
          "output_type": "display_data",
          "data": {
            "image/png": "[encoded data removed]",
            "text/plain": [
              "<Figure size 432x288 with 1 Axes>"
            ]
          },
          "metadata": {
            "tags": []
          }
        }
      ]
    },
    {
      "cell_type": "markdown",
      "metadata": {
        "id": "Wvb52HR2_NRi",
        "colab_type": "text"
      },
      "source": [
        "Once we have our PDF, we can answer questions like the following:\n",
        "\n",
        "* What's the probability that the Emmet's assigned school has an average score of 280.  \n",
        "\n",
        "* Or mathematically:  $P(X = 280)$"
      ]
    },
    {
      "cell_type": "markdown",
      "metadata": {
        "id": "QELLivrC_NRi",
        "colab_type": "text"
      },
      "source": [
        "To answer this question, we can go to our value counts method and find the probability at this value:"
      ]
    },
    {
      "cell_type": "code",
      "metadata": {
        "id": "tSO3kFUC_NRj",
        "colab_type": "code",
        "outputId": "8bcb8c0f-7131-432f-cdf8-c62ad159d6e1",
        "colab": {
          "base_uri": "https://localhost:8080/",
          "height": 34
        }
      },
      "source": [
        "avg_score.value_counts(normalize = True).loc[280]"
      ],
      "execution_count": 0,
      "outputs": [
        {
          "output_type": "execute_result",
          "data": {
            "text/plain": [
              "0.030303030303030304"
            ]
          },
          "metadata": {
            "tags": []
          },
          "execution_count": 8
        }
      ]
    },
    {
      "cell_type": "markdown",
      "metadata": {
        "id": "PU9UdhbQ_NRm",
        "colab_type": "text"
      },
      "source": [
        "### Cumulative Distribution Function"
      ]
    },
    {
      "cell_type": "markdown",
      "metadata": {
        "id": "kiBtU2W6_NRm",
        "colab_type": "text"
      },
      "source": [
        "So we used a PDF to answer the question of, what's the probability that our random variable equals a specific value.  \n",
        "\n",
        "But we often want to know, what's the probability that our random variable is less than a specific value.  Or for example, what's the probability that Emmet's assigned school has a score less than 270.\n",
        "\n",
        "For questions of that form, we use the cumulative distribution function or the CDF."
      ]
    },
    {
      "cell_type": "markdown",
      "metadata": {
        "id": "fA1gQxZe_NRn",
        "colab_type": "text"
      },
      "source": [
        "> The **cumulative distribution function** (CDF) of a random variable $X$ is the probability that $X$ will take a value less than or equal to a value $x$."
      ]
    },
    {
      "cell_type": "markdown",
      "metadata": {
        "id": "7t9x0igG_NRo",
        "colab_type": "text"
      },
      "source": [
        "So let's find the probability that Emmet's assigned school has a score less than 300."
      ]
    },
    {
      "cell_type": "markdown",
      "metadata": {
        "id": "sGQWRdzJ_NRp",
        "colab_type": "text"
      },
      "source": [
        "*  $P(X \\le 270)$"
      ]
    },
    {
      "cell_type": "markdown",
      "metadata": {
        "id": "ZP6C6zES_NRp",
        "colab_type": "text"
      },
      "source": [
        "We can get this by adding all the probabilities for values less than 370."
      ]
    },
    {
      "cell_type": "code",
      "metadata": {
        "id": "dorNKzwF_NRp",
        "colab_type": "code",
        "outputId": "0c82004b-4964-4268-8956-38831b9cf1d1",
        "colab": {
          "base_uri": "https://localhost:8080/",
          "height": 204
        }
      },
      "source": [
        "avg_score.value_counts(normalize = True).sort_index().loc[:270]"
      ],
      "execution_count": 0,
      "outputs": [
        {
          "output_type": "execute_result",
          "data": {
            "text/plain": [
              "245.0    0.010101\n",
              "250.0    0.010101\n",
              "254.0    0.010101\n",
              "259.0    0.010101\n",
              "262.0    0.010101\n",
              "264.0    0.030303\n",
              "265.0    0.010101\n",
              "266.0    0.010101\n",
              "269.0    0.030303\n",
              "270.0    0.010101\n",
              "Name: Mean Scale Score, dtype: float64"
            ]
          },
          "metadata": {
            "tags": []
          },
          "execution_count": 9
        }
      ]
    },
    {
      "cell_type": "code",
      "metadata": {
        "id": "mlMwXrXA_NRr",
        "colab_type": "code",
        "outputId": "1bca64e9-44e7-480e-d0a6-795387e93bf1",
        "colab": {
          "base_uri": "https://localhost:8080/",
          "height": 34
        }
      },
      "source": [
        "avg_score.value_counts(normalize = True).sort_index().loc[:270].sum()"
      ],
      "execution_count": 0,
      "outputs": [
        {
          "output_type": "execute_result",
          "data": {
            "text/plain": [
              "0.14141414141414144"
            ]
          },
          "metadata": {
            "tags": []
          },
          "execution_count": 10
        }
      ]
    },
    {
      "cell_type": "markdown",
      "metadata": {
        "id": "rxQXcoYj_NRu",
        "colab_type": "text"
      },
      "source": [
        "So $P(X \\le 270)  = .14$"
      ]
    },
    {
      "cell_type": "markdown",
      "metadata": {
        "id": "6cyOskD1_NRu",
        "colab_type": "text"
      },
      "source": [
        "Another way to think about this question is in terms of the graph of our PDF."
      ]
    },
    {
      "cell_type": "code",
      "metadata": {
        "id": "sd4BaOLi_NRu",
        "colab_type": "code",
        "outputId": "75bb50b8-a1c2-4a06-f4bf-a9edc6c0c953",
        "colab": {
          "base_uri": "https://localhost:8080/",
          "height": 279
        }
      },
      "source": [
        "import matplotlib.pyplot as plt\n",
        "\n",
        "ax = avg_score.hist(density = True, alpha = .6)\n",
        "ax.set(xlabel = 'avg math score', ylabel = 'probability')\n",
        "ax.axvline(270, label='pyplot vertical line', color = 'red')\n",
        "cdf_fig = plt.gcf()"
      ],
      "execution_count": 0,
      "outputs": [
        {
          "output_type": "display_data",
          "data": {
            "image/png": "[encoded data removed]",
            "text/plain": [
              "<Figure size 432x288 with 1 Axes>"
            ]
          },
          "metadata": {
            "tags": []
          }
        }
      ]
    },
    {
      "cell_type": "markdown",
      "metadata": {
        "id": "l2jSOLOG_NRw",
        "colab_type": "text"
      },
      "source": [
        "To calculate $P(X \\le 280)$ we can add area of the histogram to the left of the red line.  In this case, that area equals .14."
      ]
    },
    {
      "cell_type": "markdown",
      "metadata": {
        "id": "3ShpNF3Z_NRx",
        "colab_type": "text"
      },
      "source": [
        "### Summary"
      ]
    },
    {
      "cell_type": "markdown",
      "metadata": {
        "id": "PvreUPFN_NRx",
        "colab_type": "text"
      },
      "source": [
        "In this lesson, we have focused on using the PDF and CDF for a random variable.  The probability **probability distribution function** is a  function that provides the probabilities of occurrence of different possible outcomes for a random variable.  For a continuous random variable we call this a probability density function.\n",
        "\n",
        "> We can use our PDF to answer questions like: $P(X = 280)$.\n",
        "\n",
        "The cumulative distribution function (CDF) of a random variable $X$  is the probability that $X$  will take a value less than or equal to a value $x$.\n",
        "\n",
        "> We can use our CDF to answer questions like: $P(X \\le 280)$."
      ]
    },
    {
      "cell_type": "markdown",
      "metadata": {
        "id": "QsdAoA3Y_NRy",
        "colab_type": "text"
      },
      "source": [
        "We can calculate the CDF by looking at the area under our PDF below value of $x$.  For example, in the graph below, where we calculate $P(X \\le 280)$, we do so by finding the area to the left of the red line."
      ]
    },
    {
      "cell_type": "code",
      "metadata": {
        "id": "PyVv1r3N_NRy",
        "colab_type": "code",
        "outputId": "8065f1dc-be67-4ab3-f346-3bbb4b8bc7c6",
        "colab": {
          "base_uri": "https://localhost:8080/",
          "height": 279
        }
      },
      "source": [
        "cdf_fig"
      ],
      "execution_count": 0,
      "outputs": [
        {
          "output_type": "execute_result",
          "data": {
            "image/png": "[encoded data removed]",
            "text/plain": [
              "<Figure size 432x288 with 1 Axes>"
            ]
          },
          "metadata": {
            "tags": []
          },
          "execution_count": 12
        }
      ]
    },
    {
      "cell_type": "code",
      "metadata": {
        "id": "3uEAkugb_NR1",
        "colab_type": "code",
        "colab": {}
      },
      "source": [
        ""
      ],
      "execution_count": 0,
      "outputs": []
    }
  ]
}