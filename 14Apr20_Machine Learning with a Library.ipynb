{
  "nbformat": 4,
  "nbformat_minor": 0,
  "metadata": {
    "kernelspec": {
      "display_name": "Python 3",
      "language": "python",
      "name": "python3"
    },
    "language_info": {
      "codemirror_mode": {
        "name": "ipython",
        "version": 3
      },
      "file_extension": ".py",
      "mimetype": "text/x-python",
      "name": "python",
      "nbconvert_exporter": "python",
      "pygments_lexer": "ipython3",
      "version": "3.7.4"
    },
    "colab": {
      "name": "Copy of index.ipynb",
      "provenance": [],
      "include_colab_link": true
    }
  },
  "cells": [
    {
      "cell_type": "markdown",
      "metadata": {
        "id": "view-in-github",
        "colab_type": "text"
      },
      "source": [
        "<a href=\"https://colab.research.google.com/github/ludawg44/jigsawlabs/blob/master/14Apr20_Machine%20Learning%20with%20a%20Library.ipynb\" target=\"_parent\"><img src=\"https://colab.research.google.com/assets/colab-badge.svg\" alt=\"Open In Colab\"/></a>"
      ]
    },
    {
      "cell_type": "markdown",
      "metadata": {
        "id": "BqlxOpDWM0QF",
        "colab_type": "text"
      },
      "source": [
        "# Machine Learning with a Library"
      ]
    },
    {
      "cell_type": "markdown",
      "metadata": {
        "id": "iah23JcpM0QG",
        "colab_type": "text"
      },
      "source": [
        "### Introduction"
      ]
    },
    {
      "cell_type": "markdown",
      "metadata": {
        "id": "CPNkSoZuM0QG",
        "colab_type": "text"
      },
      "source": [
        "In the last number of lessons, we have been built a simple linear regression machine learning.  We did so using the three components of any machine learning algorithm: first by building our hypothesis function, thena cost function to evaluate the hypothesis, and then fitting our model to our data.  Let's reveiew.\n",
        "\n",
        "1. Our **hypothesis function** was simply a line, or a function, that given an input predicted an output.  In our example of Tshirt sales, given an advertising budget, the function predicted a number of sales.  \n",
        "\n",
        "2. We **fit** the model by comparing our model against the actual data.  We do this by calculating the difference between our actual data and the value that our model predicts -- this difference is called the error.  Then we square each of those errors and add up the these squared errors.  \n",
        "\n",
        "3. Now we can **predict** new outputs with our fitted model.  For example, we could predict sales amounts for ad budgets that we never saw before."
      ]
    },
    {
      "cell_type": "markdown",
      "metadata": {
        "id": "5YX9JD7lM0QH",
        "colab_type": "text"
      },
      "source": [
        "### Using a machine learning library"
      ]
    },
    {
      "cell_type": "markdown",
      "metadata": {
        "id": "gENXE7F7M0QH",
        "colab_type": "text"
      },
      "source": [
        "Now wouldn't it be nice if, instead of writing these algorithms from scratch, we could use a tool to do these for us?  Well we can."
      ]
    },
    {
      "cell_type": "markdown",
      "metadata": {
        "id": "cTktc8qYM0QI",
        "colab_type": "text"
      },
      "source": [
        "Scikit learn is an excellent tool for running machine learning algorithms.  Let's get going."
      ]
    },
    {
      "cell_type": "markdown",
      "metadata": {
        "id": "xQMyybfTM0QI",
        "colab_type": "text"
      },
      "source": [
        "## Going through our three steps"
      ]
    },
    {
      "cell_type": "markdown",
      "metadata": {
        "id": "UNcH0gL-M0QI",
        "colab_type": "text"
      },
      "source": [
        "With the `sklearn` library we can follow our three step process of (1) creating an initial model, (2) fitting the model and (3) then using the parameters of the model to make new predictions."
      ]
    },
    {
      "cell_type": "markdown",
      "metadata": {
        "id": "jSPyUAZxM0QJ",
        "colab_type": "text"
      },
      "source": [
        "### 1. Creating an initial model"
      ]
    },
    {
      "cell_type": "markdown",
      "metadata": {
        "id": "NJkn5wUyM0QJ",
        "colab_type": "text"
      },
      "source": [
        "Now when working with scikitlearn we create an initial model by using the `LinearRegression` function from the scikitlearn library.\n",
        "\n",
        "So first we import the `LinearRegression` function."
      ]
    },
    {
      "cell_type": "code",
      "metadata": {
        "id": "RQMOcLZkM0QK",
        "colab_type": "code",
        "colab": {}
      },
      "source": [
        "from sklearn.linear_model import LinearRegression"
      ],
      "execution_count": 0,
      "outputs": []
    },
    {
      "cell_type": "markdown",
      "metadata": {
        "id": "ZE33XdM2M0QN",
        "colab_type": "text"
      },
      "source": [
        "And now we can create our initial model."
      ]
    },
    {
      "cell_type": "code",
      "metadata": {
        "id": "wr1FqjVgM0QO",
        "colab_type": "code",
        "colab": {}
      },
      "source": [
        "model = LinearRegression()"
      ],
      "execution_count": 0,
      "outputs": []
    },
    {
      "cell_type": "markdown",
      "metadata": {
        "id": "TLhZTH7LM0QQ",
        "colab_type": "text"
      },
      "source": [
        "This model is simply an instance of the linear regression class.  Right now, it has no knowledge of our past data."
      ]
    },
    {
      "cell_type": "code",
      "metadata": {
        "id": "4MrTNSeeM0QR",
        "colab_type": "code",
        "outputId": "7a966a9e-44ed-4821-9661-ba070c0844cd",
        "colab": {
          "base_uri": "https://localhost:8080/",
          "height": 35
        }
      },
      "source": [
        "model"
      ],
      "execution_count": 0,
      "outputs": [
        {
          "output_type": "execute_result",
          "data": {
            "text/plain": [
              "LinearRegression(copy_X=True, fit_intercept=True, n_jobs=None, normalize=False)"
            ]
          },
          "metadata": {
            "tags": []
          },
          "execution_count": 4
        }
      ]
    },
    {
      "cell_type": "markdown",
      "metadata": {
        "id": "unBICzvfM0QU",
        "colab_type": "text"
      },
      "source": [
        "So we were able to build an initial linear regression model two lines:\n",
        "\n",
        "```python\n",
        "from sklearn.linear_model import LinearRegression\n",
        "linear_regression = LinearRegression()\n",
        "```\n",
        "\n",
        "And now that we have an initial model, we are ready to move onto step 2: fitting our model to the data."
      ]
    },
    {
      "cell_type": "markdown",
      "metadata": {
        "id": "ainAa_U_M0QU",
        "colab_type": "text"
      },
      "source": [
        "### 2. Fit the model with the actual data"
      ]
    },
    {
      "cell_type": "markdown",
      "metadata": {
        "id": "LHGn_vJrM0QV",
        "colab_type": "text"
      },
      "source": [
        "Now that we have initialized our model with the code `linear_regression = LinearRegression()`, it is now time to pass through some data into this model so what we can fit the model.  In the last lesson, we saw how we can fit the model by choosing parameters that minimize the error of our function."
      ]
    },
    {
      "cell_type": "markdown",
      "metadata": {
        "id": "zX8R4EOmM0QV",
        "colab_type": "text"
      },
      "source": [
        "Here we do the same thing, and we do so by passing the data into our model, so that the linear regression model can then adjust the parameters to fit to this data."
      ]
    },
    {
      "cell_type": "markdown",
      "metadata": {
        "id": "dYcxEAEIM0QW",
        "colab_type": "text"
      },
      "source": [
        "| temperature        | actual customers           \n",
        "| ------------- |:-------------:| \n",
        "|    80       | 120 | \n",
        "|    65        | 100 | \n",
        "|    50        | 85 | \n",
        "|    70        | 100 | \n",
        "|    60        | 90 | \n"
      ]
    },
    {
      "cell_type": "markdown",
      "metadata": {
        "id": "YoQRq7zZM0QW",
        "colab_type": "text"
      },
      "source": [
        "Now remember that the temperatures are the inputs and that each temperature is used to explain the target value of cutomers.  Ok, so we may like to simply pass through these inputs and outputs as two lists to our model.  And out model has a `fit` method to do precisely that."
      ]
    },
    {
      "cell_type": "code",
      "metadata": {
        "id": "SHBlT-BVM0QW",
        "colab_type": "code",
        "colab": {}
      },
      "source": [
        "temperatures = [80, 65, 50, 70, 60]\n",
        "amounts = [120, 100, 85, 100, 90]"
      ],
      "execution_count": 0,
      "outputs": []
    },
    {
      "cell_type": "markdown",
      "metadata": {
        "id": "5qHhV0kzM0QZ",
        "colab_type": "text"
      },
      "source": [
        "However `scikitlearn` requires our input data to be in a specific format.  It wants us to organize the data associated with our features like so:"
      ]
    },
    {
      "cell_type": "code",
      "metadata": {
        "id": "k96Cd-iFM0Qa",
        "colab_type": "code",
        "colab": {}
      },
      "source": [
        "inputs = [[80], [65], [50], [70], [60]]"
      ],
      "execution_count": 0,
      "outputs": []
    },
    {
      "cell_type": "markdown",
      "metadata": {
        "id": "APe9MWC4M0Qb",
        "colab_type": "text"
      },
      "source": [
        "> The other way to accomplish this is with numpy."
      ]
    },
    {
      "cell_type": "code",
      "metadata": {
        "id": "0D_J-VTjM0Qc",
        "colab_type": "code",
        "outputId": "7d1d6052-39dd-4a4d-db82-56a5c48d99e9",
        "colab": {
          "base_uri": "https://localhost:8080/",
          "height": 104
        }
      },
      "source": [
        "import numpy as np\n",
        "temperatures = np.array([80, 65, 50, 70, 60])\n",
        "nested_temps = temperatures.reshape(5, -1)\n",
        "nested_temps"
      ],
      "execution_count": 0,
      "outputs": [
        {
          "output_type": "execute_result",
          "data": {
            "text/plain": [
              "array([[80],\n",
              "       [65],\n",
              "       [50],\n",
              "       [70],\n",
              "       [60]])"
            ]
          },
          "metadata": {
            "tags": []
          },
          "execution_count": 7
        }
      ]
    },
    {
      "cell_type": "markdown",
      "metadata": {
        "id": "93zQZEo1M0Qe",
        "colab_type": "text"
      },
      "source": [
        "> We'll explain why our input data needs to be in this format in a couple of lessons.  For now, let's just go with it."
      ]
    },
    {
      "cell_type": "markdown",
      "metadata": {
        "id": "n_4nR6gPM0Qf",
        "colab_type": "text"
      },
      "source": [
        "The output data can stay the same."
      ]
    },
    {
      "cell_type": "code",
      "metadata": {
        "id": "NkaU22DgM0Qf",
        "colab_type": "code",
        "colab": {}
      },
      "source": [
        "customers = [120, 100, 85, 100, 90]"
      ],
      "execution_count": 0,
      "outputs": []
    },
    {
      "cell_type": "markdown",
      "metadata": {
        "id": "iRVRilhMM0Qi",
        "colab_type": "text"
      },
      "source": [
        "Ok, now that we know the format for our data, the next thing to do is to fit our linear model to the data.  We do this by using the `fit` method on our linear model and passing through the data in the proper format."
      ]
    },
    {
      "cell_type": "code",
      "metadata": {
        "id": "zRUoBKAjM0Qi",
        "colab_type": "code",
        "outputId": "a37eaa62-3844-409d-c6e7-e2622fad4bd9",
        "colab": {
          "base_uri": "https://localhost:8080/",
          "height": 35
        }
      },
      "source": [
        "# nested list for the inputs\n",
        "inputs = [\n",
        "    [80], \n",
        "    [65], \n",
        "    [50], \n",
        "    [70], \n",
        "    [60]\n",
        "]\n",
        "\n",
        "# single list for the outputs\n",
        "outputs = [120, 100, 85, 100, 90]\n",
        "\n",
        "model.fit(inputs, outputs)"
      ],
      "execution_count": 0,
      "outputs": [
        {
          "output_type": "execute_result",
          "data": {
            "text/plain": [
              "LinearRegression(copy_X=True, fit_intercept=True, n_jobs=None, normalize=False)"
            ]
          },
          "metadata": {
            "tags": []
          },
          "execution_count": 9
        }
      ]
    },
    {
      "cell_type": "markdown",
      "metadata": {
        "id": "Xnc4hCgiM0Qk",
        "colab_type": "text"
      },
      "source": [
        "### 3. Viewing our trained model"
      ]
    },
    {
      "cell_type": "markdown",
      "metadata": {
        "id": "R98dDqnuM0Ql",
        "colab_type": "text"
      },
      "source": [
        "Believe it or not with that line there at the end, we have fit our model to our data.  Here we'll prove it.  Remember in our simple linear regression model we have two components: our intercept and our coefficient.  \n",
        "\n",
        "Let's start with our intercept."
      ]
    },
    {
      "cell_type": "code",
      "metadata": {
        "id": "BX9zZRYPM0Ql",
        "colab_type": "code",
        "outputId": "340647ce-ef1d-453f-8864-577729560170",
        "colab": {
          "base_uri": "https://localhost:8080/",
          "height": 35
        }
      },
      "source": [
        "model.intercept_\n",
        "# 24.25"
      ],
      "execution_count": 0,
      "outputs": [
        {
          "output_type": "execute_result",
          "data": {
            "text/plain": [
              "24.25000000000003"
            ]
          },
          "metadata": {
            "tags": []
          },
          "execution_count": 10
        }
      ]
    },
    {
      "cell_type": "markdown",
      "metadata": {
        "id": "6WqXhYFwM0Qn",
        "colab_type": "text"
      },
      "source": [
        "Now for our coefficient."
      ]
    },
    {
      "cell_type": "code",
      "metadata": {
        "id": "hQx0T0yEM0Qo",
        "colab_type": "code",
        "outputId": "535acd84-2b13-4c1d-e1c5-217da96e0a74",
        "colab": {
          "base_uri": "https://localhost:8080/",
          "height": 35
        }
      },
      "source": [
        "model.coef_\n"
      ],
      "execution_count": 0,
      "outputs": [
        {
          "output_type": "execute_result",
          "data": {
            "text/plain": [
              "array([1.15])"
            ]
          },
          "metadata": {
            "tags": []
          },
          "execution_count": 11
        }
      ]
    },
    {
      "cell_type": "markdown",
      "metadata": {
        "id": "RaudAYIJM0Qq",
        "colab_type": "text"
      },
      "source": [
        "Remember that these numbers fit into our general formula of $y = mx + b$ where our $m$ is our coefficient and $b$ is our intercept.  So really what we learned is that when we fit a model to our data, we found a best fit line of $y = 1.15x + 24.5 $. "
      ]
    },
    {
      "cell_type": "markdown",
      "metadata": {
        "id": "hpkwKNgCM0Qq",
        "colab_type": "text"
      },
      "source": [
        "Let's plot this our data and our line as we did previously."
      ]
    },
    {
      "cell_type": "code",
      "metadata": {
        "id": "R8O-D-JIM0Qq",
        "colab_type": "code",
        "outputId": "0fa9a28c-785d-4a13-bf9e-48882eef5f44",
        "colab": {
          "base_uri": "https://localhost:8080/",
          "height": 542
        }
      },
      "source": [
        "import plotly.graph_objects as go\n",
        "\n",
        "scatter_trace = go.Scatter(x = temperatures, y = outputs, name = 'observations', mode = 'markers')\n",
        "model_trace = go.Scatter(x = temperatures, y = 1.15*temperatures + 24.5,\n",
        "                         name = 'expected', mode = 'lines')\n",
        "\n",
        "layout = {'yaxis': {'title': 'customers'}, 'xaxis': {'title': 'temperature'}}\n",
        "go.Figure(data = [scatter_trace, model_trace], layout = layout)"
      ],
      "execution_count": 0,
      "outputs": [
        {
          "output_type": "display_data",
          "data": {
            "text/html": [
              "<html>\n",
              "<head><meta charset=\"utf-8\" /></head>\n",
              "<body>\n",
              "    <div>\n",
              "            <script src=\"https://cdnjs.cloudflare.com/ajax/libs/mathjax/2.7.5/MathJax.js?config=TeX-AMS-MML_SVG\"></script><script type=\"text/javascript\">if (window.MathJax) {MathJax.Hub.Config({SVG: {font: \"STIX-Web\"}});}</script>\n",
              "                <script type=\"text/javascript\">window.PlotlyConfig = {MathJaxConfig: 'local'};</script>\n",
              "        <script src=\"https://cdn.plot.ly/plotly-latest.min.js\"></script>    \n",
              "            <div id=\"03b83a4b-3b63-41bf-8dcb-310651186c2c\" class=\"plotly-graph-div\" style=\"height:525px; width:100%;\"></div>\n",
              "            <script type=\"text/javascript\">\n",
              "                \n",
              "                    window.PLOTLYENV=window.PLOTLYENV || {};\n",
              "                    \n",
              "                if (document.getElementById(\"03b83a4b-3b63-41bf-8dcb-310651186c2c\")) {\n",
              "                    Plotly.newPlot(\n",
              "                        '03b83a4b-3b63-41bf-8dcb-310651186c2c',\n",
              "                        [{\"mode\": \"markers\", \"name\": \"observations\", \"type\": \"scatter\", \"x\": [80, 65, 50, 70, 60], \"y\": [120, 100, 85, 100, 90]}, {\"mode\": \"lines\", \"name\": \"expected\", \"type\": \"scatter\", \"x\": [80, 65, 50, 70, 60], \"y\": [116.5, 99.25, 82.0, 105.0, 93.5]}],\n",
              "                        {\"template\": {\"data\": {\"bar\": [{\"error_x\": {\"color\": \"#2a3f5f\"}, \"error_y\": {\"color\": \"#2a3f5f\"}, \"marker\": {\"line\": {\"color\": \"#E5ECF6\", \"width\": 0.5}}, \"type\": \"bar\"}], \"barpolar\": [{\"marker\": {\"line\": {\"color\": \"#E5ECF6\", \"width\": 0.5}}, \"type\": \"barpolar\"}], \"carpet\": [{\"aaxis\": {\"endlinecolor\": \"#2a3f5f\", \"gridcolor\": \"white\", \"linecolor\": \"white\", \"minorgridcolor\": \"white\", \"startlinecolor\": \"#2a3f5f\"}, \"baxis\": {\"endlinecolor\": \"#2a3f5f\", \"gridcolor\": \"white\", \"linecolor\": \"white\", \"minorgridcolor\": \"white\", \"startlinecolor\": \"#2a3f5f\"}, \"type\": \"carpet\"}], \"choropleth\": [{\"colorbar\": {\"outlinewidth\": 0, \"ticks\": \"\"}, \"type\": \"choropleth\"}], \"contour\": [{\"colorbar\": {\"outlinewidth\": 0, \"ticks\": \"\"}, \"colorscale\": [[0.0, \"#0d0887\"], [0.1111111111111111, \"#46039f\"], [0.2222222222222222, \"#7201a8\"], [0.3333333333333333, \"#9c179e\"], [0.4444444444444444, \"#bd3786\"], [0.5555555555555556, \"#d8576b\"], [0.6666666666666666, \"#ed7953\"], [0.7777777777777778, \"#fb9f3a\"], [0.8888888888888888, \"#fdca26\"], [1.0, \"#f0f921\"]], \"type\": \"contour\"}], \"contourcarpet\": [{\"colorbar\": {\"outlinewidth\": 0, \"ticks\": \"\"}, \"type\": \"contourcarpet\"}], \"heatmap\": [{\"colorbar\": {\"outlinewidth\": 0, \"ticks\": \"\"}, \"colorscale\": [[0.0, \"#0d0887\"], [0.1111111111111111, \"#46039f\"], [0.2222222222222222, \"#7201a8\"], [0.3333333333333333, \"#9c179e\"], [0.4444444444444444, \"#bd3786\"], [0.5555555555555556, \"#d8576b\"], [0.6666666666666666, \"#ed7953\"], [0.7777777777777778, \"#fb9f3a\"], [0.8888888888888888, \"#fdca26\"], [1.0, \"#f0f921\"]], \"type\": \"heatmap\"}], \"heatmapgl\": [{\"colorbar\": {\"outlinewidth\": 0, \"ticks\": \"\"}, \"colorscale\": [[0.0, \"#0d0887\"], [0.1111111111111111, \"#46039f\"], [0.2222222222222222, \"#7201a8\"], [0.3333333333333333, \"#9c179e\"], [0.4444444444444444, \"#bd3786\"], [0.5555555555555556, \"#d8576b\"], [0.6666666666666666, \"#ed7953\"], [0.7777777777777778, \"#fb9f3a\"], [0.8888888888888888, \"#fdca26\"], [1.0, \"#f0f921\"]], \"type\": \"heatmapgl\"}], \"histogram\": [{\"marker\": {\"colorbar\": {\"outlinewidth\": 0, \"ticks\": \"\"}}, \"type\": \"histogram\"}], \"histogram2d\": [{\"colorbar\": {\"outlinewidth\": 0, \"ticks\": \"\"}, \"colorscale\": [[0.0, \"#0d0887\"], [0.1111111111111111, \"#46039f\"], [0.2222222222222222, \"#7201a8\"], [0.3333333333333333, \"#9c179e\"], [0.4444444444444444, \"#bd3786\"], [0.5555555555555556, \"#d8576b\"], [0.6666666666666666, \"#ed7953\"], [0.7777777777777778, \"#fb9f3a\"], [0.8888888888888888, \"#fdca26\"], [1.0, \"#f0f921\"]], \"type\": \"histogram2d\"}], \"histogram2dcontour\": [{\"colorbar\": {\"outlinewidth\": 0, \"ticks\": \"\"}, \"colorscale\": [[0.0, \"#0d0887\"], [0.1111111111111111, \"#46039f\"], [0.2222222222222222, \"#7201a8\"], [0.3333333333333333, \"#9c179e\"], [0.4444444444444444, \"#bd3786\"], [0.5555555555555556, \"#d8576b\"], [0.6666666666666666, \"#ed7953\"], [0.7777777777777778, \"#fb9f3a\"], [0.8888888888888888, \"#fdca26\"], [1.0, \"#f0f921\"]], \"type\": \"histogram2dcontour\"}], \"mesh3d\": [{\"colorbar\": {\"outlinewidth\": 0, \"ticks\": \"\"}, \"type\": \"mesh3d\"}], \"parcoords\": [{\"line\": {\"colorbar\": {\"outlinewidth\": 0, \"ticks\": \"\"}}, \"type\": \"parcoords\"}], \"pie\": [{\"automargin\": true, \"type\": \"pie\"}], \"scatter\": [{\"marker\": {\"colorbar\": {\"outlinewidth\": 0, \"ticks\": \"\"}}, \"type\": \"scatter\"}], \"scatter3d\": [{\"line\": {\"colorbar\": {\"outlinewidth\": 0, \"ticks\": \"\"}}, \"marker\": {\"colorbar\": {\"outlinewidth\": 0, \"ticks\": \"\"}}, \"type\": \"scatter3d\"}], \"scattercarpet\": [{\"marker\": {\"colorbar\": {\"outlinewidth\": 0, \"ticks\": \"\"}}, \"type\": \"scattercarpet\"}], \"scattergeo\": [{\"marker\": {\"colorbar\": {\"outlinewidth\": 0, \"ticks\": \"\"}}, \"type\": \"scattergeo\"}], \"scattergl\": [{\"marker\": {\"colorbar\": {\"outlinewidth\": 0, \"ticks\": \"\"}}, \"type\": \"scattergl\"}], \"scattermapbox\": [{\"marker\": {\"colorbar\": {\"outlinewidth\": 0, \"ticks\": \"\"}}, \"type\": \"scattermapbox\"}], \"scatterpolar\": [{\"marker\": {\"colorbar\": {\"outlinewidth\": 0, \"ticks\": \"\"}}, \"type\": \"scatterpolar\"}], \"scatterpolargl\": [{\"marker\": {\"colorbar\": {\"outlinewidth\": 0, \"ticks\": \"\"}}, \"type\": \"scatterpolargl\"}], \"scatterternary\": [{\"marker\": {\"colorbar\": {\"outlinewidth\": 0, \"ticks\": \"\"}}, \"type\": \"scatterternary\"}], \"surface\": [{\"colorbar\": {\"outlinewidth\": 0, \"ticks\": \"\"}, \"colorscale\": [[0.0, \"#0d0887\"], [0.1111111111111111, \"#46039f\"], [0.2222222222222222, \"#7201a8\"], [0.3333333333333333, \"#9c179e\"], [0.4444444444444444, \"#bd3786\"], [0.5555555555555556, \"#d8576b\"], [0.6666666666666666, \"#ed7953\"], [0.7777777777777778, \"#fb9f3a\"], [0.8888888888888888, \"#fdca26\"], [1.0, \"#f0f921\"]], \"type\": \"surface\"}], \"table\": [{\"cells\": {\"fill\": {\"color\": \"#EBF0F8\"}, \"line\": {\"color\": \"white\"}}, \"header\": {\"fill\": {\"color\": \"#C8D4E3\"}, \"line\": {\"color\": \"white\"}}, \"type\": \"table\"}]}, \"layout\": {\"annotationdefaults\": {\"arrowcolor\": \"#2a3f5f\", \"arrowhead\": 0, \"arrowwidth\": 1}, \"coloraxis\": {\"colorbar\": {\"outlinewidth\": 0, \"ticks\": \"\"}}, \"colorscale\": {\"diverging\": [[0, \"#8e0152\"], [0.1, \"#c51b7d\"], [0.2, \"#de77ae\"], [0.3, \"#f1b6da\"], [0.4, \"#fde0ef\"], [0.5, \"#f7f7f7\"], [0.6, \"#e6f5d0\"], [0.7, \"#b8e186\"], [0.8, \"#7fbc41\"], [0.9, \"#4d9221\"], [1, \"#276419\"]], \"sequential\": [[0.0, \"#0d0887\"], [0.1111111111111111, \"#46039f\"], [0.2222222222222222, \"#7201a8\"], [0.3333333333333333, \"#9c179e\"], [0.4444444444444444, \"#bd3786\"], [0.5555555555555556, \"#d8576b\"], [0.6666666666666666, \"#ed7953\"], [0.7777777777777778, \"#fb9f3a\"], [0.8888888888888888, \"#fdca26\"], [1.0, \"#f0f921\"]], \"sequentialminus\": [[0.0, \"#0d0887\"], [0.1111111111111111, \"#46039f\"], [0.2222222222222222, \"#7201a8\"], [0.3333333333333333, \"#9c179e\"], [0.4444444444444444, \"#bd3786\"], [0.5555555555555556, \"#d8576b\"], [0.6666666666666666, \"#ed7953\"], [0.7777777777777778, \"#fb9f3a\"], [0.8888888888888888, \"#fdca26\"], [1.0, \"#f0f921\"]]}, \"colorway\": [\"#636efa\", \"#EF553B\", \"#00cc96\", \"#ab63fa\", \"#FFA15A\", \"#19d3f3\", \"#FF6692\", \"#B6E880\", \"#FF97FF\", \"#FECB52\"], \"font\": {\"color\": \"#2a3f5f\"}, \"geo\": {\"bgcolor\": \"white\", \"lakecolor\": \"white\", \"landcolor\": \"#E5ECF6\", \"showlakes\": true, \"showland\": true, \"subunitcolor\": \"white\"}, \"hoverlabel\": {\"align\": \"left\"}, \"hovermode\": \"closest\", \"mapbox\": {\"style\": \"light\"}, \"paper_bgcolor\": \"white\", \"plot_bgcolor\": \"#E5ECF6\", \"polar\": {\"angularaxis\": {\"gridcolor\": \"white\", \"linecolor\": \"white\", \"ticks\": \"\"}, \"bgcolor\": \"#E5ECF6\", \"radialaxis\": {\"gridcolor\": \"white\", \"linecolor\": \"white\", \"ticks\": \"\"}}, \"scene\": {\"xaxis\": {\"backgroundcolor\": \"#E5ECF6\", \"gridcolor\": \"white\", \"gridwidth\": 2, \"linecolor\": \"white\", \"showbackground\": true, \"ticks\": \"\", \"zerolinecolor\": \"white\"}, \"yaxis\": {\"backgroundcolor\": \"#E5ECF6\", \"gridcolor\": \"white\", \"gridwidth\": 2, \"linecolor\": \"white\", \"showbackground\": true, \"ticks\": \"\", \"zerolinecolor\": \"white\"}, \"zaxis\": {\"backgroundcolor\": \"#E5ECF6\", \"gridcolor\": \"white\", \"gridwidth\": 2, \"linecolor\": \"white\", \"showbackground\": true, \"ticks\": \"\", \"zerolinecolor\": \"white\"}}, \"shapedefaults\": {\"line\": {\"color\": \"#2a3f5f\"}}, \"ternary\": {\"aaxis\": {\"gridcolor\": \"white\", \"linecolor\": \"white\", \"ticks\": \"\"}, \"baxis\": {\"gridcolor\": \"white\", \"linecolor\": \"white\", \"ticks\": \"\"}, \"bgcolor\": \"#E5ECF6\", \"caxis\": {\"gridcolor\": \"white\", \"linecolor\": \"white\", \"ticks\": \"\"}}, \"title\": {\"x\": 0.05}, \"xaxis\": {\"automargin\": true, \"gridcolor\": \"white\", \"linecolor\": \"white\", \"ticks\": \"\", \"title\": {\"standoff\": 15}, \"zerolinecolor\": \"white\", \"zerolinewidth\": 2}, \"yaxis\": {\"automargin\": true, \"gridcolor\": \"white\", \"linecolor\": \"white\", \"ticks\": \"\", \"title\": {\"standoff\": 15}, \"zerolinecolor\": \"white\", \"zerolinewidth\": 2}}}, \"xaxis\": {\"title\": {\"text\": \"temperature\"}}, \"yaxis\": {\"title\": {\"text\": \"customers\"}}},\n",
              "                        {\"responsive\": true}\n",
              "                    ).then(function(){\n",
              "                            \n",
              "var gd = document.getElementById('03b83a4b-3b63-41bf-8dcb-310651186c2c');\n",
              "var x = new MutationObserver(function (mutations, observer) {{\n",
              "        var display = window.getComputedStyle(gd).display;\n",
              "        if (!display || display === 'none') {{\n",
              "            console.log([gd, 'removed!']);\n",
              "            Plotly.purge(gd);\n",
              "            observer.disconnect();\n",
              "        }}\n",
              "}});\n",
              "\n",
              "// Listen for the removal of the full notebook cells\n",
              "var notebookContainer = gd.closest('#notebook-container');\n",
              "if (notebookContainer) {{\n",
              "    x.observe(notebookContainer, {childList: true});\n",
              "}}\n",
              "\n",
              "// Listen for the clearing of the current output cell\n",
              "var outputEl = gd.closest('.output');\n",
              "if (outputEl) {{\n",
              "    x.observe(outputEl, {childList: true});\n",
              "}}\n",
              "\n",
              "                        })\n",
              "                };\n",
              "                \n",
              "            </script>\n",
              "        </div>\n",
              "</body>\n",
              "</html>"
            ]
          },
          "metadata": {
            "tags": []
          }
        }
      ]
    },
    {
      "cell_type": "markdown",
      "metadata": {
        "id": "IRDhMcFyM0Qt",
        "colab_type": "text"
      },
      "source": [
        "It looks like our model did a pretty good job."
      ]
    },
    {
      "cell_type": "markdown",
      "metadata": {
        "id": "jEoop3jWM0Qt",
        "colab_type": "text"
      },
      "source": [
        "### 4. Predicting new distances"
      ]
    },
    {
      "cell_type": "markdown",
      "metadata": {
        "id": "3UXpScL8M0Qu",
        "colab_type": "text"
      },
      "source": [
        "Now to plot the line above, what we did was to plug in different values into our formula, and then plot this as a line."
      ]
    },
    {
      "cell_type": "code",
      "metadata": {
        "id": "-auhRUo0M0Qv",
        "colab_type": "code",
        "outputId": "148b4603-d3da-4476-a050-931ad69a61cf",
        "colab": {
          "base_uri": "https://localhost:8080/",
          "height": 35
        }
      },
      "source": [
        "predicted_amounts = 1.15*temperatures + 24.5\n",
        "\n",
        "predicted_amounts\n",
        "# array([116.5 ,  99.25,  82.  , 105.  ,  93.5 ])\n"
      ],
      "execution_count": 0,
      "outputs": [
        {
          "output_type": "execute_result",
          "data": {
            "text/plain": [
              "array([116.5 ,  99.25,  82.  , 105.  ,  93.5 ])"
            ]
          },
          "metadata": {
            "tags": []
          },
          "execution_count": 13
        }
      ]
    },
    {
      "cell_type": "markdown",
      "metadata": {
        "id": "zcIiDUIuM0Qx",
        "colab_type": "text"
      },
      "source": [
        "Not bad at all.  Of course, `scikitlearn` has a built in method that allows us to see the outputs of our model.  We can pass through the temperatures we would like predictions for.  Once again we use a nested list for our inputs."
      ]
    },
    {
      "cell_type": "code",
      "metadata": {
        "id": "vOagqNl0M0Qx",
        "colab_type": "code",
        "outputId": "588674b5-eefc-4552-bd60-9ee63d8c7552",
        "colab": {
          "base_uri": "https://localhost:8080/",
          "height": 35
        }
      },
      "source": [
        "inputs = [\n",
        "    [80],\n",
        "    [65],\n",
        "    [50],\n",
        "    [70],\n",
        "    [60]\n",
        "]\n",
        "\n",
        "model.predict(inputs)"
      ],
      "execution_count": 0,
      "outputs": [
        {
          "output_type": "execute_result",
          "data": {
            "text/plain": [
              "array([116.25,  99.  ,  81.75, 104.75,  93.25])"
            ]
          },
          "metadata": {
            "tags": []
          },
          "execution_count": 14
        }
      ]
    },
    {
      "cell_type": "markdown",
      "metadata": {
        "id": "d_CxJFBaM0Q-",
        "colab_type": "text"
      },
      "source": [
        "And notice that our predictions match what we calculated by hand above.  And we can pass through whichever inputs we like and our trained model will predict the customers for us.  For example, say we see the forecase for next week has temperatures of 92, 87 and 89 degrees.  Let's see how many customers we can expect."
      ]
    },
    {
      "cell_type": "code",
      "metadata": {
        "id": "s7d6j4K9M0Q_",
        "colab_type": "code",
        "outputId": "7068783f-1d7c-4e77-9c62-2c07abe2d09c",
        "colab": {
          "base_uri": "https://localhost:8080/",
          "height": 35
        }
      },
      "source": [
        "inputs = [\n",
        "    [92],\n",
        "    [87],\n",
        "    [89]\n",
        "]\n",
        "\n",
        "model.predict(inputs)"
      ],
      "execution_count": 0,
      "outputs": [
        {
          "output_type": "execute_result",
          "data": {
            "text/plain": [
              "array([130.05, 124.3 , 126.6 ])"
            ]
          },
          "metadata": {
            "tags": []
          },
          "execution_count": 17
        }
      ]
    },
    {
      "cell_type": "markdown",
      "metadata": {
        "id": "YP6hqbbfM0RB",
        "colab_type": "text"
      },
      "source": [
        "### Summary"
      ]
    },
    {
      "cell_type": "markdown",
      "metadata": {
        "id": "0Bvnu-smM0RC",
        "colab_type": "text"
      },
      "source": [
        "In this lesson, we saw how to use the scikitlearn library to fit a machine learning model and make new predictions with our fitted model. \n",
        "\n"
      ]
    },
    {
      "cell_type": "markdown",
      "metadata": {
        "id": "i8TagcPIM0RC",
        "colab_type": "text"
      },
      "source": [
        "We do so using similar steps to what we saw in our introduction to machine learning lesson.\n",
        "\n",
        "1. Create an initial model\n",
        "2. Fit the model to data\n",
        "3. Use the fitted model to make new predictions\n",
        "\n",
        "We can translate these steps into code with the following:"
      ]
    },
    {
      "cell_type": "code",
      "metadata": {
        "id": "3VqdZU1FM0RD",
        "colab_type": "code",
        "outputId": "158882e9-94b7-4e9b-a4a7-b1557caa8310",
        "colab": {}
      },
      "source": [
        "# import libraries\n",
        "import sklearn\n",
        "from sklearn.linear_model import LinearRegression\n",
        "\n",
        "# 1. Create an initial model\n",
        "linear_regression = LinearRegression()\n",
        "\n",
        "# 2. Fit the model to data\n",
        "linear_regression.fit(inputs, outputs)\n",
        "\n",
        "# 3. Use the fitted model to make new predictions\n",
        "linear_regression.predict(inputs)"
      ],
      "execution_count": 0,
      "outputs": [
        {
          "output_type": "execute_result",
          "data": {
            "text/plain": [
              "array([116.25,  99.  ,  81.75, 104.75,  93.25])"
            ]
          },
          "metadata": {
            "tags": []
          },
          "execution_count": 29
        }
      ]
    },
    {
      "cell_type": "markdown",
      "metadata": {
        "id": "g9LV1Li8M0RJ",
        "colab_type": "text"
      },
      "source": [
        "The other thing to remember is that if we want to see the numbers behind these new predictions, we can see them by calling the corresponding methods."
      ]
    },
    {
      "cell_type": "code",
      "metadata": {
        "id": "CaZ634ulM0RK",
        "colab_type": "code",
        "outputId": "fba7f62c-4a2d-4329-ef4e-79e2db89ddb9",
        "colab": {}
      },
      "source": [
        "linear_regression.coef_"
      ],
      "execution_count": 0,
      "outputs": [
        {
          "output_type": "execute_result",
          "data": {
            "text/plain": [
              "array([1.15])"
            ]
          },
          "metadata": {
            "tags": []
          },
          "execution_count": 30
        }
      ]
    },
    {
      "cell_type": "code",
      "metadata": {
        "id": "eFp-UbznM0RN",
        "colab_type": "code",
        "outputId": "92067405-ca3b-40ae-f3bd-4f5f675e6812",
        "colab": {}
      },
      "source": [
        "linear_regression.intercept_"
      ],
      "execution_count": 0,
      "outputs": [
        {
          "output_type": "execute_result",
          "data": {
            "text/plain": [
              "24.25"
            ]
          },
          "metadata": {
            "tags": []
          },
          "execution_count": 31
        }
      ]
    }
  ]
}