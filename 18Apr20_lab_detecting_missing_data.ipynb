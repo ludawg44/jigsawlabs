{
  "nbformat": 4,
  "nbformat_minor": 0,
  "metadata": {
    "kernelspec": {
      "display_name": "Python 3",
      "language": "python",
      "name": "python3"
    },
    "language_info": {
      "codemirror_mode": {
        "name": "ipython",
        "version": 3
      },
      "file_extension": ".py",
      "mimetype": "text/x-python",
      "name": "python",
      "nbconvert_exporter": "python",
      "pygments_lexer": "ipython3",
      "version": "3.7.4"
    },
    "colab": {
      "name": "Copy of lab-detecting-missing-data.ipynb",
      "provenance": [],
      "include_colab_link": true
    }
  },
  "cells": [
    {
      "cell_type": "markdown",
      "metadata": {
        "id": "view-in-github",
        "colab_type": "text"
      },
      "source": [
        "<a href=\"https://colab.research.google.com/github/ludawg44/jigsawlabs/blob/master/18Apr20_lab_detecting_missing_data.ipynb\" target=\"_parent\"><img src=\"https://colab.research.google.com/assets/colab-badge.svg\" alt=\"Open In Colab\"/></a>"
      ]
    },
    {
      "cell_type": "markdown",
      "metadata": {
        "id": "aLi1s8wKLztM",
        "colab_type": "text"
      },
      "source": [
        "# Detecting Missing Data Lab"
      ]
    },
    {
      "cell_type": "markdown",
      "metadata": {
        "id": "u0yMj1HzLztN",
        "colab_type": "text"
      },
      "source": [
        "## Introduction\n",
        "We just learned that one of the first problems a data scientist faces when working with a new data set is missing data. This can occur for various reasons, but it is important we determine at the outset of our data exploration process, which of our features have missing values. In the exercises below, you'll practice using some of the methods available to detect missing values."
      ]
    },
    {
      "cell_type": "markdown",
      "metadata": {
        "id": "tUi9qW-MLztO",
        "colab_type": "text"
      },
      "source": [
        "### King County House Sales\n",
        "For this lab, we will continue using the King County house sales dataset. Below, load the required libraries and populate a dataframe with the data included in the csv titled \"kc_house_data_missing_values.csv\"."
      ]
    },
    {
      "cell_type": "code",
      "metadata": {
        "id": "0eFv6QYPLztO",
        "colab_type": "code",
        "colab": {}
      },
      "source": [
        "import pandas as pd\n",
        "import numpy as np\n",
        "import matplotlib.pyplot as plt\n",
        "%matplotlib inline"
      ],
      "execution_count": 0,
      "outputs": []
    },
    {
      "cell_type": "code",
      "metadata": {
        "id": "_ocP212ILztT",
        "colab_type": "code",
        "colab": {}
      },
      "source": [
        "#Create the dataframe\n",
        "url = \"https://raw.githubusercontent.com/jigsawlabs-student/feature-engineering/master/2-detecting-missing-data-lab/kc_house_data_missing_values.csv\"\n",
        "df = pd.read_csv(url)"
      ],
      "execution_count": 0,
      "outputs": []
    },
    {
      "cell_type": "code",
      "metadata": {
        "id": "ZoopY54SLztW",
        "colab_type": "code",
        "outputId": "e7129883-fca2-4d91-ffcb-77e4fadfb71c",
        "colab": {
          "base_uri": "https://localhost:8080/",
          "height": 204
        }
      },
      "source": [
        "#print the first 5 rows of the dataframe\n",
        "df.head()"
      ],
      "execution_count": 0,
      "outputs": [
        {
          "output_type": "execute_result",
          "data": {
            "text/html": [
              "<div>\n",
              "<style scoped>\n",
              "    .dataframe tbody tr th:only-of-type {\n",
              "        vertical-align: middle;\n",
              "    }\n",
              "\n",
              "    .dataframe tbody tr th {\n",
              "        vertical-align: top;\n",
              "    }\n",
              "\n",
              "    .dataframe thead th {\n",
              "        text-align: right;\n",
              "    }\n",
              "</style>\n",
              "<table border=\"1\" class=\"dataframe\">\n",
              "  <thead>\n",
              "    <tr style=\"text-align: right;\">\n",
              "      <th></th>\n",
              "      <th>id</th>\n",
              "      <th>date</th>\n",
              "      <th>price</th>\n",
              "      <th>bedrooms</th>\n",
              "      <th>bathrooms</th>\n",
              "      <th>sqft_living</th>\n",
              "      <th>floors</th>\n",
              "    </tr>\n",
              "  </thead>\n",
              "  <tbody>\n",
              "    <tr>\n",
              "      <th>0</th>\n",
              "      <td>6414100192</td>\n",
              "      <td>December 09, 2014</td>\n",
              "      <td>538000.0</td>\n",
              "      <td>3</td>\n",
              "      <td>2.25</td>\n",
              "      <td>2570</td>\n",
              "      <td>2.0</td>\n",
              "    </tr>\n",
              "    <tr>\n",
              "      <th>1</th>\n",
              "      <td>2487200875</td>\n",
              "      <td>December 09, 2014</td>\n",
              "      <td>604000.0</td>\n",
              "      <td>4</td>\n",
              "      <td>3.00</td>\n",
              "      <td>1960</td>\n",
              "      <td>1.0</td>\n",
              "    </tr>\n",
              "    <tr>\n",
              "      <th>2</th>\n",
              "      <td>1954400510</td>\n",
              "      <td>February 18, 2015</td>\n",
              "      <td>510000.0</td>\n",
              "      <td>3</td>\n",
              "      <td>2.00</td>\n",
              "      <td>1680</td>\n",
              "      <td>1.0</td>\n",
              "    </tr>\n",
              "    <tr>\n",
              "      <th>3</th>\n",
              "      <td>1736800520</td>\n",
              "      <td>April 03, 2015</td>\n",
              "      <td>662500.0</td>\n",
              "      <td>3</td>\n",
              "      <td>2.50</td>\n",
              "      <td>3560</td>\n",
              "      <td>1.0</td>\n",
              "    </tr>\n",
              "    <tr>\n",
              "      <th>4</th>\n",
              "      <td>1175000570</td>\n",
              "      <td>March 12, 2015</td>\n",
              "      <td>530000.0</td>\n",
              "      <td>5</td>\n",
              "      <td>2.00</td>\n",
              "      <td>1810</td>\n",
              "      <td>1.5</td>\n",
              "    </tr>\n",
              "  </tbody>\n",
              "</table>\n",
              "</div>"
            ],
            "text/plain": [
              "           id               date     price  ...  bathrooms  sqft_living  floors\n",
              "0  6414100192  December 09, 2014  538000.0  ...       2.25         2570     2.0\n",
              "1  2487200875  December 09, 2014  604000.0  ...       3.00         1960     1.0\n",
              "2  1954400510  February 18, 2015  510000.0  ...       2.00         1680     1.0\n",
              "3  1736800520     April 03, 2015  662500.0  ...       2.50         3560     1.0\n",
              "4  1175000570     March 12, 2015  530000.0  ...       2.00         1810     1.5\n",
              "\n",
              "[5 rows x 7 columns]"
            ]
          },
          "metadata": {
            "tags": []
          },
          "execution_count": 3
        }
      ]
    },
    {
      "cell_type": "code",
      "metadata": {
        "id": "wox3Tz5aLztY",
        "colab_type": "code",
        "outputId": "127aedb6-5d6f-4e61-aed5-b273087e0b0b",
        "colab": {
          "base_uri": "https://localhost:8080/",
          "height": 153
        }
      },
      "source": [
        "#print the list of features and their data types\n",
        "df.dtypes"
      ],
      "execution_count": 0,
      "outputs": [
        {
          "output_type": "execute_result",
          "data": {
            "text/plain": [
              "id               int64\n",
              "date            object\n",
              "price          float64\n",
              "bedrooms         int64\n",
              "bathrooms      float64\n",
              "sqft_living      int64\n",
              "floors         float64\n",
              "dtype: object"
            ]
          },
          "metadata": {
            "tags": []
          },
          "execution_count": 4
        }
      ]
    },
    {
      "cell_type": "markdown",
      "metadata": {
        "id": "7mi8N_IwLzta",
        "colab_type": "text"
      },
      "source": [
        "Our dataset includes data types integers, strings, and floats. Lets start looking for missing values using the pandas `.isna()` method"
      ]
    },
    {
      "cell_type": "code",
      "metadata": {
        "id": "VX7_G9-CLztb",
        "colab_type": "code",
        "outputId": "6c7f505c-52d7-47af-fa93-085a4c78cc24",
        "colab": {
          "base_uri": "https://localhost:8080/",
          "height": 153
        }
      },
      "source": [
        "#return a count of NaN values in each column\n",
        "df.isna().sum()"
      ],
      "execution_count": 0,
      "outputs": [
        {
          "output_type": "execute_result",
          "data": {
            "text/plain": [
              "id              0\n",
              "date            0\n",
              "price           0\n",
              "bedrooms        0\n",
              "bathrooms       0\n",
              "sqft_living     0\n",
              "floors         78\n",
              "dtype: int64"
            ]
          },
          "metadata": {
            "tags": []
          },
          "execution_count": 5
        }
      ]
    },
    {
      "cell_type": "markdown",
      "metadata": {
        "id": "YC8-HX2_Lztd",
        "colab_type": "text"
      },
      "source": [
        "Using the `.isna` method revealed that we have 78 null values in the floors column. Even though the other features have 0 nulls, they still may exist in other forms not detected by this method. In the next cell, lets use the outlier method to see if there are any unusual values in the price column."
      ]
    },
    {
      "cell_type": "code",
      "metadata": {
        "id": "id74B7L8Lzte",
        "colab_type": "code",
        "outputId": "47c0cd4e-3032-437b-9a20-d4ef75d78118",
        "colab": {
          "base_uri": "https://localhost:8080/",
          "height": 295
        }
      },
      "source": [
        "#plot a histogram of the price feature\n",
        "df.price.hist()"
      ],
      "execution_count": 0,
      "outputs": [
        {
          "output_type": "execute_result",
          "data": {
            "text/plain": [
              "<matplotlib.axes._subplots.AxesSubplot at 0x7f370a427048>"
            ]
          },
          "metadata": {
            "tags": []
          },
          "execution_count": 6
        },
        {
          "output_type": "display_data",
          "data": {
            "image/png": "[encoded data removed]",
            "text/plain": [
              "<Figure size 432x288 with 1 Axes>"
            ]
          },
          "metadata": {
            "tags": [],
            "needs_background": "light"
          }
        }
      ]
    },
    {
      "cell_type": "code",
      "metadata": {
        "id": "PmD7ZSnsNOg9",
        "colab_type": "code",
        "outputId": "fe1eda72-d7dd-4d36-fe6b-4cb6ee6bd200",
        "colab": {
          "base_uri": "https://localhost:8080/",
          "height": 34
        }
      },
      "source": [
        "df.price.mean()"
      ],
      "execution_count": 0,
      "outputs": [
        {
          "output_type": "execute_result",
          "data": {
            "text/plain": [
              "671048.1620155039"
            ]
          },
          "metadata": {
            "tags": []
          },
          "execution_count": 7
        }
      ]
    },
    {
      "cell_type": "markdown",
      "metadata": {
        "id": "qi15kTP4Lztg",
        "colab_type": "text"
      },
      "source": [
        "In the histogram above, almost all of the price values fall in the 400,000 to 1,000,000 range. However, there are a few observations where price seems to be equal to 0 or slightly greater than 0. Since our data is referring to house prices, and we can assume that a house won't be sold for 0 dollars, lets use booleans and `.value_counts` in the cell below to see the number of observations with 0 in the price column"
      ]
    },
    {
      "cell_type": "code",
      "metadata": {
        "id": "q0KX-WDDLztg",
        "colab_type": "code",
        "outputId": "3d55e3f8-6d77-4346-8850-fd9922b98849",
        "colab": {
          "base_uri": "https://localhost:8080/",
          "height": 34
        }
      },
      "source": [
        "df.price.value_counts().loc[0]"
      ],
      "execution_count": 0,
      "outputs": [
        {
          "output_type": "execute_result",
          "data": {
            "text/plain": [
              "46"
            ]
          },
          "metadata": {
            "tags": []
          },
          "execution_count": 9
        }
      ]
    },
    {
      "cell_type": "markdown",
      "metadata": {
        "id": "T_bWGULjLztj",
        "colab_type": "text"
      },
      "source": [
        "For this last exercise, lets look at the date column. At the beginning of the lab we determined that this column has a data type of string. Use `.eq` and `.any` to pull up all rows with empty strings."
      ]
    },
    {
      "cell_type": "code",
      "metadata": {
        "id": "wTIr1KyOLztj",
        "colab_type": "code",
        "outputId": "1f112d26-a5ef-4bcc-dc63-0464fc75186b",
        "colab": {
          "base_uri": "https://localhost:8080/",
          "height": 34
        }
      },
      "source": [
        "df.date.eq('').sum()"
      ],
      "execution_count": 0,
      "outputs": [
        {
          "output_type": "execute_result",
          "data": {
            "text/plain": [
              "0"
            ]
          },
          "metadata": {
            "tags": []
          },
          "execution_count": 18
        }
      ]
    },
    {
      "cell_type": "markdown",
      "metadata": {
        "id": "BdbOW63ULztm",
        "colab_type": "text"
      },
      "source": [
        "## Conclusion\n",
        "There are numerous ways to find the missing values in our data. In this lab we practiced using a few methods to find those values, including Pandas' `.isna` method, histograms, and booleans."
      ]
    }
  ]
}