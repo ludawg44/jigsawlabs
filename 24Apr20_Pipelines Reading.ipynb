{
  "nbformat": 4,
  "nbformat_minor": 0,
  "metadata": {
    "kernelspec": {
      "display_name": "Python 3",
      "language": "python",
      "name": "python3"
    },
    "language_info": {
      "codemirror_mode": {
        "name": "ipython",
        "version": 3
      },
      "file_extension": ".py",
      "mimetype": "text/x-python",
      "name": "python",
      "nbconvert_exporter": "python",
      "pygments_lexer": "ipython3",
      "version": "3.7.4"
    },
    "colab": {
      "name": "Copy of 2-pipelines.ipynb",
      "provenance": [],
      "include_colab_link": true
    }
  },
  "cells": [
    {
      "cell_type": "markdown",
      "metadata": {
        "id": "view-in-github",
        "colab_type": "text"
      },
      "source": [
        "<a href=\"https://colab.research.google.com/github/ludawg44/jigsawlabs/blob/master/24Apr20_Pipelines%20Reading.ipynb\" target=\"_parent\"><img src=\"https://colab.research.google.com/assets/colab-badge.svg\" alt=\"Open In Colab\"/></a>"
      ]
    },
    {
      "cell_type": "markdown",
      "metadata": {
        "id": "fSbwOUcAMNZy",
        "colab_type": "text"
      },
      "source": [
        "# Introduction to Pipelines"
      ]
    },
    {
      "cell_type": "markdown",
      "metadata": {
        "id": "BsB4Rub2MNZz",
        "colab_type": "text"
      },
      "source": [
        "### Introduction\n",
        "\n",
        "In this lesson, we'll learn about Sklearn pipelines.  As we'll see, pipelines allow us to write code that executes a procedure of transformers on our data."
      ]
    },
    {
      "cell_type": "markdown",
      "metadata": {
        "id": "CaSNc5oHMNZ0",
        "colab_type": "text"
      },
      "source": [
        "### Loading our Data"
      ]
    },
    {
      "cell_type": "markdown",
      "metadata": {
        "id": "7LPLroHWMNZ0",
        "colab_type": "text"
      },
      "source": [
        "First let's load up our data."
      ]
    },
    {
      "cell_type": "code",
      "metadata": {
        "id": "0C8-I3syMNZ1",
        "colab_type": "code",
        "colab": {}
      },
      "source": [
        "import pandas as pd\n",
        "url = \"https://raw.githubusercontent.com/jigsawlabs-student/pipelines-and-transformers/master/nyc_hs_sat.csv\"\n",
        "hs_df = pd.read_csv(url, index_col = 0)"
      ],
      "execution_count": 0,
      "outputs": []
    },
    {
      "cell_type": "code",
      "metadata": {
        "id": "QFzVclTRMNZ5",
        "colab_type": "code",
        "outputId": "448c2250-81f1-4dfc-c360-e9c214ced28f",
        "colab": {}
      },
      "source": [
        "hs_df.info()"
      ],
      "execution_count": 0,
      "outputs": [
        {
          "output_type": "stream",
          "text": [
            "<class 'pandas.core.frame.DataFrame'>\n",
            "Int64Index: 356 entries, 0 to 355\n",
            "Data columns (total 11 columns):\n",
            "dbn                    356 non-null object\n",
            "name                   356 non-null object\n",
            "num_test_takers        327 non-null float64\n",
            "reading_avg            327 non-null float64\n",
            "math_avg               327 non-null float64\n",
            "writing_score          327 non-null float64\n",
            "boro                   356 non-null object\n",
            "total_students         356 non-null int64\n",
            "graduation_rate        351 non-null float64\n",
            "attendance_rate        356 non-null float64\n",
            "college_career_rate    351 non-null float64\n",
            "dtypes: float64(7), int64(1), object(3)\n",
            "memory usage: 33.4+ KB\n"
          ],
          "name": "stdout"
        }
      ]
    },
    {
      "cell_type": "markdown",
      "metadata": {
        "id": "jMOq88aNMNZ8",
        "colab_type": "text"
      },
      "source": [
        "### Transformers and Pipelines"
      ]
    },
    {
      "cell_type": "markdown",
      "metadata": {
        "id": "UU1YvBHPMNZ9",
        "colab_type": "text"
      },
      "source": [
        "Now this time, let's use transformers with our pipelines.  Pipelines are useful because they condense the transformations that we make to our data.  And they allow us to apply the same transformations to new arrays."
      ]
    },
    {
      "cell_type": "markdown",
      "metadata": {
        "id": "-BdKviDVMNZ9",
        "colab_type": "text"
      },
      "source": [
        "For example, let's say that we want to replace our null values with the mean and then translate our values into the respective z-scores.\n",
        "\n",
        "We can do so with a pipeline."
      ]
    },
    {
      "cell_type": "code",
      "metadata": {
        "id": "qxuREN38MNZ9",
        "colab_type": "code",
        "colab": {}
      },
      "source": [
        "from sklearn.pipeline import Pipeline"
      ],
      "execution_count": 0,
      "outputs": []
    },
    {
      "cell_type": "markdown",
      "metadata": {
        "id": "cmWNZehHMNZ_",
        "colab_type": "text"
      },
      "source": [
        "We first import the `Pipeline` class from the `pipeline` module.  \n",
        "\n",
        "Then we initialize a new `Pipeline` instance, specifying the transformations that we would like to make to our data.\n",
        "\n",
        "> Here we'll just focus on transforming one column of data."
      ]
    },
    {
      "cell_type": "code",
      "metadata": {
        "id": "vU2JpiJnMNaA",
        "colab_type": "code",
        "colab": {}
      },
      "source": [
        "from sklearn.pipeline import Pipeline\n",
        "from sklearn.preprocessing import StandardScaler\n",
        "from sklearn.impute import SimpleImputer"
      ],
      "execution_count": 0,
      "outputs": []
    },
    {
      "cell_type": "code",
      "metadata": {
        "id": "IPz0r9--MNaC",
        "colab_type": "code",
        "colab": {}
      },
      "source": [
        "pipeline = Pipeline(steps = [\n",
        "    ('impute', SimpleImputer()),\n",
        "    ('standardize', StandardScaler()),\n",
        "])"
      ],
      "execution_count": 0,
      "outputs": []
    },
    {
      "cell_type": "markdown",
      "metadata": {
        "id": "D7eVFBElMNaE",
        "colab_type": "text"
      },
      "source": [
        "Let's break down what we did above."
      ]
    },
    {
      "cell_type": "markdown",
      "metadata": {
        "id": "S19McEMDMNaE",
        "colab_type": "text"
      },
      "source": [
        "We pass `Pipeline` the keyword argument `steps`, which takes a list of steps.  Each step is represented as a tuple: \n",
        "\n",
        "```python\n",
        "('impute', SimpleImputer())\n",
        "```"
      ]
    },
    {
      "cell_type": "markdown",
      "metadata": {
        "id": "ESnD6MieMNaF",
        "colab_type": "text"
      },
      "source": [
        "The first element of the tuple is a name that we assign the step, and then second element is an instance of the transformer that we would like to apply.\n",
        "\n",
        "> We can name the step whatever we prefer."
      ]
    },
    {
      "cell_type": "markdown",
      "metadata": {
        "id": "BX0EvkruMNaF",
        "colab_type": "text"
      },
      "source": [
        "Once we initialize the pipeline, we can then examine the steps with the `named_steps` method."
      ]
    },
    {
      "cell_type": "code",
      "metadata": {
        "id": "aM6YK1trMNaG",
        "colab_type": "code",
        "outputId": "5c4a1fa2-ab2e-48c9-bf1a-d22492f00074",
        "colab": {}
      },
      "source": [
        "pipeline.named_steps"
      ],
      "execution_count": 0,
      "outputs": [
        {
          "output_type": "execute_result",
          "data": {
            "text/plain": [
              "{'impute': SimpleImputer(add_indicator=False, copy=True, fill_value=None,\n",
              "               missing_values=nan, strategy='mean', verbose=0),\n",
              " 'standardize': StandardScaler(copy=True, with_mean=True, with_std=True)}"
            ]
          },
          "metadata": {
            "tags": []
          },
          "execution_count": 7
        }
      ]
    },
    {
      "cell_type": "markdown",
      "metadata": {
        "id": "Gu5s4cIBMNaI",
        "colab_type": "text"
      },
      "source": [
        "So this just returns a dictionary of our defined steps, with each key pointing to the respective transformer."
      ]
    },
    {
      "cell_type": "markdown",
      "metadata": {
        "id": "BvHdXnsfMNaI",
        "colab_type": "text"
      },
      "source": [
        "### Fitting our data"
      ]
    },
    {
      "cell_type": "markdown",
      "metadata": {
        "id": "DcWfQFdPMNaJ",
        "colab_type": "text"
      },
      "source": [
        "Ok, now that we used the pipeline to define the tranformations we would like to apply, we can try it on some data.\n",
        "\n",
        "We do so using the same interface that we saw with transformers: fit to learn parameters from the data, and `transform` to apply the changes."
      ]
    },
    {
      "cell_type": "code",
      "metadata": {
        "id": "N36J7f7RMNaJ",
        "colab_type": "code",
        "outputId": "3cc85a36-6e89-40cf-9ed1-74b1b922bb4d",
        "colab": {}
      },
      "source": [
        "graduation_rate = hs_df[['graduation_rate']]\n",
        "\n",
        "pipeline.fit(graduation_rate)"
      ],
      "execution_count": 0,
      "outputs": [
        {
          "output_type": "execute_result",
          "data": {
            "text/plain": [
              "Pipeline(memory=None,\n",
              "         steps=[('impute',\n",
              "                 SimpleImputer(add_indicator=False, copy=True, fill_value=None,\n",
              "                               missing_values=nan, strategy='mean',\n",
              "                               verbose=0)),\n",
              "                ('standardize',\n",
              "                 StandardScaler(copy=True, with_mean=True, with_std=True))],\n",
              "         verbose=False)"
            ]
          },
          "metadata": {
            "tags": []
          },
          "execution_count": 13
        }
      ]
    },
    {
      "cell_type": "code",
      "metadata": {
        "id": "cmYj7-k_MNaL",
        "colab_type": "code",
        "colab": {}
      },
      "source": [
        "transformed_grad = pipeline.transform(graduation_rate)"
      ],
      "execution_count": 0,
      "outputs": []
    },
    {
      "cell_type": "code",
      "metadata": {
        "id": "8XKA0j5SMNaO",
        "colab_type": "code",
        "outputId": "bbbf8aa8-725e-4765-b4db-a9b38ca01e89",
        "colab": {}
      },
      "source": [
        "transformed_grad[:6]"
      ],
      "execution_count": 0,
      "outputs": [
        {
          "output_type": "execute_result",
          "data": {
            "text/plain": [
              "array([[-0.97597463],\n",
              "       [ 0.8043654 ],\n",
              "       [ 0.95272707],\n",
              "       [-0.38252795],\n",
              "       [ 1.32363125],\n",
              "       [ 1.47199292]])"
            ]
          },
          "metadata": {
            "tags": []
          },
          "execution_count": 15
        }
      ]
    },
    {
      "cell_type": "markdown",
      "metadata": {
        "id": "zp0SWwa1MNaQ",
        "colab_type": "text"
      },
      "source": [
        "So we can now see that both transfomations were applied to our column above."
      ]
    },
    {
      "cell_type": "markdown",
      "metadata": {
        "id": "0YujK8KfMNaQ",
        "colab_type": "text"
      },
      "source": [
        "### Summary "
      ]
    },
    {
      "cell_type": "markdown",
      "metadata": {
        "id": "8nsZUw5IMNaR",
        "colab_type": "text"
      },
      "source": [
        "In this lesson we saw how we can use pipelines to help us with feature engineering.  Pipelines store a sequence of transformers and then call the transformers for us.  "
      ]
    },
    {
      "cell_type": "markdown",
      "metadata": {
        "id": "_1djdtHqMNaR",
        "colab_type": "text"
      },
      "source": [
        "```python\n",
        "from sklearn.pipeline import Pipeline\n",
        "\n",
        "pipeline = Pipeline(steps = [\n",
        "    ('impute', SimpleImputer()),\n",
        "    ('standardize', StandardScaler()),\n",
        "])\n",
        "```"
      ]
    },
    {
      "cell_type": "markdown",
      "metadata": {
        "id": "7H63dzlqMNaR",
        "colab_type": "text"
      },
      "source": [
        "We initialize a pipeline by passing a list of steps to the `steps` argument.  Each step is a tuple, where the first element is the name that we assign to the step, and the second argument is an instance of the transformer that we wish to apply."
      ]
    },
    {
      "cell_type": "markdown",
      "metadata": {
        "id": "bMqnzVVpMNaS",
        "colab_type": "text"
      },
      "source": [
        "### Resources"
      ]
    },
    {
      "cell_type": "markdown",
      "metadata": {
        "id": "RUaJUAZrMNaS",
        "colab_type": "text"
      },
      "source": [
        "[Pipelines Kaggle Tutorial](https://www.kaggle.com/baghern/a-deep-dive-into-sklearn-pipelines)"
      ]
    }
  ]
}