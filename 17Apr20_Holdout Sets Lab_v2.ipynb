{
  "nbformat": 4,
  "nbformat_minor": 0,
  "metadata": {
    "kernelspec": {
      "display_name": "Python 3",
      "language": "python",
      "name": "python3"
    },
    "language_info": {
      "codemirror_mode": {
        "name": "ipython",
        "version": 3
      },
      "file_extension": ".py",
      "mimetype": "text/x-python",
      "name": "python",
      "nbconvert_exporter": "python",
      "pygments_lexer": "ipython3",
      "version": "3.7.4"
    },
    "colab": {
      "name": "Copy of index.ipynb",
      "provenance": [],
      "include_colab_link": true
    }
  },
  "cells": [
    {
      "cell_type": "markdown",
      "metadata": {
        "id": "view-in-github",
        "colab_type": "text"
      },
      "source": [
        "<a href=\"https://colab.research.google.com/github/ludawg44/jigsawlabs/blob/master/17Apr20_Holdout%20Sets%20Lab_v2.ipynb\" target=\"_parent\"><img src=\"https://colab.research.google.com/assets/colab-badge.svg\" alt=\"Open In Colab\"/></a>"
      ]
    },
    {
      "cell_type": "markdown",
      "metadata": {
        "id": "2uQ8oY5UuXbp",
        "colab_type": "text"
      },
      "source": [
        "# Holdout Sets Lab"
      ]
    },
    {
      "cell_type": "markdown",
      "metadata": {
        "id": "6UHs8eHiuXbq",
        "colab_type": "text"
      },
      "source": [
        "### Introduction"
      ]
    },
    {
      "cell_type": "markdown",
      "metadata": {
        "id": "c0qWaeuXuXbr",
        "colab_type": "text"
      },
      "source": [
        "In this lesson, we'll see how we can use holdout sets to correct for overfitting.  We'll do so, with the use of one of the datasets built into sklearn, the california housing dataset."
      ]
    },
    {
      "cell_type": "markdown",
      "metadata": {
        "id": "j1oYY79YuXbr",
        "colab_type": "text"
      },
      "source": [
        "### Loading our Data"
      ]
    },
    {
      "cell_type": "markdown",
      "metadata": {
        "id": "gW2PMcMMuXbs",
        "colab_type": "text"
      },
      "source": [
        "Let's begin by loading our dataset from sklearn."
      ]
    },
    {
      "cell_type": "code",
      "metadata": {
        "id": "WmTwE3XRuXbs",
        "colab_type": "code",
        "colab": {}
      },
      "source": [
        "from sklearn.datasets import fetch_california_housing\n",
        "dataset = fetch_california_housing()"
      ],
      "execution_count": 0,
      "outputs": []
    },
    {
      "cell_type": "markdown",
      "metadata": {
        "id": "EEzWrtlfuXbw",
        "colab_type": "text"
      },
      "source": [
        "Now the `fetch_california_housing` method returns to us a dictionary like object.  Begin by viewing the keys in our dataset."
      ]
    },
    {
      "cell_type": "code",
      "metadata": {
        "id": "GsvugCM-5T0i",
        "colab_type": "code",
        "outputId": "6dc8969d-fe0a-42c9-a97f-cabe53b2338c",
        "colab": {
          "base_uri": "https://localhost:8080/",
          "height": 34
        }
      },
      "source": [
        "# LV\n",
        "type(dataset)"
      ],
      "execution_count": 0,
      "outputs": [
        {
          "output_type": "execute_result",
          "data": {
            "text/plain": [
              "sklearn.utils.Bunch"
            ]
          },
          "metadata": {
            "tags": []
          },
          "execution_count": 50
        }
      ]
    },
    {
      "cell_type": "code",
      "metadata": {
        "id": "2zUBbkdS2_4d",
        "colab_type": "code",
        "outputId": "e36eef36-35e9-4e6b-93c6-f270a126a6d9",
        "colab": {
          "base_uri": "https://localhost:8080/",
          "height": 428
        }
      },
      "source": [
        "# LV\n",
        "dataset"
      ],
      "execution_count": 0,
      "outputs": [
        {
          "output_type": "execute_result",
          "data": {
            "text/plain": [
              "{'DESCR': '.. _california_housing_dataset:\\n\\nCalifornia Housing dataset\\n--------------------------\\n\\n**Data Set Characteristics:**\\n\\n    :Number of Instances: 20640\\n\\n    :Number of Attributes: 8 numeric, predictive attributes and the target\\n\\n    :Attribute Information:\\n        - MedInc        median income in block\\n        - HouseAge      median house age in block\\n        - AveRooms      average number of rooms\\n        - AveBedrms     average number of bedrooms\\n        - Population    block population\\n        - AveOccup      average house occupancy\\n        - Latitude      house block latitude\\n        - Longitude     house block longitude\\n\\n    :Missing Attribute Values: None\\n\\nThis dataset was obtained from the StatLib repository.\\nhttp://lib.stat.cmu.edu/datasets/\\n\\nThe target variable is the median house value for California districts.\\n\\nThis dataset was derived from the 1990 U.S. census, using one row per census\\nblock group. A block group is the smallest geographical unit for which the U.S.\\nCensus Bureau publishes sample data (a block group typically has a population\\nof 600 to 3,000 people).\\n\\nIt can be downloaded/loaded using the\\n:func:`sklearn.datasets.fetch_california_housing` function.\\n\\n.. topic:: References\\n\\n    - Pace, R. Kelley and Ronald Barry, Sparse Spatial Autoregressions,\\n      Statistics and Probability Letters, 33 (1997) 291-297\\n',\n",
              " 'data': array([[   8.3252    ,   41.        ,    6.98412698, ...,    2.55555556,\n",
              "           37.88      , -122.23      ],\n",
              "        [   8.3014    ,   21.        ,    6.23813708, ...,    2.10984183,\n",
              "           37.86      , -122.22      ],\n",
              "        [   7.2574    ,   52.        ,    8.28813559, ...,    2.80225989,\n",
              "           37.85      , -122.24      ],\n",
              "        ...,\n",
              "        [   1.7       ,   17.        ,    5.20554273, ...,    2.3256351 ,\n",
              "           39.43      , -121.22      ],\n",
              "        [   1.8672    ,   18.        ,    5.32951289, ...,    2.12320917,\n",
              "           39.43      , -121.32      ],\n",
              "        [   2.3886    ,   16.        ,    5.25471698, ...,    2.61698113,\n",
              "           39.37      , -121.24      ]]),\n",
              " 'feature_names': ['MedInc',\n",
              "  'HouseAge',\n",
              "  'AveRooms',\n",
              "  'AveBedrms',\n",
              "  'Population',\n",
              "  'AveOccup',\n",
              "  'Latitude',\n",
              "  'Longitude'],\n",
              " 'target': array([4.526, 3.585, 3.521, ..., 0.923, 0.847, 0.894])}"
            ]
          },
          "metadata": {
            "tags": []
          },
          "execution_count": 51
        }
      ]
    },
    {
      "cell_type": "code",
      "metadata": {
        "id": "nN1nNEbjuXbw",
        "colab_type": "code",
        "outputId": "b76cc0c3-8876-428c-f393-5a097148c6de",
        "colab": {
          "base_uri": "https://localhost:8080/",
          "height": 34
        }
      },
      "source": [
        "# LV: `dict.keys()` method returns a dictionary view obejct, which acts as a set. \n",
        "# Iterating over the dictionary directly also yeilds keys, so turning a dictionary\n",
        "# into a list results in a list of all the keys. \n",
        "\n",
        "dict_keys = dataset.keys()\n",
        "dict_keys\n",
        "# dict_keys(['data', 'target', 'feature_names', 'DESCR'])"
      ],
      "execution_count": 0,
      "outputs": [
        {
          "output_type": "execute_result",
          "data": {
            "text/plain": [
              "dict_keys(['data', 'target', 'feature_names', 'DESCR'])"
            ]
          },
          "metadata": {
            "tags": []
          },
          "execution_count": 53
        }
      ]
    },
    {
      "cell_type": "markdown",
      "metadata": {
        "id": "AWmJI2EZuXb0",
        "colab_type": "text"
      },
      "source": [
        "One of the keys is `DESCR`.  This is the description of the dataset.  Let's print out the first 1000 lines of the description."
      ]
    },
    {
      "cell_type": "code",
      "metadata": {
        "id": "Uekr9lPMuXb0",
        "colab_type": "code",
        "outputId": "2d11ae67-2ca9-41d3-a73f-c7c0b8bae8fd",
        "colab": {
          "base_uri": "https://localhost:8080/",
          "height": 714
        }
      },
      "source": [
        "# print DESCR here\n",
        "dataset.DESCR.split('\\n')"
      ],
      "execution_count": 0,
      "outputs": [
        {
          "output_type": "execute_result",
          "data": {
            "text/plain": [
              "['.. _california_housing_dataset:',\n",
              " '',\n",
              " 'California Housing dataset',\n",
              " '--------------------------',\n",
              " '',\n",
              " '**Data Set Characteristics:**',\n",
              " '',\n",
              " '    :Number of Instances: 20640',\n",
              " '',\n",
              " '    :Number of Attributes: 8 numeric, predictive attributes and the target',\n",
              " '',\n",
              " '    :Attribute Information:',\n",
              " '        - MedInc        median income in block',\n",
              " '        - HouseAge      median house age in block',\n",
              " '        - AveRooms      average number of rooms',\n",
              " '        - AveBedrms     average number of bedrooms',\n",
              " '        - Population    block population',\n",
              " '        - AveOccup      average house occupancy',\n",
              " '        - Latitude      house block latitude',\n",
              " '        - Longitude     house block longitude',\n",
              " '',\n",
              " '    :Missing Attribute Values: None',\n",
              " '',\n",
              " 'This dataset was obtained from the StatLib repository.',\n",
              " 'http://lib.stat.cmu.edu/datasets/',\n",
              " '',\n",
              " 'The target variable is the median house value for California districts.',\n",
              " '',\n",
              " 'This dataset was derived from the 1990 U.S. census, using one row per census',\n",
              " 'block group. A block group is the smallest geographical unit for which the U.S.',\n",
              " 'Census Bureau publishes sample data (a block group typically has a population',\n",
              " 'of 600 to 3,000 people).',\n",
              " '',\n",
              " 'It can be downloaded/loaded using the',\n",
              " ':func:`sklearn.datasets.fetch_california_housing` function.',\n",
              " '',\n",
              " '.. topic:: References',\n",
              " '',\n",
              " '    - Pace, R. Kelley and Ronald Barry, Sparse Spatial Autoregressions,',\n",
              " '      Statistics and Probability Letters, 33 (1997) 291-297',\n",
              " '']"
            ]
          },
          "metadata": {
            "tags": []
          },
          "execution_count": 56
        }
      ]
    },
    {
      "cell_type": "markdown",
      "metadata": {
        "id": "D9RHovSkuXb2",
        "colab_type": "text"
      },
      "source": [
        "Ok, now that we have a sense of the data, let's gather our features.  Create a dataframe from the `dataset` in the `data` key, and name the columns the list of names in the `feature_names` from the dataset.  Assign the dataframe to the variable `X`."
      ]
    },
    {
      "cell_type": "code",
      "metadata": {
        "id": "7SnBiRnWuXb3",
        "colab_type": "code",
        "outputId": "c97df729-ce9a-4be9-d96e-959e888a370c",
        "colab": {
          "base_uri": "https://localhost:8080/",
          "height": 204
        }
      },
      "source": [
        "# LV https://scikit-learn.org/stable/auto_examples/inspection/plot_partial_dependence.html#sphx-glr-auto-examples-inspection-plot-partial-dependence-py\n",
        "\n",
        "import numpy as np\n",
        "import pandas as pd\n",
        "\n",
        "X = pd.DataFrame(dataset.data, columns = dataset.feature_names)\n",
        "X.head()"
      ],
      "execution_count": 0,
      "outputs": [
        {
          "output_type": "execute_result",
          "data": {
            "text/html": [
              "<div>\n",
              "<style scoped>\n",
              "    .dataframe tbody tr th:only-of-type {\n",
              "        vertical-align: middle;\n",
              "    }\n",
              "\n",
              "    .dataframe tbody tr th {\n",
              "        vertical-align: top;\n",
              "    }\n",
              "\n",
              "    .dataframe thead th {\n",
              "        text-align: right;\n",
              "    }\n",
              "</style>\n",
              "<table border=\"1\" class=\"dataframe\">\n",
              "  <thead>\n",
              "    <tr style=\"text-align: right;\">\n",
              "      <th></th>\n",
              "      <th>MedInc</th>\n",
              "      <th>HouseAge</th>\n",
              "      <th>AveRooms</th>\n",
              "      <th>AveBedrms</th>\n",
              "      <th>Population</th>\n",
              "      <th>AveOccup</th>\n",
              "      <th>Latitude</th>\n",
              "      <th>Longitude</th>\n",
              "    </tr>\n",
              "  </thead>\n",
              "  <tbody>\n",
              "    <tr>\n",
              "      <th>0</th>\n",
              "      <td>8.3252</td>\n",
              "      <td>41.0</td>\n",
              "      <td>6.984127</td>\n",
              "      <td>1.023810</td>\n",
              "      <td>322.0</td>\n",
              "      <td>2.555556</td>\n",
              "      <td>37.88</td>\n",
              "      <td>-122.23</td>\n",
              "    </tr>\n",
              "    <tr>\n",
              "      <th>1</th>\n",
              "      <td>8.3014</td>\n",
              "      <td>21.0</td>\n",
              "      <td>6.238137</td>\n",
              "      <td>0.971880</td>\n",
              "      <td>2401.0</td>\n",
              "      <td>2.109842</td>\n",
              "      <td>37.86</td>\n",
              "      <td>-122.22</td>\n",
              "    </tr>\n",
              "    <tr>\n",
              "      <th>2</th>\n",
              "      <td>7.2574</td>\n",
              "      <td>52.0</td>\n",
              "      <td>8.288136</td>\n",
              "      <td>1.073446</td>\n",
              "      <td>496.0</td>\n",
              "      <td>2.802260</td>\n",
              "      <td>37.85</td>\n",
              "      <td>-122.24</td>\n",
              "    </tr>\n",
              "    <tr>\n",
              "      <th>3</th>\n",
              "      <td>5.6431</td>\n",
              "      <td>52.0</td>\n",
              "      <td>5.817352</td>\n",
              "      <td>1.073059</td>\n",
              "      <td>558.0</td>\n",
              "      <td>2.547945</td>\n",
              "      <td>37.85</td>\n",
              "      <td>-122.25</td>\n",
              "    </tr>\n",
              "    <tr>\n",
              "      <th>4</th>\n",
              "      <td>3.8462</td>\n",
              "      <td>52.0</td>\n",
              "      <td>6.281853</td>\n",
              "      <td>1.081081</td>\n",
              "      <td>565.0</td>\n",
              "      <td>2.181467</td>\n",
              "      <td>37.85</td>\n",
              "      <td>-122.25</td>\n",
              "    </tr>\n",
              "  </tbody>\n",
              "</table>\n",
              "</div>"
            ],
            "text/plain": [
              "   MedInc  HouseAge  AveRooms  ...  AveOccup  Latitude  Longitude\n",
              "0  8.3252      41.0  6.984127  ...  2.555556     37.88    -122.23\n",
              "1  8.3014      21.0  6.238137  ...  2.109842     37.86    -122.22\n",
              "2  7.2574      52.0  8.288136  ...  2.802260     37.85    -122.24\n",
              "3  5.6431      52.0  5.817352  ...  2.547945     37.85    -122.25\n",
              "4  3.8462      52.0  6.281853  ...  2.181467     37.85    -122.25\n",
              "\n",
              "[5 rows x 8 columns]"
            ]
          },
          "metadata": {
            "tags": []
          },
          "execution_count": 57
        }
      ]
    },
    {
      "cell_type": "code",
      "metadata": {
        "id": "-wFnABdXuXb5",
        "colab_type": "code",
        "outputId": "bc46b7d1-cbef-41a9-95f7-ab01e65ca8dd",
        "colab": {
          "base_uri": "https://localhost:8080/",
          "height": 142
        }
      },
      "source": [
        "X[:3]\n",
        "\n",
        "# \tMedInc\tHouseAge\tAveRooms\tAveBedrms\tPopulation\tAveOccup\tLatitude\tLongitude\n",
        "# 0\t8.3252\t41.0\t6.984127\t1.023810\t322.0\t2.555556\t37.88\t-122.23\n",
        "# 1\t8.3014\t21.0\t6.238137\t0.971880\t2401.0\t2.109842\t37.86\t-122.22\n",
        "# 2\t7.2574\t52.0\t8.288136\t1.073446\t496.0\t2.802260\t37.85\t-122.24"
      ],
      "execution_count": 0,
      "outputs": [
        {
          "output_type": "execute_result",
          "data": {
            "text/html": [
              "<div>\n",
              "<style scoped>\n",
              "    .dataframe tbody tr th:only-of-type {\n",
              "        vertical-align: middle;\n",
              "    }\n",
              "\n",
              "    .dataframe tbody tr th {\n",
              "        vertical-align: top;\n",
              "    }\n",
              "\n",
              "    .dataframe thead th {\n",
              "        text-align: right;\n",
              "    }\n",
              "</style>\n",
              "<table border=\"1\" class=\"dataframe\">\n",
              "  <thead>\n",
              "    <tr style=\"text-align: right;\">\n",
              "      <th></th>\n",
              "      <th>MedInc</th>\n",
              "      <th>HouseAge</th>\n",
              "      <th>AveRooms</th>\n",
              "      <th>AveBedrms</th>\n",
              "      <th>Population</th>\n",
              "      <th>AveOccup</th>\n",
              "      <th>Latitude</th>\n",
              "      <th>Longitude</th>\n",
              "    </tr>\n",
              "  </thead>\n",
              "  <tbody>\n",
              "    <tr>\n",
              "      <th>0</th>\n",
              "      <td>8.3252</td>\n",
              "      <td>41.0</td>\n",
              "      <td>6.984127</td>\n",
              "      <td>1.023810</td>\n",
              "      <td>322.0</td>\n",
              "      <td>2.555556</td>\n",
              "      <td>37.88</td>\n",
              "      <td>-122.23</td>\n",
              "    </tr>\n",
              "    <tr>\n",
              "      <th>1</th>\n",
              "      <td>8.3014</td>\n",
              "      <td>21.0</td>\n",
              "      <td>6.238137</td>\n",
              "      <td>0.971880</td>\n",
              "      <td>2401.0</td>\n",
              "      <td>2.109842</td>\n",
              "      <td>37.86</td>\n",
              "      <td>-122.22</td>\n",
              "    </tr>\n",
              "    <tr>\n",
              "      <th>2</th>\n",
              "      <td>7.2574</td>\n",
              "      <td>52.0</td>\n",
              "      <td>8.288136</td>\n",
              "      <td>1.073446</td>\n",
              "      <td>496.0</td>\n",
              "      <td>2.802260</td>\n",
              "      <td>37.85</td>\n",
              "      <td>-122.24</td>\n",
              "    </tr>\n",
              "  </tbody>\n",
              "</table>\n",
              "</div>"
            ],
            "text/plain": [
              "   MedInc  HouseAge  AveRooms  ...  AveOccup  Latitude  Longitude\n",
              "0  8.3252      41.0  6.984127  ...  2.555556     37.88    -122.23\n",
              "1  8.3014      21.0  6.238137  ...  2.109842     37.86    -122.22\n",
              "2  7.2574      52.0  8.288136  ...  2.802260     37.85    -122.24\n",
              "\n",
              "[3 rows x 8 columns]"
            ]
          },
          "metadata": {
            "tags": []
          },
          "execution_count": 58
        }
      ]
    },
    {
      "cell_type": "markdown",
      "metadata": {
        "id": "TtKL_tvFuXb7",
        "colab_type": "text"
      },
      "source": [
        "Retrieve the target data from the dataset, and store the data in a pandas series.  Assign it to the variable `y`."
      ]
    },
    {
      "cell_type": "code",
      "metadata": {
        "id": "tu6pH6lOuXb8",
        "colab_type": "code",
        "colab": {}
      },
      "source": [
        "# https://note.nkmk.me/en/python-pandas-list/\n",
        "\n",
        "y = pd.Series(dataset.target)"
      ],
      "execution_count": 0,
      "outputs": []
    },
    {
      "cell_type": "code",
      "metadata": {
        "id": "ctV1SxWeuXb_",
        "colab_type": "code",
        "outputId": "485dd307-0c00-469a-b3bf-ff7a7a43d0dd",
        "colab": {
          "base_uri": "https://localhost:8080/",
          "height": 34
        }
      },
      "source": [
        "type(y)\n",
        "# pandas.core.series.Series"
      ],
      "execution_count": 0,
      "outputs": [
        {
          "output_type": "execute_result",
          "data": {
            "text/plain": [
              "pandas.core.series.Series"
            ]
          },
          "metadata": {
            "tags": []
          },
          "execution_count": 60
        }
      ]
    },
    {
      "cell_type": "code",
      "metadata": {
        "id": "-USnE4lpuXcB",
        "colab_type": "code",
        "outputId": "e3666848-acd6-4bf1-de79-e40b704d3c51",
        "colab": {
          "base_uri": "https://localhost:8080/",
          "height": 85
        }
      },
      "source": [
        "y[:3]\n",
        "# 0    4.526\n",
        "# 1    3.585\n",
        "# 2    3.521\n",
        "# dtype: float64"
      ],
      "execution_count": 0,
      "outputs": [
        {
          "output_type": "execute_result",
          "data": {
            "text/plain": [
              "0    4.526\n",
              "1    3.585\n",
              "2    3.521\n",
              "dtype: float64"
            ]
          },
          "metadata": {
            "tags": []
          },
          "execution_count": 61
        }
      ]
    },
    {
      "cell_type": "markdown",
      "metadata": {
        "id": "RDfE6unMuXcD",
        "colab_type": "text"
      },
      "source": [
        "Ok, now that we have separate our features and targets, let's train a linear regression model."
      ]
    },
    {
      "cell_type": "code",
      "metadata": {
        "id": "Og5VwliXuXcE",
        "colab_type": "code",
        "outputId": "576fda32-9eba-47f6-a19e-f852b9504aab",
        "colab": {
          "base_uri": "https://localhost:8080/",
          "height": 34
        }
      },
      "source": [
        "from sklearn.linear_model import LinearRegression\n",
        "\n",
        "model = LinearRegression().fit(X, y)\n",
        "model\n",
        "\n",
        "# LinearRegression(copy_X=True, fit_intercept=True, n_jobs=None, normalize=False)"
      ],
      "execution_count": 0,
      "outputs": [
        {
          "output_type": "execute_result",
          "data": {
            "text/plain": [
              "LinearRegression(copy_X=True, fit_intercept=True, n_jobs=None, normalize=False)"
            ]
          },
          "metadata": {
            "tags": []
          },
          "execution_count": 62
        }
      ]
    },
    {
      "cell_type": "markdown",
      "metadata": {
        "id": "_0fgaq73uXcG",
        "colab_type": "text"
      },
      "source": [
        "> And calculate the score on the linear regression model."
      ]
    },
    {
      "cell_type": "code",
      "metadata": {
        "id": "3Uz8txiKuXcH",
        "colab_type": "code",
        "outputId": "0378ca9d-3fea-49cd-a1e4-28e28cb9082a",
        "colab": {
          "base_uri": "https://localhost:8080/",
          "height": 34
        }
      },
      "source": [
        "model.score(X, y)\n",
        "# 0.6062326851998051"
      ],
      "execution_count": 0,
      "outputs": [
        {
          "output_type": "execute_result",
          "data": {
            "text/plain": [
              "0.6062326851998049"
            ]
          },
          "metadata": {
            "tags": []
          },
          "execution_count": 12
        }
      ]
    },
    {
      "cell_type": "markdown",
      "metadata": {
        "id": "nQuC7kbMuXcJ",
        "colab_type": "text"
      },
      "source": [
        "### Checking for Overfitting"
      ]
    },
    {
      "cell_type": "markdown",
      "metadata": {
        "id": "noreXE51uXcJ",
        "colab_type": "text"
      },
      "source": [
        "Let's take a look at the coefficients from our previous model."
      ]
    },
    {
      "cell_type": "code",
      "metadata": {
        "id": "Qxwo19IJuXcJ",
        "colab_type": "code",
        "outputId": "a2436197-8b19-4a9c-9079-d9d8e0d44367",
        "colab": {
          "base_uri": "https://localhost:8080/",
          "height": 51
        }
      },
      "source": [
        "model.coef_\n",
        "# array([ 4.36693293e-01,  9.43577803e-03, -1.07322041e-01,  6.45065694e-01,\n",
        "#        -3.97638942e-06, -3.78654265e-03, -4.21314378e-01, -4.34513755e-01])"
      ],
      "execution_count": 0,
      "outputs": [
        {
          "output_type": "execute_result",
          "data": {
            "text/plain": [
              "array([ 4.36693293e-01,  9.43577803e-03, -1.07322041e-01,  6.45065694e-01,\n",
              "       -3.97638942e-06, -3.78654265e-03, -4.21314378e-01, -4.34513755e-01])"
            ]
          },
          "metadata": {
            "tags": []
          },
          "execution_count": 63
        }
      ]
    },
    {
      "cell_type": "markdown",
      "metadata": {
        "id": "deH1DA58uXcL",
        "colab_type": "text"
      },
      "source": [
        "There is one for each of the columns.  So one *crude* way to get a sense of what features may not be contributing too much is to sort our columns by the size of the associated coefficients, from largest to smallest."
      ]
    },
    {
      "cell_type": "markdown",
      "metadata": {
        "id": "mR7yU-7CuXcM",
        "colab_type": "text"
      },
      "source": [
        "> We'll improve on this technique for feature importance in future lessons."
      ]
    },
    {
      "cell_type": "markdown",
      "metadata": {
        "id": "R5FPvFHDuXcM",
        "colab_type": "text"
      },
      "source": [
        "Use numpy to do it.  Assign the result to `sorted_cols`."
      ]
    },
    {
      "cell_type": "code",
      "metadata": {
        "id": "5AfQSUWQp-NV",
        "colab_type": "code",
        "outputId": "a3a80af1-8f4e-407c-cf35-d932d2f1cad6",
        "colab": {
          "base_uri": "https://localhost:8080/",
          "height": 68
        }
      },
      "source": [
        "X.columns"
      ],
      "execution_count": 0,
      "outputs": [
        {
          "output_type": "execute_result",
          "data": {
            "text/plain": [
              "Index(['MedInc', 'HouseAge', 'AveRooms', 'AveBedrms', 'Population', 'AveOccup',\n",
              "       'Latitude', 'Longitude'],\n",
              "      dtype='object')"
            ]
          },
          "metadata": {
            "tags": []
          },
          "execution_count": 64
        }
      ]
    },
    {
      "cell_type": "code",
      "metadata": {
        "id": "3Cqi87b2Cpem",
        "colab_type": "code",
        "outputId": "2b028b84-5f5b-4359-ba15-7557f56bbfc3",
        "colab": {
          "base_uri": "https://localhost:8080/",
          "height": 153
        }
      },
      "source": [
        "stacked_coef= np.stack([model.coef_, X.columns], axis=1)\n",
        "stacked_coef"
      ],
      "execution_count": 0,
      "outputs": [
        {
          "output_type": "execute_result",
          "data": {
            "text/plain": [
              "array([[0.4366932931343245, 'MedInc'],\n",
              "       [0.009435778033237972, 'HouseAge'],\n",
              "       [-0.10732204139090447, 'AveRooms'],\n",
              "       [0.645065693519812, 'AveBedrms'],\n",
              "       [-3.976389421211576e-06, 'Population'],\n",
              "       [-0.003786542654971, 'AveOccup'],\n",
              "       [-0.42131437752714385, 'Latitude'],\n",
              "       [-0.43451375467477743, 'Longitude']], dtype=object)"
            ]
          },
          "metadata": {
            "tags": []
          },
          "execution_count": 68
        }
      ]
    },
    {
      "cell_type": "code",
      "metadata": {
        "id": "Xao4SD_EDYRf",
        "colab_type": "code",
        "colab": {}
      },
      "source": [
        "arg_order = np.flip(np.argsort(stacked_coef[:,0]))\n"
      ],
      "execution_count": 0,
      "outputs": []
    },
    {
      "cell_type": "code",
      "metadata": {
        "id": "lzg8k9GwDuYK",
        "colab_type": "code",
        "colab": {}
      },
      "source": [
        "sorted_feature = stacked_coef[arg_order]"
      ],
      "execution_count": 0,
      "outputs": []
    },
    {
      "cell_type": "code",
      "metadata": {
        "id": "poaMw4kZuXcM",
        "colab_type": "code",
        "outputId": "56f6591b-1096-4a5d-b02a-c4bf3012890b",
        "colab": {
          "base_uri": "https://localhost:8080/",
          "height": 51
        }
      },
      "source": [
        "sorted_cols = sorted_feature[:,1].astype('<U10')\n",
        "sorted_cols\n",
        "# array(['AveBedrms', 'MedInc', 'HouseAge', 'Population', 'AveOccup',\n",
        "#        'AveRooms', 'Latitude', 'Longitude'], dtype='<U10')"
      ],
      "execution_count": 0,
      "outputs": [
        {
          "output_type": "execute_result",
          "data": {
            "text/plain": [
              "array(['AveBedrms', 'MedInc', 'HouseAge', 'Population', 'AveOccup',\n",
              "       'AveRooms', 'Latitude', 'Longitude'], dtype='<U10')"
            ]
          },
          "metadata": {
            "tags": []
          },
          "execution_count": 79
        }
      ]
    },
    {
      "cell_type": "markdown",
      "metadata": {
        "id": "RYNWGKI3uXcP",
        "colab_type": "text"
      },
      "source": [
        "Ok, now this will be our plan.  We'll create eight different datasets.  The first one will only have the feature `AveBedrms`, then the next one will have the features `AveBedrms` and `MedInc`, then the next dataset will add on `HouseAge`, and so on."
      ]
    },
    {
      "cell_type": "markdown",
      "metadata": {
        "id": "lc4Kvvn2uXcP",
        "colab_type": "text"
      },
      "source": [
        "Use list comprehension to create a list of 8 dataframes, each one with an additional feature."
      ]
    },
    {
      "cell_type": "code",
      "metadata": {
        "id": "Hof8YitdG2ej",
        "colab_type": "code",
        "outputId": "87922971-6408-48fe-818f-e7bd31cfd89a",
        "colab": {
          "base_uri": "https://localhost:8080/",
          "height": 34
        }
      },
      "source": [
        "sorted_cols[0:0]"
      ],
      "execution_count": 0,
      "outputs": [
        {
          "output_type": "execute_result",
          "data": {
            "text/plain": [
              "array([], dtype='<U10')"
            ]
          },
          "metadata": {
            "tags": []
          },
          "execution_count": 83
        }
      ]
    },
    {
      "cell_type": "code",
      "metadata": {
        "id": "_N5oORmEuXcQ",
        "colab_type": "code",
        "colab": {}
      },
      "source": [
        "feature_datasets = [X[cols] for cols in [sorted_cols[0:i] for i in range(1, 9)]]"
      ],
      "execution_count": 0,
      "outputs": []
    },
    {
      "cell_type": "code",
      "metadata": {
        "id": "sfD0-2ULGZzA",
        "colab_type": "code",
        "outputId": "8719d3e2-ead3-4512-cdfe-e6c1b5ee89cb",
        "colab": {
          "base_uri": "https://localhost:8080/",
          "height": 1000
        }
      },
      "source": [
        "feature_datasets"
      ],
      "execution_count": 0,
      "outputs": [
        {
          "output_type": "execute_result",
          "data": {
            "text/plain": [
              "[       AveBedrms\n",
              " 0       1.023810\n",
              " 1       0.971880\n",
              " 2       1.073446\n",
              " 3       1.073059\n",
              " 4       1.081081\n",
              " ...          ...\n",
              " 20635   1.133333\n",
              " 20636   1.315789\n",
              " 20637   1.120092\n",
              " 20638   1.171920\n",
              " 20639   1.162264\n",
              " \n",
              " [20640 rows x 1 columns],        AveBedrms  MedInc\n",
              " 0       1.023810  8.3252\n",
              " 1       0.971880  8.3014\n",
              " 2       1.073446  7.2574\n",
              " 3       1.073059  5.6431\n",
              " 4       1.081081  3.8462\n",
              " ...          ...     ...\n",
              " 20635   1.133333  1.5603\n",
              " 20636   1.315789  2.5568\n",
              " 20637   1.120092  1.7000\n",
              " 20638   1.171920  1.8672\n",
              " 20639   1.162264  2.3886\n",
              " \n",
              " [20640 rows x 2 columns],        AveBedrms  MedInc  HouseAge\n",
              " 0       1.023810  8.3252      41.0\n",
              " 1       0.971880  8.3014      21.0\n",
              " 2       1.073446  7.2574      52.0\n",
              " 3       1.073059  5.6431      52.0\n",
              " 4       1.081081  3.8462      52.0\n",
              " ...          ...     ...       ...\n",
              " 20635   1.133333  1.5603      25.0\n",
              " 20636   1.315789  2.5568      18.0\n",
              " 20637   1.120092  1.7000      17.0\n",
              " 20638   1.171920  1.8672      18.0\n",
              " 20639   1.162264  2.3886      16.0\n",
              " \n",
              " [20640 rows x 3 columns],        AveBedrms  MedInc  HouseAge  Population\n",
              " 0       1.023810  8.3252      41.0       322.0\n",
              " 1       0.971880  8.3014      21.0      2401.0\n",
              " 2       1.073446  7.2574      52.0       496.0\n",
              " 3       1.073059  5.6431      52.0       558.0\n",
              " 4       1.081081  3.8462      52.0       565.0\n",
              " ...          ...     ...       ...         ...\n",
              " 20635   1.133333  1.5603      25.0       845.0\n",
              " 20636   1.315789  2.5568      18.0       356.0\n",
              " 20637   1.120092  1.7000      17.0      1007.0\n",
              " 20638   1.171920  1.8672      18.0       741.0\n",
              " 20639   1.162264  2.3886      16.0      1387.0\n",
              " \n",
              " [20640 rows x 4 columns],        AveBedrms  MedInc  HouseAge  Population  AveOccup\n",
              " 0       1.023810  8.3252      41.0       322.0  2.555556\n",
              " 1       0.971880  8.3014      21.0      2401.0  2.109842\n",
              " 2       1.073446  7.2574      52.0       496.0  2.802260\n",
              " 3       1.073059  5.6431      52.0       558.0  2.547945\n",
              " 4       1.081081  3.8462      52.0       565.0  2.181467\n",
              " ...          ...     ...       ...         ...       ...\n",
              " 20635   1.133333  1.5603      25.0       845.0  2.560606\n",
              " 20636   1.315789  2.5568      18.0       356.0  3.122807\n",
              " 20637   1.120092  1.7000      17.0      1007.0  2.325635\n",
              " 20638   1.171920  1.8672      18.0       741.0  2.123209\n",
              " 20639   1.162264  2.3886      16.0      1387.0  2.616981\n",
              " \n",
              " [20640 rows x 5 columns],        AveBedrms  MedInc  HouseAge  Population  AveOccup  AveRooms\n",
              " 0       1.023810  8.3252      41.0       322.0  2.555556  6.984127\n",
              " 1       0.971880  8.3014      21.0      2401.0  2.109842  6.238137\n",
              " 2       1.073446  7.2574      52.0       496.0  2.802260  8.288136\n",
              " 3       1.073059  5.6431      52.0       558.0  2.547945  5.817352\n",
              " 4       1.081081  3.8462      52.0       565.0  2.181467  6.281853\n",
              " ...          ...     ...       ...         ...       ...       ...\n",
              " 20635   1.133333  1.5603      25.0       845.0  2.560606  5.045455\n",
              " 20636   1.315789  2.5568      18.0       356.0  3.122807  6.114035\n",
              " 20637   1.120092  1.7000      17.0      1007.0  2.325635  5.205543\n",
              " 20638   1.171920  1.8672      18.0       741.0  2.123209  5.329513\n",
              " 20639   1.162264  2.3886      16.0      1387.0  2.616981  5.254717\n",
              " \n",
              " [20640 rows x 6 columns],        AveBedrms  MedInc  HouseAge  Population  AveOccup  AveRooms  Latitude\n",
              " 0       1.023810  8.3252      41.0       322.0  2.555556  6.984127     37.88\n",
              " 1       0.971880  8.3014      21.0      2401.0  2.109842  6.238137     37.86\n",
              " 2       1.073446  7.2574      52.0       496.0  2.802260  8.288136     37.85\n",
              " 3       1.073059  5.6431      52.0       558.0  2.547945  5.817352     37.85\n",
              " 4       1.081081  3.8462      52.0       565.0  2.181467  6.281853     37.85\n",
              " ...          ...     ...       ...         ...       ...       ...       ...\n",
              " 20635   1.133333  1.5603      25.0       845.0  2.560606  5.045455     39.48\n",
              " 20636   1.315789  2.5568      18.0       356.0  3.122807  6.114035     39.49\n",
              " 20637   1.120092  1.7000      17.0      1007.0  2.325635  5.205543     39.43\n",
              " 20638   1.171920  1.8672      18.0       741.0  2.123209  5.329513     39.43\n",
              " 20639   1.162264  2.3886      16.0      1387.0  2.616981  5.254717     39.37\n",
              " \n",
              " [20640 rows x 7 columns],        AveBedrms  MedInc  HouseAge  ...  AveRooms  Latitude  Longitude\n",
              " 0       1.023810  8.3252      41.0  ...  6.984127     37.88    -122.23\n",
              " 1       0.971880  8.3014      21.0  ...  6.238137     37.86    -122.22\n",
              " 2       1.073446  7.2574      52.0  ...  8.288136     37.85    -122.24\n",
              " 3       1.073059  5.6431      52.0  ...  5.817352     37.85    -122.25\n",
              " 4       1.081081  3.8462      52.0  ...  6.281853     37.85    -122.25\n",
              " ...          ...     ...       ...  ...       ...       ...        ...\n",
              " 20635   1.133333  1.5603      25.0  ...  5.045455     39.48    -121.09\n",
              " 20636   1.315789  2.5568      18.0  ...  6.114035     39.49    -121.21\n",
              " 20637   1.120092  1.7000      17.0  ...  5.205543     39.43    -121.22\n",
              " 20638   1.171920  1.8672      18.0  ...  5.329513     39.43    -121.32\n",
              " 20639   1.162264  2.3886      16.0  ...  5.254717     39.37    -121.24\n",
              " \n",
              " [20640 rows x 8 columns]]"
            ]
          },
          "metadata": {
            "tags": []
          },
          "execution_count": 89
        }
      ]
    },
    {
      "cell_type": "code",
      "metadata": {
        "id": "XvVbhZ99uXcU",
        "colab_type": "code",
        "outputId": "d13502ed-e9bc-4570-80f4-14f4c630043d",
        "colab": {
          "base_uri": "https://localhost:8080/",
          "height": 34
        }
      },
      "source": [
        "len(feature_datasets)\n",
        "# 8"
      ],
      "execution_count": 0,
      "outputs": [
        {
          "output_type": "execute_result",
          "data": {
            "text/plain": [
              "8"
            ]
          },
          "metadata": {
            "tags": []
          },
          "execution_count": 90
        }
      ]
    },
    {
      "cell_type": "code",
      "metadata": {
        "id": "2wvWwzdYuXcX",
        "colab_type": "code",
        "outputId": "89098e29-be0c-47f0-acd2-3fc85072cc49",
        "colab": {
          "base_uri": "https://localhost:8080/",
          "height": 142
        }
      },
      "source": [
        "feature_datasets[0][:3]\n",
        "# \tAveBedrms\n",
        "# 0\t1.023810\n",
        "# 1\t0.971880\n",
        "# 2\t1.073446"
      ],
      "execution_count": 0,
      "outputs": [
        {
          "output_type": "execute_result",
          "data": {
            "text/html": [
              "<div>\n",
              "<style scoped>\n",
              "    .dataframe tbody tr th:only-of-type {\n",
              "        vertical-align: middle;\n",
              "    }\n",
              "\n",
              "    .dataframe tbody tr th {\n",
              "        vertical-align: top;\n",
              "    }\n",
              "\n",
              "    .dataframe thead th {\n",
              "        text-align: right;\n",
              "    }\n",
              "</style>\n",
              "<table border=\"1\" class=\"dataframe\">\n",
              "  <thead>\n",
              "    <tr style=\"text-align: right;\">\n",
              "      <th></th>\n",
              "      <th>AveBedrms</th>\n",
              "    </tr>\n",
              "  </thead>\n",
              "  <tbody>\n",
              "    <tr>\n",
              "      <th>0</th>\n",
              "      <td>1.023810</td>\n",
              "    </tr>\n",
              "    <tr>\n",
              "      <th>1</th>\n",
              "      <td>0.971880</td>\n",
              "    </tr>\n",
              "    <tr>\n",
              "      <th>2</th>\n",
              "      <td>1.073446</td>\n",
              "    </tr>\n",
              "  </tbody>\n",
              "</table>\n",
              "</div>"
            ],
            "text/plain": [
              "   AveBedrms\n",
              "0   1.023810\n",
              "1   0.971880\n",
              "2   1.073446"
            ]
          },
          "metadata": {
            "tags": []
          },
          "execution_count": 92
        }
      ]
    },
    {
      "cell_type": "code",
      "metadata": {
        "id": "83KgUEnWuXcZ",
        "colab_type": "code",
        "outputId": "970cc0ce-02c8-467e-bffb-9c9198f9b974",
        "colab": {
          "base_uri": "https://localhost:8080/",
          "height": 142
        }
      },
      "source": [
        "feature_datasets[1][:3]\n",
        "# \tAveBedrms\tMedInc\n",
        "# 0\t1.023810\t8.3252\n",
        "# 1\t0.971880\t8.3014\n",
        "# 2\t1.073446\t7.2574"
      ],
      "execution_count": 0,
      "outputs": [
        {
          "output_type": "execute_result",
          "data": {
            "text/html": [
              "<div>\n",
              "<style scoped>\n",
              "    .dataframe tbody tr th:only-of-type {\n",
              "        vertical-align: middle;\n",
              "    }\n",
              "\n",
              "    .dataframe tbody tr th {\n",
              "        vertical-align: top;\n",
              "    }\n",
              "\n",
              "    .dataframe thead th {\n",
              "        text-align: right;\n",
              "    }\n",
              "</style>\n",
              "<table border=\"1\" class=\"dataframe\">\n",
              "  <thead>\n",
              "    <tr style=\"text-align: right;\">\n",
              "      <th></th>\n",
              "      <th>AveBedrms</th>\n",
              "      <th>MedInc</th>\n",
              "    </tr>\n",
              "  </thead>\n",
              "  <tbody>\n",
              "    <tr>\n",
              "      <th>0</th>\n",
              "      <td>1.023810</td>\n",
              "      <td>8.3252</td>\n",
              "    </tr>\n",
              "    <tr>\n",
              "      <th>1</th>\n",
              "      <td>0.971880</td>\n",
              "      <td>8.3014</td>\n",
              "    </tr>\n",
              "    <tr>\n",
              "      <th>2</th>\n",
              "      <td>1.073446</td>\n",
              "      <td>7.2574</td>\n",
              "    </tr>\n",
              "  </tbody>\n",
              "</table>\n",
              "</div>"
            ],
            "text/plain": [
              "   AveBedrms  MedInc\n",
              "0   1.023810  8.3252\n",
              "1   0.971880  8.3014\n",
              "2   1.073446  7.2574"
            ]
          },
          "metadata": {
            "tags": []
          },
          "execution_count": 95
        }
      ]
    },
    {
      "cell_type": "markdown",
      "metadata": {
        "id": "7ZkjBaR0uXcc",
        "colab_type": "text"
      },
      "source": [
        "Ok, now that we have our eight different datasets, we'll use our train each of these datasets on the first `4/5` of the data, and allocate the remaining 20 percent for the test set."
      ]
    },
    {
      "cell_type": "markdown",
      "metadata": {
        "id": "pbeLdKOguXcc",
        "colab_type": "text"
      },
      "source": [
        "For example, here's how we could do this with just our first dataset."
      ]
    },
    {
      "cell_type": "code",
      "metadata": {
        "id": "cIcnh5W1uXcc",
        "colab_type": "code",
        "outputId": "7b4f363e-b530-4dad-ffb9-ecb3bde94ba5",
        "colab": {
          "base_uri": "https://localhost:8080/",
          "height": 34
        }
      },
      "source": [
        "training_cutoff = np.int(.8*X.shape[0])\n",
        "training_cutoff\n",
        "# 16512.0"
      ],
      "execution_count": 0,
      "outputs": [
        {
          "output_type": "execute_result",
          "data": {
            "text/plain": [
              "16512"
            ]
          },
          "metadata": {
            "tags": []
          },
          "execution_count": 96
        }
      ]
    },
    {
      "cell_type": "code",
      "metadata": {
        "id": "dAChLtm2uXcm",
        "colab_type": "code",
        "outputId": "3b34ab90-75fd-464e-f122-b4555d8afb77",
        "colab": {
          "base_uri": "https://localhost:8080/",
          "height": 34
        }
      },
      "source": [
        "LinearRegression().fit(X[:training_cutoff], y[:training_cutoff])"
      ],
      "execution_count": 0,
      "outputs": [
        {
          "output_type": "execute_result",
          "data": {
            "text/plain": [
              "LinearRegression(copy_X=True, fit_intercept=True, n_jobs=None, normalize=False)"
            ]
          },
          "metadata": {
            "tags": []
          },
          "execution_count": 97
        }
      ]
    },
    {
      "cell_type": "markdown",
      "metadata": {
        "id": "5WOCxhXmuXco",
        "colab_type": "text"
      },
      "source": [
        "> Now use list comprehension to loop through each of the feature datasets and train each model."
      ]
    },
    {
      "cell_type": "code",
      "metadata": {
        "id": "jFhtBykVuXco",
        "colab_type": "code",
        "outputId": "d348a997-b7fd-4039-9576-4d588b1b9b43",
        "colab": {
          "base_uri": "https://localhost:8080/",
          "height": 153
        }
      },
      "source": [
        "models = [LinearRegression().fit(feature_dataset[:training_cutoff], y[:training_cutoff]) for feature_dataset in feature_datasets]\n",
        "models\n",
        "# models"
      ],
      "execution_count": 0,
      "outputs": [
        {
          "output_type": "execute_result",
          "data": {
            "text/plain": [
              "[LinearRegression(copy_X=True, fit_intercept=True, n_jobs=None, normalize=False),\n",
              " LinearRegression(copy_X=True, fit_intercept=True, n_jobs=None, normalize=False),\n",
              " LinearRegression(copy_X=True, fit_intercept=True, n_jobs=None, normalize=False),\n",
              " LinearRegression(copy_X=True, fit_intercept=True, n_jobs=None, normalize=False),\n",
              " LinearRegression(copy_X=True, fit_intercept=True, n_jobs=None, normalize=False),\n",
              " LinearRegression(copy_X=True, fit_intercept=True, n_jobs=None, normalize=False),\n",
              " LinearRegression(copy_X=True, fit_intercept=True, n_jobs=None, normalize=False),\n",
              " LinearRegression(copy_X=True, fit_intercept=True, n_jobs=None, normalize=False)]"
            ]
          },
          "metadata": {
            "tags": []
          },
          "execution_count": 98
        }
      ]
    },
    {
      "cell_type": "markdown",
      "metadata": {
        "id": "AwcjHOB9uXcq",
        "colab_type": "text"
      },
      "source": [
        "Confirm that you did this correctly by taking a look at the coefficients of your models.  There should be only one coefficient in the first model (as you trained on one feature, and two on the second, and so on."
      ]
    },
    {
      "cell_type": "code",
      "metadata": {
        "id": "JzjgMv-uuXcq",
        "colab_type": "code",
        "outputId": "1a2c86cc-856e-4e90-c0c4-9ef7754668d9",
        "colab": {
          "base_uri": "https://localhost:8080/",
          "height": 221
        }
      },
      "source": [
        "[model.coef_ for model in models]\n",
        "\n",
        "# [array([-0.08472077]),\n",
        "#  array([-0.00530241,  0.4078728 ]),\n",
        "#  array([0.03627788, 0.42396549, 0.01832752]),\n",
        "#  array([4.41398935e-02, 4.24895746e-01, 1.93896280e-02, 3.70981852e-05]),\n",
        "#  array([ 4.39572800e-02,  4.24936826e-01,  1.95360434e-02,  4.09593233e-05,\n",
        "#         -1.21859740e-02]),\n",
        "#  array([ 1.05174649e+00,  5.36219341e-01,  1.73618921e-02,  2.53744473e-05,\n",
        "#         -1.17657007e-02, -2.21649954e-01]),\n",
        "#  array([ 9.71711856e-01,  5.21567608e-01,  1.76671678e-02,  1.93844117e-05,\n",
        "#         -1.17596405e-02, -2.01479564e-01, -3.98712430e-02]),\n",
        "#  array([ 7.10267788e-01,  4.47847084e-01,  9.40820722e-03, -1.47053238e-06,\n",
        "#         -8.81496820e-03, -1.20960919e-01, -4.21714509e-01, -4.29775301e-01])]"
      ],
      "execution_count": 0,
      "outputs": [
        {
          "output_type": "execute_result",
          "data": {
            "text/plain": [
              "[array([-0.08472077]),\n",
              " array([-0.00530241,  0.4078728 ]),\n",
              " array([0.03627788, 0.42396549, 0.01832752]),\n",
              " array([4.41398935e-02, 4.24895746e-01, 1.93896280e-02, 3.70981852e-05]),\n",
              " array([ 4.39572800e-02,  4.24936826e-01,  1.95360434e-02,  4.09593233e-05,\n",
              "        -1.21859740e-02]),\n",
              " array([ 1.05174649e+00,  5.36219341e-01,  1.73618921e-02,  2.53744473e-05,\n",
              "        -1.17657007e-02, -2.21649954e-01]),\n",
              " array([ 9.71711856e-01,  5.21567608e-01,  1.76671678e-02,  1.93844117e-05,\n",
              "        -1.17596405e-02, -2.01479564e-01, -3.98712430e-02]),\n",
              " array([ 7.10267788e-01,  4.47847084e-01,  9.40820722e-03, -1.47053238e-06,\n",
              "        -8.81496820e-03, -1.20960919e-01, -4.21714509e-01, -4.29775301e-01])]"
            ]
          },
          "metadata": {
            "tags": []
          },
          "execution_count": 99
        }
      ]
    },
    {
      "cell_type": "markdown",
      "metadata": {
        "id": "TL8ZFt-BuXcs",
        "colab_type": "text"
      },
      "source": [
        "Now let's see how the first model does scores on the training data."
      ]
    },
    {
      "cell_type": "code",
      "metadata": {
        "id": "M_0ouHlLuXct",
        "colab_type": "code",
        "outputId": "b4015306-7c52-49fa-be45-d9f733cae864",
        "colab": {
          "base_uri": "https://localhost:8080/",
          "height": 34
        }
      },
      "source": [
        "# Select the first model from the list of models and check the score on the training set here\n",
        "models[0].score(feature_datasets[0][:training_cutoff], y[:training_cutoff])\n",
        "\n",
        "# 0.0014673783785782435"
      ],
      "execution_count": 0,
      "outputs": [
        {
          "output_type": "execute_result",
          "data": {
            "text/plain": [
              "0.0014673783785782435"
            ]
          },
          "metadata": {
            "tags": []
          },
          "execution_count": 101
        }
      ]
    },
    {
      "cell_type": "markdown",
      "metadata": {
        "id": "Jjt7mqBhuXcv",
        "colab_type": "text"
      },
      "source": [
        "Now loop through all of the models and find the scores on the training datasets."
      ]
    },
    {
      "cell_type": "code",
      "metadata": {
        "id": "9tMfJKrfuXcw",
        "colab_type": "code",
        "outputId": "96802c0f-fe7d-42f5-8869-f9d319f90d89",
        "colab": {
          "base_uri": "https://localhost:8080/",
          "height": 153
        }
      },
      "source": [
        "training_scores = [model.score(feature_dataset[:training_cutoff], y[:training_cutoff]) for model, feature_dataset in zip(models, feature_datasets)]\n",
        "training_scores\n",
        "# [0.0014673783785782435,\n",
        "#  0.45236533768477305,\n",
        "#  0.4939927242376319,\n",
        "#  0.4952854616280577,\n",
        "#  0.4983070309325991,\n",
        "#  0.5305040120758866,\n",
        "#  0.535449549407038,\n",
        "#  0.5844329298051016]"
      ],
      "execution_count": 0,
      "outputs": [
        {
          "output_type": "execute_result",
          "data": {
            "text/plain": [
              "[0.0014673783785782435,\n",
              " 0.45236533768477294,\n",
              " 0.4939927242376319,\n",
              " 0.4952854616280577,\n",
              " 0.49830703093259904,\n",
              " 0.5305040120758866,\n",
              " 0.535449549407038,\n",
              " 0.5844329298051016]"
            ]
          },
          "metadata": {
            "tags": []
          },
          "execution_count": 102
        }
      ]
    },
    {
      "cell_type": "markdown",
      "metadata": {
        "id": "suk9yYGKuXcy",
        "colab_type": "text"
      },
      "source": [
        "Next calculate the scores for each model on the holdout dataset."
      ]
    },
    {
      "cell_type": "code",
      "metadata": {
        "id": "TuBo7dMGuXcy",
        "colab_type": "code",
        "colab": {}
      },
      "source": [
        "holdout_scores = [model.score(feature_dataset[training_cutoff:], y[training_cutoff:]) for model, feature_dataset in zip(models, feature_datasets)]"
      ],
      "execution_count": 0,
      "outputs": []
    },
    {
      "cell_type": "code",
      "metadata": {
        "id": "pmddum_2J_IW",
        "colab_type": "code",
        "outputId": "41ac3bff-0d10-4dfd-8cfe-4715e5f9c819",
        "colab": {
          "base_uri": "https://localhost:8080/",
          "height": 153
        }
      },
      "source": [
        "holdout_scores"
      ],
      "execution_count": 0,
      "outputs": [
        {
          "output_type": "execute_result",
          "data": {
            "text/plain": [
              "[-0.035080253443077636,\n",
              " 0.5290087155979699,\n",
              " 0.5434340630909423,\n",
              " 0.542931799661927,\n",
              " 0.5193319873743076,\n",
              " 0.53474157472828,\n",
              " 0.524375220210058,\n",
              " 0.6605140591532004]"
            ]
          },
          "metadata": {
            "tags": []
          },
          "execution_count": 106
        }
      ]
    },
    {
      "cell_type": "code",
      "metadata": {
        "id": "DaHRvZ2duXc0",
        "colab_type": "code",
        "outputId": "25f12295-0d8d-4545-b1ef-daed77e4d395",
        "colab": {
          "base_uri": "https://localhost:8080/",
          "height": 153
        }
      },
      "source": [
        "holdout_scores\n",
        "# [-0.035080253443077636,\n",
        "#  0.5290087155979699,\n",
        "#  0.5434340630909426,\n",
        "#  0.5429317996619257,\n",
        "#  0.5193319873743043,\n",
        "#  0.5347415747282829,\n",
        "#  0.5243752202100567,\n",
        "#  0.6605140591531988]"
      ],
      "execution_count": 0,
      "outputs": [
        {
          "output_type": "execute_result",
          "data": {
            "text/plain": [
              "[-0.035080253443077636,\n",
              " 0.5290087155979699,\n",
              " 0.5434340630909423,\n",
              " 0.542931799661927,\n",
              " 0.5193319873743076,\n",
              " 0.53474157472828,\n",
              " 0.524375220210058,\n",
              " 0.6605140591532004]"
            ]
          },
          "metadata": {
            "tags": []
          },
          "execution_count": 105
        }
      ]
    },
    {
      "cell_type": "markdown",
      "metadata": {
        "id": "VS9CrDV9uXc2",
        "colab_type": "text"
      },
      "source": [
        "Ok, now create a trace for the training scores, with the scores on the y axis and the related column on the x axis. \n",
        "\n",
        "Do the same for the holdout scores."
      ]
    },
    {
      "cell_type": "code",
      "metadata": {
        "id": "eNAHfxRBKLgL",
        "colab_type": "code",
        "colab": {}
      },
      "source": [
        "# import plotly.graph_objects as go\n",
        "\n",
        "# model_parameters = ['temps', 'temps + weekends', 'temps + weekends + ages']\n",
        "# training_trace = go.Scatter(x = model_parameters, y = training_rmses, \n",
        "#                               mode = 'lines', \n",
        "#                               name = 'training')\n",
        "# holdout_trace = go.Scatter(x = model_parameters, \n",
        "#                              y = holdout_rmses, \n",
        "#                              mode = 'lines', name = 'holdout')\n",
        "# # go.Figure(data = [holdout_trace, training_trace])"
      ],
      "execution_count": 0,
      "outputs": []
    },
    {
      "cell_type": "code",
      "metadata": {
        "id": "cXzyynEIuXc2",
        "colab_type": "code",
        "outputId": "24cc4cd5-e2fe-4bbb-a47c-256b0d25283b",
        "colab": {
          "base_uri": "https://localhost:8080/",
          "height": 542
        }
      },
      "source": [
        "import plotly.graph_objects as go\n",
        "\n",
        "sorted_cols\n",
        "training_trace = go.Scatter(x = sorted_cols, y = training_scores, \n",
        "                              mode = 'lines+markers', \n",
        "                              name = 'training')\n",
        "holdout_trace = go.Scatter(x = sorted_cols, \n",
        "                             y = holdout_scores, \n",
        "                             mode = 'lines+markers', name = 'holdout')\n",
        "go.Figure(data = [holdout_trace, training_trace])"
      ],
      "execution_count": 0,
      "outputs": [
        {
          "output_type": "display_data",
          "data": {
            "text/html": [
              "<html>\n",
              "<head><meta charset=\"utf-8\" /></head>\n",
              "<body>\n",
              "    <div>\n",
              "            <script src=\"https://cdnjs.cloudflare.com/ajax/libs/mathjax/2.7.5/MathJax.js?config=TeX-AMS-MML_SVG\"></script><script type=\"text/javascript\">if (window.MathJax) {MathJax.Hub.Config({SVG: {font: \"STIX-Web\"}});}</script>\n",
              "                <script type=\"text/javascript\">window.PlotlyConfig = {MathJaxConfig: 'local'};</script>\n",
              "        <script src=\"https://cdn.plot.ly/plotly-latest.min.js\"></script>    \n",
              "            <div id=\"d35f8199-5197-4d6c-8dc6-a929686e1127\" class=\"plotly-graph-div\" style=\"height:525px; width:100%;\"></div>\n",
              "            <script type=\"text/javascript\">\n",
              "                \n",
              "                    window.PLOTLYENV=window.PLOTLYENV || {};\n",
              "                    \n",
              "                if (document.getElementById(\"d35f8199-5197-4d6c-8dc6-a929686e1127\")) {\n",
              "                    Plotly.newPlot(\n",
              "                        'd35f8199-5197-4d6c-8dc6-a929686e1127',\n",
              "                        [{\"mode\": \"lines+markers\", \"name\": \"holdout\", \"type\": \"scatter\", \"x\": [\"AveBedrms\", \"MedInc\", \"HouseAge\", \"Population\", \"AveOccup\", \"AveRooms\", \"Latitude\", \"Longitude\"], \"y\": [-0.035080253443077636, 0.5290087155979699, 0.5434340630909423, 0.542931799661927, 0.5193319873743076, 0.53474157472828, 0.524375220210058, 0.6605140591532004]}, {\"mode\": \"lines+markers\", \"name\": \"training\", \"type\": \"scatter\", \"x\": [\"AveBedrms\", \"MedInc\", \"HouseAge\", \"Population\", \"AveOccup\", \"AveRooms\", \"Latitude\", \"Longitude\"], \"y\": [0.0014673783785782435, 0.45236533768477294, 0.4939927242376319, 0.4952854616280577, 0.49830703093259904, 0.5305040120758866, 0.535449549407038, 0.5844329298051016]}],\n",
              "                        {\"template\": {\"data\": {\"bar\": [{\"error_x\": {\"color\": \"#2a3f5f\"}, \"error_y\": {\"color\": \"#2a3f5f\"}, \"marker\": {\"line\": {\"color\": \"#E5ECF6\", \"width\": 0.5}}, \"type\": \"bar\"}], \"barpolar\": [{\"marker\": {\"line\": {\"color\": \"#E5ECF6\", \"width\": 0.5}}, \"type\": \"barpolar\"}], \"carpet\": [{\"aaxis\": {\"endlinecolor\": \"#2a3f5f\", \"gridcolor\": \"white\", \"linecolor\": \"white\", \"minorgridcolor\": \"white\", \"startlinecolor\": \"#2a3f5f\"}, \"baxis\": {\"endlinecolor\": \"#2a3f5f\", \"gridcolor\": \"white\", \"linecolor\": \"white\", \"minorgridcolor\": \"white\", \"startlinecolor\": \"#2a3f5f\"}, \"type\": \"carpet\"}], \"choropleth\": [{\"colorbar\": {\"outlinewidth\": 0, \"ticks\": \"\"}, \"type\": \"choropleth\"}], \"contour\": [{\"colorbar\": {\"outlinewidth\": 0, \"ticks\": \"\"}, \"colorscale\": [[0.0, \"#0d0887\"], [0.1111111111111111, \"#46039f\"], [0.2222222222222222, \"#7201a8\"], [0.3333333333333333, \"#9c179e\"], [0.4444444444444444, \"#bd3786\"], [0.5555555555555556, \"#d8576b\"], [0.6666666666666666, \"#ed7953\"], [0.7777777777777778, \"#fb9f3a\"], [0.8888888888888888, \"#fdca26\"], [1.0, \"#f0f921\"]], \"type\": \"contour\"}], \"contourcarpet\": [{\"colorbar\": {\"outlinewidth\": 0, \"ticks\": \"\"}, \"type\": \"contourcarpet\"}], \"heatmap\": [{\"colorbar\": {\"outlinewidth\": 0, \"ticks\": \"\"}, \"colorscale\": [[0.0, \"#0d0887\"], [0.1111111111111111, \"#46039f\"], [0.2222222222222222, \"#7201a8\"], [0.3333333333333333, \"#9c179e\"], [0.4444444444444444, \"#bd3786\"], [0.5555555555555556, \"#d8576b\"], [0.6666666666666666, \"#ed7953\"], [0.7777777777777778, \"#fb9f3a\"], [0.8888888888888888, \"#fdca26\"], [1.0, \"#f0f921\"]], \"type\": \"heatmap\"}], \"heatmapgl\": [{\"colorbar\": {\"outlinewidth\": 0, \"ticks\": \"\"}, \"colorscale\": [[0.0, \"#0d0887\"], [0.1111111111111111, \"#46039f\"], [0.2222222222222222, \"#7201a8\"], [0.3333333333333333, \"#9c179e\"], [0.4444444444444444, \"#bd3786\"], [0.5555555555555556, \"#d8576b\"], [0.6666666666666666, \"#ed7953\"], [0.7777777777777778, \"#fb9f3a\"], [0.8888888888888888, \"#fdca26\"], [1.0, \"#f0f921\"]], \"type\": \"heatmapgl\"}], \"histogram\": [{\"marker\": {\"colorbar\": {\"outlinewidth\": 0, \"ticks\": \"\"}}, \"type\": \"histogram\"}], \"histogram2d\": [{\"colorbar\": {\"outlinewidth\": 0, \"ticks\": \"\"}, \"colorscale\": [[0.0, \"#0d0887\"], [0.1111111111111111, \"#46039f\"], [0.2222222222222222, \"#7201a8\"], [0.3333333333333333, \"#9c179e\"], [0.4444444444444444, \"#bd3786\"], [0.5555555555555556, \"#d8576b\"], [0.6666666666666666, \"#ed7953\"], [0.7777777777777778, \"#fb9f3a\"], [0.8888888888888888, \"#fdca26\"], [1.0, \"#f0f921\"]], \"type\": \"histogram2d\"}], \"histogram2dcontour\": [{\"colorbar\": {\"outlinewidth\": 0, \"ticks\": \"\"}, \"colorscale\": [[0.0, \"#0d0887\"], [0.1111111111111111, \"#46039f\"], [0.2222222222222222, \"#7201a8\"], [0.3333333333333333, \"#9c179e\"], [0.4444444444444444, \"#bd3786\"], [0.5555555555555556, \"#d8576b\"], [0.6666666666666666, \"#ed7953\"], [0.7777777777777778, \"#fb9f3a\"], [0.8888888888888888, \"#fdca26\"], [1.0, \"#f0f921\"]], \"type\": \"histogram2dcontour\"}], \"mesh3d\": [{\"colorbar\": {\"outlinewidth\": 0, \"ticks\": \"\"}, \"type\": \"mesh3d\"}], \"parcoords\": [{\"line\": {\"colorbar\": {\"outlinewidth\": 0, \"ticks\": \"\"}}, \"type\": \"parcoords\"}], \"pie\": [{\"automargin\": true, \"type\": \"pie\"}], \"scatter\": [{\"marker\": {\"colorbar\": {\"outlinewidth\": 0, \"ticks\": \"\"}}, \"type\": \"scatter\"}], \"scatter3d\": [{\"line\": {\"colorbar\": {\"outlinewidth\": 0, \"ticks\": \"\"}}, \"marker\": {\"colorbar\": {\"outlinewidth\": 0, \"ticks\": \"\"}}, \"type\": \"scatter3d\"}], \"scattercarpet\": [{\"marker\": {\"colorbar\": {\"outlinewidth\": 0, \"ticks\": \"\"}}, \"type\": \"scattercarpet\"}], \"scattergeo\": [{\"marker\": {\"colorbar\": {\"outlinewidth\": 0, \"ticks\": \"\"}}, \"type\": \"scattergeo\"}], \"scattergl\": [{\"marker\": {\"colorbar\": {\"outlinewidth\": 0, \"ticks\": \"\"}}, \"type\": \"scattergl\"}], \"scattermapbox\": [{\"marker\": {\"colorbar\": {\"outlinewidth\": 0, \"ticks\": \"\"}}, \"type\": \"scattermapbox\"}], \"scatterpolar\": [{\"marker\": {\"colorbar\": {\"outlinewidth\": 0, \"ticks\": \"\"}}, \"type\": \"scatterpolar\"}], \"scatterpolargl\": [{\"marker\": {\"colorbar\": {\"outlinewidth\": 0, \"ticks\": \"\"}}, \"type\": \"scatterpolargl\"}], \"scatterternary\": [{\"marker\": {\"colorbar\": {\"outlinewidth\": 0, \"ticks\": \"\"}}, \"type\": \"scatterternary\"}], \"surface\": [{\"colorbar\": {\"outlinewidth\": 0, \"ticks\": \"\"}, \"colorscale\": [[0.0, \"#0d0887\"], [0.1111111111111111, \"#46039f\"], [0.2222222222222222, \"#7201a8\"], [0.3333333333333333, \"#9c179e\"], [0.4444444444444444, \"#bd3786\"], [0.5555555555555556, \"#d8576b\"], [0.6666666666666666, \"#ed7953\"], [0.7777777777777778, \"#fb9f3a\"], [0.8888888888888888, \"#fdca26\"], [1.0, \"#f0f921\"]], \"type\": \"surface\"}], \"table\": [{\"cells\": {\"fill\": {\"color\": \"#EBF0F8\"}, \"line\": {\"color\": \"white\"}}, \"header\": {\"fill\": {\"color\": \"#C8D4E3\"}, \"line\": {\"color\": \"white\"}}, \"type\": \"table\"}]}, \"layout\": {\"annotationdefaults\": {\"arrowcolor\": \"#2a3f5f\", \"arrowhead\": 0, \"arrowwidth\": 1}, \"coloraxis\": {\"colorbar\": {\"outlinewidth\": 0, \"ticks\": \"\"}}, \"colorscale\": {\"diverging\": [[0, \"#8e0152\"], [0.1, \"#c51b7d\"], [0.2, \"#de77ae\"], [0.3, \"#f1b6da\"], [0.4, \"#fde0ef\"], [0.5, \"#f7f7f7\"], [0.6, \"#e6f5d0\"], [0.7, \"#b8e186\"], [0.8, \"#7fbc41\"], [0.9, \"#4d9221\"], [1, \"#276419\"]], \"sequential\": [[0.0, \"#0d0887\"], [0.1111111111111111, \"#46039f\"], [0.2222222222222222, \"#7201a8\"], [0.3333333333333333, \"#9c179e\"], [0.4444444444444444, \"#bd3786\"], [0.5555555555555556, \"#d8576b\"], [0.6666666666666666, \"#ed7953\"], [0.7777777777777778, \"#fb9f3a\"], [0.8888888888888888, \"#fdca26\"], [1.0, \"#f0f921\"]], \"sequentialminus\": [[0.0, \"#0d0887\"], [0.1111111111111111, \"#46039f\"], [0.2222222222222222, \"#7201a8\"], [0.3333333333333333, \"#9c179e\"], [0.4444444444444444, \"#bd3786\"], [0.5555555555555556, \"#d8576b\"], [0.6666666666666666, \"#ed7953\"], [0.7777777777777778, \"#fb9f3a\"], [0.8888888888888888, \"#fdca26\"], [1.0, \"#f0f921\"]]}, \"colorway\": [\"#636efa\", \"#EF553B\", \"#00cc96\", \"#ab63fa\", \"#FFA15A\", \"#19d3f3\", \"#FF6692\", \"#B6E880\", \"#FF97FF\", \"#FECB52\"], \"font\": {\"color\": \"#2a3f5f\"}, \"geo\": {\"bgcolor\": \"white\", \"lakecolor\": \"white\", \"landcolor\": \"#E5ECF6\", \"showlakes\": true, \"showland\": true, \"subunitcolor\": \"white\"}, \"hoverlabel\": {\"align\": \"left\"}, \"hovermode\": \"closest\", \"mapbox\": {\"style\": \"light\"}, \"paper_bgcolor\": \"white\", \"plot_bgcolor\": \"#E5ECF6\", \"polar\": {\"angularaxis\": {\"gridcolor\": \"white\", \"linecolor\": \"white\", \"ticks\": \"\"}, \"bgcolor\": \"#E5ECF6\", \"radialaxis\": {\"gridcolor\": \"white\", \"linecolor\": \"white\", \"ticks\": \"\"}}, \"scene\": {\"xaxis\": {\"backgroundcolor\": \"#E5ECF6\", \"gridcolor\": \"white\", \"gridwidth\": 2, \"linecolor\": \"white\", \"showbackground\": true, \"ticks\": \"\", \"zerolinecolor\": \"white\"}, \"yaxis\": {\"backgroundcolor\": \"#E5ECF6\", \"gridcolor\": \"white\", \"gridwidth\": 2, \"linecolor\": \"white\", \"showbackground\": true, \"ticks\": \"\", \"zerolinecolor\": \"white\"}, \"zaxis\": {\"backgroundcolor\": \"#E5ECF6\", \"gridcolor\": \"white\", \"gridwidth\": 2, \"linecolor\": \"white\", \"showbackground\": true, \"ticks\": \"\", \"zerolinecolor\": \"white\"}}, \"shapedefaults\": {\"line\": {\"color\": \"#2a3f5f\"}}, \"ternary\": {\"aaxis\": {\"gridcolor\": \"white\", \"linecolor\": \"white\", \"ticks\": \"\"}, \"baxis\": {\"gridcolor\": \"white\", \"linecolor\": \"white\", \"ticks\": \"\"}, \"bgcolor\": \"#E5ECF6\", \"caxis\": {\"gridcolor\": \"white\", \"linecolor\": \"white\", \"ticks\": \"\"}}, \"title\": {\"x\": 0.05}, \"xaxis\": {\"automargin\": true, \"gridcolor\": \"white\", \"linecolor\": \"white\", \"ticks\": \"\", \"title\": {\"standoff\": 15}, \"zerolinecolor\": \"white\", \"zerolinewidth\": 2}, \"yaxis\": {\"automargin\": true, \"gridcolor\": \"white\", \"linecolor\": \"white\", \"ticks\": \"\", \"title\": {\"standoff\": 15}, \"zerolinecolor\": \"white\", \"zerolinewidth\": 2}}}},\n",
              "                        {\"responsive\": true}\n",
              "                    ).then(function(){\n",
              "                            \n",
              "var gd = document.getElementById('d35f8199-5197-4d6c-8dc6-a929686e1127');\n",
              "var x = new MutationObserver(function (mutations, observer) {{\n",
              "        var display = window.getComputedStyle(gd).display;\n",
              "        if (!display || display === 'none') {{\n",
              "            console.log([gd, 'removed!']);\n",
              "            Plotly.purge(gd);\n",
              "            observer.disconnect();\n",
              "        }}\n",
              "}});\n",
              "\n",
              "// Listen for the removal of the full notebook cells\n",
              "var notebookContainer = gd.closest('#notebook-container');\n",
              "if (notebookContainer) {{\n",
              "    x.observe(notebookContainer, {childList: true});\n",
              "}}\n",
              "\n",
              "// Listen for the clearing of the current output cell\n",
              "var outputEl = gd.closest('.output');\n",
              "if (outputEl) {{\n",
              "    x.observe(outputEl, {childList: true});\n",
              "}}\n",
              "\n",
              "                        })\n",
              "                };\n",
              "                \n",
              "            </script>\n",
              "        </div>\n",
              "</body>\n",
              "</html>"
            ]
          },
          "metadata": {
            "tags": []
          }
        }
      ]
    },
    {
      "cell_type": "markdown",
      "metadata": {
        "id": "vCOVRmg6uXc4",
        "colab_type": "text"
      },
      "source": [
        "> Answer: <img src=\"https://github.com/jigsawlabs-student/train-test-split/blob/master/8-test-train-split-lab/plotly-graph.png?raw=1\" width=\"80%\">"
      ]
    },
    {
      "cell_type": "markdown",
      "metadata": {
        "id": "eu8RSByMuXc4",
        "colab_type": "text"
      },
      "source": [
        "We'll talk more about feature selection in later lessons, but for now, we can see that the holdout score indicates limited benefit by including features like Population, AveOccup, and AveRooms.  Let's try removing these columns, and then see how we do on our training and test datasets."
      ]
    },
    {
      "cell_type": "markdown",
      "metadata": {
        "id": "2tjvbu23uXc5",
        "colab_type": "text"
      },
      "source": [
        "> Drop the specified columns and assign the resulting dataframe to the variable `X_select`."
      ]
    },
    {
      "cell_type": "code",
      "metadata": {
        "id": "as1NMR5buXc5",
        "colab_type": "code",
        "colab": {}
      },
      "source": [
        "X_select = None"
      ],
      "execution_count": 0,
      "outputs": []
    },
    {
      "cell_type": "code",
      "metadata": {
        "id": "h-bV0bwEuXc7",
        "colab_type": "code",
        "outputId": "6f3f02c4-4590-43da-ff7c-ce221ee1993e",
        "colab": {}
      },
      "source": [
        "X_select[:2]\n",
        "\n",
        "# MedInc\tHouseAge\tAveBedrms\tLatitude\tLongitude\n",
        "# 0\t8.3252\t41.0\t1.02381\t37.88\t-122.23\n",
        "# 1\t8.3014\t21.0\t0.97188\t37.86\t-122.22"
      ],
      "execution_count": 0,
      "outputs": [
        {
          "output_type": "execute_result",
          "data": {
            "text/html": [
              "<div>\n",
              "<style scoped>\n",
              "    .dataframe tbody tr th:only-of-type {\n",
              "        vertical-align: middle;\n",
              "    }\n",
              "\n",
              "    .dataframe tbody tr th {\n",
              "        vertical-align: top;\n",
              "    }\n",
              "\n",
              "    .dataframe thead th {\n",
              "        text-align: right;\n",
              "    }\n",
              "</style>\n",
              "<table border=\"1\" class=\"dataframe\">\n",
              "  <thead>\n",
              "    <tr style=\"text-align: right;\">\n",
              "      <th></th>\n",
              "      <th>MedInc</th>\n",
              "      <th>HouseAge</th>\n",
              "      <th>AveBedrms</th>\n",
              "      <th>Latitude</th>\n",
              "      <th>Longitude</th>\n",
              "    </tr>\n",
              "  </thead>\n",
              "  <tbody>\n",
              "    <tr>\n",
              "      <th>0</th>\n",
              "      <td>8.3252</td>\n",
              "      <td>41.0</td>\n",
              "      <td>1.02381</td>\n",
              "      <td>37.88</td>\n",
              "      <td>-122.23</td>\n",
              "    </tr>\n",
              "    <tr>\n",
              "      <th>1</th>\n",
              "      <td>8.3014</td>\n",
              "      <td>21.0</td>\n",
              "      <td>0.97188</td>\n",
              "      <td>37.86</td>\n",
              "      <td>-122.22</td>\n",
              "    </tr>\n",
              "  </tbody>\n",
              "</table>\n",
              "</div>"
            ],
            "text/plain": [
              "   MedInc  HouseAge  AveBedrms  Latitude  Longitude\n",
              "0  8.3252      41.0    1.02381     37.88    -122.23\n",
              "1  8.3014      21.0    0.97188     37.86    -122.22"
            ]
          },
          "metadata": {
            "tags": []
          },
          "execution_count": 99
        }
      ]
    },
    {
      "cell_type": "markdown",
      "metadata": {
        "id": "LhtXfWy8uXc8",
        "colab_type": "text"
      },
      "source": [
        "Now let's train one model on these features, just the 80 percent of our training set."
      ]
    },
    {
      "cell_type": "code",
      "metadata": {
        "id": "qkWscd3QuXc9",
        "colab_type": "code",
        "outputId": "6e9a2e4c-5090-486e-ce6b-1241e7e3ca4f",
        "colab": {}
      },
      "source": [
        "# fit the model on the training data here\n",
        "\n",
        "# LinearRegression(copy_X=True, fit_intercept=True, n_jobs=None, normalize=False)"
      ],
      "execution_count": 0,
      "outputs": [
        {
          "output_type": "execute_result",
          "data": {
            "text/plain": [
              "LinearRegression(copy_X=True, fit_intercept=True, n_jobs=None, normalize=False)"
            ]
          },
          "metadata": {
            "tags": []
          },
          "execution_count": 208
        }
      ]
    },
    {
      "cell_type": "markdown",
      "metadata": {
        "id": "v2pRQ_tbuXc_",
        "colab_type": "text"
      },
      "source": [
        "And score the model on the remaining data."
      ]
    },
    {
      "cell_type": "code",
      "metadata": {
        "id": "u8efhQpKuXc_",
        "colab_type": "code",
        "outputId": "39bef200-b55e-4b83-ecb3-b14d1ebd8f57",
        "colab": {}
      },
      "source": [
        "\n",
        "# 0.6710958382245962"
      ],
      "execution_count": 0,
      "outputs": [
        {
          "output_type": "execute_result",
          "data": {
            "text/plain": [
              "0.6710958382245962"
            ]
          },
          "metadata": {
            "tags": []
          },
          "execution_count": 211
        }
      ]
    },
    {
      "cell_type": "markdown",
      "metadata": {
        "id": "NX6Ygy64uXdC",
        "colab_type": "text"
      },
      "source": [
        "### Using SKlearn to Split"
      ]
    },
    {
      "cell_type": "markdown",
      "metadata": {
        "id": "OLB0e7p3uXdD",
        "colab_type": "text"
      },
      "source": [
        "Now let's split our data again.  This time, we'll use sklearn's `train_test_split` function."
      ]
    },
    {
      "cell_type": "code",
      "metadata": {
        "id": "XpToqRj0uXdD",
        "colab_type": "code",
        "colab": {}
      },
      "source": [
        "from sklearn.model_selection import train_test_split\n",
        "\n",
        "X_train, X_test, y_train, y_test = train_test_split(X_select, y, test_size = .3, random_state = 1)"
      ],
      "execution_count": 0,
      "outputs": []
    },
    {
      "cell_type": "code",
      "metadata": {
        "id": "-OyuNIkhuXdG",
        "colab_type": "code",
        "colab": {}
      },
      "source": [
        "model = LinearRegression().fit(X_train, y_train)"
      ],
      "execution_count": 0,
      "outputs": []
    },
    {
      "cell_type": "code",
      "metadata": {
        "id": "-YNM6bXpuXdI",
        "colab_type": "code",
        "outputId": "ae537fcf-cc1c-4818-d1cd-68d17676c2cb",
        "colab": {}
      },
      "source": [
        "model.score(X_test, y_test)"
      ],
      "execution_count": 0,
      "outputs": [
        {
          "output_type": "execute_result",
          "data": {
            "text/plain": [
              "0.5898474184857773"
            ]
          },
          "metadata": {
            "tags": []
          },
          "execution_count": 214
        }
      ]
    }
  ]
}