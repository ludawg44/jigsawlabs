{
  "nbformat": 4,
  "nbformat_minor": 0,
  "metadata": {
    "kernelspec": {
      "display_name": "Python 3",
      "language": "python",
      "name": "python3"
    },
    "language_info": {
      "codemirror_mode": {
        "name": "ipython",
        "version": 3
      },
      "file_extension": ".py",
      "mimetype": "text/x-python",
      "name": "python",
      "nbconvert_exporter": "python",
      "pygments_lexer": "ipython3",
      "version": "3.7.4"
    },
    "colab": {
      "name": "Copy of 9-coerce-to-categorical.ipynb",
      "provenance": [],
      "include_colab_link": true
    }
  },
  "cells": [
    {
      "cell_type": "markdown",
      "metadata": {
        "id": "view-in-github",
        "colab_type": "text"
      },
      "source": [
        "<a href=\"https://colab.research.google.com/github/ludawg44/jigsawlabs/blob/master/03May20_9_coerce_to_categorical.ipynb\" target=\"_parent\"><img src=\"https://colab.research.google.com/assets/colab-badge.svg\" alt=\"Open In Colab\"/></a>"
      ]
    },
    {
      "cell_type": "markdown",
      "metadata": {
        "id": "1KyKh__v70ph",
        "colab_type": "text"
      },
      "source": [
        "# Coercing to Categorical"
      ]
    },
    {
      "cell_type": "markdown",
      "metadata": {
        "id": "CUZkyiBA70pj",
        "colab_type": "text"
      },
      "source": [
        "### Introduction"
      ]
    },
    {
      "cell_type": "markdown",
      "metadata": {
        "id": "l3ZvRC5-70pj",
        "colab_type": "text"
      },
      "source": [
        "In the last lesson, we saw how we can discover boolean values by looking for a large percentage of repeated values in a feature.  In this lesson, we'll continue with our Airbnb dataset, and tackle the categorical features.\n",
        "\n",
        "Let's keep going."
      ]
    },
    {
      "cell_type": "markdown",
      "metadata": {
        "id": "iQS2S2Lv70pk",
        "colab_type": "text"
      },
      "source": [
        "### Loading our AirBnb Data"
      ]
    },
    {
      "cell_type": "markdown",
      "metadata": {
        "id": "xuE2qBh370pl",
        "colab_type": "text"
      },
      "source": [
        "We'll start by loading the data where we last left off."
      ]
    },
    {
      "cell_type": "code",
      "metadata": {
        "id": "SISzwSOg70pl",
        "colab_type": "code",
        "colab": {}
      },
      "source": [
        "import pandas as pd\n",
        "bools_complete_url = \"https://raw.githubusercontent.com/jigsawlabs-student/engineering-large-datasets/master/coerced_bools_complete.csv\"\n",
        "df = pd.read_csv(bools_complete_url, index_col = 0)"
      ],
      "execution_count": 0,
      "outputs": []
    },
    {
      "cell_type": "markdown",
      "metadata": {
        "id": "aeU5awwS70pp",
        "colab_type": "text"
      },
      "source": [
        "And let's load our datatypes and set our them in our dataframe."
      ]
    },
    {
      "cell_type": "code",
      "metadata": {
        "id": "pyXMzTnZ70pq",
        "colab_type": "code",
        "colab": {}
      },
      "source": [
        "import requests\n",
        "url = \"https://raw.githubusercontent.com/jigsawlabs-student/engineering-large-datasets/master/coerced_bools_complete_dtypes.json\"\n",
        "response = requests.get(url)\n",
        "dtypes_dict = response.json()"
      ],
      "execution_count": 0,
      "outputs": []
    },
    {
      "cell_type": "code",
      "metadata": {
        "id": "uz1H2VAQ70pt",
        "colab_type": "code",
        "colab": {}
      },
      "source": [
        "df = df.astype(dtypes_dict)"
      ],
      "execution_count": 0,
      "outputs": []
    },
    {
      "cell_type": "markdown",
      "metadata": {
        "id": "4Lee1_8e70pv",
        "colab_type": "text"
      },
      "source": [
        "Now to see what work we have left, we can select our object columns."
      ]
    },
    {
      "cell_type": "code",
      "metadata": {
        "id": "L-otqPdj70pw",
        "colab_type": "code",
        "colab": {}
      },
      "source": [
        "object_df = df.select_dtypes('object')"
      ],
      "execution_count": 0,
      "outputs": []
    },
    {
      "cell_type": "markdown",
      "metadata": {
        "id": "FosVyhcQ70py",
        "colab_type": "text"
      },
      "source": [
        "### Loading our Library"
      ]
    },
    {
      "cell_type": "markdown",
      "metadata": {
        "id": "CWG47_Ax70pz",
        "colab_type": "text"
      },
      "source": [
        "Let's load up our methods for discovering categorical variables.  Remember our technique for is to use `value_counts` to see the top values in each column.  "
      ]
    },
    {
      "cell_type": "code",
      "metadata": {
        "id": "COwqgIBh70pz",
        "colab_type": "code",
        "colab": {}
      },
      "source": [
        "def get_multiple_val_counts(df, num_vals = 1):\n",
        "    return [df[column].value_counts(normalize=True).iloc[:num_vals] for column in df.columns]"
      ],
      "execution_count": 0,
      "outputs": []
    },
    {
      "cell_type": "markdown",
      "metadata": {
        "id": "gP7_kaVK70p2",
        "colab_type": "text"
      },
      "source": [
        "Then, in `summarize_cats`, we sort columns by the percentage that top value makesup that column."
      ]
    },
    {
      "cell_type": "code",
      "metadata": {
        "id": "Xiq4lgl870p3",
        "colab_type": "code",
        "colab": {}
      },
      "source": [
        "import numpy as np\n",
        "def summarize_cats(df):\n",
        "    multiple_val_counts = get_multiple_val_counts(df)\n",
        "    stacked_counts = np.vstack([np.array([val_count.name, val_count.index[0], float(val_count.values[0])]) for val_count in multiple_val_counts])\n",
        "    sorted_cols = np.argsort(stacked_counts.reshape(-1, 3)[:, 2].astype('float'))\n",
        "    return stacked_counts[sorted_cols[::-1]]"
      ],
      "execution_count": 0,
      "outputs": []
    },
    {
      "cell_type": "markdown",
      "metadata": {
        "id": "O3z3A7dK70p5",
        "colab_type": "text"
      },
      "source": [
        "Overall, it does appear that we have once again done a good job at identifying our categorical columns."
      ]
    },
    {
      "cell_type": "markdown",
      "metadata": {
        "id": "T6wbluv470p5",
        "colab_type": "text"
      },
      "source": [
        "### Selecting Columns"
      ]
    },
    {
      "cell_type": "markdown",
      "metadata": {
        "id": "jHk9VatN70p6",
        "colab_type": "text"
      },
      "source": [
        "Let's use `summarize_cats` to select the names of our columns that are likely categorical. "
      ]
    },
    {
      "cell_type": "code",
      "metadata": {
        "id": "q-A50fmi70p6",
        "colab_type": "code",
        "colab": {}
      },
      "source": [
        "cols = summarize_cats(object_df)[:16][:, 0]"
      ],
      "execution_count": 0,
      "outputs": []
    },
    {
      "cell_type": "code",
      "metadata": {
        "id": "yP-2KZBq70p8",
        "colab_type": "code",
        "outputId": "82359965-10ee-424f-d74c-85a71124443c",
        "colab": {}
      },
      "source": [
        "cols"
      ],
      "execution_count": 0,
      "outputs": [
        {
          "output_type": "execute_result",
          "data": {
            "text/plain": [
              "array(['street', 'bed_type', 'property_type', 'host_is_superhost',\n",
              "       'host_location', 'room_type', 'host_identity_verified',\n",
              "       'host_response_time', 'cancellation_policy',\n",
              "       'neighbourhood_group_cleansed', 'host_verifications',\n",
              "       'neighbourhood', 'host_neighbourhood', 'calendar_updated',\n",
              "       'neighbourhood_cleansed', 'zipcode'], dtype='<U1000')"
            ]
          },
          "metadata": {
            "tags": []
          },
          "execution_count": 46
        }
      ]
    },
    {
      "cell_type": "markdown",
      "metadata": {
        "id": "dTOa9zjm70qA",
        "colab_type": "text"
      },
      "source": [
        "Then we can use the `selected_cat_values` method to take a deeper look at the values in each of the columns."
      ]
    },
    {
      "cell_type": "code",
      "metadata": {
        "id": "8h6JDXBf70qA",
        "colab_type": "code",
        "colab": {}
      },
      "source": [
        "def selected_cat_values(column, threshold = .02):\n",
        "    values_counted = column.value_counts(normalize=True)\n",
        "    return values_counted[values_counted > threshold]"
      ],
      "execution_count": 0,
      "outputs": []
    },
    {
      "cell_type": "markdown",
      "metadata": {
        "id": "NYpmbMAb70qD",
        "colab_type": "text"
      },
      "source": [
        "> Comment and uncomment the cell below."
      ]
    },
    {
      "cell_type": "code",
      "metadata": {
        "id": "xbx3GFHj70qD",
        "colab_type": "code",
        "colab": {}
      },
      "source": [
        "# [selected_cat_values(df[col]) for col in cols]"
      ],
      "execution_count": 0,
      "outputs": []
    },
    {
      "cell_type": "markdown",
      "metadata": {
        "id": "12DZbavM70qF",
        "colab_type": "text"
      },
      "source": [
        "### Coercing our Categorical Columns"
      ]
    },
    {
      "cell_type": "markdown",
      "metadata": {
        "id": "f04xftpv70qF",
        "colab_type": "text"
      },
      "source": [
        "Once we feel that we have selected our categorical columns we can remove sparse values from each column using the `reduce_cat_values` method."
      ]
    },
    {
      "cell_type": "code",
      "metadata": {
        "id": "mKAbAR1270qF",
        "colab_type": "code",
        "colab": {}
      },
      "source": [
        "def reduce_cat_values(column, threshold = .02):\n",
        "    column = column.copy()\n",
        "    selected_values = selected_cat_values(column, threshold).index\n",
        "    column[~column.isin(selected_values)] = 'other'\n",
        "    column.astype('category')\n",
        "    return column"
      ],
      "execution_count": 0,
      "outputs": []
    },
    {
      "cell_type": "code",
      "metadata": {
        "id": "pEYfDZ2J70qH",
        "colab_type": "code",
        "colab": {}
      },
      "source": [
        "cat_cols = ['street', 'bed_type', 'property_type', 'host_is_superhost',\n",
        "       'host_location', 'room_type', 'host_identity_verified',\n",
        "       'host_response_time', 'cancellation_policy',\n",
        "       'neighbourhood_group_cleansed', 'host_verifications',\n",
        "       'neighbourhood', 'host_neighbourhood', 'calendar_updated',\n",
        "       'neighbourhood_cleansed', 'zipcode']"
      ],
      "execution_count": 0,
      "outputs": []
    },
    {
      "cell_type": "code",
      "metadata": {
        "id": "ZeKM49MF70qL",
        "colab_type": "code",
        "colab": {}
      },
      "source": [
        "remaining_cat_df = object_df[cat_cols]"
      ],
      "execution_count": 0,
      "outputs": []
    },
    {
      "cell_type": "markdown",
      "metadata": {
        "id": "Rb-FHUJV70qO",
        "colab_type": "text"
      },
      "source": [
        "> Below we remove all values that comprise less than 1 percent of the data."
      ]
    },
    {
      "cell_type": "code",
      "metadata": {
        "id": "vbmG5DSK70qO",
        "colab_type": "code",
        "colab": {}
      },
      "source": [
        "reduced_df = remaining_cat_df.apply(lambda col: reduce_cat_values(col, .01))"
      ],
      "execution_count": 0,
      "outputs": []
    },
    {
      "cell_type": "markdown",
      "metadata": {
        "id": "rFzvcXOM70qR",
        "colab_type": "text"
      },
      "source": [
        "Then let's take a look at the changes we made."
      ]
    },
    {
      "cell_type": "code",
      "metadata": {
        "id": "8Tg_AvbB70qR",
        "colab_type": "code",
        "colab": {}
      },
      "source": [
        "val_counts_grid = [reduced_df[col].value_counts(normalize = True)[:5] for col in reduced_df.columns]"
      ],
      "execution_count": 0,
      "outputs": []
    },
    {
      "cell_type": "code",
      "metadata": {
        "id": "A0NGI-7V70qU",
        "colab_type": "code",
        "outputId": "2f0211b9-82bd-4950-e53e-049ac744592f",
        "colab": {}
      },
      "source": [
        "val_counts_grid[:3]"
      ],
      "execution_count": 0,
      "outputs": [
        {
          "output_type": "execute_result",
          "data": {
            "text/plain": [
              "[Berlin, Berlin, Germany    0.989125\n",
              " other                      0.010875\n",
              " Name: street, dtype: float64,\n",
              " Real Bed         0.935250\n",
              " Pull-out Sofa    0.034375\n",
              " Futon            0.022125\n",
              " other            0.008250\n",
              " Name: bed_type, dtype: float64,\n",
              " Apartment      0.899000\n",
              " Condominium    0.029375\n",
              " other          0.028750\n",
              " Loft           0.022625\n",
              " House          0.020250\n",
              " Name: property_type, dtype: float64]"
            ]
          },
          "metadata": {
            "tags": []
          },
          "execution_count": 54
        }
      ]
    },
    {
      "cell_type": "markdown",
      "metadata": {
        "id": "MypVF64o70qW",
        "colab_type": "text"
      },
      "source": [
        "### Integrating our Mapper"
      ]
    },
    {
      "cell_type": "markdown",
      "metadata": {
        "id": "7-9jKkVJ70qW",
        "colab_type": "text"
      },
      "source": [
        "Ok, it's now time to apply one hot encoding to our categorical features.  Before we do, we can see that we do have missing values for a number of our categorical columns.  "
      ]
    },
    {
      "cell_type": "code",
      "metadata": {
        "id": "1A6Owy7570qX",
        "colab_type": "code",
        "outputId": "4e56346e-c49b-4c3a-f041-d6a5934b4af0",
        "colab": {}
      },
      "source": [
        "reduced_df.isna().sum()"
      ],
      "execution_count": 0,
      "outputs": [
        {
          "output_type": "execute_result",
          "data": {
            "text/plain": [
              "street                          0\n",
              "bed_type                        0\n",
              "property_type                   0\n",
              "host_is_superhost               0\n",
              "host_location                   0\n",
              "room_type                       0\n",
              "host_identity_verified          0\n",
              "host_response_time              0\n",
              "cancellation_policy             0\n",
              "neighbourhood_group_cleansed    0\n",
              "host_verifications              0\n",
              "neighbourhood                   0\n",
              "host_neighbourhood              0\n",
              "calendar_updated                0\n",
              "neighbourhood_cleansed          0\n",
              "zipcode                         0\n",
              "dtype: int64"
            ]
          },
          "metadata": {
            "tags": []
          },
          "execution_count": 55
        }
      ]
    },
    {
      "cell_type": "markdown",
      "metadata": {
        "id": "-p1z4L8-70qf",
        "colab_type": "text"
      },
      "source": [
        "So to apply one hot encoding, we first have to write coerce our na values to the string na, and then we can apply one hot encoding."
      ]
    },
    {
      "cell_type": "markdown",
      "metadata": {
        "id": "z-EVrTBv70qf",
        "colab_type": "text"
      },
      "source": [
        "> Write a mapper that does both."
      ]
    },
    {
      "cell_type": "code",
      "metadata": {
        "id": "IVNVZbP970qf",
        "colab_type": "code",
        "colab": {}
      },
      "source": [
        "cat_cols = reduced_df.columns"
      ],
      "execution_count": 0,
      "outputs": []
    },
    {
      "cell_type": "code",
      "metadata": {
        "id": "WabiTUDC70qh",
        "colab_type": "code",
        "colab": {}
      },
      "source": [
        "from sklearn.impute import SimpleImputer\n",
        "from sklearn.preprocessing import OneHotEncoder\n",
        "steps = [([col], [OneHotEncoder()]) for col in cat_cols]"
      ],
      "execution_count": 0,
      "outputs": []
    },
    {
      "cell_type": "code",
      "metadata": {
        "id": "olJvkAJi70qi",
        "colab_type": "code",
        "colab": {}
      },
      "source": [
        "from sklearn_pandas import DataFrameMapper"
      ],
      "execution_count": 0,
      "outputs": []
    },
    {
      "cell_type": "code",
      "metadata": {
        "id": "oTCG8MYs70ql",
        "colab_type": "code",
        "colab": {}
      },
      "source": [
        "mapper = DataFrameMapper(steps, df_out = True)"
      ],
      "execution_count": 0,
      "outputs": []
    },
    {
      "cell_type": "code",
      "metadata": {
        "id": "WlNYPmXH70qn",
        "colab_type": "code",
        "colab": {}
      },
      "source": [
        "coerced_cat_df = mapper.fit_transform(reduced_df)"
      ],
      "execution_count": 0,
      "outputs": []
    },
    {
      "cell_type": "code",
      "metadata": {
        "id": "2uCS0t3g70qp",
        "colab_type": "code",
        "outputId": "2aa337d1-d443-4f99-ce42-c64e7a136316",
        "colab": {}
      },
      "source": [
        "coerced_cat_df.shape"
      ],
      "execution_count": 0,
      "outputs": [
        {
          "output_type": "execute_result",
          "data": {
            "text/plain": [
              "(8000, 180)"
            ]
          },
          "metadata": {
            "tags": []
          },
          "execution_count": 61
        }
      ]
    },
    {
      "cell_type": "markdown",
      "metadata": {
        "id": "QgLHEUaT70qq",
        "colab_type": "text"
      },
      "source": [
        "### Aggregating our Data"
      ]
    },
    {
      "cell_type": "markdown",
      "metadata": {
        "id": "GLtfW57U70qr",
        "colab_type": "text"
      },
      "source": [
        "At this point, we can take our original dataframe."
      ]
    },
    {
      "cell_type": "code",
      "metadata": {
        "id": "DvZYXKFn70qr",
        "colab_type": "code",
        "colab": {}
      },
      "source": [
        "import pandas as pd\n",
        "df = pd.read_csv('./coerced_bools_complete.csv', index_col = 0)"
      ],
      "execution_count": 0,
      "outputs": []
    },
    {
      "cell_type": "code",
      "metadata": {
        "id": "L0yMQvjD70qs",
        "colab_type": "code",
        "colab": {}
      },
      "source": [
        "import json\n",
        "\n",
        "file = './coerced_bools_complete_dtypes.json'\n",
        "with open(file, 'r') as f:\n",
        "    dtypes = json.load(f)"
      ],
      "execution_count": 0,
      "outputs": []
    },
    {
      "cell_type": "code",
      "metadata": {
        "id": "K5WGHV_u70qv",
        "colab_type": "code",
        "colab": {}
      },
      "source": [
        "df = df.astype(dtypes)"
      ],
      "execution_count": 0,
      "outputs": []
    },
    {
      "cell_type": "code",
      "metadata": {
        "id": "TSX4mCqH70qw",
        "colab_type": "code",
        "outputId": "9333799e-ff08-4b3b-951d-a95a516cd771",
        "colab": {}
      },
      "source": [
        "df.shape"
      ],
      "execution_count": 0,
      "outputs": [
        {
          "output_type": "execute_result",
          "data": {
            "text/plain": [
              "(8000, 83)"
            ]
          },
          "metadata": {
            "tags": []
          },
          "execution_count": 65
        }
      ]
    },
    {
      "cell_type": "markdown",
      "metadata": {
        "id": "oaBG5XOS70qy",
        "colab_type": "text"
      },
      "source": [
        "And drop the categorical columns, and add in our `coerced_cat_df`."
      ]
    },
    {
      "cell_type": "code",
      "metadata": {
        "id": "CPv_beqF70qy",
        "colab_type": "code",
        "colab": {}
      },
      "source": [
        "df_dropped_cats = df.drop(columns = cat_cols)"
      ],
      "execution_count": 0,
      "outputs": []
    },
    {
      "cell_type": "code",
      "metadata": {
        "id": "DCMDMKwM70q0",
        "colab_type": "code",
        "colab": {}
      },
      "source": [
        "df_dropped_cats[coerced_cat_df.columns] = coerced_cat_df"
      ],
      "execution_count": 0,
      "outputs": []
    },
    {
      "cell_type": "markdown",
      "metadata": {
        "id": "3mVFXL2-70q1",
        "colab_type": "text"
      },
      "source": [
        "Let's take a look at what object columns we have left."
      ]
    },
    {
      "cell_type": "code",
      "metadata": {
        "id": "5GuUkeSd70q2",
        "colab_type": "code",
        "colab": {}
      },
      "source": [
        "remaining_object_df = df_dropped_cats.select_dtypes('object')"
      ],
      "execution_count": 0,
      "outputs": []
    },
    {
      "cell_type": "code",
      "metadata": {
        "id": "hgEKG75J70q3",
        "colab_type": "code",
        "outputId": "e343af78-5200-4303-f7a4-eabdced118c1",
        "colab": {}
      },
      "source": [
        "remaining_object_df.shape"
      ],
      "execution_count": 0,
      "outputs": [
        {
          "output_type": "execute_result",
          "data": {
            "text/plain": [
              "(8000, 19)"
            ]
          },
          "metadata": {
            "tags": []
          },
          "execution_count": 69
        }
      ]
    },
    {
      "cell_type": "code",
      "metadata": {
        "id": "bf88YrZ670q5",
        "colab_type": "code",
        "outputId": "3522bc2d-bee4-4154-df8e-666b55d5154e",
        "colab": {}
      },
      "source": [
        "remaining_object_df[:2].T"
      ],
      "execution_count": 0,
      "outputs": [
        {
          "output_type": "execute_result",
          "data": {
            "text/html": [
              "<div>\n",
              "<style scoped>\n",
              "    .dataframe tbody tr th:only-of-type {\n",
              "        vertical-align: middle;\n",
              "    }\n",
              "\n",
              "    .dataframe tbody tr th {\n",
              "        vertical-align: top;\n",
              "    }\n",
              "\n",
              "    .dataframe thead th {\n",
              "        text-align: right;\n",
              "    }\n",
              "</style>\n",
              "<table border=\"1\" class=\"dataframe\">\n",
              "  <thead>\n",
              "    <tr style=\"text-align: right;\">\n",
              "      <th></th>\n",
              "      <th>0</th>\n",
              "      <th>1</th>\n",
              "    </tr>\n",
              "  </thead>\n",
              "  <tbody>\n",
              "    <tr>\n",
              "      <th>listing_url</th>\n",
              "      <td>https://www.airbnb.com/rooms/2015</td>\n",
              "      <td>https://www.airbnb.com/rooms/2695</td>\n",
              "    </tr>\n",
              "    <tr>\n",
              "      <th>name</th>\n",
              "      <td>Berlin-Mitte Value! Quiet courtyard/very central</td>\n",
              "      <td>Prenzlauer Berg close to Mauerpark</td>\n",
              "    </tr>\n",
              "    <tr>\n",
              "      <th>summary</th>\n",
              "      <td>Great location!  30 of 75 sq meters. This wood...</td>\n",
              "      <td>NaN</td>\n",
              "    </tr>\n",
              "    <tr>\n",
              "      <th>space</th>\n",
              "      <td>A+++ location! This „Einliegerwohnung“ is an e...</td>\n",
              "      <td>In the summertime we are spending most of our ...</td>\n",
              "    </tr>\n",
              "    <tr>\n",
              "      <th>description</th>\n",
              "      <td>Great location!  30 of 75 sq meters. This wood...</td>\n",
              "      <td>In the summertime we are spending most of our ...</td>\n",
              "    </tr>\n",
              "    <tr>\n",
              "      <th>neighborhood_overview</th>\n",
              "      <td>It is located in the former East Berlin area o...</td>\n",
              "      <td>NaN</td>\n",
              "    </tr>\n",
              "    <tr>\n",
              "      <th>notes</th>\n",
              "      <td>This is my home, not a hotel. I rent out occas...</td>\n",
              "      <td>NaN</td>\n",
              "    </tr>\n",
              "    <tr>\n",
              "      <th>transit</th>\n",
              "      <td>Close to U-Bahn U8 and U2 (metro), Trams M12, ...</td>\n",
              "      <td>Within walking distance you'll find the S-Bahn...</td>\n",
              "    </tr>\n",
              "    <tr>\n",
              "      <th>access</th>\n",
              "      <td>Simple kitchen/cooking, refrigerator, microwav...</td>\n",
              "      <td>Außer deinem Zimmer kannst du noch die Küche u...</td>\n",
              "    </tr>\n",
              "    <tr>\n",
              "      <th>interaction</th>\n",
              "      <td>Always available</td>\n",
              "      <td>NaN</td>\n",
              "    </tr>\n",
              "    <tr>\n",
              "      <th>house_rules</th>\n",
              "      <td>No parties No events No pets No smoking, not e...</td>\n",
              "      <td>NaN</td>\n",
              "    </tr>\n",
              "    <tr>\n",
              "      <th>picture_url</th>\n",
              "      <td>https://a0.muscache.com/im/pictures/260fd609-7...</td>\n",
              "      <td>https://a0.muscache.com/im/pictures/97d4f6e8-1...</td>\n",
              "    </tr>\n",
              "    <tr>\n",
              "      <th>host_url</th>\n",
              "      <td>https://www.airbnb.com/users/show/2217</td>\n",
              "      <td>https://www.airbnb.com/users/show/2986</td>\n",
              "    </tr>\n",
              "    <tr>\n",
              "      <th>host_name</th>\n",
              "      <td>Ian</td>\n",
              "      <td>Michael</td>\n",
              "    </tr>\n",
              "    <tr>\n",
              "      <th>host_about</th>\n",
              "      <td>Believe in sharing economy.</td>\n",
              "      <td>Living with my wife in Berlin.  Like travellin...</td>\n",
              "    </tr>\n",
              "    <tr>\n",
              "      <th>host_thumbnail_url</th>\n",
              "      <td>https://a0.muscache.com/im/pictures/21428a22-4...</td>\n",
              "      <td>https://a0.muscache.com/im/pictures/50434955-1...</td>\n",
              "    </tr>\n",
              "    <tr>\n",
              "      <th>host_picture_url</th>\n",
              "      <td>https://a0.muscache.com/im/pictures/21428a22-4...</td>\n",
              "      <td>https://a0.muscache.com/im/pictures/50434955-1...</td>\n",
              "    </tr>\n",
              "    <tr>\n",
              "      <th>amenities</th>\n",
              "      <td>{TV,\"Cable TV\",Wifi,Kitchen,Gym,Heating,\"Famil...</td>\n",
              "      <td>{Wifi,Kitchen,Elevator,Heating,Washer,Essentia...</td>\n",
              "    </tr>\n",
              "    <tr>\n",
              "      <th>license</th>\n",
              "      <td>NaN</td>\n",
              "      <td>NaN</td>\n",
              "    </tr>\n",
              "  </tbody>\n",
              "</table>\n",
              "</div>"
            ],
            "text/plain": [
              "                                                                       0  \\\n",
              "listing_url                            https://www.airbnb.com/rooms/2015   \n",
              "name                    Berlin-Mitte Value! Quiet courtyard/very central   \n",
              "summary                Great location!  30 of 75 sq meters. This wood...   \n",
              "space                  A+++ location! This „Einliegerwohnung“ is an e...   \n",
              "description            Great location!  30 of 75 sq meters. This wood...   \n",
              "neighborhood_overview  It is located in the former East Berlin area o...   \n",
              "notes                  This is my home, not a hotel. I rent out occas...   \n",
              "transit                Close to U-Bahn U8 and U2 (metro), Trams M12, ...   \n",
              "access                 Simple kitchen/cooking, refrigerator, microwav...   \n",
              "interaction                                             Always available   \n",
              "house_rules            No parties No events No pets No smoking, not e...   \n",
              "picture_url            https://a0.muscache.com/im/pictures/260fd609-7...   \n",
              "host_url                          https://www.airbnb.com/users/show/2217   \n",
              "host_name                                                            Ian   \n",
              "host_about                                   Believe in sharing economy.   \n",
              "host_thumbnail_url     https://a0.muscache.com/im/pictures/21428a22-4...   \n",
              "host_picture_url       https://a0.muscache.com/im/pictures/21428a22-4...   \n",
              "amenities              {TV,\"Cable TV\",Wifi,Kitchen,Gym,Heating,\"Famil...   \n",
              "license                                                              NaN   \n",
              "\n",
              "                                                                       1  \n",
              "listing_url                            https://www.airbnb.com/rooms/2695  \n",
              "name                                  Prenzlauer Berg close to Mauerpark  \n",
              "summary                                                              NaN  \n",
              "space                  In the summertime we are spending most of our ...  \n",
              "description            In the summertime we are spending most of our ...  \n",
              "neighborhood_overview                                                NaN  \n",
              "notes                                                                NaN  \n",
              "transit                Within walking distance you'll find the S-Bahn...  \n",
              "access                 Außer deinem Zimmer kannst du noch die Küche u...  \n",
              "interaction                                                          NaN  \n",
              "house_rules                                                          NaN  \n",
              "picture_url            https://a0.muscache.com/im/pictures/97d4f6e8-1...  \n",
              "host_url                          https://www.airbnb.com/users/show/2986  \n",
              "host_name                                                        Michael  \n",
              "host_about             Living with my wife in Berlin.  Like travellin...  \n",
              "host_thumbnail_url     https://a0.muscache.com/im/pictures/50434955-1...  \n",
              "host_picture_url       https://a0.muscache.com/im/pictures/50434955-1...  \n",
              "amenities              {Wifi,Kitchen,Elevator,Heating,Washer,Essentia...  \n",
              "license                                                              NaN  "
            ]
          },
          "metadata": {
            "tags": []
          },
          "execution_count": 70
        }
      ]
    },
    {
      "cell_type": "markdown",
      "metadata": {
        "id": "wrzZQpjU70q7",
        "colab_type": "text"
      },
      "source": [
        "It looks  like these are not categorical (with the exception perhaps of amenities and licence), so let's export our data."
      ]
    },
    {
      "cell_type": "code",
      "metadata": {
        "id": "_w4einPR70q7",
        "colab_type": "code",
        "colab": {}
      },
      "source": [
        "df_dropped_cats.to_csv('./coerced_cats.csv')"
      ],
      "execution_count": 0,
      "outputs": []
    },
    {
      "cell_type": "code",
      "metadata": {
        "id": "9ancyfzl70q9",
        "colab_type": "code",
        "colab": {}
      },
      "source": [
        "dtypes = df_dropped_cats.dtypes.astype(str).to_dict()"
      ],
      "execution_count": 0,
      "outputs": []
    },
    {
      "cell_type": "code",
      "metadata": {
        "id": "BtEbsVqg70q_",
        "colab_type": "code",
        "colab": {}
      },
      "source": [
        "import json\n",
        "with open('./dtypes_coerced_cats.json', 'w') as f:\n",
        "    json.dump(dtypes, f)"
      ],
      "execution_count": 0,
      "outputs": []
    },
    {
      "cell_type": "markdown",
      "metadata": {
        "id": "yIjIaMCm70rA",
        "colab_type": "text"
      },
      "source": [
        "### Summary "
      ]
    },
    {
      "cell_type": "markdown",
      "metadata": {
        "id": "g3LdaASM70rB",
        "colab_type": "text"
      },
      "source": [
        "In this lesson we coercing our categorical data by first identifying our categorical features with the `summarize_cats` method.  We then used `selected_cat_values` to take a look at the common values in each of these columns. \n",
        "\n",
        "Finally, we moved onto coercing our categorical columns.  We made three coercions in all.  First, we replaced sparse values with `other`.  Then, we replaced na values and applied one hot encoding with a DataFrameMapper."
      ]
    },
    {
      "cell_type": "code",
      "metadata": {
        "id": "blaJeXA-70rB",
        "colab_type": "code",
        "colab": {}
      },
      "source": [
        ""
      ],
      "execution_count": 0,
      "outputs": []
    }
  ]
}