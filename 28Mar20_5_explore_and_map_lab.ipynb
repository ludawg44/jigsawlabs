{
  "nbformat": 4,
  "nbformat_minor": 0,
  "metadata": {
    "kernelspec": {
      "display_name": "Python 3",
      "language": "python",
      "name": "python3"
    },
    "language_info": {
      "codemirror_mode": {
        "name": "ipython",
        "version": 3
      },
      "file_extension": ".py",
      "mimetype": "text/x-python",
      "name": "python",
      "nbconvert_exporter": "python",
      "pygments_lexer": "ipython3",
      "version": "3.7.4"
    },
    "colab": {
      "name": "Copy of 5-explore-and-map-lab.ipynb",
      "provenance": [],
      "include_colab_link": true
    }
  },
  "cells": [
    {
      "cell_type": "markdown",
      "metadata": {
        "id": "view-in-github",
        "colab_type": "text"
      },
      "source": [
        "<a href=\"https://colab.research.google.com/github/ludawg44/jigsawlabs/blob/master/28Mar20_5_explore_and_map_lab.ipynb\" target=\"_parent\"><img src=\"https://colab.research.google.com/assets/colab-badge.svg\" alt=\"Open In Colab\"/></a>"
      ]
    },
    {
      "cell_type": "markdown",
      "metadata": {
        "id": "KzZlC0zYf4Kq",
        "colab_type": "text"
      },
      "source": [
        "# Explore and Map Lab"
      ]
    },
    {
      "cell_type": "markdown",
      "metadata": {
        "id": "QoILpfTBf4Kr",
        "colab_type": "text"
      },
      "source": [
        "### Introduction"
      ]
    },
    {
      "cell_type": "markdown",
      "metadata": {
        "id": "bA_eAm3_f4Kr",
        "colab_type": "text"
      },
      "source": [
        "In the last lesson, we saw some methods for identifying data that we can coerce into numbers.  Let's get some practice with identifying and coercing data in this lab."
      ]
    },
    {
      "cell_type": "markdown",
      "metadata": {
        "id": "ZxHSy-53f4Ks",
        "colab_type": "text"
      },
      "source": [
        "## Loading and Exploring our Data"
      ]
    },
    {
      "cell_type": "markdown",
      "metadata": {
        "id": "aYORnb1Bf4Kt",
        "colab_type": "text"
      },
      "source": [
        "Let's begin by loading up our data at the following url."
      ]
    },
    {
      "cell_type": "code",
      "metadata": {
        "id": "0S_p1QCDf4Kt",
        "colab_type": "code",
        "colab": {}
      },
      "source": [
        "url = 'https://raw.githubusercontent.com/jigsawlabs-student/introductory-pandas/master/2-coercing-data/semi-cleaned-imdb.csv?token=ANKFJMA5DF6AJEZ6CKO4C6C6QVGIE'"
      ],
      "execution_count": 0,
      "outputs": []
    },
    {
      "cell_type": "markdown",
      "metadata": {
        "id": "q--pLBmqf4Kw",
        "colab_type": "text"
      },
      "source": [
        "Import the pandas library, and read the csv file, storing the data in a dataframe as the variable `df`."
      ]
    },
    {
      "cell_type": "code",
      "metadata": {
        "id": "FFrXOZm7f4Kx",
        "colab_type": "code",
        "colab": {}
      },
      "source": [
        "import pandas as pd\n",
        "df = None\n",
        "df[:2]\n",
        "# \ttitle\tbudget\truntime\toriginal_language\trelease_date\trevenue\tgenre\n",
        "# 0\tAvatar\t237000000\t162.0\ten\t2009-12-10\t2787965087\tAction\n",
        "# 1\tPirates of the Caribbean: At World's End\t300000000\t169.0\ten\t2007-05-19\t961000000\tAdventure"
      ],
      "execution_count": 0,
      "outputs": []
    },
    {
      "cell_type": "markdown",
      "metadata": {
        "id": "cd1kJ5rJf4Kz",
        "colab_type": "text"
      },
      "source": [
        "Ok, now it's time to explore some of our data.  We want to identify the datatypes of each of the columns."
      ]
    },
    {
      "cell_type": "code",
      "metadata": {
        "id": "3u1XWZABf4Kz",
        "colab_type": "code",
        "colab": {}
      },
      "source": [
        "None\n",
        "\n",
        "# title                 object\n",
        "# budget                 int64\n",
        "# runtime              float64\n",
        "# original_language     object\n",
        "# release_date          object\n",
        "# revenue                int64\n",
        "# genre                 object\n",
        "# dtype: object"
      ],
      "execution_count": 0,
      "outputs": []
    },
    {
      "cell_type": "markdown",
      "metadata": {
        "id": "e0Fgek4of4K3",
        "colab_type": "text"
      },
      "source": [
        "So we can see that a number of the columns are objects, let's select just the columns that are of type `object` from the dataframe."
      ]
    },
    {
      "cell_type": "code",
      "metadata": {
        "id": "gRbvCAeTf4K3",
        "colab_type": "code",
        "outputId": "49173f29-64d4-4fc1-a1a0-57ba64ec07ec",
        "colab": {}
      },
      "source": [
        "object_df = None\n",
        "object_df[:2]\n",
        "\n",
        "# title\toriginal_language\trelease_date\tgenre\n",
        "# 0\tAvatar\ten\t2009-12-10\tAction\n",
        "# 1\tPirates of the Caribbean: At World's End\ten\t2007-05-19\tAdventure"
      ],
      "execution_count": 0,
      "outputs": [
        {
          "output_type": "execute_result",
          "data": {
            "text/html": [
              "<div>\n",
              "<style scoped>\n",
              "    .dataframe tbody tr th:only-of-type {\n",
              "        vertical-align: middle;\n",
              "    }\n",
              "\n",
              "    .dataframe tbody tr th {\n",
              "        vertical-align: top;\n",
              "    }\n",
              "\n",
              "    .dataframe thead th {\n",
              "        text-align: right;\n",
              "    }\n",
              "</style>\n",
              "<table border=\"1\" class=\"dataframe\">\n",
              "  <thead>\n",
              "    <tr style=\"text-align: right;\">\n",
              "      <th></th>\n",
              "      <th>title</th>\n",
              "      <th>original_language</th>\n",
              "      <th>release_date</th>\n",
              "      <th>genre</th>\n",
              "    </tr>\n",
              "  </thead>\n",
              "  <tbody>\n",
              "    <tr>\n",
              "      <td>0</td>\n",
              "      <td>Avatar</td>\n",
              "      <td>en</td>\n",
              "      <td>2009-12-10</td>\n",
              "      <td>Action</td>\n",
              "    </tr>\n",
              "    <tr>\n",
              "      <td>1</td>\n",
              "      <td>Pirates of the Caribbean: At World's End</td>\n",
              "      <td>en</td>\n",
              "      <td>2007-05-19</td>\n",
              "      <td>Adventure</td>\n",
              "    </tr>\n",
              "  </tbody>\n",
              "</table>\n",
              "</div>"
            ],
            "text/plain": [
              "                                      title original_language release_date  \\\n",
              "0                                    Avatar                en   2009-12-10   \n",
              "1  Pirates of the Caribbean: At World's End                en   2007-05-19   \n",
              "\n",
              "       genre  \n",
              "0     Action  \n",
              "1  Adventure  "
            ]
          },
          "metadata": {
            "tags": []
          },
          "execution_count": 8
        }
      ]
    },
    {
      "cell_type": "markdown",
      "metadata": {
        "id": "c4MVmh0Yf4K6",
        "colab_type": "text"
      },
      "source": [
        "Now let's just view the columns in the `object_df`."
      ]
    },
    {
      "cell_type": "code",
      "metadata": {
        "id": "UFLZSUY1f4K7",
        "colab_type": "code",
        "colab": {}
      },
      "source": [
        "object_cols = None\n",
        "object_cols"
      ],
      "execution_count": 0,
      "outputs": []
    },
    {
      "cell_type": "markdown",
      "metadata": {
        "id": "OsMqPAC0f4K-",
        "colab_type": "text"
      },
      "source": [
        "Ok, so `title` will not be used as a feature in our model, but potentially the other columns of `original_language`, `release_date` and `genre` can be used.  Let's focus on `original_language`, and keep going from there."
      ]
    },
    {
      "cell_type": "markdown",
      "metadata": {
        "id": "_ZOc5oHkf4K-",
        "colab_type": "text"
      },
      "source": [
        "Ok, so to see how easy it would be to change `original_language` let's look at the various values in `original_language`."
      ]
    },
    {
      "cell_type": "code",
      "metadata": {
        "id": "p_dws3raf4K-",
        "colab_type": "code",
        "outputId": "beb70370-2db5-46e2-975e-444905c67285",
        "colab": {}
      },
      "source": [
        "df.original_language.value_counts()"
      ],
      "execution_count": 0,
      "outputs": [
        {
          "output_type": "execute_result",
          "data": {
            "text/plain": [
              "en    1953\n",
              "fr      13\n",
              "zh      11\n",
              "ru       5\n",
              "ja       4\n",
              "es       4\n",
              "de       3\n",
              "ko       2\n",
              "cn       2\n",
              "it       1\n",
              "hi       1\n",
              "te       1\n",
              "Name: original_language, dtype: int64"
            ]
          },
          "metadata": {
            "tags": []
          },
          "execution_count": 10
        }
      ]
    },
    {
      "cell_type": "markdown",
      "metadata": {
        "id": "FvzuYDgYf4LA",
        "colab_type": "text"
      },
      "source": [
        "### Coercing Data"
      ]
    },
    {
      "cell_type": "markdown",
      "metadata": {
        "id": "oqrfXOJtf4LB",
        "colab_type": "text"
      },
      "source": [
        "Ok, so it looks like we perhaps change this to a column of `in_english`, and store True if the movie is in English and False otherwise.  Let's use our `map` function, starting with using it with a dictionary."
      ]
    },
    {
      "cell_type": "code",
      "metadata": {
        "id": "iuR7DKs9f4LB",
        "colab_type": "code",
        "colab": {}
      },
      "source": [
        "mapping = None"
      ],
      "execution_count": 0,
      "outputs": []
    },
    {
      "cell_type": "code",
      "metadata": {
        "id": "jFtvxE5Ef4LE",
        "colab_type": "code",
        "colab": {}
      },
      "source": [
        "lan_bool = None\n",
        "lan_bool.value_counts()\n",
        "\n",
        "# True     1953\n",
        "# False      47\n",
        "# Name: original_language, dtype: int64"
      ],
      "execution_count": 0,
      "outputs": []
    },
    {
      "cell_type": "markdown",
      "metadata": {
        "id": "3EvJGum0f4LG",
        "colab_type": "text"
      },
      "source": [
        "Now let's use `map` with a method to change `en` to True, and every other value to False."
      ]
    },
    {
      "cell_type": "code",
      "metadata": {
        "id": "CNHGHEANf4LH",
        "colab_type": "code",
        "colab": {}
      },
      "source": [
        "def lan_to_bool(language):\n",
        "    pass"
      ],
      "execution_count": 0,
      "outputs": []
    },
    {
      "cell_type": "code",
      "metadata": {
        "id": "BO8ZsAXzf4LK",
        "colab_type": "code",
        "colab": {}
      },
      "source": [
        "lan_bool = None"
      ],
      "execution_count": 0,
      "outputs": []
    },
    {
      "cell_type": "code",
      "metadata": {
        "id": "DlHwzZLcf4LM",
        "colab_type": "code",
        "outputId": "f9305cf7-ed82-4a9d-b859-434d1e0518a8",
        "colab": {}
      },
      "source": [
        "lan_bool.value_counts()\n",
        "# True     1953\n",
        "# False      47\n",
        "# Name: original_language, dtype: int64"
      ],
      "execution_count": 0,
      "outputs": [
        {
          "output_type": "execute_result",
          "data": {
            "text/plain": [
              "True     1953\n",
              "False      47\n",
              "Name: original_language, dtype: int64"
            ]
          },
          "metadata": {
            "tags": []
          },
          "execution_count": 34
        }
      ]
    },
    {
      "cell_type": "markdown",
      "metadata": {
        "id": "_wtJJbnKf4LO",
        "colab_type": "text"
      },
      "source": [
        "Ok, now that we have our data in the format we want, let's copy our original dataframe, and add a column for `in_english`.  We'll do this for you."
      ]
    },
    {
      "cell_type": "code",
      "metadata": {
        "id": "5-wG05yHf4LO",
        "colab_type": "code",
        "colab": {}
      },
      "source": [
        "df_updated = df.copy()\n",
        "\n",
        "df_updated['in_english'] = lan_bool"
      ],
      "execution_count": 0,
      "outputs": []
    },
    {
      "cell_type": "code",
      "metadata": {
        "id": "xSD6Uw5bf4LQ",
        "colab_type": "code",
        "outputId": "aedaf582-ee10-4edc-b9a1-6eb70584dbb5",
        "colab": {}
      },
      "source": [
        "df_updated[:2]"
      ],
      "execution_count": 0,
      "outputs": [
        {
          "output_type": "execute_result",
          "data": {
            "text/html": [
              "<div>\n",
              "<style scoped>\n",
              "    .dataframe tbody tr th:only-of-type {\n",
              "        vertical-align: middle;\n",
              "    }\n",
              "\n",
              "    .dataframe tbody tr th {\n",
              "        vertical-align: top;\n",
              "    }\n",
              "\n",
              "    .dataframe thead th {\n",
              "        text-align: right;\n",
              "    }\n",
              "</style>\n",
              "<table border=\"1\" class=\"dataframe\">\n",
              "  <thead>\n",
              "    <tr style=\"text-align: right;\">\n",
              "      <th></th>\n",
              "      <th>title</th>\n",
              "      <th>budget</th>\n",
              "      <th>runtime</th>\n",
              "      <th>original_language</th>\n",
              "      <th>release_date</th>\n",
              "      <th>revenue</th>\n",
              "      <th>genre</th>\n",
              "      <th>in_english</th>\n",
              "    </tr>\n",
              "  </thead>\n",
              "  <tbody>\n",
              "    <tr>\n",
              "      <td>0</td>\n",
              "      <td>Avatar</td>\n",
              "      <td>237000000</td>\n",
              "      <td>162.0</td>\n",
              "      <td>en</td>\n",
              "      <td>2009-12-10</td>\n",
              "      <td>2787965087</td>\n",
              "      <td>Action</td>\n",
              "      <td>True</td>\n",
              "    </tr>\n",
              "    <tr>\n",
              "      <td>1</td>\n",
              "      <td>Pirates of the Caribbean: At World's End</td>\n",
              "      <td>300000000</td>\n",
              "      <td>169.0</td>\n",
              "      <td>en</td>\n",
              "      <td>2007-05-19</td>\n",
              "      <td>961000000</td>\n",
              "      <td>Adventure</td>\n",
              "      <td>True</td>\n",
              "    </tr>\n",
              "  </tbody>\n",
              "</table>\n",
              "</div>"
            ],
            "text/plain": [
              "                                      title     budget  runtime  \\\n",
              "0                                    Avatar  237000000    162.0   \n",
              "1  Pirates of the Caribbean: At World's End  300000000    169.0   \n",
              "\n",
              "  original_language release_date     revenue      genre  in_english  \n",
              "0                en   2009-12-10  2787965087     Action        True  \n",
              "1                en   2007-05-19   961000000  Adventure        True  "
            ]
          },
          "metadata": {
            "tags": []
          },
          "execution_count": 43
        }
      ]
    },
    {
      "cell_type": "markdown",
      "metadata": {
        "id": "b7SvuHgpf4LS",
        "colab_type": "text"
      },
      "source": [
        "Next, drop the `original_language` column."
      ]
    },
    {
      "cell_type": "code",
      "metadata": {
        "id": "tUCpSY52f4LS",
        "colab_type": "code",
        "colab": {}
      },
      "source": [
        "df_with_en_col = df_updated.drop(columns= ['original_language'])\n",
        "\n",
        "'original_language' in df_with_en_col.columns\n",
        "\n",
        "# False"
      ],
      "execution_count": 0,
      "outputs": []
    },
    {
      "cell_type": "code",
      "metadata": {
        "id": "AqtoEZ9rf4LU",
        "colab_type": "code",
        "outputId": "ada971ef-5bfe-45d4-c6a9-7a4f2c73c046",
        "colab": {}
      },
      "source": [
        "df_with_en_col.select_dtypes('object')[:3]"
      ],
      "execution_count": 0,
      "outputs": [
        {
          "output_type": "execute_result",
          "data": {
            "text/html": [
              "<div>\n",
              "<style scoped>\n",
              "    .dataframe tbody tr th:only-of-type {\n",
              "        vertical-align: middle;\n",
              "    }\n",
              "\n",
              "    .dataframe tbody tr th {\n",
              "        vertical-align: top;\n",
              "    }\n",
              "\n",
              "    .dataframe thead th {\n",
              "        text-align: right;\n",
              "    }\n",
              "</style>\n",
              "<table border=\"1\" class=\"dataframe\">\n",
              "  <thead>\n",
              "    <tr style=\"text-align: right;\">\n",
              "      <th></th>\n",
              "      <th>title</th>\n",
              "      <th>release_date</th>\n",
              "      <th>genre</th>\n",
              "    </tr>\n",
              "  </thead>\n",
              "  <tbody>\n",
              "    <tr>\n",
              "      <td>0</td>\n",
              "      <td>Avatar</td>\n",
              "      <td>2009-12-10</td>\n",
              "      <td>Action</td>\n",
              "    </tr>\n",
              "    <tr>\n",
              "      <td>1</td>\n",
              "      <td>Pirates of the Caribbean: At World's End</td>\n",
              "      <td>2007-05-19</td>\n",
              "      <td>Adventure</td>\n",
              "    </tr>\n",
              "    <tr>\n",
              "      <td>2</td>\n",
              "      <td>Spectre</td>\n",
              "      <td>2015-10-26</td>\n",
              "      <td>Action</td>\n",
              "    </tr>\n",
              "  </tbody>\n",
              "</table>\n",
              "</div>"
            ],
            "text/plain": [
              "                                      title release_date      genre\n",
              "0                                    Avatar   2009-12-10     Action\n",
              "1  Pirates of the Caribbean: At World's End   2007-05-19  Adventure\n",
              "2                                   Spectre   2015-10-26     Action"
            ]
          },
          "metadata": {
            "tags": []
          },
          "execution_count": 46
        }
      ]
    },
    {
      "cell_type": "markdown",
      "metadata": {
        "id": "ABWo8o5sf4LW",
        "colab_type": "text"
      },
      "source": [
        "We can see that now we only have the `release_date` column to clean up.  It's currently of type object, but we can change that.  "
      ]
    },
    {
      "cell_type": "markdown",
      "metadata": {
        "id": "FBFaZ_YSf4LX",
        "colab_type": "text"
      },
      "source": [
        "### Working with DateTimes"
      ]
    },
    {
      "cell_type": "markdown",
      "metadata": {
        "id": "YdxDqFdWf4LX",
        "colab_type": "text"
      },
      "source": [
        "Yes, we've never worked with datetimes before, but that doesn't mean we can't try it in a lab.  Don't worry, we'll provide some help.  Take a look at the first value of `release_date`."
      ]
    },
    {
      "cell_type": "code",
      "metadata": {
        "id": "b2RpafJRf4LY",
        "colab_type": "code",
        "outputId": "64b37968-e8ef-4474-8269-4ed89d75bc68",
        "colab": {}
      },
      "source": [
        "df.release_date[0]"
      ],
      "execution_count": 0,
      "outputs": [
        {
          "output_type": "execute_result",
          "data": {
            "text/plain": [
              "'2009-12-10'"
            ]
          },
          "metadata": {
            "tags": []
          },
          "execution_count": 49
        }
      ]
    },
    {
      "cell_type": "markdown",
      "metadata": {
        "id": "wlXBzOWKf4La",
        "colab_type": "text"
      },
      "source": [
        "It's a simple string -- which makes sense, considering the datatype of the series is of type object.  Now to feed this into our model, we could perhaps create a column for the `month_released` and `year_released`.  To do this, we first want to change our series from a type object to a type `datetime`.  This is easy enough."
      ]
    },
    {
      "cell_type": "markdown",
      "metadata": {
        "id": "UB2OMDouf4La",
        "colab_type": "text"
      },
      "source": [
        "We can use the `astype` method to do this."
      ]
    },
    {
      "cell_type": "code",
      "metadata": {
        "id": "UIRDUUfpf4La",
        "colab_type": "code",
        "outputId": "613ded79-fbce-4481-f3cf-ff9edffa4d47",
        "colab": {}
      },
      "source": [
        "df.release_date.astype('datetime64[ns]')"
      ],
      "execution_count": 0,
      "outputs": [
        {
          "output_type": "execute_result",
          "data": {
            "text/plain": [
              "0      2009-12-10\n",
              "1      2007-05-19\n",
              "2      2015-10-26\n",
              "3      2012-07-16\n",
              "4      2012-03-07\n",
              "          ...    \n",
              "1995   2000-02-18\n",
              "1996   2001-03-30\n",
              "1997   2013-12-18\n",
              "1998   2001-10-05\n",
              "1999   2013-12-05\n",
              "Name: release_date, Length: 2000, dtype: datetime64[ns]"
            ]
          },
          "metadata": {
            "tags": []
          },
          "execution_count": 51
        }
      ]
    },
    {
      "cell_type": "markdown",
      "metadata": {
        "id": "XDsncJuUf4Ld",
        "colab_type": "text"
      },
      "source": [
        "Or even easier, we can use the `pd.to_datetime` method."
      ]
    },
    {
      "cell_type": "code",
      "metadata": {
        "id": "Q3fBroXVf4Ld",
        "colab_type": "code",
        "outputId": "adc973a4-6cce-46a0-c111-fa258bb754ab",
        "colab": {}
      },
      "source": [
        "release_date_dt = pd.to_datetime(df.release_date)\n",
        "release_date_dt"
      ],
      "execution_count": 0,
      "outputs": [
        {
          "output_type": "execute_result",
          "data": {
            "text/plain": [
              "0      2009-12-10\n",
              "1      2007-05-19\n",
              "2      2015-10-26\n",
              "3      2012-07-16\n",
              "4      2012-03-07\n",
              "          ...    \n",
              "1995   2000-02-18\n",
              "1996   2001-03-30\n",
              "1997   2013-12-18\n",
              "1998   2001-10-05\n",
              "1999   2013-12-05\n",
              "Name: release_date, Length: 2000, dtype: datetime64[ns]"
            ]
          },
          "metadata": {
            "tags": []
          },
          "execution_count": 54
        }
      ]
    },
    {
      "cell_type": "markdown",
      "metadata": {
        "id": "GEQUgC1Gf4Lf",
        "colab_type": "text"
      },
      "source": [
        "Ok, great.  Now that each of our values is a datetime, there are various methods we can use to extract data from our datetimes."
      ]
    },
    {
      "cell_type": "markdown",
      "metadata": {
        "id": "cNatTEF7f4Lf",
        "colab_type": "text"
      },
      "source": [
        "For example, this is our first datetime."
      ]
    },
    {
      "cell_type": "code",
      "metadata": {
        "id": "lxX5WNggf4Lg",
        "colab_type": "code",
        "outputId": "7d88b05d-de61-4944-a393-838a698041ef",
        "colab": {}
      },
      "source": [
        "first_dt = release_date_dt[0]\n",
        "first_dt"
      ],
      "execution_count": 0,
      "outputs": [
        {
          "output_type": "execute_result",
          "data": {
            "text/plain": [
              "Timestamp('2009-12-10 00:00:00')"
            ]
          },
          "metadata": {
            "tags": []
          },
          "execution_count": 61
        }
      ]
    },
    {
      "cell_type": "markdown",
      "metadata": {
        "id": "P2gq7fdxf4Li",
        "colab_type": "text"
      },
      "source": [
        "And now we can get the month or year from that datetime."
      ]
    },
    {
      "cell_type": "code",
      "metadata": {
        "id": "xlAKc3t1f4Li",
        "colab_type": "code",
        "outputId": "8ad243c2-1684-41db-a6ce-bc884ca44ed0",
        "colab": {}
      },
      "source": [
        "first_dt.month"
      ],
      "execution_count": 0,
      "outputs": [
        {
          "output_type": "execute_result",
          "data": {
            "text/plain": [
              "12"
            ]
          },
          "metadata": {
            "tags": []
          },
          "execution_count": 62
        }
      ]
    },
    {
      "cell_type": "code",
      "metadata": {
        "id": "rTAq_jcBf4Ll",
        "colab_type": "code",
        "outputId": "d53982c4-6fef-4cde-c159-405bc0562bb2",
        "colab": {}
      },
      "source": [
        "first_dt.year"
      ],
      "execution_count": 0,
      "outputs": [
        {
          "output_type": "execute_result",
          "data": {
            "text/plain": [
              "2009"
            ]
          },
          "metadata": {
            "tags": []
          },
          "execution_count": 63
        }
      ]
    },
    {
      "cell_type": "markdown",
      "metadata": {
        "id": "BVvGTnDxf4Ln",
        "colab_type": "text"
      },
      "source": [
        "Now of course what we would like to do is just easily convert each of our values to a month and year, with something like."
      ]
    },
    {
      "cell_type": "code",
      "metadata": {
        "id": "3MsoeZf-f4Ln",
        "colab_type": "code",
        "colab": {}
      },
      "source": [
        "# release_date_dt.month"
      ],
      "execution_count": 0,
      "outputs": []
    },
    {
      "cell_type": "markdown",
      "metadata": {
        "id": "gtrVm3Ref4Lq",
        "colab_type": "text"
      },
      "source": [
        "But doing so will result in an error.  So instead, we should go through each entry in our series and call month or year on the datetime entry.  Sounds like a job for map.  We'll do the `month` conversion for you, showing how to use `map` without an intermediate function."
      ]
    },
    {
      "cell_type": "code",
      "metadata": {
        "id": "GjPeh562f4Lr",
        "colab_type": "code",
        "outputId": "2205aa30-369c-467f-bc37-759731da2192",
        "colab": {}
      },
      "source": [
        "release_month = release_date_dt.map(lambda release_date: release_date.month)\n",
        "release_month[:3]"
      ],
      "execution_count": 0,
      "outputs": [
        {
          "output_type": "execute_result",
          "data": {
            "text/plain": [
              "0    12\n",
              "1     5\n",
              "2    10\n",
              "Name: release_date, dtype: int64"
            ]
          },
          "metadata": {
            "tags": []
          },
          "execution_count": 68
        }
      ]
    },
    {
      "cell_type": "markdown",
      "metadata": {
        "id": "STZzY52jf4Lt",
        "colab_type": "text"
      },
      "source": [
        "Ok, now convert our values in `release_date_dt` to the corresponding year.  Assign the series to the value `release_year`."
      ]
    },
    {
      "cell_type": "code",
      "metadata": {
        "id": "Gs6qj8MNf4Lu",
        "colab_type": "code",
        "colab": {}
      },
      "source": [
        "release_year = None"
      ],
      "execution_count": 0,
      "outputs": []
    },
    {
      "cell_type": "markdown",
      "metadata": {
        "id": "5kXWfiiuf4Lv",
        "colab_type": "text"
      },
      "source": [
        "Now let's add these new columns to our dataframe."
      ]
    },
    {
      "cell_type": "markdown",
      "metadata": {
        "id": "OK7bJqGXf4Lw",
        "colab_type": "text"
      },
      "source": [
        "> First, we'll look again at our current columns."
      ]
    },
    {
      "cell_type": "code",
      "metadata": {
        "id": "LrpD-kjBf4Lw",
        "colab_type": "code",
        "outputId": "291e8f67-a17e-48fa-f72c-5e8a99c71536",
        "colab": {}
      },
      "source": [
        "df_with_en_col.columns"
      ],
      "execution_count": 0,
      "outputs": [
        {
          "output_type": "execute_result",
          "data": {
            "text/plain": [
              "Index(['title', 'budget', 'runtime', 'release_date', 'revenue', 'genre',\n",
              "       'in_english'],\n",
              "      dtype='object')"
            ]
          },
          "metadata": {
            "tags": []
          },
          "execution_count": 70
        }
      ]
    },
    {
      "cell_type": "markdown",
      "metadata": {
        "id": "BJjWYpPEf4Ly",
        "colab_type": "text"
      },
      "source": [
        "So we want copy our old dataframe, remove the `release_date` column and add a column for `release_year` and `release_month`.  Let's do it."
      ]
    },
    {
      "cell_type": "code",
      "metadata": {
        "id": "6oQKmvAHf4Ly",
        "colab_type": "code",
        "colab": {}
      },
      "source": [
        "df_with_en_col_copy = df_with_en_col.copy()\n",
        "df_release = df_with_en_col_copy.drop(columns = ['release_date'])"
      ],
      "execution_count": 0,
      "outputs": []
    },
    {
      "cell_type": "code",
      "metadata": {
        "id": "2G0KADGAf4L0",
        "colab_type": "code",
        "colab": {}
      },
      "source": [
        "df_release['release_year'] = release_year"
      ],
      "execution_count": 0,
      "outputs": []
    },
    {
      "cell_type": "markdown",
      "metadata": {
        "id": "u7AFwldif4L1",
        "colab_type": "text"
      },
      "source": [
        "Now assign the column `release_month` to the `release_month` series."
      ]
    },
    {
      "cell_type": "code",
      "metadata": {
        "id": "sULgOvu4f4L2",
        "colab_type": "code",
        "colab": {}
      },
      "source": [
        "df_release['release_month'] = release_month"
      ],
      "execution_count": 0,
      "outputs": []
    },
    {
      "cell_type": "markdown",
      "metadata": {
        "id": "-jvj-QWTf4L4",
        "colab_type": "text"
      },
      "source": [
        "Finally, let's take a look at our new dataframe's datatypes."
      ]
    },
    {
      "cell_type": "code",
      "metadata": {
        "id": "hV3BfVCSf4L4",
        "colab_type": "code",
        "outputId": "2825a18c-3c24-456c-a901-01ba908165c1",
        "colab": {}
      },
      "source": [
        "df_release.columns"
      ],
      "execution_count": 0,
      "outputs": [
        {
          "output_type": "execute_result",
          "data": {
            "text/plain": [
              "Index(['title', 'budget', 'runtime', 'revenue', 'genre', 'in_english',\n",
              "       'release_year', 'release_month'],\n",
              "      dtype='object')"
            ]
          },
          "metadata": {
            "tags": []
          },
          "execution_count": 84
        }
      ]
    },
    {
      "cell_type": "markdown",
      "metadata": {
        "id": "LlQD5ncRf4L6",
        "colab_type": "text"
      },
      "source": [
        "And let's select just the datatypes that are of type object."
      ]
    },
    {
      "cell_type": "code",
      "metadata": {
        "id": "4wudqXaUf4L6",
        "colab_type": "code",
        "outputId": "dd0425d3-a7e3-4923-c55e-d48f734bff04",
        "colab": {}
      },
      "source": [
        "df_release.select_dtypes('object')[:3]"
      ],
      "execution_count": 0,
      "outputs": [
        {
          "output_type": "execute_result",
          "data": {
            "text/html": [
              "<div>\n",
              "<style scoped>\n",
              "    .dataframe tbody tr th:only-of-type {\n",
              "        vertical-align: middle;\n",
              "    }\n",
              "\n",
              "    .dataframe tbody tr th {\n",
              "        vertical-align: top;\n",
              "    }\n",
              "\n",
              "    .dataframe thead th {\n",
              "        text-align: right;\n",
              "    }\n",
              "</style>\n",
              "<table border=\"1\" class=\"dataframe\">\n",
              "  <thead>\n",
              "    <tr style=\"text-align: right;\">\n",
              "      <th></th>\n",
              "      <th>title</th>\n",
              "      <th>genre</th>\n",
              "    </tr>\n",
              "  </thead>\n",
              "  <tbody>\n",
              "    <tr>\n",
              "      <td>0</td>\n",
              "      <td>Avatar</td>\n",
              "      <td>Action</td>\n",
              "    </tr>\n",
              "    <tr>\n",
              "      <td>1</td>\n",
              "      <td>Pirates of the Caribbean: At World's End</td>\n",
              "      <td>Adventure</td>\n",
              "    </tr>\n",
              "    <tr>\n",
              "      <td>2</td>\n",
              "      <td>Spectre</td>\n",
              "      <td>Action</td>\n",
              "    </tr>\n",
              "  </tbody>\n",
              "</table>\n",
              "</div>"
            ],
            "text/plain": [
              "                                      title      genre\n",
              "0                                    Avatar     Action\n",
              "1  Pirates of the Caribbean: At World's End  Adventure\n",
              "2                                   Spectre     Action"
            ]
          },
          "metadata": {
            "tags": []
          },
          "execution_count": 86
        }
      ]
    },
    {
      "cell_type": "markdown",
      "metadata": {
        "id": "Xnrj4HrMf4L8",
        "colab_type": "text"
      },
      "source": [
        "And if we look at all of the other columns, we see that the rest of our data is numeric."
      ]
    },
    {
      "cell_type": "code",
      "metadata": {
        "id": "MoKlWN7Wf4L8",
        "colab_type": "code",
        "outputId": "208c5985-5bc1-4ffd-ccb9-006bc67d4b3c",
        "colab": {}
      },
      "source": [
        "df_release.select_dtypes(exclude = 'object')[:2]"
      ],
      "execution_count": 0,
      "outputs": [
        {
          "output_type": "execute_result",
          "data": {
            "text/html": [
              "<div>\n",
              "<style scoped>\n",
              "    .dataframe tbody tr th:only-of-type {\n",
              "        vertical-align: middle;\n",
              "    }\n",
              "\n",
              "    .dataframe tbody tr th {\n",
              "        vertical-align: top;\n",
              "    }\n",
              "\n",
              "    .dataframe thead th {\n",
              "        text-align: right;\n",
              "    }\n",
              "</style>\n",
              "<table border=\"1\" class=\"dataframe\">\n",
              "  <thead>\n",
              "    <tr style=\"text-align: right;\">\n",
              "      <th></th>\n",
              "      <th>budget</th>\n",
              "      <th>runtime</th>\n",
              "      <th>revenue</th>\n",
              "      <th>in_english</th>\n",
              "      <th>release_year</th>\n",
              "      <th>release_month</th>\n",
              "    </tr>\n",
              "  </thead>\n",
              "  <tbody>\n",
              "    <tr>\n",
              "      <td>0</td>\n",
              "      <td>237000000</td>\n",
              "      <td>162.0</td>\n",
              "      <td>2787965087</td>\n",
              "      <td>True</td>\n",
              "      <td>2009</td>\n",
              "      <td>12</td>\n",
              "    </tr>\n",
              "    <tr>\n",
              "      <td>1</td>\n",
              "      <td>300000000</td>\n",
              "      <td>169.0</td>\n",
              "      <td>961000000</td>\n",
              "      <td>True</td>\n",
              "      <td>2007</td>\n",
              "      <td>5</td>\n",
              "    </tr>\n",
              "  </tbody>\n",
              "</table>\n",
              "</div>"
            ],
            "text/plain": [
              "      budget  runtime     revenue  in_english  release_year  release_month\n",
              "0  237000000    162.0  2787965087        True          2009             12\n",
              "1  300000000    169.0   961000000        True          2007              5"
            ]
          },
          "metadata": {
            "tags": []
          },
          "execution_count": 88
        }
      ]
    },
    {
      "cell_type": "code",
      "metadata": {
        "id": "JowVx4bTf4L_",
        "colab_type": "code",
        "colab": {}
      },
      "source": [
        ""
      ],
      "execution_count": 0,
      "outputs": []
    }
  ]
}