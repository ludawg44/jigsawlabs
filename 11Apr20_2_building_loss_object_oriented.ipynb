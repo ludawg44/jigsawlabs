{
  "nbformat": 4,
  "nbformat_minor": 0,
  "metadata": {
    "kernelspec": {
      "display_name": "Python 3",
      "language": "python",
      "name": "python3"
    },
    "language_info": {
      "codemirror_mode": {
        "name": "ipython",
        "version": 3
      },
      "file_extension": ".py",
      "mimetype": "text/x-python",
      "name": "python",
      "nbconvert_exporter": "python",
      "pygments_lexer": "ipython3",
      "version": "3.7.4"
    },
    "colab": {
      "name": "Copy of 2-building-loss.ipynb",
      "provenance": [],
      "include_colab_link": true
    }
  },
  "cells": [
    {
      "cell_type": "markdown",
      "metadata": {
        "id": "view-in-github",
        "colab_type": "text"
      },
      "source": [
        "<a href=\"https://colab.research.google.com/github/ludawg44/jigsawlabs/blob/master/11Apr20_2_building_loss_object_oriented.ipynb\" target=\"_parent\"><img src=\"https://colab.research.google.com/assets/colab-badge.svg\" alt=\"Open In Colab\"/></a>"
      ]
    },
    {
      "cell_type": "markdown",
      "metadata": {
        "id": "qS8xqIjcy1vT",
        "colab_type": "text"
      },
      "source": [
        "# Loss Lab"
      ]
    },
    {
      "cell_type": "markdown",
      "metadata": {
        "id": "X_zJiH5Oy1vU",
        "colab_type": "text"
      },
      "source": [
        "### Introduction"
      ]
    },
    {
      "cell_type": "markdown",
      "metadata": {
        "id": "PodNxkX2y1vU",
        "colab_type": "text"
      },
      "source": [
        "In this lesson we'll see build out the error component to our simple linear regression model.  To do this, we need to know the linear regression model's coefficient and y-intercept.  We'll also need a list of data to predict on and compare the predictions of the model against.  We'll write our methods and encapsulate the related data using object orientation."
      ]
    },
    {
      "cell_type": "markdown",
      "metadata": {
        "id": "AqUqfPFUy1vV",
        "colab_type": "text"
      },
      "source": [
        "### Loading our hypothesis class"
      ]
    },
    {
      "cell_type": "markdown",
      "metadata": {
        "id": "-CzZLWVly1vV",
        "colab_type": "text"
      },
      "source": [
        "First, copy and paste the hypothesis class from the previous lab."
      ]
    },
    {
      "cell_type": "code",
      "metadata": {
        "id": "FQmg3Jsly1vW",
        "colab_type": "code",
        "colab": {}
      },
      "source": [
        "class Hypothesis():\n",
        "    def __init__(self, coef_ = None, intercept_ = None):\n",
        "        self.coef_ = coef_\n",
        "        self.intercept_ = intercept_\n",
        "    \n",
        "    def predict(self, values):\n",
        "        return [self.predict_value(value) for value in values]\n",
        "    \n",
        "    def predict_value(self, value):\n",
        "        return self.coef_*value + self.intercept_\n",
        "    \n",
        "    def trace(self, mode = 'lines', name=None, text = []):\n",
        "        coef_text = f\"y = {self.coef_}x\"\n",
        "        intercept_text = f\" + {self.intercept_}\"\n",
        "        default_text = coef_text + intercept_text if self.intercept_ else coef_text\n",
        "        text = name or default_text\n",
        "        return {'x': self.x_values, 'y': self.predict(values), 'mode': mode, 'name': name, 'text': text}"
      ],
      "execution_count": 0,
      "outputs": []
    },
    {
      "cell_type": "code",
      "metadata": {
        "id": "C21STrnVy1vZ",
        "colab_type": "code",
        "outputId": "02eb4145-968b-4f2e-b0e9-2578a7221867",
        "colab": {}
      },
      "source": [
        "coef = 0.39\n",
        "intercept = 153\n",
        "\n",
        "hypothesis = Hypothesis(coef, intercept)\n",
        "hypothesis.__dict__\n",
        "# {'coef_': 0.39, 'intercept_': 153, 'x_values': [800, 1500, 2000, 3500, 4000]}"
      ],
      "execution_count": 0,
      "outputs": [
        {
          "output_type": "execute_result",
          "data": {
            "text/plain": [
              "{'coef_': 0.39, 'intercept_': 153}"
            ]
          },
          "metadata": {
            "tags": []
          },
          "execution_count": 5
        }
      ]
    },
    {
      "cell_type": "code",
      "metadata": {
        "id": "swRb0kx4y1vc",
        "colab_type": "code",
        "outputId": "85898f83-2e1d-476c-dcb7-895441f840ad",
        "colab": {}
      },
      "source": [
        "inputs = [800, 1500, 2000, 3500, 4000]\n",
        "hypothesis.predict(inputs)\n",
        "# [465.0, 738.0, 933.0, 1518.0, 1713.0]"
      ],
      "execution_count": 0,
      "outputs": [
        {
          "output_type": "execute_result",
          "data": {
            "text/plain": [
              "[465.0, 738.0, 933.0, 1518.0, 1713.0]"
            ]
          },
          "metadata": {
            "tags": []
          },
          "execution_count": 6
        }
      ]
    },
    {
      "cell_type": "markdown",
      "metadata": {
        "id": "BrsF48-fy1ve",
        "colab_type": "text"
      },
      "source": [
        "Now this `Hypothesis` class will still be the sole class in charge of making predictions.  Now we'll just also add our `Loss` class, which will be in charge of calculating errors."
      ]
    },
    {
      "cell_type": "markdown",
      "metadata": {
        "id": "fs5bpCtby1vf",
        "colab_type": "text"
      },
      "source": [
        "### Creating the Loss Class"
      ]
    },
    {
      "cell_type": "code",
      "metadata": {
        "id": "vJBht7vgy1vf",
        "colab_type": "code",
        "colab": {}
      },
      "source": [
        "class Loss():\n",
        "    def __init__(self):\n",
        "        pass\n",
        "        \n",
        "    def errors(self,):\n",
        "        pass\n",
        "    \n",
        "    def squared_errors(self):\n",
        "        pass\n",
        "    \n",
        "    def rss(self):\n",
        "        pass"
      ],
      "execution_count": 0,
      "outputs": []
    },
    {
      "cell_type": "markdown",
      "metadata": {
        "id": "DJSl_Pxey1vh",
        "colab_type": "text"
      },
      "source": [
        "Think about what it takes to calculate the error at a given point.  We need to know our data, and we also need to know the component that makes predictions.  "
      ]
    },
    {
      "cell_type": "markdown",
      "metadata": {
        "id": "P0eCSao-y1vi",
        "colab_type": "text"
      },
      "source": [
        "Change the `Loss` class so that we can initialize it with an instance of our `Hypothesis` class, a list of x_values and a list of y_values.  \n",
        "> The Hypothesis class will continue to hold all of the information related to our y-intercept, coefficient, and predictions."
      ]
    },
    {
      "cell_type": "markdown",
      "metadata": {
        "id": "EawpAhKgy1vj",
        "colab_type": "text"
      },
      "source": [
        "So first we'll recreate an instance of a hypothesis."
      ]
    },
    {
      "cell_type": "code",
      "metadata": {
        "id": "QgioO3y4y1vj",
        "colab_type": "code",
        "colab": {}
      },
      "source": [
        "coef = 0.39\n",
        "intercept = 153\n",
        "hypothesis = Hypothesis(coef, intercept)"
      ],
      "execution_count": 0,
      "outputs": []
    },
    {
      "cell_type": "markdown",
      "metadata": {
        "id": "WMXOeeGDy1vn",
        "colab_type": "text"
      },
      "source": [
        "Then we need to initialize the Loss instance with our hypothesis instance, as well as inputs, outputs."
      ]
    },
    {
      "cell_type": "code",
      "metadata": {
        "id": "7cfVamHsy1vn",
        "colab_type": "code",
        "colab": {}
      },
      "source": [
        "outcomes = [330, 780, 1130, 1310, 1780]"
      ],
      "execution_count": 0,
      "outputs": []
    },
    {
      "cell_type": "code",
      "metadata": {
        "id": "8353XB7fy1vp",
        "colab_type": "code",
        "outputId": "2059a4fd-5973-4546-f57b-3392cfae41db",
        "colab": {}
      },
      "source": [
        "loss = Loss(hypothesis, inputs, outcomes)\n",
        "loss.__dict__"
      ],
      "execution_count": 0,
      "outputs": [
        {
          "output_type": "execute_result",
          "data": {
            "text/plain": [
              "{'hypothesis': <__main__.Hypothesis at 0x1112c1210>,\n",
              " 'x_values': [800, 1500, 2000, 3500, 4000],\n",
              " 'y_values': [330, 780, 1130, 1310, 1780]}"
            ]
          },
          "metadata": {
            "tags": []
          },
          "execution_count": 28
        }
      ]
    },
    {
      "cell_type": "markdown",
      "metadata": {
        "id": "mdDAW2Rmy1vs",
        "colab_type": "text"
      },
      "source": [
        "Now with these three pieces of information, our Loss instance should have the information it needs to calculate errors."
      ]
    },
    {
      "cell_type": "markdown",
      "metadata": {
        "id": "WKE642N3y1vs",
        "colab_type": "text"
      },
      "source": [
        "### Calculating Errors"
      ]
    },
    {
      "cell_type": "markdown",
      "metadata": {
        "id": "cgPn54e8y1vs",
        "colab_type": "text"
      },
      "source": [
        "Write a method called errors.\n",
        "\n",
        "> Write this  method without numpy."
      ]
    },
    {
      "cell_type": "code",
      "metadata": {
        "id": "4X1-osUny1vt",
        "colab_type": "code",
        "outputId": "1582cbdc-8a13-40cf-9a25-29f458d96321",
        "colab": {}
      },
      "source": [
        "loss.errors()\n",
        "# [-135.0, 42.0, 197.0, -208.0, 67.0]"
      ],
      "execution_count": 0,
      "outputs": [
        {
          "output_type": "execute_result",
          "data": {
            "text/plain": [
              "[-135.0, 42.0, 197.0, -208.0, 67.0]"
            ]
          },
          "metadata": {
            "tags": []
          },
          "execution_count": 30
        }
      ]
    },
    {
      "cell_type": "markdown",
      "metadata": {
        "id": "u8eWX2poy1vv",
        "colab_type": "text"
      },
      "source": [
        "Then write a method called `squared_errors` that squares each one of the elements returned from our `errors` method."
      ]
    },
    {
      "cell_type": "code",
      "metadata": {
        "id": "8tMpZfr4y1vw",
        "colab_type": "code",
        "outputId": "8592d084-290a-4d1c-ef46-785a66d4a990",
        "colab": {}
      },
      "source": [
        "loss.squared_errors()\n",
        "# [18225.0, 1764.0, 38809.0, 43264.0, 4489.0]"
      ],
      "execution_count": 0,
      "outputs": [
        {
          "output_type": "execute_result",
          "data": {
            "text/plain": [
              "[18225.0, 1764.0, 38809.0, 43264.0, 4489.0]"
            ]
          },
          "metadata": {
            "tags": []
          },
          "execution_count": 31
        }
      ]
    },
    {
      "cell_type": "markdown",
      "metadata": {
        "id": "yDkPKgJNy1vy",
        "colab_type": "text"
      },
      "source": [
        "Finally, add a method called `rss` that calculates the residual sum of squares."
      ]
    },
    {
      "cell_type": "code",
      "metadata": {
        "id": "-EcHnk6iy1vz",
        "colab_type": "code",
        "outputId": "ef1ba627-cccc-493c-ac4b-9b6cc13f165d",
        "colab": {}
      },
      "source": [
        "loss.rss()\n",
        "# 106551.0"
      ],
      "execution_count": 0,
      "outputs": [
        {
          "output_type": "execute_result",
          "data": {
            "text/plain": [
              "106551.0"
            ]
          },
          "metadata": {
            "tags": []
          },
          "execution_count": 32
        }
      ]
    },
    {
      "cell_type": "markdown",
      "metadata": {
        "id": "hN5HdPRBy1v1",
        "colab_type": "text"
      },
      "source": [
        "### Summary"
      ]
    },
    {
      "cell_type": "markdown",
      "metadata": {
        "id": "sRR3hoa0y1v2",
        "colab_type": "text"
      },
      "source": [
        "In this lesson, we built out the error component to our simple linear regression model.  To do this, we  created an instance of the Hypothesis class, which was responsible for the parameters of our linear regression model as well making predictions from these parameters and our input data.  We added a Loss class, which calculated errors from our hypothesis instance for a given data set."
      ]
    }
  ]
}