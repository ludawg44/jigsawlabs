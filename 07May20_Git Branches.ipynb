{
  "nbformat": 4,
  "nbformat_minor": 0,
  "metadata": {
    "kernelspec": {
      "display_name": "Python 3",
      "language": "python",
      "name": "python3"
    },
    "language_info": {
      "codemirror_mode": {
        "name": "ipython",
        "version": 3
      },
      "file_extension": ".py",
      "mimetype": "text/x-python",
      "name": "python",
      "nbconvert_exporter": "python",
      "pygments_lexer": "ipython3",
      "version": "3.7.4"
    },
    "colab": {
      "name": "Copy of index.ipynb",
      "provenance": [],
      "include_colab_link": true
    }
  },
  "cells": [
    {
      "cell_type": "markdown",
      "metadata": {
        "id": "view-in-github",
        "colab_type": "text"
      },
      "source": [
        "<a href=\"https://colab.research.google.com/github/ludawg44/jigsawlabs/blob/master/07May20_Git%20Branches.ipynb\" target=\"_parent\"><img src=\"https://colab.research.google.com/assets/colab-badge.svg\" alt=\"Open In Colab\"/></a>"
      ]
    },
    {
      "cell_type": "markdown",
      "metadata": {
        "id": "KKGoUciCNU3Y",
        "colab_type": "text"
      },
      "source": [
        "# Git Branches Lab"
      ]
    },
    {
      "cell_type": "markdown",
      "metadata": {
        "id": "VFuuS5rCNU3Z",
        "colab_type": "text"
      },
      "source": [
        "### Introduction"
      ]
    },
    {
      "cell_type": "markdown",
      "metadata": {
        "id": "D6IVueeHNU3a",
        "colab_type": "text"
      },
      "source": [
        "Now it's time to practice with git commits and branches.  In this lesson, we'll imagine we are working to track real estate data."
      ]
    },
    {
      "cell_type": "markdown",
      "metadata": {
        "id": "5jUNnjO_NU3a",
        "colab_type": "text"
      },
      "source": [
        "### Our first steps"
      ]
    },
    {
      "cell_type": "markdown",
      "metadata": {
        "id": "m-T2Dv_VNU3b",
        "colab_type": "text"
      },
      "source": [
        "Let's start by initalizing a new repository and creating a file called `listing.py` and another file called `agent.py`."
      ]
    },
    {
      "cell_type": "code",
      "metadata": {
        "id": "nULCiUuSNU3c",
        "colab_type": "code",
        "outputId": "ea65eaf7-0384-4c43-d2a8-fb4e17e0cb52",
        "colab": {}
      },
      "source": [
        "!git init"
      ],
      "execution_count": 0,
      "outputs": [
        {
          "output_type": "stream",
          "text": [
            "Initialized empty Git repository in /Users/jeff/Documents/jigsaw/curriculum/1-section-content/mod-1/2-datatypes/a-fundamentals/9-git-and-github/4-git-branches-lab/.git/\n"
          ],
          "name": "stdout"
        }
      ]
    },
    {
      "cell_type": "code",
      "metadata": {
        "id": "daynRUZrNU3f",
        "colab_type": "code",
        "colab": {}
      },
      "source": [
        "!touch listing.py"
      ],
      "execution_count": 0,
      "outputs": []
    },
    {
      "cell_type": "code",
      "metadata": {
        "id": "m9elSp0rNU3i",
        "colab_type": "code",
        "colab": {}
      },
      "source": [
        "!touch agent.py"
      ],
      "execution_count": 0,
      "outputs": []
    },
    {
      "cell_type": "markdown",
      "metadata": {
        "id": "3wpAwf2fNU3k",
        "colab_type": "text"
      },
      "source": [
        "Now only add the `listing.py` file to staging."
      ]
    },
    {
      "cell_type": "code",
      "metadata": {
        "id": "ysx9iu1aNU3k",
        "colab_type": "code",
        "colab": {}
      },
      "source": [
        "!git add listing.py"
      ],
      "execution_count": 0,
      "outputs": []
    },
    {
      "cell_type": "markdown",
      "metadata": {
        "id": "5SSxSMeVNU3m",
        "colab_type": "text"
      },
      "source": [
        "Then create a commit with the message `track listings`."
      ]
    },
    {
      "cell_type": "code",
      "metadata": {
        "id": "kuVJojG0NU3n",
        "colab_type": "code",
        "outputId": "0259129c-6687-4ebf-c0b7-b1044e5960c4",
        "colab": {}
      },
      "source": [
        "!git commit -m 'track listings'"
      ],
      "execution_count": 0,
      "outputs": [
        {
          "output_type": "stream",
          "text": [
            "[master (root-commit) b61792f] track listings\n",
            " 1 file changed, 0 insertions(+), 0 deletions(-)\n",
            " create mode 100644 listing.py\n"
          ],
          "name": "stdout"
        }
      ]
    },
    {
      "cell_type": "markdown",
      "metadata": {
        "id": "MT1U0zkzNU3p",
        "colab_type": "text"
      },
      "source": [
        "### Working with Branches"
      ]
    },
    {
      "cell_type": "markdown",
      "metadata": {
        "id": "pnbvU_3XNU3q",
        "colab_type": "text"
      },
      "source": [
        "Now let's work with git branches.  First, list all of the branches in the repository."
      ]
    },
    {
      "cell_type": "code",
      "metadata": {
        "id": "2j-LTB4bNU3q",
        "colab_type": "code",
        "outputId": "96eeac9f-ea5a-4641-e84d-24ca49f1f047",
        "colab": {}
      },
      "source": [
        "!git branch -a"
      ],
      "execution_count": 0,
      "outputs": [
        {
          "output_type": "stream",
          "text": [
            "* \u001b[32mmaster\u001b[m\n"
          ],
          "name": "stdout"
        }
      ]
    },
    {
      "cell_type": "markdown",
      "metadata": {
        "id": "fUlK6XpoNU3s",
        "colab_type": "text"
      },
      "source": [
        "Then create and switch to a new branch called `add_agents`."
      ]
    },
    {
      "cell_type": "code",
      "metadata": {
        "id": "Ri2ColjTNU3s",
        "colab_type": "code",
        "outputId": "495d243c-c81b-4ee7-c369-8b495dab2294",
        "colab": {}
      },
      "source": [
        "!git checkout -b add_agents\n",
        "# Switched to a new branch 'add_agents'"
      ],
      "execution_count": 0,
      "outputs": [
        {
          "output_type": "stream",
          "text": [
            "Switched to a new branch 'add_agents'\n"
          ],
          "name": "stdout"
        }
      ]
    },
    {
      "cell_type": "markdown",
      "metadata": {
        "id": "bbGK3fnDNU3u",
        "colab_type": "text"
      },
      "source": [
        "Double check that you are indeed on a new branch."
      ]
    },
    {
      "cell_type": "code",
      "metadata": {
        "id": "E6mab6CKNU3v",
        "colab_type": "code",
        "outputId": "77577978-aa01-4541-a711-22564aa0aa70",
        "colab": {}
      },
      "source": [
        "!git branch -a\n",
        "#* add_agents\n",
        "# master"
      ],
      "execution_count": 0,
      "outputs": [
        {
          "output_type": "stream",
          "text": [
            "* \u001b[32madd_agents\u001b[m\n",
            "  master\u001b[m\n"
          ],
          "name": "stdout"
        }
      ]
    },
    {
      "cell_type": "markdown",
      "metadata": {
        "id": "N9JWrwBwNU3x",
        "colab_type": "text"
      },
      "source": [
        "> Remember that the `*` tells us which branch we are on."
      ]
    },
    {
      "cell_type": "markdown",
      "metadata": {
        "id": "rYdjkrUPNU3x",
        "colab_type": "text"
      },
      "source": [
        "Ok, now check the status."
      ]
    },
    {
      "cell_type": "code",
      "metadata": {
        "id": "QKRhAhFwNU3y",
        "colab_type": "code",
        "outputId": "eb88b7be-c5ec-4661-e806-4f3a90d86791",
        "colab": {}
      },
      "source": [
        "!git status"
      ],
      "execution_count": 0,
      "outputs": [
        {
          "output_type": "stream",
          "text": [
            "On branch add_agents\n",
            "Untracked files:\n",
            "  (use \"git add <file>...\" to include in what will be committed)\n",
            "\n",
            "\t\u001b[31m.ipynb_checkpoints/\u001b[m\n",
            "\t\u001b[31magent.py\u001b[m\n",
            "\t\u001b[31mindex.ipynb\u001b[m\n",
            "\n",
            "nothing added to commit but untracked files present (use \"git add\" to track)\n"
          ],
          "name": "stdout"
        }
      ]
    },
    {
      "cell_type": "markdown",
      "metadata": {
        "id": "LG0p7aXKNU30",
        "colab_type": "text"
      },
      "source": [
        "We can see that there are no changes to be added with the `listing.py` file, as we added it in the previous commit.  So let's make add and commit the `agent.py` file.  The commit should have a message of `adding agent feature`."
      ]
    },
    {
      "cell_type": "code",
      "metadata": {
        "id": "SLrH57i3NU30",
        "colab_type": "code",
        "colab": {}
      },
      "source": [
        "!git add agent.py"
      ],
      "execution_count": 0,
      "outputs": []
    },
    {
      "cell_type": "code",
      "metadata": {
        "id": "YidwcoL3NU32",
        "colab_type": "code",
        "outputId": "31307e00-3ee4-45b3-fd86-823f5ae63640",
        "colab": {}
      },
      "source": [
        "!git commit -m 'adding agent feature'"
      ],
      "execution_count": 0,
      "outputs": [
        {
          "output_type": "stream",
          "text": [
            "[add_agents 44e3160] adding agent feature\n",
            " 1 file changed, 0 insertions(+), 0 deletions(-)\n",
            " create mode 100644 agent.py\n"
          ],
          "name": "stdout"
        }
      ]
    },
    {
      "cell_type": "markdown",
      "metadata": {
        "id": "wQmQ7XUbNU34",
        "colab_type": "text"
      },
      "source": [
        "Now check the log of the `add_agents` branch."
      ]
    },
    {
      "cell_type": "code",
      "metadata": {
        "id": "Aw9-JQSyNU35",
        "colab_type": "code",
        "outputId": "4e65202d-5e75-493a-e0a2-a14824f6ced8",
        "colab": {}
      },
      "source": [
        "!git log "
      ],
      "execution_count": 0,
      "outputs": [
        {
          "output_type": "stream",
          "text": [
            "\u001b[33mcommit 44e3160ac33716f55ec24ac9c82e8b6ebd879b37\u001b[m\u001b[33m (\u001b[m\u001b[1;36mHEAD -> \u001b[m\u001b[1;32madd_agents\u001b[m\u001b[33m)\u001b[m\n",
            "Author: Jeff Katz <JeffreyEricKatz@gmail.com>\n",
            "Date:   Wed Feb 5 17:11:57 2020 -0500\n",
            "\n",
            "    adding agent feature\n",
            "\n",
            "\u001b[33mcommit b61792fcfb08ed9633ec4df3482ba6df8e22f562\u001b[m\u001b[33m (\u001b[m\u001b[1;32mmaster\u001b[m\u001b[33m)\u001b[m\n",
            "Author: Jeff Katz <JeffreyEricKatz@gmail.com>\n",
            "Date:   Wed Feb 5 17:01:22 2020 -0500\n",
            "\n",
            "    track listings\n"
          ],
          "name": "stdout"
        }
      ]
    },
    {
      "cell_type": "markdown",
      "metadata": {
        "id": "Zfhn4Yu3NU37",
        "colab_type": "text"
      },
      "source": [
        "Notice that it has the original commit from the master branch."
      ]
    },
    {
      "cell_type": "markdown",
      "metadata": {
        "id": "Z9IBQqxvNU38",
        "colab_type": "text"
      },
      "source": [
        "### Merging our branch"
      ]
    },
    {
      "cell_type": "markdown",
      "metadata": {
        "id": "7t-3QPs_NU38",
        "colab_type": "text"
      },
      "source": [
        "Ok, now we want to merge the `adding agent feature` commit onto the master branch.  The first step is to move back to the master branch.  Do so in the cell below."
      ]
    },
    {
      "cell_type": "code",
      "metadata": {
        "id": "D8GWteRBNU39",
        "colab_type": "code",
        "outputId": "fa3bbe89-c142-4044-9668-2d5d8ed3c92b",
        "colab": {}
      },
      "source": [
        "!git checkout master\n",
        "# Switched to branch 'master'"
      ],
      "execution_count": 0,
      "outputs": [
        {
          "output_type": "stream",
          "text": [
            "Switched to branch 'master'\n"
          ],
          "name": "stdout"
        }
      ]
    },
    {
      "cell_type": "markdown",
      "metadata": {
        "id": "TWDg7A7XNU3_",
        "colab_type": "text"
      },
      "source": [
        "> Notice that the `agent.py` file is no longer in the file tree."
      ]
    },
    {
      "cell_type": "markdown",
      "metadata": {
        "id": "hP9I9mQNNU3_",
        "colab_type": "text"
      },
      "source": [
        "And let's view the logs on the master branch."
      ]
    },
    {
      "cell_type": "code",
      "metadata": {
        "id": "hX7iJQddNU4A",
        "colab_type": "code",
        "outputId": "0636c85b-bd39-4093-f0c5-23add9082d70",
        "colab": {}
      },
      "source": [
        "!git log"
      ],
      "execution_count": 0,
      "outputs": [
        {
          "output_type": "stream",
          "text": [
            "\u001b[33mcommit b61792fcfb08ed9633ec4df3482ba6df8e22f562\u001b[m\u001b[33m (\u001b[m\u001b[1;36mHEAD -> \u001b[m\u001b[1;32mmaster\u001b[m\u001b[33m)\u001b[m\n",
            "Author: Jeff Katz <JeffreyEricKatz@gmail.com>\n",
            "Date:   Wed Feb 5 17:01:22 2020 -0500\n",
            "\n",
            "    track listings\n"
          ],
          "name": "stdout"
        }
      ]
    },
    {
      "cell_type": "markdown",
      "metadata": {
        "id": "y5ICI24KNU4C",
        "colab_type": "text"
      },
      "source": [
        "So we can see that there is only one commit on the master branch."
      ]
    },
    {
      "cell_type": "markdown",
      "metadata": {
        "id": "PVIoFaMWNU4C",
        "colab_type": "text"
      },
      "source": [
        "Now we want to merge the other branch we created onto the master branch.  What was the name of that branch?  Let's find out by listing all of the branches."
      ]
    },
    {
      "cell_type": "code",
      "metadata": {
        "id": "nxv25ElqNU4D",
        "colab_type": "code",
        "outputId": "8ee0a385-981d-49f5-b356-26bac77bc894",
        "colab": {}
      },
      "source": [
        "!git branch -a"
      ],
      "execution_count": 0,
      "outputs": [
        {
          "output_type": "stream",
          "text": [
            "  add_agents\u001b[m\n",
            "* \u001b[32mmaster\u001b[m\n"
          ],
          "name": "stdout"
        }
      ]
    },
    {
      "cell_type": "markdown",
      "metadata": {
        "id": "-Y9x4aU6NU4F",
        "colab_type": "text"
      },
      "source": [
        "And then let's merge that branch onto master."
      ]
    },
    {
      "cell_type": "code",
      "metadata": {
        "id": "yeWFzUbONU4F",
        "colab_type": "code",
        "outputId": "df0da30c-6c6b-4d9f-b131-26a0ffd3107f",
        "colab": {}
      },
      "source": [
        "!git merge add_agents"
      ],
      "execution_count": 0,
      "outputs": [
        {
          "output_type": "stream",
          "text": [
            "Updating b61792f..44e3160\n",
            "Fast-forward\n",
            " agent.py | 0\n",
            " 1 file changed, 0 insertions(+), 0 deletions(-)\n",
            " create mode 100644 agent.py\n"
          ],
          "name": "stdout"
        }
      ]
    },
    {
      "cell_type": "markdown",
      "metadata": {
        "id": "Dkw8rzwUNU4H",
        "colab_type": "text"
      },
      "source": [
        "If you look at the file tree, we should now see both the `agent.py` and the `listing.py` files.  Let's also check the log of the master branch. "
      ]
    },
    {
      "cell_type": "code",
      "metadata": {
        "id": "aE7fEaT7NU4H",
        "colab_type": "code",
        "outputId": "cbafce25-08fb-4941-f6e2-e87ddd769009",
        "colab": {}
      },
      "source": [
        "!git log "
      ],
      "execution_count": 0,
      "outputs": [
        {
          "output_type": "stream",
          "text": [
            "\u001b[33mcommit 44e3160ac33716f55ec24ac9c82e8b6ebd879b37\u001b[m\u001b[33m (\u001b[m\u001b[1;36mHEAD -> \u001b[m\u001b[1;32mmaster\u001b[m\u001b[33m, \u001b[m\u001b[1;32madd_agents\u001b[m\u001b[33m)\u001b[m\n",
            "Author: Jeff Katz <JeffreyEricKatz@gmail.com>\n",
            "Date:   Wed Feb 5 17:11:57 2020 -0500\n",
            "\n",
            "    adding agent feature\n",
            "\n",
            "\u001b[33mcommit b61792fcfb08ed9633ec4df3482ba6df8e22f562\u001b[m\n",
            "Author: Jeff Katz <JeffreyEricKatz@gmail.com>\n",
            "Date:   Wed Feb 5 17:01:22 2020 -0500\n",
            "\n",
            "    track listings\n"
          ],
          "name": "stdout"
        }
      ]
    },
    {
      "cell_type": "markdown",
      "metadata": {
        "id": "rRNE5z1gNU4K",
        "colab_type": "text"
      },
      "source": [
        "So we can see that both commits are now on our master branch as well."
      ]
    },
    {
      "cell_type": "markdown",
      "metadata": {
        "id": "SLnXJK8sNU4K",
        "colab_type": "text"
      },
      "source": [
        "Finally, if we wish to delete the `add_agents` branch, we now can with the following:"
      ]
    },
    {
      "cell_type": "code",
      "metadata": {
        "id": "0LjGkhLSNU4L",
        "colab_type": "code",
        "outputId": "c4ba5467-d271-4727-819f-2a5e5a4fd840",
        "colab": {}
      },
      "source": [
        "!git branch -D add_agents"
      ],
      "execution_count": 0,
      "outputs": [
        {
          "output_type": "stream",
          "text": [
            "Deleted branch add_agents (was 44e3160).\n"
          ],
          "name": "stdout"
        }
      ]
    },
    {
      "cell_type": "markdown",
      "metadata": {
        "id": "zCSFwIQ5NU4M",
        "colab_type": "text"
      },
      "source": [
        "And see that we are now only left with the master branch."
      ]
    },
    {
      "cell_type": "code",
      "metadata": {
        "id": "EGYTMOv6NU4N",
        "colab_type": "code",
        "outputId": "b4e4c76f-8b91-4688-8e99-1f43de71b104",
        "colab": {}
      },
      "source": [
        "!git branch -a"
      ],
      "execution_count": 0,
      "outputs": [
        {
          "output_type": "stream",
          "text": [
            "* \u001b[32mmaster\u001b[m\n"
          ],
          "name": "stdout"
        }
      ]
    },
    {
      "cell_type": "markdown",
      "metadata": {
        "id": "KarhE02eNU4Q",
        "colab_type": "text"
      },
      "source": [
        "### Summary"
      ]
    },
    {
      "cell_type": "markdown",
      "metadata": {
        "id": "xH_gLkjjNU4Q",
        "colab_type": "text"
      },
      "source": [
        "In this lesson we practiced making git commits and creating and then merging git branches."
      ]
    }
  ]
}