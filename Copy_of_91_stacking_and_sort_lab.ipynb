{
  "nbformat": 4,
  "nbformat_minor": 0,
  "metadata": {
    "kernelspec": {
      "display_name": "Python 3",
      "language": "python",
      "name": "python3"
    },
    "language_info": {
      "codemirror_mode": {
        "name": "ipython",
        "version": 3
      },
      "file_extension": ".py",
      "mimetype": "text/x-python",
      "name": "python",
      "nbconvert_exporter": "python",
      "pygments_lexer": "ipython3",
      "version": "3.7.4"
    },
    "colab": {
      "name": "Copy of 91-stacking-and-sort-lab.ipynb",
      "provenance": [],
      "include_colab_link": true
    }
  },
  "cells": [
    {
      "cell_type": "markdown",
      "metadata": {
        "id": "view-in-github",
        "colab_type": "text"
      },
      "source": [
        "<a href=\"https://colab.research.google.com/github/ludawg44/jigsawlabs/blob/master/Copy_of_91_stacking_and_sort_lab.ipynb\" target=\"_parent\"><img src=\"https://colab.research.google.com/assets/colab-badge.svg\" alt=\"Open In Colab\"/></a>"
      ]
    },
    {
      "cell_type": "markdown",
      "metadata": {
        "id": "DZA6bCWX38oA",
        "colab_type": "text"
      },
      "source": [
        "# Stacking and Sorting Lab"
      ]
    },
    {
      "cell_type": "markdown",
      "metadata": {
        "id": "7OzmLcNP38oD",
        "colab_type": "text"
      },
      "source": [
        "### Introduction"
      ]
    },
    {
      "cell_type": "markdown",
      "metadata": {
        "id": "3kHO51aR38oE",
        "colab_type": "text"
      },
      "source": [
        "Ok, we let's use our knowledge of queries and sorting to further explore the spotify dataset."
      ]
    },
    {
      "cell_type": "markdown",
      "metadata": {
        "id": "kgGhzWDK38oF",
        "colab_type": "text"
      },
      "source": [
        "### Loading Data"
      ]
    },
    {
      "cell_type": "markdown",
      "metadata": {
        "id": "sstj3PP038oG",
        "colab_type": "text"
      },
      "source": [
        "We'll load up the data, and take a look."
      ]
    },
    {
      "cell_type": "code",
      "metadata": {
        "id": "zKxgT-p938oI",
        "colab_type": "code",
        "outputId": "8c74e04b-a5ac-4875-9f00-6fbf119fab29",
        "colab": {}
      },
      "source": [
        "import pandas as pd\n",
        "import numpy as np\n",
        "url = \"https://raw.githubusercontent.com/jigsawlabs-student/numpy-intro/master/top10s.csv\"\n",
        "df = pd.read_csv(url, encoding = \"ISO-8859-1\", index_col = 0)\n",
        "df.head()"
      ],
      "execution_count": 0,
      "outputs": [
        {
          "output_type": "execute_result",
          "data": {
            "text/html": [
              "<div>\n",
              "<style scoped>\n",
              "    .dataframe tbody tr th:only-of-type {\n",
              "        vertical-align: middle;\n",
              "    }\n",
              "\n",
              "    .dataframe tbody tr th {\n",
              "        vertical-align: top;\n",
              "    }\n",
              "\n",
              "    .dataframe thead th {\n",
              "        text-align: right;\n",
              "    }\n",
              "</style>\n",
              "<table border=\"1\" class=\"dataframe\">\n",
              "  <thead>\n",
              "    <tr style=\"text-align: right;\">\n",
              "      <th></th>\n",
              "      <th>title</th>\n",
              "      <th>artist</th>\n",
              "      <th>top genre</th>\n",
              "      <th>year</th>\n",
              "      <th>bpm</th>\n",
              "      <th>nrgy</th>\n",
              "      <th>dnce</th>\n",
              "      <th>dB</th>\n",
              "      <th>live</th>\n",
              "      <th>val</th>\n",
              "      <th>dur</th>\n",
              "      <th>acous</th>\n",
              "      <th>spch</th>\n",
              "      <th>pop</th>\n",
              "    </tr>\n",
              "  </thead>\n",
              "  <tbody>\n",
              "    <tr>\n",
              "      <th>1</th>\n",
              "      <td>Hey, Soul Sister</td>\n",
              "      <td>Train</td>\n",
              "      <td>neo mellow</td>\n",
              "      <td>2010</td>\n",
              "      <td>97</td>\n",
              "      <td>89</td>\n",
              "      <td>67</td>\n",
              "      <td>-4</td>\n",
              "      <td>8</td>\n",
              "      <td>80</td>\n",
              "      <td>217</td>\n",
              "      <td>19</td>\n",
              "      <td>4</td>\n",
              "      <td>83</td>\n",
              "    </tr>\n",
              "    <tr>\n",
              "      <th>2</th>\n",
              "      <td>Love The Way You Lie</td>\n",
              "      <td>Eminem</td>\n",
              "      <td>detroit hip hop</td>\n",
              "      <td>2010</td>\n",
              "      <td>87</td>\n",
              "      <td>93</td>\n",
              "      <td>75</td>\n",
              "      <td>-5</td>\n",
              "      <td>52</td>\n",
              "      <td>64</td>\n",
              "      <td>263</td>\n",
              "      <td>24</td>\n",
              "      <td>23</td>\n",
              "      <td>82</td>\n",
              "    </tr>\n",
              "    <tr>\n",
              "      <th>3</th>\n",
              "      <td>TiK ToK</td>\n",
              "      <td>Kesha</td>\n",
              "      <td>dance pop</td>\n",
              "      <td>2010</td>\n",
              "      <td>120</td>\n",
              "      <td>84</td>\n",
              "      <td>76</td>\n",
              "      <td>-3</td>\n",
              "      <td>29</td>\n",
              "      <td>71</td>\n",
              "      <td>200</td>\n",
              "      <td>10</td>\n",
              "      <td>14</td>\n",
              "      <td>80</td>\n",
              "    </tr>\n",
              "    <tr>\n",
              "      <th>4</th>\n",
              "      <td>Bad Romance</td>\n",
              "      <td>Lady Gaga</td>\n",
              "      <td>dance pop</td>\n",
              "      <td>2010</td>\n",
              "      <td>119</td>\n",
              "      <td>92</td>\n",
              "      <td>70</td>\n",
              "      <td>-4</td>\n",
              "      <td>8</td>\n",
              "      <td>71</td>\n",
              "      <td>295</td>\n",
              "      <td>0</td>\n",
              "      <td>4</td>\n",
              "      <td>79</td>\n",
              "    </tr>\n",
              "    <tr>\n",
              "      <th>5</th>\n",
              "      <td>Just the Way You Are</td>\n",
              "      <td>Bruno Mars</td>\n",
              "      <td>pop</td>\n",
              "      <td>2010</td>\n",
              "      <td>109</td>\n",
              "      <td>84</td>\n",
              "      <td>64</td>\n",
              "      <td>-5</td>\n",
              "      <td>9</td>\n",
              "      <td>43</td>\n",
              "      <td>221</td>\n",
              "      <td>2</td>\n",
              "      <td>4</td>\n",
              "      <td>78</td>\n",
              "    </tr>\n",
              "  </tbody>\n",
              "</table>\n",
              "</div>"
            ],
            "text/plain": [
              "                  title      artist        top genre  year  bpm  nrgy  dnce  \\\n",
              "1      Hey, Soul Sister       Train       neo mellow  2010   97    89    67   \n",
              "2  Love The Way You Lie      Eminem  detroit hip hop  2010   87    93    75   \n",
              "3               TiK ToK       Kesha        dance pop  2010  120    84    76   \n",
              "4           Bad Romance   Lady Gaga        dance pop  2010  119    92    70   \n",
              "5  Just the Way You Are  Bruno Mars              pop  2010  109    84    64   \n",
              "\n",
              "   dB  live  val  dur  acous  spch  pop  \n",
              "1  -4     8   80  217     19     4   83  \n",
              "2  -5    52   64  263     24    23   82  \n",
              "3  -3    29   71  200     10    14   80  \n",
              "4  -4     8   71  295      0     4   79  \n",
              "5  -5     9   43  221      2     4   78  "
            ]
          },
          "metadata": {
            "tags": []
          },
          "execution_count": 60
        }
      ]
    },
    {
      "cell_type": "markdown",
      "metadata": {
        "id": "K7sPOfiv38oM",
        "colab_type": "text"
      },
      "source": [
        "Coerce the data to numpy."
      ]
    },
    {
      "cell_type": "code",
      "metadata": {
        "id": "q3Seh85x38oN",
        "colab_type": "code",
        "outputId": "b3caf153-a2a5-4b85-de89-8865c9af3abb",
        "colab": {}
      },
      "source": [
        "spotify_np = df.to_numpy()\n",
        "spotify_np[:2]"
      ],
      "execution_count": 0,
      "outputs": [
        {
          "output_type": "execute_result",
          "data": {
            "text/plain": [
              "array([['Hey, Soul Sister', 'Train', 'neo mellow', 2010, 97, 89, 67, -4,\n",
              "        8, 80, 217, 19, 4, 83],\n",
              "       ['Love The Way You Lie', 'Eminem', 'detroit hip hop', 2010, 87,\n",
              "        93, 75, -5, 52, 64, 263, 24, 23, 82]], dtype=object)"
            ]
          },
          "metadata": {
            "tags": []
          },
          "execution_count": 5
        }
      ]
    },
    {
      "cell_type": "markdown",
      "metadata": {
        "id": "LOADYYpV38oQ",
        "colab_type": "text"
      },
      "source": [
        "And store the list of pandas columns in an array."
      ]
    },
    {
      "cell_type": "code",
      "metadata": {
        "id": "4LiSKPMh38oR",
        "colab_type": "code",
        "outputId": "144432c2-96b9-40d0-afdb-066932ad71cd",
        "colab": {}
      },
      "source": [
        "spotify_cols = df.columns\n",
        "spotify_cols"
      ],
      "execution_count": 0,
      "outputs": [
        {
          "output_type": "execute_result",
          "data": {
            "text/plain": [
              "Index(['title', 'artist', 'top genre', 'year', 'bpm', 'nrgy', 'dnce', 'dB',\n",
              "       'live', 'val', 'dur', 'acous', 'spch', 'pop'],\n",
              "      dtype='object')"
            ]
          },
          "metadata": {
            "tags": []
          },
          "execution_count": 4
        }
      ]
    },
    {
      "cell_type": "markdown",
      "metadata": {
        "id": "rKIYn2eR38oV",
        "colab_type": "text"
      },
      "source": [
        "> We can get a reference the [Spotify API here](https://developer.spotify.com/documentation/web-api/reference/tracks/get-audio-features/) to get a sense of what these attributes mean."
      ]
    },
    {
      "cell_type": "markdown",
      "metadata": {
        "id": "vLlNUIvi38oV",
        "colab_type": "text"
      },
      "source": [
        "### Finding Top Genres"
      ]
    },
    {
      "cell_type": "markdown",
      "metadata": {
        "id": "kU2oMrUu38oW",
        "colab_type": "text"
      },
      "source": [
        "Now we can see that the last attribute looks at poppiness.  Begin by ordering the tracks by poppiness score, from highest to lowest. "
      ]
    },
    {
      "cell_type": "code",
      "metadata": {
        "id": "8nlnkQkB38oX",
        "colab_type": "code",
        "colab": {}
      },
      "source": [
        "most_poppy = None"
      ],
      "execution_count": 0,
      "outputs": []
    },
    {
      "cell_type": "code",
      "metadata": {
        "id": "EjxUP06I38oa",
        "colab_type": "code",
        "colab": {}
      },
      "source": [
        "most_poppy[:3]\n",
        "\n",
        "# array([['Memories', 'Maroon 5', 'pop', 2019, 91, 32, 76, -7, 8, 57, 189,\n",
        "#         84, 5, 99],\n",
        "#        ['Lose You To Love Me', 'Selena Gomez', 'dance pop', 2019, 102,\n",
        "#         34, 51, -9, 21, 9, 206, 58, 4, 97],\n",
        "#        ['Someone You Loved', 'Lewis Capaldi', 'pop', 2019, 110, 41, 50,\n",
        "#         -6, 11, 45, 182, 75, 3, 96]], dtype=object)"
      ],
      "execution_count": 0,
      "outputs": []
    },
    {
      "cell_type": "markdown",
      "metadata": {
        "id": "ZD6234Mw38oc",
        "colab_type": "text"
      },
      "source": [
        "Looking at the top three songs, we see that the category is some variant of pop.  Let's get a unique list of the genres of the 25 most poppy songs."
      ]
    },
    {
      "cell_type": "code",
      "metadata": {
        "id": "w_NM8wAo38od",
        "colab_type": "code",
        "colab": {}
      },
      "source": [
        "unique_poppy_genres = None\n",
        "unique_poppy_genres\n",
        "\n",
        "# (array(['big room', 'boy band', 'brostep', 'canadian contemporary r&b',\n",
        "#         'canadian pop', 'dance pop', 'edm', 'electropop', 'escape room',\n",
        "#         'neo mellow', 'pop'], dtype=object),\n",
        "#  array([1, 2, 1, 1, 1, 4, 1, 2, 2, 1, 9]))"
      ],
      "execution_count": 0,
      "outputs": []
    },
    {
      "cell_type": "markdown",
      "metadata": {
        "id": "1GozTyLZ38og",
        "colab_type": "text"
      },
      "source": [
        "Next create turn the tuple from `unique_poppy_genres` into an array.  The first column should have the names of the poppy genres, and the second column should have the related counts.  It should be sorted from highest to lowest by count."
      ]
    },
    {
      "cell_type": "markdown",
      "metadata": {
        "id": "FSNZQ9oz38oh",
        "colab_type": "text"
      },
      "source": [
        "> Assign it to the variable `sorted_pop_genre_counts`.  (It might take a few steps to get there.)"
      ]
    },
    {
      "cell_type": "code",
      "metadata": {
        "id": "hsznUvGq38oi",
        "colab_type": "code",
        "colab": {}
      },
      "source": [
        ""
      ],
      "execution_count": 0,
      "outputs": []
    },
    {
      "cell_type": "code",
      "metadata": {
        "id": "iZ2pFBYg38ol",
        "colab_type": "code",
        "colab": {}
      },
      "source": [
        "sorted_pop_genre_counts = None"
      ],
      "execution_count": 0,
      "outputs": []
    },
    {
      "cell_type": "code",
      "metadata": {
        "id": "ZzLBNXKV38on",
        "colab_type": "code",
        "outputId": "b73e79ad-330e-441f-c80d-19dbfddd537e",
        "colab": {}
      },
      "source": [
        "sorted_pop_genre_counts\n",
        "\n",
        "# array([['pop', 9],\n",
        "#        ['dance pop', 4],\n",
        "#        ['escape room', 2],\n",
        "#        ['electropop', 2],\n",
        "#        ['boy band', 2],\n",
        "#        ['neo mellow', 1],\n",
        "#        ['edm', 1],\n",
        "#        ['canadian pop', 1],\n",
        "#        ['canadian contemporary r&b', 1],\n",
        "#        ['brostep', 1],\n",
        "#        ['big room', 1]], dtype=object)"
      ],
      "execution_count": 0,
      "outputs": [
        {
          "output_type": "execute_result",
          "data": {
            "text/plain": [
              "array([['pop', 9],\n",
              "       ['dance pop', 4],\n",
              "       ['escape room', 2],\n",
              "       ['electropop', 2],\n",
              "       ['boy band', 2],\n",
              "       ['neo mellow', 1],\n",
              "       ['edm', 1],\n",
              "       ['canadian pop', 1],\n",
              "       ['canadian contemporary r&b', 1],\n",
              "       ['brostep', 1],\n",
              "       ['big room', 1]], dtype=object)"
            ]
          },
          "metadata": {
            "tags": []
          },
          "execution_count": 30
        }
      ]
    },
    {
      "cell_type": "markdown",
      "metadata": {
        "id": "2EYf39Im38oq",
        "colab_type": "text"
      },
      "source": [
        "So it looks like genres like escape room and boy band, might be similar to pop."
      ]
    },
    {
      "cell_type": "markdown",
      "metadata": {
        "id": "m6RUSvqK38or",
        "colab_type": "text"
      },
      "source": [
        "### Coercing Data"
      ]
    },
    {
      "cell_type": "markdown",
      "metadata": {
        "id": "wk-xVUC_38os",
        "colab_type": "text"
      },
      "source": [
        "Let's see the counts of different categories in general and see if there are some with few counts that we could combine.  To do so, we can perhaps take our previous code and turn it into a function.  "
      ]
    },
    {
      "cell_type": "markdown",
      "metadata": {
        "id": "Z2ForT7C38os",
        "colab_type": "text"
      },
      "source": [
        "Write a function called `value_counts` that takes an argument of a series of data, and returns the number of times that each value shows up."
      ]
    },
    {
      "cell_type": "code",
      "metadata": {
        "id": "ZnH-G2mx38ot",
        "colab_type": "code",
        "colab": {}
      },
      "source": [
        "def value_counts(col):\n",
        "    pass"
      ],
      "execution_count": 0,
      "outputs": []
    },
    {
      "cell_type": "markdown",
      "metadata": {
        "id": "8Ncv7-Hr38ox",
        "colab_type": "text"
      },
      "source": [
        "> So for example, if we pass through the genre column, we should see the following:"
      ]
    },
    {
      "cell_type": "code",
      "metadata": {
        "id": "TuCtjtlZ38oy",
        "colab_type": "code",
        "colab": {}
      },
      "source": [
        "genre_col = spotify_np[:, 2]"
      ],
      "execution_count": 0,
      "outputs": []
    },
    {
      "cell_type": "code",
      "metadata": {
        "id": "X3PFp95b38o1",
        "colab_type": "code",
        "outputId": "015f447a-9ac6-492b-9be5-c6ab4db05ed7",
        "colab": {}
      },
      "source": [
        "value_counts(genre_col)[:10]\n",
        "# array([['dance pop', 327],\n",
        "#        ['pop', 60],\n",
        "#        ['canadian pop', 34],\n",
        "#        ['barbadian pop', 15],\n",
        "#        ['boy band', 15],\n",
        "#        ['electropop', 13],\n",
        "#        ['british soul', 11],\n",
        "#        ['big room', 10],\n",
        "#        ['canadian contemporary r&b', 9],\n",
        "#        ['neo mellow', 9]], dtype=object)"
      ],
      "execution_count": 0,
      "outputs": [
        {
          "output_type": "execute_result",
          "data": {
            "text/plain": [
              "array([['dance pop', 327],\n",
              "       ['pop', 60],\n",
              "       ['canadian pop', 34],\n",
              "       ['barbadian pop', 15],\n",
              "       ['boy band', 15],\n",
              "       ['electropop', 13],\n",
              "       ['british soul', 11],\n",
              "       ['big room', 10],\n",
              "       ['canadian contemporary r&b', 9],\n",
              "       ['neo mellow', 9]], dtype=object)"
            ]
          },
          "metadata": {
            "tags": []
          },
          "execution_count": 39
        }
      ]
    },
    {
      "cell_type": "markdown",
      "metadata": {
        "id": "GEe_D07H38o3",
        "colab_type": "text"
      },
      "source": [
        "Let's select tracks of category `pop`, `dance pop`, `canadian pop` and `barabadian pop` and find the average poppiness score."
      ]
    },
    {
      "cell_type": "code",
      "metadata": {
        "id": "xBKD0rt038o4",
        "colab_type": "code",
        "colab": {}
      },
      "source": [
        "\n",
        "avg_poppiness = None\n",
        "\n",
        "avg_poppiness\n",
        "# 66.4916"
      ],
      "execution_count": 0,
      "outputs": []
    },
    {
      "cell_type": "markdown",
      "metadata": {
        "id": "CtmQfXbU38o7",
        "colab_type": "text"
      },
      "source": [
        "Next let's replace the genre of any song that has a poppy score above 66 with the genre \"pop\", and if it's not above this score, keep it as is."
      ]
    },
    {
      "cell_type": "markdown",
      "metadata": {
        "id": "BGSjFkU738o7",
        "colab_type": "text"
      },
      "source": [
        "> Use `np.where` to accomplish this."
      ]
    },
    {
      "cell_type": "code",
      "metadata": {
        "id": "RHdF3glU38o9",
        "colab_type": "code",
        "colab": {}
      },
      "source": [
        "# write code here\n"
      ],
      "execution_count": 0,
      "outputs": []
    },
    {
      "cell_type": "markdown",
      "metadata": {
        "id": "ZOW0JJTW38pB",
        "colab_type": "text"
      },
      "source": [
        "And now look at the new counts, after making this change to the data."
      ]
    },
    {
      "cell_type": "code",
      "metadata": {
        "id": "NOQPBoXx38pC",
        "colab_type": "code",
        "outputId": "1453c7c1-0c80-443e-f5b4-e24ebc002772",
        "colab": {}
      },
      "source": [
        "genre_col = spotify_np[:, 2]\n",
        "value_counts(genre_col)[:10]\n",
        "\n",
        "# array([['pop', 362],\n",
        "#        ['dance pop', 156],\n",
        "#        ['canadian pop', 10],\n",
        "#        ['barbadian pop', 8],\n",
        "#        ['neo mellow', 7],\n",
        "#        ['hip pop', 5],\n",
        "#        ['boy band', 5],\n",
        "#        ['art pop', 4],\n",
        "#        ['atl hip hop', 4],\n",
        "#        ['australian dance', 4]], dtype=object)"
      ],
      "execution_count": 0,
      "outputs": [
        {
          "output_type": "execute_result",
          "data": {
            "text/plain": [
              "array([['pop', 362],\n",
              "       ['dance pop', 156],\n",
              "       ['canadian pop', 10],\n",
              "       ['barbadian pop', 8],\n",
              "       ['neo mellow', 7],\n",
              "       ['hip pop', 5],\n",
              "       ['boy band', 5],\n",
              "       ['art pop', 4],\n",
              "       ['atl hip hop', 4],\n",
              "       ['australian dance', 4]], dtype=object)"
            ]
          },
          "metadata": {
            "tags": []
          },
          "execution_count": 59
        }
      ]
    },
    {
      "cell_type": "markdown",
      "metadata": {
        "id": "6Xjh_p0T38pF",
        "colab_type": "text"
      },
      "source": [
        "We can see that this greatly condensed to be the category pop.  (This may not have been a good thing.)"
      ]
    },
    {
      "cell_type": "markdown",
      "metadata": {
        "id": "FK6UuB4p38pG",
        "colab_type": "text"
      },
      "source": [
        "### Summary"
      ]
    },
    {
      "cell_type": "markdown",
      "metadata": {
        "id": "JZ2KBp6Y38pG",
        "colab_type": "text"
      },
      "source": [
        "In this lesson, we practiced using the argsort method to sort our data, and using the `stack` method to combine our arrays, where necessary.  We also practiced finding and replacing our data with the `np.where` method."
      ]
    }
  ]
}