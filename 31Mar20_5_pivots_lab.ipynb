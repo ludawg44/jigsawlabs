{
  "nbformat": 4,
  "nbformat_minor": 0,
  "metadata": {
    "kernelspec": {
      "display_name": "Python 3",
      "language": "python",
      "name": "python3"
    },
    "language_info": {
      "codemirror_mode": {
        "name": "ipython",
        "version": 3
      },
      "file_extension": ".py",
      "mimetype": "text/x-python",
      "name": "python",
      "nbconvert_exporter": "python",
      "pygments_lexer": "ipython3",
      "version": "3.7.4"
    },
    "colab": {
      "name": "Copy of 5-pivots-lab.ipynb",
      "provenance": [],
      "include_colab_link": true
    }
  },
  "cells": [
    {
      "cell_type": "markdown",
      "metadata": {
        "id": "view-in-github",
        "colab_type": "text"
      },
      "source": [
        "<a href=\"https://colab.research.google.com/github/ludawg44/jigsawlabs/blob/master/31Mar20_5_pivots_lab.ipynb\" target=\"_parent\"><img src=\"https://colab.research.google.com/assets/colab-badge.svg\" alt=\"Open In Colab\"/></a>"
      ]
    },
    {
      "cell_type": "markdown",
      "metadata": {
        "id": "kIWUh00jWJSG",
        "colab_type": "text"
      },
      "source": [
        "# Pivot Tables"
      ]
    },
    {
      "cell_type": "markdown",
      "metadata": {
        "id": "eQGlD0o7WJSH",
        "colab_type": "text"
      },
      "source": [
        "### Introduction"
      ]
    },
    {
      "cell_type": "markdown",
      "metadata": {
        "id": "EUgCJp7vWJSH",
        "colab_type": "text"
      },
      "source": [
        "In this lesson, we'll get some practice working with pivot tables in pandas.  Whereas groupby is good for grouping our data by one dimension, pivot tables can be useful when grouping our data by multiple dimensions.  \n",
        "\n",
        "We'll practice using data in this lab from using education data from NYC."
      ]
    },
    {
      "cell_type": "markdown",
      "metadata": {
        "id": "uMpmNQqmWJSI",
        "colab_type": "text"
      },
      "source": [
        "### Loading our Data"
      ]
    },
    {
      "cell_type": "markdown",
      "metadata": {
        "id": "OhBDIkVxWJSI",
        "colab_type": "text"
      },
      "source": [
        "Let's begin by loading up our data."
      ]
    },
    {
      "cell_type": "code",
      "metadata": {
        "id": "igAT3vWVWJSJ",
        "colab_type": "code",
        "colab": {}
      },
      "source": [
        "import pandas as pd"
      ],
      "execution_count": 0,
      "outputs": []
    },
    {
      "cell_type": "code",
      "metadata": {
        "id": "g4eTxSHdWJSN",
        "colab_type": "code",
        "colab": {}
      },
      "source": [
        "url = \"https://raw.githubusercontent.com/jigsawlabs-student/exploring-pandas/master/regents-results.csv\"\n",
        "regents_df = pd.read_csv(url)"
      ],
      "execution_count": 0,
      "outputs": []
    },
    {
      "cell_type": "code",
      "metadata": {
        "id": "wscbAExwWJSP",
        "colab_type": "code",
        "outputId": "c6b68702-95ff-4028-c341-fea480732be3",
        "colab": {}
      },
      "source": [
        "regents_df[:3]"
      ],
      "execution_count": 0,
      "outputs": [
        {
          "output_type": "execute_result",
          "data": {
            "text/html": [
              "<div>\n",
              "<style scoped>\n",
              "    .dataframe tbody tr th:only-of-type {\n",
              "        vertical-align: middle;\n",
              "    }\n",
              "\n",
              "    .dataframe tbody tr th {\n",
              "        vertical-align: top;\n",
              "    }\n",
              "\n",
              "    .dataframe thead th {\n",
              "        text-align: right;\n",
              "    }\n",
              "</style>\n",
              "<table border=\"1\" class=\"dataframe\">\n",
              "  <thead>\n",
              "    <tr style=\"text-align: right;\">\n",
              "      <th></th>\n",
              "      <th>Unnamed Column</th>\n",
              "      <th>School DBN</th>\n",
              "      <th>School Name</th>\n",
              "      <th>School Type</th>\n",
              "      <th>School Level</th>\n",
              "      <th>Regents Exam</th>\n",
              "      <th>Year</th>\n",
              "      <th>Category</th>\n",
              "      <th>Total Tested</th>\n",
              "      <th>Mean Score</th>\n",
              "      <th>Number Scoring Below 65</th>\n",
              "      <th>Percent Scoring Below 65</th>\n",
              "      <th>Number Scoring 65 or Above</th>\n",
              "      <th>Percent Scoring 65 or Above</th>\n",
              "      <th>Number Scoring 80 or Above</th>\n",
              "      <th>Percent Scoring 80 or Above</th>\n",
              "      <th>Number Scoring CR</th>\n",
              "      <th>Percent Scoring CR</th>\n",
              "    </tr>\n",
              "  </thead>\n",
              "  <tbody>\n",
              "    <tr>\n",
              "      <th>0</th>\n",
              "      <td>01M0342015All StudentsLiving Environment</td>\n",
              "      <td>01M034</td>\n",
              "      <td>P.S. 034 Franklin D. Roosevelt</td>\n",
              "      <td>General Academic</td>\n",
              "      <td>K-8</td>\n",
              "      <td>Living Environment</td>\n",
              "      <td>2015</td>\n",
              "      <td>All Students</td>\n",
              "      <td>16</td>\n",
              "      <td>77.9</td>\n",
              "      <td>1</td>\n",
              "      <td>6.3</td>\n",
              "      <td>15</td>\n",
              "      <td>93.8</td>\n",
              "      <td>7</td>\n",
              "      <td>43.8</td>\n",
              "      <td>na</td>\n",
              "      <td>na</td>\n",
              "    </tr>\n",
              "    <tr>\n",
              "      <th>1</th>\n",
              "      <td>01M0342016All StudentsLiving Environment</td>\n",
              "      <td>01M034</td>\n",
              "      <td>P.S. 034 Franklin D. Roosevelt</td>\n",
              "      <td>General Academic</td>\n",
              "      <td>K-8</td>\n",
              "      <td>Living Environment</td>\n",
              "      <td>2016</td>\n",
              "      <td>All Students</td>\n",
              "      <td>9</td>\n",
              "      <td>74.0</td>\n",
              "      <td>1</td>\n",
              "      <td>11.1</td>\n",
              "      <td>8</td>\n",
              "      <td>88.9</td>\n",
              "      <td>2</td>\n",
              "      <td>22.2</td>\n",
              "      <td>na</td>\n",
              "      <td>na</td>\n",
              "    </tr>\n",
              "    <tr>\n",
              "      <th>2</th>\n",
              "      <td>01M0342017All StudentsCommon Core Algebra</td>\n",
              "      <td>01M034</td>\n",
              "      <td>P.S. 034 Franklin D. Roosevelt</td>\n",
              "      <td>General Academic</td>\n",
              "      <td>K-8</td>\n",
              "      <td>Common Core Algebra</td>\n",
              "      <td>2017</td>\n",
              "      <td>All Students</td>\n",
              "      <td>4</td>\n",
              "      <td>s</td>\n",
              "      <td>s</td>\n",
              "      <td>s</td>\n",
              "      <td>s</td>\n",
              "      <td>s</td>\n",
              "      <td>s</td>\n",
              "      <td>s</td>\n",
              "      <td>s</td>\n",
              "      <td>s</td>\n",
              "    </tr>\n",
              "  </tbody>\n",
              "</table>\n",
              "</div>"
            ],
            "text/plain": [
              "                              Unnamed Column School DBN  \\\n",
              "0   01M0342015All StudentsLiving Environment     01M034   \n",
              "1   01M0342016All StudentsLiving Environment     01M034   \n",
              "2  01M0342017All StudentsCommon Core Algebra     01M034   \n",
              "\n",
              "                      School Name       School Type School Level  \\\n",
              "0  P.S. 034 Franklin D. Roosevelt  General Academic          K-8   \n",
              "1  P.S. 034 Franklin D. Roosevelt  General Academic          K-8   \n",
              "2  P.S. 034 Franklin D. Roosevelt  General Academic          K-8   \n",
              "\n",
              "          Regents Exam  Year      Category  Total Tested Mean Score  \\\n",
              "0   Living Environment  2015  All Students            16       77.9   \n",
              "1   Living Environment  2016  All Students             9       74.0   \n",
              "2  Common Core Algebra  2017  All Students             4          s   \n",
              "\n",
              "  Number Scoring Below 65 Percent Scoring Below 65 Number Scoring 65 or Above  \\\n",
              "0                       1                      6.3                         15   \n",
              "1                       1                     11.1                          8   \n",
              "2                       s                        s                          s   \n",
              "\n",
              "  Percent Scoring 65 or Above Number Scoring 80 or Above  \\\n",
              "0                        93.8                          7   \n",
              "1                        88.9                          2   \n",
              "2                           s                          s   \n",
              "\n",
              "  Percent Scoring 80 or Above Number Scoring CR Percent Scoring CR  \n",
              "0                        43.8                na                 na  \n",
              "1                        22.2                na                 na  \n",
              "2                           s                 s                  s  "
            ]
          },
          "metadata": {
            "tags": []
          },
          "execution_count": 126
        }
      ]
    },
    {
      "cell_type": "markdown",
      "metadata": {
        "id": "C6kFkR1GWJSS",
        "colab_type": "text"
      },
      "source": [
        "As we can see, there is a good amount of categorical data in these columns.  This could be a good candidate for grouping by multiple columns.  But to begin with, let's reduce some of our data."
      ]
    },
    {
      "cell_type": "code",
      "metadata": {
        "id": "s6YPXHezWJSS",
        "colab_type": "code",
        "outputId": "da7ed870-ca1d-40b0-e58a-7092f59d53a0",
        "colab": {}
      },
      "source": [
        "regents_df.columns"
      ],
      "execution_count": 0,
      "outputs": [
        {
          "output_type": "execute_result",
          "data": {
            "text/plain": [
              "Index(['Unnamed Column', 'School DBN', 'School Name', 'School Type',\n",
              "       'School Level', 'Regents Exam', 'Year', 'Category', 'Total Tested',\n",
              "       'Mean Score', 'Number Scoring Below 65', 'Percent Scoring Below 65',\n",
              "       'Number Scoring 65 or Above', 'Percent Scoring 65 or Above',\n",
              "       'Number Scoring 80 or Above', 'Percent Scoring 80 or Above',\n",
              "       'Number Scoring CR', 'Percent Scoring CR'],\n",
              "      dtype='object')"
            ]
          },
          "metadata": {
            "tags": []
          },
          "execution_count": 127
        }
      ]
    },
    {
      "cell_type": "code",
      "metadata": {
        "id": "8PQ5Cme5WJSU",
        "colab_type": "code",
        "colab": {}
      },
      "source": [
        "selected_cols = ['School DBN', 'School Name', 'School Level', 'Regents Exam', 'Year', 'Total Tested', 'Mean Score', 'Percent Scoring 80 or Above', 'Percent Scoring Below 65']"
      ],
      "execution_count": 0,
      "outputs": []
    },
    {
      "cell_type": "code",
      "metadata": {
        "id": "88oDxGthWJSW",
        "colab_type": "code",
        "colab": {}
      },
      "source": [
        "reduced_df = regents_df[selected_cols]"
      ],
      "execution_count": 0,
      "outputs": []
    },
    {
      "cell_type": "code",
      "metadata": {
        "id": "cATjfwn2WJSZ",
        "colab_type": "code",
        "outputId": "3d61767a-2224-4467-b5ce-b380a66d11c6",
        "colab": {}
      },
      "source": [
        "reduced_df[:3]"
      ],
      "execution_count": 0,
      "outputs": [
        {
          "output_type": "execute_result",
          "data": {
            "text/html": [
              "<div>\n",
              "<style scoped>\n",
              "    .dataframe tbody tr th:only-of-type {\n",
              "        vertical-align: middle;\n",
              "    }\n",
              "\n",
              "    .dataframe tbody tr th {\n",
              "        vertical-align: top;\n",
              "    }\n",
              "\n",
              "    .dataframe thead th {\n",
              "        text-align: right;\n",
              "    }\n",
              "</style>\n",
              "<table border=\"1\" class=\"dataframe\">\n",
              "  <thead>\n",
              "    <tr style=\"text-align: right;\">\n",
              "      <th></th>\n",
              "      <th>School DBN</th>\n",
              "      <th>School Name</th>\n",
              "      <th>School Level</th>\n",
              "      <th>Regents Exam</th>\n",
              "      <th>Year</th>\n",
              "      <th>Total Tested</th>\n",
              "      <th>Mean Score</th>\n",
              "      <th>Percent Scoring 80 or Above</th>\n",
              "      <th>Percent Scoring Below 65</th>\n",
              "    </tr>\n",
              "  </thead>\n",
              "  <tbody>\n",
              "    <tr>\n",
              "      <th>0</th>\n",
              "      <td>01M034</td>\n",
              "      <td>P.S. 034 Franklin D. Roosevelt</td>\n",
              "      <td>K-8</td>\n",
              "      <td>Living Environment</td>\n",
              "      <td>2015</td>\n",
              "      <td>16</td>\n",
              "      <td>77.9</td>\n",
              "      <td>43.8</td>\n",
              "      <td>6.3</td>\n",
              "    </tr>\n",
              "    <tr>\n",
              "      <th>1</th>\n",
              "      <td>01M034</td>\n",
              "      <td>P.S. 034 Franklin D. Roosevelt</td>\n",
              "      <td>K-8</td>\n",
              "      <td>Living Environment</td>\n",
              "      <td>2016</td>\n",
              "      <td>9</td>\n",
              "      <td>74.0</td>\n",
              "      <td>22.2</td>\n",
              "      <td>11.1</td>\n",
              "    </tr>\n",
              "    <tr>\n",
              "      <th>2</th>\n",
              "      <td>01M034</td>\n",
              "      <td>P.S. 034 Franklin D. Roosevelt</td>\n",
              "      <td>K-8</td>\n",
              "      <td>Common Core Algebra</td>\n",
              "      <td>2017</td>\n",
              "      <td>4</td>\n",
              "      <td>s</td>\n",
              "      <td>s</td>\n",
              "      <td>s</td>\n",
              "    </tr>\n",
              "  </tbody>\n",
              "</table>\n",
              "</div>"
            ],
            "text/plain": [
              "  School DBN                     School Name School Level  \\\n",
              "0     01M034  P.S. 034 Franklin D. Roosevelt          K-8   \n",
              "1     01M034  P.S. 034 Franklin D. Roosevelt          K-8   \n",
              "2     01M034  P.S. 034 Franklin D. Roosevelt          K-8   \n",
              "\n",
              "          Regents Exam  Year  Total Tested Mean Score  \\\n",
              "0   Living Environment  2015            16       77.9   \n",
              "1   Living Environment  2016             9       74.0   \n",
              "2  Common Core Algebra  2017             4          s   \n",
              "\n",
              "  Percent Scoring 80 or Above Percent Scoring Below 65  \n",
              "0                        43.8                      6.3  \n",
              "1                        22.2                     11.1  \n",
              "2                           s                        s  "
            ]
          },
          "metadata": {
            "tags": []
          },
          "execution_count": 130
        }
      ]
    },
    {
      "cell_type": "markdown",
      "metadata": {
        "id": "bN2HxRCtWJSb",
        "colab_type": "text"
      },
      "source": [
        "### Querying our Data"
      ]
    },
    {
      "cell_type": "markdown",
      "metadata": {
        "id": "3sraKg2EWJSc",
        "colab_type": "text"
      },
      "source": [
        "Ok, let's begin by looking at the different school levels in our dataset, and the related counts of each."
      ]
    },
    {
      "cell_type": "code",
      "metadata": {
        "id": "Vr_xANV-WJSc",
        "colab_type": "code",
        "colab": {}
      },
      "source": [
        "# Write code here\n",
        "\n",
        "# High school                        22456\n",
        "# Secondary School                    4766\n",
        "# Junior High-Intermediate-Middle     2900\n",
        "# K-12 all grades                     1516\n",
        "# K-8                                 1374\n",
        "# Elementary                            17\n",
        "# Ungraded                               2"
      ],
      "execution_count": 0,
      "outputs": []
    },
    {
      "cell_type": "markdown",
      "metadata": {
        "id": "4DDwbm7cWJSe",
        "colab_type": "text"
      },
      "source": [
        "Let's only select High school data."
      ]
    },
    {
      "cell_type": "code",
      "metadata": {
        "id": "hwzXAxmbWJSf",
        "colab_type": "code",
        "colab": {}
      },
      "source": [
        "high_school_df = None"
      ],
      "execution_count": 0,
      "outputs": []
    },
    {
      "cell_type": "code",
      "metadata": {
        "id": "Bi-WPSWuWJSh",
        "colab_type": "code",
        "outputId": "b7951da9-c91e-4d08-cee1-afbe95165263",
        "colab": {}
      },
      "source": [
        "high_school_df.shape\n",
        "\n",
        "# (22456, 8)"
      ],
      "execution_count": 0,
      "outputs": [
        {
          "output_type": "execute_result",
          "data": {
            "text/plain": [
              "(22456, 9)"
            ]
          },
          "metadata": {
            "tags": []
          },
          "execution_count": 48
        }
      ]
    },
    {
      "cell_type": "markdown",
      "metadata": {
        "id": "nFTNoaxVWJSj",
        "colab_type": "text"
      },
      "source": [
        "Now each school may have had many different tests per year."
      ]
    },
    {
      "cell_type": "code",
      "metadata": {
        "id": "hf52PCQPWJSj",
        "colab_type": "code",
        "outputId": "d4be03e4-0aba-4391-80f3-fa913ec9b96e",
        "colab": {}
      },
      "source": [
        "high_school_df[:3]\n",
        "\n",
        "# \tSchool DBN\tSchool Name\tSchool Level\tRegents Exam\tYear\tTotal Tested\tMean Score\tPercent Scoring 80 or Above\tPercent Scoring Below 65\n",
        "# 32\t01M292\tOrchard Collegiate Academy\tHigh school\tAlgebra2/Trigonometry\t2015\t5\ts\ts\ts\n",
        "# 33\t01M292\tOrchard Collegiate Academy\tHigh school\tChinese\t2015\t1\ts\ts\ts\n",
        "# 34\t01M292\tOrchard Collegiate Academy\tHigh school\tCommon Core Algebra\t2015\t12\t52.3\t0.0\t91.7"
      ],
      "execution_count": 0,
      "outputs": [
        {
          "output_type": "execute_result",
          "data": {
            "text/html": [
              "<div>\n",
              "<style scoped>\n",
              "    .dataframe tbody tr th:only-of-type {\n",
              "        vertical-align: middle;\n",
              "    }\n",
              "\n",
              "    .dataframe tbody tr th {\n",
              "        vertical-align: top;\n",
              "    }\n",
              "\n",
              "    .dataframe thead th {\n",
              "        text-align: right;\n",
              "    }\n",
              "</style>\n",
              "<table border=\"1\" class=\"dataframe\">\n",
              "  <thead>\n",
              "    <tr style=\"text-align: right;\">\n",
              "      <th></th>\n",
              "      <th>School DBN</th>\n",
              "      <th>School Name</th>\n",
              "      <th>School Level</th>\n",
              "      <th>Regents Exam</th>\n",
              "      <th>Year</th>\n",
              "      <th>Total Tested</th>\n",
              "      <th>Mean Score</th>\n",
              "      <th>Percent Scoring 80 or Above</th>\n",
              "      <th>Percent Scoring Below 65</th>\n",
              "    </tr>\n",
              "  </thead>\n",
              "  <tbody>\n",
              "    <tr>\n",
              "      <th>32</th>\n",
              "      <td>01M292</td>\n",
              "      <td>Orchard Collegiate Academy</td>\n",
              "      <td>High school</td>\n",
              "      <td>Algebra2/Trigonometry</td>\n",
              "      <td>2015</td>\n",
              "      <td>5</td>\n",
              "      <td>s</td>\n",
              "      <td>s</td>\n",
              "      <td>s</td>\n",
              "    </tr>\n",
              "    <tr>\n",
              "      <th>33</th>\n",
              "      <td>01M292</td>\n",
              "      <td>Orchard Collegiate Academy</td>\n",
              "      <td>High school</td>\n",
              "      <td>Chinese</td>\n",
              "      <td>2015</td>\n",
              "      <td>1</td>\n",
              "      <td>s</td>\n",
              "      <td>s</td>\n",
              "      <td>s</td>\n",
              "    </tr>\n",
              "    <tr>\n",
              "      <th>34</th>\n",
              "      <td>01M292</td>\n",
              "      <td>Orchard Collegiate Academy</td>\n",
              "      <td>High school</td>\n",
              "      <td>Common Core Algebra</td>\n",
              "      <td>2015</td>\n",
              "      <td>12</td>\n",
              "      <td>52.3</td>\n",
              "      <td>0.0</td>\n",
              "      <td>91.7</td>\n",
              "    </tr>\n",
              "  </tbody>\n",
              "</table>\n",
              "</div>"
            ],
            "text/plain": [
              "   School DBN                 School Name School Level           Regents Exam  \\\n",
              "32     01M292  Orchard Collegiate Academy  High school  Algebra2/Trigonometry   \n",
              "33     01M292  Orchard Collegiate Academy  High school                Chinese   \n",
              "34     01M292  Orchard Collegiate Academy  High school    Common Core Algebra   \n",
              "\n",
              "    Year  Total Tested Mean Score Percent Scoring 80 or Above  \\\n",
              "32  2015             5          s                           s   \n",
              "33  2015             1          s                           s   \n",
              "34  2015            12       52.3                         0.0   \n",
              "\n",
              "   Percent Scoring Below 65  \n",
              "32                        s  \n",
              "33                        s  \n",
              "34                     91.7  "
            ]
          },
          "metadata": {
            "tags": []
          },
          "execution_count": 49
        }
      ]
    },
    {
      "cell_type": "markdown",
      "metadata": {
        "id": "_FpZYMgpWJSm",
        "colab_type": "text"
      },
      "source": [
        "The s values look like missing data, let's replace them across our dataframe with the value `na`."
      ]
    },
    {
      "cell_type": "code",
      "metadata": {
        "id": "b1kW8Bb0WJSm",
        "colab_type": "code",
        "colab": {}
      },
      "source": [
        "import numpy as np\n",
        "filled_hs = None"
      ],
      "execution_count": 0,
      "outputs": []
    },
    {
      "cell_type": "code",
      "metadata": {
        "id": "tctPCzW6WJSo",
        "colab_type": "code",
        "outputId": "6a401554-d9f4-4df5-e09b-9545db4b2a30",
        "colab": {}
      },
      "source": [
        "filled_hs_df[:3]"
      ],
      "execution_count": 0,
      "outputs": [
        {
          "output_type": "execute_result",
          "data": {
            "text/html": [
              "<div>\n",
              "<style scoped>\n",
              "    .dataframe tbody tr th:only-of-type {\n",
              "        vertical-align: middle;\n",
              "    }\n",
              "\n",
              "    .dataframe tbody tr th {\n",
              "        vertical-align: top;\n",
              "    }\n",
              "\n",
              "    .dataframe thead th {\n",
              "        text-align: right;\n",
              "    }\n",
              "</style>\n",
              "<table border=\"1\" class=\"dataframe\">\n",
              "  <thead>\n",
              "    <tr style=\"text-align: right;\">\n",
              "      <th></th>\n",
              "      <th>School DBN</th>\n",
              "      <th>School Name</th>\n",
              "      <th>School Level</th>\n",
              "      <th>Regents Exam</th>\n",
              "      <th>Year</th>\n",
              "      <th>Total Tested</th>\n",
              "      <th>Mean Score</th>\n",
              "      <th>Percent Scoring 80 or Above</th>\n",
              "      <th>Percent Scoring Below 65</th>\n",
              "    </tr>\n",
              "  </thead>\n",
              "  <tbody>\n",
              "    <tr>\n",
              "      <th>32</th>\n",
              "      <td>01M292</td>\n",
              "      <td>Orchard Collegiate Academy</td>\n",
              "      <td>High school</td>\n",
              "      <td>Algebra2/Trigonometry</td>\n",
              "      <td>2015</td>\n",
              "      <td>5</td>\n",
              "      <td>NaN</td>\n",
              "      <td>NaN</td>\n",
              "      <td>NaN</td>\n",
              "    </tr>\n",
              "    <tr>\n",
              "      <th>33</th>\n",
              "      <td>01M292</td>\n",
              "      <td>Orchard Collegiate Academy</td>\n",
              "      <td>High school</td>\n",
              "      <td>Chinese</td>\n",
              "      <td>2015</td>\n",
              "      <td>1</td>\n",
              "      <td>NaN</td>\n",
              "      <td>NaN</td>\n",
              "      <td>NaN</td>\n",
              "    </tr>\n",
              "    <tr>\n",
              "      <th>34</th>\n",
              "      <td>01M292</td>\n",
              "      <td>Orchard Collegiate Academy</td>\n",
              "      <td>High school</td>\n",
              "      <td>Common Core Algebra</td>\n",
              "      <td>2015</td>\n",
              "      <td>12</td>\n",
              "      <td>52.3</td>\n",
              "      <td>0.0</td>\n",
              "      <td>91.7</td>\n",
              "    </tr>\n",
              "  </tbody>\n",
              "</table>\n",
              "</div>"
            ],
            "text/plain": [
              "   School DBN                 School Name School Level           Regents Exam  \\\n",
              "32     01M292  Orchard Collegiate Academy  High school  Algebra2/Trigonometry   \n",
              "33     01M292  Orchard Collegiate Academy  High school                Chinese   \n",
              "34     01M292  Orchard Collegiate Academy  High school    Common Core Algebra   \n",
              "\n",
              "    Year  Total Tested Mean Score Percent Scoring 80 or Above  \\\n",
              "32  2015             5        NaN                         NaN   \n",
              "33  2015             1        NaN                         NaN   \n",
              "34  2015            12       52.3                         0.0   \n",
              "\n",
              "   Percent Scoring Below 65  \n",
              "32                      NaN  \n",
              "33                      NaN  \n",
              "34                     91.7  "
            ]
          },
          "metadata": {
            "tags": []
          },
          "execution_count": 52
        }
      ]
    },
    {
      "cell_type": "markdown",
      "metadata": {
        "id": "tFjmZC0jWJSq",
        "colab_type": "text"
      },
      "source": [
        "Now let's see the nan values across all columns."
      ]
    },
    {
      "cell_type": "code",
      "metadata": {
        "id": "wYkr3iOXWJSr",
        "colab_type": "code",
        "colab": {}
      },
      "source": [
        "# write code here\n",
        "\n",
        "# School DBN                        0\n",
        "# School Name                       0\n",
        "# School Level                      0\n",
        "# Regents Exam                      0\n",
        "# Year                              0\n",
        "# Total Tested                      0\n",
        "# Mean Score                     2146\n",
        "# Percent Scoring 80 or Above    2146\n",
        "# Percent Scoring Below 65       2146\n",
        "# dtype: int64"
      ],
      "execution_count": 0,
      "outputs": []
    },
    {
      "cell_type": "code",
      "metadata": {
        "id": "a8U5LClVWJSt",
        "colab_type": "code",
        "outputId": "77dfa49a-8510-434f-d38a-2af6e9403498",
        "colab": {}
      },
      "source": [
        "filled_hs_df.shape\n",
        "\n",
        "# (22456, 9)"
      ],
      "execution_count": 0,
      "outputs": [
        {
          "output_type": "execute_result",
          "data": {
            "text/plain": [
              "(22456, 9)"
            ]
          },
          "metadata": {
            "tags": []
          },
          "execution_count": 55
        }
      ]
    },
    {
      "cell_type": "markdown",
      "metadata": {
        "id": "exICgoV9WJSw",
        "colab_type": "text"
      },
      "source": [
        "It looks like 10 percent of our data is missing."
      ]
    },
    {
      "cell_type": "markdown",
      "metadata": {
        "id": "NdU5yoFfWJSw",
        "colab_type": "text"
      },
      "source": [
        "Now use numpy to remove all of the rows where the last three columns are na."
      ]
    },
    {
      "cell_type": "code",
      "metadata": {
        "id": "slaRsqVHWJSw",
        "colab_type": "code",
        "colab": {}
      },
      "source": [
        "import numpy as np\n",
        "hs_df_non_na = None"
      ],
      "execution_count": 0,
      "outputs": []
    },
    {
      "cell_type": "code",
      "metadata": {
        "id": "nYF5VIVmWJSz",
        "colab_type": "code",
        "outputId": "fe2434d1-f25d-4c30-a439-1a2a537910ce",
        "colab": {}
      },
      "source": [
        "hs_df_non_na.shape\n",
        "\n",
        "# (20310, 9)"
      ],
      "execution_count": 0,
      "outputs": [
        {
          "output_type": "execute_result",
          "data": {
            "text/plain": [
              "(20310, 9)"
            ]
          },
          "metadata": {
            "tags": []
          },
          "execution_count": 79
        }
      ]
    },
    {
      "cell_type": "markdown",
      "metadata": {
        "id": "p2LtpwxWWJS1",
        "colab_type": "text"
      },
      "source": [
        "Now let's check our datatypes."
      ]
    },
    {
      "cell_type": "code",
      "metadata": {
        "id": "DrCju4LIWJS1",
        "colab_type": "code",
        "outputId": "6547f653-19a9-4232-dd44-3a414979cd42",
        "colab": {}
      },
      "source": [
        "hs_df_non_na.dtypes\n",
        "\n",
        "# School DBN                     object\n",
        "# School Name                    object\n",
        "# School Level                   object\n",
        "# Regents Exam                   object\n",
        "# Year                            int64\n",
        "# Total Tested                    int64\n",
        "# Mean Score                     object\n",
        "# Percent Scoring 80 or Above    object\n",
        "# Percent Scoring Below 65       object\n",
        "# dtype: object"
      ],
      "execution_count": 0,
      "outputs": [
        {
          "output_type": "execute_result",
          "data": {
            "text/plain": [
              "School DBN                     object\n",
              "School Name                    object\n",
              "School Level                   object\n",
              "Regents Exam                   object\n",
              "Year                            int64\n",
              "Total Tested                    int64\n",
              "Mean Score                     object\n",
              "Percent Scoring 80 or Above    object\n",
              "Percent Scoring Below 65       object\n",
              "dtype: object"
            ]
          },
          "metadata": {
            "tags": []
          },
          "execution_count": 82
        }
      ]
    },
    {
      "cell_type": "markdown",
      "metadata": {
        "id": "Fk3-ViZGWJS3",
        "colab_type": "text"
      },
      "source": [
        "Correct them to the appropriate types."
      ]
    },
    {
      "cell_type": "code",
      "metadata": {
        "id": "WAxAIxpsWJS3",
        "colab_type": "code",
        "colab": {}
      },
      "source": [
        "coerced_cols = None"
      ],
      "execution_count": 0,
      "outputs": []
    },
    {
      "cell_type": "code",
      "metadata": {
        "id": "90vmwVibWJS6",
        "colab_type": "code",
        "outputId": "9b43db11-5db0-422a-df28-4dceb8bd1ec9",
        "colab": {}
      },
      "source": [
        "coerced_cols"
      ],
      "execution_count": 0,
      "outputs": [
        {
          "output_type": "execute_result",
          "data": {
            "text/html": [
              "<div>\n",
              "<style scoped>\n",
              "    .dataframe tbody tr th:only-of-type {\n",
              "        vertical-align: middle;\n",
              "    }\n",
              "\n",
              "    .dataframe tbody tr th {\n",
              "        vertical-align: top;\n",
              "    }\n",
              "\n",
              "    .dataframe thead th {\n",
              "        text-align: right;\n",
              "    }\n",
              "</style>\n",
              "<table border=\"1\" class=\"dataframe\">\n",
              "  <thead>\n",
              "    <tr style=\"text-align: right;\">\n",
              "      <th></th>\n",
              "      <th>Mean Score</th>\n",
              "      <th>Percent Scoring 80 or Above</th>\n",
              "      <th>Percent Scoring Below 65</th>\n",
              "    </tr>\n",
              "  </thead>\n",
              "  <tbody>\n",
              "    <tr>\n",
              "      <th>34</th>\n",
              "      <td>52.3</td>\n",
              "      <td>0.0</td>\n",
              "      <td>91.7</td>\n",
              "    </tr>\n",
              "    <tr>\n",
              "      <th>35</th>\n",
              "      <td>61.5</td>\n",
              "      <td>26.5</td>\n",
              "      <td>44.1</td>\n",
              "    </tr>\n",
              "    <tr>\n",
              "      <th>36</th>\n",
              "      <td>49.2</td>\n",
              "      <td>0.0</td>\n",
              "      <td>90.0</td>\n",
              "    </tr>\n",
              "  </tbody>\n",
              "</table>\n",
              "</div>"
            ],
            "text/plain": [
              "    Mean Score  Percent Scoring 80 or Above  Percent Scoring Below 65\n",
              "34        52.3                          0.0                      91.7\n",
              "35        61.5                         26.5                      44.1\n",
              "36        49.2                          0.0                      90.0"
            ]
          },
          "metadata": {
            "tags": []
          },
          "execution_count": 91
        }
      ]
    },
    {
      "cell_type": "code",
      "metadata": {
        "id": "AoAIdpmSWJS8",
        "colab_type": "code",
        "colab": {}
      },
      "source": [
        "coerced_df = None\n"
      ],
      "execution_count": 0,
      "outputs": []
    },
    {
      "cell_type": "code",
      "metadata": {
        "id": "AddzoHeFWJS-",
        "colab_type": "code",
        "outputId": "9237244c-aedf-446a-ce95-42b88762c84c",
        "colab": {}
      },
      "source": [
        "coerced_df.dtypes\n",
        "\n",
        "# School DBN                      object\n",
        "# School Name                     object\n",
        "# School Level                    object\n",
        "# Regents Exam                    object\n",
        "# Year                             int64\n",
        "# Mean Score                     float64\n",
        "# Percent Scoring 80 or Above    float64\n",
        "# Percent Scoring Below 65       float64\n",
        "# dtype: object"
      ],
      "execution_count": 0,
      "outputs": [
        {
          "output_type": "execute_result",
          "data": {
            "text/plain": [
              "School DBN                      object\n",
              "School Name                     object\n",
              "School Level                    object\n",
              "Regents Exam                    object\n",
              "Year                             int64\n",
              "Mean Score                     float64\n",
              "Percent Scoring 80 or Above    float64\n",
              "Percent Scoring Below 65       float64\n",
              "dtype: object"
            ]
          },
          "metadata": {
            "tags": []
          },
          "execution_count": 97
        }
      ]
    },
    {
      "cell_type": "markdown",
      "metadata": {
        "id": "QX3OYlezWJTA",
        "colab_type": "text"
      },
      "source": [
        "### Using Pivot Tables"
      ]
    },
    {
      "cell_type": "markdown",
      "metadata": {
        "id": "OLB2LtIsWJTA",
        "colab_type": "text"
      },
      "source": [
        "Ok, now let's see if we can use pivot tables to query some of our data."
      ]
    },
    {
      "cell_type": "code",
      "metadata": {
        "id": "RNHHK0y1WJTB",
        "colab_type": "code",
        "outputId": "14b607ea-638b-423e-c3f1-8a00521a2abe",
        "colab": {}
      },
      "source": [
        "hs_df_non_na[:3]"
      ],
      "execution_count": 0,
      "outputs": [
        {
          "output_type": "execute_result",
          "data": {
            "text/html": [
              "<div>\n",
              "<style scoped>\n",
              "    .dataframe tbody tr th:only-of-type {\n",
              "        vertical-align: middle;\n",
              "    }\n",
              "\n",
              "    .dataframe tbody tr th {\n",
              "        vertical-align: top;\n",
              "    }\n",
              "\n",
              "    .dataframe thead th {\n",
              "        text-align: right;\n",
              "    }\n",
              "</style>\n",
              "<table border=\"1\" class=\"dataframe\">\n",
              "  <thead>\n",
              "    <tr style=\"text-align: right;\">\n",
              "      <th></th>\n",
              "      <th>School DBN</th>\n",
              "      <th>School Name</th>\n",
              "      <th>School Level</th>\n",
              "      <th>Regents Exam</th>\n",
              "      <th>Year</th>\n",
              "      <th>Total Tested</th>\n",
              "      <th>Mean Score</th>\n",
              "      <th>Percent Scoring 80 or Above</th>\n",
              "      <th>Percent Scoring Below 65</th>\n",
              "    </tr>\n",
              "  </thead>\n",
              "  <tbody>\n",
              "    <tr>\n",
              "      <th>34</th>\n",
              "      <td>01M292</td>\n",
              "      <td>Orchard Collegiate Academy</td>\n",
              "      <td>High school</td>\n",
              "      <td>Common Core Algebra</td>\n",
              "      <td>2015</td>\n",
              "      <td>12</td>\n",
              "      <td>52.3</td>\n",
              "      <td>0.0</td>\n",
              "      <td>91.7</td>\n",
              "    </tr>\n",
              "    <tr>\n",
              "      <th>35</th>\n",
              "      <td>01M292</td>\n",
              "      <td>Orchard Collegiate Academy</td>\n",
              "      <td>High school</td>\n",
              "      <td>Common Core English</td>\n",
              "      <td>2015</td>\n",
              "      <td>34</td>\n",
              "      <td>61.5</td>\n",
              "      <td>26.5</td>\n",
              "      <td>44.1</td>\n",
              "    </tr>\n",
              "    <tr>\n",
              "      <th>36</th>\n",
              "      <td>01M292</td>\n",
              "      <td>Orchard Collegiate Academy</td>\n",
              "      <td>High school</td>\n",
              "      <td>Common Core Geometry</td>\n",
              "      <td>2015</td>\n",
              "      <td>10</td>\n",
              "      <td>49.2</td>\n",
              "      <td>0.0</td>\n",
              "      <td>90.0</td>\n",
              "    </tr>\n",
              "  </tbody>\n",
              "</table>\n",
              "</div>"
            ],
            "text/plain": [
              "   School DBN                 School Name School Level          Regents Exam  \\\n",
              "34     01M292  Orchard Collegiate Academy  High school   Common Core Algebra   \n",
              "35     01M292  Orchard Collegiate Academy  High school   Common Core English   \n",
              "36     01M292  Orchard Collegiate Academy  High school  Common Core Geometry   \n",
              "\n",
              "    Year  Total Tested Mean Score Percent Scoring 80 or Above  \\\n",
              "34  2015            12       52.3                         0.0   \n",
              "35  2015            34       61.5                        26.5   \n",
              "36  2015            10       49.2                         0.0   \n",
              "\n",
              "   Percent Scoring Below 65  \n",
              "34                     91.7  \n",
              "35                     44.1  \n",
              "36                     90.0  "
            ]
          },
          "metadata": {
            "tags": []
          },
          "execution_count": 98
        }
      ]
    },
    {
      "cell_type": "markdown",
      "metadata": {
        "id": "8xZsjDJoWJTC",
        "colab_type": "text"
      },
      "source": [
        "Let's start by having a pivot table that displays total mean score, averaged across tests, per school, per year."
      ]
    },
    {
      "cell_type": "code",
      "metadata": {
        "id": "sInwAfF8WJTD",
        "colab_type": "code",
        "colab": {}
      },
      "source": [
        "pivoted_mean_by_year = None"
      ],
      "execution_count": 0,
      "outputs": []
    },
    {
      "cell_type": "code",
      "metadata": {
        "id": "AInQoNmdWJTE",
        "colab_type": "code",
        "outputId": "7e4010c3-c006-4f98-95d9-b6c1ed3f1290",
        "colab": {}
      },
      "source": [
        "pivoted_mean_by_year[:3]\n",
        "# \tMean Score\n",
        "# School Name\t47 The American Sign Language and English Secondar\tA. Philip Randolph Campus High School\tACORN Community High School\tAbraham Lincoln High School\tAbraham Lincoln Yabc\tAcademy for Careers in Television and Film\tAcademy for Conservation and the Environment\tAcademy for Environmental Leadership\tAcademy for Health Careers\tAcademy for Language and Technology\t...\tWestchester Square Academy\tWilliam Cullen Bryant High School\tWilliam E. Grady Career and Technical Education Hi\tWilliamsburg Charter High School\tWilliamsburg High School for Architecture and Desi\tWilliamsburg Preparatory School\tWings Academy\tWomen's Academy of Excellence\tWorld Academy for Total Community Health High Scho\tWorld View High School\n",
        "# Year\t\t\t\t\t\t\t\t\t\t\t\t\t\t\t\t\t\t\t\t\t\n",
        "# 2015\t58.850000\t68.207143\t60.961538\t62.292857\t58.050000\t67.600000\t57.700000\t59.500000\t64.488889\t66.191667\t...\t66.276923\t71.975000\t57.909091\t61.807692\t68.054545\t69.978571\t58.569231\t65.236364\t64.975000\t64.000000\n",
        "# 2016\t56.866667\t66.456250\t60.445455\t63.086667\t58.857143\t68.381818\t55.258333\t57.490000\t60.660000\t62.709091\t...\t65.986667\t67.831250\t59.118182\t60.800000\t68.840000\t69.875000\t58.100000\t62.578571\t62.054545\t62.600000\n",
        "# 2017\t63.333333\t67.023077\t60.762500\t65.690909\t59.080000\t68.745455"
      ],
      "execution_count": 0,
      "outputs": [
        {
          "output_type": "execute_result",
          "data": {
            "text/html": [
              "<div>\n",
              "<style scoped>\n",
              "    .dataframe tbody tr th:only-of-type {\n",
              "        vertical-align: middle;\n",
              "    }\n",
              "\n",
              "    .dataframe tbody tr th {\n",
              "        vertical-align: top;\n",
              "    }\n",
              "\n",
              "    .dataframe thead tr th {\n",
              "        text-align: left;\n",
              "    }\n",
              "\n",
              "    .dataframe thead tr:last-of-type th {\n",
              "        text-align: right;\n",
              "    }\n",
              "</style>\n",
              "<table border=\"1\" class=\"dataframe\">\n",
              "  <thead>\n",
              "    <tr>\n",
              "      <th></th>\n",
              "      <th colspan=\"21\" halign=\"left\">Mean Score</th>\n",
              "    </tr>\n",
              "    <tr>\n",
              "      <th>School Name</th>\n",
              "      <th>47 The American Sign Language and English Secondar</th>\n",
              "      <th>A. Philip Randolph Campus High School</th>\n",
              "      <th>ACORN Community High School</th>\n",
              "      <th>Abraham Lincoln High School</th>\n",
              "      <th>Abraham Lincoln Yabc</th>\n",
              "      <th>Academy for Careers in Television and Film</th>\n",
              "      <th>Academy for Conservation and the Environment</th>\n",
              "      <th>Academy for Environmental Leadership</th>\n",
              "      <th>Academy for Health Careers</th>\n",
              "      <th>Academy for Language and Technology</th>\n",
              "      <th>...</th>\n",
              "      <th>Westchester Square Academy</th>\n",
              "      <th>William Cullen Bryant High School</th>\n",
              "      <th>William E. Grady Career and Technical Education Hi</th>\n",
              "      <th>Williamsburg Charter High School</th>\n",
              "      <th>Williamsburg High School for Architecture and Desi</th>\n",
              "      <th>Williamsburg Preparatory School</th>\n",
              "      <th>Wings Academy</th>\n",
              "      <th>Women's Academy of Excellence</th>\n",
              "      <th>World Academy for Total Community Health High Scho</th>\n",
              "      <th>World View High School</th>\n",
              "    </tr>\n",
              "    <tr>\n",
              "      <th>Year</th>\n",
              "      <th></th>\n",
              "      <th></th>\n",
              "      <th></th>\n",
              "      <th></th>\n",
              "      <th></th>\n",
              "      <th></th>\n",
              "      <th></th>\n",
              "      <th></th>\n",
              "      <th></th>\n",
              "      <th></th>\n",
              "      <th></th>\n",
              "      <th></th>\n",
              "      <th></th>\n",
              "      <th></th>\n",
              "      <th></th>\n",
              "      <th></th>\n",
              "      <th></th>\n",
              "      <th></th>\n",
              "      <th></th>\n",
              "      <th></th>\n",
              "      <th></th>\n",
              "    </tr>\n",
              "  </thead>\n",
              "  <tbody>\n",
              "    <tr>\n",
              "      <th>2015</th>\n",
              "      <td>58.850000</td>\n",
              "      <td>68.207143</td>\n",
              "      <td>60.961538</td>\n",
              "      <td>62.292857</td>\n",
              "      <td>58.050000</td>\n",
              "      <td>67.600000</td>\n",
              "      <td>57.700000</td>\n",
              "      <td>59.5000</td>\n",
              "      <td>64.488889</td>\n",
              "      <td>66.191667</td>\n",
              "      <td>...</td>\n",
              "      <td>66.276923</td>\n",
              "      <td>71.975000</td>\n",
              "      <td>57.909091</td>\n",
              "      <td>61.807692</td>\n",
              "      <td>68.054545</td>\n",
              "      <td>69.978571</td>\n",
              "      <td>58.569231</td>\n",
              "      <td>65.236364</td>\n",
              "      <td>64.975000</td>\n",
              "      <td>64.000000</td>\n",
              "    </tr>\n",
              "    <tr>\n",
              "      <th>2016</th>\n",
              "      <td>56.866667</td>\n",
              "      <td>66.456250</td>\n",
              "      <td>60.445455</td>\n",
              "      <td>63.086667</td>\n",
              "      <td>58.857143</td>\n",
              "      <td>68.381818</td>\n",
              "      <td>55.258333</td>\n",
              "      <td>57.4900</td>\n",
              "      <td>60.660000</td>\n",
              "      <td>62.709091</td>\n",
              "      <td>...</td>\n",
              "      <td>65.986667</td>\n",
              "      <td>67.831250</td>\n",
              "      <td>59.118182</td>\n",
              "      <td>60.800000</td>\n",
              "      <td>68.840000</td>\n",
              "      <td>69.875000</td>\n",
              "      <td>58.100000</td>\n",
              "      <td>62.578571</td>\n",
              "      <td>62.054545</td>\n",
              "      <td>62.600000</td>\n",
              "    </tr>\n",
              "    <tr>\n",
              "      <th>2017</th>\n",
              "      <td>63.333333</td>\n",
              "      <td>67.023077</td>\n",
              "      <td>60.762500</td>\n",
              "      <td>65.690909</td>\n",
              "      <td>59.080000</td>\n",
              "      <td>68.745455</td>\n",
              "      <td>59.425000</td>\n",
              "      <td>60.7875</td>\n",
              "      <td>63.785714</td>\n",
              "      <td>61.130000</td>\n",
              "      <td>...</td>\n",
              "      <td>65.363636</td>\n",
              "      <td>67.345455</td>\n",
              "      <td>55.411111</td>\n",
              "      <td>59.318182</td>\n",
              "      <td>65.370000</td>\n",
              "      <td>69.427273</td>\n",
              "      <td>59.962500</td>\n",
              "      <td>64.787500</td>\n",
              "      <td>63.377778</td>\n",
              "      <td>62.055556</td>\n",
              "    </tr>\n",
              "  </tbody>\n",
              "</table>\n",
              "<p>3 rows × 459 columns</p>\n",
              "</div>"
            ],
            "text/plain": [
              "                                                    Mean Score  \\\n",
              "School Name 47 The American Sign Language and English Secondar   \n",
              "Year                                                             \n",
              "2015                                                 58.850000   \n",
              "2016                                                 56.866667   \n",
              "2017                                                 63.333333   \n",
              "\n",
              "                                                                               \\\n",
              "School Name A. Philip Randolph Campus High School ACORN Community High School   \n",
              "Year                                                                            \n",
              "2015                                    68.207143                   60.961538   \n",
              "2016                                    66.456250                   60.445455   \n",
              "2017                                    67.023077                   60.762500   \n",
              "\n",
              "                                                              \\\n",
              "School Name Abraham Lincoln High School Abraham Lincoln Yabc   \n",
              "Year                                                           \n",
              "2015                          62.292857            58.050000   \n",
              "2016                          63.086667            58.857143   \n",
              "2017                          65.690909            59.080000   \n",
              "\n",
              "                                                        \\\n",
              "School Name Academy for Careers in Television and Film   \n",
              "Year                                                     \n",
              "2015                                         67.600000   \n",
              "2016                                         68.381818   \n",
              "2017                                         68.745455   \n",
              "\n",
              "                                                          \\\n",
              "School Name Academy for Conservation and the Environment   \n",
              "Year                                                       \n",
              "2015                                           57.700000   \n",
              "2016                                           55.258333   \n",
              "2017                                           59.425000   \n",
              "\n",
              "                                                                             \\\n",
              "School Name Academy for Environmental Leadership Academy for Health Careers   \n",
              "Year                                                                          \n",
              "2015                                     59.5000                  64.488889   \n",
              "2016                                     57.4900                  60.660000   \n",
              "2017                                     60.7875                  63.785714   \n",
              "\n",
              "                                                 ...  \\\n",
              "School Name Academy for Language and Technology  ...   \n",
              "Year                                             ...   \n",
              "2015                                  66.191667  ...   \n",
              "2016                                  62.709091  ...   \n",
              "2017                                  61.130000  ...   \n",
              "\n",
              "                                                                          \\\n",
              "School Name Westchester Square Academy William Cullen Bryant High School   \n",
              "Year                                                                       \n",
              "2015                         66.276923                         71.975000   \n",
              "2016                         65.986667                         67.831250   \n",
              "2017                         65.363636                         67.345455   \n",
              "\n",
              "                                                                \\\n",
              "School Name William E. Grady Career and Technical Education Hi   \n",
              "Year                                                             \n",
              "2015                                                 57.909091   \n",
              "2016                                                 59.118182   \n",
              "2017                                                 55.411111   \n",
              "\n",
              "                                              \\\n",
              "School Name Williamsburg Charter High School   \n",
              "Year                                           \n",
              "2015                               61.807692   \n",
              "2016                               60.800000   \n",
              "2017                               59.318182   \n",
              "\n",
              "                                                                \\\n",
              "School Name Williamsburg High School for Architecture and Desi   \n",
              "Year                                                             \n",
              "2015                                                 68.054545   \n",
              "2016                                                 68.840000   \n",
              "2017                                                 65.370000   \n",
              "\n",
              "                                                           \\\n",
              "School Name Williamsburg Preparatory School Wings Academy   \n",
              "Year                                                        \n",
              "2015                              69.978571     58.569231   \n",
              "2016                              69.875000     58.100000   \n",
              "2017                              69.427273     59.962500   \n",
              "\n",
              "                                           \\\n",
              "School Name Women's Academy of Excellence   \n",
              "Year                                        \n",
              "2015                            65.236364   \n",
              "2016                            62.578571   \n",
              "2017                            64.787500   \n",
              "\n",
              "                                                                \\\n",
              "School Name World Academy for Total Community Health High Scho   \n",
              "Year                                                             \n",
              "2015                                                 64.975000   \n",
              "2016                                                 62.054545   \n",
              "2017                                                 63.377778   \n",
              "\n",
              "                                    \n",
              "School Name World View High School  \n",
              "Year                                \n",
              "2015                     64.000000  \n",
              "2016                     62.600000  \n",
              "2017                     62.055556  \n",
              "\n",
              "[3 rows x 459 columns]"
            ]
          },
          "metadata": {
            "tags": []
          },
          "execution_count": 105
        }
      ]
    },
    {
      "cell_type": "markdown",
      "metadata": {
        "id": "HBJklkMaWJTG",
        "colab_type": "text"
      },
      "source": [
        "Now let's use the `pivot_table` function to present this in the other direction.  Change the index to be the school name and the column to be the years."
      ]
    },
    {
      "cell_type": "code",
      "metadata": {
        "id": "tCNGy2FkWJTH",
        "colab_type": "code",
        "colab": {}
      },
      "source": [
        "pivoted_mean_by_school = None"
      ],
      "execution_count": 0,
      "outputs": []
    },
    {
      "cell_type": "code",
      "metadata": {
        "id": "1LbGkU-PWJTI",
        "colab_type": "code",
        "outputId": "0e6a966d-7e53-4a0c-8ab3-412ab4d32d58",
        "colab": {}
      },
      "source": [
        "pivoted_mean_by_school[:3]\n",
        "\n",
        "# \tMean Score\n",
        "# Year\t2015\t2016\t2017\t2018\t2019\n",
        "# School Name\t\t\t\t\t\n",
        "# 47 The American Sign Language and English Secondar\t58.850000\t56.866667\t63.333333\t65.550000\t64.500000\n",
        "# A. Philip Randolph Campus High School\t68.207143\t66.456250\t67.023077\t69.208333\t67.841667\n",
        "# ACORN Community High School\t60.961538\t60.445455\t60.762500\t55.544444\t56.985714"
      ],
      "execution_count": 0,
      "outputs": [
        {
          "output_type": "execute_result",
          "data": {
            "text/html": [
              "<div>\n",
              "<style scoped>\n",
              "    .dataframe tbody tr th:only-of-type {\n",
              "        vertical-align: middle;\n",
              "    }\n",
              "\n",
              "    .dataframe tbody tr th {\n",
              "        vertical-align: top;\n",
              "    }\n",
              "\n",
              "    .dataframe thead tr th {\n",
              "        text-align: left;\n",
              "    }\n",
              "\n",
              "    .dataframe thead tr:last-of-type th {\n",
              "        text-align: right;\n",
              "    }\n",
              "</style>\n",
              "<table border=\"1\" class=\"dataframe\">\n",
              "  <thead>\n",
              "    <tr>\n",
              "      <th></th>\n",
              "      <th colspan=\"5\" halign=\"left\">Mean Score</th>\n",
              "    </tr>\n",
              "    <tr>\n",
              "      <th>Year</th>\n",
              "      <th>2015</th>\n",
              "      <th>2016</th>\n",
              "      <th>2017</th>\n",
              "      <th>2018</th>\n",
              "      <th>2019</th>\n",
              "    </tr>\n",
              "    <tr>\n",
              "      <th>School Name</th>\n",
              "      <th></th>\n",
              "      <th></th>\n",
              "      <th></th>\n",
              "      <th></th>\n",
              "      <th></th>\n",
              "    </tr>\n",
              "  </thead>\n",
              "  <tbody>\n",
              "    <tr>\n",
              "      <th>47 The American Sign Language and English Secondar</th>\n",
              "      <td>58.850000</td>\n",
              "      <td>56.866667</td>\n",
              "      <td>63.333333</td>\n",
              "      <td>65.550000</td>\n",
              "      <td>64.500000</td>\n",
              "    </tr>\n",
              "    <tr>\n",
              "      <th>A. Philip Randolph Campus High School</th>\n",
              "      <td>68.207143</td>\n",
              "      <td>66.456250</td>\n",
              "      <td>67.023077</td>\n",
              "      <td>69.208333</td>\n",
              "      <td>67.841667</td>\n",
              "    </tr>\n",
              "    <tr>\n",
              "      <th>ACORN Community High School</th>\n",
              "      <td>60.961538</td>\n",
              "      <td>60.445455</td>\n",
              "      <td>60.762500</td>\n",
              "      <td>55.544444</td>\n",
              "      <td>56.985714</td>\n",
              "    </tr>\n",
              "  </tbody>\n",
              "</table>\n",
              "</div>"
            ],
            "text/plain": [
              "                                                   Mean Score             \\\n",
              "Year                                                     2015       2016   \n",
              "School Name                                                                \n",
              "47 The American Sign Language and English Secondar  58.850000  56.866667   \n",
              "A. Philip Randolph Campus High School               68.207143  66.456250   \n",
              "ACORN Community High School                         60.961538  60.445455   \n",
              "\n",
              "                                                                          \\\n",
              "Year                                                     2017       2018   \n",
              "School Name                                                                \n",
              "47 The American Sign Language and English Secondar  63.333333  65.550000   \n",
              "A. Philip Randolph Campus High School               67.023077  69.208333   \n",
              "ACORN Community High School                         60.762500  55.544444   \n",
              "\n",
              "                                                               \n",
              "Year                                                     2019  \n",
              "School Name                                                    \n",
              "47 The American Sign Language and English Secondar  64.500000  \n",
              "A. Philip Randolph Campus High School               67.841667  \n",
              "ACORN Community High School                         56.985714  "
            ]
          },
          "metadata": {
            "tags": []
          },
          "execution_count": 108
        }
      ]
    },
    {
      "cell_type": "markdown",
      "metadata": {
        "id": "NDzDKrodWJTK",
        "colab_type": "text"
      },
      "source": [
        "Ok, let's sort this dataframe by the top mean scores for 2019."
      ]
    },
    {
      "cell_type": "markdown",
      "metadata": {
        "id": "kzzrv6vWWJTK",
        "colab_type": "text"
      },
      "source": [
        "[To see how, look here.](https://stackoverflow.com/questions/41119623/pandas-pivot-table-sort-values-by-columns)"
      ]
    },
    {
      "cell_type": "markdown",
      "metadata": {
        "id": "oNCPlq69WJTL",
        "colab_type": "text"
      },
      "source": [
        "> `df = df_pivot.reindex(df_pivot['Value'].sort_values(by=2012, ascending=False).index)`"
      ]
    },
    {
      "cell_type": "code",
      "metadata": {
        "id": "4rtWozVhWJTL",
        "colab_type": "code",
        "colab": {}
      },
      "source": [
        "sorted_pivot_df = None"
      ],
      "execution_count": 0,
      "outputs": []
    },
    {
      "cell_type": "code",
      "metadata": {
        "id": "kcKZVgI9WJTN",
        "colab_type": "code",
        "outputId": "b601b8af-b625-45fd-8d0c-c68cf1bec1a9",
        "colab": {}
      },
      "source": [
        "sorted_pivot_df[:10]\n",
        "\n",
        "# \tMean Score\n",
        "# Year\t2015\t2016\t2017\t2018\t2019\n",
        "# School Name\t\t\t\t\t\n",
        "# Stuyvesant High School\t92.186667\t90.378571\t90.707692\t92.508333\t93.166667\n",
        "# The Bronx High School of Science\t91.613333\t90.285714\t90.292308\t91.400000\t91.753846\n",
        "# Townsend Harris High School\t91.192857\t90.391667\t88.966667\t91.945455\t91.145455\n",
        "# High School for Mathematics, Science and Engineeri\t86.881818\t86.236364\t88.010000\t89.070000\t90.670000\n",
        "# High School of American Studies at Lehman College\t88.516667\t88.691667\t90.145455\t90.260000\t90.290000\n",
        "# Queens High School for the Sciences at York Colleg\t88.208333\t88.625000\t89.436364\t91.109091\t90.181818\n",
        "# Staten Island Technical High School\t89.810000\t87.910000\t89.411111\t89.511111\t89.244444\n",
        "# Brooklyn Technical High School\t87.668750\t85.575000\t84.314286\t87.623077\t88.630769\n",
        "# Eleanor Roosevelt High School\t87.100000\t85.225000\t85.963636\t87.781818\t87.781818\n",
        "# Millennium High School\t80.357143\t82.575000\t84.133333\t86.470000\t87.680000"
      ],
      "execution_count": 0,
      "outputs": [
        {
          "output_type": "execute_result",
          "data": {
            "text/html": [
              "<div>\n",
              "<style scoped>\n",
              "    .dataframe tbody tr th:only-of-type {\n",
              "        vertical-align: middle;\n",
              "    }\n",
              "\n",
              "    .dataframe tbody tr th {\n",
              "        vertical-align: top;\n",
              "    }\n",
              "\n",
              "    .dataframe thead tr th {\n",
              "        text-align: left;\n",
              "    }\n",
              "\n",
              "    .dataframe thead tr:last-of-type th {\n",
              "        text-align: right;\n",
              "    }\n",
              "</style>\n",
              "<table border=\"1\" class=\"dataframe\">\n",
              "  <thead>\n",
              "    <tr>\n",
              "      <th></th>\n",
              "      <th colspan=\"5\" halign=\"left\">Mean Score</th>\n",
              "    </tr>\n",
              "    <tr>\n",
              "      <th>Year</th>\n",
              "      <th>2015</th>\n",
              "      <th>2016</th>\n",
              "      <th>2017</th>\n",
              "      <th>2018</th>\n",
              "      <th>2019</th>\n",
              "    </tr>\n",
              "    <tr>\n",
              "      <th>School Name</th>\n",
              "      <th></th>\n",
              "      <th></th>\n",
              "      <th></th>\n",
              "      <th></th>\n",
              "      <th></th>\n",
              "    </tr>\n",
              "  </thead>\n",
              "  <tbody>\n",
              "    <tr>\n",
              "      <th>Stuyvesant High School</th>\n",
              "      <td>92.186667</td>\n",
              "      <td>90.378571</td>\n",
              "      <td>90.707692</td>\n",
              "      <td>92.508333</td>\n",
              "      <td>93.166667</td>\n",
              "    </tr>\n",
              "    <tr>\n",
              "      <th>The Bronx High School of Science</th>\n",
              "      <td>91.613333</td>\n",
              "      <td>90.285714</td>\n",
              "      <td>90.292308</td>\n",
              "      <td>91.400000</td>\n",
              "      <td>91.753846</td>\n",
              "    </tr>\n",
              "    <tr>\n",
              "      <th>Townsend Harris High School</th>\n",
              "      <td>91.192857</td>\n",
              "      <td>90.391667</td>\n",
              "      <td>88.966667</td>\n",
              "      <td>91.945455</td>\n",
              "      <td>91.145455</td>\n",
              "    </tr>\n",
              "    <tr>\n",
              "      <th>High School for Mathematics, Science and Engineeri</th>\n",
              "      <td>86.881818</td>\n",
              "      <td>86.236364</td>\n",
              "      <td>88.010000</td>\n",
              "      <td>89.070000</td>\n",
              "      <td>90.670000</td>\n",
              "    </tr>\n",
              "    <tr>\n",
              "      <th>High School of American Studies at Lehman College</th>\n",
              "      <td>88.516667</td>\n",
              "      <td>88.691667</td>\n",
              "      <td>90.145455</td>\n",
              "      <td>90.260000</td>\n",
              "      <td>90.290000</td>\n",
              "    </tr>\n",
              "    <tr>\n",
              "      <th>Queens High School for the Sciences at York Colleg</th>\n",
              "      <td>88.208333</td>\n",
              "      <td>88.625000</td>\n",
              "      <td>89.436364</td>\n",
              "      <td>91.109091</td>\n",
              "      <td>90.181818</td>\n",
              "    </tr>\n",
              "    <tr>\n",
              "      <th>Staten Island Technical High School</th>\n",
              "      <td>89.810000</td>\n",
              "      <td>87.910000</td>\n",
              "      <td>89.411111</td>\n",
              "      <td>89.511111</td>\n",
              "      <td>89.244444</td>\n",
              "    </tr>\n",
              "    <tr>\n",
              "      <th>Brooklyn Technical High School</th>\n",
              "      <td>87.668750</td>\n",
              "      <td>85.575000</td>\n",
              "      <td>84.314286</td>\n",
              "      <td>87.623077</td>\n",
              "      <td>88.630769</td>\n",
              "    </tr>\n",
              "    <tr>\n",
              "      <th>Eleanor Roosevelt High School</th>\n",
              "      <td>87.100000</td>\n",
              "      <td>85.225000</td>\n",
              "      <td>85.963636</td>\n",
              "      <td>87.781818</td>\n",
              "      <td>87.781818</td>\n",
              "    </tr>\n",
              "    <tr>\n",
              "      <th>Millennium High School</th>\n",
              "      <td>80.357143</td>\n",
              "      <td>82.575000</td>\n",
              "      <td>84.133333</td>\n",
              "      <td>86.470000</td>\n",
              "      <td>87.680000</td>\n",
              "    </tr>\n",
              "  </tbody>\n",
              "</table>\n",
              "</div>"
            ],
            "text/plain": [
              "                                                   Mean Score             \\\n",
              "Year                                                     2015       2016   \n",
              "School Name                                                                \n",
              "Stuyvesant High School                              92.186667  90.378571   \n",
              "The Bronx High School of Science                    91.613333  90.285714   \n",
              "Townsend Harris High School                         91.192857  90.391667   \n",
              "High School for Mathematics, Science and Engineeri  86.881818  86.236364   \n",
              "High School of American Studies at Lehman College   88.516667  88.691667   \n",
              "Queens High School for the Sciences at York Colleg  88.208333  88.625000   \n",
              "Staten Island Technical High School                 89.810000  87.910000   \n",
              "Brooklyn Technical High School                      87.668750  85.575000   \n",
              "Eleanor Roosevelt High School                       87.100000  85.225000   \n",
              "Millennium High School                              80.357143  82.575000   \n",
              "\n",
              "                                                                          \\\n",
              "Year                                                     2017       2018   \n",
              "School Name                                                                \n",
              "Stuyvesant High School                              90.707692  92.508333   \n",
              "The Bronx High School of Science                    90.292308  91.400000   \n",
              "Townsend Harris High School                         88.966667  91.945455   \n",
              "High School for Mathematics, Science and Engineeri  88.010000  89.070000   \n",
              "High School of American Studies at Lehman College   90.145455  90.260000   \n",
              "Queens High School for the Sciences at York Colleg  89.436364  91.109091   \n",
              "Staten Island Technical High School                 89.411111  89.511111   \n",
              "Brooklyn Technical High School                      84.314286  87.623077   \n",
              "Eleanor Roosevelt High School                       85.963636  87.781818   \n",
              "Millennium High School                              84.133333  86.470000   \n",
              "\n",
              "                                                               \n",
              "Year                                                     2019  \n",
              "School Name                                                    \n",
              "Stuyvesant High School                              93.166667  \n",
              "The Bronx High School of Science                    91.753846  \n",
              "Townsend Harris High School                         91.145455  \n",
              "High School for Mathematics, Science and Engineeri  90.670000  \n",
              "High School of American Studies at Lehman College   90.290000  \n",
              "Queens High School for the Sciences at York Colleg  90.181818  \n",
              "Staten Island Technical High School                 89.244444  \n",
              "Brooklyn Technical High School                      88.630769  \n",
              "Eleanor Roosevelt High School                       87.781818  \n",
              "Millennium High School                              87.680000  "
            ]
          },
          "metadata": {
            "tags": []
          },
          "execution_count": 115
        }
      ]
    },
    {
      "cell_type": "markdown",
      "metadata": {
        "id": "uy9S_lTdWJTP",
        "colab_type": "text"
      },
      "source": [
        "Seems right :)"
      ]
    },
    {
      "cell_type": "markdown",
      "metadata": {
        "id": "r0dCuiKvWJTP",
        "colab_type": "text"
      },
      "source": [
        "Let's select the top three, and then  plot the changes in the scores over time.  \n",
        "\n",
        "> We may need to transpose the plot to get it to look how we like.  Also, we may need to change the size of the plot."
      ]
    },
    {
      "cell_type": "code",
      "metadata": {
        "id": "sg0dZZvuWJTQ",
        "colab_type": "code",
        "colab": {}
      },
      "source": [
        "# write code here"
      ],
      "execution_count": 0,
      "outputs": []
    },
    {
      "cell_type": "markdown",
      "metadata": {
        "id": "qocMTxwrWJTS",
        "colab_type": "text"
      },
      "source": [
        "> Answer <img src=\"https://github.com/jigsawlabs-student/exploring-pandas/blob/master/plotted-schools-regents.png?raw=1\" width=\"40%\">"
      ]
    },
    {
      "cell_type": "markdown",
      "metadata": {
        "id": "eQnpOcWBWJTS",
        "colab_type": "text"
      },
      "source": [
        "### Bonus\n",
        "\n",
        "Now see if you can use a pivot table to get a count of all of the students taking a regents exam per school, and produce a similar plot like we did for the average scores above."
      ]
    },
    {
      "cell_type": "markdown",
      "metadata": {
        "id": "Z63izkT0WJTT",
        "colab_type": "text"
      },
      "source": [
        "### Summary"
      ]
    },
    {
      "cell_type": "markdown",
      "metadata": {
        "id": "jfoPbndcWJTT",
        "colab_type": "text"
      },
      "source": [
        "In this lesson we used pivot tables to group data across multiple dimensions, here a school and year, and then use an aggregate function to perform a calculation."
      ]
    }
  ]
}