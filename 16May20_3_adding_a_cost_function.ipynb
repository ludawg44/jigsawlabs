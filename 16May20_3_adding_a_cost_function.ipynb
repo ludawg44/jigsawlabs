{
  "nbformat": 4,
  "nbformat_minor": 0,
  "metadata": {
    "kernelspec": {
      "display_name": "Python 3",
      "language": "python",
      "name": "python3"
    },
    "language_info": {
      "codemirror_mode": {
        "name": "ipython",
        "version": 3
      },
      "file_extension": ".py",
      "mimetype": "text/x-python",
      "name": "python",
      "nbconvert_exporter": "python",
      "pygments_lexer": "ipython3",
      "version": "3.7.4"
    },
    "colab": {
      "name": "Copy of 3-adding-a-cost-function.ipynb",
      "provenance": [],
      "include_colab_link": true
    }
  },
  "cells": [
    {
      "cell_type": "markdown",
      "metadata": {
        "id": "view-in-github",
        "colab_type": "text"
      },
      "source": [
        "<a href=\"https://colab.research.google.com/github/ludawg44/jigsawlabs/blob/master/16May20_3_adding_a_cost_function.ipynb\" target=\"_parent\"><img src=\"https://colab.research.google.com/assets/colab-badge.svg\" alt=\"Open In Colab\"/></a>"
      ]
    },
    {
      "cell_type": "markdown",
      "metadata": {
        "id": "-LY8V37QDq6Z",
        "colab_type": "text"
      },
      "source": [
        "# Adding a cost function"
      ]
    },
    {
      "cell_type": "markdown",
      "metadata": {
        "id": "GKEXemG_Dq6a",
        "colab_type": "text"
      },
      "source": [
        "## Introduction\n",
        "\n",
        "In the last lesson, we learned the procedure for training decision trees.  Our training procedure was the following:  \n",
        "\n",
        "**For a mixed group of data:**\n",
        "1. Find the feature that most separates the data by the target values\n",
        "2. Add that feature as a test in the hypothesis function to separate the mixed group\n",
        "3. Then for each set of data split into a mixed group, perform steps one through three \n",
        "\n",
        "**Stop** when there are no remaining mixed groups.\n",
        "\n",
        "But, what we have not yet described is *how* a decision tree *finds the feature that most separates the data*.  We'll describe that in this section."
      ]
    },
    {
      "cell_type": "markdown",
      "metadata": {
        "id": "blM4OOHLDq6a",
        "colab_type": "text"
      },
      "source": [
        "## Our Procedure"
      ]
    },
    {
      "cell_type": "markdown",
      "metadata": {
        "id": "FOebBCj0Dq6b",
        "colab_type": "text"
      },
      "source": [
        "Let's take another look at our training data."
      ]
    },
    {
      "cell_type": "markdown",
      "metadata": {
        "id": "aq2oedv9Dq6b",
        "colab_type": "text"
      },
      "source": [
        "| Attended College | Under Thirty | Borough   | Income | Customer |\n",
        "| ---------------- | ------------ | --------- | ------ | :------: |\n",
        "| ?                | Yes          | Manhattan | < 55   |    0     |\n",
        "| Yes              | Yes          | Brooklyn  | < 55   |    0     |\n",
        "| ?                | No           | Brooklyn  | < 55   |    1     |\n",
        "| No               | No           | Queens    | > 55   |    1     |\n",
        "| ?                | No           | Queens    | < 55   |    1     |\n",
        "| Yes              | No           | Queens    | >55    |    0     |\n",
        "| Yes              | No           | Queens    | >55    |    0     |\n",
        "| Yes              | Yes          | Manhattan | >55    |    0     |"
      ]
    },
    {
      "cell_type": "markdown",
      "metadata": {
        "id": "S3xrjC5-Dq6c",
        "colab_type": "text"
      },
      "source": [
        "#### 1. Split the data according to each feature"
      ]
    },
    {
      "cell_type": "markdown",
      "metadata": {
        "id": "oBBirD9lDq6c",
        "colab_type": "text"
      },
      "source": [
        "So how do we find the feature that most separates the data?  Well this is the first step:\n",
        "\n",
        "> Try splitting the data by **every** feature.    "
      ]
    },
    {
      "cell_type": "markdown",
      "metadata": {
        "id": "PwfAc98ADq6d",
        "colab_type": "text"
      },
      "source": [
        "<img src=\"https://storage.googleapis.com/curriculum-assets/intro-to-ml/customer-leads-1.png\" width=\"40%\"> <img src=\"https://storage.googleapis.com/curriculum-assets/intro-to-ml/customer-leads-2.png\" width=\"40%\">"
      ]
    },
    {
      "cell_type": "markdown",
      "metadata": {
        "id": "iaydEHypDq6d",
        "colab_type": "text"
      },
      "source": [
        "So instead of just trying a couple of splits like we did in the last lesson, here we'll make sure we split by *every* feature.  Next we need to calculate which split is the best.  This brings us to step 2.\n",
        "\n",
        "#### 2. Calculate the cost of each split\n",
        "\n",
        "Once we split our data by each feature, we want to evaluate each split.  We do so by counting the number of observations placed into a mixed group of ones and zeros.  The fewer the number of observations placed into a mixed group, the more our data is separated, and the better the split. \n",
        "\n",
        ">  The number of observations placed in a mixed group is called the **cost** of a split.  \n",
        "> We want to choose the feature that *minimizes* this cost.\n",
        "\n",
        "Let's run through some examples.\n",
        "\n",
        "1. We'll start by calculating the cost of splitting by college."
      ]
    },
    {
      "cell_type": "markdown",
      "metadata": {
        "id": "9RmW8o0GDq6d",
        "colab_type": "text"
      },
      "source": [
        "<img src=\"https://storage.googleapis.com/curriculum-assets/intro-to-ml/customer-leads-4.png\" width=\"50%\">"
      ]
    },
    {
      "cell_type": "markdown",
      "metadata": {
        "id": "kFjZhVq-Dq6e",
        "colab_type": "text"
      },
      "source": [
        "Here the cost is 3.  Why?  Well, going from top to bottom, the first two sub-groups have a cost of zero, as neither the `Yes` or `No` sub-group is mixed.  \n",
        "\n",
        "But the sub-group on the bottom *is* mixed.  So what is the total number of observations in a mixed group? \n",
        "\n",
        "$cost = 0 + 0 + 3$"
      ]
    },
    {
      "cell_type": "markdown",
      "metadata": {
        "id": "dXngBu0mDq6e",
        "colab_type": "text"
      },
      "source": [
        "2. Next, let's try splitting by income.  \n",
        "\n",
        "> Again, we calculate the cost by counting the total number of observations in a mixed group."
      ]
    },
    {
      "cell_type": "markdown",
      "metadata": {
        "id": "r5T4bjRxDq6f",
        "colab_type": "text"
      },
      "source": [
        "<img src=\"https://storage.googleapis.com/curriculum-assets/intro-to-ml/customer-leads-3.png\" width=\"50%\">"
      ]
    },
    {
      "cell_type": "markdown",
      "metadata": {
        "id": "lou6NscADq6f",
        "colab_type": "text"
      },
      "source": [
        "Here, the cost is 8.  All of the observations are in a group of 1s and 0s."
      ]
    },
    {
      "cell_type": "markdown",
      "metadata": {
        "id": "u_Swq9CrDq6g",
        "colab_type": "text"
      },
      "source": [
        "#### 3. Select the feature that minimizes the cost"
      ]
    },
    {
      "cell_type": "markdown",
      "metadata": {
        "id": "1weox165Dq6g",
        "colab_type": "text"
      },
      "source": [
        "If we calculate the cost of all of the splits, we'll see that college is the feature with the lowest cost, with a cost of 3."
      ]
    },
    {
      "cell_type": "markdown",
      "metadata": {
        "id": "lUK8DIUKDq6g",
        "colab_type": "text"
      },
      "source": [
        "<img src=\"https://storage.googleapis.com/curriculum-assets/intro-to-ml/customer-leads-1.png\" width=\"40%\"> <img src=\"https://storage.googleapis.com/curriculum-assets/intro-to-ml/customer-leads-2.png\" width=\"40%\">"
      ]
    },
    {
      "cell_type": "markdown",
      "metadata": {
        "id": "AIPFdFc9Dq6h",
        "colab_type": "text"
      },
      "source": [
        "So next, as we know, we take the feature of college and add it to our hypothesis function."
      ]
    },
    {
      "cell_type": "markdown",
      "metadata": {
        "id": "_YPyY5ssDq6h",
        "colab_type": "text"
      },
      "source": [
        "<img src=\"https://storage.googleapis.com/curriculum-assets/intro-to-ml/customer-leads-6.png\" width=\"40%\">"
      ]
    },
    {
      "cell_type": "markdown",
      "metadata": {
        "id": "srrny1-1Dq6i",
        "colab_type": "text"
      },
      "source": [
        "### 4. For each mixed group, repeat"
      ]
    },
    {
      "cell_type": "markdown",
      "metadata": {
        "id": "SR2pcZv6Dq6i",
        "colab_type": "text"
      },
      "source": [
        "Next we split the data according to each feature for our resulting mixed group -- the observations with a `?` value for college -- and again try splitting by each group."
      ]
    },
    {
      "cell_type": "markdown",
      "metadata": {
        "id": "R2QvplHuDq6j",
        "colab_type": "text"
      },
      "source": [
        "| Attended College | Under Thirty | Borough   | Income | Customer |\n",
        "| ---------------- | ------------ | --------- | ------ | :------: |\n",
        "| ?                | Yes          | Manhattan | < 55   |    0     |\n",
        "| ?                | No           | Brooklyn  | < 55   |    1     |\n",
        "| ?                | No           | Queens    | < 55   |    1     |\n"
      ]
    },
    {
      "cell_type": "markdown",
      "metadata": {
        "id": "H8IVCAZfDq6l",
        "colab_type": "text"
      },
      "source": [
        "So this is what we get."
      ]
    },
    {
      "cell_type": "markdown",
      "metadata": {
        "id": "336toOxTDq6l",
        "colab_type": "text"
      },
      "source": [
        "<img src=\"https://storage.googleapis.com/curriculum-assets/intro-to-ml/remaining-split-1.png\" width=\"33%\"><img src=\"https://storage.googleapis.com/curriculum-assets/intro-to-ml/remaining-split-2.png\" width=\"33%\"> <img src=\"https://storage.googleapis.com/curriculum-assets/intro-to-ml/remaining-split-3.png\" width=\"33%\">"
      ]
    },
    {
      "cell_type": "markdown",
      "metadata": {
        "id": "9cQ4RycJDq6l",
        "colab_type": "text"
      },
      "source": [
        "So calculating the cost of each split, we get: \n",
        "* Income: \n",
        "    * $cost = 3$\n",
        "    * All of the observations are in a mixed sub-group \n",
        "* Borough: \n",
        "    * $cost = 0 + 0 + 0$\n",
        "    * None of the observations are in a mixed sub-group\n",
        "* Under 30: \n",
        "    * $cost = 0 + 0$\n",
        "    * None of the observations are in a mixed sub-group"
      ]
    },
    {
      "cell_type": "markdown",
      "metadata": {
        "id": "gcsfZKxfDq6m",
        "colab_type": "text"
      },
      "source": [
        "So we can use `Borough` or `Under 30` to add to split our mixed group by.  We use Under 30. "
      ]
    },
    {
      "cell_type": "markdown",
      "metadata": {
        "id": "BnyAo1EvDq6m",
        "colab_type": "text"
      },
      "source": [
        "<img src=\"https://storage.googleapis.com/curriculum-assets/intro-to-ml/decision-tree-real-estate.png\" width=\"50%\">"
      ]
    },
    {
      "cell_type": "markdown",
      "metadata": {
        "id": "rhpzJlXLDq6n",
        "colab_type": "text"
      },
      "source": [
        "At this point, there are no remaining mixed groups so we stop. "
      ]
    },
    {
      "cell_type": "markdown",
      "metadata": {
        "id": "ZnnV7nEuDq6n",
        "colab_type": "text"
      },
      "source": [
        "### The Cost Function"
      ]
    },
    {
      "cell_type": "markdown",
      "metadata": {
        "id": "HRtRqbPVDq6n",
        "colab_type": "text"
      },
      "source": [
        "At this point, we have learned all of the components of the decision tree algorithm!  The last component that we added is called the **cost function**.  \n",
        "\n",
        "> The **cost function** simply outputs the **cost** of different versions of our hypothesis function, or here a portion of a hypothesis function.  \n",
        "\n",
        "So here, our cost function splits our observations by their values in a feature, and then counts up the number of observations placed in a mixed group.  \n",
        "\n",
        "And our training procedure is to continually form splits that minimize the number of observations placed in a mixed group.  \n",
        "\n",
        "> We'll update that cost function in future lessons.  For example, we may want our function to assign different costs to a split that results in a mixed group where 90 percent of the data is a 1, and the rest a 0, versus a mixed group that results in a 50-50 split.  But this is fine for now."
      ]
    },
    {
      "cell_type": "markdown",
      "metadata": {
        "id": "I_LsQeAqDq6o",
        "colab_type": "text"
      },
      "source": [
        "### Wrapping Up"
      ]
    },
    {
      "cell_type": "markdown",
      "metadata": {
        "id": "3ZT8TwvQDq6o",
        "colab_type": "text"
      },
      "source": [
        "Let's update our procedure for training the decision tree.\n",
        "\n",
        "**For a mixed group of training data:**\n",
        "1. Find the feature that most separates the data by the target values by\n",
        "    * Splitting the data according to the feature\n",
        "    * Then selecting the split resuling in the lowest **cost** where:\n",
        "        * The **cost** of a split is the number of observations placed into a mixed group (ie. a group with both `1s` and `0s`) \n",
        "2. Add the lowest cost feature to the hypothesis function to separate the mixed group\n",
        "3. Then for each remaining mixed group of training data, perform steps one through three \n",
        "\n",
        "**Stop** when there are no remaining mixed groups."
      ]
    },
    {
      "cell_type": "markdown",
      "metadata": {
        "id": "aMmaURZIDq6p",
        "colab_type": "text"
      },
      "source": [
        "### Summary"
      ]
    },
    {
      "cell_type": "markdown",
      "metadata": {
        "id": "ov7uv-XcDq6q",
        "colab_type": "text"
      },
      "source": [
        "In this lesson we saw a formal procedure for splitting our data.  We started by finding the initial feature to split the data on.  We tried splitting our observations by values for each feature, and calculated the number of observations placed into a mixed group.\n",
        "\n",
        "Splitting by income had a cost of 8, as all of the observations were placed into a mixed group.  And splitting by college had a cost of three, as only three of the observations were placed into a mixed group.  Because college had the lowest cost, that became the first feature that we added to our hypothesis function.\n",
        "\n",
        "This left us with three observations in a mixed group.  And we saw how to split this data by again calculating the cost of splitting this subgroup by each feature."
      ]
    },
    {
      "cell_type": "markdown",
      "metadata": {
        "id": "hU4FhJh-Dq6q",
        "colab_type": "text"
      },
      "source": [
        "<center>\n",
        "<a href=\"https://www.jigsawlabs.io/free\" style=\"position: center\"><img src=\"https://storage.cloud.google.com/curriculum-assets/curriculum-assets.nosync/mom-files/jigsaw-labs.png\" width=\"15%\" style=\"text-align: center\"></a>\n",
        "</center>"
      ]
    }
  ]
}