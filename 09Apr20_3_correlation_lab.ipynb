{
  "nbformat": 4,
  "nbformat_minor": 0,
  "metadata": {
    "kernelspec": {
      "display_name": "Python 3",
      "language": "python",
      "name": "python3"
    },
    "language_info": {
      "codemirror_mode": {
        "name": "ipython",
        "version": 3
      },
      "file_extension": ".py",
      "mimetype": "text/x-python",
      "name": "python",
      "nbconvert_exporter": "python",
      "pygments_lexer": "ipython3",
      "version": "3.7.4"
    },
    "colab": {
      "name": "Copy of 3-correlation-lab.ipynb",
      "provenance": [],
      "include_colab_link": true
    }
  },
  "cells": [
    {
      "cell_type": "markdown",
      "metadata": {
        "id": "view-in-github",
        "colab_type": "text"
      },
      "source": [
        "<a href=\"https://colab.research.google.com/github/ludawg44/jigsawlabs/blob/master/09Apr20_3_correlation_lab.ipynb\" target=\"_parent\"><img src=\"https://colab.research.google.com/assets/colab-badge.svg\" alt=\"Open In Colab\"/></a>"
      ]
    },
    {
      "cell_type": "markdown",
      "metadata": {
        "id": "x8tk6lJdk7Km",
        "colab_type": "text"
      },
      "source": [
        "# Alternatives to Causation Lab"
      ]
    },
    {
      "cell_type": "markdown",
      "metadata": {
        "id": "nY9BFxpSk7Kn",
        "colab_type": "text"
      },
      "source": [
        "### Introduction"
      ]
    },
    {
      "cell_type": "markdown",
      "metadata": {
        "id": "gGDsCDEOk7Ko",
        "colab_type": "text"
      },
      "source": [
        "In the last lesson, we saw that just because there is a correlation between X and Y does not mean that there is a correlation between X and Y.  While perhaps, we may have heard that before, it's still important to have a structured way to consider the alternatives.  \n",
        "\n",
        "In the last lesson, we saw that instead of X causing Y, alternatives could be the following:\n",
        "\n",
        "* Reverse Causality\n",
        "* Confounding Variable\n",
        "* Bi-directional Causality\n",
        "* Coincidental Correlation"
      ]
    },
    {
      "cell_type": "markdown",
      "metadata": {
        "id": "vemLYOeJk7Ko",
        "colab_type": "text"
      },
      "source": [
        "While, we may ultimately argue that even with alternative explanations to correlation, X still causes Y, it's important to consider (and perhaps dismantle) the opposing arguments.  Let's get some practice."
      ]
    },
    {
      "cell_type": "markdown",
      "metadata": {
        "id": "1HCsKkVvk7Kp",
        "colab_type": "text"
      },
      "source": [
        "### Examples"
      ]
    },
    {
      "cell_type": "markdown",
      "metadata": {
        "id": "JqAVZnA5k7Kp",
        "colab_type": "text"
      },
      "source": [
        "Consider the following situations, consider whether some alternatives to direct causation can explain the correlation.  Write down what might be occcuring."
      ]
    },
    {
      "cell_type": "markdown",
      "metadata": {
        "id": "Tu5B0oLKk7Kq",
        "colab_type": "text"
      },
      "source": [
        "1. Drugs and Disorders\n",
        "* Those who engage in recreational drug use are likely to have to have psychiatric disorders.\n",
        "* Recreational Drug Use $\\rightarrow$ Psychiatric Disorders\n",
        "* Counter: "
      ]
    },
    {
      "cell_type": "markdown",
      "metadata": {
        "id": "jCVVzTlZk7Kq",
        "colab_type": "text"
      },
      "source": [
        "2. Crime and Police\n",
        "    * Higher crime rates lead to more police presence.\n",
        "    * More crime $\\rightarrow$ police\n",
        "    * Counter: "
      ]
    },
    {
      "cell_type": "markdown",
      "metadata": {
        "id": "aU_r4OGYk7Kq",
        "colab_type": "text"
      },
      "source": [
        "3. Storks deliver babies\n",
        "\n",
        "Countries with more storks, also have more births"
      ]
    },
    {
      "cell_type": "markdown",
      "metadata": {
        "id": "jt8UXLELk7Kr",
        "colab_type": "text"
      },
      "source": [
        "<img src=\"https://github.com/jigsawlabs-student/correlations-to-experiments/blob/master/storks-deliver-babies.png?raw=1\" width=\"50%\">"
      ]
    },
    {
      "cell_type": "markdown",
      "metadata": {
        "id": "QNHygVd_k7Kr",
        "colab_type": "text"
      },
      "source": [
        "* More Storks $\\rightarrow$ babies\n",
        "* Counter: "
      ]
    },
    {
      "cell_type": "markdown",
      "metadata": {
        "id": "67RobJuQk7Ks",
        "colab_type": "text"
      },
      "source": [
        "4. Those with more education have higher salaries\n",
        "    * $\\uparrow$ Education $\\rightarrow$ $\\uparrow$ salary\n",
        "    * Counter: "
      ]
    },
    {
      "cell_type": "markdown",
      "metadata": {
        "id": "HnmcEBZrk7Ks",
        "colab_type": "text"
      },
      "source": [
        "5. Shoes and Headaches\n",
        "* Sleeping with shoes on is strongly correlated with waking up with a headache.\n",
        "* Sleeping with one's shoes $\\rightarrow$ headache.\n",
        "* Counter:"
      ]
    },
    {
      "cell_type": "markdown",
      "metadata": {
        "id": "tjx7lmILk7Kt",
        "colab_type": "text"
      },
      "source": [
        "6. Football and Elections"
      ]
    },
    {
      "cell_type": "markdown",
      "metadata": {
        "id": "BwCLv0xpk7Kt",
        "colab_type": "text"
      },
      "source": [
        "* The result of the last home game by Washington's Football team prior to the presidential election predicted the outcome of every presidential election from 1936 to 2000 inclusive.\n",
        "* Redskins Game $\\rightarrow$ President"
      ]
    },
    {
      "cell_type": "markdown",
      "metadata": {
        "id": "xWZxVtrkk7Kt",
        "colab_type": "text"
      },
      "source": [
        "7. The more impoverished a community the more food stamps\n",
        "* More poverty $\\rightarrow$ more food stamps\n",
        "* Counter:"
      ]
    },
    {
      "cell_type": "markdown",
      "metadata": {
        "id": "24tKHheqk7Ku",
        "colab_type": "text"
      },
      "source": [
        "8. Good Cholesterol and Heart attacks"
      ]
    },
    {
      "cell_type": "markdown",
      "metadata": {
        "id": "1PHAirrUk7Ku",
        "colab_type": "text"
      },
      "source": [
        "* HDL (\"good\") cholesterol is negatively correlated with incidence of heart attack.\n",
        "* Therefore, taking medication to raise HDL decreases the chance of having a heart attack.\n",
        "* More HDL $\\rightarrow$ fewer heart attacks\n",
        "* Counter: "
      ]
    },
    {
      "cell_type": "markdown",
      "metadata": {
        "id": "XK8T-_LGk7Ku",
        "colab_type": "text"
      },
      "source": [
        "### Summary"
      ]
    },
    {
      "cell_type": "markdown",
      "metadata": {
        "id": "8hugfYTqk7Kv",
        "colab_type": "text"
      },
      "source": [
        "In this lesson, we practiced considering alternative explanations for correlations, simply then X causing Y.  Once again, here were some of the alternatives:\n",
        "\n",
        "* Reverse Causality\n",
        "* Confounding Variable\n",
        "* Bi-directional Causality\n",
        "* Coincidental Correlation"
      ]
    },
    {
      "cell_type": "markdown",
      "metadata": {
        "id": "Mq61vKpMk7Kv",
        "colab_type": "text"
      },
      "source": [
        "### Resources\n",
        "\n",
        "* [Calling Bullshit Course](https://www.youtube.com/watch?v=YAAHJm1pi1E&list=PLPnZfvKID1Sje5jWxt-4CSZD7bUI4gSPS&index=12)\n",
        "* [Tyler Vigen](https://www.tylervigen.com/spurious-correlations)"
      ]
    }
  ]
}