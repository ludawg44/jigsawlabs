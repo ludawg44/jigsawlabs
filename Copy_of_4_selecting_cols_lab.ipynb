{
  "nbformat": 4,
  "nbformat_minor": 0,
  "metadata": {
    "kernelspec": {
      "display_name": "Python 3",
      "language": "python",
      "name": "python3"
    },
    "language_info": {
      "codemirror_mode": {
        "name": "ipython",
        "version": 3
      },
      "file_extension": ".py",
      "mimetype": "text/x-python",
      "name": "python",
      "nbconvert_exporter": "python",
      "pygments_lexer": "ipython3",
      "version": "3.7.4"
    },
    "colab": {
      "name": "Copy of 4-selecting-cols-lab.ipynb",
      "provenance": [],
      "include_colab_link": true
    }
  },
  "cells": [
    {
      "cell_type": "markdown",
      "metadata": {
        "id": "view-in-github",
        "colab_type": "text"
      },
      "source": [
        "<a href=\"https://colab.research.google.com/github/ludawg44/jigsawlabs/blob/master/Copy_of_4_selecting_cols_lab.ipynb\" target=\"_parent\"><img src=\"https://colab.research.google.com/assets/colab-badge.svg\" alt=\"Open In Colab\"/></a>"
      ]
    },
    {
      "cell_type": "markdown",
      "metadata": {
        "id": "-2MD5DNDn9tG",
        "colab_type": "text"
      },
      "source": [
        "# Selecting Columns Lab"
      ]
    },
    {
      "cell_type": "markdown",
      "metadata": {
        "id": "d1UUpwyGn9tH",
        "colab_type": "text"
      },
      "source": [
        "### Loading and Exploring the Data"
      ]
    },
    {
      "cell_type": "markdown",
      "metadata": {
        "id": "BLDy_IBQn9tH",
        "colab_type": "text"
      },
      "source": [
        "Let's begin by loading our data into pandas and assigning it to the variable `high_school_df`."
      ]
    },
    {
      "cell_type": "code",
      "metadata": {
        "id": "hUECCAyyn9tI",
        "colab_type": "code",
        "colab": {}
      },
      "source": [
        "import pandas as pd\n",
        "high_school_df = pd.read_csv('https://raw.githubusercontent.com/jigsawlabs-student/introductory-pandas/master/nyc_hs_sat.csv')"
      ],
      "execution_count": 0,
      "outputs": []
    },
    {
      "cell_type": "markdown",
      "metadata": {
        "id": "jS06SibJn9tQ",
        "colab_type": "text"
      },
      "source": [
        "Take a look at the columns that were loaded."
      ]
    },
    {
      "cell_type": "code",
      "metadata": {
        "id": "RJ_XhdTNn9tR",
        "colab_type": "code",
        "outputId": "1ea3b02d-9872-456c-9573-017164e3a78c",
        "colab": {
          "base_uri": "https://localhost:8080/",
          "height": 86
        }
      },
      "source": [
        "df_cols = high_school_df.columns\n",
        "df_cols\n",
        "\n",
        "df_cols\n",
        "# Index(['Unnamed: 0', 'dbn', 'name', 'num_test_takers', 'reading_avg',\n",
        "#        'math_avg', 'writing_score', 'boro', 'total_students',\n",
        "#        'graduation_rate', 'attendance_rate', 'college_career_rate'],\n",
        "#       dtype='object')"
      ],
      "execution_count": 0,
      "outputs": [
        {
          "output_type": "execute_result",
          "data": {
            "text/plain": [
              "Index(['Unnamed: 0', 'dbn', 'name', 'num_test_takers', 'reading_avg',\n",
              "       'math_avg', 'writing_score', 'boro', 'total_students',\n",
              "       'graduation_rate', 'attendance_rate', 'college_career_rate'],\n",
              "      dtype='object')"
            ]
          },
          "metadata": {
            "tags": []
          },
          "execution_count": 6
        }
      ]
    },
    {
      "cell_type": "markdown",
      "metadata": {
        "id": "VdfnuJg3n9tU",
        "colab_type": "text"
      },
      "source": [
        "We can see some initial rows of data by applying the `slice` method, like we would in Python."
      ]
    },
    {
      "cell_type": "code",
      "metadata": {
        "id": "Z3WCzT7Nn9tU",
        "colab_type": "code",
        "outputId": "c4f8cf01-dd01-4b07-d107-684c63d5a5e3",
        "colab": {
          "base_uri": "https://localhost:8080/",
          "height": 296
        }
      },
      "source": [
        "high_school_df[:3]"
      ],
      "execution_count": 0,
      "outputs": [
        {
          "output_type": "execute_result",
          "data": {
            "text/html": [
              "<div>\n",
              "<style scoped>\n",
              "    .dataframe tbody tr th:only-of-type {\n",
              "        vertical-align: middle;\n",
              "    }\n",
              "\n",
              "    .dataframe tbody tr th {\n",
              "        vertical-align: top;\n",
              "    }\n",
              "\n",
              "    .dataframe thead th {\n",
              "        text-align: right;\n",
              "    }\n",
              "</style>\n",
              "<table border=\"1\" class=\"dataframe\">\n",
              "  <thead>\n",
              "    <tr style=\"text-align: right;\">\n",
              "      <th></th>\n",
              "      <th>Unnamed: 0</th>\n",
              "      <th>dbn</th>\n",
              "      <th>name</th>\n",
              "      <th>num_test_takers</th>\n",
              "      <th>reading_avg</th>\n",
              "      <th>math_avg</th>\n",
              "      <th>writing_score</th>\n",
              "      <th>boro</th>\n",
              "      <th>total_students</th>\n",
              "      <th>graduation_rate</th>\n",
              "      <th>attendance_rate</th>\n",
              "      <th>college_career_rate</th>\n",
              "    </tr>\n",
              "  </thead>\n",
              "  <tbody>\n",
              "    <tr>\n",
              "      <th>0</th>\n",
              "      <td>0</td>\n",
              "      <td>01M292</td>\n",
              "      <td>HENRY STREET SCHOOL FOR INTERNATIONAL STUDIES</td>\n",
              "      <td>29.0</td>\n",
              "      <td>355.0</td>\n",
              "      <td>404.0</td>\n",
              "      <td>363.0</td>\n",
              "      <td>M</td>\n",
              "      <td>171</td>\n",
              "      <td>0.66</td>\n",
              "      <td>0.87</td>\n",
              "      <td>0.36</td>\n",
              "    </tr>\n",
              "    <tr>\n",
              "      <th>1</th>\n",
              "      <td>1</td>\n",
              "      <td>01M448</td>\n",
              "      <td>UNIVERSITY NEIGHBORHOOD HIGH SCHOOL</td>\n",
              "      <td>91.0</td>\n",
              "      <td>383.0</td>\n",
              "      <td>423.0</td>\n",
              "      <td>366.0</td>\n",
              "      <td>M</td>\n",
              "      <td>465</td>\n",
              "      <td>0.90</td>\n",
              "      <td>0.93</td>\n",
              "      <td>0.70</td>\n",
              "    </tr>\n",
              "    <tr>\n",
              "      <th>2</th>\n",
              "      <td>2</td>\n",
              "      <td>01M450</td>\n",
              "      <td>EAST SIDE COMMUNITY SCHOOL</td>\n",
              "      <td>70.0</td>\n",
              "      <td>377.0</td>\n",
              "      <td>402.0</td>\n",
              "      <td>370.0</td>\n",
              "      <td>M</td>\n",
              "      <td>683</td>\n",
              "      <td>0.92</td>\n",
              "      <td>0.94</td>\n",
              "      <td>0.77</td>\n",
              "    </tr>\n",
              "  </tbody>\n",
              "</table>\n",
              "</div>"
            ],
            "text/plain": [
              "   Unnamed: 0     dbn  ... attendance_rate  college_career_rate\n",
              "0           0  01M292  ...            0.87                 0.36\n",
              "1           1  01M448  ...            0.93                 0.70\n",
              "2           2  01M450  ...            0.94                 0.77\n",
              "\n",
              "[3 rows x 12 columns]"
            ]
          },
          "metadata": {
            "tags": []
          },
          "execution_count": 7
        }
      ]
    },
    {
      "cell_type": "markdown",
      "metadata": {
        "id": "EliY2gYwn9tY",
        "colab_type": "text"
      },
      "source": [
        "Let's just select the `name` column, and assign it to the variable, `high_school_name`. "
      ]
    },
    {
      "cell_type": "code",
      "metadata": {
        "id": "9r7BUafBn9tY",
        "colab_type": "code",
        "outputId": "070909f6-96df-4e8e-ce46-bffa8112523a",
        "colab": {
          "base_uri": "https://localhost:8080/",
          "height": 225
        }
      },
      "source": [
        "high_school_name = high_school_df['name']\n",
        "high_school_name"
      ],
      "execution_count": 0,
      "outputs": [
        {
          "output_type": "execute_result",
          "data": {
            "text/plain": [
              "0          HENRY STREET SCHOOL FOR INTERNATIONAL STUDIES\n",
              "1                    UNIVERSITY NEIGHBORHOOD HIGH SCHOOL\n",
              "2                             EAST SIDE COMMUNITY SCHOOL\n",
              "3                                MARTA VALLE HIGH SCHOOL\n",
              "4      NEW EXPLORATIONS INTO SCIENCE, TECHNOLOGY AND ...\n",
              "                             ...                        \n",
              "351          EBC HIGH SCHOOL FOR PUBLIC SERVICE–BUSHWICK\n",
              "352                   BUSHWICK SCHOOL FOR SOCIAL JUSTICE\n",
              "353                            ACADEMY OF URBAN PLANNING\n",
              "354                 ALL CITY LEADERSHIP SECONDARY SCHOOL\n",
              "355    BUSHWICK LEADERS HIGH SCHOOL FOR ACADEMIC EXCE...\n",
              "Name: name, Length: 356, dtype: object"
            ]
          },
          "metadata": {
            "tags": []
          },
          "execution_count": 8
        }
      ]
    },
    {
      "cell_type": "code",
      "metadata": {
        "id": "_Ux4LFcFn9ta",
        "colab_type": "code",
        "outputId": "d41eec3c-ed9a-4431-b5de-0c0ad7628230",
        "colab": {
          "base_uri": "https://localhost:8080/",
          "height": 69
        }
      },
      "source": [
        "high_school_name[:2]\n",
        "\n",
        "# 0    HENRY STREET SCHOOL FOR INTERNATIONAL STUDIES\n",
        "# 1              UNIVERSITY NEIGHBORHOOD HIGH SCHOOL\n",
        "# Name: name, dtype: object\n"
      ],
      "execution_count": 0,
      "outputs": [
        {
          "output_type": "execute_result",
          "data": {
            "text/plain": [
              "0    HENRY STREET SCHOOL FOR INTERNATIONAL STUDIES\n",
              "1              UNIVERSITY NEIGHBORHOOD HIGH SCHOOL\n",
              "Name: name, dtype: object"
            ]
          },
          "metadata": {
            "tags": []
          },
          "execution_count": 9
        }
      ]
    },
    {
      "cell_type": "markdown",
      "metadata": {
        "id": "p-HEHyxqn9tc",
        "colab_type": "text"
      },
      "source": [
        "Ok, now let's select the columns related mainly to the SAT score.  So let's select the `num_test_takers, reading_avg, math_avg,` `writing_score` columns.  Assign it to the variable `sat_df`."
      ]
    },
    {
      "cell_type": "code",
      "metadata": {
        "id": "Pxbz5Udrn9td",
        "colab_type": "code",
        "outputId": "ddabd2ff-269e-4d25-a741-904792e52512",
        "colab": {
          "base_uri": "https://localhost:8080/",
          "height": 407
        }
      },
      "source": [
        "cols = ['num_test_takers', 'reading_avg', 'math_avg', 'writing_score']\n",
        "sat_df = high_school_df[cols]\n",
        "sat_df"
      ],
      "execution_count": 0,
      "outputs": [
        {
          "output_type": "execute_result",
          "data": {
            "text/html": [
              "<div>\n",
              "<style scoped>\n",
              "    .dataframe tbody tr th:only-of-type {\n",
              "        vertical-align: middle;\n",
              "    }\n",
              "\n",
              "    .dataframe tbody tr th {\n",
              "        vertical-align: top;\n",
              "    }\n",
              "\n",
              "    .dataframe thead th {\n",
              "        text-align: right;\n",
              "    }\n",
              "</style>\n",
              "<table border=\"1\" class=\"dataframe\">\n",
              "  <thead>\n",
              "    <tr style=\"text-align: right;\">\n",
              "      <th></th>\n",
              "      <th>num_test_takers</th>\n",
              "      <th>reading_avg</th>\n",
              "      <th>math_avg</th>\n",
              "      <th>writing_score</th>\n",
              "    </tr>\n",
              "  </thead>\n",
              "  <tbody>\n",
              "    <tr>\n",
              "      <th>0</th>\n",
              "      <td>29.0</td>\n",
              "      <td>355.0</td>\n",
              "      <td>404.0</td>\n",
              "      <td>363.0</td>\n",
              "    </tr>\n",
              "    <tr>\n",
              "      <th>1</th>\n",
              "      <td>91.0</td>\n",
              "      <td>383.0</td>\n",
              "      <td>423.0</td>\n",
              "      <td>366.0</td>\n",
              "    </tr>\n",
              "    <tr>\n",
              "      <th>2</th>\n",
              "      <td>70.0</td>\n",
              "      <td>377.0</td>\n",
              "      <td>402.0</td>\n",
              "      <td>370.0</td>\n",
              "    </tr>\n",
              "    <tr>\n",
              "      <th>3</th>\n",
              "      <td>44.0</td>\n",
              "      <td>390.0</td>\n",
              "      <td>433.0</td>\n",
              "      <td>384.0</td>\n",
              "    </tr>\n",
              "    <tr>\n",
              "      <th>4</th>\n",
              "      <td>159.0</td>\n",
              "      <td>522.0</td>\n",
              "      <td>574.0</td>\n",
              "      <td>525.0</td>\n",
              "    </tr>\n",
              "    <tr>\n",
              "      <th>...</th>\n",
              "      <td>...</td>\n",
              "      <td>...</td>\n",
              "      <td>...</td>\n",
              "      <td>...</td>\n",
              "    </tr>\n",
              "    <tr>\n",
              "      <th>351</th>\n",
              "      <td>88.0</td>\n",
              "      <td>384.0</td>\n",
              "      <td>409.0</td>\n",
              "      <td>361.0</td>\n",
              "    </tr>\n",
              "    <tr>\n",
              "      <th>352</th>\n",
              "      <td>75.0</td>\n",
              "      <td>348.0</td>\n",
              "      <td>353.0</td>\n",
              "      <td>334.0</td>\n",
              "    </tr>\n",
              "    <tr>\n",
              "      <th>353</th>\n",
              "      <td>67.0</td>\n",
              "      <td>342.0</td>\n",
              "      <td>364.0</td>\n",
              "      <td>354.0</td>\n",
              "    </tr>\n",
              "    <tr>\n",
              "      <th>354</th>\n",
              "      <td>39.0</td>\n",
              "      <td>428.0</td>\n",
              "      <td>465.0</td>\n",
              "      <td>422.0</td>\n",
              "    </tr>\n",
              "    <tr>\n",
              "      <th>355</th>\n",
              "      <td>23.0</td>\n",
              "      <td>347.0</td>\n",
              "      <td>358.0</td>\n",
              "      <td>350.0</td>\n",
              "    </tr>\n",
              "  </tbody>\n",
              "</table>\n",
              "<p>356 rows × 4 columns</p>\n",
              "</div>"
            ],
            "text/plain": [
              "     num_test_takers  reading_avg  math_avg  writing_score\n",
              "0               29.0        355.0     404.0          363.0\n",
              "1               91.0        383.0     423.0          366.0\n",
              "2               70.0        377.0     402.0          370.0\n",
              "3               44.0        390.0     433.0          384.0\n",
              "4              159.0        522.0     574.0          525.0\n",
              "..               ...          ...       ...            ...\n",
              "351             88.0        384.0     409.0          361.0\n",
              "352             75.0        348.0     353.0          334.0\n",
              "353             67.0        342.0     364.0          354.0\n",
              "354             39.0        428.0     465.0          422.0\n",
              "355             23.0        347.0     358.0          350.0\n",
              "\n",
              "[356 rows x 4 columns]"
            ]
          },
          "metadata": {
            "tags": []
          },
          "execution_count": 11
        }
      ]
    },
    {
      "cell_type": "code",
      "metadata": {
        "id": "syLqaXpFn9tf",
        "colab_type": "code",
        "outputId": "c8b970dd-acf2-4019-d935-e69b5a493faf",
        "colab": {
          "base_uri": "https://localhost:8080/",
          "height": 138
        }
      },
      "source": [
        "sat_df[:3]\n",
        "\n",
        "# \treading_avg\tmath_avg\twriting_score\n",
        "# 0\t355.0\t404.0\t363.0\n",
        "# 1\t383.0\t423.0\t366.0\n",
        "# 2\t377.0\t402.0\t370.0"
      ],
      "execution_count": 0,
      "outputs": [
        {
          "output_type": "execute_result",
          "data": {
            "text/html": [
              "<div>\n",
              "<style scoped>\n",
              "    .dataframe tbody tr th:only-of-type {\n",
              "        vertical-align: middle;\n",
              "    }\n",
              "\n",
              "    .dataframe tbody tr th {\n",
              "        vertical-align: top;\n",
              "    }\n",
              "\n",
              "    .dataframe thead th {\n",
              "        text-align: right;\n",
              "    }\n",
              "</style>\n",
              "<table border=\"1\" class=\"dataframe\">\n",
              "  <thead>\n",
              "    <tr style=\"text-align: right;\">\n",
              "      <th></th>\n",
              "      <th>num_test_takers</th>\n",
              "      <th>reading_avg</th>\n",
              "      <th>math_avg</th>\n",
              "      <th>writing_score</th>\n",
              "    </tr>\n",
              "  </thead>\n",
              "  <tbody>\n",
              "    <tr>\n",
              "      <th>0</th>\n",
              "      <td>29.0</td>\n",
              "      <td>355.0</td>\n",
              "      <td>404.0</td>\n",
              "      <td>363.0</td>\n",
              "    </tr>\n",
              "    <tr>\n",
              "      <th>1</th>\n",
              "      <td>91.0</td>\n",
              "      <td>383.0</td>\n",
              "      <td>423.0</td>\n",
              "      <td>366.0</td>\n",
              "    </tr>\n",
              "    <tr>\n",
              "      <th>2</th>\n",
              "      <td>70.0</td>\n",
              "      <td>377.0</td>\n",
              "      <td>402.0</td>\n",
              "      <td>370.0</td>\n",
              "    </tr>\n",
              "  </tbody>\n",
              "</table>\n",
              "</div>"
            ],
            "text/plain": [
              "   num_test_takers  reading_avg  math_avg  writing_score\n",
              "0             29.0        355.0     404.0          363.0\n",
              "1             91.0        383.0     423.0          366.0\n",
              "2             70.0        377.0     402.0          370.0"
            ]
          },
          "metadata": {
            "tags": []
          },
          "execution_count": 12
        }
      ]
    },
    {
      "cell_type": "markdown",
      "metadata": {
        "id": "tQ_-joHNn9th",
        "colab_type": "text"
      },
      "source": [
        "### Working with the index column"
      ]
    },
    {
      "cell_type": "markdown",
      "metadata": {
        "id": "Mz8TXLK4n9ti",
        "colab_type": "text"
      },
      "source": [
        "The index column is currently a list of numbers.  But we can see that we have a columns of `dbn` that stands for `database_number`.  Let's change the index column to be the database number.  "
      ]
    },
    {
      "cell_type": "code",
      "metadata": {
        "id": "5UO9CGYLt5Zt",
        "colab_type": "code",
        "outputId": "d7bc52a5-8452-450d-9753-baa4108130ae",
        "colab": {
          "base_uri": "https://localhost:8080/",
          "height": 443
        }
      },
      "source": [
        "high_school_df.head()"
      ],
      "execution_count": 0,
      "outputs": [
        {
          "output_type": "execute_result",
          "data": {
            "text/html": [
              "<div>\n",
              "<style scoped>\n",
              "    .dataframe tbody tr th:only-of-type {\n",
              "        vertical-align: middle;\n",
              "    }\n",
              "\n",
              "    .dataframe tbody tr th {\n",
              "        vertical-align: top;\n",
              "    }\n",
              "\n",
              "    .dataframe thead th {\n",
              "        text-align: right;\n",
              "    }\n",
              "</style>\n",
              "<table border=\"1\" class=\"dataframe\">\n",
              "  <thead>\n",
              "    <tr style=\"text-align: right;\">\n",
              "      <th></th>\n",
              "      <th>Unnamed: 0</th>\n",
              "      <th>dbn</th>\n",
              "      <th>name</th>\n",
              "      <th>num_test_takers</th>\n",
              "      <th>reading_avg</th>\n",
              "      <th>math_avg</th>\n",
              "      <th>writing_score</th>\n",
              "      <th>boro</th>\n",
              "      <th>total_students</th>\n",
              "      <th>graduation_rate</th>\n",
              "      <th>attendance_rate</th>\n",
              "      <th>college_career_rate</th>\n",
              "    </tr>\n",
              "  </thead>\n",
              "  <tbody>\n",
              "    <tr>\n",
              "      <th>0</th>\n",
              "      <td>0</td>\n",
              "      <td>01M292</td>\n",
              "      <td>HENRY STREET SCHOOL FOR INTERNATIONAL STUDIES</td>\n",
              "      <td>29.0</td>\n",
              "      <td>355.0</td>\n",
              "      <td>404.0</td>\n",
              "      <td>363.0</td>\n",
              "      <td>M</td>\n",
              "      <td>171</td>\n",
              "      <td>0.66</td>\n",
              "      <td>0.87</td>\n",
              "      <td>0.36</td>\n",
              "    </tr>\n",
              "    <tr>\n",
              "      <th>1</th>\n",
              "      <td>1</td>\n",
              "      <td>01M448</td>\n",
              "      <td>UNIVERSITY NEIGHBORHOOD HIGH SCHOOL</td>\n",
              "      <td>91.0</td>\n",
              "      <td>383.0</td>\n",
              "      <td>423.0</td>\n",
              "      <td>366.0</td>\n",
              "      <td>M</td>\n",
              "      <td>465</td>\n",
              "      <td>0.90</td>\n",
              "      <td>0.93</td>\n",
              "      <td>0.70</td>\n",
              "    </tr>\n",
              "    <tr>\n",
              "      <th>2</th>\n",
              "      <td>2</td>\n",
              "      <td>01M450</td>\n",
              "      <td>EAST SIDE COMMUNITY SCHOOL</td>\n",
              "      <td>70.0</td>\n",
              "      <td>377.0</td>\n",
              "      <td>402.0</td>\n",
              "      <td>370.0</td>\n",
              "      <td>M</td>\n",
              "      <td>683</td>\n",
              "      <td>0.92</td>\n",
              "      <td>0.94</td>\n",
              "      <td>0.77</td>\n",
              "    </tr>\n",
              "    <tr>\n",
              "      <th>3</th>\n",
              "      <td>3</td>\n",
              "      <td>01M509</td>\n",
              "      <td>MARTA VALLE HIGH SCHOOL</td>\n",
              "      <td>44.0</td>\n",
              "      <td>390.0</td>\n",
              "      <td>433.0</td>\n",
              "      <td>384.0</td>\n",
              "      <td>M</td>\n",
              "      <td>148</td>\n",
              "      <td>0.74</td>\n",
              "      <td>0.79</td>\n",
              "      <td>0.49</td>\n",
              "    </tr>\n",
              "    <tr>\n",
              "      <th>4</th>\n",
              "      <td>4</td>\n",
              "      <td>01M539</td>\n",
              "      <td>NEW EXPLORATIONS INTO SCIENCE, TECHNOLOGY AND ...</td>\n",
              "      <td>159.0</td>\n",
              "      <td>522.0</td>\n",
              "      <td>574.0</td>\n",
              "      <td>525.0</td>\n",
              "      <td>M</td>\n",
              "      <td>1734</td>\n",
              "      <td>0.97</td>\n",
              "      <td>0.95</td>\n",
              "      <td>0.85</td>\n",
              "    </tr>\n",
              "  </tbody>\n",
              "</table>\n",
              "</div>"
            ],
            "text/plain": [
              "   Unnamed: 0     dbn  ... attendance_rate  college_career_rate\n",
              "0           0  01M292  ...            0.87                 0.36\n",
              "1           1  01M448  ...            0.93                 0.70\n",
              "2           2  01M450  ...            0.94                 0.77\n",
              "3           3  01M509  ...            0.79                 0.49\n",
              "4           4  01M539  ...            0.95                 0.85\n",
              "\n",
              "[5 rows x 12 columns]"
            ]
          },
          "metadata": {
            "tags": []
          },
          "execution_count": 14
        }
      ]
    },
    {
      "cell_type": "code",
      "metadata": {
        "id": "1KwPfxFYn9ti",
        "colab_type": "code",
        "outputId": "e9933dab-378e-44cc-b519-d84817791f7e",
        "colab": {
          "base_uri": "https://localhost:8080/",
          "height": 473
        }
      },
      "source": [
        "high_school_df.index = high_school_df['dbn']\n",
        "high_school_df.head()"
      ],
      "execution_count": 0,
      "outputs": [
        {
          "output_type": "execute_result",
          "data": {
            "text/html": [
              "<div>\n",
              "<style scoped>\n",
              "    .dataframe tbody tr th:only-of-type {\n",
              "        vertical-align: middle;\n",
              "    }\n",
              "\n",
              "    .dataframe tbody tr th {\n",
              "        vertical-align: top;\n",
              "    }\n",
              "\n",
              "    .dataframe thead th {\n",
              "        text-align: right;\n",
              "    }\n",
              "</style>\n",
              "<table border=\"1\" class=\"dataframe\">\n",
              "  <thead>\n",
              "    <tr style=\"text-align: right;\">\n",
              "      <th></th>\n",
              "      <th>Unnamed: 0</th>\n",
              "      <th>dbn</th>\n",
              "      <th>name</th>\n",
              "      <th>num_test_takers</th>\n",
              "      <th>reading_avg</th>\n",
              "      <th>math_avg</th>\n",
              "      <th>writing_score</th>\n",
              "      <th>boro</th>\n",
              "      <th>total_students</th>\n",
              "      <th>graduation_rate</th>\n",
              "      <th>attendance_rate</th>\n",
              "      <th>college_career_rate</th>\n",
              "    </tr>\n",
              "    <tr>\n",
              "      <th>dbn</th>\n",
              "      <th></th>\n",
              "      <th></th>\n",
              "      <th></th>\n",
              "      <th></th>\n",
              "      <th></th>\n",
              "      <th></th>\n",
              "      <th></th>\n",
              "      <th></th>\n",
              "      <th></th>\n",
              "      <th></th>\n",
              "      <th></th>\n",
              "      <th></th>\n",
              "    </tr>\n",
              "  </thead>\n",
              "  <tbody>\n",
              "    <tr>\n",
              "      <th>01M292</th>\n",
              "      <td>0</td>\n",
              "      <td>01M292</td>\n",
              "      <td>HENRY STREET SCHOOL FOR INTERNATIONAL STUDIES</td>\n",
              "      <td>29.0</td>\n",
              "      <td>355.0</td>\n",
              "      <td>404.0</td>\n",
              "      <td>363.0</td>\n",
              "      <td>M</td>\n",
              "      <td>171</td>\n",
              "      <td>0.66</td>\n",
              "      <td>0.87</td>\n",
              "      <td>0.36</td>\n",
              "    </tr>\n",
              "    <tr>\n",
              "      <th>01M448</th>\n",
              "      <td>1</td>\n",
              "      <td>01M448</td>\n",
              "      <td>UNIVERSITY NEIGHBORHOOD HIGH SCHOOL</td>\n",
              "      <td>91.0</td>\n",
              "      <td>383.0</td>\n",
              "      <td>423.0</td>\n",
              "      <td>366.0</td>\n",
              "      <td>M</td>\n",
              "      <td>465</td>\n",
              "      <td>0.90</td>\n",
              "      <td>0.93</td>\n",
              "      <td>0.70</td>\n",
              "    </tr>\n",
              "    <tr>\n",
              "      <th>01M450</th>\n",
              "      <td>2</td>\n",
              "      <td>01M450</td>\n",
              "      <td>EAST SIDE COMMUNITY SCHOOL</td>\n",
              "      <td>70.0</td>\n",
              "      <td>377.0</td>\n",
              "      <td>402.0</td>\n",
              "      <td>370.0</td>\n",
              "      <td>M</td>\n",
              "      <td>683</td>\n",
              "      <td>0.92</td>\n",
              "      <td>0.94</td>\n",
              "      <td>0.77</td>\n",
              "    </tr>\n",
              "    <tr>\n",
              "      <th>01M509</th>\n",
              "      <td>3</td>\n",
              "      <td>01M509</td>\n",
              "      <td>MARTA VALLE HIGH SCHOOL</td>\n",
              "      <td>44.0</td>\n",
              "      <td>390.0</td>\n",
              "      <td>433.0</td>\n",
              "      <td>384.0</td>\n",
              "      <td>M</td>\n",
              "      <td>148</td>\n",
              "      <td>0.74</td>\n",
              "      <td>0.79</td>\n",
              "      <td>0.49</td>\n",
              "    </tr>\n",
              "    <tr>\n",
              "      <th>01M539</th>\n",
              "      <td>4</td>\n",
              "      <td>01M539</td>\n",
              "      <td>NEW EXPLORATIONS INTO SCIENCE, TECHNOLOGY AND ...</td>\n",
              "      <td>159.0</td>\n",
              "      <td>522.0</td>\n",
              "      <td>574.0</td>\n",
              "      <td>525.0</td>\n",
              "      <td>M</td>\n",
              "      <td>1734</td>\n",
              "      <td>0.97</td>\n",
              "      <td>0.95</td>\n",
              "      <td>0.85</td>\n",
              "    </tr>\n",
              "  </tbody>\n",
              "</table>\n",
              "</div>"
            ],
            "text/plain": [
              "        Unnamed: 0     dbn  ... attendance_rate  college_career_rate\n",
              "dbn                         ...                                     \n",
              "01M292           0  01M292  ...            0.87                 0.36\n",
              "01M448           1  01M448  ...            0.93                 0.70\n",
              "01M450           2  01M450  ...            0.94                 0.77\n",
              "01M509           3  01M509  ...            0.79                 0.49\n",
              "01M539           4  01M539  ...            0.95                 0.85\n",
              "\n",
              "[5 rows x 12 columns]"
            ]
          },
          "metadata": {
            "tags": []
          },
          "execution_count": 15
        }
      ]
    },
    {
      "cell_type": "markdown",
      "metadata": {
        "id": "4i4WRIp1n9tl",
        "colab_type": "text"
      },
      "source": [
        "If we look at our dataframe again, though, now we can see that we have the `dbn` information listed twice."
      ]
    },
    {
      "cell_type": "code",
      "metadata": {
        "id": "u-gFUXlsn9tl",
        "colab_type": "code",
        "outputId": "61e1255e-5aff-42cc-83c5-4be1b92abca6",
        "colab": {
          "base_uri": "https://localhost:8080/",
          "height": 326
        }
      },
      "source": [
        "high_school_df[:3]\n",
        "\n",
        "# if dbn is not listed twice, check your code about the index above "
      ],
      "execution_count": 0,
      "outputs": [
        {
          "output_type": "execute_result",
          "data": {
            "text/html": [
              "<div>\n",
              "<style scoped>\n",
              "    .dataframe tbody tr th:only-of-type {\n",
              "        vertical-align: middle;\n",
              "    }\n",
              "\n",
              "    .dataframe tbody tr th {\n",
              "        vertical-align: top;\n",
              "    }\n",
              "\n",
              "    .dataframe thead th {\n",
              "        text-align: right;\n",
              "    }\n",
              "</style>\n",
              "<table border=\"1\" class=\"dataframe\">\n",
              "  <thead>\n",
              "    <tr style=\"text-align: right;\">\n",
              "      <th></th>\n",
              "      <th>Unnamed: 0</th>\n",
              "      <th>dbn</th>\n",
              "      <th>name</th>\n",
              "      <th>num_test_takers</th>\n",
              "      <th>reading_avg</th>\n",
              "      <th>math_avg</th>\n",
              "      <th>writing_score</th>\n",
              "      <th>boro</th>\n",
              "      <th>total_students</th>\n",
              "      <th>graduation_rate</th>\n",
              "      <th>attendance_rate</th>\n",
              "      <th>college_career_rate</th>\n",
              "    </tr>\n",
              "    <tr>\n",
              "      <th>dbn</th>\n",
              "      <th></th>\n",
              "      <th></th>\n",
              "      <th></th>\n",
              "      <th></th>\n",
              "      <th></th>\n",
              "      <th></th>\n",
              "      <th></th>\n",
              "      <th></th>\n",
              "      <th></th>\n",
              "      <th></th>\n",
              "      <th></th>\n",
              "      <th></th>\n",
              "    </tr>\n",
              "  </thead>\n",
              "  <tbody>\n",
              "    <tr>\n",
              "      <th>01M292</th>\n",
              "      <td>0</td>\n",
              "      <td>01M292</td>\n",
              "      <td>HENRY STREET SCHOOL FOR INTERNATIONAL STUDIES</td>\n",
              "      <td>29.0</td>\n",
              "      <td>355.0</td>\n",
              "      <td>404.0</td>\n",
              "      <td>363.0</td>\n",
              "      <td>M</td>\n",
              "      <td>171</td>\n",
              "      <td>0.66</td>\n",
              "      <td>0.87</td>\n",
              "      <td>0.36</td>\n",
              "    </tr>\n",
              "    <tr>\n",
              "      <th>01M448</th>\n",
              "      <td>1</td>\n",
              "      <td>01M448</td>\n",
              "      <td>UNIVERSITY NEIGHBORHOOD HIGH SCHOOL</td>\n",
              "      <td>91.0</td>\n",
              "      <td>383.0</td>\n",
              "      <td>423.0</td>\n",
              "      <td>366.0</td>\n",
              "      <td>M</td>\n",
              "      <td>465</td>\n",
              "      <td>0.90</td>\n",
              "      <td>0.93</td>\n",
              "      <td>0.70</td>\n",
              "    </tr>\n",
              "    <tr>\n",
              "      <th>01M450</th>\n",
              "      <td>2</td>\n",
              "      <td>01M450</td>\n",
              "      <td>EAST SIDE COMMUNITY SCHOOL</td>\n",
              "      <td>70.0</td>\n",
              "      <td>377.0</td>\n",
              "      <td>402.0</td>\n",
              "      <td>370.0</td>\n",
              "      <td>M</td>\n",
              "      <td>683</td>\n",
              "      <td>0.92</td>\n",
              "      <td>0.94</td>\n",
              "      <td>0.77</td>\n",
              "    </tr>\n",
              "  </tbody>\n",
              "</table>\n",
              "</div>"
            ],
            "text/plain": [
              "        Unnamed: 0     dbn  ... attendance_rate  college_career_rate\n",
              "dbn                         ...                                     \n",
              "01M292           0  01M292  ...            0.87                 0.36\n",
              "01M448           1  01M448  ...            0.93                 0.70\n",
              "01M450           2  01M450  ...            0.94                 0.77\n",
              "\n",
              "[3 rows x 12 columns]"
            ]
          },
          "metadata": {
            "tags": []
          },
          "execution_count": 16
        }
      ]
    },
    {
      "cell_type": "markdown",
      "metadata": {
        "id": "vF1E5p18n9to",
        "colab_type": "text"
      },
      "source": [
        "Let's remove the column from the dataframe, and assign the new dataframe to be `hs_df`."
      ]
    },
    {
      "cell_type": "code",
      "metadata": {
        "id": "nLD_TTz3n9tp",
        "colab_type": "code",
        "outputId": "bcb8a87c-2bf3-4d10-bb12-a8c9d682f8b6",
        "colab": {
          "base_uri": "https://localhost:8080/",
          "height": 453
        }
      },
      "source": [
        "hs_df = high_school_df.drop(columns='dbn')\n",
        "hs_df.head()"
      ],
      "execution_count": 0,
      "outputs": [
        {
          "output_type": "execute_result",
          "data": {
            "text/html": [
              "<div>\n",
              "<style scoped>\n",
              "    .dataframe tbody tr th:only-of-type {\n",
              "        vertical-align: middle;\n",
              "    }\n",
              "\n",
              "    .dataframe tbody tr th {\n",
              "        vertical-align: top;\n",
              "    }\n",
              "\n",
              "    .dataframe thead th {\n",
              "        text-align: right;\n",
              "    }\n",
              "</style>\n",
              "<table border=\"1\" class=\"dataframe\">\n",
              "  <thead>\n",
              "    <tr style=\"text-align: right;\">\n",
              "      <th></th>\n",
              "      <th>Unnamed: 0</th>\n",
              "      <th>name</th>\n",
              "      <th>num_test_takers</th>\n",
              "      <th>reading_avg</th>\n",
              "      <th>math_avg</th>\n",
              "      <th>writing_score</th>\n",
              "      <th>boro</th>\n",
              "      <th>total_students</th>\n",
              "      <th>graduation_rate</th>\n",
              "      <th>attendance_rate</th>\n",
              "      <th>college_career_rate</th>\n",
              "    </tr>\n",
              "    <tr>\n",
              "      <th>dbn</th>\n",
              "      <th></th>\n",
              "      <th></th>\n",
              "      <th></th>\n",
              "      <th></th>\n",
              "      <th></th>\n",
              "      <th></th>\n",
              "      <th></th>\n",
              "      <th></th>\n",
              "      <th></th>\n",
              "      <th></th>\n",
              "      <th></th>\n",
              "    </tr>\n",
              "  </thead>\n",
              "  <tbody>\n",
              "    <tr>\n",
              "      <th>01M292</th>\n",
              "      <td>0</td>\n",
              "      <td>HENRY STREET SCHOOL FOR INTERNATIONAL STUDIES</td>\n",
              "      <td>29.0</td>\n",
              "      <td>355.0</td>\n",
              "      <td>404.0</td>\n",
              "      <td>363.0</td>\n",
              "      <td>M</td>\n",
              "      <td>171</td>\n",
              "      <td>0.66</td>\n",
              "      <td>0.87</td>\n",
              "      <td>0.36</td>\n",
              "    </tr>\n",
              "    <tr>\n",
              "      <th>01M448</th>\n",
              "      <td>1</td>\n",
              "      <td>UNIVERSITY NEIGHBORHOOD HIGH SCHOOL</td>\n",
              "      <td>91.0</td>\n",
              "      <td>383.0</td>\n",
              "      <td>423.0</td>\n",
              "      <td>366.0</td>\n",
              "      <td>M</td>\n",
              "      <td>465</td>\n",
              "      <td>0.90</td>\n",
              "      <td>0.93</td>\n",
              "      <td>0.70</td>\n",
              "    </tr>\n",
              "    <tr>\n",
              "      <th>01M450</th>\n",
              "      <td>2</td>\n",
              "      <td>EAST SIDE COMMUNITY SCHOOL</td>\n",
              "      <td>70.0</td>\n",
              "      <td>377.0</td>\n",
              "      <td>402.0</td>\n",
              "      <td>370.0</td>\n",
              "      <td>M</td>\n",
              "      <td>683</td>\n",
              "      <td>0.92</td>\n",
              "      <td>0.94</td>\n",
              "      <td>0.77</td>\n",
              "    </tr>\n",
              "    <tr>\n",
              "      <th>01M509</th>\n",
              "      <td>3</td>\n",
              "      <td>MARTA VALLE HIGH SCHOOL</td>\n",
              "      <td>44.0</td>\n",
              "      <td>390.0</td>\n",
              "      <td>433.0</td>\n",
              "      <td>384.0</td>\n",
              "      <td>M</td>\n",
              "      <td>148</td>\n",
              "      <td>0.74</td>\n",
              "      <td>0.79</td>\n",
              "      <td>0.49</td>\n",
              "    </tr>\n",
              "    <tr>\n",
              "      <th>01M539</th>\n",
              "      <td>4</td>\n",
              "      <td>NEW EXPLORATIONS INTO SCIENCE, TECHNOLOGY AND ...</td>\n",
              "      <td>159.0</td>\n",
              "      <td>522.0</td>\n",
              "      <td>574.0</td>\n",
              "      <td>525.0</td>\n",
              "      <td>M</td>\n",
              "      <td>1734</td>\n",
              "      <td>0.97</td>\n",
              "      <td>0.95</td>\n",
              "      <td>0.85</td>\n",
              "    </tr>\n",
              "  </tbody>\n",
              "</table>\n",
              "</div>"
            ],
            "text/plain": [
              "        Unnamed: 0  ... college_career_rate\n",
              "dbn                 ...                    \n",
              "01M292           0  ...                0.36\n",
              "01M448           1  ...                0.70\n",
              "01M450           2  ...                0.77\n",
              "01M509           3  ...                0.49\n",
              "01M539           4  ...                0.85\n",
              "\n",
              "[5 rows x 11 columns]"
            ]
          },
          "metadata": {
            "tags": []
          },
          "execution_count": 24
        }
      ]
    },
    {
      "cell_type": "code",
      "metadata": {
        "id": "mUp9AlSEvdFb",
        "colab_type": "code",
        "outputId": "05134ccd-03ae-4776-9130-3761697f1ff2",
        "colab": {
          "base_uri": "https://localhost:8080/",
          "height": 401
        }
      },
      "source": [
        "hs_df = high_school_df.drop('Unnamed: 0', axis=1)\n",
        "hs_df.head()"
      ],
      "execution_count": 0,
      "outputs": [
        {
          "output_type": "execute_result",
          "data": {
            "text/html": [
              "<div>\n",
              "<style scoped>\n",
              "    .dataframe tbody tr th:only-of-type {\n",
              "        vertical-align: middle;\n",
              "    }\n",
              "\n",
              "    .dataframe tbody tr th {\n",
              "        vertical-align: top;\n",
              "    }\n",
              "\n",
              "    .dataframe thead th {\n",
              "        text-align: right;\n",
              "    }\n",
              "</style>\n",
              "<table border=\"1\" class=\"dataframe\">\n",
              "  <thead>\n",
              "    <tr style=\"text-align: right;\">\n",
              "      <th></th>\n",
              "      <th>dbn</th>\n",
              "      <th>name</th>\n",
              "      <th>num_test_takers</th>\n",
              "      <th>reading_avg</th>\n",
              "      <th>math_avg</th>\n",
              "      <th>writing_score</th>\n",
              "      <th>boro</th>\n",
              "      <th>total_students</th>\n",
              "      <th>graduation_rate</th>\n",
              "      <th>attendance_rate</th>\n",
              "      <th>college_career_rate</th>\n",
              "    </tr>\n",
              "    <tr>\n",
              "      <th>dbn</th>\n",
              "      <th></th>\n",
              "      <th></th>\n",
              "      <th></th>\n",
              "      <th></th>\n",
              "      <th></th>\n",
              "      <th></th>\n",
              "      <th></th>\n",
              "      <th></th>\n",
              "      <th></th>\n",
              "      <th></th>\n",
              "      <th></th>\n",
              "    </tr>\n",
              "  </thead>\n",
              "  <tbody>\n",
              "    <tr>\n",
              "      <th>01M292</th>\n",
              "      <td>01M292</td>\n",
              "      <td>HENRY STREET SCHOOL FOR INTERNATIONAL STUDIES</td>\n",
              "      <td>29.0</td>\n",
              "      <td>355.0</td>\n",
              "      <td>404.0</td>\n",
              "      <td>363.0</td>\n",
              "      <td>M</td>\n",
              "      <td>171</td>\n",
              "      <td>0.66</td>\n",
              "      <td>0.87</td>\n",
              "      <td>0.36</td>\n",
              "    </tr>\n",
              "    <tr>\n",
              "      <th>01M448</th>\n",
              "      <td>01M448</td>\n",
              "      <td>UNIVERSITY NEIGHBORHOOD HIGH SCHOOL</td>\n",
              "      <td>91.0</td>\n",
              "      <td>383.0</td>\n",
              "      <td>423.0</td>\n",
              "      <td>366.0</td>\n",
              "      <td>M</td>\n",
              "      <td>465</td>\n",
              "      <td>0.90</td>\n",
              "      <td>0.93</td>\n",
              "      <td>0.70</td>\n",
              "    </tr>\n",
              "    <tr>\n",
              "      <th>01M450</th>\n",
              "      <td>01M450</td>\n",
              "      <td>EAST SIDE COMMUNITY SCHOOL</td>\n",
              "      <td>70.0</td>\n",
              "      <td>377.0</td>\n",
              "      <td>402.0</td>\n",
              "      <td>370.0</td>\n",
              "      <td>M</td>\n",
              "      <td>683</td>\n",
              "      <td>0.92</td>\n",
              "      <td>0.94</td>\n",
              "      <td>0.77</td>\n",
              "    </tr>\n",
              "    <tr>\n",
              "      <th>01M509</th>\n",
              "      <td>01M509</td>\n",
              "      <td>MARTA VALLE HIGH SCHOOL</td>\n",
              "      <td>44.0</td>\n",
              "      <td>390.0</td>\n",
              "      <td>433.0</td>\n",
              "      <td>384.0</td>\n",
              "      <td>M</td>\n",
              "      <td>148</td>\n",
              "      <td>0.74</td>\n",
              "      <td>0.79</td>\n",
              "      <td>0.49</td>\n",
              "    </tr>\n",
              "    <tr>\n",
              "      <th>01M539</th>\n",
              "      <td>01M539</td>\n",
              "      <td>NEW EXPLORATIONS INTO SCIENCE, TECHNOLOGY AND ...</td>\n",
              "      <td>159.0</td>\n",
              "      <td>522.0</td>\n",
              "      <td>574.0</td>\n",
              "      <td>525.0</td>\n",
              "      <td>M</td>\n",
              "      <td>1734</td>\n",
              "      <td>0.97</td>\n",
              "      <td>0.95</td>\n",
              "      <td>0.85</td>\n",
              "    </tr>\n",
              "  </tbody>\n",
              "</table>\n",
              "</div>"
            ],
            "text/plain": [
              "           dbn  ... college_career_rate\n",
              "dbn             ...                    \n",
              "01M292  01M292  ...                0.36\n",
              "01M448  01M448  ...                0.70\n",
              "01M450  01M450  ...                0.77\n",
              "01M509  01M509  ...                0.49\n",
              "01M539  01M539  ...                0.85\n",
              "\n",
              "[5 rows x 11 columns]"
            ]
          },
          "metadata": {
            "tags": []
          },
          "execution_count": 23
        }
      ]
    },
    {
      "cell_type": "code",
      "metadata": {
        "id": "13J7bf0Fn9tr",
        "colab_type": "code",
        "outputId": "d8661c78-113b-4194-a811-d384d48f2aaf",
        "colab": {
          "base_uri": "https://localhost:8080/",
          "height": 35
        }
      },
      "source": [
        "'dbn' in hs_df.columns\n",
        "# False"
      ],
      "execution_count": 0,
      "outputs": [
        {
          "output_type": "execute_result",
          "data": {
            "text/plain": [
              "False"
            ]
          },
          "metadata": {
            "tags": []
          },
          "execution_count": 25
        }
      ]
    },
    {
      "cell_type": "code",
      "metadata": {
        "id": "D4To-iGjv99a",
        "colab_type": "code",
        "outputId": "0867d68c-3bfb-472c-9168-4ff96f470237",
        "colab": {
          "base_uri": "https://localhost:8080/",
          "height": 453
        }
      },
      "source": [
        "hs_df.head()"
      ],
      "execution_count": 0,
      "outputs": [
        {
          "output_type": "execute_result",
          "data": {
            "text/html": [
              "<div>\n",
              "<style scoped>\n",
              "    .dataframe tbody tr th:only-of-type {\n",
              "        vertical-align: middle;\n",
              "    }\n",
              "\n",
              "    .dataframe tbody tr th {\n",
              "        vertical-align: top;\n",
              "    }\n",
              "\n",
              "    .dataframe thead th {\n",
              "        text-align: right;\n",
              "    }\n",
              "</style>\n",
              "<table border=\"1\" class=\"dataframe\">\n",
              "  <thead>\n",
              "    <tr style=\"text-align: right;\">\n",
              "      <th></th>\n",
              "      <th>Unnamed: 0</th>\n",
              "      <th>name</th>\n",
              "      <th>num_test_takers</th>\n",
              "      <th>reading_avg</th>\n",
              "      <th>math_avg</th>\n",
              "      <th>writing_score</th>\n",
              "      <th>boro</th>\n",
              "      <th>total_students</th>\n",
              "      <th>graduation_rate</th>\n",
              "      <th>attendance_rate</th>\n",
              "      <th>college_career_rate</th>\n",
              "    </tr>\n",
              "    <tr>\n",
              "      <th>dbn</th>\n",
              "      <th></th>\n",
              "      <th></th>\n",
              "      <th></th>\n",
              "      <th></th>\n",
              "      <th></th>\n",
              "      <th></th>\n",
              "      <th></th>\n",
              "      <th></th>\n",
              "      <th></th>\n",
              "      <th></th>\n",
              "      <th></th>\n",
              "    </tr>\n",
              "  </thead>\n",
              "  <tbody>\n",
              "    <tr>\n",
              "      <th>01M292</th>\n",
              "      <td>0</td>\n",
              "      <td>HENRY STREET SCHOOL FOR INTERNATIONAL STUDIES</td>\n",
              "      <td>29.0</td>\n",
              "      <td>355.0</td>\n",
              "      <td>404.0</td>\n",
              "      <td>363.0</td>\n",
              "      <td>M</td>\n",
              "      <td>171</td>\n",
              "      <td>0.66</td>\n",
              "      <td>0.87</td>\n",
              "      <td>0.36</td>\n",
              "    </tr>\n",
              "    <tr>\n",
              "      <th>01M448</th>\n",
              "      <td>1</td>\n",
              "      <td>UNIVERSITY NEIGHBORHOOD HIGH SCHOOL</td>\n",
              "      <td>91.0</td>\n",
              "      <td>383.0</td>\n",
              "      <td>423.0</td>\n",
              "      <td>366.0</td>\n",
              "      <td>M</td>\n",
              "      <td>465</td>\n",
              "      <td>0.90</td>\n",
              "      <td>0.93</td>\n",
              "      <td>0.70</td>\n",
              "    </tr>\n",
              "    <tr>\n",
              "      <th>01M450</th>\n",
              "      <td>2</td>\n",
              "      <td>EAST SIDE COMMUNITY SCHOOL</td>\n",
              "      <td>70.0</td>\n",
              "      <td>377.0</td>\n",
              "      <td>402.0</td>\n",
              "      <td>370.0</td>\n",
              "      <td>M</td>\n",
              "      <td>683</td>\n",
              "      <td>0.92</td>\n",
              "      <td>0.94</td>\n",
              "      <td>0.77</td>\n",
              "    </tr>\n",
              "    <tr>\n",
              "      <th>01M509</th>\n",
              "      <td>3</td>\n",
              "      <td>MARTA VALLE HIGH SCHOOL</td>\n",
              "      <td>44.0</td>\n",
              "      <td>390.0</td>\n",
              "      <td>433.0</td>\n",
              "      <td>384.0</td>\n",
              "      <td>M</td>\n",
              "      <td>148</td>\n",
              "      <td>0.74</td>\n",
              "      <td>0.79</td>\n",
              "      <td>0.49</td>\n",
              "    </tr>\n",
              "    <tr>\n",
              "      <th>01M539</th>\n",
              "      <td>4</td>\n",
              "      <td>NEW EXPLORATIONS INTO SCIENCE, TECHNOLOGY AND ...</td>\n",
              "      <td>159.0</td>\n",
              "      <td>522.0</td>\n",
              "      <td>574.0</td>\n",
              "      <td>525.0</td>\n",
              "      <td>M</td>\n",
              "      <td>1734</td>\n",
              "      <td>0.97</td>\n",
              "      <td>0.95</td>\n",
              "      <td>0.85</td>\n",
              "    </tr>\n",
              "  </tbody>\n",
              "</table>\n",
              "</div>"
            ],
            "text/plain": [
              "        Unnamed: 0  ... college_career_rate\n",
              "dbn                 ...                    \n",
              "01M292           0  ...                0.36\n",
              "01M448           1  ...                0.70\n",
              "01M450           2  ...                0.77\n",
              "01M509           3  ...                0.49\n",
              "01M539           4  ...                0.85\n",
              "\n",
              "[5 rows x 11 columns]"
            ]
          },
          "metadata": {
            "tags": []
          },
          "execution_count": 27
        }
      ]
    },
    {
      "cell_type": "code",
      "metadata": {
        "id": "zCTYQjxRv-qa",
        "colab_type": "code",
        "colab": {}
      },
      "source": [
        ""
      ],
      "execution_count": 0,
      "outputs": []
    }
  ]
}