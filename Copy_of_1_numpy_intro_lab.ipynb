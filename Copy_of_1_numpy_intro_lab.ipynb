{
  "nbformat": 4,
  "nbformat_minor": 0,
  "metadata": {
    "kernelspec": {
      "display_name": "Python 3",
      "language": "python",
      "name": "python3"
    },
    "language_info": {
      "codemirror_mode": {
        "name": "ipython",
        "version": 3
      },
      "file_extension": ".py",
      "mimetype": "text/x-python",
      "name": "python",
      "nbconvert_exporter": "python",
      "pygments_lexer": "ipython3",
      "version": "3.7.4"
    },
    "colab": {
      "name": "Copy of 1-numpy-intro-lab.ipynb",
      "provenance": [],
      "include_colab_link": true
    }
  },
  "cells": [
    {
      "cell_type": "markdown",
      "metadata": {
        "id": "view-in-github",
        "colab_type": "text"
      },
      "source": [
        "<a href=\"https://colab.research.google.com/github/ludawg44/jigsawlabs/blob/master/Copy_of_1_numpy_intro_lab.ipynb\" target=\"_parent\"><img src=\"https://colab.research.google.com/assets/colab-badge.svg\" alt=\"Open In Colab\"/></a>"
      ]
    },
    {
      "cell_type": "markdown",
      "metadata": {
        "id": "G2rkl5HnZVHy",
        "colab_type": "text"
      },
      "source": [
        "# Numpy Intro Lab"
      ]
    },
    {
      "cell_type": "markdown",
      "metadata": {
        "id": "ffBUf1JpZVH0",
        "colab_type": "text"
      },
      "source": [
        "### Introduction"
      ]
    },
    {
      "cell_type": "markdown",
      "metadata": {
        "id": "2lq5IszXZVH1",
        "colab_type": "text"
      },
      "source": [
        "In this lesson, let's practice working with the fundamentals of numpy arrays.  This will give us a good foundation when we move onto working with higher dimensional arrays (whatever that is), and the pandas library in the future."
      ]
    },
    {
      "cell_type": "markdown",
      "metadata": {
        "id": "K5h6EmATZVH2",
        "colab_type": "text"
      },
      "source": [
        "### Creating Arrays"
      ]
    },
    {
      "cell_type": "markdown",
      "metadata": {
        "id": "wXx4toBGZVH4",
        "colab_type": "text"
      },
      "source": [
        "Let's begin by importing the numpy library."
      ]
    },
    {
      "cell_type": "code",
      "metadata": {
        "id": "ESADk7V3ZVH5",
        "colab_type": "code",
        "colab": {}
      },
      "source": [
        "import numpy as np"
      ],
      "execution_count": 0,
      "outputs": []
    },
    {
      "cell_type": "markdown",
      "metadata": {
        "id": "3A8WYA35ZVH8",
        "colab_type": "text"
      },
      "source": [
        "Next let's use numpy to create a numpy array of even numbers from 2 to 100 and assign this to the variable `even_nums`."
      ]
    },
    {
      "cell_type": "code",
      "metadata": {
        "id": "MKXgYOzBZVH9",
        "colab_type": "code",
        "colab": {}
      },
      "source": [
        "even_nums = None"
      ],
      "execution_count": 0,
      "outputs": []
    },
    {
      "cell_type": "code",
      "metadata": {
        "id": "C_lWepXzZVH_",
        "colab_type": "code",
        "outputId": "545f0080-8659-48e4-ddac-ce3fc326d2bd",
        "colab": {}
      },
      "source": [
        "even_nums\n",
        "\n",
        "# array([  2,   4,   6,   8,  10,  12,  14,  16,  18,  20,  22,  24,  26,\n",
        "#         28,  30,  32,  34,  36,  38,  40,  42,  44,  46,  48,  50,  52,\n",
        "#         54,  56,  58,  60,  62,  64,  66,  68,  70,  72,  74,  76,  78,\n",
        "#         80,  82,  84,  86,  88,  90,  92,  94,  96,  98, 100])"
      ],
      "execution_count": 0,
      "outputs": [
        {
          "output_type": "execute_result",
          "data": {
            "text/plain": [
              "array([  2,   4,   6,   8,  10,  12,  14,  16,  18,  20,  22,  24,  26,\n",
              "        28,  30,  32,  34,  36,  38,  40,  42,  44,  46,  48,  50,  52,\n",
              "        54,  56,  58,  60,  62,  64,  66,  68,  70,  72,  74,  76,  78,\n",
              "        80,  82,  84,  86,  88,  90,  92,  94,  96,  98, 100])"
            ]
          },
          "metadata": {
            "tags": []
          },
          "execution_count": 15
        }
      ]
    },
    {
      "cell_type": "markdown",
      "metadata": {
        "id": "RNXpbhSiZVIC",
        "colab_type": "text"
      },
      "source": [
        "Next, select the first 25 entries in numpy."
      ]
    },
    {
      "cell_type": "code",
      "metadata": {
        "id": "LX9jHE-UZVID",
        "colab_type": "code",
        "colab": {}
      },
      "source": [
        "first_half_even = even_nums[:25]"
      ],
      "execution_count": 0,
      "outputs": []
    },
    {
      "cell_type": "code",
      "metadata": {
        "id": "_FouQaB3ZVIF",
        "colab_type": "code",
        "outputId": "512d4922-b422-4302-bea4-05d019391c94",
        "colab": {}
      },
      "source": [
        "len(first_half_even)\n",
        "\n",
        "# 25"
      ],
      "execution_count": 0,
      "outputs": [
        {
          "output_type": "execute_result",
          "data": {
            "text/plain": [
              "25"
            ]
          },
          "metadata": {
            "tags": []
          },
          "execution_count": 17
        }
      ]
    },
    {
      "cell_type": "markdown",
      "metadata": {
        "id": "3vB_0BV-ZVII",
        "colab_type": "text"
      },
      "source": [
        "### Working with DataTypes"
      ]
    },
    {
      "cell_type": "markdown",
      "metadata": {
        "id": "vy4PdqnPZVIJ",
        "colab_type": "text"
      },
      "source": [
        "Ok, now let's check the datatype of the numpy array `even_nums`."
      ]
    },
    {
      "cell_type": "code",
      "metadata": {
        "id": "IffGt1psZVIK",
        "colab_type": "code",
        "outputId": "d3526445-1762-4382-88b8-61c88fdbd871",
        "colab": {}
      },
      "source": [
        "\n",
        "\n",
        "# dtype('int64')"
      ],
      "execution_count": 0,
      "outputs": [
        {
          "output_type": "execute_result",
          "data": {
            "text/plain": [
              "dtype('int64')"
            ]
          },
          "metadata": {
            "tags": []
          },
          "execution_count": 19
        }
      ]
    },
    {
      "cell_type": "markdown",
      "metadata": {
        "id": "QpRT3oJcZVIM",
        "colab_type": "text"
      },
      "source": [
        "From our `even_nums` array, use `astype` to create an array of type `float64`, and assign it to the variable `even_floats`."
      ]
    },
    {
      "cell_type": "code",
      "metadata": {
        "id": "UeDCS6SPZVIN",
        "colab_type": "code",
        "colab": {}
      },
      "source": [
        "even_floats = None"
      ],
      "execution_count": 0,
      "outputs": []
    },
    {
      "cell_type": "code",
      "metadata": {
        "id": "76GXHkKLZVIP",
        "colab_type": "code",
        "outputId": "30176b09-102f-4c21-88dd-d29799a06cfc",
        "colab": {}
      },
      "source": [
        "even_floats\n",
        "# array([ 2.,  4.,  6.,  8., 10., 12., 14., 16., 18., 20., 22., 24., 26.,\n",
        "#        28., 30., 32., 34., 36., 38., 40., 42., 44., 46., 48., 50.])\n"
      ],
      "execution_count": 0,
      "outputs": [
        {
          "output_type": "execute_result",
          "data": {
            "text/plain": [
              "array([ 2.,  4.,  6.,  8., 10., 12., 14., 16., 18., 20., 22., 24., 26.,\n",
              "       28., 30., 32., 34., 36., 38., 40., 42., 44., 46., 48., 50.])"
            ]
          },
          "metadata": {
            "tags": []
          },
          "execution_count": 21
        }
      ]
    },
    {
      "cell_type": "markdown",
      "metadata": {
        "id": "MZ3Pc9Y3ZVIS",
        "colab_type": "text"
      },
      "source": [
        "> The decimal point after each number indicates a datatype of float."
      ]
    },
    {
      "cell_type": "markdown",
      "metadata": {
        "id": "t9d-9CJjZVIS",
        "colab_type": "text"
      },
      "source": [
        "Next, let's make a copy of our `even_nums` and change the datatype to type string."
      ]
    },
    {
      "cell_type": "code",
      "metadata": {
        "id": "oOXB_--8ZVIT",
        "colab_type": "code",
        "outputId": "ae86ea5a-5d55-4f02-ac43-dd4c64cac576",
        "colab": {}
      },
      "source": [
        "first_half_even.astype(np.str_)\n",
        "\n",
        "# array(['2', '4', '6', '8', '10', '12', '14', '16', '18', '20', '22', '24',\n",
        "#        '26', '28', '30', '32', '34', '36', '38', '40', '42', '44', '46',\n",
        "#        '48', '50'], dtype='<U21')"
      ],
      "execution_count": 0,
      "outputs": [
        {
          "output_type": "execute_result",
          "data": {
            "text/plain": [
              "array(['2', '4', '6', '8', '10', '12', '14', '16', '18', '20', '22', '24',\n",
              "       '26', '28', '30', '32', '34', '36', '38', '40', '42', '44', '46',\n",
              "       '48', '50'], dtype='<U21')"
            ]
          },
          "metadata": {
            "tags": []
          },
          "execution_count": 23
        }
      ]
    },
    {
      "cell_type": "markdown",
      "metadata": {
        "id": "N4X_Jxk5ZVIV",
        "colab_type": "text"
      },
      "source": [
        "> The `U` stands for unicode. Unicode is a information technology standard for the consistent encoding, representation, and handling of text expressed in most of the world's writing systems.  - [Wikipedia](https://en.wikipedia.org/wiki/Unicode)"
      ]
    },
    {
      "cell_type": "markdown",
      "metadata": {
        "id": "j2b8JlVCZVIW",
        "colab_type": "text"
      },
      "source": [
        "### Broadcasting "
      ]
    },
    {
      "cell_type": "markdown",
      "metadata": {
        "id": "W1FfscmYZVIX",
        "colab_type": "text"
      },
      "source": [
        "Now let's move onto working with broadcasting.  Start with `even_nums`, and decrease each item in the array by 1.  Assign the result to the variable `odd_nums`."
      ]
    },
    {
      "cell_type": "code",
      "metadata": {
        "id": "mURdVvZ3ZVIX",
        "colab_type": "code",
        "colab": {}
      },
      "source": [
        "odd_nums = None"
      ],
      "execution_count": 0,
      "outputs": []
    },
    {
      "cell_type": "code",
      "metadata": {
        "id": "onr74GJ9ZVIb",
        "colab_type": "code",
        "outputId": "af01a95a-05fb-49a9-95ba-271fbac79b22",
        "colab": {}
      },
      "source": [
        "odd_nums\n",
        "\n",
        "# array([ 1,  3,  5,  7,  9, 11, 13, 15, 17, 19, 21, 23, 25, 27, 29, 31, 33,\n",
        "#        35, 37, 39, 41, 43, 45, 47, 49, 51, 53, 55, 57, 59, 61, 63, 65, 67,\n",
        "#        69, 71, 73, 75, 77, 79, 81, 83, 85, 87, 89, 91, 93, 95, 97, 99])"
      ],
      "execution_count": 0,
      "outputs": [
        {
          "output_type": "execute_result",
          "data": {
            "text/plain": [
              "array([ 1,  3,  5,  7,  9, 11, 13, 15, 17, 19, 21, 23, 25, 27, 29, 31, 33,\n",
              "       35, 37, 39, 41, 43, 45, 47, 49, 51, 53, 55, 57, 59, 61, 63, 65, 67,\n",
              "       69, 71, 73, 75, 77, 79, 81, 83, 85, 87, 89, 91, 93, 95, 97, 99])"
            ]
          },
          "metadata": {
            "tags": []
          },
          "execution_count": 30
        }
      ]
    },
    {
      "cell_type": "markdown",
      "metadata": {
        "id": "Asx-qqI9ZVId",
        "colab_type": "text"
      },
      "source": [
        "Notice that the original array is unchanged."
      ]
    },
    {
      "cell_type": "code",
      "metadata": {
        "id": "NCIHpkarZVIe",
        "colab_type": "code",
        "outputId": "422b8df4-3903-415c-cdf8-59d016a328fb",
        "colab": {}
      },
      "source": [
        "even_nums"
      ],
      "execution_count": 0,
      "outputs": [
        {
          "output_type": "execute_result",
          "data": {
            "text/plain": [
              "array([  2,   4,   6,   8,  10,  12,  14,  16,  18,  20,  22,  24,  26,\n",
              "        28,  30,  32,  34,  36,  38,  40,  42,  44,  46,  48,  50,  52,\n",
              "        54,  56,  58,  60,  62,  64,  66,  68,  70,  72,  74,  76,  78,\n",
              "        80,  82,  84,  86,  88,  90,  92,  94,  96,  98, 100])"
            ]
          },
          "metadata": {
            "tags": []
          },
          "execution_count": 27
        }
      ]
    },
    {
      "cell_type": "markdown",
      "metadata": {
        "id": "Qt_rJeZZZVIh",
        "colab_type": "text"
      },
      "source": [
        "### Adding two arrays"
      ]
    },
    {
      "cell_type": "markdown",
      "metadata": {
        "id": "DEPht_g6ZVIh",
        "colab_type": "text"
      },
      "source": [
        "Next, let's see what happens if we add the `even_nums` and `odd_nums` arrays together."
      ]
    },
    {
      "cell_type": "code",
      "metadata": {
        "id": "gS6_0_6OZVIi",
        "colab_type": "code",
        "colab": {}
      },
      "source": [
        "even_nums + odd_nums\n",
        "\n",
        "# array([  3,   7,  11,  15,  19,  23,  27,  31,  35,  39,  43,  47,  51,\n",
        "#         55,  59,  63,  67,  71,  75,  79,  83,  87,  91,  95,  99, 103,\n",
        "#        107, 111, 115, 119, 123, 127, 131, 135, 139, 143, 147, 151, 155,\n",
        "#        159, 163, 167, 171, 175, 179, 183, 187, 191, 195, 199])"
      ],
      "execution_count": 0,
      "outputs": []
    },
    {
      "cell_type": "markdown",
      "metadata": {
        "id": "bjiCMGG7ZVIk",
        "colab_type": "text"
      },
      "source": [
        "We can see that this performs entrywise addition of the two arrays.  "
      ]
    },
    {
      "cell_type": "markdown",
      "metadata": {
        "id": "8zplRVyfZVIm",
        "colab_type": "text"
      },
      "source": [
        "`[2 + 1, 4 + 3, 6 + 5 ...]`"
      ]
    },
    {
      "cell_type": "markdown",
      "metadata": {
        "id": "BQUNPP_oZVIn",
        "colab_type": "text"
      },
      "source": [
        "### Summary"
      ]
    },
    {
      "cell_type": "markdown",
      "metadata": {
        "id": "frQqO6cMZVIo",
        "colab_type": "text"
      },
      "source": [
        "In this lesson, we practiced creating, slicing and broadcasting with numpy arrays.  We also saw to check for and change the datatype in numpy with `dtype` and `astype`."
      ]
    }
  ]
}