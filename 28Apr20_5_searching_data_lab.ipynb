{
  "nbformat": 4,
  "nbformat_minor": 0,
  "metadata": {
    "kernelspec": {
      "display_name": "Python 3",
      "language": "python",
      "name": "python3"
    },
    "language_info": {
      "codemirror_mode": {
        "name": "ipython",
        "version": 3
      },
      "file_extension": ".py",
      "mimetype": "text/x-python",
      "name": "python",
      "nbconvert_exporter": "python",
      "pygments_lexer": "ipython3",
      "version": "3.7.4"
    },
    "colab": {
      "name": "Copy of 5-searching-data-lab.ipynb",
      "provenance": [],
      "include_colab_link": true
    }
  },
  "cells": [
    {
      "cell_type": "markdown",
      "metadata": {
        "id": "view-in-github",
        "colab_type": "text"
      },
      "source": [
        "<a href=\"https://colab.research.google.com/github/ludawg44/jigsawlabs/blob/master/28Apr20_5_searching_data_lab.ipynb\" target=\"_parent\"><img src=\"https://colab.research.google.com/assets/colab-badge.svg\" alt=\"Open In Colab\"/></a>"
      ]
    },
    {
      "cell_type": "markdown",
      "metadata": {
        "id": "JabeshP7BMQc",
        "colab_type": "text"
      },
      "source": [
        "# Searching Data Lab"
      ]
    },
    {
      "cell_type": "markdown",
      "metadata": {
        "id": "b1EYFRtZBMQd",
        "colab_type": "text"
      },
      "source": [
        "### Introduction"
      ]
    },
    {
      "cell_type": "markdown",
      "metadata": {
        "id": "7PIl8D1xDeob",
        "colab_type": "text"
      },
      "source": [
        ""
      ]
    },
    {
      "cell_type": "markdown",
      "metadata": {
        "id": "cvfpsjyaBMQd",
        "colab_type": "text"
      },
      "source": [
        "In this lesson, we'll work with the [craigslist cars truck dataset](https://www.kaggle.com/austinreese/craigslist-carstrucks-data).  The dataset tracks the price of cars and different details about the cars.  We'll use our skills to explore the dataset, and look for potential columns to coerce."
      ]
    },
    {
      "cell_type": "markdown",
      "metadata": {
        "id": "eSCNP97bBMQe",
        "colab_type": "text"
      },
      "source": [
        "### Loading our Data"
      ]
    },
    {
      "cell_type": "code",
      "metadata": {
        "id": "dIaRRXcrBMQf",
        "colab_type": "code",
        "colab": {}
      },
      "source": [
        "import pandas as pd\n",
        "url = \"https://raw.githubusercontent.com/jigsawlabs-student/engineering-large-datasets/master/vehicles_top_thousand.csv\"\n",
        "df = pd.read_csv(url, index_col = 0)"
      ],
      "execution_count": 0,
      "outputs": []
    },
    {
      "cell_type": "code",
      "metadata": {
        "id": "g5VCAW1cBMQi",
        "colab_type": "code",
        "outputId": "27c4160f-cff9-493b-d9fe-cd2d5ba7e1b9",
        "colab": {
          "base_uri": "https://localhost:8080/",
          "height": 250
        }
      },
      "source": [
        "df[:2]"
      ],
      "execution_count": 0,
      "outputs": [
        {
          "output_type": "execute_result",
          "data": {
            "text/html": [
              "<div>\n",
              "<style scoped>\n",
              "    .dataframe tbody tr th:only-of-type {\n",
              "        vertical-align: middle;\n",
              "    }\n",
              "\n",
              "    .dataframe tbody tr th {\n",
              "        vertical-align: top;\n",
              "    }\n",
              "\n",
              "    .dataframe thead th {\n",
              "        text-align: right;\n",
              "    }\n",
              "</style>\n",
              "<table border=\"1\" class=\"dataframe\">\n",
              "  <thead>\n",
              "    <tr style=\"text-align: right;\">\n",
              "      <th></th>\n",
              "      <th>id</th>\n",
              "      <th>url</th>\n",
              "      <th>region</th>\n",
              "      <th>region_url</th>\n",
              "      <th>price</th>\n",
              "      <th>year</th>\n",
              "      <th>manufacturer</th>\n",
              "      <th>model</th>\n",
              "      <th>condition</th>\n",
              "      <th>cylinders</th>\n",
              "      <th>fuel</th>\n",
              "      <th>odometer</th>\n",
              "      <th>title_status</th>\n",
              "      <th>transmission</th>\n",
              "      <th>vin</th>\n",
              "      <th>drive</th>\n",
              "      <th>size</th>\n",
              "      <th>type</th>\n",
              "      <th>paint_color</th>\n",
              "      <th>image_url</th>\n",
              "      <th>description</th>\n",
              "      <th>state</th>\n",
              "      <th>lat</th>\n",
              "      <th>long</th>\n",
              "    </tr>\n",
              "  </thead>\n",
              "  <tbody>\n",
              "    <tr>\n",
              "      <th>0</th>\n",
              "      <td>7088746062</td>\n",
              "      <td>https://greensboro.craigslist.org/ctd/d/cary-2...</td>\n",
              "      <td>greensboro</td>\n",
              "      <td>https://greensboro.craigslist.org</td>\n",
              "      <td>10299</td>\n",
              "      <td>2012.0</td>\n",
              "      <td>acura</td>\n",
              "      <td>tl</td>\n",
              "      <td>NaN</td>\n",
              "      <td>NaN</td>\n",
              "      <td>gas</td>\n",
              "      <td>90186.0</td>\n",
              "      <td>clean</td>\n",
              "      <td>automatic</td>\n",
              "      <td>19UUA8F22CA003926</td>\n",
              "      <td>NaN</td>\n",
              "      <td>NaN</td>\n",
              "      <td>other</td>\n",
              "      <td>blue</td>\n",
              "      <td>https://images.craigslist.org/01414_3LIXs9EO33...</td>\n",
              "      <td>2012 Acura TL Base 4dr Sedan     Offered by: B...</td>\n",
              "      <td>nc</td>\n",
              "      <td>35.7636</td>\n",
              "      <td>-78.7443</td>\n",
              "    </tr>\n",
              "    <tr>\n",
              "      <th>1</th>\n",
              "      <td>7088745301</td>\n",
              "      <td>https://greensboro.craigslist.org/ctd/d/bmw-3-...</td>\n",
              "      <td>greensboro</td>\n",
              "      <td>https://greensboro.craigslist.org</td>\n",
              "      <td>0</td>\n",
              "      <td>2011.0</td>\n",
              "      <td>bmw</td>\n",
              "      <td>335</td>\n",
              "      <td>NaN</td>\n",
              "      <td>6 cylinders</td>\n",
              "      <td>gas</td>\n",
              "      <td>115120.0</td>\n",
              "      <td>clean</td>\n",
              "      <td>automatic</td>\n",
              "      <td>NaN</td>\n",
              "      <td>rwd</td>\n",
              "      <td>NaN</td>\n",
              "      <td>convertible</td>\n",
              "      <td>blue</td>\n",
              "      <td>https://images.craigslist.org/00S0S_1kTatLGLxB...</td>\n",
              "      <td>BMW 3 Series 335i Convertible Navigation Dakot...</td>\n",
              "      <td>nc</td>\n",
              "      <td>NaN</td>\n",
              "      <td>NaN</td>\n",
              "    </tr>\n",
              "  </tbody>\n",
              "</table>\n",
              "</div>"
            ],
            "text/plain": [
              "           id  ...     long\n",
              "0  7088746062  ... -78.7443\n",
              "1  7088745301  ...      NaN\n",
              "\n",
              "[2 rows x 24 columns]"
            ]
          },
          "metadata": {
            "tags": []
          },
          "execution_count": 3
        }
      ]
    },
    {
      "cell_type": "markdown",
      "metadata": {
        "id": "vfmV4n-aBMQl",
        "colab_type": "text"
      },
      "source": [
        "Let's start by seeing if there are any columns that are identical.  Here is the `find_all_same` function.  Use it to identify columns with identical values."
      ]
    },
    {
      "cell_type": "code",
      "metadata": {
        "id": "6ajnLecNBMQm",
        "colab_type": "code",
        "colab": {}
      },
      "source": [
        "def find_all_same(df):\n",
        "    return [col for col in df.columns if len(df[col].unique()) == 1]"
      ],
      "execution_count": 0,
      "outputs": []
    },
    {
      "cell_type": "code",
      "metadata": {
        "id": "oBupz7O_BMQp",
        "colab_type": "code",
        "colab": {}
      },
      "source": [
        "same_cols = find_all_same(df)"
      ],
      "execution_count": 0,
      "outputs": []
    },
    {
      "cell_type": "code",
      "metadata": {
        "id": "eKiASVWtBmim",
        "colab_type": "code",
        "outputId": "9c5f596e-2993-4306-a259-c9efd1fd83e2",
        "colab": {
          "base_uri": "https://localhost:8080/",
          "height": 34
        }
      },
      "source": [
        "same_cols"
      ],
      "execution_count": 0,
      "outputs": [
        {
          "output_type": "execute_result",
          "data": {
            "text/plain": [
              "[]"
            ]
          },
          "metadata": {
            "tags": []
          },
          "execution_count": 29
        }
      ]
    },
    {
      "cell_type": "markdown",
      "metadata": {
        "id": "mTQ2BFFVBMQr",
        "colab_type": "text"
      },
      "source": [
        "So none of the columns have only one value."
      ]
    },
    {
      "cell_type": "markdown",
      "metadata": {
        "id": "eoHrbAEvBMQs",
        "colab_type": "text"
      },
      "source": [
        "### Coercing Columns"
      ]
    },
    {
      "cell_type": "markdown",
      "metadata": {
        "id": "7CQ8Hxz0BMQs",
        "colab_type": "text"
      },
      "source": [
        "Next let's see if there are any numeric columns."
      ]
    },
    {
      "cell_type": "code",
      "metadata": {
        "id": "-N9Jbj2-BMQt",
        "colab_type": "code",
        "outputId": "601d4538-69d3-46e0-aa68-10f4a923184c",
        "colab": {
          "base_uri": "https://localhost:8080/",
          "height": 102
        }
      },
      "source": [
        "df.columns"
      ],
      "execution_count": 0,
      "outputs": [
        {
          "output_type": "execute_result",
          "data": {
            "text/plain": [
              "Index(['id', 'url', 'region', 'region_url', 'price', 'year', 'manufacturer',\n",
              "       'model', 'condition', 'cylinders', 'fuel', 'odometer', 'title_status',\n",
              "       'transmission', 'vin', 'drive', 'size', 'type', 'paint_color',\n",
              "       'image_url', 'description', 'state', 'lat', 'long'],\n",
              "      dtype='object')"
            ]
          },
          "metadata": {
            "tags": []
          },
          "execution_count": 11
        }
      ]
    },
    {
      "cell_type": "markdown",
      "metadata": {
        "id": "DD_U3oIVBMQw",
        "colab_type": "text"
      },
      "source": [
        "Now first select the columns of type object from our dataframe."
      ]
    },
    {
      "cell_type": "code",
      "metadata": {
        "id": "x06iXaPxBMQw",
        "colab_type": "code",
        "colab": {}
      },
      "source": [
        "obj_df = df.select_dtypes('object')"
      ],
      "execution_count": 0,
      "outputs": []
    },
    {
      "cell_type": "code",
      "metadata": {
        "id": "rFD6X6UnBMQz",
        "colab_type": "code",
        "outputId": "04d88896-8581-438f-f7cc-8c651ceb3d27",
        "colab": {
          "base_uri": "https://localhost:8080/",
          "height": 85
        }
      },
      "source": [
        "obj_df.columns\n",
        "\n",
        "# Index(['url', 'region', 'region_url', 'manufacturer', 'model', 'condition',\n",
        "#        'cylinders', 'fuel', 'title_status', 'transmission', 'vin', 'drive',\n",
        "#        'size', 'type', 'paint_color', 'image_url', 'description', 'state'],\n",
        "#       dtype='object')"
      ],
      "execution_count": 0,
      "outputs": [
        {
          "output_type": "execute_result",
          "data": {
            "text/plain": [
              "Index(['url', 'region', 'region_url', 'manufacturer', 'model', 'condition',\n",
              "       'cylinders', 'fuel', 'title_status', 'transmission', 'vin', 'drive',\n",
              "       'size', 'type', 'paint_color', 'image_url', 'description', 'state'],\n",
              "      dtype='object')"
            ]
          },
          "metadata": {
            "tags": []
          },
          "execution_count": 13
        }
      ]
    },
    {
      "cell_type": "markdown",
      "metadata": {
        "id": "xJOIX7ayBMQ0",
        "colab_type": "text"
      },
      "source": [
        "And then loop through the columns to see if any contains numbers."
      ]
    },
    {
      "cell_type": "code",
      "metadata": {
        "id": "VYu2H-XBBMQ1",
        "colab_type": "code",
        "colab": {}
      },
      "source": [
        "def contains_numbers(column):\n",
        "    # matches price or percentage     \n",
        "    regex_string = (r'^(?!.*www|.*-|.*\\/|.*[A-Za-z]|.* ).*\\d.*')\n",
        "#     regex_string = (r'\\$\\d+.*|\\d+.*\\%$|^\\d+.*$')\n",
        "    return column.str.contains(regex_string).any()"
      ],
      "execution_count": 0,
      "outputs": []
    },
    {
      "cell_type": "markdown",
      "metadata": {
        "id": "u1-M1djNBMQ3",
        "colab_type": "text"
      },
      "source": [
        "> Notice that we switched the function to end with `any` to make it more inclusive."
      ]
    },
    {
      "cell_type": "code",
      "metadata": {
        "id": "ciiAISYyBMQ3",
        "colab_type": "code",
        "outputId": "cbe6ab4a-cc90-4e2d-ca6d-28a1a155c6cd",
        "colab": {
          "base_uri": "https://localhost:8080/",
          "height": 340
        }
      },
      "source": [
        "number_cols = obj_df.apply(contains_numbers)\n",
        "number_cols\n",
        "\n",
        "# url             False\n",
        "# region          False\n",
        "# region_url      False\n",
        "# manufacturer    False\n",
        "# model            True\n",
        "# condition       False\n",
        "# cylinders       False\n",
        "# fuel            False\n",
        "# title_status    False\n",
        "# transmission    False\n",
        "# vin              True\n",
        "# drive           False\n",
        "# size            False\n",
        "# type            False\n",
        "# paint_color     False\n",
        "# image_url       False\n",
        "# description     False\n",
        "# state           False\n",
        "# dtype: bool\n"
      ],
      "execution_count": 0,
      "outputs": [
        {
          "output_type": "execute_result",
          "data": {
            "text/plain": [
              "url             False\n",
              "region          False\n",
              "region_url      False\n",
              "manufacturer    False\n",
              "model            True\n",
              "condition       False\n",
              "cylinders       False\n",
              "fuel            False\n",
              "title_status    False\n",
              "transmission    False\n",
              "vin              True\n",
              "drive           False\n",
              "size            False\n",
              "type            False\n",
              "paint_color     False\n",
              "image_url       False\n",
              "description     False\n",
              "state           False\n",
              "dtype: bool"
            ]
          },
          "metadata": {
            "tags": []
          },
          "execution_count": 30
        }
      ]
    },
    {
      "cell_type": "markdown",
      "metadata": {
        "id": "f9ekGNpiBMQ6",
        "colab_type": "text"
      },
      "source": [
        "Let's select the just the values that are true, to identify our almost numeric columns and see if we should coerce them."
      ]
    },
    {
      "cell_type": "code",
      "metadata": {
        "id": "zbTev2-wBMQ7",
        "colab_type": "code",
        "outputId": "afb3a54c-1b20-438d-9d45-f10f0a79d624",
        "colab": {
          "base_uri": "https://localhost:8080/",
          "height": 68
        }
      },
      "source": [
        "has_num_cols = number_cols[number_cols]\n",
        "\n",
        "has_num_cols\n",
        "\n",
        "# model    True\n",
        "# vin      True\n",
        "# dtype: bool"
      ],
      "execution_count": 0,
      "outputs": [
        {
          "output_type": "execute_result",
          "data": {
            "text/plain": [
              "model    True\n",
              "vin      True\n",
              "dtype: bool"
            ]
          },
          "metadata": {
            "tags": []
          },
          "execution_count": 32
        }
      ]
    },
    {
      "cell_type": "markdown",
      "metadata": {
        "id": "to3g52iMBMQ9",
        "colab_type": "text"
      },
      "source": [
        "Select those `has_num_cols` from our `obj_df`."
      ]
    },
    {
      "cell_type": "code",
      "metadata": {
        "id": "VsuC4T58BMQ-",
        "colab_type": "code",
        "outputId": "201fe501-93a1-4ec8-f527-4d734f8f90ba",
        "colab": {
          "base_uri": "https://localhost:8080/",
          "height": 142
        }
      },
      "source": [
        "potential_num_df = obj_df[has_num_cols.index]\n",
        "potential_num_df[:3]\n",
        "\n",
        "\n",
        "# model\tvin\n",
        "# 0\ttl\t19UUA8F22CA003926\n",
        "# 1\t335\tNaN\n",
        "# 2\txf\tNaN"
      ],
      "execution_count": 0,
      "outputs": [
        {
          "output_type": "execute_result",
          "data": {
            "text/html": [
              "<div>\n",
              "<style scoped>\n",
              "    .dataframe tbody tr th:only-of-type {\n",
              "        vertical-align: middle;\n",
              "    }\n",
              "\n",
              "    .dataframe tbody tr th {\n",
              "        vertical-align: top;\n",
              "    }\n",
              "\n",
              "    .dataframe thead th {\n",
              "        text-align: right;\n",
              "    }\n",
              "</style>\n",
              "<table border=\"1\" class=\"dataframe\">\n",
              "  <thead>\n",
              "    <tr style=\"text-align: right;\">\n",
              "      <th></th>\n",
              "      <th>model</th>\n",
              "      <th>vin</th>\n",
              "    </tr>\n",
              "  </thead>\n",
              "  <tbody>\n",
              "    <tr>\n",
              "      <th>0</th>\n",
              "      <td>tl</td>\n",
              "      <td>19UUA8F22CA003926</td>\n",
              "    </tr>\n",
              "    <tr>\n",
              "      <th>1</th>\n",
              "      <td>335</td>\n",
              "      <td>NaN</td>\n",
              "    </tr>\n",
              "    <tr>\n",
              "      <th>2</th>\n",
              "      <td>xf</td>\n",
              "      <td>NaN</td>\n",
              "    </tr>\n",
              "  </tbody>\n",
              "</table>\n",
              "</div>"
            ],
            "text/plain": [
              "  model                vin\n",
              "0    tl  19UUA8F22CA003926\n",
              "1   335                NaN\n",
              "2    xf                NaN"
            ]
          },
          "metadata": {
            "tags": []
          },
          "execution_count": 35
        }
      ]
    },
    {
      "cell_type": "markdown",
      "metadata": {
        "id": "koo9xaWDBMRB",
        "colab_type": "text"
      },
      "source": [
        "Well things are not looking good.  Still let's loop through the data to select the top five values from the columns (loop through using value_counts)."
      ]
    },
    {
      "cell_type": "code",
      "metadata": {
        "id": "h_EytdPhFxSL",
        "colab_type": "code",
        "outputId": "68b0288a-795b-47d2-884d-d9d4ac457c9b",
        "colab": {
          "base_uri": "https://localhost:8080/",
          "height": 204
        }
      },
      "source": [
        "[obj_df[col].value_counts(normalize=True)[:5] for col in has_num_cols.index]"
      ],
      "execution_count": 0,
      "outputs": [
        {
          "output_type": "execute_result",
          "data": {
            "text/plain": [
              "[f-150             0.020724\n",
              " silverado 1500    0.011727\n",
              " 1500              0.010311\n",
              " silverado         0.010008\n",
              " wrangler          0.008290\n",
              " Name: model, dtype: float64, RUNS GREAT           0.000894\n",
              " FINANCING            0.000745\n",
              " 1G4PW5SKXG4132450    0.000745\n",
              " O                    0.000745\n",
              " 1G6AA1RX2G0153368    0.000745\n",
              " Name: vin, dtype: float64]"
            ]
          },
          "metadata": {
            "tags": []
          },
          "execution_count": 39
        }
      ]
    },
    {
      "cell_type": "code",
      "metadata": {
        "id": "IvRndTe-BMRB",
        "colab_type": "code",
        "colab": {}
      },
      "source": [
        "# [f-150             0.020724\n",
        "#  silverado 1500    0.011727\n",
        "#  1500              0.010311\n",
        "#  silverado         0.010008\n",
        "#  wrangler          0.008290\n",
        "#  Name: model, dtype: float64,\n",
        "#  RUNS GREAT           0.000894\n",
        "#  1G4PW5SKXG4132450    0.000745\n",
        "#  1G6AA1RX2G0153368    0.000745\n",
        "#  O                    0.000745\n",
        "#  FINANCING            0.000745\n",
        "#  Name: vin, dtype: float64]"
      ],
      "execution_count": 0,
      "outputs": []
    },
    {
      "cell_type": "markdown",
      "metadata": {
        "id": "hdBPQPuwBMRD",
        "colab_type": "text"
      },
      "source": [
        "Well these are values are looking more categorical than numeric.  It looks like we don't have numeric columns to work with in this lesson."
      ]
    },
    {
      "cell_type": "markdown",
      "metadata": {
        "id": "MtDU9DvCBMRE",
        "colab_type": "text"
      },
      "source": [
        "### Summary"
      ]
    },
    {
      "cell_type": "markdown",
      "metadata": {
        "id": "GNxyc52NBMRE",
        "colab_type": "text"
      },
      "source": [
        "In this lesson, we went through the procedure of looking for some columns to coerce.  Along the way, we saw how we can loop through our columns to check if they have values that are all the same, or if they have columns that we should make numeric.  We explored our potential columns by looping through the columns seeing the top values."
      ]
    }
  ]
}