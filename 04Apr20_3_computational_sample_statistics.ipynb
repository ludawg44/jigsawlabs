{
  "nbformat": 4,
  "nbformat_minor": 0,
  "metadata": {
    "kernelspec": {
      "display_name": "Python 3",
      "language": "python",
      "name": "python3"
    },
    "language_info": {
      "codemirror_mode": {
        "name": "ipython",
        "version": 3
      },
      "file_extension": ".py",
      "mimetype": "text/x-python",
      "name": "python",
      "nbconvert_exporter": "python",
      "pygments_lexer": "ipython3",
      "version": "3.7.4"
    },
    "colab": {
      "name": "Copy of 3-computational-sample-statistics.ipynb",
      "provenance": [],
      "include_colab_link": true
    }
  },
  "cells": [
    {
      "cell_type": "markdown",
      "metadata": {
        "id": "view-in-github",
        "colab_type": "text"
      },
      "source": [
        "<a href=\"https://colab.research.google.com/github/ludawg44/jigsawlabs/blob/master/04Apr20_3_computational_sample_statistics.ipynb\" target=\"_parent\"><img src=\"https://colab.research.google.com/assets/colab-badge.svg\" alt=\"Open In Colab\"/></a>"
      ]
    },
    {
      "cell_type": "markdown",
      "metadata": {
        "id": "DCREGlpgFwfa",
        "colab_type": "text"
      },
      "source": [
        "# Sample Statistics through Resampling"
      ]
    },
    {
      "cell_type": "markdown",
      "metadata": {
        "id": "2iUUzcD_Fwfb",
        "colab_type": "text"
      },
      "source": [
        "### Introduction"
      ]
    },
    {
      "cell_type": "markdown",
      "metadata": {
        "id": "iLw26RuAFwfb",
        "colab_type": "text"
      },
      "source": [
        "Now in the last lesson, we discussed how to calculate sample statistics as well as the accuracy of such statistics (via the standard error) through a formulaic approach.  That is, to calculate the standard error, we simply used our formula of:"
      ]
    },
    {
      "cell_type": "markdown",
      "metadata": {
        "id": "lvWu_JOoFwfc",
        "colab_type": "text"
      },
      "source": [
        "$se = \\frac{S}{\\sqrt{n}} $"
      ]
    },
    {
      "cell_type": "markdown",
      "metadata": {
        "id": "L8WbQOc3Fwfd",
        "colab_type": "text"
      },
      "source": [
        "In this lesson, we'll see how we can make certain calculations without this fancy formula above but through resampling."
      ]
    },
    {
      "cell_type": "markdown",
      "metadata": {
        "id": "I3z--O9-Fwfd",
        "colab_type": "text"
      },
      "source": [
        "### Loading our Sample"
      ]
    },
    {
      "cell_type": "markdown",
      "metadata": {
        "id": "u3sTaEkAFwfe",
        "colab_type": "text"
      },
      "source": [
        "Once again let's load up our sample data on NBA players."
      ]
    },
    {
      "cell_type": "code",
      "metadata": {
        "id": "G0dFTJOuFwff",
        "colab_type": "code",
        "colab": {}
      },
      "source": [
        "import pandas as pd\n",
        "url = \"gs://curriculum-assets/mod-2/players_sample.csv\"\n",
        "players_df = pd.read_csv(url, index_col = 0)"
      ],
      "execution_count": 0,
      "outputs": []
    },
    {
      "cell_type": "code",
      "metadata": {
        "id": "ujfZF7kyFwfn",
        "colab_type": "code",
        "outputId": "e902c18b-499c-447d-959b-79b369af993f",
        "colab": {}
      },
      "source": [
        "players_df.shape"
      ],
      "execution_count": 0,
      "outputs": [
        {
          "output_type": "execute_result",
          "data": {
            "text/plain": [
              "(150, 29)"
            ]
          },
          "metadata": {
            "tags": []
          },
          "execution_count": 2
        }
      ]
    },
    {
      "cell_type": "markdown",
      "metadata": {
        "id": "saVP-MmPFwfv",
        "colab_type": "text"
      },
      "source": [
        "Now we saw that we can calculate the mean and it's standard error by using the following formulas:"
      ]
    },
    {
      "cell_type": "markdown",
      "metadata": {
        "id": "cLQ03SZIFwfw",
        "colab_type": "text"
      },
      "source": [
        "*  $\\hat{x} = \\frac{1}{n}\\sum_{i=1}^n x_i $\n",
        "\n",
        "* $se = \\frac{S}{\\sqrt{n}} $"
      ]
    },
    {
      "cell_type": "markdown",
      "metadata": {
        "id": "6faeE2tcFwfx",
        "colab_type": "text"
      },
      "source": [
        "Now remember what the standard error says.  The standard error is the average deviation in the mean that we would see, if we were to draw the sample mean many times.  The formula above shows that this depends on the size of our sample and our population's standard deviation (estimated by the sample standard deviation)."
      ]
    },
    {
      "cell_type": "markdown",
      "metadata": {
        "id": "NUzLnfs-Fwfy",
        "colab_type": "text"
      },
      "source": [
        "### Compute Sample Statistics"
      ]
    },
    {
      "cell_type": "markdown",
      "metadata": {
        "id": "Cr3BgVWcFwfy",
        "colab_type": "text"
      },
      "source": [
        "Now with the standard error formulation above, we are saying what would happen if we were to take many random samples.  Of course, we never do, take 1000 random samples of a single population because doing so is too expensive.\n",
        "\n",
        "But with a computer, we can *simulate* the drawing of many random samples.\n",
        "\n",
        "It's not so hard.\n",
        "\n",
        "To do so we:\n",
        "1. Start with our sample of our population, which we have above."
      ]
    },
    {
      "cell_type": "code",
      "metadata": {
        "id": "VrSQFh9pFwfz",
        "colab_type": "code",
        "outputId": "3eef1350-5137-4195-e19a-bc5f65236477",
        "colab": {}
      },
      "source": [
        "players_df.shape"
      ],
      "execution_count": 0,
      "outputs": [
        {
          "output_type": "execute_result",
          "data": {
            "text/plain": [
              "(150, 29)"
            ]
          },
          "metadata": {
            "tags": []
          },
          "execution_count": 3
        }
      ]
    },
    {
      "cell_type": "markdown",
      "metadata": {
        "id": "tj0bPc43FwgD",
        "colab_type": "text"
      },
      "source": [
        "2. Then we pretend that *this sample is our underlying population*, and we randomly draw samples from it."
      ]
    },
    {
      "cell_type": "markdown",
      "metadata": {
        "id": "IxvcVHZ9FwgD",
        "colab_type": "text"
      },
      "source": [
        "For example, let's make 1000 simple random sampes from our `players_df` sample."
      ]
    },
    {
      "cell_type": "code",
      "metadata": {
        "id": "2bwc0yDmFwgE",
        "colab_type": "code",
        "colab": {}
      },
      "source": [
        "import numpy as np\n",
        "from numpy.random import seed\n",
        "\n",
        "seed(2)\n",
        "samples = []\n",
        "n = 150\n",
        "for idx in range(1000):\n",
        "    idcs = players_df.index\n",
        "    rand_idcs = np.random.choice(idcs, size=n)\n",
        "    sample = players_df.loc[rand_idcs]\n",
        "    samples.append(sample)"
      ],
      "execution_count": 0,
      "outputs": []
    },
    {
      "cell_type": "markdown",
      "metadata": {
        "id": "iKQ4qem1FwgV",
        "colab_type": "text"
      },
      "source": [
        "What we can see is that we just created 1000 different random samples, and stored them in the array sample."
      ]
    },
    {
      "cell_type": "code",
      "metadata": {
        "id": "TWGPYBHZFwgX",
        "colab_type": "code",
        "outputId": "95264a13-ad3d-43d6-cebf-5cde39fbe57b",
        "colab": {}
      },
      "source": [
        "sample_num = 0\n",
        "# change the sample num above to see the different random samples\n",
        "samples[sample_num][:3]"
      ],
      "execution_count": 0,
      "outputs": [
        {
          "output_type": "execute_result",
          "data": {
            "text/html": [
              "<div>\n",
              "<style scoped>\n",
              "    .dataframe tbody tr th:only-of-type {\n",
              "        vertical-align: middle;\n",
              "    }\n",
              "\n",
              "    .dataframe tbody tr th {\n",
              "        vertical-align: top;\n",
              "    }\n",
              "\n",
              "    .dataframe thead th {\n",
              "        text-align: right;\n",
              "    }\n",
              "</style>\n",
              "<table border=\"1\" class=\"dataframe\">\n",
              "  <thead>\n",
              "    <tr style=\"text-align: right;\">\n",
              "      <th></th>\n",
              "      <th>player_id</th>\n",
              "      <th>name</th>\n",
              "      <th>weight</th>\n",
              "      <th>birth_date</th>\n",
              "      <th>height</th>\n",
              "      <th>nationality</th>\n",
              "      <th>team_abbreviation</th>\n",
              "      <th>most_recent_season</th>\n",
              "      <th>box_plus_minus</th>\n",
              "      <th>games_played</th>\n",
              "      <th>...</th>\n",
              "      <th>total_rebounds</th>\n",
              "      <th>turnovers</th>\n",
              "      <th>position</th>\n",
              "      <th>points</th>\n",
              "      <th>three_pointers</th>\n",
              "      <th>free_throw_percentage</th>\n",
              "      <th>assists</th>\n",
              "      <th>three_point_attempts</th>\n",
              "      <th>steals</th>\n",
              "      <th>blocks</th>\n",
              "    </tr>\n",
              "  </thead>\n",
              "  <tbody>\n",
              "    <tr>\n",
              "      <th>404</th>\n",
              "      <td>ferreyo01</td>\n",
              "      <td>Yogi Ferrell</td>\n",
              "      <td>180</td>\n",
              "      <td>1993-05-09</td>\n",
              "      <td>72</td>\n",
              "      <td>United States of America</td>\n",
              "      <td>SAC</td>\n",
              "      <td>2019.0</td>\n",
              "      <td>-1.4</td>\n",
              "      <td>243.0</td>\n",
              "      <td>...</td>\n",
              "      <td>48.0</td>\n",
              "      <td>25.0</td>\n",
              "      <td>PG</td>\n",
              "      <td>185.0</td>\n",
              "      <td>19.0</td>\n",
              "      <td>0.865</td>\n",
              "      <td>59.0</td>\n",
              "      <td>69.0</td>\n",
              "      <td>14.0</td>\n",
              "      <td>4.0</td>\n",
              "    </tr>\n",
              "    <tr>\n",
              "      <th>203</th>\n",
              "      <td>theisda01</td>\n",
              "      <td>Daniel Theis</td>\n",
              "      <td>215</td>\n",
              "      <td>1992-04-04</td>\n",
              "      <td>80</td>\n",
              "      <td>Germany</td>\n",
              "      <td>BOS</td>\n",
              "      <td>2019.0</td>\n",
              "      <td>1.1</td>\n",
              "      <td>187.0</td>\n",
              "      <td>...</td>\n",
              "      <td>380.0</td>\n",
              "      <td>48.0</td>\n",
              "      <td>C</td>\n",
              "      <td>539.0</td>\n",
              "      <td>26.0</td>\n",
              "      <td>0.764</td>\n",
              "      <td>95.0</td>\n",
              "      <td>81.0</td>\n",
              "      <td>35.0</td>\n",
              "      <td>75.0</td>\n",
              "    </tr>\n",
              "    <tr>\n",
              "      <th>334</th>\n",
              "      <td>paulch01</td>\n",
              "      <td>Chris Paul</td>\n",
              "      <td>175</td>\n",
              "      <td>1985-05-06</td>\n",
              "      <td>73</td>\n",
              "      <td>United States of America</td>\n",
              "      <td>OKC</td>\n",
              "      <td>2019.0</td>\n",
              "      <td>7.6</td>\n",
              "      <td>1013.0</td>\n",
              "      <td>...</td>\n",
              "      <td>310.0</td>\n",
              "      <td>137.0</td>\n",
              "      <td>PG</td>\n",
              "      <td>1114.0</td>\n",
              "      <td>101.0</td>\n",
              "      <td>0.900</td>\n",
              "      <td>426.0</td>\n",
              "      <td>279.0</td>\n",
              "      <td>98.0</td>\n",
              "      <td>9.0</td>\n",
              "    </tr>\n",
              "  </tbody>\n",
              "</table>\n",
              "<p>3 rows × 29 columns</p>\n",
              "</div>"
            ],
            "text/plain": [
              "     player_id          name  weight  birth_date  height  \\\n",
              "404  ferreyo01  Yogi Ferrell     180  1993-05-09      72   \n",
              "203  theisda01  Daniel Theis     215  1992-04-04      80   \n",
              "334   paulch01    Chris Paul     175  1985-05-06      73   \n",
              "\n",
              "                  nationality team_abbreviation  most_recent_season  \\\n",
              "404  United States of America               SAC              2019.0   \n",
              "203                   Germany               BOS              2019.0   \n",
              "334  United States of America               OKC              2019.0   \n",
              "\n",
              "     box_plus_minus  games_played  ...  total_rebounds  turnovers  position  \\\n",
              "404            -1.4         243.0  ...            48.0       25.0        PG   \n",
              "203             1.1         187.0  ...           380.0       48.0         C   \n",
              "334             7.6        1013.0  ...           310.0      137.0        PG   \n",
              "\n",
              "     points  three_pointers  free_throw_percentage  assists  \\\n",
              "404   185.0            19.0                  0.865     59.0   \n",
              "203   539.0            26.0                  0.764     95.0   \n",
              "334  1114.0           101.0                  0.900    426.0   \n",
              "\n",
              "     three_point_attempts steals  blocks  \n",
              "404                  69.0   14.0     4.0  \n",
              "203                  81.0   35.0    75.0  \n",
              "334                 279.0   98.0     9.0  \n",
              "\n",
              "[3 rows x 29 columns]"
            ]
          },
          "metadata": {
            "tags": []
          },
          "execution_count": 39
        }
      ]
    },
    {
      "cell_type": "markdown",
      "metadata": {
        "id": "IJX_DkzUFwga",
        "colab_type": "text"
      },
      "source": [
        "And now from these samples we can calculate the mean, by first taking the mean of each sample, and then the mean of the means."
      ]
    },
    {
      "cell_type": "code",
      "metadata": {
        "id": "nkBdOnREFwgb",
        "colab_type": "code",
        "outputId": "c0188661-e1e3-4f06-89b0-da05b6ae25a8",
        "colab": {}
      },
      "source": [
        "sample_means = np.array([sample['height'].mean() for sample in samples])\n",
        "sample_means[:3]"
      ],
      "execution_count": 0,
      "outputs": [
        {
          "output_type": "execute_result",
          "data": {
            "text/plain": [
              "array([78.52      , 78.24666667, 78.67333333])"
            ]
          },
          "metadata": {
            "tags": []
          },
          "execution_count": 40
        }
      ]
    },
    {
      "cell_type": "code",
      "metadata": {
        "id": "lkW66c3nFwge",
        "colab_type": "code",
        "outputId": "5fe8192a-d3ca-4a46-c6e3-ba9cc75f5c42",
        "colab": {}
      },
      "source": [
        "sample_means.mean()"
      ],
      "execution_count": 0,
      "outputs": [
        {
          "output_type": "execute_result",
          "data": {
            "text/plain": [
              "78.52758"
            ]
          },
          "metadata": {
            "tags": []
          },
          "execution_count": 41
        }
      ]
    },
    {
      "cell_type": "markdown",
      "metadata": {
        "id": "nxhKncniFwgi",
        "colab_type": "text"
      },
      "source": [
        "Now let's think about this, if we have a thousand different sample means.  And the standard error is simply the average deviation in the mean.  Then we can compute the standard error by computing the standard deviation in our sampling means."
      ]
    },
    {
      "cell_type": "code",
      "metadata": {
        "id": "9HWXSBFKFwgi",
        "colab_type": "code",
        "outputId": "d0fb4718-d37f-4f92-8edd-6aa57fc922f3",
        "colab": {}
      },
      "source": [
        "sample_means.std()"
      ],
      "execution_count": 0,
      "outputs": [
        {
          "output_type": "execute_result",
          "data": {
            "text/plain": [
              "0.2803815044621246"
            ]
          },
          "metadata": {
            "tags": []
          },
          "execution_count": 42
        }
      ]
    },
    {
      "cell_type": "markdown",
      "metadata": {
        "id": "L5_PI1oMFwgw",
        "colab_type": "text"
      },
      "source": [
        "This is our standard error."
      ]
    },
    {
      "cell_type": "markdown",
      "metadata": {
        "id": "9KDiUeEsFwgz",
        "colab_type": "text"
      },
      "source": [
        "Let's compare this with the answer from the analytic approach."
      ]
    },
    {
      "cell_type": "markdown",
      "metadata": {
        "id": "D_VgrZ0uFwg0",
        "colab_type": "text"
      },
      "source": [
        "* $se = \\frac{S}{\\sqrt{n}} $"
      ]
    },
    {
      "cell_type": "code",
      "metadata": {
        "id": "BuMVKgY-Fwg1",
        "colab_type": "code",
        "outputId": "74f1f86f-8a6b-4a10-fa3e-57cbdb4d46e6",
        "colab": {}
      },
      "source": [
        "players_df['height'].shape"
      ],
      "execution_count": 0,
      "outputs": [
        {
          "output_type": "execute_result",
          "data": {
            "text/plain": [
              "(150,)"
            ]
          },
          "metadata": {
            "tags": []
          },
          "execution_count": 43
        }
      ]
    },
    {
      "cell_type": "code",
      "metadata": {
        "id": "I1FQlpLLFwg3",
        "colab_type": "code",
        "outputId": "20b3f8b8-c147-44e9-da04-f096250f77f8",
        "colab": {}
      },
      "source": [
        "players_df['height'].std(ddof = 1)/np.sqrt(150)"
      ],
      "execution_count": 0,
      "outputs": [
        {
          "output_type": "execute_result",
          "data": {
            "text/plain": [
              "0.27606481530983035"
            ]
          },
          "metadata": {
            "tags": []
          },
          "execution_count": 44
        }
      ]
    },
    {
      "cell_type": "markdown",
      "metadata": {
        "id": "S6sBiPQkFwg8",
        "colab_type": "text"
      },
      "source": [
        "So, we would say that on average, we expect our sample mean to be off by .27.  And we can summarize this as:"
      ]
    },
    {
      "cell_type": "markdown",
      "metadata": {
        "id": "NLjnwNq5Fwg9",
        "colab_type": "text"
      },
      "source": [
        "> * $\\hat{x} = 78.52 \\pm .27$"
      ]
    },
    {
      "cell_type": "markdown",
      "metadata": {
        "id": "ACvzZ5LHFwg9",
        "colab_type": "text"
      },
      "source": [
        "Finally, let's compare this with our what we see in our actual underlying population."
      ]
    },
    {
      "cell_type": "code",
      "metadata": {
        "id": "C2m-MGXBFwg9",
        "colab_type": "code",
        "outputId": "539240ea-4e60-4425-a4be-0e011d43b909",
        "colab": {}
      },
      "source": [
        "import pandas as pd\n",
        "players_df = pd.read_csv('./nba_combined.csv', index_col = 0)\n",
        "players_df.shape"
      ],
      "execution_count": 0,
      "outputs": [
        {
          "output_type": "execute_result",
          "data": {
            "text/plain": [
              "(496, 29)"
            ]
          },
          "metadata": {
            "tags": []
          },
          "execution_count": 46
        }
      ]
    },
    {
      "cell_type": "code",
      "metadata": {
        "id": "Vvs6IUpqFwg_",
        "colab_type": "code",
        "outputId": "efede67d-6d8f-4829-891f-8b0166518a05",
        "colab": {}
      },
      "source": [
        "players_df['height'].mean()"
      ],
      "execution_count": 0,
      "outputs": [
        {
          "output_type": "execute_result",
          "data": {
            "text/plain": [
              "78.4375"
            ]
          },
          "metadata": {
            "tags": []
          },
          "execution_count": 49
        }
      ]
    },
    {
      "cell_type": "code",
      "metadata": {
        "id": "ZTY7183IFwhB",
        "colab_type": "code",
        "outputId": "0600007c-f304-45bc-8aed-dfbba4e1d1bb",
        "colab": {}
      },
      "source": [
        "78.4375 - 78.52"
      ],
      "execution_count": 0,
      "outputs": [
        {
          "output_type": "execute_result",
          "data": {
            "text/plain": [
              "-0.08249999999999602"
            ]
          },
          "metadata": {
            "tags": []
          },
          "execution_count": 50
        }
      ]
    },
    {
      "cell_type": "markdown",
      "metadata": {
        "id": "Uwn_c1uyFwhE",
        "colab_type": "text"
      },
      "source": [
        "So we were off by $.08$.  Not bad."
      ]
    },
    {
      "cell_type": "markdown",
      "metadata": {
        "id": "JTkq_V9kFwhE",
        "colab_type": "text"
      },
      "source": [
        "### Summary"
      ]
    },
    {
      "cell_type": "markdown",
      "metadata": {
        "id": "ySPjifynFwhE",
        "colab_type": "text"
      },
      "source": [
        "### Central Limit Theorem"
      ]
    },
    {
      "cell_type": "code",
      "metadata": {
        "id": "y6dULc_qFwhF",
        "colab_type": "code",
        "colab": {}
      },
      "source": [
        "games_played_cleaned = df.games_played.dropna()"
      ],
      "execution_count": 0,
      "outputs": []
    },
    {
      "cell_type": "code",
      "metadata": {
        "id": "7UPyXG16FwhI",
        "colab_type": "code",
        "outputId": "5170b01a-057d-478b-e6ca-1986c58e349b",
        "colab": {}
      },
      "source": [
        "games_played_cleaned.hist()"
      ],
      "execution_count": 0,
      "outputs": [
        {
          "output_type": "execute_result",
          "data": {
            "text/plain": [
              "<matplotlib.axes._subplots.AxesSubplot at 0x11ff99d10>"
            ]
          },
          "metadata": {
            "tags": []
          },
          "execution_count": 66
        },
        {
          "output_type": "display_data",
          "data": {
            "image/png": "[encoded data removed]",
            "text/plain": [
              "<Figure size 432x288 with 1 Axes>"
            ]
          },
          "metadata": {
            "tags": [],
            "needs_background": "light"
          }
        }
      ]
    },
    {
      "cell_type": "code",
      "metadata": {
        "id": "57F0hUSKFwhK",
        "colab_type": "code",
        "outputId": "afe26cb4-fe97-4a0f-e1cc-76945aeba622",
        "colab": {}
      },
      "source": [
        "sample_played.hist()"
      ],
      "execution_count": 0,
      "outputs": [
        {
          "output_type": "execute_result",
          "data": {
            "text/plain": [
              "<matplotlib.axes._subplots.AxesSubplot at 0x1211c0fd0>"
            ]
          },
          "metadata": {
            "tags": []
          },
          "execution_count": 74
        },
        {
          "output_type": "display_data",
          "data": {
            "image/png": "[encoded data removed]",
            "text/plain": [
              "<Figure size 432x288 with 1 Axes>"
            ]
          },
          "metadata": {
            "tags": [],
            "needs_background": "light"
          }
        }
      ]
    },
    {
      "cell_type": "code",
      "metadata": {
        "id": "Ujcex2CYFwhN",
        "colab_type": "code",
        "outputId": "b75c9d85-f574-4d58-fedb-5f5f8dc124d9",
        "colab": {}
      },
      "source": [
        "sample_played = make_sample(games_played_cleaned)\n",
        "sample_played.hist()"
      ],
      "execution_count": 0,
      "outputs": [
        {
          "output_type": "execute_result",
          "data": {
            "text/plain": [
              "<matplotlib.axes._subplots.AxesSubplot at 0x120fd0a10>"
            ]
          },
          "metadata": {
            "tags": []
          },
          "execution_count": 75
        },
        {
          "output_type": "display_data",
          "data": {
            "image/png": "[encoded data removed]",
            "text/plain": [
              "<Figure size 432x288 with 1 Axes>"
            ]
          },
          "metadata": {
            "tags": [],
            "needs_background": "light"
          }
        }
      ]
    },
    {
      "cell_type": "code",
      "metadata": {
        "id": "pSpfydPvFwhQ",
        "colab_type": "code",
        "colab": {}
      },
      "source": [
        "sample_means_game_played = compute_sampling_distribution(games_played_cleaned, n=100, iters=1000)"
      ],
      "execution_count": 0,
      "outputs": []
    },
    {
      "cell_type": "code",
      "metadata": {
        "id": "h1iSB3HVFwhb",
        "colab_type": "code",
        "outputId": "c198d5e2-c114-483d-dc3e-11e07e0fa081",
        "colab": {}
      },
      "source": [
        "import matplotlib.pyplot as plt\n",
        "\n",
        "plt.hist(sample_means_game_played, bins = 100)\n",
        "plt.show()"
      ],
      "execution_count": 0,
      "outputs": [
        {
          "output_type": "display_data",
          "data": {
            "image/png": "[encoded data removed]",
            "text/plain": [
              "<Figure size 432x288 with 1 Axes>"
            ]
          },
          "metadata": {
            "tags": [],
            "needs_background": "light"
          }
        }
      ]
    },
    {
      "cell_type": "code",
      "metadata": {
        "id": "vh0AQ342Fwhe",
        "colab_type": "code",
        "colab": {}
      },
      "source": [
        "def make_sample(col, n=100):\n",
        "    idcs = col.index\n",
        "    rand_idcs = np.random.choice(idcs, size=n, replace=False)\n",
        "    sample = col[rand_idcs]\n",
        "    return sample"
      ],
      "execution_count": 0,
      "outputs": []
    },
    {
      "cell_type": "code",
      "metadata": {
        "id": "-reRqOHRFwhl",
        "colab_type": "code",
        "colab": {}
      },
      "source": [
        "sample_played = make_sample(games_played_cleaned)"
      ],
      "execution_count": 0,
      "outputs": []
    },
    {
      "cell_type": "markdown",
      "metadata": {
        "id": "WBscE_F4Fwhn",
        "colab_type": "text"
      },
      "source": [
        "### Resources"
      ]
    },
    {
      "cell_type": "markdown",
      "metadata": {
        "id": "M3mh-53uFwho",
        "colab_type": "text"
      },
      "source": [
        "[Sports Reference](https://sportsreference.readthedocs.io/en/stable/)"
      ]
    },
    {
      "cell_type": "markdown",
      "metadata": {
        "id": "WKOBCwQSFwho",
        "colab_type": "text"
      },
      "source": [
        "[Degrees of Freedom](https://blog.minitab.com/blog/statistics-and-quality-data-analysis/what-are-degrees-of-freedom-in-statistics)"
      ]
    }
  ]
}