{
  "nbformat": 4,
  "nbformat_minor": 0,
  "metadata": {
    "kernelspec": {
      "display_name": "Python 3",
      "language": "python",
      "name": "python3"
    },
    "language_info": {
      "codemirror_mode": {
        "name": "ipython",
        "version": 3
      },
      "file_extension": ".py",
      "mimetype": "text/x-python",
      "name": "python",
      "nbconvert_exporter": "python",
      "pygments_lexer": "ipython3",
      "version": "3.7.4"
    },
    "colab": {
      "name": "Copy of 1-pandas-intro-to-dataframes.ipynb",
      "provenance": [],
      "include_colab_link": true
    }
  },
  "cells": [
    {
      "cell_type": "markdown",
      "metadata": {
        "id": "view-in-github",
        "colab_type": "text"
      },
      "source": [
        "<a href=\"https://colab.research.google.com/github/ludawg44/jigsawlabs/blob/master/Copy_of_1_pandas_intro_to_dataframes.ipynb\" target=\"_parent\"><img src=\"https://colab.research.google.com/assets/colab-badge.svg\" alt=\"Open In Colab\"/></a>"
      ]
    },
    {
      "cell_type": "markdown",
      "metadata": {
        "id": "oDkFgkYpn7OY",
        "colab_type": "text"
      },
      "source": [
        "## Introduction to Pandas dataframes"
      ]
    },
    {
      "cell_type": "markdown",
      "metadata": {
        "id": "0qQWkcaDn7Oa",
        "colab_type": "text"
      },
      "source": [
        "> \"If you count something you find interesting, you will learn something interesting.\"\n",
        "\n",
        "> Atul Gawande"
      ]
    },
    {
      "cell_type": "markdown",
      "metadata": {
        "id": "KDp5uqJSn7Ob",
        "colab_type": "text"
      },
      "source": [
        "### Introduction"
      ]
    },
    {
      "cell_type": "markdown",
      "metadata": {
        "id": "V_k1zQdIn7Oc",
        "colab_type": "text"
      },
      "source": [
        "The principal goals in statistics and data science is to describe and explain our world.  Simply describing our world with data involves descriptive statistics.  For example, if we want to learn more about the movie industry, then one of our steps will be to begin and explore movie data.  \n",
        "\n",
        "Over the next several lessons, we'll be learning how to use Pandas to do explore our data."
      ]
    },
    {
      "cell_type": "markdown",
      "metadata": {
        "id": "9y9YZ_f-n7Od",
        "colab_type": "text"
      },
      "source": [
        "### Gathering our data"
      ]
    },
    {
      "cell_type": "markdown",
      "metadata": {
        "id": "IpG7UuILn7Oe",
        "colab_type": "text"
      },
      "source": [
        "Let's start by importing pandas, and referring to the library as `pd`.  "
      ]
    },
    {
      "cell_type": "code",
      "metadata": {
        "id": "PawAzCyGn7Oe",
        "colab_type": "code",
        "colab": {}
      },
      "source": [
        "import pandas as pd"
      ],
      "execution_count": 0,
      "outputs": []
    },
    {
      "cell_type": "markdown",
      "metadata": {
        "id": "qrdFjCh4n7Oj",
        "colab_type": "text"
      },
      "source": [
        "Then we'll gather some data from a CSV file."
      ]
    },
    {
      "cell_type": "code",
      "metadata": {
        "id": "I21Zscmjn7Oj",
        "colab_type": "code",
        "colab": {}
      },
      "source": [
        "movies_df = pd.read_csv('https://raw.githubusercontent.com/fivethirtyeight/data/master/bechdel/movies.csv')"
      ],
      "execution_count": 0,
      "outputs": []
    },
    {
      "cell_type": "markdown",
      "metadata": {
        "id": "5sn1kOLBn7Om",
        "colab_type": "text"
      },
      "source": [
        "What we have just created is called a pandas dataframe."
      ]
    },
    {
      "cell_type": "code",
      "metadata": {
        "id": "y_72SAatn7On",
        "colab_type": "code",
        "outputId": "61d38867-6e50-4a88-f771-d50274bd745d",
        "colab": {}
      },
      "source": [
        "type(movies_df)"
      ],
      "execution_count": 0,
      "outputs": [
        {
          "output_type": "execute_result",
          "data": {
            "text/plain": [
              "pandas.core.frame.DataFrame"
            ]
          },
          "metadata": {
            "tags": []
          },
          "execution_count": 4
        }
      ]
    },
    {
      "cell_type": "markdown",
      "metadata": {
        "id": "cWmAdVEtn7Or",
        "colab_type": "text"
      },
      "source": [
        "Now a pandas dataframe is essentially a table of data, and we can view the first few rows of the data frame just like we would a list.  "
      ]
    },
    {
      "cell_type": "code",
      "metadata": {
        "id": "6eJzLdyTn7Os",
        "colab_type": "code",
        "outputId": "2f17b44f-76ba-433b-e5c0-71e2c5341b35",
        "colab": {}
      },
      "source": [
        "movies_df[:3]"
      ],
      "execution_count": 0,
      "outputs": [
        {
          "output_type": "execute_result",
          "data": {
            "text/html": [
              "<div>\n",
              "<style scoped>\n",
              "    .dataframe tbody tr th:only-of-type {\n",
              "        vertical-align: middle;\n",
              "    }\n",
              "\n",
              "    .dataframe tbody tr th {\n",
              "        vertical-align: top;\n",
              "    }\n",
              "\n",
              "    .dataframe thead th {\n",
              "        text-align: right;\n",
              "    }\n",
              "</style>\n",
              "<table border=\"1\" class=\"dataframe\">\n",
              "  <thead>\n",
              "    <tr style=\"text-align: right;\">\n",
              "      <th></th>\n",
              "      <th>year</th>\n",
              "      <th>imdb</th>\n",
              "      <th>title</th>\n",
              "      <th>test</th>\n",
              "      <th>clean_test</th>\n",
              "      <th>binary</th>\n",
              "      <th>budget</th>\n",
              "      <th>domgross</th>\n",
              "      <th>intgross</th>\n",
              "      <th>code</th>\n",
              "      <th>budget_2013$</th>\n",
              "      <th>domgross_2013$</th>\n",
              "      <th>intgross_2013$</th>\n",
              "      <th>period code</th>\n",
              "      <th>decade code</th>\n",
              "    </tr>\n",
              "  </thead>\n",
              "  <tbody>\n",
              "    <tr>\n",
              "      <th>0</th>\n",
              "      <td>2013</td>\n",
              "      <td>tt1711425</td>\n",
              "      <td>21 &amp;amp; Over</td>\n",
              "      <td>notalk</td>\n",
              "      <td>notalk</td>\n",
              "      <td>FAIL</td>\n",
              "      <td>13000000</td>\n",
              "      <td>25682380.0</td>\n",
              "      <td>42195766.0</td>\n",
              "      <td>2013FAIL</td>\n",
              "      <td>13000000</td>\n",
              "      <td>25682380.0</td>\n",
              "      <td>42195766.0</td>\n",
              "      <td>1.0</td>\n",
              "      <td>1.0</td>\n",
              "    </tr>\n",
              "    <tr>\n",
              "      <th>1</th>\n",
              "      <td>2012</td>\n",
              "      <td>tt1343727</td>\n",
              "      <td>Dredd 3D</td>\n",
              "      <td>ok-disagree</td>\n",
              "      <td>ok</td>\n",
              "      <td>PASS</td>\n",
              "      <td>45000000</td>\n",
              "      <td>13414714.0</td>\n",
              "      <td>40868994.0</td>\n",
              "      <td>2012PASS</td>\n",
              "      <td>45658735</td>\n",
              "      <td>13611086.0</td>\n",
              "      <td>41467257.0</td>\n",
              "      <td>1.0</td>\n",
              "      <td>1.0</td>\n",
              "    </tr>\n",
              "    <tr>\n",
              "      <th>2</th>\n",
              "      <td>2013</td>\n",
              "      <td>tt2024544</td>\n",
              "      <td>12 Years a Slave</td>\n",
              "      <td>notalk-disagree</td>\n",
              "      <td>notalk</td>\n",
              "      <td>FAIL</td>\n",
              "      <td>20000000</td>\n",
              "      <td>53107035.0</td>\n",
              "      <td>158607035.0</td>\n",
              "      <td>2013FAIL</td>\n",
              "      <td>20000000</td>\n",
              "      <td>53107035.0</td>\n",
              "      <td>158607035.0</td>\n",
              "      <td>1.0</td>\n",
              "      <td>1.0</td>\n",
              "    </tr>\n",
              "  </tbody>\n",
              "</table>\n",
              "</div>"
            ],
            "text/plain": [
              "   year       imdb             title             test clean_test binary  \\\n",
              "0  2013  tt1711425     21 &amp; Over           notalk     notalk   FAIL   \n",
              "1  2012  tt1343727          Dredd 3D      ok-disagree         ok   PASS   \n",
              "2  2013  tt2024544  12 Years a Slave  notalk-disagree     notalk   FAIL   \n",
              "\n",
              "     budget    domgross     intgross      code  budget_2013$  domgross_2013$  \\\n",
              "0  13000000  25682380.0   42195766.0  2013FAIL      13000000      25682380.0   \n",
              "1  45000000  13414714.0   40868994.0  2012PASS      45658735      13611086.0   \n",
              "2  20000000  53107035.0  158607035.0  2013FAIL      20000000      53107035.0   \n",
              "\n",
              "   intgross_2013$  period code  decade code  \n",
              "0      42195766.0          1.0          1.0  \n",
              "1      41467257.0          1.0          1.0  \n",
              "2     158607035.0          1.0          1.0  "
            ]
          },
          "metadata": {
            "tags": []
          },
          "execution_count": 5
        }
      ]
    },
    {
      "cell_type": "markdown",
      "metadata": {
        "id": "a-V423FEn7Ov",
        "colab_type": "text"
      },
      "source": [
        "Just like working with tables in SQL or excel, we can think of our dataframe as consisting of rows and columns."
      ]
    },
    {
      "cell_type": "markdown",
      "metadata": {
        "id": "Sq4f8fMGn7Ov",
        "colab_type": "text"
      },
      "source": [
        "> Now one way to think of a dataframe is like a nested data structure in Python, like a list of dictionaries where each row is a list. \n",
        "\n",
        "And we can even convert our dataframe into a list of dictionaries like so:"
      ]
    },
    {
      "cell_type": "code",
      "metadata": {
        "id": "RbAjct35n7Ow",
        "colab_type": "code",
        "outputId": "8cfc574e-403f-4d01-9b77-ba686bad0234",
        "colab": {}
      },
      "source": [
        "movie_records = movies_df.to_dict('records')\n",
        "movie_records[:2]"
      ],
      "execution_count": 0,
      "outputs": [
        {
          "output_type": "execute_result",
          "data": {
            "text/plain": [
              "[{'year': 2013,\n",
              "  'imdb': 'tt1711425',\n",
              "  'title': '21 &amp; Over',\n",
              "  'test': 'notalk',\n",
              "  'clean_test': 'notalk',\n",
              "  'binary': 'FAIL',\n",
              "  'budget': 13000000,\n",
              "  'domgross': 25682380.0,\n",
              "  'intgross': 42195766.0,\n",
              "  'code': '2013FAIL',\n",
              "  'budget_2013$': 13000000,\n",
              "  'domgross_2013$': 25682380.0,\n",
              "  'intgross_2013$': 42195766.0,\n",
              "  'period code': 1.0,\n",
              "  'decade code': 1.0},\n",
              " {'year': 2012,\n",
              "  'imdb': 'tt1343727',\n",
              "  'title': 'Dredd 3D',\n",
              "  'test': 'ok-disagree',\n",
              "  'clean_test': 'ok',\n",
              "  'binary': 'PASS',\n",
              "  'budget': 45000000,\n",
              "  'domgross': 13414714.0,\n",
              "  'intgross': 40868994.0,\n",
              "  'code': '2012PASS',\n",
              "  'budget_2013$': 45658735,\n",
              "  'domgross_2013$': 13611086.0,\n",
              "  'intgross_2013$': 41467257.0,\n",
              "  'period code': 1.0,\n",
              "  'decade code': 1.0}]"
            ]
          },
          "metadata": {
            "tags": []
          },
          "execution_count": 25
        }
      ]
    },
    {
      "cell_type": "markdown",
      "metadata": {
        "id": "SaCB-y0ln7O0",
        "colab_type": "text"
      },
      "source": [
        "Or we can think of our dataframe like a list of lists, which we get if we call `to_numpy` (technically we get an array of numpy arrays). "
      ]
    },
    {
      "cell_type": "code",
      "metadata": {
        "id": "D-4k0OP1n7O1",
        "colab_type": "code",
        "outputId": "1a59cbdc-5600-4938-d6dd-fd5d676284ad",
        "colab": {}
      },
      "source": [
        "movies_df.to_numpy()"
      ],
      "execution_count": 0,
      "outputs": [
        {
          "output_type": "execute_result",
          "data": {
            "text/plain": [
              "array([[2013, 'tt1711425', '21 &amp; Over', ..., 42195766.0, 1.0, 1.0],\n",
              "       [2012, 'tt1343727', 'Dredd 3D', ..., 41467257.0, 1.0, 1.0],\n",
              "       [2013, 'tt2024544', '12 Years a Slave', ..., 158607035.0, 1.0,\n",
              "        1.0],\n",
              "       ...,\n",
              "       [1971, 'tt0067116', 'The French Connection', ..., 236848653.0,\n",
              "        nan, nan],\n",
              "       [1971, 'tt0067992', 'Willy Wonka &amp; the Chocolate Factory',\n",
              "        ..., 23018057.0, nan, nan],\n",
              "       [1970, 'tt0065466', 'Beyond the Valley of the Dolls', ...,\n",
              "        53978683.0, nan, nan]], dtype=object)"
            ]
          },
          "metadata": {
            "tags": []
          },
          "execution_count": 26
        }
      ]
    },
    {
      "cell_type": "markdown",
      "metadata": {
        "id": "k4stI60Kn7O4",
        "colab_type": "text"
      },
      "source": [
        "But either way, a nice way to think about a dataframe is as a nested data structure."
      ]
    },
    {
      "cell_type": "markdown",
      "metadata": {
        "id": "Hb6g0M__n7O4",
        "colab_type": "text"
      },
      "source": [
        "> A **dataframe** is pandas object for storing data in a tabular format.  It consists of rows and columns, and can be thought of as: \n",
        ">    * A list of dictionaries, where each dictionary represents a different row OR\n",
        ">    * A list of lists where each inner list represents a different row"
      ]
    },
    {
      "cell_type": "markdown",
      "metadata": {
        "id": "ba9JhjSon7O5",
        "colab_type": "text"
      },
      "source": [
        "### Working with a series"
      ]
    },
    {
      "cell_type": "markdown",
      "metadata": {
        "id": "DgMzLxoun7O5",
        "colab_type": "text"
      },
      "source": [
        "We'll talk more about dataframes later, but for now, let's select a single column from our dataframe."
      ]
    },
    {
      "cell_type": "code",
      "metadata": {
        "id": "wSz2WyDwn7O6",
        "colab_type": "code",
        "outputId": "18f7018c-f8ee-40cc-b58e-f438e34716f9",
        "colab": {}
      },
      "source": [
        "year_ser = movies_df['year']\n",
        "year_ser[:2]"
      ],
      "execution_count": 0,
      "outputs": [
        {
          "output_type": "execute_result",
          "data": {
            "text/plain": [
              "0    2013\n",
              "1    2012\n",
              "Name: year, dtype: int64"
            ]
          },
          "metadata": {
            "tags": []
          },
          "execution_count": 23
        }
      ]
    },
    {
      "cell_type": "markdown",
      "metadata": {
        "id": "axJ3E79Wn7O8",
        "colab_type": "text"
      },
      "source": [
        "In the first line above, we selected the first column, `year` and then, in the next line, we selected the first two elements from year.  Let's see what this column is."
      ]
    },
    {
      "cell_type": "code",
      "metadata": {
        "id": "bI2iPJC7n7PA",
        "colab_type": "code",
        "outputId": "76c3813a-cf08-4196-f2e8-63c377fbbdba",
        "colab": {}
      },
      "source": [
        "type(year_ser)"
      ],
      "execution_count": 0,
      "outputs": [
        {
          "output_type": "execute_result",
          "data": {
            "text/plain": [
              "pandas.core.series.Series"
            ]
          },
          "metadata": {
            "tags": []
          },
          "execution_count": 24
        }
      ]
    },
    {
      "cell_type": "markdown",
      "metadata": {
        "id": "msgYLREyn7PL",
        "colab_type": "text"
      },
      "source": [
        "So this is a different data structure, and it's called a series.  Essentially, a series is like a list in Python.  And we can see this by calling the `to_list` method."
      ]
    },
    {
      "cell_type": "code",
      "metadata": {
        "id": "ITOL4NWtn7PM",
        "colab_type": "code",
        "outputId": "0145f858-480d-494b-b488-7b3722ded23f",
        "colab": {}
      },
      "source": [
        "year_ser.to_list()[:2]"
      ],
      "execution_count": 0,
      "outputs": [
        {
          "output_type": "execute_result",
          "data": {
            "text/plain": [
              "[2013, 2012]"
            ]
          },
          "metadata": {
            "tags": []
          },
          "execution_count": 29
        }
      ]
    },
    {
      "cell_type": "markdown",
      "metadata": {
        "id": "7alQpsHun7PR",
        "colab_type": "text"
      },
      "source": [
        "Above we have a Python list."
      ]
    },
    {
      "cell_type": "markdown",
      "metadata": {
        "id": "NPi2SJ4nn7PR",
        "colab_type": "text"
      },
      "source": [
        "So we can think of a dataframe as a nested data structure in Python and a series as a Python list. "
      ]
    },
    {
      "cell_type": "markdown",
      "metadata": {
        "id": "bpyaPQRjn7PR",
        "colab_type": "text"
      },
      "source": [
        "### The index"
      ]
    },
    {
      "cell_type": "markdown",
      "metadata": {
        "id": "ngEsIKEYn7PS",
        "colab_type": "text"
      },
      "source": [
        "Let's take another look at our dataframe."
      ]
    },
    {
      "cell_type": "code",
      "metadata": {
        "id": "HYUrVXbJn7PT",
        "colab_type": "code",
        "outputId": "a80e49d3-4ccd-453e-d9ca-a6d7890f1bd8",
        "colab": {}
      },
      "source": [
        "movies_df[:2]"
      ],
      "execution_count": 0,
      "outputs": [
        {
          "output_type": "execute_result",
          "data": {
            "text/html": [
              "<div>\n",
              "<style scoped>\n",
              "    .dataframe tbody tr th:only-of-type {\n",
              "        vertical-align: middle;\n",
              "    }\n",
              "\n",
              "    .dataframe tbody tr th {\n",
              "        vertical-align: top;\n",
              "    }\n",
              "\n",
              "    .dataframe thead th {\n",
              "        text-align: right;\n",
              "    }\n",
              "</style>\n",
              "<table border=\"1\" class=\"dataframe\">\n",
              "  <thead>\n",
              "    <tr style=\"text-align: right;\">\n",
              "      <th></th>\n",
              "      <th>year</th>\n",
              "      <th>imdb</th>\n",
              "      <th>title</th>\n",
              "      <th>test</th>\n",
              "      <th>clean_test</th>\n",
              "      <th>binary</th>\n",
              "      <th>budget</th>\n",
              "      <th>domgross</th>\n",
              "      <th>intgross</th>\n",
              "      <th>code</th>\n",
              "      <th>budget_2013$</th>\n",
              "      <th>domgross_2013$</th>\n",
              "      <th>intgross_2013$</th>\n",
              "      <th>period_code</th>\n",
              "      <th>decade_code</th>\n",
              "    </tr>\n",
              "  </thead>\n",
              "  <tbody>\n",
              "    <tr>\n",
              "      <th>0</th>\n",
              "      <td>2013</td>\n",
              "      <td>tt1711425</td>\n",
              "      <td>21 &amp;amp; Over</td>\n",
              "      <td>notalk</td>\n",
              "      <td>notalk</td>\n",
              "      <td>FAIL</td>\n",
              "      <td>13000000</td>\n",
              "      <td>25682380.0</td>\n",
              "      <td>42195766.0</td>\n",
              "      <td>2013FAIL</td>\n",
              "      <td>13000000</td>\n",
              "      <td>25682380.0</td>\n",
              "      <td>42195766.0</td>\n",
              "      <td>1.0</td>\n",
              "      <td>1.0</td>\n",
              "    </tr>\n",
              "    <tr>\n",
              "      <th>1</th>\n",
              "      <td>2012</td>\n",
              "      <td>tt1343727</td>\n",
              "      <td>Dredd 3D</td>\n",
              "      <td>ok-disagree</td>\n",
              "      <td>ok</td>\n",
              "      <td>PASS</td>\n",
              "      <td>45000000</td>\n",
              "      <td>13414714.0</td>\n",
              "      <td>40868994.0</td>\n",
              "      <td>2012PASS</td>\n",
              "      <td>45658735</td>\n",
              "      <td>13611086.0</td>\n",
              "      <td>41467257.0</td>\n",
              "      <td>1.0</td>\n",
              "      <td>1.0</td>\n",
              "    </tr>\n",
              "  </tbody>\n",
              "</table>\n",
              "</div>"
            ],
            "text/plain": [
              "   year       imdb          title         test clean_test binary    budget  \\\n",
              "0  2013  tt1711425  21 &amp; Over       notalk     notalk   FAIL  13000000   \n",
              "1  2012  tt1343727       Dredd 3D  ok-disagree         ok   PASS  45000000   \n",
              "\n",
              "     domgross    intgross      code  budget_2013$  domgross_2013$  \\\n",
              "0  25682380.0  42195766.0  2013FAIL      13000000      25682380.0   \n",
              "1  13414714.0  40868994.0  2012PASS      45658735      13611086.0   \n",
              "\n",
              "   intgross_2013$  period_code  decade_code  \n",
              "0      42195766.0          1.0          1.0  \n",
              "1      41467257.0          1.0          1.0  "
            ]
          },
          "metadata": {
            "tags": []
          },
          "execution_count": 52
        }
      ]
    },
    {
      "cell_type": "markdown",
      "metadata": {
        "id": "UTSiZDxIn7PW",
        "colab_type": "text"
      },
      "source": [
        "Those numbers of `0` and `1` are part of the index series.  Let's take a look at the index of `movies_df`."
      ]
    },
    {
      "cell_type": "code",
      "metadata": {
        "id": "es_GRLwMn7PX",
        "colab_type": "code",
        "outputId": "c3a1134d-8a72-4689-ba21-112ae5b8c5f0",
        "colab": {}
      },
      "source": [
        "movies_df.index"
      ],
      "execution_count": 0,
      "outputs": [
        {
          "output_type": "execute_result",
          "data": {
            "text/plain": [
              "RangeIndex(start=0, stop=1794, step=1)"
            ]
          },
          "metadata": {
            "tags": []
          },
          "execution_count": 51
        }
      ]
    },
    {
      "cell_type": "markdown",
      "metadata": {
        "id": "Yl51FsdUn7Pb",
        "colab_type": "text"
      },
      "source": [
        "An index is a series, and so is essentially a list that identifies each row in the table.  The only rules we really have for the index is that all of the elements are unique and that they are the same as the number of rows.  We can change the index if we like."
      ]
    },
    {
      "cell_type": "code",
      "metadata": {
        "id": "k5NGFilFn7Pb",
        "colab_type": "code",
        "colab": {}
      },
      "source": [
        "movies_df.index = list(range(3, len(movies_df) + 3))"
      ],
      "execution_count": 0,
      "outputs": []
    },
    {
      "cell_type": "code",
      "metadata": {
        "id": "5HPZHCVKn7Pe",
        "colab_type": "code",
        "outputId": "f7508fa4-712d-4884-8430-65dbb53b289f",
        "colab": {}
      },
      "source": [
        "movies_df[:2]"
      ],
      "execution_count": 0,
      "outputs": [
        {
          "output_type": "execute_result",
          "data": {
            "text/html": [
              "<div>\n",
              "<style scoped>\n",
              "    .dataframe tbody tr th:only-of-type {\n",
              "        vertical-align: middle;\n",
              "    }\n",
              "\n",
              "    .dataframe tbody tr th {\n",
              "        vertical-align: top;\n",
              "    }\n",
              "\n",
              "    .dataframe thead th {\n",
              "        text-align: right;\n",
              "    }\n",
              "</style>\n",
              "<table border=\"1\" class=\"dataframe\">\n",
              "  <thead>\n",
              "    <tr style=\"text-align: right;\">\n",
              "      <th></th>\n",
              "      <th>year</th>\n",
              "      <th>imdb</th>\n",
              "      <th>title</th>\n",
              "      <th>test</th>\n",
              "      <th>clean_test</th>\n",
              "      <th>binary</th>\n",
              "      <th>budget</th>\n",
              "      <th>domgross</th>\n",
              "      <th>intgross</th>\n",
              "      <th>code</th>\n",
              "      <th>budget_2013$</th>\n",
              "      <th>domgross_2013$</th>\n",
              "      <th>intgross_2013$</th>\n",
              "      <th>period_code</th>\n",
              "      <th>decade_code</th>\n",
              "    </tr>\n",
              "  </thead>\n",
              "  <tbody>\n",
              "    <tr>\n",
              "      <th>3</th>\n",
              "      <td>2013</td>\n",
              "      <td>tt1711425</td>\n",
              "      <td>21 &amp;amp; Over</td>\n",
              "      <td>notalk</td>\n",
              "      <td>notalk</td>\n",
              "      <td>FAIL</td>\n",
              "      <td>13000000</td>\n",
              "      <td>25682380.0</td>\n",
              "      <td>42195766.0</td>\n",
              "      <td>2013FAIL</td>\n",
              "      <td>13000000</td>\n",
              "      <td>25682380.0</td>\n",
              "      <td>42195766.0</td>\n",
              "      <td>1.0</td>\n",
              "      <td>1.0</td>\n",
              "    </tr>\n",
              "    <tr>\n",
              "      <th>4</th>\n",
              "      <td>2012</td>\n",
              "      <td>tt1343727</td>\n",
              "      <td>Dredd 3D</td>\n",
              "      <td>ok-disagree</td>\n",
              "      <td>ok</td>\n",
              "      <td>PASS</td>\n",
              "      <td>45000000</td>\n",
              "      <td>13414714.0</td>\n",
              "      <td>40868994.0</td>\n",
              "      <td>2012PASS</td>\n",
              "      <td>45658735</td>\n",
              "      <td>13611086.0</td>\n",
              "      <td>41467257.0</td>\n",
              "      <td>1.0</td>\n",
              "      <td>1.0</td>\n",
              "    </tr>\n",
              "  </tbody>\n",
              "</table>\n",
              "</div>"
            ],
            "text/plain": [
              "   year       imdb          title         test clean_test binary    budget  \\\n",
              "3  2013  tt1711425  21 &amp; Over       notalk     notalk   FAIL  13000000   \n",
              "4  2012  tt1343727       Dredd 3D  ok-disagree         ok   PASS  45000000   \n",
              "\n",
              "     domgross    intgross      code  budget_2013$  domgross_2013$  \\\n",
              "3  25682380.0  42195766.0  2013FAIL      13000000      25682380.0   \n",
              "4  13414714.0  40868994.0  2012PASS      45658735      13611086.0   \n",
              "\n",
              "   intgross_2013$  period_code  decade_code  \n",
              "3      42195766.0          1.0          1.0  \n",
              "4      41467257.0          1.0          1.0  "
            ]
          },
          "metadata": {
            "tags": []
          },
          "execution_count": 55
        }
      ]
    },
    {
      "cell_type": "markdown",
      "metadata": {
        "id": "rAsJL2Bvn7Pi",
        "colab_type": "text"
      },
      "source": [
        "Oftentimes, we'll just leave the index as is, but sometimes it's nice to have the index match certain numbers, like the database ids."
      ]
    },
    {
      "cell_type": "markdown",
      "metadata": {
        "id": "O6Pf41ron7Pj",
        "colab_type": "text"
      },
      "source": [
        "### Summary"
      ]
    },
    {
      "cell_type": "markdown",
      "metadata": {
        "id": "QetCCEDLn7Pj",
        "colab_type": "text"
      },
      "source": [
        "In this lesson, we were introduced to the dataframe, the series and the index.  We saw that we can think of a dataframe as a table, or a nested data structure in Python.  And we can think of a series as a Python list.  Finally, each dataframe has an index which allows us to reference the rows of a table."
      ]
    }
  ]
}