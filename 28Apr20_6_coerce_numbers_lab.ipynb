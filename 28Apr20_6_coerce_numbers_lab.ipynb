{
  "nbformat": 4,
  "nbformat_minor": 0,
  "metadata": {
    "kernelspec": {
      "display_name": "Python 3",
      "language": "python",
      "name": "python3"
    },
    "language_info": {
      "codemirror_mode": {
        "name": "ipython",
        "version": 3
      },
      "file_extension": ".py",
      "mimetype": "text/x-python",
      "name": "python",
      "nbconvert_exporter": "python",
      "pygments_lexer": "ipython3",
      "version": "3.7.4"
    },
    "colab": {
      "name": "6_coerce_numbers_lab.ipynb",
      "provenance": [],
      "include_colab_link": true
    }
  },
  "cells": [
    {
      "cell_type": "markdown",
      "metadata": {
        "id": "view-in-github",
        "colab_type": "text"
      },
      "source": [
        "<a href=\"https://colab.research.google.com/github/ludawg44/jigsawlabs/blob/master/28Apr20_6_coerce_numbers_lab.ipynb\" target=\"_parent\"><img src=\"https://colab.research.google.com/assets/colab-badge.svg\" alt=\"Open In Colab\"/></a>"
      ]
    },
    {
      "cell_type": "markdown",
      "metadata": {
        "id": "Szs0jqDjG56I",
        "colab_type": "text"
      },
      "source": [
        "# Numerical Data Lab"
      ]
    },
    {
      "cell_type": "markdown",
      "metadata": {
        "id": "zysp7ur0G56J",
        "colab_type": "text"
      },
      "source": [
        "## Introduction\n",
        "In this lab we will use the feature lib to transform the numerical data in the `car_data.csv` dataset. Time to start."
      ]
    },
    {
      "cell_type": "code",
      "metadata": {
        "id": "ZLCNKo1BG56K",
        "colab_type": "code",
        "colab": {}
      },
      "source": [
        "import pandas as pd\n",
        "url = \"https://raw.githubusercontent.com/jigsawlabs-student/engineering-large-datasets/master/car_data.csv\"\n",
        "df = pd.read_csv(url)"
      ],
      "execution_count": 0,
      "outputs": []
    },
    {
      "cell_type": "code",
      "metadata": {
        "id": "v8_26TJXG56O",
        "colab_type": "code",
        "outputId": "fdf80779-3e22-4579-fa29-1523827e4a33",
        "colab": {
          "base_uri": "https://localhost:8080/",
          "height": 111
        }
      },
      "source": [
        "df[:2]"
      ],
      "execution_count": 0,
      "outputs": [
        {
          "output_type": "execute_result",
          "data": {
            "text/html": [
              "<div>\n",
              "<style scoped>\n",
              "    .dataframe tbody tr th:only-of-type {\n",
              "        vertical-align: middle;\n",
              "    }\n",
              "\n",
              "    .dataframe tbody tr th {\n",
              "        vertical-align: top;\n",
              "    }\n",
              "\n",
              "    .dataframe thead th {\n",
              "        text-align: right;\n",
              "    }\n",
              "</style>\n",
              "<table border=\"1\" class=\"dataframe\">\n",
              "  <thead>\n",
              "    <tr style=\"text-align: right;\">\n",
              "      <th></th>\n",
              "      <th>Car_Name</th>\n",
              "      <th>Year</th>\n",
              "      <th>Selling_Price</th>\n",
              "      <th>Present_Price</th>\n",
              "      <th>Kms_Driven</th>\n",
              "      <th>Fuel_Type</th>\n",
              "      <th>Seller_Type</th>\n",
              "      <th>Transmission</th>\n",
              "      <th>Owner</th>\n",
              "    </tr>\n",
              "  </thead>\n",
              "  <tbody>\n",
              "    <tr>\n",
              "      <th>0</th>\n",
              "      <td>ritz</td>\n",
              "      <td>6 years ago</td>\n",
              "      <td>$3.35</td>\n",
              "      <td>$5.59</td>\n",
              "      <td>27000</td>\n",
              "      <td>Petrol</td>\n",
              "      <td>Dealer</td>\n",
              "      <td>Manual</td>\n",
              "      <td>0</td>\n",
              "    </tr>\n",
              "    <tr>\n",
              "      <th>1</th>\n",
              "      <td>sx4</td>\n",
              "      <td>7 years ago</td>\n",
              "      <td>$4.75</td>\n",
              "      <td>$9.54</td>\n",
              "      <td>43000</td>\n",
              "      <td>Diesel</td>\n",
              "      <td>Dealer</td>\n",
              "      <td>Manual</td>\n",
              "      <td>0</td>\n",
              "    </tr>\n",
              "  </tbody>\n",
              "</table>\n",
              "</div>"
            ],
            "text/plain": [
              "  Car_Name         Year Selling_Price  ... Seller_Type  Transmission Owner\n",
              "0     ritz  6 years ago         $3.35  ...      Dealer        Manual     0\n",
              "1      sx4  7 years ago         $4.75  ...      Dealer        Manual     0\n",
              "\n",
              "[2 rows x 9 columns]"
            ]
          },
          "metadata": {
            "tags": []
          },
          "execution_count": 22
        }
      ]
    },
    {
      "cell_type": "markdown",
      "metadata": {
        "id": "VzswAeuVG56S",
        "colab_type": "text"
      },
      "source": [
        "We can see that two of the columns have numeric data in them, `Selling_Price` and `Present_Price`.  Let's just select them, as we have a small enough dataset to spot them."
      ]
    },
    {
      "cell_type": "code",
      "metadata": {
        "id": "hs4IFyHMG56S",
        "colab_type": "code",
        "colab": {}
      },
      "source": [
        "almost_nums_df = df[['Selling_Price', 'Present_Price']]"
      ],
      "execution_count": 0,
      "outputs": []
    },
    {
      "cell_type": "markdown",
      "metadata": {
        "id": "Non9kQrzG56V",
        "colab_type": "text"
      },
      "source": [
        "Ok, now let's use a list comprehension to create our steps, and then coerce the data with a DataFrameMapper. \n",
        "\n",
        "> Try not to reference the previous reading at first.  Only look to it if you get stuck."
      ]
    },
    {
      "cell_type": "code",
      "metadata": {
        "id": "h194A3f5G56W",
        "colab_type": "code",
        "colab": {}
      },
      "source": [
        "import pandas as pd\n",
        "import numpy as np\n",
        "\n",
        "def price_to_num(val):\n",
        "    price = val[1:]\n",
        "    return float(price)"
      ],
      "execution_count": 0,
      "outputs": []
    },
    {
      "cell_type": "code",
      "metadata": {
        "id": "5KEiqvgRG56Z",
        "colab_type": "code",
        "outputId": "ffd1642c-f538-4512-b240-08ff05c98116",
        "colab": {
          "base_uri": "https://localhost:8080/",
          "height": 105
        }
      },
      "source": [
        "from sklearn_pandas import DataFrameMapper, FunctionTransformer\n",
        "\n",
        "steps = [(column_name, FunctionTransformer(price_to_num)) for column_name in almost_nums_df.columns]\n",
        "steps"
      ],
      "execution_count": 0,
      "outputs": [
        {
          "output_type": "stream",
          "text": [
            "/usr/local/lib/python3.6/dist-packages/sklearn/base.py:197: FutureWarning: From version 0.24, get_params will raise an AttributeError if a parameter cannot be retrieved as an instance attribute. Previously it would return None.\n",
            "  FutureWarning)\n"
          ],
          "name": "stderr"
        },
        {
          "output_type": "execute_result",
          "data": {
            "text/plain": [
              "[('Selling_Price', FunctionTransformer(func=None)),\n",
              " ('Present_Price', FunctionTransformer(func=None))]"
            ]
          },
          "metadata": {
            "tags": []
          },
          "execution_count": 25
        }
      ]
    },
    {
      "cell_type": "code",
      "metadata": {
        "id": "amGzxIlqG56c",
        "colab_type": "code",
        "colab": {}
      },
      "source": [
        "mapper = DataFrameMapper(steps, df_out=True)"
      ],
      "execution_count": 0,
      "outputs": []
    },
    {
      "cell_type": "code",
      "metadata": {
        "id": "SR8dQ5MfG56f",
        "colab_type": "code",
        "outputId": "c47257ee-2069-41e4-82a0-6b652d50c9e2",
        "colab": {
          "base_uri": "https://localhost:8080/",
          "height": 204
        }
      },
      "source": [
        "transformed_cols = mapper.fit_transform(df)\n",
        "transformed_cols[:5]\n",
        "\n",
        "# \tSelling_Price\tPresent_Price\n",
        "# 0\t3.35\t5.59\n",
        "# 1\t4.75\t9.54\n",
        "# 2\t7.25\t9.85\n",
        "# 3\t2.85\t4.15\n",
        "# 4\t4.60\t6.87"
      ],
      "execution_count": 0,
      "outputs": [
        {
          "output_type": "execute_result",
          "data": {
            "text/html": [
              "<div>\n",
              "<style scoped>\n",
              "    .dataframe tbody tr th:only-of-type {\n",
              "        vertical-align: middle;\n",
              "    }\n",
              "\n",
              "    .dataframe tbody tr th {\n",
              "        vertical-align: top;\n",
              "    }\n",
              "\n",
              "    .dataframe thead th {\n",
              "        text-align: right;\n",
              "    }\n",
              "</style>\n",
              "<table border=\"1\" class=\"dataframe\">\n",
              "  <thead>\n",
              "    <tr style=\"text-align: right;\">\n",
              "      <th></th>\n",
              "      <th>Selling_Price</th>\n",
              "      <th>Present_Price</th>\n",
              "    </tr>\n",
              "  </thead>\n",
              "  <tbody>\n",
              "    <tr>\n",
              "      <th>0</th>\n",
              "      <td>3.35</td>\n",
              "      <td>5.59</td>\n",
              "    </tr>\n",
              "    <tr>\n",
              "      <th>1</th>\n",
              "      <td>4.75</td>\n",
              "      <td>9.54</td>\n",
              "    </tr>\n",
              "    <tr>\n",
              "      <th>2</th>\n",
              "      <td>7.25</td>\n",
              "      <td>9.85</td>\n",
              "    </tr>\n",
              "    <tr>\n",
              "      <th>3</th>\n",
              "      <td>2.85</td>\n",
              "      <td>4.15</td>\n",
              "    </tr>\n",
              "    <tr>\n",
              "      <th>4</th>\n",
              "      <td>4.60</td>\n",
              "      <td>6.87</td>\n",
              "    </tr>\n",
              "  </tbody>\n",
              "</table>\n",
              "</div>"
            ],
            "text/plain": [
              "   Selling_Price  Present_Price\n",
              "0           3.35           5.59\n",
              "1           4.75           9.54\n",
              "2           7.25           9.85\n",
              "3           2.85           4.15\n",
              "4           4.60           6.87"
            ]
          },
          "metadata": {
            "tags": []
          },
          "execution_count": 27
        }
      ]
    },
    {
      "cell_type": "markdown",
      "metadata": {
        "id": "1a6clCHGG56j",
        "colab_type": "text"
      },
      "source": [
        "### Working with Year"
      ]
    },
    {
      "cell_type": "markdown",
      "metadata": {
        "id": "ki2qtLpcG56j",
        "colab_type": "text"
      },
      "source": [
        "Ok, now let's add year in there.  We can write a method that coerces the year, and use it with a transformer to add to our mapper.  Let's get going."
      ]
    },
    {
      "cell_type": "code",
      "metadata": {
        "id": "OZuAYwBqIKDF",
        "colab_type": "code",
        "outputId": "bc2d2b1b-8477-4be2-cc1c-ee56139dda5e",
        "colab": {
          "base_uri": "https://localhost:8080/",
          "height": 221
        }
      },
      "source": [
        "df['Year']"
      ],
      "execution_count": 0,
      "outputs": [
        {
          "output_type": "execute_result",
          "data": {
            "text/plain": [
              "0       6 years ago\n",
              "1       7 years ago\n",
              "2       3 years ago\n",
              "3       9 years ago\n",
              "4       6 years ago\n",
              "           ...     \n",
              "296     4 years ago\n",
              "297     5 years ago\n",
              "298    11 years ago\n",
              "299     3 years ago\n",
              "300     4 years ago\n",
              "Name: Year, Length: 301, dtype: object"
            ]
          },
          "metadata": {
            "tags": []
          },
          "execution_count": 28
        }
      ]
    },
    {
      "cell_type": "code",
      "metadata": {
        "id": "s3POuhpPG56k",
        "colab_type": "code",
        "colab": {}
      },
      "source": [
        "def coerce_to_year(val):\n",
        "    years_ago = val.split(\" \")[0]\n",
        "    return int(years_ago)"
      ],
      "execution_count": 0,
      "outputs": []
    },
    {
      "cell_type": "markdown",
      "metadata": {
        "id": "yH9wVMs_G56m",
        "colab_type": "text"
      },
      "source": [
        "Store the step in `coerce_step`."
      ]
    },
    {
      "cell_type": "code",
      "metadata": {
        "id": "3La_82k9G56n",
        "colab_type": "code",
        "outputId": "c8089a70-c4ce-4b6d-ade8-7b98354056d5",
        "colab": {
          "base_uri": "https://localhost:8080/",
          "height": 88
        }
      },
      "source": [
        "coerce_step = (['Year'], FunctionTransformer(coerce_to_year))\n",
        "coerce_step"
      ],
      "execution_count": 0,
      "outputs": [
        {
          "output_type": "stream",
          "text": [
            "/usr/local/lib/python3.6/dist-packages/sklearn/base.py:197: FutureWarning: From version 0.24, get_params will raise an AttributeError if a parameter cannot be retrieved as an instance attribute. Previously it would return None.\n",
            "  FutureWarning)\n"
          ],
          "name": "stderr"
        },
        {
          "output_type": "execute_result",
          "data": {
            "text/plain": [
              "(['Year'], FunctionTransformer(func=None))"
            ]
          },
          "metadata": {
            "tags": []
          },
          "execution_count": 30
        }
      ]
    },
    {
      "cell_type": "markdown",
      "metadata": {
        "id": "Is8uFp-1G56q",
        "colab_type": "text"
      },
      "source": [
        "Then create a list of steps that convert both the prices and the year."
      ]
    },
    {
      "cell_type": "code",
      "metadata": {
        "id": "-MgdqedQG56r",
        "colab_type": "code",
        "outputId": "52b39c46-bde5-4fe4-cfe6-f44422598ba4",
        "colab": {
          "base_uri": "https://localhost:8080/",
          "height": 122
        }
      },
      "source": [
        "comb_steps = steps + [coerce_step]\n",
        "comb_steps"
      ],
      "execution_count": 0,
      "outputs": [
        {
          "output_type": "stream",
          "text": [
            "/usr/local/lib/python3.6/dist-packages/sklearn/base.py:197: FutureWarning: From version 0.24, get_params will raise an AttributeError if a parameter cannot be retrieved as an instance attribute. Previously it would return None.\n",
            "  FutureWarning)\n"
          ],
          "name": "stderr"
        },
        {
          "output_type": "execute_result",
          "data": {
            "text/plain": [
              "[('Selling_Price', FunctionTransformer(func=None)),\n",
              " ('Present_Price', FunctionTransformer(func=None)),\n",
              " (['Year'], FunctionTransformer(func=None))]"
            ]
          },
          "metadata": {
            "tags": []
          },
          "execution_count": 31
        }
      ]
    },
    {
      "cell_type": "markdown",
      "metadata": {
        "id": "D5l0d5yXG56u",
        "colab_type": "text"
      },
      "source": [
        "And add the list of steps to the mapper."
      ]
    },
    {
      "cell_type": "code",
      "metadata": {
        "id": "Jg_OIeL4G56v",
        "colab_type": "code",
        "colab": {}
      },
      "source": [
        "mapper_with_num_converter = DataFrameMapper(comb_steps, df_out = True)"
      ],
      "execution_count": 0,
      "outputs": []
    },
    {
      "cell_type": "code",
      "metadata": {
        "id": "Tvf2BByXG56y",
        "colab_type": "code",
        "outputId": "748034b1-2bfa-454e-94bd-d52502c26d63",
        "colab": {
          "base_uri": "https://localhost:8080/",
          "height": 142
        }
      },
      "source": [
        "price_year_df = mapper_with_num_converter.fit_transform(df)\n",
        "\n",
        "price_year_df[:3]\n",
        "\n",
        "# \tSelling_Price\tPresent_Price\tYear\n",
        "# 0\t3.35\t5.59\t6\n",
        "# 1\t4.75\t9.54\t7\n",
        "# 2\t7.25\t9.85\t3"
      ],
      "execution_count": 0,
      "outputs": [
        {
          "output_type": "execute_result",
          "data": {
            "text/html": [
              "<div>\n",
              "<style scoped>\n",
              "    .dataframe tbody tr th:only-of-type {\n",
              "        vertical-align: middle;\n",
              "    }\n",
              "\n",
              "    .dataframe tbody tr th {\n",
              "        vertical-align: top;\n",
              "    }\n",
              "\n",
              "    .dataframe thead th {\n",
              "        text-align: right;\n",
              "    }\n",
              "</style>\n",
              "<table border=\"1\" class=\"dataframe\">\n",
              "  <thead>\n",
              "    <tr style=\"text-align: right;\">\n",
              "      <th></th>\n",
              "      <th>Selling_Price</th>\n",
              "      <th>Present_Price</th>\n",
              "      <th>Year</th>\n",
              "    </tr>\n",
              "  </thead>\n",
              "  <tbody>\n",
              "    <tr>\n",
              "      <th>0</th>\n",
              "      <td>3.35</td>\n",
              "      <td>5.59</td>\n",
              "      <td>6</td>\n",
              "    </tr>\n",
              "    <tr>\n",
              "      <th>1</th>\n",
              "      <td>4.75</td>\n",
              "      <td>9.54</td>\n",
              "      <td>7</td>\n",
              "    </tr>\n",
              "    <tr>\n",
              "      <th>2</th>\n",
              "      <td>7.25</td>\n",
              "      <td>9.85</td>\n",
              "      <td>3</td>\n",
              "    </tr>\n",
              "  </tbody>\n",
              "</table>\n",
              "</div>"
            ],
            "text/plain": [
              "   Selling_Price  Present_Price  Year\n",
              "0           3.35           5.59     6\n",
              "1           4.75           9.54     7\n",
              "2           7.25           9.85     3"
            ]
          },
          "metadata": {
            "tags": []
          },
          "execution_count": 33
        }
      ]
    },
    {
      "cell_type": "code",
      "metadata": {
        "id": "ByvB87PaJjUl",
        "colab_type": "code",
        "outputId": "311e92cd-b81f-448c-b676-978211626062",
        "colab": {
          "base_uri": "https://localhost:8080/",
          "height": 111
        }
      },
      "source": [
        "df[:2]"
      ],
      "execution_count": 0,
      "outputs": [
        {
          "output_type": "execute_result",
          "data": {
            "text/html": [
              "<div>\n",
              "<style scoped>\n",
              "    .dataframe tbody tr th:only-of-type {\n",
              "        vertical-align: middle;\n",
              "    }\n",
              "\n",
              "    .dataframe tbody tr th {\n",
              "        vertical-align: top;\n",
              "    }\n",
              "\n",
              "    .dataframe thead th {\n",
              "        text-align: right;\n",
              "    }\n",
              "</style>\n",
              "<table border=\"1\" class=\"dataframe\">\n",
              "  <thead>\n",
              "    <tr style=\"text-align: right;\">\n",
              "      <th></th>\n",
              "      <th>Car_Name</th>\n",
              "      <th>Year</th>\n",
              "      <th>Selling_Price</th>\n",
              "      <th>Present_Price</th>\n",
              "      <th>Kms_Driven</th>\n",
              "      <th>Fuel_Type</th>\n",
              "      <th>Seller_Type</th>\n",
              "      <th>Transmission</th>\n",
              "      <th>Owner</th>\n",
              "    </tr>\n",
              "  </thead>\n",
              "  <tbody>\n",
              "    <tr>\n",
              "      <th>0</th>\n",
              "      <td>ritz</td>\n",
              "      <td>6 years ago</td>\n",
              "      <td>$3.35</td>\n",
              "      <td>$5.59</td>\n",
              "      <td>27000</td>\n",
              "      <td>Petrol</td>\n",
              "      <td>Dealer</td>\n",
              "      <td>Manual</td>\n",
              "      <td>0</td>\n",
              "    </tr>\n",
              "    <tr>\n",
              "      <th>1</th>\n",
              "      <td>sx4</td>\n",
              "      <td>7 years ago</td>\n",
              "      <td>$4.75</td>\n",
              "      <td>$9.54</td>\n",
              "      <td>43000</td>\n",
              "      <td>Diesel</td>\n",
              "      <td>Dealer</td>\n",
              "      <td>Manual</td>\n",
              "      <td>0</td>\n",
              "    </tr>\n",
              "  </tbody>\n",
              "</table>\n",
              "</div>"
            ],
            "text/plain": [
              "  Car_Name         Year Selling_Price  ... Seller_Type  Transmission Owner\n",
              "0     ritz  6 years ago         $3.35  ...      Dealer        Manual     0\n",
              "1      sx4  7 years ago         $4.75  ...      Dealer        Manual     0\n",
              "\n",
              "[2 rows x 9 columns]"
            ]
          },
          "metadata": {
            "tags": []
          },
          "execution_count": 36
        }
      ]
    },
    {
      "cell_type": "code",
      "metadata": {
        "id": "SzZgkGnyJpk9",
        "colab_type": "code",
        "outputId": "97c9c55c-469e-498a-c581-07becca4f00c",
        "colab": {
          "base_uri": "https://localhost:8080/",
          "height": 419
        }
      },
      "source": [
        "coerce_df = df.copy()\n",
        "coerce_df['Selling_Price'] = price_year_df['Selling_Price']\n",
        "coerce_df['Present_Price'] = price_year_df['Present_Price']\n",
        "coerce_df['Year'] = price_year_df['Year']\n",
        "coerce_df"
      ],
      "execution_count": 0,
      "outputs": [
        {
          "output_type": "execute_result",
          "data": {
            "text/html": [
              "<div>\n",
              "<style scoped>\n",
              "    .dataframe tbody tr th:only-of-type {\n",
              "        vertical-align: middle;\n",
              "    }\n",
              "\n",
              "    .dataframe tbody tr th {\n",
              "        vertical-align: top;\n",
              "    }\n",
              "\n",
              "    .dataframe thead th {\n",
              "        text-align: right;\n",
              "    }\n",
              "</style>\n",
              "<table border=\"1\" class=\"dataframe\">\n",
              "  <thead>\n",
              "    <tr style=\"text-align: right;\">\n",
              "      <th></th>\n",
              "      <th>Car_Name</th>\n",
              "      <th>Year</th>\n",
              "      <th>Selling_Price</th>\n",
              "      <th>Present_Price</th>\n",
              "      <th>Kms_Driven</th>\n",
              "      <th>Fuel_Type</th>\n",
              "      <th>Seller_Type</th>\n",
              "      <th>Transmission</th>\n",
              "      <th>Owner</th>\n",
              "    </tr>\n",
              "  </thead>\n",
              "  <tbody>\n",
              "    <tr>\n",
              "      <th>0</th>\n",
              "      <td>ritz</td>\n",
              "      <td>6</td>\n",
              "      <td>3.35</td>\n",
              "      <td>5.59</td>\n",
              "      <td>27000</td>\n",
              "      <td>Petrol</td>\n",
              "      <td>Dealer</td>\n",
              "      <td>Manual</td>\n",
              "      <td>0</td>\n",
              "    </tr>\n",
              "    <tr>\n",
              "      <th>1</th>\n",
              "      <td>sx4</td>\n",
              "      <td>7</td>\n",
              "      <td>4.75</td>\n",
              "      <td>9.54</td>\n",
              "      <td>43000</td>\n",
              "      <td>Diesel</td>\n",
              "      <td>Dealer</td>\n",
              "      <td>Manual</td>\n",
              "      <td>0</td>\n",
              "    </tr>\n",
              "    <tr>\n",
              "      <th>2</th>\n",
              "      <td>ciaz</td>\n",
              "      <td>3</td>\n",
              "      <td>7.25</td>\n",
              "      <td>9.85</td>\n",
              "      <td>6900</td>\n",
              "      <td>Petrol</td>\n",
              "      <td>Dealer</td>\n",
              "      <td>Manual</td>\n",
              "      <td>0</td>\n",
              "    </tr>\n",
              "    <tr>\n",
              "      <th>3</th>\n",
              "      <td>wagon r</td>\n",
              "      <td>9</td>\n",
              "      <td>2.85</td>\n",
              "      <td>4.15</td>\n",
              "      <td>5200</td>\n",
              "      <td>Petrol</td>\n",
              "      <td></td>\n",
              "      <td>Manual</td>\n",
              "      <td>0</td>\n",
              "    </tr>\n",
              "    <tr>\n",
              "      <th>4</th>\n",
              "      <td>swift</td>\n",
              "      <td>6</td>\n",
              "      <td>4.60</td>\n",
              "      <td>6.87</td>\n",
              "      <td>42450</td>\n",
              "      <td>Diesel</td>\n",
              "      <td></td>\n",
              "      <td>Manual</td>\n",
              "      <td>0</td>\n",
              "    </tr>\n",
              "    <tr>\n",
              "      <th>...</th>\n",
              "      <td>...</td>\n",
              "      <td>...</td>\n",
              "      <td>...</td>\n",
              "      <td>...</td>\n",
              "      <td>...</td>\n",
              "      <td>...</td>\n",
              "      <td>...</td>\n",
              "      <td>...</td>\n",
              "      <td>...</td>\n",
              "    </tr>\n",
              "    <tr>\n",
              "      <th>296</th>\n",
              "      <td>city</td>\n",
              "      <td>4</td>\n",
              "      <td>9.50</td>\n",
              "      <td>11.60</td>\n",
              "      <td>33988</td>\n",
              "      <td>Diesel</td>\n",
              "      <td>Dealer</td>\n",
              "      <td>Manual</td>\n",
              "      <td>0</td>\n",
              "    </tr>\n",
              "    <tr>\n",
              "      <th>297</th>\n",
              "      <td>brio</td>\n",
              "      <td>5</td>\n",
              "      <td>4.00</td>\n",
              "      <td>5.90</td>\n",
              "      <td>60000</td>\n",
              "      <td>Petrol</td>\n",
              "      <td>Dealer</td>\n",
              "      <td>Manual</td>\n",
              "      <td>0</td>\n",
              "    </tr>\n",
              "    <tr>\n",
              "      <th>298</th>\n",
              "      <td>city</td>\n",
              "      <td>11</td>\n",
              "      <td>3.35</td>\n",
              "      <td>11.00</td>\n",
              "      <td>87934</td>\n",
              "      <td>Petrol</td>\n",
              "      <td>Dealer</td>\n",
              "      <td>Manual</td>\n",
              "      <td>0</td>\n",
              "    </tr>\n",
              "    <tr>\n",
              "      <th>299</th>\n",
              "      <td>city</td>\n",
              "      <td>3</td>\n",
              "      <td>11.50</td>\n",
              "      <td>12.50</td>\n",
              "      <td>9000</td>\n",
              "      <td>Diesel</td>\n",
              "      <td>Dealer</td>\n",
              "      <td>Manual</td>\n",
              "      <td>0</td>\n",
              "    </tr>\n",
              "    <tr>\n",
              "      <th>300</th>\n",
              "      <td>brio</td>\n",
              "      <td>4</td>\n",
              "      <td>5.30</td>\n",
              "      <td>5.90</td>\n",
              "      <td>999999</td>\n",
              "      <td>Petrol</td>\n",
              "      <td>Dealer</td>\n",
              "      <td>Manual</td>\n",
              "      <td>0</td>\n",
              "    </tr>\n",
              "  </tbody>\n",
              "</table>\n",
              "<p>301 rows × 9 columns</p>\n",
              "</div>"
            ],
            "text/plain": [
              "    Car_Name  Year  Selling_Price  ...  Seller_Type  Transmission Owner\n",
              "0       ritz     6           3.35  ...       Dealer        Manual     0\n",
              "1        sx4     7           4.75  ...       Dealer        Manual     0\n",
              "2       ciaz     3           7.25  ...       Dealer        Manual     0\n",
              "3    wagon r     9           2.85  ...                     Manual     0\n",
              "4      swift     6           4.60  ...                     Manual     0\n",
              "..       ...   ...            ...  ...          ...           ...   ...\n",
              "296     city     4           9.50  ...       Dealer        Manual     0\n",
              "297     brio     5           4.00  ...       Dealer        Manual     0\n",
              "298     city    11           3.35  ...       Dealer        Manual     0\n",
              "299     city     3          11.50  ...       Dealer        Manual     0\n",
              "300     brio     4           5.30  ...       Dealer        Manual     0\n",
              "\n",
              "[301 rows x 9 columns]"
            ]
          },
          "metadata": {
            "tags": []
          },
          "execution_count": 45
        }
      ]
    },
    {
      "cell_type": "code",
      "metadata": {
        "id": "Y6ZVUet_KgW5",
        "colab_type": "code",
        "outputId": "4fa38ea4-9ea7-40ed-9b47-2fbfe39ab9d8",
        "colab": {
          "base_uri": "https://localhost:8080/",
          "height": 419
        }
      },
      "source": [
        "test_mapper_with_num_converter = DataFrameMapper(comb_steps, df_out = True, default = None)\n",
        "test_df = test_mapper_with_num_converter.fit_transform(df)\n",
        "test_df"
      ],
      "execution_count": 0,
      "outputs": [
        {
          "output_type": "execute_result",
          "data": {
            "text/html": [
              "<div>\n",
              "<style scoped>\n",
              "    .dataframe tbody tr th:only-of-type {\n",
              "        vertical-align: middle;\n",
              "    }\n",
              "\n",
              "    .dataframe tbody tr th {\n",
              "        vertical-align: top;\n",
              "    }\n",
              "\n",
              "    .dataframe thead th {\n",
              "        text-align: right;\n",
              "    }\n",
              "</style>\n",
              "<table border=\"1\" class=\"dataframe\">\n",
              "  <thead>\n",
              "    <tr style=\"text-align: right;\">\n",
              "      <th></th>\n",
              "      <th>Selling_Price</th>\n",
              "      <th>Present_Price</th>\n",
              "      <th>Year</th>\n",
              "      <th>Car_Name</th>\n",
              "      <th>Kms_Driven</th>\n",
              "      <th>Fuel_Type</th>\n",
              "      <th>Seller_Type</th>\n",
              "      <th>Transmission</th>\n",
              "      <th>Owner</th>\n",
              "    </tr>\n",
              "  </thead>\n",
              "  <tbody>\n",
              "    <tr>\n",
              "      <th>0</th>\n",
              "      <td>3.35</td>\n",
              "      <td>5.59</td>\n",
              "      <td>6</td>\n",
              "      <td>ritz</td>\n",
              "      <td>27000</td>\n",
              "      <td>Petrol</td>\n",
              "      <td>Dealer</td>\n",
              "      <td>Manual</td>\n",
              "      <td>0</td>\n",
              "    </tr>\n",
              "    <tr>\n",
              "      <th>1</th>\n",
              "      <td>4.75</td>\n",
              "      <td>9.54</td>\n",
              "      <td>7</td>\n",
              "      <td>sx4</td>\n",
              "      <td>43000</td>\n",
              "      <td>Diesel</td>\n",
              "      <td>Dealer</td>\n",
              "      <td>Manual</td>\n",
              "      <td>0</td>\n",
              "    </tr>\n",
              "    <tr>\n",
              "      <th>2</th>\n",
              "      <td>7.25</td>\n",
              "      <td>9.85</td>\n",
              "      <td>3</td>\n",
              "      <td>ciaz</td>\n",
              "      <td>6900</td>\n",
              "      <td>Petrol</td>\n",
              "      <td>Dealer</td>\n",
              "      <td>Manual</td>\n",
              "      <td>0</td>\n",
              "    </tr>\n",
              "    <tr>\n",
              "      <th>3</th>\n",
              "      <td>2.85</td>\n",
              "      <td>4.15</td>\n",
              "      <td>9</td>\n",
              "      <td>wagon r</td>\n",
              "      <td>5200</td>\n",
              "      <td>Petrol</td>\n",
              "      <td></td>\n",
              "      <td>Manual</td>\n",
              "      <td>0</td>\n",
              "    </tr>\n",
              "    <tr>\n",
              "      <th>4</th>\n",
              "      <td>4.60</td>\n",
              "      <td>6.87</td>\n",
              "      <td>6</td>\n",
              "      <td>swift</td>\n",
              "      <td>42450</td>\n",
              "      <td>Diesel</td>\n",
              "      <td></td>\n",
              "      <td>Manual</td>\n",
              "      <td>0</td>\n",
              "    </tr>\n",
              "    <tr>\n",
              "      <th>...</th>\n",
              "      <td>...</td>\n",
              "      <td>...</td>\n",
              "      <td>...</td>\n",
              "      <td>...</td>\n",
              "      <td>...</td>\n",
              "      <td>...</td>\n",
              "      <td>...</td>\n",
              "      <td>...</td>\n",
              "      <td>...</td>\n",
              "    </tr>\n",
              "    <tr>\n",
              "      <th>296</th>\n",
              "      <td>9.50</td>\n",
              "      <td>11.60</td>\n",
              "      <td>4</td>\n",
              "      <td>city</td>\n",
              "      <td>33988</td>\n",
              "      <td>Diesel</td>\n",
              "      <td>Dealer</td>\n",
              "      <td>Manual</td>\n",
              "      <td>0</td>\n",
              "    </tr>\n",
              "    <tr>\n",
              "      <th>297</th>\n",
              "      <td>4.00</td>\n",
              "      <td>5.90</td>\n",
              "      <td>5</td>\n",
              "      <td>brio</td>\n",
              "      <td>60000</td>\n",
              "      <td>Petrol</td>\n",
              "      <td>Dealer</td>\n",
              "      <td>Manual</td>\n",
              "      <td>0</td>\n",
              "    </tr>\n",
              "    <tr>\n",
              "      <th>298</th>\n",
              "      <td>3.35</td>\n",
              "      <td>11.00</td>\n",
              "      <td>11</td>\n",
              "      <td>city</td>\n",
              "      <td>87934</td>\n",
              "      <td>Petrol</td>\n",
              "      <td>Dealer</td>\n",
              "      <td>Manual</td>\n",
              "      <td>0</td>\n",
              "    </tr>\n",
              "    <tr>\n",
              "      <th>299</th>\n",
              "      <td>11.50</td>\n",
              "      <td>12.50</td>\n",
              "      <td>3</td>\n",
              "      <td>city</td>\n",
              "      <td>9000</td>\n",
              "      <td>Diesel</td>\n",
              "      <td>Dealer</td>\n",
              "      <td>Manual</td>\n",
              "      <td>0</td>\n",
              "    </tr>\n",
              "    <tr>\n",
              "      <th>300</th>\n",
              "      <td>5.30</td>\n",
              "      <td>5.90</td>\n",
              "      <td>4</td>\n",
              "      <td>brio</td>\n",
              "      <td>999999</td>\n",
              "      <td>Petrol</td>\n",
              "      <td>Dealer</td>\n",
              "      <td>Manual</td>\n",
              "      <td>0</td>\n",
              "    </tr>\n",
              "  </tbody>\n",
              "</table>\n",
              "<p>301 rows × 9 columns</p>\n",
              "</div>"
            ],
            "text/plain": [
              "     Selling_Price  Present_Price  Year  ... Seller_Type Transmission Owner\n",
              "0             3.35           5.59     6  ...      Dealer       Manual     0\n",
              "1             4.75           9.54     7  ...      Dealer       Manual     0\n",
              "2             7.25           9.85     3  ...      Dealer       Manual     0\n",
              "3             2.85           4.15     9  ...                   Manual     0\n",
              "4             4.60           6.87     6  ...                   Manual     0\n",
              "..             ...            ...   ...  ...         ...          ...   ...\n",
              "296           9.50          11.60     4  ...      Dealer       Manual     0\n",
              "297           4.00           5.90     5  ...      Dealer       Manual     0\n",
              "298           3.35          11.00    11  ...      Dealer       Manual     0\n",
              "299          11.50          12.50     3  ...      Dealer       Manual     0\n",
              "300           5.30           5.90     4  ...      Dealer       Manual     0\n",
              "\n",
              "[301 rows x 9 columns]"
            ]
          },
          "metadata": {
            "tags": []
          },
          "execution_count": 66
        }
      ]
    },
    {
      "cell_type": "code",
      "metadata": {
        "id": "RLs4n6niNpuf",
        "colab_type": "code",
        "outputId": "957251df-c8c3-459f-ac3a-fd0dc71c9759",
        "colab": {
          "base_uri": "https://localhost:8080/",
          "height": 111
        }
      },
      "source": [
        "df[:2]"
      ],
      "execution_count": 0,
      "outputs": [
        {
          "output_type": "execute_result",
          "data": {
            "text/html": [
              "<div>\n",
              "<style scoped>\n",
              "    .dataframe tbody tr th:only-of-type {\n",
              "        vertical-align: middle;\n",
              "    }\n",
              "\n",
              "    .dataframe tbody tr th {\n",
              "        vertical-align: top;\n",
              "    }\n",
              "\n",
              "    .dataframe thead th {\n",
              "        text-align: right;\n",
              "    }\n",
              "</style>\n",
              "<table border=\"1\" class=\"dataframe\">\n",
              "  <thead>\n",
              "    <tr style=\"text-align: right;\">\n",
              "      <th></th>\n",
              "      <th>Car_Name</th>\n",
              "      <th>Year</th>\n",
              "      <th>Selling_Price</th>\n",
              "      <th>Present_Price</th>\n",
              "      <th>Kms_Driven</th>\n",
              "      <th>Fuel_Type</th>\n",
              "      <th>Seller_Type</th>\n",
              "      <th>Transmission</th>\n",
              "      <th>Owner</th>\n",
              "    </tr>\n",
              "  </thead>\n",
              "  <tbody>\n",
              "    <tr>\n",
              "      <th>0</th>\n",
              "      <td>ritz</td>\n",
              "      <td>6 years ago</td>\n",
              "      <td>$3.35</td>\n",
              "      <td>$5.59</td>\n",
              "      <td>27000</td>\n",
              "      <td>Petrol</td>\n",
              "      <td>Dealer</td>\n",
              "      <td>Manual</td>\n",
              "      <td>0</td>\n",
              "    </tr>\n",
              "    <tr>\n",
              "      <th>1</th>\n",
              "      <td>sx4</td>\n",
              "      <td>7 years ago</td>\n",
              "      <td>$4.75</td>\n",
              "      <td>$9.54</td>\n",
              "      <td>43000</td>\n",
              "      <td>Diesel</td>\n",
              "      <td>Dealer</td>\n",
              "      <td>Manual</td>\n",
              "      <td>0</td>\n",
              "    </tr>\n",
              "  </tbody>\n",
              "</table>\n",
              "</div>"
            ],
            "text/plain": [
              "  Car_Name         Year Selling_Price  ... Seller_Type  Transmission Owner\n",
              "0     ritz  6 years ago         $3.35  ...      Dealer        Manual     0\n",
              "1      sx4  7 years ago         $4.75  ...      Dealer        Manual     0\n",
              "\n",
              "[2 rows x 9 columns]"
            ]
          },
          "metadata": {
            "tags": []
          },
          "execution_count": 59
        }
      ]
    },
    {
      "cell_type": "code",
      "metadata": {
        "id": "xG45n86gNr_w",
        "colab_type": "code",
        "outputId": "7183c0ce-1dbf-42f7-936d-54d6d20e7419",
        "colab": {
          "base_uri": "https://localhost:8080/",
          "height": 122
        }
      },
      "source": [
        "comb_steps"
      ],
      "execution_count": 0,
      "outputs": [
        {
          "output_type": "stream",
          "text": [
            "/usr/local/lib/python3.6/dist-packages/sklearn/base.py:197: FutureWarning: From version 0.24, get_params will raise an AttributeError if a parameter cannot be retrieved as an instance attribute. Previously it would return None.\n",
            "  FutureWarning)\n"
          ],
          "name": "stderr"
        },
        {
          "output_type": "execute_result",
          "data": {
            "text/plain": [
              "[('Selling_Price', FunctionTransformer(func=None)),\n",
              " ('Present_Price', FunctionTransformer(func=None)),\n",
              " (['Year'], FunctionTransformer(func=None))]"
            ]
          },
          "metadata": {
            "tags": []
          },
          "execution_count": 64
        }
      ]
    },
    {
      "cell_type": "markdown",
      "metadata": {
        "id": "1B8Ayn0YG560",
        "colab_type": "text"
      },
      "source": [
        "### Keeping the rest"
      ]
    },
    {
      "cell_type": "code",
      "metadata": {
        "id": "_jA1U1k7G560",
        "colab_type": "code",
        "outputId": "3b72cef0-a0aa-46d0-8685-f5b84eb69499",
        "colab": {
          "base_uri": "https://localhost:8080/",
          "height": 187
        }
      },
      "source": [
        "test_df.dtypes"
      ],
      "execution_count": 0,
      "outputs": [
        {
          "output_type": "execute_result",
          "data": {
            "text/plain": [
              "Selling_Price    float64\n",
              "Present_Price    float64\n",
              "Year               int64\n",
              "Car_Name          object\n",
              "Kms_Driven        object\n",
              "Fuel_Type         object\n",
              "Seller_Type       object\n",
              "Transmission      object\n",
              "Owner             object\n",
              "dtype: object"
            ]
          },
          "metadata": {
            "tags": []
          },
          "execution_count": 67
        }
      ]
    },
    {
      "cell_type": "markdown",
      "metadata": {
        "id": "eNAGWItDG563",
        "colab_type": "text"
      },
      "source": [
        "We can see that we lost our original int datatypes from our starting dataframe. "
      ]
    },
    {
      "cell_type": "code",
      "metadata": {
        "id": "0zWqB1fIG563",
        "colab_type": "code",
        "outputId": "2515346e-f293-4f08-aee5-97b01b36dd5f",
        "colab": {
          "base_uri": "https://localhost:8080/",
          "height": 187
        }
      },
      "source": [
        "df.dtypes"
      ],
      "execution_count": 0,
      "outputs": [
        {
          "output_type": "execute_result",
          "data": {
            "text/plain": [
              "Car_Name         object\n",
              "Year             object\n",
              "Selling_Price    object\n",
              "Present_Price    object\n",
              "Kms_Driven        int64\n",
              "Fuel_Type        object\n",
              "Seller_Type      object\n",
              "Transmission     object\n",
              "Owner             int64\n",
              "dtype: object"
            ]
          },
          "metadata": {
            "tags": []
          },
          "execution_count": 40
        }
      ]
    },
    {
      "cell_type": "markdown",
      "metadata": {
        "id": "saOxQz-NG567",
        "colab_type": "text"
      },
      "source": [
        "So below, we'll select the datatypes from `df`.  "
      ]
    },
    {
      "cell_type": "code",
      "metadata": {
        "id": "ulgrFwKpG567",
        "colab_type": "code",
        "outputId": "c454055e-ff5c-465d-ad7d-73080c65f627",
        "colab": {
          "base_uri": "https://localhost:8080/",
          "height": 170
        }
      },
      "source": [
        "df_types = df.dtypes.to_dict()\n",
        "df_types\n",
        "# df_dtypes = {'Car_Name': dtype('O'),\n",
        "#  'Year': dtype('O'),\n",
        "#  'Selling_Price': dtype('O'),\n",
        "#  'Present_Price': dtype('O'),\n",
        "#  'Kms_Driven': dtype('int64'),\n",
        "#  'Fuel_Type': dtype('O'),\n",
        "#  'Seller_Type': dtype('O'),\n",
        "#  'Transmission': dtype('O'),\n",
        "#  'Owner': dtype('int64')}"
      ],
      "execution_count": 0,
      "outputs": [
        {
          "output_type": "execute_result",
          "data": {
            "text/plain": [
              "{'Car_Name': dtype('O'),\n",
              " 'Fuel_Type': dtype('O'),\n",
              " 'Kms_Driven': dtype('int64'),\n",
              " 'Owner': dtype('int64'),\n",
              " 'Present_Price': dtype('O'),\n",
              " 'Seller_Type': dtype('O'),\n",
              " 'Selling_Price': dtype('O'),\n",
              " 'Transmission': dtype('O'),\n",
              " 'Year': dtype('O')}"
            ]
          },
          "metadata": {
            "tags": []
          },
          "execution_count": 69
        }
      ]
    },
    {
      "cell_type": "markdown",
      "metadata": {
        "id": "TUji3T67G56-",
        "colab_type": "text"
      },
      "source": [
        "*Then* use dictionary comprehension to select those that are not of type object."
      ]
    },
    {
      "cell_type": "code",
      "metadata": {
        "id": "Wa5DkllQG56_",
        "colab_type": "code",
        "outputId": "9aa049c0-d7ad-4028-ccbe-8eaf0dcb486f",
        "colab": {
          "base_uri": "https://localhost:8080/",
          "height": 34
        }
      },
      "source": [
        "import numpy as np\n",
        "non_obj_dtypes = { column_name : column_type for column_name, column_type in df_types.items() if np.dtype('object') != column_type }\n",
        "\n",
        "non_obj_dtypes\n",
        "# {'Kms_Driven': dtype('int64'), 'Owner': dtype('int64')}"
      ],
      "execution_count": 0,
      "outputs": [
        {
          "output_type": "execute_result",
          "data": {
            "text/plain": [
              "{'Kms_Driven': dtype('int64'), 'Owner': dtype('int64')}"
            ]
          },
          "metadata": {
            "tags": []
          },
          "execution_count": 70
        }
      ]
    },
    {
      "cell_type": "markdown",
      "metadata": {
        "id": "bwT-_zxIG57D",
        "colab_type": "text"
      },
      "source": [
        "Then use this dictionary to update our datatypes of the `coerced_df`."
      ]
    },
    {
      "cell_type": "code",
      "metadata": {
        "id": "Sm5fx52LG57D",
        "colab_type": "code",
        "colab": {}
      },
      "source": [
        "updated_df = test_df.astype(non_obj_dtypes)"
      ],
      "execution_count": 0,
      "outputs": []
    },
    {
      "cell_type": "code",
      "metadata": {
        "id": "1qu_ZKeOG57F",
        "colab_type": "code",
        "outputId": "8ede8ce3-04d1-4476-b933-3cb4c3948085",
        "colab": {
          "base_uri": "https://localhost:8080/",
          "height": 187
        }
      },
      "source": [
        "updated_df.dtypes\n",
        "\n",
        "# Selling_Price    float64\n",
        "# Present_Price    float64\n",
        "# Car_Name          object\n",
        "# Year              object\n",
        "# Kms_Driven         int64\n",
        "# Fuel_Type         object\n",
        "# Seller_Type       object\n",
        "# Transmission      object\n",
        "# Owner              int64\n",
        "# dtype: object"
      ],
      "execution_count": 0,
      "outputs": [
        {
          "output_type": "execute_result",
          "data": {
            "text/plain": [
              "Selling_Price    float64\n",
              "Present_Price    float64\n",
              "Year               int64\n",
              "Car_Name          object\n",
              "Kms_Driven         int64\n",
              "Fuel_Type         object\n",
              "Seller_Type       object\n",
              "Transmission      object\n",
              "Owner              int64\n",
              "dtype: object"
            ]
          },
          "metadata": {
            "tags": []
          },
          "execution_count": 72
        }
      ]
    },
    {
      "cell_type": "markdown",
      "metadata": {
        "id": "OpNp70H1G57I",
        "colab_type": "text"
      },
      "source": [
        "### Summary"
      ]
    },
    {
      "cell_type": "markdown",
      "metadata": {
        "id": "bREZg6ztG57I",
        "colab_type": "text"
      },
      "source": [
        "In this lesson, we worked with coercing our numeric data.  We practiced using list iteration to create multiple steps simultaneously, and also worked with coercing our datatypes using a dtypes dictionary."
      ]
    }
  ]
}