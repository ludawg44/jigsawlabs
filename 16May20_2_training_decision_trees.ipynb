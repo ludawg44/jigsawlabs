{
  "nbformat": 4,
  "nbformat_minor": 0,
  "metadata": {
    "kernelspec": {
      "display_name": "Python 3",
      "language": "python",
      "name": "python3"
    },
    "language_info": {
      "codemirror_mode": {
        "name": "ipython",
        "version": 3
      },
      "file_extension": ".py",
      "mimetype": "text/x-python",
      "name": "python",
      "nbconvert_exporter": "python",
      "pygments_lexer": "ipython3",
      "version": "3.7.4"
    },
    "colab": {
      "name": "Copy of 2-training-decision-trees.ipynb",
      "provenance": [],
      "include_colab_link": true
    }
  },
  "cells": [
    {
      "cell_type": "markdown",
      "metadata": {
        "id": "view-in-github",
        "colab_type": "text"
      },
      "source": [
        "<a href=\"https://colab.research.google.com/github/ludawg44/jigsawlabs/blob/master/16May20_2_training_decision_trees.ipynb\" target=\"_parent\"><img src=\"https://colab.research.google.com/assets/colab-badge.svg\" alt=\"Open In Colab\"/></a>"
      ]
    },
    {
      "cell_type": "markdown",
      "metadata": {
        "id": "dxrzwqrLDWnA",
        "colab_type": "text"
      },
      "source": [
        "# Training Decision Trees"
      ]
    },
    {
      "cell_type": "markdown",
      "metadata": {
        "id": "9dHrNS9zDWnA",
        "colab_type": "text"
      },
      "source": [
        "## Introduction\n",
        "\n",
        "In the last lesson, we learned about the hypothesis function for decision trees. And we saw that the hypothesis function of a decision tree asks a series of questions to predict if the target falls in one category or the other. "
      ]
    },
    {
      "cell_type": "markdown",
      "metadata": {
        "id": "KezCiephDWnB",
        "colab_type": "text"
      },
      "source": [
        "<img src=\"https://storage.googleapis.com/curriculum-assets/intro-to-ml/decision-tree-real-estate.png\" width=\"50%\">"
      ]
    },
    {
      "cell_type": "markdown",
      "metadata": {
        "id": "6CkpTWtJDWnB",
        "colab_type": "text"
      },
      "source": [
        "> Remember that a hypothesis function takes in a set of features and comes close to predicting the correct target."
      ]
    },
    {
      "cell_type": "markdown",
      "metadata": {
        "id": "_8wv84feDWnC",
        "colab_type": "text"
      },
      "source": [
        "But how does a machine learning algorithm arrive at a hypothesis function?  In this lesson we'll find out."
      ]
    },
    {
      "cell_type": "markdown",
      "metadata": {
        "id": "755UnTWlDWnC",
        "colab_type": "text"
      },
      "source": [
        "## Our Data\n",
        "\n",
        "Let's take a look at some training data of past customer leads.  Below, we have eight observations with feature data and the corresponding target value.\n",
        "\n",
        "| Attended College | Under Thirty | Borough   | Income | Customer |\n",
        "| ---------------- | ------------ | --------- | ------ | :------: |\n",
        "| ?                | Yes          | Manhattan | < 55   |    0     |\n",
        "| Yes              | Yes          | Brooklyn  | < 55   |    0     |\n",
        "| ?                | No           | Brooklyn  | < 55   |    1     |\n",
        "| No               | No           | Queens    | > 55   |    1     |\n",
        "| ?                | No           | Queens    | < 55   |    1     |\n",
        "| Yes              | No           | Queens    | >55    |    0     |\n",
        "| Yes              | No           | Queens    | >55    |    0     |\n",
        "| Yes              | Yes          | Manhattan | >55    |    0     |\n",
        "\n",
        "As we know, we start with this training data, and from this training data, we want to find a hypothesis function that will predict the target of our of our past, and ideally our future data. \n",
        "\n",
        "So now we want to find a pattern in the data that arrives at a hypothesis function.  That's training.  Let's get to it."
      ]
    },
    {
      "cell_type": "markdown",
      "metadata": {
        "id": "gTqZDOOoDWnD",
        "colab_type": "text"
      },
      "source": [
        "## The first steps"
      ]
    },
    {
      "cell_type": "markdown",
      "metadata": {
        "id": "o-iNvwOjDWnD",
        "colab_type": "text"
      },
      "source": [
        "Ok, so looking at our training data, how would you use the data to predict if someone will become a customer or not?"
      ]
    },
    {
      "cell_type": "markdown",
      "metadata": {
        "id": "Ao9gS2uoDWnF",
        "colab_type": "text"
      },
      "source": [
        "| Attended College | Under Thirty | Borough   | Income | Customer |\n",
        "| ---------------- | ------------ | --------- | ------ | :------: |\n",
        "| ?                | Yes          | Manhattan | < 55   |    0     |\n",
        "| Yes              | Yes          | Brooklyn  | < 55   |    0     |\n",
        "| ?                | No           | Brooklyn  | < 55   |    1     |\n",
        "| No               | No           | Queens    | > 55   |    1     |\n",
        "| ?                | No           | Queens    | < 55   |    1     |\n",
        "| Yes              | No           | Queens    | >55    |    0     |\n",
        "| Yes              | No           | Queens    | >55    |    0     |\n",
        "| Yes              | Yes          | Manhattan | >55    |    0     |"
      ]
    },
    {
      "cell_type": "markdown",
      "metadata": {
        "id": "FwI2EICODWnG",
        "colab_type": "text"
      },
      "source": [
        "We begin by finding the feature that most separates the data by the outcomes. For example, let's split the training data by the attended college feature. "
      ]
    },
    {
      "cell_type": "markdown",
      "metadata": {
        "id": "qFNjX8nZDWnG",
        "colab_type": "text"
      },
      "source": [
        "<img src=\"https://storage.googleapis.com/curriculum-assets/intro-to-ml/customer-leads-4.png\" width=\"50%\">"
      ]
    },
    {
      "cell_type": "markdown",
      "metadata": {
        "id": "y5mJJoAHDWnH",
        "colab_type": "text"
      },
      "source": [
        "> Focus in on the 1s and 0s in the bottom layer of the tree.  \n",
        "\n",
        "What the above graph indicates is that:\n",
        "* All of the leads that *did* go to college ended up becoming customers\n",
        "* The one lead that didn't, did not end up becoming a customer, and the rest are mixed.  \n",
        "\n",
        "> You can check the training data table to confirm this.\n",
        "\n",
        "Now let's try another feature.  Let's see what happens if we were to split the data based on someone's income."
      ]
    },
    {
      "cell_type": "markdown",
      "metadata": {
        "id": "MV98XaAEDWnH",
        "colab_type": "text"
      },
      "source": [
        "<img src=\"https://storage.googleapis.com/curriculum-assets/intro-to-ml/customer-leads-3.png\" width=\"50%\">"
      ]
    },
    {
      "cell_type": "markdown",
      "metadata": {
        "id": "uQHbw_koDWnI",
        "colab_type": "text"
      },
      "source": [
        "Here if we split our data according to income, we are not as cleanly separating customers between non-customers.  Notice that each subgroup has both customers and non-customers.\n",
        "\n",
        "So separating our data by the attended college feature does a better of distinguishing between customers and non-customers than separating data by the income feature."
      ]
    },
    {
      "cell_type": "markdown",
      "metadata": {
        "id": "z0qU-yC4DWnI",
        "colab_type": "text"
      },
      "source": [
        "## Our Training Procedure"
      ]
    },
    {
      "cell_type": "markdown",
      "metadata": {
        "id": "PEV2XAGMDWnJ",
        "colab_type": "text"
      },
      "source": [
        "So that is what we'll do:\n",
        "\n",
        "* We'll go through every feature, one by one, and find the feature that most separates our training data between customers and non-customers.  \n",
        "\n",
        "Here, the feature that most separates our training data between customers and non-customers is `college`."
      ]
    },
    {
      "cell_type": "markdown",
      "metadata": {
        "id": "8corhf6TDWnK",
        "colab_type": "text"
      },
      "source": [
        "<img src=\"https://storage.googleapis.com/curriculum-assets/intro-to-ml/customer-leads-4.png\" width=\"50%\">"
      ]
    },
    {
      "cell_type": "markdown",
      "metadata": {
        "id": "2EunLNTBDWnK",
        "colab_type": "text"
      },
      "source": [
        "> For this lesson, let's skip over *how* we find the feature that most separates the training data.  For now, we'll simply eyeball it."
      ]
    },
    {
      "cell_type": "markdown",
      "metadata": {
        "id": "2HzTAq_qDWnL",
        "colab_type": "text"
      },
      "source": [
        "So now that we found this feature, we can make college the first test in our hypothesis function.  \n",
        "\n",
        "> Hypothesis function, version 1."
      ]
    },
    {
      "cell_type": "markdown",
      "metadata": {
        "id": "aRfnBnQDDWnM",
        "colab_type": "text"
      },
      "source": [
        "<img src=\"https://storage.googleapis.com/curriculum-assets/intro-to-ml/customer-leads-6.png\" width=\"50%\">"
      ]
    },
    {
      "cell_type": "markdown",
      "metadata": {
        "id": "qyfPo2NuDWnN",
        "colab_type": "text"
      },
      "source": [
        "So right now, if a lead attended college, the hypothesis function predicts she becomes a customer, and if not it predicts she will not become a customer.  \n",
        "\n",
        "Notice that our hypothesis function **does not not make a prediction** for the observations with a value of `?`.  This is because the `?` did not perfectly separate our data.  \n",
        "\n",
        "Remember?\n",
        "\n",
        "<img src=\"https://storage.googleapis.com/curriculum-assets/intro-to-ml/customer-leads-4.png\" width=\"40%\">"
      ]
    },
    {
      "cell_type": "markdown",
      "metadata": {
        "id": "I9rVn3HSDWnN",
        "colab_type": "text"
      },
      "source": [
        "So we separate this remaining mixed data in the `?` subgroup by making another split.  \n",
        "\n",
        "This brings us to the next step."
      ]
    },
    {
      "cell_type": "markdown",
      "metadata": {
        "id": "sSd56SxVDWnO",
        "colab_type": "text"
      },
      "source": [
        "2. Find the feature that most separates our *remaining mixed data data*."
      ]
    },
    {
      "cell_type": "markdown",
      "metadata": {
        "id": "LYiwxn5tDWnP",
        "colab_type": "text"
      },
      "source": [
        "So as we saw above, splitting our observations by the attended college feature perfectly separated all of our data, except for those with a `?` value for college.  Let's zoom in on those three observations."
      ]
    },
    {
      "cell_type": "markdown",
      "metadata": {
        "id": "JEvVvGqIDWnP",
        "colab_type": "text"
      },
      "source": [
        "| Attended College | Under Thirty | Borough   | Income | Customer |\n",
        "| ---------------- | ------------ | --------- | ------ | :------: |\n",
        "| ?                | Yes          | Manhattan | < 55   |    0     |\n",
        "| ?                | No           | Brooklyn  | < 55   |    1     |\n",
        "| ?                | No           | Queens    | < 55   |    1     |\n"
      ]
    },
    {
      "cell_type": "markdown",
      "metadata": {
        "id": "M-LU25a9DWnQ",
        "colab_type": "text"
      },
      "source": [
        "Our next step is to find the feature that most separates this *remaining data*.  Look at the chart above.  Do you see it?\n",
        "\n",
        "Well it's whether or not someone is under 30.  Let's take a look."
      ]
    },
    {
      "cell_type": "markdown",
      "metadata": {
        "id": "Z8FrbA4wDWnQ",
        "colab_type": "text"
      },
      "source": [
        "<img src=\"https://storage.googleapis.com/curriculum-assets/intro-to-ml/remaining-leads.png\" width=\"40%\">"
      ]
    },
    {
      "cell_type": "markdown",
      "metadata": {
        "id": "dONesvucDWnR",
        "colab_type": "text"
      },
      "source": [
        "So splitting the remaining data by under 30 *perfectly separates* this mixed group of data.  And now that we've identified this feature to split by, we add this to our hypothesis function. \n",
        "\n",
        "This takes our hypothesis function from here:"
      ]
    },
    {
      "cell_type": "markdown",
      "metadata": {
        "id": "AIn7Zy-5DWnR",
        "colab_type": "text"
      },
      "source": [
        "<img src=\"https://storage.googleapis.com/curriculum-assets/intro-to-ml/customer-leads-6.png\" width=\"50%\">"
      ]
    },
    {
      "cell_type": "markdown",
      "metadata": {
        "id": "92hLcdaSDWnS",
        "colab_type": "text"
      },
      "source": [
        "To here:"
      ]
    },
    {
      "cell_type": "markdown",
      "metadata": {
        "id": "KWBEkfORDWnS",
        "colab_type": "text"
      },
      "source": [
        "<img src=\"https://storage.googleapis.com/curriculum-assets/intro-to-ml/decision-tree-real-estate.png\" width=\"50%\">"
      ]
    },
    {
      "cell_type": "markdown",
      "metadata": {
        "id": "IpjULBJnDWnT",
        "colab_type": "text"
      },
      "source": [
        "Let's summarize our training procedure for finding our hypothesis function as follows:"
      ]
    },
    {
      "cell_type": "markdown",
      "metadata": {
        "id": "MTNrxETSDWnU",
        "colab_type": "text"
      },
      "source": [
        "**Start with a mixed group of training data, and then:**\n",
        "\n",
        "1. Find the feature that most separates the data by the target values, and\n",
        "\n",
        "<img src=\"https://storage.googleapis.com/curriculum-assets/intro-to-ml/all-obs.png\" width=\"30%\" style=\"float: left;\">\n",
        "<img src=\"https://storage.googleapis.com/curriculum-assets/intro-to-ml/customer-leads-4.png\" width=\"30%\" style=\"float: left;\">"
      ]
    },
    {
      "cell_type": "markdown",
      "metadata": {
        "id": "9wNDcJ34DWna",
        "colab_type": "text"
      },
      "source": [
        "2. Add that feature to the hypothesis function to separate the mixed group"
      ]
    },
    {
      "cell_type": "markdown",
      "metadata": {
        "id": "p6q5diiwDWnb",
        "colab_type": "text"
      },
      "source": [
        "<img src=\"https://storage.googleapis.com/curriculum-assets/intro-to-ml/customer-leads-6.png\" width=\"30%\" style=\"float: left;\">"
      ]
    },
    {
      "cell_type": "markdown",
      "metadata": {
        "id": "7jidh4wnDWnb",
        "colab_type": "text"
      },
      "source": [
        "3. Then for each remaining group of mixed data, repeat steps one through three"
      ]
    },
    {
      "cell_type": "markdown",
      "metadata": {
        "id": "lwsx5OPmDWnc",
        "colab_type": "text"
      },
      "source": [
        "<img src=\"https://storage.googleapis.com/curriculum-assets/intro-to-ml/remaining-obs.png\" width=\"30%\" style=\"float: left;\">\n",
        "<img src=\"https://storage.googleapis.com/curriculum-assets/intro-to-ml/remaining-leads.png\" width=\"30%\" style=\"float: left;\">"
      ]
    },
    {
      "cell_type": "markdown",
      "metadata": {
        "id": "tNF6LZ61DWnd",
        "colab_type": "text"
      },
      "source": [
        "**Stop** when there are no remaining mixed groups, and you'll have the final hypothesis function."
      ]
    },
    {
      "cell_type": "markdown",
      "metadata": {
        "id": "wl-DecuvDWne",
        "colab_type": "text"
      },
      "source": [
        "<img src=\"https://storage.googleapis.com/curriculum-assets/intro-to-ml/decision-tree-real-estate.png\" width=\"30%\" style=\"float: left;\">"
      ]
    },
    {
      "cell_type": "markdown",
      "metadata": {
        "id": "0_bsjBvTDWne",
        "colab_type": "text"
      },
      "source": [
        "### Summary"
      ]
    },
    {
      "cell_type": "markdown",
      "metadata": {
        "id": "BygV2QeTDWnf",
        "colab_type": "text"
      },
      "source": [
        "In this lesson we went through the training procedure for decision trees.  We saw that the process involved the following steps.\n",
        "\n",
        "1. Find the feature that most separates the data by the target values, and\n",
        "2. Add that feature to the hypothesis function to separate the mixed group\n",
        "3. Then for each remaining group of mixed data, repeat steps one through three\n",
        "**Stop** when there are no remaining mixed groups."
      ]
    },
    {
      "cell_type": "markdown",
      "metadata": {
        "id": "LGYZKbciDWnf",
        "colab_type": "text"
      },
      "source": [
        "<center>\n",
        "<a href=\"https://www.jigsawlabs.io/free\" style=\"position: center\"><img src=\"https://storage.cloud.google.com/curriculum-assets/curriculum-assets.nosync/mom-files/jigsaw-labs.png\" width=\"15%\" style=\"text-align: center\"></a>\n",
        "</center>"
      ]
    }
  ]
}