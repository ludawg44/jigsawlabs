{
  "nbformat": 4,
  "nbformat_minor": 0,
  "metadata": {
    "kernelspec": {
      "display_name": "Python 3",
      "language": "python",
      "name": "python3"
    },
    "language_info": {
      "codemirror_mode": {
        "name": "ipython",
        "version": 3
      },
      "file_extension": ".py",
      "mimetype": "text/x-python",
      "name": "python",
      "nbconvert_exporter": "python",
      "pygments_lexer": "ipython3",
      "version": "3.7.4"
    },
    "colab": {
      "name": "Copy of 1-evaluating-the-model.ipynb",
      "provenance": [],
      "include_colab_link": true
    }
  },
  "cells": [
    {
      "cell_type": "markdown",
      "metadata": {
        "id": "view-in-github",
        "colab_type": "text"
      },
      "source": [
        "<a href=\"https://colab.research.google.com/github/ludawg44/jigsawlabs/blob/master/14Apr20_1_evaluating_the_model.ipynb\" target=\"_parent\"><img src=\"https://colab.research.google.com/assets/colab-badge.svg\" alt=\"Open In Colab\"/></a>"
      ]
    },
    {
      "cell_type": "markdown",
      "metadata": {
        "id": "3p8Bh6LmVA1a",
        "colab_type": "text"
      },
      "source": [
        "# Evaluating the model"
      ]
    },
    {
      "cell_type": "markdown",
      "metadata": {
        "id": "QgX7dLmmVA1b",
        "colab_type": "text"
      },
      "source": [
        "### Introduction "
      ]
    },
    {
      "cell_type": "markdown",
      "metadata": {
        "id": "8dXx4U5UVA1b",
        "colab_type": "text"
      },
      "source": [
        "Now that we have learned about fitting a model, let's see how we can tell if our model is any good."
      ]
    },
    {
      "cell_type": "code",
      "metadata": {
        "id": "QfpwebmKVA1d",
        "colab_type": "code",
        "colab": {}
      },
      "source": [
        "import pandas as pd\n",
        "df = pd.read_csv('https://raw.githubusercontent.com/jigsawlabs-student/train-test-split/master/imdb_movies.csv')"
      ],
      "execution_count": 0,
      "outputs": []
    },
    {
      "cell_type": "code",
      "metadata": {
        "id": "qxdVp5MsVA1h",
        "colab_type": "code",
        "colab": {}
      },
      "source": [
        "X = df[['budget']]\n",
        "y =  df['revenue']"
      ],
      "execution_count": 0,
      "outputs": []
    },
    {
      "cell_type": "code",
      "metadata": {
        "id": "JKDeTri7VA1k",
        "colab_type": "code",
        "colab": {}
      },
      "source": [
        "from sklearn.linear_model import LinearRegression\n",
        "model = LinearRegression().fit(X, y)\n",
        "predictions = model.predict(X)"
      ],
      "execution_count": 0,
      "outputs": []
    },
    {
      "cell_type": "markdown",
      "metadata": {
        "id": "xQjwPG_eVA1n",
        "colab_type": "text"
      },
      "source": [
        "### Squared Error"
      ]
    },
    {
      "cell_type": "markdown",
      "metadata": {
        "id": "_KtvT9TJVA1n",
        "colab_type": "text"
      },
      "source": [
        "The most obvious way to evaluate our model is by looking to our cost function.  Remember how we defined our cost function:"
      ]
    },
    {
      "cell_type": "markdown",
      "metadata": {
        "id": "vz_T94hYVA1o",
        "colab_type": "text"
      },
      "source": [
        "$J = \\sum_{i=1}^m (y_i - \\hat{y_i})^2$\n",
        "\n",
        "1.   List item\n",
        "2.   List item\n",
        "\n"
      ]
    },
    {
      "cell_type": "markdown",
      "metadata": {
        "id": "ZeAO7W_JVA1o",
        "colab_type": "text"
      },
      "source": [
        "This is our residual sum of squares.  For every observation, we calculate actual minus expected, square the value, and then sum the differences.  \n",
        "\n",
        "One thing that might be useful is to get a sense of the average error of each data point.  Well to get there, we can use the following formula:"
      ]
    },
    {
      "cell_type": "markdown",
      "metadata": {
        "id": "2Y5tYMFGVA1p",
        "colab_type": "text"
      },
      "source": [
        "$\\sqrt{\\frac{1}{m}\\sum_{i=1}^m (y_i - \\hat{y_i})^2}$"
      ]
    },
    {
      "cell_type": "markdown",
      "metadata": {
        "id": "_B4vHzq-VA1p",
        "colab_type": "text"
      },
      "source": [
        "So we divided by the size of our dataset to get to the average squared error, and then we took the square root to undo the effect of squaring the residuals.  This is called the root mean squared error."
      ]
    },
    {
      "cell_type": "markdown",
      "metadata": {
        "id": "5zjtd7aPVA1q",
        "colab_type": "text"
      },
      "source": [
        "$RMSE = \\sqrt{\\frac{1}{m}\\sum_{i=1}^m (y_i - \\hat{y_i})^2}$"
      ]
    },
    {
      "cell_type": "markdown",
      "metadata": {
        "id": "iLWxUOuQVA1q",
        "colab_type": "text"
      },
      "source": [
        "We can use sklearn to help us with the calculation."
      ]
    },
    {
      "cell_type": "code",
      "metadata": {
        "id": "eWxa_fHYVA1r",
        "colab_type": "code",
        "outputId": "30cd7f9f-ac0d-4a17-ed5b-3ebec5922ccf",
        "colab": {
          "base_uri": "https://localhost:8080/",
          "height": 34
        }
      },
      "source": [
        "from sklearn.metrics import mean_squared_error\n",
        "\n",
        "mean_squared_error(y, predictions)"
      ],
      "execution_count": 0,
      "outputs": [
        {
          "output_type": "execute_result",
          "data": {
            "text/plain": [
              "2.5428514417101796e+16"
            ]
          },
          "metadata": {
            "tags": []
          },
          "execution_count": 4
        }
      ]
    },
    {
      "cell_type": "markdown",
      "metadata": {
        "id": "6NFlNhb_VA1u",
        "colab_type": "text"
      },
      "source": [
        "Then we just take the square root."
      ]
    },
    {
      "cell_type": "code",
      "metadata": {
        "id": "e4YrCPzHVA1v",
        "colab_type": "code",
        "outputId": "a6fd7af7-13e3-47be-c519-ae3dc0dfecb1",
        "colab": {
          "base_uri": "https://localhost:8080/",
          "height": 34
        }
      },
      "source": [
        "import numpy as np\n",
        "np.sqrt(mean_squared_error(y, predictions))"
      ],
      "execution_count": 0,
      "outputs": [
        {
          "output_type": "execute_result",
          "data": {
            "text/plain": [
              "159463207.0952475"
            ]
          },
          "metadata": {
            "tags": []
          },
          "execution_count": 5
        }
      ]
    },
    {
      "cell_type": "markdown",
      "metadata": {
        "id": "spC4ke5aVA1z",
        "colab_type": "text"
      },
      "source": [
        "The root mean squared error gives us a sense of the average error for each observation.    This can be helpful.  If we make a single prediction, we would want to get a sense of how accurate we expect the prediction to be.\n",
        "\n",
        "But one issue with the root mean squared error is the values of the target, the larger our error.  For example, if we looking we are predicting ticket sales of a single movie theater we would expect a smaller RMSE than predicting ticket sales of a movie theater chain.   "
      ]
    },
    {
      "cell_type": "markdown",
      "metadata": {
        "id": "_PKJ63gxVA1z",
        "colab_type": "text"
      },
      "source": [
        "### The Coefficient of Determination"
      ]
    },
    {
      "cell_type": "markdown",
      "metadata": {
        "id": "wtvdGItxVA10",
        "colab_type": "text"
      },
      "source": [
        "The coefficient of determination, or $r^2$ by contrast does not depend on the units of the domain."
      ]
    },
    {
      "cell_type": "markdown",
      "metadata": {
        "id": "lBaMX2MvVA10",
        "colab_type": "text"
      },
      "source": [
        "> The coefficient of determination is proportion of the variance in our target variable that is explained by our model."
      ]
    },
    {
      "cell_type": "markdown",
      "metadata": {
        "id": "ZdRfexNwVA11",
        "colab_type": "text"
      },
      "source": [
        "Let's explain by way of example."
      ]
    },
    {
      "cell_type": "markdown",
      "metadata": {
        "id": "aB7KPjojVA11",
        "colab_type": "text"
      },
      "source": [
        "The coefficient of determination evaluates our model with the following logic.  It first asks, what if we didn't bother using a machine learning model, but instead just predicted our target with the mean.  How much better does our model do in predicting our target variables than the mean."
      ]
    },
    {
      "cell_type": "markdown",
      "metadata": {
        "id": "efEQO1mgVA12",
        "colab_type": "text"
      },
      "source": [
        "Ok, so answer this question, we first can see how the sum of the squared errors if we predicted each target just by using the mean."
      ]
    },
    {
      "cell_type": "code",
      "metadata": {
        "id": "YwWxByA3VA12",
        "colab_type": "code",
        "outputId": "f68df571-7d5a-428f-ac54-ad5951bcd273",
        "colab": {
          "base_uri": "https://localhost:8080/",
          "height": 34
        }
      },
      "source": [
        "import numpy as np\n",
        "TSS = np.sum((y - y.mean())**2)\n",
        "TSS"
      ],
      "execution_count": 0,
      "outputs": [
        {
          "output_type": "execute_result",
          "data": {
            "text/plain": [
              "9.559548134397162e+19"
            ]
          },
          "metadata": {
            "tags": []
          },
          "execution_count": 6
        }
      ]
    },
    {
      "cell_type": "markdown",
      "metadata": {
        "id": "275gRy91VA15",
        "colab_type": "text"
      },
      "source": [
        "This number is called the **total sum of squares**.  \n",
        "\n",
        "> It is proportional to the variance in the data."
      ]
    },
    {
      "cell_type": "markdown",
      "metadata": {
        "id": "gAZmXOL2VA15",
        "colab_type": "text"
      },
      "source": [
        "The next step is to calculate the RSS of our model."
      ]
    },
    {
      "cell_type": "code",
      "metadata": {
        "id": "kn90RBAbVA16",
        "colab_type": "code",
        "outputId": "07df4707-0064-4b74-b67e-356133caa02e",
        "colab": {
          "base_uri": "https://localhost:8080/",
          "height": 34
        }
      },
      "source": [
        "RSS = np.sum((y - predictions)**2)\n",
        "RSS"
      ],
      "execution_count": 0,
      "outputs": [
        {
          "output_type": "execute_result",
          "data": {
            "text/plain": [
              "5.085702883420359e+19"
            ]
          },
          "metadata": {
            "tags": []
          },
          "execution_count": 7
        }
      ]
    },
    {
      "cell_type": "markdown",
      "metadata": {
        "id": "7zzWw1ULVA19",
        "colab_type": "text"
      },
      "source": [
        "Then we divide the two."
      ]
    },
    {
      "cell_type": "code",
      "metadata": {
        "id": "nnKLPOu7VA19",
        "colab_type": "code",
        "outputId": "7c26ffa5-089b-4b17-edd2-16ccbf33ff2d",
        "colab": {
          "base_uri": "https://localhost:8080/",
          "height": 34
        }
      },
      "source": [
        "RSS/TSS"
      ],
      "execution_count": 0,
      "outputs": [
        {
          "output_type": "execute_result",
          "data": {
            "text/plain": [
              "0.5320024348348626"
            ]
          },
          "metadata": {
            "tags": []
          },
          "execution_count": 8
        }
      ]
    },
    {
      "cell_type": "markdown",
      "metadata": {
        "id": "nIvH9dkKVA2A",
        "colab_type": "text"
      },
      "source": [
        "Now if you look at the above formula, the larger the RSS relative to the TSS, the better the score.  We don't want that, so the last step is to calculate $1 - RSS/TSS$."
      ]
    },
    {
      "cell_type": "code",
      "metadata": {
        "id": "qmURO978VA2B",
        "colab_type": "code",
        "outputId": "34a6c2f6-18a2-4a70-9f6e-2573b3b47c7a",
        "colab": {
          "base_uri": "https://localhost:8080/",
          "height": 34
        }
      },
      "source": [
        "r_2 = 1 - RSS/TSS\n",
        "r_2"
      ],
      "execution_count": 0,
      "outputs": [
        {
          "output_type": "execute_result",
          "data": {
            "text/plain": [
              "0.46799756516513735"
            ]
          },
          "metadata": {
            "tags": []
          },
          "execution_count": 9
        }
      ]
    },
    {
      "cell_type": "code",
      "metadata": {
        "id": "snztQAFgVA2D",
        "colab_type": "code",
        "outputId": "2a794edc-1079-4941-8347-ad6dbfd3ee1e",
        "colab": {
          "base_uri": "https://localhost:8080/",
          "height": 34
        }
      },
      "source": [
        "model.score(X, y)"
      ],
      "execution_count": 0,
      "outputs": [
        {
          "output_type": "execute_result",
          "data": {
            "text/plain": [
              "0.46799756516513735"
            ]
          },
          "metadata": {
            "tags": []
          },
          "execution_count": 10
        }
      ]
    },
    {
      "cell_type": "markdown",
      "metadata": {
        "id": "-NfgJPohVA2G",
        "colab_type": "text"
      },
      "source": [
        "This is called the residual sum of squares.  It is 1 - the residual sum of squares relative to the total sum of squares."
      ]
    },
    {
      "cell_type": "markdown",
      "metadata": {
        "id": "O0v8ULSiVA2G",
        "colab_type": "text"
      },
      "source": [
        "### Summary"
      ]
    },
    {
      "cell_type": "markdown",
      "metadata": {
        "id": "4CxcPhsdVA2H",
        "colab_type": "text"
      },
      "source": [
        "In this lesson we learned about the two main ways to evaluate a regression model.  The first is root mean squared error, which allows us to get a sense of the average deviation of our prediction versus the observed target value.  The second is the coefficient of determination, also known as $r^2$, which tells us how much of the variance in our target variable that is explained by our model, relative to just predicting the mean of the target."
      ]
    }
  ]
}