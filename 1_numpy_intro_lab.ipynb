{
  "nbformat": 4,
  "nbformat_minor": 0,
  "metadata": {
    "kernelspec": {
      "display_name": "Python 3",
      "language": "python",
      "name": "python3"
    },
    "language_info": {
      "codemirror_mode": {
        "name": "ipython",
        "version": 3
      },
      "file_extension": ".py",
      "mimetype": "text/x-python",
      "name": "python",
      "nbconvert_exporter": "python",
      "pygments_lexer": "ipython3",
      "version": "3.7.4"
    },
    "colab": {
      "name": "1-numpy-intro-lab.ipynb",
      "provenance": [],
      "include_colab_link": true
    }
  },
  "cells": [
    {
      "cell_type": "markdown",
      "metadata": {
        "id": "view-in-github",
        "colab_type": "text"
      },
      "source": [
        "<a href=\"https://colab.research.google.com/github/ludawg44/jigsawlabs/blob/master/1_numpy_intro_lab.ipynb\" target=\"_parent\"><img src=\"https://colab.research.google.com/assets/colab-badge.svg\" alt=\"Open In Colab\"/></a>"
      ]
    },
    {
      "cell_type": "markdown",
      "metadata": {
        "id": "UcOxinXCwfu5",
        "colab_type": "text"
      },
      "source": [
        "# Numpy Intro Lab"
      ]
    },
    {
      "cell_type": "code",
      "metadata": {
        "id": "b4pOzOI718W-",
        "colab_type": "code",
        "colab": {}
      },
      "source": [
        ""
      ],
      "execution_count": 0,
      "outputs": []
    },
    {
      "cell_type": "markdown",
      "metadata": {
        "id": "rpfTUu02wfu8",
        "colab_type": "text"
      },
      "source": [
        "### Introduction"
      ]
    },
    {
      "cell_type": "markdown",
      "metadata": {
        "id": "0UoGazmIwfu9",
        "colab_type": "text"
      },
      "source": [
        "In this lesson, let's practice working with the fundamentals of numpy arrays.  This will give us a good foundation when we move onto working with higher dimensional arrays (whatever that is), and the pandas library in the future."
      ]
    },
    {
      "cell_type": "markdown",
      "metadata": {
        "id": "ejAaGTVAwfu-",
        "colab_type": "text"
      },
      "source": [
        "### Creating Arrays"
      ]
    },
    {
      "cell_type": "markdown",
      "metadata": {
        "id": "nzfYJv8gwfu_",
        "colab_type": "text"
      },
      "source": [
        "Let's begin by importing the numpy library."
      ]
    },
    {
      "cell_type": "code",
      "metadata": {
        "id": "wCwNAKOFwfvA",
        "colab_type": "code",
        "colab": {}
      },
      "source": [
        "import numpy as np"
      ],
      "execution_count": 0,
      "outputs": []
    },
    {
      "cell_type": "markdown",
      "metadata": {
        "id": "4HfB9u1ZwfvD",
        "colab_type": "text"
      },
      "source": [
        "Next let's use numpy to create a numpy array of even numbers from 2 to 100 and assign this to the variable `even_nums`."
      ]
    },
    {
      "cell_type": "code",
      "metadata": {
        "id": "E26Lp-1VwfvE",
        "colab_type": "code",
        "colab": {}
      },
      "source": [
        "even_nums = None"
      ],
      "execution_count": 0,
      "outputs": []
    },
    {
      "cell_type": "code",
      "metadata": {
        "id": "r4l4nuhAwfvI",
        "colab_type": "code",
        "outputId": "1a9779e7-1a3d-4835-ae94-e446ec7a3157",
        "colab": {
          "base_uri": "https://localhost:8080/",
          "height": 85
        }
      },
      "source": [
        "even_nums = np.array(range(2, 102, 2))\n",
        "even_nums\n",
        "\n",
        "# array([  2,   4,   6,   8,  10,  12,  14,  16,  18,  20,  22,  24,  26,\n",
        "#         28,  30,  32,  34,  36,  38,  40,  42,  44,  46,  48,  50,  52,\n",
        "#         54,  56,  58,  60,  62,  64,  66,  68,  70,  72,  74,  76,  78,\n",
        "#         80,  82,  84,  86,  88,  90,  92,  94,  96,  98, 100])"
      ],
      "execution_count": 0,
      "outputs": [
        {
          "output_type": "execute_result",
          "data": {
            "text/plain": [
              "array([  2,   4,   6,   8,  10,  12,  14,  16,  18,  20,  22,  24,  26,\n",
              "        28,  30,  32,  34,  36,  38,  40,  42,  44,  46,  48,  50,  52,\n",
              "        54,  56,  58,  60,  62,  64,  66,  68,  70,  72,  74,  76,  78,\n",
              "        80,  82,  84,  86,  88,  90,  92,  94,  96,  98, 100])"
            ]
          },
          "metadata": {
            "tags": []
          },
          "execution_count": 23
        }
      ]
    },
    {
      "cell_type": "markdown",
      "metadata": {
        "id": "jNZSNHr5wfvL",
        "colab_type": "text"
      },
      "source": [
        "Next, select the first 25 entries in numpy."
      ]
    },
    {
      "cell_type": "code",
      "metadata": {
        "id": "XorhX1_EwfvM",
        "colab_type": "code",
        "colab": {}
      },
      "source": [
        "first_half_even = even_nums[:25]"
      ],
      "execution_count": 0,
      "outputs": []
    },
    {
      "cell_type": "code",
      "metadata": {
        "id": "MvHujSZ9wfvP",
        "colab_type": "code",
        "outputId": "7241f068-e875-4a53-9da2-d9e231607cba",
        "colab": {}
      },
      "source": [
        "len(first_half_even)\n",
        "\n",
        "# 25"
      ],
      "execution_count": 0,
      "outputs": [
        {
          "output_type": "execute_result",
          "data": {
            "text/plain": [
              "25"
            ]
          },
          "metadata": {
            "tags": []
          },
          "execution_count": 17
        }
      ]
    },
    {
      "cell_type": "markdown",
      "metadata": {
        "id": "QJrebP_-wfvS",
        "colab_type": "text"
      },
      "source": [
        "### Working with DataTypes"
      ]
    },
    {
      "cell_type": "markdown",
      "metadata": {
        "id": "ML2g80wBwfvS",
        "colab_type": "text"
      },
      "source": [
        "Ok, now let's check the datatype of the numpy array `even_nums`."
      ]
    },
    {
      "cell_type": "code",
      "metadata": {
        "id": "wKBw9jq5wfvT",
        "colab_type": "code",
        "outputId": "cecd2bd2-02da-42d3-d7be-206e97d609bb",
        "colab": {
          "base_uri": "https://localhost:8080/",
          "height": 34
        }
      },
      "source": [
        "even_nums.dtype\n",
        "\n",
        "# dtype('int64')"
      ],
      "execution_count": 0,
      "outputs": [
        {
          "output_type": "execute_result",
          "data": {
            "text/plain": [
              "dtype('int64')"
            ]
          },
          "metadata": {
            "tags": []
          },
          "execution_count": 26
        }
      ]
    },
    {
      "cell_type": "markdown",
      "metadata": {
        "id": "xIJ2JRPmwfvV",
        "colab_type": "text"
      },
      "source": [
        "From our `even_nums` array, use `astype` to create an array of type `float64`, and assign it to the variable `even_floats`."
      ]
    },
    {
      "cell_type": "code",
      "metadata": {
        "id": "UJJ1176owfvW",
        "colab_type": "code",
        "colab": {}
      },
      "source": [
        "even_floats = first_half_even"
      ],
      "execution_count": 0,
      "outputs": []
    },
    {
      "cell_type": "code",
      "metadata": {
        "id": "5s7f007DwfvZ",
        "colab_type": "code",
        "outputId": "716a3227-08a8-4b1d-85df-9c641f978f6f",
        "colab": {
          "base_uri": "https://localhost:8080/",
          "height": 51
        }
      },
      "source": [
        "even_floats.astype(np.float64)\n",
        "# array([ 2.,  4.,  6.,  8., 10., 12., 14., 16., 18., 20., 22., 24., 26.,\n",
        "#        28., 30., 32., 34., 36., 38., 40., 42., 44., 46., 48., 50.])\n"
      ],
      "execution_count": 0,
      "outputs": [
        {
          "output_type": "execute_result",
          "data": {
            "text/plain": [
              "array([ 2.,  4.,  6.,  8., 10., 12., 14., 16., 18., 20., 22., 24., 26.,\n",
              "       28., 30., 32., 34., 36., 38., 40., 42., 44., 46., 48., 50.])"
            ]
          },
          "metadata": {
            "tags": []
          },
          "execution_count": 38
        }
      ]
    },
    {
      "cell_type": "markdown",
      "metadata": {
        "id": "TASb_mz8wfvb",
        "colab_type": "text"
      },
      "source": [
        "> The decimal point after each number indicates a datatype of float."
      ]
    },
    {
      "cell_type": "markdown",
      "metadata": {
        "id": "O2d1TA1Dwfvc",
        "colab_type": "text"
      },
      "source": [
        "Next, let's make a copy of our `even_nums` and change the datatype to type string."
      ]
    },
    {
      "cell_type": "code",
      "metadata": {
        "id": "XlXnuAlAwfve",
        "colab_type": "code",
        "outputId": "b7786574-ce8a-4314-d625-4979d00be623",
        "colab": {
          "base_uri": "https://localhost:8080/",
          "height": 68
        }
      },
      "source": [
        "first_half_even.astype(np.str_)\n",
        "\n",
        "# array(['2', '4', '6', '8', '10', '12', '14', '16', '18', '20', '22', '24',\n",
        "#        '26', '28', '30', '32', '34', '36', '38', '40', '42', '44', '46',\n",
        "#        '48', '50'], dtype='<U21')"
      ],
      "execution_count": 0,
      "outputs": [
        {
          "output_type": "execute_result",
          "data": {
            "text/plain": [
              "array(['2', '4', '6', '8', '10', '12', '14', '16', '18', '20', '22', '24',\n",
              "       '26', '28', '30', '32', '34', '36', '38', '40', '42', '44', '46',\n",
              "       '48', '50'], dtype='<U21')"
            ]
          },
          "metadata": {
            "tags": []
          },
          "execution_count": 32
        }
      ]
    },
    {
      "cell_type": "markdown",
      "metadata": {
        "id": "eMcpsHa3wfvg",
        "colab_type": "text"
      },
      "source": [
        "> The `U` stands for unicode. Unicode is a information technology standard for the consistent encoding, representation, and handling of text expressed in most of the world's writing systems.  - [Wikipedia](https://en.wikipedia.org/wiki/Unicode)"
      ]
    },
    {
      "cell_type": "markdown",
      "metadata": {
        "id": "vcCSmZjIwfvh",
        "colab_type": "text"
      },
      "source": [
        "### Broadcasting "
      ]
    },
    {
      "cell_type": "markdown",
      "metadata": {
        "id": "f-tzlrdCwfvi",
        "colab_type": "text"
      },
      "source": [
        "Now let's move onto working with broadcasting.  Start with `even_nums`, and decrease each item in the array by 1.  Assign the result to the variable `odd_nums`."
      ]
    },
    {
      "cell_type": "code",
      "metadata": {
        "id": "rWaxSiPMwfvi",
        "colab_type": "code",
        "colab": {}
      },
      "source": [
        "odd_nums = even_nums - 1"
      ],
      "execution_count": 0,
      "outputs": []
    },
    {
      "cell_type": "code",
      "metadata": {
        "id": "b_ximw9nwfvl",
        "colab_type": "code",
        "outputId": "a432d56a-fa8b-4914-b6d0-bbf872a25ed0",
        "colab": {
          "base_uri": "https://localhost:8080/",
          "height": 68
        }
      },
      "source": [
        "odd_nums\n",
        "\n",
        "# array([ 1,  3,  5,  7,  9, 11, 13, 15, 17, 19, 21, 23, 25, 27, 29, 31, 33,\n",
        "#        35, 37, 39, 41, 43, 45, 47, 49, 51, 53, 55, 57, 59, 61, 63, 65, 67,\n",
        "#        69, 71, 73, 75, 77, 79, 81, 83, 85, 87, 89, 91, 93, 95, 97, 99])"
      ],
      "execution_count": 0,
      "outputs": [
        {
          "output_type": "execute_result",
          "data": {
            "text/plain": [
              "array([ 1,  3,  5,  7,  9, 11, 13, 15, 17, 19, 21, 23, 25, 27, 29, 31, 33,\n",
              "       35, 37, 39, 41, 43, 45, 47, 49, 51, 53, 55, 57, 59, 61, 63, 65, 67,\n",
              "       69, 71, 73, 75, 77, 79, 81, 83, 85, 87, 89, 91, 93, 95, 97, 99])"
            ]
          },
          "metadata": {
            "tags": []
          },
          "execution_count": 36
        }
      ]
    },
    {
      "cell_type": "markdown",
      "metadata": {
        "id": "GxaLe2Yzwfvn",
        "colab_type": "text"
      },
      "source": [
        "Notice that the original array is unchanged."
      ]
    },
    {
      "cell_type": "code",
      "metadata": {
        "id": "wu8HwmhMwfvo",
        "colab_type": "code",
        "outputId": "e01e4f9b-7361-46c9-bf4c-5577a7628a6f",
        "colab": {
          "base_uri": "https://localhost:8080/",
          "height": 85
        }
      },
      "source": [
        "even_nums"
      ],
      "execution_count": 0,
      "outputs": [
        {
          "output_type": "execute_result",
          "data": {
            "text/plain": [
              "array([  2,   4,   6,   8,  10,  12,  14,  16,  18,  20,  22,  24,  26,\n",
              "        28,  30,  32,  34,  36,  38,  40,  42,  44,  46,  48,  50,  52,\n",
              "        54,  56,  58,  60,  62,  64,  66,  68,  70,  72,  74,  76,  78,\n",
              "        80,  82,  84,  86,  88,  90,  92,  94,  96,  98, 100])"
            ]
          },
          "metadata": {
            "tags": []
          },
          "execution_count": 39
        }
      ]
    },
    {
      "cell_type": "markdown",
      "metadata": {
        "id": "juZSJl0uwfvq",
        "colab_type": "text"
      },
      "source": [
        "### Adding two arrays"
      ]
    },
    {
      "cell_type": "markdown",
      "metadata": {
        "id": "ekGomrdTwfvr",
        "colab_type": "text"
      },
      "source": [
        "Next, let's see what happens if we add the `even_nums` and `odd_nums` arrays together."
      ]
    },
    {
      "cell_type": "code",
      "metadata": {
        "id": "Lz1DjIpXwfvr",
        "colab_type": "code",
        "outputId": "ec50d90c-7136-4dd0-e057-f59627b65b58",
        "colab": {
          "base_uri": "https://localhost:8080/",
          "height": 85
        }
      },
      "source": [
        "even_nums + odd_nums\n",
        "\n",
        "# array([  3,   7,  11,  15,  19,  23,  27,  31,  35,  39,  43,  47,  51,\n",
        "#         55,  59,  63,  67,  71,  75,  79,  83,  87,  91,  95,  99, 103,\n",
        "#        107, 111, 115, 119, 123, 127, 131, 135, 139, 143, 147, 151, 155,\n",
        "#        159, 163, 167, 171, 175, 179, 183, 187, 191, 195, 199])"
      ],
      "execution_count": 0,
      "outputs": [
        {
          "output_type": "execute_result",
          "data": {
            "text/plain": [
              "array([  3,   7,  11,  15,  19,  23,  27,  31,  35,  39,  43,  47,  51,\n",
              "        55,  59,  63,  67,  71,  75,  79,  83,  87,  91,  95,  99, 103,\n",
              "       107, 111, 115, 119, 123, 127, 131, 135, 139, 143, 147, 151, 155,\n",
              "       159, 163, 167, 171, 175, 179, 183, 187, 191, 195, 199])"
            ]
          },
          "metadata": {
            "tags": []
          },
          "execution_count": 40
        }
      ]
    },
    {
      "cell_type": "markdown",
      "metadata": {
        "id": "OBLXnkwlwfvu",
        "colab_type": "text"
      },
      "source": [
        "We can see that this performs entrywise addition of the two arrays.  "
      ]
    },
    {
      "cell_type": "markdown",
      "metadata": {
        "id": "Om0DIaXjwfvv",
        "colab_type": "text"
      },
      "source": [
        "`[2 + 1, 4 + 3, 6 + 5 ...]`"
      ]
    },
    {
      "cell_type": "markdown",
      "metadata": {
        "id": "ZqVQg6Kdwfvw",
        "colab_type": "text"
      },
      "source": [
        "### Summary"
      ]
    },
    {
      "cell_type": "markdown",
      "metadata": {
        "id": "vSv6bxbowfvx",
        "colab_type": "text"
      },
      "source": [
        "In this lesson, we practiced creating, slicing and broadcasting with numpy arrays.  We also saw to check for and change the datatype in numpy with `dtype` and `astype`."
      ]
    }
  ]
}