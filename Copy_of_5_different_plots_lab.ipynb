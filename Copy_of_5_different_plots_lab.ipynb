{
  "nbformat": 4,
  "nbformat_minor": 0,
  "metadata": {
    "kernelspec": {
      "display_name": "Python 3",
      "language": "python",
      "name": "python3"
    },
    "language_info": {
      "codemirror_mode": {
        "name": "ipython",
        "version": 3
      },
      "file_extension": ".py",
      "mimetype": "text/x-python",
      "name": "python",
      "nbconvert_exporter": "python",
      "pygments_lexer": "ipython3",
      "version": "3.7.4"
    },
    "colab": {
      "name": "Copy of 5-different-plots-lab.ipynb",
      "provenance": [],
      "include_colab_link": true
    }
  },
  "cells": [
    {
      "cell_type": "markdown",
      "metadata": {
        "id": "view-in-github",
        "colab_type": "text"
      },
      "source": [
        "<a href=\"https://colab.research.google.com/github/ludawg44/jigsawlabs/blob/master/Copy_of_5_different_plots_lab.ipynb\" target=\"_parent\"><img src=\"https://colab.research.google.com/assets/colab-badge.svg\" alt=\"Open In Colab\"/></a>"
      ]
    },
    {
      "cell_type": "markdown",
      "metadata": {
        "id": "q7l0zSWddPH6",
        "colab_type": "text"
      },
      "source": [
        "# Different Plots Lab"
      ]
    },
    {
      "cell_type": "markdown",
      "metadata": {
        "id": "sz_TVDb3dPH9",
        "colab_type": "text"
      },
      "source": [
        "### Introduction"
      ]
    },
    {
      "cell_type": "markdown",
      "metadata": {
        "id": "grICSxjndPH-",
        "colab_type": "text"
      },
      "source": [
        "In this lesson, we'll use our burgeoning matplotlib skills to explore our spotify dataset.  Along the way, we'll get practice with visualization distributions, plotting categorical data, and relational data.  "
      ]
    },
    {
      "cell_type": "markdown",
      "metadata": {
        "id": "Ktj_54ROdPH_",
        "colab_type": "text"
      },
      "source": [
        "### Loading our Data"
      ]
    },
    {
      "cell_type": "markdown",
      "metadata": {
        "id": "waKMgb8RdPIA",
        "colab_type": "text"
      },
      "source": [
        "Let's start by loading our libraries."
      ]
    },
    {
      "cell_type": "code",
      "metadata": {
        "id": "YHHfBTPidPIC",
        "colab_type": "code",
        "colab": {}
      },
      "source": [
        "import pandas as pd\n",
        "import numpy as np\n",
        "import matplotlib.pyplot as plt \n",
        "%matplotlib inline\n"
      ],
      "execution_count": 0,
      "outputs": []
    },
    {
      "cell_type": "markdown",
      "metadata": {
        "id": "_U-lVy9cdPIF",
        "colab_type": "text"
      },
      "source": [
        "And the neccessary data."
      ]
    },
    {
      "cell_type": "code",
      "metadata": {
        "id": "ZbmBPz4odPIG",
        "colab_type": "code",
        "colab": {}
      },
      "source": [
        "url = \"https://raw.githubusercontent.com/jigsawlabs-student/matplotlib/master/spotify.csv?token=AADXLBP3J2PZI3ZLTIZ45NK6QNGHO\"\n",
        "df = pd.read_csv(url, encoding = \"ISO-8859-1\", index_col = 0)\n",
        "songs = df.to_numpy()"
      ],
      "execution_count": 0,
      "outputs": []
    },
    {
      "cell_type": "code",
      "metadata": {
        "id": "BsMvlsb_dPII",
        "colab_type": "code",
        "outputId": "ba7f9d95-7632-461a-eebd-198b065f5d57",
        "colab": {}
      },
      "source": [
        "songs[:2]"
      ],
      "execution_count": 0,
      "outputs": [
        {
          "output_type": "execute_result",
          "data": {
            "text/plain": [
              "array([['Hey, Soul Sister', 'Train', 'neo mellow', 2010, 97, 89, 67, -4,\n",
              "        8, 80, 217, 19, 4, 83],\n",
              "       ['Love The Way You Lie', 'Eminem', 'detroit hip hop', 2010, 87,\n",
              "        93, 75, -5, 52, 64, 263, 24, 23, 82]], dtype=object)"
            ]
          },
          "metadata": {
            "tags": []
          },
          "execution_count": 3
        }
      ]
    },
    {
      "cell_type": "code",
      "metadata": {
        "id": "LQB4uW3rdPIL",
        "colab_type": "code",
        "outputId": "a98f3c98-de16-4d60-f529-ef4a2feac55d",
        "colab": {}
      },
      "source": [
        "df.columns"
      ],
      "execution_count": 0,
      "outputs": [
        {
          "output_type": "execute_result",
          "data": {
            "text/plain": [
              "Index(['title', 'artist', 'top genre', 'year', 'bpm', 'nrgy', 'dnce', 'dB',\n",
              "       'live', 'val', 'dur', 'acous', 'spch', 'pop'],\n",
              "      dtype='object')"
            ]
          },
          "metadata": {
            "tags": []
          },
          "execution_count": 5
        }
      ]
    },
    {
      "cell_type": "markdown",
      "metadata": {
        "id": "pF9rX0kfdPIO",
        "colab_type": "text"
      },
      "source": [
        "### Seeing the Scope of the Data"
      ]
    },
    {
      "cell_type": "markdown",
      "metadata": {
        "id": "4q2cpITvdPIP",
        "colab_type": "text"
      },
      "source": [
        "Let's start by getting a sense of what types of genres are included in the dataset.  Let's plot a count of the top eight genres, ordered from highest to lowest.  \n",
        "\n",
        "> Begin by gathering the information in numpy and then we'll move over to matplotlib."
      ]
    },
    {
      "cell_type": "code",
      "metadata": {
        "id": "gjuWCkYVdPIQ",
        "colab_type": "code",
        "colab": {}
      },
      "source": [
        "genres = songs[:, 2]"
      ],
      "execution_count": 0,
      "outputs": []
    },
    {
      "cell_type": "code",
      "metadata": {
        "id": "EfJpcT7KdPIS",
        "colab_type": "code",
        "colab": {}
      },
      "source": [
        "# Feel free to use this cell to do some work"
      ],
      "execution_count": 0,
      "outputs": []
    },
    {
      "cell_type": "code",
      "metadata": {
        "id": "HgQEj1QBdPIU",
        "colab_type": "code",
        "outputId": "ae4045aa-a56b-4981-d387-fa1b9731f641",
        "colab": {}
      },
      "source": [
        "top_eight = None\n",
        "top_eight\n",
        "# array([['dance pop', 327],\n",
        "#        ['pop', 60],\n",
        "#        ['canadian pop', 34],\n",
        "#        ['barbadian pop', 15],\n",
        "#        ['boy band', 15],\n",
        "#        ['electropop', 13],\n",
        "#        ['british soul', 11],\n",
        "#        ['big room', 10]], dtype=object)"
      ],
      "execution_count": 0,
      "outputs": [
        {
          "output_type": "execute_result",
          "data": {
            "text/plain": [
              "array([['dance pop', 327],\n",
              "       ['pop', 60],\n",
              "       ['canadian pop', 34],\n",
              "       ['barbadian pop', 15],\n",
              "       ['boy band', 15],\n",
              "       ['electropop', 13],\n",
              "       ['british soul', 11],\n",
              "       ['big room', 10]], dtype=object)"
            ]
          },
          "metadata": {
            "tags": []
          },
          "execution_count": 23
        }
      ]
    },
    {
      "cell_type": "markdown",
      "metadata": {
        "id": "UGCQ0LprdPIX",
        "colab_type": "text"
      },
      "source": [
        "Once we have the top eight looking like the above, let's create our plot of the categories.  Use a horizontal bar plot (the bars are stacked top to bottom) of the top categories and the related counts."
      ]
    },
    {
      "cell_type": "code",
      "metadata": {
        "id": "bGYxDVrAdPIY",
        "colab_type": "code",
        "outputId": "952c1744-6c25-40f6-911f-6b47589d61ec",
        "colab": {}
      },
      "source": [
        "# display graph here"
      ],
      "execution_count": 0,
      "outputs": [
        {
          "output_type": "execute_result",
          "data": {
            "text/plain": [
              "<BarContainer object of 8 artists>"
            ]
          },
          "metadata": {
            "tags": []
          },
          "execution_count": 25
        },
        {
          "output_type": "display_data",
          "data": {
            "image/png": "[encoded data removed]",
            "text/plain": [
              "<Figure size 432x288 with 1 Axes>"
            ]
          },
          "metadata": {
            "tags": [],
            "needs_background": "light"
          }
        }
      ]
    },
    {
      "cell_type": "markdown",
      "metadata": {
        "id": "8CvEMB7UdPIa",
        "colab_type": "text"
      },
      "source": [
        "> Answer: <img src=\"https://github.com/jigsawlabs-student/matplotlib/blob/master/top-eight-graph.png?raw=1\" width=\"50%\">"
      ]
    },
    {
      "cell_type": "markdown",
      "metadata": {
        "id": "OEes0ZOQdPIb",
        "colab_type": "text"
      },
      "source": [
        "From the above we see that dance pop is the largest category, but is it so different from everything else?"
      ]
    },
    {
      "cell_type": "markdown",
      "metadata": {
        "id": "lpZa8JNsdPIb",
        "colab_type": "text"
      },
      "source": [
        "Let's see if we can compare it to the other songs.  We see from the above, that there are 327 dance pop songs.  How many songs are there in the dataset?"
      ]
    },
    {
      "cell_type": "code",
      "metadata": {
        "id": "EJtIWRY8dPIc",
        "colab_type": "code",
        "outputId": "8e67101d-d5c7-48fa-bfcb-490cd55ee892",
        "colab": {}
      },
      "source": [
        "# display n rows and n columns in dataset\n",
        "# (603, 14)"
      ],
      "execution_count": 0,
      "outputs": [
        {
          "output_type": "execute_result",
          "data": {
            "text/plain": [
              "(603, 14)"
            ]
          },
          "metadata": {
            "tags": []
          },
          "execution_count": 27
        }
      ]
    },
    {
      "cell_type": "markdown",
      "metadata": {
        "id": "xKMLCQrvdPIf",
        "colab_type": "text"
      },
      "source": [
        "So over half of the songs are dance pop.  Let's select all of the songs that are not `dance pop` and then we can start to make some comparisons."
      ]
    },
    {
      "cell_type": "markdown",
      "metadata": {
        "id": "NVzpd3mjdPIg",
        "colab_type": "text"
      },
      "source": [
        "Assign all of the songs that are not dance pop, and assign them to the variable `non_dance_pop_songs`."
      ]
    },
    {
      "cell_type": "code",
      "metadata": {
        "id": "e-MYZVLvdPIg",
        "colab_type": "code",
        "colab": {}
      },
      "source": [
        "non_dance_pop_songs = None"
      ],
      "execution_count": 0,
      "outputs": []
    },
    {
      "cell_type": "code",
      "metadata": {
        "id": "DM2dCL4CdPIi",
        "colab_type": "code",
        "outputId": "7ed7ac33-e9d7-4fd0-a525-3c57bb184b87",
        "colab": {}
      },
      "source": [
        "non_dance_pop_songs.shape\n",
        "# (276, 14)"
      ],
      "execution_count": 0,
      "outputs": [
        {
          "output_type": "execute_result",
          "data": {
            "text/plain": [
              "(276, 14)"
            ]
          },
          "metadata": {
            "tags": []
          },
          "execution_count": 32
        }
      ]
    },
    {
      "cell_type": "markdown",
      "metadata": {
        "id": "n219TravdPIl",
        "colab_type": "text"
      },
      "source": [
        "And select the dance pop songs."
      ]
    },
    {
      "cell_type": "code",
      "metadata": {
        "id": "m6R8SIIIdPIm",
        "colab_type": "code",
        "colab": {}
      },
      "source": [
        "dance_pop_songs = None"
      ],
      "execution_count": 0,
      "outputs": []
    },
    {
      "cell_type": "markdown",
      "metadata": {
        "id": "-ldHVR8gdPIp",
        "colab_type": "text"
      },
      "source": [
        "Ok, now let's begin to plot some of the attributes of the dance pop songs vs `non_dance_pop_songs`."
      ]
    },
    {
      "cell_type": "code",
      "metadata": {
        "id": "v0D2K48tdPIp",
        "colab_type": "code",
        "outputId": "b55149c4-1e5e-4e91-d6bc-6bdce8d65f19",
        "colab": {}
      },
      "source": [
        "df.columns"
      ],
      "execution_count": 0,
      "outputs": [
        {
          "output_type": "execute_result",
          "data": {
            "text/plain": [
              "Index(['title', 'artist', 'top genre', 'year', 'bpm', 'nrgy', 'dnce', 'dB',\n",
              "       'live', 'val', 'dur', 'acous', 'spch', 'pop'],\n",
              "      dtype='object')"
            ]
          },
          "metadata": {
            "tags": []
          },
          "execution_count": 35
        }
      ]
    },
    {
      "cell_type": "markdown",
      "metadata": {
        "id": "sHFfTJ9SdPIs",
        "colab_type": "text"
      },
      "source": [
        "Let's start with the danciness.  Create a figure that has a single subplot with the distributions of the danciness of `dance_pop_songs` and `non_dance_pop_songs`."
      ]
    },
    {
      "cell_type": "markdown",
      "metadata": {
        "id": "uKu_YtVndPIs",
        "colab_type": "text"
      },
      "source": [
        "> We can add keyword arguments of `label = 'dance pop'` and `label = 'non dance pop'`, to our plots to better determine which plot is which."
      ]
    },
    {
      "cell_type": "markdown",
      "metadata": {
        "id": "alWpfFvGdPIt",
        "colab_type": "text"
      },
      "source": [
        "> Have 100 bins in the data."
      ]
    },
    {
      "cell_type": "code",
      "metadata": {
        "id": "Pe60row4dPIv",
        "colab_type": "code",
        "outputId": "55ffb15e-8b38-4f02-a78c-3296da1a514c",
        "colab": {}
      },
      "source": [
        "# write plot here"
      ],
      "execution_count": 0,
      "outputs": [
        {
          "output_type": "stream",
          "text": [
            "none\n"
          ],
          "name": "stdout"
        },
        {
          "output_type": "display_data",
          "data": {
            "image/png": "[encoded data removed]",
            "text/plain": [
              "<Figure size 432x288 with 1 Axes>"
            ]
          },
          "metadata": {
            "tags": [],
            "needs_background": "light"
          }
        }
      ]
    },
    {
      "cell_type": "markdown",
      "metadata": {
        "id": "JnY2l-VsdPIy",
        "colab_type": "text"
      },
      "source": [
        "> Answer: <img src=\"https://github.com/jigsawlabs-student/matplotlib/blob/master/dance-v-non.png?raw=1\" width=\"40%\">"
      ]
    },
    {
      "cell_type": "markdown",
      "metadata": {
        "id": "n-zB06H1dPIy",
        "colab_type": "text"
      },
      "source": [
        "Ok, so above the danciness of the two types of songs appear quite similar."
      ]
    },
    {
      "cell_type": "markdown",
      "metadata": {
        "id": "gudl78hfdPIz",
        "colab_type": "text"
      },
      "source": [
        "### Relations between points"
      ]
    },
    {
      "cell_type": "markdown",
      "metadata": {
        "id": "mGbPvtNmdPI0",
        "colab_type": "text"
      },
      "source": [
        "Next, let's see if we can find some relationships between the data."
      ]
    },
    {
      "cell_type": "markdown",
      "metadata": {
        "id": "0qM0AG-edPI0",
        "colab_type": "text"
      },
      "source": [
        "For example, are acoustic songs happier or sadder?  Create a scatter plot, plot acousticness (acous) on the x axis and val (valence) on the y axis."
      ]
    },
    {
      "cell_type": "code",
      "metadata": {
        "id": "zXjzpBVFdPI1",
        "colab_type": "code",
        "outputId": "fc1cdb4e-56b8-43b2-a731-48533ba75a6f",
        "colab": {}
      },
      "source": [
        "df.columns"
      ],
      "execution_count": 0,
      "outputs": [
        {
          "output_type": "execute_result",
          "data": {
            "text/plain": [
              "Index(['title', 'artist', 'top genre', 'year', 'bpm', 'nrgy', 'dnce', 'dB',\n",
              "       'live', 'val', 'dur', 'acous', 'spch', 'pop'],\n",
              "      dtype='object')"
            ]
          },
          "metadata": {
            "tags": []
          },
          "execution_count": 42
        }
      ]
    },
    {
      "cell_type": "code",
      "metadata": {
        "id": "TD-ovjY0dPI3",
        "colab_type": "code",
        "outputId": "121fb43c-d6ce-427c-df50-f652cd0103d3",
        "colab": {}
      },
      "source": [
        ""
      ],
      "execution_count": 0,
      "outputs": [
        {
          "output_type": "execute_result",
          "data": {
            "text/plain": [
              "<matplotlib.collections.PathCollection at 0x118459fd0>"
            ]
          },
          "metadata": {
            "tags": []
          },
          "execution_count": 62
        },
        {
          "output_type": "display_data",
          "data": {
            "image/png": "[encoded data removed]",
            "text/plain": [
              "<Figure size 432x288 with 1 Axes>"
            ]
          },
          "metadata": {
            "tags": [],
            "needs_background": "light"
          }
        }
      ]
    },
    {
      "cell_type": "markdown",
      "metadata": {
        "id": "V-87WTI4dPI5",
        "colab_type": "text"
      },
      "source": [
        "> Answer: <img src=\"https://github.com/jigsawlabs-student/matplotlib/blob/master/scatter-songs.png?raw=1\" width=\"40%\">"
      ]
    },
    {
      "cell_type": "markdown",
      "metadata": {
        "id": "TIrCdLI4dPI6",
        "colab_type": "text"
      },
      "source": [
        "So there does appear to be a downward trend.  More specifically, while songs that have a low acoustic level offer little information as to valence, those with higher acousticness, tend to have less valence."
      ]
    },
    {
      "cell_type": "markdown",
      "metadata": {
        "id": "P9Ox0XAJdPI6",
        "colab_type": "text"
      },
      "source": [
        "### Bonus"
      ]
    },
    {
      "cell_type": "markdown",
      "metadata": {
        "id": "-vaONj2NdPI7",
        "colab_type": "text"
      },
      "source": [
        "Let's take a look at some of the other attributes.  There are nine numeric attributes above."
      ]
    },
    {
      "cell_type": "markdown",
      "metadata": {
        "id": "8siKRIS1dPI8",
        "colab_type": "text"
      },
      "source": [
        "`'bpm', 'nrgy', 'dnce', 'dB', 'live', 'val', 'dur', 'acous', 'spch', 'pop'`"
      ]
    },
    {
      "cell_type": "markdown",
      "metadata": {
        "id": "jy7jzzfZdPI8",
        "colab_type": "text"
      },
      "source": [
        "See if you can create nine different subplots, and then loop through these different attributes to create pairs of side by side histograms for each subplot."
      ]
    }
  ]
}